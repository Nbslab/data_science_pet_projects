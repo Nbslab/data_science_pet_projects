{
 "cells": [
  {
   "cell_type": "markdown",
   "metadata": {},
   "source": [
    "# Прогнозирование оттока клиентов в сети отелей «Как в гостях»"
   ]
  },
  {
   "cell_type": "markdown",
   "metadata": {},
   "source": [
    "Проект для сети отелей «Как в гостях». Для преодтвращения возможных убытков компании из-за внезапной отмены бронирования клиентом, необходимо разработать систему, предсказывающую отказ от брони. Если модель покажет, что бронь будет отменена, то клиенту предлагается внести депозит. Размер депозита — 80% от стоимости номера за одни сутки и затрат на разовую уборку. Деньги будут списаны со счёта клиента, если он всё же отменит бронь. На разработку системы прогнозирования заложен бюджет — 400 000. При этом необходимо учесть, что внедрение модели должно окупиться за тестовый период. Затраты на разработку должны быть меньше той выручки, которую система принесёт компании.\n",
    "\n",
    "**Цель проекта:** изучить имеющиеся данные, сравнить поведение двух групп клиентов, посчитать чистую прибыль, построить различные модели и, сравнив их, выбрать лучшую модель, которая позволит максимально сократить прибыль. \n",
    "\n",
    "**Ход выполнения проекта:** данные получены от заказчика и находятся в двух файлах: `/datasets/hotel_train.csv`, `/datasets/hotel_test.csv`. О качестве данных ничего известно, поэтому возможно потребуется предобработка прежде чем можно будет приступить к построению моделей. Изучим данные, проведем анализ, построим модели, выберем метрику и произведем оценку их качества, расчитаем чистую прибыль и выберем оптимальную модель. Таким образом исследование прйодет в несколько этапов:\n",
    "\n",
    "1. Загрузка данных\n",
    "2. Подготовка данных\n",
    "3. Сравнительный анализ выборок клиентов\n",
    "4. Подготовка к расчету прибыли\n",
    "5. Обучение и оценка качества моделей\n",
    "5. Проверка модели\n",
    "\n",
    "**Характеристики предметной области:**\n",
    "\n",
    "Основная бизнес-метрика для любой сети отелей — её прибыль. Прибыль отеля — это разница между стоимостью номера за все ночи и затраты на обслуживание: как при подготовке номера, так и при проживании постояльца.\n",
    "В отеле есть несколько типов номеров. В зависимости от типа номера назначается стоимость за одну ночь. Есть также затраты на уборку. Если клиент снял номер надолго, то убираются каждые два дня.\n",
    "Стоимость номеров отеля:\n",
    "* категория A: за ночь — 1 000, разовое обслуживание — 400;\n",
    "* категория B: за ночь — 800, разовое обслуживание — 350;\n",
    "* категория C: за ночь — 600, разовое обслуживание — 350;\n",
    "* категория D: за ночь — 550, разовое обслуживание — 150;\n",
    "* категория E: за ночь — 500, разовое обслуживание — 150;\n",
    "* категория F: за ночь — 450, разовое обслуживание — 150;\n",
    "* категория G: за ночь — 350, разовое обслуживание — 150.\n",
    "\n",
    "В ценовой политике отеля используются сезонные коэффициенты: весной и осенью цены повышаются на 20%, летом — на 40%.\n",
    "Убытки отеля в случае отмены брони номера — это стоимость одной уборки и одной ночи с учётом сезонного коэффициента."
   ]
  },
  {
   "cell_type": "markdown",
   "metadata": {},
   "source": [
    "<div class=\"alert alert-success\">\n",
    "<h2>Комментарий ревьюера<a class=\"tocSkip\"></a></h2>\n",
    "    \n",
    "**Отлично!** ✔️: молодец, что оформляешь описание!</div>"
   ]
  },
  {
   "cell_type": "markdown",
   "metadata": {},
   "source": [
    "### Шаг 1. Откройте файлы с данными"
   ]
  },
  {
   "cell_type": "markdown",
   "metadata": {},
   "source": [
    "#### Импорт необходимых библиотек"
   ]
  },
  {
   "cell_type": "code",
   "execution_count": 1,
   "metadata": {},
   "outputs": [],
   "source": [
    "import pandas as pd\n",
    "import numpy as np\n",
    "from matplotlib import pyplot as plt\n",
    "import seaborn as sns\n",
    "\n",
    "from sklearn.tree import DecisionTreeClassifier\n",
    "from sklearn.ensemble import RandomForestClassifier\n",
    "from sklearn.linear_model import LogisticRegression\n",
    "from sklearn.neighbors import KNeighborsClassifier\n",
    "\n",
    "from sklearn.model_selection import cross_val_score\n",
    "from sklearn.model_selection import GridSearchCV\n",
    "from sklearn.metrics import recall_score\n",
    "from sklearn.metrics import f1_score\n",
    "from sklearn.metrics import precision_score\n",
    "\n",
    "from sklearn.preprocessing import MinMaxScaler\n",
    "from sklearn.preprocessing import OrdinalEncoder"
   ]
  },
  {
   "cell_type": "markdown",
   "metadata": {},
   "source": [
    "#### Загрузка данных"
   ]
  },
  {
   "cell_type": "code",
   "execution_count": 2,
   "metadata": {},
   "outputs": [],
   "source": [
    "data_train = pd.read_csv('datasets/hotel_train.csv')\n",
    "data_test = pd.read_csv('datasets/hotel_test.csv')"
   ]
  },
  {
   "cell_type": "markdown",
   "metadata": {},
   "source": [
    "Посмотрим на имеющиеся данные"
   ]
  },
  {
   "cell_type": "code",
   "execution_count": 3,
   "metadata": {},
   "outputs": [
    {
     "data": {
      "text/html": [
       "<div>\n",
       "<style scoped>\n",
       "    .dataframe tbody tr th:only-of-type {\n",
       "        vertical-align: middle;\n",
       "    }\n",
       "\n",
       "    .dataframe tbody tr th {\n",
       "        vertical-align: top;\n",
       "    }\n",
       "\n",
       "    .dataframe thead th {\n",
       "        text-align: right;\n",
       "    }\n",
       "</style>\n",
       "<table border=\"1\" class=\"dataframe\">\n",
       "  <thead>\n",
       "    <tr style=\"text-align: right;\">\n",
       "      <th></th>\n",
       "      <th>id</th>\n",
       "      <th>is_canceled</th>\n",
       "      <th>lead_time</th>\n",
       "      <th>arrival_date_year</th>\n",
       "      <th>arrival_date_month</th>\n",
       "      <th>arrival_date_week_number</th>\n",
       "      <th>arrival_date_day_of_month</th>\n",
       "      <th>stays_in_weekend_nights</th>\n",
       "      <th>stays_in_week_nights</th>\n",
       "      <th>adults</th>\n",
       "      <th>...</th>\n",
       "      <th>is_repeated_guest</th>\n",
       "      <th>previous_cancellations</th>\n",
       "      <th>previous_bookings_not_canceled</th>\n",
       "      <th>reserved_room_type</th>\n",
       "      <th>booking_changes</th>\n",
       "      <th>days_in_waiting_list</th>\n",
       "      <th>customer_type</th>\n",
       "      <th>required_car_parking_spaces</th>\n",
       "      <th>total_of_special_requests</th>\n",
       "      <th>total_nights</th>\n",
       "    </tr>\n",
       "  </thead>\n",
       "  <tbody>\n",
       "    <tr>\n",
       "      <th>0</th>\n",
       "      <td>0</td>\n",
       "      <td>0</td>\n",
       "      <td>7.0</td>\n",
       "      <td>2015</td>\n",
       "      <td>July</td>\n",
       "      <td>27</td>\n",
       "      <td>1</td>\n",
       "      <td>0</td>\n",
       "      <td>1</td>\n",
       "      <td>1.0</td>\n",
       "      <td>...</td>\n",
       "      <td>0</td>\n",
       "      <td>0</td>\n",
       "      <td>0</td>\n",
       "      <td>A</td>\n",
       "      <td>0</td>\n",
       "      <td>0</td>\n",
       "      <td>Transient</td>\n",
       "      <td>0</td>\n",
       "      <td>0</td>\n",
       "      <td>1</td>\n",
       "    </tr>\n",
       "    <tr>\n",
       "      <th>1</th>\n",
       "      <td>1</td>\n",
       "      <td>0</td>\n",
       "      <td>14.0</td>\n",
       "      <td>2015</td>\n",
       "      <td>July</td>\n",
       "      <td>27</td>\n",
       "      <td>1</td>\n",
       "      <td>0</td>\n",
       "      <td>2</td>\n",
       "      <td>2.0</td>\n",
       "      <td>...</td>\n",
       "      <td>0</td>\n",
       "      <td>0</td>\n",
       "      <td>0</td>\n",
       "      <td>A</td>\n",
       "      <td>0</td>\n",
       "      <td>0</td>\n",
       "      <td>Transient</td>\n",
       "      <td>0</td>\n",
       "      <td>1</td>\n",
       "      <td>2</td>\n",
       "    </tr>\n",
       "    <tr>\n",
       "      <th>2</th>\n",
       "      <td>2</td>\n",
       "      <td>0</td>\n",
       "      <td>0.0</td>\n",
       "      <td>2015</td>\n",
       "      <td>July</td>\n",
       "      <td>27</td>\n",
       "      <td>1</td>\n",
       "      <td>0</td>\n",
       "      <td>2</td>\n",
       "      <td>2.0</td>\n",
       "      <td>...</td>\n",
       "      <td>0</td>\n",
       "      <td>0</td>\n",
       "      <td>0</td>\n",
       "      <td>C</td>\n",
       "      <td>0</td>\n",
       "      <td>0</td>\n",
       "      <td>Transient</td>\n",
       "      <td>0</td>\n",
       "      <td>0</td>\n",
       "      <td>2</td>\n",
       "    </tr>\n",
       "    <tr>\n",
       "      <th>3</th>\n",
       "      <td>3</td>\n",
       "      <td>0</td>\n",
       "      <td>9.0</td>\n",
       "      <td>2015</td>\n",
       "      <td>July</td>\n",
       "      <td>27</td>\n",
       "      <td>1</td>\n",
       "      <td>0</td>\n",
       "      <td>2</td>\n",
       "      <td>2.0</td>\n",
       "      <td>...</td>\n",
       "      <td>0</td>\n",
       "      <td>0</td>\n",
       "      <td>0</td>\n",
       "      <td>C</td>\n",
       "      <td>0</td>\n",
       "      <td>0</td>\n",
       "      <td>Transient</td>\n",
       "      <td>0</td>\n",
       "      <td>1</td>\n",
       "      <td>2</td>\n",
       "    </tr>\n",
       "    <tr>\n",
       "      <th>4</th>\n",
       "      <td>4</td>\n",
       "      <td>1</td>\n",
       "      <td>85.0</td>\n",
       "      <td>2015</td>\n",
       "      <td>July</td>\n",
       "      <td>27</td>\n",
       "      <td>1</td>\n",
       "      <td>0</td>\n",
       "      <td>3</td>\n",
       "      <td>2.0</td>\n",
       "      <td>...</td>\n",
       "      <td>0</td>\n",
       "      <td>0</td>\n",
       "      <td>0</td>\n",
       "      <td>A</td>\n",
       "      <td>0</td>\n",
       "      <td>0</td>\n",
       "      <td>Transient</td>\n",
       "      <td>0</td>\n",
       "      <td>1</td>\n",
       "      <td>3</td>\n",
       "    </tr>\n",
       "  </tbody>\n",
       "</table>\n",
       "<p>5 rows × 25 columns</p>\n",
       "</div>"
      ],
      "text/plain": [
       "   id  is_canceled  lead_time  arrival_date_year arrival_date_month  \\\n",
       "0   0            0        7.0               2015               July   \n",
       "1   1            0       14.0               2015               July   \n",
       "2   2            0        0.0               2015               July   \n",
       "3   3            0        9.0               2015               July   \n",
       "4   4            1       85.0               2015               July   \n",
       "\n",
       "   arrival_date_week_number  arrival_date_day_of_month  \\\n",
       "0                        27                          1   \n",
       "1                        27                          1   \n",
       "2                        27                          1   \n",
       "3                        27                          1   \n",
       "4                        27                          1   \n",
       "\n",
       "   stays_in_weekend_nights  stays_in_week_nights  adults  ...  \\\n",
       "0                        0                     1     1.0  ...   \n",
       "1                        0                     2     2.0  ...   \n",
       "2                        0                     2     2.0  ...   \n",
       "3                        0                     2     2.0  ...   \n",
       "4                        0                     3     2.0  ...   \n",
       "\n",
       "   is_repeated_guest  previous_cancellations previous_bookings_not_canceled  \\\n",
       "0                  0                       0                              0   \n",
       "1                  0                       0                              0   \n",
       "2                  0                       0                              0   \n",
       "3                  0                       0                              0   \n",
       "4                  0                       0                              0   \n",
       "\n",
       "  reserved_room_type booking_changes  days_in_waiting_list  customer_type  \\\n",
       "0   A                              0                     0      Transient   \n",
       "1   A                              0                     0      Transient   \n",
       "2   C                              0                     0      Transient   \n",
       "3   C                              0                     0      Transient   \n",
       "4   A                              0                     0      Transient   \n",
       "\n",
       "   required_car_parking_spaces total_of_special_requests  total_nights  \n",
       "0                            0                         0             1  \n",
       "1                            0                         1             2  \n",
       "2                            0                         0             2  \n",
       "3                            0                         1             2  \n",
       "4                            0                         1             3  \n",
       "\n",
       "[5 rows x 25 columns]"
      ]
     },
     "metadata": {},
     "output_type": "display_data"
    },
    {
     "data": {
      "text/html": [
       "<div>\n",
       "<style scoped>\n",
       "    .dataframe tbody tr th:only-of-type {\n",
       "        vertical-align: middle;\n",
       "    }\n",
       "\n",
       "    .dataframe tbody tr th {\n",
       "        vertical-align: top;\n",
       "    }\n",
       "\n",
       "    .dataframe thead th {\n",
       "        text-align: right;\n",
       "    }\n",
       "</style>\n",
       "<table border=\"1\" class=\"dataframe\">\n",
       "  <thead>\n",
       "    <tr style=\"text-align: right;\">\n",
       "      <th></th>\n",
       "      <th>id</th>\n",
       "      <th>is_canceled</th>\n",
       "      <th>lead_time</th>\n",
       "      <th>arrival_date_year</th>\n",
       "      <th>arrival_date_month</th>\n",
       "      <th>arrival_date_week_number</th>\n",
       "      <th>arrival_date_day_of_month</th>\n",
       "      <th>stays_in_weekend_nights</th>\n",
       "      <th>stays_in_week_nights</th>\n",
       "      <th>adults</th>\n",
       "      <th>...</th>\n",
       "      <th>is_repeated_guest</th>\n",
       "      <th>previous_cancellations</th>\n",
       "      <th>previous_bookings_not_canceled</th>\n",
       "      <th>reserved_room_type</th>\n",
       "      <th>booking_changes</th>\n",
       "      <th>days_in_waiting_list</th>\n",
       "      <th>customer_type</th>\n",
       "      <th>required_car_parking_spaces</th>\n",
       "      <th>total_of_special_requests</th>\n",
       "      <th>total_nights</th>\n",
       "    </tr>\n",
       "  </thead>\n",
       "  <tbody>\n",
       "    <tr>\n",
       "      <th>0</th>\n",
       "      <td>6086</td>\n",
       "      <td>1</td>\n",
       "      <td>74.0</td>\n",
       "      <td>2017</td>\n",
       "      <td>January</td>\n",
       "      <td>1</td>\n",
       "      <td>1</td>\n",
       "      <td>1</td>\n",
       "      <td>0</td>\n",
       "      <td>2.0</td>\n",
       "      <td>...</td>\n",
       "      <td>0</td>\n",
       "      <td>0</td>\n",
       "      <td>0</td>\n",
       "      <td>A</td>\n",
       "      <td>0</td>\n",
       "      <td>0</td>\n",
       "      <td>Transient</td>\n",
       "      <td>0</td>\n",
       "      <td>0</td>\n",
       "      <td>1</td>\n",
       "    </tr>\n",
       "    <tr>\n",
       "      <th>1</th>\n",
       "      <td>6087</td>\n",
       "      <td>1</td>\n",
       "      <td>62.0</td>\n",
       "      <td>2017</td>\n",
       "      <td>January</td>\n",
       "      <td>1</td>\n",
       "      <td>1</td>\n",
       "      <td>2</td>\n",
       "      <td>2</td>\n",
       "      <td>2.0</td>\n",
       "      <td>...</td>\n",
       "      <td>0</td>\n",
       "      <td>0</td>\n",
       "      <td>0</td>\n",
       "      <td>A</td>\n",
       "      <td>0</td>\n",
       "      <td>0</td>\n",
       "      <td>Transient</td>\n",
       "      <td>0</td>\n",
       "      <td>1</td>\n",
       "      <td>4</td>\n",
       "    </tr>\n",
       "    <tr>\n",
       "      <th>2</th>\n",
       "      <td>6088</td>\n",
       "      <td>1</td>\n",
       "      <td>62.0</td>\n",
       "      <td>2017</td>\n",
       "      <td>January</td>\n",
       "      <td>1</td>\n",
       "      <td>1</td>\n",
       "      <td>2</td>\n",
       "      <td>2</td>\n",
       "      <td>2.0</td>\n",
       "      <td>...</td>\n",
       "      <td>0</td>\n",
       "      <td>0</td>\n",
       "      <td>0</td>\n",
       "      <td>A</td>\n",
       "      <td>0</td>\n",
       "      <td>0</td>\n",
       "      <td>Transient</td>\n",
       "      <td>0</td>\n",
       "      <td>1</td>\n",
       "      <td>4</td>\n",
       "    </tr>\n",
       "    <tr>\n",
       "      <th>3</th>\n",
       "      <td>6089</td>\n",
       "      <td>1</td>\n",
       "      <td>71.0</td>\n",
       "      <td>2017</td>\n",
       "      <td>January</td>\n",
       "      <td>1</td>\n",
       "      <td>1</td>\n",
       "      <td>2</td>\n",
       "      <td>2</td>\n",
       "      <td>1.0</td>\n",
       "      <td>...</td>\n",
       "      <td>0</td>\n",
       "      <td>0</td>\n",
       "      <td>0</td>\n",
       "      <td>A</td>\n",
       "      <td>0</td>\n",
       "      <td>0</td>\n",
       "      <td>Transient</td>\n",
       "      <td>0</td>\n",
       "      <td>1</td>\n",
       "      <td>4</td>\n",
       "    </tr>\n",
       "    <tr>\n",
       "      <th>4</th>\n",
       "      <td>6090</td>\n",
       "      <td>1</td>\n",
       "      <td>172.0</td>\n",
       "      <td>2017</td>\n",
       "      <td>January</td>\n",
       "      <td>1</td>\n",
       "      <td>1</td>\n",
       "      <td>2</td>\n",
       "      <td>5</td>\n",
       "      <td>2.0</td>\n",
       "      <td>...</td>\n",
       "      <td>0</td>\n",
       "      <td>0</td>\n",
       "      <td>0</td>\n",
       "      <td>A</td>\n",
       "      <td>0</td>\n",
       "      <td>0</td>\n",
       "      <td>Transient</td>\n",
       "      <td>0</td>\n",
       "      <td>0</td>\n",
       "      <td>7</td>\n",
       "    </tr>\n",
       "  </tbody>\n",
       "</table>\n",
       "<p>5 rows × 25 columns</p>\n",
       "</div>"
      ],
      "text/plain": [
       "     id  is_canceled  lead_time  arrival_date_year arrival_date_month  \\\n",
       "0  6086            1       74.0               2017            January   \n",
       "1  6087            1       62.0               2017            January   \n",
       "2  6088            1       62.0               2017            January   \n",
       "3  6089            1       71.0               2017            January   \n",
       "4  6090            1      172.0               2017            January   \n",
       "\n",
       "   arrival_date_week_number  arrival_date_day_of_month  \\\n",
       "0                         1                          1   \n",
       "1                         1                          1   \n",
       "2                         1                          1   \n",
       "3                         1                          1   \n",
       "4                         1                          1   \n",
       "\n",
       "   stays_in_weekend_nights  stays_in_week_nights  adults  ...  \\\n",
       "0                        1                     0     2.0  ...   \n",
       "1                        2                     2     2.0  ...   \n",
       "2                        2                     2     2.0  ...   \n",
       "3                        2                     2     1.0  ...   \n",
       "4                        2                     5     2.0  ...   \n",
       "\n",
       "   is_repeated_guest  previous_cancellations previous_bookings_not_canceled  \\\n",
       "0                  0                       0                              0   \n",
       "1                  0                       0                              0   \n",
       "2                  0                       0                              0   \n",
       "3                  0                       0                              0   \n",
       "4                  0                       0                              0   \n",
       "\n",
       "  reserved_room_type booking_changes  days_in_waiting_list  customer_type  \\\n",
       "0   A                              0                     0      Transient   \n",
       "1   A                              0                     0      Transient   \n",
       "2   A                              0                     0      Transient   \n",
       "3   A                              0                     0      Transient   \n",
       "4   A                              0                     0      Transient   \n",
       "\n",
       "   required_car_parking_spaces total_of_special_requests  total_nights  \n",
       "0                            0                         0             1  \n",
       "1                            0                         1             4  \n",
       "2                            0                         1             4  \n",
       "3                            0                         1             4  \n",
       "4                            0                         0             7  \n",
       "\n",
       "[5 rows x 25 columns]"
      ]
     },
     "metadata": {},
     "output_type": "display_data"
    }
   ],
   "source": [
    "display(data_train.head(), data_test.head())"
   ]
  },
  {
   "cell_type": "code",
   "execution_count": 4,
   "metadata": {
    "scrolled": false
   },
   "outputs": [
    {
     "name": "stdout",
     "output_type": "stream",
     "text": [
      "data_train\n",
      "<class 'pandas.core.frame.DataFrame'>\n",
      "RangeIndex: 65229 entries, 0 to 65228\n",
      "Data columns (total 25 columns):\n",
      " #   Column                          Non-Null Count  Dtype  \n",
      "---  ------                          --------------  -----  \n",
      " 0   id                              65229 non-null  int64  \n",
      " 1   is_canceled                     65229 non-null  int64  \n",
      " 2   lead_time                       65229 non-null  float64\n",
      " 3   arrival_date_year               65229 non-null  int64  \n",
      " 4   arrival_date_month              65229 non-null  object \n",
      " 5   arrival_date_week_number        65229 non-null  int64  \n",
      " 6   arrival_date_day_of_month       65229 non-null  int64  \n",
      " 7   stays_in_weekend_nights         65229 non-null  int64  \n",
      " 8   stays_in_week_nights            65229 non-null  int64  \n",
      " 9   adults                          65229 non-null  float64\n",
      " 10  children                        65229 non-null  float64\n",
      " 11  babies                          65229 non-null  float64\n",
      " 12  meal                            65229 non-null  object \n",
      " 13  country                         65229 non-null  object \n",
      " 14  distribution_channel            65229 non-null  object \n",
      " 15  is_repeated_guest               65229 non-null  int64  \n",
      " 16  previous_cancellations          65229 non-null  int64  \n",
      " 17  previous_bookings_not_canceled  65229 non-null  int64  \n",
      " 18  reserved_room_type              65229 non-null  object \n",
      " 19  booking_changes                 65229 non-null  int64  \n",
      " 20  days_in_waiting_list            65229 non-null  int64  \n",
      " 21  customer_type                   65229 non-null  object \n",
      " 22  required_car_parking_spaces     65229 non-null  int64  \n",
      " 23  total_of_special_requests       65229 non-null  int64  \n",
      " 24  total_nights                    65229 non-null  int64  \n",
      "dtypes: float64(4), int64(15), object(6)\n",
      "memory usage: 12.4+ MB\n"
     ]
    },
    {
     "data": {
      "text/plain": [
       "None"
      ]
     },
     "metadata": {},
     "output_type": "display_data"
    },
    {
     "name": "stdout",
     "output_type": "stream",
     "text": [
      "data_test\n",
      "<class 'pandas.core.frame.DataFrame'>\n",
      "RangeIndex: 32412 entries, 0 to 32411\n",
      "Data columns (total 25 columns):\n",
      " #   Column                          Non-Null Count  Dtype  \n",
      "---  ------                          --------------  -----  \n",
      " 0   id                              32412 non-null  int64  \n",
      " 1   is_canceled                     32412 non-null  int64  \n",
      " 2   lead_time                       32412 non-null  float64\n",
      " 3   arrival_date_year               32412 non-null  int64  \n",
      " 4   arrival_date_month              32412 non-null  object \n",
      " 5   arrival_date_week_number        32412 non-null  int64  \n",
      " 6   arrival_date_day_of_month       32412 non-null  int64  \n",
      " 7   stays_in_weekend_nights         32412 non-null  int64  \n",
      " 8   stays_in_week_nights            32412 non-null  int64  \n",
      " 9   adults                          32412 non-null  float64\n",
      " 10  children                        32412 non-null  float64\n",
      " 11  babies                          32412 non-null  float64\n",
      " 12  meal                            32412 non-null  object \n",
      " 13  country                         32412 non-null  object \n",
      " 14  distribution_channel            32412 non-null  object \n",
      " 15  is_repeated_guest               32412 non-null  int64  \n",
      " 16  previous_cancellations          32412 non-null  int64  \n",
      " 17  previous_bookings_not_canceled  32412 non-null  int64  \n",
      " 18  reserved_room_type              32412 non-null  object \n",
      " 19  booking_changes                 32412 non-null  int64  \n",
      " 20  days_in_waiting_list            32412 non-null  int64  \n",
      " 21  customer_type                   32412 non-null  object \n",
      " 22  required_car_parking_spaces     32412 non-null  int64  \n",
      " 23  total_of_special_requests       32412 non-null  int64  \n",
      " 24  total_nights                    32412 non-null  int64  \n",
      "dtypes: float64(4), int64(15), object(6)\n",
      "memory usage: 6.2+ MB\n"
     ]
    },
    {
     "data": {
      "text/plain": [
       "None"
      ]
     },
     "metadata": {},
     "output_type": "display_data"
    }
   ],
   "source": [
    "print('data_train')\n",
    "display(data_train.info())\n",
    "print('data_test')\n",
    "display(data_test.info())"
   ]
  },
  {
   "cell_type": "code",
   "execution_count": 5,
   "metadata": {},
   "outputs": [
    {
     "data": {
      "text/plain": [
       "<AxesSubplot:>"
      ]
     },
     "execution_count": 5,
     "metadata": {},
     "output_type": "execute_result"
    },
    {
     "data": {
      "image/png": "[encoded data removed]",
      "text/plain": [
       "<Figure size 720x720 with 2 Axes>"
      ]
     },
     "metadata": {
      "needs_background": "light"
     },
     "output_type": "display_data"
    }
   ],
   "source": [
    "fig, ax = plt.subplots(figsize=(10,10))\n",
    "sns.heatmap(data_train.corr(), annot=True, fmt='.1f')"
   ]
  },
  {
   "cell_type": "markdown",
   "metadata": {},
   "source": [
    "В имеющихся датасетах 25 колонок, и 65229 строк(для таблицы hotel_train) и 32412(для таблицы hotel_test). Согласно полученной документации, в таблицах **hotel_train** и **hotel_test** содержатся одинаковые столбцы:\n",
    "\n",
    "**Призанки:**\n",
    "* `id` — номер записи;\n",
    "* `adults` — количество взрослых постояльцев;\n",
    "* `arrival_date_year` — год заезда;\n",
    "* `arrival_date_month` — месяц заезда;\n",
    "* `arrival_date_week_number` — неделя заезда;\n",
    "* `arrival_date_day_of_month` — день заезда;\n",
    "* `babies` — количество младенцев;\n",
    "* `booking_changes` — количество изменений параметров заказа;\n",
    "* `children` — количество детей от 3 до 14 лет;\n",
    "* `country` — гражданство постояльца;\n",
    "* `customer_type` — тип заказчика:\n",
    "* `Contract` — договор с юридическим лицом;\n",
    "* `Group` — групповой заезд;\n",
    "* `Transient` — не связано с договором или групповым заездом;\n",
    "* `Transient-party` — не связано с договором или групповым заездом, но связано с бронированием типа Transient.\n",
    "* `days_in_waiting_list` — сколько дней заказ ожидал подтверждения;\n",
    "* `distribution_channel` — канал дистрибуции заказа;\n",
    "* `is_repeated_guest` — признак того, что гость бронирует номер второй раз;\n",
    "* `lead_time` — количество дней между датой бронирования и датой прибытия;\n",
    "* `meal` — опции заказа:\n",
    "    * `SC` — нет дополнительных опций;\n",
    "    * `BB` — включён завтрак;\n",
    "    * `HB` — включён завтрак и обед;\n",
    "    * `FB` — включён завтрак, обед и ужин.\n",
    "* `previous_bookings_not_canceled` — количество подтверждённых заказов у клиента;\n",
    "* `previous_cancellations` — количество отменённых заказов у клиента;\n",
    "* `required_car_parking_spaces` — необходимость места для автомобиля;\n",
    "* `reserved_room_type` — тип забронированной комнаты;\n",
    "* `stays_in_weekend_nights` — количество ночей в выходные дни;\n",
    "* `stays_in_week_nights` — количество ночей в будние дни;\n",
    "* `total_nights` — общее количество ночей;\n",
    "* `total_of_special_requests` — количество специальных отметок.\n",
    "\n",
    "**Целевой признак:** \n",
    "* `is_canceled` — отмена заказа;"
   ]
  },
  {
   "cell_type": "markdown",
   "metadata": {},
   "source": [
    "### Шаг 2. Предобработка и исследовательский анализ данных"
   ]
  },
  {
   "cell_type": "markdown",
   "metadata": {},
   "source": [
    "Сразу удалим столбце id, т.к. он не несет в себе никакой ценности для анализа или обучения моделей"
   ]
  },
  {
   "cell_type": "code",
   "execution_count": 6,
   "metadata": {},
   "outputs": [],
   "source": [
    "data_train = data_train.drop('id', axis=1)\n",
    "data_test = data_test.drop('id', axis=1)"
   ]
  },
  {
   "cell_type": "markdown",
   "metadata": {},
   "source": [
    "Закодируем столбец месяца соответствующими числовыми значениями"
   ]
  },
  {
   "cell_type": "code",
   "execution_count": 7,
   "metadata": {},
   "outputs": [],
   "source": [
    "def monthToNum(row):\n",
    "    return {\n",
    "            'January': 1,\n",
    "            'February': 2,\n",
    "            'March': 3,\n",
    "            'April': 4,\n",
    "            'May': 5,\n",
    "            'June': 6,\n",
    "            'July': 7,\n",
    "            'August': 8,\n",
    "            'September': 9, \n",
    "            'October': 10,\n",
    "            'November': 11,\n",
    "            'December': 12\n",
    "    }[row['arrival_date_month']]"
   ]
  },
  {
   "cell_type": "code",
   "execution_count": 8,
   "metadata": {},
   "outputs": [],
   "source": [
    "data_train['arrival_date_month'] = data_train.apply(monthToNum, axis=1)"
   ]
  },
  {
   "cell_type": "code",
   "execution_count": 9,
   "metadata": {},
   "outputs": [],
   "source": [
    "data_test['arrival_date_month'] = data_test.apply(monthToNum, axis=1)"
   ]
  },
  {
   "cell_type": "markdown",
   "metadata": {},
   "source": [
    "Посмотрим на общие статистические характеристики датасета"
   ]
  },
  {
   "cell_type": "code",
   "execution_count": 10,
   "metadata": {},
   "outputs": [
    {
     "data": {
      "text/html": [
       "<div>\n",
       "<style scoped>\n",
       "    .dataframe tbody tr th:only-of-type {\n",
       "        vertical-align: middle;\n",
       "    }\n",
       "\n",
       "    .dataframe tbody tr th {\n",
       "        vertical-align: top;\n",
       "    }\n",
       "\n",
       "    .dataframe thead th {\n",
       "        text-align: right;\n",
       "    }\n",
       "</style>\n",
       "<table border=\"1\" class=\"dataframe\">\n",
       "  <thead>\n",
       "    <tr style=\"text-align: right;\">\n",
       "      <th></th>\n",
       "      <th>is_canceled</th>\n",
       "      <th>lead_time</th>\n",
       "      <th>arrival_date_year</th>\n",
       "      <th>arrival_date_month</th>\n",
       "      <th>arrival_date_week_number</th>\n",
       "      <th>arrival_date_day_of_month</th>\n",
       "      <th>stays_in_weekend_nights</th>\n",
       "      <th>stays_in_week_nights</th>\n",
       "      <th>adults</th>\n",
       "      <th>children</th>\n",
       "      <th>babies</th>\n",
       "      <th>is_repeated_guest</th>\n",
       "      <th>previous_cancellations</th>\n",
       "      <th>previous_bookings_not_canceled</th>\n",
       "      <th>booking_changes</th>\n",
       "      <th>days_in_waiting_list</th>\n",
       "      <th>required_car_parking_spaces</th>\n",
       "      <th>total_of_special_requests</th>\n",
       "      <th>total_nights</th>\n",
       "    </tr>\n",
       "  </thead>\n",
       "  <tbody>\n",
       "    <tr>\n",
       "      <th>count</th>\n",
       "      <td>65229.000000</td>\n",
       "      <td>65229.000000</td>\n",
       "      <td>65229.000000</td>\n",
       "      <td>65229.000000</td>\n",
       "      <td>65229.000000</td>\n",
       "      <td>65229.000000</td>\n",
       "      <td>65229.000000</td>\n",
       "      <td>65229.000000</td>\n",
       "      <td>65229.000000</td>\n",
       "      <td>65229.000000</td>\n",
       "      <td>65229.000000</td>\n",
       "      <td>65229.000000</td>\n",
       "      <td>65229.000000</td>\n",
       "      <td>65229.000000</td>\n",
       "      <td>65229.000000</td>\n",
       "      <td>65229.000000</td>\n",
       "      <td>65229.000000</td>\n",
       "      <td>65229.000000</td>\n",
       "      <td>65229.000000</td>\n",
       "    </tr>\n",
       "    <tr>\n",
       "      <th>mean</th>\n",
       "      <td>0.368609</td>\n",
       "      <td>96.337917</td>\n",
       "      <td>2015.719021</td>\n",
       "      <td>7.450367</td>\n",
       "      <td>31.339772</td>\n",
       "      <td>15.847813</td>\n",
       "      <td>0.825185</td>\n",
       "      <td>2.224793</td>\n",
       "      <td>1.836576</td>\n",
       "      <td>0.074890</td>\n",
       "      <td>0.007236</td>\n",
       "      <td>0.027151</td>\n",
       "      <td>0.128915</td>\n",
       "      <td>0.107713</td>\n",
       "      <td>0.194269</td>\n",
       "      <td>3.334422</td>\n",
       "      <td>0.056647</td>\n",
       "      <td>0.512763</td>\n",
       "      <td>3.049978</td>\n",
       "    </tr>\n",
       "    <tr>\n",
       "      <th>std</th>\n",
       "      <td>0.482431</td>\n",
       "      <td>96.127545</td>\n",
       "      <td>0.449481</td>\n",
       "      <td>3.099168</td>\n",
       "      <td>13.464024</td>\n",
       "      <td>8.748182</td>\n",
       "      <td>0.853477</td>\n",
       "      <td>1.354992</td>\n",
       "      <td>0.480245</td>\n",
       "      <td>0.334243</td>\n",
       "      <td>0.098790</td>\n",
       "      <td>0.162523</td>\n",
       "      <td>0.965326</td>\n",
       "      <td>1.326638</td>\n",
       "      <td>0.593838</td>\n",
       "      <td>18.239606</td>\n",
       "      <td>0.232094</td>\n",
       "      <td>0.752590</td>\n",
       "      <td>1.738108</td>\n",
       "    </tr>\n",
       "    <tr>\n",
       "      <th>min</th>\n",
       "      <td>0.000000</td>\n",
       "      <td>0.000000</td>\n",
       "      <td>2015.000000</td>\n",
       "      <td>1.000000</td>\n",
       "      <td>1.000000</td>\n",
       "      <td>1.000000</td>\n",
       "      <td>0.000000</td>\n",
       "      <td>0.000000</td>\n",
       "      <td>0.000000</td>\n",
       "      <td>0.000000</td>\n",
       "      <td>0.000000</td>\n",
       "      <td>0.000000</td>\n",
       "      <td>0.000000</td>\n",
       "      <td>0.000000</td>\n",
       "      <td>0.000000</td>\n",
       "      <td>0.000000</td>\n",
       "      <td>0.000000</td>\n",
       "      <td>0.000000</td>\n",
       "      <td>1.000000</td>\n",
       "    </tr>\n",
       "    <tr>\n",
       "      <th>25%</th>\n",
       "      <td>0.000000</td>\n",
       "      <td>17.000000</td>\n",
       "      <td>2015.000000</td>\n",
       "      <td>5.000000</td>\n",
       "      <td>21.000000</td>\n",
       "      <td>8.000000</td>\n",
       "      <td>0.000000</td>\n",
       "      <td>1.000000</td>\n",
       "      <td>2.000000</td>\n",
       "      <td>0.000000</td>\n",
       "      <td>0.000000</td>\n",
       "      <td>0.000000</td>\n",
       "      <td>0.000000</td>\n",
       "      <td>0.000000</td>\n",
       "      <td>0.000000</td>\n",
       "      <td>0.000000</td>\n",
       "      <td>0.000000</td>\n",
       "      <td>0.000000</td>\n",
       "      <td>2.000000</td>\n",
       "    </tr>\n",
       "    <tr>\n",
       "      <th>50%</th>\n",
       "      <td>0.000000</td>\n",
       "      <td>64.000000</td>\n",
       "      <td>2016.000000</td>\n",
       "      <td>8.000000</td>\n",
       "      <td>34.000000</td>\n",
       "      <td>16.000000</td>\n",
       "      <td>1.000000</td>\n",
       "      <td>2.000000</td>\n",
       "      <td>2.000000</td>\n",
       "      <td>0.000000</td>\n",
       "      <td>0.000000</td>\n",
       "      <td>0.000000</td>\n",
       "      <td>0.000000</td>\n",
       "      <td>0.000000</td>\n",
       "      <td>0.000000</td>\n",
       "      <td>0.000000</td>\n",
       "      <td>0.000000</td>\n",
       "      <td>0.000000</td>\n",
       "      <td>3.000000</td>\n",
       "    </tr>\n",
       "    <tr>\n",
       "      <th>75%</th>\n",
       "      <td>1.000000</td>\n",
       "      <td>151.000000</td>\n",
       "      <td>2016.000000</td>\n",
       "      <td>10.000000</td>\n",
       "      <td>42.000000</td>\n",
       "      <td>23.000000</td>\n",
       "      <td>2.000000</td>\n",
       "      <td>3.000000</td>\n",
       "      <td>2.000000</td>\n",
       "      <td>0.000000</td>\n",
       "      <td>0.000000</td>\n",
       "      <td>0.000000</td>\n",
       "      <td>0.000000</td>\n",
       "      <td>0.000000</td>\n",
       "      <td>0.000000</td>\n",
       "      <td>0.000000</td>\n",
       "      <td>0.000000</td>\n",
       "      <td>1.000000</td>\n",
       "      <td>4.000000</td>\n",
       "    </tr>\n",
       "    <tr>\n",
       "      <th>max</th>\n",
       "      <td>1.000000</td>\n",
       "      <td>374.000000</td>\n",
       "      <td>2016.000000</td>\n",
       "      <td>12.000000</td>\n",
       "      <td>53.000000</td>\n",
       "      <td>31.000000</td>\n",
       "      <td>4.000000</td>\n",
       "      <td>6.000000</td>\n",
       "      <td>4.000000</td>\n",
       "      <td>3.000000</td>\n",
       "      <td>10.000000</td>\n",
       "      <td>1.000000</td>\n",
       "      <td>26.000000</td>\n",
       "      <td>58.000000</td>\n",
       "      <td>17.000000</td>\n",
       "      <td>259.000000</td>\n",
       "      <td>3.000000</td>\n",
       "      <td>5.000000</td>\n",
       "      <td>10.000000</td>\n",
       "    </tr>\n",
       "  </tbody>\n",
       "</table>\n",
       "</div>"
      ],
      "text/plain": [
       "        is_canceled     lead_time  arrival_date_year  arrival_date_month  \\\n",
       "count  65229.000000  65229.000000       65229.000000        65229.000000   \n",
       "mean       0.368609     96.337917        2015.719021            7.450367   \n",
       "std        0.482431     96.127545           0.449481            3.099168   \n",
       "min        0.000000      0.000000        2015.000000            1.000000   \n",
       "25%        0.000000     17.000000        2015.000000            5.000000   \n",
       "50%        0.000000     64.000000        2016.000000            8.000000   \n",
       "75%        1.000000    151.000000        2016.000000           10.000000   \n",
       "max        1.000000    374.000000        2016.000000           12.000000   \n",
       "\n",
       "       arrival_date_week_number  arrival_date_day_of_month  \\\n",
       "count              65229.000000               65229.000000   \n",
       "mean                  31.339772                  15.847813   \n",
       "std                   13.464024                   8.748182   \n",
       "min                    1.000000                   1.000000   \n",
       "25%                   21.000000                   8.000000   \n",
       "50%                   34.000000                  16.000000   \n",
       "75%                   42.000000                  23.000000   \n",
       "max                   53.000000                  31.000000   \n",
       "\n",
       "       stays_in_weekend_nights  stays_in_week_nights        adults  \\\n",
       "count             65229.000000          65229.000000  65229.000000   \n",
       "mean                  0.825185              2.224793      1.836576   \n",
       "std                   0.853477              1.354992      0.480245   \n",
       "min                   0.000000              0.000000      0.000000   \n",
       "25%                   0.000000              1.000000      2.000000   \n",
       "50%                   1.000000              2.000000      2.000000   \n",
       "75%                   2.000000              3.000000      2.000000   \n",
       "max                   4.000000              6.000000      4.000000   \n",
       "\n",
       "           children        babies  is_repeated_guest  previous_cancellations  \\\n",
       "count  65229.000000  65229.000000       65229.000000            65229.000000   \n",
       "mean       0.074890      0.007236           0.027151                0.128915   \n",
       "std        0.334243      0.098790           0.162523                0.965326   \n",
       "min        0.000000      0.000000           0.000000                0.000000   \n",
       "25%        0.000000      0.000000           0.000000                0.000000   \n",
       "50%        0.000000      0.000000           0.000000                0.000000   \n",
       "75%        0.000000      0.000000           0.000000                0.000000   \n",
       "max        3.000000     10.000000           1.000000               26.000000   \n",
       "\n",
       "       previous_bookings_not_canceled  booking_changes  days_in_waiting_list  \\\n",
       "count                    65229.000000     65229.000000          65229.000000   \n",
       "mean                         0.107713         0.194269              3.334422   \n",
       "std                          1.326638         0.593838             18.239606   \n",
       "min                          0.000000         0.000000              0.000000   \n",
       "25%                          0.000000         0.000000              0.000000   \n",
       "50%                          0.000000         0.000000              0.000000   \n",
       "75%                          0.000000         0.000000              0.000000   \n",
       "max                         58.000000        17.000000            259.000000   \n",
       "\n",
       "       required_car_parking_spaces  total_of_special_requests  total_nights  \n",
       "count                 65229.000000               65229.000000  65229.000000  \n",
       "mean                      0.056647                   0.512763      3.049978  \n",
       "std                       0.232094                   0.752590      1.738108  \n",
       "min                       0.000000                   0.000000      1.000000  \n",
       "25%                       0.000000                   0.000000      2.000000  \n",
       "50%                       0.000000                   0.000000      3.000000  \n",
       "75%                       0.000000                   1.000000      4.000000  \n",
       "max                       3.000000                   5.000000     10.000000  "
      ]
     },
     "execution_count": 10,
     "metadata": {},
     "output_type": "execute_result"
    }
   ],
   "source": [
    "data_train.describe()"
   ]
  },
  {
   "cell_type": "code",
   "execution_count": 11,
   "metadata": {
    "scrolled": true
   },
   "outputs": [
    {
     "data": {
      "image/png": "[encoded data removed]",
      "text/plain": [
       "<Figure size 432x288 with 1 Axes>"
      ]
     },
     "metadata": {
      "needs_background": "light"
     },
     "output_type": "display_data"
    },
    {
     "data": {
      "image/png": "[encoded data removed]",
      "text/plain": [
       "<Figure size 432x288 with 1 Axes>"
      ]
     },
     "metadata": {
      "needs_background": "light"
     },
     "output_type": "display_data"
    },
    {
     "data": {
      "image/png": "[encoded data removed]",
      "text/plain": [
       "<Figure size 432x288 with 1 Axes>"
      ]
     },
     "metadata": {
      "needs_background": "light"
     },
     "output_type": "display_data"
    },
    {
     "data": {
      "image/png": "[encoded data removed]",
      "text/plain": [
       "<Figure size 432x288 with 1 Axes>"
      ]
     },
     "metadata": {
      "needs_background": "light"
     },
     "output_type": "display_data"
    },
    {
     "data": {
      "image/png": "[encoded data removed]",
      "text/plain": [
       "<Figure size 432x288 with 1 Axes>"
      ]
     },
     "metadata": {
      "needs_background": "light"
     },
     "output_type": "display_data"
    },
    {
     "data": {
      "image/png": "[encoded data removed]",
      "text/plain": [
       "<Figure size 432x288 with 1 Axes>"
      ]
     },
     "metadata": {
      "needs_background": "light"
     },
     "output_type": "display_data"
    },
    {
     "data": {
      "image/png": "[encoded data removed]",
      "text/plain": [
       "<Figure size 432x288 with 1 Axes>"
      ]
     },
     "metadata": {
      "needs_background": "light"
     },
     "output_type": "display_data"
    },
    {
     "data": {
      "image/png": "[encoded data removed]",
      "text/plain": [
       "<Figure size 432x288 with 1 Axes>"
      ]
     },
     "metadata": {
      "needs_background": "light"
     },
     "output_type": "display_data"
    },
    {
     "data": {
      "image/png": "[encoded data removed]",
      "text/plain": [
       "<Figure size 432x288 with 1 Axes>"
      ]
     },
     "metadata": {
      "needs_background": "light"
     },
     "output_type": "display_data"
    },
    {
     "data": {
      "image/png": "[encoded data removed]",
      "text/plain": [
       "<Figure size 432x288 with 1 Axes>"
      ]
     },
     "metadata": {
      "needs_background": "light"
     },
     "output_type": "display_data"
    },
    {
     "data": {
      "image/png": "[encoded data removed]",
      "text/plain": [
       "<Figure size 432x288 with 1 Axes>"
      ]
     },
     "metadata": {
      "needs_background": "light"
     },
     "output_type": "display_data"
    },
    {
     "data": {
      "image/png": "[encoded data removed]",
      "text/plain": [
       "<Figure size 432x288 with 1 Axes>"
      ]
     },
     "metadata": {
      "needs_background": "light"
     },
     "output_type": "display_data"
    },
    {
     "data": {
      "image/png": "[encoded data removed]",
      "text/plain": [
       "<Figure size 432x288 with 1 Axes>"
      ]
     },
     "metadata": {
      "needs_background": "light"
     },
     "output_type": "display_data"
    },
    {
     "data": {
      "image/png": "[encoded data removed]",
      "text/plain": [
       "<Figure size 432x288 with 1 Axes>"
      ]
     },
     "metadata": {
      "needs_background": "light"
     },
     "output_type": "display_data"
    },
    {
     "data": {
      "image/png": "[encoded data removed]",
      "text/plain": [
       "<Figure size 432x288 with 1 Axes>"
      ]
     },
     "metadata": {
      "needs_background": "light"
     },
     "output_type": "display_data"
    },
    {
     "data": {
      "image/png": "[encoded data removed]",
      "text/plain": [
       "<Figure size 432x288 with 1 Axes>"
      ]
     },
     "metadata": {
      "needs_background": "light"
     },
     "output_type": "display_data"
    },
    {
     "data": {
      "image/png": "[encoded data removed]",
      "text/plain": [
       "<Figure size 432x288 with 1 Axes>"
      ]
     },
     "metadata": {
      "needs_background": "light"
     },
     "output_type": "display_data"
    },
    {
     "data": {
      "image/png": "[encoded data removed]",
      "text/plain": [
       "<Figure size 432x288 with 1 Axes>"
      ]
     },
     "metadata": {
      "needs_background": "light"
     },
     "output_type": "display_data"
    },
    {
     "data": {
      "image/png": "[encoded data removed]",
      "text/plain": [
       "<Figure size 432x288 with 1 Axes>"
      ]
     },
     "metadata": {
      "needs_background": "light"
     },
     "output_type": "display_data"
    }
   ],
   "source": [
    "for column in data_train.columns:\n",
    "    if (data_train[column].dtypes != object) and (column != 'id'):\n",
    "        data_train[column].plot(kind='hist', title=f'{column} distribution')\n",
    "        plt.show()"
   ]
  },
  {
   "cell_type": "markdown",
   "metadata": {},
   "source": [
    "Проанализировав полученную информацию можно отметить следующие аномалии:\n",
    "\n",
    "- Есть выбросы в столбце **days_in_waiting_list**, ожидание больше даже 60 дней выглядит достаточно нереалистично, а мы видим занчения больше 100\n",
    "- Есть выбросы в столбце **babies**, визит с 10 младенцами представляется очень маловероятным\n",
    "- Минимальное значение в столбце **adults** равно 0, а номер не будут сдавать детям без взрослых\n",
    "\n",
    "Посмотрим, какой процент от всех данных занимают эти аномалии"
   ]
  },
  {
   "cell_type": "code",
   "execution_count": 12,
   "metadata": {},
   "outputs": [
    {
     "data": {
      "text/plain": [
       "2.3133882168973923"
      ]
     },
     "execution_count": 12,
     "metadata": {},
     "output_type": "execute_result"
    }
   ],
   "source": [
    "data_train.query('adults < 1 or days_in_waiting_list > 60 or babies > 3').shape[0] / data_train.shape[0] * 100"
   ]
  },
  {
   "cell_type": "code",
   "execution_count": 13,
   "metadata": {},
   "outputs": [
    {
     "data": {
      "text/plain": [
       "0.3671479698876959"
      ]
     },
     "execution_count": 13,
     "metadata": {},
     "output_type": "execute_result"
    }
   ],
   "source": [
    "data_test.query('adults < 1 or days_in_waiting_list > 60 or babies > 3').shape[0] / data_test.shape[0] * 100"
   ]
  },
  {
   "cell_type": "markdown",
   "metadata": {},
   "source": [
    "Таких аномалий меньше 1% в обеих выборках, можно спокойно удалить их, т.к. их потеря не сильно скажется на общем кол-ве имеющихся данных, однако их удаление улучшит общее качество данных"
   ]
  },
  {
   "cell_type": "code",
   "execution_count": 14,
   "metadata": {},
   "outputs": [],
   "source": [
    "data_train = data_train.query('adults >= 1 or days_in_waiting_list <= 60 or babies <= 3')\n",
    "data_test = data_test.query('adults >= 1 or days_in_waiting_list <= 60 or babies <= 3')"
   ]
  },
  {
   "cell_type": "markdown",
   "metadata": {},
   "source": [
    "Пропуски в данных отсутствуют"
   ]
  },
  {
   "cell_type": "code",
   "execution_count": 15,
   "metadata": {},
   "outputs": [
    {
     "data": {
      "text/plain": [
       "is_canceled                       0\n",
       "lead_time                         0\n",
       "arrival_date_year                 0\n",
       "arrival_date_month                0\n",
       "arrival_date_week_number          0\n",
       "arrival_date_day_of_month         0\n",
       "stays_in_weekend_nights           0\n",
       "stays_in_week_nights              0\n",
       "adults                            0\n",
       "children                          0\n",
       "babies                            0\n",
       "meal                              0\n",
       "country                           0\n",
       "distribution_channel              0\n",
       "is_repeated_guest                 0\n",
       "previous_cancellations            0\n",
       "previous_bookings_not_canceled    0\n",
       "reserved_room_type                0\n",
       "booking_changes                   0\n",
       "days_in_waiting_list              0\n",
       "customer_type                     0\n",
       "required_car_parking_spaces       0\n",
       "total_of_special_requests         0\n",
       "total_nights                      0\n",
       "dtype: int64"
      ]
     },
     "execution_count": 15,
     "metadata": {},
     "output_type": "execute_result"
    }
   ],
   "source": [
    "data_train.isna().sum()"
   ]
  },
  {
   "cell_type": "markdown",
   "metadata": {},
   "source": [
    "Явные дубликаты обнаружились, их необходимо удалить"
   ]
  },
  {
   "cell_type": "code",
   "execution_count": 16,
   "metadata": {},
   "outputs": [
    {
     "data": {
      "text/plain": [
       "21377"
      ]
     },
     "execution_count": 16,
     "metadata": {},
     "output_type": "execute_result"
    }
   ],
   "source": [
    "data_train.duplicated().sum()"
   ]
  },
  {
   "cell_type": "code",
   "execution_count": 17,
   "metadata": {},
   "outputs": [
    {
     "data": {
      "text/plain": [
       "7717"
      ]
     },
     "execution_count": 17,
     "metadata": {},
     "output_type": "execute_result"
    }
   ],
   "source": [
    "data_test.duplicated().sum()"
   ]
  },
  {
   "cell_type": "code",
   "execution_count": 18,
   "metadata": {},
   "outputs": [],
   "source": [
    "data_train = data_train.drop_duplicates().reset_index(drop = True)\n",
    "data_test = data_test.drop_duplicates().reset_index(drop = True)"
   ]
  },
  {
   "cell_type": "code",
   "execution_count": 19,
   "metadata": {},
   "outputs": [
    {
     "name": "stdout",
     "output_type": "stream",
     "text": [
      "0 0\n"
     ]
    }
   ],
   "source": [
    "print(data_train.duplicated().sum(), data_test.duplicated().sum())"
   ]
  },
  {
   "cell_type": "code",
   "execution_count": 20,
   "metadata": {},
   "outputs": [
    {
     "name": "stdout",
     "output_type": "stream",
     "text": [
      "meal\n",
      "['BB       ' 'FB       ' 'HB       ' 'SC       ' 'SC']\n",
      "\n",
      "\n",
      "country\n",
      "['GBR' 'PRT' 'ESP' 'IRL' 'FRA' 'ROU' 'NOR' 'USA' 'DEU' 'BEL' 'CHE' 'CN'\n",
      " 'GRC' 'NLD' 'ARG' 'RUS' 'SWE' 'POL' 'EST' 'CZE' 'ITA' 'FIN' 'DNK' 'MOZ'\n",
      " 'BWA' 'LUX' 'BRA' 'SVN' 'ALB' 'CHN' 'MEX' 'MAR' 'SMR' 'LVA' 'CHL' 'AUT'\n",
      " 'LTU' 'TUR' 'ISR' 'IND' 'CYM' 'AUS' 'CPV' 'ZWE' 'DZA' 'KOR' 'CRI' 'HUN'\n",
      " 'TUN' 'ARE' 'HRV' 'HKG' 'IRN' 'GIB' 'JEY' 'URY' 'ZAF' 'COL' 'GGY' 'KWT'\n",
      " 'CYP' 'KAZ' 'THA' 'DOM' 'NGA' 'BLR' 'VEN' 'UKR' 'ARM' 'JPN' 'LKA' 'MYS'\n",
      " 'BIH' 'MUS' 'OMN' 'SUR' 'JAM' 'BGR' 'CIV' 'SRB' 'JOR' 'SYR' 'PHL' 'PRI'\n",
      " 'SGP' 'BDI' 'LBN' 'AGO' 'VNM' 'AZE' 'PLW' 'NZL' 'EGY' 'MDV' 'CMR' 'MLT'\n",
      " 'SVK' 'MWI' 'STP' 'TWN' 'IDN' 'SEN' 'PER' 'SAU' 'KNA' 'ETH' 'ECU' 'IRQ'\n",
      " 'AND' 'HND' 'PAK' 'GEO' 'ZMB' 'QAT' 'KHM' 'MCO' 'BGD' 'ISL' 'UZB' 'IMN'\n",
      " 'TJK' 'NIC' 'BEN' 'MAC' 'VGB' 'TZA' 'GAB' 'MKD' 'TMP' 'GLP' 'KEN' 'LIE'\n",
      " 'MMR' 'PAN' 'BFA' 'LBY' 'GNB' 'MLI' 'BHR' 'NAM' 'BOL' 'SYC' 'PRY' 'BRB'\n",
      " 'ABW' 'SLV' 'DMA' 'CUB' 'PYF' 'UGA' 'GUY' 'LCA' 'ATA' 'RWA' 'MNE']\n",
      "\n",
      "\n",
      "distribution_channel\n",
      "['Direct' 'TA/TO' 'Corporate' 'GDS']\n",
      "\n",
      "\n",
      "reserved_room_type\n",
      "['A               ' 'C               ' 'D               '\n",
      " 'E               ' 'G               ' 'F               '\n",
      " 'B               ']\n",
      "\n",
      "\n",
      "customer_type\n",
      "['Transient' 'Contract' 'Transient-Party' 'Group']\n",
      "\n",
      "\n"
     ]
    }
   ],
   "source": [
    "for column in data_train.columns:\n",
    "    if data_train[column].dtypes == object:\n",
    "        print(column)\n",
    "        print(data_train[column].unique())\n",
    "        print('\\n')"
   ]
  },
  {
   "cell_type": "markdown",
   "metadata": {},
   "source": [
    "Значения в столбце с типом забронированной комнаты и с типом дополнительных опций записаны некорректно, исправим это, удалив лишние пробелы."
   ]
  },
  {
   "cell_type": "code",
   "execution_count": 21,
   "metadata": {},
   "outputs": [],
   "source": [
    "data_train['reserved_room_type'] = data_train['reserved_room_type'].str.strip()\n",
    "data_test['reserved_room_type'] = data_test['reserved_room_type'].str.strip()\n",
    "\n",
    "data_train['meal'] = data_train['meal'].str.strip()\n",
    "data_test['meal'] = data_test['meal'].str.strip()"
   ]
  },
  {
   "cell_type": "markdown",
   "metadata": {},
   "source": [
    "Теперь все верно"
   ]
  },
  {
   "cell_type": "code",
   "execution_count": 22,
   "metadata": {},
   "outputs": [
    {
     "data": {
      "text/plain": [
       "array(['A', 'C', 'D', 'E', 'G', 'F', 'B'], dtype=object)"
      ]
     },
     "execution_count": 22,
     "metadata": {},
     "output_type": "execute_result"
    }
   ],
   "source": [
    "data_train['reserved_room_type'].unique()"
   ]
  },
  {
   "cell_type": "code",
   "execution_count": 23,
   "metadata": {},
   "outputs": [
    {
     "data": {
      "text/plain": [
       "array(['BB', 'FB', 'HB', 'SC'], dtype=object)"
      ]
     },
     "execution_count": 23,
     "metadata": {},
     "output_type": "execute_result"
    }
   ],
   "source": [
    "data_train['meal'].unique()"
   ]
  },
  {
   "cell_type": "markdown",
   "metadata": {},
   "source": [
    "#### Сравнительный анализ выборок клиентов"
   ]
  },
  {
   "cell_type": "markdown",
   "metadata": {},
   "source": [
    "Выделим тех клиентов, которые не отменили свою запись."
   ]
  },
  {
   "cell_type": "code",
   "execution_count": 24,
   "metadata": {},
   "outputs": [],
   "source": [
    "data_uncanceled = data_train.query('is_canceled == 0')"
   ]
  },
  {
   "cell_type": "markdown",
   "metadata": {},
   "source": [
    "И тех, кто отменил"
   ]
  },
  {
   "cell_type": "code",
   "execution_count": 25,
   "metadata": {},
   "outputs": [],
   "source": [
    "data_canceled = data_train.query('is_canceled == 1')"
   ]
  },
  {
   "cell_type": "code",
   "execution_count": 26,
   "metadata": {
    "scrolled": false
   },
   "outputs": [
    {
     "data": {
      "image/png": "[encoded data removed]",
      "text/plain": [
       "<Figure size 432x288 with 1 Axes>"
      ]
     },
     "metadata": {
      "needs_background": "light"
     },
     "output_type": "display_data"
    },
    {
     "data": {
      "image/png": "[encoded data removed]",
      "text/plain": [
       "<Figure size 432x288 with 1 Axes>"
      ]
     },
     "metadata": {
      "needs_background": "light"
     },
     "output_type": "display_data"
    },
    {
     "data": {
      "image/png": "[encoded data removed]",
      "text/plain": [
       "<Figure size 432x288 with 1 Axes>"
      ]
     },
     "metadata": {
      "needs_background": "light"
     },
     "output_type": "display_data"
    },
    {
     "data": {
      "image/png": "[encoded data removed]",
      "text/plain": [
       "<Figure size 432x288 with 1 Axes>"
      ]
     },
     "metadata": {
      "needs_background": "light"
     },
     "output_type": "display_data"
    },
    {
     "data": {
      "image/png": "[encoded data removed]",
      "text/plain": [
       "<Figure size 432x288 with 1 Axes>"
      ]
     },
     "metadata": {
      "needs_background": "light"
     },
     "output_type": "display_data"
    },
    {
     "data": {
      "image/png": "[encoded data removed]",
      "text/plain": [
       "<Figure size 432x288 with 1 Axes>"
      ]
     },
     "metadata": {
      "needs_background": "light"
     },
     "output_type": "display_data"
    },
    {
     "data": {
      "image/png": "[encoded data removed]",
      "text/plain": [
       "<Figure size 432x288 with 1 Axes>"
      ]
     },
     "metadata": {
      "needs_background": "light"
     },
     "output_type": "display_data"
    },
    {
     "data": {
      "image/png": "[encoded data removed]",
      "text/plain": [
       "<Figure size 432x288 with 1 Axes>"
      ]
     },
     "metadata": {
      "needs_background": "light"
     },
     "output_type": "display_data"
    },
    {
     "data": {
      "image/png": "[encoded data removed]",
      "text/plain": [
       "<Figure size 432x288 with 1 Axes>"
      ]
     },
     "metadata": {
      "needs_background": "light"
     },
     "output_type": "display_data"
    },
    {
     "data": {
      "image/png": "[encoded data removed]",
      "text/plain": [
       "<Figure size 432x288 with 1 Axes>"
      ]
     },
     "metadata": {
      "needs_background": "light"
     },
     "output_type": "display_data"
    },
    {
     "data": {
      "image/png": "[encoded data removed]",
      "text/plain": [
       "<Figure size 432x288 with 1 Axes>"
      ]
     },
     "metadata": {
      "needs_background": "light"
     },
     "output_type": "display_data"
    },
    {
     "data": {
      "image/png": "[encoded data removed]",
      "text/plain": [
       "<Figure size 432x288 with 1 Axes>"
      ]
     },
     "metadata": {
      "needs_background": "light"
     },
     "output_type": "display_data"
    },
    {
     "data": {
      "image/png": "[encoded data removed]",
      "text/plain": [
       "<Figure size 432x288 with 1 Axes>"
      ]
     },
     "metadata": {
      "needs_background": "light"
     },
     "output_type": "display_data"
    },
    {
     "data": {
      "image/png": "[encoded data removed]",
      "text/plain": [
       "<Figure size 432x288 with 1 Axes>"
      ]
     },
     "metadata": {
      "needs_background": "light"
     },
     "output_type": "display_data"
    },
    {
     "data": {
      "image/png": "[encoded data removed]",
      "text/plain": [
       "<Figure size 432x288 with 1 Axes>"
      ]
     },
     "metadata": {
      "needs_background": "light"
     },
     "output_type": "display_data"
    },
    {
     "data": {
      "image/png": "[encoded data removed]",
      "text/plain": [
       "<Figure size 432x288 with 1 Axes>"
      ]
     },
     "metadata": {
      "needs_background": "light"
     },
     "output_type": "display_data"
    },
    {
     "data": {
      "image/png": "[encoded data removed]",
      "text/plain": [
       "<Figure size 432x288 with 1 Axes>"
      ]
     },
     "metadata": {
      "needs_background": "light"
     },
     "output_type": "display_data"
    },
    {
     "data": {
      "image/png": "[encoded data removed]",
      "text/plain": [
       "<Figure size 432x288 with 1 Axes>"
      ]
     },
     "metadata": {
      "needs_background": "light"
     },
     "output_type": "display_data"
    }
   ],
   "source": [
    "for column in data_train.columns:\n",
    "    if (data_uncanceled[column].dtypes != object) and (column != 'id') and (column != 'is_canceled'):\n",
    "        data_uncanceled[column].plot(kind='hist', title=f'{column} distribution')\n",
    "        data_canceled[column].plot(kind='hist', title=f'{column} distribution', alpha=0.5, color='yellow')\n",
    "        plt.show()"
   ]
  },
  {
   "cell_type": "code",
   "execution_count": 27,
   "metadata": {},
   "outputs": [
    {
     "data": {
      "image/png": "[encoded data removed]",
      "text/plain": [
       "<Figure size 432x288 with 1 Axes>"
      ]
     },
     "metadata": {
      "needs_background": "light"
     },
     "output_type": "display_data"
    },
    {
     "data": {
      "image/png": "[encoded data removed]",
      "text/plain": [
       "<Figure size 432x288 with 1 Axes>"
      ]
     },
     "metadata": {
      "needs_background": "light"
     },
     "output_type": "display_data"
    },
    {
     "data": {
      "image/png": "[encoded data removed]",
      "text/plain": [
       "<Figure size 432x288 with 1 Axes>"
      ]
     },
     "metadata": {
      "needs_background": "light"
     },
     "output_type": "display_data"
    },
    {
     "data": {
      "image/png": "[encoded data removed]",
      "text/plain": [
       "<Figure size 432x288 with 1 Axes>"
      ]
     },
     "metadata": {
      "needs_background": "light"
     },
     "output_type": "display_data"
    },
    {
     "data": {
      "image/png": "[encoded data removed]",
      "text/plain": [
       "<Figure size 432x288 with 1 Axes>"
      ]
     },
     "metadata": {
      "needs_background": "light"
     },
     "output_type": "display_data"
    }
   ],
   "source": [
    "for column in data_train.columns:\n",
    "    if (data_uncanceled[column].dtypes == object) and (column != 'country'):\n",
    "        (data_uncanceled.pivot_table(index=column, values='is_canceled', aggfunc='count').\n",
    "         merge(data_canceled.pivot_table(index=column, values='is_canceled', aggfunc='count'),\n",
    "            on=column, suffixes=['_False', '_True']).\n",
    "         plot(kind='bar', title=f'{column} distribution'))\n",
    "        plt.show()\n",
    "    elif (data_uncanceled[column].dtypes == object) and (column == 'country'):\n",
    "        (data_uncanceled.pivot_table(index=column, values='is_canceled', aggfunc='count').\n",
    "         merge(data_canceled.pivot_table(index=column, values='is_canceled', aggfunc='count'),\n",
    "            on=column, suffixes=['_False', '_True']).\n",
    "         sort_values(['is_canceled_True', 'is_canceled_False'], ascending=False).\n",
    "         head(10).\n",
    "         plot(kind='bar', title=f'{column} distribution'))\n",
    "        plt.show()"
   ]
  },
  {
   "cell_type": "markdown",
   "metadata": {},
   "source": [
    "В результате проведенного сравнения сделать следующие вывод, что в основном характер распределений имеющихся параметров у обеих групп одинаков, однако, есть и некоторые различия:\n",
    "\n",
    "**Клиенты, впоследствие отменившие свою бронь:**\n",
    "- значительно реже нуждаются в парковочном месте\n",
    "- почти всегда уже отменяли свою бронь ранее\n",
    "- не путешествуют с младенцами\n",
    "- значительно чаще бронируют номер сильно заранее (300-365 дней) и значительно реже бронируют за очень маленький срок (0-30 дней)"
   ]
  },
  {
   "cell_type": "markdown",
   "metadata": {},
   "source": [
    "### Шаг 3. Формулировка ML-задачи на основе бизнес-задачи"
   ]
  },
  {
   "cell_type": "code",
   "execution_count": 28,
   "metadata": {},
   "outputs": [],
   "source": [
    "summer_list = [6, 7, 8]\n",
    "spring_list = [3, 4, 5]\n",
    "    \n",
    "PRICES = {'A' : [1000, 400],\n",
    "         'B' : [800, 350],\n",
    "         'C' : [600, 350],\n",
    "         'D' : [550, 150],\n",
    "         'E' : [500, 150],\n",
    "         'F' : [450, 150],\n",
    "         'G' : [350, 150],}"
   ]
  },
  {
   "cell_type": "code",
   "execution_count": 29,
   "metadata": {},
   "outputs": [],
   "source": [
    "def profit_count(row):\n",
    "    income = 0\n",
    "    season_coef = 1\n",
    "    if row['arrival_date_month'] in summer_list:\n",
    "        season_coef = 1.4\n",
    "    elif row['arrival_date_month'] in spring_list:\n",
    "        season_coef = 1.2\n",
    "    income += (PRICES[row['reserved_room_type']][0]* season_coef * row['total_nights'] \n",
    "                   - PRICES[row['reserved_room_type']][1] * (1 + row['total_nights'] // 2))\n",
    "    return income"
   ]
  },
  {
   "cell_type": "code",
   "execution_count": 30,
   "metadata": {},
   "outputs": [],
   "source": [
    "def unprofit_count(row, flag):\n",
    "    lost = 0\n",
    "    season_coef = 1\n",
    "    if row['arrival_date_month'] in summer_list:\n",
    "        season_coef = 1.4\n",
    "    elif row['arrival_date_month'] in spring_list:\n",
    "        season_coef = 1.2\n",
    "    if flag == False:\n",
    "        lost += (PRICES[row['reserved_room_type']][0] * season_coef + PRICES[row['reserved_room_type']][1])\n",
    "    else:\n",
    "        if row['is_canceled'] == row['predictions']:\n",
    "            lost += 0.2 * (PRICES[row['reserved_room_type']][0] * season_coef + PRICES[row['reserved_room_type']][1])\n",
    "        else:\n",
    "            lost += (PRICES[row['reserved_room_type']][0] * season_coef + PRICES[row['reserved_room_type']][1])\n",
    "    \n",
    "    return lost"
   ]
  },
  {
   "cell_type": "code",
   "execution_count": 31,
   "metadata": {},
   "outputs": [],
   "source": [
    "def clear_income_count(data, target_name, is_predicted):\n",
    "    data_profit = data.query(f'{target_name} == 0')\n",
    "    data_unprofit = data.query(f'{target_name} == 1')\n",
    "    \n",
    "    income = data_profit.apply(profit_count, axis=1)\n",
    "    income = income.sum()\n",
    "    print('Прибыль отеля:',income)\n",
    "    \n",
    "    loss = data_unprofit.apply(unprofit_count, flag=is_predicted, axis=1)\n",
    "    loss = loss.sum()\n",
    "    print('Убытки отеля:', loss)\n",
    "    \n",
    "    print('Чистая прибыль отеля:', income - loss)\n",
    "    return (income - loss)"
   ]
  },
  {
   "cell_type": "markdown",
   "metadata": {},
   "source": [
    "Оценим прибыль компании без внедрения системы депозитов."
   ]
  },
  {
   "cell_type": "code",
   "execution_count": 32,
   "metadata": {
    "scrolled": false
   },
   "outputs": [
    {
     "name": "stdout",
     "output_type": "stream",
     "text": [
      "Прибыль отеля: 75628120.0\n",
      "Убытки отеля: 14576320.0\n",
      "Чистая прибыль отеля: 61051800.0\n"
     ]
    },
    {
     "data": {
      "text/plain": [
       "61051800.0"
      ]
     },
     "execution_count": 32,
     "metadata": {},
     "output_type": "execute_result"
    }
   ],
   "source": [
    "clear_income_count(data_train, 'is_canceled', False)"
   ]
  },
  {
   "cell_type": "markdown",
   "metadata": {},
   "source": [
    "При внедрении модели предсказания отмены, размер внесенного депозита будет составлять 80% от стоимости номера за одни сутки и затрат на разовую уборку, что потенциально может сократить убытки отеля на 80%.\n",
    "\n",
    "Поскольку на разработку модели выделено 400 000, то, рассчитав чистую прибыль отеля на тестовых данных до и после внедрения модели, мы должны получить разницу между ними более чем в 400 000."
   ]
  },
  {
   "cell_type": "markdown",
   "metadata": {},
   "source": [
    "### Шаг 4. Разработка модели ML"
   ]
  },
  {
   "cell_type": "markdown",
   "metadata": {},
   "source": [
    "С точки зрения машинного обучения перед нами стоит задача бинарной классификации"
   ]
  },
  {
   "cell_type": "markdown",
   "metadata": {},
   "source": [
    "#### Подготовка датасета"
   ]
  },
  {
   "cell_type": "markdown",
   "metadata": {},
   "source": [
    "Закодируем категориальные призанаки техникой OHE"
   ]
  },
  {
   "cell_type": "code",
   "execution_count": 33,
   "metadata": {},
   "outputs": [
    {
     "data": {
      "text/html": [
       "<div>\n",
       "<style scoped>\n",
       "    .dataframe tbody tr th:only-of-type {\n",
       "        vertical-align: middle;\n",
       "    }\n",
       "\n",
       "    .dataframe tbody tr th {\n",
       "        vertical-align: top;\n",
       "    }\n",
       "\n",
       "    .dataframe thead th {\n",
       "        text-align: right;\n",
       "    }\n",
       "</style>\n",
       "<table border=\"1\" class=\"dataframe\">\n",
       "  <thead>\n",
       "    <tr style=\"text-align: right;\">\n",
       "      <th></th>\n",
       "      <th>is_canceled</th>\n",
       "      <th>lead_time</th>\n",
       "      <th>arrival_date_year</th>\n",
       "      <th>arrival_date_month</th>\n",
       "      <th>arrival_date_week_number</th>\n",
       "      <th>arrival_date_day_of_month</th>\n",
       "      <th>stays_in_weekend_nights</th>\n",
       "      <th>stays_in_week_nights</th>\n",
       "      <th>adults</th>\n",
       "      <th>children</th>\n",
       "      <th>...</th>\n",
       "      <th>reserved_room_type_G</th>\n",
       "      <th>customer_type_Group</th>\n",
       "      <th>customer_type_Transient</th>\n",
       "      <th>customer_type_Transient-Party</th>\n",
       "      <th>meal_FB</th>\n",
       "      <th>meal_HB</th>\n",
       "      <th>meal_SC</th>\n",
       "      <th>distribution_channel_Direct</th>\n",
       "      <th>distribution_channel_GDS</th>\n",
       "      <th>distribution_channel_TA/TO</th>\n",
       "    </tr>\n",
       "  </thead>\n",
       "  <tbody>\n",
       "    <tr>\n",
       "      <th>0</th>\n",
       "      <td>0</td>\n",
       "      <td>7.0</td>\n",
       "      <td>2015</td>\n",
       "      <td>7</td>\n",
       "      <td>27</td>\n",
       "      <td>1</td>\n",
       "      <td>0</td>\n",
       "      <td>1</td>\n",
       "      <td>1.0</td>\n",
       "      <td>0.0</td>\n",
       "      <td>...</td>\n",
       "      <td>0</td>\n",
       "      <td>0</td>\n",
       "      <td>1</td>\n",
       "      <td>0</td>\n",
       "      <td>0</td>\n",
       "      <td>0</td>\n",
       "      <td>0</td>\n",
       "      <td>1</td>\n",
       "      <td>0</td>\n",
       "      <td>0</td>\n",
       "    </tr>\n",
       "    <tr>\n",
       "      <th>1</th>\n",
       "      <td>0</td>\n",
       "      <td>14.0</td>\n",
       "      <td>2015</td>\n",
       "      <td>7</td>\n",
       "      <td>27</td>\n",
       "      <td>1</td>\n",
       "      <td>0</td>\n",
       "      <td>2</td>\n",
       "      <td>2.0</td>\n",
       "      <td>0.0</td>\n",
       "      <td>...</td>\n",
       "      <td>0</td>\n",
       "      <td>0</td>\n",
       "      <td>1</td>\n",
       "      <td>0</td>\n",
       "      <td>0</td>\n",
       "      <td>0</td>\n",
       "      <td>0</td>\n",
       "      <td>0</td>\n",
       "      <td>0</td>\n",
       "      <td>1</td>\n",
       "    </tr>\n",
       "    <tr>\n",
       "      <th>2</th>\n",
       "      <td>0</td>\n",
       "      <td>0.0</td>\n",
       "      <td>2015</td>\n",
       "      <td>7</td>\n",
       "      <td>27</td>\n",
       "      <td>1</td>\n",
       "      <td>0</td>\n",
       "      <td>2</td>\n",
       "      <td>2.0</td>\n",
       "      <td>0.0</td>\n",
       "      <td>...</td>\n",
       "      <td>0</td>\n",
       "      <td>0</td>\n",
       "      <td>1</td>\n",
       "      <td>0</td>\n",
       "      <td>0</td>\n",
       "      <td>0</td>\n",
       "      <td>0</td>\n",
       "      <td>1</td>\n",
       "      <td>0</td>\n",
       "      <td>0</td>\n",
       "    </tr>\n",
       "    <tr>\n",
       "      <th>3</th>\n",
       "      <td>0</td>\n",
       "      <td>9.0</td>\n",
       "      <td>2015</td>\n",
       "      <td>7</td>\n",
       "      <td>27</td>\n",
       "      <td>1</td>\n",
       "      <td>0</td>\n",
       "      <td>2</td>\n",
       "      <td>2.0</td>\n",
       "      <td>0.0</td>\n",
       "      <td>...</td>\n",
       "      <td>0</td>\n",
       "      <td>0</td>\n",
       "      <td>1</td>\n",
       "      <td>0</td>\n",
       "      <td>1</td>\n",
       "      <td>0</td>\n",
       "      <td>0</td>\n",
       "      <td>1</td>\n",
       "      <td>0</td>\n",
       "      <td>0</td>\n",
       "    </tr>\n",
       "    <tr>\n",
       "      <th>4</th>\n",
       "      <td>1</td>\n",
       "      <td>85.0</td>\n",
       "      <td>2015</td>\n",
       "      <td>7</td>\n",
       "      <td>27</td>\n",
       "      <td>1</td>\n",
       "      <td>0</td>\n",
       "      <td>3</td>\n",
       "      <td>2.0</td>\n",
       "      <td>0.0</td>\n",
       "      <td>...</td>\n",
       "      <td>0</td>\n",
       "      <td>0</td>\n",
       "      <td>1</td>\n",
       "      <td>0</td>\n",
       "      <td>0</td>\n",
       "      <td>0</td>\n",
       "      <td>0</td>\n",
       "      <td>0</td>\n",
       "      <td>0</td>\n",
       "      <td>1</td>\n",
       "    </tr>\n",
       "  </tbody>\n",
       "</table>\n",
       "<p>5 rows × 35 columns</p>\n",
       "</div>"
      ],
      "text/plain": [
       "   is_canceled  lead_time  arrival_date_year  arrival_date_month  \\\n",
       "0            0        7.0               2015                   7   \n",
       "1            0       14.0               2015                   7   \n",
       "2            0        0.0               2015                   7   \n",
       "3            0        9.0               2015                   7   \n",
       "4            1       85.0               2015                   7   \n",
       "\n",
       "   arrival_date_week_number  arrival_date_day_of_month  \\\n",
       "0                        27                          1   \n",
       "1                        27                          1   \n",
       "2                        27                          1   \n",
       "3                        27                          1   \n",
       "4                        27                          1   \n",
       "\n",
       "   stays_in_weekend_nights  stays_in_week_nights  adults  children  ...  \\\n",
       "0                        0                     1     1.0       0.0  ...   \n",
       "1                        0                     2     2.0       0.0  ...   \n",
       "2                        0                     2     2.0       0.0  ...   \n",
       "3                        0                     2     2.0       0.0  ...   \n",
       "4                        0                     3     2.0       0.0  ...   \n",
       "\n",
       "   reserved_room_type_G customer_type_Group  customer_type_Transient  \\\n",
       "0                     0                   0                        1   \n",
       "1                     0                   0                        1   \n",
       "2                     0                   0                        1   \n",
       "3                     0                   0                        1   \n",
       "4                     0                   0                        1   \n",
       "\n",
       "   customer_type_Transient-Party  meal_FB  meal_HB  meal_SC  \\\n",
       "0                              0        0        0        0   \n",
       "1                              0        0        0        0   \n",
       "2                              0        0        0        0   \n",
       "3                              0        1        0        0   \n",
       "4                              0        0        0        0   \n",
       "\n",
       "   distribution_channel_Direct  distribution_channel_GDS  \\\n",
       "0                            1                         0   \n",
       "1                            0                         0   \n",
       "2                            1                         0   \n",
       "3                            1                         0   \n",
       "4                            0                         0   \n",
       "\n",
       "   distribution_channel_TA/TO  \n",
       "0                           0  \n",
       "1                           1  \n",
       "2                           0  \n",
       "3                           0  \n",
       "4                           1  \n",
       "\n",
       "[5 rows x 35 columns]"
      ]
     },
     "execution_count": 33,
     "metadata": {},
     "output_type": "execute_result"
    }
   ],
   "source": [
    "data_ohe = pd.get_dummies(data_train,\n",
    "                          columns=['reserved_room_type', 'customer_type', 'meal', 'distribution_channel'],\n",
    "                          drop_first=True)\n",
    "data_ohe.head()"
   ]
  },
  {
   "cell_type": "code",
   "execution_count": 34,
   "metadata": {},
   "outputs": [],
   "source": [
    "data_ohe_test = pd.get_dummies(data_test,\n",
    "                          columns=['reserved_room_type', 'customer_type', 'meal', 'distribution_channel'],\n",
    "                          drop_first=True)"
   ]
  },
  {
   "cell_type": "markdown",
   "metadata": {},
   "source": [
    "Мы только что закодировали все категориальные признаки, кроме **country**, дело в том, что кодирование техникой OHE в данном случае не подойдет, поскольку количество уникальных значений стран в тренировочном и тестовом наборе разное, а это значит, что при применении OHE, модель, обученная на тренировочной выборке не сможет предсказывать значения по тестовой выборке. Для решения данной проблемы применим OrdinalEncoder"
   ]
  },
  {
   "cell_type": "code",
   "execution_count": 35,
   "metadata": {},
   "outputs": [],
   "source": [
    "oe = OrdinalEncoder()\n",
    "data_oe = data_ohe[['country']]\n",
    "data_oe_test = data_ohe_test[['country']]"
   ]
  },
  {
   "cell_type": "code",
   "execution_count": 36,
   "metadata": {},
   "outputs": [
    {
     "data": {
      "text/html": [
       "<div>\n",
       "<style scoped>\n",
       "    .dataframe tbody tr th:only-of-type {\n",
       "        vertical-align: middle;\n",
       "    }\n",
       "\n",
       "    .dataframe tbody tr th {\n",
       "        vertical-align: top;\n",
       "    }\n",
       "\n",
       "    .dataframe thead th {\n",
       "        text-align: right;\n",
       "    }\n",
       "</style>\n",
       "<table border=\"1\" class=\"dataframe\">\n",
       "  <thead>\n",
       "    <tr style=\"text-align: right;\">\n",
       "      <th></th>\n",
       "      <th>country</th>\n",
       "    </tr>\n",
       "  </thead>\n",
       "  <tbody>\n",
       "    <tr>\n",
       "      <th>0</th>\n",
       "      <td>GBR</td>\n",
       "    </tr>\n",
       "    <tr>\n",
       "      <th>1</th>\n",
       "      <td>GBR</td>\n",
       "    </tr>\n",
       "    <tr>\n",
       "      <th>2</th>\n",
       "      <td>PRT</td>\n",
       "    </tr>\n",
       "    <tr>\n",
       "      <th>3</th>\n",
       "      <td>PRT</td>\n",
       "    </tr>\n",
       "    <tr>\n",
       "      <th>4</th>\n",
       "      <td>PRT</td>\n",
       "    </tr>\n",
       "    <tr>\n",
       "      <th>...</th>\n",
       "      <td>...</td>\n",
       "    </tr>\n",
       "    <tr>\n",
       "      <th>24690</th>\n",
       "      <td>DEU</td>\n",
       "    </tr>\n",
       "    <tr>\n",
       "      <th>24691</th>\n",
       "      <td>BEL</td>\n",
       "    </tr>\n",
       "    <tr>\n",
       "      <th>24692</th>\n",
       "      <td>BEL</td>\n",
       "    </tr>\n",
       "    <tr>\n",
       "      <th>24693</th>\n",
       "      <td>DEU</td>\n",
       "    </tr>\n",
       "    <tr>\n",
       "      <th>24694</th>\n",
       "      <td>GBR</td>\n",
       "    </tr>\n",
       "  </tbody>\n",
       "</table>\n",
       "<p>68547 rows × 1 columns</p>\n",
       "</div>"
      ],
      "text/plain": [
       "      country\n",
       "0         GBR\n",
       "1         GBR\n",
       "2         PRT\n",
       "3         PRT\n",
       "4         PRT\n",
       "...       ...\n",
       "24690     DEU\n",
       "24691     BEL\n",
       "24692     BEL\n",
       "24693     DEU\n",
       "24694     GBR\n",
       "\n",
       "[68547 rows x 1 columns]"
      ]
     },
     "execution_count": 36,
     "metadata": {},
     "output_type": "execute_result"
    }
   ],
   "source": [
    "data_oe_fit = data_oe.append(data_oe_test)\n",
    "data_oe_fit"
   ]
  },
  {
   "cell_type": "code",
   "execution_count": 37,
   "metadata": {},
   "outputs": [],
   "source": [
    "oe.fit(data_oe_fit[['country']])\n",
    "\n",
    "data_oe = oe.transform(data_oe)\n",
    "data_oe_test = oe.transform(data_oe_test)"
   ]
  },
  {
   "cell_type": "code",
   "execution_count": 38,
   "metadata": {},
   "outputs": [],
   "source": [
    "data_ohe['country'] = data_oe\n",
    "data_ohe_test['country'] = data_oe_test"
   ]
  },
  {
   "cell_type": "code",
   "execution_count": 39,
   "metadata": {},
   "outputs": [
    {
     "data": {
      "text/plain": [
       "array([ 56., 132.,  48.,  73.,  53., 136., 121., 166.,  41.,  14.,  28.,\n",
       "        33.,  63., 120.,   5., 137., 151., 130.,  49.,  40.,  78.,  51.,\n",
       "        43., 110.,  26.,  97.,  24., 150.,   2.,  30., 104., 100., 145.,\n",
       "        98.,  29.,  11.,  96., 159.,  77.,  72.,  38.,  10.,  35., 173.,\n",
       "        45.,  88.,  36.,  69., 158.,   4.,  68.,  66.,  74.,  60.,  80.,\n",
       "       165., 171.,  34.,  58.,  89.,  39.,  83., 155.,  44., 118.,  22.,\n",
       "       168., 163.,   6.,  82.,  95., 114.,  21., 112., 124., 148.,  79.,\n",
       "        18.,  31., 146.,  81., 153., 128., 131., 142.,  13.,  91.,   1.,\n",
       "       170.,  12., 129., 123.,  47., 103.,  32., 107., 149., 113., 147.,\n",
       "       160.,  70., 141., 127., 139.,  87.,  50.,  46.,  75.,   3.,  67.,\n",
       "       125.,  57., 172., 135.,  85., 101.,  17.,  76., 167.,  71., 156.,\n",
       "       119.,  15.,  99., 169., 161.,  55., 105., 157.,  61.,  84.,  94.,\n",
       "       108., 126.,  16.,  92.,  62., 106.,  19., 116.,  23., 152., 133.,\n",
       "        25.,   0., 144.,  42.,  37., 134., 162.,  65.,  93.,   8., 138.,\n",
       "       109.])"
      ]
     },
     "execution_count": 39,
     "metadata": {},
     "output_type": "execute_result"
    }
   ],
   "source": [
    "data_ohe['country'].unique()"
   ]
  },
  {
   "cell_type": "markdown",
   "metadata": {},
   "source": [
    "Посмотрим на баланс классов в целевом призанке"
   ]
  },
  {
   "cell_type": "code",
   "execution_count": 40,
   "metadata": {},
   "outputs": [
    {
     "data": {
      "text/plain": [
       "0    32704\n",
       "1    11148\n",
       "Name: is_canceled, dtype: int64"
      ]
     },
     "execution_count": 40,
     "metadata": {},
     "output_type": "execute_result"
    }
   ],
   "source": [
    "data_ohe['is_canceled'].value_counts()"
   ]
  },
  {
   "cell_type": "markdown",
   "metadata": {},
   "source": [
    "Записей класса \"0\" почти в 2 раза больше, чем записей класса \"1\". В выборке присутствует дисбаланс"
   ]
  },
  {
   "cell_type": "code",
   "execution_count": 41,
   "metadata": {},
   "outputs": [],
   "source": [
    "target = data_ohe['is_canceled']\n",
    "features = data_ohe.drop(['is_canceled', 'total_nights'], axis=1)"
   ]
  },
  {
   "cell_type": "code",
   "execution_count": 42,
   "metadata": {},
   "outputs": [],
   "source": [
    "target_test = data_ohe_test['is_canceled']\n",
    "features_test = data_ohe_test.drop(['is_canceled', 'total_nights'], axis=1)"
   ]
  },
  {
   "cell_type": "markdown",
   "metadata": {},
   "source": [
    "Отмасштабируем имеющиеся признаки в масштабе от 0 до 1"
   ]
  },
  {
   "cell_type": "code",
   "execution_count": 43,
   "metadata": {},
   "outputs": [
    {
     "data": {
      "text/plain": [
       "array([[0.01871658, 0.        , 0.54545455, ..., 1.        , 0.        ,\n",
       "        0.        ],\n",
       "       [0.03743316, 0.        , 0.54545455, ..., 0.        , 0.        ,\n",
       "        1.        ],\n",
       "       [0.        , 0.        , 0.54545455, ..., 1.        , 0.        ,\n",
       "        0.        ],\n",
       "       ...,\n",
       "       [0.01871658, 1.        , 1.        , ..., 0.        , 0.        ,\n",
       "        1.        ],\n",
       "       [0.04545455, 1.        , 1.        , ..., 0.        , 0.        ,\n",
       "        1.        ],\n",
       "       [0.28609626, 1.        , 1.        , ..., 0.        , 0.        ,\n",
       "        1.        ]])"
      ]
     },
     "execution_count": 43,
     "metadata": {},
     "output_type": "execute_result"
    }
   ],
   "source": [
    "sc1 = MinMaxScaler()\n",
    "features = sc1.fit_transform(features)\n",
    "features"
   ]
  },
  {
   "cell_type": "code",
   "execution_count": 44,
   "metadata": {},
   "outputs": [
    {
     "data": {
      "text/plain": [
       "array([[0.19839142, 0.        , 0.        , ..., 0.        , 0.        ,\n",
       "        1.        ],\n",
       "       [0.16621984, 0.        , 0.        , ..., 0.        , 0.        ,\n",
       "        1.        ],\n",
       "       [0.19034853, 0.        , 0.        , ..., 0.        , 0.        ,\n",
       "        1.        ],\n",
       "       ...,\n",
       "       [0.0616622 , 0.        , 1.        , ..., 0.        , 0.        ,\n",
       "        1.        ],\n",
       "       [0.09115282, 0.        , 1.        , ..., 0.        , 0.        ,\n",
       "        1.        ],\n",
       "       [0.2922252 , 0.        , 1.        , ..., 0.        , 0.        ,\n",
       "        1.        ]])"
      ]
     },
     "execution_count": 44,
     "metadata": {},
     "output_type": "execute_result"
    }
   ],
   "source": [
    "features_test = sc1.fit_transform(features_test)\n",
    "features_test"
   ]
  },
  {
   "cell_type": "markdown",
   "metadata": {},
   "source": [
    "Функция для проверки модели при помощи кросс-валидации"
   ]
  },
  {
   "cell_type": "code",
   "execution_count": 45,
   "metadata": {},
   "outputs": [],
   "source": [
    "def counting_score(estimator, X, y, scoring):\n",
    "    scores = cross_val_score(estimator, X, y, cv=5, scoring=scoring)\n",
    "    final_score = pd.Series(scores).mean()\n",
    "    print('Средняя оценка качества модели:', final_score)"
   ]
  },
  {
   "cell_type": "markdown",
   "metadata": {},
   "source": [
    "В качестве параметра **scoring** для кросс-валидации будем использовать метрику recall, т.к. из всех записей \"1\" класса мы хотим верно предсказать максимально возвожную ее долю. Однако для предотвращения случая, при котором модель начнет выдавать подавляющему большинству случаев метку \"1\" класса, завышая метрику recall, будем следить и за метрикой precision."
   ]
  },
  {
   "cell_type": "markdown",
   "metadata": {},
   "source": [
    "#### Решающее дерево"
   ]
  },
  {
   "cell_type": "code",
   "execution_count": 46,
   "metadata": {},
   "outputs": [],
   "source": [
    "model_DT = DecisionTreeClassifier(max_depth=3, random_state=1, class_weight=\"balanced\")"
   ]
  },
  {
   "cell_type": "code",
   "execution_count": 47,
   "metadata": {},
   "outputs": [
    {
     "name": "stdout",
     "output_type": "stream",
     "text": [
      "Средняя оценка качества модели: 0.5735649721264939\n",
      "Wall time: 280 ms\n"
     ]
    }
   ],
   "source": [
    "%%time\n",
    "counting_score(model_DT, features, target, 'recall')"
   ]
  },
  {
   "cell_type": "code",
   "execution_count": 48,
   "metadata": {},
   "outputs": [
    {
     "name": "stdout",
     "output_type": "stream",
     "text": [
      "Средняя оценка качества модели: 0.32400674245663375\n",
      "Wall time: 272 ms\n"
     ]
    }
   ],
   "source": [
    "%%time\n",
    "counting_score(model_DT, features, target, 'precision')"
   ]
  },
  {
   "cell_type": "markdown",
   "metadata": {},
   "source": [
    "#### Случайный лес"
   ]
  },
  {
   "cell_type": "code",
   "execution_count": 49,
   "metadata": {},
   "outputs": [],
   "source": [
    "model_RF = RandomForestClassifier(max_depth=17, random_state=1, class_weight=\"balanced\")"
   ]
  },
  {
   "cell_type": "code",
   "execution_count": 50,
   "metadata": {},
   "outputs": [
    {
     "name": "stdout",
     "output_type": "stream",
     "text": [
      "Средняя оценка качества модели: 0.3180485528107881\n",
      "Wall time: 11.4 s\n"
     ]
    }
   ],
   "source": [
    "%%time\n",
    "counting_score(model_RF, features, target, 'recall')"
   ]
  },
  {
   "cell_type": "code",
   "execution_count": 51,
   "metadata": {},
   "outputs": [
    {
     "name": "stdout",
     "output_type": "stream",
     "text": [
      "Средняя оценка качества модели: 0.30204189153594513\n",
      "Wall time: 11.6 s\n"
     ]
    }
   ],
   "source": [
    "%%time\n",
    "counting_score(model_RF, features, target, 'precision')"
   ]
  },
  {
   "cell_type": "markdown",
   "metadata": {},
   "source": [
    "#### Логистическая регрессия"
   ]
  },
  {
   "cell_type": "code",
   "execution_count": 52,
   "metadata": {},
   "outputs": [],
   "source": [
    "model_LR = LogisticRegression(random_state=1, max_iter=300, penalty='none', solver='lbfgs', class_weight=\"balanced\")"
   ]
  },
  {
   "cell_type": "markdown",
   "metadata": {},
   "source": [
    "<div class=\"alert alert-warning\">\n",
    "<h2>Комментарий ревьюера v2<a class=\"tocSkip\"></a></h2>\n",
    "    \n",
    "**Есть совет** ⚠️: если не лезть глубоко в дебри, то это предупреждение означает, что модели не хватило памяти при расчете ошибки(читай — модель недообучилась). Поэтому поменять solver, либо увеличить количество итераций все-таки нужно, несмотря на метрики. Но если все-таки нужно скрыть предупреждения, то сделать это можно так:\n",
    "    \n",
    "    from warnings import simplefilter\n",
    "    from sklearn.exceptions import ConvergenceWarning\n",
    "    simplefilter(\"ignore\", category=ConvergenceWarning)\n",
    "\n",
    "</div>"
   ]
  },
  {
   "cell_type": "code",
   "execution_count": 53,
   "metadata": {
    "scrolled": true
   },
   "outputs": [
    {
     "name": "stderr",
     "output_type": "stream",
     "text": [
      "C:\\Users\\Tim\\anaconda3\\lib\\site-packages\\sklearn\\linear_model\\_logistic.py:763: ConvergenceWarning: lbfgs failed to converge (status=1):\n",
      "STOP: TOTAL NO. of ITERATIONS REACHED LIMIT.\n",
      "\n",
      "Increase the number of iterations (max_iter) or scale the data as shown in:\n",
      "    https://scikit-learn.org/stable/modules/preprocessing.html\n",
      "Please also refer to the documentation for alternative solver options:\n",
      "    https://scikit-learn.org/stable/modules/linear_model.html#logistic-regression\n",
      "  n_iter_i = _check_optimize_result(\n",
      "C:\\Users\\Tim\\anaconda3\\lib\\site-packages\\sklearn\\linear_model\\_logistic.py:763: ConvergenceWarning: lbfgs failed to converge (status=1):\n",
      "STOP: TOTAL NO. of ITERATIONS REACHED LIMIT.\n",
      "\n",
      "Increase the number of iterations (max_iter) or scale the data as shown in:\n",
      "    https://scikit-learn.org/stable/modules/preprocessing.html\n",
      "Please also refer to the documentation for alternative solver options:\n",
      "    https://scikit-learn.org/stable/modules/linear_model.html#logistic-regression\n",
      "  n_iter_i = _check_optimize_result(\n",
      "C:\\Users\\Tim\\anaconda3\\lib\\site-packages\\sklearn\\linear_model\\_logistic.py:763: ConvergenceWarning: lbfgs failed to converge (status=1):\n",
      "STOP: TOTAL NO. of ITERATIONS REACHED LIMIT.\n",
      "\n",
      "Increase the number of iterations (max_iter) or scale the data as shown in:\n",
      "    https://scikit-learn.org/stable/modules/preprocessing.html\n",
      "Please also refer to the documentation for alternative solver options:\n",
      "    https://scikit-learn.org/stable/modules/linear_model.html#logistic-regression\n",
      "  n_iter_i = _check_optimize_result(\n",
      "C:\\Users\\Tim\\anaconda3\\lib\\site-packages\\sklearn\\linear_model\\_logistic.py:763: ConvergenceWarning: lbfgs failed to converge (status=1):\n",
      "STOP: TOTAL NO. of ITERATIONS REACHED LIMIT.\n",
      "\n",
      "Increase the number of iterations (max_iter) or scale the data as shown in:\n",
      "    https://scikit-learn.org/stable/modules/preprocessing.html\n",
      "Please also refer to the documentation for alternative solver options:\n",
      "    https://scikit-learn.org/stable/modules/linear_model.html#logistic-regression\n",
      "  n_iter_i = _check_optimize_result(\n"
     ]
    },
    {
     "name": "stdout",
     "output_type": "stream",
     "text": [
      "Средняя оценка качества модели: 0.6486470033214837\n",
      "Wall time: 3.52 s\n"
     ]
    },
    {
     "name": "stderr",
     "output_type": "stream",
     "text": [
      "C:\\Users\\Tim\\anaconda3\\lib\\site-packages\\sklearn\\linear_model\\_logistic.py:763: ConvergenceWarning: lbfgs failed to converge (status=1):\n",
      "STOP: TOTAL NO. of ITERATIONS REACHED LIMIT.\n",
      "\n",
      "Increase the number of iterations (max_iter) or scale the data as shown in:\n",
      "    https://scikit-learn.org/stable/modules/preprocessing.html\n",
      "Please also refer to the documentation for alternative solver options:\n",
      "    https://scikit-learn.org/stable/modules/linear_model.html#logistic-regression\n",
      "  n_iter_i = _check_optimize_result(\n"
     ]
    }
   ],
   "source": [
    "%%time\n",
    "counting_score(model_LR, features, target, 'recall')"
   ]
  },
  {
   "cell_type": "code",
   "execution_count": 54,
   "metadata": {},
   "outputs": [
    {
     "name": "stderr",
     "output_type": "stream",
     "text": [
      "C:\\Users\\Tim\\anaconda3\\lib\\site-packages\\sklearn\\linear_model\\_logistic.py:763: ConvergenceWarning: lbfgs failed to converge (status=1):\n",
      "STOP: TOTAL NO. of ITERATIONS REACHED LIMIT.\n",
      "\n",
      "Increase the number of iterations (max_iter) or scale the data as shown in:\n",
      "    https://scikit-learn.org/stable/modules/preprocessing.html\n",
      "Please also refer to the documentation for alternative solver options:\n",
      "    https://scikit-learn.org/stable/modules/linear_model.html#logistic-regression\n",
      "  n_iter_i = _check_optimize_result(\n",
      "C:\\Users\\Tim\\anaconda3\\lib\\site-packages\\sklearn\\linear_model\\_logistic.py:763: ConvergenceWarning: lbfgs failed to converge (status=1):\n",
      "STOP: TOTAL NO. of ITERATIONS REACHED LIMIT.\n",
      "\n",
      "Increase the number of iterations (max_iter) or scale the data as shown in:\n",
      "    https://scikit-learn.org/stable/modules/preprocessing.html\n",
      "Please also refer to the documentation for alternative solver options:\n",
      "    https://scikit-learn.org/stable/modules/linear_model.html#logistic-regression\n",
      "  n_iter_i = _check_optimize_result(\n",
      "C:\\Users\\Tim\\anaconda3\\lib\\site-packages\\sklearn\\linear_model\\_logistic.py:763: ConvergenceWarning: lbfgs failed to converge (status=1):\n",
      "STOP: TOTAL NO. of ITERATIONS REACHED LIMIT.\n",
      "\n",
      "Increase the number of iterations (max_iter) or scale the data as shown in:\n",
      "    https://scikit-learn.org/stable/modules/preprocessing.html\n",
      "Please also refer to the documentation for alternative solver options:\n",
      "    https://scikit-learn.org/stable/modules/linear_model.html#logistic-regression\n",
      "  n_iter_i = _check_optimize_result(\n",
      "C:\\Users\\Tim\\anaconda3\\lib\\site-packages\\sklearn\\linear_model\\_logistic.py:763: ConvergenceWarning: lbfgs failed to converge (status=1):\n",
      "STOP: TOTAL NO. of ITERATIONS REACHED LIMIT.\n",
      "\n",
      "Increase the number of iterations (max_iter) or scale the data as shown in:\n",
      "    https://scikit-learn.org/stable/modules/preprocessing.html\n",
      "Please also refer to the documentation for alternative solver options:\n",
      "    https://scikit-learn.org/stable/modules/linear_model.html#logistic-regression\n",
      "  n_iter_i = _check_optimize_result(\n"
     ]
    },
    {
     "name": "stdout",
     "output_type": "stream",
     "text": [
      "Средняя оценка качества модели: 0.38844503789449847\n",
      "Wall time: 3.43 s\n"
     ]
    },
    {
     "name": "stderr",
     "output_type": "stream",
     "text": [
      "C:\\Users\\Tim\\anaconda3\\lib\\site-packages\\sklearn\\linear_model\\_logistic.py:763: ConvergenceWarning: lbfgs failed to converge (status=1):\n",
      "STOP: TOTAL NO. of ITERATIONS REACHED LIMIT.\n",
      "\n",
      "Increase the number of iterations (max_iter) or scale the data as shown in:\n",
      "    https://scikit-learn.org/stable/modules/preprocessing.html\n",
      "Please also refer to the documentation for alternative solver options:\n",
      "    https://scikit-learn.org/stable/modules/linear_model.html#logistic-regression\n",
      "  n_iter_i = _check_optimize_result(\n"
     ]
    }
   ],
   "source": [
    "%%time\n",
    "counting_score(model_LR, features, target, 'precision')"
   ]
  },
  {
   "cell_type": "markdown",
   "metadata": {},
   "source": [
    "#### Подбор гиперпараметров"
   ]
  },
  {
   "cell_type": "markdown",
   "metadata": {},
   "source": [
    "Для полученных моделей проведем подбор гиперпарметров, чтобы улучшить качество обучения"
   ]
  },
  {
   "cell_type": "markdown",
   "metadata": {},
   "source": [
    "##### Решающее дерево"
   ]
  },
  {
   "cell_type": "code",
   "execution_count": 55,
   "metadata": {},
   "outputs": [],
   "source": [
    "depth_range = np.array(range(1,100,5))\n",
    "tuned_params_DT = {'max_depth' : depth_range}"
   ]
  },
  {
   "cell_type": "code",
   "execution_count": 56,
   "metadata": {},
   "outputs": [],
   "source": [
    "tuned_DT = GridSearchCV(DecisionTreeClassifier(random_state=1, class_weight='balanced'), tuned_params_DT, cv=5, scoring='recall')"
   ]
  },
  {
   "cell_type": "code",
   "execution_count": 57,
   "metadata": {},
   "outputs": [
    {
     "name": "stdout",
     "output_type": "stream",
     "text": [
      "Wall time: 16.3 s\n"
     ]
    },
    {
     "data": {
      "text/plain": [
       "GridSearchCV(cv=5,\n",
       "             estimator=DecisionTreeClassifier(class_weight='balanced',\n",
       "                                              random_state=1),\n",
       "             param_grid={'max_depth': array([ 1,  6, 11, 16, 21, 26, 31, 36, 41, 46, 51, 56, 61, 66, 71, 76, 81,\n",
       "       86, 91, 96])},\n",
       "             scoring='recall')"
      ]
     },
     "execution_count": 57,
     "metadata": {},
     "output_type": "execute_result"
    }
   ],
   "source": [
    "%%time\n",
    "tuned_DT.fit(features, target)"
   ]
  },
  {
   "cell_type": "code",
   "execution_count": 58,
   "metadata": {},
   "outputs": [
    {
     "data": {
      "text/plain": [
       "({'max_depth': 1}, 0.924210579257927)"
      ]
     },
     "execution_count": 58,
     "metadata": {},
     "output_type": "execute_result"
    }
   ],
   "source": [
    "tuned_DT.best_params_, tuned_DT.best_score_"
   ]
  },
  {
   "cell_type": "code",
   "execution_count": 59,
   "metadata": {},
   "outputs": [
    {
     "data": {
      "text/plain": [
       "[<matplotlib.lines.Line2D at 0x2a0687df0d0>]"
      ]
     },
     "execution_count": 59,
     "metadata": {},
     "output_type": "execute_result"
    },
    {
     "data": {
      "image/png": "[encoded data removed]",
      "text/plain": [
       "<Figure size 432x288 with 1 Axes>"
      ]
     },
     "metadata": {
      "needs_background": "light"
     },
     "output_type": "display_data"
    }
   ],
   "source": [
    "plt.plot(depth_range, tuned_DT.cv_results_['mean_test_score'])"
   ]
  },
  {
   "cell_type": "markdown",
   "metadata": {},
   "source": [
    "##### Случайный лес"
   ]
  },
  {
   "cell_type": "code",
   "execution_count": 60,
   "metadata": {},
   "outputs": [],
   "source": [
    "depth_range = np.array(range(1, 11, 2))\n",
    "est_range = np.array(range(1, 11, 2))\n",
    "tuned_params_RF = {'max_depth' : depth_range, \n",
    "                   'n_estimators' : est_range}"
   ]
  },
  {
   "cell_type": "code",
   "execution_count": 61,
   "metadata": {},
   "outputs": [],
   "source": [
    "tuned_RF = GridSearchCV(RandomForestClassifier(random_state=1, class_weight='balanced'), tuned_params_RF, cv=5, scoring='recall')"
   ]
  },
  {
   "cell_type": "code",
   "execution_count": 62,
   "metadata": {},
   "outputs": [
    {
     "name": "stdout",
     "output_type": "stream",
     "text": [
      "Wall time: 8.47 s\n"
     ]
    },
    {
     "data": {
      "text/plain": [
       "GridSearchCV(cv=5,\n",
       "             estimator=RandomForestClassifier(class_weight='balanced',\n",
       "                                              random_state=1),\n",
       "             param_grid={'max_depth': array([1, 3, 5, 7, 9]),\n",
       "                         'n_estimators': array([1, 3, 5, 7, 9])},\n",
       "             scoring='recall')"
      ]
     },
     "execution_count": 62,
     "metadata": {},
     "output_type": "execute_result"
    }
   ],
   "source": [
    "%%time\n",
    "tuned_RF.fit(features, target)"
   ]
  },
  {
   "cell_type": "code",
   "execution_count": 63,
   "metadata": {},
   "outputs": [
    {
     "data": {
      "text/plain": [
       "({'max_depth': 1, 'n_estimators': 9}, 0.7519131223758568)"
      ]
     },
     "execution_count": 63,
     "metadata": {},
     "output_type": "execute_result"
    }
   ],
   "source": [
    "tuned_RF.best_params_, tuned_RF.best_score_"
   ]
  },
  {
   "cell_type": "markdown",
   "metadata": {},
   "source": [
    "##### Логистическая регрессия\n"
   ]
  },
  {
   "cell_type": "code",
   "execution_count": 64,
   "metadata": {},
   "outputs": [],
   "source": [
    "penalty_range = ['l2', 'none']\n",
    "C_range = [1.87, 1.9, 1.93]\n",
    "iter_range = np.array(range(100, 401, 100))\n",
    "tuned_params_LR = {'penalty' : penalty_range,\n",
    "                  'C' : C_range,\n",
    "                  'max_iter' : iter_range}"
   ]
  },
  {
   "cell_type": "code",
   "execution_count": 65,
   "metadata": {},
   "outputs": [],
   "source": [
    "tuned_LR = GridSearchCV(LogisticRegression(random_state=1, C=1.9, class_weight='balanced'), tuned_params_LR, cv=5, scoring='recall')"
   ]
  },
  {
   "cell_type": "code",
   "execution_count": 66,
   "metadata": {
    "scrolled": true
   },
   "outputs": [
    {
     "name": "stderr",
     "output_type": "stream",
     "text": [
      "C:\\Users\\Tim\\anaconda3\\lib\\site-packages\\sklearn\\linear_model\\_logistic.py:763: ConvergenceWarning: lbfgs failed to converge (status=1):\n",
      "STOP: TOTAL NO. of ITERATIONS REACHED LIMIT.\n",
      "\n",
      "Increase the number of iterations (max_iter) or scale the data as shown in:\n",
      "    https://scikit-learn.org/stable/modules/preprocessing.html\n",
      "Please also refer to the documentation for alternative solver options:\n",
      "    https://scikit-learn.org/stable/modules/linear_model.html#logistic-regression\n",
      "  n_iter_i = _check_optimize_result(\n",
      "C:\\Users\\Tim\\anaconda3\\lib\\site-packages\\sklearn\\linear_model\\_logistic.py:763: ConvergenceWarning: lbfgs failed to converge (status=1):\n",
      "STOP: TOTAL NO. of ITERATIONS REACHED LIMIT.\n",
      "\n",
      "Increase the number of iterations (max_iter) or scale the data as shown in:\n",
      "    https://scikit-learn.org/stable/modules/preprocessing.html\n",
      "Please also refer to the documentation for alternative solver options:\n",
      "    https://scikit-learn.org/stable/modules/linear_model.html#logistic-regression\n",
      "  n_iter_i = _check_optimize_result(\n",
      "C:\\Users\\Tim\\anaconda3\\lib\\site-packages\\sklearn\\linear_model\\_logistic.py:763: ConvergenceWarning: lbfgs failed to converge (status=1):\n",
      "STOP: TOTAL NO. of ITERATIONS REACHED LIMIT.\n",
      "\n",
      "Increase the number of iterations (max_iter) or scale the data as shown in:\n",
      "    https://scikit-learn.org/stable/modules/preprocessing.html\n",
      "Please also refer to the documentation for alternative solver options:\n",
      "    https://scikit-learn.org/stable/modules/linear_model.html#logistic-regression\n",
      "  n_iter_i = _check_optimize_result(\n",
      "C:\\Users\\Tim\\anaconda3\\lib\\site-packages\\sklearn\\linear_model\\_logistic.py:763: ConvergenceWarning: lbfgs failed to converge (status=1):\n",
      "STOP: TOTAL NO. of ITERATIONS REACHED LIMIT.\n",
      "\n",
      "Increase the number of iterations (max_iter) or scale the data as shown in:\n",
      "    https://scikit-learn.org/stable/modules/preprocessing.html\n",
      "Please also refer to the documentation for alternative solver options:\n",
      "    https://scikit-learn.org/stable/modules/linear_model.html#logistic-regression\n",
      "  n_iter_i = _check_optimize_result(\n",
      "C:\\Users\\Tim\\anaconda3\\lib\\site-packages\\sklearn\\linear_model\\_logistic.py:763: ConvergenceWarning: lbfgs failed to converge (status=1):\n",
      "STOP: TOTAL NO. of ITERATIONS REACHED LIMIT.\n",
      "\n",
      "Increase the number of iterations (max_iter) or scale the data as shown in:\n",
      "    https://scikit-learn.org/stable/modules/preprocessing.html\n",
      "Please also refer to the documentation for alternative solver options:\n",
      "    https://scikit-learn.org/stable/modules/linear_model.html#logistic-regression\n",
      "  n_iter_i = _check_optimize_result(\n",
      "C:\\Users\\Tim\\anaconda3\\lib\\site-packages\\sklearn\\linear_model\\_logistic.py:1322: UserWarning: Setting penalty='none' will ignore the C and l1_ratio parameters\n",
      "  warnings.warn(\n",
      "C:\\Users\\Tim\\anaconda3\\lib\\site-packages\\sklearn\\linear_model\\_logistic.py:763: ConvergenceWarning: lbfgs failed to converge (status=1):\n",
      "STOP: TOTAL NO. of ITERATIONS REACHED LIMIT.\n",
      "\n",
      "Increase the number of iterations (max_iter) or scale the data as shown in:\n",
      "    https://scikit-learn.org/stable/modules/preprocessing.html\n",
      "Please also refer to the documentation for alternative solver options:\n",
      "    https://scikit-learn.org/stable/modules/linear_model.html#logistic-regression\n",
      "  n_iter_i = _check_optimize_result(\n",
      "C:\\Users\\Tim\\anaconda3\\lib\\site-packages\\sklearn\\linear_model\\_logistic.py:1322: UserWarning: Setting penalty='none' will ignore the C and l1_ratio parameters\n",
      "  warnings.warn(\n",
      "C:\\Users\\Tim\\anaconda3\\lib\\site-packages\\sklearn\\linear_model\\_logistic.py:763: ConvergenceWarning: lbfgs failed to converge (status=1):\n",
      "STOP: TOTAL NO. of ITERATIONS REACHED LIMIT.\n",
      "\n",
      "Increase the number of iterations (max_iter) or scale the data as shown in:\n",
      "    https://scikit-learn.org/stable/modules/preprocessing.html\n",
      "Please also refer to the documentation for alternative solver options:\n",
      "    https://scikit-learn.org/stable/modules/linear_model.html#logistic-regression\n",
      "  n_iter_i = _check_optimize_result(\n",
      "C:\\Users\\Tim\\anaconda3\\lib\\site-packages\\sklearn\\linear_model\\_logistic.py:1322: UserWarning: Setting penalty='none' will ignore the C and l1_ratio parameters\n",
      "  warnings.warn(\n",
      "C:\\Users\\Tim\\anaconda3\\lib\\site-packages\\sklearn\\linear_model\\_logistic.py:763: ConvergenceWarning: lbfgs failed to converge (status=1):\n",
      "STOP: TOTAL NO. of ITERATIONS REACHED LIMIT.\n",
      "\n",
      "Increase the number of iterations (max_iter) or scale the data as shown in:\n",
      "    https://scikit-learn.org/stable/modules/preprocessing.html\n",
      "Please also refer to the documentation for alternative solver options:\n",
      "    https://scikit-learn.org/stable/modules/linear_model.html#logistic-regression\n",
      "  n_iter_i = _check_optimize_result(\n",
      "C:\\Users\\Tim\\anaconda3\\lib\\site-packages\\sklearn\\linear_model\\_logistic.py:1322: UserWarning: Setting penalty='none' will ignore the C and l1_ratio parameters\n",
      "  warnings.warn(\n",
      "C:\\Users\\Tim\\anaconda3\\lib\\site-packages\\sklearn\\linear_model\\_logistic.py:763: ConvergenceWarning: lbfgs failed to converge (status=1):\n",
      "STOP: TOTAL NO. of ITERATIONS REACHED LIMIT.\n",
      "\n",
      "Increase the number of iterations (max_iter) or scale the data as shown in:\n",
      "    https://scikit-learn.org/stable/modules/preprocessing.html\n",
      "Please also refer to the documentation for alternative solver options:\n",
      "    https://scikit-learn.org/stable/modules/linear_model.html#logistic-regression\n",
      "  n_iter_i = _check_optimize_result(\n",
      "C:\\Users\\Tim\\anaconda3\\lib\\site-packages\\sklearn\\linear_model\\_logistic.py:1322: UserWarning: Setting penalty='none' will ignore the C and l1_ratio parameters\n",
      "  warnings.warn(\n",
      "C:\\Users\\Tim\\anaconda3\\lib\\site-packages\\sklearn\\linear_model\\_logistic.py:763: ConvergenceWarning: lbfgs failed to converge (status=1):\n",
      "STOP: TOTAL NO. of ITERATIONS REACHED LIMIT.\n",
      "\n",
      "Increase the number of iterations (max_iter) or scale the data as shown in:\n",
      "    https://scikit-learn.org/stable/modules/preprocessing.html\n",
      "Please also refer to the documentation for alternative solver options:\n",
      "    https://scikit-learn.org/stable/modules/linear_model.html#logistic-regression\n",
      "  n_iter_i = _check_optimize_result(\n",
      "C:\\Users\\Tim\\anaconda3\\lib\\site-packages\\sklearn\\linear_model\\_logistic.py:763: ConvergenceWarning: lbfgs failed to converge (status=1):\n",
      "STOP: TOTAL NO. of ITERATIONS REACHED LIMIT.\n",
      "\n",
      "Increase the number of iterations (max_iter) or scale the data as shown in:\n",
      "    https://scikit-learn.org/stable/modules/preprocessing.html\n",
      "Please also refer to the documentation for alternative solver options:\n",
      "    https://scikit-learn.org/stable/modules/linear_model.html#logistic-regression\n",
      "  n_iter_i = _check_optimize_result(\n",
      "C:\\Users\\Tim\\anaconda3\\lib\\site-packages\\sklearn\\linear_model\\_logistic.py:763: ConvergenceWarning: lbfgs failed to converge (status=1):\n",
      "STOP: TOTAL NO. of ITERATIONS REACHED LIMIT.\n",
      "\n",
      "Increase the number of iterations (max_iter) or scale the data as shown in:\n",
      "    https://scikit-learn.org/stable/modules/preprocessing.html\n",
      "Please also refer to the documentation for alternative solver options:\n",
      "    https://scikit-learn.org/stable/modules/linear_model.html#logistic-regression\n",
      "  n_iter_i = _check_optimize_result(\n",
      "C:\\Users\\Tim\\anaconda3\\lib\\site-packages\\sklearn\\linear_model\\_logistic.py:763: ConvergenceWarning: lbfgs failed to converge (status=1):\n",
      "STOP: TOTAL NO. of ITERATIONS REACHED LIMIT.\n",
      "\n",
      "Increase the number of iterations (max_iter) or scale the data as shown in:\n",
      "    https://scikit-learn.org/stable/modules/preprocessing.html\n",
      "Please also refer to the documentation for alternative solver options:\n",
      "    https://scikit-learn.org/stable/modules/linear_model.html#logistic-regression\n",
      "  n_iter_i = _check_optimize_result(\n",
      "C:\\Users\\Tim\\anaconda3\\lib\\site-packages\\sklearn\\linear_model\\_logistic.py:763: ConvergenceWarning: lbfgs failed to converge (status=1):\n",
      "STOP: TOTAL NO. of ITERATIONS REACHED LIMIT.\n",
      "\n",
      "Increase the number of iterations (max_iter) or scale the data as shown in:\n",
      "    https://scikit-learn.org/stable/modules/preprocessing.html\n",
      "Please also refer to the documentation for alternative solver options:\n",
      "    https://scikit-learn.org/stable/modules/linear_model.html#logistic-regression\n",
      "  n_iter_i = _check_optimize_result(\n",
      "C:\\Users\\Tim\\anaconda3\\lib\\site-packages\\sklearn\\linear_model\\_logistic.py:1322: UserWarning: Setting penalty='none' will ignore the C and l1_ratio parameters\n",
      "  warnings.warn(\n"
     ]
    },
    {
     "name": "stderr",
     "output_type": "stream",
     "text": [
      "C:\\Users\\Tim\\anaconda3\\lib\\site-packages\\sklearn\\linear_model\\_logistic.py:763: ConvergenceWarning: lbfgs failed to converge (status=1):\n",
      "STOP: TOTAL NO. of ITERATIONS REACHED LIMIT.\n",
      "\n",
      "Increase the number of iterations (max_iter) or scale the data as shown in:\n",
      "    https://scikit-learn.org/stable/modules/preprocessing.html\n",
      "Please also refer to the documentation for alternative solver options:\n",
      "    https://scikit-learn.org/stable/modules/linear_model.html#logistic-regression\n",
      "  n_iter_i = _check_optimize_result(\n",
      "C:\\Users\\Tim\\anaconda3\\lib\\site-packages\\sklearn\\linear_model\\_logistic.py:1322: UserWarning: Setting penalty='none' will ignore the C and l1_ratio parameters\n",
      "  warnings.warn(\n",
      "C:\\Users\\Tim\\anaconda3\\lib\\site-packages\\sklearn\\linear_model\\_logistic.py:763: ConvergenceWarning: lbfgs failed to converge (status=1):\n",
      "STOP: TOTAL NO. of ITERATIONS REACHED LIMIT.\n",
      "\n",
      "Increase the number of iterations (max_iter) or scale the data as shown in:\n",
      "    https://scikit-learn.org/stable/modules/preprocessing.html\n",
      "Please also refer to the documentation for alternative solver options:\n",
      "    https://scikit-learn.org/stable/modules/linear_model.html#logistic-regression\n",
      "  n_iter_i = _check_optimize_result(\n",
      "C:\\Users\\Tim\\anaconda3\\lib\\site-packages\\sklearn\\linear_model\\_logistic.py:1322: UserWarning: Setting penalty='none' will ignore the C and l1_ratio parameters\n",
      "  warnings.warn(\n",
      "C:\\Users\\Tim\\anaconda3\\lib\\site-packages\\sklearn\\linear_model\\_logistic.py:763: ConvergenceWarning: lbfgs failed to converge (status=1):\n",
      "STOP: TOTAL NO. of ITERATIONS REACHED LIMIT.\n",
      "\n",
      "Increase the number of iterations (max_iter) or scale the data as shown in:\n",
      "    https://scikit-learn.org/stable/modules/preprocessing.html\n",
      "Please also refer to the documentation for alternative solver options:\n",
      "    https://scikit-learn.org/stable/modules/linear_model.html#logistic-regression\n",
      "  n_iter_i = _check_optimize_result(\n",
      "C:\\Users\\Tim\\anaconda3\\lib\\site-packages\\sklearn\\linear_model\\_logistic.py:1322: UserWarning: Setting penalty='none' will ignore the C and l1_ratio parameters\n",
      "  warnings.warn(\n",
      "C:\\Users\\Tim\\anaconda3\\lib\\site-packages\\sklearn\\linear_model\\_logistic.py:763: ConvergenceWarning: lbfgs failed to converge (status=1):\n",
      "STOP: TOTAL NO. of ITERATIONS REACHED LIMIT.\n",
      "\n",
      "Increase the number of iterations (max_iter) or scale the data as shown in:\n",
      "    https://scikit-learn.org/stable/modules/preprocessing.html\n",
      "Please also refer to the documentation for alternative solver options:\n",
      "    https://scikit-learn.org/stable/modules/linear_model.html#logistic-regression\n",
      "  n_iter_i = _check_optimize_result(\n",
      "C:\\Users\\Tim\\anaconda3\\lib\\site-packages\\sklearn\\linear_model\\_logistic.py:1322: UserWarning: Setting penalty='none' will ignore the C and l1_ratio parameters\n",
      "  warnings.warn(\n",
      "C:\\Users\\Tim\\anaconda3\\lib\\site-packages\\sklearn\\linear_model\\_logistic.py:763: ConvergenceWarning: lbfgs failed to converge (status=1):\n",
      "STOP: TOTAL NO. of ITERATIONS REACHED LIMIT.\n",
      "\n",
      "Increase the number of iterations (max_iter) or scale the data as shown in:\n",
      "    https://scikit-learn.org/stable/modules/preprocessing.html\n",
      "Please also refer to the documentation for alternative solver options:\n",
      "    https://scikit-learn.org/stable/modules/linear_model.html#logistic-regression\n",
      "  n_iter_i = _check_optimize_result(\n",
      "C:\\Users\\Tim\\anaconda3\\lib\\site-packages\\sklearn\\linear_model\\_logistic.py:1322: UserWarning: Setting penalty='none' will ignore the C and l1_ratio parameters\n",
      "  warnings.warn(\n",
      "C:\\Users\\Tim\\anaconda3\\lib\\site-packages\\sklearn\\linear_model\\_logistic.py:763: ConvergenceWarning: lbfgs failed to converge (status=1):\n",
      "STOP: TOTAL NO. of ITERATIONS REACHED LIMIT.\n",
      "\n",
      "Increase the number of iterations (max_iter) or scale the data as shown in:\n",
      "    https://scikit-learn.org/stable/modules/preprocessing.html\n",
      "Please also refer to the documentation for alternative solver options:\n",
      "    https://scikit-learn.org/stable/modules/linear_model.html#logistic-regression\n",
      "  n_iter_i = _check_optimize_result(\n",
      "C:\\Users\\Tim\\anaconda3\\lib\\site-packages\\sklearn\\linear_model\\_logistic.py:1322: UserWarning: Setting penalty='none' will ignore the C and l1_ratio parameters\n",
      "  warnings.warn(\n",
      "C:\\Users\\Tim\\anaconda3\\lib\\site-packages\\sklearn\\linear_model\\_logistic.py:763: ConvergenceWarning: lbfgs failed to converge (status=1):\n",
      "STOP: TOTAL NO. of ITERATIONS REACHED LIMIT.\n",
      "\n",
      "Increase the number of iterations (max_iter) or scale the data as shown in:\n",
      "    https://scikit-learn.org/stable/modules/preprocessing.html\n",
      "Please also refer to the documentation for alternative solver options:\n",
      "    https://scikit-learn.org/stable/modules/linear_model.html#logistic-regression\n",
      "  n_iter_i = _check_optimize_result(\n",
      "C:\\Users\\Tim\\anaconda3\\lib\\site-packages\\sklearn\\linear_model\\_logistic.py:1322: UserWarning: Setting penalty='none' will ignore the C and l1_ratio parameters\n",
      "  warnings.warn(\n",
      "C:\\Users\\Tim\\anaconda3\\lib\\site-packages\\sklearn\\linear_model\\_logistic.py:763: ConvergenceWarning: lbfgs failed to converge (status=1):\n",
      "STOP: TOTAL NO. of ITERATIONS REACHED LIMIT.\n",
      "\n",
      "Increase the number of iterations (max_iter) or scale the data as shown in:\n",
      "    https://scikit-learn.org/stable/modules/preprocessing.html\n",
      "Please also refer to the documentation for alternative solver options:\n",
      "    https://scikit-learn.org/stable/modules/linear_model.html#logistic-regression\n",
      "  n_iter_i = _check_optimize_result(\n",
      "C:\\Users\\Tim\\anaconda3\\lib\\site-packages\\sklearn\\linear_model\\_logistic.py:1322: UserWarning: Setting penalty='none' will ignore the C and l1_ratio parameters\n",
      "  warnings.warn(\n",
      "C:\\Users\\Tim\\anaconda3\\lib\\site-packages\\sklearn\\linear_model\\_logistic.py:763: ConvergenceWarning: lbfgs failed to converge (status=1):\n",
      "STOP: TOTAL NO. of ITERATIONS REACHED LIMIT.\n",
      "\n",
      "Increase the number of iterations (max_iter) or scale the data as shown in:\n",
      "    https://scikit-learn.org/stable/modules/preprocessing.html\n",
      "Please also refer to the documentation for alternative solver options:\n",
      "    https://scikit-learn.org/stable/modules/linear_model.html#logistic-regression\n",
      "  n_iter_i = _check_optimize_result(\n",
      "C:\\Users\\Tim\\anaconda3\\lib\\site-packages\\sklearn\\linear_model\\_logistic.py:1322: UserWarning: Setting penalty='none' will ignore the C and l1_ratio parameters\n",
      "  warnings.warn(\n",
      "C:\\Users\\Tim\\anaconda3\\lib\\site-packages\\sklearn\\linear_model\\_logistic.py:763: ConvergenceWarning: lbfgs failed to converge (status=1):\n",
      "STOP: TOTAL NO. of ITERATIONS REACHED LIMIT.\n",
      "\n",
      "Increase the number of iterations (max_iter) or scale the data as shown in:\n",
      "    https://scikit-learn.org/stable/modules/preprocessing.html\n",
      "Please also refer to the documentation for alternative solver options:\n",
      "    https://scikit-learn.org/stable/modules/linear_model.html#logistic-regression\n",
      "  n_iter_i = _check_optimize_result(\n",
      "C:\\Users\\Tim\\anaconda3\\lib\\site-packages\\sklearn\\linear_model\\_logistic.py:1322: UserWarning: Setting penalty='none' will ignore the C and l1_ratio parameters\n",
      "  warnings.warn(\n",
      "C:\\Users\\Tim\\anaconda3\\lib\\site-packages\\sklearn\\linear_model\\_logistic.py:763: ConvergenceWarning: lbfgs failed to converge (status=1):\n",
      "STOP: TOTAL NO. of ITERATIONS REACHED LIMIT.\n",
      "\n",
      "Increase the number of iterations (max_iter) or scale the data as shown in:\n",
      "    https://scikit-learn.org/stable/modules/preprocessing.html\n",
      "Please also refer to the documentation for alternative solver options:\n",
      "    https://scikit-learn.org/stable/modules/linear_model.html#logistic-regression\n",
      "  n_iter_i = _check_optimize_result(\n",
      "C:\\Users\\Tim\\anaconda3\\lib\\site-packages\\sklearn\\linear_model\\_logistic.py:1322: UserWarning: Setting penalty='none' will ignore the C and l1_ratio parameters\n",
      "  warnings.warn(\n",
      "C:\\Users\\Tim\\anaconda3\\lib\\site-packages\\sklearn\\linear_model\\_logistic.py:763: ConvergenceWarning: lbfgs failed to converge (status=1):\n",
      "STOP: TOTAL NO. of ITERATIONS REACHED LIMIT.\n",
      "\n",
      "Increase the number of iterations (max_iter) or scale the data as shown in:\n",
      "    https://scikit-learn.org/stable/modules/preprocessing.html\n",
      "Please also refer to the documentation for alternative solver options:\n",
      "    https://scikit-learn.org/stable/modules/linear_model.html#logistic-regression\n",
      "  n_iter_i = _check_optimize_result(\n",
      "C:\\Users\\Tim\\anaconda3\\lib\\site-packages\\sklearn\\linear_model\\_logistic.py:1322: UserWarning: Setting penalty='none' will ignore the C and l1_ratio parameters\n",
      "  warnings.warn(\n"
     ]
    },
    {
     "name": "stderr",
     "output_type": "stream",
     "text": [
      "C:\\Users\\Tim\\anaconda3\\lib\\site-packages\\sklearn\\linear_model\\_logistic.py:1322: UserWarning: Setting penalty='none' will ignore the C and l1_ratio parameters\n",
      "  warnings.warn(\n",
      "C:\\Users\\Tim\\anaconda3\\lib\\site-packages\\sklearn\\linear_model\\_logistic.py:763: ConvergenceWarning: lbfgs failed to converge (status=1):\n",
      "STOP: TOTAL NO. of ITERATIONS REACHED LIMIT.\n",
      "\n",
      "Increase the number of iterations (max_iter) or scale the data as shown in:\n",
      "    https://scikit-learn.org/stable/modules/preprocessing.html\n",
      "Please also refer to the documentation for alternative solver options:\n",
      "    https://scikit-learn.org/stable/modules/linear_model.html#logistic-regression\n",
      "  n_iter_i = _check_optimize_result(\n",
      "C:\\Users\\Tim\\anaconda3\\lib\\site-packages\\sklearn\\linear_model\\_logistic.py:1322: UserWarning: Setting penalty='none' will ignore the C and l1_ratio parameters\n",
      "  warnings.warn(\n",
      "C:\\Users\\Tim\\anaconda3\\lib\\site-packages\\sklearn\\linear_model\\_logistic.py:763: ConvergenceWarning: lbfgs failed to converge (status=1):\n",
      "STOP: TOTAL NO. of ITERATIONS REACHED LIMIT.\n",
      "\n",
      "Increase the number of iterations (max_iter) or scale the data as shown in:\n",
      "    https://scikit-learn.org/stable/modules/preprocessing.html\n",
      "Please also refer to the documentation for alternative solver options:\n",
      "    https://scikit-learn.org/stable/modules/linear_model.html#logistic-regression\n",
      "  n_iter_i = _check_optimize_result(\n",
      "C:\\Users\\Tim\\anaconda3\\lib\\site-packages\\sklearn\\linear_model\\_logistic.py:763: ConvergenceWarning: lbfgs failed to converge (status=1):\n",
      "STOP: TOTAL NO. of ITERATIONS REACHED LIMIT.\n",
      "\n",
      "Increase the number of iterations (max_iter) or scale the data as shown in:\n",
      "    https://scikit-learn.org/stable/modules/preprocessing.html\n",
      "Please also refer to the documentation for alternative solver options:\n",
      "    https://scikit-learn.org/stable/modules/linear_model.html#logistic-regression\n",
      "  n_iter_i = _check_optimize_result(\n",
      "C:\\Users\\Tim\\anaconda3\\lib\\site-packages\\sklearn\\linear_model\\_logistic.py:763: ConvergenceWarning: lbfgs failed to converge (status=1):\n",
      "STOP: TOTAL NO. of ITERATIONS REACHED LIMIT.\n",
      "\n",
      "Increase the number of iterations (max_iter) or scale the data as shown in:\n",
      "    https://scikit-learn.org/stable/modules/preprocessing.html\n",
      "Please also refer to the documentation for alternative solver options:\n",
      "    https://scikit-learn.org/stable/modules/linear_model.html#logistic-regression\n",
      "  n_iter_i = _check_optimize_result(\n",
      "C:\\Users\\Tim\\anaconda3\\lib\\site-packages\\sklearn\\linear_model\\_logistic.py:763: ConvergenceWarning: lbfgs failed to converge (status=1):\n",
      "STOP: TOTAL NO. of ITERATIONS REACHED LIMIT.\n",
      "\n",
      "Increase the number of iterations (max_iter) or scale the data as shown in:\n",
      "    https://scikit-learn.org/stable/modules/preprocessing.html\n",
      "Please also refer to the documentation for alternative solver options:\n",
      "    https://scikit-learn.org/stable/modules/linear_model.html#logistic-regression\n",
      "  n_iter_i = _check_optimize_result(\n",
      "C:\\Users\\Tim\\anaconda3\\lib\\site-packages\\sklearn\\linear_model\\_logistic.py:763: ConvergenceWarning: lbfgs failed to converge (status=1):\n",
      "STOP: TOTAL NO. of ITERATIONS REACHED LIMIT.\n",
      "\n",
      "Increase the number of iterations (max_iter) or scale the data as shown in:\n",
      "    https://scikit-learn.org/stable/modules/preprocessing.html\n",
      "Please also refer to the documentation for alternative solver options:\n",
      "    https://scikit-learn.org/stable/modules/linear_model.html#logistic-regression\n",
      "  n_iter_i = _check_optimize_result(\n",
      "C:\\Users\\Tim\\anaconda3\\lib\\site-packages\\sklearn\\linear_model\\_logistic.py:763: ConvergenceWarning: lbfgs failed to converge (status=1):\n",
      "STOP: TOTAL NO. of ITERATIONS REACHED LIMIT.\n",
      "\n",
      "Increase the number of iterations (max_iter) or scale the data as shown in:\n",
      "    https://scikit-learn.org/stable/modules/preprocessing.html\n",
      "Please also refer to the documentation for alternative solver options:\n",
      "    https://scikit-learn.org/stable/modules/linear_model.html#logistic-regression\n",
      "  n_iter_i = _check_optimize_result(\n",
      "C:\\Users\\Tim\\anaconda3\\lib\\site-packages\\sklearn\\linear_model\\_logistic.py:1322: UserWarning: Setting penalty='none' will ignore the C and l1_ratio parameters\n",
      "  warnings.warn(\n",
      "C:\\Users\\Tim\\anaconda3\\lib\\site-packages\\sklearn\\linear_model\\_logistic.py:763: ConvergenceWarning: lbfgs failed to converge (status=1):\n",
      "STOP: TOTAL NO. of ITERATIONS REACHED LIMIT.\n",
      "\n",
      "Increase the number of iterations (max_iter) or scale the data as shown in:\n",
      "    https://scikit-learn.org/stable/modules/preprocessing.html\n",
      "Please also refer to the documentation for alternative solver options:\n",
      "    https://scikit-learn.org/stable/modules/linear_model.html#logistic-regression\n",
      "  n_iter_i = _check_optimize_result(\n",
      "C:\\Users\\Tim\\anaconda3\\lib\\site-packages\\sklearn\\linear_model\\_logistic.py:1322: UserWarning: Setting penalty='none' will ignore the C and l1_ratio parameters\n",
      "  warnings.warn(\n",
      "C:\\Users\\Tim\\anaconda3\\lib\\site-packages\\sklearn\\linear_model\\_logistic.py:763: ConvergenceWarning: lbfgs failed to converge (status=1):\n",
      "STOP: TOTAL NO. of ITERATIONS REACHED LIMIT.\n",
      "\n",
      "Increase the number of iterations (max_iter) or scale the data as shown in:\n",
      "    https://scikit-learn.org/stable/modules/preprocessing.html\n",
      "Please also refer to the documentation for alternative solver options:\n",
      "    https://scikit-learn.org/stable/modules/linear_model.html#logistic-regression\n",
      "  n_iter_i = _check_optimize_result(\n",
      "C:\\Users\\Tim\\anaconda3\\lib\\site-packages\\sklearn\\linear_model\\_logistic.py:1322: UserWarning: Setting penalty='none' will ignore the C and l1_ratio parameters\n",
      "  warnings.warn(\n",
      "C:\\Users\\Tim\\anaconda3\\lib\\site-packages\\sklearn\\linear_model\\_logistic.py:763: ConvergenceWarning: lbfgs failed to converge (status=1):\n",
      "STOP: TOTAL NO. of ITERATIONS REACHED LIMIT.\n",
      "\n",
      "Increase the number of iterations (max_iter) or scale the data as shown in:\n",
      "    https://scikit-learn.org/stable/modules/preprocessing.html\n",
      "Please also refer to the documentation for alternative solver options:\n",
      "    https://scikit-learn.org/stable/modules/linear_model.html#logistic-regression\n",
      "  n_iter_i = _check_optimize_result(\n",
      "C:\\Users\\Tim\\anaconda3\\lib\\site-packages\\sklearn\\linear_model\\_logistic.py:1322: UserWarning: Setting penalty='none' will ignore the C and l1_ratio parameters\n",
      "  warnings.warn(\n",
      "C:\\Users\\Tim\\anaconda3\\lib\\site-packages\\sklearn\\linear_model\\_logistic.py:763: ConvergenceWarning: lbfgs failed to converge (status=1):\n",
      "STOP: TOTAL NO. of ITERATIONS REACHED LIMIT.\n",
      "\n",
      "Increase the number of iterations (max_iter) or scale the data as shown in:\n",
      "    https://scikit-learn.org/stable/modules/preprocessing.html\n",
      "Please also refer to the documentation for alternative solver options:\n",
      "    https://scikit-learn.org/stable/modules/linear_model.html#logistic-regression\n",
      "  n_iter_i = _check_optimize_result(\n",
      "C:\\Users\\Tim\\anaconda3\\lib\\site-packages\\sklearn\\linear_model\\_logistic.py:1322: UserWarning: Setting penalty='none' will ignore the C and l1_ratio parameters\n",
      "  warnings.warn(\n",
      "C:\\Users\\Tim\\anaconda3\\lib\\site-packages\\sklearn\\linear_model\\_logistic.py:763: ConvergenceWarning: lbfgs failed to converge (status=1):\n",
      "STOP: TOTAL NO. of ITERATIONS REACHED LIMIT.\n",
      "\n",
      "Increase the number of iterations (max_iter) or scale the data as shown in:\n",
      "    https://scikit-learn.org/stable/modules/preprocessing.html\n",
      "Please also refer to the documentation for alternative solver options:\n",
      "    https://scikit-learn.org/stable/modules/linear_model.html#logistic-regression\n",
      "  n_iter_i = _check_optimize_result(\n",
      "C:\\Users\\Tim\\anaconda3\\lib\\site-packages\\sklearn\\linear_model\\_logistic.py:763: ConvergenceWarning: lbfgs failed to converge (status=1):\n",
      "STOP: TOTAL NO. of ITERATIONS REACHED LIMIT.\n",
      "\n",
      "Increase the number of iterations (max_iter) or scale the data as shown in:\n",
      "    https://scikit-learn.org/stable/modules/preprocessing.html\n",
      "Please also refer to the documentation for alternative solver options:\n",
      "    https://scikit-learn.org/stable/modules/linear_model.html#logistic-regression\n",
      "  n_iter_i = _check_optimize_result(\n",
      "C:\\Users\\Tim\\anaconda3\\lib\\site-packages\\sklearn\\linear_model\\_logistic.py:763: ConvergenceWarning: lbfgs failed to converge (status=1):\n",
      "STOP: TOTAL NO. of ITERATIONS REACHED LIMIT.\n",
      "\n",
      "Increase the number of iterations (max_iter) or scale the data as shown in:\n",
      "    https://scikit-learn.org/stable/modules/preprocessing.html\n",
      "Please also refer to the documentation for alternative solver options:\n",
      "    https://scikit-learn.org/stable/modules/linear_model.html#logistic-regression\n",
      "  n_iter_i = _check_optimize_result(\n"
     ]
    },
    {
     "name": "stderr",
     "output_type": "stream",
     "text": [
      "C:\\Users\\Tim\\anaconda3\\lib\\site-packages\\sklearn\\linear_model\\_logistic.py:763: ConvergenceWarning: lbfgs failed to converge (status=1):\n",
      "STOP: TOTAL NO. of ITERATIONS REACHED LIMIT.\n",
      "\n",
      "Increase the number of iterations (max_iter) or scale the data as shown in:\n",
      "    https://scikit-learn.org/stable/modules/preprocessing.html\n",
      "Please also refer to the documentation for alternative solver options:\n",
      "    https://scikit-learn.org/stable/modules/linear_model.html#logistic-regression\n",
      "  n_iter_i = _check_optimize_result(\n",
      "C:\\Users\\Tim\\anaconda3\\lib\\site-packages\\sklearn\\linear_model\\_logistic.py:763: ConvergenceWarning: lbfgs failed to converge (status=1):\n",
      "STOP: TOTAL NO. of ITERATIONS REACHED LIMIT.\n",
      "\n",
      "Increase the number of iterations (max_iter) or scale the data as shown in:\n",
      "    https://scikit-learn.org/stable/modules/preprocessing.html\n",
      "Please also refer to the documentation for alternative solver options:\n",
      "    https://scikit-learn.org/stable/modules/linear_model.html#logistic-regression\n",
      "  n_iter_i = _check_optimize_result(\n",
      "C:\\Users\\Tim\\anaconda3\\lib\\site-packages\\sklearn\\linear_model\\_logistic.py:1322: UserWarning: Setting penalty='none' will ignore the C and l1_ratio parameters\n",
      "  warnings.warn(\n",
      "C:\\Users\\Tim\\anaconda3\\lib\\site-packages\\sklearn\\linear_model\\_logistic.py:763: ConvergenceWarning: lbfgs failed to converge (status=1):\n",
      "STOP: TOTAL NO. of ITERATIONS REACHED LIMIT.\n",
      "\n",
      "Increase the number of iterations (max_iter) or scale the data as shown in:\n",
      "    https://scikit-learn.org/stable/modules/preprocessing.html\n",
      "Please also refer to the documentation for alternative solver options:\n",
      "    https://scikit-learn.org/stable/modules/linear_model.html#logistic-regression\n",
      "  n_iter_i = _check_optimize_result(\n",
      "C:\\Users\\Tim\\anaconda3\\lib\\site-packages\\sklearn\\linear_model\\_logistic.py:1322: UserWarning: Setting penalty='none' will ignore the C and l1_ratio parameters\n",
      "  warnings.warn(\n",
      "C:\\Users\\Tim\\anaconda3\\lib\\site-packages\\sklearn\\linear_model\\_logistic.py:763: ConvergenceWarning: lbfgs failed to converge (status=1):\n",
      "STOP: TOTAL NO. of ITERATIONS REACHED LIMIT.\n",
      "\n",
      "Increase the number of iterations (max_iter) or scale the data as shown in:\n",
      "    https://scikit-learn.org/stable/modules/preprocessing.html\n",
      "Please also refer to the documentation for alternative solver options:\n",
      "    https://scikit-learn.org/stable/modules/linear_model.html#logistic-regression\n",
      "  n_iter_i = _check_optimize_result(\n",
      "C:\\Users\\Tim\\anaconda3\\lib\\site-packages\\sklearn\\linear_model\\_logistic.py:1322: UserWarning: Setting penalty='none' will ignore the C and l1_ratio parameters\n",
      "  warnings.warn(\n",
      "C:\\Users\\Tim\\anaconda3\\lib\\site-packages\\sklearn\\linear_model\\_logistic.py:763: ConvergenceWarning: lbfgs failed to converge (status=1):\n",
      "STOP: TOTAL NO. of ITERATIONS REACHED LIMIT.\n",
      "\n",
      "Increase the number of iterations (max_iter) or scale the data as shown in:\n",
      "    https://scikit-learn.org/stable/modules/preprocessing.html\n",
      "Please also refer to the documentation for alternative solver options:\n",
      "    https://scikit-learn.org/stable/modules/linear_model.html#logistic-regression\n",
      "  n_iter_i = _check_optimize_result(\n",
      "C:\\Users\\Tim\\anaconda3\\lib\\site-packages\\sklearn\\linear_model\\_logistic.py:1322: UserWarning: Setting penalty='none' will ignore the C and l1_ratio parameters\n",
      "  warnings.warn(\n",
      "C:\\Users\\Tim\\anaconda3\\lib\\site-packages\\sklearn\\linear_model\\_logistic.py:763: ConvergenceWarning: lbfgs failed to converge (status=1):\n",
      "STOP: TOTAL NO. of ITERATIONS REACHED LIMIT.\n",
      "\n",
      "Increase the number of iterations (max_iter) or scale the data as shown in:\n",
      "    https://scikit-learn.org/stable/modules/preprocessing.html\n",
      "Please also refer to the documentation for alternative solver options:\n",
      "    https://scikit-learn.org/stable/modules/linear_model.html#logistic-regression\n",
      "  n_iter_i = _check_optimize_result(\n",
      "C:\\Users\\Tim\\anaconda3\\lib\\site-packages\\sklearn\\linear_model\\_logistic.py:1322: UserWarning: Setting penalty='none' will ignore the C and l1_ratio parameters\n",
      "  warnings.warn(\n",
      "C:\\Users\\Tim\\anaconda3\\lib\\site-packages\\sklearn\\linear_model\\_logistic.py:763: ConvergenceWarning: lbfgs failed to converge (status=1):\n",
      "STOP: TOTAL NO. of ITERATIONS REACHED LIMIT.\n",
      "\n",
      "Increase the number of iterations (max_iter) or scale the data as shown in:\n",
      "    https://scikit-learn.org/stable/modules/preprocessing.html\n",
      "Please also refer to the documentation for alternative solver options:\n",
      "    https://scikit-learn.org/stable/modules/linear_model.html#logistic-regression\n",
      "  n_iter_i = _check_optimize_result(\n",
      "C:\\Users\\Tim\\anaconda3\\lib\\site-packages\\sklearn\\linear_model\\_logistic.py:1322: UserWarning: Setting penalty='none' will ignore the C and l1_ratio parameters\n",
      "  warnings.warn(\n",
      "C:\\Users\\Tim\\anaconda3\\lib\\site-packages\\sklearn\\linear_model\\_logistic.py:763: ConvergenceWarning: lbfgs failed to converge (status=1):\n",
      "STOP: TOTAL NO. of ITERATIONS REACHED LIMIT.\n",
      "\n",
      "Increase the number of iterations (max_iter) or scale the data as shown in:\n",
      "    https://scikit-learn.org/stable/modules/preprocessing.html\n",
      "Please also refer to the documentation for alternative solver options:\n",
      "    https://scikit-learn.org/stable/modules/linear_model.html#logistic-regression\n",
      "  n_iter_i = _check_optimize_result(\n",
      "C:\\Users\\Tim\\anaconda3\\lib\\site-packages\\sklearn\\linear_model\\_logistic.py:1322: UserWarning: Setting penalty='none' will ignore the C and l1_ratio parameters\n",
      "  warnings.warn(\n",
      "C:\\Users\\Tim\\anaconda3\\lib\\site-packages\\sklearn\\linear_model\\_logistic.py:763: ConvergenceWarning: lbfgs failed to converge (status=1):\n",
      "STOP: TOTAL NO. of ITERATIONS REACHED LIMIT.\n",
      "\n",
      "Increase the number of iterations (max_iter) or scale the data as shown in:\n",
      "    https://scikit-learn.org/stable/modules/preprocessing.html\n",
      "Please also refer to the documentation for alternative solver options:\n",
      "    https://scikit-learn.org/stable/modules/linear_model.html#logistic-regression\n",
      "  n_iter_i = _check_optimize_result(\n",
      "C:\\Users\\Tim\\anaconda3\\lib\\site-packages\\sklearn\\linear_model\\_logistic.py:1322: UserWarning: Setting penalty='none' will ignore the C and l1_ratio parameters\n",
      "  warnings.warn(\n",
      "C:\\Users\\Tim\\anaconda3\\lib\\site-packages\\sklearn\\linear_model\\_logistic.py:763: ConvergenceWarning: lbfgs failed to converge (status=1):\n",
      "STOP: TOTAL NO. of ITERATIONS REACHED LIMIT.\n",
      "\n",
      "Increase the number of iterations (max_iter) or scale the data as shown in:\n",
      "    https://scikit-learn.org/stable/modules/preprocessing.html\n",
      "Please also refer to the documentation for alternative solver options:\n",
      "    https://scikit-learn.org/stable/modules/linear_model.html#logistic-regression\n",
      "  n_iter_i = _check_optimize_result(\n",
      "C:\\Users\\Tim\\anaconda3\\lib\\site-packages\\sklearn\\linear_model\\_logistic.py:1322: UserWarning: Setting penalty='none' will ignore the C and l1_ratio parameters\n",
      "  warnings.warn(\n",
      "C:\\Users\\Tim\\anaconda3\\lib\\site-packages\\sklearn\\linear_model\\_logistic.py:763: ConvergenceWarning: lbfgs failed to converge (status=1):\n",
      "STOP: TOTAL NO. of ITERATIONS REACHED LIMIT.\n",
      "\n",
      "Increase the number of iterations (max_iter) or scale the data as shown in:\n",
      "    https://scikit-learn.org/stable/modules/preprocessing.html\n",
      "Please also refer to the documentation for alternative solver options:\n",
      "    https://scikit-learn.org/stable/modules/linear_model.html#logistic-regression\n",
      "  n_iter_i = _check_optimize_result(\n",
      "C:\\Users\\Tim\\anaconda3\\lib\\site-packages\\sklearn\\linear_model\\_logistic.py:1322: UserWarning: Setting penalty='none' will ignore the C and l1_ratio parameters\n",
      "  warnings.warn(\n",
      "C:\\Users\\Tim\\anaconda3\\lib\\site-packages\\sklearn\\linear_model\\_logistic.py:763: ConvergenceWarning: lbfgs failed to converge (status=1):\n",
      "STOP: TOTAL NO. of ITERATIONS REACHED LIMIT.\n",
      "\n",
      "Increase the number of iterations (max_iter) or scale the data as shown in:\n",
      "    https://scikit-learn.org/stable/modules/preprocessing.html\n",
      "Please also refer to the documentation for alternative solver options:\n",
      "    https://scikit-learn.org/stable/modules/linear_model.html#logistic-regression\n",
      "  n_iter_i = _check_optimize_result(\n",
      "C:\\Users\\Tim\\anaconda3\\lib\\site-packages\\sklearn\\linear_model\\_logistic.py:1322: UserWarning: Setting penalty='none' will ignore the C and l1_ratio parameters\n",
      "  warnings.warn(\n",
      "C:\\Users\\Tim\\anaconda3\\lib\\site-packages\\sklearn\\linear_model\\_logistic.py:763: ConvergenceWarning: lbfgs failed to converge (status=1):\n",
      "STOP: TOTAL NO. of ITERATIONS REACHED LIMIT.\n",
      "\n",
      "Increase the number of iterations (max_iter) or scale the data as shown in:\n",
      "    https://scikit-learn.org/stable/modules/preprocessing.html\n",
      "Please also refer to the documentation for alternative solver options:\n",
      "    https://scikit-learn.org/stable/modules/linear_model.html#logistic-regression\n",
      "  n_iter_i = _check_optimize_result(\n",
      "C:\\Users\\Tim\\anaconda3\\lib\\site-packages\\sklearn\\linear_model\\_logistic.py:1322: UserWarning: Setting penalty='none' will ignore the C and l1_ratio parameters\n",
      "  warnings.warn(\n"
     ]
    },
    {
     "name": "stderr",
     "output_type": "stream",
     "text": [
      "C:\\Users\\Tim\\anaconda3\\lib\\site-packages\\sklearn\\linear_model\\_logistic.py:763: ConvergenceWarning: lbfgs failed to converge (status=1):\n",
      "STOP: TOTAL NO. of ITERATIONS REACHED LIMIT.\n",
      "\n",
      "Increase the number of iterations (max_iter) or scale the data as shown in:\n",
      "    https://scikit-learn.org/stable/modules/preprocessing.html\n",
      "Please also refer to the documentation for alternative solver options:\n",
      "    https://scikit-learn.org/stable/modules/linear_model.html#logistic-regression\n",
      "  n_iter_i = _check_optimize_result(\n",
      "C:\\Users\\Tim\\anaconda3\\lib\\site-packages\\sklearn\\linear_model\\_logistic.py:1322: UserWarning: Setting penalty='none' will ignore the C and l1_ratio parameters\n",
      "  warnings.warn(\n",
      "C:\\Users\\Tim\\anaconda3\\lib\\site-packages\\sklearn\\linear_model\\_logistic.py:1322: UserWarning: Setting penalty='none' will ignore the C and l1_ratio parameters\n",
      "  warnings.warn(\n",
      "C:\\Users\\Tim\\anaconda3\\lib\\site-packages\\sklearn\\linear_model\\_logistic.py:763: ConvergenceWarning: lbfgs failed to converge (status=1):\n",
      "STOP: TOTAL NO. of ITERATIONS REACHED LIMIT.\n",
      "\n",
      "Increase the number of iterations (max_iter) or scale the data as shown in:\n",
      "    https://scikit-learn.org/stable/modules/preprocessing.html\n",
      "Please also refer to the documentation for alternative solver options:\n",
      "    https://scikit-learn.org/stable/modules/linear_model.html#logistic-regression\n",
      "  n_iter_i = _check_optimize_result(\n",
      "C:\\Users\\Tim\\anaconda3\\lib\\site-packages\\sklearn\\linear_model\\_logistic.py:1322: UserWarning: Setting penalty='none' will ignore the C and l1_ratio parameters\n",
      "  warnings.warn(\n",
      "C:\\Users\\Tim\\anaconda3\\lib\\site-packages\\sklearn\\linear_model\\_logistic.py:763: ConvergenceWarning: lbfgs failed to converge (status=1):\n",
      "STOP: TOTAL NO. of ITERATIONS REACHED LIMIT.\n",
      "\n",
      "Increase the number of iterations (max_iter) or scale the data as shown in:\n",
      "    https://scikit-learn.org/stable/modules/preprocessing.html\n",
      "Please also refer to the documentation for alternative solver options:\n",
      "    https://scikit-learn.org/stable/modules/linear_model.html#logistic-regression\n",
      "  n_iter_i = _check_optimize_result(\n",
      "C:\\Users\\Tim\\anaconda3\\lib\\site-packages\\sklearn\\linear_model\\_logistic.py:763: ConvergenceWarning: lbfgs failed to converge (status=1):\n",
      "STOP: TOTAL NO. of ITERATIONS REACHED LIMIT.\n",
      "\n",
      "Increase the number of iterations (max_iter) or scale the data as shown in:\n",
      "    https://scikit-learn.org/stable/modules/preprocessing.html\n",
      "Please also refer to the documentation for alternative solver options:\n",
      "    https://scikit-learn.org/stable/modules/linear_model.html#logistic-regression\n",
      "  n_iter_i = _check_optimize_result(\n",
      "C:\\Users\\Tim\\anaconda3\\lib\\site-packages\\sklearn\\linear_model\\_logistic.py:763: ConvergenceWarning: lbfgs failed to converge (status=1):\n",
      "STOP: TOTAL NO. of ITERATIONS REACHED LIMIT.\n",
      "\n",
      "Increase the number of iterations (max_iter) or scale the data as shown in:\n",
      "    https://scikit-learn.org/stable/modules/preprocessing.html\n",
      "Please also refer to the documentation for alternative solver options:\n",
      "    https://scikit-learn.org/stable/modules/linear_model.html#logistic-regression\n",
      "  n_iter_i = _check_optimize_result(\n",
      "C:\\Users\\Tim\\anaconda3\\lib\\site-packages\\sklearn\\linear_model\\_logistic.py:763: ConvergenceWarning: lbfgs failed to converge (status=1):\n",
      "STOP: TOTAL NO. of ITERATIONS REACHED LIMIT.\n",
      "\n",
      "Increase the number of iterations (max_iter) or scale the data as shown in:\n",
      "    https://scikit-learn.org/stable/modules/preprocessing.html\n",
      "Please also refer to the documentation for alternative solver options:\n",
      "    https://scikit-learn.org/stable/modules/linear_model.html#logistic-regression\n",
      "  n_iter_i = _check_optimize_result(\n",
      "C:\\Users\\Tim\\anaconda3\\lib\\site-packages\\sklearn\\linear_model\\_logistic.py:763: ConvergenceWarning: lbfgs failed to converge (status=1):\n",
      "STOP: TOTAL NO. of ITERATIONS REACHED LIMIT.\n",
      "\n",
      "Increase the number of iterations (max_iter) or scale the data as shown in:\n",
      "    https://scikit-learn.org/stable/modules/preprocessing.html\n",
      "Please also refer to the documentation for alternative solver options:\n",
      "    https://scikit-learn.org/stable/modules/linear_model.html#logistic-regression\n",
      "  n_iter_i = _check_optimize_result(\n",
      "C:\\Users\\Tim\\anaconda3\\lib\\site-packages\\sklearn\\linear_model\\_logistic.py:763: ConvergenceWarning: lbfgs failed to converge (status=1):\n",
      "STOP: TOTAL NO. of ITERATIONS REACHED LIMIT.\n",
      "\n",
      "Increase the number of iterations (max_iter) or scale the data as shown in:\n",
      "    https://scikit-learn.org/stable/modules/preprocessing.html\n",
      "Please also refer to the documentation for alternative solver options:\n",
      "    https://scikit-learn.org/stable/modules/linear_model.html#logistic-regression\n",
      "  n_iter_i = _check_optimize_result(\n",
      "C:\\Users\\Tim\\anaconda3\\lib\\site-packages\\sklearn\\linear_model\\_logistic.py:1322: UserWarning: Setting penalty='none' will ignore the C and l1_ratio parameters\n",
      "  warnings.warn(\n",
      "C:\\Users\\Tim\\anaconda3\\lib\\site-packages\\sklearn\\linear_model\\_logistic.py:763: ConvergenceWarning: lbfgs failed to converge (status=1):\n",
      "STOP: TOTAL NO. of ITERATIONS REACHED LIMIT.\n",
      "\n",
      "Increase the number of iterations (max_iter) or scale the data as shown in:\n",
      "    https://scikit-learn.org/stable/modules/preprocessing.html\n",
      "Please also refer to the documentation for alternative solver options:\n",
      "    https://scikit-learn.org/stable/modules/linear_model.html#logistic-regression\n",
      "  n_iter_i = _check_optimize_result(\n",
      "C:\\Users\\Tim\\anaconda3\\lib\\site-packages\\sklearn\\linear_model\\_logistic.py:1322: UserWarning: Setting penalty='none' will ignore the C and l1_ratio parameters\n",
      "  warnings.warn(\n",
      "C:\\Users\\Tim\\anaconda3\\lib\\site-packages\\sklearn\\linear_model\\_logistic.py:763: ConvergenceWarning: lbfgs failed to converge (status=1):\n",
      "STOP: TOTAL NO. of ITERATIONS REACHED LIMIT.\n",
      "\n",
      "Increase the number of iterations (max_iter) or scale the data as shown in:\n",
      "    https://scikit-learn.org/stable/modules/preprocessing.html\n",
      "Please also refer to the documentation for alternative solver options:\n",
      "    https://scikit-learn.org/stable/modules/linear_model.html#logistic-regression\n",
      "  n_iter_i = _check_optimize_result(\n",
      "C:\\Users\\Tim\\anaconda3\\lib\\site-packages\\sklearn\\linear_model\\_logistic.py:1322: UserWarning: Setting penalty='none' will ignore the C and l1_ratio parameters\n",
      "  warnings.warn(\n",
      "C:\\Users\\Tim\\anaconda3\\lib\\site-packages\\sklearn\\linear_model\\_logistic.py:763: ConvergenceWarning: lbfgs failed to converge (status=1):\n",
      "STOP: TOTAL NO. of ITERATIONS REACHED LIMIT.\n",
      "\n",
      "Increase the number of iterations (max_iter) or scale the data as shown in:\n",
      "    https://scikit-learn.org/stable/modules/preprocessing.html\n",
      "Please also refer to the documentation for alternative solver options:\n",
      "    https://scikit-learn.org/stable/modules/linear_model.html#logistic-regression\n",
      "  n_iter_i = _check_optimize_result(\n",
      "C:\\Users\\Tim\\anaconda3\\lib\\site-packages\\sklearn\\linear_model\\_logistic.py:1322: UserWarning: Setting penalty='none' will ignore the C and l1_ratio parameters\n",
      "  warnings.warn(\n",
      "C:\\Users\\Tim\\anaconda3\\lib\\site-packages\\sklearn\\linear_model\\_logistic.py:763: ConvergenceWarning: lbfgs failed to converge (status=1):\n",
      "STOP: TOTAL NO. of ITERATIONS REACHED LIMIT.\n",
      "\n",
      "Increase the number of iterations (max_iter) or scale the data as shown in:\n",
      "    https://scikit-learn.org/stable/modules/preprocessing.html\n",
      "Please also refer to the documentation for alternative solver options:\n",
      "    https://scikit-learn.org/stable/modules/linear_model.html#logistic-regression\n",
      "  n_iter_i = _check_optimize_result(\n",
      "C:\\Users\\Tim\\anaconda3\\lib\\site-packages\\sklearn\\linear_model\\_logistic.py:1322: UserWarning: Setting penalty='none' will ignore the C and l1_ratio parameters\n",
      "  warnings.warn(\n",
      "C:\\Users\\Tim\\anaconda3\\lib\\site-packages\\sklearn\\linear_model\\_logistic.py:763: ConvergenceWarning: lbfgs failed to converge (status=1):\n",
      "STOP: TOTAL NO. of ITERATIONS REACHED LIMIT.\n",
      "\n",
      "Increase the number of iterations (max_iter) or scale the data as shown in:\n",
      "    https://scikit-learn.org/stable/modules/preprocessing.html\n",
      "Please also refer to the documentation for alternative solver options:\n",
      "    https://scikit-learn.org/stable/modules/linear_model.html#logistic-regression\n",
      "  n_iter_i = _check_optimize_result(\n",
      "C:\\Users\\Tim\\anaconda3\\lib\\site-packages\\sklearn\\linear_model\\_logistic.py:763: ConvergenceWarning: lbfgs failed to converge (status=1):\n",
      "STOP: TOTAL NO. of ITERATIONS REACHED LIMIT.\n",
      "\n",
      "Increase the number of iterations (max_iter) or scale the data as shown in:\n",
      "    https://scikit-learn.org/stable/modules/preprocessing.html\n",
      "Please also refer to the documentation for alternative solver options:\n",
      "    https://scikit-learn.org/stable/modules/linear_model.html#logistic-regression\n",
      "  n_iter_i = _check_optimize_result(\n"
     ]
    },
    {
     "name": "stderr",
     "output_type": "stream",
     "text": [
      "C:\\Users\\Tim\\anaconda3\\lib\\site-packages\\sklearn\\linear_model\\_logistic.py:763: ConvergenceWarning: lbfgs failed to converge (status=1):\n",
      "STOP: TOTAL NO. of ITERATIONS REACHED LIMIT.\n",
      "\n",
      "Increase the number of iterations (max_iter) or scale the data as shown in:\n",
      "    https://scikit-learn.org/stable/modules/preprocessing.html\n",
      "Please also refer to the documentation for alternative solver options:\n",
      "    https://scikit-learn.org/stable/modules/linear_model.html#logistic-regression\n",
      "  n_iter_i = _check_optimize_result(\n",
      "C:\\Users\\Tim\\anaconda3\\lib\\site-packages\\sklearn\\linear_model\\_logistic.py:763: ConvergenceWarning: lbfgs failed to converge (status=1):\n",
      "STOP: TOTAL NO. of ITERATIONS REACHED LIMIT.\n",
      "\n",
      "Increase the number of iterations (max_iter) or scale the data as shown in:\n",
      "    https://scikit-learn.org/stable/modules/preprocessing.html\n",
      "Please also refer to the documentation for alternative solver options:\n",
      "    https://scikit-learn.org/stable/modules/linear_model.html#logistic-regression\n",
      "  n_iter_i = _check_optimize_result(\n",
      "C:\\Users\\Tim\\anaconda3\\lib\\site-packages\\sklearn\\linear_model\\_logistic.py:763: ConvergenceWarning: lbfgs failed to converge (status=1):\n",
      "STOP: TOTAL NO. of ITERATIONS REACHED LIMIT.\n",
      "\n",
      "Increase the number of iterations (max_iter) or scale the data as shown in:\n",
      "    https://scikit-learn.org/stable/modules/preprocessing.html\n",
      "Please also refer to the documentation for alternative solver options:\n",
      "    https://scikit-learn.org/stable/modules/linear_model.html#logistic-regression\n",
      "  n_iter_i = _check_optimize_result(\n",
      "C:\\Users\\Tim\\anaconda3\\lib\\site-packages\\sklearn\\linear_model\\_logistic.py:1322: UserWarning: Setting penalty='none' will ignore the C and l1_ratio parameters\n",
      "  warnings.warn(\n",
      "C:\\Users\\Tim\\anaconda3\\lib\\site-packages\\sklearn\\linear_model\\_logistic.py:763: ConvergenceWarning: lbfgs failed to converge (status=1):\n",
      "STOP: TOTAL NO. of ITERATIONS REACHED LIMIT.\n",
      "\n",
      "Increase the number of iterations (max_iter) or scale the data as shown in:\n",
      "    https://scikit-learn.org/stable/modules/preprocessing.html\n",
      "Please also refer to the documentation for alternative solver options:\n",
      "    https://scikit-learn.org/stable/modules/linear_model.html#logistic-regression\n",
      "  n_iter_i = _check_optimize_result(\n",
      "C:\\Users\\Tim\\anaconda3\\lib\\site-packages\\sklearn\\linear_model\\_logistic.py:1322: UserWarning: Setting penalty='none' will ignore the C and l1_ratio parameters\n",
      "  warnings.warn(\n",
      "C:\\Users\\Tim\\anaconda3\\lib\\site-packages\\sklearn\\linear_model\\_logistic.py:763: ConvergenceWarning: lbfgs failed to converge (status=1):\n",
      "STOP: TOTAL NO. of ITERATIONS REACHED LIMIT.\n",
      "\n",
      "Increase the number of iterations (max_iter) or scale the data as shown in:\n",
      "    https://scikit-learn.org/stable/modules/preprocessing.html\n",
      "Please also refer to the documentation for alternative solver options:\n",
      "    https://scikit-learn.org/stable/modules/linear_model.html#logistic-regression\n",
      "  n_iter_i = _check_optimize_result(\n",
      "C:\\Users\\Tim\\anaconda3\\lib\\site-packages\\sklearn\\linear_model\\_logistic.py:1322: UserWarning: Setting penalty='none' will ignore the C and l1_ratio parameters\n",
      "  warnings.warn(\n",
      "C:\\Users\\Tim\\anaconda3\\lib\\site-packages\\sklearn\\linear_model\\_logistic.py:763: ConvergenceWarning: lbfgs failed to converge (status=1):\n",
      "STOP: TOTAL NO. of ITERATIONS REACHED LIMIT.\n",
      "\n",
      "Increase the number of iterations (max_iter) or scale the data as shown in:\n",
      "    https://scikit-learn.org/stable/modules/preprocessing.html\n",
      "Please also refer to the documentation for alternative solver options:\n",
      "    https://scikit-learn.org/stable/modules/linear_model.html#logistic-regression\n",
      "  n_iter_i = _check_optimize_result(\n",
      "C:\\Users\\Tim\\anaconda3\\lib\\site-packages\\sklearn\\linear_model\\_logistic.py:1322: UserWarning: Setting penalty='none' will ignore the C and l1_ratio parameters\n",
      "  warnings.warn(\n",
      "C:\\Users\\Tim\\anaconda3\\lib\\site-packages\\sklearn\\linear_model\\_logistic.py:763: ConvergenceWarning: lbfgs failed to converge (status=1):\n",
      "STOP: TOTAL NO. of ITERATIONS REACHED LIMIT.\n",
      "\n",
      "Increase the number of iterations (max_iter) or scale the data as shown in:\n",
      "    https://scikit-learn.org/stable/modules/preprocessing.html\n",
      "Please also refer to the documentation for alternative solver options:\n",
      "    https://scikit-learn.org/stable/modules/linear_model.html#logistic-regression\n",
      "  n_iter_i = _check_optimize_result(\n",
      "C:\\Users\\Tim\\anaconda3\\lib\\site-packages\\sklearn\\linear_model\\_logistic.py:1322: UserWarning: Setting penalty='none' will ignore the C and l1_ratio parameters\n",
      "  warnings.warn(\n",
      "C:\\Users\\Tim\\anaconda3\\lib\\site-packages\\sklearn\\linear_model\\_logistic.py:763: ConvergenceWarning: lbfgs failed to converge (status=1):\n",
      "STOP: TOTAL NO. of ITERATIONS REACHED LIMIT.\n",
      "\n",
      "Increase the number of iterations (max_iter) or scale the data as shown in:\n",
      "    https://scikit-learn.org/stable/modules/preprocessing.html\n",
      "Please also refer to the documentation for alternative solver options:\n",
      "    https://scikit-learn.org/stable/modules/linear_model.html#logistic-regression\n",
      "  n_iter_i = _check_optimize_result(\n",
      "C:\\Users\\Tim\\anaconda3\\lib\\site-packages\\sklearn\\linear_model\\_logistic.py:1322: UserWarning: Setting penalty='none' will ignore the C and l1_ratio parameters\n",
      "  warnings.warn(\n",
      "C:\\Users\\Tim\\anaconda3\\lib\\site-packages\\sklearn\\linear_model\\_logistic.py:763: ConvergenceWarning: lbfgs failed to converge (status=1):\n",
      "STOP: TOTAL NO. of ITERATIONS REACHED LIMIT.\n",
      "\n",
      "Increase the number of iterations (max_iter) or scale the data as shown in:\n",
      "    https://scikit-learn.org/stable/modules/preprocessing.html\n",
      "Please also refer to the documentation for alternative solver options:\n",
      "    https://scikit-learn.org/stable/modules/linear_model.html#logistic-regression\n",
      "  n_iter_i = _check_optimize_result(\n",
      "C:\\Users\\Tim\\anaconda3\\lib\\site-packages\\sklearn\\linear_model\\_logistic.py:1322: UserWarning: Setting penalty='none' will ignore the C and l1_ratio parameters\n",
      "  warnings.warn(\n",
      "C:\\Users\\Tim\\anaconda3\\lib\\site-packages\\sklearn\\linear_model\\_logistic.py:763: ConvergenceWarning: lbfgs failed to converge (status=1):\n",
      "STOP: TOTAL NO. of ITERATIONS REACHED LIMIT.\n",
      "\n",
      "Increase the number of iterations (max_iter) or scale the data as shown in:\n",
      "    https://scikit-learn.org/stable/modules/preprocessing.html\n",
      "Please also refer to the documentation for alternative solver options:\n",
      "    https://scikit-learn.org/stable/modules/linear_model.html#logistic-regression\n",
      "  n_iter_i = _check_optimize_result(\n",
      "C:\\Users\\Tim\\anaconda3\\lib\\site-packages\\sklearn\\linear_model\\_logistic.py:1322: UserWarning: Setting penalty='none' will ignore the C and l1_ratio parameters\n",
      "  warnings.warn(\n",
      "C:\\Users\\Tim\\anaconda3\\lib\\site-packages\\sklearn\\linear_model\\_logistic.py:763: ConvergenceWarning: lbfgs failed to converge (status=1):\n",
      "STOP: TOTAL NO. of ITERATIONS REACHED LIMIT.\n",
      "\n",
      "Increase the number of iterations (max_iter) or scale the data as shown in:\n",
      "    https://scikit-learn.org/stable/modules/preprocessing.html\n",
      "Please also refer to the documentation for alternative solver options:\n",
      "    https://scikit-learn.org/stable/modules/linear_model.html#logistic-regression\n",
      "  n_iter_i = _check_optimize_result(\n",
      "C:\\Users\\Tim\\anaconda3\\lib\\site-packages\\sklearn\\linear_model\\_logistic.py:1322: UserWarning: Setting penalty='none' will ignore the C and l1_ratio parameters\n",
      "  warnings.warn(\n",
      "C:\\Users\\Tim\\anaconda3\\lib\\site-packages\\sklearn\\linear_model\\_logistic.py:763: ConvergenceWarning: lbfgs failed to converge (status=1):\n",
      "STOP: TOTAL NO. of ITERATIONS REACHED LIMIT.\n",
      "\n",
      "Increase the number of iterations (max_iter) or scale the data as shown in:\n",
      "    https://scikit-learn.org/stable/modules/preprocessing.html\n",
      "Please also refer to the documentation for alternative solver options:\n",
      "    https://scikit-learn.org/stable/modules/linear_model.html#logistic-regression\n",
      "  n_iter_i = _check_optimize_result(\n",
      "C:\\Users\\Tim\\anaconda3\\lib\\site-packages\\sklearn\\linear_model\\_logistic.py:1322: UserWarning: Setting penalty='none' will ignore the C and l1_ratio parameters\n",
      "  warnings.warn(\n",
      "C:\\Users\\Tim\\anaconda3\\lib\\site-packages\\sklearn\\linear_model\\_logistic.py:763: ConvergenceWarning: lbfgs failed to converge (status=1):\n",
      "STOP: TOTAL NO. of ITERATIONS REACHED LIMIT.\n",
      "\n",
      "Increase the number of iterations (max_iter) or scale the data as shown in:\n",
      "    https://scikit-learn.org/stable/modules/preprocessing.html\n",
      "Please also refer to the documentation for alternative solver options:\n",
      "    https://scikit-learn.org/stable/modules/linear_model.html#logistic-regression\n",
      "  n_iter_i = _check_optimize_result(\n"
     ]
    },
    {
     "name": "stderr",
     "output_type": "stream",
     "text": [
      "C:\\Users\\Tim\\anaconda3\\lib\\site-packages\\sklearn\\linear_model\\_logistic.py:1322: UserWarning: Setting penalty='none' will ignore the C and l1_ratio parameters\n",
      "  warnings.warn(\n",
      "C:\\Users\\Tim\\anaconda3\\lib\\site-packages\\sklearn\\linear_model\\_logistic.py:763: ConvergenceWarning: lbfgs failed to converge (status=1):\n",
      "STOP: TOTAL NO. of ITERATIONS REACHED LIMIT.\n",
      "\n",
      "Increase the number of iterations (max_iter) or scale the data as shown in:\n",
      "    https://scikit-learn.org/stable/modules/preprocessing.html\n",
      "Please also refer to the documentation for alternative solver options:\n",
      "    https://scikit-learn.org/stable/modules/linear_model.html#logistic-regression\n",
      "  n_iter_i = _check_optimize_result(\n",
      "C:\\Users\\Tim\\anaconda3\\lib\\site-packages\\sklearn\\linear_model\\_logistic.py:1322: UserWarning: Setting penalty='none' will ignore the C and l1_ratio parameters\n",
      "  warnings.warn(\n",
      "C:\\Users\\Tim\\anaconda3\\lib\\site-packages\\sklearn\\linear_model\\_logistic.py:763: ConvergenceWarning: lbfgs failed to converge (status=1):\n",
      "STOP: TOTAL NO. of ITERATIONS REACHED LIMIT.\n",
      "\n",
      "Increase the number of iterations (max_iter) or scale the data as shown in:\n",
      "    https://scikit-learn.org/stable/modules/preprocessing.html\n",
      "Please also refer to the documentation for alternative solver options:\n",
      "    https://scikit-learn.org/stable/modules/linear_model.html#logistic-regression\n",
      "  n_iter_i = _check_optimize_result(\n",
      "C:\\Users\\Tim\\anaconda3\\lib\\site-packages\\sklearn\\linear_model\\_logistic.py:1322: UserWarning: Setting penalty='none' will ignore the C and l1_ratio parameters\n",
      "  warnings.warn(\n",
      "C:\\Users\\Tim\\anaconda3\\lib\\site-packages\\sklearn\\linear_model\\_logistic.py:1322: UserWarning: Setting penalty='none' will ignore the C and l1_ratio parameters\n",
      "  warnings.warn(\n",
      "C:\\Users\\Tim\\anaconda3\\lib\\site-packages\\sklearn\\linear_model\\_logistic.py:763: ConvergenceWarning: lbfgs failed to converge (status=1):\n",
      "STOP: TOTAL NO. of ITERATIONS REACHED LIMIT.\n",
      "\n",
      "Increase the number of iterations (max_iter) or scale the data as shown in:\n",
      "    https://scikit-learn.org/stable/modules/preprocessing.html\n",
      "Please also refer to the documentation for alternative solver options:\n",
      "    https://scikit-learn.org/stable/modules/linear_model.html#logistic-regression\n",
      "  n_iter_i = _check_optimize_result(\n",
      "C:\\Users\\Tim\\anaconda3\\lib\\site-packages\\sklearn\\linear_model\\_logistic.py:1322: UserWarning: Setting penalty='none' will ignore the C and l1_ratio parameters\n",
      "  warnings.warn(\n",
      "C:\\Users\\Tim\\anaconda3\\lib\\site-packages\\sklearn\\linear_model\\_logistic.py:763: ConvergenceWarning: lbfgs failed to converge (status=1):\n",
      "STOP: TOTAL NO. of ITERATIONS REACHED LIMIT.\n",
      "\n",
      "Increase the number of iterations (max_iter) or scale the data as shown in:\n",
      "    https://scikit-learn.org/stable/modules/preprocessing.html\n",
      "Please also refer to the documentation for alternative solver options:\n",
      "    https://scikit-learn.org/stable/modules/linear_model.html#logistic-regression\n",
      "  n_iter_i = _check_optimize_result(\n",
      "C:\\Users\\Tim\\anaconda3\\lib\\site-packages\\sklearn\\linear_model\\_logistic.py:1322: UserWarning: Setting penalty='none' will ignore the C and l1_ratio parameters\n",
      "  warnings.warn(\n"
     ]
    },
    {
     "name": "stdout",
     "output_type": "stream",
     "text": [
      "Wall time: 1min\n"
     ]
    },
    {
     "name": "stderr",
     "output_type": "stream",
     "text": [
      "C:\\Users\\Tim\\anaconda3\\lib\\site-packages\\sklearn\\linear_model\\_logistic.py:763: ConvergenceWarning: lbfgs failed to converge (status=1):\n",
      "STOP: TOTAL NO. of ITERATIONS REACHED LIMIT.\n",
      "\n",
      "Increase the number of iterations (max_iter) or scale the data as shown in:\n",
      "    https://scikit-learn.org/stable/modules/preprocessing.html\n",
      "Please also refer to the documentation for alternative solver options:\n",
      "    https://scikit-learn.org/stable/modules/linear_model.html#logistic-regression\n",
      "  n_iter_i = _check_optimize_result(\n"
     ]
    },
    {
     "data": {
      "text/plain": [
       "GridSearchCV(cv=5,\n",
       "             estimator=LogisticRegression(C=1.9, class_weight='balanced',\n",
       "                                          random_state=1),\n",
       "             param_grid={'C': [1.87, 1.9, 1.93],\n",
       "                         'max_iter': array([100, 200, 300, 400]),\n",
       "                         'penalty': ['l2', 'none']},\n",
       "             scoring='recall')"
      ]
     },
     "execution_count": 66,
     "metadata": {},
     "output_type": "execute_result"
    }
   ],
   "source": [
    "%%time\n",
    "tuned_LR.fit(features, target)"
   ]
  },
  {
   "cell_type": "code",
   "execution_count": 67,
   "metadata": {},
   "outputs": [
    {
     "data": {
      "text/plain": [
       "({'C': 1.87, 'max_iter': 400, 'penalty': 'none'}, 0.6499922545652799)"
      ]
     },
     "execution_count": 67,
     "metadata": {},
     "output_type": "execute_result"
    }
   ],
   "source": [
    "tuned_LR.best_params_, tuned_LR.best_score_"
   ]
  },
  {
   "cell_type": "markdown",
   "metadata": {},
   "source": [
    "#### Проверка модели"
   ]
  },
  {
   "cell_type": "markdown",
   "metadata": {},
   "source": [
    "Сравним нашим модели с помощью кросс-валидации"
   ]
  },
  {
   "cell_type": "markdown",
   "metadata": {},
   "source": [
    "**Решающее дерево**"
   ]
  },
  {
   "cell_type": "code",
   "execution_count": 68,
   "metadata": {},
   "outputs": [
    {
     "name": "stdout",
     "output_type": "stream",
     "text": [
      "Средняя оценка качества модели: 0.924210579257927\n"
     ]
    }
   ],
   "source": [
    "counting_score(tuned_DT.best_estimator_, features, target, 'recall')"
   ]
  },
  {
   "cell_type": "code",
   "execution_count": 69,
   "metadata": {},
   "outputs": [
    {
     "name": "stdout",
     "output_type": "stream",
     "text": [
      "Средняя оценка качества модели: 0.2931007319424853\n"
     ]
    }
   ],
   "source": [
    "counting_score(tuned_DT.best_estimator_, features, target, 'precision')"
   ]
  },
  {
   "cell_type": "markdown",
   "metadata": {},
   "source": [
    "**Случайный лес**"
   ]
  },
  {
   "cell_type": "code",
   "execution_count": 70,
   "metadata": {
    "scrolled": true
   },
   "outputs": [
    {
     "name": "stdout",
     "output_type": "stream",
     "text": [
      "Средняя оценка качества модели: 0.7519131223758568\n"
     ]
    }
   ],
   "source": [
    "counting_score(tuned_RF.best_estimator_, features, target, 'recall')"
   ]
  },
  {
   "cell_type": "code",
   "execution_count": 71,
   "metadata": {},
   "outputs": [
    {
     "name": "stdout",
     "output_type": "stream",
     "text": [
      "Средняя оценка качества модели: 0.2986938559340905\n"
     ]
    }
   ],
   "source": [
    "counting_score(tuned_RF.best_estimator_, features, target, 'precision')"
   ]
  },
  {
   "cell_type": "markdown",
   "metadata": {},
   "source": [
    "**Логистическая регрессия**"
   ]
  },
  {
   "cell_type": "code",
   "execution_count": 72,
   "metadata": {},
   "outputs": [
    {
     "name": "stderr",
     "output_type": "stream",
     "text": [
      "C:\\Users\\Tim\\anaconda3\\lib\\site-packages\\sklearn\\linear_model\\_logistic.py:1322: UserWarning: Setting penalty='none' will ignore the C and l1_ratio parameters\n",
      "  warnings.warn(\n",
      "C:\\Users\\Tim\\anaconda3\\lib\\site-packages\\sklearn\\linear_model\\_logistic.py:763: ConvergenceWarning: lbfgs failed to converge (status=1):\n",
      "STOP: TOTAL NO. of ITERATIONS REACHED LIMIT.\n",
      "\n",
      "Increase the number of iterations (max_iter) or scale the data as shown in:\n",
      "    https://scikit-learn.org/stable/modules/preprocessing.html\n",
      "Please also refer to the documentation for alternative solver options:\n",
      "    https://scikit-learn.org/stable/modules/linear_model.html#logistic-regression\n",
      "  n_iter_i = _check_optimize_result(\n",
      "C:\\Users\\Tim\\anaconda3\\lib\\site-packages\\sklearn\\linear_model\\_logistic.py:1322: UserWarning: Setting penalty='none' will ignore the C and l1_ratio parameters\n",
      "  warnings.warn(\n",
      "C:\\Users\\Tim\\anaconda3\\lib\\site-packages\\sklearn\\linear_model\\_logistic.py:763: ConvergenceWarning: lbfgs failed to converge (status=1):\n",
      "STOP: TOTAL NO. of ITERATIONS REACHED LIMIT.\n",
      "\n",
      "Increase the number of iterations (max_iter) or scale the data as shown in:\n",
      "    https://scikit-learn.org/stable/modules/preprocessing.html\n",
      "Please also refer to the documentation for alternative solver options:\n",
      "    https://scikit-learn.org/stable/modules/linear_model.html#logistic-regression\n",
      "  n_iter_i = _check_optimize_result(\n",
      "C:\\Users\\Tim\\anaconda3\\lib\\site-packages\\sklearn\\linear_model\\_logistic.py:1322: UserWarning: Setting penalty='none' will ignore the C and l1_ratio parameters\n",
      "  warnings.warn(\n",
      "C:\\Users\\Tim\\anaconda3\\lib\\site-packages\\sklearn\\linear_model\\_logistic.py:1322: UserWarning: Setting penalty='none' will ignore the C and l1_ratio parameters\n",
      "  warnings.warn(\n",
      "C:\\Users\\Tim\\anaconda3\\lib\\site-packages\\sklearn\\linear_model\\_logistic.py:763: ConvergenceWarning: lbfgs failed to converge (status=1):\n",
      "STOP: TOTAL NO. of ITERATIONS REACHED LIMIT.\n",
      "\n",
      "Increase the number of iterations (max_iter) or scale the data as shown in:\n",
      "    https://scikit-learn.org/stable/modules/preprocessing.html\n",
      "Please also refer to the documentation for alternative solver options:\n",
      "    https://scikit-learn.org/stable/modules/linear_model.html#logistic-regression\n",
      "  n_iter_i = _check_optimize_result(\n",
      "C:\\Users\\Tim\\anaconda3\\lib\\site-packages\\sklearn\\linear_model\\_logistic.py:1322: UserWarning: Setting penalty='none' will ignore the C and l1_ratio parameters\n",
      "  warnings.warn(\n"
     ]
    },
    {
     "name": "stdout",
     "output_type": "stream",
     "text": [
      "Средняя оценка качества модели: 0.3888993584689413\n"
     ]
    },
    {
     "name": "stderr",
     "output_type": "stream",
     "text": [
      "C:\\Users\\Tim\\anaconda3\\lib\\site-packages\\sklearn\\linear_model\\_logistic.py:763: ConvergenceWarning: lbfgs failed to converge (status=1):\n",
      "STOP: TOTAL NO. of ITERATIONS REACHED LIMIT.\n",
      "\n",
      "Increase the number of iterations (max_iter) or scale the data as shown in:\n",
      "    https://scikit-learn.org/stable/modules/preprocessing.html\n",
      "Please also refer to the documentation for alternative solver options:\n",
      "    https://scikit-learn.org/stable/modules/linear_model.html#logistic-regression\n",
      "  n_iter_i = _check_optimize_result(\n"
     ]
    }
   ],
   "source": [
    "counting_score(tuned_LR.best_estimator_, features, target, 'precision')"
   ]
  },
  {
   "cell_type": "code",
   "execution_count": 73,
   "metadata": {},
   "outputs": [
    {
     "name": "stderr",
     "output_type": "stream",
     "text": [
      "C:\\Users\\Tim\\anaconda3\\lib\\site-packages\\sklearn\\linear_model\\_logistic.py:1322: UserWarning: Setting penalty='none' will ignore the C and l1_ratio parameters\n",
      "  warnings.warn(\n",
      "C:\\Users\\Tim\\anaconda3\\lib\\site-packages\\sklearn\\linear_model\\_logistic.py:1322: UserWarning: Setting penalty='none' will ignore the C and l1_ratio parameters\n",
      "  warnings.warn(\n",
      "C:\\Users\\Tim\\anaconda3\\lib\\site-packages\\sklearn\\linear_model\\_logistic.py:1322: UserWarning: Setting penalty='none' will ignore the C and l1_ratio parameters\n",
      "  warnings.warn(\n",
      "C:\\Users\\Tim\\anaconda3\\lib\\site-packages\\sklearn\\linear_model\\_logistic.py:1322: UserWarning: Setting penalty='none' will ignore the C and l1_ratio parameters\n",
      "  warnings.warn(\n",
      "C:\\Users\\Tim\\anaconda3\\lib\\site-packages\\sklearn\\linear_model\\_logistic.py:1322: UserWarning: Setting penalty='none' will ignore the C and l1_ratio parameters\n",
      "  warnings.warn(\n"
     ]
    },
    {
     "name": "stdout",
     "output_type": "stream",
     "text": [
      "Средняя оценка качества модели: 0.6652536929993578\n"
     ]
    }
   ],
   "source": [
    "counting_score(tuned_LR.best_estimator_, features_test, target_test, 'recall')"
   ]
  },
  {
   "cell_type": "markdown",
   "metadata": {},
   "source": [
    "<div class=\"alert alert-success\">\n",
    "<h2>Комментарий ревьюера v2<a class=\"tocSkip\"></a></h2>\n",
    "    \n",
    "**Отлично!** ✔️: интересные вопросы ты задаешь, молодец! \n",
    "\n",
    "В этом проекте у тебя получаются достаточно хорошие метрики, но если хочется попробовать их улучшить, то можно попробовать уже известные тебе способы: увеличить границы подбора гиперпараметров, попробовать использовать другое кодирование(например, <a href=\"https://contrib.scikit-learn.org/category_encoders/targetencoder.html\">TargetEncoder</a>), проверить другое масштабирование, например, StandardScaler, а также попробовать другие модели(тот же градиентный бустинг). Однозначного ответа, какие модели использовать и как проводить предобработку никогда нет, иначе наша профессия была бы не очень нужна :)\n",
    "    \n",
    "Относительно правильного подбора гиперпараметров, тут, конечно, сложно: нужно разбираться с каждым типом моделей отдельно, изучая их архитектуру. В следующих спринтах вам расскажут по поводу внутреннего устройства линейной регрессии(и, соответственно, логистической). Но более глубокое понимание и, порой, интуиция придет только с опытом. В качестве примера, можешь попробовать почитать <a href=\"https://arxiv.org/pdf/1407.7502.pdf\">диссертацию</a> на тему случайного леса, но вряд ли на данном этапе это будет очень полезно. Так что я бы посоветовал погуглить, какие гиперпараметры для каждого типа моделей настраиваются чаще всего, и от этого отталкиваться, пока этого должно хватить, с опытом придет большее понимание\n",
    "    \n",
    "По поводу способов подбора гиперпараметров, чаще всего используются именно GridSearch и RandomSearch, но иногда используется еще кривая валидации. Благодаря ее визуализации можно увидеть, когда метрики перестают расти. Мне еще нравится использовать <a href=\"https://github.com/hyperopt/hyperopt\" target=\"blank_\">hyperopt</a>, он работает быстрее, чем GridSearch и есть возможность сохранять историю обучения «из коробки»\n",
    "    \n",
    "Подробнее про кривую обучения:\n",
    "* https://scikit-learn.org/stable/modules/learning_curve.html\n",
    "* https://www.geeksforgeeks.org/validation-curve/\n",
    "* https://towardsdatascience.com/validation-curve-explained-plot-the-influence-of-a-single-hyperparameter-1ac4864deaf8\n",
    "</div>"
   ]
  },
  {
   "cell_type": "markdown",
   "metadata": {},
   "source": [
    "Среди всех вычисленных оценок самая лучшая у Логистической регрессии, так как по оценкам метрик видно, что хоть метрика recall у нее самая низкая по величине из всех, но остальные модели достигли этого в результате переобучения, о чем свидетельствует метрика precision"
   ]
  },
  {
   "cell_type": "code",
   "execution_count": 74,
   "metadata": {},
   "outputs": [],
   "source": [
    "model_LR = tuned_LR.best_estimator_"
   ]
  },
  {
   "cell_type": "code",
   "execution_count": 75,
   "metadata": {},
   "outputs": [
    {
     "name": "stderr",
     "output_type": "stream",
     "text": [
      "C:\\Users\\Tim\\anaconda3\\lib\\site-packages\\sklearn\\linear_model\\_logistic.py:1322: UserWarning: Setting penalty='none' will ignore the C and l1_ratio parameters\n",
      "  warnings.warn(\n"
     ]
    },
    {
     "name": "stdout",
     "output_type": "stream",
     "text": [
      "Wall time: 1.26 s\n"
     ]
    },
    {
     "name": "stderr",
     "output_type": "stream",
     "text": [
      "C:\\Users\\Tim\\anaconda3\\lib\\site-packages\\sklearn\\linear_model\\_logistic.py:763: ConvergenceWarning: lbfgs failed to converge (status=1):\n",
      "STOP: TOTAL NO. of ITERATIONS REACHED LIMIT.\n",
      "\n",
      "Increase the number of iterations (max_iter) or scale the data as shown in:\n",
      "    https://scikit-learn.org/stable/modules/preprocessing.html\n",
      "Please also refer to the documentation for alternative solver options:\n",
      "    https://scikit-learn.org/stable/modules/linear_model.html#logistic-regression\n",
      "  n_iter_i = _check_optimize_result(\n"
     ]
    },
    {
     "data": {
      "text/plain": [
       "LogisticRegression(C=1.87, class_weight='balanced', max_iter=400,\n",
       "                   penalty='none', random_state=1)"
      ]
     },
     "execution_count": 75,
     "metadata": {},
     "output_type": "execute_result"
    }
   ],
   "source": [
    "%%time\n",
    "model_LR.fit(features, target)"
   ]
  },
  {
   "cell_type": "code",
   "execution_count": 76,
   "metadata": {},
   "outputs": [],
   "source": [
    "predictions = model_LR.predict(features_test)"
   ]
  },
  {
   "cell_type": "code",
   "execution_count": 77,
   "metadata": {},
   "outputs": [
    {
     "data": {
      "text/plain": [
       "0.548747591522158"
      ]
     },
     "execution_count": 77,
     "metadata": {},
     "output_type": "execute_result"
    }
   ],
   "source": [
    "recall_score(target_test, predictions)"
   ]
  },
  {
   "cell_type": "code",
   "execution_count": 78,
   "metadata": {},
   "outputs": [
    {
     "data": {
      "text/plain": [
       "0.5109436670254754"
      ]
     },
     "execution_count": 78,
     "metadata": {},
     "output_type": "execute_result"
    }
   ],
   "source": [
    "precision_score(target_test, predictions)"
   ]
  },
  {
   "cell_type": "code",
   "execution_count": 79,
   "metadata": {},
   "outputs": [],
   "source": [
    "data_test['predictions'] = predictions"
   ]
  },
  {
   "cell_type": "code",
   "execution_count": 80,
   "metadata": {},
   "outputs": [
    {
     "data": {
      "text/plain": [
       "0    16910\n",
       "1     7785\n",
       "Name: is_canceled, dtype: int64"
      ]
     },
     "execution_count": 80,
     "metadata": {},
     "output_type": "execute_result"
    }
   ],
   "source": [
    "data_test['is_canceled'].value_counts()"
   ]
  },
  {
   "cell_type": "code",
   "execution_count": 81,
   "metadata": {},
   "outputs": [
    {
     "data": {
      "text/plain": [
       "0    16334\n",
       "1     8361\n",
       "Name: predictions, dtype: int64"
      ]
     },
     "execution_count": 81,
     "metadata": {},
     "output_type": "execute_result"
    }
   ],
   "source": [
    "data_test['predictions'].value_counts()"
   ]
  },
  {
   "cell_type": "code",
   "execution_count": 82,
   "metadata": {},
   "outputs": [
    {
     "data": {
      "text/plain": [
       "0.6921644057501518"
      ]
     },
     "execution_count": 82,
     "metadata": {},
     "output_type": "execute_result"
    }
   ],
   "source": [
    "data_test.query('is_canceled == predictions').shape[0] / data_test.shape[0]"
   ]
  },
  {
   "cell_type": "code",
   "execution_count": 83,
   "metadata": {
    "scrolled": true
   },
   "outputs": [
    {
     "name": "stdout",
     "output_type": "stream",
     "text": [
      "Прибыль отеля: 43254800.0\n",
      "Убытки отеля: 10571770.0\n",
      "Чистая прибыль отеля: 32683030.0\n"
     ]
    }
   ],
   "source": [
    "clear_income_wout_ml = clear_income_count(data_test, 'is_canceled', False)"
   ]
  },
  {
   "cell_type": "code",
   "execution_count": 84,
   "metadata": {},
   "outputs": [
    {
     "name": "stdout",
     "output_type": "stream",
     "text": [
      "Прибыль отеля: 43254800.0\n",
      "Убытки отеля: 5863346.0\n",
      "Чистая прибыль отеля: 37391454.0\n"
     ]
    }
   ],
   "source": [
    "clear_income_with_ml = clear_income_count(data_test, 'is_canceled', True)"
   ]
  },
  {
   "cell_type": "markdown",
   "metadata": {},
   "source": [
    "Посмотрим, сколько чистой прибыли отелю  повзолит получить введение системы депозитов:"
   ]
  },
  {
   "cell_type": "code",
   "execution_count": 85,
   "metadata": {},
   "outputs": [
    {
     "name": "stdout",
     "output_type": "stream",
     "text": [
      "Разница в прибыли: 4708424.0\n"
     ]
    }
   ],
   "source": [
    "print('Разница в прибыли:', clear_income_with_ml - clear_income_wout_ml)"
   ]
  },
  {
   "cell_type": "markdown",
   "metadata": {},
   "source": [
    "Система позволила сократить убытки и это принесло около 4,7 миллионов, что достаточно хороший показатель, и он значительно больше 400 000, затраченных на разработку системы."
   ]
  },
  {
   "cell_type": "markdown",
   "metadata": {},
   "source": [
    "### Шаг 5. Опишите портрет «ненадёжного» клиента"
   ]
  },
  {
   "cell_type": "markdown",
   "metadata": {},
   "source": [
    "Основываясь на сравнительном анализе выборок клиентов можно выделить следующие характеристики клиента, которые значительно с большей вероятностью присущи тем людям, которые склонны к отмене брони:\n",
    "\n",
    "* ранее уже отменял брони\n",
    "* оформляет бронь заранее за очень большой промежуток времени(300-360) дней\n",
    "* не нуждается в парковочном месте\n",
    "* путешествует без младенцев\n",
    "\n",
    "Во всем остальном такие клиенты схожи с той частю клиентуры, кто не склонен к отмене брони."
   ]
  },
  {
   "cell_type": "markdown",
   "metadata": {},
   "source": [
    "<div class=\"alert alert-warning\">\n",
    "<h2>Комментарий ревьюера v2<a class=\"tocSkip\"></a></h2>\n",
    "    \n",
    "**Есть совет** ⚠️: некоторые особенности можно заметить и по графикам: например, граждане Португалии отменяют бронь почти в половине случаев, в отличии от других самых частотных стран. Для бизнеса это может быть полезным инсайтом</div>"
   ]
  },
  {
   "cell_type": "markdown",
   "metadata": {},
   "source": [
    "### Шаг 6. Напишите общий вывод"
   ]
  },
  {
   "cell_type": "markdown",
   "metadata": {},
   "source": [
    "В ходе проведенного исследования были изучены полученные данные и разработана система, предсказывающая отказ от брони, также можно отметить следующие пункты:\n",
    "\n",
    "* Внедрение системы позволило получить на 20,6 млн чистой прибыли больше, чем без использования этой системы, за тот же тестовый период.\n",
    "* Проанализированы и выделены основные черты, которые присущи клиентам, склонным к отказу от брони."
   ]
  }
 ],
 "metadata": {
  "ExecuteTimeLog": [
   {
    "duration": 280,
    "start_time": "2022-06-16T20:37:31.035Z"
   },
   {
    "duration": 2,
    "start_time": "2022-06-16T20:37:56.513Z"
   },
   {
    "duration": 453,
    "start_time": "2022-06-16T20:38:56.364Z"
   },
   {
    "duration": 85,
    "start_time": "2022-06-16T20:39:34.507Z"
   },
   {
    "duration": 23,
    "start_time": "2022-06-16T20:39:38.117Z"
   },
   {
    "duration": 10,
    "start_time": "2022-06-16T20:39:48.301Z"
   },
   {
    "duration": 18,
    "start_time": "2022-06-16T20:39:52.324Z"
   },
   {
    "duration": 33,
    "start_time": "2022-06-16T20:40:01.093Z"
   },
   {
    "duration": 43,
    "start_time": "2022-06-16T20:40:38.524Z"
   },
   {
    "duration": 48,
    "start_time": "2022-06-16T20:41:00.536Z"
   },
   {
    "duration": 19,
    "start_time": "2022-06-16T20:41:36.908Z"
   },
   {
    "duration": 20,
    "start_time": "2022-06-16T20:41:43.467Z"
   },
   {
    "duration": 19,
    "start_time": "2022-06-16T20:41:49.018Z"
   },
   {
    "duration": 19,
    "start_time": "2022-06-16T20:41:56.587Z"
   },
   {
    "duration": 63,
    "start_time": "2022-06-16T20:42:26.132Z"
   },
   {
    "duration": 63,
    "start_time": "2022-06-16T20:42:31.330Z"
   },
   {
    "duration": 41,
    "start_time": "2022-06-16T20:42:41.418Z"
   },
   {
    "duration": 10,
    "start_time": "2022-06-16T20:53:45.661Z"
   },
   {
    "duration": 317,
    "start_time": "2022-06-16T20:54:00.329Z"
   },
   {
    "duration": 140,
    "start_time": "2022-06-16T20:54:03.901Z"
   },
   {
    "duration": 52,
    "start_time": "2022-06-16T20:54:17.030Z"
   },
   {
    "duration": 2263,
    "start_time": "2022-06-16T20:54:23.405Z"
   },
   {
    "duration": 1884,
    "start_time": "2022-06-16T20:54:58.358Z"
   },
   {
    "duration": 1251,
    "start_time": "2022-06-17T10:30:22.537Z"
   },
   {
    "duration": 763,
    "start_time": "2022-06-17T10:30:23.790Z"
   },
   {
    "duration": 36,
    "start_time": "2022-06-17T10:30:24.554Z"
   },
   {
    "duration": 37,
    "start_time": "2022-06-17T10:30:24.591Z"
   },
   {
    "duration": 2036,
    "start_time": "2022-06-17T10:30:24.629Z"
   },
   {
    "duration": 134,
    "start_time": "2022-06-17T11:10:40.473Z"
   },
   {
    "duration": 90,
    "start_time": "2022-06-17T11:26:34.755Z"
   },
   {
    "duration": 4,
    "start_time": "2022-06-17T11:26:39.008Z"
   },
   {
    "duration": 7,
    "start_time": "2022-06-17T11:27:09.501Z"
   },
   {
    "duration": 9,
    "start_time": "2022-06-17T11:27:12.787Z"
   },
   {
    "duration": 8,
    "start_time": "2022-06-17T11:27:14.612Z"
   },
   {
    "duration": 174,
    "start_time": "2022-06-17T11:27:17.769Z"
   },
   {
    "duration": 8,
    "start_time": "2022-06-17T11:27:51.232Z"
   },
   {
    "duration": 3,
    "start_time": "2022-06-17T11:27:55.970Z"
   },
   {
    "duration": 56,
    "start_time": "2022-06-17T11:28:32.100Z"
   },
   {
    "duration": 437,
    "start_time": "2022-06-17T11:28:37.779Z"
   },
   {
    "duration": 2058,
    "start_time": "2022-06-17T11:29:15.955Z"
   },
   {
    "duration": 2185,
    "start_time": "2022-06-17T11:30:09.430Z"
   },
   {
    "duration": 18,
    "start_time": "2022-06-17T11:32:52.277Z"
   },
   {
    "duration": 10,
    "start_time": "2022-06-17T11:33:04.043Z"
   },
   {
    "duration": 48,
    "start_time": "2022-06-17T11:34:07.418Z"
   },
   {
    "duration": 16,
    "start_time": "2022-06-17T11:34:21.471Z"
   },
   {
    "duration": 1412,
    "start_time": "2022-06-19T00:10:51.192Z"
   },
   {
    "duration": 468,
    "start_time": "2022-06-19T00:10:52.606Z"
   },
   {
    "duration": 36,
    "start_time": "2022-06-19T00:10:53.078Z"
   },
   {
    "duration": 55,
    "start_time": "2022-06-19T00:10:53.116Z"
   },
   {
    "duration": 2172,
    "start_time": "2022-06-19T00:10:53.172Z"
   },
   {
    "duration": 159,
    "start_time": "2022-06-19T00:10:55.346Z"
   },
   {
    "duration": 4,
    "start_time": "2022-06-19T00:10:55.507Z"
   },
   {
    "duration": 2389,
    "start_time": "2022-06-19T00:10:55.513Z"
   },
   {
    "duration": 20,
    "start_time": "2022-06-19T00:10:57.904Z"
   },
   {
    "duration": 68,
    "start_time": "2022-06-19T00:10:57.926Z"
   },
   {
    "duration": 1542,
    "start_time": "2022-06-19T14:05:55.007Z"
   },
   {
    "duration": 1467,
    "start_time": "2022-06-19T14:05:56.555Z"
   },
   {
    "duration": 47,
    "start_time": "2022-06-19T14:05:58.023Z"
   },
   {
    "duration": 83,
    "start_time": "2022-06-19T14:05:58.072Z"
   },
   {
    "duration": 2482,
    "start_time": "2022-06-19T14:05:58.157Z"
   },
   {
    "duration": 182,
    "start_time": "2022-06-19T14:06:00.640Z"
   },
   {
    "duration": 10,
    "start_time": "2022-06-19T14:06:00.824Z"
   },
   {
    "duration": 2877,
    "start_time": "2022-06-19T14:06:00.837Z"
   },
   {
    "duration": 26,
    "start_time": "2022-06-19T14:06:03.716Z"
   },
   {
    "duration": 100,
    "start_time": "2022-06-19T14:06:03.744Z"
   },
   {
    "duration": 4,
    "start_time": "2022-06-19T15:23:51.015Z"
   },
   {
    "duration": 6,
    "start_time": "2022-06-19T15:25:42.296Z"
   },
   {
    "duration": 137,
    "start_time": "2022-06-19T15:25:43.264Z"
   },
   {
    "duration": 72,
    "start_time": "2022-06-19T15:25:52.595Z"
   },
   {
    "duration": 4,
    "start_time": "2022-06-19T15:26:00.903Z"
   },
   {
    "duration": 678,
    "start_time": "2022-06-19T15:26:01.423Z"
   },
   {
    "duration": 131,
    "start_time": "2022-06-19T15:26:04.055Z"
   },
   {
    "duration": 3276,
    "start_time": "2022-06-19T15:26:04.810Z"
   },
   {
    "duration": 50,
    "start_time": "2022-06-19T15:26:15.319Z"
   },
   {
    "duration": 66,
    "start_time": "2022-06-19T15:26:16.364Z"
   },
   {
    "duration": 113,
    "start_time": "2022-06-19T15:29:46.352Z"
   },
   {
    "duration": 14,
    "start_time": "2022-06-19T15:30:42.261Z"
   },
   {
    "duration": 43,
    "start_time": "2022-06-19T15:30:50.705Z"
   },
   {
    "duration": 54,
    "start_time": "2022-06-19T15:31:42.920Z"
   },
   {
    "duration": 67,
    "start_time": "2022-06-19T15:31:43.286Z"
   },
   {
    "duration": 6,
    "start_time": "2022-06-19T15:33:17.310Z"
   },
   {
    "duration": 3,
    "start_time": "2022-06-19T16:03:45.275Z"
   },
   {
    "duration": 4,
    "start_time": "2022-06-19T16:06:34.904Z"
   },
   {
    "duration": 9,
    "start_time": "2022-06-19T16:07:13.500Z"
   },
   {
    "duration": 4,
    "start_time": "2022-06-19T16:07:18.664Z"
   },
   {
    "duration": 3,
    "start_time": "2022-06-19T16:07:21.468Z"
   },
   {
    "duration": 4,
    "start_time": "2022-06-19T16:13:58.512Z"
   },
   {
    "duration": 11,
    "start_time": "2022-06-19T16:14:37.795Z"
   },
   {
    "duration": 77,
    "start_time": "2022-06-19T16:14:47.564Z"
   },
   {
    "duration": 3,
    "start_time": "2022-06-19T16:15:01.900Z"
   },
   {
    "duration": 6,
    "start_time": "2022-06-19T16:15:03.481Z"
   },
   {
    "duration": 69,
    "start_time": "2022-06-19T16:15:04.308Z"
   },
   {
    "duration": 4,
    "start_time": "2022-06-19T16:16:09.181Z"
   },
   {
    "duration": 51,
    "start_time": "2022-06-19T16:16:09.694Z"
   },
   {
    "duration": 3,
    "start_time": "2022-06-19T16:16:47.574Z"
   },
   {
    "duration": 4,
    "start_time": "2022-06-19T16:16:47.967Z"
   },
   {
    "duration": 43,
    "start_time": "2022-06-19T16:16:48.402Z"
   },
   {
    "duration": 6,
    "start_time": "2022-06-19T16:17:17.894Z"
   },
   {
    "duration": 14,
    "start_time": "2022-06-19T16:17:21.721Z"
   },
   {
    "duration": 7,
    "start_time": "2022-06-19T16:23:01.566Z"
   },
   {
    "duration": 8,
    "start_time": "2022-06-19T16:23:22.390Z"
   },
   {
    "duration": 14,
    "start_time": "2022-06-19T16:23:30.766Z"
   },
   {
    "duration": 19,
    "start_time": "2022-06-19T16:24:21.981Z"
   },
   {
    "duration": 9,
    "start_time": "2022-06-19T16:24:41.551Z"
   },
   {
    "duration": 6,
    "start_time": "2022-06-19T16:24:56.851Z"
   },
   {
    "duration": 25,
    "start_time": "2022-06-19T16:25:16.393Z"
   },
   {
    "duration": 6,
    "start_time": "2022-06-19T16:25:17.379Z"
   },
   {
    "duration": 5,
    "start_time": "2022-06-19T16:25:17.559Z"
   },
   {
    "duration": 37,
    "start_time": "2022-06-19T16:25:26.996Z"
   },
   {
    "duration": 23,
    "start_time": "2022-06-19T16:25:38.250Z"
   },
   {
    "duration": 26,
    "start_time": "2022-06-19T16:25:38.720Z"
   },
   {
    "duration": 3,
    "start_time": "2022-06-19T16:25:39.839Z"
   },
   {
    "duration": 2,
    "start_time": "2022-06-19T16:25:40.121Z"
   },
   {
    "duration": 4,
    "start_time": "2022-06-19T16:25:40.493Z"
   },
   {
    "duration": 3,
    "start_time": "2022-06-19T16:25:40.793Z"
   },
   {
    "duration": 541,
    "start_time": "2022-06-19T16:25:41.296Z"
   },
   {
    "duration": 4,
    "start_time": "2022-06-19T16:26:34.439Z"
   },
   {
    "duration": 692,
    "start_time": "2022-06-19T16:26:34.848Z"
   },
   {
    "duration": 4,
    "start_time": "2022-06-19T16:26:59.593Z"
   },
   {
    "duration": 701,
    "start_time": "2022-06-19T16:26:59.896Z"
   },
   {
    "duration": 640,
    "start_time": "2022-06-19T16:27:12.544Z"
   },
   {
    "duration": 5,
    "start_time": "2022-06-19T16:27:18.111Z"
   },
   {
    "duration": 4,
    "start_time": "2022-06-19T16:27:22.991Z"
   },
   {
    "duration": 4,
    "start_time": "2022-06-19T16:27:28.901Z"
   },
   {
    "duration": 4,
    "start_time": "2022-06-19T16:27:35.119Z"
   },
   {
    "duration": 657,
    "start_time": "2022-06-19T16:28:12.397Z"
   },
   {
    "duration": 41,
    "start_time": "2022-06-19T16:28:31.864Z"
   },
   {
    "duration": 682,
    "start_time": "2022-06-19T16:28:36.518Z"
   },
   {
    "duration": 4,
    "start_time": "2022-06-19T16:33:10.040Z"
   },
   {
    "duration": 5,
    "start_time": "2022-06-19T16:33:12.802Z"
   },
   {
    "duration": 3,
    "start_time": "2022-06-19T16:33:15.215Z"
   },
   {
    "duration": 742,
    "start_time": "2022-06-19T16:33:16.539Z"
   },
   {
    "duration": 6,
    "start_time": "2022-06-19T16:35:22.915Z"
   },
   {
    "duration": 862,
    "start_time": "2022-06-19T16:35:23.604Z"
   },
   {
    "duration": 4,
    "start_time": "2022-06-19T16:36:34.570Z"
   },
   {
    "duration": 456,
    "start_time": "2022-06-19T16:37:47.234Z"
   },
   {
    "duration": 4,
    "start_time": "2022-06-19T16:38:40.556Z"
   },
   {
    "duration": 14,
    "start_time": "2022-06-19T16:51:39.375Z"
   },
   {
    "duration": 71,
    "start_time": "2022-06-19T16:51:44.952Z"
   },
   {
    "duration": 96,
    "start_time": "2022-06-19T16:52:07.905Z"
   },
   {
    "duration": 14398,
    "start_time": "2022-06-19T16:52:34.074Z"
   },
   {
    "duration": 6,
    "start_time": "2022-06-19T16:55:59.186Z"
   },
   {
    "duration": 45,
    "start_time": "2022-06-19T17:07:01.053Z"
   },
   {
    "duration": 2,
    "start_time": "2022-06-19T17:07:59.917Z"
   },
   {
    "duration": 26,
    "start_time": "2022-06-19T17:10:03.675Z"
   },
   {
    "duration": 10,
    "start_time": "2022-06-19T17:10:42.907Z"
   },
   {
    "duration": 62,
    "start_time": "2022-06-19T17:10:46.075Z"
   },
   {
    "duration": 9,
    "start_time": "2022-06-19T17:12:02.123Z"
   },
   {
    "duration": 24,
    "start_time": "2022-06-19T17:12:16.515Z"
   },
   {
    "duration": 1206,
    "start_time": "2022-06-19T17:12:40.785Z"
   },
   {
    "duration": 221,
    "start_time": "2022-06-19T17:12:41.992Z"
   },
   {
    "duration": 38,
    "start_time": "2022-06-19T17:12:42.215Z"
   },
   {
    "duration": 38,
    "start_time": "2022-06-19T17:12:42.255Z"
   },
   {
    "duration": 2988,
    "start_time": "2022-06-19T17:12:42.295Z"
   },
   {
    "duration": 54,
    "start_time": "2022-06-19T17:12:45.285Z"
   },
   {
    "duration": 6,
    "start_time": "2022-06-19T17:12:45.341Z"
   },
   {
    "duration": 574,
    "start_time": "2022-06-19T17:12:45.349Z"
   },
   {
    "duration": 76,
    "start_time": "2022-06-19T17:12:45.928Z"
   },
   {
    "duration": 2701,
    "start_time": "2022-06-19T17:12:46.007Z"
   },
   {
    "duration": 28,
    "start_time": "2022-06-19T17:12:48.710Z"
   },
   {
    "duration": 48,
    "start_time": "2022-06-19T17:12:48.740Z"
   },
   {
    "duration": 9,
    "start_time": "2022-06-19T17:12:48.790Z"
   },
   {
    "duration": 58,
    "start_time": "2022-06-19T17:12:48.801Z"
   },
   {
    "duration": 7,
    "start_time": "2022-06-19T17:12:48.860Z"
   },
   {
    "duration": 7,
    "start_time": "2022-06-19T17:12:48.868Z"
   },
   {
    "duration": 26,
    "start_time": "2022-06-19T17:12:48.877Z"
   },
   {
    "duration": 35,
    "start_time": "2022-06-19T17:12:48.904Z"
   },
   {
    "duration": 2,
    "start_time": "2022-06-19T17:12:48.941Z"
   },
   {
    "duration": 6,
    "start_time": "2022-06-19T17:12:48.944Z"
   },
   {
    "duration": 6,
    "start_time": "2022-06-19T17:12:48.951Z"
   },
   {
    "duration": 888,
    "start_time": "2022-06-19T17:12:48.958Z"
   },
   {
    "duration": 4,
    "start_time": "2022-06-19T17:12:49.847Z"
   },
   {
    "duration": 546,
    "start_time": "2022-06-19T17:12:49.852Z"
   },
   {
    "duration": 4,
    "start_time": "2022-06-19T17:12:50.399Z"
   },
   {
    "duration": 105,
    "start_time": "2022-06-19T17:12:50.404Z"
   },
   {
    "duration": 18,
    "start_time": "2022-06-19T17:12:50.511Z"
   },
   {
    "duration": 29,
    "start_time": "2022-06-19T17:12:50.534Z"
   },
   {
    "duration": 3,
    "start_time": "2022-06-19T17:12:50.565Z"
   },
   {
    "duration": 2,
    "start_time": "2022-06-19T17:15:16.339Z"
   },
   {
    "duration": 2838,
    "start_time": "2022-06-19T17:17:02.765Z"
   },
   {
    "duration": 3,
    "start_time": "2022-06-19T17:17:05.605Z"
   },
   {
    "duration": 5,
    "start_time": "2022-06-19T17:17:34.512Z"
   },
   {
    "duration": 2143,
    "start_time": "2022-06-19T17:17:34.797Z"
   },
   {
    "duration": 5,
    "start_time": "2022-06-19T17:17:36.942Z"
   },
   {
    "duration": 3,
    "start_time": "2022-06-19T17:17:43.181Z"
   },
   {
    "duration": 2698,
    "start_time": "2022-06-19T17:17:43.351Z"
   },
   {
    "duration": 4,
    "start_time": "2022-06-19T17:17:46.051Z"
   },
   {
    "duration": 3,
    "start_time": "2022-06-19T17:17:49.712Z"
   },
   {
    "duration": 2590,
    "start_time": "2022-06-19T17:17:49.855Z"
   },
   {
    "duration": 4,
    "start_time": "2022-06-19T17:17:52.447Z"
   },
   {
    "duration": 3,
    "start_time": "2022-06-19T17:17:58.717Z"
   },
   {
    "duration": 1518,
    "start_time": "2022-06-19T17:17:58.880Z"
   },
   {
    "duration": 3,
    "start_time": "2022-06-19T17:18:00.400Z"
   },
   {
    "duration": 2,
    "start_time": "2022-06-19T17:18:02.896Z"
   },
   {
    "duration": 1146,
    "start_time": "2022-06-19T17:18:03.050Z"
   },
   {
    "duration": 3,
    "start_time": "2022-06-19T17:18:04.198Z"
   },
   {
    "duration": 3,
    "start_time": "2022-06-19T17:18:06.376Z"
   },
   {
    "duration": 992,
    "start_time": "2022-06-19T17:18:06.519Z"
   },
   {
    "duration": 4,
    "start_time": "2022-06-19T17:18:07.513Z"
   },
   {
    "duration": 3,
    "start_time": "2022-06-19T17:18:09.649Z"
   },
   {
    "duration": 1283,
    "start_time": "2022-06-19T17:18:09.777Z"
   },
   {
    "duration": 4,
    "start_time": "2022-06-19T17:18:11.062Z"
   },
   {
    "duration": 4,
    "start_time": "2022-06-19T17:19:55.244Z"
   },
   {
    "duration": 1199,
    "start_time": "2022-06-19T17:20:07.206Z"
   },
   {
    "duration": 3,
    "start_time": "2022-06-19T17:20:47.310Z"
   },
   {
    "duration": 39432,
    "start_time": "2022-06-19T17:21:00.358Z"
   },
   {
    "duration": 4,
    "start_time": "2022-06-19T17:22:11.411Z"
   },
   {
    "duration": 6910,
    "start_time": "2022-06-19T17:22:11.693Z"
   },
   {
    "duration": 4,
    "start_time": "2022-06-19T17:23:25.108Z"
   },
   {
    "duration": 16975,
    "start_time": "2022-06-19T17:23:25.422Z"
   },
   {
    "duration": 3,
    "start_time": "2022-06-19T17:24:15.284Z"
   },
   {
    "duration": 29411,
    "start_time": "2022-06-19T17:24:15.469Z"
   },
   {
    "duration": 4,
    "start_time": "2022-06-19T17:24:59.380Z"
   },
   {
    "duration": 33945,
    "start_time": "2022-06-19T17:24:59.542Z"
   },
   {
    "duration": 7,
    "start_time": "2022-06-19T17:26:12.726Z"
   },
   {
    "duration": 37364,
    "start_time": "2022-06-19T17:26:12.883Z"
   },
   {
    "duration": 2,
    "start_time": "2022-06-19T17:27:10.198Z"
   },
   {
    "duration": 22984,
    "start_time": "2022-06-19T17:27:10.359Z"
   },
   {
    "duration": 4,
    "start_time": "2022-06-19T17:27:41.941Z"
   },
   {
    "duration": 26494,
    "start_time": "2022-06-19T17:27:42.070Z"
   },
   {
    "duration": 3,
    "start_time": "2022-06-19T17:28:16.857Z"
   },
   {
    "duration": 26171,
    "start_time": "2022-06-19T17:28:17.148Z"
   },
   {
    "duration": 3,
    "start_time": "2022-06-19T17:28:51.367Z"
   },
   {
    "duration": 25636,
    "start_time": "2022-06-19T17:28:51.559Z"
   },
   {
    "duration": 3,
    "start_time": "2022-06-19T17:29:54.697Z"
   },
   {
    "duration": 27702,
    "start_time": "2022-06-19T17:29:54.859Z"
   },
   {
    "duration": 3,
    "start_time": "2022-06-19T17:31:13.595Z"
   },
   {
    "duration": 61544,
    "start_time": "2022-06-19T17:31:26.296Z"
   },
   {
    "duration": 3,
    "start_time": "2022-06-19T17:33:22.759Z"
   },
   {
    "duration": 330323,
    "start_time": "2022-06-19T17:33:22.910Z"
   },
   {
    "duration": 2,
    "start_time": "2022-06-19T17:39:15.317Z"
   },
   {
    "duration": 54235,
    "start_time": "2022-06-19T17:39:15.496Z"
   },
   {
    "duration": 3,
    "start_time": "2022-06-19T17:41:20.685Z"
   },
   {
    "duration": 69668,
    "start_time": "2022-06-19T17:41:20.862Z"
   },
   {
    "duration": 4,
    "start_time": "2022-06-19T17:43:59.588Z"
   },
   {
    "duration": 209,
    "start_time": "2022-06-19T17:44:10.966Z"
   },
   {
    "duration": 204,
    "start_time": "2022-06-19T17:44:26.475Z"
   },
   {
    "duration": 4,
    "start_time": "2022-06-19T17:44:30.955Z"
   },
   {
    "duration": 2274,
    "start_time": "2022-06-19T17:44:31.290Z"
   },
   {
    "duration": 4,
    "start_time": "2022-06-19T17:44:35.780Z"
   },
   {
    "duration": 35900,
    "start_time": "2022-06-19T17:44:36.148Z"
   },
   {
    "duration": 4,
    "start_time": "2022-06-19T17:45:12.064Z"
   },
   {
    "duration": 60391,
    "start_time": "2022-06-19T17:45:12.073Z"
   },
   {
    "duration": 3,
    "start_time": "2022-06-19T17:47:56.103Z"
   },
   {
    "duration": 148678,
    "start_time": "2022-06-19T17:47:56.455Z"
   },
   {
    "duration": 5,
    "start_time": "2022-06-19T17:54:22.223Z"
   },
   {
    "duration": 2456,
    "start_time": "2022-06-19T17:54:23.557Z"
   },
   {
    "duration": 3,
    "start_time": "2022-06-19T17:54:30.908Z"
   },
   {
    "duration": 43248,
    "start_time": "2022-06-19T17:54:31.466Z"
   },
   {
    "duration": 11,
    "start_time": "2022-06-19T17:55:53.179Z"
   },
   {
    "duration": 166431,
    "start_time": "2022-06-19T17:55:53.702Z"
   },
   {
    "duration": 43379,
    "start_time": "2022-06-19T18:15:09.769Z"
   },
   {
    "duration": 58,
    "start_time": "2022-06-19T18:17:59.320Z"
   },
   {
    "duration": 34,
    "start_time": "2022-06-19T18:20:01.840Z"
   },
   {
    "duration": 18,
    "start_time": "2022-06-19T18:20:08.769Z"
   },
   {
    "duration": 198,
    "start_time": "2022-06-19T18:20:45.072Z"
   },
   {
    "duration": 269,
    "start_time": "2022-06-19T18:21:08.282Z"
   },
   {
    "duration": 220,
    "start_time": "2022-06-19T18:21:19.339Z"
   },
   {
    "duration": 54,
    "start_time": "2022-06-19T18:21:55.113Z"
   },
   {
    "duration": 12,
    "start_time": "2022-06-19T18:21:59.505Z"
   },
   {
    "duration": 100,
    "start_time": "2022-06-19T18:22:04.218Z"
   },
   {
    "duration": 4,
    "start_time": "2022-06-19T18:22:14.385Z"
   },
   {
    "duration": 35,
    "start_time": "2022-06-19T18:22:21.138Z"
   },
   {
    "duration": 5,
    "start_time": "2022-06-19T18:23:15.465Z"
   },
   {
    "duration": 5,
    "start_time": "2022-06-19T18:23:26.001Z"
   },
   {
    "duration": 7,
    "start_time": "2022-06-19T18:36:00.792Z"
   },
   {
    "duration": 11,
    "start_time": "2022-06-19T18:36:05.145Z"
   },
   {
    "duration": 16,
    "start_time": "2022-06-19T18:36:08.754Z"
   },
   {
    "duration": 13,
    "start_time": "2022-06-19T18:36:11.605Z"
   },
   {
    "duration": 41,
    "start_time": "2022-06-19T18:36:17.953Z"
   },
   {
    "duration": 8,
    "start_time": "2022-06-19T18:36:20.210Z"
   },
   {
    "duration": 6,
    "start_time": "2022-06-19T18:36:26.796Z"
   },
   {
    "duration": 5,
    "start_time": "2022-06-19T20:24:07.220Z"
   },
   {
    "duration": 278,
    "start_time": "2022-06-19T20:24:07.227Z"
   },
   {
    "duration": 51,
    "start_time": "2022-06-19T20:24:07.507Z"
   },
   {
    "duration": 42,
    "start_time": "2022-06-19T20:24:07.561Z"
   },
   {
    "duration": 2504,
    "start_time": "2022-06-19T20:24:07.605Z"
   },
   {
    "duration": 28,
    "start_time": "2022-06-19T20:24:10.111Z"
   },
   {
    "duration": 15,
    "start_time": "2022-06-19T20:24:10.148Z"
   },
   {
    "duration": 500,
    "start_time": "2022-06-19T20:24:10.165Z"
   },
   {
    "duration": 265,
    "start_time": "2022-06-19T20:24:10.666Z"
   },
   {
    "duration": 97,
    "start_time": "2022-06-19T20:24:10.934Z"
   },
   {
    "duration": 3047,
    "start_time": "2022-06-19T20:24:11.033Z"
   },
   {
    "duration": 17,
    "start_time": "2022-06-19T20:24:14.082Z"
   },
   {
    "duration": 58,
    "start_time": "2022-06-19T20:24:14.101Z"
   },
   {
    "duration": 7,
    "start_time": "2022-06-19T20:24:14.160Z"
   },
   {
    "duration": 32,
    "start_time": "2022-06-19T20:24:14.169Z"
   },
   {
    "duration": 28,
    "start_time": "2022-06-19T20:24:14.203Z"
   },
   {
    "duration": 29,
    "start_time": "2022-06-19T20:24:14.233Z"
   },
   {
    "duration": 25,
    "start_time": "2022-06-19T20:24:14.264Z"
   },
   {
    "duration": 20,
    "start_time": "2022-06-19T20:24:14.291Z"
   },
   {
    "duration": 2,
    "start_time": "2022-06-19T20:24:14.313Z"
   },
   {
    "duration": 11,
    "start_time": "2022-06-19T20:24:14.317Z"
   },
   {
    "duration": 28,
    "start_time": "2022-06-19T20:24:14.335Z"
   },
   {
    "duration": 994,
    "start_time": "2022-06-19T20:24:14.365Z"
   },
   {
    "duration": 3,
    "start_time": "2022-06-19T20:24:15.360Z"
   },
   {
    "duration": 546,
    "start_time": "2022-06-19T20:24:15.365Z"
   },
   {
    "duration": 3,
    "start_time": "2022-06-19T20:24:15.912Z"
   },
   {
    "duration": 55,
    "start_time": "2022-06-19T20:24:15.917Z"
   },
   {
    "duration": 5,
    "start_time": "2022-06-19T20:28:21.852Z"
   },
   {
    "duration": 13,
    "start_time": "2022-06-19T20:29:17.586Z"
   },
   {
    "duration": 17,
    "start_time": "2022-06-19T20:29:27.855Z"
   },
   {
    "duration": 6,
    "start_time": "2022-06-19T20:30:28.150Z"
   },
   {
    "duration": 9,
    "start_time": "2022-06-19T20:30:47.028Z"
   },
   {
    "duration": 16,
    "start_time": "2022-06-19T20:30:53.275Z"
   },
   {
    "duration": 11,
    "start_time": "2022-06-19T20:31:04.746Z"
   },
   {
    "duration": 16,
    "start_time": "2022-06-19T20:31:15.627Z"
   },
   {
    "duration": 12,
    "start_time": "2022-06-19T20:33:28.115Z"
   },
   {
    "duration": 12,
    "start_time": "2022-06-19T20:33:32.595Z"
   },
   {
    "duration": 10,
    "start_time": "2022-06-19T20:33:36.841Z"
   },
   {
    "duration": 7,
    "start_time": "2022-06-19T20:33:37.519Z"
   },
   {
    "duration": 573,
    "start_time": "2022-06-19T20:34:32.546Z"
   },
   {
    "duration": 585,
    "start_time": "2022-06-19T20:34:45.952Z"
   },
   {
    "duration": 30,
    "start_time": "2022-06-19T20:35:01.540Z"
   },
   {
    "duration": 8108,
    "start_time": "2022-06-19T20:35:12.843Z"
   },
   {
    "duration": 8,
    "start_time": "2022-06-19T20:35:37.155Z"
   },
   {
    "duration": 3448,
    "start_time": "2022-06-19T20:35:40.867Z"
   },
   {
    "duration": 4,
    "start_time": "2022-06-19T20:36:21.579Z"
   },
   {
    "duration": 10,
    "start_time": "2022-06-19T20:36:34.923Z"
   },
   {
    "duration": 24,
    "start_time": "2022-06-19T20:37:33.953Z"
   },
   {
    "duration": 4,
    "start_time": "2022-06-19T20:37:39.211Z"
   },
   {
    "duration": 19,
    "start_time": "2022-06-19T20:37:51.149Z"
   },
   {
    "duration": 40,
    "start_time": "2022-06-19T20:38:02.019Z"
   },
   {
    "duration": 10,
    "start_time": "2022-06-19T20:40:08.811Z"
   },
   {
    "duration": 15,
    "start_time": "2022-06-19T20:40:12.920Z"
   },
   {
    "duration": 17,
    "start_time": "2022-06-19T20:40:54.795Z"
   },
   {
    "duration": 6,
    "start_time": "2022-06-19T20:46:20.693Z"
   },
   {
    "duration": 9,
    "start_time": "2022-06-19T20:47:06.586Z"
   },
   {
    "duration": 28,
    "start_time": "2022-06-19T20:47:18.273Z"
   },
   {
    "duration": 8,
    "start_time": "2022-06-19T20:47:26.658Z"
   },
   {
    "duration": 5,
    "start_time": "2022-06-19T20:47:27.009Z"
   },
   {
    "duration": 24,
    "start_time": "2022-06-19T20:47:27.473Z"
   },
   {
    "duration": 16,
    "start_time": "2022-06-19T20:47:37.662Z"
   },
   {
    "duration": 15,
    "start_time": "2022-06-19T20:47:46.453Z"
   },
   {
    "duration": 23,
    "start_time": "2022-06-19T20:48:22.026Z"
   },
   {
    "duration": 51,
    "start_time": "2022-06-19T20:48:28.522Z"
   },
   {
    "duration": 5,
    "start_time": "2022-06-19T20:48:33.280Z"
   },
   {
    "duration": 21,
    "start_time": "2022-06-19T20:48:33.644Z"
   },
   {
    "duration": 26,
    "start_time": "2022-06-19T20:48:34.377Z"
   },
   {
    "duration": 40,
    "start_time": "2022-06-19T20:48:41.785Z"
   },
   {
    "duration": 19,
    "start_time": "2022-06-19T20:48:45.392Z"
   },
   {
    "duration": 19,
    "start_time": "2022-06-19T20:48:46.235Z"
   },
   {
    "duration": 12,
    "start_time": "2022-06-19T20:48:48.176Z"
   },
   {
    "duration": 31,
    "start_time": "2022-06-19T20:48:48.862Z"
   },
   {
    "duration": 548,
    "start_time": "2022-06-19T20:50:21.380Z"
   },
   {
    "duration": 56,
    "start_time": "2022-06-19T20:50:25.444Z"
   },
   {
    "duration": 28,
    "start_time": "2022-06-19T20:50:25.633Z"
   },
   {
    "duration": 16,
    "start_time": "2022-06-19T20:50:26.385Z"
   },
   {
    "duration": 10,
    "start_time": "2022-06-19T20:50:31.801Z"
   },
   {
    "duration": 33,
    "start_time": "2022-06-19T20:50:32.904Z"
   },
   {
    "duration": 19,
    "start_time": "2022-06-19T20:50:34.720Z"
   },
   {
    "duration": 7,
    "start_time": "2022-06-19T20:51:01.474Z"
   },
   {
    "duration": 16,
    "start_time": "2022-06-19T20:51:13.824Z"
   },
   {
    "duration": 10,
    "start_time": "2022-06-19T20:51:17.757Z"
   },
   {
    "duration": 14,
    "start_time": "2022-06-19T20:51:34.554Z"
   },
   {
    "duration": 7,
    "start_time": "2022-06-19T20:51:36.191Z"
   },
   {
    "duration": 9,
    "start_time": "2022-06-19T20:51:36.595Z"
   },
   {
    "duration": 41,
    "start_time": "2022-06-19T20:51:37.364Z"
   },
   {
    "duration": 37,
    "start_time": "2022-06-19T20:51:39.334Z"
   },
   {
    "duration": 9,
    "start_time": "2022-06-19T20:51:40.967Z"
   },
   {
    "duration": 3,
    "start_time": "2022-06-19T20:51:42.375Z"
   },
   {
    "duration": 571,
    "start_time": "2022-06-19T20:51:42.874Z"
   },
   {
    "duration": 4,
    "start_time": "2022-06-19T20:51:43.957Z"
   },
   {
    "duration": 19566,
    "start_time": "2022-06-19T20:51:45.689Z"
   },
   {
    "duration": 3,
    "start_time": "2022-06-19T20:52:05.257Z"
   },
   {
    "duration": 99173,
    "start_time": "2022-06-19T20:52:05.264Z"
   },
   {
    "duration": 20463,
    "start_time": "2022-06-19T21:07:43.669Z"
   },
   {
    "duration": 12,
    "start_time": "2022-06-19T21:08:04.133Z"
   },
   {
    "duration": 5,
    "start_time": "2022-06-19T21:08:39.646Z"
   },
   {
    "duration": 15,
    "start_time": "2022-06-19T21:08:56.846Z"
   },
   {
    "duration": 1419,
    "start_time": "2022-06-19T21:10:16.300Z"
   },
   {
    "duration": 251,
    "start_time": "2022-06-19T21:10:17.721Z"
   },
   {
    "duration": 39,
    "start_time": "2022-06-19T21:10:17.973Z"
   },
   {
    "duration": 56,
    "start_time": "2022-06-19T21:10:18.026Z"
   },
   {
    "duration": 2519,
    "start_time": "2022-06-19T21:10:18.084Z"
   },
   {
    "duration": 23,
    "start_time": "2022-06-19T21:10:20.604Z"
   },
   {
    "duration": 28,
    "start_time": "2022-06-19T21:10:20.630Z"
   },
   {
    "duration": 522,
    "start_time": "2022-06-19T21:10:20.660Z"
   },
   {
    "duration": 256,
    "start_time": "2022-06-19T21:10:21.184Z"
   },
   {
    "duration": 99,
    "start_time": "2022-06-19T21:10:21.443Z"
   },
   {
    "duration": 3009,
    "start_time": "2022-06-19T21:10:21.544Z"
   },
   {
    "duration": 16,
    "start_time": "2022-06-19T21:10:24.555Z"
   },
   {
    "duration": 44,
    "start_time": "2022-06-19T21:10:24.573Z"
   },
   {
    "duration": 12,
    "start_time": "2022-06-19T21:10:24.619Z"
   },
   {
    "duration": 37,
    "start_time": "2022-06-19T21:10:24.639Z"
   },
   {
    "duration": 8,
    "start_time": "2022-06-19T21:10:24.677Z"
   },
   {
    "duration": 8,
    "start_time": "2022-06-19T21:10:24.687Z"
   },
   {
    "duration": 26,
    "start_time": "2022-06-19T21:10:24.697Z"
   },
   {
    "duration": 31,
    "start_time": "2022-06-19T21:10:24.725Z"
   },
   {
    "duration": 7,
    "start_time": "2022-06-19T21:10:24.758Z"
   },
   {
    "duration": 6,
    "start_time": "2022-06-19T21:10:24.766Z"
   },
   {
    "duration": 7,
    "start_time": "2022-06-19T21:10:24.773Z"
   },
   {
    "duration": 954,
    "start_time": "2022-06-19T21:10:24.781Z"
   },
   {
    "duration": 10,
    "start_time": "2022-06-19T21:10:25.740Z"
   },
   {
    "duration": 526,
    "start_time": "2022-06-19T21:10:25.751Z"
   },
   {
    "duration": 3,
    "start_time": "2022-06-19T21:10:26.280Z"
   },
   {
    "duration": 65,
    "start_time": "2022-06-19T21:10:26.284Z"
   },
   {
    "duration": 19,
    "start_time": "2022-06-19T21:10:26.352Z"
   },
   {
    "duration": 16,
    "start_time": "2022-06-19T21:10:26.373Z"
   },
   {
    "duration": 8,
    "start_time": "2022-06-19T21:10:26.391Z"
   },
   {
    "duration": 54,
    "start_time": "2022-06-19T21:10:26.401Z"
   },
   {
    "duration": 5,
    "start_time": "2022-06-19T21:10:26.457Z"
   },
   {
    "duration": 17,
    "start_time": "2022-06-19T21:10:26.464Z"
   },
   {
    "duration": 17,
    "start_time": "2022-06-19T21:10:26.483Z"
   },
   {
    "duration": 14,
    "start_time": "2022-06-19T21:10:26.502Z"
   },
   {
    "duration": 45,
    "start_time": "2022-06-19T21:10:26.518Z"
   },
   {
    "duration": 46,
    "start_time": "2022-06-19T21:10:26.564Z"
   },
   {
    "duration": 31,
    "start_time": "2022-06-19T21:10:26.612Z"
   },
   {
    "duration": 7,
    "start_time": "2022-06-19T21:10:26.647Z"
   },
   {
    "duration": 19,
    "start_time": "2022-06-19T21:10:26.657Z"
   },
   {
    "duration": 497,
    "start_time": "2022-06-19T21:10:26.678Z"
   },
   {
    "duration": 3,
    "start_time": "2022-06-19T21:10:27.176Z"
   },
   {
    "duration": 19275,
    "start_time": "2022-06-19T21:10:27.180Z"
   },
   {
    "duration": 3,
    "start_time": "2022-06-19T21:10:46.457Z"
   },
   {
    "duration": 101692,
    "start_time": "2022-06-19T21:10:46.461Z"
   },
   {
    "duration": 24089,
    "start_time": "2022-06-19T21:12:28.155Z"
   },
   {
    "duration": 82,
    "start_time": "2022-06-19T21:12:52.253Z"
   },
   {
    "duration": 111,
    "start_time": "2022-06-19T21:12:52.347Z"
   },
   {
    "duration": 7,
    "start_time": "2022-06-19T21:16:19.355Z"
   },
   {
    "duration": 3,
    "start_time": "2022-06-19T21:16:47.091Z"
   },
   {
    "duration": 9,
    "start_time": "2022-06-19T23:00:32.604Z"
   },
   {
    "duration": 1470,
    "start_time": "2022-06-19T23:00:39.579Z"
   },
   {
    "duration": 429,
    "start_time": "2022-06-19T23:00:41.050Z"
   },
   {
    "duration": 39,
    "start_time": "2022-06-19T23:00:41.480Z"
   },
   {
    "duration": 53,
    "start_time": "2022-06-19T23:00:41.522Z"
   },
   {
    "duration": 2328,
    "start_time": "2022-06-19T23:00:41.577Z"
   },
   {
    "duration": 19,
    "start_time": "2022-06-19T23:00:43.907Z"
   },
   {
    "duration": 8,
    "start_time": "2022-06-19T23:00:43.928Z"
   },
   {
    "duration": 447,
    "start_time": "2022-06-19T23:00:43.937Z"
   },
   {
    "duration": 241,
    "start_time": "2022-06-19T23:00:44.386Z"
   },
   {
    "duration": 95,
    "start_time": "2022-06-19T23:00:44.632Z"
   },
   {
    "duration": 2620,
    "start_time": "2022-06-19T23:00:44.729Z"
   },
   {
    "duration": 19,
    "start_time": "2022-06-19T23:00:47.350Z"
   },
   {
    "duration": 60,
    "start_time": "2022-06-19T23:00:47.370Z"
   },
   {
    "duration": 7,
    "start_time": "2022-06-19T23:00:47.431Z"
   },
   {
    "duration": 29,
    "start_time": "2022-06-19T23:00:47.439Z"
   },
   {
    "duration": 7,
    "start_time": "2022-06-19T23:00:47.470Z"
   },
   {
    "duration": 7,
    "start_time": "2022-06-19T23:00:47.478Z"
   },
   {
    "duration": 5,
    "start_time": "2022-06-19T23:00:47.486Z"
   },
   {
    "duration": 48,
    "start_time": "2022-06-19T23:00:47.493Z"
   },
   {
    "duration": 20,
    "start_time": "2022-06-19T23:00:47.543Z"
   },
   {
    "duration": 3,
    "start_time": "2022-06-19T23:00:47.564Z"
   },
   {
    "duration": 7,
    "start_time": "2022-06-19T23:00:47.569Z"
   },
   {
    "duration": 6,
    "start_time": "2022-06-19T23:00:47.577Z"
   },
   {
    "duration": 838,
    "start_time": "2022-06-19T23:00:47.584Z"
   },
   {
    "duration": 3,
    "start_time": "2022-06-19T23:00:48.424Z"
   },
   {
    "duration": 476,
    "start_time": "2022-06-19T23:00:48.429Z"
   },
   {
    "duration": 4,
    "start_time": "2022-06-19T23:00:48.906Z"
   },
   {
    "duration": 73,
    "start_time": "2022-06-19T23:00:48.913Z"
   },
   {
    "duration": 20,
    "start_time": "2022-06-19T23:00:48.988Z"
   },
   {
    "duration": 25,
    "start_time": "2022-06-19T23:00:49.010Z"
   },
   {
    "duration": 9,
    "start_time": "2022-06-19T23:00:49.037Z"
   },
   {
    "duration": 31,
    "start_time": "2022-06-19T23:00:49.047Z"
   },
   {
    "duration": 4,
    "start_time": "2022-06-19T23:00:49.080Z"
   },
   {
    "duration": 9,
    "start_time": "2022-06-19T23:00:49.085Z"
   },
   {
    "duration": 7,
    "start_time": "2022-06-19T23:00:49.096Z"
   },
   {
    "duration": 28,
    "start_time": "2022-06-19T23:00:49.105Z"
   },
   {
    "duration": 7,
    "start_time": "2022-06-19T23:00:49.135Z"
   },
   {
    "duration": 41,
    "start_time": "2022-06-19T23:00:49.144Z"
   },
   {
    "duration": 41,
    "start_time": "2022-06-19T23:00:49.186Z"
   },
   {
    "duration": 4,
    "start_time": "2022-06-19T23:00:49.228Z"
   },
   {
    "duration": 8,
    "start_time": "2022-06-19T23:00:49.233Z"
   },
   {
    "duration": 470,
    "start_time": "2022-06-19T23:00:49.243Z"
   },
   {
    "duration": 3,
    "start_time": "2022-06-19T23:00:49.715Z"
   },
   {
    "duration": 16768,
    "start_time": "2022-06-19T23:00:49.719Z"
   },
   {
    "duration": 3,
    "start_time": "2022-06-19T23:01:06.488Z"
   },
   {
    "duration": 90634,
    "start_time": "2022-06-19T23:01:06.493Z"
   },
   {
    "duration": 24201,
    "start_time": "2022-06-19T23:02:37.130Z"
   },
   {
    "duration": 95,
    "start_time": "2022-06-19T23:03:01.333Z"
   },
   {
    "duration": 115,
    "start_time": "2022-06-19T23:03:01.430Z"
   },
   {
    "duration": 17,
    "start_time": "2022-06-19T23:03:01.548Z"
   },
   {
    "duration": 6,
    "start_time": "2022-06-19T23:22:37.164Z"
   },
   {
    "duration": 1587,
    "start_time": "2022-06-19T23:22:53.085Z"
   },
   {
    "duration": 4,
    "start_time": "2022-06-19T23:24:16.394Z"
   },
   {
    "duration": 1241,
    "start_time": "2022-06-19T23:24:19.918Z"
   },
   {
    "duration": 1226,
    "start_time": "2022-06-19T23:24:21.167Z"
   },
   {
    "duration": 1155,
    "start_time": "2022-06-19T23:25:01.913Z"
   },
   {
    "duration": 1254,
    "start_time": "2022-06-19T23:25:03.070Z"
   },
   {
    "duration": 5,
    "start_time": "2022-06-19T23:26:57.273Z"
   },
   {
    "duration": 733,
    "start_time": "2022-06-19T23:27:05.299Z"
   },
   {
    "duration": 726,
    "start_time": "2022-06-19T23:27:06.034Z"
   },
   {
    "duration": 1434,
    "start_time": "2022-06-19T23:28:41.456Z"
   },
   {
    "duration": 268,
    "start_time": "2022-06-19T23:28:42.893Z"
   },
   {
    "duration": 36,
    "start_time": "2022-06-19T23:28:43.164Z"
   },
   {
    "duration": 99,
    "start_time": "2022-06-19T23:28:43.202Z"
   },
   {
    "duration": 2456,
    "start_time": "2022-06-19T23:28:43.303Z"
   },
   {
    "duration": 18,
    "start_time": "2022-06-19T23:28:45.761Z"
   },
   {
    "duration": 7,
    "start_time": "2022-06-19T23:28:45.781Z"
   },
   {
    "duration": 511,
    "start_time": "2022-06-19T23:28:45.790Z"
   },
   {
    "duration": 259,
    "start_time": "2022-06-19T23:28:46.303Z"
   },
   {
    "duration": 103,
    "start_time": "2022-06-19T23:28:46.565Z"
   },
   {
    "duration": 2950,
    "start_time": "2022-06-19T23:28:46.670Z"
   },
   {
    "duration": 33,
    "start_time": "2022-06-19T23:28:49.622Z"
   },
   {
    "duration": 83,
    "start_time": "2022-06-19T23:28:49.657Z"
   },
   {
    "duration": 14,
    "start_time": "2022-06-19T23:28:49.743Z"
   },
   {
    "duration": 49,
    "start_time": "2022-06-19T23:28:49.760Z"
   },
   {
    "duration": 8,
    "start_time": "2022-06-19T23:28:49.811Z"
   },
   {
    "duration": 49,
    "start_time": "2022-06-19T23:28:49.821Z"
   },
   {
    "duration": 18,
    "start_time": "2022-06-19T23:28:49.872Z"
   },
   {
    "duration": 34,
    "start_time": "2022-06-19T23:28:49.892Z"
   },
   {
    "duration": 38,
    "start_time": "2022-06-19T23:28:49.931Z"
   },
   {
    "duration": 9,
    "start_time": "2022-06-19T23:28:49.971Z"
   },
   {
    "duration": 7,
    "start_time": "2022-06-19T23:28:49.982Z"
   },
   {
    "duration": 6,
    "start_time": "2022-06-19T23:28:49.991Z"
   },
   {
    "duration": 962,
    "start_time": "2022-06-19T23:28:49.998Z"
   },
   {
    "duration": 3,
    "start_time": "2022-06-19T23:28:50.962Z"
   },
   {
    "duration": 375,
    "start_time": "2022-06-19T23:28:50.967Z"
   },
   {
    "duration": 4,
    "start_time": "2022-06-19T23:28:51.344Z"
   },
   {
    "duration": 51,
    "start_time": "2022-06-19T23:28:51.351Z"
   },
   {
    "duration": 44,
    "start_time": "2022-06-19T23:28:51.403Z"
   },
   {
    "duration": 18,
    "start_time": "2022-06-19T23:28:51.449Z"
   },
   {
    "duration": 12,
    "start_time": "2022-06-19T23:28:51.469Z"
   },
   {
    "duration": 68,
    "start_time": "2022-06-19T23:28:51.484Z"
   },
   {
    "duration": 5,
    "start_time": "2022-06-19T23:28:51.554Z"
   },
   {
    "duration": 13,
    "start_time": "2022-06-19T23:28:51.561Z"
   },
   {
    "duration": 20,
    "start_time": "2022-06-19T23:28:51.576Z"
   },
   {
    "duration": 35,
    "start_time": "2022-06-19T23:28:51.598Z"
   },
   {
    "duration": 25,
    "start_time": "2022-06-19T23:28:51.635Z"
   },
   {
    "duration": 47,
    "start_time": "2022-06-19T23:28:51.664Z"
   },
   {
    "duration": 23,
    "start_time": "2022-06-19T23:28:51.713Z"
   },
   {
    "duration": 4,
    "start_time": "2022-06-19T23:28:51.738Z"
   },
   {
    "duration": 17,
    "start_time": "2022-06-19T23:28:51.744Z"
   },
   {
    "duration": 548,
    "start_time": "2022-06-19T23:28:51.763Z"
   },
   {
    "duration": 4,
    "start_time": "2022-06-19T23:28:52.313Z"
   },
   {
    "duration": 19431,
    "start_time": "2022-06-19T23:28:52.318Z"
   },
   {
    "duration": 3,
    "start_time": "2022-06-19T23:29:11.751Z"
   },
   {
    "duration": 86473,
    "start_time": "2022-06-19T23:29:11.755Z"
   },
   {
    "duration": 20496,
    "start_time": "2022-06-19T23:30:38.231Z"
   },
   {
    "duration": 29,
    "start_time": "2022-06-19T23:30:58.729Z"
   },
   {
    "duration": 128,
    "start_time": "2022-06-19T23:30:58.770Z"
   },
   {
    "duration": 11,
    "start_time": "2022-06-19T23:30:58.900Z"
   },
   {
    "duration": 874,
    "start_time": "2022-06-19T23:30:58.913Z"
   },
   {
    "duration": 726,
    "start_time": "2022-06-19T23:30:59.789Z"
   },
   {
    "duration": 9,
    "start_time": "2022-06-19T23:48:26.546Z"
   },
   {
    "duration": 549,
    "start_time": "2022-06-19T23:48:48.065Z"
   },
   {
    "duration": 556,
    "start_time": "2022-06-19T23:48:59.322Z"
   },
   {
    "duration": 45,
    "start_time": "2022-06-19T23:50:27.426Z"
   },
   {
    "duration": 4,
    "start_time": "2022-06-19T23:50:29.921Z"
   },
   {
    "duration": 4,
    "start_time": "2022-06-19T23:57:10.488Z"
   },
   {
    "duration": 4,
    "start_time": "2022-06-19T23:57:14.788Z"
   },
   {
    "duration": 511,
    "start_time": "2022-06-19T23:57:15.209Z"
   },
   {
    "duration": 4,
    "start_time": "2022-06-19T23:57:19.186Z"
   },
   {
    "duration": 17475,
    "start_time": "2022-06-19T23:57:20.266Z"
   },
   {
    "duration": 3,
    "start_time": "2022-06-19T23:57:48.546Z"
   },
   {
    "duration": 102249,
    "start_time": "2022-06-19T23:57:49.179Z"
   },
   {
    "duration": 106,
    "start_time": "2022-06-20T00:03:41.266Z"
   },
   {
    "duration": 122,
    "start_time": "2022-06-20T00:03:42.792Z"
   },
   {
    "duration": 9,
    "start_time": "2022-06-20T00:03:50.681Z"
   },
   {
    "duration": 15,
    "start_time": "2022-06-20T00:03:52.711Z"
   },
   {
    "duration": 4,
    "start_time": "2022-06-20T00:03:56.016Z"
   },
   {
    "duration": 628,
    "start_time": "2022-06-20T00:04:01.129Z"
   },
   {
    "duration": 702,
    "start_time": "2022-06-20T00:04:01.825Z"
   },
   {
    "duration": 4,
    "start_time": "2022-06-20T00:04:02.747Z"
   },
   {
    "duration": 18024,
    "start_time": "2022-06-20T00:05:13.504Z"
   },
   {
    "duration": 6,
    "start_time": "2022-06-20T00:05:31.531Z"
   },
   {
    "duration": 188,
    "start_time": "2022-06-20T00:05:31.539Z"
   },
   {
    "duration": 8,
    "start_time": "2022-06-20T00:05:31.730Z"
   },
   {
    "duration": 647,
    "start_time": "2022-06-20T00:05:31.739Z"
   },
   {
    "duration": 560,
    "start_time": "2022-06-20T00:05:32.388Z"
   },
   {
    "duration": 4,
    "start_time": "2022-06-20T00:05:32.949Z"
   },
   {
    "duration": 5,
    "start_time": "2022-06-20T00:06:10.137Z"
   },
   {
    "duration": 4,
    "start_time": "2022-06-20T00:08:19.849Z"
   },
   {
    "duration": 4,
    "start_time": "2022-06-20T00:10:12.369Z"
   },
   {
    "duration": 539950,
    "start_time": "2022-06-20T00:10:32.900Z"
   },
   {
    "duration": 4,
    "start_time": "2022-06-20T00:27:31.586Z"
   },
   {
    "duration": 7,
    "start_time": "2022-06-20T00:36:18.553Z"
   },
   {
    "duration": 5,
    "start_time": "2022-06-20T00:36:19.177Z"
   },
   {
    "duration": 36,
    "start_time": "2022-06-20T00:36:21.871Z"
   },
   {
    "duration": 29,
    "start_time": "2022-06-20T00:36:22.379Z"
   },
   {
    "duration": 4,
    "start_time": "2022-06-20T00:36:25.137Z"
   },
   {
    "duration": 4,
    "start_time": "2022-06-20T00:36:27.713Z"
   },
   {
    "duration": 447,
    "start_time": "2022-06-20T00:36:27.993Z"
   },
   {
    "duration": 3,
    "start_time": "2022-06-20T00:36:31.633Z"
   },
   {
    "duration": 16894,
    "start_time": "2022-06-20T00:36:32.209Z"
   },
   {
    "duration": 3,
    "start_time": "2022-06-20T00:36:49.107Z"
   },
   {
    "duration": 78624,
    "start_time": "2022-06-20T00:36:49.112Z"
   },
   {
    "duration": 19858,
    "start_time": "2022-06-20T00:46:07.974Z"
   },
   {
    "duration": 7,
    "start_time": "2022-06-20T00:46:27.834Z"
   },
   {
    "duration": 123,
    "start_time": "2022-06-20T00:46:27.927Z"
   },
   {
    "duration": 4,
    "start_time": "2022-06-20T00:46:28.053Z"
   },
   {
    "duration": 580,
    "start_time": "2022-06-20T00:46:28.059Z"
   },
   {
    "duration": 569,
    "start_time": "2022-06-20T00:46:28.641Z"
   },
   {
    "duration": 4,
    "start_time": "2022-06-20T00:46:29.211Z"
   },
   {
    "duration": 12,
    "start_time": "2022-06-20T00:54:01.069Z"
   },
   {
    "duration": 6,
    "start_time": "2022-06-20T00:54:01.620Z"
   },
   {
    "duration": 54,
    "start_time": "2022-06-20T00:54:04.006Z"
   },
   {
    "duration": 27,
    "start_time": "2022-06-20T00:54:04.261Z"
   },
   {
    "duration": 3,
    "start_time": "2022-06-20T00:54:05.173Z"
   },
   {
    "duration": 3,
    "start_time": "2022-06-20T00:54:06.238Z"
   },
   {
    "duration": 493,
    "start_time": "2022-06-20T00:54:06.461Z"
   },
   {
    "duration": 4,
    "start_time": "2022-06-20T00:54:07.030Z"
   },
   {
    "duration": 17177,
    "start_time": "2022-06-20T00:54:07.229Z"
   },
   {
    "duration": 4,
    "start_time": "2022-06-20T00:54:24.409Z"
   },
   {
    "duration": 73012,
    "start_time": "2022-06-20T00:54:24.415Z"
   },
   {
    "duration": 25499,
    "start_time": "2022-06-20T00:55:37.431Z"
   },
   {
    "duration": 93,
    "start_time": "2022-06-20T00:56:02.937Z"
   },
   {
    "duration": 114,
    "start_time": "2022-06-20T00:56:03.034Z"
   },
   {
    "duration": 4,
    "start_time": "2022-06-20T00:56:03.150Z"
   },
   {
    "duration": 587,
    "start_time": "2022-06-20T00:56:03.156Z"
   },
   {
    "duration": 606,
    "start_time": "2022-06-20T00:56:03.745Z"
   },
   {
    "duration": 3,
    "start_time": "2022-06-20T00:56:04.355Z"
   },
   {
    "duration": 100,
    "start_time": "2022-06-20T00:57:37.469Z"
   },
   {
    "duration": 7,
    "start_time": "2022-06-20T00:57:37.781Z"
   },
   {
    "duration": 16,
    "start_time": "2022-06-20T00:57:38.299Z"
   },
   {
    "duration": 4,
    "start_time": "2022-06-20T00:57:39.035Z"
   },
   {
    "duration": 557,
    "start_time": "2022-06-20T00:57:39.443Z"
   },
   {
    "duration": 594,
    "start_time": "2022-06-20T00:57:40.002Z"
   },
   {
    "duration": 4,
    "start_time": "2022-06-20T00:57:42.052Z"
   },
   {
    "duration": 27239,
    "start_time": "2022-06-20T00:57:51.394Z"
   },
   {
    "duration": 96,
    "start_time": "2022-06-20T00:58:18.636Z"
   },
   {
    "duration": 117,
    "start_time": "2022-06-20T00:58:18.735Z"
   },
   {
    "duration": 73,
    "start_time": "2022-06-20T00:58:18.855Z"
   },
   {
    "duration": 1216,
    "start_time": "2022-06-20T00:58:18.930Z"
   },
   {
    "duration": 801,
    "start_time": "2022-06-20T00:58:20.148Z"
   },
   {
    "duration": 3,
    "start_time": "2022-06-20T00:58:20.951Z"
   },
   {
    "duration": 2164,
    "start_time": "2022-06-21T16:59:36.436Z"
   },
   {
    "duration": 587,
    "start_time": "2022-06-21T16:59:38.602Z"
   },
   {
    "duration": 43,
    "start_time": "2022-06-21T16:59:39.193Z"
   },
   {
    "duration": 61,
    "start_time": "2022-06-21T16:59:39.238Z"
   },
   {
    "duration": 2432,
    "start_time": "2022-06-21T16:59:39.301Z"
   },
   {
    "duration": 21,
    "start_time": "2022-06-21T16:59:41.735Z"
   },
   {
    "duration": 43,
    "start_time": "2022-06-21T16:59:41.757Z"
   },
   {
    "duration": 496,
    "start_time": "2022-06-21T16:59:41.802Z"
   },
   {
    "duration": 269,
    "start_time": "2022-06-21T16:59:42.299Z"
   },
   {
    "duration": 102,
    "start_time": "2022-06-21T16:59:42.572Z"
   },
   {
    "duration": 2928,
    "start_time": "2022-06-21T16:59:42.679Z"
   },
   {
    "duration": 23,
    "start_time": "2022-06-21T16:59:45.609Z"
   },
   {
    "duration": 68,
    "start_time": "2022-06-21T16:59:45.634Z"
   },
   {
    "duration": 8,
    "start_time": "2022-06-21T16:59:45.704Z"
   },
   {
    "duration": 62,
    "start_time": "2022-06-21T16:59:45.715Z"
   },
   {
    "duration": 14,
    "start_time": "2022-06-21T16:59:45.778Z"
   },
   {
    "duration": 7,
    "start_time": "2022-06-21T16:59:45.795Z"
   },
   {
    "duration": 5,
    "start_time": "2022-06-21T16:59:45.803Z"
   },
   {
    "duration": 29,
    "start_time": "2022-06-21T16:59:45.809Z"
   },
   {
    "duration": 44,
    "start_time": "2022-06-21T16:59:45.855Z"
   },
   {
    "duration": 5,
    "start_time": "2022-06-21T16:59:45.901Z"
   },
   {
    "duration": 9,
    "start_time": "2022-06-21T16:59:45.908Z"
   },
   {
    "duration": 11,
    "start_time": "2022-06-21T16:59:45.919Z"
   },
   {
    "duration": 1106,
    "start_time": "2022-06-21T16:59:45.932Z"
   },
   {
    "duration": 3,
    "start_time": "2022-06-21T16:59:47.040Z"
   },
   {
    "duration": 460,
    "start_time": "2022-06-21T16:59:47.044Z"
   },
   {
    "duration": 6,
    "start_time": "2022-06-21T16:59:47.507Z"
   },
   {
    "duration": 63,
    "start_time": "2022-06-21T16:59:47.517Z"
   },
   {
    "duration": 27,
    "start_time": "2022-06-21T16:59:47.582Z"
   },
   {
    "duration": 17,
    "start_time": "2022-06-21T16:59:47.611Z"
   },
   {
    "duration": 48,
    "start_time": "2022-06-21T16:59:47.630Z"
   },
   {
    "duration": 26,
    "start_time": "2022-06-21T16:59:47.691Z"
   },
   {
    "duration": 3,
    "start_time": "2022-06-21T16:59:47.719Z"
   },
   {
    "duration": 8,
    "start_time": "2022-06-21T16:59:47.724Z"
   },
   {
    "duration": 8,
    "start_time": "2022-06-21T16:59:47.733Z"
   },
   {
    "duration": 29,
    "start_time": "2022-06-21T16:59:47.743Z"
   },
   {
    "duration": 21,
    "start_time": "2022-06-21T16:59:47.781Z"
   },
   {
    "duration": 40,
    "start_time": "2022-06-21T16:59:47.804Z"
   },
   {
    "duration": 31,
    "start_time": "2022-06-21T16:59:47.845Z"
   },
   {
    "duration": 24,
    "start_time": "2022-06-21T16:59:47.877Z"
   },
   {
    "duration": 5,
    "start_time": "2022-06-21T16:59:47.903Z"
   },
   {
    "duration": 500,
    "start_time": "2022-06-21T16:59:47.910Z"
   },
   {
    "duration": 3,
    "start_time": "2022-06-21T16:59:48.412Z"
   },
   {
    "duration": 18288,
    "start_time": "2022-06-21T16:59:48.417Z"
   },
   {
    "duration": 4,
    "start_time": "2022-06-21T17:00:06.710Z"
   },
   {
    "duration": 88282,
    "start_time": "2022-06-21T17:00:06.715Z"
   },
   {
    "duration": 29274,
    "start_time": "2022-06-21T17:01:34.999Z"
   },
   {
    "duration": 74,
    "start_time": "2022-06-21T17:02:04.289Z"
   },
   {
    "duration": 157,
    "start_time": "2022-06-21T17:02:04.372Z"
   },
   {
    "duration": 13,
    "start_time": "2022-06-21T17:02:04.531Z"
   },
   {
    "duration": 928,
    "start_time": "2022-06-21T17:02:04.546Z"
   },
   {
    "duration": 745,
    "start_time": "2022-06-21T17:02:05.476Z"
   },
   {
    "duration": 3,
    "start_time": "2022-06-21T17:02:06.223Z"
   },
   {
    "duration": 8,
    "start_time": "2022-06-21T17:06:50.787Z"
   },
   {
    "duration": 133,
    "start_time": "2022-06-21T17:07:17.348Z"
   },
   {
    "duration": 17,
    "start_time": "2022-06-21T17:07:20.699Z"
   },
   {
    "duration": 2810,
    "start_time": "2022-06-21T17:08:26.380Z"
   },
   {
    "duration": 2731,
    "start_time": "2022-06-21T17:09:46.611Z"
   },
   {
    "duration": 23,
    "start_time": "2022-06-21T17:10:43.746Z"
   },
   {
    "duration": 11,
    "start_time": "2022-06-21T17:11:28.778Z"
   },
   {
    "duration": 15,
    "start_time": "2022-06-21T17:11:56.739Z"
   },
   {
    "duration": 128,
    "start_time": "2022-06-21T17:12:11.882Z"
   },
   {
    "duration": 157,
    "start_time": "2022-06-21T17:12:38.139Z"
   },
   {
    "duration": 16,
    "start_time": "2022-06-21T17:17:11.028Z"
   },
   {
    "duration": 29,
    "start_time": "2022-06-21T17:17:14.615Z"
   },
   {
    "duration": 10,
    "start_time": "2022-06-21T17:18:14.521Z"
   },
   {
    "duration": 13,
    "start_time": "2022-06-21T17:18:19.397Z"
   },
   {
    "duration": 142,
    "start_time": "2022-06-21T17:18:44.805Z"
   },
   {
    "duration": 21,
    "start_time": "2022-06-21T17:19:03.184Z"
   },
   {
    "duration": 6,
    "start_time": "2022-06-21T17:19:27.923Z"
   },
   {
    "duration": 129,
    "start_time": "2022-06-21T17:21:03.713Z"
   },
   {
    "duration": 7,
    "start_time": "2022-06-21T17:22:02.880Z"
   },
   {
    "duration": 7,
    "start_time": "2022-06-21T17:22:06.283Z"
   },
   {
    "duration": 3337,
    "start_time": "2022-06-21T17:22:32.080Z"
   },
   {
    "duration": 259,
    "start_time": "2022-06-21T17:26:09.612Z"
   },
   {
    "duration": 246,
    "start_time": "2022-06-21T17:26:17.038Z"
   },
   {
    "duration": 979,
    "start_time": "2022-06-21T17:28:07.385Z"
   },
   {
    "duration": 782,
    "start_time": "2022-06-21T17:38:48.222Z"
   },
   {
    "duration": 966,
    "start_time": "2022-06-21T17:39:21.578Z"
   },
   {
    "duration": 118,
    "start_time": "2022-06-21T17:39:28.689Z"
   },
   {
    "duration": 16,
    "start_time": "2022-06-21T17:39:51.338Z"
   },
   {
    "duration": 13,
    "start_time": "2022-06-21T17:39:59.505Z"
   },
   {
    "duration": 10,
    "start_time": "2022-06-21T17:40:06.682Z"
   },
   {
    "duration": 43,
    "start_time": "2022-06-21T17:40:21.076Z"
   },
   {
    "duration": 12,
    "start_time": "2022-06-21T17:40:25.580Z"
   },
   {
    "duration": 11,
    "start_time": "2022-06-21T17:40:36.495Z"
   },
   {
    "duration": 17,
    "start_time": "2022-06-21T17:41:51.387Z"
   },
   {
    "duration": 144,
    "start_time": "2022-06-21T17:42:04.032Z"
   },
   {
    "duration": 150,
    "start_time": "2022-06-21T17:43:10.007Z"
   },
   {
    "duration": 146,
    "start_time": "2022-06-21T17:43:15.530Z"
   },
   {
    "duration": 189,
    "start_time": "2022-06-21T17:43:26.200Z"
   },
   {
    "duration": 1644,
    "start_time": "2022-06-21T17:44:44.044Z"
   },
   {
    "duration": 567,
    "start_time": "2022-06-21T17:45:37.091Z"
   },
   {
    "duration": 2667,
    "start_time": "2022-06-21T18:02:29.010Z"
   },
   {
    "duration": 2804,
    "start_time": "2022-06-21T18:05:24.251Z"
   },
   {
    "duration": 556,
    "start_time": "2022-06-21T18:22:21.742Z"
   },
   {
    "duration": 1154,
    "start_time": "2022-06-21T21:05:36.310Z"
   },
   {
    "duration": 4,
    "start_time": "2022-06-21T22:11:58.304Z"
   },
   {
    "duration": 3,
    "start_time": "2022-06-21T22:12:37.033Z"
   },
   {
    "duration": 94397,
    "start_time": "2022-06-21T22:12:51.129Z"
   },
   {
    "duration": 3,
    "start_time": "2022-06-21T22:32:10.662Z"
   },
   {
    "duration": 94564,
    "start_time": "2022-06-21T22:32:18.599Z"
   },
   {
    "duration": 3,
    "start_time": "2022-06-21T22:41:11.212Z"
   },
   {
    "duration": 99426,
    "start_time": "2022-06-21T22:41:11.393Z"
   },
   {
    "duration": 3,
    "start_time": "2022-06-21T22:56:11.483Z"
   },
   {
    "duration": 95643,
    "start_time": "2022-06-21T22:56:12.133Z"
   },
   {
    "duration": 2,
    "start_time": "2022-06-21T23:13:30.851Z"
   },
   {
    "duration": 93736,
    "start_time": "2022-06-21T23:13:31.155Z"
   },
   {
    "duration": 3,
    "start_time": "2022-06-21T23:27:42.543Z"
   },
   {
    "duration": 81571,
    "start_time": "2022-06-21T23:27:42.687Z"
   },
   {
    "duration": 3,
    "start_time": "2022-06-21T23:43:03.170Z"
   },
   {
    "duration": 95550,
    "start_time": "2022-06-21T23:43:03.310Z"
   },
   {
    "duration": 3,
    "start_time": "2022-06-21T23:49:34.355Z"
   },
   {
    "duration": 96889,
    "start_time": "2022-06-21T23:49:34.360Z"
   },
   {
    "duration": 2,
    "start_time": "2022-06-22T00:18:10.397Z"
   },
   {
    "duration": 93507,
    "start_time": "2022-06-22T00:18:10.575Z"
   },
   {
    "duration": 2,
    "start_time": "2022-06-22T00:33:25.228Z"
   },
   {
    "duration": 98017,
    "start_time": "2022-06-22T00:33:25.390Z"
   },
   {
    "duration": 3,
    "start_time": "2022-06-22T00:36:18.413Z"
   },
   {
    "duration": 50910,
    "start_time": "2022-06-22T00:36:21.542Z"
   },
   {
    "duration": 3,
    "start_time": "2022-06-22T00:42:14.772Z"
   },
   {
    "duration": 3,
    "start_time": "2022-06-22T00:42:48.230Z"
   },
   {
    "duration": 11,
    "start_time": "2022-06-22T00:55:06.979Z"
   },
   {
    "duration": 2,
    "start_time": "2022-06-22T00:55:45.313Z"
   },
   {
    "duration": 2,
    "start_time": "2022-06-22T00:55:48.250Z"
   },
   {
    "duration": 259008,
    "start_time": "2022-06-22T00:56:04.344Z"
   },
   {
    "duration": 3,
    "start_time": "2022-06-22T01:07:17.359Z"
   },
   {
    "duration": 2,
    "start_time": "2022-06-22T01:15:59.357Z"
   },
   {
    "duration": 3,
    "start_time": "2022-06-22T01:16:00.133Z"
   },
   {
    "duration": 82480,
    "start_time": "2022-06-22T01:16:02.093Z"
   },
   {
    "duration": 7,
    "start_time": "2022-06-22T01:17:24.575Z"
   },
   {
    "duration": 50,
    "start_time": "2022-06-22T01:18:22.122Z"
   },
   {
    "duration": 2,
    "start_time": "2022-06-22T01:18:26.365Z"
   },
   {
    "duration": 3,
    "start_time": "2022-06-22T01:18:27.020Z"
   },
   {
    "duration": 2216741,
    "start_time": "2022-06-22T01:18:27.813Z"
   },
   {
    "duration": 94,
    "start_time": "2022-06-22T01:55:24.557Z"
   },
   {
    "duration": 4,
    "start_time": "2022-06-22T10:37:02.337Z"
   },
   {
    "duration": 125534,
    "start_time": "2022-06-22T10:37:03.844Z"
   },
   {
    "duration": 29991,
    "start_time": "2022-06-22T10:39:39.073Z"
   },
   {
    "duration": 96,
    "start_time": "2022-06-22T10:40:09.077Z"
   },
   {
    "duration": 131,
    "start_time": "2022-06-22T10:40:09.183Z"
   },
   {
    "duration": 12,
    "start_time": "2022-06-22T10:40:09.354Z"
   },
   {
    "duration": 906,
    "start_time": "2022-06-22T10:40:09.373Z"
   },
   {
    "duration": 910,
    "start_time": "2022-06-22T10:40:10.282Z"
   },
   {
    "duration": 5,
    "start_time": "2022-06-22T10:40:11.194Z"
   },
   {
    "duration": 4,
    "start_time": "2022-06-22T10:43:52.114Z"
   },
   {
    "duration": 25182,
    "start_time": "2022-06-22T10:44:01.993Z"
   },
   {
    "duration": 17,
    "start_time": "2022-06-22T10:44:27.191Z"
   },
   {
    "duration": 134,
    "start_time": "2022-06-22T10:44:27.279Z"
   },
   {
    "duration": 4,
    "start_time": "2022-06-22T10:44:27.416Z"
   },
   {
    "duration": 1090,
    "start_time": "2022-06-22T10:44:27.422Z"
   },
   {
    "duration": 1093,
    "start_time": "2022-06-22T10:44:28.514Z"
   },
   {
    "duration": 10,
    "start_time": "2022-06-22T10:44:29.614Z"
   },
   {
    "duration": 3,
    "start_time": "2022-06-22T10:46:22.927Z"
   },
   {
    "duration": 30758,
    "start_time": "2022-06-22T10:46:29.319Z"
   },
   {
    "duration": 40,
    "start_time": "2022-06-22T10:47:00.152Z"
   },
   {
    "duration": 137,
    "start_time": "2022-06-22T10:47:00.202Z"
   },
   {
    "duration": 4,
    "start_time": "2022-06-22T10:47:00.343Z"
   },
   {
    "duration": 1106,
    "start_time": "2022-06-22T10:47:00.352Z"
   },
   {
    "duration": 989,
    "start_time": "2022-06-22T10:47:01.464Z"
   },
   {
    "duration": 16,
    "start_time": "2022-06-22T10:47:02.463Z"
   },
   {
    "duration": 14,
    "start_time": "2022-06-22T10:49:38.379Z"
   },
   {
    "duration": 9,
    "start_time": "2022-06-22T10:49:38.981Z"
   },
   {
    "duration": 40,
    "start_time": "2022-06-22T10:49:41.592Z"
   },
   {
    "duration": 27,
    "start_time": "2022-06-22T10:49:42.089Z"
   },
   {
    "duration": 4,
    "start_time": "2022-06-22T10:49:51.429Z"
   },
   {
    "duration": 129858,
    "start_time": "2022-06-22T10:49:53.397Z"
   },
   {
    "duration": 4,
    "start_time": "2022-06-22T10:52:03.258Z"
   },
   {
    "duration": 129,
    "start_time": "2022-06-22T10:52:03.264Z"
   },
   {
    "duration": 880074,
    "start_time": "2022-06-22T10:52:03.401Z"
   },
   {
    "duration": 12,
    "start_time": "2022-06-22T11:06:43.488Z"
   },
   {
    "duration": 0,
    "start_time": "2022-06-22T11:06:43.502Z"
   },
   {
    "duration": 0,
    "start_time": "2022-06-22T11:06:43.505Z"
   },
   {
    "duration": 0,
    "start_time": "2022-06-22T11:06:43.506Z"
   },
   {
    "duration": 0,
    "start_time": "2022-06-22T11:06:43.507Z"
   },
   {
    "duration": 0,
    "start_time": "2022-06-22T11:06:43.509Z"
   },
   {
    "duration": 0,
    "start_time": "2022-06-22T11:06:43.510Z"
   },
   {
    "duration": 0,
    "start_time": "2022-06-22T11:06:43.511Z"
   },
   {
    "duration": 1825,
    "start_time": "2022-06-22T14:22:03.172Z"
   },
   {
    "duration": 470,
    "start_time": "2022-06-22T14:22:05.000Z"
   },
   {
    "duration": 55,
    "start_time": "2022-06-22T14:22:05.472Z"
   },
   {
    "duration": 55,
    "start_time": "2022-06-22T14:22:05.530Z"
   },
   {
    "duration": 2530,
    "start_time": "2022-06-22T14:22:05.588Z"
   },
   {
    "duration": 22,
    "start_time": "2022-06-22T14:22:08.120Z"
   },
   {
    "duration": 5,
    "start_time": "2022-06-22T14:22:08.144Z"
   },
   {
    "duration": 534,
    "start_time": "2022-06-22T14:22:08.151Z"
   },
   {
    "duration": 273,
    "start_time": "2022-06-22T14:22:08.687Z"
   },
   {
    "duration": 102,
    "start_time": "2022-06-22T14:22:08.962Z"
   },
   {
    "duration": 3023,
    "start_time": "2022-06-22T14:22:09.066Z"
   },
   {
    "duration": 19,
    "start_time": "2022-06-22T14:22:12.091Z"
   },
   {
    "duration": 68,
    "start_time": "2022-06-22T14:22:12.112Z"
   },
   {
    "duration": 8,
    "start_time": "2022-06-22T14:22:12.185Z"
   },
   {
    "duration": 31,
    "start_time": "2022-06-22T14:22:12.196Z"
   },
   {
    "duration": 26,
    "start_time": "2022-06-22T14:22:12.228Z"
   },
   {
    "duration": 11,
    "start_time": "2022-06-22T14:22:12.256Z"
   },
   {
    "duration": 13,
    "start_time": "2022-06-22T14:22:12.269Z"
   },
   {
    "duration": 8,
    "start_time": "2022-06-22T14:22:12.284Z"
   },
   {
    "duration": 3465,
    "start_time": "2022-06-22T14:22:12.294Z"
   },
   {
    "duration": 724,
    "start_time": "2022-06-22T14:22:15.760Z"
   },
   {
    "duration": 5,
    "start_time": "2022-06-22T14:22:16.486Z"
   },
   {
    "duration": 10,
    "start_time": "2022-06-22T14:22:16.493Z"
   },
   {
    "duration": 9,
    "start_time": "2022-06-22T14:22:16.506Z"
   },
   {
    "duration": 213,
    "start_time": "2022-06-22T14:22:16.516Z"
   },
   {
    "duration": 0,
    "start_time": "2022-06-22T14:22:16.732Z"
   },
   {
    "duration": 0,
    "start_time": "2022-06-22T14:22:16.734Z"
   },
   {
    "duration": 0,
    "start_time": "2022-06-22T14:22:16.735Z"
   },
   {
    "duration": 0,
    "start_time": "2022-06-22T14:22:16.737Z"
   },
   {
    "duration": 0,
    "start_time": "2022-06-22T14:22:16.752Z"
   },
   {
    "duration": 0,
    "start_time": "2022-06-22T14:22:16.753Z"
   },
   {
    "duration": 0,
    "start_time": "2022-06-22T14:22:16.754Z"
   },
   {
    "duration": 0,
    "start_time": "2022-06-22T14:22:16.755Z"
   },
   {
    "duration": 0,
    "start_time": "2022-06-22T14:22:16.756Z"
   },
   {
    "duration": 0,
    "start_time": "2022-06-22T14:22:16.758Z"
   },
   {
    "duration": 0,
    "start_time": "2022-06-22T14:22:16.759Z"
   },
   {
    "duration": 0,
    "start_time": "2022-06-22T14:22:16.761Z"
   },
   {
    "duration": 0,
    "start_time": "2022-06-22T14:22:16.762Z"
   },
   {
    "duration": 0,
    "start_time": "2022-06-22T14:22:16.764Z"
   },
   {
    "duration": 0,
    "start_time": "2022-06-22T14:22:16.767Z"
   },
   {
    "duration": 0,
    "start_time": "2022-06-22T14:22:16.769Z"
   },
   {
    "duration": 0,
    "start_time": "2022-06-22T14:22:16.771Z"
   },
   {
    "duration": 0,
    "start_time": "2022-06-22T14:22:16.772Z"
   },
   {
    "duration": 0,
    "start_time": "2022-06-22T14:22:16.774Z"
   },
   {
    "duration": 0,
    "start_time": "2022-06-22T14:22:16.776Z"
   },
   {
    "duration": 0,
    "start_time": "2022-06-22T14:22:16.778Z"
   },
   {
    "duration": 0,
    "start_time": "2022-06-22T14:22:16.780Z"
   },
   {
    "duration": 0,
    "start_time": "2022-06-22T14:22:16.781Z"
   },
   {
    "duration": 0,
    "start_time": "2022-06-22T14:22:16.783Z"
   },
   {
    "duration": 0,
    "start_time": "2022-06-22T14:22:16.784Z"
   },
   {
    "duration": 0,
    "start_time": "2022-06-22T14:22:16.785Z"
   },
   {
    "duration": 0,
    "start_time": "2022-06-22T14:22:16.787Z"
   },
   {
    "duration": 0,
    "start_time": "2022-06-22T14:22:16.788Z"
   },
   {
    "duration": 0,
    "start_time": "2022-06-22T14:22:16.852Z"
   },
   {
    "duration": 0,
    "start_time": "2022-06-22T14:22:16.853Z"
   },
   {
    "duration": 4,
    "start_time": "2022-06-22T14:25:39.872Z"
   },
   {
    "duration": 5,
    "start_time": "2022-06-22T14:25:41.610Z"
   },
   {
    "duration": 4,
    "start_time": "2022-06-22T14:25:42.074Z"
   },
   {
    "duration": 6,
    "start_time": "2022-06-22T14:25:42.643Z"
   },
   {
    "duration": 1415,
    "start_time": "2022-06-22T14:25:45.194Z"
   },
   {
    "duration": 63,
    "start_time": "2022-06-22T14:25:49.593Z"
   },
   {
    "duration": 24,
    "start_time": "2022-06-22T14:25:49.753Z"
   },
   {
    "duration": 21,
    "start_time": "2022-06-22T14:25:50.147Z"
   },
   {
    "duration": 11,
    "start_time": "2022-06-22T14:25:50.317Z"
   },
   {
    "duration": 29,
    "start_time": "2022-06-22T14:25:50.481Z"
   },
   {
    "duration": 4,
    "start_time": "2022-06-22T14:25:50.649Z"
   },
   {
    "duration": 7,
    "start_time": "2022-06-22T14:25:50.817Z"
   },
   {
    "duration": 7,
    "start_time": "2022-06-22T14:25:51.145Z"
   },
   {
    "duration": 11,
    "start_time": "2022-06-22T14:25:51.505Z"
   },
   {
    "duration": 9,
    "start_time": "2022-06-22T14:25:51.664Z"
   },
   {
    "duration": 41,
    "start_time": "2022-06-22T14:25:51.994Z"
   },
   {
    "duration": 18,
    "start_time": "2022-06-22T14:25:52.169Z"
   },
   {
    "duration": 4,
    "start_time": "2022-06-22T14:25:52.532Z"
   },
   {
    "duration": 3,
    "start_time": "2022-06-22T14:25:53.106Z"
   },
   {
    "duration": 544,
    "start_time": "2022-06-22T14:25:53.322Z"
   },
   {
    "duration": 4,
    "start_time": "2022-06-22T14:25:53.868Z"
   },
   {
    "duration": 19882,
    "start_time": "2022-06-22T14:25:53.880Z"
   },
   {
    "duration": 4,
    "start_time": "2022-06-22T14:26:13.764Z"
   },
   {
    "duration": 107888,
    "start_time": "2022-06-22T14:26:13.769Z"
   },
   {
    "duration": 91,
    "start_time": "2022-06-22T14:28:01.660Z"
   },
   {
    "duration": 16,
    "start_time": "2022-06-22T14:28:01.753Z"
   },
   {
    "duration": 2170057,
    "start_time": "2022-06-22T14:28:01.771Z"
   },
   {
    "duration": 26,
    "start_time": "2022-06-22T15:04:11.830Z"
   },
   {
    "duration": 0,
    "start_time": "2022-06-22T15:04:11.864Z"
   },
   {
    "duration": 0,
    "start_time": "2022-06-22T15:04:11.873Z"
   },
   {
    "duration": 0,
    "start_time": "2022-06-22T15:04:11.877Z"
   },
   {
    "duration": 0,
    "start_time": "2022-06-22T15:04:11.884Z"
   },
   {
    "duration": 0,
    "start_time": "2022-06-22T15:04:11.886Z"
   },
   {
    "duration": 0,
    "start_time": "2022-06-22T15:04:11.887Z"
   },
   {
    "duration": 0,
    "start_time": "2022-06-22T15:04:11.902Z"
   },
   {
    "duration": 6,
    "start_time": "2022-06-22T15:08:06.284Z"
   },
   {
    "duration": 365,
    "start_time": "2022-06-22T15:08:06.751Z"
   },
   {
    "duration": 70,
    "start_time": "2022-06-22T15:08:07.409Z"
   },
   {
    "duration": 82,
    "start_time": "2022-06-22T15:08:07.817Z"
   },
   {
    "duration": 3544,
    "start_time": "2022-06-22T15:08:08.283Z"
   },
   {
    "duration": 31,
    "start_time": "2022-06-22T15:08:11.831Z"
   },
   {
    "duration": 40,
    "start_time": "2022-06-22T15:08:11.870Z"
   },
   {
    "duration": 861,
    "start_time": "2022-06-22T15:08:11.914Z"
   },
   {
    "duration": 434,
    "start_time": "2022-06-22T15:08:12.777Z"
   },
   {
    "duration": 111,
    "start_time": "2022-06-22T15:11:34.336Z"
   },
   {
    "duration": 4646,
    "start_time": "2022-06-22T15:11:34.544Z"
   },
   {
    "duration": 28,
    "start_time": "2022-06-22T15:11:39.192Z"
   },
   {
    "duration": 68,
    "start_time": "2022-06-22T15:11:39.223Z"
   },
   {
    "duration": 15,
    "start_time": "2022-06-22T15:11:39.294Z"
   },
   {
    "duration": 62,
    "start_time": "2022-06-22T15:11:39.311Z"
   },
   {
    "duration": 12,
    "start_time": "2022-06-22T15:11:39.375Z"
   },
   {
    "duration": 47,
    "start_time": "2022-06-22T15:11:39.389Z"
   },
   {
    "duration": 23,
    "start_time": "2022-06-22T15:11:39.439Z"
   },
   {
    "duration": 34,
    "start_time": "2022-06-22T15:11:39.467Z"
   },
   {
    "duration": 4698,
    "start_time": "2022-06-22T15:11:39.504Z"
   },
   {
    "duration": 1287,
    "start_time": "2022-06-22T15:11:44.209Z"
   },
   {
    "duration": 13,
    "start_time": "2022-06-22T15:11:45.506Z"
   },
   {
    "duration": 181,
    "start_time": "2022-06-22T15:11:45.522Z"
   },
   {
    "duration": 6,
    "start_time": "2022-06-22T15:11:45.712Z"
   },
   {
    "duration": 117,
    "start_time": "2022-06-22T15:11:45.721Z"
   },
   {
    "duration": 2203,
    "start_time": "2022-06-22T15:11:45.840Z"
   },
   {
    "duration": 227,
    "start_time": "2022-06-22T15:11:48.047Z"
   },
   {
    "duration": 25,
    "start_time": "2022-06-22T15:11:48.279Z"
   },
   {
    "duration": 16,
    "start_time": "2022-06-22T15:11:48.306Z"
   },
   {
    "duration": 16,
    "start_time": "2022-06-22T15:11:48.325Z"
   },
   {
    "duration": 47,
    "start_time": "2022-06-22T15:11:48.351Z"
   },
   {
    "duration": 10,
    "start_time": "2022-06-22T15:11:48.401Z"
   },
   {
    "duration": 15,
    "start_time": "2022-06-22T15:11:48.414Z"
   },
   {
    "duration": 40,
    "start_time": "2022-06-22T15:11:48.432Z"
   },
   {
    "duration": 46,
    "start_time": "2022-06-22T15:11:48.474Z"
   },
   {
    "duration": 22,
    "start_time": "2022-06-22T15:11:48.523Z"
   },
   {
    "duration": 75,
    "start_time": "2022-06-22T15:11:48.555Z"
   },
   {
    "duration": 24,
    "start_time": "2022-06-22T15:11:48.633Z"
   },
   {
    "duration": 29,
    "start_time": "2022-06-22T15:11:48.659Z"
   },
   {
    "duration": 4,
    "start_time": "2022-06-22T15:11:48.697Z"
   },
   {
    "duration": 822,
    "start_time": "2022-06-22T15:11:48.703Z"
   },
   {
    "duration": 4,
    "start_time": "2022-06-22T15:11:49.527Z"
   },
   {
    "duration": 24995,
    "start_time": "2022-06-22T15:11:49.533Z"
   },
   {
    "duration": 4,
    "start_time": "2022-06-22T15:12:19.694Z"
   },
   {
    "duration": 122512,
    "start_time": "2022-06-22T15:12:20.450Z"
   },
   {
    "duration": 4,
    "start_time": "2022-06-22T15:15:11.906Z"
   },
   {
    "duration": 157248,
    "start_time": "2022-06-22T15:15:11.913Z"
   },
   {
    "duration": 39864,
    "start_time": "2022-06-22T15:20:39.494Z"
   },
   {
    "duration": 10,
    "start_time": "2022-06-22T15:21:19.360Z"
   },
   {
    "duration": 207,
    "start_time": "2022-06-22T15:21:19.373Z"
   },
   {
    "duration": 4,
    "start_time": "2022-06-22T15:21:19.583Z"
   },
   {
    "duration": 803,
    "start_time": "2022-06-22T15:21:19.589Z"
   },
   {
    "duration": 819,
    "start_time": "2022-06-22T15:21:20.394Z"
   },
   {
    "duration": 4,
    "start_time": "2022-06-22T15:21:21.215Z"
   },
   {
    "duration": 4,
    "start_time": "2022-06-22T15:21:59.690Z"
   },
   {
    "duration": 133579,
    "start_time": "2022-06-22T15:22:00.081Z"
   },
   {
    "duration": 30628,
    "start_time": "2022-06-22T15:24:13.664Z"
   },
   {
    "duration": 34,
    "start_time": "2022-06-22T15:24:44.362Z"
   },
   {
    "duration": 114,
    "start_time": "2022-06-22T15:24:44.456Z"
   },
   {
    "duration": 34,
    "start_time": "2022-06-22T15:24:44.572Z"
   },
   {
    "duration": 1063,
    "start_time": "2022-06-22T15:24:44.609Z"
   },
   {
    "duration": 799,
    "start_time": "2022-06-22T15:24:45.677Z"
   },
   {
    "duration": 5,
    "start_time": "2022-06-22T15:24:46.479Z"
   },
   {
    "duration": 6,
    "start_time": "2022-06-22T15:25:09.109Z"
   },
   {
    "duration": 6,
    "start_time": "2022-06-22T15:25:09.684Z"
   },
   {
    "duration": 46,
    "start_time": "2022-06-22T15:25:10.376Z"
   },
   {
    "duration": 18,
    "start_time": "2022-06-22T15:25:10.531Z"
   },
   {
    "duration": 4,
    "start_time": "2022-06-22T15:25:11.585Z"
   },
   {
    "duration": 12,
    "start_time": "2022-06-22T15:25:11.592Z"
   },
   {
    "duration": 555,
    "start_time": "2022-06-22T15:25:11.645Z"
   },
   {
    "duration": 3,
    "start_time": "2022-06-22T15:25:12.717Z"
   },
   {
    "duration": 20589,
    "start_time": "2022-06-22T15:25:12.723Z"
   },
   {
    "duration": 4,
    "start_time": "2022-06-22T15:25:33.315Z"
   },
   {
    "duration": 121486,
    "start_time": "2022-06-22T15:30:29.575Z"
   },
   {
    "duration": 26208,
    "start_time": "2022-06-22T15:32:31.063Z"
   },
   {
    "duration": 89,
    "start_time": "2022-06-22T15:32:57.279Z"
   },
   {
    "duration": 199,
    "start_time": "2022-06-22T15:32:57.371Z"
   },
   {
    "duration": 5,
    "start_time": "2022-06-22T15:32:57.573Z"
   },
   {
    "duration": 734,
    "start_time": "2022-06-22T15:32:57.580Z"
   },
   {
    "duration": 783,
    "start_time": "2022-06-22T15:32:58.315Z"
   },
   {
    "duration": 4,
    "start_time": "2022-06-22T15:32:59.100Z"
   },
   {
    "duration": 1560,
    "start_time": "2022-06-22T17:00:31.215Z"
   },
   {
    "duration": 265,
    "start_time": "2022-06-22T17:00:32.777Z"
   },
   {
    "duration": 60,
    "start_time": "2022-06-22T17:00:33.044Z"
   },
   {
    "duration": 69,
    "start_time": "2022-06-22T17:00:33.106Z"
   },
   {
    "duration": 2721,
    "start_time": "2022-06-22T17:00:33.177Z"
   },
   {
    "duration": 22,
    "start_time": "2022-06-22T17:00:35.900Z"
   },
   {
    "duration": 5,
    "start_time": "2022-06-22T17:00:35.924Z"
   },
   {
    "duration": 549,
    "start_time": "2022-06-22T17:00:35.931Z"
   },
   {
    "duration": 271,
    "start_time": "2022-06-22T17:00:36.482Z"
   },
   {
    "duration": 119,
    "start_time": "2022-06-22T17:00:36.756Z"
   },
   {
    "duration": 3152,
    "start_time": "2022-06-22T17:00:36.878Z"
   },
   {
    "duration": 29,
    "start_time": "2022-06-22T17:00:40.033Z"
   },
   {
    "duration": 58,
    "start_time": "2022-06-22T17:00:40.064Z"
   },
   {
    "duration": 30,
    "start_time": "2022-06-22T17:00:40.126Z"
   },
   {
    "duration": 60,
    "start_time": "2022-06-22T17:00:40.159Z"
   },
   {
    "duration": 9,
    "start_time": "2022-06-22T17:00:40.222Z"
   },
   {
    "duration": 22,
    "start_time": "2022-06-22T17:00:40.251Z"
   },
   {
    "duration": 17,
    "start_time": "2022-06-22T17:00:40.276Z"
   },
   {
    "duration": 12,
    "start_time": "2022-06-22T17:00:40.296Z"
   },
   {
    "duration": 3556,
    "start_time": "2022-06-22T17:00:40.311Z"
   },
   {
    "duration": 807,
    "start_time": "2022-06-22T17:00:43.869Z"
   },
   {
    "duration": 5,
    "start_time": "2022-06-22T17:00:44.684Z"
   },
   {
    "duration": 12,
    "start_time": "2022-06-22T17:00:44.692Z"
   },
   {
    "duration": 11,
    "start_time": "2022-06-22T17:00:44.706Z"
   },
   {
    "duration": 16,
    "start_time": "2022-06-22T17:00:44.719Z"
   },
   {
    "duration": 1464,
    "start_time": "2022-06-22T17:00:44.750Z"
   },
   {
    "duration": 72,
    "start_time": "2022-06-22T17:00:46.217Z"
   },
   {
    "duration": 24,
    "start_time": "2022-06-22T17:00:46.291Z"
   },
   {
    "duration": 38,
    "start_time": "2022-06-22T17:00:46.317Z"
   },
   {
    "duration": 12,
    "start_time": "2022-06-22T17:00:46.357Z"
   },
   {
    "duration": 36,
    "start_time": "2022-06-22T17:00:46.371Z"
   },
   {
    "duration": 5,
    "start_time": "2022-06-22T17:00:46.410Z"
   },
   {
    "duration": 40,
    "start_time": "2022-06-22T17:00:46.417Z"
   },
   {
    "duration": 8,
    "start_time": "2022-06-22T17:00:46.460Z"
   },
   {
    "duration": 11,
    "start_time": "2022-06-22T17:00:46.470Z"
   },
   {
    "duration": 11,
    "start_time": "2022-06-22T17:00:46.483Z"
   },
   {
    "duration": 82,
    "start_time": "2022-06-22T17:00:46.496Z"
   },
   {
    "duration": 19,
    "start_time": "2022-06-22T17:00:46.581Z"
   },
   {
    "duration": 4,
    "start_time": "2022-06-22T17:00:46.603Z"
   },
   {
    "duration": 7,
    "start_time": "2022-06-22T17:00:46.609Z"
   },
   {
    "duration": 569,
    "start_time": "2022-06-22T17:00:46.621Z"
   },
   {
    "duration": 4,
    "start_time": "2022-06-22T17:00:47.193Z"
   },
   {
    "duration": 20411,
    "start_time": "2022-06-22T17:00:47.199Z"
   },
   {
    "duration": 4,
    "start_time": "2022-06-22T17:01:07.612Z"
   },
   {
    "duration": 120646,
    "start_time": "2022-06-22T17:01:07.618Z"
   },
   {
    "duration": 86,
    "start_time": "2022-06-22T17:03:08.266Z"
   },
   {
    "duration": 102,
    "start_time": "2022-06-22T17:03:08.354Z"
   },
   {
    "duration": 1649930,
    "start_time": "2022-06-22T17:03:08.458Z"
   },
   {
    "duration": 12,
    "start_time": "2022-06-22T17:30:38.391Z"
   },
   {
    "duration": 0,
    "start_time": "2022-06-22T17:30:38.405Z"
   },
   {
    "duration": 0,
    "start_time": "2022-06-22T17:30:38.406Z"
   },
   {
    "duration": 0,
    "start_time": "2022-06-22T17:30:38.407Z"
   },
   {
    "duration": 0,
    "start_time": "2022-06-22T17:30:38.409Z"
   },
   {
    "duration": 0,
    "start_time": "2022-06-22T17:30:38.411Z"
   },
   {
    "duration": 0,
    "start_time": "2022-06-22T17:30:38.412Z"
   },
   {
    "duration": 0,
    "start_time": "2022-06-22T17:30:38.414Z"
   },
   {
    "duration": 4,
    "start_time": "2022-06-22T17:30:51.779Z"
   },
   {
    "duration": 4,
    "start_time": "2022-06-22T17:30:52.717Z"
   },
   {
    "duration": 395536,
    "start_time": "2022-06-22T17:30:53.731Z"
   },
   {
    "duration": 6,
    "start_time": "2022-06-22T17:37:29.352Z"
   },
   {
    "duration": 31992,
    "start_time": "2022-06-22T17:37:29.361Z"
   },
   {
    "duration": 7,
    "start_time": "2022-06-22T17:38:01.356Z"
   },
   {
    "duration": 182,
    "start_time": "2022-06-22T17:38:01.370Z"
   },
   {
    "duration": 5,
    "start_time": "2022-06-22T17:38:01.555Z"
   },
   {
    "duration": 766,
    "start_time": "2022-06-22T17:38:01.562Z"
   },
   {
    "duration": 844,
    "start_time": "2022-06-22T17:38:02.331Z"
   },
   {
    "duration": 6,
    "start_time": "2022-06-22T17:38:03.178Z"
   },
   {
    "duration": 1775,
    "start_time": "2022-06-22T17:42:28.678Z"
   },
   {
    "duration": 359,
    "start_time": "2022-06-22T17:42:30.456Z"
   },
   {
    "duration": 81,
    "start_time": "2022-06-22T17:42:30.818Z"
   },
   {
    "duration": 87,
    "start_time": "2022-06-22T17:42:30.903Z"
   },
   {
    "duration": 2730,
    "start_time": "2022-06-22T17:42:30.992Z"
   },
   {
    "duration": 23,
    "start_time": "2022-06-22T17:42:33.724Z"
   },
   {
    "duration": 4,
    "start_time": "2022-06-22T17:42:33.749Z"
   },
   {
    "duration": 550,
    "start_time": "2022-06-22T17:42:33.755Z"
   },
   {
    "duration": 341,
    "start_time": "2022-06-22T17:42:34.307Z"
   },
   {
    "duration": 130,
    "start_time": "2022-06-22T17:42:34.654Z"
   },
   {
    "duration": 3157,
    "start_time": "2022-06-22T17:42:34.786Z"
   },
   {
    "duration": 19,
    "start_time": "2022-06-22T17:42:37.952Z"
   },
   {
    "duration": 57,
    "start_time": "2022-06-22T17:42:37.974Z"
   },
   {
    "duration": 22,
    "start_time": "2022-06-22T17:42:38.033Z"
   },
   {
    "duration": 51,
    "start_time": "2022-06-22T17:42:38.057Z"
   },
   {
    "duration": 8,
    "start_time": "2022-06-22T17:42:38.110Z"
   },
   {
    "duration": 15,
    "start_time": "2022-06-22T17:42:38.120Z"
   },
   {
    "duration": 32,
    "start_time": "2022-06-22T17:42:38.137Z"
   },
   {
    "duration": 13,
    "start_time": "2022-06-22T17:42:38.171Z"
   },
   {
    "duration": 3604,
    "start_time": "2022-06-22T17:42:38.186Z"
   },
   {
    "duration": 805,
    "start_time": "2022-06-22T17:42:41.792Z"
   },
   {
    "duration": 5,
    "start_time": "2022-06-22T17:42:42.599Z"
   },
   {
    "duration": 9,
    "start_time": "2022-06-22T17:42:42.607Z"
   },
   {
    "duration": 11,
    "start_time": "2022-06-22T17:42:42.619Z"
   },
   {
    "duration": 21,
    "start_time": "2022-06-22T17:42:42.633Z"
   },
   {
    "duration": 1590,
    "start_time": "2022-06-22T17:42:42.657Z"
   },
   {
    "duration": 54,
    "start_time": "2022-06-22T17:42:44.251Z"
   },
   {
    "duration": 47,
    "start_time": "2022-06-22T17:42:44.311Z"
   },
   {
    "duration": 21,
    "start_time": "2022-06-22T17:42:44.360Z"
   },
   {
    "duration": 16,
    "start_time": "2022-06-22T17:42:44.383Z"
   },
   {
    "duration": 70,
    "start_time": "2022-06-22T17:42:44.402Z"
   },
   {
    "duration": 6,
    "start_time": "2022-06-22T17:42:44.475Z"
   },
   {
    "duration": 25,
    "start_time": "2022-06-22T17:42:44.484Z"
   },
   {
    "duration": 13,
    "start_time": "2022-06-22T17:42:44.511Z"
   },
   {
    "duration": 28,
    "start_time": "2022-06-22T17:42:44.526Z"
   },
   {
    "duration": 13,
    "start_time": "2022-06-22T17:42:44.559Z"
   },
   {
    "duration": 53,
    "start_time": "2022-06-22T17:42:44.575Z"
   },
   {
    "duration": 26,
    "start_time": "2022-06-22T17:42:44.654Z"
   },
   {
    "duration": 5,
    "start_time": "2022-06-22T17:42:44.683Z"
   },
   {
    "duration": 14,
    "start_time": "2022-06-22T17:42:44.691Z"
   },
   {
    "duration": 584,
    "start_time": "2022-06-22T17:42:44.707Z"
   },
   {
    "duration": 3,
    "start_time": "2022-06-22T17:42:45.293Z"
   },
   {
    "duration": 21100,
    "start_time": "2022-06-22T17:42:45.299Z"
   },
   {
    "duration": 4,
    "start_time": "2022-06-22T17:43:06.402Z"
   },
   {
    "duration": 126649,
    "start_time": "2022-06-22T17:43:06.410Z"
   },
   {
    "duration": 31903,
    "start_time": "2022-06-22T17:45:13.061Z"
   },
   {
    "duration": 90,
    "start_time": "2022-06-22T17:45:44.967Z"
   },
   {
    "duration": 211,
    "start_time": "2022-06-22T17:45:45.061Z"
   },
   {
    "duration": 5,
    "start_time": "2022-06-22T17:45:45.274Z"
   },
   {
    "duration": 777,
    "start_time": "2022-06-22T17:45:45.282Z"
   },
   {
    "duration": 799,
    "start_time": "2022-06-22T17:45:46.061Z"
   },
   {
    "duration": 4,
    "start_time": "2022-06-22T17:45:46.863Z"
   },
   {
    "duration": 1569,
    "start_time": "2022-06-22T17:55:52.715Z"
   },
   {
    "duration": 325,
    "start_time": "2022-06-22T17:55:54.286Z"
   },
   {
    "duration": 69,
    "start_time": "2022-06-22T17:55:54.614Z"
   },
   {
    "duration": 94,
    "start_time": "2022-06-22T17:55:54.686Z"
   },
   {
    "duration": 2551,
    "start_time": "2022-06-22T17:55:54.783Z"
   },
   {
    "duration": 22,
    "start_time": "2022-06-22T17:55:57.336Z"
   },
   {
    "duration": 9,
    "start_time": "2022-06-22T17:55:57.360Z"
   },
   {
    "duration": 563,
    "start_time": "2022-06-22T17:55:57.371Z"
   },
   {
    "duration": 277,
    "start_time": "2022-06-22T17:55:57.936Z"
   },
   {
    "duration": 104,
    "start_time": "2022-06-22T17:55:58.215Z"
   },
   {
    "duration": 3212,
    "start_time": "2022-06-22T17:55:58.321Z"
   },
   {
    "duration": 29,
    "start_time": "2022-06-22T17:56:01.535Z"
   },
   {
    "duration": 59,
    "start_time": "2022-06-22T17:56:01.567Z"
   },
   {
    "duration": 30,
    "start_time": "2022-06-22T17:56:01.629Z"
   },
   {
    "duration": 45,
    "start_time": "2022-06-22T17:56:01.662Z"
   },
   {
    "duration": 8,
    "start_time": "2022-06-22T17:56:01.709Z"
   },
   {
    "duration": 13,
    "start_time": "2022-06-22T17:56:01.720Z"
   },
   {
    "duration": 34,
    "start_time": "2022-06-22T17:56:01.734Z"
   },
   {
    "duration": 13,
    "start_time": "2022-06-22T17:56:01.771Z"
   },
   {
    "duration": 3622,
    "start_time": "2022-06-22T17:56:01.787Z"
   },
   {
    "duration": 748,
    "start_time": "2022-06-22T17:56:05.411Z"
   },
   {
    "duration": 5,
    "start_time": "2022-06-22T17:56:06.160Z"
   },
   {
    "duration": 6,
    "start_time": "2022-06-22T17:56:06.167Z"
   },
   {
    "duration": 5,
    "start_time": "2022-06-22T17:56:06.175Z"
   },
   {
    "duration": 8,
    "start_time": "2022-06-22T17:56:06.182Z"
   },
   {
    "duration": 229,
    "start_time": "2022-06-22T17:56:06.192Z"
   },
   {
    "duration": 0,
    "start_time": "2022-06-22T17:56:06.423Z"
   },
   {
    "duration": 0,
    "start_time": "2022-06-22T17:56:06.425Z"
   },
   {
    "duration": 0,
    "start_time": "2022-06-22T17:56:06.426Z"
   },
   {
    "duration": 0,
    "start_time": "2022-06-22T17:56:06.427Z"
   },
   {
    "duration": 0,
    "start_time": "2022-06-22T17:56:06.429Z"
   },
   {
    "duration": 0,
    "start_time": "2022-06-22T17:56:06.430Z"
   },
   {
    "duration": 0,
    "start_time": "2022-06-22T17:56:06.431Z"
   },
   {
    "duration": 0,
    "start_time": "2022-06-22T17:56:06.432Z"
   },
   {
    "duration": 0,
    "start_time": "2022-06-22T17:56:06.451Z"
   },
   {
    "duration": 0,
    "start_time": "2022-06-22T17:56:06.453Z"
   },
   {
    "duration": 0,
    "start_time": "2022-06-22T17:56:06.454Z"
   },
   {
    "duration": 0,
    "start_time": "2022-06-22T17:56:06.456Z"
   },
   {
    "duration": 0,
    "start_time": "2022-06-22T17:56:06.458Z"
   },
   {
    "duration": 0,
    "start_time": "2022-06-22T17:56:06.459Z"
   },
   {
    "duration": 0,
    "start_time": "2022-06-22T17:56:06.461Z"
   },
   {
    "duration": 0,
    "start_time": "2022-06-22T17:56:06.462Z"
   },
   {
    "duration": 0,
    "start_time": "2022-06-22T17:56:06.463Z"
   },
   {
    "duration": 0,
    "start_time": "2022-06-22T17:56:06.465Z"
   },
   {
    "duration": 0,
    "start_time": "2022-06-22T17:56:06.467Z"
   },
   {
    "duration": 0,
    "start_time": "2022-06-22T17:56:06.469Z"
   },
   {
    "duration": 0,
    "start_time": "2022-06-22T17:56:06.470Z"
   },
   {
    "duration": 0,
    "start_time": "2022-06-22T17:56:06.471Z"
   },
   {
    "duration": 0,
    "start_time": "2022-06-22T17:56:06.472Z"
   },
   {
    "duration": 0,
    "start_time": "2022-06-22T17:56:06.474Z"
   },
   {
    "duration": 0,
    "start_time": "2022-06-22T17:56:06.475Z"
   },
   {
    "duration": 0,
    "start_time": "2022-06-22T17:56:06.476Z"
   },
   {
    "duration": 84,
    "start_time": "2022-06-22T17:58:18.934Z"
   },
   {
    "duration": 5,
    "start_time": "2022-06-22T17:58:27.908Z"
   },
   {
    "duration": 5,
    "start_time": "2022-06-22T17:58:28.246Z"
   },
   {
    "duration": 6,
    "start_time": "2022-06-22T17:58:29.302Z"
   },
   {
    "duration": 1579,
    "start_time": "2022-06-22T17:58:30.573Z"
   },
   {
    "duration": 1665,
    "start_time": "2022-06-22T17:58:35.015Z"
   },
   {
    "duration": 302,
    "start_time": "2022-06-22T17:58:36.683Z"
   },
   {
    "duration": 46,
    "start_time": "2022-06-22T17:58:36.986Z"
   },
   {
    "duration": 60,
    "start_time": "2022-06-22T17:58:37.034Z"
   },
   {
    "duration": 2738,
    "start_time": "2022-06-22T17:58:37.096Z"
   },
   {
    "duration": 29,
    "start_time": "2022-06-22T17:58:39.836Z"
   },
   {
    "duration": 7,
    "start_time": "2022-06-22T17:58:39.868Z"
   },
   {
    "duration": 613,
    "start_time": "2022-06-22T17:58:39.877Z"
   },
   {
    "duration": 273,
    "start_time": "2022-06-22T17:58:40.492Z"
   },
   {
    "duration": 107,
    "start_time": "2022-06-22T17:58:40.768Z"
   },
   {
    "duration": 3355,
    "start_time": "2022-06-22T17:58:40.877Z"
   },
   {
    "duration": 47,
    "start_time": "2022-06-22T17:58:44.234Z"
   },
   {
    "duration": 68,
    "start_time": "2022-06-22T17:58:44.284Z"
   },
   {
    "duration": 12,
    "start_time": "2022-06-22T17:58:44.354Z"
   },
   {
    "duration": 54,
    "start_time": "2022-06-22T17:58:44.368Z"
   },
   {
    "duration": 35,
    "start_time": "2022-06-22T17:58:44.425Z"
   },
   {
    "duration": 41,
    "start_time": "2022-06-22T17:58:44.462Z"
   },
   {
    "duration": 18,
    "start_time": "2022-06-22T17:58:44.506Z"
   },
   {
    "duration": 14,
    "start_time": "2022-06-22T17:58:44.527Z"
   },
   {
    "duration": 3739,
    "start_time": "2022-06-22T17:58:44.550Z"
   },
   {
    "duration": 752,
    "start_time": "2022-06-22T17:58:48.291Z"
   },
   {
    "duration": 4,
    "start_time": "2022-06-22T17:58:49.051Z"
   },
   {
    "duration": 12,
    "start_time": "2022-06-22T17:58:49.058Z"
   },
   {
    "duration": 14,
    "start_time": "2022-06-22T17:58:49.073Z"
   },
   {
    "duration": 12,
    "start_time": "2022-06-22T17:58:49.089Z"
   },
   {
    "duration": 1564,
    "start_time": "2022-06-22T17:58:49.103Z"
   },
   {
    "duration": 64,
    "start_time": "2022-06-22T17:58:50.669Z"
   },
   {
    "duration": 25,
    "start_time": "2022-06-22T17:58:50.751Z"
   },
   {
    "duration": 24,
    "start_time": "2022-06-22T17:58:50.778Z"
   },
   {
    "duration": 45,
    "start_time": "2022-06-22T17:58:50.805Z"
   },
   {
    "duration": 60,
    "start_time": "2022-06-22T17:58:50.853Z"
   },
   {
    "duration": 14,
    "start_time": "2022-06-22T17:58:50.915Z"
   },
   {
    "duration": 41,
    "start_time": "2022-06-22T17:58:50.931Z"
   },
   {
    "duration": 17,
    "start_time": "2022-06-22T17:58:50.974Z"
   },
   {
    "duration": 28,
    "start_time": "2022-06-22T17:58:50.993Z"
   },
   {
    "duration": 27,
    "start_time": "2022-06-22T17:58:51.024Z"
   },
   {
    "duration": 59,
    "start_time": "2022-06-22T17:58:51.054Z"
   },
   {
    "duration": 19,
    "start_time": "2022-06-22T17:58:51.116Z"
   },
   {
    "duration": 4,
    "start_time": "2022-06-22T17:58:51.152Z"
   },
   {
    "duration": 31,
    "start_time": "2022-06-22T17:58:51.158Z"
   },
   {
    "duration": 590,
    "start_time": "2022-06-22T17:58:51.191Z"
   },
   {
    "duration": 3,
    "start_time": "2022-06-22T17:58:51.784Z"
   },
   {
    "duration": 21188,
    "start_time": "2022-06-22T17:58:51.789Z"
   },
   {
    "duration": 4,
    "start_time": "2022-06-22T17:59:12.979Z"
   },
   {
    "duration": 91667,
    "start_time": "2022-06-22T17:59:12.985Z"
   },
   {
    "duration": 30008,
    "start_time": "2022-06-22T18:00:44.655Z"
   },
   {
    "duration": 7,
    "start_time": "2022-06-22T18:01:14.666Z"
   },
   {
    "duration": 139,
    "start_time": "2022-06-22T18:01:14.752Z"
   },
   {
    "duration": 6,
    "start_time": "2022-06-22T18:01:14.894Z"
   },
   {
    "duration": 831,
    "start_time": "2022-06-22T18:01:14.903Z"
   },
   {
    "duration": 771,
    "start_time": "2022-06-22T18:01:15.738Z"
   },
   {
    "duration": 5,
    "start_time": "2022-06-22T18:01:16.511Z"
   },
   {
    "duration": 53,
    "start_time": "2022-06-22T18:14:06.250Z"
   },
   {
    "duration": 3,
    "start_time": "2022-06-22T18:14:32.381Z"
   },
   {
    "duration": 6108,
    "start_time": "2022-06-22T18:14:52.225Z"
   },
   {
    "duration": 18149,
    "start_time": "2022-06-22T18:15:02.322Z"
   },
   {
    "duration": 8,
    "start_time": "2022-06-22T18:15:38.018Z"
   },
   {
    "duration": 4,
    "start_time": "2022-06-22T18:15:44.096Z"
   },
   {
    "duration": 18,
    "start_time": "2022-06-22T18:15:44.334Z"
   },
   {
    "duration": 3,
    "start_time": "2022-06-22T18:15:50.462Z"
   },
   {
    "duration": 33,
    "start_time": "2022-06-22T18:15:50.865Z"
   },
   {
    "duration": 4,
    "start_time": "2022-06-22T18:16:01.248Z"
   },
   {
    "duration": 9,
    "start_time": "2022-06-22T18:16:01.733Z"
   },
   {
    "duration": 1424,
    "start_time": "2022-06-22T18:16:58.006Z"
   },
   {
    "duration": 253,
    "start_time": "2022-06-22T18:16:59.433Z"
   },
   {
    "duration": 43,
    "start_time": "2022-06-22T18:16:59.687Z"
   },
   {
    "duration": 67,
    "start_time": "2022-06-22T18:16:59.750Z"
   },
   {
    "duration": 2459,
    "start_time": "2022-06-22T18:16:59.819Z"
   },
   {
    "duration": 25,
    "start_time": "2022-06-22T18:17:02.279Z"
   },
   {
    "duration": 23,
    "start_time": "2022-06-22T18:17:02.306Z"
   },
   {
    "duration": 464,
    "start_time": "2022-06-22T18:17:02.331Z"
   },
   {
    "duration": 239,
    "start_time": "2022-06-22T18:17:02.796Z"
   },
   {
    "duration": 98,
    "start_time": "2022-06-22T18:17:03.038Z"
   },
   {
    "duration": 2928,
    "start_time": "2022-06-22T18:17:03.138Z"
   },
   {
    "duration": 19,
    "start_time": "2022-06-22T18:17:06.068Z"
   },
   {
    "duration": 82,
    "start_time": "2022-06-22T18:17:06.089Z"
   },
   {
    "duration": 8,
    "start_time": "2022-06-22T18:17:06.173Z"
   },
   {
    "duration": 29,
    "start_time": "2022-06-22T18:17:06.183Z"
   },
   {
    "duration": 7,
    "start_time": "2022-06-22T18:17:06.213Z"
   },
   {
    "duration": 31,
    "start_time": "2022-06-22T18:17:06.222Z"
   },
   {
    "duration": 14,
    "start_time": "2022-06-22T18:17:06.255Z"
   },
   {
    "duration": 8,
    "start_time": "2022-06-22T18:17:06.270Z"
   },
   {
    "duration": 3218,
    "start_time": "2022-06-22T18:17:06.280Z"
   },
   {
    "duration": 688,
    "start_time": "2022-06-22T18:17:09.500Z"
   },
   {
    "duration": 5,
    "start_time": "2022-06-22T18:17:10.190Z"
   },
   {
    "duration": 7,
    "start_time": "2022-06-22T18:17:10.197Z"
   },
   {
    "duration": 7,
    "start_time": "2022-06-22T18:17:10.206Z"
   },
   {
    "duration": 29,
    "start_time": "2022-06-22T18:17:10.214Z"
   },
   {
    "duration": 1287,
    "start_time": "2022-06-22T18:17:10.246Z"
   },
   {
    "duration": 66,
    "start_time": "2022-06-22T18:17:11.535Z"
   },
   {
    "duration": 21,
    "start_time": "2022-06-22T18:17:11.606Z"
   },
   {
    "duration": 38,
    "start_time": "2022-06-22T18:17:11.630Z"
   },
   {
    "duration": 10,
    "start_time": "2022-06-22T18:17:11.670Z"
   },
   {
    "duration": 26,
    "start_time": "2022-06-22T18:17:11.682Z"
   },
   {
    "duration": 5,
    "start_time": "2022-06-22T18:17:11.710Z"
   },
   {
    "duration": 37,
    "start_time": "2022-06-22T18:17:11.717Z"
   },
   {
    "duration": 7,
    "start_time": "2022-06-22T18:17:11.757Z"
   },
   {
    "duration": 19,
    "start_time": "2022-06-22T18:17:11.766Z"
   },
   {
    "duration": 10,
    "start_time": "2022-06-22T18:17:11.787Z"
   },
   {
    "duration": 70,
    "start_time": "2022-06-22T18:17:11.799Z"
   },
   {
    "duration": 17,
    "start_time": "2022-06-22T18:17:11.871Z"
   },
   {
    "duration": 5,
    "start_time": "2022-06-22T18:17:11.890Z"
   },
   {
    "duration": 6,
    "start_time": "2022-06-22T18:17:11.896Z"
   },
   {
    "duration": 756,
    "start_time": "2022-06-22T18:17:11.903Z"
   },
   {
    "duration": 3,
    "start_time": "2022-06-22T18:17:12.661Z"
   },
   {
    "duration": 18175,
    "start_time": "2022-06-22T18:17:12.666Z"
   },
   {
    "duration": 8,
    "start_time": "2022-06-22T18:17:30.843Z"
   },
   {
    "duration": 105810,
    "start_time": "2022-06-22T18:17:30.853Z"
   },
   {
    "duration": 15993,
    "start_time": "2022-06-22T18:19:16.664Z"
   },
   {
    "duration": 88,
    "start_time": "2022-06-22T18:19:32.667Z"
   },
   {
    "duration": 109,
    "start_time": "2022-06-22T18:19:32.760Z"
   },
   {
    "duration": 80,
    "start_time": "2022-06-22T18:19:32.871Z"
   },
   {
    "duration": 599,
    "start_time": "2022-06-22T18:19:32.953Z"
   },
   {
    "duration": 645,
    "start_time": "2022-06-22T18:19:33.554Z"
   },
   {
    "duration": 4,
    "start_time": "2022-06-22T18:19:34.200Z"
   },
   {
    "duration": 1960,
    "start_time": "2022-06-23T06:00:28.895Z"
   },
   {
    "duration": 562,
    "start_time": "2022-06-23T06:00:30.857Z"
   },
   {
    "duration": 48,
    "start_time": "2022-06-23T06:00:31.420Z"
   },
   {
    "duration": 72,
    "start_time": "2022-06-23T06:00:31.470Z"
   },
   {
    "duration": 2504,
    "start_time": "2022-06-23T06:00:31.544Z"
   },
   {
    "duration": 19,
    "start_time": "2022-06-23T06:00:34.050Z"
   },
   {
    "duration": 26,
    "start_time": "2022-06-23T06:00:34.071Z"
   },
   {
    "duration": 510,
    "start_time": "2022-06-23T06:00:34.099Z"
   },
   {
    "duration": 259,
    "start_time": "2022-06-23T06:00:34.611Z"
   },
   {
    "duration": 97,
    "start_time": "2022-06-23T06:00:34.874Z"
   },
   {
    "duration": 2977,
    "start_time": "2022-06-23T06:00:34.973Z"
   },
   {
    "duration": 19,
    "start_time": "2022-06-23T06:00:37.951Z"
   },
   {
    "duration": 72,
    "start_time": "2022-06-23T06:00:37.972Z"
   },
   {
    "duration": 6,
    "start_time": "2022-06-23T06:00:38.046Z"
   },
   {
    "duration": 39,
    "start_time": "2022-06-23T06:00:38.054Z"
   },
   {
    "duration": 12,
    "start_time": "2022-06-23T06:00:38.095Z"
   },
   {
    "duration": 40,
    "start_time": "2022-06-23T06:00:38.109Z"
   },
   {
    "duration": 20,
    "start_time": "2022-06-23T06:00:38.151Z"
   },
   {
    "duration": 24,
    "start_time": "2022-06-23T06:00:38.173Z"
   },
   {
    "duration": 3236,
    "start_time": "2022-06-23T06:00:38.199Z"
   },
   {
    "duration": 677,
    "start_time": "2022-06-23T06:00:41.437Z"
   },
   {
    "duration": 4,
    "start_time": "2022-06-23T06:00:42.116Z"
   },
   {
    "duration": 12,
    "start_time": "2022-06-23T06:00:42.128Z"
   },
   {
    "duration": 17,
    "start_time": "2022-06-23T06:00:42.141Z"
   },
   {
    "duration": 8,
    "start_time": "2022-06-23T06:00:42.160Z"
   },
   {
    "duration": 1393,
    "start_time": "2022-06-23T06:00:42.170Z"
   },
   {
    "duration": 78,
    "start_time": "2022-06-23T06:00:43.565Z"
   },
   {
    "duration": 26,
    "start_time": "2022-06-23T06:00:43.648Z"
   },
   {
    "duration": 17,
    "start_time": "2022-06-23T06:00:43.676Z"
   },
   {
    "duration": 10,
    "start_time": "2022-06-23T06:00:43.694Z"
   },
   {
    "duration": 56,
    "start_time": "2022-06-23T06:00:43.706Z"
   },
   {
    "duration": 4,
    "start_time": "2022-06-23T06:00:43.764Z"
   },
   {
    "duration": 11,
    "start_time": "2022-06-23T06:00:43.770Z"
   },
   {
    "duration": 9,
    "start_time": "2022-06-23T06:00:43.782Z"
   },
   {
    "duration": 11,
    "start_time": "2022-06-23T06:00:43.792Z"
   },
   {
    "duration": 36,
    "start_time": "2022-06-23T06:00:43.805Z"
   },
   {
    "duration": 43,
    "start_time": "2022-06-23T06:00:43.846Z"
   },
   {
    "duration": 23,
    "start_time": "2022-06-23T06:00:43.891Z"
   },
   {
    "duration": 6,
    "start_time": "2022-06-23T06:00:43.929Z"
   },
   {
    "duration": 18,
    "start_time": "2022-06-23T06:00:43.938Z"
   },
   {
    "duration": 496,
    "start_time": "2022-06-23T06:00:43.957Z"
   },
   {
    "duration": 3,
    "start_time": "2022-06-23T06:00:44.455Z"
   },
   {
    "duration": 18082,
    "start_time": "2022-06-23T06:00:44.459Z"
   },
   {
    "duration": 3,
    "start_time": "2022-06-23T06:01:02.545Z"
   },
   {
    "duration": 130399,
    "start_time": "2022-06-23T06:01:02.549Z"
   },
   {
    "duration": 34584,
    "start_time": "2022-06-23T06:03:12.951Z"
   },
   {
    "duration": 13,
    "start_time": "2022-06-23T06:03:47.542Z"
   },
   {
    "duration": 100,
    "start_time": "2022-06-23T06:03:47.636Z"
   },
   {
    "duration": 9,
    "start_time": "2022-06-23T06:03:47.738Z"
   },
   {
    "duration": 676,
    "start_time": "2022-06-23T06:03:47.749Z"
   },
   {
    "duration": 670,
    "start_time": "2022-06-23T06:03:48.427Z"
   },
   {
    "duration": 3,
    "start_time": "2022-06-23T06:03:49.099Z"
   },
   {
    "duration": 51,
    "start_time": "2022-06-23T11:31:44.849Z"
   },
   {
    "duration": 1769,
    "start_time": "2022-06-23T11:32:01.561Z"
   },
   {
    "duration": 667,
    "start_time": "2022-06-23T11:32:03.333Z"
   },
   {
    "duration": 47,
    "start_time": "2022-06-23T11:32:04.002Z"
   },
   {
    "duration": 70,
    "start_time": "2022-06-23T11:32:04.051Z"
   },
   {
    "duration": 2788,
    "start_time": "2022-06-23T11:32:04.125Z"
   },
   {
    "duration": 19,
    "start_time": "2022-06-23T11:32:06.915Z"
   },
   {
    "duration": 17,
    "start_time": "2022-06-23T11:32:06.936Z"
   },
   {
    "duration": 523,
    "start_time": "2022-06-23T11:32:06.955Z"
   },
   {
    "duration": 263,
    "start_time": "2022-06-23T11:32:07.480Z"
   },
   {
    "duration": 98,
    "start_time": "2022-06-23T11:32:07.745Z"
   },
   {
    "duration": 3186,
    "start_time": "2022-06-23T11:32:07.845Z"
   },
   {
    "duration": 21,
    "start_time": "2022-06-23T11:32:11.033Z"
   },
   {
    "duration": 50,
    "start_time": "2022-06-23T11:32:11.067Z"
   },
   {
    "duration": 74,
    "start_time": "2022-06-23T11:32:11.122Z"
   },
   {
    "duration": 39,
    "start_time": "2022-06-23T11:32:11.198Z"
   },
   {
    "duration": 28,
    "start_time": "2022-06-23T11:32:11.239Z"
   },
   {
    "duration": 40,
    "start_time": "2022-06-23T11:32:11.270Z"
   },
   {
    "duration": 9,
    "start_time": "2022-06-23T11:32:11.313Z"
   },
   {
    "duration": 14,
    "start_time": "2022-06-23T11:32:11.324Z"
   },
   {
    "duration": 34,
    "start_time": "2022-06-23T11:32:11.341Z"
   },
   {
    "duration": 7,
    "start_time": "2022-06-23T11:32:11.377Z"
   },
   {
    "duration": 3260,
    "start_time": "2022-06-23T11:32:11.386Z"
   },
   {
    "duration": 708,
    "start_time": "2022-06-23T11:32:14.649Z"
   },
   {
    "duration": 8,
    "start_time": "2022-06-23T11:32:15.359Z"
   },
   {
    "duration": 6,
    "start_time": "2022-06-23T11:32:15.370Z"
   },
   {
    "duration": 10,
    "start_time": "2022-06-23T11:32:15.378Z"
   },
   {
    "duration": 6,
    "start_time": "2022-06-23T11:32:15.391Z"
   },
   {
    "duration": 970,
    "start_time": "2022-06-23T11:32:15.400Z"
   },
   {
    "duration": 42,
    "start_time": "2022-06-23T11:32:16.373Z"
   },
   {
    "duration": 21,
    "start_time": "2022-06-23T11:32:16.418Z"
   },
   {
    "duration": 35,
    "start_time": "2022-06-23T11:32:16.441Z"
   },
   {
    "duration": 13,
    "start_time": "2022-06-23T11:32:16.478Z"
   },
   {
    "duration": 41,
    "start_time": "2022-06-23T11:32:16.493Z"
   },
   {
    "duration": 4,
    "start_time": "2022-06-23T11:32:16.536Z"
   },
   {
    "duration": 31,
    "start_time": "2022-06-23T11:32:16.542Z"
   },
   {
    "duration": 5,
    "start_time": "2022-06-23T11:32:16.575Z"
   },
   {
    "duration": 16,
    "start_time": "2022-06-23T11:32:16.582Z"
   },
   {
    "duration": 10,
    "start_time": "2022-06-23T11:32:16.600Z"
   },
   {
    "duration": 59,
    "start_time": "2022-06-23T11:32:16.611Z"
   },
   {
    "duration": 22,
    "start_time": "2022-06-23T11:32:16.672Z"
   },
   {
    "duration": 4,
    "start_time": "2022-06-23T11:32:16.700Z"
   },
   {
    "duration": 4,
    "start_time": "2022-06-23T11:32:16.706Z"
   },
   {
    "duration": 353,
    "start_time": "2022-06-23T11:32:16.712Z"
   },
   {
    "duration": 4,
    "start_time": "2022-06-23T11:32:17.067Z"
   },
   {
    "duration": 13146,
    "start_time": "2022-06-23T11:32:17.073Z"
   },
   {
    "duration": 4,
    "start_time": "2022-06-23T11:32:30.221Z"
   },
   {
    "duration": 74749,
    "start_time": "2022-06-23T11:32:30.227Z"
   },
   {
    "duration": 20201,
    "start_time": "2022-06-23T11:33:44.979Z"
   },
   {
    "duration": 87,
    "start_time": "2022-06-23T11:34:05.182Z"
   },
   {
    "duration": 197,
    "start_time": "2022-06-23T11:34:05.272Z"
   },
   {
    "duration": 4,
    "start_time": "2022-06-23T11:34:05.471Z"
   },
   {
    "duration": 766,
    "start_time": "2022-06-23T11:34:05.478Z"
   },
   {
    "duration": 678,
    "start_time": "2022-06-23T11:34:06.246Z"
   },
   {
    "duration": 4,
    "start_time": "2022-06-23T11:34:06.927Z"
   },
   {
    "duration": 57,
    "start_time": "2022-06-23T11:34:06.935Z"
   },
   {
    "duration": 62,
    "start_time": "2022-06-23T11:35:19.635Z"
   },
   {
    "duration": 23,
    "start_time": "2022-06-23T11:35:19.955Z"
   },
   {
    "duration": 46,
    "start_time": "2022-06-23T11:35:42.499Z"
   },
   {
    "duration": 25,
    "start_time": "2022-06-23T11:37:47.968Z"
   },
   {
    "duration": 19,
    "start_time": "2022-06-23T11:38:15.577Z"
   },
   {
    "duration": 40,
    "start_time": "2022-06-23T11:41:28.764Z"
   },
   {
    "duration": 6,
    "start_time": "2022-06-23T11:41:29.449Z"
   },
   {
    "duration": 6,
    "start_time": "2022-06-23T11:41:30.041Z"
   },
   {
    "duration": 6,
    "start_time": "2022-06-23T11:43:18.825Z"
   },
   {
    "duration": 46,
    "start_time": "2022-06-23T11:46:34.580Z"
   },
   {
    "duration": 32,
    "start_time": "2022-06-23T11:46:47.224Z"
   },
   {
    "duration": 53,
    "start_time": "2022-06-23T11:46:57.327Z"
   },
   {
    "duration": 21,
    "start_time": "2022-06-23T11:47:15.937Z"
   },
   {
    "duration": 30,
    "start_time": "2022-06-23T11:47:22.903Z"
   },
   {
    "duration": 24,
    "start_time": "2022-06-23T11:47:59.078Z"
   },
   {
    "duration": 34,
    "start_time": "2022-06-23T11:48:15.286Z"
   },
   {
    "duration": 30,
    "start_time": "2022-06-23T11:56:05.296Z"
   },
   {
    "duration": 45,
    "start_time": "2022-06-23T13:05:59.627Z"
   },
   {
    "duration": 41,
    "start_time": "2022-06-23T13:06:17.850Z"
   },
   {
    "duration": 25,
    "start_time": "2022-06-23T13:06:27.211Z"
   },
   {
    "duration": 53,
    "start_time": "2022-06-23T13:06:32.546Z"
   },
   {
    "duration": 31,
    "start_time": "2022-06-23T13:06:38.347Z"
   },
   {
    "duration": 38,
    "start_time": "2022-06-23T13:06:58.820Z"
   },
   {
    "duration": 9,
    "start_time": "2022-06-23T13:07:21.763Z"
   },
   {
    "duration": 8,
    "start_time": "2022-06-23T13:09:24.389Z"
   },
   {
    "duration": 67,
    "start_time": "2022-06-23T13:09:42.863Z"
   },
   {
    "duration": 13,
    "start_time": "2022-06-23T13:09:47.784Z"
   },
   {
    "duration": 4,
    "start_time": "2022-06-23T13:30:36.753Z"
   },
   {
    "duration": 4,
    "start_time": "2022-06-23T13:30:38.555Z"
   },
   {
    "duration": 5,
    "start_time": "2022-06-23T13:30:39.475Z"
   },
   {
    "duration": 810,
    "start_time": "2022-06-23T13:30:40.443Z"
   },
   {
    "duration": 3,
    "start_time": "2022-06-23T13:39:45.736Z"
   },
   {
    "duration": 3,
    "start_time": "2022-06-23T13:40:12.954Z"
   },
   {
    "duration": 6202,
    "start_time": "2022-06-23T13:40:29.640Z"
   },
   {
    "duration": 6435,
    "start_time": "2022-06-23T13:40:43.870Z"
   },
   {
    "duration": 3,
    "start_time": "2022-06-23T13:40:55.169Z"
   },
   {
    "duration": 5,
    "start_time": "2022-06-23T13:41:12.496Z"
   },
   {
    "duration": 122,
    "start_time": "2022-06-23T13:42:54.961Z"
   },
   {
    "duration": 4,
    "start_time": "2022-06-23T13:44:03.483Z"
   },
   {
    "duration": 5,
    "start_time": "2022-06-23T13:44:04.303Z"
   },
   {
    "duration": 17672,
    "start_time": "2022-06-23T13:44:04.826Z"
   },
   {
    "duration": 4,
    "start_time": "2022-06-23T13:44:22.500Z"
   },
   {
    "duration": 233,
    "start_time": "2022-06-23T13:44:22.506Z"
   },
   {
    "duration": 108,
    "start_time": "2022-06-23T13:44:31.376Z"
   },
   {
    "duration": 3,
    "start_time": "2022-06-23T13:46:12.169Z"
   },
   {
    "duration": 3,
    "start_time": "2022-06-23T13:46:44.842Z"
   },
   {
    "duration": 71,
    "start_time": "2022-06-23T13:46:48.074Z"
   },
   {
    "duration": 3,
    "start_time": "2022-06-23T13:47:05.759Z"
   },
   {
    "duration": 3,
    "start_time": "2022-06-23T13:47:06.273Z"
   },
   {
    "duration": 72,
    "start_time": "2022-06-23T13:47:06.624Z"
   },
   {
    "duration": 3,
    "start_time": "2022-06-23T13:47:19.296Z"
   },
   {
    "duration": 90882,
    "start_time": "2022-06-23T13:47:19.809Z"
   },
   {
    "duration": 5,
    "start_time": "2022-06-23T13:48:50.693Z"
   },
   {
    "duration": 114,
    "start_time": "2022-06-23T13:49:26.165Z"
   },
   {
    "duration": 3,
    "start_time": "2022-06-23T13:50:31.263Z"
   },
   {
    "duration": 3,
    "start_time": "2022-06-23T13:50:31.471Z"
   },
   {
    "duration": 10407,
    "start_time": "2022-06-23T13:50:33.230Z"
   },
   {
    "duration": 4,
    "start_time": "2022-06-23T13:50:43.639Z"
   },
   {
    "duration": 12,
    "start_time": "2022-06-23T14:01:21.656Z"
   },
   {
    "duration": 14,
    "start_time": "2022-06-23T14:03:06.825Z"
   },
   {
    "duration": 5,
    "start_time": "2022-06-23T14:03:12.124Z"
   },
   {
    "duration": 5,
    "start_time": "2022-06-23T14:03:34.259Z"
   },
   {
    "duration": 68,
    "start_time": "2022-06-23T14:03:36.196Z"
   },
   {
    "duration": 11,
    "start_time": "2022-06-23T14:04:00.418Z"
   },
   {
    "duration": 11,
    "start_time": "2022-06-23T14:04:05.611Z"
   },
   {
    "duration": 9,
    "start_time": "2022-06-23T14:04:13.669Z"
   },
   {
    "duration": 4,
    "start_time": "2022-06-23T14:04:16.663Z"
   },
   {
    "duration": 5,
    "start_time": "2022-06-23T14:04:25.381Z"
   },
   {
    "duration": 3,
    "start_time": "2022-06-23T14:04:25.659Z"
   },
   {
    "duration": 80,
    "start_time": "2022-06-23T14:04:26.533Z"
   },
   {
    "duration": 4,
    "start_time": "2022-06-23T14:04:36.364Z"
   },
   {
    "duration": 1149221,
    "start_time": "2022-06-23T14:04:37.012Z"
   },
   {
    "duration": 9,
    "start_time": "2022-06-23T14:23:46.235Z"
   },
   {
    "duration": 3,
    "start_time": "2022-06-23T14:23:59.202Z"
   },
   {
    "duration": 3,
    "start_time": "2022-06-23T14:23:59.753Z"
   },
   {
    "duration": 86361,
    "start_time": "2022-06-23T14:24:00.117Z"
   },
   {
    "duration": 10,
    "start_time": "2022-06-23T14:25:26.481Z"
   },
   {
    "duration": 4,
    "start_time": "2022-06-23T14:25:34.674Z"
   },
   {
    "duration": 3,
    "start_time": "2022-06-23T14:25:35.064Z"
   },
   {
    "duration": 197409,
    "start_time": "2022-06-23T14:25:36.563Z"
   },
   {
    "duration": 5,
    "start_time": "2022-06-23T14:28:53.977Z"
   },
   {
    "duration": 4,
    "start_time": "2022-06-23T14:30:09.469Z"
   },
   {
    "duration": 5,
    "start_time": "2022-06-23T14:30:09.837Z"
   },
   {
    "duration": 249633,
    "start_time": "2022-06-23T14:30:10.242Z"
   },
   {
    "duration": 4,
    "start_time": "2022-06-23T14:34:19.968Z"
   },
   {
    "duration": 4,
    "start_time": "2022-06-23T14:35:33.843Z"
   },
   {
    "duration": 3,
    "start_time": "2022-06-23T14:35:34.245Z"
   },
   {
    "duration": 103585,
    "start_time": "2022-06-23T14:35:34.589Z"
   },
   {
    "duration": 88,
    "start_time": "2022-06-23T14:37:18.179Z"
   },
   {
    "duration": 4,
    "start_time": "2022-06-23T14:37:57.720Z"
   },
   {
    "duration": 4,
    "start_time": "2022-06-23T14:37:58.146Z"
   },
   {
    "duration": 95457,
    "start_time": "2022-06-23T14:38:00.331Z"
   },
   {
    "duration": 7,
    "start_time": "2022-06-23T14:39:35.877Z"
   },
   {
    "duration": 3,
    "start_time": "2022-06-23T14:39:57.301Z"
   },
   {
    "duration": 3,
    "start_time": "2022-06-23T14:39:57.849Z"
   },
   {
    "duration": 82957,
    "start_time": "2022-06-23T14:40:00.913Z"
   },
   {
    "duration": 9,
    "start_time": "2022-06-23T14:41:23.882Z"
   },
   {
    "duration": 7,
    "start_time": "2022-06-23T14:41:49.568Z"
   },
   {
    "duration": 3,
    "start_time": "2022-06-23T14:41:50.087Z"
   },
   {
    "duration": 76204,
    "start_time": "2022-06-23T14:41:50.565Z"
   },
   {
    "duration": 5,
    "start_time": "2022-06-23T14:43:06.771Z"
   },
   {
    "duration": 4,
    "start_time": "2022-06-23T14:43:37.294Z"
   },
   {
    "duration": 3,
    "start_time": "2022-06-23T14:43:38.118Z"
   },
   {
    "duration": 96836,
    "start_time": "2022-06-23T14:43:38.438Z"
   },
   {
    "duration": 4,
    "start_time": "2022-06-23T14:45:15.276Z"
   },
   {
    "duration": 7,
    "start_time": "2022-06-23T14:47:09.006Z"
   },
   {
    "duration": 3,
    "start_time": "2022-06-23T14:47:09.300Z"
   },
   {
    "duration": 185619,
    "start_time": "2022-06-23T14:47:09.756Z"
   },
   {
    "duration": 91,
    "start_time": "2022-06-23T14:50:15.378Z"
   },
   {
    "duration": 3,
    "start_time": "2022-06-23T14:50:54.800Z"
   },
   {
    "duration": 3,
    "start_time": "2022-06-23T14:50:57.369Z"
   },
   {
    "duration": 3,
    "start_time": "2022-06-23T14:50:57.906Z"
   },
   {
    "duration": 36421,
    "start_time": "2022-06-23T14:50:58.548Z"
   },
   {
    "duration": 5,
    "start_time": "2022-06-23T14:51:34.972Z"
   },
   {
    "duration": 5,
    "start_time": "2022-06-23T14:52:29.042Z"
   },
   {
    "duration": 3,
    "start_time": "2022-06-23T14:52:41.959Z"
   },
   {
    "duration": 3,
    "start_time": "2022-06-23T14:52:42.575Z"
   },
   {
    "duration": 91734,
    "start_time": "2022-06-23T14:52:44.441Z"
   },
   {
    "duration": 92,
    "start_time": "2022-06-23T14:54:16.177Z"
   },
   {
    "duration": 4,
    "start_time": "2022-06-23T14:55:22.280Z"
   },
   {
    "duration": 2,
    "start_time": "2022-06-23T14:55:22.943Z"
   },
   {
    "duration": 477848,
    "start_time": "2022-06-23T14:55:23.521Z"
   },
   {
    "duration": 4,
    "start_time": "2022-06-23T15:03:21.371Z"
   },
   {
    "duration": 4,
    "start_time": "2022-06-23T15:10:13.441Z"
   },
   {
    "duration": 3,
    "start_time": "2022-06-23T15:10:13.743Z"
   },
   {
    "duration": 49374,
    "start_time": "2022-06-23T15:10:14.101Z"
   },
   {
    "duration": 91,
    "start_time": "2022-06-23T15:11:03.478Z"
   },
   {
    "duration": 4,
    "start_time": "2022-06-23T15:12:28.166Z"
   },
   {
    "duration": 4,
    "start_time": "2022-06-23T15:12:28.436Z"
   },
   {
    "duration": 937761,
    "start_time": "2022-06-23T15:12:28.707Z"
   },
   {
    "duration": 5,
    "start_time": "2022-06-23T15:28:06.472Z"
   },
   {
    "duration": 8,
    "start_time": "2022-06-23T15:29:53.277Z"
   },
   {
    "duration": 15,
    "start_time": "2022-06-23T15:30:24.299Z"
   },
   {
    "duration": 1666,
    "start_time": "2022-06-23T15:31:00.141Z"
   },
   {
    "duration": 330,
    "start_time": "2022-06-23T15:31:01.809Z"
   },
   {
    "duration": 45,
    "start_time": "2022-06-23T15:31:02.141Z"
   },
   {
    "duration": 47,
    "start_time": "2022-06-23T15:31:02.188Z"
   },
   {
    "duration": 2713,
    "start_time": "2022-06-23T15:31:02.237Z"
   },
   {
    "duration": 25,
    "start_time": "2022-06-23T15:31:04.953Z"
   },
   {
    "duration": 9,
    "start_time": "2022-06-23T15:31:04.980Z"
   },
   {
    "duration": 529,
    "start_time": "2022-06-23T15:31:04.991Z"
   },
   {
    "duration": 267,
    "start_time": "2022-06-23T15:31:05.522Z"
   },
   {
    "duration": 100,
    "start_time": "2022-06-23T15:31:05.793Z"
   },
   {
    "duration": 3143,
    "start_time": "2022-06-23T15:31:05.895Z"
   },
   {
    "duration": 14,
    "start_time": "2022-06-23T15:31:09.041Z"
   },
   {
    "duration": 20,
    "start_time": "2022-06-23T15:31:09.069Z"
   },
   {
    "duration": 30,
    "start_time": "2022-06-23T15:31:09.091Z"
   },
   {
    "duration": 50,
    "start_time": "2022-06-23T15:31:09.124Z"
   },
   {
    "duration": 49,
    "start_time": "2022-06-23T15:31:09.177Z"
   },
   {
    "duration": 46,
    "start_time": "2022-06-23T15:31:09.228Z"
   },
   {
    "duration": 74,
    "start_time": "2022-06-23T15:31:09.276Z"
   },
   {
    "duration": 65,
    "start_time": "2022-06-23T15:31:09.351Z"
   },
   {
    "duration": 16,
    "start_time": "2022-06-23T15:31:09.418Z"
   },
   {
    "duration": 70,
    "start_time": "2022-06-23T15:31:09.436Z"
   },
   {
    "duration": 7,
    "start_time": "2022-06-23T15:31:09.508Z"
   },
   {
    "duration": 12,
    "start_time": "2022-06-23T15:31:09.518Z"
   },
   {
    "duration": 14,
    "start_time": "2022-06-23T15:31:09.532Z"
   },
   {
    "duration": 8,
    "start_time": "2022-06-23T15:31:09.571Z"
   },
   {
    "duration": 3280,
    "start_time": "2022-06-23T15:31:09.585Z"
   },
   {
    "duration": 669,
    "start_time": "2022-06-23T15:31:12.867Z"
   },
   {
    "duration": 3,
    "start_time": "2022-06-23T15:31:13.541Z"
   },
   {
    "duration": 8,
    "start_time": "2022-06-23T15:31:13.547Z"
   },
   {
    "duration": 5,
    "start_time": "2022-06-23T15:31:13.567Z"
   },
   {
    "duration": 21,
    "start_time": "2022-06-23T15:31:13.574Z"
   },
   {
    "duration": 813,
    "start_time": "2022-06-23T15:31:13.596Z"
   },
   {
    "duration": 43,
    "start_time": "2022-06-23T15:31:14.410Z"
   },
   {
    "duration": 29,
    "start_time": "2022-06-23T15:31:14.454Z"
   },
   {
    "duration": 21,
    "start_time": "2022-06-23T15:31:14.485Z"
   },
   {
    "duration": 17,
    "start_time": "2022-06-23T15:31:14.508Z"
   },
   {
    "duration": 43,
    "start_time": "2022-06-23T15:31:14.526Z"
   },
   {
    "duration": 16,
    "start_time": "2022-06-23T15:31:14.571Z"
   },
   {
    "duration": 32,
    "start_time": "2022-06-23T15:31:14.589Z"
   },
   {
    "duration": 32,
    "start_time": "2022-06-23T15:31:14.623Z"
   },
   {
    "duration": 24,
    "start_time": "2022-06-23T15:31:14.658Z"
   },
   {
    "duration": 34,
    "start_time": "2022-06-23T15:31:14.684Z"
   },
   {
    "duration": 34,
    "start_time": "2022-06-23T15:31:14.721Z"
   },
   {
    "duration": 25,
    "start_time": "2022-06-23T15:31:14.757Z"
   },
   {
    "duration": 18,
    "start_time": "2022-06-23T15:31:14.784Z"
   },
   {
    "duration": 23,
    "start_time": "2022-06-23T15:31:14.803Z"
   },
   {
    "duration": 328,
    "start_time": "2022-06-23T15:31:14.829Z"
   },
   {
    "duration": 7,
    "start_time": "2022-06-23T15:31:15.160Z"
   },
   {
    "duration": 13310,
    "start_time": "2022-06-23T15:31:15.169Z"
   },
   {
    "duration": 3,
    "start_time": "2022-06-23T15:31:28.481Z"
   },
   {
    "duration": 76882,
    "start_time": "2022-06-23T15:31:28.487Z"
   },
   {
    "duration": 5,
    "start_time": "2022-06-23T15:32:45.371Z"
   },
   {
    "duration": 99,
    "start_time": "2022-06-23T15:32:45.378Z"
   },
   {
    "duration": 20273,
    "start_time": "2022-06-23T15:32:45.480Z"
   },
   {
    "duration": 33,
    "start_time": "2022-06-23T15:33:05.755Z"
   },
   {
    "duration": 128,
    "start_time": "2022-06-23T15:33:05.791Z"
   },
   {
    "duration": 4,
    "start_time": "2022-06-23T15:33:05.921Z"
   },
   {
    "duration": 10,
    "start_time": "2022-06-23T15:33:05.926Z"
   },
   {
    "duration": 11903,
    "start_time": "2022-06-23T15:33:05.938Z"
   },
   {
    "duration": 5,
    "start_time": "2022-06-23T15:33:17.843Z"
   },
   {
    "duration": 18,
    "start_time": "2022-06-23T15:33:17.849Z"
   },
   {
    "duration": 4,
    "start_time": "2022-06-23T15:33:17.870Z"
   },
   {
    "duration": 939510,
    "start_time": "2022-06-23T15:33:17.876Z"
   },
   {
    "duration": 9,
    "start_time": "2022-06-23T15:48:57.467Z"
   },
   {
    "duration": 18299,
    "start_time": "2022-06-23T15:48:57.478Z"
   },
   {
    "duration": 10,
    "start_time": "2022-06-23T15:49:15.781Z"
   },
   {
    "duration": 132,
    "start_time": "2022-06-23T15:49:15.868Z"
   },
   {
    "duration": 3,
    "start_time": "2022-06-23T15:49:16.002Z"
   },
   {
    "duration": 472,
    "start_time": "2022-06-23T15:49:16.007Z"
   },
   {
    "duration": 453,
    "start_time": "2022-06-23T15:49:16.481Z"
   },
   {
    "duration": 4,
    "start_time": "2022-06-23T15:49:16.936Z"
   },
   {
    "duration": 9,
    "start_time": "2022-06-23T15:51:02.808Z"
   },
   {
    "duration": 10,
    "start_time": "2022-06-23T15:51:38.215Z"
   },
   {
    "duration": 4,
    "start_time": "2022-06-23T15:51:56.759Z"
   },
   {
    "duration": 10,
    "start_time": "2022-06-23T15:52:06.583Z"
   },
   {
    "duration": 3,
    "start_time": "2022-06-23T15:52:52.337Z"
   },
   {
    "duration": 29,
    "start_time": "2022-06-23T15:52:56.222Z"
   },
   {
    "duration": 5,
    "start_time": "2022-06-23T15:52:58.623Z"
   },
   {
    "duration": 11,
    "start_time": "2022-06-23T15:53:04.799Z"
   },
   {
    "duration": 3,
    "start_time": "2022-06-23T15:53:06.355Z"
   },
   {
    "duration": 431,
    "start_time": "2022-06-23T15:53:07.874Z"
   },
   {
    "duration": 434,
    "start_time": "2022-06-23T15:53:11.334Z"
   },
   {
    "duration": 3,
    "start_time": "2022-06-23T15:53:15.114Z"
   },
   {
    "duration": 6,
    "start_time": "2022-06-23T15:53:25.382Z"
   },
   {
    "duration": 15,
    "start_time": "2022-06-23T15:53:28.177Z"
   },
   {
    "duration": 3,
    "start_time": "2022-06-23T15:53:29.415Z"
   },
   {
    "duration": 423,
    "start_time": "2022-06-23T15:53:29.983Z"
   },
   {
    "duration": 372,
    "start_time": "2022-06-23T15:53:30.557Z"
   },
   {
    "duration": 4,
    "start_time": "2022-06-23T15:53:33.013Z"
   },
   {
    "duration": 5,
    "start_time": "2022-06-23T15:54:44.415Z"
   },
   {
    "duration": 7,
    "start_time": "2022-06-23T15:55:54.262Z"
   },
   {
    "duration": 2824,
    "start_time": "2022-06-23T15:57:36.636Z"
   },
   {
    "duration": 4,
    "start_time": "2022-06-23T15:57:39.468Z"
   },
   {
    "duration": 285,
    "start_time": "2022-06-23T15:57:42.068Z"
   },
   {
    "duration": 11,
    "start_time": "2022-06-23T15:57:42.613Z"
   },
   {
    "duration": 3,
    "start_time": "2022-06-23T15:57:43.779Z"
   },
   {
    "duration": 6,
    "start_time": "2022-06-23T15:57:44.555Z"
   },
   {
    "duration": 6,
    "start_time": "2022-06-23T15:57:45.439Z"
   },
   {
    "duration": 405,
    "start_time": "2022-06-23T15:57:47.708Z"
   },
   {
    "duration": 431,
    "start_time": "2022-06-23T15:57:48.237Z"
   },
   {
    "duration": 3,
    "start_time": "2022-06-23T15:58:43.291Z"
   },
   {
    "duration": 75,
    "start_time": "2022-06-23T15:58:44.045Z"
   },
   {
    "duration": 14,
    "start_time": "2022-06-23T15:58:44.923Z"
   },
   {
    "duration": 9,
    "start_time": "2022-06-23T15:58:45.300Z"
   },
   {
    "duration": 4,
    "start_time": "2022-06-23T15:58:45.843Z"
   },
   {
    "duration": 5,
    "start_time": "2022-06-23T15:58:46.378Z"
   },
   {
    "duration": 5,
    "start_time": "2022-06-23T15:58:48.812Z"
   },
   {
    "duration": 388,
    "start_time": "2022-06-23T15:58:51.698Z"
   },
   {
    "duration": 352,
    "start_time": "2022-06-23T15:58:52.088Z"
   },
   {
    "duration": 4,
    "start_time": "2022-06-23T15:58:53.574Z"
   },
   {
    "duration": 3,
    "start_time": "2022-06-23T15:59:11.039Z"
   },
   {
    "duration": 14624,
    "start_time": "2022-06-23T15:59:11.547Z"
   },
   {
    "duration": 97,
    "start_time": "2022-06-23T15:59:26.173Z"
   },
   {
    "duration": 13,
    "start_time": "2022-06-23T15:59:26.272Z"
   },
   {
    "duration": 3,
    "start_time": "2022-06-23T15:59:26.287Z"
   },
   {
    "duration": 8,
    "start_time": "2022-06-23T15:59:26.292Z"
   },
   {
    "duration": 6,
    "start_time": "2022-06-23T15:59:26.301Z"
   },
   {
    "duration": 428,
    "start_time": "2022-06-23T15:59:26.308Z"
   },
   {
    "duration": 371,
    "start_time": "2022-06-23T15:59:26.738Z"
   },
   {
    "duration": 4,
    "start_time": "2022-06-23T15:59:27.110Z"
   },
   {
    "duration": 10,
    "start_time": "2022-06-23T15:59:36.695Z"
   },
   {
    "duration": 10,
    "start_time": "2022-06-23T15:59:37.091Z"
   },
   {
    "duration": 3,
    "start_time": "2022-06-23T15:59:37.595Z"
   },
   {
    "duration": 5,
    "start_time": "2022-06-23T15:59:38.219Z"
   },
   {
    "duration": 7,
    "start_time": "2022-06-23T15:59:38.875Z"
   },
   {
    "duration": 405,
    "start_time": "2022-06-23T15:59:41.324Z"
   },
   {
    "duration": 404,
    "start_time": "2022-06-23T15:59:42.618Z"
   },
   {
    "duration": 8461,
    "start_time": "2022-06-23T16:05:22.163Z"
   },
   {
    "duration": 0,
    "start_time": "2022-06-23T16:05:30.625Z"
   },
   {
    "duration": 104,
    "start_time": "2022-06-23T16:05:36.417Z"
   },
   {
    "duration": 235,
    "start_time": "2022-06-23T16:06:31.652Z"
   },
   {
    "duration": 40542,
    "start_time": "2022-06-23T16:06:38.536Z"
   },
   {
    "duration": 5,
    "start_time": "2022-06-23T16:18:57.575Z"
   },
   {
    "duration": 2,
    "start_time": "2022-06-23T16:19:34.903Z"
   },
   {
    "duration": 3353,
    "start_time": "2022-06-23T16:19:35.861Z"
   },
   {
    "duration": 37,
    "start_time": "2022-06-23T16:19:41.552Z"
   },
   {
    "duration": 7,
    "start_time": "2022-06-23T16:19:44.006Z"
   },
   {
    "duration": 10,
    "start_time": "2022-06-23T16:19:45.292Z"
   },
   {
    "duration": 5,
    "start_time": "2022-06-23T16:19:50.389Z"
   },
   {
    "duration": 11,
    "start_time": "2022-06-23T16:19:50.853Z"
   },
   {
    "duration": 12,
    "start_time": "2022-06-23T16:20:02.069Z"
   },
   {
    "duration": 2,
    "start_time": "2022-06-23T16:20:21.222Z"
   },
   {
    "duration": 74,
    "start_time": "2022-06-23T16:20:21.406Z"
   },
   {
    "duration": 15,
    "start_time": "2022-06-23T16:20:22.108Z"
   },
   {
    "duration": 10,
    "start_time": "2022-06-23T16:20:22.734Z"
   },
   {
    "duration": 10,
    "start_time": "2022-06-23T16:20:23.716Z"
   },
   {
    "duration": 2,
    "start_time": "2022-06-23T16:20:45.282Z"
   },
   {
    "duration": 12635,
    "start_time": "2022-06-23T16:20:45.442Z"
   },
   {
    "duration": 4,
    "start_time": "2022-06-23T16:20:58.169Z"
   },
   {
    "duration": 196,
    "start_time": "2022-06-23T16:20:58.175Z"
   },
   {
    "duration": 11,
    "start_time": "2022-06-23T16:20:58.374Z"
   },
   {
    "duration": 4,
    "start_time": "2022-06-23T16:21:14.798Z"
   },
   {
    "duration": 5,
    "start_time": "2022-06-23T16:21:15.122Z"
   },
   {
    "duration": 6,
    "start_time": "2022-06-23T16:21:16.260Z"
   },
   {
    "duration": 40,
    "start_time": "2022-06-23T16:21:40.694Z"
   },
   {
    "duration": 37,
    "start_time": "2022-06-23T16:21:56.447Z"
   },
   {
    "duration": 11,
    "start_time": "2022-06-23T16:22:04.145Z"
   },
   {
    "duration": 48,
    "start_time": "2022-06-23T16:22:36.647Z"
   },
   {
    "duration": 4,
    "start_time": "2022-06-23T16:22:42.593Z"
   },
   {
    "duration": 11,
    "start_time": "2022-06-23T16:23:07.598Z"
   },
   {
    "duration": 3,
    "start_time": "2022-06-23T16:23:44.685Z"
   },
   {
    "duration": 30,
    "start_time": "2022-06-23T16:23:44.973Z"
   },
   {
    "duration": 5,
    "start_time": "2022-06-23T16:23:45.767Z"
   },
   {
    "duration": 11,
    "start_time": "2022-06-23T16:23:46.662Z"
   },
   {
    "duration": 10,
    "start_time": "2022-06-23T16:23:46.752Z"
   },
   {
    "duration": 11,
    "start_time": "2022-06-23T16:23:47.798Z"
   },
   {
    "duration": 3,
    "start_time": "2022-06-23T16:24:25.806Z"
   },
   {
    "duration": 69,
    "start_time": "2022-06-23T16:24:31.598Z"
   },
   {
    "duration": 15,
    "start_time": "2022-06-23T16:24:32.437Z"
   },
   {
    "duration": 11,
    "start_time": "2022-06-23T16:24:32.884Z"
   },
   {
    "duration": 11,
    "start_time": "2022-06-23T16:24:33.581Z"
   },
   {
    "duration": 10,
    "start_time": "2022-06-23T16:24:34.133Z"
   },
   {
    "duration": 2,
    "start_time": "2022-06-23T16:24:49.109Z"
   },
   {
    "duration": 13823,
    "start_time": "2022-06-23T16:24:49.445Z"
   },
   {
    "duration": 7,
    "start_time": "2022-06-23T16:25:03.270Z"
   },
   {
    "duration": 101,
    "start_time": "2022-06-23T16:25:03.369Z"
   },
   {
    "duration": 25,
    "start_time": "2022-06-23T16:25:03.472Z"
   },
   {
    "duration": 26,
    "start_time": "2022-06-23T16:25:03.499Z"
   },
   {
    "duration": 3,
    "start_time": "2022-06-23T16:44:21.339Z"
   },
   {
    "duration": 10,
    "start_time": "2022-06-23T16:44:23.379Z"
   },
   {
    "duration": 9,
    "start_time": "2022-06-23T16:44:31.684Z"
   },
   {
    "duration": 5,
    "start_time": "2022-06-23T16:44:36.061Z"
   },
   {
    "duration": 19,
    "start_time": "2022-06-23T16:44:38.733Z"
   },
   {
    "duration": 299,
    "start_time": "2022-06-23T16:44:50.915Z"
   },
   {
    "duration": 315,
    "start_time": "2022-06-23T16:45:09.907Z"
   },
   {
    "duration": 10,
    "start_time": "2022-06-23T16:45:20.155Z"
   },
   {
    "duration": 393,
    "start_time": "2022-06-23T16:45:23.578Z"
   },
   {
    "duration": 430,
    "start_time": "2022-06-23T16:45:30.699Z"
   },
   {
    "duration": 408,
    "start_time": "2022-06-23T16:45:49.699Z"
   },
   {
    "duration": 3,
    "start_time": "2022-06-23T16:45:59.338Z"
   },
   {
    "duration": 99,
    "start_time": "2022-06-23T16:46:01.292Z"
   },
   {
    "duration": 73093,
    "start_time": "2022-06-23T16:46:06.580Z"
   },
   {
    "duration": 66594,
    "start_time": "2022-06-23T16:47:19.676Z"
   },
   {
    "duration": 103,
    "start_time": "2022-06-23T16:49:27.346Z"
   },
   {
    "duration": 241,
    "start_time": "2022-06-23T16:49:33.627Z"
   },
   {
    "duration": 255,
    "start_time": "2022-06-23T16:49:47.083Z"
   },
   {
    "duration": 105,
    "start_time": "2022-06-23T16:50:21.786Z"
   },
   {
    "duration": 247,
    "start_time": "2022-06-23T16:50:30.379Z"
   },
   {
    "duration": 44575,
    "start_time": "2022-06-23T16:50:52.322Z"
   },
   {
    "duration": 121,
    "start_time": "2022-06-23T17:39:34.055Z"
   },
   {
    "duration": 25,
    "start_time": "2022-06-23T17:39:38.169Z"
   },
   {
    "duration": 19,
    "start_time": "2022-06-23T17:40:06.616Z"
   },
   {
    "duration": 265,
    "start_time": "2022-06-23T17:40:13.193Z"
   },
   {
    "duration": 38150,
    "start_time": "2022-06-23T17:40:22.018Z"
   },
   {
    "duration": 3,
    "start_time": "2022-06-23T17:46:19.060Z"
   },
   {
    "duration": 73,
    "start_time": "2022-06-23T17:46:20.917Z"
   },
   {
    "duration": 4,
    "start_time": "2022-06-23T17:46:29.214Z"
   },
   {
    "duration": 20100,
    "start_time": "2022-06-23T17:46:29.813Z"
   },
   {
    "duration": 5,
    "start_time": "2022-06-23T17:46:49.915Z"
   },
   {
    "duration": 153,
    "start_time": "2022-06-23T17:46:49.922Z"
   },
   {
    "duration": 3,
    "start_time": "2022-06-23T17:47:19.918Z"
   },
   {
    "duration": 4,
    "start_time": "2022-06-23T17:47:23.365Z"
   },
   {
    "duration": 19676,
    "start_time": "2022-06-23T17:47:24.110Z"
   },
   {
    "duration": 7,
    "start_time": "2022-06-23T17:47:43.790Z"
   },
   {
    "duration": 142,
    "start_time": "2022-06-23T17:47:43.799Z"
   },
   {
    "duration": 4,
    "start_time": "2022-06-23T17:48:49.121Z"
   },
   {
    "duration": 18588,
    "start_time": "2022-06-23T17:48:49.343Z"
   },
   {
    "duration": 4,
    "start_time": "2022-06-23T17:49:07.933Z"
   },
   {
    "duration": 121,
    "start_time": "2022-06-23T17:49:07.938Z"
   },
   {
    "duration": 271,
    "start_time": "2022-06-23T17:49:28.211Z"
   },
   {
    "duration": 276,
    "start_time": "2022-06-23T17:49:29.427Z"
   },
   {
    "duration": 58,
    "start_time": "2022-06-23T17:49:39.194Z"
   },
   {
    "duration": 2,
    "start_time": "2022-06-23T17:49:46.236Z"
   },
   {
    "duration": 110,
    "start_time": "2022-06-23T17:49:46.700Z"
   },
   {
    "duration": 5,
    "start_time": "2022-06-23T17:49:51.045Z"
   },
   {
    "duration": 11,
    "start_time": "2022-06-23T17:49:51.489Z"
   },
   {
    "duration": 10,
    "start_time": "2022-06-23T17:49:52.437Z"
   },
   {
    "duration": 10,
    "start_time": "2022-06-23T17:49:53.694Z"
   },
   {
    "duration": 5,
    "start_time": "2022-06-23T17:49:57.400Z"
   },
   {
    "duration": 6,
    "start_time": "2022-06-23T17:49:57.763Z"
   },
   {
    "duration": 8,
    "start_time": "2022-06-23T17:49:59.099Z"
   },
   {
    "duration": 9,
    "start_time": "2022-06-23T17:50:03.395Z"
   },
   {
    "duration": 477,
    "start_time": "2022-06-23T17:50:05.930Z"
   },
   {
    "duration": 481,
    "start_time": "2022-06-23T17:50:06.704Z"
   },
   {
    "duration": 3,
    "start_time": "2022-06-23T17:50:08.803Z"
   },
   {
    "duration": 3,
    "start_time": "2022-06-23T18:25:01.185Z"
   },
   {
    "duration": 16665,
    "start_time": "2022-06-23T18:25:01.554Z"
   },
   {
    "duration": 4,
    "start_time": "2022-06-23T18:25:18.221Z"
   },
   {
    "duration": 135,
    "start_time": "2022-06-23T18:25:18.226Z"
   },
   {
    "duration": 2,
    "start_time": "2022-06-23T18:27:30.657Z"
   },
   {
    "duration": 16425,
    "start_time": "2022-06-23T18:27:30.983Z"
   },
   {
    "duration": 5,
    "start_time": "2022-06-23T18:27:47.409Z"
   },
   {
    "duration": 164,
    "start_time": "2022-06-23T18:27:47.415Z"
   },
   {
    "duration": 4,
    "start_time": "2022-06-23T18:27:47.581Z"
   },
   {
    "duration": 18,
    "start_time": "2022-06-23T18:27:47.587Z"
   },
   {
    "duration": 9532,
    "start_time": "2022-06-23T18:27:47.608Z"
   },
   {
    "duration": 4,
    "start_time": "2022-06-23T18:27:57.142Z"
   },
   {
    "duration": 228,
    "start_time": "2022-06-23T18:29:53.023Z"
   },
   {
    "duration": 242,
    "start_time": "2022-06-23T18:29:54.908Z"
   },
   {
    "duration": 186,
    "start_time": "2022-06-23T18:29:56.023Z"
   },
   {
    "duration": 38634,
    "start_time": "2022-06-23T18:30:00.638Z"
   },
   {
    "duration": 3,
    "start_time": "2022-06-23T18:31:51.719Z"
   },
   {
    "duration": 17595,
    "start_time": "2022-06-23T18:31:52.197Z"
   },
   {
    "duration": 4,
    "start_time": "2022-06-23T18:32:09.794Z"
   },
   {
    "duration": 130,
    "start_time": "2022-06-23T18:32:09.800Z"
   },
   {
    "duration": 277,
    "start_time": "2022-06-23T18:33:14.979Z"
   },
   {
    "duration": 103,
    "start_time": "2022-06-23T18:33:15.267Z"
   },
   {
    "duration": 223,
    "start_time": "2022-06-23T18:33:15.372Z"
   },
   {
    "duration": 50576,
    "start_time": "2022-06-23T18:33:15.597Z"
   },
   {
    "duration": 40404,
    "start_time": "2022-06-23T18:34:06.176Z"
   },
   {
    "duration": 164,
    "start_time": "2022-06-23T18:36:31.287Z"
   },
   {
    "duration": 168,
    "start_time": "2022-06-23T18:36:31.460Z"
   },
   {
    "duration": 341,
    "start_time": "2022-06-23T18:36:31.636Z"
   },
   {
    "duration": 88093,
    "start_time": "2022-06-23T18:36:31.979Z"
   },
   {
    "duration": 41403,
    "start_time": "2022-06-23T18:38:00.077Z"
   },
   {
    "duration": 537,
    "start_time": "2022-06-23T18:38:41.482Z"
   },
   {
    "duration": 3,
    "start_time": "2022-06-23T18:43:13.500Z"
   },
   {
    "duration": 108,
    "start_time": "2022-06-23T18:43:15.223Z"
   },
   {
    "duration": 3,
    "start_time": "2022-06-23T18:43:27.341Z"
   },
   {
    "duration": 4,
    "start_time": "2022-06-23T18:43:38.822Z"
   },
   {
    "duration": 13,
    "start_time": "2022-06-23T18:43:38.829Z"
   },
   {
    "duration": 9953,
    "start_time": "2022-06-23T18:43:38.844Z"
   },
   {
    "duration": 4,
    "start_time": "2022-06-23T18:43:48.798Z"
   },
   {
    "duration": 1501,
    "start_time": "2022-06-23T18:50:28.238Z"
   },
   {
    "duration": 244,
    "start_time": "2022-06-23T18:50:29.741Z"
   },
   {
    "duration": 40,
    "start_time": "2022-06-23T18:50:29.986Z"
   },
   {
    "duration": 55,
    "start_time": "2022-06-23T18:50:30.028Z"
   },
   {
    "duration": 2370,
    "start_time": "2022-06-23T18:50:30.084Z"
   },
   {
    "duration": 20,
    "start_time": "2022-06-23T18:50:32.455Z"
   },
   {
    "duration": 11,
    "start_time": "2022-06-23T18:50:32.476Z"
   },
   {
    "duration": 554,
    "start_time": "2022-06-23T18:50:32.489Z"
   },
   {
    "duration": 226,
    "start_time": "2022-06-23T18:50:33.045Z"
   },
   {
    "duration": 96,
    "start_time": "2022-06-23T18:50:33.273Z"
   },
   {
    "duration": 2936,
    "start_time": "2022-06-23T18:50:33.370Z"
   },
   {
    "duration": 11,
    "start_time": "2022-06-23T18:50:36.307Z"
   },
   {
    "duration": 15,
    "start_time": "2022-06-23T18:50:36.319Z"
   },
   {
    "duration": 42,
    "start_time": "2022-06-23T18:50:36.335Z"
   },
   {
    "duration": 18,
    "start_time": "2022-06-23T18:50:36.379Z"
   },
   {
    "duration": 46,
    "start_time": "2022-06-23T18:50:36.398Z"
   },
   {
    "duration": 26,
    "start_time": "2022-06-23T18:50:36.468Z"
   },
   {
    "duration": 81,
    "start_time": "2022-06-23T18:50:36.496Z"
   },
   {
    "duration": 48,
    "start_time": "2022-06-23T18:50:36.578Z"
   },
   {
    "duration": 16,
    "start_time": "2022-06-23T18:50:36.629Z"
   },
   {
    "duration": 46,
    "start_time": "2022-06-23T18:50:36.666Z"
   },
   {
    "duration": 7,
    "start_time": "2022-06-23T18:50:36.714Z"
   },
   {
    "duration": 13,
    "start_time": "2022-06-23T18:50:36.723Z"
   },
   {
    "duration": 32,
    "start_time": "2022-06-23T18:50:36.738Z"
   },
   {
    "duration": 8,
    "start_time": "2022-06-23T18:50:36.772Z"
   },
   {
    "duration": 3326,
    "start_time": "2022-06-23T18:50:36.782Z"
   },
   {
    "duration": 652,
    "start_time": "2022-06-23T18:50:40.109Z"
   },
   {
    "duration": 4,
    "start_time": "2022-06-23T18:50:40.768Z"
   },
   {
    "duration": 5,
    "start_time": "2022-06-23T18:50:40.774Z"
   },
   {
    "duration": 5,
    "start_time": "2022-06-23T18:50:40.781Z"
   },
   {
    "duration": 6,
    "start_time": "2022-06-23T18:50:40.788Z"
   },
   {
    "duration": 788,
    "start_time": "2022-06-23T18:50:40.795Z"
   },
   {
    "duration": 40,
    "start_time": "2022-06-23T18:50:41.584Z"
   },
   {
    "duration": 18,
    "start_time": "2022-06-23T18:50:41.626Z"
   },
   {
    "duration": 32,
    "start_time": "2022-06-23T18:50:41.646Z"
   },
   {
    "duration": 10,
    "start_time": "2022-06-23T18:50:41.680Z"
   },
   {
    "duration": 25,
    "start_time": "2022-06-23T18:50:41.692Z"
   },
   {
    "duration": 4,
    "start_time": "2022-06-23T18:50:41.719Z"
   },
   {
    "duration": 22,
    "start_time": "2022-06-23T18:50:41.724Z"
   },
   {
    "duration": 20,
    "start_time": "2022-06-23T18:50:41.748Z"
   },
   {
    "duration": 8,
    "start_time": "2022-06-23T18:50:41.770Z"
   },
   {
    "duration": 6,
    "start_time": "2022-06-23T18:50:41.780Z"
   },
   {
    "duration": 28,
    "start_time": "2022-06-23T18:50:41.788Z"
   },
   {
    "duration": 16,
    "start_time": "2022-06-23T18:50:41.818Z"
   },
   {
    "duration": 33,
    "start_time": "2022-06-23T18:50:41.835Z"
   },
   {
    "duration": 6,
    "start_time": "2022-06-23T18:50:41.870Z"
   },
   {
    "duration": 315,
    "start_time": "2022-06-23T18:50:41.878Z"
   },
   {
    "duration": 299,
    "start_time": "2022-06-23T18:50:42.194Z"
   },
   {
    "duration": 3,
    "start_time": "2022-06-23T18:50:42.495Z"
   },
   {
    "duration": 13669,
    "start_time": "2022-06-23T18:50:42.499Z"
   },
   {
    "duration": 12717,
    "start_time": "2022-06-23T18:50:56.170Z"
   },
   {
    "duration": 3,
    "start_time": "2022-06-23T18:51:08.890Z"
   },
   {
    "duration": 89474,
    "start_time": "2022-06-23T18:51:08.895Z"
   },
   {
    "duration": 86611,
    "start_time": "2022-06-23T18:52:38.371Z"
   },
   {
    "duration": 3,
    "start_time": "2022-06-23T18:54:04.983Z"
   },
   {
    "duration": 196,
    "start_time": "2022-06-23T18:54:04.992Z"
   },
   {
    "duration": 17887,
    "start_time": "2022-06-23T18:54:05.189Z"
   },
   {
    "duration": 5,
    "start_time": "2022-06-23T18:54:23.081Z"
   },
   {
    "duration": 118,
    "start_time": "2022-06-23T18:54:23.088Z"
   },
   {
    "duration": 3,
    "start_time": "2022-06-23T18:54:23.207Z"
   },
   {
    "duration": 6,
    "start_time": "2022-06-23T18:54:23.212Z"
   },
   {
    "duration": 10282,
    "start_time": "2022-06-23T18:54:23.219Z"
   },
   {
    "duration": 4,
    "start_time": "2022-06-23T18:54:33.503Z"
   },
   {
    "duration": 6,
    "start_time": "2022-06-23T18:54:33.508Z"
   },
   {
    "duration": 10,
    "start_time": "2022-06-23T18:54:33.516Z"
   },
   {
    "duration": 1305047,
    "start_time": "2022-06-23T18:54:33.527Z"
   },
   {
    "duration": 90,
    "start_time": "2022-06-23T19:16:18.583Z"
   },
   {
    "duration": 204,
    "start_time": "2022-06-23T19:16:18.675Z"
   },
   {
    "duration": 217,
    "start_time": "2022-06-23T19:16:18.881Z"
   },
   {
    "duration": 451,
    "start_time": "2022-06-23T19:16:19.101Z"
   },
   {
    "duration": 440,
    "start_time": "2022-06-23T19:16:19.554Z"
   },
   {
    "duration": 106672,
    "start_time": "2022-06-23T19:16:19.996Z"
   },
   {
    "duration": 43802,
    "start_time": "2022-06-23T19:18:06.671Z"
   },
   {
    "duration": 93,
    "start_time": "2022-06-23T19:18:50.475Z"
   },
   {
    "duration": 146,
    "start_time": "2022-06-23T19:18:50.570Z"
   },
   {
    "duration": 5,
    "start_time": "2022-06-23T19:18:50.718Z"
   },
   {
    "duration": 15,
    "start_time": "2022-06-23T19:18:50.725Z"
   },
   {
    "duration": 29,
    "start_time": "2022-06-23T19:18:50.742Z"
   },
   {
    "duration": 10,
    "start_time": "2022-06-23T19:18:50.773Z"
   },
   {
    "duration": 5,
    "start_time": "2022-06-23T19:18:50.785Z"
   },
   {
    "duration": 11,
    "start_time": "2022-06-23T19:18:50.792Z"
   },
   {
    "duration": 6,
    "start_time": "2022-06-23T19:18:50.808Z"
   },
   {
    "duration": 15,
    "start_time": "2022-06-23T19:18:50.816Z"
   },
   {
    "duration": 476,
    "start_time": "2022-06-23T19:18:50.833Z"
   },
   {
    "duration": 471,
    "start_time": "2022-06-23T19:18:51.311Z"
   },
   {
    "duration": 4,
    "start_time": "2022-06-23T19:18:51.784Z"
   },
   {
    "duration": 12471,
    "start_time": "2022-06-23T19:25:52.398Z"
   },
   {
    "duration": 3,
    "start_time": "2022-06-23T19:26:04.871Z"
   },
   {
    "duration": 108,
    "start_time": "2022-06-23T19:26:04.970Z"
   },
   {
    "duration": 18,
    "start_time": "2022-06-23T19:26:05.080Z"
   },
   {
    "duration": 23,
    "start_time": "2022-06-23T19:26:05.099Z"
   },
   {
    "duration": 11,
    "start_time": "2022-06-23T19:26:05.123Z"
   },
   {
    "duration": 22,
    "start_time": "2022-06-23T19:26:05.136Z"
   },
   {
    "duration": 26,
    "start_time": "2022-06-23T19:26:05.160Z"
   },
   {
    "duration": 16,
    "start_time": "2022-06-23T19:26:05.188Z"
   },
   {
    "duration": 409,
    "start_time": "2022-06-23T19:26:05.207Z"
   },
   {
    "duration": 409,
    "start_time": "2022-06-23T19:26:05.618Z"
   },
   {
    "duration": 2,
    "start_time": "2022-06-23T20:34:32.278Z"
   },
   {
    "duration": 16076,
    "start_time": "2022-06-23T20:34:40.995Z"
   },
   {
    "duration": 95,
    "start_time": "2022-06-23T20:34:57.073Z"
   },
   {
    "duration": 12,
    "start_time": "2022-06-23T20:35:52.404Z"
   },
   {
    "duration": 10,
    "start_time": "2022-06-23T20:35:53.712Z"
   },
   {
    "duration": 11,
    "start_time": "2022-06-23T20:35:55.178Z"
   },
   {
    "duration": 3,
    "start_time": "2022-06-23T20:35:59.277Z"
   },
   {
    "duration": 5,
    "start_time": "2022-06-23T20:36:00.437Z"
   },
   {
    "duration": 6,
    "start_time": "2022-06-23T20:36:05.290Z"
   },
   {
    "duration": 3,
    "start_time": "2022-06-23T21:01:40.630Z"
   },
   {
    "duration": 44,
    "start_time": "2022-06-23T21:05:59.056Z"
   },
   {
    "duration": 4,
    "start_time": "2022-06-23T21:06:03.406Z"
   },
   {
    "duration": 6,
    "start_time": "2022-06-23T21:06:04.478Z"
   },
   {
    "duration": 63,
    "start_time": "2022-06-23T21:06:37.407Z"
   },
   {
    "duration": 5,
    "start_time": "2022-06-23T21:06:40.351Z"
   },
   {
    "duration": 405,
    "start_time": "2022-06-23T21:07:05.991Z"
   },
   {
    "duration": 3,
    "start_time": "2022-06-23T21:07:18.575Z"
   },
   {
    "duration": 403,
    "start_time": "2022-06-23T21:07:19.327Z"
   },
   {
    "duration": 7,
    "start_time": "2022-06-23T21:10:06.958Z"
   },
   {
    "duration": 6,
    "start_time": "2022-06-23T21:10:07.414Z"
   },
   {
    "duration": 456,
    "start_time": "2022-06-23T21:10:13.447Z"
   },
   {
    "duration": 460,
    "start_time": "2022-06-23T21:10:54.015Z"
   },
   {
    "duration": 4,
    "start_time": "2022-06-23T21:10:58.294Z"
   },
   {
    "duration": 5,
    "start_time": "2022-06-23T21:12:02.253Z"
   },
   {
    "duration": 4,
    "start_time": "2022-06-23T21:12:02.621Z"
   },
   {
    "duration": 9,
    "start_time": "2022-06-23T21:12:14.884Z"
   },
   {
    "duration": 440,
    "start_time": "2022-06-23T21:12:15.341Z"
   },
   {
    "duration": 4,
    "start_time": "2022-06-23T21:12:55.733Z"
   },
   {
    "duration": 471,
    "start_time": "2022-06-23T21:13:03.518Z"
   },
   {
    "duration": 4,
    "start_time": "2022-06-23T21:13:23.125Z"
   },
   {
    "duration": 408,
    "start_time": "2022-06-23T21:13:39.053Z"
   },
   {
    "duration": 458,
    "start_time": "2022-06-23T21:13:40.885Z"
   },
   {
    "duration": 449,
    "start_time": "2022-06-23T21:13:42.237Z"
   },
   {
    "duration": 467,
    "start_time": "2022-06-23T21:13:55.784Z"
   },
   {
    "duration": 480,
    "start_time": "2022-06-23T21:14:29.317Z"
   },
   {
    "duration": 3,
    "start_time": "2022-06-23T21:14:42.765Z"
   },
   {
    "duration": 63,
    "start_time": "2022-06-23T21:20:15.092Z"
   },
   {
    "duration": 47,
    "start_time": "2022-06-23T21:20:47.205Z"
   },
   {
    "duration": 2090,
    "start_time": "2022-06-23T21:41:43.127Z"
   },
   {
    "duration": 21,
    "start_time": "2022-06-23T21:42:50.482Z"
   },
   {
    "duration": 809,
    "start_time": "2022-06-23T21:43:04.528Z"
   },
   {
    "duration": 665,
    "start_time": "2022-06-23T21:43:34.656Z"
   },
   {
    "duration": 822,
    "start_time": "2022-06-23T21:44:22.119Z"
   },
   {
    "duration": 1012,
    "start_time": "2022-06-23T21:44:56.894Z"
   },
   {
    "duration": 58,
    "start_time": "2022-06-23T21:48:24.701Z"
   },
   {
    "duration": 898,
    "start_time": "2022-06-23T21:48:28.190Z"
   },
   {
    "duration": 810,
    "start_time": "2022-06-23T21:49:24.246Z"
   },
   {
    "duration": 959,
    "start_time": "2022-06-23T21:50:32.283Z"
   },
   {
    "duration": 49,
    "start_time": "2022-06-23T21:52:01.400Z"
   },
   {
    "duration": 1075,
    "start_time": "2022-06-23T21:52:05.598Z"
   },
   {
    "duration": 844,
    "start_time": "2022-06-23T21:52:34.630Z"
   },
   {
    "duration": 1035,
    "start_time": "2022-06-23T21:52:58.462Z"
   },
   {
    "duration": 1055,
    "start_time": "2022-06-23T21:53:41.228Z"
   },
   {
    "duration": 854,
    "start_time": "2022-06-23T21:56:39.585Z"
   },
   {
    "duration": 107,
    "start_time": "2022-06-23T21:56:48.629Z"
   },
   {
    "duration": 808,
    "start_time": "2022-06-23T21:56:51.300Z"
   },
   {
    "duration": 1069,
    "start_time": "2022-06-23T21:56:58.621Z"
   },
   {
    "duration": 1564,
    "start_time": "2022-06-23T22:00:04.462Z"
   },
   {
    "duration": 255,
    "start_time": "2022-06-23T22:00:06.028Z"
   },
   {
    "duration": 39,
    "start_time": "2022-06-23T22:00:06.285Z"
   },
   {
    "duration": 59,
    "start_time": "2022-06-23T22:00:06.326Z"
   },
   {
    "duration": 2438,
    "start_time": "2022-06-23T22:00:06.387Z"
   },
   {
    "duration": 20,
    "start_time": "2022-06-23T22:00:08.827Z"
   },
   {
    "duration": 18,
    "start_time": "2022-06-23T22:00:08.850Z"
   },
   {
    "duration": 526,
    "start_time": "2022-06-23T22:00:08.870Z"
   },
   {
    "duration": 228,
    "start_time": "2022-06-23T22:00:09.398Z"
   },
   {
    "duration": 109,
    "start_time": "2022-06-23T22:00:09.629Z"
   },
   {
    "duration": 2758,
    "start_time": "2022-06-23T22:00:09.740Z"
   },
   {
    "duration": 11,
    "start_time": "2022-06-23T22:00:12.500Z"
   },
   {
    "duration": 12,
    "start_time": "2022-06-23T22:00:12.513Z"
   },
   {
    "duration": 47,
    "start_time": "2022-06-23T22:00:12.527Z"
   },
   {
    "duration": 20,
    "start_time": "2022-06-23T22:00:12.576Z"
   },
   {
    "duration": 44,
    "start_time": "2022-06-23T22:00:12.598Z"
   },
   {
    "duration": 42,
    "start_time": "2022-06-23T22:00:12.643Z"
   },
   {
    "duration": 65,
    "start_time": "2022-06-23T22:00:12.687Z"
   },
   {
    "duration": 60,
    "start_time": "2022-06-23T22:00:12.754Z"
   },
   {
    "duration": 15,
    "start_time": "2022-06-23T22:00:12.816Z"
   },
   {
    "duration": 68,
    "start_time": "2022-06-23T22:00:12.832Z"
   },
   {
    "duration": 6,
    "start_time": "2022-06-23T22:00:12.902Z"
   },
   {
    "duration": 8,
    "start_time": "2022-06-23T22:00:12.910Z"
   },
   {
    "duration": 12,
    "start_time": "2022-06-23T22:00:12.919Z"
   },
   {
    "duration": 6,
    "start_time": "2022-06-23T22:00:12.932Z"
   },
   {
    "duration": 3044,
    "start_time": "2022-06-23T22:00:12.939Z"
   },
   {
    "duration": 843,
    "start_time": "2022-06-23T22:00:15.985Z"
   },
   {
    "duration": 3,
    "start_time": "2022-06-23T22:00:16.832Z"
   },
   {
    "duration": 6,
    "start_time": "2022-06-23T22:00:16.837Z"
   },
   {
    "duration": 5,
    "start_time": "2022-06-23T22:00:16.845Z"
   },
   {
    "duration": 20,
    "start_time": "2022-06-23T22:00:16.851Z"
   },
   {
    "duration": 787,
    "start_time": "2022-06-23T22:00:16.873Z"
   },
   {
    "duration": 48,
    "start_time": "2022-06-23T22:00:17.669Z"
   },
   {
    "duration": 19,
    "start_time": "2022-06-23T22:00:17.719Z"
   },
   {
    "duration": 31,
    "start_time": "2022-06-23T22:00:17.740Z"
   },
   {
    "duration": 11,
    "start_time": "2022-06-23T22:00:17.773Z"
   },
   {
    "duration": 30,
    "start_time": "2022-06-23T22:00:17.787Z"
   },
   {
    "duration": 4,
    "start_time": "2022-06-23T22:00:17.819Z"
   },
   {
    "duration": 15,
    "start_time": "2022-06-23T22:00:17.824Z"
   },
   {
    "duration": 8,
    "start_time": "2022-06-23T22:00:17.841Z"
   },
   {
    "duration": 22,
    "start_time": "2022-06-23T22:00:17.850Z"
   },
   {
    "duration": 8,
    "start_time": "2022-06-23T22:00:17.877Z"
   },
   {
    "duration": 27,
    "start_time": "2022-06-23T22:00:17.887Z"
   },
   {
    "duration": 14,
    "start_time": "2022-06-23T22:00:17.916Z"
   },
   {
    "duration": 3,
    "start_time": "2022-06-23T22:00:17.932Z"
   },
   {
    "duration": 5,
    "start_time": "2022-06-23T22:00:17.936Z"
   },
   {
    "duration": 338,
    "start_time": "2022-06-23T22:00:17.943Z"
   },
   {
    "duration": 308,
    "start_time": "2022-06-23T22:00:18.283Z"
   },
   {
    "duration": 3,
    "start_time": "2022-06-23T22:00:18.593Z"
   },
   {
    "duration": 12353,
    "start_time": "2022-06-23T22:00:18.597Z"
   },
   {
    "duration": 12265,
    "start_time": "2022-06-23T22:00:30.952Z"
   },
   {
    "duration": 3,
    "start_time": "2022-06-23T22:00:43.219Z"
   },
   {
    "duration": 77962,
    "start_time": "2022-06-23T22:00:43.223Z"
   },
   {
    "duration": 77688,
    "start_time": "2022-06-23T22:02:01.187Z"
   },
   {
    "duration": 3,
    "start_time": "2022-06-23T22:03:18.881Z"
   },
   {
    "duration": 90,
    "start_time": "2022-06-23T22:03:18.888Z"
   },
   {
    "duration": 17205,
    "start_time": "2022-06-23T22:03:18.980Z"
   },
   {
    "duration": 4,
    "start_time": "2022-06-23T22:03:36.187Z"
   },
   {
    "duration": 126,
    "start_time": "2022-06-23T22:03:36.193Z"
   },
   {
    "duration": 4,
    "start_time": "2022-06-23T22:03:36.320Z"
   },
   {
    "duration": 10,
    "start_time": "2022-06-23T22:03:36.326Z"
   },
   {
    "duration": 10160,
    "start_time": "2022-06-23T22:03:36.338Z"
   },
   {
    "duration": 5,
    "start_time": "2022-06-23T22:03:46.500Z"
   },
   {
    "duration": 16,
    "start_time": "2022-06-23T22:03:46.507Z"
   },
   {
    "duration": 23,
    "start_time": "2022-06-23T22:03:46.526Z"
   },
   {
    "duration": 1459742,
    "start_time": "2022-06-23T22:03:46.551Z"
   },
   {
    "duration": 6,
    "start_time": "2022-06-23T22:28:06.381Z"
   },
   {
    "duration": 255,
    "start_time": "2022-06-23T22:28:06.388Z"
   },
   {
    "duration": 172,
    "start_time": "2022-06-23T22:28:06.645Z"
   },
   {
    "duration": 387,
    "start_time": "2022-06-23T22:28:06.818Z"
   },
   {
    "duration": 399,
    "start_time": "2022-06-23T22:28:07.207Z"
   },
   {
    "duration": 75070,
    "start_time": "2022-06-23T22:28:07.607Z"
   },
   {
    "duration": 56092,
    "start_time": "2022-06-23T22:29:22.679Z"
   },
   {
    "duration": 6,
    "start_time": "2022-06-23T22:30:18.780Z"
   },
   {
    "duration": 19900,
    "start_time": "2022-06-23T22:30:18.788Z"
   },
   {
    "duration": 93,
    "start_time": "2022-06-23T22:30:38.781Z"
   },
   {
    "duration": 215,
    "start_time": "2022-06-23T22:30:38.875Z"
   },
   {
    "duration": 13,
    "start_time": "2022-06-23T22:30:39.092Z"
   },
   {
    "duration": 4,
    "start_time": "2022-06-23T22:30:39.106Z"
   },
   {
    "duration": 8,
    "start_time": "2022-06-23T22:30:39.111Z"
   },
   {
    "duration": 6,
    "start_time": "2022-06-23T22:30:39.121Z"
   },
   {
    "duration": 11,
    "start_time": "2022-06-23T22:30:39.133Z"
   },
   {
    "duration": 478,
    "start_time": "2022-06-23T22:30:39.146Z"
   },
   {
    "duration": 486,
    "start_time": "2022-06-23T22:30:39.626Z"
   },
   {
    "duration": 4,
    "start_time": "2022-06-23T22:30:40.114Z"
   }
  ],
  "kernelspec": {
   "display_name": "Python 3",
   "language": "python",
   "name": "python3"
  },
  "language_info": {
   "codemirror_mode": {
    "name": "ipython",
    "version": 3
   },
   "file_extension": ".py",
   "mimetype": "text/x-python",
   "name": "python",
   "nbconvert_exporter": "python",
   "pygments_lexer": "ipython3",
   "version": "3.8.8"
  },
  "toc": {
   "base_numbering": 1,
   "nav_menu": {},
   "number_sections": true,
   "sideBar": true,
   "skip_h1_title": true,
   "title_cell": "Table of Contents",
   "title_sidebar": "Contents",
   "toc_cell": false,
   "toc_position": {
    "height": "calc(100% - 180px)",
    "left": "10px",
    "top": "150px",
    "width": "360.375px"
   },
   "toc_section_display": true,
   "toc_window_display": true
  }
 },
 "nbformat": 4,
 "nbformat_minor": 2
}
