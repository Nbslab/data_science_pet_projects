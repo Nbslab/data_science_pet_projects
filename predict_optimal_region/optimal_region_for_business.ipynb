{
 "cells": [
  {
   "cell_type": "markdown",
   "metadata": {},
   "source": [
    "# Выбор локации для скважины"
   ]
  },
  {
   "cell_type": "markdown",
   "metadata": {},
   "source": [
    "Проект для компании «ГлавРосГосНефть». Поставлена задача выбора месторождения для разработки новых скважин. В нашем распоряжении данные о пробах нефти в трех регионах - качество нефти и объем ее запасов. Требуется построить модель машинного обучения, которая поможет определить регион, где добыча принесёт наибольшую прибыль.\n",
    "\n",
    "Для выбора оптимальной локации используют следующий алгоритм:\n",
    "\n",
    "- В избранном регионе ищут месторождения, для каждого определяют значения признаков;\n",
    "- Строят модель и оценивают объём запасов;\n",
    "- Выбирают месторождения с самым высокими оценками значений. Количество месторождений зависит от бюджета компании и стоимости разработки одной скважины;\n",
    "- Прибыль равна суммарной прибыли отобранных месторождений.\n",
    "\n",
    "**Цель проекта:** изучить имеющиеся данные, построить модели машинного обучения для каждого региона, посчитать прибыль, и, оценив риски, выбрать лучший регион для разработок.\n",
    "\n",
    "Ход выполнения проекта: данные получены благодаря геологоразведке и хранятся в трех файлах: `/datasets/geo_data_0.csv`, `/datasets/geo_data_1.csv`, `/datasets/geo_data_2.csv`. О качестве данных ничего известно, поэтому возможно потребуется предобработка прежде чем можно будет приступить к построению моделей. Изучим данные, построим модели, оценим их качество по метрике RMSE, расчитаем необходимые статистические параметры и выберем оптимальный регион. Таким образом исследование прйодет в несколько этапов:\n",
    "\n",
    "- Загрузка данных\n",
    "- Подготовка данных\n",
    "- Обучение и оценка качества моделей\n",
    "- Подготовка к расчету прибыли\n",
    "- Расчет прибыли и оценка рисков\n",
    "- Выбор лучшего меторождения"
   ]
  },
  {
   "cell_type": "markdown",
   "metadata": {},
   "source": [
    "## Загрузка и подготовка данных"
   ]
  },
  {
   "cell_type": "markdown",
   "metadata": {},
   "source": [
    "### Импорт необходимых библиотек"
   ]
  },
  {
   "cell_type": "code",
   "execution_count": 1,
   "metadata": {},
   "outputs": [],
   "source": [
    "import pandas as pd\n",
    "import numpy as np\n",
    "from matplotlib import pyplot as plt\n",
    "import seaborn as sns\n",
    "\n",
    "from sklearn.model_selection import train_test_split\n",
    "from sklearn.linear_model import LinearRegression\n",
    "from sklearn.metrics import mean_squared_error\n",
    "\n",
    "pd.options.mode.chained_assignment = None "
   ]
  },
  {
   "cell_type": "markdown",
   "metadata": {},
   "source": [
    "### Загрузка данных"
   ]
  },
  {
   "cell_type": "code",
   "execution_count": 2,
   "metadata": {},
   "outputs": [],
   "source": [
    "df1 = pd.read_csv('datasets/geo_data_0.csv')\n",
    "df2 = pd.read_csv('datasets/geo_data_1.csv')\n",
    "df3 = pd.read_csv('datasets/geo_data_2.csv')"
   ]
  },
  {
   "cell_type": "markdown",
   "metadata": {},
   "source": [
    "### Обзор данных"
   ]
  },
  {
   "cell_type": "markdown",
   "metadata": {},
   "source": [
    "Посмотрим общую информацию по имеющимся данным"
   ]
  },
  {
   "cell_type": "code",
   "execution_count": 3,
   "metadata": {},
   "outputs": [],
   "source": [
    "df_list = [df1, df2, df3]"
   ]
  },
  {
   "cell_type": "code",
   "execution_count": 4,
   "metadata": {
    "scrolled": false
   },
   "outputs": [
    {
     "data": {
      "text/html": [
       "<div>\n",
       "<style scoped>\n",
       "    .dataframe tbody tr th:only-of-type {\n",
       "        vertical-align: middle;\n",
       "    }\n",
       "\n",
       "    .dataframe tbody tr th {\n",
       "        vertical-align: top;\n",
       "    }\n",
       "\n",
       "    .dataframe thead th {\n",
       "        text-align: right;\n",
       "    }\n",
       "</style>\n",
       "<table border=\"1\" class=\"dataframe\">\n",
       "  <thead>\n",
       "    <tr style=\"text-align: right;\">\n",
       "      <th></th>\n",
       "      <th>id</th>\n",
       "      <th>f0</th>\n",
       "      <th>f1</th>\n",
       "      <th>f2</th>\n",
       "      <th>product</th>\n",
       "    </tr>\n",
       "  </thead>\n",
       "  <tbody>\n",
       "    <tr>\n",
       "      <th>0</th>\n",
       "      <td>txEyH</td>\n",
       "      <td>0.705745</td>\n",
       "      <td>-0.497823</td>\n",
       "      <td>1.221170</td>\n",
       "      <td>105.280062</td>\n",
       "    </tr>\n",
       "    <tr>\n",
       "      <th>1</th>\n",
       "      <td>2acmU</td>\n",
       "      <td>1.334711</td>\n",
       "      <td>-0.340164</td>\n",
       "      <td>4.365080</td>\n",
       "      <td>73.037750</td>\n",
       "    </tr>\n",
       "    <tr>\n",
       "      <th>2</th>\n",
       "      <td>409Wp</td>\n",
       "      <td>1.022732</td>\n",
       "      <td>0.151990</td>\n",
       "      <td>1.419926</td>\n",
       "      <td>85.265647</td>\n",
       "    </tr>\n",
       "    <tr>\n",
       "      <th>3</th>\n",
       "      <td>iJLyR</td>\n",
       "      <td>-0.032172</td>\n",
       "      <td>0.139033</td>\n",
       "      <td>2.978566</td>\n",
       "      <td>168.620776</td>\n",
       "    </tr>\n",
       "    <tr>\n",
       "      <th>4</th>\n",
       "      <td>Xdl7t</td>\n",
       "      <td>1.988431</td>\n",
       "      <td>0.155413</td>\n",
       "      <td>4.751769</td>\n",
       "      <td>154.036647</td>\n",
       "    </tr>\n",
       "  </tbody>\n",
       "</table>\n",
       "</div>"
      ],
      "text/plain": [
       "      id        f0        f1        f2     product\n",
       "0  txEyH  0.705745 -0.497823  1.221170  105.280062\n",
       "1  2acmU  1.334711 -0.340164  4.365080   73.037750\n",
       "2  409Wp  1.022732  0.151990  1.419926   85.265647\n",
       "3  iJLyR -0.032172  0.139033  2.978566  168.620776\n",
       "4  Xdl7t  1.988431  0.155413  4.751769  154.036647"
      ]
     },
     "metadata": {},
     "output_type": "display_data"
    },
    {
     "data": {
      "text/html": [
       "<div>\n",
       "<style scoped>\n",
       "    .dataframe tbody tr th:only-of-type {\n",
       "        vertical-align: middle;\n",
       "    }\n",
       "\n",
       "    .dataframe tbody tr th {\n",
       "        vertical-align: top;\n",
       "    }\n",
       "\n",
       "    .dataframe thead th {\n",
       "        text-align: right;\n",
       "    }\n",
       "</style>\n",
       "<table border=\"1\" class=\"dataframe\">\n",
       "  <thead>\n",
       "    <tr style=\"text-align: right;\">\n",
       "      <th></th>\n",
       "      <th>id</th>\n",
       "      <th>f0</th>\n",
       "      <th>f1</th>\n",
       "      <th>f2</th>\n",
       "      <th>product</th>\n",
       "    </tr>\n",
       "  </thead>\n",
       "  <tbody>\n",
       "    <tr>\n",
       "      <th>0</th>\n",
       "      <td>kBEdx</td>\n",
       "      <td>-15.001348</td>\n",
       "      <td>-8.276000</td>\n",
       "      <td>-0.005876</td>\n",
       "      <td>3.179103</td>\n",
       "    </tr>\n",
       "    <tr>\n",
       "      <th>1</th>\n",
       "      <td>62mP7</td>\n",
       "      <td>14.272088</td>\n",
       "      <td>-3.475083</td>\n",
       "      <td>0.999183</td>\n",
       "      <td>26.953261</td>\n",
       "    </tr>\n",
       "    <tr>\n",
       "      <th>2</th>\n",
       "      <td>vyE1P</td>\n",
       "      <td>6.263187</td>\n",
       "      <td>-5.948386</td>\n",
       "      <td>5.001160</td>\n",
       "      <td>134.766305</td>\n",
       "    </tr>\n",
       "    <tr>\n",
       "      <th>3</th>\n",
       "      <td>KcrkZ</td>\n",
       "      <td>-13.081196</td>\n",
       "      <td>-11.506057</td>\n",
       "      <td>4.999415</td>\n",
       "      <td>137.945408</td>\n",
       "    </tr>\n",
       "    <tr>\n",
       "      <th>4</th>\n",
       "      <td>AHL4O</td>\n",
       "      <td>12.702195</td>\n",
       "      <td>-8.147433</td>\n",
       "      <td>5.004363</td>\n",
       "      <td>134.766305</td>\n",
       "    </tr>\n",
       "  </tbody>\n",
       "</table>\n",
       "</div>"
      ],
      "text/plain": [
       "      id         f0         f1        f2     product\n",
       "0  kBEdx -15.001348  -8.276000 -0.005876    3.179103\n",
       "1  62mP7  14.272088  -3.475083  0.999183   26.953261\n",
       "2  vyE1P   6.263187  -5.948386  5.001160  134.766305\n",
       "3  KcrkZ -13.081196 -11.506057  4.999415  137.945408\n",
       "4  AHL4O  12.702195  -8.147433  5.004363  134.766305"
      ]
     },
     "metadata": {},
     "output_type": "display_data"
    },
    {
     "data": {
      "text/html": [
       "<div>\n",
       "<style scoped>\n",
       "    .dataframe tbody tr th:only-of-type {\n",
       "        vertical-align: middle;\n",
       "    }\n",
       "\n",
       "    .dataframe tbody tr th {\n",
       "        vertical-align: top;\n",
       "    }\n",
       "\n",
       "    .dataframe thead th {\n",
       "        text-align: right;\n",
       "    }\n",
       "</style>\n",
       "<table border=\"1\" class=\"dataframe\">\n",
       "  <thead>\n",
       "    <tr style=\"text-align: right;\">\n",
       "      <th></th>\n",
       "      <th>id</th>\n",
       "      <th>f0</th>\n",
       "      <th>f1</th>\n",
       "      <th>f2</th>\n",
       "      <th>product</th>\n",
       "    </tr>\n",
       "  </thead>\n",
       "  <tbody>\n",
       "    <tr>\n",
       "      <th>0</th>\n",
       "      <td>fwXo0</td>\n",
       "      <td>-1.146987</td>\n",
       "      <td>0.963328</td>\n",
       "      <td>-0.828965</td>\n",
       "      <td>27.758673</td>\n",
       "    </tr>\n",
       "    <tr>\n",
       "      <th>1</th>\n",
       "      <td>WJtFt</td>\n",
       "      <td>0.262778</td>\n",
       "      <td>0.269839</td>\n",
       "      <td>-2.530187</td>\n",
       "      <td>56.069697</td>\n",
       "    </tr>\n",
       "    <tr>\n",
       "      <th>2</th>\n",
       "      <td>ovLUW</td>\n",
       "      <td>0.194587</td>\n",
       "      <td>0.289035</td>\n",
       "      <td>-5.586433</td>\n",
       "      <td>62.871910</td>\n",
       "    </tr>\n",
       "    <tr>\n",
       "      <th>3</th>\n",
       "      <td>q6cA6</td>\n",
       "      <td>2.236060</td>\n",
       "      <td>-0.553760</td>\n",
       "      <td>0.930038</td>\n",
       "      <td>114.572842</td>\n",
       "    </tr>\n",
       "    <tr>\n",
       "      <th>4</th>\n",
       "      <td>WPMUX</td>\n",
       "      <td>-0.515993</td>\n",
       "      <td>1.716266</td>\n",
       "      <td>5.899011</td>\n",
       "      <td>149.600746</td>\n",
       "    </tr>\n",
       "  </tbody>\n",
       "</table>\n",
       "</div>"
      ],
      "text/plain": [
       "      id        f0        f1        f2     product\n",
       "0  fwXo0 -1.146987  0.963328 -0.828965   27.758673\n",
       "1  WJtFt  0.262778  0.269839 -2.530187   56.069697\n",
       "2  ovLUW  0.194587  0.289035 -5.586433   62.871910\n",
       "3  q6cA6  2.236060 -0.553760  0.930038  114.572842\n",
       "4  WPMUX -0.515993  1.716266  5.899011  149.600746"
      ]
     },
     "metadata": {},
     "output_type": "display_data"
    }
   ],
   "source": [
    "display(df1.head(), df2.head(), df3.head())"
   ]
  },
  {
   "cell_type": "code",
   "execution_count": 5,
   "metadata": {},
   "outputs": [
    {
     "name": "stdout",
     "output_type": "stream",
     "text": [
      "<class 'pandas.core.frame.DataFrame'>\n",
      "RangeIndex: 100000 entries, 0 to 99999\n",
      "Data columns (total 5 columns):\n",
      " #   Column   Non-Null Count   Dtype  \n",
      "---  ------   --------------   -----  \n",
      " 0   id       100000 non-null  object \n",
      " 1   f0       100000 non-null  float64\n",
      " 2   f1       100000 non-null  float64\n",
      " 3   f2       100000 non-null  float64\n",
      " 4   product  100000 non-null  float64\n",
      "dtypes: float64(4), object(1)\n",
      "memory usage: 3.8+ MB\n",
      "\n",
      "\n",
      "<class 'pandas.core.frame.DataFrame'>\n",
      "RangeIndex: 100000 entries, 0 to 99999\n",
      "Data columns (total 5 columns):\n",
      " #   Column   Non-Null Count   Dtype  \n",
      "---  ------   --------------   -----  \n",
      " 0   id       100000 non-null  object \n",
      " 1   f0       100000 non-null  float64\n",
      " 2   f1       100000 non-null  float64\n",
      " 3   f2       100000 non-null  float64\n",
      " 4   product  100000 non-null  float64\n",
      "dtypes: float64(4), object(1)\n",
      "memory usage: 3.8+ MB\n",
      "\n",
      "\n",
      "<class 'pandas.core.frame.DataFrame'>\n",
      "RangeIndex: 100000 entries, 0 to 99999\n",
      "Data columns (total 5 columns):\n",
      " #   Column   Non-Null Count   Dtype  \n",
      "---  ------   --------------   -----  \n",
      " 0   id       100000 non-null  object \n",
      " 1   f0       100000 non-null  float64\n",
      " 2   f1       100000 non-null  float64\n",
      " 3   f2       100000 non-null  float64\n",
      " 4   product  100000 non-null  float64\n",
      "dtypes: float64(4), object(1)\n",
      "memory usage: 3.8+ MB\n",
      "\n",
      "\n"
     ]
    }
   ],
   "source": [
    "for df in df_list:\n",
    "    df.info()\n",
    "    print('\\n')"
   ]
  },
  {
   "cell_type": "markdown",
   "metadata": {},
   "source": [
    "Мы имеем 3 различных датасета с 5 колонками и 10000 записями в каждом. Пропуски в данных отсутствуют. Согласно полученной документации: \n",
    "\n",
    "**Параметры**\n",
    "* `id` — уникальный идентификатор скважины;\n",
    "* `f0`, `f1`, `f2` — три признака точек (неважно, что они означают, но сами признаки значимы);\n",
    "\n",
    "**Целевой признак**\n",
    "* `product` — объём запасов в скважине (тыс. баррелей)."
   ]
  },
  {
   "cell_type": "markdown",
   "metadata": {},
   "source": [
    "Посмтрим общую статистическую информацию по датасетам"
   ]
  },
  {
   "cell_type": "code",
   "execution_count": 6,
   "metadata": {},
   "outputs": [
    {
     "data": {
      "text/html": [
       "<div>\n",
       "<style scoped>\n",
       "    .dataframe tbody tr th:only-of-type {\n",
       "        vertical-align: middle;\n",
       "    }\n",
       "\n",
       "    .dataframe tbody tr th {\n",
       "        vertical-align: top;\n",
       "    }\n",
       "\n",
       "    .dataframe thead th {\n",
       "        text-align: right;\n",
       "    }\n",
       "</style>\n",
       "<table border=\"1\" class=\"dataframe\">\n",
       "  <thead>\n",
       "    <tr style=\"text-align: right;\">\n",
       "      <th></th>\n",
       "      <th>f0</th>\n",
       "      <th>f1</th>\n",
       "      <th>f2</th>\n",
       "      <th>product</th>\n",
       "    </tr>\n",
       "  </thead>\n",
       "  <tbody>\n",
       "    <tr>\n",
       "      <th>count</th>\n",
       "      <td>100000.000000</td>\n",
       "      <td>100000.000000</td>\n",
       "      <td>100000.000000</td>\n",
       "      <td>100000.000000</td>\n",
       "    </tr>\n",
       "    <tr>\n",
       "      <th>mean</th>\n",
       "      <td>0.500419</td>\n",
       "      <td>0.250143</td>\n",
       "      <td>2.502647</td>\n",
       "      <td>92.500000</td>\n",
       "    </tr>\n",
       "    <tr>\n",
       "      <th>std</th>\n",
       "      <td>0.871832</td>\n",
       "      <td>0.504433</td>\n",
       "      <td>3.248248</td>\n",
       "      <td>44.288691</td>\n",
       "    </tr>\n",
       "    <tr>\n",
       "      <th>min</th>\n",
       "      <td>-1.408605</td>\n",
       "      <td>-0.848218</td>\n",
       "      <td>-12.088328</td>\n",
       "      <td>0.000000</td>\n",
       "    </tr>\n",
       "    <tr>\n",
       "      <th>25%</th>\n",
       "      <td>-0.072580</td>\n",
       "      <td>-0.200881</td>\n",
       "      <td>0.287748</td>\n",
       "      <td>56.497507</td>\n",
       "    </tr>\n",
       "    <tr>\n",
       "      <th>50%</th>\n",
       "      <td>0.502360</td>\n",
       "      <td>0.250252</td>\n",
       "      <td>2.515969</td>\n",
       "      <td>91.849972</td>\n",
       "    </tr>\n",
       "    <tr>\n",
       "      <th>75%</th>\n",
       "      <td>1.073581</td>\n",
       "      <td>0.700646</td>\n",
       "      <td>4.715088</td>\n",
       "      <td>128.564089</td>\n",
       "    </tr>\n",
       "    <tr>\n",
       "      <th>max</th>\n",
       "      <td>2.362331</td>\n",
       "      <td>1.343769</td>\n",
       "      <td>16.003790</td>\n",
       "      <td>185.364347</td>\n",
       "    </tr>\n",
       "  </tbody>\n",
       "</table>\n",
       "</div>"
      ],
      "text/plain": [
       "                  f0             f1             f2        product\n",
       "count  100000.000000  100000.000000  100000.000000  100000.000000\n",
       "mean        0.500419       0.250143       2.502647      92.500000\n",
       "std         0.871832       0.504433       3.248248      44.288691\n",
       "min        -1.408605      -0.848218     -12.088328       0.000000\n",
       "25%        -0.072580      -0.200881       0.287748      56.497507\n",
       "50%         0.502360       0.250252       2.515969      91.849972\n",
       "75%         1.073581       0.700646       4.715088     128.564089\n",
       "max         2.362331       1.343769      16.003790     185.364347"
      ]
     },
     "metadata": {},
     "output_type": "display_data"
    },
    {
     "name": "stdout",
     "output_type": "stream",
     "text": [
      "\n",
      "\n"
     ]
    },
    {
     "data": {
      "text/html": [
       "<div>\n",
       "<style scoped>\n",
       "    .dataframe tbody tr th:only-of-type {\n",
       "        vertical-align: middle;\n",
       "    }\n",
       "\n",
       "    .dataframe tbody tr th {\n",
       "        vertical-align: top;\n",
       "    }\n",
       "\n",
       "    .dataframe thead th {\n",
       "        text-align: right;\n",
       "    }\n",
       "</style>\n",
       "<table border=\"1\" class=\"dataframe\">\n",
       "  <thead>\n",
       "    <tr style=\"text-align: right;\">\n",
       "      <th></th>\n",
       "      <th>f0</th>\n",
       "      <th>f1</th>\n",
       "      <th>f2</th>\n",
       "      <th>product</th>\n",
       "    </tr>\n",
       "  </thead>\n",
       "  <tbody>\n",
       "    <tr>\n",
       "      <th>count</th>\n",
       "      <td>100000.000000</td>\n",
       "      <td>100000.000000</td>\n",
       "      <td>100000.000000</td>\n",
       "      <td>100000.000000</td>\n",
       "    </tr>\n",
       "    <tr>\n",
       "      <th>mean</th>\n",
       "      <td>1.141296</td>\n",
       "      <td>-4.796579</td>\n",
       "      <td>2.494541</td>\n",
       "      <td>68.825000</td>\n",
       "    </tr>\n",
       "    <tr>\n",
       "      <th>std</th>\n",
       "      <td>8.965932</td>\n",
       "      <td>5.119872</td>\n",
       "      <td>1.703572</td>\n",
       "      <td>45.944423</td>\n",
       "    </tr>\n",
       "    <tr>\n",
       "      <th>min</th>\n",
       "      <td>-31.609576</td>\n",
       "      <td>-26.358598</td>\n",
       "      <td>-0.018144</td>\n",
       "      <td>0.000000</td>\n",
       "    </tr>\n",
       "    <tr>\n",
       "      <th>25%</th>\n",
       "      <td>-6.298551</td>\n",
       "      <td>-8.267985</td>\n",
       "      <td>1.000021</td>\n",
       "      <td>26.953261</td>\n",
       "    </tr>\n",
       "    <tr>\n",
       "      <th>50%</th>\n",
       "      <td>1.153055</td>\n",
       "      <td>-4.813172</td>\n",
       "      <td>2.011479</td>\n",
       "      <td>57.085625</td>\n",
       "    </tr>\n",
       "    <tr>\n",
       "      <th>75%</th>\n",
       "      <td>8.621015</td>\n",
       "      <td>-1.332816</td>\n",
       "      <td>3.999904</td>\n",
       "      <td>107.813044</td>\n",
       "    </tr>\n",
       "    <tr>\n",
       "      <th>max</th>\n",
       "      <td>29.421755</td>\n",
       "      <td>18.734063</td>\n",
       "      <td>5.019721</td>\n",
       "      <td>137.945408</td>\n",
       "    </tr>\n",
       "  </tbody>\n",
       "</table>\n",
       "</div>"
      ],
      "text/plain": [
       "                  f0             f1             f2        product\n",
       "count  100000.000000  100000.000000  100000.000000  100000.000000\n",
       "mean        1.141296      -4.796579       2.494541      68.825000\n",
       "std         8.965932       5.119872       1.703572      45.944423\n",
       "min       -31.609576     -26.358598      -0.018144       0.000000\n",
       "25%        -6.298551      -8.267985       1.000021      26.953261\n",
       "50%         1.153055      -4.813172       2.011479      57.085625\n",
       "75%         8.621015      -1.332816       3.999904     107.813044\n",
       "max        29.421755      18.734063       5.019721     137.945408"
      ]
     },
     "metadata": {},
     "output_type": "display_data"
    },
    {
     "name": "stdout",
     "output_type": "stream",
     "text": [
      "\n",
      "\n"
     ]
    },
    {
     "data": {
      "text/html": [
       "<div>\n",
       "<style scoped>\n",
       "    .dataframe tbody tr th:only-of-type {\n",
       "        vertical-align: middle;\n",
       "    }\n",
       "\n",
       "    .dataframe tbody tr th {\n",
       "        vertical-align: top;\n",
       "    }\n",
       "\n",
       "    .dataframe thead th {\n",
       "        text-align: right;\n",
       "    }\n",
       "</style>\n",
       "<table border=\"1\" class=\"dataframe\">\n",
       "  <thead>\n",
       "    <tr style=\"text-align: right;\">\n",
       "      <th></th>\n",
       "      <th>f0</th>\n",
       "      <th>f1</th>\n",
       "      <th>f2</th>\n",
       "      <th>product</th>\n",
       "    </tr>\n",
       "  </thead>\n",
       "  <tbody>\n",
       "    <tr>\n",
       "      <th>count</th>\n",
       "      <td>100000.000000</td>\n",
       "      <td>100000.000000</td>\n",
       "      <td>100000.000000</td>\n",
       "      <td>100000.000000</td>\n",
       "    </tr>\n",
       "    <tr>\n",
       "      <th>mean</th>\n",
       "      <td>0.002023</td>\n",
       "      <td>-0.002081</td>\n",
       "      <td>2.495128</td>\n",
       "      <td>95.000000</td>\n",
       "    </tr>\n",
       "    <tr>\n",
       "      <th>std</th>\n",
       "      <td>1.732045</td>\n",
       "      <td>1.730417</td>\n",
       "      <td>3.473445</td>\n",
       "      <td>44.749921</td>\n",
       "    </tr>\n",
       "    <tr>\n",
       "      <th>min</th>\n",
       "      <td>-8.760004</td>\n",
       "      <td>-7.084020</td>\n",
       "      <td>-11.970335</td>\n",
       "      <td>0.000000</td>\n",
       "    </tr>\n",
       "    <tr>\n",
       "      <th>25%</th>\n",
       "      <td>-1.162288</td>\n",
       "      <td>-1.174820</td>\n",
       "      <td>0.130359</td>\n",
       "      <td>59.450441</td>\n",
       "    </tr>\n",
       "    <tr>\n",
       "      <th>50%</th>\n",
       "      <td>0.009424</td>\n",
       "      <td>-0.009482</td>\n",
       "      <td>2.484236</td>\n",
       "      <td>94.925613</td>\n",
       "    </tr>\n",
       "    <tr>\n",
       "      <th>75%</th>\n",
       "      <td>1.158535</td>\n",
       "      <td>1.163678</td>\n",
       "      <td>4.858794</td>\n",
       "      <td>130.595027</td>\n",
       "    </tr>\n",
       "    <tr>\n",
       "      <th>max</th>\n",
       "      <td>7.238262</td>\n",
       "      <td>7.844801</td>\n",
       "      <td>16.739402</td>\n",
       "      <td>190.029838</td>\n",
       "    </tr>\n",
       "  </tbody>\n",
       "</table>\n",
       "</div>"
      ],
      "text/plain": [
       "                  f0             f1             f2        product\n",
       "count  100000.000000  100000.000000  100000.000000  100000.000000\n",
       "mean        0.002023      -0.002081       2.495128      95.000000\n",
       "std         1.732045       1.730417       3.473445      44.749921\n",
       "min        -8.760004      -7.084020     -11.970335       0.000000\n",
       "25%        -1.162288      -1.174820       0.130359      59.450441\n",
       "50%         0.009424      -0.009482       2.484236      94.925613\n",
       "75%         1.158535       1.163678       4.858794     130.595027\n",
       "max         7.238262       7.844801      16.739402     190.029838"
      ]
     },
     "metadata": {},
     "output_type": "display_data"
    },
    {
     "name": "stdout",
     "output_type": "stream",
     "text": [
      "\n",
      "\n"
     ]
    }
   ],
   "source": [
    "for df in df_list:\n",
    "    display(df.describe())\n",
    "    print('\\n')"
   ]
  },
  {
   "cell_type": "markdown",
   "metadata": {},
   "source": [
    "Уже на этом этапе можно обратить внимание на то, что среднее и медианное значение целевого признака выше в первом и третьем месторождении, возможно это скажется и на итоговых результатах."
   ]
  },
  {
   "cell_type": "markdown",
   "metadata": {},
   "source": [
    "Поскольку предстоит использовать линейную регрессию выведем графики с информацией о корреляциях в данных."
   ]
  },
  {
   "cell_type": "code",
   "execution_count": 7,
   "metadata": {
    "scrolled": false
   },
   "outputs": [
    {
     "data": {
      "image/png": "[encoded data removed]",
      "text/plain": [
       "<Figure size 720x720 with 2 Axes>"
      ]
     },
     "metadata": {
      "needs_background": "light"
     },
     "output_type": "display_data"
    },
    {
     "data": {
      "image/png": "[encoded data removed]",
      "text/plain": [
       "<Figure size 720x720 with 2 Axes>"
      ]
     },
     "metadata": {
      "needs_background": "light"
     },
     "output_type": "display_data"
    },
    {
     "data": {
      "image/png": "[encoded data removed]",
      "text/plain": [
       "<Figure size 720x720 with 2 Axes>"
      ]
     },
     "metadata": {
      "needs_background": "light"
     },
     "output_type": "display_data"
    }
   ],
   "source": [
    "for df in df_list:\n",
    "    fig, ax = plt.subplots(figsize=(10,10))\n",
    "    sns.heatmap(df.corr(), annot=True, fmt='.1f')"
   ]
  },
  {
   "cell_type": "markdown",
   "metadata": {},
   "source": [
    "Во втором месторождении присутствует сильная корреляция между параметром **f2** и целевым признаком, возможно на этом датасете модель покажет лучшие результаты, если использовать только этот параметр для обучения. В двух других месторождениях сильная корреляция не наблюдается. Так как мы используем линейную модель, то вероятно, что модель, обученная на датасете второго месторождения будет работать точнее."
   ]
  },
  {
   "cell_type": "markdown",
   "metadata": {},
   "source": [
    "## Обучение и проверка модели"
   ]
  },
  {
   "cell_type": "markdown",
   "metadata": {},
   "source": [
    "### Разделение данных на выборки"
   ]
  },
  {
   "cell_type": "markdown",
   "metadata": {},
   "source": [
    "Разделим имеющиеся датасеты на обучающую и валидационную выборку в отношении 75:25"
   ]
  },
  {
   "cell_type": "markdown",
   "metadata": {},
   "source": [
    "**Первое месторождение**"
   ]
  },
  {
   "cell_type": "code",
   "execution_count": 8,
   "metadata": {},
   "outputs": [],
   "source": [
    "features_first =  df1.drop(['product'], axis=1)\n",
    "target_first = df1['product']"
   ]
  },
  {
   "cell_type": "code",
   "execution_count": 9,
   "metadata": {},
   "outputs": [],
   "source": [
    "features_train_first, features_valid_first, target_train_first, target_valid_first = train_test_split(features_first,\n",
    "                                                                                                     target_first,\n",
    "                                                                                                     random_state=1,\n",
    "                                                                                                     test_size=.25)"
   ]
  },
  {
   "cell_type": "markdown",
   "metadata": {},
   "source": [
    "**Второе месторождение**"
   ]
  },
  {
   "cell_type": "code",
   "execution_count": 10,
   "metadata": {},
   "outputs": [],
   "source": [
    "features_scnd =  df2.drop(['product'], axis=1)\n",
    "target_scnd = df2['product']"
   ]
  },
  {
   "cell_type": "code",
   "execution_count": 11,
   "metadata": {},
   "outputs": [],
   "source": [
    "features_train_scnd, features_valid_scnd, target_train_scnd, target_valid_scnd = train_test_split(features_scnd,\n",
    "                                                                                                     target_scnd,\n",
    "                                                                                                     random_state=1,\n",
    "                                                                                                     test_size=.25)"
   ]
  },
  {
   "cell_type": "markdown",
   "metadata": {},
   "source": [
    "**Третье месторождение**"
   ]
  },
  {
   "cell_type": "code",
   "execution_count": 12,
   "metadata": {},
   "outputs": [],
   "source": [
    "features_thrd =  df3.drop(['product'], axis=1)\n",
    "target_thrd = df3['product']"
   ]
  },
  {
   "cell_type": "code",
   "execution_count": 13,
   "metadata": {},
   "outputs": [],
   "source": [
    "features_train_thrd, features_valid_thrd, target_train_thrd, target_valid_thrd = train_test_split(features_thrd,\n",
    "                                                                                                     target_thrd,\n",
    "                                                                                                     random_state=1,\n",
    "                                                                                                     test_size=.25)"
   ]
  },
  {
   "cell_type": "markdown",
   "metadata": {},
   "source": [
    "Посмотрим на размеры получившихся выборок"
   ]
  },
  {
   "cell_type": "code",
   "execution_count": 14,
   "metadata": {},
   "outputs": [
    {
     "name": "stdout",
     "output_type": "stream",
     "text": [
      "75000 75000 75000\n"
     ]
    }
   ],
   "source": [
    "print(features_train_first.shape[0], features_train_scnd.shape[0], features_train_thrd.shape[0])"
   ]
  },
  {
   "cell_type": "code",
   "execution_count": 15,
   "metadata": {},
   "outputs": [
    {
     "name": "stdout",
     "output_type": "stream",
     "text": [
      "25000 25000 25000\n"
     ]
    }
   ],
   "source": [
    "print(features_valid_first.shape[0], features_valid_scnd.shape[0], features_valid_thrd.shape[0])"
   ]
  },
  {
   "cell_type": "code",
   "execution_count": 16,
   "metadata": {},
   "outputs": [
    {
     "name": "stdout",
     "output_type": "stream",
     "text": [
      "75000 75000 75000\n"
     ]
    }
   ],
   "source": [
    "print(target_train_first.shape[0], target_train_scnd.shape[0], target_train_thrd.shape[0])"
   ]
  },
  {
   "cell_type": "code",
   "execution_count": 17,
   "metadata": {},
   "outputs": [
    {
     "name": "stdout",
     "output_type": "stream",
     "text": [
      "25000 25000 25000\n"
     ]
    }
   ],
   "source": [
    "print(target_valid_first.shape[0], target_valid_scnd.shape[0], target_valid_thrd.shape[0])"
   ]
  },
  {
   "cell_type": "markdown",
   "metadata": {},
   "source": [
    "### Обучение моделей"
   ]
  },
  {
   "cell_type": "markdown",
   "metadata": {},
   "source": [
    "Подготовим шаблон для автоматизации обучения моделей"
   ]
  },
  {
   "cell_type": "code",
   "execution_count": 18,
   "metadata": {
    "scrolled": false
   },
   "outputs": [
    {
     "name": "stdout",
     "output_type": "stream",
     "text": [
      "Месторождение 1\n"
     ]
    },
    {
     "data": {
      "text/html": [
       "<div>\n",
       "<style scoped>\n",
       "    .dataframe tbody tr th:only-of-type {\n",
       "        vertical-align: middle;\n",
       "    }\n",
       "\n",
       "    .dataframe tbody tr th {\n",
       "        vertical-align: top;\n",
       "    }\n",
       "\n",
       "    .dataframe thead th {\n",
       "        text-align: right;\n",
       "    }\n",
       "</style>\n",
       "<table border=\"1\" class=\"dataframe\">\n",
       "  <thead>\n",
       "    <tr style=\"text-align: right;\">\n",
       "      <th></th>\n",
       "      <th>id</th>\n",
       "      <th>f0</th>\n",
       "      <th>f1</th>\n",
       "      <th>f2</th>\n",
       "      <th>product_true</th>\n",
       "      <th>product_predicted</th>\n",
       "    </tr>\n",
       "  </thead>\n",
       "  <tbody>\n",
       "    <tr>\n",
       "      <th>43660</th>\n",
       "      <td>MUOMg</td>\n",
       "      <td>0.951436</td>\n",
       "      <td>0.296027</td>\n",
       "      <td>6.817623</td>\n",
       "      <td>89.929339</td>\n",
       "      <td>122.077150</td>\n",
       "    </tr>\n",
       "    <tr>\n",
       "      <th>87278</th>\n",
       "      <td>OZXkj</td>\n",
       "      <td>0.800004</td>\n",
       "      <td>0.231734</td>\n",
       "      <td>-2.650680</td>\n",
       "      <td>94.203721</td>\n",
       "      <td>59.962649</td>\n",
       "    </tr>\n",
       "    <tr>\n",
       "      <th>14317</th>\n",
       "      <td>adoVK</td>\n",
       "      <td>0.726819</td>\n",
       "      <td>-0.422117</td>\n",
       "      <td>2.645328</td>\n",
       "      <td>123.553649</td>\n",
       "      <td>103.766210</td>\n",
       "    </tr>\n",
       "    <tr>\n",
       "      <th>81932</th>\n",
       "      <td>8rZOO</td>\n",
       "      <td>0.193998</td>\n",
       "      <td>-0.247002</td>\n",
       "      <td>-1.002114</td>\n",
       "      <td>83.166422</td>\n",
       "      <td>75.190233</td>\n",
       "    </tr>\n",
       "    <tr>\n",
       "      <th>95321</th>\n",
       "      <td>RyFFq</td>\n",
       "      <td>0.890555</td>\n",
       "      <td>-0.498876</td>\n",
       "      <td>4.448591</td>\n",
       "      <td>146.285652</td>\n",
       "      <td>117.368716</td>\n",
       "    </tr>\n",
       "  </tbody>\n",
       "</table>\n",
       "</div>"
      ],
      "text/plain": [
       "          id        f0        f1        f2  product_true  product_predicted\n",
       "43660  MUOMg  0.951436  0.296027  6.817623     89.929339         122.077150\n",
       "87278  OZXkj  0.800004  0.231734 -2.650680     94.203721          59.962649\n",
       "14317  adoVK  0.726819 -0.422117  2.645328    123.553649         103.766210\n",
       "81932  8rZOO  0.193998 -0.247002 -1.002114     83.166422          75.190233\n",
       "95321  RyFFq  0.890555 -0.498876  4.448591    146.285652         117.368716"
      ]
     },
     "metadata": {},
     "output_type": "display_data"
    },
    {
     "name": "stdout",
     "output_type": "stream",
     "text": [
      "\n",
      "Месторождение 2\n"
     ]
    },
    {
     "data": {
      "text/html": [
       "<div>\n",
       "<style scoped>\n",
       "    .dataframe tbody tr th:only-of-type {\n",
       "        vertical-align: middle;\n",
       "    }\n",
       "\n",
       "    .dataframe tbody tr th {\n",
       "        vertical-align: top;\n",
       "    }\n",
       "\n",
       "    .dataframe thead th {\n",
       "        text-align: right;\n",
       "    }\n",
       "</style>\n",
       "<table border=\"1\" class=\"dataframe\">\n",
       "  <thead>\n",
       "    <tr style=\"text-align: right;\">\n",
       "      <th></th>\n",
       "      <th>id</th>\n",
       "      <th>f0</th>\n",
       "      <th>f1</th>\n",
       "      <th>f2</th>\n",
       "      <th>product_true</th>\n",
       "      <th>product_predicted</th>\n",
       "    </tr>\n",
       "  </thead>\n",
       "  <tbody>\n",
       "    <tr>\n",
       "      <th>43660</th>\n",
       "      <td>lkoIC</td>\n",
       "      <td>2.365991</td>\n",
       "      <td>7.466907</td>\n",
       "      <td>2.990761</td>\n",
       "      <td>80.859783</td>\n",
       "      <td>81.760894</td>\n",
       "    </tr>\n",
       "    <tr>\n",
       "      <th>87278</th>\n",
       "      <td>CUVk0</td>\n",
       "      <td>13.475920</td>\n",
       "      <td>-10.191469</td>\n",
       "      <td>-0.000108</td>\n",
       "      <td>0.000000</td>\n",
       "      <td>-0.087805</td>\n",
       "    </tr>\n",
       "    <tr>\n",
       "      <th>14317</th>\n",
       "      <td>A4aSR</td>\n",
       "      <td>9.993776</td>\n",
       "      <td>-15.519432</td>\n",
       "      <td>2.011834</td>\n",
       "      <td>53.906522</td>\n",
       "      <td>54.756918</td>\n",
       "    </tr>\n",
       "    <tr>\n",
       "      <th>81932</th>\n",
       "      <td>rkW6y</td>\n",
       "      <td>8.738673</td>\n",
       "      <td>-3.064249</td>\n",
       "      <td>4.003998</td>\n",
       "      <td>107.813044</td>\n",
       "      <td>108.366828</td>\n",
       "    </tr>\n",
       "    <tr>\n",
       "      <th>95321</th>\n",
       "      <td>1CUkY</td>\n",
       "      <td>7.917746</td>\n",
       "      <td>1.232051</td>\n",
       "      <td>2.000682</td>\n",
       "      <td>53.906522</td>\n",
       "      <td>54.402051</td>\n",
       "    </tr>\n",
       "  </tbody>\n",
       "</table>\n",
       "</div>"
      ],
      "text/plain": [
       "          id         f0         f1        f2  product_true  product_predicted\n",
       "43660  lkoIC   2.365991   7.466907  2.990761     80.859783          81.760894\n",
       "87278  CUVk0  13.475920 -10.191469 -0.000108      0.000000          -0.087805\n",
       "14317  A4aSR   9.993776 -15.519432  2.011834     53.906522          54.756918\n",
       "81932  rkW6y   8.738673  -3.064249  4.003998    107.813044         108.366828\n",
       "95321  1CUkY   7.917746   1.232051  2.000682     53.906522          54.402051"
      ]
     },
     "metadata": {},
     "output_type": "display_data"
    },
    {
     "name": "stdout",
     "output_type": "stream",
     "text": [
      "\n",
      "Месторождение 3\n"
     ]
    },
    {
     "data": {
      "text/html": [
       "<div>\n",
       "<style scoped>\n",
       "    .dataframe tbody tr th:only-of-type {\n",
       "        vertical-align: middle;\n",
       "    }\n",
       "\n",
       "    .dataframe tbody tr th {\n",
       "        vertical-align: top;\n",
       "    }\n",
       "\n",
       "    .dataframe thead th {\n",
       "        text-align: right;\n",
       "    }\n",
       "</style>\n",
       "<table border=\"1\" class=\"dataframe\">\n",
       "  <thead>\n",
       "    <tr style=\"text-align: right;\">\n",
       "      <th></th>\n",
       "      <th>id</th>\n",
       "      <th>f0</th>\n",
       "      <th>f1</th>\n",
       "      <th>f2</th>\n",
       "      <th>product_true</th>\n",
       "      <th>product_predicted</th>\n",
       "    </tr>\n",
       "  </thead>\n",
       "  <tbody>\n",
       "    <tr>\n",
       "      <th>43660</th>\n",
       "      <td>dCoRV</td>\n",
       "      <td>-0.804419</td>\n",
       "      <td>0.910995</td>\n",
       "      <td>2.886761</td>\n",
       "      <td>102.734478</td>\n",
       "      <td>97.207831</td>\n",
       "    </tr>\n",
       "    <tr>\n",
       "      <th>87278</th>\n",
       "      <td>TFdxM</td>\n",
       "      <td>-0.401696</td>\n",
       "      <td>-0.024390</td>\n",
       "      <td>-1.195403</td>\n",
       "      <td>72.411400</td>\n",
       "      <td>73.693815</td>\n",
       "    </tr>\n",
       "    <tr>\n",
       "      <th>14317</th>\n",
       "      <td>wV83L</td>\n",
       "      <td>0.101773</td>\n",
       "      <td>-1.699503</td>\n",
       "      <td>1.509664</td>\n",
       "      <td>27.076410</td>\n",
       "      <td>89.225341</td>\n",
       "    </tr>\n",
       "    <tr>\n",
       "      <th>81932</th>\n",
       "      <td>sgdPb</td>\n",
       "      <td>-0.972245</td>\n",
       "      <td>1.907999</td>\n",
       "      <td>-3.650935</td>\n",
       "      <td>53.209936</td>\n",
       "      <td>59.603718</td>\n",
       "    </tr>\n",
       "    <tr>\n",
       "      <th>95321</th>\n",
       "      <td>xSvzy</td>\n",
       "      <td>-0.183940</td>\n",
       "      <td>0.814632</td>\n",
       "      <td>12.021626</td>\n",
       "      <td>112.650597</td>\n",
       "      <td>149.768631</td>\n",
       "    </tr>\n",
       "  </tbody>\n",
       "</table>\n",
       "</div>"
      ],
      "text/plain": [
       "          id        f0        f1         f2  product_true  product_predicted\n",
       "43660  dCoRV -0.804419  0.910995   2.886761    102.734478          97.207831\n",
       "87278  TFdxM -0.401696 -0.024390  -1.195403     72.411400          73.693815\n",
       "14317  wV83L  0.101773 -1.699503   1.509664     27.076410          89.225341\n",
       "81932  sgdPb -0.972245  1.907999  -3.650935     53.209936          59.603718\n",
       "95321  xSvzy -0.183940  0.814632  12.021626    112.650597         149.768631"
      ]
     },
     "metadata": {},
     "output_type": "display_data"
    },
    {
     "name": "stdout",
     "output_type": "stream",
     "text": [
      "\n"
     ]
    },
    {
     "data": {
      "text/html": [
       "<div>\n",
       "<style scoped>\n",
       "    .dataframe tbody tr th:only-of-type {\n",
       "        vertical-align: middle;\n",
       "    }\n",
       "\n",
       "    .dataframe tbody tr th {\n",
       "        vertical-align: top;\n",
       "    }\n",
       "\n",
       "    .dataframe thead th {\n",
       "        text-align: right;\n",
       "    }\n",
       "</style>\n",
       "<table border=\"1\" class=\"dataframe\">\n",
       "  <thead>\n",
       "    <tr style=\"text-align: right;\">\n",
       "      <th></th>\n",
       "      <th>Месторождение</th>\n",
       "      <th>RMSE</th>\n",
       "      <th>Средний запас сырья</th>\n",
       "    </tr>\n",
       "  </thead>\n",
       "  <tbody>\n",
       "    <tr>\n",
       "      <th>0</th>\n",
       "      <td>1</td>\n",
       "      <td>37.742587</td>\n",
       "      <td>92.492625</td>\n",
       "    </tr>\n",
       "    <tr>\n",
       "      <th>1</th>\n",
       "      <td>2</td>\n",
       "      <td>0.894338</td>\n",
       "      <td>69.120405</td>\n",
       "    </tr>\n",
       "    <tr>\n",
       "      <th>2</th>\n",
       "      <td>3</td>\n",
       "      <td>39.866711</td>\n",
       "      <td>94.956830</td>\n",
       "    </tr>\n",
       "  </tbody>\n",
       "</table>\n",
       "</div>"
      ],
      "text/plain": [
       "   Месторождение       RMSE  Средний запас сырья\n",
       "0              1  37.742587            92.492625\n",
       "1              2   0.894338            69.120405\n",
       "2              3  39.866711            94.956830"
      ]
     },
     "execution_count": 18,
     "metadata": {},
     "output_type": "execute_result"
    }
   ],
   "source": [
    "stages = []\n",
    "values_1 = (features_train_first, features_valid_first, target_train_first, target_valid_first)\n",
    "values_2 = (features_train_scnd, features_valid_scnd, target_train_scnd, target_valid_scnd)\n",
    "values_3 = (features_train_thrd, features_valid_thrd, target_train_thrd, target_valid_thrd)\n",
    "for i, stage in enumerate([values_1, values_2, values_3]):\n",
    "    model = LinearRegression()\n",
    "    model.fit(stage[0][['f0', 'f1', 'f2']], stage[2])\n",
    "    predictions = model.predict(stage[1][['f0', 'f1', 'f2']])\n",
    "    stage[1][['product_true']] = stage[3]\n",
    "    stage[1][['product_predicted']] = predictions\n",
    "    print('Месторождение', i+1)\n",
    "    display(stage[1].head())\n",
    "    print()\n",
    "    rmse = mean_squared_error(stage[3], predictions, squared=False)\n",
    "    mean_value = predictions.mean()\n",
    "    stages.append({\n",
    "        \"Месторождение\": i+1, \n",
    "        \"RMSE\" : rmse,\n",
    "        \"Средний запас сырья\" : mean_value\n",
    "    })  \n",
    "results = pd.DataFrame(stages)\n",
    "results"
   ]
  },
  {
   "cell_type": "markdown",
   "metadata": {},
   "source": [
    "Средний запас сырья больше всего в месторождении 3, а наименьший в месторождении 2. Точнее всего модель отработала на данных с месторождения 2, как и предполагалось. Модели же на двух других месторождениях отработали со схожей и значительно большей ошибкой."
   ]
  },
  {
   "cell_type": "markdown",
   "metadata": {},
   "source": [
    "## Подготовка к расчёту прибыли"
   ]
  },
  {
   "cell_type": "markdown",
   "metadata": {},
   "source": [
    "Создадим переменные для расчета требуемого запаса сырья для безубыточной разработки"
   ]
  },
  {
   "cell_type": "code",
   "execution_count": 19,
   "metadata": {},
   "outputs": [],
   "source": [
    "PRICE = 450000 #цена одной тысячи баррелей нефти\n",
    "BUDGET = 10000000000 #бюджет на разработку скважин\n",
    "N_POINTS = 200 #кол-во оптимальных точек для разработки"
   ]
  },
  {
   "cell_type": "markdown",
   "metadata": {},
   "source": [
    "Рассчитаем, какой запас сырья должен быть в выбранных точках, чтобы их разработка была неубыточна"
   ]
  },
  {
   "cell_type": "code",
   "execution_count": 20,
   "metadata": {},
   "outputs": [
    {
     "name": "stdout",
     "output_type": "stream",
     "text": [
      "111.115\n"
     ]
    }
   ],
   "source": [
    "sum_price = 0\n",
    "count = 0\n",
    "while sum_price < BUDGET:\n",
    "    count += 1\n",
    "    sum_price += PRICE\n",
    "print(count / N_POINTS)"
   ]
  },
  {
   "cell_type": "markdown",
   "metadata": {},
   "source": [
    "Полученное значение равно 111.115 тыс. баррелей, что превышает то среднее, которое получилось у каждого месторождения при предсказании моделей. Стоит заметить, что при оценке среднего использовались асболютно все данные, и вероятно, что, при выборе 200 самых оптимальных скважин, среднее в каждом месторождении увеличится"
   ]
  },
  {
   "cell_type": "markdown",
   "metadata": {},
   "source": [
    "## Расчёт прибыли и рисков "
   ]
  },
  {
   "cell_type": "markdown",
   "metadata": {},
   "source": [
    "Напишем функцию для расчета прибыли"
   ]
  },
  {
   "cell_type": "code",
   "execution_count": 21,
   "metadata": {},
   "outputs": [],
   "source": [
    "def profit_calc(data):\n",
    "    top_200 = data.sort_values(by='product_predicted', ascending=False).head(200)\n",
    "    # display(top_200)\n",
    "    sum_cap_first = top_200['product_true'].sum()\n",
    "    profit = sum_cap_first * PRICE\n",
    "    # print('Суммарный запас сырья: ', sum_cap_first)\n",
    "    # print('Прибыль:', round(profit - BUDGET, 0))\n",
    "    return round(profit - BUDGET, 0)"
   ]
  },
  {
   "cell_type": "markdown",
   "metadata": {},
   "source": [
    "**200 лучших скважин месторождения 1**"
   ]
  },
  {
   "cell_type": "code",
   "execution_count": 22,
   "metadata": {},
   "outputs": [
    {
     "data": {
      "text/plain": [
       "3260781418.0"
      ]
     },
     "execution_count": 22,
     "metadata": {},
     "output_type": "execute_result"
    }
   ],
   "source": [
    "profit_calc(features_valid_first)"
   ]
  },
  {
   "cell_type": "markdown",
   "metadata": {},
   "source": [
    "**200 лучших скважин месторождения 2**"
   ]
  },
  {
   "cell_type": "code",
   "execution_count": 23,
   "metadata": {},
   "outputs": [
    {
     "data": {
      "text/plain": [
       "2415086697.0"
      ]
     },
     "execution_count": 23,
     "metadata": {},
     "output_type": "execute_result"
    }
   ],
   "source": [
    "profit_calc(features_valid_scnd)"
   ]
  },
  {
   "cell_type": "markdown",
   "metadata": {},
   "source": [
    "**200 лучших скважин месторождения 3**"
   ]
  },
  {
   "cell_type": "code",
   "execution_count": 24,
   "metadata": {},
   "outputs": [
    {
     "data": {
      "text/plain": [
       "2563093352.0"
      ]
     },
     "execution_count": 24,
     "metadata": {},
     "output_type": "execute_result"
    }
   ],
   "source": [
    "profit_calc(features_valid_thrd)"
   ]
  },
  {
   "cell_type": "markdown",
   "metadata": {},
   "source": [
    "Напишем функцию для расчета статистической информации по месторождениям и проверки условий бизнеса"
   ]
  },
  {
   "cell_type": "code",
   "execution_count": 25,
   "metadata": {},
   "outputs": [],
   "source": [
    "def region_stats(data):\n",
    "    state = np.random.RandomState(1)\n",
    "    bootstrap_samples = 1000\n",
    "    values = []\n",
    "    for i in range(bootstrap_samples):\n",
    "        target_subsample = data.sample(n=500, replace=True, random_state=state)\n",
    "        values.append(profit_calc(target_subsample))\n",
    "    \n",
    "    values = pd.Series(values)\n",
    "    \n",
    "    lower = values.quantile(0.025)\n",
    "    upper = values.quantile(0.975) \n",
    "    mean = values.mean()\n",
    "    prob_loss = (values[values < 0]).count() / values.shape[0]\n",
    "    print(\"Средняя прибыль:\", mean)\n",
    "    print(\"95% доверительный интервал: [\", lower, ':', upper, ']')\n",
    "    print('Вероятность убытков:', prob_loss)"
   ]
  },
  {
   "cell_type": "markdown",
   "metadata": {},
   "source": [
    "**Рассчет для первого региона**"
   ]
  },
  {
   "cell_type": "code",
   "execution_count": 26,
   "metadata": {},
   "outputs": [
    {
     "name": "stdout",
     "output_type": "stream",
     "text": [
      "Средняя прибыль: 433009400.231\n",
      "95% доверительный интервал: [ -100239627.07499999 : 947109532.8249999 ]\n",
      "Вероятность убытков: 0.052\n"
     ]
    }
   ],
   "source": [
    "region_stats(features_valid_first)"
   ]
  },
  {
   "cell_type": "markdown",
   "metadata": {},
   "source": [
    "**Рассчет для второго региона**"
   ]
  },
  {
   "cell_type": "code",
   "execution_count": 27,
   "metadata": {},
   "outputs": [
    {
     "name": "stdout",
     "output_type": "stream",
     "text": [
      "Средняя прибыль: 475197242.996\n",
      "95% доверительный интервал: [ 95175980.275 : 851622360.8499999 ]\n",
      "Вероятность убытков: 0.01\n"
     ]
    }
   ],
   "source": [
    "region_stats(features_valid_scnd)"
   ]
  },
  {
   "cell_type": "markdown",
   "metadata": {},
   "source": [
    "**Рассчет для третьего региона**"
   ]
  },
  {
   "cell_type": "code",
   "execution_count": 28,
   "metadata": {},
   "outputs": [
    {
     "name": "stdout",
     "output_type": "stream",
     "text": [
      "Средняя прибыль: 394751289.06\n",
      "95% доверительный интервал: [ -157824822.2 : 914050354.925 ]\n",
      "Вероятность убытков: 0.073\n"
     ]
    }
   ],
   "source": [
    "region_stats(features_valid_thrd)"
   ]
  },
  {
   "cell_type": "markdown",
   "metadata": {},
   "source": [
    "Согласно полученным условиям: **После оценки рисков нужно оставить лишь те регионы, в которых вероятность убытков меньше 2.5%.** Данному условию соответствует только второе месторождение, вероятность убытков в нем равна 1%. Именно в этом регионе стоит начинать разработку."
   ]
  },
  {
   "cell_type": "markdown",
   "metadata": {},
   "source": [
    "## Выводы"
   ]
  },
  {
   "cell_type": "markdown",
   "metadata": {},
   "source": [
    "В ходе исследования были проанализированы данные по трем различным месторождениям и получены следующие выводы:\n",
    "\n",
    "* Лучшим регоном для разработки является второй, вероятность убытков равна 1%\n",
    "* Самая высокая средняя прибыль во втором регионе\n",
    "* Самая низкая средняя прибыль в третьем регионе, в нем же и наибольшая вероятность убытков: 7,3%"
   ]
  }
 ],
 "metadata": {
  "ExecuteTimeLog": [
   {
    "duration": 816,
    "start_time": "2022-06-06T19:14:11.343Z"
   },
   {
    "duration": 1571,
    "start_time": "2022-06-06T19:15:34.542Z"
   },
   {
    "duration": 16,
    "start_time": "2022-06-06T19:15:55.005Z"
   },
   {
    "duration": 26,
    "start_time": "2022-06-06T19:16:04.109Z"
   },
   {
    "duration": 48,
    "start_time": "2022-06-07T20:52:02.014Z"
   },
   {
    "duration": 1225,
    "start_time": "2022-06-07T20:52:06.432Z"
   },
   {
    "duration": 1796,
    "start_time": "2022-06-07T20:52:07.660Z"
   },
   {
    "duration": 78,
    "start_time": "2022-06-07T20:52:09.457Z"
   },
   {
    "duration": 31,
    "start_time": "2022-06-07T20:52:09.536Z"
   },
   {
    "duration": 31,
    "start_time": "2022-06-07T20:52:33.154Z"
   },
   {
    "duration": 23,
    "start_time": "2022-06-07T20:52:41.529Z"
   },
   {
    "duration": 3,
    "start_time": "2022-06-07T20:52:45.654Z"
   },
   {
    "duration": 11,
    "start_time": "2022-06-07T20:52:49.120Z"
   },
   {
    "duration": 11,
    "start_time": "2022-06-07T20:52:54.250Z"
   },
   {
    "duration": 12,
    "start_time": "2022-06-07T20:53:00.017Z"
   },
   {
    "duration": 12,
    "start_time": "2022-06-07T20:53:03.400Z"
   },
   {
    "duration": 30,
    "start_time": "2022-06-07T20:55:15.130Z"
   },
   {
    "duration": 3,
    "start_time": "2022-06-07T20:55:19.592Z"
   },
   {
    "duration": 427,
    "start_time": "2022-06-07T20:55:31.760Z"
   },
   {
    "duration": 437,
    "start_time": "2022-06-07T20:56:02.120Z"
   },
   {
    "duration": 301,
    "start_time": "2022-06-07T20:56:11.847Z"
   },
   {
    "duration": 260,
    "start_time": "2022-06-07T20:56:18.070Z"
   },
   {
    "duration": 297,
    "start_time": "2022-06-07T20:56:28.018Z"
   },
   {
    "duration": 272,
    "start_time": "2022-06-07T20:56:34.262Z"
   },
   {
    "duration": 272,
    "start_time": "2022-06-07T20:56:43.017Z"
   },
   {
    "duration": 274,
    "start_time": "2022-06-07T20:56:51.751Z"
   },
   {
    "duration": 3,
    "start_time": "2022-06-07T20:57:12.526Z"
   },
   {
    "duration": 27,
    "start_time": "2022-06-07T20:57:39.702Z"
   },
   {
    "duration": 28,
    "start_time": "2022-06-07T20:57:45.399Z"
   },
   {
    "duration": 29,
    "start_time": "2022-06-07T20:57:49.814Z"
   },
   {
    "duration": 39,
    "start_time": "2022-06-07T20:57:56.720Z"
   },
   {
    "duration": 1012,
    "start_time": "2022-06-07T20:58:33.254Z"
   },
   {
    "duration": 1045,
    "start_time": "2022-06-07T20:58:41.103Z"
   },
   {
    "duration": 914,
    "start_time": "2022-06-07T20:58:47.738Z"
   },
   {
    "duration": 71,
    "start_time": "2022-06-07T20:59:49.110Z"
   },
   {
    "duration": 76,
    "start_time": "2022-06-07T20:59:55.662Z"
   },
   {
    "duration": 77,
    "start_time": "2022-06-07T21:00:56.189Z"
   },
   {
    "duration": 116,
    "start_time": "2022-06-07T21:01:02.913Z"
   },
   {
    "duration": 35,
    "start_time": "2022-06-07T21:19:53.001Z"
   },
   {
    "duration": 2,
    "start_time": "2022-06-07T21:40:02.247Z"
   },
   {
    "duration": 36,
    "start_time": "2022-06-07T21:42:11.009Z"
   },
   {
    "duration": 8,
    "start_time": "2022-06-07T21:42:16.151Z"
   },
   {
    "duration": 74,
    "start_time": "2022-06-07T21:43:08.831Z"
   },
   {
    "duration": 25,
    "start_time": "2022-06-07T21:43:21.006Z"
   },
   {
    "duration": 5,
    "start_time": "2022-06-07T21:44:00.745Z"
   },
   {
    "duration": 17,
    "start_time": "2022-06-07T21:44:03.607Z"
   },
   {
    "duration": 6,
    "start_time": "2022-06-07T21:47:41.945Z"
   },
   {
    "duration": 19,
    "start_time": "2022-06-07T21:47:42.834Z"
   },
   {
    "duration": 4,
    "start_time": "2022-06-07T21:48:25.913Z"
   },
   {
    "duration": 9,
    "start_time": "2022-06-07T21:48:40.792Z"
   },
   {
    "duration": 20,
    "start_time": "2022-06-07T21:49:12.409Z"
   },
   {
    "duration": 20,
    "start_time": "2022-06-07T21:49:13.472Z"
   },
   {
    "duration": 30,
    "start_time": "2022-06-07T21:49:14.785Z"
   },
   {
    "duration": 5,
    "start_time": "2022-06-07T21:49:15.673Z"
   },
   {
    "duration": 4,
    "start_time": "2022-06-07T21:49:16.761Z"
   },
   {
    "duration": 9,
    "start_time": "2022-06-07T21:50:37.887Z"
   },
   {
    "duration": 3,
    "start_time": "2022-06-07T21:50:48.113Z"
   },
   {
    "duration": 3,
    "start_time": "2022-06-07T21:51:08.392Z"
   },
   {
    "duration": 1304,
    "start_time": "2022-06-08T13:29:04.056Z"
   },
   {
    "duration": 1908,
    "start_time": "2022-06-08T13:29:05.362Z"
   },
   {
    "duration": 3,
    "start_time": "2022-06-08T13:29:07.272Z"
   },
   {
    "duration": 38,
    "start_time": "2022-06-08T13:29:07.277Z"
   },
   {
    "duration": 35,
    "start_time": "2022-06-08T13:29:07.317Z"
   },
   {
    "duration": 193,
    "start_time": "2022-06-08T13:29:07.353Z"
   },
   {
    "duration": 1783,
    "start_time": "2022-06-08T13:29:07.548Z"
   },
   {
    "duration": 6,
    "start_time": "2022-06-08T13:29:09.333Z"
   },
   {
    "duration": 85,
    "start_time": "2022-06-08T13:29:09.341Z"
   },
   {
    "duration": 7,
    "start_time": "2022-06-08T13:29:09.427Z"
   },
   {
    "duration": 39,
    "start_time": "2022-06-08T13:29:09.435Z"
   },
   {
    "duration": 50,
    "start_time": "2022-06-08T13:29:09.476Z"
   },
   {
    "duration": 31,
    "start_time": "2022-06-08T13:29:09.528Z"
   },
   {
    "duration": 10,
    "start_time": "2022-06-08T13:29:09.561Z"
   },
   {
    "duration": 52,
    "start_time": "2022-06-08T13:29:09.573Z"
   },
   {
    "duration": 10,
    "start_time": "2022-06-08T13:29:09.627Z"
   },
   {
    "duration": 17,
    "start_time": "2022-06-08T13:29:09.639Z"
   },
   {
    "duration": 20,
    "start_time": "2022-06-08T13:29:09.657Z"
   },
   {
    "duration": 33,
    "start_time": "2022-06-08T13:29:41.912Z"
   },
   {
    "duration": 19,
    "start_time": "2022-06-08T13:31:01.906Z"
   },
   {
    "duration": 3,
    "start_time": "2022-06-08T13:31:59.986Z"
   },
   {
    "duration": 124,
    "start_time": "2022-06-08T13:36:32.584Z"
   },
   {
    "duration": 1144,
    "start_time": "2022-06-08T13:37:35.466Z"
   },
   {
    "duration": 355,
    "start_time": "2022-06-08T13:37:36.613Z"
   },
   {
    "duration": 3,
    "start_time": "2022-06-08T13:37:36.969Z"
   },
   {
    "duration": 30,
    "start_time": "2022-06-08T13:37:36.973Z"
   },
   {
    "duration": 38,
    "start_time": "2022-06-08T13:37:37.004Z"
   },
   {
    "duration": 107,
    "start_time": "2022-06-08T13:37:37.044Z"
   },
   {
    "duration": 946,
    "start_time": "2022-06-08T13:37:37.153Z"
   },
   {
    "duration": 4,
    "start_time": "2022-06-08T13:37:38.100Z"
   },
   {
    "duration": 21,
    "start_time": "2022-06-08T13:37:38.106Z"
   },
   {
    "duration": 6,
    "start_time": "2022-06-08T13:37:38.130Z"
   },
   {
    "duration": 18,
    "start_time": "2022-06-08T13:37:38.137Z"
   },
   {
    "duration": 5,
    "start_time": "2022-06-08T13:37:38.156Z"
   },
   {
    "duration": 21,
    "start_time": "2022-06-08T13:37:38.163Z"
   },
   {
    "duration": 4,
    "start_time": "2022-06-08T13:37:38.185Z"
   },
   {
    "duration": 8,
    "start_time": "2022-06-08T13:37:38.190Z"
   },
   {
    "duration": 9,
    "start_time": "2022-06-08T13:37:38.199Z"
   },
   {
    "duration": 3,
    "start_time": "2022-06-08T13:37:38.226Z"
   },
   {
    "duration": 204,
    "start_time": "2022-06-08T13:37:38.230Z"
   },
   {
    "duration": 1348,
    "start_time": "2022-06-08T14:09:16.329Z"
   },
   {
    "duration": 360,
    "start_time": "2022-06-08T14:09:17.681Z"
   },
   {
    "duration": 3,
    "start_time": "2022-06-08T14:09:18.043Z"
   },
   {
    "duration": 32,
    "start_time": "2022-06-08T14:09:18.048Z"
   },
   {
    "duration": 46,
    "start_time": "2022-06-08T14:09:18.081Z"
   },
   {
    "duration": 113,
    "start_time": "2022-06-08T14:09:18.129Z"
   },
   {
    "duration": 960,
    "start_time": "2022-06-08T14:09:18.244Z"
   },
   {
    "duration": 6,
    "start_time": "2022-06-08T14:09:19.206Z"
   },
   {
    "duration": 24,
    "start_time": "2022-06-08T14:09:19.214Z"
   },
   {
    "duration": 4,
    "start_time": "2022-06-08T14:09:19.240Z"
   },
   {
    "duration": 0,
    "start_time": "2022-06-08T14:09:19.245Z"
   },
   {
    "duration": 0,
    "start_time": "2022-06-08T14:09:19.246Z"
   },
   {
    "duration": 0,
    "start_time": "2022-06-08T14:09:19.247Z"
   },
   {
    "duration": 0,
    "start_time": "2022-06-08T14:09:19.248Z"
   },
   {
    "duration": 0,
    "start_time": "2022-06-08T14:09:19.249Z"
   },
   {
    "duration": 0,
    "start_time": "2022-06-08T14:09:19.251Z"
   },
   {
    "duration": 0,
    "start_time": "2022-06-08T14:09:19.251Z"
   },
   {
    "duration": 0,
    "start_time": "2022-06-08T14:09:19.252Z"
   },
   {
    "duration": 6,
    "start_time": "2022-06-08T14:09:33.172Z"
   },
   {
    "duration": 20,
    "start_time": "2022-06-08T14:09:34.004Z"
   },
   {
    "duration": 7,
    "start_time": "2022-06-08T14:09:35.496Z"
   },
   {
    "duration": 20,
    "start_time": "2022-06-08T14:09:36.664Z"
   },
   {
    "duration": 4,
    "start_time": "2022-06-08T14:09:37.548Z"
   },
   {
    "duration": 4,
    "start_time": "2022-06-08T14:09:37.963Z"
   },
   {
    "duration": 3,
    "start_time": "2022-06-08T14:09:38.449Z"
   },
   {
    "duration": 5,
    "start_time": "2022-06-08T14:09:38.830Z"
   },
   {
    "duration": 6,
    "start_time": "2022-06-08T14:09:40.079Z"
   },
   {
    "duration": 1319,
    "start_time": "2022-06-08T16:03:08.864Z"
   },
   {
    "duration": 1638,
    "start_time": "2022-06-08T16:03:10.185Z"
   },
   {
    "duration": 4,
    "start_time": "2022-06-08T16:03:11.825Z"
   },
   {
    "duration": 33,
    "start_time": "2022-06-08T16:03:11.831Z"
   },
   {
    "duration": 38,
    "start_time": "2022-06-08T16:03:11.866Z"
   },
   {
    "duration": 115,
    "start_time": "2022-06-08T16:03:11.906Z"
   },
   {
    "duration": 1051,
    "start_time": "2022-06-08T16:03:12.022Z"
   },
   {
    "duration": 14,
    "start_time": "2022-06-08T16:03:13.081Z"
   },
   {
    "duration": 25,
    "start_time": "2022-06-08T16:03:13.096Z"
   },
   {
    "duration": 7,
    "start_time": "2022-06-08T16:03:13.123Z"
   },
   {
    "duration": 20,
    "start_time": "2022-06-08T16:03:13.132Z"
   },
   {
    "duration": 6,
    "start_time": "2022-06-08T16:03:13.153Z"
   },
   {
    "duration": 33,
    "start_time": "2022-06-08T16:03:13.161Z"
   },
   {
    "duration": 5,
    "start_time": "2022-06-08T16:03:13.196Z"
   },
   {
    "duration": 10,
    "start_time": "2022-06-08T16:03:13.202Z"
   },
   {
    "duration": 29,
    "start_time": "2022-06-08T16:03:13.214Z"
   },
   {
    "duration": 5,
    "start_time": "2022-06-08T16:03:13.245Z"
   },
   {
    "duration": 547,
    "start_time": "2022-06-08T16:03:13.252Z"
   },
   {
    "duration": 3,
    "start_time": "2022-06-08T16:04:00.130Z"
   },
   {
    "duration": 454,
    "start_time": "2022-06-08T16:04:06.453Z"
   },
   {
    "duration": 1174,
    "start_time": "2022-06-08T16:04:45.813Z"
   },
   {
    "duration": 323,
    "start_time": "2022-06-08T16:04:46.992Z"
   },
   {
    "duration": 3,
    "start_time": "2022-06-08T16:04:47.317Z"
   },
   {
    "duration": 49,
    "start_time": "2022-06-08T16:04:47.321Z"
   },
   {
    "duration": 42,
    "start_time": "2022-06-08T16:04:47.373Z"
   },
   {
    "duration": 88,
    "start_time": "2022-06-08T16:04:47.416Z"
   },
   {
    "duration": 967,
    "start_time": "2022-06-08T16:04:47.505Z"
   },
   {
    "duration": 11,
    "start_time": "2022-06-08T16:04:48.474Z"
   },
   {
    "duration": 44,
    "start_time": "2022-06-08T16:04:48.487Z"
   },
   {
    "duration": 7,
    "start_time": "2022-06-08T16:04:48.533Z"
   },
   {
    "duration": 26,
    "start_time": "2022-06-08T16:04:48.541Z"
   },
   {
    "duration": 6,
    "start_time": "2022-06-08T16:04:48.569Z"
   },
   {
    "duration": 45,
    "start_time": "2022-06-08T16:04:48.577Z"
   },
   {
    "duration": 4,
    "start_time": "2022-06-08T16:04:48.625Z"
   },
   {
    "duration": 10,
    "start_time": "2022-06-08T16:04:48.630Z"
   },
   {
    "duration": 6,
    "start_time": "2022-06-08T16:04:48.642Z"
   },
   {
    "duration": 6,
    "start_time": "2022-06-08T16:04:48.650Z"
   },
   {
    "duration": 541,
    "start_time": "2022-06-08T16:04:48.657Z"
   },
   {
    "duration": 2,
    "start_time": "2022-06-08T17:00:04.046Z"
   },
   {
    "duration": 3,
    "start_time": "2022-06-08T17:00:06.341Z"
   },
   {
    "duration": 2,
    "start_time": "2022-06-08T17:03:16.118Z"
   },
   {
    "duration": 6418,
    "start_time": "2022-06-08T17:07:17.563Z"
   },
   {
    "duration": 3,
    "start_time": "2022-06-08T17:07:26.905Z"
   },
   {
    "duration": 5,
    "start_time": "2022-06-08T17:07:38.151Z"
   },
   {
    "duration": 4,
    "start_time": "2022-06-08T17:08:23.798Z"
   },
   {
    "duration": 2,
    "start_time": "2022-06-08T17:15:02.354Z"
   },
   {
    "duration": 5,
    "start_time": "2022-06-08T17:15:02.835Z"
   },
   {
    "duration": 7,
    "start_time": "2022-06-08T17:15:19.896Z"
   },
   {
    "duration": 10,
    "start_time": "2022-06-08T17:17:55.864Z"
   },
   {
    "duration": 30,
    "start_time": "2022-06-08T17:18:17.913Z"
   },
   {
    "duration": 3,
    "start_time": "2022-06-08T17:18:41.006Z"
   },
   {
    "duration": 73,
    "start_time": "2022-06-08T17:36:45.343Z"
   },
   {
    "duration": 43,
    "start_time": "2022-06-08T17:36:53.310Z"
   },
   {
    "duration": 60,
    "start_time": "2022-06-08T17:37:07.321Z"
   },
   {
    "duration": 46,
    "start_time": "2022-06-08T17:37:19.955Z"
   },
   {
    "duration": 48,
    "start_time": "2022-06-08T17:37:26.026Z"
   },
   {
    "duration": 48,
    "start_time": "2022-06-08T17:37:43.739Z"
   },
   {
    "duration": 96,
    "start_time": "2022-06-08T17:40:37.601Z"
   },
   {
    "duration": 69,
    "start_time": "2022-06-08T17:41:03.094Z"
   },
   {
    "duration": 4,
    "start_time": "2022-06-08T17:43:57.544Z"
   },
   {
    "duration": 4,
    "start_time": "2022-06-08T17:45:41.368Z"
   },
   {
    "duration": 3,
    "start_time": "2022-06-08T17:47:00.901Z"
   },
   {
    "duration": 4,
    "start_time": "2022-06-08T17:47:37.505Z"
   },
   {
    "duration": 3,
    "start_time": "2022-06-08T17:47:38.444Z"
   },
   {
    "duration": 4,
    "start_time": "2022-06-08T17:47:59.703Z"
   },
   {
    "duration": 3,
    "start_time": "2022-06-08T17:48:00.623Z"
   },
   {
    "duration": 4,
    "start_time": "2022-06-08T18:00:30.564Z"
   },
   {
    "duration": 39,
    "start_time": "2022-06-08T18:00:56.808Z"
   },
   {
    "duration": 3,
    "start_time": "2022-06-08T18:01:02.419Z"
   },
   {
    "duration": 58,
    "start_time": "2022-06-08T18:01:03.052Z"
   },
   {
    "duration": 5,
    "start_time": "2022-06-08T18:03:07.220Z"
   },
   {
    "duration": 103,
    "start_time": "2022-06-08T18:03:08.171Z"
   },
   {
    "duration": 56,
    "start_time": "2022-06-08T18:04:15.968Z"
   },
   {
    "duration": 63,
    "start_time": "2022-06-08T18:04:30.656Z"
   },
   {
    "duration": 3,
    "start_time": "2022-06-08T18:05:00.360Z"
   },
   {
    "duration": 4,
    "start_time": "2022-06-08T18:05:06.452Z"
   },
   {
    "duration": 51,
    "start_time": "2022-06-08T18:05:07.304Z"
   },
   {
    "duration": 57,
    "start_time": "2022-06-08T18:05:10.457Z"
   },
   {
    "duration": 53,
    "start_time": "2022-06-08T18:05:11.226Z"
   },
   {
    "duration": 33,
    "start_time": "2022-06-08T18:07:16.610Z"
   },
   {
    "duration": 44,
    "start_time": "2022-06-08T18:07:21.762Z"
   },
   {
    "duration": 4,
    "start_time": "2022-06-08T18:07:31.120Z"
   },
   {
    "duration": 53,
    "start_time": "2022-06-08T18:07:34.769Z"
   },
   {
    "duration": 59,
    "start_time": "2022-06-08T18:07:36.551Z"
   },
   {
    "duration": 52,
    "start_time": "2022-06-08T18:07:36.921Z"
   },
   {
    "duration": 3,
    "start_time": "2022-06-08T18:12:05.856Z"
   },
   {
    "duration": 16,
    "start_time": "2022-06-08T18:18:13.445Z"
   },
   {
    "duration": 8,
    "start_time": "2022-06-08T18:18:18.402Z"
   },
   {
    "duration": 14,
    "start_time": "2022-06-08T18:18:19.440Z"
   },
   {
    "duration": 4,
    "start_time": "2022-06-08T18:18:26.153Z"
   },
   {
    "duration": 11,
    "start_time": "2022-06-08T18:18:26.950Z"
   },
   {
    "duration": 9,
    "start_time": "2022-06-08T18:18:50.646Z"
   },
   {
    "duration": 4,
    "start_time": "2022-06-08T18:18:53.152Z"
   },
   {
    "duration": 9,
    "start_time": "2022-06-08T18:18:53.807Z"
   },
   {
    "duration": 8,
    "start_time": "2022-06-08T18:18:57.077Z"
   },
   {
    "duration": 14,
    "start_time": "2022-06-08T18:18:57.894Z"
   },
   {
    "duration": 4,
    "start_time": "2022-06-08T18:19:02.808Z"
   },
   {
    "duration": 8,
    "start_time": "2022-06-08T18:19:03.645Z"
   },
   {
    "duration": 14,
    "start_time": "2022-06-08T18:19:06.740Z"
   },
   {
    "duration": 9,
    "start_time": "2022-06-08T18:19:14.743Z"
   },
   {
    "duration": 13,
    "start_time": "2022-06-08T18:19:15.303Z"
   },
   {
    "duration": 3,
    "start_time": "2022-06-08T18:29:37.161Z"
   },
   {
    "duration": 69,
    "start_time": "2022-06-09T00:24:30.185Z"
   },
   {
    "duration": 1657,
    "start_time": "2022-06-09T00:24:47.001Z"
   },
   {
    "duration": 945,
    "start_time": "2022-06-09T00:24:48.660Z"
   },
   {
    "duration": 5,
    "start_time": "2022-06-09T00:24:49.607Z"
   },
   {
    "duration": 39,
    "start_time": "2022-06-09T00:24:49.615Z"
   },
   {
    "duration": 68,
    "start_time": "2022-06-09T00:24:49.656Z"
   },
   {
    "duration": 136,
    "start_time": "2022-06-09T00:24:49.726Z"
   },
   {
    "duration": 1070,
    "start_time": "2022-06-09T00:24:49.864Z"
   },
   {
    "duration": 13,
    "start_time": "2022-06-09T00:24:50.939Z"
   },
   {
    "duration": 23,
    "start_time": "2022-06-09T00:24:50.954Z"
   },
   {
    "duration": 7,
    "start_time": "2022-06-09T00:24:50.980Z"
   },
   {
    "duration": 26,
    "start_time": "2022-06-09T00:24:50.989Z"
   },
   {
    "duration": 20,
    "start_time": "2022-06-09T00:24:51.018Z"
   },
   {
    "duration": 51,
    "start_time": "2022-06-09T00:24:51.042Z"
   },
   {
    "duration": 3,
    "start_time": "2022-06-09T00:24:51.096Z"
   },
   {
    "duration": 10,
    "start_time": "2022-06-09T00:24:51.101Z"
   },
   {
    "duration": 8,
    "start_time": "2022-06-09T00:24:51.113Z"
   },
   {
    "duration": 30,
    "start_time": "2022-06-09T00:24:51.123Z"
   },
   {
    "duration": 485,
    "start_time": "2022-06-09T00:24:51.156Z"
   },
   {
    "duration": 6,
    "start_time": "2022-06-09T00:24:51.647Z"
   },
   {
    "duration": 107,
    "start_time": "2022-06-09T00:24:51.654Z"
   },
   {
    "duration": 9,
    "start_time": "2022-06-09T00:24:51.763Z"
   },
   {
    "duration": 21,
    "start_time": "2022-06-09T00:24:51.773Z"
   },
   {
    "duration": 10,
    "start_time": "2022-06-09T00:24:51.796Z"
   },
   {
    "duration": 11,
    "start_time": "2022-06-09T00:24:51.808Z"
   },
   {
    "duration": 8,
    "start_time": "2022-06-09T00:24:51.820Z"
   },
   {
    "duration": 7,
    "start_time": "2022-06-09T00:26:20.001Z"
   },
   {
    "duration": 938,
    "start_time": "2022-06-09T00:26:26.953Z"
   },
   {
    "duration": 821,
    "start_time": "2022-06-09T00:26:54.982Z"
   },
   {
    "duration": 888,
    "start_time": "2022-06-09T00:27:02.478Z"
   },
   {
    "duration": 1706,
    "start_time": "2022-06-10T11:40:11.852Z"
   },
   {
    "duration": 1716,
    "start_time": "2022-06-10T11:40:13.563Z"
   },
   {
    "duration": 3,
    "start_time": "2022-06-10T11:40:15.281Z"
   },
   {
    "duration": 37,
    "start_time": "2022-06-10T11:40:15.286Z"
   },
   {
    "duration": 52,
    "start_time": "2022-06-10T11:40:15.324Z"
   },
   {
    "duration": 127,
    "start_time": "2022-06-10T11:40:15.378Z"
   },
   {
    "duration": 1170,
    "start_time": "2022-06-10T11:40:15.506Z"
   },
   {
    "duration": 6,
    "start_time": "2022-06-10T11:40:16.678Z"
   },
   {
    "duration": 32,
    "start_time": "2022-06-10T11:40:16.685Z"
   },
   {
    "duration": 8,
    "start_time": "2022-06-10T11:40:16.719Z"
   },
   {
    "duration": 23,
    "start_time": "2022-06-10T11:40:16.729Z"
   },
   {
    "duration": 28,
    "start_time": "2022-06-10T11:40:16.754Z"
   },
   {
    "duration": 27,
    "start_time": "2022-06-10T11:40:16.784Z"
   },
   {
    "duration": 21,
    "start_time": "2022-06-10T11:40:16.813Z"
   },
   {
    "duration": 45,
    "start_time": "2022-06-10T11:40:16.836Z"
   },
   {
    "duration": 14,
    "start_time": "2022-06-10T11:40:16.882Z"
   },
   {
    "duration": 19,
    "start_time": "2022-06-10T11:40:16.898Z"
   },
   {
    "duration": 544,
    "start_time": "2022-06-10T11:40:16.919Z"
   },
   {
    "duration": 4,
    "start_time": "2022-06-10T11:40:17.465Z"
   },
   {
    "duration": 19,
    "start_time": "2022-06-10T11:40:17.475Z"
   },
   {
    "duration": 9,
    "start_time": "2022-06-10T11:40:17.496Z"
   },
   {
    "duration": 17,
    "start_time": "2022-06-10T11:40:17.507Z"
   },
   {
    "duration": 11,
    "start_time": "2022-06-10T11:40:17.526Z"
   },
   {
    "duration": 27,
    "start_time": "2022-06-10T11:40:17.538Z"
   },
   {
    "duration": 10,
    "start_time": "2022-06-10T11:40:17.567Z"
   },
   {
    "duration": 997,
    "start_time": "2022-06-10T11:40:17.579Z"
   },
   {
    "duration": 1029,
    "start_time": "2022-06-10T11:40:18.578Z"
   },
   {
    "duration": 1000,
    "start_time": "2022-06-10T11:40:19.610Z"
   },
   {
    "duration": 1424,
    "start_time": "2022-06-10T11:40:23.330Z"
   },
   {
    "duration": 455,
    "start_time": "2022-06-10T11:40:24.756Z"
   },
   {
    "duration": 4,
    "start_time": "2022-06-10T11:40:25.212Z"
   },
   {
    "duration": 46,
    "start_time": "2022-06-10T11:40:25.218Z"
   },
   {
    "duration": 47,
    "start_time": "2022-06-10T11:40:25.275Z"
   },
   {
    "duration": 120,
    "start_time": "2022-06-10T11:40:25.324Z"
   },
   {
    "duration": 1097,
    "start_time": "2022-06-10T11:40:25.445Z"
   },
   {
    "duration": 6,
    "start_time": "2022-06-10T11:40:26.544Z"
   },
   {
    "duration": 44,
    "start_time": "2022-06-10T11:40:26.561Z"
   },
   {
    "duration": 7,
    "start_time": "2022-06-10T11:40:26.607Z"
   },
   {
    "duration": 30,
    "start_time": "2022-06-10T11:40:26.616Z"
   },
   {
    "duration": 7,
    "start_time": "2022-06-10T11:40:26.648Z"
   },
   {
    "duration": 58,
    "start_time": "2022-06-10T11:40:26.656Z"
   },
   {
    "duration": 7,
    "start_time": "2022-06-10T11:40:26.716Z"
   },
   {
    "duration": 25,
    "start_time": "2022-06-10T11:40:26.725Z"
   },
   {
    "duration": 30,
    "start_time": "2022-06-10T11:40:26.751Z"
   },
   {
    "duration": 12,
    "start_time": "2022-06-10T11:40:26.783Z"
   },
   {
    "duration": 470,
    "start_time": "2022-06-10T11:40:26.798Z"
   },
   {
    "duration": 3,
    "start_time": "2022-06-10T11:40:27.270Z"
   },
   {
    "duration": 10,
    "start_time": "2022-06-10T11:40:27.277Z"
   },
   {
    "duration": 6,
    "start_time": "2022-06-10T11:40:27.289Z"
   },
   {
    "duration": 14,
    "start_time": "2022-06-10T11:40:27.297Z"
   },
   {
    "duration": 11,
    "start_time": "2022-06-10T11:40:27.313Z"
   },
   {
    "duration": 41,
    "start_time": "2022-06-10T11:40:27.327Z"
   },
   {
    "duration": 8,
    "start_time": "2022-06-10T11:40:27.369Z"
   },
   {
    "duration": 1009,
    "start_time": "2022-06-10T11:40:27.379Z"
   },
   {
    "duration": 1057,
    "start_time": "2022-06-10T11:40:28.390Z"
   },
   {
    "duration": 983,
    "start_time": "2022-06-10T11:40:29.449Z"
   },
   {
    "duration": 4,
    "start_time": "2022-06-10T11:48:00.363Z"
   },
   {
    "duration": 11,
    "start_time": "2022-06-10T11:48:02.451Z"
   },
   {
    "duration": 13,
    "start_time": "2022-06-10T11:48:04.123Z"
   },
   {
    "duration": 10,
    "start_time": "2022-06-10T11:48:07.926Z"
   },
   {
    "duration": 5,
    "start_time": "2022-06-10T11:48:11.419Z"
   },
   {
    "duration": 7,
    "start_time": "2022-06-10T11:50:00.274Z"
   },
   {
    "duration": 1114,
    "start_time": "2022-06-10T11:50:02.078Z"
   },
   {
    "duration": 1039,
    "start_time": "2022-06-10T11:50:04.406Z"
   },
   {
    "duration": 1021,
    "start_time": "2022-06-10T11:50:06.270Z"
   },
   {
    "duration": 26,
    "start_time": "2022-06-10T11:50:52.308Z"
   },
   {
    "duration": 42,
    "start_time": "2022-06-10T11:52:31.090Z"
   },
   {
    "duration": 1290,
    "start_time": "2022-06-10T11:52:51.099Z"
   },
   {
    "duration": 366,
    "start_time": "2022-06-10T11:52:52.391Z"
   },
   {
    "duration": 4,
    "start_time": "2022-06-10T11:52:52.759Z"
   },
   {
    "duration": 41,
    "start_time": "2022-06-10T11:52:52.765Z"
   },
   {
    "duration": 53,
    "start_time": "2022-06-10T11:52:52.808Z"
   },
   {
    "duration": 120,
    "start_time": "2022-06-10T11:52:52.863Z"
   },
   {
    "duration": 1010,
    "start_time": "2022-06-10T11:52:52.985Z"
   },
   {
    "duration": 5,
    "start_time": "2022-06-10T11:52:53.997Z"
   },
   {
    "duration": 28,
    "start_time": "2022-06-10T11:52:54.004Z"
   },
   {
    "duration": 23,
    "start_time": "2022-06-10T11:52:54.035Z"
   },
   {
    "duration": 20,
    "start_time": "2022-06-10T11:52:54.060Z"
   },
   {
    "duration": 7,
    "start_time": "2022-06-10T11:52:54.082Z"
   },
   {
    "duration": 22,
    "start_time": "2022-06-10T11:52:54.090Z"
   },
   {
    "duration": 4,
    "start_time": "2022-06-10T11:52:54.113Z"
   },
   {
    "duration": 6,
    "start_time": "2022-06-10T11:52:54.118Z"
   },
   {
    "duration": 5,
    "start_time": "2022-06-10T11:52:54.126Z"
   },
   {
    "duration": 6,
    "start_time": "2022-06-10T11:52:54.159Z"
   },
   {
    "duration": 592,
    "start_time": "2022-06-10T11:52:54.166Z"
   },
   {
    "duration": 4,
    "start_time": "2022-06-10T11:52:54.760Z"
   },
   {
    "duration": 13,
    "start_time": "2022-06-10T11:52:54.765Z"
   },
   {
    "duration": 7,
    "start_time": "2022-06-10T11:52:54.779Z"
   },
   {
    "duration": 14,
    "start_time": "2022-06-10T11:52:54.788Z"
   },
   {
    "duration": 11,
    "start_time": "2022-06-10T11:52:54.803Z"
   },
   {
    "duration": 42,
    "start_time": "2022-06-10T11:52:54.816Z"
   },
   {
    "duration": 6,
    "start_time": "2022-06-10T11:52:54.860Z"
   },
   {
    "duration": 960,
    "start_time": "2022-06-10T11:52:54.868Z"
   },
   {
    "duration": 909,
    "start_time": "2022-06-10T11:52:55.830Z"
   },
   {
    "duration": 943,
    "start_time": "2022-06-10T11:52:56.742Z"
   }
  ],
  "kernelspec": {
   "display_name": "Python 3",
   "language": "python",
   "name": "python3"
  },
  "language_info": {
   "codemirror_mode": {
    "name": "ipython",
    "version": 3
   },
   "file_extension": ".py",
   "mimetype": "text/x-python",
   "name": "python",
   "nbconvert_exporter": "python",
   "pygments_lexer": "ipython3",
   "version": "3.8.8"
  },
  "toc": {
   "base_numbering": 1,
   "nav_menu": {},
   "number_sections": true,
   "sideBar": true,
   "skip_h1_title": true,
   "title_cell": "Table of Contents",
   "title_sidebar": "Contents",
   "toc_cell": false,
   "toc_position": {
    "height": "calc(100% - 180px)",
    "left": "10px",
    "top": "150px",
    "width": "273.391px"
   },
   "toc_section_display": true,
   "toc_window_display": true
  }
 },
 "nbformat": 4,
 "nbformat_minor": 2
}
