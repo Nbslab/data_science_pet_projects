{
 "cells": [
  {
   "cell_type": "markdown",
   "id": "aac247b7",
   "metadata": {},
   "source": [
    "## Описание проекта"
   ]
  },
  {
   "cell_type": "markdown",
   "id": "953eda1f",
   "metadata": {},
   "source": [
    "Нужно создать систему, которая могла бы оценить риск ДТП по выбранному маршруту движения.\n",
    "\n",
    "**Цель проекта:** изучить имеющиеся исторические данные одного из регионов и построить модель, предсказывающую вероятность ДТП.\n",
    "\n",
    "**Задачи:**\n",
    "- Выгрузить необходимые данные\n",
    "- Провести исследование данных\n",
    "- Провести статистический анализ факторов ДТП\n",
    "- Построить модели для предсказания риска ДТП\n",
    "- Провести анализ факторов ДТП\n",
    "- Сделать выводы\n"
   ]
  },
  {
   "cell_type": "markdown",
   "id": "41e98ebf",
   "metadata": {
    "ExecuteTime": {
     "end_time": "2022-05-05T04:58:05.692448Z",
     "start_time": "2022-05-05T04:58:05.688565Z"
    }
   },
   "source": [
    "## Подключимся к базе. Загрузим таблицы sql"
   ]
  },
  {
   "cell_type": "code",
   "execution_count": 1,
   "id": "bd8855ea",
   "metadata": {},
   "outputs": [],
   "source": [
    "import pandas as pd\n",
    "from sqlalchemy import create_engine \n",
    "import matplotlib.pyplot as plt\n",
    "from catboost import CatBoostClassifier\n",
    "from lightgbm import LGBMClassifier\n",
    "import random\n",
    "import itertools\n",
    "\n",
    "from sklearn.model_selection import train_test_split, GridSearchCV\n",
    "from sklearn.metrics import f1_score, classification_report, confusion_matrix\n",
    "\n",
    "import torch.nn as nn\n",
    "import torch \n",
    "import torch.nn.functional as F\n",
    "import numpy as np"
   ]
  },
  {
   "cell_type": "code",
   "execution_count": 2,
   "id": "0485d9a4",
   "metadata": {},
   "outputs": [],
   "source": [
    "random.seed(12345)\n",
    "np.random.seed(12345)\n",
    "torch.manual_seed(12345)\n",
    "torch.use_deterministic_algorithms(True)"
   ]
  },
  {
   "cell_type": "code",
   "execution_count": 2,
   "id": "c0dd966e",
   "metadata": {},
   "outputs": [],
   "source": [
    "\n",
    "db_config = {\n",
    "'user': 'praktikum_student', # имя пользователя,\n",
    "'pwd': 'pwd', # пароль,\n",
    "'host': 'host',\n",
    "'port': 1234, # порт подключения,\n",
    "'db': 'db' # название базы данных,\n",
    "} "
   ]
  },
  {
   "cell_type": "code",
   "execution_count": 3,
   "id": "dab943ac",
   "metadata": {},
   "outputs": [],
   "source": [
    "connection_string = 'postgresql://{}:{}@{}:{}/{}'.format(\n",
    "    db_config['user'],\n",
    "    db_config['pwd'],\n",
    "    db_config['host'],\n",
    "    db_config['port'],\n",
    "    db_config['db'],\n",
    ")"
   ]
  },
  {
   "cell_type": "code",
   "execution_count": 4,
   "id": "e0e67bbe",
   "metadata": {},
   "outputs": [],
   "source": [
    "engine = create_engine(connection_string)"
   ]
  },
  {
   "cell_type": "code",
   "execution_count": 5,
   "id": "96b2de92",
   "metadata": {},
   "outputs": [],
   "source": [
    "query = '''\n",
    "SELECT *\n",
    "FROM collisions\n",
    "LIMIT 5;\n",
    "'''\n",
    "\n",
    "collisions = pd.read_sql_query(query, con=engine) "
   ]
  },
  {
   "cell_type": "code",
   "execution_count": 6,
   "id": "009a4ae6",
   "metadata": {},
   "outputs": [
    {
     "data": {
      "text/html": [
       "<div>\n",
       "<style scoped>\n",
       "    .dataframe tbody tr th:only-of-type {\n",
       "        vertical-align: middle;\n",
       "    }\n",
       "\n",
       "    .dataframe tbody tr th {\n",
       "        vertical-align: top;\n",
       "    }\n",
       "\n",
       "    .dataframe thead th {\n",
       "        text-align: right;\n",
       "    }\n",
       "</style>\n",
       "<table border=\"1\" class=\"dataframe\">\n",
       "  <thead>\n",
       "    <tr style=\"text-align: right;\">\n",
       "      <th></th>\n",
       "      <th>case_id</th>\n",
       "      <th>county_city_location</th>\n",
       "      <th>county_location</th>\n",
       "      <th>distance</th>\n",
       "      <th>direction</th>\n",
       "      <th>intersection</th>\n",
       "      <th>weather_1</th>\n",
       "      <th>location_type</th>\n",
       "      <th>collision_damage</th>\n",
       "      <th>party_count</th>\n",
       "      <th>primary_collision_factor</th>\n",
       "      <th>pcf_violation_category</th>\n",
       "      <th>type_of_collision</th>\n",
       "      <th>motor_vehicle_involved_with</th>\n",
       "      <th>road_surface</th>\n",
       "      <th>road_condition_1</th>\n",
       "      <th>lighting</th>\n",
       "      <th>control_device</th>\n",
       "      <th>collision_date</th>\n",
       "      <th>collision_time</th>\n",
       "    </tr>\n",
       "  </thead>\n",
       "  <tbody>\n",
       "    <tr>\n",
       "      <th>0</th>\n",
       "      <td>4083072</td>\n",
       "      <td>1942</td>\n",
       "      <td>los angeles</td>\n",
       "      <td>528.0</td>\n",
       "      <td>north</td>\n",
       "      <td>0</td>\n",
       "      <td>cloudy</td>\n",
       "      <td>highway</td>\n",
       "      <td>small damage</td>\n",
       "      <td>2</td>\n",
       "      <td>vehicle code violation</td>\n",
       "      <td>unsafe lane change</td>\n",
       "      <td>sideswipe</td>\n",
       "      <td>other motor vehicle</td>\n",
       "      <td>wet</td>\n",
       "      <td>normal</td>\n",
       "      <td>daylight</td>\n",
       "      <td>none</td>\n",
       "      <td>2009-01-22</td>\n",
       "      <td>07:25:00</td>\n",
       "    </tr>\n",
       "    <tr>\n",
       "      <th>1</th>\n",
       "      <td>4083075</td>\n",
       "      <td>4313</td>\n",
       "      <td>santa clara</td>\n",
       "      <td>0.0</td>\n",
       "      <td>None</td>\n",
       "      <td>1</td>\n",
       "      <td>clear</td>\n",
       "      <td>None</td>\n",
       "      <td>small damage</td>\n",
       "      <td>1</td>\n",
       "      <td>vehicle code violation</td>\n",
       "      <td>improper passing</td>\n",
       "      <td>hit object</td>\n",
       "      <td>fixed object</td>\n",
       "      <td>dry</td>\n",
       "      <td>normal</td>\n",
       "      <td>dark with street lights</td>\n",
       "      <td>functioning</td>\n",
       "      <td>2009-01-03</td>\n",
       "      <td>02:26:00</td>\n",
       "    </tr>\n",
       "    <tr>\n",
       "      <th>2</th>\n",
       "      <td>4083073</td>\n",
       "      <td>0109</td>\n",
       "      <td>alameda</td>\n",
       "      <td>0.0</td>\n",
       "      <td>None</td>\n",
       "      <td>1</td>\n",
       "      <td>clear</td>\n",
       "      <td>None</td>\n",
       "      <td>scratch</td>\n",
       "      <td>2</td>\n",
       "      <td>vehicle code violation</td>\n",
       "      <td>improper turning</td>\n",
       "      <td>broadside</td>\n",
       "      <td>other motor vehicle</td>\n",
       "      <td>dry</td>\n",
       "      <td>normal</td>\n",
       "      <td>dark with street lights</td>\n",
       "      <td>functioning</td>\n",
       "      <td>2009-01-11</td>\n",
       "      <td>03:32:00</td>\n",
       "    </tr>\n",
       "    <tr>\n",
       "      <th>3</th>\n",
       "      <td>4083077</td>\n",
       "      <td>0109</td>\n",
       "      <td>alameda</td>\n",
       "      <td>0.0</td>\n",
       "      <td>None</td>\n",
       "      <td>1</td>\n",
       "      <td>clear</td>\n",
       "      <td>None</td>\n",
       "      <td>scratch</td>\n",
       "      <td>2</td>\n",
       "      <td>vehicle code violation</td>\n",
       "      <td>automobile right of way</td>\n",
       "      <td>broadside</td>\n",
       "      <td>other motor vehicle</td>\n",
       "      <td>dry</td>\n",
       "      <td>normal</td>\n",
       "      <td>daylight</td>\n",
       "      <td>functioning</td>\n",
       "      <td>2009-01-11</td>\n",
       "      <td>10:35:00</td>\n",
       "    </tr>\n",
       "    <tr>\n",
       "      <th>4</th>\n",
       "      <td>4083087</td>\n",
       "      <td>4313</td>\n",
       "      <td>santa clara</td>\n",
       "      <td>0.0</td>\n",
       "      <td>None</td>\n",
       "      <td>1</td>\n",
       "      <td>clear</td>\n",
       "      <td>None</td>\n",
       "      <td>scratch</td>\n",
       "      <td>2</td>\n",
       "      <td>vehicle code violation</td>\n",
       "      <td>speeding</td>\n",
       "      <td>rear end</td>\n",
       "      <td>other motor vehicle</td>\n",
       "      <td>dry</td>\n",
       "      <td>None</td>\n",
       "      <td>dark with street lights</td>\n",
       "      <td>functioning</td>\n",
       "      <td>2009-01-02</td>\n",
       "      <td>22:43:00</td>\n",
       "    </tr>\n",
       "  </tbody>\n",
       "</table>\n",
       "</div>"
      ],
      "text/plain": [
       "   case_id county_city_location county_location  distance direction  \\\n",
       "0  4083072                 1942     los angeles     528.0     north   \n",
       "1  4083075                 4313     santa clara       0.0      None   \n",
       "2  4083073                 0109         alameda       0.0      None   \n",
       "3  4083077                 0109         alameda       0.0      None   \n",
       "4  4083087                 4313     santa clara       0.0      None   \n",
       "\n",
       "   intersection weather_1 location_type collision_damage  party_count  \\\n",
       "0             0    cloudy       highway     small damage            2   \n",
       "1             1     clear          None     small damage            1   \n",
       "2             1     clear          None          scratch            2   \n",
       "3             1     clear          None          scratch            2   \n",
       "4             1     clear          None          scratch            2   \n",
       "\n",
       "  primary_collision_factor   pcf_violation_category type_of_collision  \\\n",
       "0   vehicle code violation       unsafe lane change         sideswipe   \n",
       "1   vehicle code violation         improper passing        hit object   \n",
       "2   vehicle code violation         improper turning         broadside   \n",
       "3   vehicle code violation  automobile right of way         broadside   \n",
       "4   vehicle code violation                 speeding          rear end   \n",
       "\n",
       "  motor_vehicle_involved_with road_surface road_condition_1  \\\n",
       "0         other motor vehicle          wet           normal   \n",
       "1                fixed object          dry           normal   \n",
       "2         other motor vehicle          dry           normal   \n",
       "3         other motor vehicle          dry           normal   \n",
       "4         other motor vehicle          dry             None   \n",
       "\n",
       "                  lighting control_device collision_date collision_time  \n",
       "0                 daylight           none     2009-01-22       07:25:00  \n",
       "1  dark with street lights    functioning     2009-01-03       02:26:00  \n",
       "2  dark with street lights    functioning     2009-01-11       03:32:00  \n",
       "3                 daylight    functioning     2009-01-11       10:35:00  \n",
       "4  dark with street lights    functioning     2009-01-02       22:43:00  "
      ]
     },
     "execution_count": 6,
     "metadata": {},
     "output_type": "execute_result"
    }
   ],
   "source": [
    "collisions.head()"
   ]
  },
  {
   "cell_type": "code",
   "execution_count": 7,
   "id": "7d0eabfa",
   "metadata": {},
   "outputs": [],
   "source": [
    "query = '''\n",
    "SELECT *\n",
    "FROM parties\n",
    "LIMIT 5;\n",
    "'''\n",
    "\n",
    "parties = pd.read_sql_query(query, con=engine) "
   ]
  },
  {
   "cell_type": "code",
   "execution_count": 8,
   "id": "0ad3ae3a",
   "metadata": {},
   "outputs": [
    {
     "data": {
      "text/html": [
       "<div>\n",
       "<style scoped>\n",
       "    .dataframe tbody tr th:only-of-type {\n",
       "        vertical-align: middle;\n",
       "    }\n",
       "\n",
       "    .dataframe tbody tr th {\n",
       "        vertical-align: top;\n",
       "    }\n",
       "\n",
       "    .dataframe thead th {\n",
       "        text-align: right;\n",
       "    }\n",
       "</style>\n",
       "<table border=\"1\" class=\"dataframe\">\n",
       "  <thead>\n",
       "    <tr style=\"text-align: right;\">\n",
       "      <th></th>\n",
       "      <th>id</th>\n",
       "      <th>case_id</th>\n",
       "      <th>party_number</th>\n",
       "      <th>party_type</th>\n",
       "      <th>at_fault</th>\n",
       "      <th>insurance_premium</th>\n",
       "      <th>party_sobriety</th>\n",
       "      <th>party_drug_physical</th>\n",
       "      <th>cellphone_in_use</th>\n",
       "    </tr>\n",
       "  </thead>\n",
       "  <tbody>\n",
       "    <tr>\n",
       "      <th>0</th>\n",
       "      <td>22</td>\n",
       "      <td>3899454</td>\n",
       "      <td>1</td>\n",
       "      <td>road signs</td>\n",
       "      <td>1</td>\n",
       "      <td>29.0</td>\n",
       "      <td>had not been drinking</td>\n",
       "      <td>None</td>\n",
       "      <td>0</td>\n",
       "    </tr>\n",
       "    <tr>\n",
       "      <th>1</th>\n",
       "      <td>23</td>\n",
       "      <td>3899454</td>\n",
       "      <td>2</td>\n",
       "      <td>road signs</td>\n",
       "      <td>0</td>\n",
       "      <td>7.0</td>\n",
       "      <td>had not been drinking</td>\n",
       "      <td>None</td>\n",
       "      <td>0</td>\n",
       "    </tr>\n",
       "    <tr>\n",
       "      <th>2</th>\n",
       "      <td>29</td>\n",
       "      <td>3899462</td>\n",
       "      <td>2</td>\n",
       "      <td>car</td>\n",
       "      <td>0</td>\n",
       "      <td>21.0</td>\n",
       "      <td>had not been drinking</td>\n",
       "      <td>None</td>\n",
       "      <td>0</td>\n",
       "    </tr>\n",
       "    <tr>\n",
       "      <th>3</th>\n",
       "      <td>31</td>\n",
       "      <td>3899465</td>\n",
       "      <td>2</td>\n",
       "      <td>road signs</td>\n",
       "      <td>0</td>\n",
       "      <td>24.0</td>\n",
       "      <td>had not been drinking</td>\n",
       "      <td>None</td>\n",
       "      <td>0</td>\n",
       "    </tr>\n",
       "    <tr>\n",
       "      <th>4</th>\n",
       "      <td>41</td>\n",
       "      <td>3899478</td>\n",
       "      <td>2</td>\n",
       "      <td>road bumper</td>\n",
       "      <td>0</td>\n",
       "      <td>NaN</td>\n",
       "      <td>not applicable</td>\n",
       "      <td>not applicable</td>\n",
       "      <td>0</td>\n",
       "    </tr>\n",
       "  </tbody>\n",
       "</table>\n",
       "</div>"
      ],
      "text/plain": [
       "   id  case_id  party_number   party_type  at_fault  insurance_premium  \\\n",
       "0  22  3899454             1   road signs         1               29.0   \n",
       "1  23  3899454             2   road signs         0                7.0   \n",
       "2  29  3899462             2          car         0               21.0   \n",
       "3  31  3899465             2   road signs         0               24.0   \n",
       "4  41  3899478             2  road bumper         0                NaN   \n",
       "\n",
       "          party_sobriety party_drug_physical  cellphone_in_use  \n",
       "0  had not been drinking                None                 0  \n",
       "1  had not been drinking                None                 0  \n",
       "2  had not been drinking                None                 0  \n",
       "3  had not been drinking                None                 0  \n",
       "4         not applicable      not applicable                 0  "
      ]
     },
     "execution_count": 8,
     "metadata": {},
     "output_type": "execute_result"
    }
   ],
   "source": [
    "parties"
   ]
  },
  {
   "cell_type": "code",
   "execution_count": 9,
   "id": "6a07c518",
   "metadata": {},
   "outputs": [],
   "source": [
    "query = '''\n",
    "SELECT *\n",
    "FROM vehicles\n",
    "LIMIT 5;\n",
    "'''\n",
    "\n",
    "vehicles  = pd.read_sql_query(query, con=engine)"
   ]
  },
  {
   "cell_type": "code",
   "execution_count": 10,
   "id": "9d3bfd2e",
   "metadata": {},
   "outputs": [
    {
     "data": {
      "text/html": [
       "<div>\n",
       "<style scoped>\n",
       "    .dataframe tbody tr th:only-of-type {\n",
       "        vertical-align: middle;\n",
       "    }\n",
       "\n",
       "    .dataframe tbody tr th {\n",
       "        vertical-align: top;\n",
       "    }\n",
       "\n",
       "    .dataframe thead th {\n",
       "        text-align: right;\n",
       "    }\n",
       "</style>\n",
       "<table border=\"1\" class=\"dataframe\">\n",
       "  <thead>\n",
       "    <tr style=\"text-align: right;\">\n",
       "      <th></th>\n",
       "      <th>id</th>\n",
       "      <th>case_id</th>\n",
       "      <th>party_number</th>\n",
       "      <th>vehicle_type</th>\n",
       "      <th>vehicle_transmission</th>\n",
       "      <th>vehicle_age</th>\n",
       "    </tr>\n",
       "  </thead>\n",
       "  <tbody>\n",
       "    <tr>\n",
       "      <th>0</th>\n",
       "      <td>1175713</td>\n",
       "      <td>5305032</td>\n",
       "      <td>2</td>\n",
       "      <td>sedan</td>\n",
       "      <td>manual</td>\n",
       "      <td>3</td>\n",
       "    </tr>\n",
       "    <tr>\n",
       "      <th>1</th>\n",
       "      <td>1</td>\n",
       "      <td>3858022</td>\n",
       "      <td>1</td>\n",
       "      <td>sedan</td>\n",
       "      <td>auto</td>\n",
       "      <td>3</td>\n",
       "    </tr>\n",
       "    <tr>\n",
       "      <th>2</th>\n",
       "      <td>1175712</td>\n",
       "      <td>5305030</td>\n",
       "      <td>1</td>\n",
       "      <td>sedan</td>\n",
       "      <td>auto</td>\n",
       "      <td>3</td>\n",
       "    </tr>\n",
       "    <tr>\n",
       "      <th>3</th>\n",
       "      <td>1175717</td>\n",
       "      <td>5305033</td>\n",
       "      <td>3</td>\n",
       "      <td>sedan</td>\n",
       "      <td>auto</td>\n",
       "      <td>5</td>\n",
       "    </tr>\n",
       "    <tr>\n",
       "      <th>4</th>\n",
       "      <td>1175722</td>\n",
       "      <td>5305034</td>\n",
       "      <td>2</td>\n",
       "      <td>sedan</td>\n",
       "      <td>auto</td>\n",
       "      <td>5</td>\n",
       "    </tr>\n",
       "  </tbody>\n",
       "</table>\n",
       "</div>"
      ],
      "text/plain": [
       "        id  case_id  party_number vehicle_type vehicle_transmission  \\\n",
       "0  1175713  5305032             2        sedan               manual   \n",
       "1        1  3858022             1        sedan                 auto   \n",
       "2  1175712  5305030             1        sedan                 auto   \n",
       "3  1175717  5305033             3        sedan                 auto   \n",
       "4  1175722  5305034             2        sedan                 auto   \n",
       "\n",
       "   vehicle_age  \n",
       "0            3  \n",
       "1            3  \n",
       "2            3  \n",
       "3            5  \n",
       "4            5  "
      ]
     },
     "execution_count": 10,
     "metadata": {},
     "output_type": "execute_result"
    }
   ],
   "source": [
    "vehicles"
   ]
  },
  {
   "cell_type": "code",
   "execution_count": 11,
   "id": "f63debbd",
   "metadata": {},
   "outputs": [],
   "source": [
    "query = '''\n",
    "SELECT *\n",
    "FROM case_ids\n",
    "LIMIT 5;\n",
    "'''\n",
    "\n",
    "case_ids = pd.read_sql_query(query, con=engine) "
   ]
  },
  {
   "cell_type": "code",
   "execution_count": 12,
   "id": "eb84cdc4",
   "metadata": {},
   "outputs": [
    {
     "data": {
      "text/html": [
       "<div>\n",
       "<style scoped>\n",
       "    .dataframe tbody tr th:only-of-type {\n",
       "        vertical-align: middle;\n",
       "    }\n",
       "\n",
       "    .dataframe tbody tr th {\n",
       "        vertical-align: top;\n",
       "    }\n",
       "\n",
       "    .dataframe thead th {\n",
       "        text-align: right;\n",
       "    }\n",
       "</style>\n",
       "<table border=\"1\" class=\"dataframe\">\n",
       "  <thead>\n",
       "    <tr style=\"text-align: right;\">\n",
       "      <th></th>\n",
       "      <th>case_id</th>\n",
       "      <th>db_year</th>\n",
       "    </tr>\n",
       "  </thead>\n",
       "  <tbody>\n",
       "    <tr>\n",
       "      <th>0</th>\n",
       "      <td>0081715</td>\n",
       "      <td>2021</td>\n",
       "    </tr>\n",
       "    <tr>\n",
       "      <th>1</th>\n",
       "      <td>0726202</td>\n",
       "      <td>2021</td>\n",
       "    </tr>\n",
       "    <tr>\n",
       "      <th>2</th>\n",
       "      <td>3858022</td>\n",
       "      <td>2021</td>\n",
       "    </tr>\n",
       "    <tr>\n",
       "      <th>3</th>\n",
       "      <td>3899441</td>\n",
       "      <td>2021</td>\n",
       "    </tr>\n",
       "    <tr>\n",
       "      <th>4</th>\n",
       "      <td>3899442</td>\n",
       "      <td>2021</td>\n",
       "    </tr>\n",
       "  </tbody>\n",
       "</table>\n",
       "</div>"
      ],
      "text/plain": [
       "   case_id db_year\n",
       "0  0081715    2021\n",
       "1  0726202    2021\n",
       "2  3858022    2021\n",
       "3  3899441    2021\n",
       "4  3899442    2021"
      ]
     },
     "execution_count": 12,
     "metadata": {},
     "output_type": "execute_result"
    }
   ],
   "source": [
    "case_ids"
   ]
  },
  {
   "cell_type": "markdown",
   "id": "4606158f",
   "metadata": {},
   "source": [
    "## Проведём первичное исследование таблиц"
   ]
  },
  {
   "cell_type": "code",
   "execution_count": 13,
   "id": "476a4744",
   "metadata": {},
   "outputs": [
    {
     "data": {
      "text/html": [
       "<div>\n",
       "<style scoped>\n",
       "    .dataframe tbody tr th:only-of-type {\n",
       "        vertical-align: middle;\n",
       "    }\n",
       "\n",
       "    .dataframe tbody tr th {\n",
       "        vertical-align: top;\n",
       "    }\n",
       "\n",
       "    .dataframe thead th {\n",
       "        text-align: right;\n",
       "    }\n",
       "</style>\n",
       "<table border=\"1\" class=\"dataframe\">\n",
       "  <thead>\n",
       "    <tr style=\"text-align: right;\">\n",
       "      <th></th>\n",
       "      <th>case_id</th>\n",
       "      <th>county_city_location</th>\n",
       "      <th>county_location</th>\n",
       "      <th>distance</th>\n",
       "      <th>direction</th>\n",
       "      <th>intersection</th>\n",
       "      <th>weather_1</th>\n",
       "      <th>location_type</th>\n",
       "      <th>collision_damage</th>\n",
       "      <th>party_count</th>\n",
       "      <th>primary_collision_factor</th>\n",
       "      <th>pcf_violation_category</th>\n",
       "      <th>type_of_collision</th>\n",
       "      <th>motor_vehicle_involved_with</th>\n",
       "      <th>road_surface</th>\n",
       "      <th>road_condition_1</th>\n",
       "      <th>lighting</th>\n",
       "      <th>control_device</th>\n",
       "      <th>collision_date</th>\n",
       "      <th>collision_time</th>\n",
       "    </tr>\n",
       "  </thead>\n",
       "  <tbody>\n",
       "    <tr>\n",
       "      <th>count</th>\n",
       "      <td>5</td>\n",
       "      <td>5</td>\n",
       "      <td>5</td>\n",
       "      <td>5.000000</td>\n",
       "      <td>1</td>\n",
       "      <td>5.000000</td>\n",
       "      <td>5</td>\n",
       "      <td>1</td>\n",
       "      <td>5</td>\n",
       "      <td>5.000000</td>\n",
       "      <td>5</td>\n",
       "      <td>5</td>\n",
       "      <td>5</td>\n",
       "      <td>5</td>\n",
       "      <td>5</td>\n",
       "      <td>4</td>\n",
       "      <td>5</td>\n",
       "      <td>5</td>\n",
       "      <td>5</td>\n",
       "      <td>5</td>\n",
       "    </tr>\n",
       "    <tr>\n",
       "      <th>unique</th>\n",
       "      <td>5</td>\n",
       "      <td>3</td>\n",
       "      <td>3</td>\n",
       "      <td>NaN</td>\n",
       "      <td>1</td>\n",
       "      <td>NaN</td>\n",
       "      <td>2</td>\n",
       "      <td>1</td>\n",
       "      <td>2</td>\n",
       "      <td>NaN</td>\n",
       "      <td>1</td>\n",
       "      <td>5</td>\n",
       "      <td>4</td>\n",
       "      <td>2</td>\n",
       "      <td>2</td>\n",
       "      <td>1</td>\n",
       "      <td>2</td>\n",
       "      <td>2</td>\n",
       "      <td>4</td>\n",
       "      <td>5</td>\n",
       "    </tr>\n",
       "    <tr>\n",
       "      <th>top</th>\n",
       "      <td>4083087</td>\n",
       "      <td>0109</td>\n",
       "      <td>alameda</td>\n",
       "      <td>NaN</td>\n",
       "      <td>north</td>\n",
       "      <td>NaN</td>\n",
       "      <td>clear</td>\n",
       "      <td>highway</td>\n",
       "      <td>scratch</td>\n",
       "      <td>NaN</td>\n",
       "      <td>vehicle code violation</td>\n",
       "      <td>speeding</td>\n",
       "      <td>broadside</td>\n",
       "      <td>other motor vehicle</td>\n",
       "      <td>dry</td>\n",
       "      <td>normal</td>\n",
       "      <td>dark with street lights</td>\n",
       "      <td>functioning</td>\n",
       "      <td>2009-01-11</td>\n",
       "      <td>07:25:00</td>\n",
       "    </tr>\n",
       "    <tr>\n",
       "      <th>freq</th>\n",
       "      <td>1</td>\n",
       "      <td>2</td>\n",
       "      <td>2</td>\n",
       "      <td>NaN</td>\n",
       "      <td>1</td>\n",
       "      <td>NaN</td>\n",
       "      <td>4</td>\n",
       "      <td>1</td>\n",
       "      <td>3</td>\n",
       "      <td>NaN</td>\n",
       "      <td>5</td>\n",
       "      <td>1</td>\n",
       "      <td>2</td>\n",
       "      <td>4</td>\n",
       "      <td>4</td>\n",
       "      <td>4</td>\n",
       "      <td>3</td>\n",
       "      <td>4</td>\n",
       "      <td>2</td>\n",
       "      <td>1</td>\n",
       "    </tr>\n",
       "    <tr>\n",
       "      <th>mean</th>\n",
       "      <td>NaN</td>\n",
       "      <td>NaN</td>\n",
       "      <td>NaN</td>\n",
       "      <td>105.600000</td>\n",
       "      <td>NaN</td>\n",
       "      <td>0.800000</td>\n",
       "      <td>NaN</td>\n",
       "      <td>NaN</td>\n",
       "      <td>NaN</td>\n",
       "      <td>1.800000</td>\n",
       "      <td>NaN</td>\n",
       "      <td>NaN</td>\n",
       "      <td>NaN</td>\n",
       "      <td>NaN</td>\n",
       "      <td>NaN</td>\n",
       "      <td>NaN</td>\n",
       "      <td>NaN</td>\n",
       "      <td>NaN</td>\n",
       "      <td>NaN</td>\n",
       "      <td>NaN</td>\n",
       "    </tr>\n",
       "    <tr>\n",
       "      <th>std</th>\n",
       "      <td>NaN</td>\n",
       "      <td>NaN</td>\n",
       "      <td>NaN</td>\n",
       "      <td>236.128778</td>\n",
       "      <td>NaN</td>\n",
       "      <td>0.447214</td>\n",
       "      <td>NaN</td>\n",
       "      <td>NaN</td>\n",
       "      <td>NaN</td>\n",
       "      <td>0.447214</td>\n",
       "      <td>NaN</td>\n",
       "      <td>NaN</td>\n",
       "      <td>NaN</td>\n",
       "      <td>NaN</td>\n",
       "      <td>NaN</td>\n",
       "      <td>NaN</td>\n",
       "      <td>NaN</td>\n",
       "      <td>NaN</td>\n",
       "      <td>NaN</td>\n",
       "      <td>NaN</td>\n",
       "    </tr>\n",
       "    <tr>\n",
       "      <th>min</th>\n",
       "      <td>NaN</td>\n",
       "      <td>NaN</td>\n",
       "      <td>NaN</td>\n",
       "      <td>0.000000</td>\n",
       "      <td>NaN</td>\n",
       "      <td>0.000000</td>\n",
       "      <td>NaN</td>\n",
       "      <td>NaN</td>\n",
       "      <td>NaN</td>\n",
       "      <td>1.000000</td>\n",
       "      <td>NaN</td>\n",
       "      <td>NaN</td>\n",
       "      <td>NaN</td>\n",
       "      <td>NaN</td>\n",
       "      <td>NaN</td>\n",
       "      <td>NaN</td>\n",
       "      <td>NaN</td>\n",
       "      <td>NaN</td>\n",
       "      <td>NaN</td>\n",
       "      <td>NaN</td>\n",
       "    </tr>\n",
       "    <tr>\n",
       "      <th>25%</th>\n",
       "      <td>NaN</td>\n",
       "      <td>NaN</td>\n",
       "      <td>NaN</td>\n",
       "      <td>0.000000</td>\n",
       "      <td>NaN</td>\n",
       "      <td>1.000000</td>\n",
       "      <td>NaN</td>\n",
       "      <td>NaN</td>\n",
       "      <td>NaN</td>\n",
       "      <td>2.000000</td>\n",
       "      <td>NaN</td>\n",
       "      <td>NaN</td>\n",
       "      <td>NaN</td>\n",
       "      <td>NaN</td>\n",
       "      <td>NaN</td>\n",
       "      <td>NaN</td>\n",
       "      <td>NaN</td>\n",
       "      <td>NaN</td>\n",
       "      <td>NaN</td>\n",
       "      <td>NaN</td>\n",
       "    </tr>\n",
       "    <tr>\n",
       "      <th>50%</th>\n",
       "      <td>NaN</td>\n",
       "      <td>NaN</td>\n",
       "      <td>NaN</td>\n",
       "      <td>0.000000</td>\n",
       "      <td>NaN</td>\n",
       "      <td>1.000000</td>\n",
       "      <td>NaN</td>\n",
       "      <td>NaN</td>\n",
       "      <td>NaN</td>\n",
       "      <td>2.000000</td>\n",
       "      <td>NaN</td>\n",
       "      <td>NaN</td>\n",
       "      <td>NaN</td>\n",
       "      <td>NaN</td>\n",
       "      <td>NaN</td>\n",
       "      <td>NaN</td>\n",
       "      <td>NaN</td>\n",
       "      <td>NaN</td>\n",
       "      <td>NaN</td>\n",
       "      <td>NaN</td>\n",
       "    </tr>\n",
       "    <tr>\n",
       "      <th>75%</th>\n",
       "      <td>NaN</td>\n",
       "      <td>NaN</td>\n",
       "      <td>NaN</td>\n",
       "      <td>0.000000</td>\n",
       "      <td>NaN</td>\n",
       "      <td>1.000000</td>\n",
       "      <td>NaN</td>\n",
       "      <td>NaN</td>\n",
       "      <td>NaN</td>\n",
       "      <td>2.000000</td>\n",
       "      <td>NaN</td>\n",
       "      <td>NaN</td>\n",
       "      <td>NaN</td>\n",
       "      <td>NaN</td>\n",
       "      <td>NaN</td>\n",
       "      <td>NaN</td>\n",
       "      <td>NaN</td>\n",
       "      <td>NaN</td>\n",
       "      <td>NaN</td>\n",
       "      <td>NaN</td>\n",
       "    </tr>\n",
       "    <tr>\n",
       "      <th>max</th>\n",
       "      <td>NaN</td>\n",
       "      <td>NaN</td>\n",
       "      <td>NaN</td>\n",
       "      <td>528.000000</td>\n",
       "      <td>NaN</td>\n",
       "      <td>1.000000</td>\n",
       "      <td>NaN</td>\n",
       "      <td>NaN</td>\n",
       "      <td>NaN</td>\n",
       "      <td>2.000000</td>\n",
       "      <td>NaN</td>\n",
       "      <td>NaN</td>\n",
       "      <td>NaN</td>\n",
       "      <td>NaN</td>\n",
       "      <td>NaN</td>\n",
       "      <td>NaN</td>\n",
       "      <td>NaN</td>\n",
       "      <td>NaN</td>\n",
       "      <td>NaN</td>\n",
       "      <td>NaN</td>\n",
       "    </tr>\n",
       "  </tbody>\n",
       "</table>\n",
       "</div>"
      ],
      "text/plain": [
       "        case_id county_city_location county_location    distance direction  \\\n",
       "count         5                    5               5    5.000000         1   \n",
       "unique        5                    3               3         NaN         1   \n",
       "top     4083087                 0109         alameda         NaN     north   \n",
       "freq          1                    2               2         NaN         1   \n",
       "mean        NaN                  NaN             NaN  105.600000       NaN   \n",
       "std         NaN                  NaN             NaN  236.128778       NaN   \n",
       "min         NaN                  NaN             NaN    0.000000       NaN   \n",
       "25%         NaN                  NaN             NaN    0.000000       NaN   \n",
       "50%         NaN                  NaN             NaN    0.000000       NaN   \n",
       "75%         NaN                  NaN             NaN    0.000000       NaN   \n",
       "max         NaN                  NaN             NaN  528.000000       NaN   \n",
       "\n",
       "        intersection weather_1 location_type collision_damage  party_count  \\\n",
       "count       5.000000         5             1                5     5.000000   \n",
       "unique           NaN         2             1                2          NaN   \n",
       "top              NaN     clear       highway          scratch          NaN   \n",
       "freq             NaN         4             1                3          NaN   \n",
       "mean        0.800000       NaN           NaN              NaN     1.800000   \n",
       "std         0.447214       NaN           NaN              NaN     0.447214   \n",
       "min         0.000000       NaN           NaN              NaN     1.000000   \n",
       "25%         1.000000       NaN           NaN              NaN     2.000000   \n",
       "50%         1.000000       NaN           NaN              NaN     2.000000   \n",
       "75%         1.000000       NaN           NaN              NaN     2.000000   \n",
       "max         1.000000       NaN           NaN              NaN     2.000000   \n",
       "\n",
       "       primary_collision_factor pcf_violation_category type_of_collision  \\\n",
       "count                         5                      5                 5   \n",
       "unique                        1                      5                 4   \n",
       "top      vehicle code violation               speeding         broadside   \n",
       "freq                          5                      1                 2   \n",
       "mean                        NaN                    NaN               NaN   \n",
       "std                         NaN                    NaN               NaN   \n",
       "min                         NaN                    NaN               NaN   \n",
       "25%                         NaN                    NaN               NaN   \n",
       "50%                         NaN                    NaN               NaN   \n",
       "75%                         NaN                    NaN               NaN   \n",
       "max                         NaN                    NaN               NaN   \n",
       "\n",
       "       motor_vehicle_involved_with road_surface road_condition_1  \\\n",
       "count                            5            5                4   \n",
       "unique                           2            2                1   \n",
       "top            other motor vehicle          dry           normal   \n",
       "freq                             4            4                4   \n",
       "mean                           NaN          NaN              NaN   \n",
       "std                            NaN          NaN              NaN   \n",
       "min                            NaN          NaN              NaN   \n",
       "25%                            NaN          NaN              NaN   \n",
       "50%                            NaN          NaN              NaN   \n",
       "75%                            NaN          NaN              NaN   \n",
       "max                            NaN          NaN              NaN   \n",
       "\n",
       "                       lighting control_device collision_date collision_time  \n",
       "count                         5              5              5              5  \n",
       "unique                        2              2              4              5  \n",
       "top     dark with street lights    functioning     2009-01-11       07:25:00  \n",
       "freq                          3              4              2              1  \n",
       "mean                        NaN            NaN            NaN            NaN  \n",
       "std                         NaN            NaN            NaN            NaN  \n",
       "min                         NaN            NaN            NaN            NaN  \n",
       "25%                         NaN            NaN            NaN            NaN  \n",
       "50%                         NaN            NaN            NaN            NaN  \n",
       "75%                         NaN            NaN            NaN            NaN  \n",
       "max                         NaN            NaN            NaN            NaN  "
      ]
     },
     "execution_count": 13,
     "metadata": {},
     "output_type": "execute_result"
    }
   ],
   "source": [
    "collisions.describe(include='all')"
   ]
  },
  {
   "cell_type": "code",
   "execution_count": 14,
   "id": "4341c794",
   "metadata": {},
   "outputs": [
    {
     "data": {
      "text/html": [
       "<div>\n",
       "<style scoped>\n",
       "    .dataframe tbody tr th:only-of-type {\n",
       "        vertical-align: middle;\n",
       "    }\n",
       "\n",
       "    .dataframe tbody tr th {\n",
       "        vertical-align: top;\n",
       "    }\n",
       "\n",
       "    .dataframe thead th {\n",
       "        text-align: right;\n",
       "    }\n",
       "</style>\n",
       "<table border=\"1\" class=\"dataframe\">\n",
       "  <thead>\n",
       "    <tr style=\"text-align: right;\">\n",
       "      <th></th>\n",
       "      <th>id</th>\n",
       "      <th>case_id</th>\n",
       "      <th>party_number</th>\n",
       "      <th>party_type</th>\n",
       "      <th>at_fault</th>\n",
       "      <th>insurance_premium</th>\n",
       "      <th>party_sobriety</th>\n",
       "      <th>party_drug_physical</th>\n",
       "      <th>cellphone_in_use</th>\n",
       "    </tr>\n",
       "  </thead>\n",
       "  <tbody>\n",
       "    <tr>\n",
       "      <th>count</th>\n",
       "      <td>5.000000</td>\n",
       "      <td>5</td>\n",
       "      <td>5.000000</td>\n",
       "      <td>5</td>\n",
       "      <td>5.000000</td>\n",
       "      <td>4.000000</td>\n",
       "      <td>5</td>\n",
       "      <td>1</td>\n",
       "      <td>5.0</td>\n",
       "    </tr>\n",
       "    <tr>\n",
       "      <th>unique</th>\n",
       "      <td>NaN</td>\n",
       "      <td>4</td>\n",
       "      <td>NaN</td>\n",
       "      <td>3</td>\n",
       "      <td>NaN</td>\n",
       "      <td>NaN</td>\n",
       "      <td>2</td>\n",
       "      <td>1</td>\n",
       "      <td>NaN</td>\n",
       "    </tr>\n",
       "    <tr>\n",
       "      <th>top</th>\n",
       "      <td>NaN</td>\n",
       "      <td>3899454</td>\n",
       "      <td>NaN</td>\n",
       "      <td>road signs</td>\n",
       "      <td>NaN</td>\n",
       "      <td>NaN</td>\n",
       "      <td>had not been drinking</td>\n",
       "      <td>not applicable</td>\n",
       "      <td>NaN</td>\n",
       "    </tr>\n",
       "    <tr>\n",
       "      <th>freq</th>\n",
       "      <td>NaN</td>\n",
       "      <td>2</td>\n",
       "      <td>NaN</td>\n",
       "      <td>3</td>\n",
       "      <td>NaN</td>\n",
       "      <td>NaN</td>\n",
       "      <td>4</td>\n",
       "      <td>1</td>\n",
       "      <td>NaN</td>\n",
       "    </tr>\n",
       "    <tr>\n",
       "      <th>mean</th>\n",
       "      <td>29.200000</td>\n",
       "      <td>NaN</td>\n",
       "      <td>1.800000</td>\n",
       "      <td>NaN</td>\n",
       "      <td>0.200000</td>\n",
       "      <td>20.250000</td>\n",
       "      <td>NaN</td>\n",
       "      <td>NaN</td>\n",
       "      <td>0.0</td>\n",
       "    </tr>\n",
       "    <tr>\n",
       "      <th>std</th>\n",
       "      <td>7.628892</td>\n",
       "      <td>NaN</td>\n",
       "      <td>0.447214</td>\n",
       "      <td>NaN</td>\n",
       "      <td>0.447214</td>\n",
       "      <td>9.429563</td>\n",
       "      <td>NaN</td>\n",
       "      <td>NaN</td>\n",
       "      <td>0.0</td>\n",
       "    </tr>\n",
       "    <tr>\n",
       "      <th>min</th>\n",
       "      <td>22.000000</td>\n",
       "      <td>NaN</td>\n",
       "      <td>1.000000</td>\n",
       "      <td>NaN</td>\n",
       "      <td>0.000000</td>\n",
       "      <td>7.000000</td>\n",
       "      <td>NaN</td>\n",
       "      <td>NaN</td>\n",
       "      <td>0.0</td>\n",
       "    </tr>\n",
       "    <tr>\n",
       "      <th>25%</th>\n",
       "      <td>23.000000</td>\n",
       "      <td>NaN</td>\n",
       "      <td>2.000000</td>\n",
       "      <td>NaN</td>\n",
       "      <td>0.000000</td>\n",
       "      <td>17.500000</td>\n",
       "      <td>NaN</td>\n",
       "      <td>NaN</td>\n",
       "      <td>0.0</td>\n",
       "    </tr>\n",
       "    <tr>\n",
       "      <th>50%</th>\n",
       "      <td>29.000000</td>\n",
       "      <td>NaN</td>\n",
       "      <td>2.000000</td>\n",
       "      <td>NaN</td>\n",
       "      <td>0.000000</td>\n",
       "      <td>22.500000</td>\n",
       "      <td>NaN</td>\n",
       "      <td>NaN</td>\n",
       "      <td>0.0</td>\n",
       "    </tr>\n",
       "    <tr>\n",
       "      <th>75%</th>\n",
       "      <td>31.000000</td>\n",
       "      <td>NaN</td>\n",
       "      <td>2.000000</td>\n",
       "      <td>NaN</td>\n",
       "      <td>0.000000</td>\n",
       "      <td>25.250000</td>\n",
       "      <td>NaN</td>\n",
       "      <td>NaN</td>\n",
       "      <td>0.0</td>\n",
       "    </tr>\n",
       "    <tr>\n",
       "      <th>max</th>\n",
       "      <td>41.000000</td>\n",
       "      <td>NaN</td>\n",
       "      <td>2.000000</td>\n",
       "      <td>NaN</td>\n",
       "      <td>1.000000</td>\n",
       "      <td>29.000000</td>\n",
       "      <td>NaN</td>\n",
       "      <td>NaN</td>\n",
       "      <td>0.0</td>\n",
       "    </tr>\n",
       "  </tbody>\n",
       "</table>\n",
       "</div>"
      ],
      "text/plain": [
       "               id  case_id  party_number  party_type  at_fault  \\\n",
       "count    5.000000        5      5.000000           5  5.000000   \n",
       "unique        NaN        4           NaN           3       NaN   \n",
       "top           NaN  3899454           NaN  road signs       NaN   \n",
       "freq          NaN        2           NaN           3       NaN   \n",
       "mean    29.200000      NaN      1.800000         NaN  0.200000   \n",
       "std      7.628892      NaN      0.447214         NaN  0.447214   \n",
       "min     22.000000      NaN      1.000000         NaN  0.000000   \n",
       "25%     23.000000      NaN      2.000000         NaN  0.000000   \n",
       "50%     29.000000      NaN      2.000000         NaN  0.000000   \n",
       "75%     31.000000      NaN      2.000000         NaN  0.000000   \n",
       "max     41.000000      NaN      2.000000         NaN  1.000000   \n",
       "\n",
       "        insurance_premium         party_sobriety party_drug_physical  \\\n",
       "count            4.000000                      5                   1   \n",
       "unique                NaN                      2                   1   \n",
       "top                   NaN  had not been drinking      not applicable   \n",
       "freq                  NaN                      4                   1   \n",
       "mean            20.250000                    NaN                 NaN   \n",
       "std              9.429563                    NaN                 NaN   \n",
       "min              7.000000                    NaN                 NaN   \n",
       "25%             17.500000                    NaN                 NaN   \n",
       "50%             22.500000                    NaN                 NaN   \n",
       "75%             25.250000                    NaN                 NaN   \n",
       "max             29.000000                    NaN                 NaN   \n",
       "\n",
       "        cellphone_in_use  \n",
       "count                5.0  \n",
       "unique               NaN  \n",
       "top                  NaN  \n",
       "freq                 NaN  \n",
       "mean                 0.0  \n",
       "std                  0.0  \n",
       "min                  0.0  \n",
       "25%                  0.0  \n",
       "50%                  0.0  \n",
       "75%                  0.0  \n",
       "max                  0.0  "
      ]
     },
     "execution_count": 14,
     "metadata": {},
     "output_type": "execute_result"
    }
   ],
   "source": [
    "parties.describe(include='all')"
   ]
  },
  {
   "cell_type": "code",
   "execution_count": 15,
   "id": "a8c268a5",
   "metadata": {},
   "outputs": [
    {
     "data": {
      "text/html": [
       "<div>\n",
       "<style scoped>\n",
       "    .dataframe tbody tr th:only-of-type {\n",
       "        vertical-align: middle;\n",
       "    }\n",
       "\n",
       "    .dataframe tbody tr th {\n",
       "        vertical-align: top;\n",
       "    }\n",
       "\n",
       "    .dataframe thead th {\n",
       "        text-align: right;\n",
       "    }\n",
       "</style>\n",
       "<table border=\"1\" class=\"dataframe\">\n",
       "  <thead>\n",
       "    <tr style=\"text-align: right;\">\n",
       "      <th></th>\n",
       "      <th>id</th>\n",
       "      <th>case_id</th>\n",
       "      <th>party_number</th>\n",
       "      <th>vehicle_type</th>\n",
       "      <th>vehicle_transmission</th>\n",
       "      <th>vehicle_age</th>\n",
       "    </tr>\n",
       "  </thead>\n",
       "  <tbody>\n",
       "    <tr>\n",
       "      <th>count</th>\n",
       "      <td>5.000000e+00</td>\n",
       "      <td>5</td>\n",
       "      <td>5.00000</td>\n",
       "      <td>5</td>\n",
       "      <td>5</td>\n",
       "      <td>5.000000</td>\n",
       "    </tr>\n",
       "    <tr>\n",
       "      <th>unique</th>\n",
       "      <td>NaN</td>\n",
       "      <td>5</td>\n",
       "      <td>NaN</td>\n",
       "      <td>1</td>\n",
       "      <td>2</td>\n",
       "      <td>NaN</td>\n",
       "    </tr>\n",
       "    <tr>\n",
       "      <th>top</th>\n",
       "      <td>NaN</td>\n",
       "      <td>3858022</td>\n",
       "      <td>NaN</td>\n",
       "      <td>sedan</td>\n",
       "      <td>auto</td>\n",
       "      <td>NaN</td>\n",
       "    </tr>\n",
       "    <tr>\n",
       "      <th>freq</th>\n",
       "      <td>NaN</td>\n",
       "      <td>1</td>\n",
       "      <td>NaN</td>\n",
       "      <td>5</td>\n",
       "      <td>4</td>\n",
       "      <td>NaN</td>\n",
       "    </tr>\n",
       "    <tr>\n",
       "      <th>mean</th>\n",
       "      <td>9.405730e+05</td>\n",
       "      <td>NaN</td>\n",
       "      <td>1.80000</td>\n",
       "      <td>NaN</td>\n",
       "      <td>NaN</td>\n",
       "      <td>3.800000</td>\n",
       "    </tr>\n",
       "    <tr>\n",
       "      <th>std</th>\n",
       "      <td>5.257957e+05</td>\n",
       "      <td>NaN</td>\n",
       "      <td>0.83666</td>\n",
       "      <td>NaN</td>\n",
       "      <td>NaN</td>\n",
       "      <td>1.095445</td>\n",
       "    </tr>\n",
       "    <tr>\n",
       "      <th>min</th>\n",
       "      <td>1.000000e+00</td>\n",
       "      <td>NaN</td>\n",
       "      <td>1.00000</td>\n",
       "      <td>NaN</td>\n",
       "      <td>NaN</td>\n",
       "      <td>3.000000</td>\n",
       "    </tr>\n",
       "    <tr>\n",
       "      <th>25%</th>\n",
       "      <td>1.175712e+06</td>\n",
       "      <td>NaN</td>\n",
       "      <td>1.00000</td>\n",
       "      <td>NaN</td>\n",
       "      <td>NaN</td>\n",
       "      <td>3.000000</td>\n",
       "    </tr>\n",
       "    <tr>\n",
       "      <th>50%</th>\n",
       "      <td>1.175713e+06</td>\n",
       "      <td>NaN</td>\n",
       "      <td>2.00000</td>\n",
       "      <td>NaN</td>\n",
       "      <td>NaN</td>\n",
       "      <td>3.000000</td>\n",
       "    </tr>\n",
       "    <tr>\n",
       "      <th>75%</th>\n",
       "      <td>1.175717e+06</td>\n",
       "      <td>NaN</td>\n",
       "      <td>2.00000</td>\n",
       "      <td>NaN</td>\n",
       "      <td>NaN</td>\n",
       "      <td>5.000000</td>\n",
       "    </tr>\n",
       "    <tr>\n",
       "      <th>max</th>\n",
       "      <td>1.175722e+06</td>\n",
       "      <td>NaN</td>\n",
       "      <td>3.00000</td>\n",
       "      <td>NaN</td>\n",
       "      <td>NaN</td>\n",
       "      <td>5.000000</td>\n",
       "    </tr>\n",
       "  </tbody>\n",
       "</table>\n",
       "</div>"
      ],
      "text/plain": [
       "                  id  case_id  party_number vehicle_type vehicle_transmission  \\\n",
       "count   5.000000e+00        5       5.00000            5                    5   \n",
       "unique           NaN        5           NaN            1                    2   \n",
       "top              NaN  3858022           NaN        sedan                 auto   \n",
       "freq             NaN        1           NaN            5                    4   \n",
       "mean    9.405730e+05      NaN       1.80000          NaN                  NaN   \n",
       "std     5.257957e+05      NaN       0.83666          NaN                  NaN   \n",
       "min     1.000000e+00      NaN       1.00000          NaN                  NaN   \n",
       "25%     1.175712e+06      NaN       1.00000          NaN                  NaN   \n",
       "50%     1.175713e+06      NaN       2.00000          NaN                  NaN   \n",
       "75%     1.175717e+06      NaN       2.00000          NaN                  NaN   \n",
       "max     1.175722e+06      NaN       3.00000          NaN                  NaN   \n",
       "\n",
       "        vehicle_age  \n",
       "count      5.000000  \n",
       "unique          NaN  \n",
       "top             NaN  \n",
       "freq            NaN  \n",
       "mean       3.800000  \n",
       "std        1.095445  \n",
       "min        3.000000  \n",
       "25%        3.000000  \n",
       "50%        3.000000  \n",
       "75%        5.000000  \n",
       "max        5.000000  "
      ]
     },
     "execution_count": 15,
     "metadata": {},
     "output_type": "execute_result"
    }
   ],
   "source": [
    "vehicles.describe(include='all')"
   ]
  },
  {
   "cell_type": "code",
   "execution_count": 16,
   "id": "f4d4aa95",
   "metadata": {},
   "outputs": [
    {
     "data": {
      "text/html": [
       "<div>\n",
       "<style scoped>\n",
       "    .dataframe tbody tr th:only-of-type {\n",
       "        vertical-align: middle;\n",
       "    }\n",
       "\n",
       "    .dataframe tbody tr th {\n",
       "        vertical-align: top;\n",
       "    }\n",
       "\n",
       "    .dataframe thead th {\n",
       "        text-align: right;\n",
       "    }\n",
       "</style>\n",
       "<table border=\"1\" class=\"dataframe\">\n",
       "  <thead>\n",
       "    <tr style=\"text-align: right;\">\n",
       "      <th></th>\n",
       "      <th>case_id</th>\n",
       "      <th>db_year</th>\n",
       "    </tr>\n",
       "  </thead>\n",
       "  <tbody>\n",
       "    <tr>\n",
       "      <th>count</th>\n",
       "      <td>5</td>\n",
       "      <td>5</td>\n",
       "    </tr>\n",
       "    <tr>\n",
       "      <th>unique</th>\n",
       "      <td>5</td>\n",
       "      <td>1</td>\n",
       "    </tr>\n",
       "    <tr>\n",
       "      <th>top</th>\n",
       "      <td>3858022</td>\n",
       "      <td>2021</td>\n",
       "    </tr>\n",
       "    <tr>\n",
       "      <th>freq</th>\n",
       "      <td>1</td>\n",
       "      <td>5</td>\n",
       "    </tr>\n",
       "  </tbody>\n",
       "</table>\n",
       "</div>"
      ],
      "text/plain": [
       "        case_id db_year\n",
       "count         5       5\n",
       "unique        5       1\n",
       "top     3858022    2021\n",
       "freq          1       5"
      ]
     },
     "execution_count": 16,
     "metadata": {},
     "output_type": "execute_result"
    }
   ],
   "source": [
    "case_ids.describe(include='all')"
   ]
  },
  {
   "cell_type": "markdown",
   "id": "186f8622",
   "metadata": {},
   "source": [
    "**Выводы**"
   ]
  },
  {
   "cell_type": "markdown",
   "id": "a14d6577",
   "metadata": {},
   "source": [
    "- Записей о происшествиях 1400000, а записей об автомобилях меньше, всего 1021234\n",
    "- В таблице case_ids содержится бесполезная для анализа информация, так как каждому case_id ней соответствует db_year = 2021\n",
    "- У всех таблиц есть общий ключ case_id"
   ]
  },
  {
   "cell_type": "markdown",
   "id": "7f21b3df",
   "metadata": {},
   "source": [
    "##  Проведём статистический анализ факторов ДТП"
   ]
  },
  {
   "cell_type": "markdown",
   "id": "754b5498",
   "metadata": {},
   "source": [
    "**Выясним, в какие месяцы происходит наибольшее количество аварий. Проанализируем весь период наблюдений**"
   ]
  },
  {
   "cell_type": "code",
   "execution_count": 17,
   "id": "9421bd73",
   "metadata": {},
   "outputs": [],
   "source": [
    "query = '''\n",
    "SELECT EXTRACT(month FROM collision_date)::int as month,\n",
    "       COUNT(case_id) as collis_cnt\n",
    "FROM collisions\n",
    "GROUP BY month\n",
    "ORDER BY collis_cnt DESC;\n",
    "'''\n",
    "\n",
    "collision_per_month = pd.read_sql_query(query, con=engine)"
   ]
  },
  {
   "cell_type": "code",
   "execution_count": 18,
   "id": "9cf453f5",
   "metadata": {},
   "outputs": [
    {
     "data": {
      "image/png": "[encoded data removed]",
      "text/plain": [
       "<Figure size 720x504 with 1 Axes>"
      ]
     },
     "metadata": {
      "needs_background": "light"
     },
     "output_type": "display_data"
    }
   ],
   "source": [
    "collision_per_month.index = collision_per_month['month']\n",
    "collision_per_month['collis_cnt'].plot(kind='bar', figsize=(10,7), rot=0)\n",
    "plt.xlabel('Номер месяца')\n",
    "plt.ylabel('Количество ДТП')\n",
    "plt.show()"
   ]
  },
  {
   "cell_type": "markdown",
   "id": "29f1cfb7",
   "metadata": {},
   "source": [
    "**Вывод**\n",
    "- Наибольшее число ДТП - в марте(вероятно могут сказаться обстоятельства смены зимнего сезона, такие как необходимость менять резину)\n",
    "- Наименьшее количство ДТП в июле\n",
    "- В первой половине года больше ДТП, чем во второй половине"
   ]
  },
  {
   "cell_type": "markdown",
   "id": "fdc1d3da",
   "metadata": {},
   "source": [
    "**Задачи для анализа**"
   ]
  },
  {
   "cell_type": "markdown",
   "id": "22445449",
   "metadata": {},
   "source": [
    "* Какая была погода в день марта 2009 года с самым большим количиством ДТП за месяц.\n",
    "* Вывести самый большой возраст автомобиля попавшего в ДТП.\n",
    "* В какой месяц было больше всего ДТП с участием автомобилей с типом кузова MINIVAN?\n",
    "* Какой процент попадающих в ДТП водителей были в сонном/усталом состоянии?\n",
    "* Какова максимальная сумма страховки автомобиля, попавшего в аварию.\n",
    "* Автомобили с каким типом КПП попадают в ДТП реже всего в туманную погоду?"
   ]
  },
  {
   "cell_type": "markdown",
   "id": "ec8aa056",
   "metadata": {},
   "source": [
    "**Решения задач**"
   ]
  },
  {
   "cell_type": "markdown",
   "id": "33956ed4",
   "metadata": {},
   "source": [
    "В какой месяц было больше всего ДТП с участием автомобилей с типом кузова MINIVAN?"
   ]
  },
  {
   "cell_type": "code",
   "execution_count": 19,
   "id": "f5ae347e",
   "metadata": {},
   "outputs": [],
   "source": [
    "query = '''\n",
    "SELECT EXTRACT(month FROM collision_date)::int,\n",
    "       COUNT(DISTINCT(c.case_id))\n",
    "FROM collisions AS c\n",
    "LEFT JOIN vehicles AS v ON c.case_id=v.case_id\n",
    "WHERE vehicle_type = 'minivan'\n",
    "group by 1\n",
    "order by 2 DESC\n",
    "'''\n",
    "\n",
    "most_sedan_collis = pd.read_sql_query(query, con=engine) "
   ]
  },
  {
   "cell_type": "code",
   "execution_count": 20,
   "id": "c7d2bc62",
   "metadata": {},
   "outputs": [
    {
     "data": {
      "image/png": "[encoded data removed]",
      "text/plain": [
       "<Figure size 1080x720 with 1 Axes>"
      ]
     },
     "metadata": {
      "needs_background": "light"
     },
     "output_type": "display_data"
    }
   ],
   "source": [
    "most_sedan_collis.index = most_sedan_collis['date_part']\n",
    "most_sedan_collis = most_sedan_collis.drop('date_part', axis=1)\n",
    "most_sedan_collis.plot(kind='bar', figsize=(15,10), rot=0, fontsize=16)\n",
    "plt.xlabel('Номер месяца', fontsize=16)\n",
    "plt.ylabel('Количество ДТП', fontsize=16)\n",
    "plt.show()"
   ]
  },
  {
   "cell_type": "markdown",
   "id": "073ed27d",
   "metadata": {},
   "source": [
    "Как видно из графика автомобили с типом кузова MINIVAN попадают в аварии чаще всего в мае."
   ]
  },
  {
   "cell_type": "markdown",
   "id": "312cfba1",
   "metadata": {},
   "source": [
    "Автомобили с каким типом КПП попадают в ДТП реже всего в туманную погоду?"
   ]
  },
  {
   "cell_type": "code",
   "execution_count": 21,
   "id": "07caf877",
   "metadata": {},
   "outputs": [],
   "source": [
    "query = '''\n",
    "SELECT v.vehicle_transmission,\n",
    "       COUNT(DISTINCT(c.case_id))\n",
    "FROM collisions AS c\n",
    "LEFT JOIN vehicles AS v ON c.case_id=v.case_id\n",
    "WHERE weather_1 = 'fog'\n",
    "GROUP BY 1\n",
    "ORDER BY 2\n",
    "'''\n",
    "\n",
    "less_transmis = pd.read_sql_query(query, con=engine) "
   ]
  },
  {
   "cell_type": "code",
   "execution_count": 22,
   "id": "a4ec890c",
   "metadata": {},
   "outputs": [
    {
     "data": {
      "image/png": "[encoded data removed]",
      "text/plain": [
       "<Figure size 1080x720 with 1 Axes>"
      ]
     },
     "metadata": {
      "needs_background": "light"
     },
     "output_type": "display_data"
    }
   ],
   "source": [
    "less_transmis.index = less_transmis['vehicle_transmission']\n",
    "less_transmis = less_transmis.drop('vehicle_transmission', axis=1)\n",
    "less_transmis.plot(kind='bar', figsize=(15,10), rot=0, fontsize=16)\n",
    "plt.xlabel('Тип КПП', fontsize=16)\n",
    "plt.ylabel('Количество ДТП', fontsize=16)\n",
    "plt.show()"
   ]
  },
  {
   "cell_type": "markdown",
   "id": "1ac6dee8",
   "metadata": {},
   "source": [
    "Опираясь на полученный график можно сказать, что автомобили с автоматическим типом КПП попадают в аварии реже остальных в туманную погоду"
   ]
  },
  {
   "cell_type": "markdown",
   "id": "3c6b248d",
   "metadata": {},
   "source": [
    "## Создадим модель для оценки водительского риска"
   ]
  },
  {
   "cell_type": "code",
   "execution_count": 23,
   "id": "2e31b2a1",
   "metadata": {},
   "outputs": [],
   "source": [
    "del parties, collisions, less_transmis, most_sedan_collis"
   ]
  },
  {
   "cell_type": "markdown",
   "id": "414298a7",
   "metadata": {},
   "source": [
    "* Возьмем случаи, когда ДТП привело к любым значимым повреждениям автомобиля любого из участников — все, кроме типа SCRATCH (царапина).\n",
    "\n",
    "* Для моделирования также возьмем данные только за 2012 год."
   ]
  },
  {
   "cell_type": "code",
   "execution_count": 24,
   "id": "20cd7a75",
   "metadata": {},
   "outputs": [],
   "source": [
    "query = '''\n",
    "SELECT *\n",
    "FROM collisions\n",
    "where collision_damage <> 'scratch' and date_Trunc('year', collision_date)::date = '2012-01-01'\n",
    "'''\n",
    "\n",
    "collisions = pd.read_sql_query(query, con=engine) "
   ]
  },
  {
   "cell_type": "code",
   "execution_count": 25,
   "id": "98e42634",
   "metadata": {},
   "outputs": [
    {
     "data": {
      "text/html": [
       "<div>\n",
       "<style scoped>\n",
       "    .dataframe tbody tr th:only-of-type {\n",
       "        vertical-align: middle;\n",
       "    }\n",
       "\n",
       "    .dataframe tbody tr th {\n",
       "        vertical-align: top;\n",
       "    }\n",
       "\n",
       "    .dataframe thead th {\n",
       "        text-align: right;\n",
       "    }\n",
       "</style>\n",
       "<table border=\"1\" class=\"dataframe\">\n",
       "  <thead>\n",
       "    <tr style=\"text-align: right;\">\n",
       "      <th></th>\n",
       "      <th>case_id</th>\n",
       "      <th>county_city_location</th>\n",
       "      <th>county_location</th>\n",
       "      <th>distance</th>\n",
       "      <th>direction</th>\n",
       "      <th>intersection</th>\n",
       "      <th>weather_1</th>\n",
       "      <th>location_type</th>\n",
       "      <th>collision_damage</th>\n",
       "      <th>party_count</th>\n",
       "      <th>primary_collision_factor</th>\n",
       "      <th>pcf_violation_category</th>\n",
       "      <th>type_of_collision</th>\n",
       "      <th>motor_vehicle_involved_with</th>\n",
       "      <th>road_surface</th>\n",
       "      <th>road_condition_1</th>\n",
       "      <th>lighting</th>\n",
       "      <th>control_device</th>\n",
       "      <th>collision_date</th>\n",
       "      <th>collision_time</th>\n",
       "    </tr>\n",
       "  </thead>\n",
       "  <tbody>\n",
       "    <tr>\n",
       "      <th>0</th>\n",
       "      <td>5457328</td>\n",
       "      <td>3711</td>\n",
       "      <td>san diego</td>\n",
       "      <td>5.0</td>\n",
       "      <td>west</td>\n",
       "      <td>0.0</td>\n",
       "      <td>clear</td>\n",
       "      <td>None</td>\n",
       "      <td>middle damage</td>\n",
       "      <td>2</td>\n",
       "      <td>None</td>\n",
       "      <td>None</td>\n",
       "      <td>broadside</td>\n",
       "      <td>bicycle</td>\n",
       "      <td>dry</td>\n",
       "      <td>normal</td>\n",
       "      <td>daylight</td>\n",
       "      <td>none</td>\n",
       "      <td>2012-01-20</td>\n",
       "      <td>13:30:00</td>\n",
       "    </tr>\n",
       "    <tr>\n",
       "      <th>1</th>\n",
       "      <td>5125192</td>\n",
       "      <td>4312</td>\n",
       "      <td>santa clara</td>\n",
       "      <td>30.0</td>\n",
       "      <td>south</td>\n",
       "      <td>0.0</td>\n",
       "      <td>cloudy</td>\n",
       "      <td>None</td>\n",
       "      <td>small damage</td>\n",
       "      <td>2</td>\n",
       "      <td>vehicle code violation</td>\n",
       "      <td>unsafe starting or backing</td>\n",
       "      <td>other</td>\n",
       "      <td>parked motor vehicle</td>\n",
       "      <td>dry</td>\n",
       "      <td>normal</td>\n",
       "      <td>daylight</td>\n",
       "      <td>functioning</td>\n",
       "      <td>2012-03-16</td>\n",
       "      <td>14:35:00</td>\n",
       "    </tr>\n",
       "    <tr>\n",
       "      <th>2</th>\n",
       "      <td>5403029</td>\n",
       "      <td>4313</td>\n",
       "      <td>santa clara</td>\n",
       "      <td>0.0</td>\n",
       "      <td>None</td>\n",
       "      <td>1.0</td>\n",
       "      <td>fog</td>\n",
       "      <td>None</td>\n",
       "      <td>fatal</td>\n",
       "      <td>3</td>\n",
       "      <td>vehicle code violation</td>\n",
       "      <td>automobile right of way</td>\n",
       "      <td>broadside</td>\n",
       "      <td>other motor vehicle</td>\n",
       "      <td>wet</td>\n",
       "      <td>normal</td>\n",
       "      <td>daylight</td>\n",
       "      <td>None</td>\n",
       "      <td>2012-01-03</td>\n",
       "      <td>07:29:00</td>\n",
       "    </tr>\n",
       "    <tr>\n",
       "      <th>3</th>\n",
       "      <td>5403040</td>\n",
       "      <td>4000</td>\n",
       "      <td>san luis obispo</td>\n",
       "      <td>460.0</td>\n",
       "      <td>north</td>\n",
       "      <td>0.0</td>\n",
       "      <td>clear</td>\n",
       "      <td>None</td>\n",
       "      <td>fatal</td>\n",
       "      <td>1</td>\n",
       "      <td>vehicle code violation</td>\n",
       "      <td>improper turning</td>\n",
       "      <td>hit object</td>\n",
       "      <td>fixed object</td>\n",
       "      <td>dry</td>\n",
       "      <td>normal</td>\n",
       "      <td>daylight</td>\n",
       "      <td>none</td>\n",
       "      <td>2012-01-01</td>\n",
       "      <td>08:50:00</td>\n",
       "    </tr>\n",
       "    <tr>\n",
       "      <th>4</th>\n",
       "      <td>5403042</td>\n",
       "      <td>1942</td>\n",
       "      <td>los angeles</td>\n",
       "      <td>0.0</td>\n",
       "      <td>None</td>\n",
       "      <td>1.0</td>\n",
       "      <td>clear</td>\n",
       "      <td>None</td>\n",
       "      <td>fatal</td>\n",
       "      <td>2</td>\n",
       "      <td>vehicle code violation</td>\n",
       "      <td>dui</td>\n",
       "      <td>broadside</td>\n",
       "      <td>other motor vehicle</td>\n",
       "      <td>dry</td>\n",
       "      <td>normal</td>\n",
       "      <td>dark with street lights</td>\n",
       "      <td>functioning</td>\n",
       "      <td>2012-01-03</td>\n",
       "      <td>00:45:00</td>\n",
       "    </tr>\n",
       "    <tr>\n",
       "      <th>...</th>\n",
       "      <td>...</td>\n",
       "      <td>...</td>\n",
       "      <td>...</td>\n",
       "      <td>...</td>\n",
       "      <td>...</td>\n",
       "      <td>...</td>\n",
       "      <td>...</td>\n",
       "      <td>...</td>\n",
       "      <td>...</td>\n",
       "      <td>...</td>\n",
       "      <td>...</td>\n",
       "      <td>...</td>\n",
       "      <td>...</td>\n",
       "      <td>...</td>\n",
       "      <td>...</td>\n",
       "      <td>...</td>\n",
       "      <td>...</td>\n",
       "      <td>...</td>\n",
       "      <td>...</td>\n",
       "      <td>...</td>\n",
       "    </tr>\n",
       "    <tr>\n",
       "      <th>115661</th>\n",
       "      <td>5461488</td>\n",
       "      <td>1942</td>\n",
       "      <td>los angeles</td>\n",
       "      <td>292.0</td>\n",
       "      <td>north</td>\n",
       "      <td>0.0</td>\n",
       "      <td>clear</td>\n",
       "      <td>None</td>\n",
       "      <td>middle damage</td>\n",
       "      <td>2</td>\n",
       "      <td>vehicle code violation</td>\n",
       "      <td>pedestrian violation</td>\n",
       "      <td>other</td>\n",
       "      <td>other object</td>\n",
       "      <td>dry</td>\n",
       "      <td>normal</td>\n",
       "      <td>daylight</td>\n",
       "      <td>functioning</td>\n",
       "      <td>2012-01-24</td>\n",
       "      <td>15:30:00</td>\n",
       "    </tr>\n",
       "    <tr>\n",
       "      <th>115662</th>\n",
       "      <td>5461486</td>\n",
       "      <td>1910</td>\n",
       "      <td>los angeles</td>\n",
       "      <td>773.0</td>\n",
       "      <td>east</td>\n",
       "      <td>0.0</td>\n",
       "      <td>clear</td>\n",
       "      <td>None</td>\n",
       "      <td>middle damage</td>\n",
       "      <td>2</td>\n",
       "      <td>unknown</td>\n",
       "      <td>unknown</td>\n",
       "      <td>other</td>\n",
       "      <td>other object</td>\n",
       "      <td>dry</td>\n",
       "      <td>normal</td>\n",
       "      <td>daylight</td>\n",
       "      <td>none</td>\n",
       "      <td>2012-01-04</td>\n",
       "      <td>14:47:00</td>\n",
       "    </tr>\n",
       "    <tr>\n",
       "      <th>115663</th>\n",
       "      <td>5461622</td>\n",
       "      <td>3711</td>\n",
       "      <td>san diego</td>\n",
       "      <td>528.0</td>\n",
       "      <td>north</td>\n",
       "      <td>0.0</td>\n",
       "      <td>clear</td>\n",
       "      <td>None</td>\n",
       "      <td>middle damage</td>\n",
       "      <td>2</td>\n",
       "      <td>vehicle code violation</td>\n",
       "      <td>pedestrian violation</td>\n",
       "      <td>other</td>\n",
       "      <td>other object</td>\n",
       "      <td>dry</td>\n",
       "      <td>normal</td>\n",
       "      <td>daylight</td>\n",
       "      <td>none</td>\n",
       "      <td>2012-01-07</td>\n",
       "      <td>16:52:00</td>\n",
       "    </tr>\n",
       "    <tr>\n",
       "      <th>115664</th>\n",
       "      <td>5461642</td>\n",
       "      <td>3711</td>\n",
       "      <td>san diego</td>\n",
       "      <td>6.0</td>\n",
       "      <td>east</td>\n",
       "      <td>0.0</td>\n",
       "      <td>clear</td>\n",
       "      <td>None</td>\n",
       "      <td>middle damage</td>\n",
       "      <td>2</td>\n",
       "      <td>vehicle code violation</td>\n",
       "      <td>pedestrian right of way</td>\n",
       "      <td>other</td>\n",
       "      <td>other object</td>\n",
       "      <td>dry</td>\n",
       "      <td>normal</td>\n",
       "      <td>daylight</td>\n",
       "      <td>functioning</td>\n",
       "      <td>2012-01-26</td>\n",
       "      <td>16:04:00</td>\n",
       "    </tr>\n",
       "    <tr>\n",
       "      <th>115665</th>\n",
       "      <td>5461753</td>\n",
       "      <td>1942</td>\n",
       "      <td>los angeles</td>\n",
       "      <td>10.0</td>\n",
       "      <td>west</td>\n",
       "      <td>0.0</td>\n",
       "      <td>clear</td>\n",
       "      <td>None</td>\n",
       "      <td>middle damage</td>\n",
       "      <td>2</td>\n",
       "      <td>vehicle code violation</td>\n",
       "      <td>pedestrian right of way</td>\n",
       "      <td>other</td>\n",
       "      <td>other object</td>\n",
       "      <td>dry</td>\n",
       "      <td>normal</td>\n",
       "      <td>daylight</td>\n",
       "      <td>functioning</td>\n",
       "      <td>2012-01-12</td>\n",
       "      <td>10:00:00</td>\n",
       "    </tr>\n",
       "  </tbody>\n",
       "</table>\n",
       "<p>115666 rows × 20 columns</p>\n",
       "</div>"
      ],
      "text/plain": [
       "        case_id county_city_location  county_location  distance direction  \\\n",
       "0       5457328                 3711        san diego       5.0      west   \n",
       "1       5125192                 4312      santa clara      30.0     south   \n",
       "2       5403029                 4313      santa clara       0.0      None   \n",
       "3       5403040                 4000  san luis obispo     460.0     north   \n",
       "4       5403042                 1942      los angeles       0.0      None   \n",
       "...         ...                  ...              ...       ...       ...   \n",
       "115661  5461488                 1942      los angeles     292.0     north   \n",
       "115662  5461486                 1910      los angeles     773.0      east   \n",
       "115663  5461622                 3711        san diego     528.0     north   \n",
       "115664  5461642                 3711        san diego       6.0      east   \n",
       "115665  5461753                 1942      los angeles      10.0      west   \n",
       "\n",
       "        intersection weather_1 location_type collision_damage  party_count  \\\n",
       "0                0.0     clear          None    middle damage            2   \n",
       "1                0.0    cloudy          None     small damage            2   \n",
       "2                1.0       fog          None            fatal            3   \n",
       "3                0.0     clear          None            fatal            1   \n",
       "4                1.0     clear          None            fatal            2   \n",
       "...              ...       ...           ...              ...          ...   \n",
       "115661           0.0     clear          None    middle damage            2   \n",
       "115662           0.0     clear          None    middle damage            2   \n",
       "115663           0.0     clear          None    middle damage            2   \n",
       "115664           0.0     clear          None    middle damage            2   \n",
       "115665           0.0     clear          None    middle damage            2   \n",
       "\n",
       "       primary_collision_factor      pcf_violation_category type_of_collision  \\\n",
       "0                          None                        None         broadside   \n",
       "1        vehicle code violation  unsafe starting or backing             other   \n",
       "2        vehicle code violation     automobile right of way         broadside   \n",
       "3        vehicle code violation            improper turning        hit object   \n",
       "4        vehicle code violation                         dui         broadside   \n",
       "...                         ...                         ...               ...   \n",
       "115661   vehicle code violation        pedestrian violation             other   \n",
       "115662                  unknown                     unknown             other   \n",
       "115663   vehicle code violation        pedestrian violation             other   \n",
       "115664   vehicle code violation     pedestrian right of way             other   \n",
       "115665   vehicle code violation     pedestrian right of way             other   \n",
       "\n",
       "       motor_vehicle_involved_with road_surface road_condition_1  \\\n",
       "0                          bicycle          dry           normal   \n",
       "1             parked motor vehicle          dry           normal   \n",
       "2              other motor vehicle          wet           normal   \n",
       "3                     fixed object          dry           normal   \n",
       "4              other motor vehicle          dry           normal   \n",
       "...                            ...          ...              ...   \n",
       "115661                other object          dry           normal   \n",
       "115662                other object          dry           normal   \n",
       "115663                other object          dry           normal   \n",
       "115664                other object          dry           normal   \n",
       "115665                other object          dry           normal   \n",
       "\n",
       "                       lighting control_device collision_date collision_time  \n",
       "0                      daylight           none     2012-01-20       13:30:00  \n",
       "1                      daylight    functioning     2012-03-16       14:35:00  \n",
       "2                      daylight           None     2012-01-03       07:29:00  \n",
       "3                      daylight           none     2012-01-01       08:50:00  \n",
       "4       dark with street lights    functioning     2012-01-03       00:45:00  \n",
       "...                         ...            ...            ...            ...  \n",
       "115661                 daylight    functioning     2012-01-24       15:30:00  \n",
       "115662                 daylight           none     2012-01-04       14:47:00  \n",
       "115663                 daylight           none     2012-01-07       16:52:00  \n",
       "115664                 daylight    functioning     2012-01-26       16:04:00  \n",
       "115665                 daylight    functioning     2012-01-12       10:00:00  \n",
       "\n",
       "[115666 rows x 20 columns]"
      ]
     },
     "execution_count": 25,
     "metadata": {},
     "output_type": "execute_result"
    }
   ],
   "source": [
    "collisions"
   ]
  },
  {
   "cell_type": "markdown",
   "id": "e35b0205",
   "metadata": {},
   "source": [
    "* Выберем тип виновника — только машина (car)."
   ]
  },
  {
   "cell_type": "code",
   "execution_count": 26,
   "id": "15c0a90a",
   "metadata": {},
   "outputs": [],
   "source": [
    "query = '''\n",
    "SELECT *\n",
    "FROM parties\n",
    "WHERE party_type = 'car';\n",
    "'''\n",
    "\n",
    "parties = pd.read_sql_query(query, con=engine)"
   ]
  },
  {
   "cell_type": "code",
   "execution_count": 27,
   "id": "222c8359",
   "metadata": {},
   "outputs": [],
   "source": [
    "query = '''\n",
    "SELECT *\n",
    "FROM vehicles\n",
    "'''\n",
    "\n",
    "vehicles = pd.read_sql_query(query, con=engine)"
   ]
  },
  {
   "cell_type": "markdown",
   "id": "6485d1d0",
   "metadata": {},
   "source": [
    "**Проведем первичный отбор факторов, необходимых для модели**"
   ]
  },
  {
   "cell_type": "code",
   "execution_count": 28,
   "id": "6a615e1e",
   "metadata": {},
   "outputs": [],
   "source": [
    "columns =['party_type',     # Тип участника происшествия. Таблица parties\n",
    "          'party_sobriety', # Уровень трезвости виновника (точно может влиять) Таблица parties\n",
    "          'weather_1',      # Погода (может влиять) Таблица collisions\n",
    "          'road_surface',   # Состояние дороги (может влиять) Таблица collisions\n",
    "          'lighting',       # Освещение (может влиять) Таблица collisions\n",
    "          'location_type',  # Тип дороги (может влиять) Таблица collisions\n",
    "          'road_condition_1',# Дорожное состояние (может влиять) Таблица collisions\n",
    "          'control_device',\n",
    "          'party_drug_physical',\n",
    "          'vehicle_transmission'\n",
    "          ]"
   ]
  },
  {
   "cell_type": "code",
   "execution_count": 29,
   "id": "65769006",
   "metadata": {},
   "outputs": [],
   "source": [
    "data = collisions.merge(parties.merge(vehicles, how='left', on=['case_id','party_number']), how='inner', on='case_id')"
   ]
  },
  {
   "cell_type": "code",
   "execution_count": 30,
   "id": "6e66c51b",
   "metadata": {},
   "outputs": [
    {
     "data": {
      "text/html": [
       "<div>\n",
       "<style scoped>\n",
       "    .dataframe tbody tr th:only-of-type {\n",
       "        vertical-align: middle;\n",
       "    }\n",
       "\n",
       "    .dataframe tbody tr th {\n",
       "        vertical-align: top;\n",
       "    }\n",
       "\n",
       "    .dataframe thead th {\n",
       "        text-align: right;\n",
       "    }\n",
       "</style>\n",
       "<table border=\"1\" class=\"dataframe\">\n",
       "  <thead>\n",
       "    <tr style=\"text-align: right;\">\n",
       "      <th></th>\n",
       "      <th>case_id</th>\n",
       "      <th>county_city_location</th>\n",
       "      <th>county_location</th>\n",
       "      <th>distance</th>\n",
       "      <th>direction</th>\n",
       "      <th>intersection</th>\n",
       "      <th>weather_1</th>\n",
       "      <th>location_type</th>\n",
       "      <th>collision_damage</th>\n",
       "      <th>party_count</th>\n",
       "      <th>...</th>\n",
       "      <th>party_type</th>\n",
       "      <th>at_fault</th>\n",
       "      <th>insurance_premium</th>\n",
       "      <th>party_sobriety</th>\n",
       "      <th>party_drug_physical</th>\n",
       "      <th>cellphone_in_use</th>\n",
       "      <th>id_y</th>\n",
       "      <th>vehicle_type</th>\n",
       "      <th>vehicle_transmission</th>\n",
       "      <th>vehicle_age</th>\n",
       "    </tr>\n",
       "  </thead>\n",
       "  <tbody>\n",
       "    <tr>\n",
       "      <th>0</th>\n",
       "      <td>5457328</td>\n",
       "      <td>3711</td>\n",
       "      <td>san diego</td>\n",
       "      <td>5.0</td>\n",
       "      <td>west</td>\n",
       "      <td>0.0</td>\n",
       "      <td>clear</td>\n",
       "      <td>None</td>\n",
       "      <td>middle damage</td>\n",
       "      <td>2</td>\n",
       "      <td>...</td>\n",
       "      <td>car</td>\n",
       "      <td>0</td>\n",
       "      <td>23.0</td>\n",
       "      <td>had not been drinking</td>\n",
       "      <td>None</td>\n",
       "      <td>0.0</td>\n",
       "      <td>NaN</td>\n",
       "      <td>NaN</td>\n",
       "      <td>NaN</td>\n",
       "      <td>NaN</td>\n",
       "    </tr>\n",
       "    <tr>\n",
       "      <th>1</th>\n",
       "      <td>5125192</td>\n",
       "      <td>4312</td>\n",
       "      <td>santa clara</td>\n",
       "      <td>30.0</td>\n",
       "      <td>south</td>\n",
       "      <td>0.0</td>\n",
       "      <td>cloudy</td>\n",
       "      <td>None</td>\n",
       "      <td>small damage</td>\n",
       "      <td>2</td>\n",
       "      <td>...</td>\n",
       "      <td>car</td>\n",
       "      <td>1</td>\n",
       "      <td>49.0</td>\n",
       "      <td>had not been drinking</td>\n",
       "      <td>None</td>\n",
       "      <td>0.0</td>\n",
       "      <td>NaN</td>\n",
       "      <td>NaN</td>\n",
       "      <td>NaN</td>\n",
       "      <td>NaN</td>\n",
       "    </tr>\n",
       "    <tr>\n",
       "      <th>2</th>\n",
       "      <td>5403029</td>\n",
       "      <td>4313</td>\n",
       "      <td>santa clara</td>\n",
       "      <td>0.0</td>\n",
       "      <td>None</td>\n",
       "      <td>1.0</td>\n",
       "      <td>fog</td>\n",
       "      <td>None</td>\n",
       "      <td>fatal</td>\n",
       "      <td>3</td>\n",
       "      <td>...</td>\n",
       "      <td>car</td>\n",
       "      <td>1</td>\n",
       "      <td>25.0</td>\n",
       "      <td>impairment unknown</td>\n",
       "      <td>G</td>\n",
       "      <td>NaN</td>\n",
       "      <td>1274766.0</td>\n",
       "      <td>coupe</td>\n",
       "      <td>auto</td>\n",
       "      <td>4.0</td>\n",
       "    </tr>\n",
       "    <tr>\n",
       "      <th>3</th>\n",
       "      <td>5403029</td>\n",
       "      <td>4313</td>\n",
       "      <td>santa clara</td>\n",
       "      <td>0.0</td>\n",
       "      <td>None</td>\n",
       "      <td>1.0</td>\n",
       "      <td>fog</td>\n",
       "      <td>None</td>\n",
       "      <td>fatal</td>\n",
       "      <td>3</td>\n",
       "      <td>...</td>\n",
       "      <td>car</td>\n",
       "      <td>0</td>\n",
       "      <td>18.0</td>\n",
       "      <td>had not been drinking</td>\n",
       "      <td>None</td>\n",
       "      <td>NaN</td>\n",
       "      <td>NaN</td>\n",
       "      <td>NaN</td>\n",
       "      <td>NaN</td>\n",
       "      <td>NaN</td>\n",
       "    </tr>\n",
       "    <tr>\n",
       "      <th>4</th>\n",
       "      <td>5403029</td>\n",
       "      <td>4313</td>\n",
       "      <td>santa clara</td>\n",
       "      <td>0.0</td>\n",
       "      <td>None</td>\n",
       "      <td>1.0</td>\n",
       "      <td>fog</td>\n",
       "      <td>None</td>\n",
       "      <td>fatal</td>\n",
       "      <td>3</td>\n",
       "      <td>...</td>\n",
       "      <td>car</td>\n",
       "      <td>0</td>\n",
       "      <td>16.0</td>\n",
       "      <td>had not been drinking</td>\n",
       "      <td>None</td>\n",
       "      <td>NaN</td>\n",
       "      <td>NaN</td>\n",
       "      <td>NaN</td>\n",
       "      <td>NaN</td>\n",
       "      <td>NaN</td>\n",
       "    </tr>\n",
       "  </tbody>\n",
       "</table>\n",
       "<p>5 rows × 32 columns</p>\n",
       "</div>"
      ],
      "text/plain": [
       "   case_id county_city_location county_location  distance direction  \\\n",
       "0  5457328                 3711       san diego       5.0      west   \n",
       "1  5125192                 4312     santa clara      30.0     south   \n",
       "2  5403029                 4313     santa clara       0.0      None   \n",
       "3  5403029                 4313     santa clara       0.0      None   \n",
       "4  5403029                 4313     santa clara       0.0      None   \n",
       "\n",
       "   intersection weather_1 location_type collision_damage  party_count  ...  \\\n",
       "0           0.0     clear          None    middle damage            2  ...   \n",
       "1           0.0    cloudy          None     small damage            2  ...   \n",
       "2           1.0       fog          None            fatal            3  ...   \n",
       "3           1.0       fog          None            fatal            3  ...   \n",
       "4           1.0       fog          None            fatal            3  ...   \n",
       "\n",
       "  party_type at_fault insurance_premium         party_sobriety  \\\n",
       "0        car        0              23.0  had not been drinking   \n",
       "1        car        1              49.0  had not been drinking   \n",
       "2        car        1              25.0     impairment unknown   \n",
       "3        car        0              18.0  had not been drinking   \n",
       "4        car        0              16.0  had not been drinking   \n",
       "\n",
       "  party_drug_physical cellphone_in_use       id_y vehicle_type  \\\n",
       "0                None              0.0        NaN          NaN   \n",
       "1                None              0.0        NaN          NaN   \n",
       "2                   G              NaN  1274766.0        coupe   \n",
       "3                None              NaN        NaN          NaN   \n",
       "4                None              NaN        NaN          NaN   \n",
       "\n",
       "  vehicle_transmission vehicle_age  \n",
       "0                  NaN         NaN  \n",
       "1                  NaN         NaN  \n",
       "2                 auto         4.0  \n",
       "3                  NaN         NaN  \n",
       "4                  NaN         NaN  \n",
       "\n",
       "[5 rows x 32 columns]"
      ]
     },
     "execution_count": 30,
     "metadata": {},
     "output_type": "execute_result"
    }
   ],
   "source": [
    "data.head()"
   ]
  },
  {
   "cell_type": "code",
   "execution_count": 31,
   "id": "ab9884cf",
   "metadata": {},
   "outputs": [
    {
     "data": {
      "text/plain": [
       "(196837, 32)"
      ]
     },
     "execution_count": 31,
     "metadata": {},
     "output_type": "execute_result"
    }
   ],
   "source": [
    "data.shape"
   ]
  },
  {
   "cell_type": "markdown",
   "id": "e2617059",
   "metadata": {},
   "source": [
    "**Проведём статистическое исследование отобранных факторов**"
   ]
  },
  {
   "cell_type": "code",
   "execution_count": 32,
   "id": "e7bd267c",
   "metadata": {},
   "outputs": [
    {
     "data": {
      "text/plain": [
       "party_type              0.000000\n",
       "party_sobriety          0.018416\n",
       "weather_1               0.003323\n",
       "road_surface            0.006467\n",
       "lighting                0.003663\n",
       "location_type           0.556196\n",
       "road_condition_1        0.005807\n",
       "control_device          0.004943\n",
       "party_drug_physical     0.872239\n",
       "vehicle_transmission    0.718605\n",
       "dtype: float64"
      ]
     },
     "execution_count": 32,
     "metadata": {},
     "output_type": "execute_result"
    }
   ],
   "source": [
    "data[columns].isna().mean()"
   ]
  },
  {
   "cell_type": "code",
   "execution_count": 33,
   "id": "81149538",
   "metadata": {},
   "outputs": [
    {
     "data": {
      "text/plain": [
       "car    196837\n",
       "Name: party_type, dtype: int64"
      ]
     },
     "execution_count": 33,
     "metadata": {},
     "output_type": "execute_result"
    }
   ],
   "source": [
    "data['party_type'].value_counts()"
   ]
  },
  {
   "cell_type": "markdown",
   "id": "23f39e9f",
   "metadata": {},
   "source": [
    "Признак party_type можно удалить, так как он константный для всех записей и не несет ценности для модели"
   ]
  },
  {
   "cell_type": "markdown",
   "id": "ce66d22c",
   "metadata": {},
   "source": [
    "Изучим остальные переменные и предобработаем их, избавившись от пропусков"
   ]
  },
  {
   "cell_type": "code",
   "execution_count": 34,
   "id": "14411f32",
   "metadata": {},
   "outputs": [
    {
     "data": {
      "text/plain": [
       "had not been drinking                     157684\n",
       "impairment unknown                         20525\n",
       "had been drinking, under influence         10270\n",
       "Not Stated party_sobriety                   3625\n",
       "had been drinking, impairment unknown       1706\n",
       "not applicable                              1674\n",
       "had been drinking, not under influence      1353\n",
       "Name: party_sobriety, dtype: int64"
      ]
     },
     "execution_count": 34,
     "metadata": {},
     "output_type": "execute_result"
    }
   ],
   "source": [
    "data['party_sobriety'] = data['party_sobriety'].fillna('Not Stated party_sobriety')\n",
    "data['party_sobriety'].value_counts()"
   ]
  },
  {
   "cell_type": "code",
   "execution_count": 35,
   "id": "4be256b0",
   "metadata": {},
   "outputs": [
    {
     "data": {
      "text/plain": [
       "clear                   157335\n",
       "cloudy                   29497\n",
       "raining                   8112\n",
       "Not Stated weather_1       654\n",
       "fog                        584\n",
       "snowing                    433\n",
       "other weather_1            175\n",
       "wind                        47\n",
       "Name: weather_1, dtype: int64"
      ]
     },
     "execution_count": 35,
     "metadata": {},
     "output_type": "execute_result"
    }
   ],
   "source": [
    "data['weather_1'] = data['weather_1'].fillna('Not Stated weather_1')\n",
    "data.loc[data['weather_1']=='other','weather_1'] = 'other weather_1'\n",
    "data['weather_1'].value_counts()"
   ]
  },
  {
   "cell_type": "code",
   "execution_count": 36,
   "id": "40b0bd48",
   "metadata": {},
   "outputs": [
    {
     "data": {
      "text/plain": [
       "dry                        175564\n",
       "wet                         18920\n",
       "Not Stated road_surface      1273\n",
       "snowy                         926\n",
       "slippery                      154\n",
       "Name: road_surface, dtype: int64"
      ]
     },
     "execution_count": 36,
     "metadata": {},
     "output_type": "execute_result"
    }
   ],
   "source": [
    "data['road_surface'] = data['road_surface'].fillna('Not Stated road_surface')\n",
    "data['road_surface'].value_counts()"
   ]
  },
  {
   "cell_type": "code",
   "execution_count": 37,
   "id": "986407d0",
   "metadata": {},
   "outputs": [
    {
     "data": {
      "text/plain": [
       "daylight                                   136370\n",
       "dark with street lights                     38095\n",
       "dark with no street lights                  14430\n",
       "dusk or dawn                                 6775\n",
       "Not Stated road_surface                       721\n",
       "dark with street lights not functioning       446\n",
       "Name: lighting, dtype: int64"
      ]
     },
     "execution_count": 37,
     "metadata": {},
     "output_type": "execute_result"
    }
   ],
   "source": [
    "data['lighting'] = data['lighting'].fillna('Not Stated road_surface')\n",
    "data['lighting'].value_counts()"
   ]
  },
  {
   "cell_type": "code",
   "execution_count": 38,
   "id": "17ee1ce7",
   "metadata": {},
   "outputs": [
    {
     "data": {
      "text/plain": [
       "Not Stated location_type    109480\n",
       "highway                      71914\n",
       "ramp                         11526\n",
       "intersection                  3917\n",
       "Name: location_type, dtype: int64"
      ]
     },
     "execution_count": 38,
     "metadata": {},
     "output_type": "execute_result"
    }
   ],
   "source": [
    "data['location_type'] = data['location_type'].fillna('Not Stated location_type')\n",
    "data['location_type'].value_counts()"
   ]
  },
  {
   "cell_type": "code",
   "execution_count": 39,
   "id": "bc53df9b",
   "metadata": {},
   "outputs": [
    {
     "data": {
      "text/plain": [
       "normal                         189563\n",
       "construction                     3355\n",
       "Not Stated road_condition_1      1143\n",
       "other road_condition_1            789\n",
       "obstruction                       729\n",
       "holes                             626\n",
       "loose material                    310\n",
       "reduced width                     217\n",
       "flooded                           105\n",
       "Name: road_condition_1, dtype: int64"
      ]
     },
     "execution_count": 39,
     "metadata": {},
     "output_type": "execute_result"
    }
   ],
   "source": [
    "data['road_condition_1'] = data['road_condition_1'].fillna('Not Stated road_condition_1')\n",
    "data.loc[data['road_condition_1']=='other','road_condition_1'] = 'other road_condition_1'\n",
    "data['road_condition_1'].value_counts()"
   ]
  },
  {
   "cell_type": "code",
   "execution_count": 40,
   "id": "384fe972",
   "metadata": {},
   "outputs": [
    {
     "data": {
      "text/plain": [
       "none                         132665\n",
       "functioning                   62639\n",
       "Not Stated control_device       973\n",
       "not functioning                 444\n",
       "obscured                        116\n",
       "Name: control_device, dtype: int64"
      ]
     },
     "execution_count": 40,
     "metadata": {},
     "output_type": "execute_result"
    }
   ],
   "source": [
    "data['control_device'] = data['control_device'].fillna('Not Stated control_device')\n",
    "data['control_device'].value_counts()"
   ]
  },
  {
   "cell_type": "code",
   "execution_count": 41,
   "id": "9aaec121",
   "metadata": {},
   "outputs": [
    {
     "data": {
      "text/plain": [
       "Not Stated party_drug_physical    171689\n",
       "G                                  20525\n",
       "not applicable                      1674\n",
       "under drug influence                1516\n",
       "sleepy/fatigued                     1096\n",
       "impairment - physical                337\n",
       "Name: party_drug_physical, dtype: int64"
      ]
     },
     "execution_count": 41,
     "metadata": {},
     "output_type": "execute_result"
    }
   ],
   "source": [
    "data['party_drug_physical'] = data['party_drug_physical'].fillna('Not Stated party_drug_physical')\n",
    "data['party_drug_physical'].value_counts()"
   ]
  },
  {
   "cell_type": "code",
   "execution_count": 42,
   "id": "850063fb",
   "metadata": {},
   "outputs": [
    {
     "data": {
      "text/plain": [
       "Not Stated vehicle_transmission    141448\n",
       "manual                              29318\n",
       "auto                                26071\n",
       "Name: vehicle_transmission, dtype: int64"
      ]
     },
     "execution_count": 42,
     "metadata": {},
     "output_type": "execute_result"
    }
   ],
   "source": [
    "data['vehicle_transmission'] = data['vehicle_transmission'].fillna('Not Stated vehicle_transmission')\n",
    "data['vehicle_transmission'].value_counts()"
   ]
  },
  {
   "cell_type": "code",
   "execution_count": 43,
   "id": "2f6b41bc",
   "metadata": {},
   "outputs": [
    {
     "data": {
      "text/plain": [
       "0.0"
      ]
     },
     "execution_count": 43,
     "metadata": {},
     "output_type": "execute_result"
    }
   ],
   "source": [
    "data['at_fault'].isna().mean()"
   ]
  },
  {
   "cell_type": "code",
   "execution_count": 44,
   "id": "075e8472",
   "metadata": {},
   "outputs": [
    {
     "data": {
      "text/plain": [
       "1    103047\n",
       "0     93790\n",
       "Name: at_fault, dtype: int64"
      ]
     },
     "execution_count": 44,
     "metadata": {},
     "output_type": "execute_result"
    }
   ],
   "source": [
    "data['at_fault'].value_counts()"
   ]
  },
  {
   "cell_type": "markdown",
   "id": "1861e5a0",
   "metadata": {},
   "source": [
    "Количество записей каждого класса примерно равное, дисбаланс отсутствует"
   ]
  },
  {
   "cell_type": "code",
   "execution_count": 45,
   "id": "0a33cdf4",
   "metadata": {},
   "outputs": [
    {
     "data": {
      "text/plain": [
       "0.7228468224978027"
      ]
     },
     "execution_count": 45,
     "metadata": {},
     "output_type": "execute_result"
    }
   ],
   "source": [
    "data.vehicle_age.isna().mean()"
   ]
  },
  {
   "cell_type": "code",
   "execution_count": 46,
   "id": "796d55e9",
   "metadata": {},
   "outputs": [],
   "source": [
    "data = data[data['vehicle_age'] < 10]"
   ]
  },
  {
   "cell_type": "code",
   "execution_count": 47,
   "id": "8d1c4a9f",
   "metadata": {},
   "outputs": [
    {
     "data": {
      "text/plain": [
       "0.0"
      ]
     },
     "execution_count": 47,
     "metadata": {},
     "output_type": "execute_result"
    }
   ],
   "source": [
    "data.vehicle_age.isna().mean()"
   ]
  },
  {
   "cell_type": "code",
   "execution_count": 48,
   "id": "95705a91",
   "metadata": {},
   "outputs": [],
   "source": [
    "columns.remove('party_type')"
   ]
  },
  {
   "cell_type": "markdown",
   "id": "7029dc65",
   "metadata": {},
   "source": [
    "Подготовим датасет для бустингов"
   ]
  },
  {
   "cell_type": "code",
   "execution_count": 49,
   "id": "1aa52047",
   "metadata": {},
   "outputs": [],
   "source": [
    "features_gb = data[columns].copy()\n",
    "target = data['at_fault']"
   ]
  },
  {
   "cell_type": "code",
   "execution_count": 50,
   "id": "f8735d45",
   "metadata": {},
   "outputs": [
    {
     "name": "stdout",
     "output_type": "stream",
     "text": [
      "<class 'pandas.core.frame.DataFrame'>\n",
      "Int64Index: 49471 entries, 2 to 196830\n",
      "Data columns (total 9 columns):\n",
      " #   Column                Non-Null Count  Dtype \n",
      "---  ------                --------------  ----- \n",
      " 0   party_sobriety        49471 non-null  object\n",
      " 1   weather_1             49471 non-null  object\n",
      " 2   road_surface          49471 non-null  object\n",
      " 3   lighting              49471 non-null  object\n",
      " 4   location_type         49471 non-null  object\n",
      " 5   road_condition_1      49471 non-null  object\n",
      " 6   control_device        49471 non-null  object\n",
      " 7   party_drug_physical   49471 non-null  object\n",
      " 8   vehicle_transmission  49471 non-null  object\n",
      "dtypes: object(9)\n",
      "memory usage: 3.8+ MB\n"
     ]
    }
   ],
   "source": [
    "features_gb.info()"
   ]
  },
  {
   "cell_type": "markdown",
   "id": "a27a65fe",
   "metadata": {},
   "source": [
    "Все колонки - категориальные"
   ]
  },
  {
   "cell_type": "markdown",
   "id": "ed09dae5",
   "metadata": {},
   "source": [
    "Разобьем датасет на выборки"
   ]
  },
  {
   "cell_type": "code",
   "execution_count": 51,
   "id": "895c76f1",
   "metadata": {},
   "outputs": [],
   "source": [
    "X_train_gb, X_test_gb, y_train_gb, y_test_gb = train_test_split(features_gb, target, test_size=0.2, random_state=12345)"
   ]
  },
  {
   "cell_type": "markdown",
   "id": "05bb4f7f",
   "metadata": {},
   "source": [
    "Выделим валидационную выборку"
   ]
  },
  {
   "cell_type": "code",
   "execution_count": 52,
   "id": "fcb91d7e",
   "metadata": {},
   "outputs": [],
   "source": [
    "X_train_gb, X_valid_gb, y_train_gb, y_valid_gb = train_test_split(X_train_gb, y_train_gb, test_size=0.2, random_state=12345)"
   ]
  },
  {
   "cell_type": "markdown",
   "id": "e67267b8",
   "metadata": {},
   "source": [
    "Закодируем категориальные параметры и соберем датасет целиком"
   ]
  },
  {
   "cell_type": "markdown",
   "id": "ac59cf89",
   "metadata": {},
   "source": [
    "Подготовим датасет для нейронной сети"
   ]
  },
  {
   "cell_type": "code",
   "execution_count": 53,
   "id": "7def094c",
   "metadata": {},
   "outputs": [],
   "source": [
    "full = pd.get_dummies(data['party_sobriety'], drop_first=True)"
   ]
  },
  {
   "cell_type": "code",
   "execution_count": 54,
   "id": "aae6982d",
   "metadata": {},
   "outputs": [],
   "source": [
    "full = full.merge(pd.get_dummies(data['weather_1'], drop_first=True), left_index=True, right_index=True,how='left') \\\n",
    "             .merge(pd.get_dummies(data['road_surface'], drop_first=True), left_index=True, right_index=True,how='left') \\\n",
    "             .merge(pd.get_dummies(data['lighting'], drop_first=True), left_index=True, right_index=True,how='left') \\\n",
    "             .merge(pd.get_dummies(data['location_type'], drop_first=True), left_index=True, right_index=True,how='left') \\\n",
    "             .merge(pd.get_dummies(data['road_condition_1'], drop_first=True), left_index=True, right_index=True,how='left') \\\n",
    "             .merge(pd.get_dummies(data['control_device'], drop_first=True), left_index=True, right_index=True,how='left') \\\n",
    "             .merge(pd.get_dummies(data['party_drug_physical'], drop_first=True), left_index=True, right_index=True,how='left') \\\n",
    "             .merge(pd.get_dummies(data['vehicle_transmission'], drop_first=True), left_index=True, right_index=True,how='left') "
   ]
  },
  {
   "cell_type": "code",
   "execution_count": 55,
   "id": "8bb4f8a4",
   "metadata": {},
   "outputs": [
    {
     "name": "stdout",
     "output_type": "stream",
     "text": [
      "<class 'pandas.core.frame.DataFrame'>\n",
      "Int64Index: 49471 entries, 2 to 196830\n",
      "Data columns (total 44 columns):\n",
      " #   Column                                   Non-Null Count  Dtype\n",
      "---  ------                                   --------------  -----\n",
      " 0   had been drinking, impairment unknown    49471 non-null  uint8\n",
      " 1   had been drinking, not under influence   49471 non-null  uint8\n",
      " 2   had been drinking, under influence       49471 non-null  uint8\n",
      " 3   had not been drinking                    49471 non-null  uint8\n",
      " 4   impairment unknown                       49471 non-null  uint8\n",
      " 5   not applicable_x                         49471 non-null  uint8\n",
      " 6   clear                                    49471 non-null  uint8\n",
      " 7   cloudy                                   49471 non-null  uint8\n",
      " 8   fog                                      49471 non-null  uint8\n",
      " 9   other weather_1                          49471 non-null  uint8\n",
      " 10  raining                                  49471 non-null  uint8\n",
      " 11  snowing                                  49471 non-null  uint8\n",
      " 12  wind                                     49471 non-null  uint8\n",
      " 13  dry                                      49471 non-null  uint8\n",
      " 14  slippery                                 49471 non-null  uint8\n",
      " 15  snowy                                    49471 non-null  uint8\n",
      " 16  wet                                      49471 non-null  uint8\n",
      " 17  dark with no street lights               49471 non-null  uint8\n",
      " 18  dark with street lights                  49471 non-null  uint8\n",
      " 19  dark with street lights not functioning  49471 non-null  uint8\n",
      " 20  daylight                                 49471 non-null  uint8\n",
      " 21  dusk or dawn                             49471 non-null  uint8\n",
      " 22  highway                                  49471 non-null  uint8\n",
      " 23  intersection                             49471 non-null  uint8\n",
      " 24  ramp                                     49471 non-null  uint8\n",
      " 25  construction                             49471 non-null  uint8\n",
      " 26  flooded                                  49471 non-null  uint8\n",
      " 27  holes                                    49471 non-null  uint8\n",
      " 28  loose material                           49471 non-null  uint8\n",
      " 29  normal                                   49471 non-null  uint8\n",
      " 30  obstruction                              49471 non-null  uint8\n",
      " 31  other road_condition_1                   49471 non-null  uint8\n",
      " 32  reduced width                            49471 non-null  uint8\n",
      " 33  functioning                              49471 non-null  uint8\n",
      " 34  none                                     49471 non-null  uint8\n",
      " 35  not functioning                          49471 non-null  uint8\n",
      " 36  obscured                                 49471 non-null  uint8\n",
      " 37  Not Stated party_drug_physical           49471 non-null  uint8\n",
      " 38  impairment - physical                    49471 non-null  uint8\n",
      " 39  not applicable_y                         49471 non-null  uint8\n",
      " 40  sleepy/fatigued                          49471 non-null  uint8\n",
      " 41  under drug influence                     49471 non-null  uint8\n",
      " 42  auto                                     49471 non-null  uint8\n",
      " 43  manual                                   49471 non-null  uint8\n",
      "dtypes: uint8(44)\n",
      "memory usage: 3.5 MB\n"
     ]
    }
   ],
   "source": [
    "full.info()"
   ]
  },
  {
   "cell_type": "markdown",
   "id": "20be2adb",
   "metadata": {},
   "source": [
    "Разобьем выборку на обучающую и тестовую"
   ]
  },
  {
   "cell_type": "code",
   "execution_count": 56,
   "id": "b38a36af",
   "metadata": {},
   "outputs": [],
   "source": [
    "X_train, X_test, y_train, test_y = train_test_split(full, data['at_fault'], test_size=0.2, random_state=1234)"
   ]
  },
  {
   "cell_type": "code",
   "execution_count": 57,
   "id": "9214d781",
   "metadata": {},
   "outputs": [
    {
     "name": "stdout",
     "output_type": "stream",
     "text": [
      "(39576, 44) (9895, 44)\n"
     ]
    }
   ],
   "source": [
    "print(X_train.shape, X_test.shape)"
   ]
  },
  {
   "cell_type": "markdown",
   "id": "fd7bbd8f",
   "metadata": {},
   "source": [
    "Выделим валидационную выборку"
   ]
  },
  {
   "cell_type": "code",
   "execution_count": 58,
   "id": "5248063f",
   "metadata": {},
   "outputs": [],
   "source": [
    "X_train, X_valid, y_train, y_valid =  train_test_split(X_train, y_train, test_size=0.2, random_state=1234)"
   ]
  },
  {
   "cell_type": "code",
   "execution_count": 59,
   "id": "8d9361d7",
   "metadata": {},
   "outputs": [
    {
     "name": "stdout",
     "output_type": "stream",
     "text": [
      "(31660, 44) (7916, 44)\n"
     ]
    }
   ],
   "source": [
    "print(X_train.shape, X_valid.shape)"
   ]
  },
  {
   "cell_type": "markdown",
   "id": "3104fd98",
   "metadata": {},
   "source": [
    "**Выбор метрики**"
   ]
  },
  {
   "cell_type": "markdown",
   "id": "8cbcaef4",
   "metadata": {},
   "source": [
    "В качестве метрики будем опираться на метрику F1. Мы хотим минимизировать ошибки 2-го рода, т.е. если маршрут потенциально сулит ДТП, то хотим не пропустить это и сообщить клиенту, однако и всегда заставлять клиента перестраивать маршрут не желательно, потому что тогда от продукта нет смысла. Поэтому берем сбалансированную метрику"
   ]
  },
  {
   "cell_type": "markdown",
   "id": "b1b44c43",
   "metadata": {},
   "source": [
    "### Catboost"
   ]
  },
  {
   "cell_type": "code",
   "execution_count": 135,
   "id": "76f9b020",
   "metadata": {
    "scrolled": true
   },
   "outputs": [
    {
     "data": {
      "application/vnd.jupyter.widget-view+json": {
       "model_id": "96bc7b1b719f4f89a9092b097f2b6a36",
       "version_major": 2,
       "version_minor": 0
      },
      "text/plain": [
       "MetricVisualizer(layout=Layout(align_self='stretch', height='500px'))"
      ]
     },
     "metadata": {},
     "output_type": "display_data"
    },
    {
     "name": "stdout",
     "output_type": "stream",
     "text": [
      "0:\tlearn: 0.3628051\ttest: 0.3906063\tbest: 0.3906063 (0)\ttotal: 29.8ms\tremaining: 5.92s\n",
      "1:\tlearn: 0.3712186\ttest: 0.3906063\tbest: 0.3906063 (0)\ttotal: 66.6ms\tremaining: 6.59s\n",
      "2:\tlearn: 0.3715720\ttest: 0.3906063\tbest: 0.3906063 (0)\ttotal: 99.8ms\tremaining: 6.55s\n",
      "3:\tlearn: 0.3732274\ttest: 0.3907110\tbest: 0.3907110 (3)\ttotal: 144ms\tremaining: 7.05s\n",
      "4:\tlearn: 0.4387535\ttest: 0.4521970\tbest: 0.4521970 (4)\ttotal: 186ms\tremaining: 7.25s\n",
      "5:\tlearn: 0.4385627\ttest: 0.4521970\tbest: 0.4521970 (4)\ttotal: 203ms\tremaining: 6.58s\n",
      "6:\tlearn: 0.4329174\ttest: 0.4458427\tbest: 0.4521970 (4)\ttotal: 242ms\tremaining: 6.67s\n",
      "7:\tlearn: 0.4610983\ttest: 0.4815609\tbest: 0.4815609 (7)\ttotal: 275ms\tremaining: 6.61s\n",
      "8:\tlearn: 0.4339384\ttest: 0.4458427\tbest: 0.4815609 (7)\ttotal: 320ms\tremaining: 6.8s\n",
      "9:\tlearn: 0.4615300\ttest: 0.4816642\tbest: 0.4816642 (9)\ttotal: 357ms\tremaining: 6.79s\n",
      "10:\tlearn: 0.4615300\ttest: 0.4816642\tbest: 0.4816642 (9)\ttotal: 401ms\tremaining: 6.9s\n",
      "11:\tlearn: 0.4616738\ttest: 0.4816642\tbest: 0.4816642 (9)\ttotal: 437ms\tremaining: 6.84s\n",
      "12:\tlearn: 0.4616400\ttest: 0.4816642\tbest: 0.4816642 (9)\ttotal: 466ms\tremaining: 6.7s\n",
      "13:\tlearn: 0.4615723\ttest: 0.4807899\tbest: 0.4816642 (9)\ttotal: 505ms\tremaining: 6.71s\n",
      "14:\tlearn: 0.4615723\ttest: 0.4807899\tbest: 0.4816642 (9)\ttotal: 540ms\tremaining: 6.67s\n",
      "15:\tlearn: 0.4615723\ttest: 0.4807899\tbest: 0.4816642 (9)\ttotal: 575ms\tremaining: 6.62s\n",
      "16:\tlearn: 0.4616569\ttest: 0.4807899\tbest: 0.4816642 (9)\ttotal: 611ms\tremaining: 6.58s\n",
      "17:\tlearn: 0.4616823\ttest: 0.4807899\tbest: 0.4816642 (9)\ttotal: 648ms\tremaining: 6.55s\n",
      "18:\tlearn: 0.4615977\ttest: 0.4807899\tbest: 0.4816642 (9)\ttotal: 686ms\tremaining: 6.54s\n",
      "19:\tlearn: 0.4616908\ttest: 0.4816642\tbest: 0.4816642 (9)\ttotal: 730ms\tremaining: 6.57s\n",
      "20:\tlearn: 0.4616908\ttest: 0.4816642\tbest: 0.4816642 (9)\ttotal: 755ms\tremaining: 6.44s\n",
      "21:\tlearn: 0.4616062\ttest: 0.4816642\tbest: 0.4816642 (9)\ttotal: 791ms\tremaining: 6.4s\n",
      "22:\tlearn: 0.4615469\ttest: 0.4816642\tbest: 0.4816642 (9)\ttotal: 833ms\tremaining: 6.41s\n",
      "23:\tlearn: 0.4615469\ttest: 0.4816642\tbest: 0.4816642 (9)\ttotal: 876ms\tremaining: 6.42s\n",
      "24:\tlearn: 0.4615469\ttest: 0.4816642\tbest: 0.4816642 (9)\ttotal: 898ms\tremaining: 6.29s\n",
      "25:\tlearn: 0.4614623\ttest: 0.4816642\tbest: 0.4816642 (9)\ttotal: 942ms\tremaining: 6.3s\n",
      "26:\tlearn: 0.4614877\ttest: 0.4816642\tbest: 0.4816642 (9)\ttotal: 979ms\tremaining: 6.28s\n",
      "27:\tlearn: 0.4624773\ttest: 0.4818864\tbest: 0.4818864 (27)\ttotal: 1.02s\tremaining: 6.26s\n",
      "28:\tlearn: 0.4625110\ttest: 0.4818864\tbest: 0.4818864 (27)\ttotal: 1.06s\tremaining: 6.25s\n",
      "29:\tlearn: 0.4624265\ttest: 0.4818864\tbest: 0.4818864 (27)\ttotal: 1.1s\tremaining: 6.23s\n",
      "30:\tlearn: 0.4626546\ttest: 0.4818864\tbest: 0.4818864 (27)\ttotal: 1.14s\tremaining: 6.19s\n",
      "31:\tlearn: 0.4630260\ttest: 0.4829801\tbest: 0.4829801 (31)\ttotal: 1.18s\tremaining: 6.19s\n",
      "32:\tlearn: 0.4632458\ttest: 0.4829801\tbest: 0.4829801 (31)\ttotal: 1.22s\tremaining: 6.17s\n",
      "33:\tlearn: 0.4631614\ttest: 0.4829801\tbest: 0.4829801 (31)\ttotal: 1.26s\tremaining: 6.15s\n",
      "34:\tlearn: 0.4632793\ttest: 0.4829801\tbest: 0.4829801 (31)\ttotal: 1.3s\tremaining: 6.12s\n",
      "35:\tlearn: 0.4631359\ttest: 0.4829801\tbest: 0.4829801 (31)\ttotal: 1.33s\tremaining: 6.08s\n",
      "36:\tlearn: 0.4630769\ttest: 0.4829801\tbest: 0.4829801 (31)\ttotal: 1.37s\tremaining: 6.06s\n",
      "37:\tlearn: 0.4630515\ttest: 0.4829801\tbest: 0.4829801 (31)\ttotal: 1.42s\tremaining: 6.04s\n",
      "38:\tlearn: 0.4631197\ttest: 0.4829801\tbest: 0.4829801 (31)\ttotal: 1.46s\tremaining: 6.03s\n",
      "39:\tlearn: 0.4631197\ttest: 0.4823303\tbest: 0.4829801 (31)\ttotal: 1.5s\tremaining: 6.01s\n",
      "40:\tlearn: 0.4631961\ttest: 0.4820051\tbest: 0.4829801 (31)\ttotal: 1.54s\tremaining: 5.99s\n",
      "41:\tlearn: 0.4637363\ttest: 0.4829801\tbest: 0.4829801 (31)\ttotal: 1.59s\tremaining: 5.97s\n",
      "42:\tlearn: 0.4637108\ttest: 0.4829801\tbest: 0.4829801 (31)\ttotal: 1.63s\tremaining: 5.95s\n",
      "43:\tlearn: 0.4637697\ttest: 0.4829801\tbest: 0.4829801 (31)\ttotal: 1.68s\tremaining: 5.95s\n",
      "44:\tlearn: 0.4637522\ttest: 0.4828767\tbest: 0.4829801 (31)\ttotal: 1.71s\tremaining: 5.9s\n",
      "45:\tlearn: 0.4639719\ttest: 0.4828767\tbest: 0.4829801 (31)\ttotal: 1.77s\tremaining: 5.92s\n",
      "46:\tlearn: 0.4638875\ttest: 0.4828767\tbest: 0.4829801 (31)\ttotal: 1.81s\tremaining: 5.91s\n",
      "47:\tlearn: 0.4638031\ttest: 0.4828767\tbest: 0.4829801 (31)\ttotal: 1.85s\tremaining: 5.87s\n",
      "48:\tlearn: 0.4640562\ttest: 0.4828767\tbest: 0.4829801 (31)\ttotal: 1.89s\tremaining: 5.83s\n",
      "49:\tlearn: 0.4639719\ttest: 0.4828767\tbest: 0.4829801 (31)\ttotal: 1.93s\tremaining: 5.8s\n",
      "50:\tlearn: 0.4637188\ttest: 0.4828767\tbest: 0.4829801 (31)\ttotal: 1.98s\tremaining: 5.78s\n",
      "51:\tlearn: 0.4635500\ttest: 0.4824486\tbest: 0.4829801 (31)\ttotal: 2.02s\tremaining: 5.76s\n",
      "52:\tlearn: 0.4638875\ttest: 0.4827734\tbest: 0.4829801 (31)\ttotal: 2.06s\tremaining: 5.73s\n",
      "53:\tlearn: 0.4637697\ttest: 0.4827734\tbest: 0.4829801 (31)\ttotal: 2.11s\tremaining: 5.71s\n",
      "54:\tlearn: 0.4636264\ttest: 0.4824486\tbest: 0.4829801 (31)\ttotal: 2.16s\tremaining: 5.7s\n",
      "55:\tlearn: 0.4636518\ttest: 0.4825519\tbest: 0.4829801 (31)\ttotal: 2.21s\tremaining: 5.68s\n",
      "56:\tlearn: 0.4636009\ttest: 0.4825519\tbest: 0.4829801 (31)\ttotal: 2.25s\tremaining: 5.65s\n",
      "57:\tlearn: 0.4637617\ttest: 0.4825519\tbest: 0.4829801 (31)\ttotal: 2.3s\tremaining: 5.63s\n",
      "58:\tlearn: 0.4636773\ttest: 0.4825519\tbest: 0.4829801 (31)\ttotal: 2.35s\tremaining: 5.62s\n",
      "59:\tlearn: 0.4635929\ttest: 0.4822270\tbest: 0.4829801 (31)\ttotal: 2.4s\tremaining: 5.59s\n",
      "60:\tlearn: 0.4637108\ttest: 0.4822270\tbest: 0.4829801 (31)\ttotal: 2.44s\tremaining: 5.57s\n",
      "61:\tlearn: 0.4636264\ttest: 0.4821237\tbest: 0.4829801 (31)\ttotal: 2.49s\tremaining: 5.55s\n",
      "62:\tlearn: 0.4637952\ttest: 0.4821237\tbest: 0.4829801 (31)\ttotal: 2.54s\tremaining: 5.53s\n",
      "63:\tlearn: 0.4640993\ttest: 0.4820205\tbest: 0.4829801 (31)\ttotal: 2.59s\tremaining: 5.51s\n",
      "64:\tlearn: 0.4639895\ttest: 0.4820205\tbest: 0.4829801 (31)\ttotal: 2.65s\tremaining: 5.5s\n",
      "65:\tlearn: 0.4639051\ttest: 0.4816956\tbest: 0.4829801 (31)\ttotal: 2.69s\tremaining: 5.46s\n",
      "66:\tlearn: 0.4639051\ttest: 0.4816956\tbest: 0.4829801 (31)\ttotal: 2.73s\tremaining: 5.43s\n",
      "67:\tlearn: 0.4639306\ttest: 0.4816956\tbest: 0.4829801 (31)\ttotal: 2.77s\tremaining: 5.39s\n",
      "68:\tlearn: 0.4636439\ttest: 0.4792785\tbest: 0.4829801 (31)\ttotal: 2.82s\tremaining: 5.35s\n",
      "69:\tlearn: 0.4635514\ttest: 0.4792785\tbest: 0.4829801 (31)\ttotal: 2.86s\tremaining: 5.32s\n",
      "70:\tlearn: 0.4636693\ttest: 0.4796050\tbest: 0.4829801 (31)\ttotal: 2.91s\tremaining: 5.28s\n",
      "71:\tlearn: 0.4648940\ttest: 0.4810289\tbest: 0.4829801 (31)\ttotal: 2.95s\tremaining: 5.25s\n",
      "72:\tlearn: 0.4653563\ttest: 0.4812513\tbest: 0.4829801 (31)\ttotal: 2.99s\tremaining: 5.2s\n",
      "73:\tlearn: 0.4651546\ttest: 0.4812513\tbest: 0.4829801 (31)\ttotal: 3.03s\tremaining: 5.17s\n",
      "74:\tlearn: 0.4655684\ttest: 0.4811482\tbest: 0.4829801 (31)\ttotal: 3.08s\tremaining: 5.13s\n",
      "75:\tlearn: 0.4656271\ttest: 0.4811482\tbest: 0.4829801 (31)\ttotal: 3.12s\tremaining: 5.09s\n",
      "76:\tlearn: 0.4654330\ttest: 0.4815767\tbest: 0.4829801 (31)\ttotal: 3.16s\tremaining: 5.05s\n",
      "77:\tlearn: 0.4662422\ttest: 0.4814735\tbest: 0.4829801 (31)\ttotal: 3.19s\tremaining: 5s\n",
      "78:\tlearn: 0.4663849\ttest: 0.4817987\tbest: 0.4829801 (31)\ttotal: 3.23s\tremaining: 4.95s\n",
      "79:\tlearn: 0.4745524\ttest: 0.4886629\tbest: 0.4886629 (79)\ttotal: 3.29s\tremaining: 4.93s\n",
      "80:\tlearn: 0.4746149\ttest: 0.4891995\tbest: 0.4891995 (80)\ttotal: 3.33s\tremaining: 4.9s\n",
      "81:\tlearn: 0.4749973\ttest: 0.4891995\tbest: 0.4891995 (80)\ttotal: 3.39s\tremaining: 4.88s\n",
      "82:\tlearn: 0.4747546\ttest: 0.4898391\tbest: 0.4898391 (82)\ttotal: 3.44s\tremaining: 4.85s\n",
      "83:\tlearn: 0.4752196\ttest: 0.4895194\tbest: 0.4898391 (82)\ttotal: 3.49s\tremaining: 4.82s\n",
      "84:\tlearn: 0.4753903\ttest: 0.4898391\tbest: 0.4898391 (82)\ttotal: 3.53s\tremaining: 4.78s\n",
      "85:\tlearn: 0.4752561\ttest: 0.4898391\tbest: 0.4898391 (82)\ttotal: 3.57s\tremaining: 4.73s\n",
      "86:\tlearn: 0.4755245\ttest: 0.4896230\tbest: 0.4898391 (82)\ttotal: 3.61s\tremaining: 4.69s\n",
      "87:\tlearn: 0.4756587\ttest: 0.4897268\tbest: 0.4898391 (82)\ttotal: 3.67s\tremaining: 4.67s\n",
      "88:\tlearn: 0.4755760\ttest: 0.4897268\tbest: 0.4898391 (82)\ttotal: 3.71s\tremaining: 4.63s\n",
      "89:\tlearn: 0.4758187\ttest: 0.4896230\tbest: 0.4898391 (82)\ttotal: 3.76s\tremaining: 4.6s\n",
      "90:\tlearn: 0.4754312\ttest: 0.4896230\tbest: 0.4898391 (82)\ttotal: 3.81s\tremaining: 4.56s\n",
      "91:\tlearn: 0.4750950\ttest: 0.4896230\tbest: 0.4898391 (82)\ttotal: 3.86s\tremaining: 4.53s\n",
      "92:\tlearn: 0.4751207\ttest: 0.4896230\tbest: 0.4898391 (82)\ttotal: 3.89s\tremaining: 4.47s\n",
      "93:\tlearn: 0.4755396\ttest: 0.4896230\tbest: 0.4898391 (82)\ttotal: 3.93s\tremaining: 4.43s\n",
      "94:\tlearn: 0.4755965\ttest: 0.4896230\tbest: 0.4898391 (82)\ttotal: 3.97s\tremaining: 4.38s\n",
      "95:\tlearn: 0.4756792\ttest: 0.4896230\tbest: 0.4898391 (82)\ttotal: 4.01s\tremaining: 4.35s\n",
      "96:\tlearn: 0.4768198\ttest: 0.4899513\tbest: 0.4899513 (96)\ttotal: 4.06s\tremaining: 4.31s\n",
      "97:\tlearn: 0.4766497\ttest: 0.4898477\tbest: 0.4899513 (96)\ttotal: 4.11s\tremaining: 4.27s\n",
      "98:\tlearn: 0.4768147\ttest: 0.4898477\tbest: 0.4899513 (96)\ttotal: 4.14s\tremaining: 4.22s\n",
      "99:\tlearn: 0.4769847\ttest: 0.4901671\tbest: 0.4901671 (99)\ttotal: 4.19s\tremaining: 4.19s\n",
      "100:\tlearn: 0.4778704\ttest: 0.4900466\tbest: 0.4901671 (99)\ttotal: 4.23s\tremaining: 4.15s\n",
      "101:\tlearn: 0.4780868\ttest: 0.4906859\tbest: 0.4906859 (101)\ttotal: 4.27s\tremaining: 4.1s\n",
      "102:\tlearn: 0.4777832\ttest: 0.4907898\tbest: 0.4907898 (102)\ttotal: 4.33s\tremaining: 4.07s\n",
      "103:\tlearn: 0.4776960\ttest: 0.4907898\tbest: 0.4907898 (102)\ttotal: 4.38s\tremaining: 4.05s\n",
      "104:\tlearn: 0.4776960\ttest: 0.4907898\tbest: 0.4907898 (102)\ttotal: 4.44s\tremaining: 4.01s\n",
      "105:\tlearn: 0.4778042\ttest: 0.4907898\tbest: 0.4907898 (102)\ttotal: 4.49s\tremaining: 3.98s\n",
      "106:\tlearn: 0.4833253\ttest: 0.4933865\tbest: 0.4933865 (106)\ttotal: 4.54s\tremaining: 3.94s\n",
      "107:\tlearn: 0.4833253\ttest: 0.4933865\tbest: 0.4933865 (106)\ttotal: 4.6s\tremaining: 3.92s\n",
      "108:\tlearn: 0.4834327\ttest: 0.4932830\tbest: 0.4933865 (106)\ttotal: 4.65s\tremaining: 3.89s\n",
      "109:\tlearn: 0.4835696\ttest: 0.4938064\tbest: 0.4938064 (109)\ttotal: 4.71s\tremaining: 3.85s\n",
      "110:\tlearn: 0.4837584\ttest: 0.4941226\tbest: 0.4941226 (110)\ttotal: 4.77s\tremaining: 3.82s\n",
      "111:\tlearn: 0.4837619\ttest: 0.4942263\tbest: 0.4942263 (111)\ttotal: 4.82s\tremaining: 3.79s\n",
      "112:\tlearn: 0.4839246\ttest: 0.4942263\tbest: 0.4942263 (111)\ttotal: 4.87s\tremaining: 3.75s\n",
      "113:\tlearn: 0.4841359\ttest: 0.4942263\tbest: 0.4942263 (111)\ttotal: 4.91s\tremaining: 3.71s\n",
      "114:\tlearn: 0.4899001\ttest: 0.5009361\tbest: 0.5009361 (114)\ttotal: 4.96s\tremaining: 3.67s\n",
      "115:\tlearn: 0.4897113\ttest: 0.5009361\tbest: 0.5009361 (114)\ttotal: 5.01s\tremaining: 3.63s\n",
      "116:\tlearn: 0.4900951\ttest: 0.5008313\tbest: 0.5009361 (114)\ttotal: 5.05s\tremaining: 3.58s\n",
      "117:\tlearn: 0.4898740\ttest: 0.5010395\tbest: 0.5010395 (117)\ttotal: 5.1s\tremaining: 3.55s\n",
      "118:\tlearn: 0.4899543\ttest: 0.5012479\tbest: 0.5012479 (118)\ttotal: 5.15s\tremaining: 3.51s\n",
      "119:\tlearn: 0.4904959\ttest: 0.5013511\tbest: 0.5013511 (119)\ttotal: 5.2s\tremaining: 3.47s\n",
      "120:\tlearn: 0.4908184\ttest: 0.5012469\tbest: 0.5013511 (119)\ttotal: 5.25s\tremaining: 3.43s\n",
      "121:\tlearn: 0.4906822\ttest: 0.5013511\tbest: 0.5013511 (119)\ttotal: 5.31s\tremaining: 3.4s\n",
      "122:\tlearn: 0.4906282\ttest: 0.5013511\tbest: 0.5013511 (119)\ttotal: 5.34s\tremaining: 3.35s\n",
      "123:\tlearn: 0.4909506\ttest: 0.5013511\tbest: 0.5013511 (119)\ttotal: 5.39s\tremaining: 3.3s\n",
      "124:\tlearn: 0.4912169\ttest: 0.5010395\tbest: 0.5013511 (119)\ttotal: 5.44s\tremaining: 3.26s\n",
      "125:\tlearn: 0.4911126\ttest: 0.5013511\tbest: 0.5013511 (119)\ttotal: 5.49s\tremaining: 3.23s\n",
      "126:\tlearn: 0.4914346\ttest: 0.5013511\tbest: 0.5013511 (119)\ttotal: 5.54s\tremaining: 3.18s\n",
      "127:\tlearn: 0.4915146\ttest: 0.5013511\tbest: 0.5013511 (119)\ttotal: 5.59s\tremaining: 3.14s\n",
      "128:\tlearn: 0.4915946\ttest: 0.5013511\tbest: 0.5013511 (119)\ttotal: 5.64s\tremaining: 3.1s\n",
      "129:\tlearn: 0.4919423\ttest: 0.5013499\tbest: 0.5013511 (119)\ttotal: 5.69s\tremaining: 3.06s\n",
      "130:\tlearn: 0.4919945\ttest: 0.5013499\tbest: 0.5013511 (119)\ttotal: 5.75s\tremaining: 3.03s\n",
      "131:\tlearn: 0.4922082\ttest: 0.5015570\tbest: 0.5015570 (131)\ttotal: 5.8s\tremaining: 2.99s\n",
      "132:\tlearn: 0.4922359\ttest: 0.5015570\tbest: 0.5015570 (131)\ttotal: 5.86s\tremaining: 2.95s\n",
      "133:\tlearn: 0.4922082\ttest: 0.5018680\tbest: 0.5018680 (133)\ttotal: 5.91s\tremaining: 2.91s\n",
      "134:\tlearn: 0.4921805\ttest: 0.5018680\tbest: 0.5018680 (133)\ttotal: 5.95s\tremaining: 2.86s\n",
      "135:\tlearn: 0.4922604\ttest: 0.5018680\tbest: 0.5018680 (133)\ttotal: 6s\tremaining: 2.82s\n",
      "136:\tlearn: 0.4923142\ttest: 0.5018680\tbest: 0.5018680 (133)\ttotal: 6.05s\tremaining: 2.78s\n",
      "137:\tlearn: 0.4923941\ttest: 0.5018680\tbest: 0.5018680 (133)\ttotal: 6.1s\tremaining: 2.74s\n",
      "138:\tlearn: 0.4924740\ttest: 0.5016598\tbest: 0.5018680 (133)\ttotal: 6.16s\tremaining: 2.7s\n",
      "139:\tlearn: 0.4927981\ttest: 0.5015570\tbest: 0.5018680 (133)\ttotal: 6.21s\tremaining: 2.66s\n",
      "140:\tlearn: 0.4929055\ttest: 0.5014529\tbest: 0.5018680 (133)\ttotal: 6.26s\tremaining: 2.62s\n",
      "141:\tlearn: 0.4928779\ttest: 0.5014529\tbest: 0.5018680 (133)\ttotal: 6.31s\tremaining: 2.58s\n",
      "142:\tlearn: 0.4927981\ttest: 0.5014529\tbest: 0.5018680 (133)\ttotal: 6.37s\tremaining: 2.54s\n",
      "143:\tlearn: 0.4927720\ttest: 0.5014529\tbest: 0.5018680 (133)\ttotal: 6.43s\tremaining: 2.5s\n",
      "144:\tlearn: 0.4931188\ttest: 0.5018664\tbest: 0.5018680 (133)\ttotal: 6.48s\tremaining: 2.46s\n",
      "145:\tlearn: 0.4931188\ttest: 0.5018664\tbest: 0.5018680 (133)\ttotal: 6.53s\tremaining: 2.42s\n",
      "146:\tlearn: 0.4932246\ttest: 0.5019705\tbest: 0.5019705 (146)\ttotal: 6.58s\tremaining: 2.37s\n",
      "147:\tlearn: 0.4931985\ttest: 0.5019705\tbest: 0.5019705 (146)\ttotal: 6.63s\tremaining: 2.33s\n",
      "148:\tlearn: 0.4931985\ttest: 0.5019705\tbest: 0.5019705 (146)\ttotal: 6.68s\tremaining: 2.29s\n",
      "149:\tlearn: 0.4930898\ttest: 0.5015570\tbest: 0.5019705 (146)\ttotal: 6.73s\tremaining: 2.24s\n",
      "150:\tlearn: 0.4931159\ttest: 0.5015570\tbest: 0.5019705 (146)\ttotal: 6.77s\tremaining: 2.2s\n",
      "151:\tlearn: 0.4929592\ttest: 0.5015570\tbest: 0.5019705 (146)\ttotal: 6.83s\tremaining: 2.15s\n",
      "152:\tlearn: 0.4929592\ttest: 0.5014529\tbest: 0.5019705 (146)\ttotal: 6.88s\tremaining: 2.11s\n",
      "153:\tlearn: 0.4930346\ttest: 0.5017653\tbest: 0.5019705 (146)\ttotal: 6.93s\tremaining: 2.07s\n",
      "154:\tlearn: 0.4930898\ttest: 0.5023874\tbest: 0.5023874 (154)\ttotal: 6.97s\tremaining: 2.02s\n",
      "155:\tlearn: 0.4930085\ttest: 0.5023874\tbest: 0.5023874 (154)\ttotal: 7.01s\tremaining: 1.98s\n",
      "156:\tlearn: 0.4930085\ttest: 0.5023874\tbest: 0.5023874 (154)\ttotal: 7.07s\tremaining: 1.94s\n",
      "157:\tlearn: 0.4936742\ttest: 0.5025917\tbest: 0.5025917 (157)\ttotal: 7.12s\tremaining: 1.89s\n",
      "158:\tlearn: 0.4936206\ttest: 0.5026982\tbest: 0.5026982 (158)\ttotal: 7.18s\tremaining: 1.85s\n",
      "159:\tlearn: 0.4937004\ttest: 0.5026982\tbest: 0.5026982 (158)\ttotal: 7.22s\tremaining: 1.81s\n",
      "160:\tlearn: 0.4937004\ttest: 0.5026982\tbest: 0.5026982 (158)\ttotal: 7.25s\tremaining: 1.76s\n",
      "161:\tlearn: 0.4937801\ttest: 0.5028026\tbest: 0.5028026 (161)\ttotal: 7.3s\tremaining: 1.71s\n",
      "162:\tlearn: 0.4939657\ttest: 0.5028026\tbest: 0.5028026 (161)\ttotal: 7.35s\tremaining: 1.67s\n",
      "163:\tlearn: 0.4938585\ttest: 0.5028026\tbest: 0.5028026 (161)\ttotal: 7.39s\tremaining: 1.62s\n",
      "164:\tlearn: 0.4938585\ttest: 0.5028026\tbest: 0.5028026 (161)\ttotal: 7.44s\tremaining: 1.58s\n",
      "165:\tlearn: 0.4939383\ttest: 0.5025939\tbest: 0.5028026 (161)\ttotal: 7.49s\tremaining: 1.53s\n",
      "166:\tlearn: 0.4939918\ttest: 0.5028026\tbest: 0.5028026 (161)\ttotal: 7.54s\tremaining: 1.49s\n",
      "167:\tlearn: 0.4943119\ttest: 0.5025939\tbest: 0.5028026 (161)\ttotal: 7.6s\tremaining: 1.45s\n",
      "168:\tlearn: 0.4941799\ttest: 0.5025917\tbest: 0.5028026 (161)\ttotal: 7.65s\tremaining: 1.4s\n",
      "169:\tlearn: 0.4942857\ttest: 0.5025917\tbest: 0.5028026 (161)\ttotal: 7.7s\tremaining: 1.36s\n",
      "170:\tlearn: 0.4941799\ttest: 0.5031082\tbest: 0.5031082 (170)\ttotal: 7.75s\tremaining: 1.31s\n",
      "171:\tlearn: 0.4949773\ttest: 0.5034183\tbest: 0.5034183 (171)\ttotal: 7.8s\tremaining: 1.27s\n",
      "172:\tlearn: 0.4949762\ttest: 0.5032098\tbest: 0.5034183 (171)\ttotal: 7.85s\tremaining: 1.22s\n",
      "173:\tlearn: 0.4946851\ttest: 0.5034183\tbest: 0.5034183 (171)\ttotal: 7.9s\tremaining: 1.18s\n",
      "174:\tlearn: 0.4946055\ttest: 0.5022812\tbest: 0.5034183 (171)\ttotal: 7.95s\tremaining: 1.14s\n",
      "175:\tlearn: 0.4946055\ttest: 0.5022812\tbest: 0.5034183 (171)\ttotal: 7.97s\tremaining: 1.09s\n",
      "176:\tlearn: 0.4946316\ttest: 0.5034183\tbest: 0.5034183 (171)\ttotal: 8.03s\tremaining: 1.04s\n",
      "177:\tlearn: 0.4948443\ttest: 0.5034183\tbest: 0.5034183 (171)\ttotal: 8.08s\tremaining: 999ms\n",
      "178:\tlearn: 0.4949239\ttest: 0.5030014\tbest: 0.5034183 (171)\ttotal: 8.13s\tremaining: 953ms\n",
      "179:\tlearn: 0.4949239\ttest: 0.5030014\tbest: 0.5034183 (171)\ttotal: 8.16s\tremaining: 907ms\n",
      "180:\tlearn: 0.4950558\ttest: 0.5030014\tbest: 0.5034183 (171)\ttotal: 8.2s\tremaining: 860ms\n",
      "181:\tlearn: 0.4952139\ttest: 0.5032098\tbest: 0.5034183 (171)\ttotal: 8.24s\tremaining: 815ms\n",
      "182:\tlearn: 0.4952693\ttest: 0.5032098\tbest: 0.5034183 (171)\ttotal: 8.29s\tremaining: 770ms\n",
      "183:\tlearn: 0.5270787\ttest: 0.5439234\tbest: 0.5439234 (183)\ttotal: 8.33s\tremaining: 725ms\n",
      "184:\tlearn: 0.5269794\ttest: 0.5439234\tbest: 0.5439234 (183)\ttotal: 8.38s\tremaining: 680ms\n",
      "185:\tlearn: 0.5271310\ttest: 0.5439234\tbest: 0.5439234 (183)\ttotal: 8.44s\tremaining: 635ms\n",
      "186:\tlearn: 0.5271364\ttest: 0.5437153\tbest: 0.5439234 (183)\ttotal: 8.48s\tremaining: 590ms\n",
      "187:\tlearn: 0.5310590\ttest: 0.5441683\tbest: 0.5441683 (187)\ttotal: 8.53s\tremaining: 545ms\n",
      "188:\tlearn: 0.5273034\ttest: 0.5441683\tbest: 0.5441683 (187)\ttotal: 8.58s\tremaining: 499ms\n",
      "189:\tlearn: 0.5273034\ttest: 0.5441683\tbest: 0.5441683 (187)\ttotal: 8.63s\tremaining: 454ms\n",
      "190:\tlearn: 0.5312700\ttest: 0.5441683\tbest: 0.5441683 (187)\ttotal: 8.68s\tremaining: 409ms\n",
      "191:\tlearn: 0.5312238\ttest: 0.5441683\tbest: 0.5441683 (187)\ttotal: 8.73s\tremaining: 364ms\n",
      "192:\tlearn: 0.5313686\ttest: 0.5441683\tbest: 0.5441683 (187)\ttotal: 8.77s\tremaining: 318ms\n",
      "193:\tlearn: 0.5313424\ttest: 0.5441683\tbest: 0.5441683 (187)\ttotal: 8.81s\tremaining: 273ms\n",
      "194:\tlearn: 0.5313686\ttest: 0.5439602\tbest: 0.5441683 (187)\ttotal: 8.86s\tremaining: 227ms\n",
      "195:\tlearn: 0.5313948\ttest: 0.5439602\tbest: 0.5441683 (187)\ttotal: 8.91s\tremaining: 182ms\n",
      "196:\tlearn: 0.5314348\ttest: 0.5435074\tbest: 0.5441683 (187)\ttotal: 8.95s\tremaining: 136ms\n",
      "197:\tlearn: 0.5314610\ttest: 0.5435074\tbest: 0.5441683 (187)\ttotal: 8.99s\tremaining: 90.8ms\n",
      "198:\tlearn: 0.5314286\ttest: 0.5437524\tbest: 0.5441683 (187)\ttotal: 9.04s\tremaining: 45.4ms\n",
      "199:\tlearn: 0.5315471\ttest: 0.5437524\tbest: 0.5441683 (187)\ttotal: 9.09s\tremaining: 0us\n",
      "\n",
      "bestTest = 0.54416826\n",
      "bestIteration = 187\n",
      "\n",
      "0:\tlearn: 0.3628051\ttest: 0.3906063\tbest: 0.3906063 (0)\ttotal: 27.9ms\tremaining: 5.55s\n",
      "1:\tlearn: 0.3900145\ttest: 0.4108818\tbest: 0.4108818 (1)\ttotal: 66.5ms\tremaining: 6.58s\n",
      "2:\tlearn: 0.3901410\ttest: 0.4108818\tbest: 0.4108818 (1)\ttotal: 109ms\tremaining: 7.17s\n",
      "3:\tlearn: 0.3907991\ttest: 0.4108818\tbest: 0.4108818 (1)\ttotal: 133ms\tremaining: 6.53s\n",
      "4:\tlearn: 0.3907991\ttest: 0.4108818\tbest: 0.4108818 (1)\ttotal: 172ms\tremaining: 6.71s\n",
      "5:\tlearn: 0.4345685\ttest: 0.4471744\tbest: 0.4471744 (5)\ttotal: 219ms\tremaining: 7.07s\n",
      "6:\tlearn: 0.4339601\ttest: 0.4466324\tbest: 0.4471744 (5)\ttotal: 251ms\tremaining: 6.93s\n",
      "7:\tlearn: 0.4610568\ttest: 0.4821695\tbest: 0.4821695 (7)\ttotal: 294ms\tremaining: 7.04s\n",
      "8:\tlearn: 0.4609551\ttest: 0.4818298\tbest: 0.4821695 (7)\ttotal: 347ms\tremaining: 7.37s\n",
      "9:\tlearn: 0.4590019\ttest: 0.4815052\tbest: 0.4821695 (7)\ttotal: 388ms\tremaining: 7.37s\n",
      "10:\tlearn: 0.4612003\ttest: 0.4818298\tbest: 0.4821695 (7)\ttotal: 427ms\tremaining: 7.34s\n",
      "11:\tlearn: 0.4609715\ttest: 0.4816239\tbest: 0.4821695 (7)\ttotal: 472ms\tremaining: 7.39s\n",
      "12:\tlearn: 0.4625096\ttest: 0.4822725\tbest: 0.4822725 (12)\ttotal: 504ms\tremaining: 7.25s\n",
      "13:\tlearn: 0.4627537\ttest: 0.4822725\tbest: 0.4822725 (12)\ttotal: 544ms\tremaining: 7.22s\n",
      "14:\tlearn: 0.4629487\ttest: 0.4816239\tbest: 0.4822725 (12)\ttotal: 590ms\tremaining: 7.28s\n",
      "15:\tlearn: 0.4634039\ttest: 0.4815210\tbest: 0.4822725 (12)\ttotal: 629ms\tremaining: 7.23s\n",
      "16:\tlearn: 0.4636488\ttest: 0.4817269\tbest: 0.4822725 (12)\ttotal: 669ms\tremaining: 7.2s\n",
      "17:\tlearn: 0.4631094\ttest: 0.4822574\tbest: 0.4822725 (12)\ttotal: 704ms\tremaining: 7.12s\n",
      "18:\tlearn: 0.4636409\ttest: 0.4829060\tbest: 0.4829060 (18)\ttotal: 748ms\tremaining: 7.12s\n",
      "19:\tlearn: 0.4628254\ttest: 0.4813545\tbest: 0.4829060 (18)\ttotal: 789ms\tremaining: 7.1s\n",
      "20:\tlearn: 0.4630618\ttest: 0.4808228\tbest: 0.4829060 (18)\ttotal: 823ms\tremaining: 7.01s\n",
      "21:\tlearn: 0.4625888\ttest: 0.4808228\tbest: 0.4829060 (18)\ttotal: 877ms\tremaining: 7.09s\n",
      "22:\tlearn: 0.4625558\ttest: 0.4811482\tbest: 0.4829060 (18)\ttotal: 918ms\tremaining: 7.06s\n",
      "23:\tlearn: 0.4626825\ttest: 0.4807033\tbest: 0.4829060 (18)\ttotal: 979ms\tremaining: 7.18s\n",
      "24:\tlearn: 0.4634455\ttest: 0.4789519\tbest: 0.4829060 (18)\ttotal: 1.03s\tremaining: 7.24s\n",
      "25:\tlearn: 0.4639533\ttest: 0.4793814\tbest: 0.4829060 (18)\ttotal: 1.08s\tremaining: 7.26s\n",
      "26:\tlearn: 0.4636324\ttest: 0.4795699\tbest: 0.4829060 (18)\ttotal: 1.13s\tremaining: 7.24s\n",
      "27:\tlearn: 0.4643093\ttest: 0.4799141\tbest: 0.4829060 (18)\ttotal: 1.19s\tremaining: 7.3s\n",
      "28:\tlearn: 0.4644273\ttest: 0.4799141\tbest: 0.4829060 (18)\ttotal: 1.23s\tremaining: 7.25s\n",
      "29:\tlearn: 0.4717177\ttest: 0.4840358\tbest: 0.4840358 (29)\ttotal: 1.27s\tremaining: 7.23s\n",
      "30:\tlearn: 0.4721526\ttest: 0.4839464\tbest: 0.4840358 (29)\ttotal: 1.3s\tremaining: 7.08s\n",
      "31:\tlearn: 0.4724856\ttest: 0.4843584\tbest: 0.4843584 (31)\ttotal: 1.35s\tremaining: 7.07s\n",
      "32:\tlearn: 0.4743422\ttest: 0.4858901\tbest: 0.4858901 (32)\ttotal: 1.41s\tremaining: 7.11s\n",
      "33:\tlearn: 0.4743938\ttest: 0.4852473\tbest: 0.4858901 (32)\ttotal: 1.45s\tremaining: 7.08s\n",
      "34:\tlearn: 0.4755647\ttest: 0.4849257\tbest: 0.4858901 (32)\ttotal: 1.5s\tremaining: 7.06s\n",
      "35:\tlearn: 0.4757044\ttest: 0.4847199\tbest: 0.4858901 (32)\ttotal: 1.55s\tremaining: 7.07s\n",
      "36:\tlearn: 0.4765265\ttest: 0.4850414\tbest: 0.4858901 (32)\ttotal: 1.6s\tremaining: 7.05s\n",
      "37:\tlearn: 0.4757920\ttest: 0.4853503\tbest: 0.4858901 (32)\ttotal: 1.65s\tremaining: 7.04s\n",
      "38:\tlearn: 0.4761801\ttest: 0.4859932\tbest: 0.4859932 (38)\ttotal: 1.7s\tremaining: 7s\n",
      "39:\tlearn: 0.4761232\ttest: 0.4859932\tbest: 0.4859932 (38)\ttotal: 1.74s\tremaining: 6.95s\n",
      "40:\tlearn: 0.4765939\ttest: 0.4856718\tbest: 0.4859932 (38)\ttotal: 1.79s\tremaining: 6.95s\n",
      "41:\tlearn: 0.4766868\ttest: 0.4854657\tbest: 0.4859932 (38)\ttotal: 1.83s\tremaining: 6.9s\n",
      "42:\tlearn: 0.4827846\ttest: 0.4930818\tbest: 0.4930818 (42)\ttotal: 1.88s\tremaining: 6.86s\n",
      "43:\tlearn: 0.4894488\ttest: 0.4997924\tbest: 0.4997924 (43)\ttotal: 1.93s\tremaining: 6.86s\n",
      "44:\tlearn: 0.4901513\ttest: 0.5006227\tbest: 0.5006227 (44)\ttotal: 1.99s\tremaining: 6.85s\n",
      "45:\tlearn: 0.4905720\ttest: 0.5015505\tbest: 0.5015505 (45)\ttotal: 2.04s\tremaining: 6.85s\n",
      "46:\tlearn: 0.4907020\ttest: 0.5012407\tbest: 0.5015505 (45)\ttotal: 2.09s\tremaining: 6.82s\n",
      "47:\tlearn: 0.4907020\ttest: 0.5012407\tbest: 0.5015505 (45)\ttotal: 2.11s\tremaining: 6.67s\n",
      "48:\tlearn: 0.4911277\ttest: 0.5015505\tbest: 0.5015505 (45)\ttotal: 2.16s\tremaining: 6.65s\n",
      "49:\tlearn: 0.4910904\ttest: 0.5003114\tbest: 0.5015505 (45)\ttotal: 2.21s\tremaining: 6.62s\n",
      "50:\tlearn: 0.4915200\ttest: 0.5017609\tbest: 0.5017609 (50)\ttotal: 2.26s\tremaining: 6.59s\n",
      "51:\tlearn: 0.4929942\ttest: 0.5027864\tbest: 0.5027864 (51)\ttotal: 2.3s\tremaining: 6.55s\n",
      "52:\tlearn: 0.4924266\ttest: 0.5002076\tbest: 0.5027864 (51)\ttotal: 2.34s\tremaining: 6.5s\n",
      "53:\tlearn: 0.4928058\ttest: 0.5015505\tbest: 0.5027864 (51)\ttotal: 2.4s\tremaining: 6.49s\n",
      "54:\tlearn: 0.4928318\ttest: 0.5015505\tbest: 0.5027864 (51)\ttotal: 2.43s\tremaining: 6.41s\n",
      "55:\tlearn: 0.4926171\ttest: 0.5013444\tbest: 0.5027864 (51)\ttotal: 2.48s\tremaining: 6.37s\n",
      "56:\tlearn: 0.4928534\ttest: 0.5011380\tbest: 0.5027864 (51)\ttotal: 2.52s\tremaining: 6.33s\n",
      "57:\tlearn: 0.4931724\ttest: 0.5011380\tbest: 0.5027864 (51)\ttotal: 2.57s\tremaining: 6.3s\n",
      "58:\tlearn: 0.4931434\ttest: 0.5010352\tbest: 0.5027864 (51)\ttotal: 2.62s\tremaining: 6.26s\n",
      "59:\tlearn: 0.4935697\ttest: 0.5010352\tbest: 0.5027864 (51)\ttotal: 2.66s\tremaining: 6.22s\n",
      "60:\tlearn: 0.4936769\ttest: 0.5010352\tbest: 0.5027864 (51)\ttotal: 2.71s\tremaining: 6.17s\n",
      "61:\tlearn: 0.4939969\ttest: 0.5010352\tbest: 0.5027864 (51)\ttotal: 2.76s\tremaining: 6.14s\n",
      "62:\tlearn: 0.4939683\ttest: 0.5007248\tbest: 0.5027864 (51)\ttotal: 2.81s\tremaining: 6.11s\n",
      "63:\tlearn: 0.4942869\ttest: 0.5007248\tbest: 0.5027864 (51)\ttotal: 2.86s\tremaining: 6.07s\n",
      "64:\tlearn: 0.4946066\ttest: 0.5006211\tbest: 0.5027864 (51)\ttotal: 2.9s\tremaining: 6.03s\n",
      "65:\tlearn: 0.4944474\ttest: 0.5006211\tbest: 0.5027864 (51)\ttotal: 2.95s\tremaining: 5.99s\n",
      "66:\tlearn: 0.4946066\ttest: 0.5006211\tbest: 0.5027864 (51)\ttotal: 2.99s\tremaining: 5.93s\n",
      "67:\tlearn: 0.4948454\ttest: 0.5007248\tbest: 0.5027864 (51)\ttotal: 3.04s\tremaining: 5.9s\n",
      "68:\tlearn: 0.4948454\ttest: 0.5007248\tbest: 0.5027864 (51)\ttotal: 3.09s\tremaining: 5.86s\n",
      "69:\tlearn: 0.4948715\ttest: 0.5007248\tbest: 0.5027864 (51)\ttotal: 3.14s\tremaining: 5.83s\n",
      "70:\tlearn: 0.4951364\ttest: 0.5007248\tbest: 0.5027864 (51)\ttotal: 3.19s\tremaining: 5.8s\n",
      "71:\tlearn: 0.4951626\ttest: 0.5007248\tbest: 0.5027864 (51)\ttotal: 3.25s\tremaining: 5.78s\n",
      "72:\tlearn: 0.4957193\ttest: 0.5010343\tbest: 0.5027864 (51)\ttotal: 3.29s\tremaining: 5.73s\n",
      "73:\tlearn: 0.4954536\ttest: 0.5010343\tbest: 0.5027864 (51)\ttotal: 3.35s\tremaining: 5.7s\n",
      "74:\tlearn: 0.4956126\ttest: 0.5010343\tbest: 0.5027864 (51)\ttotal: 3.4s\tremaining: 5.66s\n",
      "75:\tlearn: 0.4955322\ttest: 0.5004139\tbest: 0.5027864 (51)\ttotal: 3.45s\tremaining: 5.63s\n",
      "76:\tlearn: 0.4956398\ttest: 0.5016543\tbest: 0.5027864 (51)\ttotal: 3.5s\tremaining: 5.59s\n",
      "77:\tlearn: 0.4956922\ttest: 0.5010343\tbest: 0.5027864 (51)\ttotal: 3.55s\tremaining: 5.55s\n",
      "78:\tlearn: 0.4955331\ttest: 0.5019640\tbest: 0.5027864 (51)\ttotal: 3.6s\tremaining: 5.51s\n",
      "79:\tlearn: 0.4951595\ttest: 0.5021717\tbest: 0.5027864 (51)\ttotal: 3.67s\tremaining: 5.5s\n",
      "80:\tlearn: 0.4951595\ttest: 0.5021717\tbest: 0.5027864 (51)\ttotal: 3.71s\tremaining: 5.45s\n",
      "81:\tlearn: 0.4950254\ttest: 0.5007248\tbest: 0.5027864 (51)\ttotal: 3.77s\tremaining: 5.42s\n",
      "82:\tlearn: 0.4953177\ttest: 0.5005175\tbest: 0.5027864 (51)\ttotal: 3.82s\tremaining: 5.38s\n",
      "83:\tlearn: 0.4952381\ttest: 0.5005175\tbest: 0.5027864 (51)\ttotal: 3.83s\tremaining: 5.29s\n",
      "84:\tlearn: 0.4957428\ttest: 0.5005175\tbest: 0.5027864 (51)\ttotal: 3.88s\tremaining: 5.25s\n",
      "85:\tlearn: 0.4955293\ttest: 0.5006211\tbest: 0.5027864 (51)\ttotal: 3.94s\tremaining: 5.22s\n",
      "86:\tlearn: 0.4959027\ttest: 0.5017580\tbest: 0.5027864 (51)\ttotal: 4s\tremaining: 5.2s\n",
      "87:\tlearn: 0.4960355\ttest: 0.5017580\tbest: 0.5027864 (51)\ttotal: 4.07s\tremaining: 5.18s\n",
      "88:\tlearn: 0.4961150\ttest: 0.5017580\tbest: 0.5027864 (51)\ttotal: 4.13s\tremaining: 5.15s\n",
      "89:\tlearn: 0.4959822\ttest: 0.5017580\tbest: 0.5027864 (51)\ttotal: 4.18s\tremaining: 5.11s\n",
      "90:\tlearn: 0.4959822\ttest: 0.5017580\tbest: 0.5027864 (51)\ttotal: 4.2s\tremaining: 5.04s\n",
      "91:\tlearn: 0.5343063\ttest: 0.5424312\tbest: 0.5424312 (91)\ttotal: 4.26s\tremaining: 5s\n",
      "92:\tlearn: 0.5344042\ttest: 0.5427097\tbest: 0.5427097 (92)\ttotal: 4.32s\tremaining: 4.97s\n",
      "93:\tlearn: 0.5345284\ttest: 0.5424312\tbest: 0.5427097 (92)\ttotal: 4.38s\tremaining: 4.94s\n",
      "94:\tlearn: 0.5349464\ttest: 0.5420811\tbest: 0.5427097 (92)\ttotal: 4.42s\tremaining: 4.89s\n",
      "95:\tlearn: 0.5348484\ttest: 0.5418022\tbest: 0.5427097 (92)\ttotal: 4.47s\tremaining: 4.84s\n",
      "96:\tlearn: 0.5348484\ttest: 0.5418022\tbest: 0.5427097 (92)\ttotal: 4.49s\tremaining: 4.77s\n",
      "97:\tlearn: 0.5350044\ttest: 0.5421526\tbest: 0.5427097 (92)\ttotal: 4.55s\tremaining: 4.74s\n",
      "98:\tlearn: 0.5350774\ttest: 0.5412440\tbest: 0.5427097 (92)\ttotal: 4.6s\tremaining: 4.69s\n",
      "99:\tlearn: 0.5353451\ttest: 0.5408925\tbest: 0.5427097 (92)\ttotal: 4.66s\tremaining: 4.66s\n",
      "100:\tlearn: 0.5353590\ttest: 0.5407890\tbest: 0.5427097 (92)\ttotal: 4.71s\tremaining: 4.62s\n",
      "101:\tlearn: 0.5353258\ttest: 0.5407890\tbest: 0.5427097 (92)\ttotal: 4.75s\tremaining: 4.57s\n",
      "102:\tlearn: 0.5353258\ttest: 0.5407890\tbest: 0.5427097 (92)\ttotal: 4.8s\tremaining: 4.53s\n",
      "103:\tlearn: 0.5356460\ttest: 0.5410684\tbest: 0.5427097 (92)\ttotal: 4.85s\tremaining: 4.48s\n",
      "104:\tlearn: 0.5355743\ttest: 0.5407890\tbest: 0.5427097 (92)\ttotal: 4.91s\tremaining: 4.44s\n",
      "105:\tlearn: 0.5354570\ttest: 0.5409648\tbest: 0.5427097 (92)\ttotal: 4.97s\tremaining: 4.41s\n",
      "106:\tlearn: 0.5353149\ttest: 0.5410684\tbest: 0.5427097 (92)\ttotal: 5.02s\tremaining: 4.36s\n",
      "107:\tlearn: 0.5352430\ttest: 0.5410684\tbest: 0.5427097 (92)\ttotal: 5.08s\tremaining: 4.32s\n",
      "108:\tlearn: 0.4966095\ttest: 0.4994814\tbest: 0.5427097 (92)\ttotal: 5.13s\tremaining: 4.29s\n",
      "109:\tlearn: 0.4966358\ttest: 0.4994814\tbest: 0.5427097 (92)\ttotal: 5.2s\tremaining: 4.25s\n",
      "110:\tlearn: 0.4967680\ttest: 0.4992743\tbest: 0.5427097 (92)\ttotal: 5.26s\tremaining: 4.22s\n",
      "111:\tlearn: 0.4966073\ttest: 0.4992743\tbest: 0.5427097 (92)\ttotal: 5.33s\tremaining: 4.18s\n",
      "112:\tlearn: 0.4965013\ttest: 0.4997926\tbest: 0.5427097 (92)\ttotal: 5.38s\tremaining: 4.14s\n",
      "113:\tlearn: 0.5354338\ttest: 0.5411314\tbest: 0.5427097 (92)\ttotal: 5.43s\tremaining: 4.1s\n",
      "114:\tlearn: 0.5353952\ttest: 0.5411314\tbest: 0.5427097 (92)\ttotal: 5.49s\tremaining: 4.05s\n",
      "115:\tlearn: 0.4967403\ttest: 0.5001038\tbest: 0.5427097 (92)\ttotal: 5.54s\tremaining: 4.01s\n",
      "116:\tlearn: 0.5351338\ttest: 0.5411314\tbest: 0.5427097 (92)\ttotal: 5.59s\tremaining: 3.96s\n",
      "117:\tlearn: 0.5352777\ttest: 0.5411314\tbest: 0.5427097 (92)\ttotal: 5.64s\tremaining: 3.92s\n",
      "118:\tlearn: 0.5352057\ttest: 0.5411314\tbest: 0.5427097 (92)\ttotal: 5.7s\tremaining: 3.88s\n",
      "119:\tlearn: 0.5355127\ttest: 0.5414428\tbest: 0.5427097 (92)\ttotal: 5.75s\tremaining: 3.83s\n",
      "120:\tlearn: 0.5354408\ttest: 0.5414428\tbest: 0.5427097 (92)\ttotal: 5.79s\tremaining: 3.78s\n",
      "121:\tlearn: 0.5354532\ttest: 0.5424574\tbest: 0.5427097 (92)\ttotal: 5.85s\tremaining: 3.74s\n",
      "122:\tlearn: 0.5355776\ttest: 0.5424574\tbest: 0.5427097 (92)\ttotal: 5.9s\tremaining: 3.69s\n",
      "123:\tlearn: 0.5358650\ttest: 0.5424574\tbest: 0.5427097 (92)\ttotal: 5.95s\tremaining: 3.65s\n",
      "124:\tlearn: 0.5359439\ttest: 0.5423534\tbest: 0.5427097 (92)\ttotal: 6s\tremaining: 3.6s\n",
      "125:\tlearn: 0.5362767\ttest: 0.5426327\tbest: 0.5427097 (92)\ttotal: 6.05s\tremaining: 3.56s\n",
      "126:\tlearn: 0.5366428\ttest: 0.5419701\tbest: 0.5427097 (92)\ttotal: 6.11s\tremaining: 3.51s\n",
      "127:\tlearn: 0.5364346\ttest: 0.5420418\tbest: 0.5427097 (92)\ttotal: 6.17s\tremaining: 3.47s\n",
      "128:\tlearn: 0.5369490\ttest: 0.5420418\tbest: 0.5427097 (92)\ttotal: 6.23s\tremaining: 3.43s\n",
      "129:\tlearn: 0.5369608\ttest: 0.5419380\tbest: 0.5427097 (92)\ttotal: 6.29s\tremaining: 3.38s\n",
      "130:\tlearn: 0.5372666\ttest: 0.5419380\tbest: 0.5427097 (92)\ttotal: 6.35s\tremaining: 3.34s\n",
      "131:\tlearn: 0.5374100\ttest: 0.5419380\tbest: 0.5427097 (92)\ttotal: 6.4s\tremaining: 3.3s\n",
      "132:\tlearn: 0.5373836\ttest: 0.5419380\tbest: 0.5427097 (92)\ttotal: 6.45s\tremaining: 3.25s\n",
      "133:\tlearn: 0.5380547\ttest: 0.5418342\tbest: 0.5427097 (92)\ttotal: 6.51s\tremaining: 3.2s\n",
      "134:\tlearn: 0.5380358\ttest: 0.5418342\tbest: 0.5427097 (92)\ttotal: 6.56s\tremaining: 3.16s\n",
      "135:\tlearn: 0.5387855\ttest: 0.5420418\tbest: 0.5427097 (92)\ttotal: 6.61s\tremaining: 3.11s\n",
      "136:\tlearn: 0.5388307\ttest: 0.5423209\tbest: 0.5427097 (92)\ttotal: 6.66s\tremaining: 3.06s\n",
      "137:\tlearn: 0.5388571\ttest: 0.5423209\tbest: 0.5427097 (92)\ttotal: 6.72s\tremaining: 3.02s\n",
      "138:\tlearn: 0.5390793\ttest: 0.5423209\tbest: 0.5427097 (92)\ttotal: 6.78s\tremaining: 2.98s\n",
      "139:\tlearn: 0.5390453\ttest: 0.5420418\tbest: 0.5427097 (92)\ttotal: 6.83s\tremaining: 2.93s\n",
      "140:\tlearn: 0.5391432\ttest: 0.5420418\tbest: 0.5427097 (92)\ttotal: 6.89s\tremaining: 2.88s\n",
      "141:\tlearn: 0.5387252\ttest: 0.5420418\tbest: 0.5427097 (92)\ttotal: 6.95s\tremaining: 2.84s\n",
      "142:\tlearn: 0.5388682\ttest: 0.5420418\tbest: 0.5427097 (92)\ttotal: 7s\tremaining: 2.79s\n",
      "143:\tlearn: 0.5389661\ttest: 0.5420418\tbest: 0.5427097 (92)\ttotal: 7.06s\tremaining: 2.75s\n",
      "144:\tlearn: 0.5388231\ttest: 0.5420418\tbest: 0.5427097 (92)\ttotal: 7.11s\tremaining: 2.7s\n",
      "145:\tlearn: 0.5388946\ttest: 0.5420418\tbest: 0.5427097 (92)\ttotal: 7.16s\tremaining: 2.65s\n",
      "146:\tlearn: 0.5389397\ttest: 0.5422171\tbest: 0.5427097 (92)\ttotal: 7.2s\tremaining: 2.6s\n",
      "147:\tlearn: 0.5390376\ttest: 0.5422171\tbest: 0.5427097 (92)\ttotal: 7.26s\tremaining: 2.55s\n",
      "148:\tlearn: 0.5392258\ttest: 0.5420489\tbest: 0.5427097 (92)\ttotal: 7.3s\tremaining: 2.5s\n",
      "149:\tlearn: 0.5392896\ttest: 0.5420489\tbest: 0.5427097 (92)\ttotal: 7.36s\tremaining: 2.45s\n",
      "150:\tlearn: 0.5393610\ttest: 0.5420489\tbest: 0.5427097 (92)\ttotal: 7.41s\tremaining: 2.4s\n",
      "151:\tlearn: 0.5393874\ttest: 0.5417702\tbest: 0.5427097 (92)\ttotal: 7.46s\tremaining: 2.36s\n",
      "152:\tlearn: 0.5395039\ttest: 0.5417702\tbest: 0.5427097 (92)\ttotal: 7.51s\tremaining: 2.31s\n",
      "153:\tlearn: 0.5395039\ttest: 0.5417702\tbest: 0.5427097 (92)\ttotal: 7.57s\tremaining: 2.26s\n",
      "154:\tlearn: 0.5398005\ttest: 0.5414914\tbest: 0.5427097 (92)\ttotal: 7.62s\tremaining: 2.21s\n",
      "155:\tlearn: 0.5397447\ttest: 0.5418022\tbest: 0.5427097 (92)\ttotal: 7.67s\tremaining: 2.16s\n",
      "156:\tlearn: 0.5398425\ttest: 0.5420811\tbest: 0.5427097 (92)\ttotal: 7.73s\tremaining: 2.12s\n",
      "157:\tlearn: 0.5400831\ttest: 0.5429172\tbest: 0.5429172 (157)\ttotal: 7.78s\tremaining: 2.07s\n",
      "158:\tlearn: 0.5401546\ttest: 0.5428135\tbest: 0.5429172 (157)\ttotal: 7.83s\tremaining: 2.02s\n",
      "159:\tlearn: 0.5401546\ttest: 0.5429882\tbest: 0.5429882 (159)\ttotal: 7.88s\tremaining: 1.97s\n",
      "160:\tlearn: 0.5400753\ttest: 0.5428844\tbest: 0.5429882 (159)\ttotal: 7.94s\tremaining: 1.92s\n",
      "161:\tlearn: 0.5400567\ttest: 0.5426060\tbest: 0.5429882 (159)\ttotal: 7.99s\tremaining: 1.87s\n",
      "162:\tlearn: 0.5402788\ttest: 0.5422239\tbest: 0.5429882 (159)\ttotal: 8.05s\tremaining: 1.83s\n",
      "163:\tlearn: 0.5403131\ttest: 0.5422239\tbest: 0.5429882 (159)\ttotal: 8.1s\tremaining: 1.78s\n",
      "164:\tlearn: 0.5405273\ttest: 0.5421526\tbest: 0.5429882 (159)\ttotal: 8.15s\tremaining: 1.73s\n",
      "165:\tlearn: 0.5407864\ttest: 0.5421526\tbest: 0.5429882 (159)\ttotal: 8.21s\tremaining: 1.68s\n",
      "166:\tlearn: 0.5409555\ttest: 0.5420489\tbest: 0.5429882 (159)\ttotal: 8.27s\tremaining: 1.63s\n",
      "167:\tlearn: 0.5412674\ttest: 0.5424312\tbest: 0.5429882 (159)\ttotal: 8.33s\tremaining: 1.59s\n",
      "168:\tlearn: 0.5412570\ttest: 0.5422562\tbest: 0.5429882 (159)\ttotal: 8.39s\tremaining: 1.54s\n",
      "169:\tlearn: 0.5411224\ttest: 0.5417702\tbest: 0.5429882 (159)\ttotal: 8.44s\tremaining: 1.49s\n",
      "170:\tlearn: 0.5412202\ttest: 0.5417702\tbest: 0.5429882 (159)\ttotal: 8.48s\tremaining: 1.44s\n",
      "171:\tlearn: 0.5409876\ttest: 0.5417702\tbest: 0.5429882 (159)\ttotal: 8.54s\tremaining: 1.39s\n",
      "172:\tlearn: 0.5412018\ttest: 0.5417702\tbest: 0.5429882 (159)\ttotal: 8.59s\tremaining: 1.34s\n",
      "173:\tlearn: 0.5413262\ttest: 0.5417702\tbest: 0.5429882 (159)\ttotal: 8.64s\tremaining: 1.29s\n",
      "174:\tlearn: 0.5418970\ttest: 0.5416667\tbest: 0.5429882 (159)\ttotal: 8.69s\tremaining: 1.24s\n",
      "175:\tlearn: 0.5416565\ttest: 0.5416667\tbest: 0.5429882 (159)\ttotal: 8.75s\tremaining: 1.19s\n",
      "176:\tlearn: 0.5418888\ttest: 0.5416667\tbest: 0.5429882 (159)\ttotal: 8.82s\tremaining: 1.15s\n",
      "177:\tlearn: 0.5418888\ttest: 0.5416667\tbest: 0.5429882 (159)\ttotal: 8.87s\tremaining: 1.1s\n",
      "178:\tlearn: 0.5418888\ttest: 0.5416667\tbest: 0.5429882 (159)\ttotal: 8.93s\tremaining: 1.05s\n",
      "179:\tlearn: 0.5417726\ttest: 0.5416667\tbest: 0.5429882 (159)\ttotal: 8.98s\tremaining: 998ms\n",
      "180:\tlearn: 0.5417726\ttest: 0.5416667\tbest: 0.5429882 (159)\ttotal: 9.03s\tremaining: 948ms\n",
      "181:\tlearn: 0.5416565\ttest: 0.5417702\tbest: 0.5429882 (159)\ttotal: 9.09s\tremaining: 899ms\n",
      "182:\tlearn: 0.5418338\ttest: 0.5419774\tbest: 0.5429882 (159)\ttotal: 9.14s\tremaining: 849ms\n",
      "183:\tlearn: 0.5418869\ttest: 0.5418738\tbest: 0.5429882 (159)\ttotal: 9.19s\tremaining: 799ms\n",
      "184:\tlearn: 0.5421009\ttest: 0.5418738\tbest: 0.5429882 (159)\ttotal: 9.24s\tremaining: 749ms\n",
      "185:\tlearn: 0.5420744\ttest: 0.5419774\tbest: 0.5429882 (159)\ttotal: 9.29s\tremaining: 699ms\n",
      "186:\tlearn: 0.5421009\ttest: 0.5419774\tbest: 0.5429882 (159)\ttotal: 9.34s\tremaining: 649ms\n",
      "187:\tlearn: 0.5423679\ttest: 0.5419774\tbest: 0.5429882 (159)\ttotal: 9.39s\tremaining: 600ms\n",
      "188:\tlearn: 0.5423679\ttest: 0.5419774\tbest: 0.5429882 (159)\ttotal: 9.45s\tremaining: 550ms\n",
      "189:\tlearn: 0.5425454\ttest: 0.5419774\tbest: 0.5429882 (159)\ttotal: 9.49s\tremaining: 499ms\n",
      "190:\tlearn: 0.5426349\ttest: 0.5419774\tbest: 0.5429882 (159)\ttotal: 9.53s\tremaining: 449ms\n",
      "191:\tlearn: 0.5424210\ttest: 0.5419774\tbest: 0.5429882 (159)\ttotal: 9.58s\tremaining: 399ms\n",
      "192:\tlearn: 0.5427957\ttest: 0.5419774\tbest: 0.5429882 (159)\ttotal: 9.63s\tremaining: 349ms\n",
      "193:\tlearn: 0.5427062\ttest: 0.5419774\tbest: 0.5429882 (159)\ttotal: 9.69s\tremaining: 300ms\n",
      "194:\tlearn: 0.5428851\ttest: 0.5419774\tbest: 0.5429882 (159)\ttotal: 9.74s\tremaining: 250ms\n",
      "195:\tlearn: 0.5428851\ttest: 0.5419774\tbest: 0.5429882 (159)\ttotal: 9.79s\tremaining: 200ms\n",
      "196:\tlearn: 0.5428138\ttest: 0.5419774\tbest: 0.5429882 (159)\ttotal: 9.85s\tremaining: 150ms\n",
      "197:\tlearn: 0.5429032\ttest: 0.5416985\tbest: 0.5429882 (159)\ttotal: 9.9s\tremaining: 100ms\n",
      "198:\tlearn: 0.5429745\ttest: 0.5416985\tbest: 0.5429882 (159)\ttotal: 9.95s\tremaining: 50ms\n",
      "199:\tlearn: 0.5432063\ttest: 0.5416985\tbest: 0.5429882 (159)\ttotal: 10s\tremaining: 0us\n",
      "\n",
      "bestTest = 0.5429881544\n",
      "bestIteration = 159\n",
      "\n",
      "0:\tlearn: 0.3628051\ttest: 0.3906063\tbest: 0.3906063 (0)\ttotal: 28.7ms\tremaining: 17.2s\n",
      "1:\tlearn: 0.3712186\ttest: 0.3906063\tbest: 0.3906063 (0)\ttotal: 64.7ms\tremaining: 19.3s\n",
      "2:\tlearn: 0.3715720\ttest: 0.3906063\tbest: 0.3906063 (0)\ttotal: 95.7ms\tremaining: 19s\n",
      "3:\tlearn: 0.3732274\ttest: 0.3907110\tbest: 0.3907110 (3)\ttotal: 141ms\tremaining: 20.9s\n",
      "4:\tlearn: 0.4387535\ttest: 0.4521970\tbest: 0.4521970 (4)\ttotal: 192ms\tremaining: 22.8s\n",
      "5:\tlearn: 0.4385627\ttest: 0.4521970\tbest: 0.4521970 (4)\ttotal: 210ms\tremaining: 20.7s\n",
      "6:\tlearn: 0.4329174\ttest: 0.4458427\tbest: 0.4521970 (4)\ttotal: 251ms\tremaining: 21.2s\n",
      "7:\tlearn: 0.4610983\ttest: 0.4815609\tbest: 0.4815609 (7)\ttotal: 284ms\tremaining: 21s\n",
      "8:\tlearn: 0.4339384\ttest: 0.4458427\tbest: 0.4815609 (7)\ttotal: 327ms\tremaining: 21.5s\n",
      "9:\tlearn: 0.4615300\ttest: 0.4816642\tbest: 0.4816642 (9)\ttotal: 364ms\tremaining: 21.5s\n",
      "10:\tlearn: 0.4615300\ttest: 0.4816642\tbest: 0.4816642 (9)\ttotal: 404ms\tremaining: 21.6s\n",
      "11:\tlearn: 0.4616738\ttest: 0.4816642\tbest: 0.4816642 (9)\ttotal: 442ms\tremaining: 21.6s\n",
      "12:\tlearn: 0.4616400\ttest: 0.4816642\tbest: 0.4816642 (9)\ttotal: 470ms\tremaining: 21.2s\n",
      "13:\tlearn: 0.4615723\ttest: 0.4807899\tbest: 0.4816642 (9)\ttotal: 506ms\tremaining: 21.2s\n",
      "14:\tlearn: 0.4615723\ttest: 0.4807899\tbest: 0.4816642 (9)\ttotal: 543ms\tremaining: 21.2s\n",
      "15:\tlearn: 0.4615723\ttest: 0.4807899\tbest: 0.4816642 (9)\ttotal: 577ms\tremaining: 21.1s\n",
      "16:\tlearn: 0.4616569\ttest: 0.4807899\tbest: 0.4816642 (9)\ttotal: 613ms\tremaining: 21s\n",
      "17:\tlearn: 0.4616823\ttest: 0.4807899\tbest: 0.4816642 (9)\ttotal: 647ms\tremaining: 20.9s\n",
      "18:\tlearn: 0.4615977\ttest: 0.4807899\tbest: 0.4816642 (9)\ttotal: 684ms\tremaining: 20.9s\n",
      "19:\tlearn: 0.4616908\ttest: 0.4816642\tbest: 0.4816642 (9)\ttotal: 724ms\tremaining: 21s\n",
      "20:\tlearn: 0.4616908\ttest: 0.4816642\tbest: 0.4816642 (9)\ttotal: 747ms\tremaining: 20.6s\n",
      "21:\tlearn: 0.4616062\ttest: 0.4816642\tbest: 0.4816642 (9)\ttotal: 784ms\tremaining: 20.6s\n",
      "22:\tlearn: 0.4615469\ttest: 0.4816642\tbest: 0.4816642 (9)\ttotal: 827ms\tremaining: 20.7s\n",
      "23:\tlearn: 0.4615469\ttest: 0.4816642\tbest: 0.4816642 (9)\ttotal: 867ms\tremaining: 20.8s\n",
      "24:\tlearn: 0.4615469\ttest: 0.4816642\tbest: 0.4816642 (9)\ttotal: 888ms\tremaining: 20.4s\n",
      "25:\tlearn: 0.4614623\ttest: 0.4816642\tbest: 0.4816642 (9)\ttotal: 933ms\tremaining: 20.6s\n",
      "26:\tlearn: 0.4614877\ttest: 0.4816642\tbest: 0.4816642 (9)\ttotal: 969ms\tremaining: 20.6s\n",
      "27:\tlearn: 0.4624773\ttest: 0.4818864\tbest: 0.4818864 (27)\ttotal: 1s\tremaining: 20.5s\n",
      "28:\tlearn: 0.4625110\ttest: 0.4818864\tbest: 0.4818864 (27)\ttotal: 1.05s\tremaining: 20.7s\n",
      "29:\tlearn: 0.4624265\ttest: 0.4818864\tbest: 0.4818864 (27)\ttotal: 1.09s\tremaining: 20.7s\n",
      "30:\tlearn: 0.4626546\ttest: 0.4818864\tbest: 0.4818864 (27)\ttotal: 1.13s\tremaining: 20.8s\n",
      "31:\tlearn: 0.4630260\ttest: 0.4829801\tbest: 0.4829801 (31)\ttotal: 1.18s\tremaining: 20.9s\n",
      "32:\tlearn: 0.4632458\ttest: 0.4829801\tbest: 0.4829801 (31)\ttotal: 1.22s\tremaining: 21s\n",
      "33:\tlearn: 0.4631614\ttest: 0.4829801\tbest: 0.4829801 (31)\ttotal: 1.26s\tremaining: 21s\n",
      "34:\tlearn: 0.4632793\ttest: 0.4829801\tbest: 0.4829801 (31)\ttotal: 1.3s\tremaining: 20.9s\n",
      "35:\tlearn: 0.4631359\ttest: 0.4829801\tbest: 0.4829801 (31)\ttotal: 1.34s\tremaining: 21s\n",
      "36:\tlearn: 0.4630769\ttest: 0.4829801\tbest: 0.4829801 (31)\ttotal: 1.38s\tremaining: 21s\n",
      "37:\tlearn: 0.4630515\ttest: 0.4829801\tbest: 0.4829801 (31)\ttotal: 1.42s\tremaining: 21s\n",
      "38:\tlearn: 0.4631197\ttest: 0.4829801\tbest: 0.4829801 (31)\ttotal: 1.46s\tremaining: 21.1s\n",
      "39:\tlearn: 0.4631197\ttest: 0.4823303\tbest: 0.4829801 (31)\ttotal: 1.5s\tremaining: 21s\n",
      "40:\tlearn: 0.4631961\ttest: 0.4820051\tbest: 0.4829801 (31)\ttotal: 1.54s\tremaining: 21.1s\n",
      "41:\tlearn: 0.4637363\ttest: 0.4829801\tbest: 0.4829801 (31)\ttotal: 1.58s\tremaining: 21.1s\n",
      "42:\tlearn: 0.4637108\ttest: 0.4829801\tbest: 0.4829801 (31)\ttotal: 1.63s\tremaining: 21.1s\n",
      "43:\tlearn: 0.4637697\ttest: 0.4829801\tbest: 0.4829801 (31)\ttotal: 1.67s\tremaining: 21.1s\n",
      "44:\tlearn: 0.4637522\ttest: 0.4828767\tbest: 0.4829801 (31)\ttotal: 1.7s\tremaining: 21s\n",
      "45:\tlearn: 0.4639719\ttest: 0.4828767\tbest: 0.4829801 (31)\ttotal: 1.76s\tremaining: 21.2s\n",
      "46:\tlearn: 0.4638875\ttest: 0.4828767\tbest: 0.4829801 (31)\ttotal: 1.8s\tremaining: 21.2s\n",
      "47:\tlearn: 0.4638031\ttest: 0.4828767\tbest: 0.4829801 (31)\ttotal: 1.84s\tremaining: 21.2s\n",
      "48:\tlearn: 0.4640562\ttest: 0.4828767\tbest: 0.4829801 (31)\ttotal: 1.88s\tremaining: 21.2s\n",
      "49:\tlearn: 0.4639719\ttest: 0.4828767\tbest: 0.4829801 (31)\ttotal: 1.92s\tremaining: 21.1s\n",
      "50:\tlearn: 0.4637188\ttest: 0.4828767\tbest: 0.4829801 (31)\ttotal: 1.96s\tremaining: 21.1s\n",
      "51:\tlearn: 0.4635500\ttest: 0.4824486\tbest: 0.4829801 (31)\ttotal: 2s\tremaining: 21.1s\n",
      "52:\tlearn: 0.4638875\ttest: 0.4827734\tbest: 0.4829801 (31)\ttotal: 2.04s\tremaining: 21.1s\n",
      "53:\tlearn: 0.4637697\ttest: 0.4827734\tbest: 0.4829801 (31)\ttotal: 2.08s\tremaining: 21s\n",
      "54:\tlearn: 0.4636264\ttest: 0.4824486\tbest: 0.4829801 (31)\ttotal: 2.12s\tremaining: 21s\n",
      "55:\tlearn: 0.4636518\ttest: 0.4825519\tbest: 0.4829801 (31)\ttotal: 2.17s\tremaining: 21s\n",
      "56:\tlearn: 0.4636009\ttest: 0.4825519\tbest: 0.4829801 (31)\ttotal: 2.22s\tremaining: 21.1s\n",
      "57:\tlearn: 0.4637617\ttest: 0.4825519\tbest: 0.4829801 (31)\ttotal: 2.26s\tremaining: 21.1s\n",
      "58:\tlearn: 0.4636773\ttest: 0.4825519\tbest: 0.4829801 (31)\ttotal: 2.31s\tremaining: 21.2s\n",
      "59:\tlearn: 0.4635929\ttest: 0.4822270\tbest: 0.4829801 (31)\ttotal: 2.35s\tremaining: 21.2s\n",
      "60:\tlearn: 0.4637108\ttest: 0.4822270\tbest: 0.4829801 (31)\ttotal: 2.4s\tremaining: 21.2s\n",
      "61:\tlearn: 0.4636264\ttest: 0.4821237\tbest: 0.4829801 (31)\ttotal: 2.45s\tremaining: 21.3s\n",
      "62:\tlearn: 0.4637952\ttest: 0.4821237\tbest: 0.4829801 (31)\ttotal: 2.5s\tremaining: 21.3s\n",
      "63:\tlearn: 0.4640993\ttest: 0.4820205\tbest: 0.4829801 (31)\ttotal: 2.54s\tremaining: 21.3s\n",
      "64:\tlearn: 0.4639895\ttest: 0.4820205\tbest: 0.4829801 (31)\ttotal: 2.59s\tremaining: 21.3s\n",
      "65:\tlearn: 0.4639051\ttest: 0.4816956\tbest: 0.4829801 (31)\ttotal: 2.63s\tremaining: 21.3s\n",
      "66:\tlearn: 0.4639051\ttest: 0.4816956\tbest: 0.4829801 (31)\ttotal: 2.67s\tremaining: 21.3s\n",
      "67:\tlearn: 0.4639306\ttest: 0.4816956\tbest: 0.4829801 (31)\ttotal: 2.71s\tremaining: 21.2s\n",
      "68:\tlearn: 0.4636439\ttest: 0.4792785\tbest: 0.4829801 (31)\ttotal: 2.75s\tremaining: 21.2s\n",
      "69:\tlearn: 0.4635514\ttest: 0.4792785\tbest: 0.4829801 (31)\ttotal: 2.8s\tremaining: 21.2s\n",
      "70:\tlearn: 0.4636693\ttest: 0.4796050\tbest: 0.4829801 (31)\ttotal: 2.84s\tremaining: 21.2s\n",
      "71:\tlearn: 0.4648940\ttest: 0.4810289\tbest: 0.4829801 (31)\ttotal: 2.89s\tremaining: 21.2s\n",
      "72:\tlearn: 0.4653563\ttest: 0.4812513\tbest: 0.4829801 (31)\ttotal: 2.93s\tremaining: 21.1s\n",
      "73:\tlearn: 0.4651546\ttest: 0.4812513\tbest: 0.4829801 (31)\ttotal: 2.97s\tremaining: 21.1s\n",
      "74:\tlearn: 0.4655684\ttest: 0.4811482\tbest: 0.4829801 (31)\ttotal: 3.02s\tremaining: 21.2s\n",
      "75:\tlearn: 0.4656271\ttest: 0.4811482\tbest: 0.4829801 (31)\ttotal: 3.06s\tremaining: 21.1s\n",
      "76:\tlearn: 0.4654330\ttest: 0.4815767\tbest: 0.4829801 (31)\ttotal: 3.11s\tremaining: 21.1s\n",
      "77:\tlearn: 0.4662422\ttest: 0.4814735\tbest: 0.4829801 (31)\ttotal: 3.15s\tremaining: 21.1s\n",
      "78:\tlearn: 0.4663849\ttest: 0.4817987\tbest: 0.4829801 (31)\ttotal: 3.19s\tremaining: 21s\n",
      "79:\tlearn: 0.4745524\ttest: 0.4886629\tbest: 0.4886629 (79)\ttotal: 3.26s\tremaining: 21.2s\n",
      "80:\tlearn: 0.4746149\ttest: 0.4891995\tbest: 0.4891995 (80)\ttotal: 3.31s\tremaining: 21.2s\n",
      "81:\tlearn: 0.4749973\ttest: 0.4891995\tbest: 0.4891995 (80)\ttotal: 3.37s\tremaining: 21.3s\n",
      "82:\tlearn: 0.4747546\ttest: 0.4898391\tbest: 0.4898391 (82)\ttotal: 3.42s\tremaining: 21.3s\n",
      "83:\tlearn: 0.4752196\ttest: 0.4895194\tbest: 0.4898391 (82)\ttotal: 3.46s\tremaining: 21.3s\n",
      "84:\tlearn: 0.4753903\ttest: 0.4898391\tbest: 0.4898391 (82)\ttotal: 3.52s\tremaining: 21.3s\n",
      "85:\tlearn: 0.4752561\ttest: 0.4898391\tbest: 0.4898391 (82)\ttotal: 3.56s\tremaining: 21.3s\n",
      "86:\tlearn: 0.4755245\ttest: 0.4896230\tbest: 0.4898391 (82)\ttotal: 3.6s\tremaining: 21.2s\n",
      "87:\tlearn: 0.4756587\ttest: 0.4897268\tbest: 0.4898391 (82)\ttotal: 3.65s\tremaining: 21.2s\n",
      "88:\tlearn: 0.4755760\ttest: 0.4897268\tbest: 0.4898391 (82)\ttotal: 3.69s\tremaining: 21.2s\n",
      "89:\tlearn: 0.4758187\ttest: 0.4896230\tbest: 0.4898391 (82)\ttotal: 3.74s\tremaining: 21.2s\n",
      "90:\tlearn: 0.4754312\ttest: 0.4896230\tbest: 0.4898391 (82)\ttotal: 3.79s\tremaining: 21.2s\n",
      "91:\tlearn: 0.4750950\ttest: 0.4896230\tbest: 0.4898391 (82)\ttotal: 3.84s\tremaining: 21.2s\n",
      "92:\tlearn: 0.4751207\ttest: 0.4896230\tbest: 0.4898391 (82)\ttotal: 3.87s\tremaining: 21.1s\n",
      "93:\tlearn: 0.4755396\ttest: 0.4896230\tbest: 0.4898391 (82)\ttotal: 3.91s\tremaining: 21.1s\n",
      "94:\tlearn: 0.4755965\ttest: 0.4896230\tbest: 0.4898391 (82)\ttotal: 3.95s\tremaining: 21s\n",
      "95:\tlearn: 0.4756792\ttest: 0.4896230\tbest: 0.4898391 (82)\ttotal: 4.01s\tremaining: 21.1s\n",
      "96:\tlearn: 0.4768198\ttest: 0.4899513\tbest: 0.4899513 (96)\ttotal: 4.06s\tremaining: 21s\n",
      "97:\tlearn: 0.4766497\ttest: 0.4898477\tbest: 0.4899513 (96)\ttotal: 4.1s\tremaining: 21s\n",
      "98:\tlearn: 0.4768147\ttest: 0.4898477\tbest: 0.4899513 (96)\ttotal: 4.13s\tremaining: 20.9s\n",
      "99:\tlearn: 0.4769847\ttest: 0.4901671\tbest: 0.4901671 (99)\ttotal: 4.19s\tremaining: 20.9s\n",
      "100:\tlearn: 0.4778704\ttest: 0.4900466\tbest: 0.4901671 (99)\ttotal: 4.24s\tremaining: 20.9s\n",
      "101:\tlearn: 0.4780868\ttest: 0.4906859\tbest: 0.4906859 (101)\ttotal: 4.28s\tremaining: 20.9s\n",
      "102:\tlearn: 0.4777832\ttest: 0.4907898\tbest: 0.4907898 (102)\ttotal: 4.33s\tremaining: 20.9s\n",
      "103:\tlearn: 0.4776960\ttest: 0.4907898\tbest: 0.4907898 (102)\ttotal: 4.38s\tremaining: 20.9s\n",
      "104:\tlearn: 0.4776960\ttest: 0.4907898\tbest: 0.4907898 (102)\ttotal: 4.44s\tremaining: 20.9s\n",
      "105:\tlearn: 0.4778042\ttest: 0.4907898\tbest: 0.4907898 (102)\ttotal: 4.49s\tremaining: 20.9s\n",
      "106:\tlearn: 0.4833253\ttest: 0.4933865\tbest: 0.4933865 (106)\ttotal: 4.53s\tremaining: 20.9s\n",
      "107:\tlearn: 0.4833253\ttest: 0.4933865\tbest: 0.4933865 (106)\ttotal: 4.58s\tremaining: 20.9s\n",
      "108:\tlearn: 0.4834327\ttest: 0.4932830\tbest: 0.4933865 (106)\ttotal: 4.63s\tremaining: 20.9s\n",
      "109:\tlearn: 0.4835696\ttest: 0.4938064\tbest: 0.4938064 (109)\ttotal: 4.67s\tremaining: 20.8s\n",
      "110:\tlearn: 0.4837584\ttest: 0.4941226\tbest: 0.4941226 (110)\ttotal: 4.72s\tremaining: 20.8s\n",
      "111:\tlearn: 0.4837619\ttest: 0.4942263\tbest: 0.4942263 (111)\ttotal: 4.77s\tremaining: 20.8s\n",
      "112:\tlearn: 0.4839246\ttest: 0.4942263\tbest: 0.4942263 (111)\ttotal: 4.81s\tremaining: 20.7s\n",
      "113:\tlearn: 0.4841359\ttest: 0.4942263\tbest: 0.4942263 (111)\ttotal: 4.86s\tremaining: 20.7s\n",
      "114:\tlearn: 0.4899001\ttest: 0.5009361\tbest: 0.5009361 (114)\ttotal: 4.91s\tremaining: 20.7s\n",
      "115:\tlearn: 0.4897113\ttest: 0.5009361\tbest: 0.5009361 (114)\ttotal: 4.95s\tremaining: 20.7s\n",
      "116:\tlearn: 0.4900951\ttest: 0.5008313\tbest: 0.5009361 (114)\ttotal: 5s\tremaining: 20.6s\n",
      "117:\tlearn: 0.4898740\ttest: 0.5010395\tbest: 0.5010395 (117)\ttotal: 5.04s\tremaining: 20.6s\n",
      "118:\tlearn: 0.4899543\ttest: 0.5012479\tbest: 0.5012479 (118)\ttotal: 5.1s\tremaining: 20.6s\n",
      "119:\tlearn: 0.4904959\ttest: 0.5013511\tbest: 0.5013511 (119)\ttotal: 5.16s\tremaining: 20.6s\n",
      "120:\tlearn: 0.4908184\ttest: 0.5012469\tbest: 0.5013511 (119)\ttotal: 5.22s\tremaining: 20.7s\n",
      "121:\tlearn: 0.4906822\ttest: 0.5013511\tbest: 0.5013511 (119)\ttotal: 5.29s\tremaining: 20.7s\n",
      "122:\tlearn: 0.4906282\ttest: 0.5013511\tbest: 0.5013511 (119)\ttotal: 5.33s\tremaining: 20.7s\n",
      "123:\tlearn: 0.4909506\ttest: 0.5013511\tbest: 0.5013511 (119)\ttotal: 5.37s\tremaining: 20.6s\n",
      "124:\tlearn: 0.4912169\ttest: 0.5010395\tbest: 0.5013511 (119)\ttotal: 5.43s\tremaining: 20.6s\n",
      "125:\tlearn: 0.4911126\ttest: 0.5013511\tbest: 0.5013511 (119)\ttotal: 5.48s\tremaining: 20.6s\n",
      "126:\tlearn: 0.4914346\ttest: 0.5013511\tbest: 0.5013511 (119)\ttotal: 5.53s\tremaining: 20.6s\n",
      "127:\tlearn: 0.4915146\ttest: 0.5013511\tbest: 0.5013511 (119)\ttotal: 5.58s\tremaining: 20.6s\n",
      "128:\tlearn: 0.4915946\ttest: 0.5013511\tbest: 0.5013511 (119)\ttotal: 5.62s\tremaining: 20.5s\n",
      "129:\tlearn: 0.4919423\ttest: 0.5013499\tbest: 0.5013511 (119)\ttotal: 5.67s\tremaining: 20.5s\n",
      "130:\tlearn: 0.4919945\ttest: 0.5013499\tbest: 0.5013511 (119)\ttotal: 5.72s\tremaining: 20.5s\n",
      "131:\tlearn: 0.4922082\ttest: 0.5015570\tbest: 0.5015570 (131)\ttotal: 5.77s\tremaining: 20.5s\n",
      "132:\tlearn: 0.4922359\ttest: 0.5015570\tbest: 0.5015570 (131)\ttotal: 5.82s\tremaining: 20.4s\n",
      "133:\tlearn: 0.4922082\ttest: 0.5018680\tbest: 0.5018680 (133)\ttotal: 5.86s\tremaining: 20.4s\n",
      "134:\tlearn: 0.4921805\ttest: 0.5018680\tbest: 0.5018680 (133)\ttotal: 5.9s\tremaining: 20.3s\n",
      "135:\tlearn: 0.4922604\ttest: 0.5018680\tbest: 0.5018680 (133)\ttotal: 5.94s\tremaining: 20.3s\n",
      "136:\tlearn: 0.4923142\ttest: 0.5018680\tbest: 0.5018680 (133)\ttotal: 6s\tremaining: 20.3s\n",
      "137:\tlearn: 0.4923941\ttest: 0.5018680\tbest: 0.5018680 (133)\ttotal: 6.04s\tremaining: 20.2s\n",
      "138:\tlearn: 0.4924740\ttest: 0.5016598\tbest: 0.5018680 (133)\ttotal: 6.09s\tremaining: 20.2s\n",
      "139:\tlearn: 0.4927981\ttest: 0.5015570\tbest: 0.5018680 (133)\ttotal: 6.14s\tremaining: 20.2s\n",
      "140:\tlearn: 0.4929055\ttest: 0.5014529\tbest: 0.5018680 (133)\ttotal: 6.2s\tremaining: 20.2s\n",
      "141:\tlearn: 0.4928779\ttest: 0.5014529\tbest: 0.5018680 (133)\ttotal: 6.25s\tremaining: 20.2s\n",
      "142:\tlearn: 0.4927981\ttest: 0.5014529\tbest: 0.5018680 (133)\ttotal: 6.31s\tremaining: 20.2s\n",
      "143:\tlearn: 0.4927720\ttest: 0.5014529\tbest: 0.5018680 (133)\ttotal: 6.36s\tremaining: 20.1s\n",
      "144:\tlearn: 0.4931188\ttest: 0.5018664\tbest: 0.5018680 (133)\ttotal: 6.42s\tremaining: 20.1s\n",
      "145:\tlearn: 0.4931188\ttest: 0.5018664\tbest: 0.5018680 (133)\ttotal: 6.47s\tremaining: 20.1s\n",
      "146:\tlearn: 0.4932246\ttest: 0.5019705\tbest: 0.5019705 (146)\ttotal: 6.51s\tremaining: 20.1s\n",
      "147:\tlearn: 0.4931985\ttest: 0.5019705\tbest: 0.5019705 (146)\ttotal: 6.57s\tremaining: 20.1s\n",
      "148:\tlearn: 0.4931985\ttest: 0.5019705\tbest: 0.5019705 (146)\ttotal: 6.62s\tremaining: 20s\n",
      "149:\tlearn: 0.4930898\ttest: 0.5015570\tbest: 0.5019705 (146)\ttotal: 6.67s\tremaining: 20s\n",
      "150:\tlearn: 0.4931159\ttest: 0.5015570\tbest: 0.5019705 (146)\ttotal: 6.72s\tremaining: 20s\n",
      "151:\tlearn: 0.4929592\ttest: 0.5015570\tbest: 0.5019705 (146)\ttotal: 6.78s\tremaining: 20s\n",
      "152:\tlearn: 0.4929592\ttest: 0.5014529\tbest: 0.5019705 (146)\ttotal: 6.83s\tremaining: 20s\n",
      "153:\tlearn: 0.4930346\ttest: 0.5017653\tbest: 0.5019705 (146)\ttotal: 6.89s\tremaining: 20s\n",
      "154:\tlearn: 0.4930898\ttest: 0.5023874\tbest: 0.5023874 (154)\ttotal: 6.94s\tremaining: 19.9s\n",
      "155:\tlearn: 0.4930085\ttest: 0.5023874\tbest: 0.5023874 (154)\ttotal: 6.99s\tremaining: 19.9s\n",
      "156:\tlearn: 0.4930085\ttest: 0.5023874\tbest: 0.5023874 (154)\ttotal: 7.04s\tremaining: 19.9s\n",
      "157:\tlearn: 0.4936742\ttest: 0.5025917\tbest: 0.5025917 (157)\ttotal: 7.09s\tremaining: 19.8s\n",
      "158:\tlearn: 0.4936206\ttest: 0.5026982\tbest: 0.5026982 (158)\ttotal: 7.14s\tremaining: 19.8s\n",
      "159:\tlearn: 0.4937004\ttest: 0.5026982\tbest: 0.5026982 (158)\ttotal: 7.19s\tremaining: 19.8s\n",
      "160:\tlearn: 0.4937004\ttest: 0.5026982\tbest: 0.5026982 (158)\ttotal: 7.22s\tremaining: 19.7s\n",
      "161:\tlearn: 0.4937801\ttest: 0.5028026\tbest: 0.5028026 (161)\ttotal: 7.27s\tremaining: 19.6s\n",
      "162:\tlearn: 0.4939657\ttest: 0.5028026\tbest: 0.5028026 (161)\ttotal: 7.32s\tremaining: 19.6s\n",
      "163:\tlearn: 0.4938585\ttest: 0.5028026\tbest: 0.5028026 (161)\ttotal: 7.36s\tremaining: 19.6s\n",
      "164:\tlearn: 0.4938585\ttest: 0.5028026\tbest: 0.5028026 (161)\ttotal: 7.41s\tremaining: 19.5s\n",
      "165:\tlearn: 0.4939383\ttest: 0.5025939\tbest: 0.5028026 (161)\ttotal: 7.47s\tremaining: 19.5s\n",
      "166:\tlearn: 0.4939918\ttest: 0.5028026\tbest: 0.5028026 (161)\ttotal: 7.52s\tremaining: 19.5s\n",
      "167:\tlearn: 0.4943119\ttest: 0.5025939\tbest: 0.5028026 (161)\ttotal: 7.58s\tremaining: 19.5s\n",
      "168:\tlearn: 0.4941799\ttest: 0.5025917\tbest: 0.5028026 (161)\ttotal: 7.63s\tremaining: 19.5s\n",
      "169:\tlearn: 0.4942857\ttest: 0.5025917\tbest: 0.5028026 (161)\ttotal: 7.68s\tremaining: 19.4s\n",
      "170:\tlearn: 0.4941799\ttest: 0.5031082\tbest: 0.5031082 (170)\ttotal: 7.72s\tremaining: 19.4s\n",
      "171:\tlearn: 0.4949773\ttest: 0.5034183\tbest: 0.5034183 (171)\ttotal: 7.77s\tremaining: 19.3s\n",
      "172:\tlearn: 0.4949762\ttest: 0.5032098\tbest: 0.5034183 (171)\ttotal: 7.83s\tremaining: 19.3s\n",
      "173:\tlearn: 0.4946851\ttest: 0.5034183\tbest: 0.5034183 (171)\ttotal: 7.88s\tremaining: 19.3s\n",
      "174:\tlearn: 0.4946055\ttest: 0.5022812\tbest: 0.5034183 (171)\ttotal: 7.92s\tremaining: 19.2s\n",
      "175:\tlearn: 0.4946055\ttest: 0.5022812\tbest: 0.5034183 (171)\ttotal: 7.93s\tremaining: 19.1s\n",
      "176:\tlearn: 0.4946316\ttest: 0.5034183\tbest: 0.5034183 (171)\ttotal: 7.98s\tremaining: 19.1s\n",
      "177:\tlearn: 0.4948443\ttest: 0.5034183\tbest: 0.5034183 (171)\ttotal: 8.04s\tremaining: 19s\n",
      "178:\tlearn: 0.4949239\ttest: 0.5030014\tbest: 0.5034183 (171)\ttotal: 8.08s\tremaining: 19s\n",
      "179:\tlearn: 0.4949239\ttest: 0.5030014\tbest: 0.5034183 (171)\ttotal: 8.13s\tremaining: 19s\n",
      "180:\tlearn: 0.4950558\ttest: 0.5030014\tbest: 0.5034183 (171)\ttotal: 8.16s\tremaining: 18.9s\n",
      "181:\tlearn: 0.4952139\ttest: 0.5032098\tbest: 0.5034183 (171)\ttotal: 8.21s\tremaining: 18.9s\n",
      "182:\tlearn: 0.4952693\ttest: 0.5032098\tbest: 0.5034183 (171)\ttotal: 8.25s\tremaining: 18.8s\n",
      "183:\tlearn: 0.5270787\ttest: 0.5439234\tbest: 0.5439234 (183)\ttotal: 8.3s\tremaining: 18.8s\n",
      "184:\tlearn: 0.5269794\ttest: 0.5439234\tbest: 0.5439234 (183)\ttotal: 8.35s\tremaining: 18.7s\n",
      "185:\tlearn: 0.5271310\ttest: 0.5439234\tbest: 0.5439234 (183)\ttotal: 8.4s\tremaining: 18.7s\n",
      "186:\tlearn: 0.5271364\ttest: 0.5437153\tbest: 0.5439234 (183)\ttotal: 8.45s\tremaining: 18.7s\n",
      "187:\tlearn: 0.5310590\ttest: 0.5441683\tbest: 0.5441683 (187)\ttotal: 8.5s\tremaining: 18.6s\n",
      "188:\tlearn: 0.5273034\ttest: 0.5441683\tbest: 0.5441683 (187)\ttotal: 8.56s\tremaining: 18.6s\n",
      "189:\tlearn: 0.5273034\ttest: 0.5441683\tbest: 0.5441683 (187)\ttotal: 8.61s\tremaining: 18.6s\n",
      "190:\tlearn: 0.5312700\ttest: 0.5441683\tbest: 0.5441683 (187)\ttotal: 8.66s\tremaining: 18.5s\n",
      "191:\tlearn: 0.5312238\ttest: 0.5441683\tbest: 0.5441683 (187)\ttotal: 8.71s\tremaining: 18.5s\n",
      "192:\tlearn: 0.5313686\ttest: 0.5441683\tbest: 0.5441683 (187)\ttotal: 8.74s\tremaining: 18.4s\n",
      "193:\tlearn: 0.5313424\ttest: 0.5441683\tbest: 0.5441683 (187)\ttotal: 8.79s\tremaining: 18.4s\n",
      "194:\tlearn: 0.5313686\ttest: 0.5439602\tbest: 0.5441683 (187)\ttotal: 8.84s\tremaining: 18.4s\n",
      "195:\tlearn: 0.5313948\ttest: 0.5439602\tbest: 0.5441683 (187)\ttotal: 8.89s\tremaining: 18.3s\n",
      "196:\tlearn: 0.5314348\ttest: 0.5435074\tbest: 0.5441683 (187)\ttotal: 8.93s\tremaining: 18.3s\n",
      "197:\tlearn: 0.5314610\ttest: 0.5435074\tbest: 0.5441683 (187)\ttotal: 8.97s\tremaining: 18.2s\n",
      "198:\tlearn: 0.5314286\ttest: 0.5437524\tbest: 0.5441683 (187)\ttotal: 9.02s\tremaining: 18.2s\n",
      "199:\tlearn: 0.5315471\ttest: 0.5437524\tbest: 0.5441683 (187)\ttotal: 9.08s\tremaining: 18.2s\n",
      "200:\tlearn: 0.5315732\ttest: 0.5432996\tbest: 0.5441683 (187)\ttotal: 9.13s\tremaining: 18.1s\n",
      "201:\tlearn: 0.5316194\ttest: 0.5432996\tbest: 0.5441683 (187)\ttotal: 9.18s\tremaining: 18.1s\n",
      "202:\tlearn: 0.5316194\ttest: 0.5432996\tbest: 0.5441683 (187)\ttotal: 9.21s\tremaining: 18s\n",
      "203:\tlearn: 0.5316979\ttest: 0.5432288\tbest: 0.5441683 (187)\ttotal: 9.27s\tremaining: 18s\n",
      "204:\tlearn: 0.5317765\ttest: 0.5436819\tbest: 0.5441683 (187)\ttotal: 9.33s\tremaining: 18s\n",
      "205:\tlearn: 0.5317765\ttest: 0.5436819\tbest: 0.5441683 (187)\ttotal: 9.35s\tremaining: 17.9s\n",
      "206:\tlearn: 0.5317765\ttest: 0.5436819\tbest: 0.5441683 (187)\ttotal: 9.41s\tremaining: 17.9s\n",
      "207:\tlearn: 0.5318489\ttest: 0.5432288\tbest: 0.5441683 (187)\ttotal: 9.45s\tremaining: 17.8s\n",
      "208:\tlearn: 0.5318950\ttest: 0.5432288\tbest: 0.5441683 (187)\ttotal: 9.51s\tremaining: 17.8s\n",
      "209:\tlearn: 0.5319212\ttest: 0.5432288\tbest: 0.5441683 (187)\ttotal: 9.55s\tremaining: 17.7s\n",
      "210:\tlearn: 0.5318227\ttest: 0.5429501\tbest: 0.5441683 (187)\ttotal: 9.6s\tremaining: 17.7s\n",
      "211:\tlearn: 0.5318227\ttest: 0.5429501\tbest: 0.5441683 (187)\ttotal: 9.62s\tremaining: 17.6s\n",
      "212:\tlearn: 0.5318489\ttest: 0.5432288\tbest: 0.5441683 (187)\ttotal: 9.66s\tremaining: 17.6s\n",
      "213:\tlearn: 0.5318489\ttest: 0.5432288\tbest: 0.5441683 (187)\ttotal: 9.72s\tremaining: 17.5s\n",
      "214:\tlearn: 0.5317765\ttest: 0.5432288\tbest: 0.5441683 (187)\ttotal: 9.77s\tremaining: 17.5s\n",
      "215:\tlearn: 0.5317765\ttest: 0.5432288\tbest: 0.5441683 (187)\ttotal: 9.81s\tremaining: 17.4s\n",
      "216:\tlearn: 0.5318027\ttest: 0.5432288\tbest: 0.5441683 (187)\ttotal: 9.87s\tremaining: 17.4s\n",
      "217:\tlearn: 0.5317765\ttest: 0.5432288\tbest: 0.5441683 (187)\ttotal: 9.91s\tremaining: 17.4s\n",
      "218:\tlearn: 0.5320920\ttest: 0.5432288\tbest: 0.5441683 (187)\ttotal: 9.96s\tremaining: 17.3s\n",
      "219:\tlearn: 0.5320459\ttest: 0.5432288\tbest: 0.5441683 (187)\ttotal: 10s\tremaining: 17.3s\n",
      "220:\tlearn: 0.5320459\ttest: 0.5432288\tbest: 0.5441683 (187)\ttotal: 10.1s\tremaining: 17.3s\n",
      "221:\tlearn: 0.5320920\ttest: 0.5432288\tbest: 0.5441683 (187)\ttotal: 10.1s\tremaining: 17.2s\n",
      "222:\tlearn: 0.5320920\ttest: 0.5432288\tbest: 0.5441683 (187)\ttotal: 10.1s\tremaining: 17.1s\n",
      "223:\tlearn: 0.5320983\ttest: 0.5430540\tbest: 0.5441683 (187)\ttotal: 10.2s\tremaining: 17.1s\n",
      "224:\tlearn: 0.5320983\ttest: 0.5430540\tbest: 0.5441683 (187)\ttotal: 10.2s\tremaining: 17.1s\n",
      "225:\tlearn: 0.5321508\ttest: 0.5430540\tbest: 0.5441683 (187)\ttotal: 10.3s\tremaining: 17s\n",
      "226:\tlearn: 0.5321508\ttest: 0.5430540\tbest: 0.5441683 (187)\ttotal: 10.3s\tremaining: 17s\n",
      "227:\tlearn: 0.5321309\ttest: 0.5430540\tbest: 0.5441683 (187)\ttotal: 10.4s\tremaining: 17s\n",
      "228:\tlearn: 0.5322032\ttest: 0.5430540\tbest: 0.5441683 (187)\ttotal: 10.5s\tremaining: 16.9s\n",
      "229:\tlearn: 0.5320522\ttest: 0.5430540\tbest: 0.5441683 (187)\ttotal: 10.5s\tremaining: 16.9s\n",
      "230:\tlearn: 0.5322231\ttest: 0.5430540\tbest: 0.5441683 (187)\ttotal: 10.5s\tremaining: 16.8s\n",
      "231:\tlearn: 0.5324931\ttest: 0.5435074\tbest: 0.5441683 (187)\ttotal: 10.6s\tremaining: 16.8s\n",
      "232:\tlearn: 0.5325193\ttest: 0.5435074\tbest: 0.5441683 (187)\ttotal: 10.7s\tremaining: 16.8s\n",
      "233:\tlearn: 0.5325129\ttest: 0.5435074\tbest: 0.5441683 (187)\ttotal: 10.7s\tremaining: 16.8s\n",
      "234:\tlearn: 0.5325129\ttest: 0.5435074\tbest: 0.5441683 (187)\ttotal: 10.8s\tremaining: 16.7s\n",
      "235:\tlearn: 0.5325718\ttest: 0.5424962\tbest: 0.5441683 (187)\ttotal: 10.8s\tremaining: 16.7s\n",
      "236:\tlearn: 0.5324535\ttest: 0.5424962\tbest: 0.5441683 (187)\ttotal: 10.9s\tremaining: 16.7s\n",
      "237:\tlearn: 0.5325257\ttest: 0.5424962\tbest: 0.5441683 (187)\ttotal: 10.9s\tremaining: 16.6s\n",
      "238:\tlearn: 0.5325257\ttest: 0.5424962\tbest: 0.5441683 (187)\ttotal: 11s\tremaining: 16.6s\n",
      "239:\tlearn: 0.5322628\ttest: 0.5423209\tbest: 0.5441683 (187)\ttotal: 11s\tremaining: 16.5s\n",
      "240:\tlearn: 0.5326702\ttest: 0.5433327\tbest: 0.5441683 (187)\ttotal: 11.1s\tremaining: 16.5s\n",
      "241:\tlearn: 0.5326178\ttest: 0.5433327\tbest: 0.5441683 (187)\ttotal: 11.1s\tremaining: 16.4s\n",
      "242:\tlearn: 0.5327425\ttest: 0.5433327\tbest: 0.5441683 (187)\ttotal: 11.2s\tremaining: 16.4s\n",
      "243:\tlearn: 0.5327425\ttest: 0.5433327\tbest: 0.5441683 (187)\ttotal: 11.2s\tremaining: 16.4s\n",
      "244:\tlearn: 0.5334973\ttest: 0.5433327\tbest: 0.5441683 (187)\ttotal: 11.3s\tremaining: 16.3s\n",
      "245:\tlearn: 0.5335694\ttest: 0.5433327\tbest: 0.5441683 (187)\ttotal: 11.3s\tremaining: 16.3s\n",
      "246:\tlearn: 0.5338775\ttest: 0.5433327\tbest: 0.5441683 (187)\ttotal: 11.4s\tremaining: 16.3s\n",
      "247:\tlearn: 0.5339300\ttest: 0.5433327\tbest: 0.5441683 (187)\ttotal: 11.4s\tremaining: 16.2s\n",
      "248:\tlearn: 0.5339562\ttest: 0.5434367\tbest: 0.5441683 (187)\ttotal: 11.5s\tremaining: 16.1s\n",
      "249:\tlearn: 0.5339562\ttest: 0.5434367\tbest: 0.5441683 (187)\ttotal: 11.5s\tremaining: 16.1s\n",
      "250:\tlearn: 0.5339629\ttest: 0.5424248\tbest: 0.5441683 (187)\ttotal: 11.6s\tremaining: 16.1s\n",
      "251:\tlearn: 0.5339629\ttest: 0.5424248\tbest: 0.5441683 (187)\ttotal: 11.6s\tremaining: 16s\n",
      "252:\tlearn: 0.5339629\ttest: 0.5424248\tbest: 0.5441683 (187)\ttotal: 11.6s\tremaining: 15.9s\n",
      "253:\tlearn: 0.5339629\ttest: 0.5424248\tbest: 0.5441683 (187)\ttotal: 11.7s\tremaining: 15.9s\n",
      "254:\tlearn: 0.5338187\ttest: 0.5424248\tbest: 0.5441683 (187)\ttotal: 11.7s\tremaining: 15.9s\n",
      "255:\tlearn: 0.5339629\ttest: 0.5424248\tbest: 0.5441683 (187)\ttotal: 11.8s\tremaining: 15.8s\n",
      "256:\tlearn: 0.5339104\ttest: 0.5422495\tbest: 0.5441683 (187)\ttotal: 11.8s\tremaining: 15.8s\n",
      "257:\tlearn: 0.5338841\ttest: 0.5422495\tbest: 0.5441683 (187)\ttotal: 11.9s\tremaining: 15.7s\n",
      "258:\tlearn: 0.5338579\ttest: 0.5422495\tbest: 0.5441683 (187)\ttotal: 11.9s\tremaining: 15.7s\n",
      "259:\tlearn: 0.5339104\ttest: 0.5422495\tbest: 0.5441683 (187)\ttotal: 12s\tremaining: 15.6s\n",
      "260:\tlearn: 0.5338383\ttest: 0.5422495\tbest: 0.5441683 (187)\ttotal: 12s\tremaining: 15.6s\n",
      "261:\tlearn: 0.5338383\ttest: 0.5422495\tbest: 0.5441683 (187)\ttotal: 12.1s\tremaining: 15.6s\n",
      "262:\tlearn: 0.5339562\ttest: 0.5422495\tbest: 0.5441683 (187)\ttotal: 12.1s\tremaining: 15.5s\n",
      "263:\tlearn: 0.5340741\ttest: 0.5422495\tbest: 0.5441683 (187)\ttotal: 12.2s\tremaining: 15.5s\n",
      "264:\tlearn: 0.5339954\ttest: 0.5424574\tbest: 0.5441683 (187)\ttotal: 12.2s\tremaining: 15.5s\n",
      "265:\tlearn: 0.5340674\ttest: 0.5424574\tbest: 0.5441683 (187)\ttotal: 12.3s\tremaining: 15.4s\n",
      "266:\tlearn: 0.5340674\ttest: 0.5424574\tbest: 0.5441683 (187)\ttotal: 12.4s\tremaining: 15.4s\n",
      "267:\tlearn: 0.5340674\ttest: 0.5424574\tbest: 0.5441683 (187)\ttotal: 12.4s\tremaining: 15.3s\n",
      "268:\tlearn: 0.5364423\ttest: 0.5424574\tbest: 0.5441683 (187)\ttotal: 12.4s\tremaining: 15.3s\n",
      "269:\tlearn: 0.5364423\ttest: 0.5424574\tbest: 0.5441683 (187)\ttotal: 12.5s\tremaining: 15.2s\n",
      "270:\tlearn: 0.5364161\ttest: 0.5424574\tbest: 0.5441683 (187)\ttotal: 12.5s\tremaining: 15.2s\n",
      "271:\tlearn: 0.5366760\ttest: 0.5424574\tbest: 0.5441683 (187)\ttotal: 12.6s\tremaining: 15.1s\n",
      "272:\tlearn: 0.5367022\ttest: 0.5424574\tbest: 0.5441683 (187)\ttotal: 12.6s\tremaining: 15.1s\n",
      "273:\tlearn: 0.5367475\ttest: 0.5424574\tbest: 0.5441683 (187)\ttotal: 12.7s\tremaining: 15.1s\n",
      "274:\tlearn: 0.5369429\ttest: 0.5424574\tbest: 0.5441683 (187)\ttotal: 12.7s\tremaining: 15s\n",
      "275:\tlearn: 0.5369429\ttest: 0.5424574\tbest: 0.5441683 (187)\ttotal: 12.7s\tremaining: 14.9s\n",
      "276:\tlearn: 0.5369429\ttest: 0.5423534\tbest: 0.5441683 (187)\ttotal: 12.8s\tremaining: 14.9s\n",
      "277:\tlearn: 0.5368452\ttest: 0.5423534\tbest: 0.5441683 (187)\ttotal: 12.8s\tremaining: 14.9s\n",
      "278:\tlearn: 0.5368452\ttest: 0.5423534\tbest: 0.5441683 (187)\ttotal: 12.9s\tremaining: 14.8s\n",
      "279:\tlearn: 0.5367927\ttest: 0.5423534\tbest: 0.5441683 (187)\ttotal: 12.9s\tremaining: 14.8s\n",
      "280:\tlearn: 0.5366760\ttest: 0.5423534\tbest: 0.5441683 (187)\ttotal: 13s\tremaining: 14.8s\n",
      "281:\tlearn: 0.5366760\ttest: 0.5423534\tbest: 0.5441683 (187)\ttotal: 13.1s\tremaining: 14.7s\n",
      "282:\tlearn: 0.5366688\ttest: 0.5423534\tbest: 0.5441683 (187)\ttotal: 13.1s\tremaining: 14.7s\n",
      "283:\tlearn: 0.5366688\ttest: 0.5423534\tbest: 0.5441683 (187)\ttotal: 13.1s\tremaining: 14.6s\n",
      "284:\tlearn: 0.5367212\ttest: 0.5423534\tbest: 0.5441683 (187)\ttotal: 13.2s\tremaining: 14.6s\n",
      "285:\tlearn: 0.5367927\ttest: 0.5423534\tbest: 0.5441683 (187)\ttotal: 13.3s\tremaining: 14.6s\n",
      "286:\tlearn: 0.5368452\ttest: 0.5423534\tbest: 0.5441683 (187)\ttotal: 13.3s\tremaining: 14.5s\n",
      "287:\tlearn: 0.5367927\ttest: 0.5423534\tbest: 0.5441683 (187)\ttotal: 13.3s\tremaining: 14.5s\n",
      "288:\tlearn: 0.5366497\ttest: 0.5423534\tbest: 0.5441683 (187)\ttotal: 13.4s\tremaining: 14.4s\n",
      "289:\tlearn: 0.5367212\ttest: 0.5423534\tbest: 0.5441683 (187)\ttotal: 13.4s\tremaining: 14.4s\n",
      "290:\tlearn: 0.5366163\ttest: 0.5431957\tbest: 0.5441683 (187)\ttotal: 13.5s\tremaining: 14.3s\n",
      "291:\tlearn: 0.5366950\ttest: 0.5431957\tbest: 0.5441683 (187)\ttotal: 13.5s\tremaining: 14.3s\n",
      "292:\tlearn: 0.5366950\ttest: 0.5431957\tbest: 0.5441683 (187)\ttotal: 13.6s\tremaining: 14.2s\n",
      "293:\tlearn: 0.5366878\ttest: 0.5431957\tbest: 0.5441683 (187)\ttotal: 13.6s\tremaining: 14.2s\n",
      "294:\tlearn: 0.5367593\ttest: 0.5431957\tbest: 0.5441683 (187)\ttotal: 13.7s\tremaining: 14.1s\n",
      "295:\tlearn: 0.5369547\ttest: 0.5431957\tbest: 0.5441683 (187)\ttotal: 13.7s\tremaining: 14.1s\n",
      "296:\tlearn: 0.5369547\ttest: 0.5431957\tbest: 0.5441683 (187)\ttotal: 13.8s\tremaining: 14s\n",
      "297:\tlearn: 0.5368832\ttest: 0.5431957\tbest: 0.5441683 (187)\ttotal: 13.8s\tremaining: 14s\n",
      "298:\tlearn: 0.5368832\ttest: 0.5431957\tbest: 0.5441683 (187)\ttotal: 13.8s\tremaining: 13.9s\n",
      "299:\tlearn: 0.5368118\ttest: 0.5431957\tbest: 0.5441683 (187)\ttotal: 13.9s\tremaining: 13.9s\n",
      "300:\tlearn: 0.5368832\ttest: 0.5431957\tbest: 0.5441683 (187)\ttotal: 13.9s\tremaining: 13.9s\n",
      "301:\tlearn: 0.5369547\ttest: 0.5431957\tbest: 0.5441683 (187)\ttotal: 14s\tremaining: 13.8s\n",
      "302:\tlearn: 0.5369547\ttest: 0.5431957\tbest: 0.5441683 (187)\ttotal: 14s\tremaining: 13.8s\n",
      "303:\tlearn: 0.5370524\ttest: 0.5431957\tbest: 0.5441683 (187)\ttotal: 14.1s\tremaining: 13.7s\n",
      "304:\tlearn: 0.5370262\ttest: 0.5431957\tbest: 0.5441683 (187)\ttotal: 14.2s\tremaining: 13.7s\n",
      "305:\tlearn: 0.5371953\ttest: 0.5431957\tbest: 0.5441683 (187)\ttotal: 14.2s\tremaining: 13.7s\n",
      "306:\tlearn: 0.5371239\ttest: 0.5424574\tbest: 0.5441683 (187)\ttotal: 14.3s\tremaining: 13.6s\n",
      "307:\tlearn: 0.5373076\ttest: 0.5416587\tbest: 0.5441683 (187)\ttotal: 14.3s\tremaining: 13.6s\n",
      "308:\tlearn: 0.5373076\ttest: 0.5416587\tbest: 0.5441683 (187)\ttotal: 14.4s\tremaining: 13.5s\n",
      "309:\tlearn: 0.5373339\ttest: 0.5417305\tbest: 0.5441683 (187)\ttotal: 14.4s\tremaining: 13.5s\n",
      "310:\tlearn: 0.5373791\ttest: 0.5417305\tbest: 0.5441683 (187)\ttotal: 14.5s\tremaining: 13.5s\n",
      "311:\tlearn: 0.5373791\ttest: 0.5417305\tbest: 0.5441683 (187)\ttotal: 14.5s\tremaining: 13.4s\n",
      "312:\tlearn: 0.5373076\ttest: 0.5417305\tbest: 0.5441683 (187)\ttotal: 14.6s\tremaining: 13.3s\n",
      "313:\tlearn: 0.5373076\ttest: 0.5417305\tbest: 0.5441683 (187)\ttotal: 14.6s\tremaining: 13.3s\n",
      "314:\tlearn: 0.5373076\ttest: 0.5417305\tbest: 0.5441683 (187)\ttotal: 14.6s\tremaining: 13.2s\n",
      "315:\tlearn: 0.5373076\ttest: 0.5417305\tbest: 0.5441683 (187)\ttotal: 14.7s\tremaining: 13.2s\n",
      "316:\tlearn: 0.5375220\ttest: 0.5417305\tbest: 0.5441683 (187)\ttotal: 14.7s\tremaining: 13.1s\n",
      "317:\tlearn: 0.5374505\ttest: 0.5417305\tbest: 0.5441683 (187)\ttotal: 14.8s\tremaining: 13.1s\n",
      "318:\tlearn: 0.5373980\ttest: 0.5417305\tbest: 0.5441683 (187)\ttotal: 14.8s\tremaining: 13.1s\n",
      "319:\tlearn: 0.5373980\ttest: 0.5417305\tbest: 0.5441683 (187)\ttotal: 14.9s\tremaining: 13s\n",
      "320:\tlearn: 0.5373980\ttest: 0.5417305\tbest: 0.5441683 (187)\ttotal: 14.9s\tremaining: 12.9s\n",
      "321:\tlearn: 0.5373980\ttest: 0.5417305\tbest: 0.5441683 (187)\ttotal: 14.9s\tremaining: 12.9s\n",
      "322:\tlearn: 0.5375220\ttest: 0.5417305\tbest: 0.5441683 (187)\ttotal: 15s\tremaining: 12.9s\n",
      "323:\tlearn: 0.5375220\ttest: 0.5417305\tbest: 0.5441683 (187)\ttotal: 15s\tremaining: 12.8s\n",
      "324:\tlearn: 0.5375220\ttest: 0.5417305\tbest: 0.5441683 (187)\ttotal: 15.1s\tremaining: 12.8s\n",
      "325:\tlearn: 0.5375220\ttest: 0.5417305\tbest: 0.5441683 (187)\ttotal: 15.1s\tremaining: 12.7s\n",
      "326:\tlearn: 0.5376649\ttest: 0.5417305\tbest: 0.5441683 (187)\ttotal: 15.2s\tremaining: 12.7s\n",
      "327:\tlearn: 0.5376649\ttest: 0.5417305\tbest: 0.5441683 (187)\ttotal: 15.3s\tremaining: 12.7s\n",
      "328:\tlearn: 0.5377100\ttest: 0.5417305\tbest: 0.5441683 (187)\ttotal: 15.3s\tremaining: 12.6s\n",
      "329:\tlearn: 0.5376460\ttest: 0.5406340\tbest: 0.5441683 (187)\ttotal: 15.4s\tremaining: 12.6s\n",
      "330:\tlearn: 0.5376166\ttest: 0.5416587\tbest: 0.5441683 (187)\ttotal: 15.4s\tremaining: 12.5s\n",
      "331:\tlearn: 0.5375452\ttest: 0.5416587\tbest: 0.5441683 (187)\ttotal: 15.5s\tremaining: 12.5s\n",
      "332:\tlearn: 0.5376166\ttest: 0.5416587\tbest: 0.5441683 (187)\ttotal: 15.5s\tremaining: 12.4s\n",
      "333:\tlearn: 0.5375903\ttest: 0.5416587\tbest: 0.5441683 (187)\ttotal: 15.6s\tremaining: 12.4s\n",
      "334:\tlearn: 0.5376166\ttest: 0.5416587\tbest: 0.5441683 (187)\ttotal: 15.6s\tremaining: 12.3s\n",
      "335:\tlearn: 0.5375452\ttest: 0.5416587\tbest: 0.5441683 (187)\ttotal: 15.7s\tremaining: 12.3s\n",
      "336:\tlearn: 0.5375452\ttest: 0.5419380\tbest: 0.5441683 (187)\ttotal: 15.7s\tremaining: 12.3s\n",
      "337:\tlearn: 0.5375452\ttest: 0.5419380\tbest: 0.5441683 (187)\ttotal: 15.8s\tremaining: 12.2s\n",
      "338:\tlearn: 0.5375934\ttest: 0.5416587\tbest: 0.5441683 (187)\ttotal: 15.8s\tremaining: 12.2s\n",
      "339:\tlearn: 0.5376796\ttest: 0.5409143\tbest: 0.5441683 (187)\ttotal: 15.9s\tremaining: 12.1s\n",
      "340:\tlearn: 0.5376344\ttest: 0.5409143\tbest: 0.5441683 (187)\ttotal: 15.9s\tremaining: 12.1s\n",
      "341:\tlearn: 0.5376344\ttest: 0.5409143\tbest: 0.5441683 (187)\ttotal: 16s\tremaining: 12s\n",
      "342:\tlearn: 0.5376796\ttest: 0.5409143\tbest: 0.5441683 (187)\ttotal: 16s\tremaining: 12s\n",
      "343:\tlearn: 0.5376796\ttest: 0.5409143\tbest: 0.5441683 (187)\ttotal: 16.1s\tremaining: 12s\n",
      "344:\tlearn: 0.5377322\ttest: 0.5411222\tbest: 0.5441683 (187)\ttotal: 16.1s\tremaining: 11.9s\n",
      "345:\tlearn: 0.5377322\ttest: 0.5411222\tbest: 0.5441683 (187)\ttotal: 16.2s\tremaining: 11.9s\n",
      "346:\tlearn: 0.5376870\ttest: 0.5411222\tbest: 0.5441683 (187)\ttotal: 16.2s\tremaining: 11.8s\n",
      "347:\tlearn: 0.5378562\ttest: 0.5411222\tbest: 0.5441683 (187)\ttotal: 16.3s\tremaining: 11.8s\n",
      "348:\tlearn: 0.5380180\ttest: 0.5411222\tbest: 0.5441683 (187)\ttotal: 16.4s\tremaining: 11.8s\n",
      "349:\tlearn: 0.5377584\ttest: 0.5411222\tbest: 0.5441683 (187)\ttotal: 16.4s\tremaining: 11.7s\n",
      "350:\tlearn: 0.5378299\ttest: 0.5411222\tbest: 0.5441683 (187)\ttotal: 16.5s\tremaining: 11.7s\n",
      "351:\tlearn: 0.5377584\ttest: 0.5411222\tbest: 0.5441683 (187)\ttotal: 16.5s\tremaining: 11.6s\n",
      "352:\tlearn: 0.5379465\ttest: 0.5411222\tbest: 0.5441683 (187)\ttotal: 16.6s\tremaining: 11.6s\n",
      "353:\tlearn: 0.5380631\ttest: 0.5411222\tbest: 0.5441683 (187)\ttotal: 16.6s\tremaining: 11.6s\n",
      "354:\tlearn: 0.5380706\ttest: 0.5411222\tbest: 0.5441683 (187)\ttotal: 16.7s\tremaining: 11.5s\n",
      "355:\tlearn: 0.5379991\ttest: 0.5411222\tbest: 0.5441683 (187)\ttotal: 16.7s\tremaining: 11.5s\n",
      "356:\tlearn: 0.5380969\ttest: 0.5411222\tbest: 0.5441683 (187)\ttotal: 16.8s\tremaining: 11.4s\n",
      "357:\tlearn: 0.5382134\ttest: 0.5411222\tbest: 0.5441683 (187)\ttotal: 16.9s\tremaining: 11.4s\n",
      "358:\tlearn: 0.5381946\ttest: 0.5408418\tbest: 0.5441683 (187)\ttotal: 16.9s\tremaining: 11.4s\n",
      "359:\tlearn: 0.5382586\ttest: 0.5408418\tbest: 0.5441683 (187)\ttotal: 17s\tremaining: 11.3s\n",
      "360:\tlearn: 0.5382586\ttest: 0.5408418\tbest: 0.5441683 (187)\ttotal: 17s\tremaining: 11.3s\n",
      "361:\tlearn: 0.5381346\ttest: 0.5408418\tbest: 0.5441683 (187)\ttotal: 17.1s\tremaining: 11.2s\n",
      "362:\tlearn: 0.5383751\ttest: 0.5406340\tbest: 0.5441683 (187)\ttotal: 17.1s\tremaining: 11.2s\n",
      "363:\tlearn: 0.5383751\ttest: 0.5406340\tbest: 0.5441683 (187)\ttotal: 17.1s\tremaining: 11.1s\n",
      "364:\tlearn: 0.5384014\ttest: 0.5406340\tbest: 0.5441683 (187)\ttotal: 17.2s\tremaining: 11.1s\n",
      "365:\tlearn: 0.5383300\ttest: 0.5406340\tbest: 0.5441683 (187)\ttotal: 17.3s\tremaining: 11s\n",
      "366:\tlearn: 0.5383751\ttest: 0.5406340\tbest: 0.5441683 (187)\ttotal: 17.3s\tremaining: 11s\n",
      "367:\tlearn: 0.5385893\ttest: 0.5406340\tbest: 0.5441683 (187)\ttotal: 17.4s\tremaining: 10.9s\n",
      "368:\tlearn: 0.5384653\ttest: 0.5406340\tbest: 0.5441683 (187)\ttotal: 17.4s\tremaining: 10.9s\n",
      "369:\tlearn: 0.5385630\ttest: 0.5406340\tbest: 0.5441683 (187)\ttotal: 17.5s\tremaining: 10.8s\n",
      "370:\tlearn: 0.5384916\ttest: 0.5406340\tbest: 0.5441683 (187)\ttotal: 17.5s\tremaining: 10.8s\n",
      "371:\tlearn: 0.5384916\ttest: 0.5406340\tbest: 0.5441683 (187)\ttotal: 17.6s\tremaining: 10.8s\n",
      "372:\tlearn: 0.5386607\ttest: 0.5409143\tbest: 0.5441683 (187)\ttotal: 17.6s\tremaining: 10.7s\n",
      "373:\tlearn: 0.5386607\ttest: 0.5409143\tbest: 0.5441683 (187)\ttotal: 17.7s\tremaining: 10.7s\n",
      "374:\tlearn: 0.5385893\ttest: 0.5409143\tbest: 0.5441683 (187)\ttotal: 17.7s\tremaining: 10.6s\n",
      "375:\tlearn: 0.5385893\ttest: 0.5409143\tbest: 0.5441683 (187)\ttotal: 17.8s\tremaining: 10.6s\n",
      "376:\tlearn: 0.5386344\ttest: 0.5409143\tbest: 0.5441683 (187)\ttotal: 17.8s\tremaining: 10.5s\n",
      "377:\tlearn: 0.5387057\ttest: 0.5403536\tbest: 0.5441683 (187)\ttotal: 17.9s\tremaining: 10.5s\n",
      "378:\tlearn: 0.5387057\ttest: 0.5403536\tbest: 0.5441683 (187)\ttotal: 17.9s\tremaining: 10.5s\n",
      "379:\tlearn: 0.5388485\ttest: 0.5406340\tbest: 0.5441683 (187)\ttotal: 18s\tremaining: 10.4s\n",
      "380:\tlearn: 0.5388222\ttest: 0.5406340\tbest: 0.5441683 (187)\ttotal: 18s\tremaining: 10.4s\n",
      "381:\tlearn: 0.5388222\ttest: 0.5406340\tbest: 0.5441683 (187)\ttotal: 18.1s\tremaining: 10.3s\n",
      "382:\tlearn: 0.5386794\ttest: 0.5406340\tbest: 0.5441683 (187)\ttotal: 18.1s\tremaining: 10.3s\n",
      "383:\tlearn: 0.5386531\ttest: 0.5406340\tbest: 0.5441683 (187)\ttotal: 18.2s\tremaining: 10.2s\n",
      "384:\tlearn: 0.5386531\ttest: 0.5407379\tbest: 0.5441683 (187)\ttotal: 18.2s\tremaining: 10.2s\n",
      "385:\tlearn: 0.5385104\ttest: 0.5407379\tbest: 0.5441683 (187)\ttotal: 18.3s\tremaining: 10.1s\n",
      "386:\tlearn: 0.5383939\ttest: 0.5407379\tbest: 0.5441683 (187)\ttotal: 18.4s\tremaining: 10.1s\n",
      "387:\tlearn: 0.5384202\ttest: 0.5407379\tbest: 0.5441683 (187)\ttotal: 18.4s\tremaining: 10.1s\n",
      "388:\tlearn: 0.5384916\ttest: 0.5407379\tbest: 0.5441683 (187)\ttotal: 18.5s\tremaining: 10s\n",
      "389:\tlearn: 0.5387584\ttest: 0.5407379\tbest: 0.5441683 (187)\ttotal: 18.5s\tremaining: 9.96s\n",
      "390:\tlearn: 0.5387321\ttest: 0.5406340\tbest: 0.5441683 (187)\ttotal: 18.6s\tremaining: 9.92s\n",
      "391:\tlearn: 0.5389011\ttest: 0.5409143\tbest: 0.5441683 (187)\ttotal: 18.6s\tremaining: 9.88s\n",
      "392:\tlearn: 0.5388297\ttest: 0.5409143\tbest: 0.5441683 (187)\ttotal: 18.7s\tremaining: 9.84s\n",
      "393:\tlearn: 0.5388297\ttest: 0.5409143\tbest: 0.5441683 (187)\ttotal: 18.7s\tremaining: 9.79s\n",
      "394:\tlearn: 0.5388297\ttest: 0.5409143\tbest: 0.5441683 (187)\ttotal: 18.8s\tremaining: 9.75s\n",
      "395:\tlearn: 0.5388561\ttest: 0.5409143\tbest: 0.5441683 (187)\ttotal: 18.8s\tremaining: 9.7s\n",
      "396:\tlearn: 0.5387133\ttest: 0.5409143\tbest: 0.5441683 (187)\ttotal: 18.9s\tremaining: 9.66s\n",
      "397:\tlearn: 0.5387133\ttest: 0.5409143\tbest: 0.5441683 (187)\ttotal: 18.9s\tremaining: 9.61s\n",
      "398:\tlearn: 0.5388110\ttest: 0.5409143\tbest: 0.5441683 (187)\ttotal: 19s\tremaining: 9.57s\n",
      "399:\tlearn: 0.5388373\ttest: 0.5404574\tbest: 0.5441683 (187)\ttotal: 19s\tremaining: 9.52s\n",
      "400:\tlearn: 0.5389350\ttest: 0.5405613\tbest: 0.5441683 (187)\ttotal: 19.1s\tremaining: 9.47s\n",
      "401:\tlearn: 0.5388636\ttest: 0.5405613\tbest: 0.5441683 (187)\ttotal: 19.1s\tremaining: 9.43s\n",
      "402:\tlearn: 0.5392951\ttest: 0.5405613\tbest: 0.5441683 (187)\ttotal: 19.2s\tremaining: 9.38s\n",
      "403:\tlearn: 0.5392951\ttest: 0.5405613\tbest: 0.5441683 (187)\ttotal: 19.2s\tremaining: 9.34s\n",
      "404:\tlearn: 0.5393664\ttest: 0.5405613\tbest: 0.5441683 (187)\ttotal: 19.3s\tremaining: 9.29s\n",
      "405:\tlearn: 0.5393664\ttest: 0.5405613\tbest: 0.5441683 (187)\ttotal: 19.4s\tremaining: 9.25s\n",
      "406:\tlearn: 0.5392238\ttest: 0.5405613\tbest: 0.5441683 (187)\ttotal: 19.4s\tremaining: 9.2s\n",
      "407:\tlearn: 0.5392951\ttest: 0.5405613\tbest: 0.5441683 (187)\ttotal: 19.5s\tremaining: 9.15s\n",
      "408:\tlearn: 0.5393928\ttest: 0.5405613\tbest: 0.5441683 (187)\ttotal: 19.5s\tremaining: 9.11s\n",
      "409:\tlearn: 0.5393664\ttest: 0.5405613\tbest: 0.5441683 (187)\ttotal: 19.6s\tremaining: 9.07s\n",
      "410:\tlearn: 0.5393664\ttest: 0.5404574\tbest: 0.5441683 (187)\ttotal: 19.6s\tremaining: 9.02s\n",
      "411:\tlearn: 0.5394377\ttest: 0.5407692\tbest: 0.5441683 (187)\ttotal: 19.7s\tremaining: 8.97s\n",
      "412:\tlearn: 0.5395090\ttest: 0.5407692\tbest: 0.5441683 (187)\ttotal: 19.7s\tremaining: 8.93s\n",
      "413:\tlearn: 0.5395090\ttest: 0.5407692\tbest: 0.5441683 (187)\ttotal: 19.8s\tremaining: 8.89s\n",
      "414:\tlearn: 0.5395353\ttest: 0.5407692\tbest: 0.5441683 (187)\ttotal: 19.8s\tremaining: 8.84s\n",
      "415:\tlearn: 0.5395353\ttest: 0.5402078\tbest: 0.5441683 (187)\ttotal: 19.9s\tremaining: 8.8s\n",
      "416:\tlearn: 0.5395353\ttest: 0.5402078\tbest: 0.5441683 (187)\ttotal: 19.9s\tremaining: 8.75s\n",
      "417:\tlearn: 0.5393478\ttest: 0.5402078\tbest: 0.5441683 (187)\ttotal: 20s\tremaining: 8.7s\n",
      "418:\tlearn: 0.5394454\ttest: 0.5402078\tbest: 0.5441683 (187)\ttotal: 20s\tremaining: 8.66s\n",
      "419:\tlearn: 0.5393928\ttest: 0.5402078\tbest: 0.5441683 (187)\ttotal: 20.1s\tremaining: 8.61s\n",
      "420:\tlearn: 0.5394454\ttest: 0.5402078\tbest: 0.5441683 (187)\ttotal: 20.1s\tremaining: 8.56s\n",
      "421:\tlearn: 0.5392501\ttest: 0.5402078\tbest: 0.5441683 (187)\ttotal: 20.2s\tremaining: 8.52s\n",
      "422:\tlearn: 0.5392578\ttest: 0.5402078\tbest: 0.5441683 (187)\ttotal: 20.3s\tremaining: 8.47s\n",
      "423:\tlearn: 0.5392052\ttest: 0.5405613\tbest: 0.5441683 (187)\ttotal: 20.3s\tremaining: 8.43s\n",
      "424:\tlearn: 0.5392052\ttest: 0.5405613\tbest: 0.5441683 (187)\ttotal: 20.4s\tremaining: 8.38s\n",
      "425:\tlearn: 0.5392315\ttest: 0.5405613\tbest: 0.5441683 (187)\ttotal: 20.4s\tremaining: 8.34s\n",
      "426:\tlearn: 0.5393478\ttest: 0.5406653\tbest: 0.5441683 (187)\ttotal: 20.5s\tremaining: 8.29s\n",
      "427:\tlearn: 0.5397306\ttest: 0.5406653\tbest: 0.5441683 (187)\ttotal: 20.5s\tremaining: 8.24s\n",
      "428:\tlearn: 0.5397306\ttest: 0.5406653\tbest: 0.5441683 (187)\ttotal: 20.6s\tremaining: 8.2s\n",
      "429:\tlearn: 0.5397306\ttest: 0.5408732\tbest: 0.5441683 (187)\ttotal: 20.6s\tremaining: 8.15s\n",
      "430:\tlearn: 0.5397569\ttest: 0.5408732\tbest: 0.5441683 (187)\ttotal: 20.7s\tremaining: 8.1s\n",
      "431:\tlearn: 0.5398545\ttest: 0.5408732\tbest: 0.5441683 (187)\ttotal: 20.7s\tremaining: 8.05s\n",
      "432:\tlearn: 0.5397833\ttest: 0.5408732\tbest: 0.5441683 (187)\ttotal: 20.8s\tremaining: 8.01s\n",
      "433:\tlearn: 0.5396825\ttest: 0.5407692\tbest: 0.5441683 (187)\ttotal: 20.8s\tremaining: 7.96s\n",
      "434:\tlearn: 0.5397539\ttest: 0.5408732\tbest: 0.5441683 (187)\ttotal: 20.9s\tremaining: 7.92s\n",
      "435:\tlearn: 0.5402372\ttest: 0.5408732\tbest: 0.5441683 (187)\ttotal: 20.9s\tremaining: 7.87s\n",
      "436:\tlearn: 0.5402108\ttest: 0.5408732\tbest: 0.5441683 (187)\ttotal: 21s\tremaining: 7.83s\n",
      "437:\tlearn: 0.5402108\ttest: 0.5408732\tbest: 0.5441683 (187)\ttotal: 21s\tremaining: 7.78s\n",
      "438:\tlearn: 0.5398965\ttest: 0.5408732\tbest: 0.5441683 (187)\ttotal: 21.1s\tremaining: 7.73s\n",
      "439:\tlearn: 0.5401659\ttest: 0.5408732\tbest: 0.5441683 (187)\ttotal: 21.1s\tremaining: 7.69s\n",
      "440:\tlearn: 0.5401738\ttest: 0.5408732\tbest: 0.5441683 (187)\ttotal: 21.2s\tremaining: 7.64s\n",
      "441:\tlearn: 0.5398857\ttest: 0.5408732\tbest: 0.5441683 (187)\ttotal: 21.3s\tremaining: 7.6s\n",
      "442:\tlearn: 0.5402265\ttest: 0.5404157\tbest: 0.5441683 (187)\ttotal: 21.3s\tremaining: 7.55s\n",
      "443:\tlearn: 0.5403163\ttest: 0.5404157\tbest: 0.5441683 (187)\ttotal: 21.4s\tremaining: 7.51s\n",
      "444:\tlearn: 0.5403163\ttest: 0.5404157\tbest: 0.5441683 (187)\ttotal: 21.4s\tremaining: 7.47s\n",
      "445:\tlearn: 0.5402978\ttest: 0.5404157\tbest: 0.5441683 (187)\ttotal: 21.5s\tremaining: 7.42s\n",
      "446:\tlearn: 0.5402978\ttest: 0.5404157\tbest: 0.5441683 (187)\ttotal: 21.6s\tremaining: 7.38s\n",
      "447:\tlearn: 0.5401260\ttest: 0.5404157\tbest: 0.5441683 (187)\ttotal: 21.6s\tremaining: 7.33s\n",
      "448:\tlearn: 0.5401973\ttest: 0.5404157\tbest: 0.5441683 (187)\ttotal: 21.7s\tremaining: 7.29s\n",
      "449:\tlearn: 0.5400547\ttest: 0.5404157\tbest: 0.5441683 (187)\ttotal: 21.7s\tremaining: 7.24s\n",
      "450:\tlearn: 0.5400283\ttest: 0.5408732\tbest: 0.5441683 (187)\ttotal: 21.8s\tremaining: 7.19s\n",
      "451:\tlearn: 0.5400733\ttest: 0.5408732\tbest: 0.5441683 (187)\ttotal: 21.8s\tremaining: 7.14s\n",
      "452:\tlearn: 0.5400469\ttest: 0.5408732\tbest: 0.5441683 (187)\ttotal: 21.9s\tremaining: 7.09s\n",
      "453:\tlearn: 0.5401182\ttest: 0.5405925\tbest: 0.5441683 (187)\ttotal: 21.9s\tremaining: 7.04s\n",
      "454:\tlearn: 0.5401895\ttest: 0.5405925\tbest: 0.5441683 (187)\ttotal: 22s\tremaining: 7s\n",
      "455:\tlearn: 0.5401895\ttest: 0.5405925\tbest: 0.5441683 (187)\ttotal: 22s\tremaining: 6.95s\n",
      "456:\tlearn: 0.5402608\ttest: 0.5405925\tbest: 0.5441683 (187)\ttotal: 22.1s\tremaining: 6.9s\n",
      "457:\tlearn: 0.5404033\ttest: 0.5405925\tbest: 0.5441683 (187)\ttotal: 22.1s\tremaining: 6.86s\n",
      "458:\tlearn: 0.5403848\ttest: 0.5405925\tbest: 0.5441683 (187)\ttotal: 22.2s\tremaining: 6.81s\n",
      "459:\tlearn: 0.5405089\ttest: 0.5406966\tbest: 0.5441683 (187)\ttotal: 22.2s\tremaining: 6.76s\n",
      "460:\tlearn: 0.5405801\ttest: 0.5406966\tbest: 0.5441683 (187)\ttotal: 22.3s\tremaining: 6.71s\n",
      "461:\tlearn: 0.5405617\ttest: 0.5402387\tbest: 0.5441683 (187)\ttotal: 22.3s\tremaining: 6.67s\n",
      "462:\tlearn: 0.5407042\ttest: 0.5402387\tbest: 0.5441683 (187)\ttotal: 22.4s\tremaining: 6.62s\n",
      "463:\tlearn: 0.5407042\ttest: 0.5402387\tbest: 0.5441683 (187)\ttotal: 22.4s\tremaining: 6.57s\n",
      "464:\tlearn: 0.5407042\ttest: 0.5402387\tbest: 0.5441683 (187)\ttotal: 22.5s\tremaining: 6.53s\n",
      "465:\tlearn: 0.5407042\ttest: 0.5402387\tbest: 0.5441683 (187)\ttotal: 22.5s\tremaining: 6.48s\n",
      "466:\tlearn: 0.5406065\ttest: 0.5405197\tbest: 0.5441683 (187)\ttotal: 22.6s\tremaining: 6.43s\n",
      "467:\tlearn: 0.5406778\ttest: 0.5405197\tbest: 0.5441683 (187)\ttotal: 22.6s\tremaining: 6.38s\n",
      "468:\tlearn: 0.5407042\ttest: 0.5405197\tbest: 0.5441683 (187)\ttotal: 22.7s\tremaining: 6.33s\n",
      "469:\tlearn: 0.5407042\ttest: 0.5405197\tbest: 0.5441683 (187)\ttotal: 22.7s\tremaining: 6.29s\n",
      "470:\tlearn: 0.5407042\ttest: 0.5405197\tbest: 0.5441683 (187)\ttotal: 22.8s\tremaining: 6.24s\n",
      "471:\tlearn: 0.5407306\ttest: 0.5405197\tbest: 0.5441683 (187)\ttotal: 22.8s\tremaining: 6.19s\n",
      "472:\tlearn: 0.5407570\ttest: 0.5405197\tbest: 0.5441683 (187)\ttotal: 22.9s\tremaining: 6.14s\n",
      "473:\tlearn: 0.5407570\ttest: 0.5405197\tbest: 0.5441683 (187)\ttotal: 22.9s\tremaining: 6.1s\n",
      "474:\tlearn: 0.5407755\ttest: 0.5405197\tbest: 0.5441683 (187)\ttotal: 23s\tremaining: 6.05s\n",
      "475:\tlearn: 0.5407834\ttest: 0.5405197\tbest: 0.5441683 (187)\ttotal: 23.1s\tremaining: 6s\n",
      "476:\tlearn: 0.5407834\ttest: 0.5405197\tbest: 0.5441683 (187)\ttotal: 23.1s\tremaining: 5.96s\n",
      "477:\tlearn: 0.5407834\ttest: 0.5405197\tbest: 0.5441683 (187)\ttotal: 23.2s\tremaining: 5.91s\n",
      "478:\tlearn: 0.5407650\ttest: 0.5405197\tbest: 0.5441683 (187)\ttotal: 23.2s\tremaining: 5.87s\n",
      "479:\tlearn: 0.5407914\ttest: 0.5405197\tbest: 0.5441683 (187)\ttotal: 23.3s\tremaining: 5.82s\n",
      "480:\tlearn: 0.5407914\ttest: 0.5405197\tbest: 0.5441683 (187)\ttotal: 23.3s\tremaining: 5.77s\n",
      "481:\tlearn: 0.5407730\ttest: 0.5405197\tbest: 0.5441683 (187)\ttotal: 23.4s\tremaining: 5.73s\n",
      "482:\tlearn: 0.5407465\ttest: 0.5405197\tbest: 0.5441683 (187)\ttotal: 23.4s\tremaining: 5.68s\n",
      "483:\tlearn: 0.5407465\ttest: 0.5405197\tbest: 0.5441683 (187)\ttotal: 23.5s\tremaining: 5.63s\n",
      "484:\tlearn: 0.5407465\ttest: 0.5405197\tbest: 0.5441683 (187)\ttotal: 23.5s\tremaining: 5.58s\n",
      "485:\tlearn: 0.5407914\ttest: 0.5405197\tbest: 0.5441683 (187)\ttotal: 23.6s\tremaining: 5.53s\n",
      "486:\tlearn: 0.5408627\ttest: 0.5404157\tbest: 0.5441683 (187)\ttotal: 23.6s\tremaining: 5.49s\n",
      "487:\tlearn: 0.5409604\ttest: 0.5404157\tbest: 0.5441683 (187)\ttotal: 23.7s\tremaining: 5.44s\n",
      "488:\tlearn: 0.5409340\ttest: 0.5404157\tbest: 0.5441683 (187)\ttotal: 23.7s\tremaining: 5.39s\n",
      "489:\tlearn: 0.5409604\ttest: 0.5404157\tbest: 0.5441683 (187)\ttotal: 23.8s\tremaining: 5.34s\n",
      "490:\tlearn: 0.5408627\ttest: 0.5406966\tbest: 0.5441683 (187)\ttotal: 23.8s\tremaining: 5.29s\n",
      "491:\tlearn: 0.5407914\ttest: 0.5406966\tbest: 0.5441683 (187)\ttotal: 23.9s\tremaining: 5.24s\n",
      "492:\tlearn: 0.5408178\ttest: 0.5406966\tbest: 0.5441683 (187)\ttotal: 24s\tremaining: 5.2s\n",
      "493:\tlearn: 0.5409155\ttest: 0.5404157\tbest: 0.5441683 (187)\ttotal: 24s\tremaining: 5.16s\n",
      "494:\tlearn: 0.5408707\ttest: 0.5404157\tbest: 0.5441683 (187)\ttotal: 24.1s\tremaining: 5.11s\n",
      "495:\tlearn: 0.5408178\ttest: 0.5404157\tbest: 0.5441683 (187)\ttotal: 24.1s\tremaining: 5.06s\n",
      "496:\tlearn: 0.5409604\ttest: 0.5404157\tbest: 0.5441683 (187)\ttotal: 24.2s\tremaining: 5.01s\n",
      "497:\tlearn: 0.5409340\ttest: 0.5404157\tbest: 0.5441683 (187)\ttotal: 24.2s\tremaining: 4.96s\n",
      "498:\tlearn: 0.5408363\ttest: 0.5404157\tbest: 0.5441683 (187)\ttotal: 24.3s\tremaining: 4.92s\n",
      "499:\tlearn: 0.5409788\ttest: 0.5404157\tbest: 0.5441683 (187)\ttotal: 24.3s\tremaining: 4.87s\n",
      "500:\tlearn: 0.5410949\ttest: 0.5403117\tbest: 0.5441683 (187)\ttotal: 24.4s\tremaining: 4.82s\n",
      "501:\tlearn: 0.5410949\ttest: 0.5403117\tbest: 0.5441683 (187)\ttotal: 24.4s\tremaining: 4.77s\n",
      "502:\tlearn: 0.5410949\ttest: 0.5403117\tbest: 0.5441683 (187)\ttotal: 24.5s\tremaining: 4.72s\n",
      "503:\tlearn: 0.5411926\ttest: 0.5403117\tbest: 0.5441683 (187)\ttotal: 24.6s\tremaining: 4.68s\n",
      "504:\tlearn: 0.5412638\ttest: 0.5403117\tbest: 0.5441683 (187)\ttotal: 24.6s\tremaining: 4.63s\n",
      "505:\tlearn: 0.5412638\ttest: 0.5403117\tbest: 0.5441683 (187)\ttotal: 24.7s\tremaining: 4.58s\n",
      "506:\tlearn: 0.5412374\ttest: 0.5403117\tbest: 0.5441683 (187)\ttotal: 24.7s\tremaining: 4.53s\n",
      "507:\tlearn: 0.5413798\ttest: 0.5403117\tbest: 0.5441683 (187)\ttotal: 24.8s\tremaining: 4.48s\n",
      "508:\tlearn: 0.5413534\ttest: 0.5403117\tbest: 0.5441683 (187)\ttotal: 24.8s\tremaining: 4.44s\n",
      "509:\tlearn: 0.5413534\ttest: 0.5403117\tbest: 0.5441683 (187)\ttotal: 24.9s\tremaining: 4.39s\n",
      "510:\tlearn: 0.5413270\ttest: 0.5403117\tbest: 0.5441683 (187)\ttotal: 24.9s\tremaining: 4.34s\n",
      "511:\tlearn: 0.5414246\ttest: 0.5403117\tbest: 0.5441683 (187)\ttotal: 25s\tremaining: 4.29s\n",
      "512:\tlearn: 0.5412293\ttest: 0.5403117\tbest: 0.5441683 (187)\ttotal: 25s\tremaining: 4.25s\n",
      "513:\tlearn: 0.5412293\ttest: 0.5403117\tbest: 0.5441683 (187)\ttotal: 25.1s\tremaining: 4.2s\n",
      "514:\tlearn: 0.5412293\ttest: 0.5403117\tbest: 0.5441683 (187)\ttotal: 25.2s\tremaining: 4.16s\n",
      "515:\tlearn: 0.5412822\ttest: 0.5403117\tbest: 0.5441683 (187)\ttotal: 25.2s\tremaining: 4.11s\n",
      "516:\tlearn: 0.5412374\ttest: 0.5403117\tbest: 0.5441683 (187)\ttotal: 25.3s\tremaining: 4.06s\n",
      "517:\tlearn: 0.5413167\ttest: 0.5403117\tbest: 0.5441683 (187)\ttotal: 25.3s\tremaining: 4.01s\n",
      "518:\tlearn: 0.5414408\ttest: 0.5403117\tbest: 0.5441683 (187)\ttotal: 25.4s\tremaining: 3.96s\n",
      "519:\tlearn: 0.5414408\ttest: 0.5403117\tbest: 0.5441683 (187)\ttotal: 25.5s\tremaining: 3.92s\n",
      "520:\tlearn: 0.5414856\ttest: 0.5403117\tbest: 0.5441683 (187)\ttotal: 25.5s\tremaining: 3.87s\n",
      "521:\tlearn: 0.5414856\ttest: 0.5403117\tbest: 0.5441683 (187)\ttotal: 25.5s\tremaining: 3.82s\n",
      "522:\tlearn: 0.5414856\ttest: 0.5403117\tbest: 0.5441683 (187)\ttotal: 25.6s\tremaining: 3.77s\n",
      "523:\tlearn: 0.5414143\ttest: 0.5403117\tbest: 0.5441683 (187)\ttotal: 25.6s\tremaining: 3.72s\n",
      "524:\tlearn: 0.5414856\ttest: 0.5403117\tbest: 0.5441683 (187)\ttotal: 25.7s\tremaining: 3.67s\n",
      "525:\tlearn: 0.5414143\ttest: 0.5403117\tbest: 0.5441683 (187)\ttotal: 25.8s\tremaining: 3.62s\n",
      "526:\tlearn: 0.5414672\ttest: 0.5403117\tbest: 0.5441683 (187)\ttotal: 25.8s\tremaining: 3.57s\n",
      "527:\tlearn: 0.5414672\ttest: 0.5403117\tbest: 0.5441683 (187)\ttotal: 25.9s\tremaining: 3.53s\n",
      "528:\tlearn: 0.5417786\ttest: 0.5402078\tbest: 0.5441683 (187)\ttotal: 25.9s\tremaining: 3.48s\n",
      "529:\tlearn: 0.5420369\ttest: 0.5402078\tbest: 0.5441683 (187)\ttotal: 26s\tremaining: 3.43s\n",
      "530:\tlearn: 0.5418498\ttest: 0.5403117\tbest: 0.5441683 (187)\ttotal: 26s\tremaining: 3.38s\n",
      "531:\tlearn: 0.5418498\ttest: 0.5403117\tbest: 0.5441683 (187)\ttotal: 26.1s\tremaining: 3.33s\n",
      "532:\tlearn: 0.5419210\ttest: 0.5403117\tbest: 0.5441683 (187)\ttotal: 26.2s\tremaining: 3.29s\n",
      "533:\tlearn: 0.5417766\ttest: 0.5403117\tbest: 0.5441683 (187)\ttotal: 26.2s\tremaining: 3.24s\n",
      "534:\tlearn: 0.5418031\ttest: 0.5403117\tbest: 0.5441683 (187)\ttotal: 26.3s\tremaining: 3.19s\n",
      "535:\tlearn: 0.5417054\ttest: 0.5403117\tbest: 0.5441683 (187)\ttotal: 26.3s\tremaining: 3.14s\n",
      "536:\tlearn: 0.5416606\ttest: 0.5403117\tbest: 0.5441683 (187)\ttotal: 26.4s\tremaining: 3.09s\n",
      "537:\tlearn: 0.5419027\ttest: 0.5402078\tbest: 0.5441683 (187)\ttotal: 26.4s\tremaining: 3.04s\n",
      "538:\tlearn: 0.5419739\ttest: 0.5403117\tbest: 0.5441683 (187)\ttotal: 26.5s\tremaining: 3s\n",
      "539:\tlearn: 0.5419739\ttest: 0.5403117\tbest: 0.5441683 (187)\ttotal: 26.5s\tremaining: 2.95s\n",
      "540:\tlearn: 0.5418580\ttest: 0.5403117\tbest: 0.5441683 (187)\ttotal: 26.6s\tremaining: 2.9s\n",
      "541:\tlearn: 0.5418580\ttest: 0.5403117\tbest: 0.5441683 (187)\ttotal: 26.6s\tremaining: 2.85s\n",
      "542:\tlearn: 0.5418315\ttest: 0.5406238\tbest: 0.5441683 (187)\ttotal: 26.7s\tremaining: 2.8s\n",
      "543:\tlearn: 0.5419739\ttest: 0.5406238\tbest: 0.5441683 (187)\ttotal: 26.7s\tremaining: 2.75s\n",
      "544:\tlearn: 0.5419475\ttest: 0.5406238\tbest: 0.5441683 (187)\ttotal: 26.8s\tremaining: 2.7s\n",
      "545:\tlearn: 0.5419475\ttest: 0.5406238\tbest: 0.5441683 (187)\ttotal: 26.9s\tremaining: 2.66s\n",
      "546:\tlearn: 0.5419739\ttest: 0.5406238\tbest: 0.5441683 (187)\ttotal: 26.9s\tremaining: 2.61s\n",
      "547:\tlearn: 0.5419739\ttest: 0.5406238\tbest: 0.5441683 (187)\ttotal: 27s\tremaining: 2.56s\n",
      "548:\tlearn: 0.5418945\ttest: 0.5406238\tbest: 0.5441683 (187)\ttotal: 27s\tremaining: 2.51s\n",
      "549:\tlearn: 0.5418945\ttest: 0.5406238\tbest: 0.5441683 (187)\ttotal: 27.1s\tremaining: 2.46s\n",
      "550:\tlearn: 0.5420451\ttest: 0.5406238\tbest: 0.5441683 (187)\ttotal: 27.1s\tremaining: 2.41s\n",
      "551:\tlearn: 0.5420451\ttest: 0.5406238\tbest: 0.5441683 (187)\ttotal: 27.2s\tremaining: 2.36s\n",
      "552:\tlearn: 0.5419027\ttest: 0.5406238\tbest: 0.5441683 (187)\ttotal: 27.2s\tremaining: 2.31s\n",
      "553:\tlearn: 0.5419739\ttest: 0.5406238\tbest: 0.5441683 (187)\ttotal: 27.3s\tremaining: 2.27s\n",
      "554:\tlearn: 0.5420716\ttest: 0.5407279\tbest: 0.5441683 (187)\ttotal: 27.3s\tremaining: 2.22s\n",
      "555:\tlearn: 0.5420716\ttest: 0.5407279\tbest: 0.5441683 (187)\ttotal: 27.4s\tremaining: 2.17s\n",
      "556:\tlearn: 0.5420716\ttest: 0.5407279\tbest: 0.5441683 (187)\ttotal: 27.4s\tremaining: 2.12s\n",
      "557:\tlearn: 0.5420269\ttest: 0.5407279\tbest: 0.5441683 (187)\ttotal: 27.5s\tremaining: 2.07s\n",
      "558:\tlearn: 0.5420981\ttest: 0.5407279\tbest: 0.5441683 (187)\ttotal: 27.5s\tremaining: 2.02s\n",
      "559:\tlearn: 0.5423464\ttest: 0.5407279\tbest: 0.5441683 (187)\ttotal: 27.6s\tremaining: 1.97s\n",
      "560:\tlearn: 0.5423729\ttest: 0.5406238\tbest: 0.5441683 (187)\ttotal: 27.6s\tremaining: 1.92s\n",
      "561:\tlearn: 0.5423464\ttest: 0.5406238\tbest: 0.5441683 (187)\ttotal: 27.7s\tremaining: 1.87s\n",
      "562:\tlearn: 0.5423729\ttest: 0.5406238\tbest: 0.5441683 (187)\ttotal: 27.7s\tremaining: 1.82s\n",
      "563:\tlearn: 0.5425418\ttest: 0.5407279\tbest: 0.5441683 (187)\ttotal: 27.8s\tremaining: 1.77s\n",
      "564:\tlearn: 0.5425683\ttest: 0.5407279\tbest: 0.5441683 (187)\ttotal: 27.9s\tremaining: 1.73s\n",
      "565:\tlearn: 0.5425683\ttest: 0.5407279\tbest: 0.5441683 (187)\ttotal: 27.9s\tremaining: 1.68s\n",
      "566:\tlearn: 0.5426394\ttest: 0.5407279\tbest: 0.5441683 (187)\ttotal: 28s\tremaining: 1.63s\n",
      "567:\tlearn: 0.5426129\ttest: 0.5407279\tbest: 0.5441683 (187)\ttotal: 28s\tremaining: 1.58s\n",
      "568:\tlearn: 0.5426129\ttest: 0.5407279\tbest: 0.5441683 (187)\ttotal: 28.1s\tremaining: 1.53s\n",
      "569:\tlearn: 0.5425864\ttest: 0.5407279\tbest: 0.5441683 (187)\ttotal: 28.1s\tremaining: 1.48s\n",
      "570:\tlearn: 0.5425864\ttest: 0.5407279\tbest: 0.5441683 (187)\ttotal: 28.2s\tremaining: 1.43s\n",
      "571:\tlearn: 0.5425864\ttest: 0.5407279\tbest: 0.5441683 (187)\ttotal: 28.2s\tremaining: 1.38s\n",
      "572:\tlearn: 0.5426576\ttest: 0.5407279\tbest: 0.5441683 (187)\ttotal: 28.3s\tremaining: 1.33s\n",
      "573:\tlearn: 0.5426576\ttest: 0.5407279\tbest: 0.5441683 (187)\ttotal: 28.3s\tremaining: 1.28s\n",
      "574:\tlearn: 0.5426046\ttest: 0.5407279\tbest: 0.5441683 (187)\ttotal: 28.4s\tremaining: 1.23s\n",
      "575:\tlearn: 0.5426046\ttest: 0.5407279\tbest: 0.5441683 (187)\ttotal: 28.4s\tremaining: 1.18s\n",
      "576:\tlearn: 0.5426758\ttest: 0.5407279\tbest: 0.5441683 (187)\ttotal: 28.5s\tremaining: 1.14s\n",
      "577:\tlearn: 0.5426758\ttest: 0.5407279\tbest: 0.5441683 (187)\ttotal: 28.5s\tremaining: 1.08s\n",
      "578:\tlearn: 0.5427204\ttest: 0.5407279\tbest: 0.5441683 (187)\ttotal: 28.6s\tremaining: 1.04s\n",
      "579:\tlearn: 0.5427469\ttest: 0.5407279\tbest: 0.5441683 (187)\ttotal: 28.6s\tremaining: 987ms\n",
      "580:\tlearn: 0.5427469\ttest: 0.5407279\tbest: 0.5441683 (187)\ttotal: 28.7s\tremaining: 937ms\n",
      "581:\tlearn: 0.5427734\ttest: 0.5407279\tbest: 0.5441683 (187)\ttotal: 28.7s\tremaining: 888ms\n",
      "582:\tlearn: 0.5428446\ttest: 0.5407279\tbest: 0.5441683 (187)\ttotal: 28.8s\tremaining: 839ms\n",
      "583:\tlearn: 0.5428446\ttest: 0.5407279\tbest: 0.5441683 (187)\ttotal: 28.8s\tremaining: 789ms\n",
      "584:\tlearn: 0.5427734\ttest: 0.5410089\tbest: 0.5441683 (187)\ttotal: 28.9s\tremaining: 740ms\n",
      "585:\tlearn: 0.5428446\ttest: 0.5410089\tbest: 0.5441683 (187)\ttotal: 28.9s\tremaining: 691ms\n",
      "586:\tlearn: 0.5426493\ttest: 0.5410089\tbest: 0.5441683 (187)\ttotal: 29s\tremaining: 642ms\n",
      "587:\tlearn: 0.5426758\ttest: 0.5410089\tbest: 0.5441683 (187)\ttotal: 29s\tremaining: 592ms\n",
      "588:\tlearn: 0.5426493\ttest: 0.5410089\tbest: 0.5441683 (187)\ttotal: 29.1s\tremaining: 543ms\n",
      "589:\tlearn: 0.5425781\ttest: 0.5410089\tbest: 0.5441683 (187)\ttotal: 29.1s\tremaining: 493ms\n",
      "590:\tlearn: 0.5427204\ttest: 0.5410089\tbest: 0.5441683 (187)\ttotal: 29.2s\tremaining: 444ms\n",
      "591:\tlearn: 0.5427023\ttest: 0.5410089\tbest: 0.5441683 (187)\ttotal: 29.2s\tremaining: 395ms\n",
      "592:\tlearn: 0.5427734\ttest: 0.5410089\tbest: 0.5441683 (187)\ttotal: 29.3s\tremaining: 345ms\n",
      "593:\tlearn: 0.5428711\ttest: 0.5410089\tbest: 0.5441683 (187)\ttotal: 29.3s\tremaining: 296ms\n",
      "594:\tlearn: 0.5427023\ttest: 0.5410089\tbest: 0.5441683 (187)\ttotal: 29.4s\tremaining: 247ms\n",
      "595:\tlearn: 0.5427023\ttest: 0.5410089\tbest: 0.5441683 (187)\ttotal: 29.4s\tremaining: 197ms\n",
      "596:\tlearn: 0.5427734\ttest: 0.5410089\tbest: 0.5441683 (187)\ttotal: 29.5s\tremaining: 148ms\n",
      "597:\tlearn: 0.5429422\ttest: 0.5410089\tbest: 0.5441683 (187)\ttotal: 29.5s\tremaining: 98.7ms\n",
      "598:\tlearn: 0.5431556\ttest: 0.5410089\tbest: 0.5441683 (187)\ttotal: 29.6s\tremaining: 49.4ms\n",
      "599:\tlearn: 0.5431556\ttest: 0.5410089\tbest: 0.5441683 (187)\ttotal: 29.6s\tremaining: 0us\n",
      "\n",
      "bestTest = 0.54416826\n",
      "bestIteration = 187\n",
      "\n",
      "0:\tlearn: 0.3628051\ttest: 0.3906063\tbest: 0.3906063 (0)\ttotal: 29.1ms\tremaining: 17.5s\n",
      "1:\tlearn: 0.3900145\ttest: 0.4108818\tbest: 0.4108818 (1)\ttotal: 70.1ms\tremaining: 20.9s\n",
      "2:\tlearn: 0.3901410\ttest: 0.4108818\tbest: 0.4108818 (1)\ttotal: 120ms\tremaining: 23.9s\n",
      "3:\tlearn: 0.3907991\ttest: 0.4108818\tbest: 0.4108818 (1)\ttotal: 145ms\tremaining: 21.6s\n",
      "4:\tlearn: 0.3907991\ttest: 0.4108818\tbest: 0.4108818 (1)\ttotal: 186ms\tremaining: 22.1s\n",
      "5:\tlearn: 0.4345685\ttest: 0.4471744\tbest: 0.4471744 (5)\ttotal: 229ms\tremaining: 22.6s\n",
      "6:\tlearn: 0.4339601\ttest: 0.4466324\tbest: 0.4471744 (5)\ttotal: 251ms\tremaining: 21.3s\n",
      "7:\tlearn: 0.4610568\ttest: 0.4821695\tbest: 0.4821695 (7)\ttotal: 287ms\tremaining: 21.2s\n",
      "8:\tlearn: 0.4609551\ttest: 0.4818298\tbest: 0.4821695 (7)\ttotal: 337ms\tremaining: 22.1s\n",
      "9:\tlearn: 0.4590019\ttest: 0.4815052\tbest: 0.4821695 (7)\ttotal: 373ms\tremaining: 22s\n",
      "10:\tlearn: 0.4612003\ttest: 0.4818298\tbest: 0.4821695 (7)\ttotal: 409ms\tremaining: 21.9s\n",
      "11:\tlearn: 0.4609715\ttest: 0.4816239\tbest: 0.4821695 (7)\ttotal: 448ms\tremaining: 22s\n",
      "12:\tlearn: 0.4625096\ttest: 0.4822725\tbest: 0.4822725 (12)\ttotal: 486ms\tremaining: 22s\n",
      "13:\tlearn: 0.4627537\ttest: 0.4822725\tbest: 0.4822725 (12)\ttotal: 528ms\tremaining: 22.1s\n",
      "14:\tlearn: 0.4629487\ttest: 0.4816239\tbest: 0.4822725 (12)\ttotal: 570ms\tremaining: 22.2s\n",
      "15:\tlearn: 0.4634039\ttest: 0.4815210\tbest: 0.4822725 (12)\ttotal: 622ms\tremaining: 22.7s\n",
      "16:\tlearn: 0.4636488\ttest: 0.4817269\tbest: 0.4822725 (12)\ttotal: 660ms\tremaining: 22.6s\n",
      "17:\tlearn: 0.4631094\ttest: 0.4822574\tbest: 0.4822725 (12)\ttotal: 696ms\tremaining: 22.5s\n",
      "18:\tlearn: 0.4636409\ttest: 0.4829060\tbest: 0.4829060 (18)\ttotal: 742ms\tremaining: 22.7s\n",
      "19:\tlearn: 0.4628254\ttest: 0.4813545\tbest: 0.4829060 (18)\ttotal: 781ms\tremaining: 22.7s\n",
      "20:\tlearn: 0.4630618\ttest: 0.4808228\tbest: 0.4829060 (18)\ttotal: 817ms\tremaining: 22.5s\n",
      "21:\tlearn: 0.4625888\ttest: 0.4808228\tbest: 0.4829060 (18)\ttotal: 861ms\tremaining: 22.6s\n",
      "22:\tlearn: 0.4625558\ttest: 0.4811482\tbest: 0.4829060 (18)\ttotal: 900ms\tremaining: 22.6s\n",
      "23:\tlearn: 0.4626825\ttest: 0.4807033\tbest: 0.4829060 (18)\ttotal: 955ms\tremaining: 22.9s\n",
      "24:\tlearn: 0.4634455\ttest: 0.4789519\tbest: 0.4829060 (18)\ttotal: 1.01s\tremaining: 23.2s\n",
      "25:\tlearn: 0.4639533\ttest: 0.4793814\tbest: 0.4829060 (18)\ttotal: 1.05s\tremaining: 23.3s\n",
      "26:\tlearn: 0.4636324\ttest: 0.4795699\tbest: 0.4829060 (18)\ttotal: 1.11s\tremaining: 23.5s\n",
      "27:\tlearn: 0.4643093\ttest: 0.4799141\tbest: 0.4829060 (18)\ttotal: 1.16s\tremaining: 23.6s\n",
      "28:\tlearn: 0.4644273\ttest: 0.4799141\tbest: 0.4829060 (18)\ttotal: 1.19s\tremaining: 23.5s\n",
      "29:\tlearn: 0.4717177\ttest: 0.4840358\tbest: 0.4840358 (29)\ttotal: 1.24s\tremaining: 23.6s\n",
      "30:\tlearn: 0.4721526\ttest: 0.4839464\tbest: 0.4840358 (29)\ttotal: 1.27s\tremaining: 23.3s\n",
      "31:\tlearn: 0.4724856\ttest: 0.4843584\tbest: 0.4843584 (31)\ttotal: 1.31s\tremaining: 23.3s\n",
      "32:\tlearn: 0.4743422\ttest: 0.4858901\tbest: 0.4858901 (32)\ttotal: 1.36s\tremaining: 23.4s\n",
      "33:\tlearn: 0.4743938\ttest: 0.4852473\tbest: 0.4858901 (32)\ttotal: 1.41s\tremaining: 23.5s\n",
      "34:\tlearn: 0.4755647\ttest: 0.4849257\tbest: 0.4858901 (32)\ttotal: 1.46s\tremaining: 23.5s\n",
      "35:\tlearn: 0.4757044\ttest: 0.4847199\tbest: 0.4858901 (32)\ttotal: 1.51s\tremaining: 23.7s\n",
      "36:\tlearn: 0.4765265\ttest: 0.4850414\tbest: 0.4858901 (32)\ttotal: 1.56s\tremaining: 23.7s\n",
      "37:\tlearn: 0.4757920\ttest: 0.4853503\tbest: 0.4858901 (32)\ttotal: 1.61s\tremaining: 23.9s\n",
      "38:\tlearn: 0.4761801\ttest: 0.4859932\tbest: 0.4859932 (38)\ttotal: 1.65s\tremaining: 23.8s\n",
      "39:\tlearn: 0.4761232\ttest: 0.4859932\tbest: 0.4859932 (38)\ttotal: 1.69s\tremaining: 23.7s\n",
      "40:\tlearn: 0.4765939\ttest: 0.4856718\tbest: 0.4859932 (38)\ttotal: 1.74s\tremaining: 23.8s\n",
      "41:\tlearn: 0.4766868\ttest: 0.4854657\tbest: 0.4859932 (38)\ttotal: 1.78s\tremaining: 23.7s\n",
      "42:\tlearn: 0.4827846\ttest: 0.4930818\tbest: 0.4930818 (42)\ttotal: 1.82s\tremaining: 23.6s\n",
      "43:\tlearn: 0.4894488\ttest: 0.4997924\tbest: 0.4997924 (43)\ttotal: 1.87s\tremaining: 23.6s\n",
      "44:\tlearn: 0.4901513\ttest: 0.5006227\tbest: 0.5006227 (44)\ttotal: 1.92s\tremaining: 23.6s\n",
      "45:\tlearn: 0.4905720\ttest: 0.5015505\tbest: 0.5015505 (45)\ttotal: 1.97s\tremaining: 23.7s\n",
      "46:\tlearn: 0.4907020\ttest: 0.5012407\tbest: 0.5015505 (45)\ttotal: 2.01s\tremaining: 23.7s\n",
      "47:\tlearn: 0.4907020\ttest: 0.5012407\tbest: 0.5015505 (45)\ttotal: 2.02s\tremaining: 23.3s\n",
      "48:\tlearn: 0.4911277\ttest: 0.5015505\tbest: 0.5015505 (45)\ttotal: 2.07s\tremaining: 23.3s\n",
      "49:\tlearn: 0.4910904\ttest: 0.5003114\tbest: 0.5015505 (45)\ttotal: 2.12s\tremaining: 23.3s\n",
      "50:\tlearn: 0.4915200\ttest: 0.5017609\tbest: 0.5017609 (50)\ttotal: 2.16s\tremaining: 23.3s\n",
      "51:\tlearn: 0.4929942\ttest: 0.5027864\tbest: 0.5027864 (51)\ttotal: 2.21s\tremaining: 23.3s\n",
      "52:\tlearn: 0.4924266\ttest: 0.5002076\tbest: 0.5027864 (51)\ttotal: 2.25s\tremaining: 23.2s\n",
      "53:\tlearn: 0.4928058\ttest: 0.5015505\tbest: 0.5027864 (51)\ttotal: 2.3s\tremaining: 23.3s\n",
      "54:\tlearn: 0.4928318\ttest: 0.5015505\tbest: 0.5027864 (51)\ttotal: 2.33s\tremaining: 23.1s\n",
      "55:\tlearn: 0.4926171\ttest: 0.5013444\tbest: 0.5027864 (51)\ttotal: 2.38s\tremaining: 23.1s\n",
      "56:\tlearn: 0.4928534\ttest: 0.5011380\tbest: 0.5027864 (51)\ttotal: 2.43s\tremaining: 23.1s\n",
      "57:\tlearn: 0.4931724\ttest: 0.5011380\tbest: 0.5027864 (51)\ttotal: 2.48s\tremaining: 23.2s\n",
      "58:\tlearn: 0.4931434\ttest: 0.5010352\tbest: 0.5027864 (51)\ttotal: 2.53s\tremaining: 23.2s\n",
      "59:\tlearn: 0.4935697\ttest: 0.5010352\tbest: 0.5027864 (51)\ttotal: 2.58s\tremaining: 23.3s\n",
      "60:\tlearn: 0.4936769\ttest: 0.5010352\tbest: 0.5027864 (51)\ttotal: 2.64s\tremaining: 23.3s\n",
      "61:\tlearn: 0.4939969\ttest: 0.5010352\tbest: 0.5027864 (51)\ttotal: 2.7s\tremaining: 23.4s\n",
      "62:\tlearn: 0.4939683\ttest: 0.5007248\tbest: 0.5027864 (51)\ttotal: 2.75s\tremaining: 23.5s\n",
      "63:\tlearn: 0.4942869\ttest: 0.5007248\tbest: 0.5027864 (51)\ttotal: 2.8s\tremaining: 23.5s\n",
      "64:\tlearn: 0.4946066\ttest: 0.5006211\tbest: 0.5027864 (51)\ttotal: 2.84s\tremaining: 23.4s\n",
      "65:\tlearn: 0.4944474\ttest: 0.5006211\tbest: 0.5027864 (51)\ttotal: 2.88s\tremaining: 23.3s\n",
      "66:\tlearn: 0.4946066\ttest: 0.5006211\tbest: 0.5027864 (51)\ttotal: 2.92s\tremaining: 23.2s\n",
      "67:\tlearn: 0.4948454\ttest: 0.5007248\tbest: 0.5027864 (51)\ttotal: 2.96s\tremaining: 23.2s\n",
      "68:\tlearn: 0.4948454\ttest: 0.5007248\tbest: 0.5027864 (51)\ttotal: 3.01s\tremaining: 23.2s\n",
      "69:\tlearn: 0.4948715\ttest: 0.5007248\tbest: 0.5027864 (51)\ttotal: 3.06s\tremaining: 23.1s\n",
      "70:\tlearn: 0.4951364\ttest: 0.5007248\tbest: 0.5027864 (51)\ttotal: 3.1s\tremaining: 23.1s\n",
      "71:\tlearn: 0.4951626\ttest: 0.5007248\tbest: 0.5027864 (51)\ttotal: 3.15s\tremaining: 23.1s\n",
      "72:\tlearn: 0.4957193\ttest: 0.5010343\tbest: 0.5027864 (51)\ttotal: 3.2s\tremaining: 23.1s\n",
      "73:\tlearn: 0.4954536\ttest: 0.5010343\tbest: 0.5027864 (51)\ttotal: 3.25s\tremaining: 23.1s\n",
      "74:\tlearn: 0.4956126\ttest: 0.5010343\tbest: 0.5027864 (51)\ttotal: 3.3s\tremaining: 23.1s\n",
      "75:\tlearn: 0.4955322\ttest: 0.5004139\tbest: 0.5027864 (51)\ttotal: 3.35s\tremaining: 23.1s\n",
      "76:\tlearn: 0.4956398\ttest: 0.5016543\tbest: 0.5027864 (51)\ttotal: 3.4s\tremaining: 23.1s\n",
      "77:\tlearn: 0.4956922\ttest: 0.5010343\tbest: 0.5027864 (51)\ttotal: 3.45s\tremaining: 23.1s\n",
      "78:\tlearn: 0.4955331\ttest: 0.5019640\tbest: 0.5027864 (51)\ttotal: 3.49s\tremaining: 23s\n",
      "79:\tlearn: 0.4951595\ttest: 0.5021717\tbest: 0.5027864 (51)\ttotal: 3.54s\tremaining: 23s\n",
      "80:\tlearn: 0.4951595\ttest: 0.5021717\tbest: 0.5027864 (51)\ttotal: 3.58s\tremaining: 23s\n",
      "81:\tlearn: 0.4950254\ttest: 0.5007248\tbest: 0.5027864 (51)\ttotal: 3.64s\tremaining: 23s\n",
      "82:\tlearn: 0.4953177\ttest: 0.5005175\tbest: 0.5027864 (51)\ttotal: 3.69s\tremaining: 23s\n",
      "83:\tlearn: 0.4952381\ttest: 0.5005175\tbest: 0.5027864 (51)\ttotal: 3.71s\tremaining: 22.8s\n",
      "84:\tlearn: 0.4957428\ttest: 0.5005175\tbest: 0.5027864 (51)\ttotal: 3.76s\tremaining: 22.8s\n",
      "85:\tlearn: 0.4955293\ttest: 0.5006211\tbest: 0.5027864 (51)\ttotal: 3.81s\tremaining: 22.8s\n",
      "86:\tlearn: 0.4959027\ttest: 0.5017580\tbest: 0.5027864 (51)\ttotal: 3.86s\tremaining: 22.7s\n",
      "87:\tlearn: 0.4960355\ttest: 0.5017580\tbest: 0.5027864 (51)\ttotal: 3.91s\tremaining: 22.7s\n",
      "88:\tlearn: 0.4961150\ttest: 0.5017580\tbest: 0.5027864 (51)\ttotal: 3.96s\tremaining: 22.8s\n",
      "89:\tlearn: 0.4959822\ttest: 0.5017580\tbest: 0.5027864 (51)\ttotal: 4.02s\tremaining: 22.8s\n",
      "90:\tlearn: 0.4959822\ttest: 0.5017580\tbest: 0.5027864 (51)\ttotal: 4.04s\tremaining: 22.6s\n",
      "91:\tlearn: 0.5343063\ttest: 0.5424312\tbest: 0.5424312 (91)\ttotal: 4.09s\tremaining: 22.6s\n",
      "92:\tlearn: 0.5344042\ttest: 0.5427097\tbest: 0.5427097 (92)\ttotal: 4.15s\tremaining: 22.6s\n",
      "93:\tlearn: 0.5345284\ttest: 0.5424312\tbest: 0.5427097 (92)\ttotal: 4.2s\tremaining: 22.6s\n",
      "94:\tlearn: 0.5349464\ttest: 0.5420811\tbest: 0.5427097 (92)\ttotal: 4.26s\tremaining: 22.6s\n",
      "95:\tlearn: 0.5348484\ttest: 0.5418022\tbest: 0.5427097 (92)\ttotal: 4.32s\tremaining: 22.7s\n",
      "96:\tlearn: 0.5348484\ttest: 0.5418022\tbest: 0.5427097 (92)\ttotal: 4.34s\tremaining: 22.5s\n",
      "97:\tlearn: 0.5350044\ttest: 0.5421526\tbest: 0.5427097 (92)\ttotal: 4.39s\tremaining: 22.5s\n",
      "98:\tlearn: 0.5350774\ttest: 0.5412440\tbest: 0.5427097 (92)\ttotal: 4.44s\tremaining: 22.5s\n",
      "99:\tlearn: 0.5353451\ttest: 0.5408925\tbest: 0.5427097 (92)\ttotal: 4.5s\tremaining: 22.5s\n",
      "100:\tlearn: 0.5353590\ttest: 0.5407890\tbest: 0.5427097 (92)\ttotal: 4.55s\tremaining: 22.5s\n",
      "101:\tlearn: 0.5353258\ttest: 0.5407890\tbest: 0.5427097 (92)\ttotal: 4.59s\tremaining: 22.4s\n",
      "102:\tlearn: 0.5353258\ttest: 0.5407890\tbest: 0.5427097 (92)\ttotal: 4.65s\tremaining: 22.4s\n",
      "103:\tlearn: 0.5356460\ttest: 0.5410684\tbest: 0.5427097 (92)\ttotal: 4.7s\tremaining: 22.4s\n",
      "104:\tlearn: 0.5355743\ttest: 0.5407890\tbest: 0.5427097 (92)\ttotal: 4.75s\tremaining: 22.4s\n",
      "105:\tlearn: 0.5354570\ttest: 0.5409648\tbest: 0.5427097 (92)\ttotal: 4.81s\tremaining: 22.4s\n",
      "106:\tlearn: 0.5353149\ttest: 0.5410684\tbest: 0.5427097 (92)\ttotal: 4.85s\tremaining: 22.4s\n",
      "107:\tlearn: 0.5352430\ttest: 0.5410684\tbest: 0.5427097 (92)\ttotal: 4.9s\tremaining: 22.3s\n",
      "108:\tlearn: 0.4966095\ttest: 0.4994814\tbest: 0.5427097 (92)\ttotal: 4.95s\tremaining: 22.3s\n",
      "109:\tlearn: 0.4966358\ttest: 0.4994814\tbest: 0.5427097 (92)\ttotal: 5.01s\tremaining: 22.3s\n",
      "110:\tlearn: 0.4967680\ttest: 0.4992743\tbest: 0.5427097 (92)\ttotal: 5.06s\tremaining: 22.3s\n",
      "111:\tlearn: 0.4966073\ttest: 0.4992743\tbest: 0.5427097 (92)\ttotal: 5.11s\tremaining: 22.3s\n",
      "112:\tlearn: 0.4965013\ttest: 0.4997926\tbest: 0.5427097 (92)\ttotal: 5.16s\tremaining: 22.2s\n",
      "113:\tlearn: 0.5354338\ttest: 0.5411314\tbest: 0.5427097 (92)\ttotal: 5.21s\tremaining: 22.2s\n",
      "114:\tlearn: 0.5353952\ttest: 0.5411314\tbest: 0.5427097 (92)\ttotal: 5.26s\tremaining: 22.2s\n",
      "115:\tlearn: 0.4967403\ttest: 0.5001038\tbest: 0.5427097 (92)\ttotal: 5.32s\tremaining: 22.2s\n",
      "116:\tlearn: 0.5351338\ttest: 0.5411314\tbest: 0.5427097 (92)\ttotal: 5.38s\tremaining: 22.2s\n",
      "117:\tlearn: 0.5352777\ttest: 0.5411314\tbest: 0.5427097 (92)\ttotal: 5.45s\tremaining: 22.2s\n",
      "118:\tlearn: 0.5352057\ttest: 0.5411314\tbest: 0.5427097 (92)\ttotal: 5.52s\tremaining: 22.3s\n",
      "119:\tlearn: 0.5355127\ttest: 0.5414428\tbest: 0.5427097 (92)\ttotal: 5.58s\tremaining: 22.3s\n",
      "120:\tlearn: 0.5354408\ttest: 0.5414428\tbest: 0.5427097 (92)\ttotal: 5.64s\tremaining: 22.3s\n",
      "121:\tlearn: 0.5354532\ttest: 0.5424574\tbest: 0.5427097 (92)\ttotal: 5.71s\tremaining: 22.4s\n",
      "122:\tlearn: 0.5355776\ttest: 0.5424574\tbest: 0.5427097 (92)\ttotal: 5.76s\tremaining: 22.4s\n",
      "123:\tlearn: 0.5358650\ttest: 0.5424574\tbest: 0.5427097 (92)\ttotal: 5.82s\tremaining: 22.4s\n",
      "124:\tlearn: 0.5359439\ttest: 0.5423534\tbest: 0.5427097 (92)\ttotal: 5.88s\tremaining: 22.3s\n",
      "125:\tlearn: 0.5362767\ttest: 0.5426327\tbest: 0.5427097 (92)\ttotal: 5.92s\tremaining: 22.3s\n",
      "126:\tlearn: 0.5366428\ttest: 0.5419701\tbest: 0.5427097 (92)\ttotal: 5.98s\tremaining: 22.3s\n",
      "127:\tlearn: 0.5364346\ttest: 0.5420418\tbest: 0.5427097 (92)\ttotal: 6.03s\tremaining: 22.2s\n",
      "128:\tlearn: 0.5369490\ttest: 0.5420418\tbest: 0.5427097 (92)\ttotal: 6.08s\tremaining: 22.2s\n",
      "129:\tlearn: 0.5369608\ttest: 0.5419380\tbest: 0.5427097 (92)\ttotal: 6.13s\tremaining: 22.2s\n",
      "130:\tlearn: 0.5372666\ttest: 0.5419380\tbest: 0.5427097 (92)\ttotal: 6.18s\tremaining: 22.1s\n",
      "131:\tlearn: 0.5374100\ttest: 0.5419380\tbest: 0.5427097 (92)\ttotal: 6.23s\tremaining: 22.1s\n",
      "132:\tlearn: 0.5373836\ttest: 0.5419380\tbest: 0.5427097 (92)\ttotal: 6.28s\tremaining: 22.1s\n",
      "133:\tlearn: 0.5380547\ttest: 0.5418342\tbest: 0.5427097 (92)\ttotal: 6.33s\tremaining: 22s\n",
      "134:\tlearn: 0.5380358\ttest: 0.5418342\tbest: 0.5427097 (92)\ttotal: 6.38s\tremaining: 22s\n",
      "135:\tlearn: 0.5387855\ttest: 0.5420418\tbest: 0.5427097 (92)\ttotal: 6.42s\tremaining: 21.9s\n",
      "136:\tlearn: 0.5388307\ttest: 0.5423209\tbest: 0.5427097 (92)\ttotal: 6.47s\tremaining: 21.9s\n",
      "137:\tlearn: 0.5388571\ttest: 0.5423209\tbest: 0.5427097 (92)\ttotal: 6.54s\tremaining: 21.9s\n",
      "138:\tlearn: 0.5390793\ttest: 0.5423209\tbest: 0.5427097 (92)\ttotal: 6.59s\tremaining: 21.9s\n",
      "139:\tlearn: 0.5390453\ttest: 0.5420418\tbest: 0.5427097 (92)\ttotal: 6.64s\tremaining: 21.8s\n",
      "140:\tlearn: 0.5391432\ttest: 0.5420418\tbest: 0.5427097 (92)\ttotal: 6.7s\tremaining: 21.8s\n",
      "141:\tlearn: 0.5387252\ttest: 0.5420418\tbest: 0.5427097 (92)\ttotal: 6.75s\tremaining: 21.8s\n",
      "142:\tlearn: 0.5388682\ttest: 0.5420418\tbest: 0.5427097 (92)\ttotal: 6.81s\tremaining: 21.8s\n",
      "143:\tlearn: 0.5389661\ttest: 0.5420418\tbest: 0.5427097 (92)\ttotal: 6.86s\tremaining: 21.7s\n",
      "144:\tlearn: 0.5388231\ttest: 0.5420418\tbest: 0.5427097 (92)\ttotal: 6.91s\tremaining: 21.7s\n",
      "145:\tlearn: 0.5388946\ttest: 0.5420418\tbest: 0.5427097 (92)\ttotal: 6.95s\tremaining: 21.6s\n",
      "146:\tlearn: 0.5389397\ttest: 0.5422171\tbest: 0.5427097 (92)\ttotal: 7s\tremaining: 21.6s\n",
      "147:\tlearn: 0.5390376\ttest: 0.5422171\tbest: 0.5427097 (92)\ttotal: 7.06s\tremaining: 21.6s\n",
      "148:\tlearn: 0.5392258\ttest: 0.5420489\tbest: 0.5427097 (92)\ttotal: 7.11s\tremaining: 21.5s\n",
      "149:\tlearn: 0.5392896\ttest: 0.5420489\tbest: 0.5427097 (92)\ttotal: 7.16s\tremaining: 21.5s\n",
      "150:\tlearn: 0.5393610\ttest: 0.5420489\tbest: 0.5427097 (92)\ttotal: 7.22s\tremaining: 21.5s\n",
      "151:\tlearn: 0.5393874\ttest: 0.5417702\tbest: 0.5427097 (92)\ttotal: 7.27s\tremaining: 21.4s\n",
      "152:\tlearn: 0.5395039\ttest: 0.5417702\tbest: 0.5427097 (92)\ttotal: 7.33s\tremaining: 21.4s\n",
      "153:\tlearn: 0.5395039\ttest: 0.5417702\tbest: 0.5427097 (92)\ttotal: 7.38s\tremaining: 21.4s\n",
      "154:\tlearn: 0.5398005\ttest: 0.5414914\tbest: 0.5427097 (92)\ttotal: 7.44s\tremaining: 21.4s\n",
      "155:\tlearn: 0.5397447\ttest: 0.5418022\tbest: 0.5427097 (92)\ttotal: 7.49s\tremaining: 21.3s\n",
      "156:\tlearn: 0.5398425\ttest: 0.5420811\tbest: 0.5427097 (92)\ttotal: 7.54s\tremaining: 21.3s\n",
      "157:\tlearn: 0.5400831\ttest: 0.5429172\tbest: 0.5429172 (157)\ttotal: 7.59s\tremaining: 21.2s\n",
      "158:\tlearn: 0.5401546\ttest: 0.5428135\tbest: 0.5429172 (157)\ttotal: 7.64s\tremaining: 21.2s\n",
      "159:\tlearn: 0.5401546\ttest: 0.5429882\tbest: 0.5429882 (159)\ttotal: 7.7s\tremaining: 21.2s\n",
      "160:\tlearn: 0.5400753\ttest: 0.5428844\tbest: 0.5429882 (159)\ttotal: 7.75s\tremaining: 21.1s\n",
      "161:\tlearn: 0.5400567\ttest: 0.5426060\tbest: 0.5429882 (159)\ttotal: 7.8s\tremaining: 21.1s\n",
      "162:\tlearn: 0.5402788\ttest: 0.5422239\tbest: 0.5429882 (159)\ttotal: 7.85s\tremaining: 21s\n",
      "163:\tlearn: 0.5403131\ttest: 0.5422239\tbest: 0.5429882 (159)\ttotal: 7.91s\tremaining: 21s\n",
      "164:\tlearn: 0.5405273\ttest: 0.5421526\tbest: 0.5429882 (159)\ttotal: 7.95s\tremaining: 21s\n",
      "165:\tlearn: 0.5407864\ttest: 0.5421526\tbest: 0.5429882 (159)\ttotal: 8s\tremaining: 20.9s\n",
      "166:\tlearn: 0.5409555\ttest: 0.5420489\tbest: 0.5429882 (159)\ttotal: 8.05s\tremaining: 20.9s\n",
      "167:\tlearn: 0.5412674\ttest: 0.5424312\tbest: 0.5429882 (159)\ttotal: 8.1s\tremaining: 20.8s\n",
      "168:\tlearn: 0.5412570\ttest: 0.5422562\tbest: 0.5429882 (159)\ttotal: 8.15s\tremaining: 20.8s\n",
      "169:\tlearn: 0.5411224\ttest: 0.5417702\tbest: 0.5429882 (159)\ttotal: 8.21s\tremaining: 20.8s\n",
      "170:\tlearn: 0.5412202\ttest: 0.5417702\tbest: 0.5429882 (159)\ttotal: 8.25s\tremaining: 20.7s\n",
      "171:\tlearn: 0.5409876\ttest: 0.5417702\tbest: 0.5429882 (159)\ttotal: 8.31s\tremaining: 20.7s\n",
      "172:\tlearn: 0.5412018\ttest: 0.5417702\tbest: 0.5429882 (159)\ttotal: 8.36s\tremaining: 20.6s\n",
      "173:\tlearn: 0.5413262\ttest: 0.5417702\tbest: 0.5429882 (159)\ttotal: 8.41s\tremaining: 20.6s\n",
      "174:\tlearn: 0.5418970\ttest: 0.5416667\tbest: 0.5429882 (159)\ttotal: 8.48s\tremaining: 20.6s\n",
      "175:\tlearn: 0.5416565\ttest: 0.5416667\tbest: 0.5429882 (159)\ttotal: 8.53s\tremaining: 20.5s\n",
      "176:\tlearn: 0.5418888\ttest: 0.5416667\tbest: 0.5429882 (159)\ttotal: 8.58s\tremaining: 20.5s\n",
      "177:\tlearn: 0.5418888\ttest: 0.5416667\tbest: 0.5429882 (159)\ttotal: 8.63s\tremaining: 20.5s\n",
      "178:\tlearn: 0.5418888\ttest: 0.5416667\tbest: 0.5429882 (159)\ttotal: 8.68s\tremaining: 20.4s\n",
      "179:\tlearn: 0.5417726\ttest: 0.5416667\tbest: 0.5429882 (159)\ttotal: 8.73s\tremaining: 20.4s\n",
      "180:\tlearn: 0.5417726\ttest: 0.5416667\tbest: 0.5429882 (159)\ttotal: 8.79s\tremaining: 20.4s\n",
      "181:\tlearn: 0.5416565\ttest: 0.5417702\tbest: 0.5429882 (159)\ttotal: 8.84s\tremaining: 20.3s\n",
      "182:\tlearn: 0.5418338\ttest: 0.5419774\tbest: 0.5429882 (159)\ttotal: 8.89s\tremaining: 20.3s\n",
      "183:\tlearn: 0.5418869\ttest: 0.5418738\tbest: 0.5429882 (159)\ttotal: 8.94s\tremaining: 20.2s\n",
      "184:\tlearn: 0.5421009\ttest: 0.5418738\tbest: 0.5429882 (159)\ttotal: 8.99s\tremaining: 20.2s\n",
      "185:\tlearn: 0.5420744\ttest: 0.5419774\tbest: 0.5429882 (159)\ttotal: 9.04s\tremaining: 20.1s\n",
      "186:\tlearn: 0.5421009\ttest: 0.5419774\tbest: 0.5429882 (159)\ttotal: 9.08s\tremaining: 20.1s\n",
      "187:\tlearn: 0.5423679\ttest: 0.5419774\tbest: 0.5429882 (159)\ttotal: 9.14s\tremaining: 20s\n",
      "188:\tlearn: 0.5423679\ttest: 0.5419774\tbest: 0.5429882 (159)\ttotal: 9.19s\tremaining: 20s\n",
      "189:\tlearn: 0.5425454\ttest: 0.5419774\tbest: 0.5429882 (159)\ttotal: 9.23s\tremaining: 19.9s\n",
      "190:\tlearn: 0.5426349\ttest: 0.5419774\tbest: 0.5429882 (159)\ttotal: 9.28s\tremaining: 19.9s\n",
      "191:\tlearn: 0.5424210\ttest: 0.5419774\tbest: 0.5429882 (159)\ttotal: 9.33s\tremaining: 19.8s\n",
      "192:\tlearn: 0.5427957\ttest: 0.5419774\tbest: 0.5429882 (159)\ttotal: 9.38s\tremaining: 19.8s\n",
      "193:\tlearn: 0.5427062\ttest: 0.5419774\tbest: 0.5429882 (159)\ttotal: 9.43s\tremaining: 19.7s\n",
      "194:\tlearn: 0.5428851\ttest: 0.5419774\tbest: 0.5429882 (159)\ttotal: 9.48s\tremaining: 19.7s\n",
      "195:\tlearn: 0.5428851\ttest: 0.5419774\tbest: 0.5429882 (159)\ttotal: 9.54s\tremaining: 19.7s\n",
      "196:\tlearn: 0.5428138\ttest: 0.5419774\tbest: 0.5429882 (159)\ttotal: 9.59s\tremaining: 19.6s\n",
      "197:\tlearn: 0.5429032\ttest: 0.5416985\tbest: 0.5429882 (159)\ttotal: 9.64s\tremaining: 19.6s\n",
      "198:\tlearn: 0.5429745\ttest: 0.5416985\tbest: 0.5429882 (159)\ttotal: 9.69s\tremaining: 19.5s\n",
      "199:\tlearn: 0.5432063\ttest: 0.5416985\tbest: 0.5429882 (159)\ttotal: 9.74s\tremaining: 19.5s\n",
      "200:\tlearn: 0.5432871\ttest: 0.5420811\tbest: 0.5429882 (159)\ttotal: 9.79s\tremaining: 19.4s\n",
      "201:\tlearn: 0.5432159\ttest: 0.5420811\tbest: 0.5429882 (159)\ttotal: 9.85s\tremaining: 19.4s\n",
      "202:\tlearn: 0.5434475\ttest: 0.5420811\tbest: 0.5429882 (159)\ttotal: 9.89s\tremaining: 19.3s\n",
      "203:\tlearn: 0.5434209\ttest: 0.5420811\tbest: 0.5429882 (159)\ttotal: 9.94s\tremaining: 19.3s\n",
      "204:\tlearn: 0.5432786\ttest: 0.5421848\tbest: 0.5429882 (159)\ttotal: 10s\tremaining: 19.3s\n",
      "205:\tlearn: 0.5432786\ttest: 0.5421848\tbest: 0.5429882 (159)\ttotal: 10.1s\tremaining: 19.2s\n",
      "206:\tlearn: 0.5432605\ttest: 0.5420811\tbest: 0.5429882 (159)\ttotal: 10.1s\tremaining: 19.2s\n",
      "207:\tlearn: 0.5431182\ttest: 0.5420811\tbest: 0.5429882 (159)\ttotal: 10.2s\tremaining: 19.1s\n",
      "208:\tlearn: 0.5436163\ttest: 0.5420811\tbest: 0.5429882 (159)\ttotal: 10.2s\tremaining: 19.1s\n",
      "209:\tlearn: 0.5436428\ttest: 0.5418022\tbest: 0.5429882 (159)\ttotal: 10.3s\tremaining: 19.1s\n",
      "210:\tlearn: 0.5439273\ttest: 0.5419774\tbest: 0.5429882 (159)\ttotal: 10.3s\tremaining: 19s\n",
      "211:\tlearn: 0.5441141\ttest: 0.5421526\tbest: 0.5429882 (159)\ttotal: 10.4s\tremaining: 19s\n",
      "212:\tlearn: 0.5441938\ttest: 0.5421526\tbest: 0.5429882 (159)\ttotal: 10.4s\tremaining: 18.9s\n",
      "213:\tlearn: 0.5441492\ttest: 0.5418738\tbest: 0.5429882 (159)\ttotal: 10.5s\tremaining: 18.9s\n",
      "214:\tlearn: 0.5444070\ttest: 0.5418738\tbest: 0.5429882 (159)\ttotal: 10.5s\tremaining: 18.9s\n",
      "215:\tlearn: 0.5443094\ttest: 0.5418738\tbest: 0.5429882 (159)\ttotal: 10.6s\tremaining: 18.8s\n",
      "216:\tlearn: 0.5445047\ttest: 0.5418738\tbest: 0.5429882 (159)\ttotal: 10.6s\tremaining: 18.8s\n",
      "217:\tlearn: 0.5445047\ttest: 0.5418738\tbest: 0.5429882 (159)\ttotal: 10.7s\tremaining: 18.7s\n",
      "218:\tlearn: 0.5445047\ttest: 0.5418738\tbest: 0.5429882 (159)\ttotal: 10.7s\tremaining: 18.7s\n",
      "219:\tlearn: 0.5445047\ttest: 0.5418738\tbest: 0.5429882 (159)\ttotal: 10.8s\tremaining: 18.6s\n",
      "220:\tlearn: 0.5445491\ttest: 0.5418738\tbest: 0.5429882 (159)\ttotal: 10.8s\tremaining: 18.6s\n",
      "221:\tlearn: 0.5447892\ttest: 0.5418738\tbest: 0.5429882 (159)\ttotal: 10.9s\tremaining: 18.6s\n",
      "222:\tlearn: 0.5448158\ttest: 0.5420811\tbest: 0.5429882 (159)\ttotal: 11s\tremaining: 18.5s\n",
      "223:\tlearn: 0.5453659\ttest: 0.5420811\tbest: 0.5429882 (159)\ttotal: 11s\tremaining: 18.5s\n",
      "224:\tlearn: 0.5467465\ttest: 0.5420811\tbest: 0.5429882 (159)\ttotal: 11.1s\tremaining: 18.4s\n",
      "225:\tlearn: 0.5467465\ttest: 0.5420811\tbest: 0.5429882 (159)\ttotal: 11.1s\tremaining: 18.4s\n",
      "226:\tlearn: 0.5457647\ttest: 0.5420811\tbest: 0.5429882 (159)\ttotal: 11.2s\tremaining: 18.4s\n",
      "227:\tlearn: 0.5455254\ttest: 0.5420811\tbest: 0.5429882 (159)\ttotal: 11.2s\tremaining: 18.3s\n",
      "228:\tlearn: 0.5472405\ttest: 0.5421848\tbest: 0.5429882 (159)\ttotal: 11.3s\tremaining: 18.3s\n",
      "229:\tlearn: 0.5472937\ttest: 0.5421848\tbest: 0.5429882 (159)\ttotal: 11.3s\tremaining: 18.2s\n",
      "230:\tlearn: 0.5471358\ttest: 0.5421848\tbest: 0.5429882 (159)\ttotal: 11.4s\tremaining: 18.2s\n",
      "231:\tlearn: 0.5471716\ttest: 0.5411720\tbest: 0.5429882 (159)\ttotal: 11.4s\tremaining: 18.1s\n",
      "232:\tlearn: 0.5469237\ttest: 0.5411720\tbest: 0.5429882 (159)\ttotal: 11.5s\tremaining: 18.1s\n",
      "233:\tlearn: 0.5470293\ttest: 0.5411720\tbest: 0.5429882 (159)\ttotal: 11.5s\tremaining: 18.1s\n",
      "234:\tlearn: 0.5470826\ttest: 0.5411720\tbest: 0.5429882 (159)\ttotal: 11.6s\tremaining: 18s\n",
      "235:\tlearn: 0.5478946\ttest: 0.5409239\tbest: 0.5429882 (159)\ttotal: 11.7s\tremaining: 18s\n",
      "236:\tlearn: 0.5483275\ttest: 0.5404680\tbest: 0.5429882 (159)\ttotal: 11.7s\tremaining: 17.9s\n",
      "237:\tlearn: 0.5483369\ttest: 0.5404680\tbest: 0.5429882 (159)\ttotal: 11.8s\tremaining: 17.9s\n",
      "238:\tlearn: 0.5483636\ttest: 0.5404680\tbest: 0.5429882 (159)\ttotal: 11.8s\tremaining: 17.9s\n",
      "239:\tlearn: 0.5484342\ttest: 0.5403643\tbest: 0.5429882 (159)\ttotal: 11.9s\tremaining: 17.9s\n",
      "240:\tlearn: 0.5484342\ttest: 0.5403643\tbest: 0.5429882 (159)\ttotal: 12s\tremaining: 17.9s\n",
      "241:\tlearn: 0.5484875\ttest: 0.5405716\tbest: 0.5429882 (159)\ttotal: 12.1s\tremaining: 17.9s\n",
      "242:\tlearn: 0.5486114\ttest: 0.5405716\tbest: 0.5429882 (159)\ttotal: 12.1s\tremaining: 17.8s\n",
      "243:\tlearn: 0.5487087\ttest: 0.5405716\tbest: 0.5429882 (159)\ttotal: 12.2s\tremaining: 17.8s\n",
      "244:\tlearn: 0.5487698\ttest: 0.5407478\tbest: 0.5429882 (159)\ttotal: 12.3s\tremaining: 17.8s\n",
      "245:\tlearn: 0.5487259\ttest: 0.5407478\tbest: 0.5429882 (159)\ttotal: 12.3s\tremaining: 17.7s\n",
      "246:\tlearn: 0.5485486\ttest: 0.5407478\tbest: 0.5429882 (159)\ttotal: 12.4s\tremaining: 17.7s\n",
      "247:\tlearn: 0.5486459\ttest: 0.5404680\tbest: 0.5429882 (159)\ttotal: 12.4s\tremaining: 17.6s\n",
      "248:\tlearn: 0.5489720\ttest: 0.5404680\tbest: 0.5429882 (159)\ttotal: 12.5s\tremaining: 17.6s\n",
      "249:\tlearn: 0.5491226\ttest: 0.5403643\tbest: 0.5429882 (159)\ttotal: 12.5s\tremaining: 17.5s\n",
      "250:\tlearn: 0.5492465\ttest: 0.5403643\tbest: 0.5429882 (159)\ttotal: 12.6s\tremaining: 17.5s\n",
      "251:\tlearn: 0.5492540\ttest: 0.5403334\tbest: 0.5429882 (159)\ttotal: 12.6s\tremaining: 17.4s\n",
      "252:\tlearn: 0.5492978\ttest: 0.5403334\tbest: 0.5429882 (159)\ttotal: 12.7s\tremaining: 17.4s\n",
      "253:\tlearn: 0.5492978\ttest: 0.5403334\tbest: 0.5429882 (159)\ttotal: 12.7s\tremaining: 17.4s\n",
      "254:\tlearn: 0.5492978\ttest: 0.5403334\tbest: 0.5429882 (159)\ttotal: 12.8s\tremaining: 17.3s\n",
      "255:\tlearn: 0.5492978\ttest: 0.5403334\tbest: 0.5429882 (159)\ttotal: 12.8s\tremaining: 17.2s\n",
      "256:\tlearn: 0.5482960\ttest: 0.5402299\tbest: 0.5429882 (159)\ttotal: 12.9s\tremaining: 17.2s\n",
      "257:\tlearn: 0.5483400\ttest: 0.5402299\tbest: 0.5429882 (159)\ttotal: 12.9s\tremaining: 17.1s\n",
      "258:\tlearn: 0.5486665\ttest: 0.5404060\tbest: 0.5429882 (159)\ttotal: 13s\tremaining: 17.1s\n",
      "259:\tlearn: 0.5495820\ttest: 0.5437560\tbest: 0.5437560 (259)\ttotal: 13s\tremaining: 17.1s\n",
      "260:\tlearn: 0.5495820\ttest: 0.5439299\tbest: 0.5439299 (260)\ttotal: 13.1s\tremaining: 17s\n",
      "261:\tlearn: 0.5495552\ttest: 0.5439299\tbest: 0.5439299 (260)\ttotal: 13.2s\tremaining: 17s\n",
      "262:\tlearn: 0.5495552\ttest: 0.5439299\tbest: 0.5439299 (260)\ttotal: 13.2s\tremaining: 16.9s\n",
      "263:\tlearn: 0.5496525\ttest: 0.5439299\tbest: 0.5439299 (260)\ttotal: 13.3s\tremaining: 16.9s\n",
      "264:\tlearn: 0.5497230\ttest: 0.5444847\tbest: 0.5444847 (264)\ttotal: 13.3s\tremaining: 16.8s\n",
      "265:\tlearn: 0.5497764\ttest: 0.5444847\tbest: 0.5444847 (264)\ttotal: 13.4s\tremaining: 16.8s\n",
      "266:\tlearn: 0.5497423\ttest: 0.5445884\tbest: 0.5445884 (266)\ttotal: 13.4s\tremaining: 16.7s\n",
      "267:\tlearn: 0.5498736\ttest: 0.5446922\tbest: 0.5446922 (267)\ttotal: 13.5s\tremaining: 16.7s\n",
      "268:\tlearn: 0.5498736\ttest: 0.5446922\tbest: 0.5446922 (267)\ttotal: 13.5s\tremaining: 16.6s\n",
      "269:\tlearn: 0.5498736\ttest: 0.5446922\tbest: 0.5446922 (267)\ttotal: 13.6s\tremaining: 16.6s\n",
      "270:\tlearn: 0.5499003\ttest: 0.5441373\tbest: 0.5446922 (267)\ttotal: 13.6s\tremaining: 16.5s\n",
      "271:\tlearn: 0.5501992\ttest: 0.5447960\tbest: 0.5447960 (271)\ttotal: 13.7s\tremaining: 16.5s\n",
      "272:\tlearn: 0.5502795\ttest: 0.5447960\tbest: 0.5447960 (271)\ttotal: 13.7s\tremaining: 16.4s\n",
      "273:\tlearn: 0.5503936\ttest: 0.5446922\tbest: 0.5447960 (271)\ttotal: 13.8s\tremaining: 16.4s\n",
      "274:\tlearn: 0.5509232\ttest: 0.5449695\tbest: 0.5449695 (274)\ttotal: 13.8s\tremaining: 16.3s\n",
      "275:\tlearn: 0.5513387\ttest: 0.5449695\tbest: 0.5449695 (274)\ttotal: 13.9s\tremaining: 16.3s\n",
      "276:\tlearn: 0.5512951\ttest: 0.5448657\tbest: 0.5449695 (274)\ttotal: 13.9s\tremaining: 16.3s\n",
      "277:\tlearn: 0.5511543\ttest: 0.5448657\tbest: 0.5449695 (274)\ttotal: 14s\tremaining: 16.2s\n",
      "278:\tlearn: 0.5511275\ttest: 0.5448657\tbest: 0.5449695 (274)\ttotal: 14s\tremaining: 16.2s\n",
      "279:\tlearn: 0.5511712\ttest: 0.5451429\tbest: 0.5451429 (279)\ttotal: 14.1s\tremaining: 16.1s\n",
      "280:\tlearn: 0.5511979\ttest: 0.5450390\tbest: 0.5451429 (279)\ttotal: 14.2s\tremaining: 16.1s\n",
      "281:\tlearn: 0.5512683\ttest: 0.5450390\tbest: 0.5451429 (279)\ttotal: 14.2s\tremaining: 16s\n",
      "282:\tlearn: 0.5512683\ttest: 0.5444847\tbest: 0.5451429 (279)\ttotal: 14.3s\tremaining: 16s\n",
      "283:\tlearn: 0.5519884\ttest: 0.5444847\tbest: 0.5451429 (279)\ttotal: 14.3s\tremaining: 15.9s\n",
      "284:\tlearn: 0.5519984\ttest: 0.5443110\tbest: 0.5451429 (279)\ttotal: 14.4s\tremaining: 15.9s\n",
      "285:\tlearn: 0.5519984\ttest: 0.5443110\tbest: 0.5451429 (279)\ttotal: 14.5s\tremaining: 15.9s\n",
      "286:\tlearn: 0.5518580\ttest: 0.5440335\tbest: 0.5451429 (279)\ttotal: 14.5s\tremaining: 15.8s\n",
      "287:\tlearn: 0.5517877\ttest: 0.5440335\tbest: 0.5451429 (279)\ttotal: 14.6s\tremaining: 15.8s\n",
      "288:\tlearn: 0.5518580\ttest: 0.5437560\tbest: 0.5451429 (279)\ttotal: 14.6s\tremaining: 15.7s\n",
      "289:\tlearn: 0.5520520\ttest: 0.5444847\tbest: 0.5451429 (279)\ttotal: 14.7s\tremaining: 15.7s\n",
      "290:\tlearn: 0.5519818\ttest: 0.5447619\tbest: 0.5451429 (279)\ttotal: 14.7s\tremaining: 15.6s\n",
      "291:\tlearn: 0.5521490\ttest: 0.5447619\tbest: 0.5451429 (279)\ttotal: 14.8s\tremaining: 15.6s\n",
      "292:\tlearn: 0.5520788\ttest: 0.5444847\tbest: 0.5451429 (279)\ttotal: 14.8s\tremaining: 15.5s\n",
      "293:\tlearn: 0.5521758\ttest: 0.5442773\tbest: 0.5451429 (279)\ttotal: 14.9s\tremaining: 15.5s\n",
      "294:\tlearn: 0.5523431\ttest: 0.5443810\tbest: 0.5451429 (279)\ttotal: 14.9s\tremaining: 15.4s\n",
      "295:\tlearn: 0.5522728\ttest: 0.5443810\tbest: 0.5451429 (279)\ttotal: 15s\tremaining: 15.4s\n",
      "296:\tlearn: 0.5522996\ttest: 0.5443810\tbest: 0.5451429 (279)\ttotal: 15s\tremaining: 15.3s\n",
      "297:\tlearn: 0.5524835\ttest: 0.5441036\tbest: 0.5451429 (279)\ttotal: 15.1s\tremaining: 15.3s\n",
      "298:\tlearn: 0.5523532\ttest: 0.5442773\tbest: 0.5451429 (279)\ttotal: 15.2s\tremaining: 15.3s\n",
      "299:\tlearn: 0.5524235\ttest: 0.5443810\tbest: 0.5451429 (279)\ttotal: 15.2s\tremaining: 15.2s\n",
      "300:\tlearn: 0.5526341\ttest: 0.5442073\tbest: 0.5451429 (279)\ttotal: 15.2s\tremaining: 15.1s\n",
      "301:\tlearn: 0.5521866\ttest: 0.5442773\tbest: 0.5451429 (279)\ttotal: 15.3s\tremaining: 15.1s\n",
      "302:\tlearn: 0.5521866\ttest: 0.5442773\tbest: 0.5451429 (279)\ttotal: 15.4s\tremaining: 15.1s\n",
      "303:\tlearn: 0.5529417\ttest: 0.5441736\tbest: 0.5451429 (279)\ttotal: 15.4s\tremaining: 15s\n",
      "304:\tlearn: 0.5529788\ttest: 0.5441736\tbest: 0.5451429 (279)\ttotal: 15.5s\tremaining: 15s\n",
      "305:\tlearn: 0.5528653\ttest: 0.5441736\tbest: 0.5451429 (279)\ttotal: 15.6s\tremaining: 15s\n",
      "306:\tlearn: 0.5529355\ttest: 0.5441736\tbest: 0.5451429 (279)\ttotal: 15.6s\tremaining: 14.9s\n",
      "307:\tlearn: 0.5529086\ttest: 0.5441736\tbest: 0.5451429 (279)\ttotal: 15.7s\tremaining: 14.9s\n",
      "308:\tlearn: 0.5527682\ttest: 0.5441736\tbest: 0.5451429 (279)\ttotal: 15.7s\tremaining: 14.8s\n",
      "309:\tlearn: 0.5528384\ttest: 0.5444508\tbest: 0.5451429 (279)\ttotal: 15.8s\tremaining: 14.8s\n",
      "310:\tlearn: 0.5527682\ttest: 0.5444508\tbest: 0.5451429 (279)\ttotal: 15.8s\tremaining: 14.7s\n",
      "311:\tlearn: 0.5528384\ttest: 0.5444508\tbest: 0.5451429 (279)\ttotal: 15.9s\tremaining: 14.7s\n",
      "312:\tlearn: 0.5528487\ttest: 0.5440701\tbest: 0.5451429 (279)\ttotal: 15.9s\tremaining: 14.6s\n",
      "313:\tlearn: 0.5525779\ttest: 0.5440701\tbest: 0.5451429 (279)\ttotal: 16s\tremaining: 14.6s\n",
      "314:\tlearn: 0.5520393\ttest: 0.5441736\tbest: 0.5451429 (279)\ttotal: 16s\tremaining: 14.5s\n",
      "315:\tlearn: 0.5522069\ttest: 0.5441736\tbest: 0.5451429 (279)\ttotal: 16.1s\tremaining: 14.5s\n",
      "316:\tlearn: 0.5525152\ttest: 0.5441736\tbest: 0.5451429 (279)\ttotal: 16.1s\tremaining: 14.4s\n",
      "317:\tlearn: 0.5528921\ttest: 0.5439299\tbest: 0.5451429 (279)\ttotal: 16.2s\tremaining: 14.4s\n",
      "318:\tlearn: 0.5531027\ttest: 0.5439299\tbest: 0.5451429 (279)\ttotal: 16.3s\tremaining: 14.3s\n",
      "319:\tlearn: 0.5531997\ttest: 0.5438262\tbest: 0.5451429 (279)\ttotal: 16.3s\tremaining: 14.3s\n",
      "320:\tlearn: 0.5532699\ttest: 0.5438262\tbest: 0.5451429 (279)\ttotal: 16.4s\tremaining: 14.2s\n",
      "321:\tlearn: 0.5532699\ttest: 0.5438262\tbest: 0.5451429 (279)\ttotal: 16.4s\tremaining: 14.2s\n",
      "322:\tlearn: 0.5531729\ttest: 0.5438262\tbest: 0.5451429 (279)\ttotal: 16.5s\tremaining: 14.1s\n",
      "323:\tlearn: 0.5533731\ttest: 0.5440335\tbest: 0.5451429 (279)\ttotal: 16.5s\tremaining: 14.1s\n",
      "324:\tlearn: 0.5533029\ttest: 0.5440335\tbest: 0.5451429 (279)\ttotal: 16.6s\tremaining: 14s\n",
      "325:\tlearn: 0.5532121\ttest: 0.5440335\tbest: 0.5451429 (279)\ttotal: 16.6s\tremaining: 14s\n",
      "326:\tlearn: 0.5532183\ttest: 0.5440335\tbest: 0.5451429 (279)\ttotal: 16.7s\tremaining: 13.9s\n",
      "327:\tlearn: 0.5513545\ttest: 0.5440335\tbest: 0.5451429 (279)\ttotal: 16.7s\tremaining: 13.9s\n",
      "328:\tlearn: 0.5514451\ttest: 0.5440335\tbest: 0.5451429 (279)\ttotal: 16.8s\tremaining: 13.8s\n",
      "329:\tlearn: 0.5515627\ttest: 0.5405095\tbest: 0.5451429 (279)\ttotal: 16.8s\tremaining: 13.8s\n",
      "330:\tlearn: 0.5518721\ttest: 0.5405095\tbest: 0.5451429 (279)\ttotal: 16.9s\tremaining: 13.7s\n",
      "331:\tlearn: 0.5518990\ttest: 0.5405095\tbest: 0.5451429 (279)\ttotal: 16.9s\tremaining: 13.7s\n",
      "332:\tlearn: 0.5519158\ttest: 0.5405095\tbest: 0.5451429 (279)\ttotal: 17s\tremaining: 13.6s\n",
      "333:\tlearn: 0.5520402\ttest: 0.5405095\tbest: 0.5451429 (279)\ttotal: 17.1s\tremaining: 13.6s\n",
      "334:\tlearn: 0.5519427\ttest: 0.5405095\tbest: 0.5451429 (279)\ttotal: 17.1s\tremaining: 13.5s\n",
      "335:\tlearn: 0.5517477\ttest: 0.5406130\tbest: 0.5451429 (279)\ttotal: 17.2s\tremaining: 13.5s\n",
      "336:\tlearn: 0.5517746\ttest: 0.5406130\tbest: 0.5451429 (279)\ttotal: 17.2s\tremaining: 13.4s\n",
      "337:\tlearn: 0.5517746\ttest: 0.5406130\tbest: 0.5451429 (279)\ttotal: 17.3s\tremaining: 13.4s\n",
      "338:\tlearn: 0.5519427\ttest: 0.5406130\tbest: 0.5451429 (279)\ttotal: 17.3s\tremaining: 13.3s\n",
      "339:\tlearn: 0.5520133\ttest: 0.5405095\tbest: 0.5451429 (279)\ttotal: 17.4s\tremaining: 13.3s\n",
      "340:\tlearn: 0.5521981\ttest: 0.5405095\tbest: 0.5451429 (279)\ttotal: 17.5s\tremaining: 13.3s\n",
      "341:\tlearn: 0.5523661\ttest: 0.5404060\tbest: 0.5451429 (279)\ttotal: 17.5s\tremaining: 13.2s\n",
      "342:\tlearn: 0.5525944\ttest: 0.5404060\tbest: 0.5451429 (279)\ttotal: 17.6s\tremaining: 13.2s\n",
      "343:\tlearn: 0.5524970\ttest: 0.5404060\tbest: 0.5451429 (279)\ttotal: 17.6s\tremaining: 13.1s\n",
      "344:\tlearn: 0.5523457\ttest: 0.5405095\tbest: 0.5451429 (279)\ttotal: 17.6s\tremaining: 13s\n",
      "345:\tlearn: 0.5527251\ttest: 0.5405095\tbest: 0.5451429 (279)\ttotal: 17.7s\tremaining: 13s\n",
      "346:\tlearn: 0.5527790\ttest: 0.5402299\tbest: 0.5451429 (279)\ttotal: 17.7s\tremaining: 12.9s\n",
      "347:\tlearn: 0.5551360\ttest: 0.5405095\tbest: 0.5451429 (279)\ttotal: 17.8s\tremaining: 12.9s\n",
      "348:\tlearn: 0.5552328\ttest: 0.5405095\tbest: 0.5451429 (279)\ttotal: 17.8s\tremaining: 12.8s\n",
      "349:\tlearn: 0.5533551\ttest: 0.5405095\tbest: 0.5451429 (279)\ttotal: 17.9s\tremaining: 12.8s\n",
      "350:\tlearn: 0.5553082\ttest: 0.5404060\tbest: 0.5451429 (279)\ttotal: 17.9s\tremaining: 12.7s\n",
      "351:\tlearn: 0.5557168\ttest: 0.5404060\tbest: 0.5451429 (279)\ttotal: 18s\tremaining: 12.7s\n",
      "352:\tlearn: 0.5557007\ttest: 0.5398773\tbest: 0.5451429 (279)\ttotal: 18s\tremaining: 12.6s\n",
      "353:\tlearn: 0.5556469\ttest: 0.5400537\tbest: 0.5451429 (279)\ttotal: 18.1s\tremaining: 12.6s\n",
      "354:\tlearn: 0.5561947\ttest: 0.5400537\tbest: 0.5451429 (279)\ttotal: 18.2s\tremaining: 12.5s\n",
      "355:\tlearn: 0.5541349\ttest: 0.5401572\tbest: 0.5451429 (279)\ttotal: 18.2s\tremaining: 12.5s\n",
      "356:\tlearn: 0.5539390\ttest: 0.5400844\tbest: 0.5451429 (279)\ttotal: 18.3s\tremaining: 12.4s\n",
      "357:\tlearn: 0.5562331\ttest: 0.5400844\tbest: 0.5451429 (279)\ttotal: 18.3s\tremaining: 12.4s\n",
      "358:\tlearn: 0.5543013\ttest: 0.5400844\tbest: 0.5451429 (279)\ttotal: 18.4s\tremaining: 12.3s\n",
      "359:\tlearn: 0.5542309\ttest: 0.5400844\tbest: 0.5451429 (279)\ttotal: 18.4s\tremaining: 12.3s\n",
      "360:\tlearn: 0.5545941\ttest: 0.5400844\tbest: 0.5451429 (279)\ttotal: 18.5s\tremaining: 12.2s\n",
      "361:\tlearn: 0.5554801\ttest: 0.5400844\tbest: 0.5451429 (279)\ttotal: 18.5s\tremaining: 12.2s\n",
      "362:\tlearn: 0.5557872\ttest: 0.5400844\tbest: 0.5451429 (279)\ttotal: 18.6s\tremaining: 12.1s\n",
      "363:\tlearn: 0.5577489\ttest: 0.5403643\tbest: 0.5451429 (279)\ttotal: 18.6s\tremaining: 12.1s\n",
      "364:\tlearn: 0.5579039\ttest: 0.5403643\tbest: 0.5451429 (279)\ttotal: 18.7s\tremaining: 12s\n",
      "365:\tlearn: 0.5579196\ttest: 0.5404680\tbest: 0.5451429 (279)\ttotal: 18.7s\tremaining: 12s\n",
      "366:\tlearn: 0.5584109\ttest: 0.5403643\tbest: 0.5451429 (279)\ttotal: 18.8s\tremaining: 11.9s\n",
      "367:\tlearn: 0.5566051\ttest: 0.5404680\tbest: 0.5451429 (279)\ttotal: 18.8s\tremaining: 11.9s\n",
      "368:\tlearn: 0.5566271\ttest: 0.5401880\tbest: 0.5451429 (279)\ttotal: 18.9s\tremaining: 11.8s\n",
      "369:\tlearn: 0.5569816\ttest: 0.5404680\tbest: 0.5451429 (279)\ttotal: 18.9s\tremaining: 11.8s\n",
      "370:\tlearn: 0.5569547\ttest: 0.5404680\tbest: 0.5451429 (279)\ttotal: 19s\tremaining: 11.7s\n",
      "371:\tlearn: 0.5570086\ttest: 0.5404680\tbest: 0.5451429 (279)\ttotal: 19s\tremaining: 11.7s\n",
      "372:\tlearn: 0.5568848\ttest: 0.5404680\tbest: 0.5451429 (279)\ttotal: 19.1s\tremaining: 11.6s\n",
      "373:\tlearn: 0.5569547\ttest: 0.5404680\tbest: 0.5451429 (279)\ttotal: 19.1s\tremaining: 11.6s\n",
      "374:\tlearn: 0.5570246\ttest: 0.5403643\tbest: 0.5451429 (279)\ttotal: 19.2s\tremaining: 11.5s\n",
      "375:\tlearn: 0.5570356\ttest: 0.5403643\tbest: 0.5451429 (279)\ttotal: 19.2s\tremaining: 11.5s\n",
      "376:\tlearn: 0.5569657\ttest: 0.5403643\tbest: 0.5451429 (279)\ttotal: 19.3s\tremaining: 11.4s\n",
      "377:\tlearn: 0.5571325\ttest: 0.5406442\tbest: 0.5451429 (279)\ttotal: 19.3s\tremaining: 11.4s\n",
      "378:\tlearn: 0.5569927\ttest: 0.5403643\tbest: 0.5451429 (279)\ttotal: 19.4s\tremaining: 11.3s\n",
      "379:\tlearn: 0.5569927\ttest: 0.5403643\tbest: 0.5451429 (279)\ttotal: 19.5s\tremaining: 11.3s\n",
      "380:\tlearn: 0.5569927\ttest: 0.5403643\tbest: 0.5451429 (279)\ttotal: 19.5s\tremaining: 11.2s\n",
      "381:\tlearn: 0.5572024\ttest: 0.5402607\tbest: 0.5451429 (279)\ttotal: 19.6s\tremaining: 11.2s\n",
      "382:\tlearn: 0.5571595\ttest: 0.5402607\tbest: 0.5451429 (279)\ttotal: 19.6s\tremaining: 11.1s\n",
      "383:\tlearn: 0.5569387\ttest: 0.5402607\tbest: 0.5451429 (279)\ttotal: 19.7s\tremaining: 11.1s\n",
      "384:\tlearn: 0.5568259\ttest: 0.5402607\tbest: 0.5451429 (279)\ttotal: 19.7s\tremaining: 11s\n",
      "385:\tlearn: 0.5568259\ttest: 0.5402607\tbest: 0.5451429 (279)\ttotal: 19.8s\tremaining: 11s\n",
      "386:\tlearn: 0.5572024\ttest: 0.5404369\tbest: 0.5451429 (279)\ttotal: 19.8s\tremaining: 10.9s\n",
      "387:\tlearn: 0.5573691\ttest: 0.5404369\tbest: 0.5451429 (279)\ttotal: 19.9s\tremaining: 10.9s\n",
      "388:\tlearn: 0.5574548\ttest: 0.5403334\tbest: 0.5451429 (279)\ttotal: 19.9s\tremaining: 10.8s\n",
      "389:\tlearn: 0.5575675\ttest: 0.5401572\tbest: 0.5451429 (279)\ttotal: 20s\tremaining: 10.8s\n",
      "390:\tlearn: 0.5576374\ttest: 0.5401572\tbest: 0.5451429 (279)\ttotal: 20s\tremaining: 10.7s\n",
      "391:\tlearn: 0.5575834\ttest: 0.5401572\tbest: 0.5451429 (279)\ttotal: 20.1s\tremaining: 10.7s\n",
      "392:\tlearn: 0.5575834\ttest: 0.5401572\tbest: 0.5451429 (279)\ttotal: 20.1s\tremaining: 10.6s\n",
      "393:\tlearn: 0.5575136\ttest: 0.5401572\tbest: 0.5451429 (279)\ttotal: 20.2s\tremaining: 10.6s\n",
      "394:\tlearn: 0.5574977\ttest: 0.5401572\tbest: 0.5451429 (279)\ttotal: 20.2s\tremaining: 10.5s\n",
      "395:\tlearn: 0.5574977\ttest: 0.5401572\tbest: 0.5451429 (279)\ttotal: 20.3s\tremaining: 10.5s\n",
      "396:\tlearn: 0.5574548\ttest: 0.5401572\tbest: 0.5451429 (279)\ttotal: 20.4s\tremaining: 10.4s\n",
      "397:\tlearn: 0.5575675\ttest: 0.5401572\tbest: 0.5451429 (279)\ttotal: 20.4s\tremaining: 10.4s\n",
      "398:\tlearn: 0.5575898\ttest: 0.5405405\tbest: 0.5451429 (279)\ttotal: 20.5s\tremaining: 10.3s\n",
      "399:\tlearn: 0.5576867\ttest: 0.5405405\tbest: 0.5451429 (279)\ttotal: 20.5s\tremaining: 10.3s\n",
      "400:\tlearn: 0.5575740\ttest: 0.5404369\tbest: 0.5451429 (279)\ttotal: 20.6s\tremaining: 10.2s\n",
      "401:\tlearn: 0.5597842\ttest: 0.5402916\tbest: 0.5451429 (279)\ttotal: 20.6s\tremaining: 10.2s\n",
      "402:\tlearn: 0.5577836\ttest: 0.5409239\tbest: 0.5451429 (279)\ttotal: 20.7s\tremaining: 10.1s\n",
      "403:\tlearn: 0.5598536\ttest: 0.5408202\tbest: 0.5451429 (279)\ttotal: 20.7s\tremaining: 10.1s\n",
      "404:\tlearn: 0.5599884\ttest: 0.5406754\tbest: 0.5451429 (279)\ttotal: 20.8s\tremaining: 10s\n",
      "405:\tlearn: 0.5598921\ttest: 0.5406754\tbest: 0.5451429 (279)\ttotal: 20.9s\tremaining: 9.96s\n",
      "406:\tlearn: 0.5579728\ttest: 0.5406754\tbest: 0.5451429 (279)\ttotal: 20.9s\tremaining: 9.91s\n",
      "407:\tlearn: 0.5579728\ttest: 0.5406754\tbest: 0.5451429 (279)\ttotal: 21s\tremaining: 9.87s\n",
      "408:\tlearn: 0.5579998\ttest: 0.5406754\tbest: 0.5451429 (279)\ttotal: 21s\tremaining: 9.81s\n",
      "409:\tlearn: 0.5580156\ttest: 0.5406754\tbest: 0.5451429 (279)\ttotal: 21.1s\tremaining: 9.77s\n",
      "410:\tlearn: 0.5580967\ttest: 0.5406754\tbest: 0.5451429 (279)\ttotal: 21.1s\tremaining: 9.72s\n",
      "411:\tlearn: 0.5579840\ttest: 0.5408829\tbest: 0.5451429 (279)\ttotal: 21.2s\tremaining: 9.67s\n",
      "412:\tlearn: 0.5580539\ttest: 0.5408829\tbest: 0.5451429 (279)\ttotal: 21.3s\tremaining: 9.63s\n",
      "413:\tlearn: 0.5579029\ttest: 0.5408829\tbest: 0.5451429 (279)\ttotal: 21.3s\tremaining: 9.57s\n",
      "414:\tlearn: 0.5580697\ttest: 0.5408829\tbest: 0.5451429 (279)\ttotal: 21.4s\tremaining: 9.53s\n",
      "415:\tlearn: 0.5580697\ttest: 0.5408829\tbest: 0.5451429 (279)\ttotal: 21.4s\tremaining: 9.48s\n",
      "416:\tlearn: 0.5582207\ttest: 0.5413390\tbest: 0.5451429 (279)\ttotal: 21.5s\tremaining: 9.43s\n",
      "417:\tlearn: 0.5581666\ttest: 0.5412351\tbest: 0.5451429 (279)\ttotal: 21.5s\tremaining: 9.37s\n",
      "418:\tlearn: 0.5584145\ttest: 0.5409553\tbest: 0.5451429 (279)\ttotal: 21.6s\tremaining: 9.32s\n",
      "419:\tlearn: 0.5587523\ttest: 0.5409553\tbest: 0.5451429 (279)\ttotal: 21.6s\tremaining: 9.27s\n",
      "420:\tlearn: 0.5587252\ttest: 0.5409553\tbest: 0.5451429 (279)\ttotal: 21.7s\tremaining: 9.22s\n",
      "421:\tlearn: 0.5587950\ttest: 0.5409553\tbest: 0.5451429 (279)\ttotal: 21.7s\tremaining: 9.17s\n",
      "422:\tlearn: 0.5587950\ttest: 0.5409553\tbest: 0.5451429 (279)\ttotal: 21.8s\tremaining: 9.12s\n",
      "423:\tlearn: 0.5588107\ttest: 0.5409553\tbest: 0.5451429 (279)\ttotal: 21.8s\tremaining: 9.07s\n",
      "424:\tlearn: 0.5588378\ttest: 0.5409553\tbest: 0.5451429 (279)\ttotal: 21.9s\tremaining: 9.02s\n",
      "425:\tlearn: 0.5590315\ttest: 0.5411629\tbest: 0.5451429 (279)\ttotal: 21.9s\tremaining: 8.96s\n",
      "426:\tlearn: 0.5591325\ttest: 0.5419774\tbest: 0.5451429 (279)\ttotal: 22s\tremaining: 8.92s\n",
      "427:\tlearn: 0.5589930\ttest: 0.5419774\tbest: 0.5451429 (279)\ttotal: 22.1s\tremaining: 8.87s\n",
      "428:\tlearn: 0.5589930\ttest: 0.5419774\tbest: 0.5451429 (279)\ttotal: 22.1s\tremaining: 8.81s\n",
      "429:\tlearn: 0.5590898\ttest: 0.5421526\tbest: 0.5451429 (279)\ttotal: 22.2s\tremaining: 8.76s\n",
      "430:\tlearn: 0.5590898\ttest: 0.5421526\tbest: 0.5451429 (279)\ttotal: 22.2s\tremaining: 8.71s\n",
      "431:\tlearn: 0.5593417\ttest: 0.5417305\tbest: 0.5451429 (279)\ttotal: 22.3s\tremaining: 8.66s\n",
      "432:\tlearn: 0.5594115\ttest: 0.5417305\tbest: 0.5451429 (279)\ttotal: 22.3s\tremaining: 8.61s\n",
      "433:\tlearn: 0.5594500\ttest: 0.5416268\tbest: 0.5451429 (279)\ttotal: 22.4s\tremaining: 8.56s\n",
      "434:\tlearn: 0.5593376\ttest: 0.5416268\tbest: 0.5451429 (279)\ttotal: 22.4s\tremaining: 8.51s\n",
      "435:\tlearn: 0.5592637\ttest: 0.5416268\tbest: 0.5451429 (279)\ttotal: 22.5s\tremaining: 8.46s\n",
      "436:\tlearn: 0.5596708\ttest: 0.5417305\tbest: 0.5451429 (279)\ttotal: 22.6s\tremaining: 8.41s\n",
      "437:\tlearn: 0.5596939\ttest: 0.5416268\tbest: 0.5451429 (279)\ttotal: 22.6s\tremaining: 8.36s\n",
      "438:\tlearn: 0.5602827\ttest: 0.5415232\tbest: 0.5451429 (279)\ttotal: 22.6s\tremaining: 8.31s\n",
      "439:\tlearn: 0.5601278\ttest: 0.5415232\tbest: 0.5451429 (279)\ttotal: 22.7s\tremaining: 8.26s\n",
      "440:\tlearn: 0.5600581\ttest: 0.5415232\tbest: 0.5451429 (279)\ttotal: 22.8s\tremaining: 8.2s\n",
      "441:\tlearn: 0.5599187\ttest: 0.5419059\tbest: 0.5451429 (279)\ttotal: 22.8s\tremaining: 8.15s\n",
      "442:\tlearn: 0.5599729\ttest: 0.5418022\tbest: 0.5451429 (279)\ttotal: 22.9s\tremaining: 8.1s\n",
      "443:\tlearn: 0.5600426\ttest: 0.5418022\tbest: 0.5451429 (279)\ttotal: 22.9s\tremaining: 8.05s\n",
      "444:\tlearn: 0.5598760\ttest: 0.5416268\tbest: 0.5451429 (279)\ttotal: 23s\tremaining: 7.99s\n",
      "445:\tlearn: 0.5604646\ttest: 0.5416268\tbest: 0.5451429 (279)\ttotal: 23s\tremaining: 7.94s\n",
      "446:\tlearn: 0.5606464\ttest: 0.5419059\tbest: 0.5451429 (279)\ttotal: 23.1s\tremaining: 7.89s\n",
      "447:\tlearn: 0.5607431\ttest: 0.5419059\tbest: 0.5451429 (279)\ttotal: 23.1s\tremaining: 7.84s\n",
      "448:\tlearn: 0.5607431\ttest: 0.5418022\tbest: 0.5451429 (279)\ttotal: 23.2s\tremaining: 7.79s\n",
      "449:\tlearn: 0.5607739\ttest: 0.5418022\tbest: 0.5451429 (279)\ttotal: 23.2s\tremaining: 7.74s\n",
      "450:\tlearn: 0.5607739\ttest: 0.5416268\tbest: 0.5451429 (279)\ttotal: 23.3s\tremaining: 7.69s\n",
      "451:\tlearn: 0.5607739\ttest: 0.5416268\tbest: 0.5451429 (279)\ttotal: 23.3s\tremaining: 7.64s\n",
      "452:\tlearn: 0.5608281\ttest: 0.5417305\tbest: 0.5451429 (279)\ttotal: 23.4s\tremaining: 7.59s\n",
      "453:\tlearn: 0.5608553\ttest: 0.5417305\tbest: 0.5451429 (279)\ttotal: 23.4s\tremaining: 7.54s\n",
      "454:\tlearn: 0.5608281\ttest: 0.5417305\tbest: 0.5451429 (279)\ttotal: 23.5s\tremaining: 7.49s\n",
      "455:\tlearn: 0.5608281\ttest: 0.5417305\tbest: 0.5451429 (279)\ttotal: 23.6s\tremaining: 7.44s\n",
      "456:\tlearn: 0.5608281\ttest: 0.5417305\tbest: 0.5451429 (279)\ttotal: 23.6s\tremaining: 7.38s\n",
      "457:\tlearn: 0.5608977\ttest: 0.5417305\tbest: 0.5451429 (279)\ttotal: 23.7s\tremaining: 7.33s\n",
      "458:\tlearn: 0.5609402\ttest: 0.5417305\tbest: 0.5451429 (279)\ttotal: 23.7s\tremaining: 7.28s\n",
      "459:\tlearn: 0.5609674\ttest: 0.5417305\tbest: 0.5451429 (279)\ttotal: 23.7s\tremaining: 7.23s\n",
      "460:\tlearn: 0.5612186\ttest: 0.5418342\tbest: 0.5451429 (279)\ttotal: 23.8s\tremaining: 7.18s\n",
      "461:\tlearn: 0.5612457\ttest: 0.5417305\tbest: 0.5451429 (279)\ttotal: 23.9s\tremaining: 7.13s\n",
      "462:\tlearn: 0.5614391\ttest: 0.5417305\tbest: 0.5451429 (279)\ttotal: 23.9s\tremaining: 7.07s\n",
      "463:\tlearn: 0.5614391\ttest: 0.5417305\tbest: 0.5451429 (279)\ttotal: 24s\tremaining: 7.02s\n",
      "464:\tlearn: 0.5614391\ttest: 0.5417305\tbest: 0.5451429 (279)\ttotal: 24s\tremaining: 6.97s\n",
      "465:\tlearn: 0.5615087\ttest: 0.5417305\tbest: 0.5451429 (279)\ttotal: 24.1s\tremaining: 6.92s\n",
      "466:\tlearn: 0.5616478\ttest: 0.5417305\tbest: 0.5451429 (279)\ttotal: 24.1s\tremaining: 6.86s\n",
      "467:\tlearn: 0.5616597\ttest: 0.5416268\tbest: 0.5451429 (279)\ttotal: 24.2s\tremaining: 6.81s\n",
      "468:\tlearn: 0.5616597\ttest: 0.5416268\tbest: 0.5451429 (279)\ttotal: 24.2s\tremaining: 6.77s\n",
      "469:\tlearn: 0.5616597\ttest: 0.5416268\tbest: 0.5451429 (279)\ttotal: 24.3s\tremaining: 6.71s\n",
      "470:\tlearn: 0.5618141\ttest: 0.5415232\tbest: 0.5451429 (279)\ttotal: 24.3s\tremaining: 6.66s\n",
      "471:\tlearn: 0.5617717\ttest: 0.5415232\tbest: 0.5451429 (279)\ttotal: 24.4s\tremaining: 6.61s\n",
      "472:\tlearn: 0.5618412\ttest: 0.5415232\tbest: 0.5451429 (279)\ttotal: 24.4s\tremaining: 6.56s\n",
      "473:\tlearn: 0.5616597\ttest: 0.5415232\tbest: 0.5451429 (279)\ttotal: 24.5s\tremaining: 6.51s\n",
      "474:\tlearn: 0.5616750\ttest: 0.5415232\tbest: 0.5451429 (279)\ttotal: 24.5s\tremaining: 6.46s\n",
      "475:\tlearn: 0.5619531\ttest: 0.5415232\tbest: 0.5451429 (279)\ttotal: 24.6s\tremaining: 6.41s\n",
      "476:\tlearn: 0.5620498\ttest: 0.5415232\tbest: 0.5451429 (279)\ttotal: 24.6s\tremaining: 6.36s\n",
      "477:\tlearn: 0.5624426\ttest: 0.5414196\tbest: 0.5451429 (279)\ttotal: 24.7s\tremaining: 6.3s\n",
      "478:\tlearn: 0.5624426\ttest: 0.5414196\tbest: 0.5451429 (279)\ttotal: 24.7s\tremaining: 6.25s\n",
      "479:\tlearn: 0.5624426\ttest: 0.5414196\tbest: 0.5451429 (279)\ttotal: 24.8s\tremaining: 6.2s\n",
      "480:\tlearn: 0.5625393\ttest: 0.5414196\tbest: 0.5451429 (279)\ttotal: 24.8s\tremaining: 6.15s\n",
      "481:\tlearn: 0.5625393\ttest: 0.5414196\tbest: 0.5451429 (279)\ttotal: 24.9s\tremaining: 6.09s\n",
      "482:\tlearn: 0.5625393\ttest: 0.5414196\tbest: 0.5451429 (279)\ttotal: 24.9s\tremaining: 6.04s\n",
      "483:\tlearn: 0.5626087\ttest: 0.5414196\tbest: 0.5451429 (279)\ttotal: 25s\tremaining: 5.99s\n",
      "484:\tlearn: 0.5624970\ttest: 0.5411405\tbest: 0.5451429 (279)\ttotal: 25s\tremaining: 5.94s\n",
      "485:\tlearn: 0.5627777\ttest: 0.5411405\tbest: 0.5451429 (279)\ttotal: 25.1s\tremaining: 5.89s\n",
      "486:\tlearn: 0.5624970\ttest: 0.5414196\tbest: 0.5451429 (279)\ttotal: 25.1s\tremaining: 5.83s\n",
      "487:\tlearn: 0.5624426\ttest: 0.5414196\tbest: 0.5451429 (279)\ttotal: 25.2s\tremaining: 5.78s\n",
      "488:\tlearn: 0.5630402\ttest: 0.5414196\tbest: 0.5451429 (279)\ttotal: 25.3s\tremaining: 5.73s\n",
      "489:\tlearn: 0.5627204\ttest: 0.5414196\tbest: 0.5451429 (279)\ttotal: 25.3s\tremaining: 5.68s\n",
      "490:\tlearn: 0.5627626\ttest: 0.5414196\tbest: 0.5451429 (279)\ttotal: 25.4s\tremaining: 5.63s\n",
      "491:\tlearn: 0.5627626\ttest: 0.5414196\tbest: 0.5451429 (279)\ttotal: 25.4s\tremaining: 5.58s\n",
      "492:\tlearn: 0.5628320\ttest: 0.5411405\tbest: 0.5451429 (279)\ttotal: 25.5s\tremaining: 5.53s\n",
      "493:\tlearn: 0.5628320\ttest: 0.5411405\tbest: 0.5451429 (279)\ttotal: 25.6s\tremaining: 5.48s\n",
      "494:\tlearn: 0.5628320\ttest: 0.5411405\tbest: 0.5451429 (279)\ttotal: 25.6s\tremaining: 5.43s\n",
      "495:\tlearn: 0.5628320\ttest: 0.5411405\tbest: 0.5451429 (279)\ttotal: 25.6s\tremaining: 5.38s\n",
      "496:\tlearn: 0.5628048\ttest: 0.5411405\tbest: 0.5451429 (279)\ttotal: 25.7s\tremaining: 5.33s\n",
      "497:\tlearn: 0.5625936\ttest: 0.5411405\tbest: 0.5451429 (279)\ttotal: 25.8s\tremaining: 5.28s\n",
      "498:\tlearn: 0.5626208\ttest: 0.5411405\tbest: 0.5451429 (279)\ttotal: 25.8s\tremaining: 5.22s\n",
      "499:\tlearn: 0.5627174\ttest: 0.5411405\tbest: 0.5451429 (279)\ttotal: 25.9s\tremaining: 5.17s\n",
      "500:\tlearn: 0.5627174\ttest: 0.5410369\tbest: 0.5451429 (279)\ttotal: 25.9s\tremaining: 5.12s\n",
      "501:\tlearn: 0.5627174\ttest: 0.5410369\tbest: 0.5451429 (279)\ttotal: 26s\tremaining: 5.07s\n",
      "502:\tlearn: 0.5627869\ttest: 0.5413160\tbest: 0.5451429 (279)\ttotal: 26s\tremaining: 5.02s\n",
      "503:\tlearn: 0.5628986\ttest: 0.5408300\tbest: 0.5451429 (279)\ttotal: 26.1s\tremaining: 4.96s\n",
      "504:\tlearn: 0.5629680\ttest: 0.5408300\tbest: 0.5451429 (279)\ttotal: 26.1s\tremaining: 4.91s\n",
      "505:\tlearn: 0.5630224\ttest: 0.5408300\tbest: 0.5451429 (279)\ttotal: 26.2s\tremaining: 4.86s\n",
      "506:\tlearn: 0.5630224\ttest: 0.5408300\tbest: 0.5451429 (279)\ttotal: 26.2s\tremaining: 4.81s\n",
      "507:\tlearn: 0.5629952\ttest: 0.5408300\tbest: 0.5451429 (279)\ttotal: 26.3s\tremaining: 4.76s\n",
      "508:\tlearn: 0.5629257\ttest: 0.5406543\tbest: 0.5451429 (279)\ttotal: 26.3s\tremaining: 4.71s\n",
      "509:\tlearn: 0.5629680\ttest: 0.5405509\tbest: 0.5451429 (279)\ttotal: 26.4s\tremaining: 4.66s\n",
      "510:\tlearn: 0.5628291\ttest: 0.5406543\tbest: 0.5451429 (279)\ttotal: 26.4s\tremaining: 4.61s\n",
      "511:\tlearn: 0.5631368\ttest: 0.5406543\tbest: 0.5451429 (279)\ttotal: 26.5s\tremaining: 4.56s\n",
      "512:\tlearn: 0.5633177\ttest: 0.5406543\tbest: 0.5451429 (279)\ttotal: 26.6s\tremaining: 4.5s\n",
      "513:\tlearn: 0.5632756\ttest: 0.5406543\tbest: 0.5451429 (279)\ttotal: 26.6s\tremaining: 4.45s\n",
      "514:\tlearn: 0.5632334\ttest: 0.5406543\tbest: 0.5451429 (279)\ttotal: 26.7s\tremaining: 4.4s\n",
      "515:\tlearn: 0.5634265\ttest: 0.5405509\tbest: 0.5451429 (279)\ttotal: 26.7s\tremaining: 4.35s\n",
      "516:\tlearn: 0.5634687\ttest: 0.5405509\tbest: 0.5451429 (279)\ttotal: 26.8s\tremaining: 4.3s\n",
      "517:\tlearn: 0.5634415\ttest: 0.5405509\tbest: 0.5451429 (279)\ttotal: 26.8s\tremaining: 4.25s\n",
      "518:\tlearn: 0.5636074\ttest: 0.5405509\tbest: 0.5451429 (279)\ttotal: 26.9s\tremaining: 4.2s\n",
      "519:\tlearn: 0.5635108\ttest: 0.5405509\tbest: 0.5451429 (279)\ttotal: 26.9s\tremaining: 4.14s\n",
      "520:\tlearn: 0.5635380\ttest: 0.5405509\tbest: 0.5451429 (279)\ttotal: 27s\tremaining: 4.09s\n",
      "521:\tlearn: 0.5634687\ttest: 0.5409334\tbest: 0.5451429 (279)\ttotal: 27.1s\tremaining: 4.04s\n",
      "522:\tlearn: 0.5634537\ttest: 0.5409334\tbest: 0.5451429 (279)\ttotal: 27.1s\tremaining: 3.99s\n",
      "523:\tlearn: 0.5633028\ttest: 0.5409334\tbest: 0.5451429 (279)\ttotal: 27.2s\tremaining: 3.94s\n",
      "524:\tlearn: 0.5633028\ttest: 0.5408300\tbest: 0.5451429 (279)\ttotal: 27.2s\tremaining: 3.89s\n",
      "525:\tlearn: 0.5630646\ttest: 0.5408300\tbest: 0.5451429 (279)\ttotal: 27.3s\tremaining: 3.84s\n",
      "526:\tlearn: 0.5631340\ttest: 0.5408300\tbest: 0.5451429 (279)\ttotal: 27.3s\tremaining: 3.79s\n",
      "527:\tlearn: 0.5631068\ttest: 0.5408300\tbest: 0.5451429 (279)\ttotal: 27.4s\tremaining: 3.73s\n",
      "528:\tlearn: 0.5631068\ttest: 0.5408300\tbest: 0.5451429 (279)\ttotal: 27.4s\tremaining: 3.68s\n",
      "529:\tlearn: 0.5631068\ttest: 0.5408300\tbest: 0.5451429 (279)\ttotal: 27.5s\tremaining: 3.63s\n",
      "530:\tlearn: 0.5632456\ttest: 0.5408300\tbest: 0.5451429 (279)\ttotal: 27.5s\tremaining: 3.58s\n",
      "531:\tlearn: 0.5633844\ttest: 0.5408300\tbest: 0.5451429 (279)\ttotal: 27.6s\tremaining: 3.52s\n",
      "532:\tlearn: 0.5633844\ttest: 0.5408300\tbest: 0.5451429 (279)\ttotal: 27.6s\tremaining: 3.47s\n",
      "533:\tlearn: 0.5634388\ttest: 0.5408300\tbest: 0.5451429 (279)\ttotal: 27.7s\tremaining: 3.42s\n",
      "534:\tlearn: 0.5633422\ttest: 0.5408300\tbest: 0.5451429 (279)\ttotal: 27.7s\tremaining: 3.37s\n",
      "535:\tlearn: 0.5633422\ttest: 0.5408300\tbest: 0.5451429 (279)\ttotal: 27.8s\tremaining: 3.32s\n",
      "536:\tlearn: 0.5633966\ttest: 0.5408300\tbest: 0.5451429 (279)\ttotal: 27.8s\tremaining: 3.27s\n",
      "537:\tlearn: 0.5633966\ttest: 0.5408300\tbest: 0.5451429 (279)\ttotal: 27.9s\tremaining: 3.21s\n",
      "538:\tlearn: 0.5634783\ttest: 0.5408300\tbest: 0.5451429 (279)\ttotal: 27.9s\tremaining: 3.16s\n",
      "539:\tlearn: 0.5634633\ttest: 0.5411090\tbest: 0.5451429 (279)\ttotal: 28s\tremaining: 3.11s\n",
      "540:\tlearn: 0.5634905\ttest: 0.5411090\tbest: 0.5451429 (279)\ttotal: 28s\tremaining: 3.06s\n",
      "541:\tlearn: 0.5634905\ttest: 0.5411090\tbest: 0.5451429 (279)\ttotal: 28.1s\tremaining: 3s\n",
      "542:\tlearn: 0.5634905\ttest: 0.5412125\tbest: 0.5451429 (279)\ttotal: 28.1s\tremaining: 2.95s\n",
      "543:\tlearn: 0.5635749\ttest: 0.5412125\tbest: 0.5451429 (279)\ttotal: 28.2s\tremaining: 2.9s\n",
      "544:\tlearn: 0.5635477\ttest: 0.5412125\tbest: 0.5451429 (279)\ttotal: 28.2s\tremaining: 2.85s\n",
      "545:\tlearn: 0.5637409\ttest: 0.5412125\tbest: 0.5451429 (279)\ttotal: 28.3s\tremaining: 2.8s\n",
      "546:\tlearn: 0.5641546\ttest: 0.5412125\tbest: 0.5451429 (279)\ttotal: 28.3s\tremaining: 2.75s\n",
      "547:\tlearn: 0.5641546\ttest: 0.5412125\tbest: 0.5451429 (279)\ttotal: 28.4s\tremaining: 2.69s\n",
      "548:\tlearn: 0.5641967\ttest: 0.5412125\tbest: 0.5451429 (279)\ttotal: 28.5s\tremaining: 2.64s\n",
      "549:\tlearn: 0.5641967\ttest: 0.5412125\tbest: 0.5451429 (279)\ttotal: 28.5s\tremaining: 2.59s\n",
      "550:\tlearn: 0.5643081\ttest: 0.5412125\tbest: 0.5451429 (279)\ttotal: 28.6s\tremaining: 2.54s\n",
      "551:\tlearn: 0.5643081\ttest: 0.5412125\tbest: 0.5451429 (279)\ttotal: 28.6s\tremaining: 2.49s\n",
      "552:\tlearn: 0.5643502\ttest: 0.5409334\tbest: 0.5451429 (279)\ttotal: 28.7s\tremaining: 2.44s\n",
      "553:\tlearn: 0.5643230\ttest: 0.5412125\tbest: 0.5451429 (279)\ttotal: 28.7s\tremaining: 2.38s\n",
      "554:\tlearn: 0.5645309\ttest: 0.5412125\tbest: 0.5451429 (279)\ttotal: 28.8s\tremaining: 2.33s\n",
      "555:\tlearn: 0.5642536\ttest: 0.5409334\tbest: 0.5451429 (279)\ttotal: 28.8s\tremaining: 2.28s\n",
      "556:\tlearn: 0.5645161\ttest: 0.5409334\tbest: 0.5451429 (279)\ttotal: 28.9s\tremaining: 2.23s\n",
      "557:\tlearn: 0.5645161\ttest: 0.5406543\tbest: 0.5451429 (279)\ttotal: 28.9s\tremaining: 2.17s\n",
      "558:\tlearn: 0.5645707\ttest: 0.5406543\tbest: 0.5451429 (279)\ttotal: 29s\tremaining: 2.12s\n",
      "559:\tlearn: 0.5646945\ttest: 0.5409334\tbest: 0.5451429 (279)\ttotal: 29s\tremaining: 2.07s\n",
      "560:\tlearn: 0.5646945\ttest: 0.5409334\tbest: 0.5451429 (279)\ttotal: 29.1s\tremaining: 2.02s\n",
      "561:\tlearn: 0.5649172\ttest: 0.5412125\tbest: 0.5451429 (279)\ttotal: 29.1s\tremaining: 1.97s\n",
      "562:\tlearn: 0.5648059\ttest: 0.5409334\tbest: 0.5451429 (279)\ttotal: 29.2s\tremaining: 1.92s\n",
      "563:\tlearn: 0.5647366\ttest: 0.5409334\tbest: 0.5451429 (279)\ttotal: 29.2s\tremaining: 1.86s\n",
      "564:\tlearn: 0.5650558\ttest: 0.5409334\tbest: 0.5451429 (279)\ttotal: 29.3s\tremaining: 1.81s\n",
      "565:\tlearn: 0.5649047\ttest: 0.5409334\tbest: 0.5451429 (279)\ttotal: 29.3s\tremaining: 1.76s\n",
      "566:\tlearn: 0.5649047\ttest: 0.5409334\tbest: 0.5451429 (279)\ttotal: 29.4s\tremaining: 1.71s\n",
      "567:\tlearn: 0.5649194\ttest: 0.5409334\tbest: 0.5451429 (279)\ttotal: 29.4s\tremaining: 1.66s\n",
      "568:\tlearn: 0.5648081\ttest: 0.5409334\tbest: 0.5451429 (279)\ttotal: 29.5s\tremaining: 1.61s\n",
      "569:\tlearn: 0.5646968\ttest: 0.5409334\tbest: 0.5451429 (279)\ttotal: 29.5s\tremaining: 1.55s\n",
      "570:\tlearn: 0.5647388\ttest: 0.5409334\tbest: 0.5451429 (279)\ttotal: 29.6s\tremaining: 1.5s\n",
      "571:\tlearn: 0.5647116\ttest: 0.5409334\tbest: 0.5451429 (279)\ttotal: 29.6s\tremaining: 1.45s\n",
      "572:\tlearn: 0.5646843\ttest: 0.5409334\tbest: 0.5451429 (279)\ttotal: 29.7s\tremaining: 1.4s\n",
      "573:\tlearn: 0.5645060\ttest: 0.5409334\tbest: 0.5451429 (279)\ttotal: 29.7s\tremaining: 1.35s\n",
      "574:\tlearn: 0.5647831\ttest: 0.5409334\tbest: 0.5451429 (279)\ttotal: 29.8s\tremaining: 1.29s\n",
      "575:\tlearn: 0.5650181\ttest: 0.5410055\tbest: 0.5451429 (279)\ttotal: 29.8s\tremaining: 1.24s\n",
      "576:\tlearn: 0.5650181\ttest: 0.5410055\tbest: 0.5451429 (279)\ttotal: 29.9s\tremaining: 1.19s\n",
      "577:\tlearn: 0.5649069\ttest: 0.5410055\tbest: 0.5451429 (279)\ttotal: 30s\tremaining: 1.14s\n",
      "578:\tlearn: 0.5649761\ttest: 0.5410055\tbest: 0.5451429 (279)\ttotal: 30s\tremaining: 1.09s\n",
      "579:\tlearn: 0.5649761\ttest: 0.5410055\tbest: 0.5451429 (279)\ttotal: 30.1s\tremaining: 1.04s\n",
      "580:\tlearn: 0.5651146\ttest: 0.5410055\tbest: 0.5451429 (279)\ttotal: 30.1s\tremaining: 985ms\n",
      "581:\tlearn: 0.5651146\ttest: 0.5410055\tbest: 0.5451429 (279)\ttotal: 30.2s\tremaining: 933ms\n",
      "582:\tlearn: 0.5654460\ttest: 0.5406232\tbest: 0.5451429 (279)\ttotal: 30.2s\tremaining: 881ms\n",
      "583:\tlearn: 0.5655425\ttest: 0.5406232\tbest: 0.5451429 (279)\ttotal: 30.3s\tremaining: 829ms\n",
      "584:\tlearn: 0.5660159\ttest: 0.5406232\tbest: 0.5451429 (279)\ttotal: 30.3s\tremaining: 778ms\n",
      "585:\tlearn: 0.5660159\ttest: 0.5406232\tbest: 0.5451429 (279)\ttotal: 30.4s\tremaining: 726ms\n",
      "586:\tlearn: 0.5660159\ttest: 0.5406232\tbest: 0.5451429 (279)\ttotal: 30.4s\tremaining: 674ms\n",
      "587:\tlearn: 0.5661541\ttest: 0.5406232\tbest: 0.5451429 (279)\ttotal: 30.5s\tremaining: 622ms\n",
      "588:\tlearn: 0.5660850\ttest: 0.5406232\tbest: 0.5451429 (279)\ttotal: 30.6s\tremaining: 571ms\n",
      "589:\tlearn: 0.5661269\ttest: 0.5406232\tbest: 0.5451429 (279)\ttotal: 30.6s\tremaining: 519ms\n",
      "590:\tlearn: 0.5663069\ttest: 0.5406232\tbest: 0.5451429 (279)\ttotal: 30.7s\tremaining: 467ms\n",
      "591:\tlearn: 0.5664723\ttest: 0.5406232\tbest: 0.5451429 (279)\ttotal: 30.7s\tremaining: 415ms\n",
      "592:\tlearn: 0.5663904\ttest: 0.5406232\tbest: 0.5451429 (279)\ttotal: 30.8s\tremaining: 363ms\n",
      "593:\tlearn: 0.5663904\ttest: 0.5406232\tbest: 0.5451429 (279)\ttotal: 30.8s\tremaining: 311ms\n",
      "594:\tlearn: 0.5664177\ttest: 0.5406232\tbest: 0.5451429 (279)\ttotal: 30.9s\tremaining: 259ms\n",
      "595:\tlearn: 0.5663214\ttest: 0.5406232\tbest: 0.5451429 (279)\ttotal: 30.9s\tremaining: 208ms\n",
      "596:\tlearn: 0.5661141\ttest: 0.5406232\tbest: 0.5451429 (279)\ttotal: 31s\tremaining: 156ms\n",
      "597:\tlearn: 0.5662250\ttest: 0.5406232\tbest: 0.5451429 (279)\ttotal: 31.1s\tremaining: 104ms\n",
      "598:\tlearn: 0.5664049\ttest: 0.5406232\tbest: 0.5451429 (279)\ttotal: 31.1s\tremaining: 52ms\n",
      "599:\tlearn: 0.5664740\ttest: 0.5409021\tbest: 0.5451429 (279)\ttotal: 31.2s\tremaining: 0us\n",
      "\n",
      "bestTest = 0.5451428571\n",
      "bestIteration = 279\n",
      "\n",
      "0:\tlearn: 0.3628051\ttest: 0.3906063\tbest: 0.3906063 (0)\ttotal: 28.1ms\tremaining: 22.4s\n",
      "1:\tlearn: 0.3712186\ttest: 0.3906063\tbest: 0.3906063 (0)\ttotal: 64.4ms\tremaining: 25.7s\n",
      "2:\tlearn: 0.3715720\ttest: 0.3906063\tbest: 0.3906063 (0)\ttotal: 96.3ms\tremaining: 25.6s\n",
      "3:\tlearn: 0.3732274\ttest: 0.3907110\tbest: 0.3907110 (3)\ttotal: 134ms\tremaining: 26.8s\n",
      "4:\tlearn: 0.4387535\ttest: 0.4521970\tbest: 0.4521970 (4)\ttotal: 183ms\tremaining: 29.1s\n",
      "5:\tlearn: 0.4385627\ttest: 0.4521970\tbest: 0.4521970 (4)\ttotal: 202ms\tremaining: 26.8s\n",
      "6:\tlearn: 0.4329174\ttest: 0.4458427\tbest: 0.4521970 (4)\ttotal: 245ms\tremaining: 27.7s\n",
      "7:\tlearn: 0.4610983\ttest: 0.4815609\tbest: 0.4815609 (7)\ttotal: 281ms\tremaining: 27.9s\n",
      "8:\tlearn: 0.4339384\ttest: 0.4458427\tbest: 0.4815609 (7)\ttotal: 331ms\tremaining: 29.1s\n",
      "9:\tlearn: 0.4615300\ttest: 0.4816642\tbest: 0.4816642 (9)\ttotal: 371ms\tremaining: 29.3s\n",
      "10:\tlearn: 0.4615300\ttest: 0.4816642\tbest: 0.4816642 (9)\ttotal: 415ms\tremaining: 29.8s\n",
      "11:\tlearn: 0.4616738\ttest: 0.4816642\tbest: 0.4816642 (9)\ttotal: 455ms\tremaining: 29.9s\n",
      "12:\tlearn: 0.4616400\ttest: 0.4816642\tbest: 0.4816642 (9)\ttotal: 487ms\tremaining: 29.5s\n",
      "13:\tlearn: 0.4615723\ttest: 0.4807899\tbest: 0.4816642 (9)\ttotal: 524ms\tremaining: 29.4s\n",
      "14:\tlearn: 0.4615723\ttest: 0.4807899\tbest: 0.4816642 (9)\ttotal: 564ms\tremaining: 29.5s\n",
      "15:\tlearn: 0.4615723\ttest: 0.4807899\tbest: 0.4816642 (9)\ttotal: 599ms\tremaining: 29.4s\n",
      "16:\tlearn: 0.4616569\ttest: 0.4807899\tbest: 0.4816642 (9)\ttotal: 641ms\tremaining: 29.5s\n",
      "17:\tlearn: 0.4616823\ttest: 0.4807899\tbest: 0.4816642 (9)\ttotal: 680ms\tremaining: 29.5s\n",
      "18:\tlearn: 0.4615977\ttest: 0.4807899\tbest: 0.4816642 (9)\ttotal: 723ms\tremaining: 29.7s\n",
      "19:\tlearn: 0.4616908\ttest: 0.4816642\tbest: 0.4816642 (9)\ttotal: 766ms\tremaining: 29.9s\n",
      "20:\tlearn: 0.4616908\ttest: 0.4816642\tbest: 0.4816642 (9)\ttotal: 795ms\tremaining: 29.5s\n",
      "21:\tlearn: 0.4616062\ttest: 0.4816642\tbest: 0.4816642 (9)\ttotal: 837ms\tremaining: 29.6s\n",
      "22:\tlearn: 0.4615469\ttest: 0.4816642\tbest: 0.4816642 (9)\ttotal: 881ms\tremaining: 29.8s\n",
      "23:\tlearn: 0.4615469\ttest: 0.4816642\tbest: 0.4816642 (9)\ttotal: 928ms\tremaining: 30s\n",
      "24:\tlearn: 0.4615469\ttest: 0.4816642\tbest: 0.4816642 (9)\ttotal: 950ms\tremaining: 29.4s\n",
      "25:\tlearn: 0.4614623\ttest: 0.4816642\tbest: 0.4816642 (9)\ttotal: 997ms\tremaining: 29.7s\n",
      "26:\tlearn: 0.4614877\ttest: 0.4816642\tbest: 0.4816642 (9)\ttotal: 1.04s\tremaining: 29.7s\n",
      "27:\tlearn: 0.4624773\ttest: 0.4818864\tbest: 0.4818864 (27)\ttotal: 1.07s\tremaining: 29.7s\n",
      "28:\tlearn: 0.4625110\ttest: 0.4818864\tbest: 0.4818864 (27)\ttotal: 1.12s\tremaining: 29.7s\n",
      "29:\tlearn: 0.4624265\ttest: 0.4818864\tbest: 0.4818864 (27)\ttotal: 1.17s\tremaining: 30s\n",
      "30:\tlearn: 0.4626546\ttest: 0.4818864\tbest: 0.4818864 (27)\ttotal: 1.21s\tremaining: 30s\n",
      "31:\tlearn: 0.4630260\ttest: 0.4829801\tbest: 0.4829801 (31)\ttotal: 1.26s\tremaining: 30.3s\n",
      "32:\tlearn: 0.4632458\ttest: 0.4829801\tbest: 0.4829801 (31)\ttotal: 1.3s\tremaining: 30.2s\n",
      "33:\tlearn: 0.4631614\ttest: 0.4829801\tbest: 0.4829801 (31)\ttotal: 1.34s\tremaining: 30.2s\n",
      "34:\tlearn: 0.4632793\ttest: 0.4829801\tbest: 0.4829801 (31)\ttotal: 1.38s\tremaining: 30.2s\n",
      "35:\tlearn: 0.4631359\ttest: 0.4829801\tbest: 0.4829801 (31)\ttotal: 1.42s\tremaining: 30.1s\n",
      "36:\tlearn: 0.4630769\ttest: 0.4829801\tbest: 0.4829801 (31)\ttotal: 1.46s\tremaining: 30.1s\n",
      "37:\tlearn: 0.4630515\ttest: 0.4829801\tbest: 0.4829801 (31)\ttotal: 1.5s\tremaining: 30.1s\n",
      "38:\tlearn: 0.4631197\ttest: 0.4829801\tbest: 0.4829801 (31)\ttotal: 1.54s\tremaining: 30.1s\n",
      "39:\tlearn: 0.4631197\ttest: 0.4823303\tbest: 0.4829801 (31)\ttotal: 1.58s\tremaining: 30s\n",
      "40:\tlearn: 0.4631961\ttest: 0.4820051\tbest: 0.4829801 (31)\ttotal: 1.62s\tremaining: 30s\n",
      "41:\tlearn: 0.4637363\ttest: 0.4829801\tbest: 0.4829801 (31)\ttotal: 1.66s\tremaining: 29.9s\n",
      "42:\tlearn: 0.4637108\ttest: 0.4829801\tbest: 0.4829801 (31)\ttotal: 1.7s\tremaining: 29.9s\n",
      "43:\tlearn: 0.4637697\ttest: 0.4829801\tbest: 0.4829801 (31)\ttotal: 1.75s\tremaining: 30s\n",
      "44:\tlearn: 0.4637522\ttest: 0.4828767\tbest: 0.4829801 (31)\ttotal: 1.78s\tremaining: 29.9s\n",
      "45:\tlearn: 0.4639719\ttest: 0.4828767\tbest: 0.4829801 (31)\ttotal: 1.84s\tremaining: 30.1s\n",
      "46:\tlearn: 0.4638875\ttest: 0.4828767\tbest: 0.4829801 (31)\ttotal: 1.88s\tremaining: 30.2s\n",
      "47:\tlearn: 0.4638031\ttest: 0.4828767\tbest: 0.4829801 (31)\ttotal: 1.93s\tremaining: 30.2s\n",
      "48:\tlearn: 0.4640562\ttest: 0.4828767\tbest: 0.4829801 (31)\ttotal: 1.97s\tremaining: 30.2s\n",
      "49:\tlearn: 0.4639719\ttest: 0.4828767\tbest: 0.4829801 (31)\ttotal: 2.02s\tremaining: 30.3s\n",
      "50:\tlearn: 0.4637188\ttest: 0.4828767\tbest: 0.4829801 (31)\ttotal: 2.06s\tremaining: 30.2s\n",
      "51:\tlearn: 0.4635500\ttest: 0.4824486\tbest: 0.4829801 (31)\ttotal: 2.1s\tremaining: 30.2s\n",
      "52:\tlearn: 0.4638875\ttest: 0.4827734\tbest: 0.4829801 (31)\ttotal: 2.14s\tremaining: 30.2s\n",
      "53:\tlearn: 0.4637697\ttest: 0.4827734\tbest: 0.4829801 (31)\ttotal: 2.18s\tremaining: 30.2s\n",
      "54:\tlearn: 0.4636264\ttest: 0.4824486\tbest: 0.4829801 (31)\ttotal: 2.23s\tremaining: 30.2s\n",
      "55:\tlearn: 0.4636518\ttest: 0.4825519\tbest: 0.4829801 (31)\ttotal: 2.27s\tremaining: 30.2s\n",
      "56:\tlearn: 0.4636009\ttest: 0.4825519\tbest: 0.4829801 (31)\ttotal: 2.32s\tremaining: 30.3s\n",
      "57:\tlearn: 0.4637617\ttest: 0.4825519\tbest: 0.4829801 (31)\ttotal: 2.37s\tremaining: 30.3s\n",
      "58:\tlearn: 0.4636773\ttest: 0.4825519\tbest: 0.4829801 (31)\ttotal: 2.42s\tremaining: 30.5s\n",
      "59:\tlearn: 0.4635929\ttest: 0.4822270\tbest: 0.4829801 (31)\ttotal: 2.47s\tremaining: 30.5s\n",
      "60:\tlearn: 0.4637108\ttest: 0.4822270\tbest: 0.4829801 (31)\ttotal: 2.53s\tremaining: 30.6s\n",
      "61:\tlearn: 0.4636264\ttest: 0.4821237\tbest: 0.4829801 (31)\ttotal: 2.58s\tremaining: 30.7s\n",
      "62:\tlearn: 0.4637952\ttest: 0.4821237\tbest: 0.4829801 (31)\ttotal: 2.63s\tremaining: 30.8s\n",
      "63:\tlearn: 0.4640993\ttest: 0.4820205\tbest: 0.4829801 (31)\ttotal: 2.69s\tremaining: 30.9s\n",
      "64:\tlearn: 0.4639895\ttest: 0.4820205\tbest: 0.4829801 (31)\ttotal: 2.75s\tremaining: 31.1s\n",
      "65:\tlearn: 0.4639051\ttest: 0.4816956\tbest: 0.4829801 (31)\ttotal: 2.79s\tremaining: 31s\n",
      "66:\tlearn: 0.4639051\ttest: 0.4816956\tbest: 0.4829801 (31)\ttotal: 2.83s\tremaining: 30.9s\n",
      "67:\tlearn: 0.4639306\ttest: 0.4816956\tbest: 0.4829801 (31)\ttotal: 2.87s\tremaining: 30.8s\n",
      "68:\tlearn: 0.4636439\ttest: 0.4792785\tbest: 0.4829801 (31)\ttotal: 2.91s\tremaining: 30.8s\n",
      "69:\tlearn: 0.4635514\ttest: 0.4792785\tbest: 0.4829801 (31)\ttotal: 2.96s\tremaining: 30.9s\n",
      "70:\tlearn: 0.4636693\ttest: 0.4796050\tbest: 0.4829801 (31)\ttotal: 3.02s\tremaining: 31.1s\n",
      "71:\tlearn: 0.4648940\ttest: 0.4810289\tbest: 0.4829801 (31)\ttotal: 3.08s\tremaining: 31.2s\n",
      "72:\tlearn: 0.4653563\ttest: 0.4812513\tbest: 0.4829801 (31)\ttotal: 3.13s\tremaining: 31.1s\n",
      "73:\tlearn: 0.4651546\ttest: 0.4812513\tbest: 0.4829801 (31)\ttotal: 3.17s\tremaining: 31.1s\n",
      "74:\tlearn: 0.4655684\ttest: 0.4811482\tbest: 0.4829801 (31)\ttotal: 3.23s\tremaining: 31.2s\n",
      "75:\tlearn: 0.4656271\ttest: 0.4811482\tbest: 0.4829801 (31)\ttotal: 3.28s\tremaining: 31.3s\n",
      "76:\tlearn: 0.4654330\ttest: 0.4815767\tbest: 0.4829801 (31)\ttotal: 3.32s\tremaining: 31.2s\n",
      "77:\tlearn: 0.4662422\ttest: 0.4814735\tbest: 0.4829801 (31)\ttotal: 3.36s\tremaining: 31.1s\n",
      "78:\tlearn: 0.4663849\ttest: 0.4817987\tbest: 0.4829801 (31)\ttotal: 3.4s\tremaining: 31s\n",
      "79:\tlearn: 0.4745524\ttest: 0.4886629\tbest: 0.4886629 (79)\ttotal: 3.46s\tremaining: 31.1s\n",
      "80:\tlearn: 0.4746149\ttest: 0.4891995\tbest: 0.4891995 (80)\ttotal: 3.51s\tremaining: 31.2s\n",
      "81:\tlearn: 0.4749973\ttest: 0.4891995\tbest: 0.4891995 (80)\ttotal: 3.56s\tremaining: 31.2s\n",
      "82:\tlearn: 0.4747546\ttest: 0.4898391\tbest: 0.4898391 (82)\ttotal: 3.61s\tremaining: 31.2s\n",
      "83:\tlearn: 0.4752196\ttest: 0.4895194\tbest: 0.4898391 (82)\ttotal: 3.65s\tremaining: 31.1s\n",
      "84:\tlearn: 0.4753903\ttest: 0.4898391\tbest: 0.4898391 (82)\ttotal: 3.7s\tremaining: 31.1s\n",
      "85:\tlearn: 0.4752561\ttest: 0.4898391\tbest: 0.4898391 (82)\ttotal: 3.74s\tremaining: 31s\n",
      "86:\tlearn: 0.4755245\ttest: 0.4896230\tbest: 0.4898391 (82)\ttotal: 3.78s\tremaining: 31s\n",
      "87:\tlearn: 0.4756587\ttest: 0.4897268\tbest: 0.4898391 (82)\ttotal: 3.83s\tremaining: 31s\n",
      "88:\tlearn: 0.4755760\ttest: 0.4897268\tbest: 0.4898391 (82)\ttotal: 3.87s\tremaining: 30.9s\n",
      "89:\tlearn: 0.4758187\ttest: 0.4896230\tbest: 0.4898391 (82)\ttotal: 3.92s\tremaining: 30.9s\n",
      "90:\tlearn: 0.4754312\ttest: 0.4896230\tbest: 0.4898391 (82)\ttotal: 3.97s\tremaining: 30.9s\n",
      "91:\tlearn: 0.4750950\ttest: 0.4896230\tbest: 0.4898391 (82)\ttotal: 4.02s\tremaining: 31s\n",
      "92:\tlearn: 0.4751207\ttest: 0.4896230\tbest: 0.4898391 (82)\ttotal: 4.05s\tremaining: 30.8s\n",
      "93:\tlearn: 0.4755396\ttest: 0.4896230\tbest: 0.4898391 (82)\ttotal: 4.11s\tremaining: 30.9s\n",
      "94:\tlearn: 0.4755965\ttest: 0.4896230\tbest: 0.4898391 (82)\ttotal: 4.16s\tremaining: 30.9s\n",
      "95:\tlearn: 0.4756792\ttest: 0.4896230\tbest: 0.4898391 (82)\ttotal: 4.21s\tremaining: 30.9s\n",
      "96:\tlearn: 0.4768198\ttest: 0.4899513\tbest: 0.4899513 (96)\ttotal: 4.27s\tremaining: 30.9s\n",
      "97:\tlearn: 0.4766497\ttest: 0.4898477\tbest: 0.4899513 (96)\ttotal: 4.33s\tremaining: 31s\n",
      "98:\tlearn: 0.4768147\ttest: 0.4898477\tbest: 0.4899513 (96)\ttotal: 4.37s\tremaining: 30.9s\n",
      "99:\tlearn: 0.4769847\ttest: 0.4901671\tbest: 0.4901671 (99)\ttotal: 4.42s\tremaining: 31s\n",
      "100:\tlearn: 0.4778704\ttest: 0.4900466\tbest: 0.4901671 (99)\ttotal: 4.47s\tremaining: 30.9s\n",
      "101:\tlearn: 0.4780868\ttest: 0.4906859\tbest: 0.4906859 (101)\ttotal: 4.53s\tremaining: 31s\n",
      "102:\tlearn: 0.4777832\ttest: 0.4907898\tbest: 0.4907898 (102)\ttotal: 4.6s\tremaining: 31.1s\n",
      "103:\tlearn: 0.4776960\ttest: 0.4907898\tbest: 0.4907898 (102)\ttotal: 4.65s\tremaining: 31.1s\n",
      "104:\tlearn: 0.4776960\ttest: 0.4907898\tbest: 0.4907898 (102)\ttotal: 4.71s\tremaining: 31.2s\n",
      "105:\tlearn: 0.4778042\ttest: 0.4907898\tbest: 0.4907898 (102)\ttotal: 4.76s\tremaining: 31.2s\n",
      "106:\tlearn: 0.4833253\ttest: 0.4933865\tbest: 0.4933865 (106)\ttotal: 4.81s\tremaining: 31.1s\n",
      "107:\tlearn: 0.4833253\ttest: 0.4933865\tbest: 0.4933865 (106)\ttotal: 4.86s\tremaining: 31.1s\n",
      "108:\tlearn: 0.4834327\ttest: 0.4932830\tbest: 0.4933865 (106)\ttotal: 4.9s\tremaining: 31.1s\n",
      "109:\tlearn: 0.4835696\ttest: 0.4938064\tbest: 0.4938064 (109)\ttotal: 4.94s\tremaining: 31s\n",
      "110:\tlearn: 0.4837584\ttest: 0.4941226\tbest: 0.4941226 (110)\ttotal: 4.99s\tremaining: 31s\n",
      "111:\tlearn: 0.4837619\ttest: 0.4942263\tbest: 0.4942263 (111)\ttotal: 5.04s\tremaining: 31s\n",
      "112:\tlearn: 0.4839246\ttest: 0.4942263\tbest: 0.4942263 (111)\ttotal: 5.08s\tremaining: 30.9s\n",
      "113:\tlearn: 0.4841359\ttest: 0.4942263\tbest: 0.4942263 (111)\ttotal: 5.13s\tremaining: 30.9s\n",
      "114:\tlearn: 0.4899001\ttest: 0.5009361\tbest: 0.5009361 (114)\ttotal: 5.2s\tremaining: 31s\n",
      "115:\tlearn: 0.4897113\ttest: 0.5009361\tbest: 0.5009361 (114)\ttotal: 5.26s\tremaining: 31s\n",
      "116:\tlearn: 0.4900951\ttest: 0.5008313\tbest: 0.5009361 (114)\ttotal: 5.3s\tremaining: 31s\n",
      "117:\tlearn: 0.4898740\ttest: 0.5010395\tbest: 0.5010395 (117)\ttotal: 5.35s\tremaining: 30.9s\n",
      "118:\tlearn: 0.4899543\ttest: 0.5012479\tbest: 0.5012479 (118)\ttotal: 5.4s\tremaining: 30.9s\n",
      "119:\tlearn: 0.4904959\ttest: 0.5013511\tbest: 0.5013511 (119)\ttotal: 5.46s\tremaining: 30.9s\n",
      "120:\tlearn: 0.4908184\ttest: 0.5012469\tbest: 0.5013511 (119)\ttotal: 5.52s\tremaining: 31s\n",
      "121:\tlearn: 0.4906822\ttest: 0.5013511\tbest: 0.5013511 (119)\ttotal: 5.57s\tremaining: 31s\n",
      "122:\tlearn: 0.4906282\ttest: 0.5013511\tbest: 0.5013511 (119)\ttotal: 5.6s\tremaining: 30.8s\n",
      "123:\tlearn: 0.4909506\ttest: 0.5013511\tbest: 0.5013511 (119)\ttotal: 5.65s\tremaining: 30.8s\n",
      "124:\tlearn: 0.4912169\ttest: 0.5010395\tbest: 0.5013511 (119)\ttotal: 5.7s\tremaining: 30.8s\n",
      "125:\tlearn: 0.4911126\ttest: 0.5013511\tbest: 0.5013511 (119)\ttotal: 5.75s\tremaining: 30.8s\n",
      "126:\tlearn: 0.4914346\ttest: 0.5013511\tbest: 0.5013511 (119)\ttotal: 5.8s\tremaining: 30.8s\n",
      "127:\tlearn: 0.4915146\ttest: 0.5013511\tbest: 0.5013511 (119)\ttotal: 5.85s\tremaining: 30.7s\n",
      "128:\tlearn: 0.4915946\ttest: 0.5013511\tbest: 0.5013511 (119)\ttotal: 5.9s\tremaining: 30.7s\n",
      "129:\tlearn: 0.4919423\ttest: 0.5013499\tbest: 0.5013511 (119)\ttotal: 5.95s\tremaining: 30.7s\n",
      "130:\tlearn: 0.4919945\ttest: 0.5013499\tbest: 0.5013511 (119)\ttotal: 6s\tremaining: 30.6s\n",
      "131:\tlearn: 0.4922082\ttest: 0.5015570\tbest: 0.5015570 (131)\ttotal: 6.05s\tremaining: 30.6s\n",
      "132:\tlearn: 0.4922359\ttest: 0.5015570\tbest: 0.5015570 (131)\ttotal: 6.1s\tremaining: 30.6s\n",
      "133:\tlearn: 0.4922082\ttest: 0.5018680\tbest: 0.5018680 (133)\ttotal: 6.15s\tremaining: 30.6s\n",
      "134:\tlearn: 0.4921805\ttest: 0.5018680\tbest: 0.5018680 (133)\ttotal: 6.2s\tremaining: 30.5s\n",
      "135:\tlearn: 0.4922604\ttest: 0.5018680\tbest: 0.5018680 (133)\ttotal: 6.25s\tremaining: 30.5s\n",
      "136:\tlearn: 0.4923142\ttest: 0.5018680\tbest: 0.5018680 (133)\ttotal: 6.31s\tremaining: 30.5s\n",
      "137:\tlearn: 0.4923941\ttest: 0.5018680\tbest: 0.5018680 (133)\ttotal: 6.36s\tremaining: 30.5s\n",
      "138:\tlearn: 0.4924740\ttest: 0.5016598\tbest: 0.5018680 (133)\ttotal: 6.41s\tremaining: 30.5s\n",
      "139:\tlearn: 0.4927981\ttest: 0.5015570\tbest: 0.5018680 (133)\ttotal: 6.46s\tremaining: 30.4s\n",
      "140:\tlearn: 0.4929055\ttest: 0.5014529\tbest: 0.5018680 (133)\ttotal: 6.51s\tremaining: 30.4s\n",
      "141:\tlearn: 0.4928779\ttest: 0.5014529\tbest: 0.5018680 (133)\ttotal: 6.56s\tremaining: 30.4s\n",
      "142:\tlearn: 0.4927981\ttest: 0.5014529\tbest: 0.5018680 (133)\ttotal: 6.62s\tremaining: 30.4s\n",
      "143:\tlearn: 0.4927720\ttest: 0.5014529\tbest: 0.5018680 (133)\ttotal: 6.67s\tremaining: 30.4s\n",
      "144:\tlearn: 0.4931188\ttest: 0.5018664\tbest: 0.5018680 (133)\ttotal: 6.73s\tremaining: 30.4s\n",
      "145:\tlearn: 0.4931188\ttest: 0.5018664\tbest: 0.5018680 (133)\ttotal: 6.78s\tremaining: 30.4s\n",
      "146:\tlearn: 0.4932246\ttest: 0.5019705\tbest: 0.5019705 (146)\ttotal: 6.83s\tremaining: 30.3s\n",
      "147:\tlearn: 0.4931985\ttest: 0.5019705\tbest: 0.5019705 (146)\ttotal: 6.87s\tremaining: 30.3s\n",
      "148:\tlearn: 0.4931985\ttest: 0.5019705\tbest: 0.5019705 (146)\ttotal: 6.92s\tremaining: 30.2s\n",
      "149:\tlearn: 0.4930898\ttest: 0.5015570\tbest: 0.5019705 (146)\ttotal: 6.97s\tremaining: 30.2s\n",
      "150:\tlearn: 0.4931159\ttest: 0.5015570\tbest: 0.5019705 (146)\ttotal: 7.02s\tremaining: 30.2s\n",
      "151:\tlearn: 0.4929592\ttest: 0.5015570\tbest: 0.5019705 (146)\ttotal: 7.08s\tremaining: 30.2s\n",
      "152:\tlearn: 0.4929592\ttest: 0.5014529\tbest: 0.5019705 (146)\ttotal: 7.14s\tremaining: 30.2s\n",
      "153:\tlearn: 0.4930346\ttest: 0.5017653\tbest: 0.5019705 (146)\ttotal: 7.19s\tremaining: 30.2s\n",
      "154:\tlearn: 0.4930898\ttest: 0.5023874\tbest: 0.5023874 (154)\ttotal: 7.24s\tremaining: 30.1s\n",
      "155:\tlearn: 0.4930085\ttest: 0.5023874\tbest: 0.5023874 (154)\ttotal: 7.29s\tremaining: 30.1s\n",
      "156:\tlearn: 0.4930085\ttest: 0.5023874\tbest: 0.5023874 (154)\ttotal: 7.34s\tremaining: 30.1s\n",
      "157:\tlearn: 0.4936742\ttest: 0.5025917\tbest: 0.5025917 (157)\ttotal: 7.39s\tremaining: 30s\n",
      "158:\tlearn: 0.4936206\ttest: 0.5026982\tbest: 0.5026982 (158)\ttotal: 7.44s\tremaining: 30s\n",
      "159:\tlearn: 0.4937004\ttest: 0.5026982\tbest: 0.5026982 (158)\ttotal: 7.49s\tremaining: 30s\n",
      "160:\tlearn: 0.4937004\ttest: 0.5026982\tbest: 0.5026982 (158)\ttotal: 7.52s\tremaining: 29.9s\n",
      "161:\tlearn: 0.4937801\ttest: 0.5028026\tbest: 0.5028026 (161)\ttotal: 7.57s\tremaining: 29.8s\n",
      "162:\tlearn: 0.4939657\ttest: 0.5028026\tbest: 0.5028026 (161)\ttotal: 7.62s\tremaining: 29.8s\n",
      "163:\tlearn: 0.4938585\ttest: 0.5028026\tbest: 0.5028026 (161)\ttotal: 7.66s\tremaining: 29.7s\n",
      "164:\tlearn: 0.4938585\ttest: 0.5028026\tbest: 0.5028026 (161)\ttotal: 7.71s\tremaining: 29.7s\n",
      "165:\tlearn: 0.4939383\ttest: 0.5025939\tbest: 0.5028026 (161)\ttotal: 7.76s\tremaining: 29.6s\n",
      "166:\tlearn: 0.4939918\ttest: 0.5028026\tbest: 0.5028026 (161)\ttotal: 7.81s\tremaining: 29.6s\n",
      "167:\tlearn: 0.4943119\ttest: 0.5025939\tbest: 0.5028026 (161)\ttotal: 7.87s\tremaining: 29.6s\n",
      "168:\tlearn: 0.4941799\ttest: 0.5025917\tbest: 0.5028026 (161)\ttotal: 7.92s\tremaining: 29.6s\n",
      "169:\tlearn: 0.4942857\ttest: 0.5025917\tbest: 0.5028026 (161)\ttotal: 7.96s\tremaining: 29.5s\n",
      "170:\tlearn: 0.4941799\ttest: 0.5031082\tbest: 0.5031082 (170)\ttotal: 8.02s\tremaining: 29.5s\n",
      "171:\tlearn: 0.4949773\ttest: 0.5034183\tbest: 0.5034183 (171)\ttotal: 8.07s\tremaining: 29.5s\n",
      "172:\tlearn: 0.4949762\ttest: 0.5032098\tbest: 0.5034183 (171)\ttotal: 8.12s\tremaining: 29.4s\n",
      "173:\tlearn: 0.4946851\ttest: 0.5034183\tbest: 0.5034183 (171)\ttotal: 8.17s\tremaining: 29.4s\n",
      "174:\tlearn: 0.4946055\ttest: 0.5022812\tbest: 0.5034183 (171)\ttotal: 8.22s\tremaining: 29.4s\n",
      "175:\tlearn: 0.4946055\ttest: 0.5022812\tbest: 0.5034183 (171)\ttotal: 8.23s\tremaining: 29.2s\n",
      "176:\tlearn: 0.4946316\ttest: 0.5034183\tbest: 0.5034183 (171)\ttotal: 8.29s\tremaining: 29.2s\n",
      "177:\tlearn: 0.4948443\ttest: 0.5034183\tbest: 0.5034183 (171)\ttotal: 8.34s\tremaining: 29.1s\n",
      "178:\tlearn: 0.4949239\ttest: 0.5030014\tbest: 0.5034183 (171)\ttotal: 8.38s\tremaining: 29.1s\n",
      "179:\tlearn: 0.4949239\ttest: 0.5030014\tbest: 0.5034183 (171)\ttotal: 8.42s\tremaining: 29s\n",
      "180:\tlearn: 0.4950558\ttest: 0.5030014\tbest: 0.5034183 (171)\ttotal: 8.45s\tremaining: 28.9s\n",
      "181:\tlearn: 0.4952139\ttest: 0.5032098\tbest: 0.5034183 (171)\ttotal: 8.5s\tremaining: 28.9s\n",
      "182:\tlearn: 0.4952693\ttest: 0.5032098\tbest: 0.5034183 (171)\ttotal: 8.55s\tremaining: 28.8s\n",
      "183:\tlearn: 0.5270787\ttest: 0.5439234\tbest: 0.5439234 (183)\ttotal: 8.59s\tremaining: 28.8s\n",
      "184:\tlearn: 0.5269794\ttest: 0.5439234\tbest: 0.5439234 (183)\ttotal: 8.64s\tremaining: 28.7s\n",
      "185:\tlearn: 0.5271310\ttest: 0.5439234\tbest: 0.5439234 (183)\ttotal: 8.69s\tremaining: 28.7s\n",
      "186:\tlearn: 0.5271364\ttest: 0.5437153\tbest: 0.5439234 (183)\ttotal: 8.73s\tremaining: 28.6s\n",
      "187:\tlearn: 0.5310590\ttest: 0.5441683\tbest: 0.5441683 (187)\ttotal: 8.78s\tremaining: 28.6s\n",
      "188:\tlearn: 0.5273034\ttest: 0.5441683\tbest: 0.5441683 (187)\ttotal: 8.84s\tremaining: 28.6s\n",
      "189:\tlearn: 0.5273034\ttest: 0.5441683\tbest: 0.5441683 (187)\ttotal: 8.88s\tremaining: 28.5s\n",
      "190:\tlearn: 0.5312700\ttest: 0.5441683\tbest: 0.5441683 (187)\ttotal: 8.94s\tremaining: 28.5s\n",
      "191:\tlearn: 0.5312238\ttest: 0.5441683\tbest: 0.5441683 (187)\ttotal: 8.99s\tremaining: 28.5s\n",
      "192:\tlearn: 0.5313686\ttest: 0.5441683\tbest: 0.5441683 (187)\ttotal: 9.03s\tremaining: 28.4s\n",
      "193:\tlearn: 0.5313424\ttest: 0.5441683\tbest: 0.5441683 (187)\ttotal: 9.07s\tremaining: 28.3s\n",
      "194:\tlearn: 0.5313686\ttest: 0.5439602\tbest: 0.5441683 (187)\ttotal: 9.12s\tremaining: 28.3s\n",
      "195:\tlearn: 0.5313948\ttest: 0.5439602\tbest: 0.5441683 (187)\ttotal: 9.17s\tremaining: 28.3s\n",
      "196:\tlearn: 0.5314348\ttest: 0.5435074\tbest: 0.5441683 (187)\ttotal: 9.22s\tremaining: 28.2s\n",
      "197:\tlearn: 0.5314610\ttest: 0.5435074\tbest: 0.5441683 (187)\ttotal: 9.26s\tremaining: 28.2s\n",
      "198:\tlearn: 0.5314286\ttest: 0.5437524\tbest: 0.5441683 (187)\ttotal: 9.31s\tremaining: 28.1s\n",
      "199:\tlearn: 0.5315471\ttest: 0.5437524\tbest: 0.5441683 (187)\ttotal: 9.37s\tremaining: 28.1s\n",
      "200:\tlearn: 0.5315732\ttest: 0.5432996\tbest: 0.5441683 (187)\ttotal: 9.42s\tremaining: 28.1s\n",
      "201:\tlearn: 0.5316194\ttest: 0.5432996\tbest: 0.5441683 (187)\ttotal: 9.47s\tremaining: 28.1s\n",
      "202:\tlearn: 0.5316194\ttest: 0.5432996\tbest: 0.5441683 (187)\ttotal: 9.5s\tremaining: 27.9s\n",
      "203:\tlearn: 0.5316979\ttest: 0.5432288\tbest: 0.5441683 (187)\ttotal: 9.55s\tremaining: 27.9s\n",
      "204:\tlearn: 0.5317765\ttest: 0.5436819\tbest: 0.5441683 (187)\ttotal: 9.61s\tremaining: 27.9s\n",
      "205:\tlearn: 0.5317765\ttest: 0.5436819\tbest: 0.5441683 (187)\ttotal: 9.64s\tremaining: 27.8s\n",
      "206:\tlearn: 0.5317765\ttest: 0.5436819\tbest: 0.5441683 (187)\ttotal: 9.69s\tremaining: 27.7s\n",
      "207:\tlearn: 0.5318489\ttest: 0.5432288\tbest: 0.5441683 (187)\ttotal: 9.73s\tremaining: 27.7s\n",
      "208:\tlearn: 0.5318950\ttest: 0.5432288\tbest: 0.5441683 (187)\ttotal: 9.79s\tremaining: 27.7s\n",
      "209:\tlearn: 0.5319212\ttest: 0.5432288\tbest: 0.5441683 (187)\ttotal: 9.83s\tremaining: 27.6s\n",
      "210:\tlearn: 0.5318227\ttest: 0.5429501\tbest: 0.5441683 (187)\ttotal: 9.88s\tremaining: 27.6s\n",
      "211:\tlearn: 0.5318227\ttest: 0.5429501\tbest: 0.5441683 (187)\ttotal: 9.9s\tremaining: 27.5s\n",
      "212:\tlearn: 0.5318489\ttest: 0.5432288\tbest: 0.5441683 (187)\ttotal: 9.95s\tremaining: 27.4s\n",
      "213:\tlearn: 0.5318489\ttest: 0.5432288\tbest: 0.5441683 (187)\ttotal: 10s\tremaining: 27.4s\n",
      "214:\tlearn: 0.5317765\ttest: 0.5432288\tbest: 0.5441683 (187)\ttotal: 10.1s\tremaining: 27.4s\n",
      "215:\tlearn: 0.5317765\ttest: 0.5432288\tbest: 0.5441683 (187)\ttotal: 10.1s\tremaining: 27.4s\n",
      "216:\tlearn: 0.5318027\ttest: 0.5432288\tbest: 0.5441683 (187)\ttotal: 10.2s\tremaining: 27.4s\n",
      "217:\tlearn: 0.5317765\ttest: 0.5432288\tbest: 0.5441683 (187)\ttotal: 10.2s\tremaining: 27.3s\n",
      "218:\tlearn: 0.5320920\ttest: 0.5432288\tbest: 0.5441683 (187)\ttotal: 10.3s\tremaining: 27.3s\n",
      "219:\tlearn: 0.5320459\ttest: 0.5432288\tbest: 0.5441683 (187)\ttotal: 10.3s\tremaining: 27.2s\n",
      "220:\tlearn: 0.5320459\ttest: 0.5432288\tbest: 0.5441683 (187)\ttotal: 10.4s\tremaining: 27.2s\n",
      "221:\tlearn: 0.5320920\ttest: 0.5432288\tbest: 0.5441683 (187)\ttotal: 10.4s\tremaining: 27.2s\n",
      "222:\tlearn: 0.5320920\ttest: 0.5432288\tbest: 0.5441683 (187)\ttotal: 10.5s\tremaining: 27.1s\n",
      "223:\tlearn: 0.5320983\ttest: 0.5430540\tbest: 0.5441683 (187)\ttotal: 10.5s\tremaining: 27s\n",
      "224:\tlearn: 0.5320983\ttest: 0.5430540\tbest: 0.5441683 (187)\ttotal: 10.6s\tremaining: 27s\n",
      "225:\tlearn: 0.5321508\ttest: 0.5430540\tbest: 0.5441683 (187)\ttotal: 10.6s\tremaining: 27s\n",
      "226:\tlearn: 0.5321508\ttest: 0.5430540\tbest: 0.5441683 (187)\ttotal: 10.7s\tremaining: 26.9s\n",
      "227:\tlearn: 0.5321309\ttest: 0.5430540\tbest: 0.5441683 (187)\ttotal: 10.7s\tremaining: 26.9s\n",
      "228:\tlearn: 0.5322032\ttest: 0.5430540\tbest: 0.5441683 (187)\ttotal: 10.8s\tremaining: 26.9s\n",
      "229:\tlearn: 0.5320522\ttest: 0.5430540\tbest: 0.5441683 (187)\ttotal: 10.8s\tremaining: 26.8s\n",
      "230:\tlearn: 0.5322231\ttest: 0.5430540\tbest: 0.5441683 (187)\ttotal: 10.9s\tremaining: 26.8s\n",
      "231:\tlearn: 0.5324931\ttest: 0.5435074\tbest: 0.5441683 (187)\ttotal: 10.9s\tremaining: 26.7s\n",
      "232:\tlearn: 0.5325193\ttest: 0.5435074\tbest: 0.5441683 (187)\ttotal: 11s\tremaining: 26.7s\n",
      "233:\tlearn: 0.5325129\ttest: 0.5435074\tbest: 0.5441683 (187)\ttotal: 11s\tremaining: 26.6s\n",
      "234:\tlearn: 0.5325129\ttest: 0.5435074\tbest: 0.5441683 (187)\ttotal: 11.1s\tremaining: 26.6s\n",
      "235:\tlearn: 0.5325718\ttest: 0.5424962\tbest: 0.5441683 (187)\ttotal: 11.1s\tremaining: 26.6s\n",
      "236:\tlearn: 0.5324535\ttest: 0.5424962\tbest: 0.5441683 (187)\ttotal: 11.2s\tremaining: 26.6s\n",
      "237:\tlearn: 0.5325257\ttest: 0.5424962\tbest: 0.5441683 (187)\ttotal: 11.2s\tremaining: 26.5s\n",
      "238:\tlearn: 0.5325257\ttest: 0.5424962\tbest: 0.5441683 (187)\ttotal: 11.3s\tremaining: 26.5s\n",
      "239:\tlearn: 0.5322628\ttest: 0.5423209\tbest: 0.5441683 (187)\ttotal: 11.3s\tremaining: 26.4s\n",
      "240:\tlearn: 0.5326702\ttest: 0.5433327\tbest: 0.5441683 (187)\ttotal: 11.4s\tremaining: 26.4s\n",
      "241:\tlearn: 0.5326178\ttest: 0.5433327\tbest: 0.5441683 (187)\ttotal: 11.4s\tremaining: 26.3s\n",
      "242:\tlearn: 0.5327425\ttest: 0.5433327\tbest: 0.5441683 (187)\ttotal: 11.5s\tremaining: 26.3s\n",
      "243:\tlearn: 0.5327425\ttest: 0.5433327\tbest: 0.5441683 (187)\ttotal: 11.5s\tremaining: 26.3s\n",
      "244:\tlearn: 0.5334973\ttest: 0.5433327\tbest: 0.5441683 (187)\ttotal: 11.6s\tremaining: 26.2s\n",
      "245:\tlearn: 0.5335694\ttest: 0.5433327\tbest: 0.5441683 (187)\ttotal: 11.6s\tremaining: 26.2s\n",
      "246:\tlearn: 0.5338775\ttest: 0.5433327\tbest: 0.5441683 (187)\ttotal: 11.7s\tremaining: 26.2s\n",
      "247:\tlearn: 0.5339300\ttest: 0.5433327\tbest: 0.5441683 (187)\ttotal: 11.7s\tremaining: 26.1s\n",
      "248:\tlearn: 0.5339562\ttest: 0.5434367\tbest: 0.5441683 (187)\ttotal: 11.8s\tremaining: 26.1s\n",
      "249:\tlearn: 0.5339562\ttest: 0.5434367\tbest: 0.5441683 (187)\ttotal: 11.8s\tremaining: 26s\n",
      "250:\tlearn: 0.5339629\ttest: 0.5424248\tbest: 0.5441683 (187)\ttotal: 11.9s\tremaining: 26s\n",
      "251:\tlearn: 0.5339629\ttest: 0.5424248\tbest: 0.5441683 (187)\ttotal: 11.9s\tremaining: 25.9s\n",
      "252:\tlearn: 0.5339629\ttest: 0.5424248\tbest: 0.5441683 (187)\ttotal: 11.9s\tremaining: 25.8s\n",
      "253:\tlearn: 0.5339629\ttest: 0.5424248\tbest: 0.5441683 (187)\ttotal: 12s\tremaining: 25.8s\n",
      "254:\tlearn: 0.5338187\ttest: 0.5424248\tbest: 0.5441683 (187)\ttotal: 12s\tremaining: 25.7s\n",
      "255:\tlearn: 0.5339629\ttest: 0.5424248\tbest: 0.5441683 (187)\ttotal: 12.1s\tremaining: 25.7s\n",
      "256:\tlearn: 0.5339104\ttest: 0.5422495\tbest: 0.5441683 (187)\ttotal: 12.1s\tremaining: 25.6s\n",
      "257:\tlearn: 0.5338841\ttest: 0.5422495\tbest: 0.5441683 (187)\ttotal: 12.2s\tremaining: 25.6s\n",
      "258:\tlearn: 0.5338579\ttest: 0.5422495\tbest: 0.5441683 (187)\ttotal: 12.2s\tremaining: 25.6s\n",
      "259:\tlearn: 0.5339104\ttest: 0.5422495\tbest: 0.5441683 (187)\ttotal: 12.3s\tremaining: 25.5s\n",
      "260:\tlearn: 0.5338383\ttest: 0.5422495\tbest: 0.5441683 (187)\ttotal: 12.3s\tremaining: 25.4s\n",
      "261:\tlearn: 0.5338383\ttest: 0.5422495\tbest: 0.5441683 (187)\ttotal: 12.4s\tremaining: 25.4s\n",
      "262:\tlearn: 0.5339562\ttest: 0.5422495\tbest: 0.5441683 (187)\ttotal: 12.4s\tremaining: 25.4s\n",
      "263:\tlearn: 0.5340741\ttest: 0.5422495\tbest: 0.5441683 (187)\ttotal: 12.5s\tremaining: 25.3s\n",
      "264:\tlearn: 0.5339954\ttest: 0.5424574\tbest: 0.5441683 (187)\ttotal: 12.5s\tremaining: 25.3s\n",
      "265:\tlearn: 0.5340674\ttest: 0.5424574\tbest: 0.5441683 (187)\ttotal: 12.6s\tremaining: 25.3s\n",
      "266:\tlearn: 0.5340674\ttest: 0.5424574\tbest: 0.5441683 (187)\ttotal: 12.6s\tremaining: 25.2s\n",
      "267:\tlearn: 0.5340674\ttest: 0.5424574\tbest: 0.5441683 (187)\ttotal: 12.7s\tremaining: 25.1s\n",
      "268:\tlearn: 0.5364423\ttest: 0.5424574\tbest: 0.5441683 (187)\ttotal: 12.7s\tremaining: 25.1s\n",
      "269:\tlearn: 0.5364423\ttest: 0.5424574\tbest: 0.5441683 (187)\ttotal: 12.7s\tremaining: 25s\n",
      "270:\tlearn: 0.5364161\ttest: 0.5424574\tbest: 0.5441683 (187)\ttotal: 12.8s\tremaining: 24.9s\n",
      "271:\tlearn: 0.5366760\ttest: 0.5424574\tbest: 0.5441683 (187)\ttotal: 12.8s\tremaining: 24.9s\n",
      "272:\tlearn: 0.5367022\ttest: 0.5424574\tbest: 0.5441683 (187)\ttotal: 12.9s\tremaining: 24.8s\n",
      "273:\tlearn: 0.5367475\ttest: 0.5424574\tbest: 0.5441683 (187)\ttotal: 12.9s\tremaining: 24.8s\n",
      "274:\tlearn: 0.5369429\ttest: 0.5424574\tbest: 0.5441683 (187)\ttotal: 13s\tremaining: 24.8s\n",
      "275:\tlearn: 0.5369429\ttest: 0.5424574\tbest: 0.5441683 (187)\ttotal: 13s\tremaining: 24.7s\n",
      "276:\tlearn: 0.5369429\ttest: 0.5423534\tbest: 0.5441683 (187)\ttotal: 13s\tremaining: 24.6s\n",
      "277:\tlearn: 0.5368452\ttest: 0.5423534\tbest: 0.5441683 (187)\ttotal: 13.1s\tremaining: 24.6s\n",
      "278:\tlearn: 0.5368452\ttest: 0.5423534\tbest: 0.5441683 (187)\ttotal: 13.1s\tremaining: 24.6s\n",
      "279:\tlearn: 0.5367927\ttest: 0.5423534\tbest: 0.5441683 (187)\ttotal: 13.2s\tremaining: 24.5s\n",
      "280:\tlearn: 0.5366760\ttest: 0.5423534\tbest: 0.5441683 (187)\ttotal: 13.2s\tremaining: 24.5s\n",
      "281:\tlearn: 0.5366760\ttest: 0.5423534\tbest: 0.5441683 (187)\ttotal: 13.3s\tremaining: 24.4s\n",
      "282:\tlearn: 0.5366688\ttest: 0.5423534\tbest: 0.5441683 (187)\ttotal: 13.3s\tremaining: 24.4s\n",
      "283:\tlearn: 0.5366688\ttest: 0.5423534\tbest: 0.5441683 (187)\ttotal: 13.4s\tremaining: 24.3s\n",
      "284:\tlearn: 0.5367212\ttest: 0.5423534\tbest: 0.5441683 (187)\ttotal: 13.4s\tremaining: 24.3s\n",
      "285:\tlearn: 0.5367927\ttest: 0.5423534\tbest: 0.5441683 (187)\ttotal: 13.5s\tremaining: 24.3s\n",
      "286:\tlearn: 0.5368452\ttest: 0.5423534\tbest: 0.5441683 (187)\ttotal: 13.6s\tremaining: 24.2s\n",
      "287:\tlearn: 0.5367927\ttest: 0.5423534\tbest: 0.5441683 (187)\ttotal: 13.6s\tremaining: 24.2s\n",
      "288:\tlearn: 0.5366497\ttest: 0.5423534\tbest: 0.5441683 (187)\ttotal: 13.7s\tremaining: 24.2s\n",
      "289:\tlearn: 0.5367212\ttest: 0.5423534\tbest: 0.5441683 (187)\ttotal: 13.7s\tremaining: 24.1s\n",
      "290:\tlearn: 0.5366163\ttest: 0.5431957\tbest: 0.5441683 (187)\ttotal: 13.8s\tremaining: 24.1s\n",
      "291:\tlearn: 0.5366950\ttest: 0.5431957\tbest: 0.5441683 (187)\ttotal: 13.8s\tremaining: 24s\n",
      "292:\tlearn: 0.5366950\ttest: 0.5431957\tbest: 0.5441683 (187)\ttotal: 13.9s\tremaining: 24s\n",
      "293:\tlearn: 0.5366878\ttest: 0.5431957\tbest: 0.5441683 (187)\ttotal: 13.9s\tremaining: 23.9s\n",
      "294:\tlearn: 0.5367593\ttest: 0.5431957\tbest: 0.5441683 (187)\ttotal: 14s\tremaining: 23.9s\n",
      "295:\tlearn: 0.5369547\ttest: 0.5431957\tbest: 0.5441683 (187)\ttotal: 14s\tremaining: 23.9s\n",
      "296:\tlearn: 0.5369547\ttest: 0.5431957\tbest: 0.5441683 (187)\ttotal: 14s\tremaining: 23.8s\n",
      "297:\tlearn: 0.5368832\ttest: 0.5431957\tbest: 0.5441683 (187)\ttotal: 14.1s\tremaining: 23.8s\n",
      "298:\tlearn: 0.5368832\ttest: 0.5431957\tbest: 0.5441683 (187)\ttotal: 14.1s\tremaining: 23.7s\n",
      "299:\tlearn: 0.5368118\ttest: 0.5431957\tbest: 0.5441683 (187)\ttotal: 14.2s\tremaining: 23.7s\n",
      "300:\tlearn: 0.5368832\ttest: 0.5431957\tbest: 0.5441683 (187)\ttotal: 14.3s\tremaining: 23.6s\n",
      "301:\tlearn: 0.5369547\ttest: 0.5431957\tbest: 0.5441683 (187)\ttotal: 14.3s\tremaining: 23.6s\n",
      "302:\tlearn: 0.5369547\ttest: 0.5431957\tbest: 0.5441683 (187)\ttotal: 14.4s\tremaining: 23.5s\n",
      "303:\tlearn: 0.5370524\ttest: 0.5431957\tbest: 0.5441683 (187)\ttotal: 14.4s\tremaining: 23.5s\n",
      "304:\tlearn: 0.5370262\ttest: 0.5431957\tbest: 0.5441683 (187)\ttotal: 14.5s\tremaining: 23.5s\n",
      "305:\tlearn: 0.5371953\ttest: 0.5431957\tbest: 0.5441683 (187)\ttotal: 14.5s\tremaining: 23.4s\n",
      "306:\tlearn: 0.5371239\ttest: 0.5424574\tbest: 0.5441683 (187)\ttotal: 14.6s\tremaining: 23.4s\n",
      "307:\tlearn: 0.5373076\ttest: 0.5416587\tbest: 0.5441683 (187)\ttotal: 14.6s\tremaining: 23.3s\n",
      "308:\tlearn: 0.5373076\ttest: 0.5416587\tbest: 0.5441683 (187)\ttotal: 14.7s\tremaining: 23.3s\n",
      "309:\tlearn: 0.5373339\ttest: 0.5417305\tbest: 0.5441683 (187)\ttotal: 14.7s\tremaining: 23.3s\n",
      "310:\tlearn: 0.5373791\ttest: 0.5417305\tbest: 0.5441683 (187)\ttotal: 14.8s\tremaining: 23.2s\n",
      "311:\tlearn: 0.5373791\ttest: 0.5417305\tbest: 0.5441683 (187)\ttotal: 14.8s\tremaining: 23.1s\n",
      "312:\tlearn: 0.5373076\ttest: 0.5417305\tbest: 0.5441683 (187)\ttotal: 14.9s\tremaining: 23.1s\n",
      "313:\tlearn: 0.5373076\ttest: 0.5417305\tbest: 0.5441683 (187)\ttotal: 14.9s\tremaining: 23s\n",
      "314:\tlearn: 0.5373076\ttest: 0.5417305\tbest: 0.5441683 (187)\ttotal: 14.9s\tremaining: 23s\n",
      "315:\tlearn: 0.5373076\ttest: 0.5417305\tbest: 0.5441683 (187)\ttotal: 15s\tremaining: 22.9s\n",
      "316:\tlearn: 0.5375220\ttest: 0.5417305\tbest: 0.5441683 (187)\ttotal: 15s\tremaining: 22.9s\n",
      "317:\tlearn: 0.5374505\ttest: 0.5417305\tbest: 0.5441683 (187)\ttotal: 15.1s\tremaining: 22.8s\n",
      "318:\tlearn: 0.5373980\ttest: 0.5417305\tbest: 0.5441683 (187)\ttotal: 15.1s\tremaining: 22.8s\n",
      "319:\tlearn: 0.5373980\ttest: 0.5417305\tbest: 0.5441683 (187)\ttotal: 15.2s\tremaining: 22.7s\n",
      "320:\tlearn: 0.5373980\ttest: 0.5417305\tbest: 0.5441683 (187)\ttotal: 15.2s\tremaining: 22.7s\n",
      "321:\tlearn: 0.5373980\ttest: 0.5417305\tbest: 0.5441683 (187)\ttotal: 15.2s\tremaining: 22.6s\n",
      "322:\tlearn: 0.5375220\ttest: 0.5417305\tbest: 0.5441683 (187)\ttotal: 15.3s\tremaining: 22.6s\n",
      "323:\tlearn: 0.5375220\ttest: 0.5417305\tbest: 0.5441683 (187)\ttotal: 15.4s\tremaining: 22.6s\n",
      "324:\tlearn: 0.5375220\ttest: 0.5417305\tbest: 0.5441683 (187)\ttotal: 15.4s\tremaining: 22.5s\n",
      "325:\tlearn: 0.5375220\ttest: 0.5417305\tbest: 0.5441683 (187)\ttotal: 15.4s\tremaining: 22.4s\n",
      "326:\tlearn: 0.5376649\ttest: 0.5417305\tbest: 0.5441683 (187)\ttotal: 15.5s\tremaining: 22.4s\n",
      "327:\tlearn: 0.5376649\ttest: 0.5417305\tbest: 0.5441683 (187)\ttotal: 15.5s\tremaining: 22.4s\n",
      "328:\tlearn: 0.5377100\ttest: 0.5417305\tbest: 0.5441683 (187)\ttotal: 15.6s\tremaining: 22.3s\n",
      "329:\tlearn: 0.5376460\ttest: 0.5406340\tbest: 0.5441683 (187)\ttotal: 15.6s\tremaining: 22.3s\n",
      "330:\tlearn: 0.5376166\ttest: 0.5416587\tbest: 0.5441683 (187)\ttotal: 15.7s\tremaining: 22.2s\n",
      "331:\tlearn: 0.5375452\ttest: 0.5416587\tbest: 0.5441683 (187)\ttotal: 15.7s\tremaining: 22.2s\n",
      "332:\tlearn: 0.5376166\ttest: 0.5416587\tbest: 0.5441683 (187)\ttotal: 15.8s\tremaining: 22.1s\n",
      "333:\tlearn: 0.5375903\ttest: 0.5416587\tbest: 0.5441683 (187)\ttotal: 15.8s\tremaining: 22.1s\n",
      "334:\tlearn: 0.5376166\ttest: 0.5416587\tbest: 0.5441683 (187)\ttotal: 15.9s\tremaining: 22.1s\n",
      "335:\tlearn: 0.5375452\ttest: 0.5416587\tbest: 0.5441683 (187)\ttotal: 16s\tremaining: 22s\n",
      "336:\tlearn: 0.5375452\ttest: 0.5419380\tbest: 0.5441683 (187)\ttotal: 16s\tremaining: 22s\n",
      "337:\tlearn: 0.5375452\ttest: 0.5419380\tbest: 0.5441683 (187)\ttotal: 16s\tremaining: 21.9s\n",
      "338:\tlearn: 0.5375934\ttest: 0.5416587\tbest: 0.5441683 (187)\ttotal: 16.1s\tremaining: 21.9s\n",
      "339:\tlearn: 0.5376796\ttest: 0.5409143\tbest: 0.5441683 (187)\ttotal: 16.1s\tremaining: 21.8s\n",
      "340:\tlearn: 0.5376344\ttest: 0.5409143\tbest: 0.5441683 (187)\ttotal: 16.2s\tremaining: 21.8s\n",
      "341:\tlearn: 0.5376344\ttest: 0.5409143\tbest: 0.5441683 (187)\ttotal: 16.2s\tremaining: 21.7s\n",
      "342:\tlearn: 0.5376796\ttest: 0.5409143\tbest: 0.5441683 (187)\ttotal: 16.3s\tremaining: 21.7s\n",
      "343:\tlearn: 0.5376796\ttest: 0.5409143\tbest: 0.5441683 (187)\ttotal: 16.3s\tremaining: 21.7s\n",
      "344:\tlearn: 0.5377322\ttest: 0.5411222\tbest: 0.5441683 (187)\ttotal: 16.4s\tremaining: 21.6s\n",
      "345:\tlearn: 0.5377322\ttest: 0.5411222\tbest: 0.5441683 (187)\ttotal: 16.4s\tremaining: 21.6s\n",
      "346:\tlearn: 0.5376870\ttest: 0.5411222\tbest: 0.5441683 (187)\ttotal: 16.5s\tremaining: 21.5s\n",
      "347:\tlearn: 0.5378562\ttest: 0.5411222\tbest: 0.5441683 (187)\ttotal: 16.5s\tremaining: 21.5s\n",
      "348:\tlearn: 0.5380180\ttest: 0.5411222\tbest: 0.5441683 (187)\ttotal: 16.6s\tremaining: 21.4s\n",
      "349:\tlearn: 0.5377584\ttest: 0.5411222\tbest: 0.5441683 (187)\ttotal: 16.6s\tremaining: 21.4s\n",
      "350:\tlearn: 0.5378299\ttest: 0.5411222\tbest: 0.5441683 (187)\ttotal: 16.7s\tremaining: 21.4s\n",
      "351:\tlearn: 0.5377584\ttest: 0.5411222\tbest: 0.5441683 (187)\ttotal: 16.8s\tremaining: 21.3s\n",
      "352:\tlearn: 0.5379465\ttest: 0.5411222\tbest: 0.5441683 (187)\ttotal: 16.8s\tremaining: 21.3s\n",
      "353:\tlearn: 0.5380631\ttest: 0.5411222\tbest: 0.5441683 (187)\ttotal: 16.9s\tremaining: 21.2s\n",
      "354:\tlearn: 0.5380706\ttest: 0.5411222\tbest: 0.5441683 (187)\ttotal: 16.9s\tremaining: 21.2s\n",
      "355:\tlearn: 0.5379991\ttest: 0.5411222\tbest: 0.5441683 (187)\ttotal: 17s\tremaining: 21.2s\n",
      "356:\tlearn: 0.5380969\ttest: 0.5411222\tbest: 0.5441683 (187)\ttotal: 17s\tremaining: 21.1s\n",
      "357:\tlearn: 0.5382134\ttest: 0.5411222\tbest: 0.5441683 (187)\ttotal: 17.1s\tremaining: 21.1s\n",
      "358:\tlearn: 0.5381946\ttest: 0.5408418\tbest: 0.5441683 (187)\ttotal: 17.2s\tremaining: 21.1s\n",
      "359:\tlearn: 0.5382586\ttest: 0.5408418\tbest: 0.5441683 (187)\ttotal: 17.2s\tremaining: 21s\n",
      "360:\tlearn: 0.5382586\ttest: 0.5408418\tbest: 0.5441683 (187)\ttotal: 17.2s\tremaining: 21s\n",
      "361:\tlearn: 0.5381346\ttest: 0.5408418\tbest: 0.5441683 (187)\ttotal: 17.3s\tremaining: 20.9s\n",
      "362:\tlearn: 0.5383751\ttest: 0.5406340\tbest: 0.5441683 (187)\ttotal: 17.3s\tremaining: 20.9s\n",
      "363:\tlearn: 0.5383751\ttest: 0.5406340\tbest: 0.5441683 (187)\ttotal: 17.4s\tremaining: 20.8s\n",
      "364:\tlearn: 0.5384014\ttest: 0.5406340\tbest: 0.5441683 (187)\ttotal: 17.4s\tremaining: 20.8s\n",
      "365:\tlearn: 0.5383300\ttest: 0.5406340\tbest: 0.5441683 (187)\ttotal: 17.5s\tremaining: 20.7s\n",
      "366:\tlearn: 0.5383751\ttest: 0.5406340\tbest: 0.5441683 (187)\ttotal: 17.5s\tremaining: 20.7s\n",
      "367:\tlearn: 0.5385893\ttest: 0.5406340\tbest: 0.5441683 (187)\ttotal: 17.6s\tremaining: 20.6s\n",
      "368:\tlearn: 0.5384653\ttest: 0.5406340\tbest: 0.5441683 (187)\ttotal: 17.6s\tremaining: 20.6s\n",
      "369:\tlearn: 0.5385630\ttest: 0.5406340\tbest: 0.5441683 (187)\ttotal: 17.7s\tremaining: 20.6s\n",
      "370:\tlearn: 0.5384916\ttest: 0.5406340\tbest: 0.5441683 (187)\ttotal: 17.7s\tremaining: 20.5s\n",
      "371:\tlearn: 0.5384916\ttest: 0.5406340\tbest: 0.5441683 (187)\ttotal: 17.8s\tremaining: 20.5s\n",
      "372:\tlearn: 0.5386607\ttest: 0.5409143\tbest: 0.5441683 (187)\ttotal: 17.9s\tremaining: 20.4s\n",
      "373:\tlearn: 0.5386607\ttest: 0.5409143\tbest: 0.5441683 (187)\ttotal: 17.9s\tremaining: 20.4s\n",
      "374:\tlearn: 0.5385893\ttest: 0.5409143\tbest: 0.5441683 (187)\ttotal: 18s\tremaining: 20.4s\n",
      "375:\tlearn: 0.5385893\ttest: 0.5409143\tbest: 0.5441683 (187)\ttotal: 18s\tremaining: 20.3s\n",
      "376:\tlearn: 0.5386344\ttest: 0.5409143\tbest: 0.5441683 (187)\ttotal: 18.1s\tremaining: 20.3s\n",
      "377:\tlearn: 0.5387057\ttest: 0.5403536\tbest: 0.5441683 (187)\ttotal: 18.1s\tremaining: 20.2s\n",
      "378:\tlearn: 0.5387057\ttest: 0.5403536\tbest: 0.5441683 (187)\ttotal: 18.2s\tremaining: 20.2s\n",
      "379:\tlearn: 0.5388485\ttest: 0.5406340\tbest: 0.5441683 (187)\ttotal: 18.2s\tremaining: 20.1s\n",
      "380:\tlearn: 0.5388222\ttest: 0.5406340\tbest: 0.5441683 (187)\ttotal: 18.3s\tremaining: 20.1s\n",
      "381:\tlearn: 0.5388222\ttest: 0.5406340\tbest: 0.5441683 (187)\ttotal: 18.3s\tremaining: 20.1s\n",
      "382:\tlearn: 0.5386794\ttest: 0.5406340\tbest: 0.5441683 (187)\ttotal: 18.4s\tremaining: 20s\n",
      "383:\tlearn: 0.5386531\ttest: 0.5406340\tbest: 0.5441683 (187)\ttotal: 18.4s\tremaining: 20s\n",
      "384:\tlearn: 0.5386531\ttest: 0.5407379\tbest: 0.5441683 (187)\ttotal: 18.5s\tremaining: 19.9s\n",
      "385:\tlearn: 0.5385104\ttest: 0.5407379\tbest: 0.5441683 (187)\ttotal: 18.5s\tremaining: 19.9s\n",
      "386:\tlearn: 0.5383939\ttest: 0.5407379\tbest: 0.5441683 (187)\ttotal: 18.6s\tremaining: 19.8s\n",
      "387:\tlearn: 0.5384202\ttest: 0.5407379\tbest: 0.5441683 (187)\ttotal: 18.6s\tremaining: 19.8s\n",
      "388:\tlearn: 0.5384916\ttest: 0.5407379\tbest: 0.5441683 (187)\ttotal: 18.7s\tremaining: 19.7s\n",
      "389:\tlearn: 0.5387584\ttest: 0.5407379\tbest: 0.5441683 (187)\ttotal: 18.7s\tremaining: 19.7s\n",
      "390:\tlearn: 0.5387321\ttest: 0.5406340\tbest: 0.5441683 (187)\ttotal: 18.8s\tremaining: 19.6s\n",
      "391:\tlearn: 0.5389011\ttest: 0.5409143\tbest: 0.5441683 (187)\ttotal: 18.8s\tremaining: 19.6s\n",
      "392:\tlearn: 0.5388297\ttest: 0.5409143\tbest: 0.5441683 (187)\ttotal: 18.9s\tremaining: 19.6s\n",
      "393:\tlearn: 0.5388297\ttest: 0.5409143\tbest: 0.5441683 (187)\ttotal: 18.9s\tremaining: 19.5s\n",
      "394:\tlearn: 0.5388297\ttest: 0.5409143\tbest: 0.5441683 (187)\ttotal: 19s\tremaining: 19.5s\n",
      "395:\tlearn: 0.5388561\ttest: 0.5409143\tbest: 0.5441683 (187)\ttotal: 19.1s\tremaining: 19.4s\n",
      "396:\tlearn: 0.5387133\ttest: 0.5409143\tbest: 0.5441683 (187)\ttotal: 19.1s\tremaining: 19.4s\n",
      "397:\tlearn: 0.5387133\ttest: 0.5409143\tbest: 0.5441683 (187)\ttotal: 19.2s\tremaining: 19.4s\n",
      "398:\tlearn: 0.5388110\ttest: 0.5409143\tbest: 0.5441683 (187)\ttotal: 19.2s\tremaining: 19.3s\n",
      "399:\tlearn: 0.5388373\ttest: 0.5404574\tbest: 0.5441683 (187)\ttotal: 19.3s\tremaining: 19.3s\n",
      "400:\tlearn: 0.5389350\ttest: 0.5405613\tbest: 0.5441683 (187)\ttotal: 19.3s\tremaining: 19.2s\n",
      "401:\tlearn: 0.5388636\ttest: 0.5405613\tbest: 0.5441683 (187)\ttotal: 19.4s\tremaining: 19.2s\n",
      "402:\tlearn: 0.5392951\ttest: 0.5405613\tbest: 0.5441683 (187)\ttotal: 19.4s\tremaining: 19.1s\n",
      "403:\tlearn: 0.5392951\ttest: 0.5405613\tbest: 0.5441683 (187)\ttotal: 19.5s\tremaining: 19.1s\n",
      "404:\tlearn: 0.5393664\ttest: 0.5405613\tbest: 0.5441683 (187)\ttotal: 19.5s\tremaining: 19.1s\n",
      "405:\tlearn: 0.5393664\ttest: 0.5405613\tbest: 0.5441683 (187)\ttotal: 19.6s\tremaining: 19s\n",
      "406:\tlearn: 0.5392238\ttest: 0.5405613\tbest: 0.5441683 (187)\ttotal: 19.6s\tremaining: 19s\n",
      "407:\tlearn: 0.5392951\ttest: 0.5405613\tbest: 0.5441683 (187)\ttotal: 19.7s\tremaining: 18.9s\n",
      "408:\tlearn: 0.5393928\ttest: 0.5405613\tbest: 0.5441683 (187)\ttotal: 19.7s\tremaining: 18.9s\n",
      "409:\tlearn: 0.5393664\ttest: 0.5405613\tbest: 0.5441683 (187)\ttotal: 19.8s\tremaining: 18.8s\n",
      "410:\tlearn: 0.5393664\ttest: 0.5404574\tbest: 0.5441683 (187)\ttotal: 19.9s\tremaining: 18.8s\n",
      "411:\tlearn: 0.5394377\ttest: 0.5407692\tbest: 0.5441683 (187)\ttotal: 19.9s\tremaining: 18.8s\n",
      "412:\tlearn: 0.5395090\ttest: 0.5407692\tbest: 0.5441683 (187)\ttotal: 20s\tremaining: 18.7s\n",
      "413:\tlearn: 0.5395090\ttest: 0.5407692\tbest: 0.5441683 (187)\ttotal: 20s\tremaining: 18.7s\n",
      "414:\tlearn: 0.5395353\ttest: 0.5407692\tbest: 0.5441683 (187)\ttotal: 20.1s\tremaining: 18.6s\n",
      "415:\tlearn: 0.5395353\ttest: 0.5402078\tbest: 0.5441683 (187)\ttotal: 20.2s\tremaining: 18.6s\n",
      "416:\tlearn: 0.5395353\ttest: 0.5402078\tbest: 0.5441683 (187)\ttotal: 20.2s\tremaining: 18.6s\n",
      "417:\tlearn: 0.5393478\ttest: 0.5402078\tbest: 0.5441683 (187)\ttotal: 20.3s\tremaining: 18.5s\n",
      "418:\tlearn: 0.5394454\ttest: 0.5402078\tbest: 0.5441683 (187)\ttotal: 20.3s\tremaining: 18.5s\n",
      "419:\tlearn: 0.5393928\ttest: 0.5402078\tbest: 0.5441683 (187)\ttotal: 20.4s\tremaining: 18.4s\n",
      "420:\tlearn: 0.5394454\ttest: 0.5402078\tbest: 0.5441683 (187)\ttotal: 20.4s\tremaining: 18.4s\n",
      "421:\tlearn: 0.5392501\ttest: 0.5402078\tbest: 0.5441683 (187)\ttotal: 20.5s\tremaining: 18.4s\n",
      "422:\tlearn: 0.5392578\ttest: 0.5402078\tbest: 0.5441683 (187)\ttotal: 20.6s\tremaining: 18.3s\n",
      "423:\tlearn: 0.5392052\ttest: 0.5405613\tbest: 0.5441683 (187)\ttotal: 20.6s\tremaining: 18.3s\n",
      "424:\tlearn: 0.5392052\ttest: 0.5405613\tbest: 0.5441683 (187)\ttotal: 20.7s\tremaining: 18.2s\n",
      "425:\tlearn: 0.5392315\ttest: 0.5405613\tbest: 0.5441683 (187)\ttotal: 20.7s\tremaining: 18.2s\n",
      "426:\tlearn: 0.5393478\ttest: 0.5406653\tbest: 0.5441683 (187)\ttotal: 20.8s\tremaining: 18.1s\n",
      "427:\tlearn: 0.5397306\ttest: 0.5406653\tbest: 0.5441683 (187)\ttotal: 20.8s\tremaining: 18.1s\n",
      "428:\tlearn: 0.5397306\ttest: 0.5406653\tbest: 0.5441683 (187)\ttotal: 20.9s\tremaining: 18s\n",
      "429:\tlearn: 0.5397306\ttest: 0.5408732\tbest: 0.5441683 (187)\ttotal: 20.9s\tremaining: 18s\n",
      "430:\tlearn: 0.5397569\ttest: 0.5408732\tbest: 0.5441683 (187)\ttotal: 21s\tremaining: 17.9s\n",
      "431:\tlearn: 0.5398545\ttest: 0.5408732\tbest: 0.5441683 (187)\ttotal: 21s\tremaining: 17.9s\n",
      "432:\tlearn: 0.5397833\ttest: 0.5408732\tbest: 0.5441683 (187)\ttotal: 21.1s\tremaining: 17.9s\n",
      "433:\tlearn: 0.5396825\ttest: 0.5407692\tbest: 0.5441683 (187)\ttotal: 21.1s\tremaining: 17.8s\n",
      "434:\tlearn: 0.5397539\ttest: 0.5408732\tbest: 0.5441683 (187)\ttotal: 21.2s\tremaining: 17.8s\n",
      "435:\tlearn: 0.5402372\ttest: 0.5408732\tbest: 0.5441683 (187)\ttotal: 21.2s\tremaining: 17.7s\n",
      "436:\tlearn: 0.5402108\ttest: 0.5408732\tbest: 0.5441683 (187)\ttotal: 21.3s\tremaining: 17.7s\n",
      "437:\tlearn: 0.5402108\ttest: 0.5408732\tbest: 0.5441683 (187)\ttotal: 21.3s\tremaining: 17.6s\n",
      "438:\tlearn: 0.5398965\ttest: 0.5408732\tbest: 0.5441683 (187)\ttotal: 21.4s\tremaining: 17.6s\n",
      "439:\tlearn: 0.5401659\ttest: 0.5408732\tbest: 0.5441683 (187)\ttotal: 21.4s\tremaining: 17.5s\n",
      "440:\tlearn: 0.5401738\ttest: 0.5408732\tbest: 0.5441683 (187)\ttotal: 21.5s\tremaining: 17.5s\n",
      "441:\tlearn: 0.5398857\ttest: 0.5408732\tbest: 0.5441683 (187)\ttotal: 21.5s\tremaining: 17.4s\n",
      "442:\tlearn: 0.5402265\ttest: 0.5404157\tbest: 0.5441683 (187)\ttotal: 21.6s\tremaining: 17.4s\n",
      "443:\tlearn: 0.5403163\ttest: 0.5404157\tbest: 0.5441683 (187)\ttotal: 21.6s\tremaining: 17.4s\n",
      "444:\tlearn: 0.5403163\ttest: 0.5404157\tbest: 0.5441683 (187)\ttotal: 21.7s\tremaining: 17.3s\n",
      "445:\tlearn: 0.5402978\ttest: 0.5404157\tbest: 0.5441683 (187)\ttotal: 21.8s\tremaining: 17.3s\n",
      "446:\tlearn: 0.5402978\ttest: 0.5404157\tbest: 0.5441683 (187)\ttotal: 21.8s\tremaining: 17.2s\n",
      "447:\tlearn: 0.5401260\ttest: 0.5404157\tbest: 0.5441683 (187)\ttotal: 21.9s\tremaining: 17.2s\n",
      "448:\tlearn: 0.5401973\ttest: 0.5404157\tbest: 0.5441683 (187)\ttotal: 21.9s\tremaining: 17.1s\n",
      "449:\tlearn: 0.5400547\ttest: 0.5404157\tbest: 0.5441683 (187)\ttotal: 22s\tremaining: 17.1s\n",
      "450:\tlearn: 0.5400283\ttest: 0.5408732\tbest: 0.5441683 (187)\ttotal: 22s\tremaining: 17.1s\n",
      "451:\tlearn: 0.5400733\ttest: 0.5408732\tbest: 0.5441683 (187)\ttotal: 22.1s\tremaining: 17s\n",
      "452:\tlearn: 0.5400469\ttest: 0.5408732\tbest: 0.5441683 (187)\ttotal: 22.1s\tremaining: 17s\n",
      "453:\tlearn: 0.5401182\ttest: 0.5405925\tbest: 0.5441683 (187)\ttotal: 22.2s\tremaining: 16.9s\n",
      "454:\tlearn: 0.5401895\ttest: 0.5405925\tbest: 0.5441683 (187)\ttotal: 22.2s\tremaining: 16.9s\n",
      "455:\tlearn: 0.5401895\ttest: 0.5405925\tbest: 0.5441683 (187)\ttotal: 22.3s\tremaining: 16.8s\n",
      "456:\tlearn: 0.5402608\ttest: 0.5405925\tbest: 0.5441683 (187)\ttotal: 22.4s\tremaining: 16.8s\n",
      "457:\tlearn: 0.5404033\ttest: 0.5405925\tbest: 0.5441683 (187)\ttotal: 22.4s\tremaining: 16.7s\n",
      "458:\tlearn: 0.5403848\ttest: 0.5405925\tbest: 0.5441683 (187)\ttotal: 22.5s\tremaining: 16.7s\n",
      "459:\tlearn: 0.5405089\ttest: 0.5406966\tbest: 0.5441683 (187)\ttotal: 22.5s\tremaining: 16.6s\n",
      "460:\tlearn: 0.5405801\ttest: 0.5406966\tbest: 0.5441683 (187)\ttotal: 22.6s\tremaining: 16.6s\n",
      "461:\tlearn: 0.5405617\ttest: 0.5402387\tbest: 0.5441683 (187)\ttotal: 22.6s\tremaining: 16.5s\n",
      "462:\tlearn: 0.5407042\ttest: 0.5402387\tbest: 0.5441683 (187)\ttotal: 22.7s\tremaining: 16.5s\n",
      "463:\tlearn: 0.5407042\ttest: 0.5402387\tbest: 0.5441683 (187)\ttotal: 22.7s\tremaining: 16.5s\n",
      "464:\tlearn: 0.5407042\ttest: 0.5402387\tbest: 0.5441683 (187)\ttotal: 22.8s\tremaining: 16.4s\n",
      "465:\tlearn: 0.5407042\ttest: 0.5402387\tbest: 0.5441683 (187)\ttotal: 22.8s\tremaining: 16.4s\n",
      "466:\tlearn: 0.5406065\ttest: 0.5405197\tbest: 0.5441683 (187)\ttotal: 22.9s\tremaining: 16.3s\n",
      "467:\tlearn: 0.5406778\ttest: 0.5405197\tbest: 0.5441683 (187)\ttotal: 23s\tremaining: 16.3s\n",
      "468:\tlearn: 0.5407042\ttest: 0.5405197\tbest: 0.5441683 (187)\ttotal: 23s\tremaining: 16.3s\n",
      "469:\tlearn: 0.5407042\ttest: 0.5405197\tbest: 0.5441683 (187)\ttotal: 23.1s\tremaining: 16.2s\n",
      "470:\tlearn: 0.5407042\ttest: 0.5405197\tbest: 0.5441683 (187)\ttotal: 23.1s\tremaining: 16.2s\n",
      "471:\tlearn: 0.5407306\ttest: 0.5405197\tbest: 0.5441683 (187)\ttotal: 23.2s\tremaining: 16.1s\n",
      "472:\tlearn: 0.5407570\ttest: 0.5405197\tbest: 0.5441683 (187)\ttotal: 23.2s\tremaining: 16.1s\n",
      "473:\tlearn: 0.5407570\ttest: 0.5405197\tbest: 0.5441683 (187)\ttotal: 23.3s\tremaining: 16s\n",
      "474:\tlearn: 0.5407755\ttest: 0.5405197\tbest: 0.5441683 (187)\ttotal: 23.3s\tremaining: 16s\n",
      "475:\tlearn: 0.5407834\ttest: 0.5405197\tbest: 0.5441683 (187)\ttotal: 23.4s\tremaining: 15.9s\n",
      "476:\tlearn: 0.5407834\ttest: 0.5405197\tbest: 0.5441683 (187)\ttotal: 23.4s\tremaining: 15.9s\n",
      "477:\tlearn: 0.5407834\ttest: 0.5405197\tbest: 0.5441683 (187)\ttotal: 23.5s\tremaining: 15.8s\n",
      "478:\tlearn: 0.5407650\ttest: 0.5405197\tbest: 0.5441683 (187)\ttotal: 23.5s\tremaining: 15.8s\n",
      "479:\tlearn: 0.5407914\ttest: 0.5405197\tbest: 0.5441683 (187)\ttotal: 23.6s\tremaining: 15.7s\n",
      "480:\tlearn: 0.5407914\ttest: 0.5405197\tbest: 0.5441683 (187)\ttotal: 23.7s\tremaining: 15.7s\n",
      "481:\tlearn: 0.5407730\ttest: 0.5405197\tbest: 0.5441683 (187)\ttotal: 23.7s\tremaining: 15.6s\n",
      "482:\tlearn: 0.5407465\ttest: 0.5405197\tbest: 0.5441683 (187)\ttotal: 23.8s\tremaining: 15.6s\n",
      "483:\tlearn: 0.5407465\ttest: 0.5405197\tbest: 0.5441683 (187)\ttotal: 23.8s\tremaining: 15.5s\n",
      "484:\tlearn: 0.5407465\ttest: 0.5405197\tbest: 0.5441683 (187)\ttotal: 23.9s\tremaining: 15.5s\n",
      "485:\tlearn: 0.5407914\ttest: 0.5405197\tbest: 0.5441683 (187)\ttotal: 23.9s\tremaining: 15.4s\n",
      "486:\tlearn: 0.5408627\ttest: 0.5404157\tbest: 0.5441683 (187)\ttotal: 24s\tremaining: 15.4s\n",
      "487:\tlearn: 0.5409604\ttest: 0.5404157\tbest: 0.5441683 (187)\ttotal: 24s\tremaining: 15.4s\n",
      "488:\tlearn: 0.5409340\ttest: 0.5404157\tbest: 0.5441683 (187)\ttotal: 24.1s\tremaining: 15.3s\n",
      "489:\tlearn: 0.5409604\ttest: 0.5404157\tbest: 0.5441683 (187)\ttotal: 24.1s\tremaining: 15.3s\n",
      "490:\tlearn: 0.5408627\ttest: 0.5406966\tbest: 0.5441683 (187)\ttotal: 24.2s\tremaining: 15.2s\n",
      "491:\tlearn: 0.5407914\ttest: 0.5406966\tbest: 0.5441683 (187)\ttotal: 24.3s\tremaining: 15.2s\n",
      "492:\tlearn: 0.5408178\ttest: 0.5406966\tbest: 0.5441683 (187)\ttotal: 24.3s\tremaining: 15.1s\n",
      "493:\tlearn: 0.5409155\ttest: 0.5404157\tbest: 0.5441683 (187)\ttotal: 24.4s\tremaining: 15.1s\n",
      "494:\tlearn: 0.5408707\ttest: 0.5404157\tbest: 0.5441683 (187)\ttotal: 24.4s\tremaining: 15s\n",
      "495:\tlearn: 0.5408178\ttest: 0.5404157\tbest: 0.5441683 (187)\ttotal: 24.5s\tremaining: 15s\n",
      "496:\tlearn: 0.5409604\ttest: 0.5404157\tbest: 0.5441683 (187)\ttotal: 24.5s\tremaining: 14.9s\n",
      "497:\tlearn: 0.5409340\ttest: 0.5404157\tbest: 0.5441683 (187)\ttotal: 24.6s\tremaining: 14.9s\n",
      "498:\tlearn: 0.5408363\ttest: 0.5404157\tbest: 0.5441683 (187)\ttotal: 24.6s\tremaining: 14.8s\n",
      "499:\tlearn: 0.5409788\ttest: 0.5404157\tbest: 0.5441683 (187)\ttotal: 24.7s\tremaining: 14.8s\n",
      "500:\tlearn: 0.5410949\ttest: 0.5403117\tbest: 0.5441683 (187)\ttotal: 24.7s\tremaining: 14.8s\n",
      "501:\tlearn: 0.5410949\ttest: 0.5403117\tbest: 0.5441683 (187)\ttotal: 24.8s\tremaining: 14.7s\n",
      "502:\tlearn: 0.5410949\ttest: 0.5403117\tbest: 0.5441683 (187)\ttotal: 24.8s\tremaining: 14.7s\n",
      "503:\tlearn: 0.5411926\ttest: 0.5403117\tbest: 0.5441683 (187)\ttotal: 24.9s\tremaining: 14.6s\n",
      "504:\tlearn: 0.5412638\ttest: 0.5403117\tbest: 0.5441683 (187)\ttotal: 24.9s\tremaining: 14.6s\n",
      "505:\tlearn: 0.5412638\ttest: 0.5403117\tbest: 0.5441683 (187)\ttotal: 25s\tremaining: 14.5s\n",
      "506:\tlearn: 0.5412374\ttest: 0.5403117\tbest: 0.5441683 (187)\ttotal: 25s\tremaining: 14.5s\n",
      "507:\tlearn: 0.5413798\ttest: 0.5403117\tbest: 0.5441683 (187)\ttotal: 25.1s\tremaining: 14.4s\n",
      "508:\tlearn: 0.5413534\ttest: 0.5403117\tbest: 0.5441683 (187)\ttotal: 25.2s\tremaining: 14.4s\n",
      "509:\tlearn: 0.5413534\ttest: 0.5403117\tbest: 0.5441683 (187)\ttotal: 25.2s\tremaining: 14.3s\n",
      "510:\tlearn: 0.5413270\ttest: 0.5403117\tbest: 0.5441683 (187)\ttotal: 25.3s\tremaining: 14.3s\n",
      "511:\tlearn: 0.5414246\ttest: 0.5403117\tbest: 0.5441683 (187)\ttotal: 25.3s\tremaining: 14.3s\n",
      "512:\tlearn: 0.5412293\ttest: 0.5403117\tbest: 0.5441683 (187)\ttotal: 25.4s\tremaining: 14.2s\n",
      "513:\tlearn: 0.5412293\ttest: 0.5403117\tbest: 0.5441683 (187)\ttotal: 25.4s\tremaining: 14.2s\n",
      "514:\tlearn: 0.5412293\ttest: 0.5403117\tbest: 0.5441683 (187)\ttotal: 25.5s\tremaining: 14.1s\n",
      "515:\tlearn: 0.5412822\ttest: 0.5403117\tbest: 0.5441683 (187)\ttotal: 25.5s\tremaining: 14.1s\n",
      "516:\tlearn: 0.5412374\ttest: 0.5403117\tbest: 0.5441683 (187)\ttotal: 25.6s\tremaining: 14s\n",
      "517:\tlearn: 0.5413167\ttest: 0.5403117\tbest: 0.5441683 (187)\ttotal: 25.7s\tremaining: 14s\n",
      "518:\tlearn: 0.5414408\ttest: 0.5403117\tbest: 0.5441683 (187)\ttotal: 25.7s\tremaining: 13.9s\n",
      "519:\tlearn: 0.5414408\ttest: 0.5403117\tbest: 0.5441683 (187)\ttotal: 25.8s\tremaining: 13.9s\n",
      "520:\tlearn: 0.5414856\ttest: 0.5403117\tbest: 0.5441683 (187)\ttotal: 25.8s\tremaining: 13.8s\n",
      "521:\tlearn: 0.5414856\ttest: 0.5403117\tbest: 0.5441683 (187)\ttotal: 25.9s\tremaining: 13.8s\n",
      "522:\tlearn: 0.5414856\ttest: 0.5403117\tbest: 0.5441683 (187)\ttotal: 25.9s\tremaining: 13.7s\n",
      "523:\tlearn: 0.5414143\ttest: 0.5403117\tbest: 0.5441683 (187)\ttotal: 26s\tremaining: 13.7s\n",
      "524:\tlearn: 0.5414856\ttest: 0.5403117\tbest: 0.5441683 (187)\ttotal: 26s\tremaining: 13.6s\n",
      "525:\tlearn: 0.5414143\ttest: 0.5403117\tbest: 0.5441683 (187)\ttotal: 26.1s\tremaining: 13.6s\n",
      "526:\tlearn: 0.5414672\ttest: 0.5403117\tbest: 0.5441683 (187)\ttotal: 26.1s\tremaining: 13.5s\n",
      "527:\tlearn: 0.5414672\ttest: 0.5403117\tbest: 0.5441683 (187)\ttotal: 26.2s\tremaining: 13.5s\n",
      "528:\tlearn: 0.5417786\ttest: 0.5402078\tbest: 0.5441683 (187)\ttotal: 26.3s\tremaining: 13.5s\n",
      "529:\tlearn: 0.5420369\ttest: 0.5402078\tbest: 0.5441683 (187)\ttotal: 26.3s\tremaining: 13.4s\n",
      "530:\tlearn: 0.5418498\ttest: 0.5403117\tbest: 0.5441683 (187)\ttotal: 26.4s\tremaining: 13.4s\n",
      "531:\tlearn: 0.5418498\ttest: 0.5403117\tbest: 0.5441683 (187)\ttotal: 26.4s\tremaining: 13.3s\n",
      "532:\tlearn: 0.5419210\ttest: 0.5403117\tbest: 0.5441683 (187)\ttotal: 26.5s\tremaining: 13.3s\n",
      "533:\tlearn: 0.5417766\ttest: 0.5403117\tbest: 0.5441683 (187)\ttotal: 26.5s\tremaining: 13.2s\n",
      "534:\tlearn: 0.5418031\ttest: 0.5403117\tbest: 0.5441683 (187)\ttotal: 26.6s\tremaining: 13.2s\n",
      "535:\tlearn: 0.5417054\ttest: 0.5403117\tbest: 0.5441683 (187)\ttotal: 26.6s\tremaining: 13.1s\n",
      "536:\tlearn: 0.5416606\ttest: 0.5403117\tbest: 0.5441683 (187)\ttotal: 26.7s\tremaining: 13.1s\n",
      "537:\tlearn: 0.5419027\ttest: 0.5402078\tbest: 0.5441683 (187)\ttotal: 26.7s\tremaining: 13s\n",
      "538:\tlearn: 0.5419739\ttest: 0.5403117\tbest: 0.5441683 (187)\ttotal: 26.8s\tremaining: 13s\n",
      "539:\tlearn: 0.5419739\ttest: 0.5403117\tbest: 0.5441683 (187)\ttotal: 26.8s\tremaining: 12.9s\n",
      "540:\tlearn: 0.5418580\ttest: 0.5403117\tbest: 0.5441683 (187)\ttotal: 26.9s\tremaining: 12.9s\n",
      "541:\tlearn: 0.5418580\ttest: 0.5403117\tbest: 0.5441683 (187)\ttotal: 26.9s\tremaining: 12.8s\n",
      "542:\tlearn: 0.5418315\ttest: 0.5406238\tbest: 0.5441683 (187)\ttotal: 27s\tremaining: 12.8s\n",
      "543:\tlearn: 0.5419739\ttest: 0.5406238\tbest: 0.5441683 (187)\ttotal: 27s\tremaining: 12.7s\n",
      "544:\tlearn: 0.5419475\ttest: 0.5406238\tbest: 0.5441683 (187)\ttotal: 27.1s\tremaining: 12.7s\n",
      "545:\tlearn: 0.5419475\ttest: 0.5406238\tbest: 0.5441683 (187)\ttotal: 27.2s\tremaining: 12.6s\n",
      "546:\tlearn: 0.5419739\ttest: 0.5406238\tbest: 0.5441683 (187)\ttotal: 27.2s\tremaining: 12.6s\n",
      "547:\tlearn: 0.5419739\ttest: 0.5406238\tbest: 0.5441683 (187)\ttotal: 27.3s\tremaining: 12.5s\n",
      "548:\tlearn: 0.5418945\ttest: 0.5406238\tbest: 0.5441683 (187)\ttotal: 27.3s\tremaining: 12.5s\n",
      "549:\tlearn: 0.5418945\ttest: 0.5406238\tbest: 0.5441683 (187)\ttotal: 27.4s\tremaining: 12.4s\n",
      "550:\tlearn: 0.5420451\ttest: 0.5406238\tbest: 0.5441683 (187)\ttotal: 27.4s\tremaining: 12.4s\n",
      "551:\tlearn: 0.5420451\ttest: 0.5406238\tbest: 0.5441683 (187)\ttotal: 27.5s\tremaining: 12.3s\n",
      "552:\tlearn: 0.5419027\ttest: 0.5406238\tbest: 0.5441683 (187)\ttotal: 27.5s\tremaining: 12.3s\n",
      "553:\tlearn: 0.5419739\ttest: 0.5406238\tbest: 0.5441683 (187)\ttotal: 27.6s\tremaining: 12.2s\n",
      "554:\tlearn: 0.5420716\ttest: 0.5407279\tbest: 0.5441683 (187)\ttotal: 27.6s\tremaining: 12.2s\n",
      "555:\tlearn: 0.5420716\ttest: 0.5407279\tbest: 0.5441683 (187)\ttotal: 27.7s\tremaining: 12.1s\n",
      "556:\tlearn: 0.5420716\ttest: 0.5407279\tbest: 0.5441683 (187)\ttotal: 27.7s\tremaining: 12.1s\n",
      "557:\tlearn: 0.5420269\ttest: 0.5407279\tbest: 0.5441683 (187)\ttotal: 27.7s\tremaining: 12s\n",
      "558:\tlearn: 0.5420981\ttest: 0.5407279\tbest: 0.5441683 (187)\ttotal: 27.8s\tremaining: 12s\n",
      "559:\tlearn: 0.5423464\ttest: 0.5407279\tbest: 0.5441683 (187)\ttotal: 27.9s\tremaining: 11.9s\n",
      "560:\tlearn: 0.5423729\ttest: 0.5406238\tbest: 0.5441683 (187)\ttotal: 27.9s\tremaining: 11.9s\n",
      "561:\tlearn: 0.5423464\ttest: 0.5406238\tbest: 0.5441683 (187)\ttotal: 28s\tremaining: 11.8s\n",
      "562:\tlearn: 0.5423729\ttest: 0.5406238\tbest: 0.5441683 (187)\ttotal: 28s\tremaining: 11.8s\n",
      "563:\tlearn: 0.5425418\ttest: 0.5407279\tbest: 0.5441683 (187)\ttotal: 28.1s\tremaining: 11.7s\n",
      "564:\tlearn: 0.5425683\ttest: 0.5407279\tbest: 0.5441683 (187)\ttotal: 28.1s\tremaining: 11.7s\n",
      "565:\tlearn: 0.5425683\ttest: 0.5407279\tbest: 0.5441683 (187)\ttotal: 28.2s\tremaining: 11.6s\n",
      "566:\tlearn: 0.5426394\ttest: 0.5407279\tbest: 0.5441683 (187)\ttotal: 28.2s\tremaining: 11.6s\n",
      "567:\tlearn: 0.5426129\ttest: 0.5407279\tbest: 0.5441683 (187)\ttotal: 28.3s\tremaining: 11.5s\n",
      "568:\tlearn: 0.5426129\ttest: 0.5407279\tbest: 0.5441683 (187)\ttotal: 28.3s\tremaining: 11.5s\n",
      "569:\tlearn: 0.5425864\ttest: 0.5407279\tbest: 0.5441683 (187)\ttotal: 28.4s\tremaining: 11.4s\n",
      "570:\tlearn: 0.5425864\ttest: 0.5407279\tbest: 0.5441683 (187)\ttotal: 28.4s\tremaining: 11.4s\n",
      "571:\tlearn: 0.5425864\ttest: 0.5407279\tbest: 0.5441683 (187)\ttotal: 28.5s\tremaining: 11.3s\n",
      "572:\tlearn: 0.5426576\ttest: 0.5407279\tbest: 0.5441683 (187)\ttotal: 28.5s\tremaining: 11.3s\n",
      "573:\tlearn: 0.5426576\ttest: 0.5407279\tbest: 0.5441683 (187)\ttotal: 28.6s\tremaining: 11.2s\n",
      "574:\tlearn: 0.5426046\ttest: 0.5407279\tbest: 0.5441683 (187)\ttotal: 28.6s\tremaining: 11.2s\n",
      "575:\tlearn: 0.5426046\ttest: 0.5407279\tbest: 0.5441683 (187)\ttotal: 28.7s\tremaining: 11.1s\n",
      "576:\tlearn: 0.5426758\ttest: 0.5407279\tbest: 0.5441683 (187)\ttotal: 28.7s\tremaining: 11.1s\n",
      "577:\tlearn: 0.5426758\ttest: 0.5407279\tbest: 0.5441683 (187)\ttotal: 28.8s\tremaining: 11s\n",
      "578:\tlearn: 0.5427204\ttest: 0.5407279\tbest: 0.5441683 (187)\ttotal: 28.8s\tremaining: 11s\n",
      "579:\tlearn: 0.5427469\ttest: 0.5407279\tbest: 0.5441683 (187)\ttotal: 28.9s\tremaining: 10.9s\n",
      "580:\tlearn: 0.5427469\ttest: 0.5407279\tbest: 0.5441683 (187)\ttotal: 28.9s\tremaining: 10.9s\n",
      "581:\tlearn: 0.5427734\ttest: 0.5407279\tbest: 0.5441683 (187)\ttotal: 28.9s\tremaining: 10.8s\n",
      "582:\tlearn: 0.5428446\ttest: 0.5407279\tbest: 0.5441683 (187)\ttotal: 29s\tremaining: 10.8s\n",
      "583:\tlearn: 0.5428446\ttest: 0.5407279\tbest: 0.5441683 (187)\ttotal: 29s\tremaining: 10.7s\n",
      "584:\tlearn: 0.5427734\ttest: 0.5410089\tbest: 0.5441683 (187)\ttotal: 29.1s\tremaining: 10.7s\n",
      "585:\tlearn: 0.5428446\ttest: 0.5410089\tbest: 0.5441683 (187)\ttotal: 29.1s\tremaining: 10.6s\n",
      "586:\tlearn: 0.5426493\ttest: 0.5410089\tbest: 0.5441683 (187)\ttotal: 29.2s\tremaining: 10.6s\n",
      "587:\tlearn: 0.5426758\ttest: 0.5410089\tbest: 0.5441683 (187)\ttotal: 29.2s\tremaining: 10.5s\n",
      "588:\tlearn: 0.5426493\ttest: 0.5410089\tbest: 0.5441683 (187)\ttotal: 29.3s\tremaining: 10.5s\n",
      "589:\tlearn: 0.5425781\ttest: 0.5410089\tbest: 0.5441683 (187)\ttotal: 29.3s\tremaining: 10.4s\n",
      "590:\tlearn: 0.5427204\ttest: 0.5410089\tbest: 0.5441683 (187)\ttotal: 29.4s\tremaining: 10.4s\n",
      "591:\tlearn: 0.5427023\ttest: 0.5410089\tbest: 0.5441683 (187)\ttotal: 29.4s\tremaining: 10.3s\n",
      "592:\tlearn: 0.5427734\ttest: 0.5410089\tbest: 0.5441683 (187)\ttotal: 29.5s\tremaining: 10.3s\n",
      "593:\tlearn: 0.5428711\ttest: 0.5410089\tbest: 0.5441683 (187)\ttotal: 29.5s\tremaining: 10.2s\n",
      "594:\tlearn: 0.5427023\ttest: 0.5410089\tbest: 0.5441683 (187)\ttotal: 29.6s\tremaining: 10.2s\n",
      "595:\tlearn: 0.5427023\ttest: 0.5410089\tbest: 0.5441683 (187)\ttotal: 29.6s\tremaining: 10.1s\n",
      "596:\tlearn: 0.5427734\ttest: 0.5410089\tbest: 0.5441683 (187)\ttotal: 29.7s\tremaining: 10.1s\n",
      "597:\tlearn: 0.5429422\ttest: 0.5410089\tbest: 0.5441683 (187)\ttotal: 29.8s\tremaining: 10.1s\n",
      "598:\tlearn: 0.5431556\ttest: 0.5410089\tbest: 0.5441683 (187)\ttotal: 29.8s\tremaining: 10s\n",
      "599:\tlearn: 0.5431556\ttest: 0.5410089\tbest: 0.5441683 (187)\ttotal: 29.9s\tremaining: 9.96s\n",
      "600:\tlearn: 0.5432002\ttest: 0.5410089\tbest: 0.5441683 (187)\ttotal: 29.9s\tremaining: 9.91s\n",
      "601:\tlearn: 0.5432002\ttest: 0.5410089\tbest: 0.5441683 (187)\ttotal: 30s\tremaining: 9.86s\n",
      "602:\tlearn: 0.5432268\ttest: 0.5410089\tbest: 0.5441683 (187)\ttotal: 30s\tremaining: 9.81s\n",
      "603:\tlearn: 0.5431556\ttest: 0.5410089\tbest: 0.5441683 (187)\ttotal: 30.1s\tremaining: 9.76s\n",
      "604:\tlearn: 0.5430315\ttest: 0.5410089\tbest: 0.5441683 (187)\ttotal: 30.1s\tremaining: 9.71s\n",
      "605:\tlearn: 0.5430315\ttest: 0.5410089\tbest: 0.5441683 (187)\ttotal: 30.2s\tremaining: 9.66s\n",
      "606:\tlearn: 0.5431822\ttest: 0.5410089\tbest: 0.5441683 (187)\ttotal: 30.2s\tremaining: 9.61s\n",
      "607:\tlearn: 0.5431822\ttest: 0.5410089\tbest: 0.5441683 (187)\ttotal: 30.3s\tremaining: 9.56s\n",
      "608:\tlearn: 0.5431556\ttest: 0.5410089\tbest: 0.5441683 (187)\ttotal: 30.3s\tremaining: 9.52s\n",
      "609:\tlearn: 0.5431291\ttest: 0.5410089\tbest: 0.5441683 (187)\ttotal: 30.4s\tremaining: 9.47s\n",
      "610:\tlearn: 0.5431026\ttest: 0.5410089\tbest: 0.5441683 (187)\ttotal: 30.4s\tremaining: 9.42s\n",
      "611:\tlearn: 0.5430580\ttest: 0.5410089\tbest: 0.5441683 (187)\ttotal: 30.5s\tremaining: 9.37s\n",
      "612:\tlearn: 0.5431556\ttest: 0.5410089\tbest: 0.5441683 (187)\ttotal: 30.5s\tremaining: 9.32s\n",
      "613:\tlearn: 0.5432979\ttest: 0.5410089\tbest: 0.5441683 (187)\ttotal: 30.6s\tremaining: 9.27s\n",
      "614:\tlearn: 0.5432979\ttest: 0.5410089\tbest: 0.5441683 (187)\ttotal: 30.7s\tremaining: 9.22s\n",
      "615:\tlearn: 0.5432713\ttest: 0.5410089\tbest: 0.5441683 (187)\ttotal: 30.7s\tremaining: 9.18s\n",
      "616:\tlearn: 0.5432268\ttest: 0.5412173\tbest: 0.5441683 (187)\ttotal: 30.8s\tremaining: 9.13s\n",
      "617:\tlearn: 0.5432002\ttest: 0.5412173\tbest: 0.5441683 (187)\ttotal: 30.8s\tremaining: 9.08s\n",
      "618:\tlearn: 0.5434931\ttest: 0.5412173\tbest: 0.5441683 (187)\ttotal: 30.9s\tremaining: 9.03s\n",
      "619:\tlearn: 0.5434931\ttest: 0.5412173\tbest: 0.5441683 (187)\ttotal: 30.9s\tremaining: 8.98s\n",
      "620:\tlearn: 0.5434931\ttest: 0.5412173\tbest: 0.5441683 (187)\ttotal: 31s\tremaining: 8.93s\n",
      "621:\tlearn: 0.5434931\ttest: 0.5412173\tbest: 0.5441683 (187)\ttotal: 31s\tremaining: 8.88s\n",
      "622:\tlearn: 0.5434931\ttest: 0.5412173\tbest: 0.5441683 (187)\ttotal: 31.1s\tremaining: 8.83s\n",
      "623:\tlearn: 0.5436088\ttest: 0.5412173\tbest: 0.5441683 (187)\ttotal: 31.2s\tremaining: 8.79s\n",
      "624:\tlearn: 0.5435377\ttest: 0.5412173\tbest: 0.5441683 (187)\ttotal: 31.2s\tremaining: 8.74s\n",
      "625:\tlearn: 0.5434666\ttest: 0.5412173\tbest: 0.5441683 (187)\ttotal: 31.3s\tremaining: 8.69s\n",
      "626:\tlearn: 0.5435377\ttest: 0.5412173\tbest: 0.5441683 (187)\ttotal: 31.3s\tremaining: 8.65s\n",
      "627:\tlearn: 0.5435377\ttest: 0.5412173\tbest: 0.5441683 (187)\ttotal: 31.4s\tremaining: 8.6s\n",
      "628:\tlearn: 0.5435377\ttest: 0.5412173\tbest: 0.5441683 (187)\ttotal: 31.4s\tremaining: 8.55s\n",
      "629:\tlearn: 0.5436088\ttest: 0.5415385\tbest: 0.5441683 (187)\ttotal: 31.5s\tremaining: 8.5s\n",
      "630:\tlearn: 0.5436088\ttest: 0.5415385\tbest: 0.5441683 (187)\ttotal: 31.5s\tremaining: 8.45s\n",
      "631:\tlearn: 0.5435822\ttest: 0.5415385\tbest: 0.5441683 (187)\ttotal: 31.6s\tremaining: 8.4s\n",
      "632:\tlearn: 0.5435822\ttest: 0.5415385\tbest: 0.5441683 (187)\ttotal: 31.6s\tremaining: 8.35s\n",
      "633:\tlearn: 0.5435822\ttest: 0.5415385\tbest: 0.5441683 (187)\ttotal: 31.7s\tremaining: 8.3s\n",
      "634:\tlearn: 0.5436353\ttest: 0.5418511\tbest: 0.5441683 (187)\ttotal: 31.7s\tremaining: 8.25s\n",
      "635:\tlearn: 0.5438485\ttest: 0.5418511\tbest: 0.5441683 (187)\ttotal: 31.8s\tremaining: 8.2s\n",
      "636:\tlearn: 0.5439196\ttest: 0.5418511\tbest: 0.5441683 (187)\ttotal: 31.9s\tremaining: 8.15s\n",
      "637:\tlearn: 0.5439196\ttest: 0.5418511\tbest: 0.5441683 (187)\ttotal: 31.9s\tremaining: 8.1s\n",
      "638:\tlearn: 0.5438751\ttest: 0.5418511\tbest: 0.5441683 (187)\ttotal: 31.9s\tremaining: 8.05s\n",
      "639:\tlearn: 0.5438751\ttest: 0.5418511\tbest: 0.5441683 (187)\ttotal: 32s\tremaining: 8s\n",
      "640:\tlearn: 0.5438485\ttest: 0.5418511\tbest: 0.5441683 (187)\ttotal: 32s\tremaining: 7.95s\n",
      "641:\tlearn: 0.5438751\ttest: 0.5418511\tbest: 0.5441683 (187)\ttotal: 32.1s\tremaining: 7.9s\n",
      "642:\tlearn: 0.5438751\ttest: 0.5418511\tbest: 0.5441683 (187)\ttotal: 32.2s\tremaining: 7.85s\n",
      "643:\tlearn: 0.5438040\ttest: 0.5418511\tbest: 0.5441683 (187)\ttotal: 32.2s\tremaining: 7.8s\n",
      "644:\tlearn: 0.5438040\ttest: 0.5418511\tbest: 0.5441683 (187)\ttotal: 32.3s\tremaining: 7.75s\n",
      "645:\tlearn: 0.5438040\ttest: 0.5418511\tbest: 0.5441683 (187)\ttotal: 32.3s\tremaining: 7.71s\n",
      "646:\tlearn: 0.5439461\ttest: 0.5418511\tbest: 0.5441683 (187)\ttotal: 32.4s\tremaining: 7.66s\n",
      "647:\tlearn: 0.5439196\ttest: 0.5418511\tbest: 0.5441683 (187)\ttotal: 32.4s\tremaining: 7.61s\n",
      "648:\tlearn: 0.5439461\ttest: 0.5418511\tbest: 0.5441683 (187)\ttotal: 32.5s\tremaining: 7.56s\n",
      "649:\tlearn: 0.5440172\ttest: 0.5418511\tbest: 0.5441683 (187)\ttotal: 32.5s\tremaining: 7.51s\n",
      "650:\tlearn: 0.5439906\ttest: 0.5418511\tbest: 0.5441683 (187)\ttotal: 32.6s\tremaining: 7.46s\n",
      "651:\tlearn: 0.5438930\ttest: 0.5418511\tbest: 0.5441683 (187)\ttotal: 32.6s\tremaining: 7.41s\n",
      "652:\tlearn: 0.5440172\ttest: 0.5418511\tbest: 0.5441683 (187)\ttotal: 32.7s\tremaining: 7.36s\n",
      "653:\tlearn: 0.5440172\ttest: 0.5418511\tbest: 0.5441683 (187)\ttotal: 32.8s\tremaining: 7.31s\n",
      "654:\tlearn: 0.5441593\ttest: 0.5413939\tbest: 0.5441683 (187)\ttotal: 32.8s\tremaining: 7.26s\n",
      "655:\tlearn: 0.5441593\ttest: 0.5413939\tbest: 0.5441683 (187)\ttotal: 32.8s\tremaining: 7.21s\n",
      "656:\tlearn: 0.5441593\ttest: 0.5413939\tbest: 0.5441683 (187)\ttotal: 32.9s\tremaining: 7.16s\n",
      "657:\tlearn: 0.5441593\ttest: 0.5413939\tbest: 0.5441683 (187)\ttotal: 33s\tremaining: 7.12s\n",
      "658:\tlearn: 0.5441593\ttest: 0.5413939\tbest: 0.5441683 (187)\ttotal: 33s\tremaining: 7.07s\n",
      "659:\tlearn: 0.5441593\ttest: 0.5413939\tbest: 0.5441683 (187)\ttotal: 33.1s\tremaining: 7.01s\n",
      "660:\tlearn: 0.5442834\ttest: 0.5418511\tbest: 0.5441683 (187)\ttotal: 33.1s\tremaining: 6.96s\n",
      "661:\tlearn: 0.5442834\ttest: 0.5418511\tbest: 0.5441683 (187)\ttotal: 33.2s\tremaining: 6.91s\n",
      "662:\tlearn: 0.5442569\ttest: 0.5418511\tbest: 0.5441683 (187)\ttotal: 33.2s\tremaining: 6.86s\n",
      "663:\tlearn: 0.5442569\ttest: 0.5418511\tbest: 0.5441683 (187)\ttotal: 33.3s\tremaining: 6.81s\n",
      "664:\tlearn: 0.5442303\ttest: 0.5418511\tbest: 0.5441683 (187)\ttotal: 33.3s\tremaining: 6.76s\n",
      "665:\tlearn: 0.5443458\ttest: 0.5418511\tbest: 0.5441683 (187)\ttotal: 33.4s\tremaining: 6.71s\n",
      "666:\tlearn: 0.5443458\ttest: 0.5418511\tbest: 0.5441683 (187)\ttotal: 33.4s\tremaining: 6.67s\n",
      "667:\tlearn: 0.5443723\ttest: 0.5418511\tbest: 0.5441683 (187)\ttotal: 33.5s\tremaining: 6.62s\n",
      "668:\tlearn: 0.5443723\ttest: 0.5418511\tbest: 0.5441683 (187)\ttotal: 33.5s\tremaining: 6.57s\n",
      "669:\tlearn: 0.5444434\ttest: 0.5418511\tbest: 0.5441683 (187)\ttotal: 33.6s\tremaining: 6.52s\n",
      "670:\tlearn: 0.5444434\ttest: 0.5418511\tbest: 0.5441683 (187)\ttotal: 33.6s\tremaining: 6.47s\n",
      "671:\tlearn: 0.5446119\ttest: 0.5415704\tbest: 0.5441683 (187)\ttotal: 33.7s\tremaining: 6.42s\n",
      "672:\tlearn: 0.5446119\ttest: 0.5415704\tbest: 0.5441683 (187)\ttotal: 33.8s\tremaining: 6.37s\n",
      "673:\tlearn: 0.5446119\ttest: 0.5415704\tbest: 0.5441683 (187)\ttotal: 33.8s\tremaining: 6.32s\n",
      "674:\tlearn: 0.5449490\ttest: 0.5415704\tbest: 0.5441683 (187)\ttotal: 33.9s\tremaining: 6.27s\n",
      "675:\tlearn: 0.5449224\ttest: 0.5415704\tbest: 0.5441683 (187)\ttotal: 33.9s\tremaining: 6.22s\n",
      "676:\tlearn: 0.5449934\ttest: 0.5415704\tbest: 0.5441683 (187)\ttotal: 34s\tremaining: 6.17s\n",
      "677:\tlearn: 0.5450200\ttest: 0.5415704\tbest: 0.5441683 (187)\ttotal: 34s\tremaining: 6.12s\n",
      "678:\tlearn: 0.5450466\ttest: 0.5415704\tbest: 0.5441683 (187)\ttotal: 34.1s\tremaining: 6.07s\n",
      "679:\tlearn: 0.5452239\ttest: 0.5415704\tbest: 0.5441683 (187)\ttotal: 34.2s\tremaining: 6.03s\n",
      "680:\tlearn: 0.5453127\ttest: 0.5415704\tbest: 0.5441683 (187)\ttotal: 34.2s\tremaining: 5.98s\n",
      "681:\tlearn: 0.5452949\ttest: 0.5415704\tbest: 0.5441683 (187)\ttotal: 34.3s\tremaining: 5.93s\n",
      "682:\tlearn: 0.5431445\ttest: 0.5415704\tbest: 0.5441683 (187)\ttotal: 34.3s\tremaining: 5.88s\n",
      "683:\tlearn: 0.5431445\ttest: 0.5415704\tbest: 0.5441683 (187)\ttotal: 34.4s\tremaining: 5.83s\n",
      "684:\tlearn: 0.5432159\ttest: 0.5415704\tbest: 0.5441683 (187)\ttotal: 34.4s\tremaining: 5.78s\n",
      "685:\tlearn: 0.5431529\ttest: 0.5415704\tbest: 0.5441683 (187)\ttotal: 34.5s\tremaining: 5.73s\n",
      "686:\tlearn: 0.5431081\ttest: 0.5415704\tbest: 0.5441683 (187)\ttotal: 34.5s\tremaining: 5.68s\n",
      "687:\tlearn: 0.5431081\ttest: 0.5415704\tbest: 0.5441683 (187)\ttotal: 34.6s\tremaining: 5.63s\n",
      "688:\tlearn: 0.5430633\ttest: 0.5415704\tbest: 0.5441683 (187)\ttotal: 34.6s\tremaining: 5.58s\n",
      "689:\tlearn: 0.5430100\ttest: 0.5415704\tbest: 0.5441683 (187)\ttotal: 34.7s\tremaining: 5.53s\n",
      "690:\tlearn: 0.5430100\ttest: 0.5415704\tbest: 0.5441683 (187)\ttotal: 34.8s\tremaining: 5.48s\n",
      "691:\tlearn: 0.5430548\ttest: 0.5415704\tbest: 0.5441683 (187)\ttotal: 34.8s\tremaining: 5.43s\n",
      "692:\tlearn: 0.5430548\ttest: 0.5415704\tbest: 0.5441683 (187)\ttotal: 34.9s\tremaining: 5.38s\n",
      "693:\tlearn: 0.5433588\ttest: 0.5415704\tbest: 0.5441683 (187)\ttotal: 34.9s\tremaining: 5.33s\n",
      "694:\tlearn: 0.5433322\ttest: 0.5415704\tbest: 0.5441683 (187)\ttotal: 35s\tremaining: 5.28s\n",
      "695:\tlearn: 0.5433588\ttest: 0.5415704\tbest: 0.5441683 (187)\ttotal: 35s\tremaining: 5.23s\n",
      "696:\tlearn: 0.5434484\ttest: 0.5449320\tbest: 0.5449320 (696)\ttotal: 35.1s\tremaining: 5.18s\n",
      "697:\tlearn: 0.5434484\ttest: 0.5449320\tbest: 0.5449320 (696)\ttotal: 35.1s\tremaining: 5.13s\n",
      "698:\tlearn: 0.5437074\ttest: 0.5449320\tbest: 0.5449320 (696)\ttotal: 35.2s\tremaining: 5.08s\n",
      "699:\tlearn: 0.5437788\ttest: 0.5449320\tbest: 0.5449320 (696)\ttotal: 35.2s\tremaining: 5.03s\n",
      "700:\tlearn: 0.5437521\ttest: 0.5449320\tbest: 0.5449320 (696)\ttotal: 35.3s\tremaining: 4.98s\n",
      "701:\tlearn: 0.5438502\ttest: 0.5449320\tbest: 0.5449320 (696)\ttotal: 35.3s\tremaining: 4.93s\n",
      "702:\tlearn: 0.5438321\ttest: 0.5449320\tbest: 0.5449320 (696)\ttotal: 35.4s\tremaining: 4.88s\n",
      "703:\tlearn: 0.5436893\ttest: 0.5449320\tbest: 0.5449320 (696)\ttotal: 35.5s\tremaining: 4.83s\n",
      "704:\tlearn: 0.5436893\ttest: 0.5449320\tbest: 0.5449320 (696)\ttotal: 35.5s\tremaining: 4.78s\n",
      "705:\tlearn: 0.5436893\ttest: 0.5449320\tbest: 0.5449320 (696)\ttotal: 35.6s\tremaining: 4.73s\n",
      "706:\tlearn: 0.5436893\ttest: 0.5449320\tbest: 0.5449320 (696)\ttotal: 35.6s\tremaining: 4.68s\n",
      "707:\tlearn: 0.5436893\ttest: 0.5449320\tbest: 0.5449320 (696)\ttotal: 35.7s\tremaining: 4.63s\n",
      "708:\tlearn: 0.5436893\ttest: 0.5449320\tbest: 0.5449320 (696)\ttotal: 35.7s\tremaining: 4.58s\n",
      "709:\tlearn: 0.5436893\ttest: 0.5449320\tbest: 0.5449320 (696)\ttotal: 35.8s\tremaining: 4.53s\n",
      "710:\tlearn: 0.5437426\ttest: 0.5449320\tbest: 0.5449320 (696)\ttotal: 35.8s\tremaining: 4.48s\n",
      "711:\tlearn: 0.5458447\ttest: 0.5449320\tbest: 0.5449320 (696)\ttotal: 35.9s\tremaining: 4.43s\n",
      "712:\tlearn: 0.5458447\ttest: 0.5449320\tbest: 0.5449320 (696)\ttotal: 35.9s\tremaining: 4.38s\n",
      "713:\tlearn: 0.5436979\ttest: 0.5449320\tbest: 0.5449320 (696)\ttotal: 36s\tremaining: 4.33s\n",
      "714:\tlearn: 0.5436979\ttest: 0.5449320\tbest: 0.5449320 (696)\ttotal: 36s\tremaining: 4.28s\n",
      "715:\tlearn: 0.5458447\ttest: 0.5449320\tbest: 0.5449320 (696)\ttotal: 36.1s\tremaining: 4.23s\n",
      "716:\tlearn: 0.5458447\ttest: 0.5449320\tbest: 0.5449320 (696)\ttotal: 36.1s\tremaining: 4.18s\n",
      "717:\tlearn: 0.5460308\ttest: 0.5447232\tbest: 0.5449320 (696)\ttotal: 36.2s\tremaining: 4.13s\n",
      "718:\tlearn: 0.5460042\ttest: 0.5447232\tbest: 0.5449320 (696)\ttotal: 36.2s\tremaining: 4.08s\n",
      "719:\tlearn: 0.5459333\ttest: 0.5447232\tbest: 0.5449320 (696)\ttotal: 36.3s\tremaining: 4.03s\n",
      "720:\tlearn: 0.5460042\ttest: 0.5447232\tbest: 0.5449320 (696)\ttotal: 36.4s\tremaining: 3.98s\n",
      "721:\tlearn: 0.5460042\ttest: 0.5447232\tbest: 0.5449320 (696)\ttotal: 36.4s\tremaining: 3.93s\n",
      "722:\tlearn: 0.5460751\ttest: 0.5447232\tbest: 0.5449320 (696)\ttotal: 36.5s\tremaining: 3.88s\n",
      "723:\tlearn: 0.5461726\ttest: 0.5447232\tbest: 0.5449320 (696)\ttotal: 36.5s\tremaining: 3.83s\n",
      "724:\tlearn: 0.5461726\ttest: 0.5447232\tbest: 0.5449320 (696)\ttotal: 36.6s\tremaining: 3.78s\n",
      "725:\tlearn: 0.5471009\ttest: 0.5447232\tbest: 0.5449320 (696)\ttotal: 36.6s\tremaining: 3.73s\n",
      "726:\tlearn: 0.5470743\ttest: 0.5447232\tbest: 0.5449320 (696)\ttotal: 36.7s\tremaining: 3.68s\n",
      "727:\tlearn: 0.5470743\ttest: 0.5447232\tbest: 0.5449320 (696)\ttotal: 36.7s\tremaining: 3.63s\n",
      "728:\tlearn: 0.5471450\ttest: 0.5447232\tbest: 0.5449320 (696)\ttotal: 36.8s\tremaining: 3.58s\n",
      "729:\tlearn: 0.5471450\ttest: 0.5447232\tbest: 0.5449320 (696)\ttotal: 36.8s\tremaining: 3.53s\n",
      "730:\tlearn: 0.5471716\ttest: 0.5447232\tbest: 0.5449320 (696)\ttotal: 36.9s\tremaining: 3.48s\n",
      "731:\tlearn: 0.5471983\ttest: 0.5447232\tbest: 0.5449320 (696)\ttotal: 37s\tremaining: 3.43s\n",
      "732:\tlearn: 0.5471983\ttest: 0.5447933\tbest: 0.5449320 (696)\ttotal: 37s\tremaining: 3.38s\n",
      "733:\tlearn: 0.5473131\ttest: 0.5447933\tbest: 0.5449320 (696)\ttotal: 37.1s\tremaining: 3.33s\n",
      "734:\tlearn: 0.5473397\ttest: 0.5447933\tbest: 0.5449320 (696)\ttotal: 37.1s\tremaining: 3.28s\n",
      "735:\tlearn: 0.5471716\ttest: 0.5447933\tbest: 0.5449320 (696)\ttotal: 37.2s\tremaining: 3.23s\n",
      "736:\tlearn: 0.5472157\ttest: 0.5447933\tbest: 0.5449320 (696)\ttotal: 37.2s\tremaining: 3.18s\n",
      "737:\tlearn: 0.5471450\ttest: 0.5447933\tbest: 0.5449320 (696)\ttotal: 37.3s\tremaining: 3.13s\n",
      "738:\tlearn: 0.5470036\ttest: 0.5447933\tbest: 0.5449320 (696)\ttotal: 37.3s\tremaining: 3.08s\n",
      "739:\tlearn: 0.5470036\ttest: 0.5447933\tbest: 0.5449320 (696)\ttotal: 37.4s\tremaining: 3.03s\n",
      "740:\tlearn: 0.5470743\ttest: 0.5447933\tbest: 0.5449320 (696)\ttotal: 37.5s\tremaining: 2.98s\n",
      "741:\tlearn: 0.5470743\ttest: 0.5447933\tbest: 0.5449320 (696)\ttotal: 37.5s\tremaining: 2.93s\n",
      "742:\tlearn: 0.5470036\ttest: 0.5447933\tbest: 0.5449320 (696)\ttotal: 37.6s\tremaining: 2.88s\n",
      "743:\tlearn: 0.5469594\ttest: 0.5447933\tbest: 0.5449320 (696)\ttotal: 37.6s\tremaining: 2.83s\n",
      "744:\tlearn: 0.5471009\ttest: 0.5447933\tbest: 0.5449320 (696)\ttotal: 37.7s\tremaining: 2.78s\n",
      "745:\tlearn: 0.5471009\ttest: 0.5447933\tbest: 0.5449320 (696)\ttotal: 37.7s\tremaining: 2.73s\n",
      "746:\tlearn: 0.5471009\ttest: 0.5447933\tbest: 0.5449320 (696)\ttotal: 37.8s\tremaining: 2.68s\n",
      "747:\tlearn: 0.5471009\ttest: 0.5447933\tbest: 0.5449320 (696)\ttotal: 37.8s\tremaining: 2.63s\n",
      "748:\tlearn: 0.5471009\ttest: 0.5447933\tbest: 0.5449320 (696)\ttotal: 37.9s\tremaining: 2.58s\n",
      "749:\tlearn: 0.5471009\ttest: 0.5447933\tbest: 0.5449320 (696)\ttotal: 37.9s\tremaining: 2.53s\n",
      "750:\tlearn: 0.5471009\ttest: 0.5447933\tbest: 0.5449320 (696)\ttotal: 38s\tremaining: 2.48s\n",
      "751:\tlearn: 0.5467738\ttest: 0.5447933\tbest: 0.5449320 (696)\ttotal: 38s\tremaining: 2.43s\n",
      "752:\tlearn: 0.5467738\ttest: 0.5447933\tbest: 0.5449320 (696)\ttotal: 38.1s\tremaining: 2.38s\n",
      "753:\tlearn: 0.5471009\ttest: 0.5447933\tbest: 0.5449320 (696)\ttotal: 38.1s\tremaining: 2.33s\n",
      "754:\tlearn: 0.5471009\ttest: 0.5447933\tbest: 0.5449320 (696)\ttotal: 38.2s\tremaining: 2.27s\n",
      "755:\tlearn: 0.5471009\ttest: 0.5447933\tbest: 0.5449320 (696)\ttotal: 38.2s\tremaining: 2.22s\n",
      "756:\tlearn: 0.5472249\ttest: 0.5447933\tbest: 0.5449320 (696)\ttotal: 38.3s\tremaining: 2.17s\n",
      "757:\tlearn: 0.5472249\ttest: 0.5447933\tbest: 0.5449320 (696)\ttotal: 38.3s\tremaining: 2.12s\n",
      "758:\tlearn: 0.5472249\ttest: 0.5447933\tbest: 0.5449320 (696)\ttotal: 38.4s\tremaining: 2.07s\n",
      "759:\tlearn: 0.5472957\ttest: 0.5447933\tbest: 0.5449320 (696)\ttotal: 38.4s\tremaining: 2.02s\n",
      "760:\tlearn: 0.5472957\ttest: 0.5447933\tbest: 0.5449320 (696)\ttotal: 38.5s\tremaining: 1.97s\n",
      "761:\tlearn: 0.5473664\ttest: 0.5447933\tbest: 0.5449320 (696)\ttotal: 38.5s\tremaining: 1.92s\n",
      "762:\tlearn: 0.5473664\ttest: 0.5447933\tbest: 0.5449320 (696)\ttotal: 38.6s\tremaining: 1.87s\n",
      "763:\tlearn: 0.5453032\ttest: 0.5447933\tbest: 0.5449320 (696)\ttotal: 38.6s\tremaining: 1.82s\n",
      "764:\tlearn: 0.5453032\ttest: 0.5447933\tbest: 0.5449320 (696)\ttotal: 38.7s\tremaining: 1.77s\n",
      "765:\tlearn: 0.5454011\ttest: 0.5446189\tbest: 0.5449320 (696)\ttotal: 38.7s\tremaining: 1.72s\n",
      "766:\tlearn: 0.5454723\ttest: 0.5446189\tbest: 0.5449320 (696)\ttotal: 38.8s\tremaining: 1.67s\n",
      "767:\tlearn: 0.5455168\ttest: 0.5446189\tbest: 0.5449320 (696)\ttotal: 38.8s\tremaining: 1.62s\n",
      "768:\tlearn: 0.5450717\ttest: 0.5446189\tbest: 0.5449320 (696)\ttotal: 38.9s\tremaining: 1.57s\n",
      "769:\tlearn: 0.5450717\ttest: 0.5446189\tbest: 0.5449320 (696)\ttotal: 38.9s\tremaining: 1.52s\n",
      "770:\tlearn: 0.5452854\ttest: 0.5446189\tbest: 0.5449320 (696)\ttotal: 39s\tremaining: 1.47s\n",
      "771:\tlearn: 0.5452854\ttest: 0.5446189\tbest: 0.5449320 (696)\ttotal: 39s\tremaining: 1.42s\n",
      "772:\tlearn: 0.5452142\ttest: 0.5446189\tbest: 0.5449320 (696)\ttotal: 39.1s\tremaining: 1.36s\n",
      "773:\tlearn: 0.5451875\ttest: 0.5446189\tbest: 0.5449320 (696)\ttotal: 39.2s\tremaining: 1.31s\n",
      "774:\tlearn: 0.5451430\ttest: 0.5446189\tbest: 0.5449320 (696)\ttotal: 39.2s\tremaining: 1.26s\n",
      "775:\tlearn: 0.5452587\ttest: 0.5446189\tbest: 0.5449320 (696)\ttotal: 39.3s\tremaining: 1.21s\n",
      "776:\tlearn: 0.5454723\ttest: 0.5446189\tbest: 0.5449320 (696)\ttotal: 39.3s\tremaining: 1.16s\n",
      "777:\tlearn: 0.5454990\ttest: 0.5443402\tbest: 0.5449320 (696)\ttotal: 39.4s\tremaining: 1.11s\n",
      "778:\tlearn: 0.5455880\ttest: 0.5443402\tbest: 0.5449320 (696)\ttotal: 39.4s\tremaining: 1.06s\n",
      "779:\tlearn: 0.5456592\ttest: 0.5443402\tbest: 0.5449320 (696)\ttotal: 39.5s\tremaining: 1.01s\n",
      "780:\tlearn: 0.5456592\ttest: 0.5443402\tbest: 0.5449320 (696)\ttotal: 39.5s\tremaining: 961ms\n",
      "781:\tlearn: 0.5456592\ttest: 0.5443402\tbest: 0.5449320 (696)\ttotal: 39.6s\tremaining: 911ms\n",
      "782:\tlearn: 0.5456859\ttest: 0.5443402\tbest: 0.5449320 (696)\ttotal: 39.6s\tremaining: 860ms\n",
      "783:\tlearn: 0.5456681\ttest: 0.5443402\tbest: 0.5449320 (696)\ttotal: 39.7s\tremaining: 810ms\n",
      "784:\tlearn: 0.5456681\ttest: 0.5443402\tbest: 0.5449320 (696)\ttotal: 39.7s\tremaining: 759ms\n",
      "785:\tlearn: 0.5458372\ttest: 0.5443402\tbest: 0.5449320 (696)\ttotal: 39.8s\tremaining: 708ms\n",
      "786:\tlearn: 0.5458372\ttest: 0.5443402\tbest: 0.5449320 (696)\ttotal: 39.8s\tremaining: 658ms\n",
      "787:\tlearn: 0.5458372\ttest: 0.5443402\tbest: 0.5449320 (696)\ttotal: 39.9s\tremaining: 607ms\n",
      "788:\tlearn: 0.5459351\ttest: 0.5443402\tbest: 0.5449320 (696)\ttotal: 39.9s\tremaining: 557ms\n",
      "789:\tlearn: 0.5459351\ttest: 0.5443402\tbest: 0.5449320 (696)\ttotal: 40s\tremaining: 506ms\n",
      "790:\tlearn: 0.5460063\ttest: 0.5443402\tbest: 0.5449320 (696)\ttotal: 40s\tremaining: 455ms\n",
      "791:\tlearn: 0.5460507\ttest: 0.5443402\tbest: 0.5449320 (696)\ttotal: 40.1s\tremaining: 405ms\n",
      "792:\tlearn: 0.5460507\ttest: 0.5443402\tbest: 0.5449320 (696)\ttotal: 40.1s\tremaining: 354ms\n",
      "793:\tlearn: 0.5460507\ttest: 0.5443402\tbest: 0.5449320 (696)\ttotal: 40.2s\tremaining: 304ms\n",
      "794:\tlearn: 0.5459795\ttest: 0.5443402\tbest: 0.5449320 (696)\ttotal: 40.2s\tremaining: 253ms\n",
      "795:\tlearn: 0.5460507\ttest: 0.5443402\tbest: 0.5449320 (696)\ttotal: 40.3s\tremaining: 202ms\n",
      "796:\tlearn: 0.5459795\ttest: 0.5443402\tbest: 0.5449320 (696)\ttotal: 40.3s\tremaining: 152ms\n",
      "797:\tlearn: 0.5461753\ttest: 0.5443402\tbest: 0.5449320 (696)\ttotal: 40.4s\tremaining: 101ms\n",
      "798:\tlearn: 0.5461576\ttest: 0.5443402\tbest: 0.5449320 (696)\ttotal: 40.4s\tremaining: 50.6ms\n",
      "799:\tlearn: 0.5460597\ttest: 0.5443402\tbest: 0.5449320 (696)\ttotal: 40.5s\tremaining: 0us\n",
      "\n",
      "bestTest = 0.5449319793\n",
      "bestIteration = 696\n",
      "\n",
      "0:\tlearn: 0.3628051\ttest: 0.3906063\tbest: 0.3906063 (0)\ttotal: 28.9ms\tremaining: 23.1s\n",
      "1:\tlearn: 0.3900145\ttest: 0.4108818\tbest: 0.4108818 (1)\ttotal: 66.8ms\tremaining: 26.7s\n",
      "2:\tlearn: 0.3901410\ttest: 0.4108818\tbest: 0.4108818 (1)\ttotal: 116ms\tremaining: 30.8s\n",
      "3:\tlearn: 0.3907991\ttest: 0.4108818\tbest: 0.4108818 (1)\ttotal: 142ms\tremaining: 28.2s\n",
      "4:\tlearn: 0.3907991\ttest: 0.4108818\tbest: 0.4108818 (1)\ttotal: 182ms\tremaining: 29s\n",
      "5:\tlearn: 0.4345685\ttest: 0.4471744\tbest: 0.4471744 (5)\ttotal: 227ms\tremaining: 30.1s\n",
      "6:\tlearn: 0.4339601\ttest: 0.4466324\tbest: 0.4471744 (5)\ttotal: 250ms\tremaining: 28.3s\n",
      "7:\tlearn: 0.4610568\ttest: 0.4821695\tbest: 0.4821695 (7)\ttotal: 286ms\tremaining: 28.3s\n",
      "8:\tlearn: 0.4609551\ttest: 0.4818298\tbest: 0.4821695 (7)\ttotal: 342ms\tremaining: 30s\n",
      "9:\tlearn: 0.4590019\ttest: 0.4815052\tbest: 0.4821695 (7)\ttotal: 383ms\tremaining: 30.3s\n",
      "10:\tlearn: 0.4612003\ttest: 0.4818298\tbest: 0.4821695 (7)\ttotal: 429ms\tremaining: 30.8s\n",
      "11:\tlearn: 0.4609715\ttest: 0.4816239\tbest: 0.4821695 (7)\ttotal: 471ms\tremaining: 30.9s\n",
      "12:\tlearn: 0.4625096\ttest: 0.4822725\tbest: 0.4822725 (12)\ttotal: 511ms\tremaining: 31s\n",
      "13:\tlearn: 0.4627537\ttest: 0.4822725\tbest: 0.4822725 (12)\ttotal: 551ms\tremaining: 30.9s\n",
      "14:\tlearn: 0.4629487\ttest: 0.4816239\tbest: 0.4822725 (12)\ttotal: 594ms\tremaining: 31.1s\n",
      "15:\tlearn: 0.4634039\ttest: 0.4815210\tbest: 0.4822725 (12)\ttotal: 633ms\tremaining: 31s\n",
      "16:\tlearn: 0.4636488\ttest: 0.4817269\tbest: 0.4822725 (12)\ttotal: 671ms\tremaining: 30.9s\n",
      "17:\tlearn: 0.4631094\ttest: 0.4822574\tbest: 0.4822725 (12)\ttotal: 706ms\tremaining: 30.7s\n",
      "18:\tlearn: 0.4636409\ttest: 0.4829060\tbest: 0.4829060 (18)\ttotal: 749ms\tremaining: 30.8s\n",
      "19:\tlearn: 0.4628254\ttest: 0.4813545\tbest: 0.4829060 (18)\ttotal: 785ms\tremaining: 30.6s\n",
      "20:\tlearn: 0.4630618\ttest: 0.4808228\tbest: 0.4829060 (18)\ttotal: 822ms\tremaining: 30.5s\n",
      "21:\tlearn: 0.4625888\ttest: 0.4808228\tbest: 0.4829060 (18)\ttotal: 871ms\tremaining: 30.8s\n",
      "22:\tlearn: 0.4625558\ttest: 0.4811482\tbest: 0.4829060 (18)\ttotal: 911ms\tremaining: 30.8s\n",
      "23:\tlearn: 0.4626825\ttest: 0.4807033\tbest: 0.4829060 (18)\ttotal: 964ms\tremaining: 31.2s\n",
      "24:\tlearn: 0.4634455\ttest: 0.4789519\tbest: 0.4829060 (18)\ttotal: 1.02s\tremaining: 31.6s\n",
      "25:\tlearn: 0.4639533\ttest: 0.4793814\tbest: 0.4829060 (18)\ttotal: 1.06s\tremaining: 31.6s\n",
      "26:\tlearn: 0.4636324\ttest: 0.4795699\tbest: 0.4829060 (18)\ttotal: 1.11s\tremaining: 31.7s\n",
      "27:\tlearn: 0.4643093\ttest: 0.4799141\tbest: 0.4829060 (18)\ttotal: 1.16s\tremaining: 31.9s\n",
      "28:\tlearn: 0.4644273\ttest: 0.4799141\tbest: 0.4829060 (18)\ttotal: 1.2s\tremaining: 31.9s\n",
      "29:\tlearn: 0.4717177\ttest: 0.4840358\tbest: 0.4840358 (29)\ttotal: 1.24s\tremaining: 31.9s\n",
      "30:\tlearn: 0.4721526\ttest: 0.4839464\tbest: 0.4840358 (29)\ttotal: 1.26s\tremaining: 31.4s\n",
      "31:\tlearn: 0.4724856\ttest: 0.4843584\tbest: 0.4843584 (31)\ttotal: 1.31s\tremaining: 31.5s\n",
      "32:\tlearn: 0.4743422\ttest: 0.4858901\tbest: 0.4858901 (32)\ttotal: 1.36s\tremaining: 31.7s\n",
      "33:\tlearn: 0.4743938\ttest: 0.4852473\tbest: 0.4858901 (32)\ttotal: 1.41s\tremaining: 31.9s\n",
      "34:\tlearn: 0.4755647\ttest: 0.4849257\tbest: 0.4858901 (32)\ttotal: 1.46s\tremaining: 31.8s\n",
      "35:\tlearn: 0.4757044\ttest: 0.4847199\tbest: 0.4858901 (32)\ttotal: 1.51s\tremaining: 32s\n",
      "36:\tlearn: 0.4765265\ttest: 0.4850414\tbest: 0.4858901 (32)\ttotal: 1.55s\tremaining: 32s\n",
      "37:\tlearn: 0.4757920\ttest: 0.4853503\tbest: 0.4858901 (32)\ttotal: 1.6s\tremaining: 32.1s\n",
      "38:\tlearn: 0.4761801\ttest: 0.4859932\tbest: 0.4859932 (38)\ttotal: 1.64s\tremaining: 32s\n",
      "39:\tlearn: 0.4761232\ttest: 0.4859932\tbest: 0.4859932 (38)\ttotal: 1.68s\tremaining: 31.9s\n",
      "40:\tlearn: 0.4765939\ttest: 0.4856718\tbest: 0.4859932 (38)\ttotal: 1.73s\tremaining: 32s\n",
      "41:\tlearn: 0.4766868\ttest: 0.4854657\tbest: 0.4859932 (38)\ttotal: 1.76s\tremaining: 31.9s\n",
      "42:\tlearn: 0.4827846\ttest: 0.4930818\tbest: 0.4930818 (42)\ttotal: 1.8s\tremaining: 31.8s\n",
      "43:\tlearn: 0.4894488\ttest: 0.4997924\tbest: 0.4997924 (43)\ttotal: 1.85s\tremaining: 31.9s\n",
      "44:\tlearn: 0.4901513\ttest: 0.5006227\tbest: 0.5006227 (44)\ttotal: 1.91s\tremaining: 32s\n",
      "45:\tlearn: 0.4905720\ttest: 0.5015505\tbest: 0.5015505 (45)\ttotal: 1.96s\tremaining: 32.1s\n",
      "46:\tlearn: 0.4907020\ttest: 0.5012407\tbest: 0.5015505 (45)\ttotal: 2s\tremaining: 32.1s\n",
      "47:\tlearn: 0.4907020\ttest: 0.5012407\tbest: 0.5015505 (45)\ttotal: 2.01s\tremaining: 31.6s\n",
      "48:\tlearn: 0.4911277\ttest: 0.5015505\tbest: 0.5015505 (45)\ttotal: 2.06s\tremaining: 31.6s\n",
      "49:\tlearn: 0.4910904\ttest: 0.5003114\tbest: 0.5015505 (45)\ttotal: 2.11s\tremaining: 31.6s\n",
      "50:\tlearn: 0.4915200\ttest: 0.5017609\tbest: 0.5017609 (50)\ttotal: 2.15s\tremaining: 31.6s\n",
      "51:\tlearn: 0.4929942\ttest: 0.5027864\tbest: 0.5027864 (51)\ttotal: 2.2s\tremaining: 31.6s\n",
      "52:\tlearn: 0.4924266\ttest: 0.5002076\tbest: 0.5027864 (51)\ttotal: 2.24s\tremaining: 31.5s\n",
      "53:\tlearn: 0.4928058\ttest: 0.5015505\tbest: 0.5027864 (51)\ttotal: 2.29s\tremaining: 31.6s\n",
      "54:\tlearn: 0.4928318\ttest: 0.5015505\tbest: 0.5027864 (51)\ttotal: 2.33s\tremaining: 31.5s\n",
      "55:\tlearn: 0.4926171\ttest: 0.5013444\tbest: 0.5027864 (51)\ttotal: 2.38s\tremaining: 31.6s\n",
      "56:\tlearn: 0.4928534\ttest: 0.5011380\tbest: 0.5027864 (51)\ttotal: 2.43s\tremaining: 31.7s\n",
      "57:\tlearn: 0.4931724\ttest: 0.5011380\tbest: 0.5027864 (51)\ttotal: 2.49s\tremaining: 31.8s\n",
      "58:\tlearn: 0.4931434\ttest: 0.5010352\tbest: 0.5027864 (51)\ttotal: 2.53s\tremaining: 31.8s\n",
      "59:\tlearn: 0.4935697\ttest: 0.5010352\tbest: 0.5027864 (51)\ttotal: 2.58s\tremaining: 31.8s\n",
      "60:\tlearn: 0.4936769\ttest: 0.5010352\tbest: 0.5027864 (51)\ttotal: 2.64s\tremaining: 32s\n",
      "61:\tlearn: 0.4939969\ttest: 0.5010352\tbest: 0.5027864 (51)\ttotal: 2.69s\tremaining: 32s\n",
      "62:\tlearn: 0.4939683\ttest: 0.5007248\tbest: 0.5027864 (51)\ttotal: 2.74s\tremaining: 32.1s\n",
      "63:\tlearn: 0.4942869\ttest: 0.5007248\tbest: 0.5027864 (51)\ttotal: 2.79s\tremaining: 32.1s\n",
      "64:\tlearn: 0.4946066\ttest: 0.5006211\tbest: 0.5027864 (51)\ttotal: 2.83s\tremaining: 32.1s\n",
      "65:\tlearn: 0.4944474\ttest: 0.5006211\tbest: 0.5027864 (51)\ttotal: 2.87s\tremaining: 31.9s\n",
      "66:\tlearn: 0.4946066\ttest: 0.5006211\tbest: 0.5027864 (51)\ttotal: 2.91s\tremaining: 31.8s\n",
      "67:\tlearn: 0.4948454\ttest: 0.5007248\tbest: 0.5027864 (51)\ttotal: 2.96s\tremaining: 31.8s\n",
      "68:\tlearn: 0.4948454\ttest: 0.5007248\tbest: 0.5027864 (51)\ttotal: 3s\tremaining: 31.8s\n",
      "69:\tlearn: 0.4948715\ttest: 0.5007248\tbest: 0.5027864 (51)\ttotal: 3.05s\tremaining: 31.8s\n",
      "70:\tlearn: 0.4951364\ttest: 0.5007248\tbest: 0.5027864 (51)\ttotal: 3.1s\tremaining: 31.8s\n",
      "71:\tlearn: 0.4951626\ttest: 0.5007248\tbest: 0.5027864 (51)\ttotal: 3.15s\tremaining: 31.8s\n",
      "72:\tlearn: 0.4957193\ttest: 0.5010343\tbest: 0.5027864 (51)\ttotal: 3.2s\tremaining: 31.9s\n",
      "73:\tlearn: 0.4954536\ttest: 0.5010343\tbest: 0.5027864 (51)\ttotal: 3.25s\tremaining: 31.9s\n",
      "74:\tlearn: 0.4956126\ttest: 0.5010343\tbest: 0.5027864 (51)\ttotal: 3.31s\tremaining: 32s\n",
      "75:\tlearn: 0.4955322\ttest: 0.5004139\tbest: 0.5027864 (51)\ttotal: 3.36s\tremaining: 32s\n",
      "76:\tlearn: 0.4956398\ttest: 0.5016543\tbest: 0.5027864 (51)\ttotal: 3.4s\tremaining: 32s\n",
      "77:\tlearn: 0.4956922\ttest: 0.5010343\tbest: 0.5027864 (51)\ttotal: 3.45s\tremaining: 32s\n",
      "78:\tlearn: 0.4955331\ttest: 0.5019640\tbest: 0.5027864 (51)\ttotal: 3.51s\tremaining: 32.1s\n",
      "79:\tlearn: 0.4951595\ttest: 0.5021717\tbest: 0.5027864 (51)\ttotal: 3.58s\tremaining: 32.2s\n",
      "80:\tlearn: 0.4951595\ttest: 0.5021717\tbest: 0.5027864 (51)\ttotal: 3.62s\tremaining: 32.2s\n",
      "81:\tlearn: 0.4950254\ttest: 0.5007248\tbest: 0.5027864 (51)\ttotal: 3.69s\tremaining: 32.4s\n",
      "82:\tlearn: 0.4953177\ttest: 0.5005175\tbest: 0.5027864 (51)\ttotal: 3.75s\tremaining: 32.4s\n",
      "83:\tlearn: 0.4952381\ttest: 0.5005175\tbest: 0.5027864 (51)\ttotal: 3.76s\tremaining: 32s\n",
      "84:\tlearn: 0.4957428\ttest: 0.5005175\tbest: 0.5027864 (51)\ttotal: 3.81s\tremaining: 32s\n",
      "85:\tlearn: 0.4955293\ttest: 0.5006211\tbest: 0.5027864 (51)\ttotal: 3.86s\tremaining: 32s\n",
      "86:\tlearn: 0.4959027\ttest: 0.5017580\tbest: 0.5027864 (51)\ttotal: 3.92s\tremaining: 32.1s\n",
      "87:\tlearn: 0.4960355\ttest: 0.5017580\tbest: 0.5027864 (51)\ttotal: 3.97s\tremaining: 32.1s\n",
      "88:\tlearn: 0.4961150\ttest: 0.5017580\tbest: 0.5027864 (51)\ttotal: 4.03s\tremaining: 32.2s\n",
      "89:\tlearn: 0.4959822\ttest: 0.5017580\tbest: 0.5027864 (51)\ttotal: 4.07s\tremaining: 32.1s\n",
      "90:\tlearn: 0.4959822\ttest: 0.5017580\tbest: 0.5027864 (51)\ttotal: 4.1s\tremaining: 31.9s\n",
      "91:\tlearn: 0.5343063\ttest: 0.5424312\tbest: 0.5424312 (91)\ttotal: 4.15s\tremaining: 31.9s\n",
      "92:\tlearn: 0.5344042\ttest: 0.5427097\tbest: 0.5427097 (92)\ttotal: 4.21s\tremaining: 32s\n",
      "93:\tlearn: 0.5345284\ttest: 0.5424312\tbest: 0.5427097 (92)\ttotal: 4.26s\tremaining: 32s\n",
      "94:\tlearn: 0.5349464\ttest: 0.5420811\tbest: 0.5427097 (92)\ttotal: 4.3s\tremaining: 31.9s\n",
      "95:\tlearn: 0.5348484\ttest: 0.5418022\tbest: 0.5427097 (92)\ttotal: 4.35s\tremaining: 31.9s\n",
      "96:\tlearn: 0.5348484\ttest: 0.5418022\tbest: 0.5427097 (92)\ttotal: 4.37s\tremaining: 31.7s\n",
      "97:\tlearn: 0.5350044\ttest: 0.5421526\tbest: 0.5427097 (92)\ttotal: 4.43s\tremaining: 31.7s\n",
      "98:\tlearn: 0.5350774\ttest: 0.5412440\tbest: 0.5427097 (92)\ttotal: 4.47s\tremaining: 31.7s\n",
      "99:\tlearn: 0.5353451\ttest: 0.5408925\tbest: 0.5427097 (92)\ttotal: 4.52s\tremaining: 31.7s\n",
      "100:\tlearn: 0.5353590\ttest: 0.5407890\tbest: 0.5427097 (92)\ttotal: 4.58s\tremaining: 31.7s\n",
      "101:\tlearn: 0.5353258\ttest: 0.5407890\tbest: 0.5427097 (92)\ttotal: 4.63s\tremaining: 31.7s\n",
      "102:\tlearn: 0.5353258\ttest: 0.5407890\tbest: 0.5427097 (92)\ttotal: 4.68s\tremaining: 31.7s\n",
      "103:\tlearn: 0.5356460\ttest: 0.5410684\tbest: 0.5427097 (92)\ttotal: 4.73s\tremaining: 31.7s\n",
      "104:\tlearn: 0.5355743\ttest: 0.5407890\tbest: 0.5427097 (92)\ttotal: 4.79s\tremaining: 31.7s\n",
      "105:\tlearn: 0.5354570\ttest: 0.5409648\tbest: 0.5427097 (92)\ttotal: 4.84s\tremaining: 31.7s\n",
      "106:\tlearn: 0.5353149\ttest: 0.5410684\tbest: 0.5427097 (92)\ttotal: 4.89s\tremaining: 31.7s\n",
      "107:\tlearn: 0.5352430\ttest: 0.5410684\tbest: 0.5427097 (92)\ttotal: 4.94s\tremaining: 31.7s\n",
      "108:\tlearn: 0.4966095\ttest: 0.4994814\tbest: 0.5427097 (92)\ttotal: 4.99s\tremaining: 31.7s\n",
      "109:\tlearn: 0.4966358\ttest: 0.4994814\tbest: 0.5427097 (92)\ttotal: 5.04s\tremaining: 31.6s\n",
      "110:\tlearn: 0.4967680\ttest: 0.4992743\tbest: 0.5427097 (92)\ttotal: 5.09s\tremaining: 31.6s\n",
      "111:\tlearn: 0.4966073\ttest: 0.4992743\tbest: 0.5427097 (92)\ttotal: 5.14s\tremaining: 31.6s\n",
      "112:\tlearn: 0.4965013\ttest: 0.4997926\tbest: 0.5427097 (92)\ttotal: 5.19s\tremaining: 31.6s\n",
      "113:\tlearn: 0.5354338\ttest: 0.5411314\tbest: 0.5427097 (92)\ttotal: 5.24s\tremaining: 31.5s\n",
      "114:\tlearn: 0.5353952\ttest: 0.5411314\tbest: 0.5427097 (92)\ttotal: 5.3s\tremaining: 31.6s\n",
      "115:\tlearn: 0.4967403\ttest: 0.5001038\tbest: 0.5427097 (92)\ttotal: 5.35s\tremaining: 31.6s\n",
      "116:\tlearn: 0.5351338\ttest: 0.5411314\tbest: 0.5427097 (92)\ttotal: 5.41s\tremaining: 31.6s\n",
      "117:\tlearn: 0.5352777\ttest: 0.5411314\tbest: 0.5427097 (92)\ttotal: 5.46s\tremaining: 31.5s\n",
      "118:\tlearn: 0.5352057\ttest: 0.5411314\tbest: 0.5427097 (92)\ttotal: 5.51s\tremaining: 31.6s\n",
      "119:\tlearn: 0.5355127\ttest: 0.5414428\tbest: 0.5427097 (92)\ttotal: 5.56s\tremaining: 31.5s\n",
      "120:\tlearn: 0.5354408\ttest: 0.5414428\tbest: 0.5427097 (92)\ttotal: 5.61s\tremaining: 31.5s\n",
      "121:\tlearn: 0.5354532\ttest: 0.5424574\tbest: 0.5427097 (92)\ttotal: 5.67s\tremaining: 31.5s\n",
      "122:\tlearn: 0.5355776\ttest: 0.5424574\tbest: 0.5427097 (92)\ttotal: 5.72s\tremaining: 31.5s\n",
      "123:\tlearn: 0.5358650\ttest: 0.5424574\tbest: 0.5427097 (92)\ttotal: 5.77s\tremaining: 31.5s\n",
      "124:\tlearn: 0.5359439\ttest: 0.5423534\tbest: 0.5427097 (92)\ttotal: 5.82s\tremaining: 31.5s\n",
      "125:\tlearn: 0.5362767\ttest: 0.5426327\tbest: 0.5427097 (92)\ttotal: 5.87s\tremaining: 31.4s\n",
      "126:\tlearn: 0.5366428\ttest: 0.5419701\tbest: 0.5427097 (92)\ttotal: 5.93s\tremaining: 31.4s\n",
      "127:\tlearn: 0.5364346\ttest: 0.5420418\tbest: 0.5427097 (92)\ttotal: 5.98s\tremaining: 31.4s\n",
      "128:\tlearn: 0.5369490\ttest: 0.5420418\tbest: 0.5427097 (92)\ttotal: 6.03s\tremaining: 31.4s\n",
      "129:\tlearn: 0.5369608\ttest: 0.5419380\tbest: 0.5427097 (92)\ttotal: 6.07s\tremaining: 31.3s\n",
      "130:\tlearn: 0.5372666\ttest: 0.5419380\tbest: 0.5427097 (92)\ttotal: 6.13s\tremaining: 31.3s\n",
      "131:\tlearn: 0.5374100\ttest: 0.5419380\tbest: 0.5427097 (92)\ttotal: 6.18s\tremaining: 31.3s\n",
      "132:\tlearn: 0.5373836\ttest: 0.5419380\tbest: 0.5427097 (92)\ttotal: 6.23s\tremaining: 31.2s\n",
      "133:\tlearn: 0.5380547\ttest: 0.5418342\tbest: 0.5427097 (92)\ttotal: 6.29s\tremaining: 31.2s\n",
      "134:\tlearn: 0.5380358\ttest: 0.5418342\tbest: 0.5427097 (92)\ttotal: 6.33s\tremaining: 31.2s\n",
      "135:\tlearn: 0.5387855\ttest: 0.5420418\tbest: 0.5427097 (92)\ttotal: 6.38s\tremaining: 31.1s\n",
      "136:\tlearn: 0.5388307\ttest: 0.5423209\tbest: 0.5427097 (92)\ttotal: 6.42s\tremaining: 31.1s\n",
      "137:\tlearn: 0.5388571\ttest: 0.5423209\tbest: 0.5427097 (92)\ttotal: 6.48s\tremaining: 31.1s\n",
      "138:\tlearn: 0.5390793\ttest: 0.5423209\tbest: 0.5427097 (92)\ttotal: 6.53s\tremaining: 31.1s\n",
      "139:\tlearn: 0.5390453\ttest: 0.5420418\tbest: 0.5427097 (92)\ttotal: 6.58s\tremaining: 31s\n",
      "140:\tlearn: 0.5391432\ttest: 0.5420418\tbest: 0.5427097 (92)\ttotal: 6.64s\tremaining: 31s\n",
      "141:\tlearn: 0.5387252\ttest: 0.5420418\tbest: 0.5427097 (92)\ttotal: 6.69s\tremaining: 31s\n",
      "142:\tlearn: 0.5388682\ttest: 0.5420418\tbest: 0.5427097 (92)\ttotal: 6.74s\tremaining: 31s\n",
      "143:\tlearn: 0.5389661\ttest: 0.5420418\tbest: 0.5427097 (92)\ttotal: 6.79s\tremaining: 30.9s\n",
      "144:\tlearn: 0.5388231\ttest: 0.5420418\tbest: 0.5427097 (92)\ttotal: 6.84s\tremaining: 30.9s\n",
      "145:\tlearn: 0.5388946\ttest: 0.5420418\tbest: 0.5427097 (92)\ttotal: 6.88s\tremaining: 30.8s\n",
      "146:\tlearn: 0.5389397\ttest: 0.5422171\tbest: 0.5427097 (92)\ttotal: 6.93s\tremaining: 30.8s\n",
      "147:\tlearn: 0.5390376\ttest: 0.5422171\tbest: 0.5427097 (92)\ttotal: 6.98s\tremaining: 30.8s\n",
      "148:\tlearn: 0.5392258\ttest: 0.5420489\tbest: 0.5427097 (92)\ttotal: 7.03s\tremaining: 30.7s\n",
      "149:\tlearn: 0.5392896\ttest: 0.5420489\tbest: 0.5427097 (92)\ttotal: 7.08s\tremaining: 30.7s\n",
      "150:\tlearn: 0.5393610\ttest: 0.5420489\tbest: 0.5427097 (92)\ttotal: 7.13s\tremaining: 30.6s\n",
      "151:\tlearn: 0.5393874\ttest: 0.5417702\tbest: 0.5427097 (92)\ttotal: 7.17s\tremaining: 30.6s\n",
      "152:\tlearn: 0.5395039\ttest: 0.5417702\tbest: 0.5427097 (92)\ttotal: 7.22s\tremaining: 30.6s\n",
      "153:\tlearn: 0.5395039\ttest: 0.5417702\tbest: 0.5427097 (92)\ttotal: 7.28s\tremaining: 30.5s\n",
      "154:\tlearn: 0.5398005\ttest: 0.5414914\tbest: 0.5427097 (92)\ttotal: 7.33s\tremaining: 30.5s\n",
      "155:\tlearn: 0.5397447\ttest: 0.5418022\tbest: 0.5427097 (92)\ttotal: 7.38s\tremaining: 30.5s\n",
      "156:\tlearn: 0.5398425\ttest: 0.5420811\tbest: 0.5427097 (92)\ttotal: 7.44s\tremaining: 30.5s\n",
      "157:\tlearn: 0.5400831\ttest: 0.5429172\tbest: 0.5429172 (157)\ttotal: 7.49s\tremaining: 30.4s\n",
      "158:\tlearn: 0.5401546\ttest: 0.5428135\tbest: 0.5429172 (157)\ttotal: 7.54s\tremaining: 30.4s\n",
      "159:\tlearn: 0.5401546\ttest: 0.5429882\tbest: 0.5429882 (159)\ttotal: 7.59s\tremaining: 30.4s\n",
      "160:\tlearn: 0.5400753\ttest: 0.5428844\tbest: 0.5429882 (159)\ttotal: 7.64s\tremaining: 30.3s\n",
      "161:\tlearn: 0.5400567\ttest: 0.5426060\tbest: 0.5429882 (159)\ttotal: 7.69s\tremaining: 30.3s\n",
      "162:\tlearn: 0.5402788\ttest: 0.5422239\tbest: 0.5429882 (159)\ttotal: 7.74s\tremaining: 30.2s\n",
      "163:\tlearn: 0.5403131\ttest: 0.5422239\tbest: 0.5429882 (159)\ttotal: 7.79s\tremaining: 30.2s\n",
      "164:\tlearn: 0.5405273\ttest: 0.5421526\tbest: 0.5429882 (159)\ttotal: 7.83s\tremaining: 30.1s\n",
      "165:\tlearn: 0.5407864\ttest: 0.5421526\tbest: 0.5429882 (159)\ttotal: 7.88s\tremaining: 30.1s\n",
      "166:\tlearn: 0.5409555\ttest: 0.5420489\tbest: 0.5429882 (159)\ttotal: 7.93s\tremaining: 30.1s\n",
      "167:\tlearn: 0.5412674\ttest: 0.5424312\tbest: 0.5429882 (159)\ttotal: 7.98s\tremaining: 30s\n",
      "168:\tlearn: 0.5412570\ttest: 0.5422562\tbest: 0.5429882 (159)\ttotal: 8.03s\tremaining: 30s\n",
      "169:\tlearn: 0.5411224\ttest: 0.5417702\tbest: 0.5429882 (159)\ttotal: 8.09s\tremaining: 30s\n",
      "170:\tlearn: 0.5412202\ttest: 0.5417702\tbest: 0.5429882 (159)\ttotal: 8.13s\tremaining: 29.9s\n",
      "171:\tlearn: 0.5409876\ttest: 0.5417702\tbest: 0.5429882 (159)\ttotal: 8.18s\tremaining: 29.9s\n",
      "172:\tlearn: 0.5412018\ttest: 0.5417702\tbest: 0.5429882 (159)\ttotal: 8.23s\tremaining: 29.8s\n",
      "173:\tlearn: 0.5413262\ttest: 0.5417702\tbest: 0.5429882 (159)\ttotal: 8.29s\tremaining: 29.8s\n",
      "174:\tlearn: 0.5418970\ttest: 0.5416667\tbest: 0.5429882 (159)\ttotal: 8.34s\tremaining: 29.8s\n",
      "175:\tlearn: 0.5416565\ttest: 0.5416667\tbest: 0.5429882 (159)\ttotal: 8.39s\tremaining: 29.8s\n",
      "176:\tlearn: 0.5418888\ttest: 0.5416667\tbest: 0.5429882 (159)\ttotal: 8.45s\tremaining: 29.7s\n",
      "177:\tlearn: 0.5418888\ttest: 0.5416667\tbest: 0.5429882 (159)\ttotal: 8.5s\tremaining: 29.7s\n",
      "178:\tlearn: 0.5418888\ttest: 0.5416667\tbest: 0.5429882 (159)\ttotal: 8.56s\tremaining: 29.7s\n",
      "179:\tlearn: 0.5417726\ttest: 0.5416667\tbest: 0.5429882 (159)\ttotal: 8.61s\tremaining: 29.7s\n",
      "180:\tlearn: 0.5417726\ttest: 0.5416667\tbest: 0.5429882 (159)\ttotal: 8.66s\tremaining: 29.6s\n",
      "181:\tlearn: 0.5416565\ttest: 0.5417702\tbest: 0.5429882 (159)\ttotal: 8.72s\tremaining: 29.6s\n",
      "182:\tlearn: 0.5418338\ttest: 0.5419774\tbest: 0.5429882 (159)\ttotal: 8.76s\tremaining: 29.6s\n",
      "183:\tlearn: 0.5418869\ttest: 0.5418738\tbest: 0.5429882 (159)\ttotal: 8.81s\tremaining: 29.5s\n",
      "184:\tlearn: 0.5421009\ttest: 0.5418738\tbest: 0.5429882 (159)\ttotal: 8.86s\tremaining: 29.5s\n",
      "185:\tlearn: 0.5420744\ttest: 0.5419774\tbest: 0.5429882 (159)\ttotal: 8.91s\tremaining: 29.4s\n",
      "186:\tlearn: 0.5421009\ttest: 0.5419774\tbest: 0.5429882 (159)\ttotal: 8.96s\tremaining: 29.4s\n",
      "187:\tlearn: 0.5423679\ttest: 0.5419774\tbest: 0.5429882 (159)\ttotal: 9.02s\tremaining: 29.4s\n",
      "188:\tlearn: 0.5423679\ttest: 0.5419774\tbest: 0.5429882 (159)\ttotal: 9.07s\tremaining: 29.3s\n",
      "189:\tlearn: 0.5425454\ttest: 0.5419774\tbest: 0.5429882 (159)\ttotal: 9.11s\tremaining: 29.3s\n",
      "190:\tlearn: 0.5426349\ttest: 0.5419774\tbest: 0.5429882 (159)\ttotal: 9.16s\tremaining: 29.2s\n",
      "191:\tlearn: 0.5424210\ttest: 0.5419774\tbest: 0.5429882 (159)\ttotal: 9.21s\tremaining: 29.2s\n",
      "192:\tlearn: 0.5427957\ttest: 0.5419774\tbest: 0.5429882 (159)\ttotal: 9.26s\tremaining: 29.1s\n",
      "193:\tlearn: 0.5427062\ttest: 0.5419774\tbest: 0.5429882 (159)\ttotal: 9.31s\tremaining: 29.1s\n",
      "194:\tlearn: 0.5428851\ttest: 0.5419774\tbest: 0.5429882 (159)\ttotal: 9.37s\tremaining: 29.1s\n",
      "195:\tlearn: 0.5428851\ttest: 0.5419774\tbest: 0.5429882 (159)\ttotal: 9.43s\tremaining: 29.1s\n",
      "196:\tlearn: 0.5428138\ttest: 0.5419774\tbest: 0.5429882 (159)\ttotal: 9.49s\tremaining: 29s\n",
      "197:\tlearn: 0.5429032\ttest: 0.5416985\tbest: 0.5429882 (159)\ttotal: 9.54s\tremaining: 29s\n",
      "198:\tlearn: 0.5429745\ttest: 0.5416985\tbest: 0.5429882 (159)\ttotal: 9.6s\tremaining: 29s\n",
      "199:\tlearn: 0.5432063\ttest: 0.5416985\tbest: 0.5429882 (159)\ttotal: 9.65s\tremaining: 28.9s\n",
      "200:\tlearn: 0.5432871\ttest: 0.5420811\tbest: 0.5429882 (159)\ttotal: 9.7s\tremaining: 28.9s\n",
      "201:\tlearn: 0.5432159\ttest: 0.5420811\tbest: 0.5429882 (159)\ttotal: 9.76s\tremaining: 28.9s\n",
      "202:\tlearn: 0.5434475\ttest: 0.5420811\tbest: 0.5429882 (159)\ttotal: 9.8s\tremaining: 28.8s\n",
      "203:\tlearn: 0.5434209\ttest: 0.5420811\tbest: 0.5429882 (159)\ttotal: 9.86s\tremaining: 28.8s\n",
      "204:\tlearn: 0.5432786\ttest: 0.5421848\tbest: 0.5429882 (159)\ttotal: 9.91s\tremaining: 28.8s\n",
      "205:\tlearn: 0.5432786\ttest: 0.5421848\tbest: 0.5429882 (159)\ttotal: 9.97s\tremaining: 28.7s\n",
      "206:\tlearn: 0.5432605\ttest: 0.5420811\tbest: 0.5429882 (159)\ttotal: 10s\tremaining: 28.7s\n",
      "207:\tlearn: 0.5431182\ttest: 0.5420811\tbest: 0.5429882 (159)\ttotal: 10.1s\tremaining: 28.7s\n",
      "208:\tlearn: 0.5436163\ttest: 0.5420811\tbest: 0.5429882 (159)\ttotal: 10.1s\tremaining: 28.7s\n",
      "209:\tlearn: 0.5436428\ttest: 0.5418022\tbest: 0.5429882 (159)\ttotal: 10.2s\tremaining: 28.6s\n",
      "210:\tlearn: 0.5439273\ttest: 0.5419774\tbest: 0.5429882 (159)\ttotal: 10.2s\tremaining: 28.6s\n",
      "211:\tlearn: 0.5441141\ttest: 0.5421526\tbest: 0.5429882 (159)\ttotal: 10.3s\tremaining: 28.5s\n",
      "212:\tlearn: 0.5441938\ttest: 0.5421526\tbest: 0.5429882 (159)\ttotal: 10.3s\tremaining: 28.5s\n",
      "213:\tlearn: 0.5441492\ttest: 0.5418738\tbest: 0.5429882 (159)\ttotal: 10.4s\tremaining: 28.4s\n",
      "214:\tlearn: 0.5444070\ttest: 0.5418738\tbest: 0.5429882 (159)\ttotal: 10.4s\tremaining: 28.4s\n",
      "215:\tlearn: 0.5443094\ttest: 0.5418738\tbest: 0.5429882 (159)\ttotal: 10.5s\tremaining: 28.4s\n",
      "216:\tlearn: 0.5445047\ttest: 0.5418738\tbest: 0.5429882 (159)\ttotal: 10.6s\tremaining: 28.3s\n",
      "217:\tlearn: 0.5445047\ttest: 0.5418738\tbest: 0.5429882 (159)\ttotal: 10.6s\tremaining: 28.3s\n",
      "218:\tlearn: 0.5445047\ttest: 0.5418738\tbest: 0.5429882 (159)\ttotal: 10.7s\tremaining: 28.3s\n",
      "219:\tlearn: 0.5445047\ttest: 0.5418738\tbest: 0.5429882 (159)\ttotal: 10.7s\tremaining: 28.3s\n",
      "220:\tlearn: 0.5445491\ttest: 0.5418738\tbest: 0.5429882 (159)\ttotal: 10.8s\tremaining: 28.2s\n",
      "221:\tlearn: 0.5447892\ttest: 0.5418738\tbest: 0.5429882 (159)\ttotal: 10.8s\tremaining: 28.2s\n",
      "222:\tlearn: 0.5448158\ttest: 0.5420811\tbest: 0.5429882 (159)\ttotal: 10.9s\tremaining: 28.1s\n",
      "223:\tlearn: 0.5453659\ttest: 0.5420811\tbest: 0.5429882 (159)\ttotal: 10.9s\tremaining: 28.1s\n",
      "224:\tlearn: 0.5467465\ttest: 0.5420811\tbest: 0.5429882 (159)\ttotal: 11s\tremaining: 28.1s\n",
      "225:\tlearn: 0.5467465\ttest: 0.5420811\tbest: 0.5429882 (159)\ttotal: 11s\tremaining: 28s\n",
      "226:\tlearn: 0.5457647\ttest: 0.5420811\tbest: 0.5429882 (159)\ttotal: 11.1s\tremaining: 28s\n",
      "227:\tlearn: 0.5455254\ttest: 0.5420811\tbest: 0.5429882 (159)\ttotal: 11.1s\tremaining: 28s\n",
      "228:\tlearn: 0.5472405\ttest: 0.5421848\tbest: 0.5429882 (159)\ttotal: 11.2s\tremaining: 27.9s\n",
      "229:\tlearn: 0.5472937\ttest: 0.5421848\tbest: 0.5429882 (159)\ttotal: 11.2s\tremaining: 27.9s\n",
      "230:\tlearn: 0.5471358\ttest: 0.5421848\tbest: 0.5429882 (159)\ttotal: 11.3s\tremaining: 27.8s\n",
      "231:\tlearn: 0.5471716\ttest: 0.5411720\tbest: 0.5429882 (159)\ttotal: 11.3s\tremaining: 27.8s\n",
      "232:\tlearn: 0.5469237\ttest: 0.5411720\tbest: 0.5429882 (159)\ttotal: 11.4s\tremaining: 27.7s\n",
      "233:\tlearn: 0.5470293\ttest: 0.5411720\tbest: 0.5429882 (159)\ttotal: 11.4s\tremaining: 27.7s\n",
      "234:\tlearn: 0.5470826\ttest: 0.5411720\tbest: 0.5429882 (159)\ttotal: 11.5s\tremaining: 27.6s\n",
      "235:\tlearn: 0.5478946\ttest: 0.5409239\tbest: 0.5429882 (159)\ttotal: 11.6s\tremaining: 27.6s\n",
      "236:\tlearn: 0.5483275\ttest: 0.5404680\tbest: 0.5429882 (159)\ttotal: 11.6s\tremaining: 27.6s\n",
      "237:\tlearn: 0.5483369\ttest: 0.5404680\tbest: 0.5429882 (159)\ttotal: 11.7s\tremaining: 27.5s\n",
      "238:\tlearn: 0.5483636\ttest: 0.5404680\tbest: 0.5429882 (159)\ttotal: 11.7s\tremaining: 27.5s\n",
      "239:\tlearn: 0.5484342\ttest: 0.5403643\tbest: 0.5429882 (159)\ttotal: 11.8s\tremaining: 27.5s\n",
      "240:\tlearn: 0.5484342\ttest: 0.5403643\tbest: 0.5429882 (159)\ttotal: 11.8s\tremaining: 27.4s\n",
      "241:\tlearn: 0.5484875\ttest: 0.5405716\tbest: 0.5429882 (159)\ttotal: 11.9s\tremaining: 27.4s\n",
      "242:\tlearn: 0.5486114\ttest: 0.5405716\tbest: 0.5429882 (159)\ttotal: 11.9s\tremaining: 27.3s\n",
      "243:\tlearn: 0.5487087\ttest: 0.5405716\tbest: 0.5429882 (159)\ttotal: 12s\tremaining: 27.3s\n",
      "244:\tlearn: 0.5487698\ttest: 0.5407478\tbest: 0.5429882 (159)\ttotal: 12s\tremaining: 27.2s\n",
      "245:\tlearn: 0.5487259\ttest: 0.5407478\tbest: 0.5429882 (159)\ttotal: 12.1s\tremaining: 27.2s\n",
      "246:\tlearn: 0.5485486\ttest: 0.5407478\tbest: 0.5429882 (159)\ttotal: 12.1s\tremaining: 27.2s\n",
      "247:\tlearn: 0.5486459\ttest: 0.5404680\tbest: 0.5429882 (159)\ttotal: 12.2s\tremaining: 27.1s\n",
      "248:\tlearn: 0.5489720\ttest: 0.5404680\tbest: 0.5429882 (159)\ttotal: 12.2s\tremaining: 27.1s\n",
      "249:\tlearn: 0.5491226\ttest: 0.5403643\tbest: 0.5429882 (159)\ttotal: 12.3s\tremaining: 27s\n",
      "250:\tlearn: 0.5492465\ttest: 0.5403643\tbest: 0.5429882 (159)\ttotal: 12.3s\tremaining: 27s\n",
      "251:\tlearn: 0.5492540\ttest: 0.5403334\tbest: 0.5429882 (159)\ttotal: 12.4s\tremaining: 27s\n",
      "252:\tlearn: 0.5492978\ttest: 0.5403334\tbest: 0.5429882 (159)\ttotal: 12.5s\tremaining: 26.9s\n",
      "253:\tlearn: 0.5492978\ttest: 0.5403334\tbest: 0.5429882 (159)\ttotal: 12.5s\tremaining: 26.9s\n",
      "254:\tlearn: 0.5492978\ttest: 0.5403334\tbest: 0.5429882 (159)\ttotal: 12.6s\tremaining: 26.9s\n",
      "255:\tlearn: 0.5492978\ttest: 0.5403334\tbest: 0.5429882 (159)\ttotal: 12.6s\tremaining: 26.8s\n",
      "256:\tlearn: 0.5482960\ttest: 0.5402299\tbest: 0.5429882 (159)\ttotal: 12.7s\tremaining: 26.8s\n",
      "257:\tlearn: 0.5483400\ttest: 0.5402299\tbest: 0.5429882 (159)\ttotal: 12.7s\tremaining: 26.7s\n",
      "258:\tlearn: 0.5486665\ttest: 0.5404060\tbest: 0.5429882 (159)\ttotal: 12.8s\tremaining: 26.7s\n",
      "259:\tlearn: 0.5495820\ttest: 0.5437560\tbest: 0.5437560 (259)\ttotal: 12.8s\tremaining: 26.6s\n",
      "260:\tlearn: 0.5495820\ttest: 0.5439299\tbest: 0.5439299 (260)\ttotal: 12.9s\tremaining: 26.6s\n",
      "261:\tlearn: 0.5495552\ttest: 0.5439299\tbest: 0.5439299 (260)\ttotal: 12.9s\tremaining: 26.5s\n",
      "262:\tlearn: 0.5495552\ttest: 0.5439299\tbest: 0.5439299 (260)\ttotal: 13s\tremaining: 26.5s\n",
      "263:\tlearn: 0.5496525\ttest: 0.5439299\tbest: 0.5439299 (260)\ttotal: 13s\tremaining: 26.4s\n",
      "264:\tlearn: 0.5497230\ttest: 0.5444847\tbest: 0.5444847 (264)\ttotal: 13.1s\tremaining: 26.4s\n",
      "265:\tlearn: 0.5497764\ttest: 0.5444847\tbest: 0.5444847 (264)\ttotal: 13.1s\tremaining: 26.3s\n",
      "266:\tlearn: 0.5497423\ttest: 0.5445884\tbest: 0.5445884 (266)\ttotal: 13.2s\tremaining: 26.3s\n",
      "267:\tlearn: 0.5498736\ttest: 0.5446922\tbest: 0.5446922 (267)\ttotal: 13.2s\tremaining: 26.3s\n",
      "268:\tlearn: 0.5498736\ttest: 0.5446922\tbest: 0.5446922 (267)\ttotal: 13.3s\tremaining: 26.2s\n",
      "269:\tlearn: 0.5498736\ttest: 0.5446922\tbest: 0.5446922 (267)\ttotal: 13.3s\tremaining: 26.2s\n",
      "270:\tlearn: 0.5499003\ttest: 0.5441373\tbest: 0.5446922 (267)\ttotal: 13.4s\tremaining: 26.1s\n",
      "271:\tlearn: 0.5501992\ttest: 0.5447960\tbest: 0.5447960 (271)\ttotal: 13.5s\tremaining: 26.1s\n",
      "272:\tlearn: 0.5502795\ttest: 0.5447960\tbest: 0.5447960 (271)\ttotal: 13.5s\tremaining: 26.1s\n",
      "273:\tlearn: 0.5503936\ttest: 0.5446922\tbest: 0.5447960 (271)\ttotal: 13.6s\tremaining: 26.1s\n",
      "274:\tlearn: 0.5509232\ttest: 0.5449695\tbest: 0.5449695 (274)\ttotal: 13.7s\tremaining: 26.1s\n",
      "275:\tlearn: 0.5513387\ttest: 0.5449695\tbest: 0.5449695 (274)\ttotal: 13.7s\tremaining: 26.1s\n",
      "276:\tlearn: 0.5512951\ttest: 0.5448657\tbest: 0.5449695 (274)\ttotal: 13.8s\tremaining: 26s\n",
      "277:\tlearn: 0.5511543\ttest: 0.5448657\tbest: 0.5449695 (274)\ttotal: 13.8s\tremaining: 26s\n",
      "278:\tlearn: 0.5511275\ttest: 0.5448657\tbest: 0.5449695 (274)\ttotal: 13.9s\tremaining: 25.9s\n",
      "279:\tlearn: 0.5511712\ttest: 0.5451429\tbest: 0.5451429 (279)\ttotal: 13.9s\tremaining: 25.9s\n",
      "280:\tlearn: 0.5511979\ttest: 0.5450390\tbest: 0.5451429 (279)\ttotal: 14s\tremaining: 25.8s\n",
      "281:\tlearn: 0.5512683\ttest: 0.5450390\tbest: 0.5451429 (279)\ttotal: 14s\tremaining: 25.8s\n",
      "282:\tlearn: 0.5512683\ttest: 0.5444847\tbest: 0.5451429 (279)\ttotal: 14.1s\tremaining: 25.7s\n",
      "283:\tlearn: 0.5519884\ttest: 0.5444847\tbest: 0.5451429 (279)\ttotal: 14.1s\tremaining: 25.7s\n",
      "284:\tlearn: 0.5519984\ttest: 0.5443110\tbest: 0.5451429 (279)\ttotal: 14.2s\tremaining: 25.7s\n",
      "285:\tlearn: 0.5519984\ttest: 0.5443110\tbest: 0.5451429 (279)\ttotal: 14.3s\tremaining: 25.6s\n",
      "286:\tlearn: 0.5518580\ttest: 0.5440335\tbest: 0.5451429 (279)\ttotal: 14.3s\tremaining: 25.6s\n",
      "287:\tlearn: 0.5517877\ttest: 0.5440335\tbest: 0.5451429 (279)\ttotal: 14.4s\tremaining: 25.5s\n",
      "288:\tlearn: 0.5518580\ttest: 0.5437560\tbest: 0.5451429 (279)\ttotal: 14.4s\tremaining: 25.5s\n",
      "289:\tlearn: 0.5520520\ttest: 0.5444847\tbest: 0.5451429 (279)\ttotal: 14.5s\tremaining: 25.5s\n",
      "290:\tlearn: 0.5519818\ttest: 0.5447619\tbest: 0.5451429 (279)\ttotal: 14.5s\tremaining: 25.4s\n",
      "291:\tlearn: 0.5521490\ttest: 0.5447619\tbest: 0.5451429 (279)\ttotal: 14.6s\tremaining: 25.4s\n",
      "292:\tlearn: 0.5520788\ttest: 0.5444847\tbest: 0.5451429 (279)\ttotal: 14.6s\tremaining: 25.3s\n",
      "293:\tlearn: 0.5521758\ttest: 0.5442773\tbest: 0.5451429 (279)\ttotal: 14.7s\tremaining: 25.3s\n",
      "294:\tlearn: 0.5523431\ttest: 0.5443810\tbest: 0.5451429 (279)\ttotal: 14.7s\tremaining: 25.2s\n",
      "295:\tlearn: 0.5522728\ttest: 0.5443810\tbest: 0.5451429 (279)\ttotal: 14.8s\tremaining: 25.2s\n",
      "296:\tlearn: 0.5522996\ttest: 0.5443810\tbest: 0.5451429 (279)\ttotal: 14.9s\tremaining: 25.2s\n",
      "297:\tlearn: 0.5524835\ttest: 0.5441036\tbest: 0.5451429 (279)\ttotal: 14.9s\tremaining: 25.1s\n",
      "298:\tlearn: 0.5523532\ttest: 0.5442773\tbest: 0.5451429 (279)\ttotal: 15s\tremaining: 25.1s\n",
      "299:\tlearn: 0.5524235\ttest: 0.5443810\tbest: 0.5451429 (279)\ttotal: 15s\tremaining: 25s\n",
      "300:\tlearn: 0.5526341\ttest: 0.5442073\tbest: 0.5451429 (279)\ttotal: 15.1s\tremaining: 25s\n",
      "301:\tlearn: 0.5521866\ttest: 0.5442773\tbest: 0.5451429 (279)\ttotal: 15.1s\tremaining: 25s\n",
      "302:\tlearn: 0.5521866\ttest: 0.5442773\tbest: 0.5451429 (279)\ttotal: 15.2s\tremaining: 24.9s\n",
      "303:\tlearn: 0.5529417\ttest: 0.5441736\tbest: 0.5451429 (279)\ttotal: 15.3s\tremaining: 24.9s\n",
      "304:\tlearn: 0.5529788\ttest: 0.5441736\tbest: 0.5451429 (279)\ttotal: 15.3s\tremaining: 24.9s\n",
      "305:\tlearn: 0.5528653\ttest: 0.5441736\tbest: 0.5451429 (279)\ttotal: 15.4s\tremaining: 24.8s\n",
      "306:\tlearn: 0.5529355\ttest: 0.5441736\tbest: 0.5451429 (279)\ttotal: 15.4s\tremaining: 24.8s\n",
      "307:\tlearn: 0.5529086\ttest: 0.5441736\tbest: 0.5451429 (279)\ttotal: 15.5s\tremaining: 24.8s\n",
      "308:\tlearn: 0.5527682\ttest: 0.5441736\tbest: 0.5451429 (279)\ttotal: 15.6s\tremaining: 24.7s\n",
      "309:\tlearn: 0.5528384\ttest: 0.5444508\tbest: 0.5451429 (279)\ttotal: 15.6s\tremaining: 24.7s\n",
      "310:\tlearn: 0.5527682\ttest: 0.5444508\tbest: 0.5451429 (279)\ttotal: 15.7s\tremaining: 24.6s\n",
      "311:\tlearn: 0.5528384\ttest: 0.5444508\tbest: 0.5451429 (279)\ttotal: 15.7s\tremaining: 24.6s\n",
      "312:\tlearn: 0.5528487\ttest: 0.5440701\tbest: 0.5451429 (279)\ttotal: 15.8s\tremaining: 24.5s\n",
      "313:\tlearn: 0.5525779\ttest: 0.5440701\tbest: 0.5451429 (279)\ttotal: 15.8s\tremaining: 24.5s\n",
      "314:\tlearn: 0.5520393\ttest: 0.5441736\tbest: 0.5451429 (279)\ttotal: 15.9s\tremaining: 24.4s\n",
      "315:\tlearn: 0.5522069\ttest: 0.5441736\tbest: 0.5451429 (279)\ttotal: 15.9s\tremaining: 24.4s\n",
      "316:\tlearn: 0.5525152\ttest: 0.5441736\tbest: 0.5451429 (279)\ttotal: 16s\tremaining: 24.3s\n",
      "317:\tlearn: 0.5528921\ttest: 0.5439299\tbest: 0.5451429 (279)\ttotal: 16s\tremaining: 24.3s\n",
      "318:\tlearn: 0.5531027\ttest: 0.5439299\tbest: 0.5451429 (279)\ttotal: 16.1s\tremaining: 24.2s\n",
      "319:\tlearn: 0.5531997\ttest: 0.5438262\tbest: 0.5451429 (279)\ttotal: 16.1s\tremaining: 24.2s\n",
      "320:\tlearn: 0.5532699\ttest: 0.5438262\tbest: 0.5451429 (279)\ttotal: 16.2s\tremaining: 24.1s\n",
      "321:\tlearn: 0.5532699\ttest: 0.5438262\tbest: 0.5451429 (279)\ttotal: 16.2s\tremaining: 24.1s\n",
      "322:\tlearn: 0.5531729\ttest: 0.5438262\tbest: 0.5451429 (279)\ttotal: 16.3s\tremaining: 24.1s\n",
      "323:\tlearn: 0.5533731\ttest: 0.5440335\tbest: 0.5451429 (279)\ttotal: 16.3s\tremaining: 24s\n",
      "324:\tlearn: 0.5533029\ttest: 0.5440335\tbest: 0.5451429 (279)\ttotal: 16.4s\tremaining: 23.9s\n",
      "325:\tlearn: 0.5532121\ttest: 0.5440335\tbest: 0.5451429 (279)\ttotal: 16.4s\tremaining: 23.9s\n",
      "326:\tlearn: 0.5532183\ttest: 0.5440335\tbest: 0.5451429 (279)\ttotal: 16.5s\tremaining: 23.9s\n",
      "327:\tlearn: 0.5513545\ttest: 0.5440335\tbest: 0.5451429 (279)\ttotal: 16.6s\tremaining: 23.8s\n",
      "328:\tlearn: 0.5514451\ttest: 0.5440335\tbest: 0.5451429 (279)\ttotal: 16.6s\tremaining: 23.8s\n",
      "329:\tlearn: 0.5515627\ttest: 0.5405095\tbest: 0.5451429 (279)\ttotal: 16.7s\tremaining: 23.7s\n",
      "330:\tlearn: 0.5518721\ttest: 0.5405095\tbest: 0.5451429 (279)\ttotal: 16.7s\tremaining: 23.7s\n",
      "331:\tlearn: 0.5518990\ttest: 0.5405095\tbest: 0.5451429 (279)\ttotal: 16.8s\tremaining: 23.6s\n",
      "332:\tlearn: 0.5519158\ttest: 0.5405095\tbest: 0.5451429 (279)\ttotal: 16.8s\tremaining: 23.6s\n",
      "333:\tlearn: 0.5520402\ttest: 0.5405095\tbest: 0.5451429 (279)\ttotal: 16.9s\tremaining: 23.5s\n",
      "334:\tlearn: 0.5519427\ttest: 0.5405095\tbest: 0.5451429 (279)\ttotal: 16.9s\tremaining: 23.5s\n",
      "335:\tlearn: 0.5517477\ttest: 0.5406130\tbest: 0.5451429 (279)\ttotal: 17s\tremaining: 23.4s\n",
      "336:\tlearn: 0.5517746\ttest: 0.5406130\tbest: 0.5451429 (279)\ttotal: 17s\tremaining: 23.4s\n",
      "337:\tlearn: 0.5517746\ttest: 0.5406130\tbest: 0.5451429 (279)\ttotal: 17.1s\tremaining: 23.3s\n",
      "338:\tlearn: 0.5519427\ttest: 0.5406130\tbest: 0.5451429 (279)\ttotal: 17.1s\tremaining: 23.3s\n",
      "339:\tlearn: 0.5520133\ttest: 0.5405095\tbest: 0.5451429 (279)\ttotal: 17.2s\tremaining: 23.2s\n",
      "340:\tlearn: 0.5521981\ttest: 0.5405095\tbest: 0.5451429 (279)\ttotal: 17.2s\tremaining: 23.2s\n",
      "341:\tlearn: 0.5523661\ttest: 0.5404060\tbest: 0.5451429 (279)\ttotal: 17.3s\tremaining: 23.2s\n",
      "342:\tlearn: 0.5525944\ttest: 0.5404060\tbest: 0.5451429 (279)\ttotal: 17.3s\tremaining: 23.1s\n",
      "343:\tlearn: 0.5524970\ttest: 0.5404060\tbest: 0.5451429 (279)\ttotal: 17.4s\tremaining: 23s\n",
      "344:\tlearn: 0.5523457\ttest: 0.5405095\tbest: 0.5451429 (279)\ttotal: 17.4s\tremaining: 23s\n",
      "345:\tlearn: 0.5527251\ttest: 0.5405095\tbest: 0.5451429 (279)\ttotal: 17.5s\tremaining: 22.9s\n",
      "346:\tlearn: 0.5527790\ttest: 0.5402299\tbest: 0.5451429 (279)\ttotal: 17.5s\tremaining: 22.9s\n",
      "347:\tlearn: 0.5551360\ttest: 0.5405095\tbest: 0.5451429 (279)\ttotal: 17.6s\tremaining: 22.8s\n",
      "348:\tlearn: 0.5552328\ttest: 0.5405095\tbest: 0.5451429 (279)\ttotal: 17.6s\tremaining: 22.8s\n",
      "349:\tlearn: 0.5533551\ttest: 0.5405095\tbest: 0.5451429 (279)\ttotal: 17.7s\tremaining: 22.8s\n",
      "350:\tlearn: 0.5553082\ttest: 0.5404060\tbest: 0.5451429 (279)\ttotal: 17.7s\tremaining: 22.7s\n",
      "351:\tlearn: 0.5557168\ttest: 0.5404060\tbest: 0.5451429 (279)\ttotal: 17.8s\tremaining: 22.6s\n",
      "352:\tlearn: 0.5557007\ttest: 0.5398773\tbest: 0.5451429 (279)\ttotal: 17.8s\tremaining: 22.6s\n",
      "353:\tlearn: 0.5556469\ttest: 0.5400537\tbest: 0.5451429 (279)\ttotal: 17.9s\tremaining: 22.6s\n",
      "354:\tlearn: 0.5561947\ttest: 0.5400537\tbest: 0.5451429 (279)\ttotal: 18s\tremaining: 22.5s\n",
      "355:\tlearn: 0.5541349\ttest: 0.5401572\tbest: 0.5451429 (279)\ttotal: 18s\tremaining: 22.5s\n",
      "356:\tlearn: 0.5539390\ttest: 0.5400844\tbest: 0.5451429 (279)\ttotal: 18s\tremaining: 22.4s\n",
      "357:\tlearn: 0.5562331\ttest: 0.5400844\tbest: 0.5451429 (279)\ttotal: 18.1s\tremaining: 22.3s\n",
      "358:\tlearn: 0.5543013\ttest: 0.5400844\tbest: 0.5451429 (279)\ttotal: 18.1s\tremaining: 22.3s\n",
      "359:\tlearn: 0.5542309\ttest: 0.5400844\tbest: 0.5451429 (279)\ttotal: 18.2s\tremaining: 22.2s\n",
      "360:\tlearn: 0.5545941\ttest: 0.5400844\tbest: 0.5451429 (279)\ttotal: 18.2s\tremaining: 22.2s\n",
      "361:\tlearn: 0.5554801\ttest: 0.5400844\tbest: 0.5451429 (279)\ttotal: 18.3s\tremaining: 22.1s\n",
      "362:\tlearn: 0.5557872\ttest: 0.5400844\tbest: 0.5451429 (279)\ttotal: 18.4s\tremaining: 22.1s\n",
      "363:\tlearn: 0.5577489\ttest: 0.5403643\tbest: 0.5451429 (279)\ttotal: 18.4s\tremaining: 22s\n",
      "364:\tlearn: 0.5579039\ttest: 0.5403643\tbest: 0.5451429 (279)\ttotal: 18.4s\tremaining: 22s\n",
      "365:\tlearn: 0.5579196\ttest: 0.5404680\tbest: 0.5451429 (279)\ttotal: 18.5s\tremaining: 21.9s\n",
      "366:\tlearn: 0.5584109\ttest: 0.5403643\tbest: 0.5451429 (279)\ttotal: 18.6s\tremaining: 21.9s\n",
      "367:\tlearn: 0.5566051\ttest: 0.5404680\tbest: 0.5451429 (279)\ttotal: 18.6s\tremaining: 21.8s\n",
      "368:\tlearn: 0.5566271\ttest: 0.5401880\tbest: 0.5451429 (279)\ttotal: 18.7s\tremaining: 21.8s\n",
      "369:\tlearn: 0.5569816\ttest: 0.5404680\tbest: 0.5451429 (279)\ttotal: 18.7s\tremaining: 21.7s\n",
      "370:\tlearn: 0.5569547\ttest: 0.5404680\tbest: 0.5451429 (279)\ttotal: 18.8s\tremaining: 21.7s\n",
      "371:\tlearn: 0.5570086\ttest: 0.5404680\tbest: 0.5451429 (279)\ttotal: 18.8s\tremaining: 21.6s\n",
      "372:\tlearn: 0.5568848\ttest: 0.5404680\tbest: 0.5451429 (279)\ttotal: 18.9s\tremaining: 21.6s\n",
      "373:\tlearn: 0.5569547\ttest: 0.5404680\tbest: 0.5451429 (279)\ttotal: 18.9s\tremaining: 21.5s\n",
      "374:\tlearn: 0.5570246\ttest: 0.5403643\tbest: 0.5451429 (279)\ttotal: 19s\tremaining: 21.5s\n",
      "375:\tlearn: 0.5570356\ttest: 0.5403643\tbest: 0.5451429 (279)\ttotal: 19s\tremaining: 21.4s\n",
      "376:\tlearn: 0.5569657\ttest: 0.5403643\tbest: 0.5451429 (279)\ttotal: 19.1s\tremaining: 21.4s\n",
      "377:\tlearn: 0.5571325\ttest: 0.5406442\tbest: 0.5451429 (279)\ttotal: 19.1s\tremaining: 21.4s\n",
      "378:\tlearn: 0.5569927\ttest: 0.5403643\tbest: 0.5451429 (279)\ttotal: 19.2s\tremaining: 21.3s\n",
      "379:\tlearn: 0.5569927\ttest: 0.5403643\tbest: 0.5451429 (279)\ttotal: 19.3s\tremaining: 21.3s\n",
      "380:\tlearn: 0.5569927\ttest: 0.5403643\tbest: 0.5451429 (279)\ttotal: 19.3s\tremaining: 21.2s\n",
      "381:\tlearn: 0.5572024\ttest: 0.5402607\tbest: 0.5451429 (279)\ttotal: 19.4s\tremaining: 21.2s\n",
      "382:\tlearn: 0.5571595\ttest: 0.5402607\tbest: 0.5451429 (279)\ttotal: 19.4s\tremaining: 21.1s\n",
      "383:\tlearn: 0.5569387\ttest: 0.5402607\tbest: 0.5451429 (279)\ttotal: 19.5s\tremaining: 21.1s\n",
      "384:\tlearn: 0.5568259\ttest: 0.5402607\tbest: 0.5451429 (279)\ttotal: 19.5s\tremaining: 21s\n",
      "385:\tlearn: 0.5568259\ttest: 0.5402607\tbest: 0.5451429 (279)\ttotal: 19.6s\tremaining: 21s\n",
      "386:\tlearn: 0.5572024\ttest: 0.5404369\tbest: 0.5451429 (279)\ttotal: 19.6s\tremaining: 21s\n",
      "387:\tlearn: 0.5573691\ttest: 0.5404369\tbest: 0.5451429 (279)\ttotal: 19.7s\tremaining: 20.9s\n",
      "388:\tlearn: 0.5574548\ttest: 0.5403334\tbest: 0.5451429 (279)\ttotal: 19.7s\tremaining: 20.9s\n",
      "389:\tlearn: 0.5575675\ttest: 0.5401572\tbest: 0.5451429 (279)\ttotal: 19.8s\tremaining: 20.8s\n",
      "390:\tlearn: 0.5576374\ttest: 0.5401572\tbest: 0.5451429 (279)\ttotal: 19.8s\tremaining: 20.8s\n",
      "391:\tlearn: 0.5575834\ttest: 0.5401572\tbest: 0.5451429 (279)\ttotal: 19.9s\tremaining: 20.7s\n",
      "392:\tlearn: 0.5575834\ttest: 0.5401572\tbest: 0.5451429 (279)\ttotal: 20s\tremaining: 20.7s\n",
      "393:\tlearn: 0.5575136\ttest: 0.5401572\tbest: 0.5451429 (279)\ttotal: 20s\tremaining: 20.6s\n",
      "394:\tlearn: 0.5574977\ttest: 0.5401572\tbest: 0.5451429 (279)\ttotal: 20.1s\tremaining: 20.6s\n",
      "395:\tlearn: 0.5574977\ttest: 0.5401572\tbest: 0.5451429 (279)\ttotal: 20.1s\tremaining: 20.5s\n",
      "396:\tlearn: 0.5574548\ttest: 0.5401572\tbest: 0.5451429 (279)\ttotal: 20.2s\tremaining: 20.5s\n",
      "397:\tlearn: 0.5575675\ttest: 0.5401572\tbest: 0.5451429 (279)\ttotal: 20.2s\tremaining: 20.4s\n",
      "398:\tlearn: 0.5575898\ttest: 0.5405405\tbest: 0.5451429 (279)\ttotal: 20.3s\tremaining: 20.4s\n",
      "399:\tlearn: 0.5576867\ttest: 0.5405405\tbest: 0.5451429 (279)\ttotal: 20.3s\tremaining: 20.3s\n",
      "400:\tlearn: 0.5575740\ttest: 0.5404369\tbest: 0.5451429 (279)\ttotal: 20.4s\tremaining: 20.3s\n",
      "401:\tlearn: 0.5597842\ttest: 0.5402916\tbest: 0.5451429 (279)\ttotal: 20.4s\tremaining: 20.2s\n",
      "402:\tlearn: 0.5577836\ttest: 0.5409239\tbest: 0.5451429 (279)\ttotal: 20.5s\tremaining: 20.2s\n",
      "403:\tlearn: 0.5598536\ttest: 0.5408202\tbest: 0.5451429 (279)\ttotal: 20.5s\tremaining: 20.1s\n",
      "404:\tlearn: 0.5599884\ttest: 0.5406754\tbest: 0.5451429 (279)\ttotal: 20.6s\tremaining: 20.1s\n",
      "405:\tlearn: 0.5598921\ttest: 0.5406754\tbest: 0.5451429 (279)\ttotal: 20.7s\tremaining: 20s\n",
      "406:\tlearn: 0.5579728\ttest: 0.5406754\tbest: 0.5451429 (279)\ttotal: 20.7s\tremaining: 20s\n",
      "407:\tlearn: 0.5579728\ttest: 0.5406754\tbest: 0.5451429 (279)\ttotal: 20.8s\tremaining: 20s\n",
      "408:\tlearn: 0.5579998\ttest: 0.5406754\tbest: 0.5451429 (279)\ttotal: 20.8s\tremaining: 19.9s\n",
      "409:\tlearn: 0.5580156\ttest: 0.5406754\tbest: 0.5451429 (279)\ttotal: 20.9s\tremaining: 19.9s\n",
      "410:\tlearn: 0.5580967\ttest: 0.5406754\tbest: 0.5451429 (279)\ttotal: 20.9s\tremaining: 19.8s\n",
      "411:\tlearn: 0.5579840\ttest: 0.5408829\tbest: 0.5451429 (279)\ttotal: 21s\tremaining: 19.8s\n",
      "412:\tlearn: 0.5580539\ttest: 0.5408829\tbest: 0.5451429 (279)\ttotal: 21.1s\tremaining: 19.7s\n",
      "413:\tlearn: 0.5579029\ttest: 0.5408829\tbest: 0.5451429 (279)\ttotal: 21.1s\tremaining: 19.7s\n",
      "414:\tlearn: 0.5580697\ttest: 0.5408829\tbest: 0.5451429 (279)\ttotal: 21.2s\tremaining: 19.6s\n",
      "415:\tlearn: 0.5580697\ttest: 0.5408829\tbest: 0.5451429 (279)\ttotal: 21.2s\tremaining: 19.6s\n",
      "416:\tlearn: 0.5582207\ttest: 0.5413390\tbest: 0.5451429 (279)\ttotal: 21.3s\tremaining: 19.5s\n",
      "417:\tlearn: 0.5581666\ttest: 0.5412351\tbest: 0.5451429 (279)\ttotal: 21.3s\tremaining: 19.5s\n",
      "418:\tlearn: 0.5584145\ttest: 0.5409553\tbest: 0.5451429 (279)\ttotal: 21.4s\tremaining: 19.4s\n",
      "419:\tlearn: 0.5587523\ttest: 0.5409553\tbest: 0.5451429 (279)\ttotal: 21.4s\tremaining: 19.4s\n",
      "420:\tlearn: 0.5587252\ttest: 0.5409553\tbest: 0.5451429 (279)\ttotal: 21.5s\tremaining: 19.3s\n",
      "421:\tlearn: 0.5587950\ttest: 0.5409553\tbest: 0.5451429 (279)\ttotal: 21.5s\tremaining: 19.3s\n",
      "422:\tlearn: 0.5587950\ttest: 0.5409553\tbest: 0.5451429 (279)\ttotal: 21.6s\tremaining: 19.2s\n",
      "423:\tlearn: 0.5588107\ttest: 0.5409553\tbest: 0.5451429 (279)\ttotal: 21.6s\tremaining: 19.2s\n",
      "424:\tlearn: 0.5588378\ttest: 0.5409553\tbest: 0.5451429 (279)\ttotal: 21.7s\tremaining: 19.1s\n",
      "425:\tlearn: 0.5590315\ttest: 0.5411629\tbest: 0.5451429 (279)\ttotal: 21.7s\tremaining: 19.1s\n",
      "426:\tlearn: 0.5591325\ttest: 0.5419774\tbest: 0.5451429 (279)\ttotal: 21.8s\tremaining: 19s\n",
      "427:\tlearn: 0.5589930\ttest: 0.5419774\tbest: 0.5451429 (279)\ttotal: 21.8s\tremaining: 19s\n",
      "428:\tlearn: 0.5589930\ttest: 0.5419774\tbest: 0.5451429 (279)\ttotal: 21.9s\tremaining: 18.9s\n",
      "429:\tlearn: 0.5590898\ttest: 0.5421526\tbest: 0.5451429 (279)\ttotal: 21.9s\tremaining: 18.9s\n",
      "430:\tlearn: 0.5590898\ttest: 0.5421526\tbest: 0.5451429 (279)\ttotal: 22s\tremaining: 18.8s\n",
      "431:\tlearn: 0.5593417\ttest: 0.5417305\tbest: 0.5451429 (279)\ttotal: 22s\tremaining: 18.8s\n",
      "432:\tlearn: 0.5594115\ttest: 0.5417305\tbest: 0.5451429 (279)\ttotal: 22.1s\tremaining: 18.7s\n",
      "433:\tlearn: 0.5594500\ttest: 0.5416268\tbest: 0.5451429 (279)\ttotal: 22.1s\tremaining: 18.7s\n",
      "434:\tlearn: 0.5593376\ttest: 0.5416268\tbest: 0.5451429 (279)\ttotal: 22.2s\tremaining: 18.6s\n",
      "435:\tlearn: 0.5592637\ttest: 0.5416268\tbest: 0.5451429 (279)\ttotal: 22.3s\tremaining: 18.6s\n",
      "436:\tlearn: 0.5596708\ttest: 0.5417305\tbest: 0.5451429 (279)\ttotal: 22.3s\tremaining: 18.5s\n",
      "437:\tlearn: 0.5596939\ttest: 0.5416268\tbest: 0.5451429 (279)\ttotal: 22.4s\tremaining: 18.5s\n",
      "438:\tlearn: 0.5602827\ttest: 0.5415232\tbest: 0.5451429 (279)\ttotal: 22.4s\tremaining: 18.5s\n",
      "439:\tlearn: 0.5601278\ttest: 0.5415232\tbest: 0.5451429 (279)\ttotal: 22.5s\tremaining: 18.4s\n",
      "440:\tlearn: 0.5600581\ttest: 0.5415232\tbest: 0.5451429 (279)\ttotal: 22.5s\tremaining: 18.4s\n",
      "441:\tlearn: 0.5599187\ttest: 0.5419059\tbest: 0.5451429 (279)\ttotal: 22.6s\tremaining: 18.3s\n",
      "442:\tlearn: 0.5599729\ttest: 0.5418022\tbest: 0.5451429 (279)\ttotal: 22.7s\tremaining: 18.3s\n",
      "443:\tlearn: 0.5600426\ttest: 0.5418022\tbest: 0.5451429 (279)\ttotal: 22.7s\tremaining: 18.2s\n",
      "444:\tlearn: 0.5598760\ttest: 0.5416268\tbest: 0.5451429 (279)\ttotal: 22.8s\tremaining: 18.2s\n",
      "445:\tlearn: 0.5604646\ttest: 0.5416268\tbest: 0.5451429 (279)\ttotal: 22.8s\tremaining: 18.1s\n",
      "446:\tlearn: 0.5606464\ttest: 0.5419059\tbest: 0.5451429 (279)\ttotal: 22.9s\tremaining: 18.1s\n",
      "447:\tlearn: 0.5607431\ttest: 0.5419059\tbest: 0.5451429 (279)\ttotal: 22.9s\tremaining: 18s\n",
      "448:\tlearn: 0.5607431\ttest: 0.5418022\tbest: 0.5451429 (279)\ttotal: 23s\tremaining: 18s\n",
      "449:\tlearn: 0.5607739\ttest: 0.5418022\tbest: 0.5451429 (279)\ttotal: 23s\tremaining: 17.9s\n",
      "450:\tlearn: 0.5607739\ttest: 0.5416268\tbest: 0.5451429 (279)\ttotal: 23.1s\tremaining: 17.9s\n",
      "451:\tlearn: 0.5607739\ttest: 0.5416268\tbest: 0.5451429 (279)\ttotal: 23.1s\tremaining: 17.8s\n",
      "452:\tlearn: 0.5608281\ttest: 0.5417305\tbest: 0.5451429 (279)\ttotal: 23.2s\tremaining: 17.8s\n",
      "453:\tlearn: 0.5608553\ttest: 0.5417305\tbest: 0.5451429 (279)\ttotal: 23.2s\tremaining: 17.7s\n",
      "454:\tlearn: 0.5608281\ttest: 0.5417305\tbest: 0.5451429 (279)\ttotal: 23.3s\tremaining: 17.7s\n",
      "455:\tlearn: 0.5608281\ttest: 0.5417305\tbest: 0.5451429 (279)\ttotal: 23.3s\tremaining: 17.6s\n",
      "456:\tlearn: 0.5608281\ttest: 0.5417305\tbest: 0.5451429 (279)\ttotal: 23.4s\tremaining: 17.6s\n",
      "457:\tlearn: 0.5608977\ttest: 0.5417305\tbest: 0.5451429 (279)\ttotal: 23.5s\tremaining: 17.5s\n",
      "458:\tlearn: 0.5609402\ttest: 0.5417305\tbest: 0.5451429 (279)\ttotal: 23.6s\tremaining: 17.5s\n",
      "459:\tlearn: 0.5609674\ttest: 0.5417305\tbest: 0.5451429 (279)\ttotal: 23.6s\tremaining: 17.4s\n",
      "460:\tlearn: 0.5612186\ttest: 0.5418342\tbest: 0.5451429 (279)\ttotal: 23.7s\tremaining: 17.4s\n",
      "461:\tlearn: 0.5612457\ttest: 0.5417305\tbest: 0.5451429 (279)\ttotal: 23.7s\tremaining: 17.4s\n",
      "462:\tlearn: 0.5614391\ttest: 0.5417305\tbest: 0.5451429 (279)\ttotal: 23.8s\tremaining: 17.3s\n",
      "463:\tlearn: 0.5614391\ttest: 0.5417305\tbest: 0.5451429 (279)\ttotal: 23.8s\tremaining: 17.3s\n",
      "464:\tlearn: 0.5614391\ttest: 0.5417305\tbest: 0.5451429 (279)\ttotal: 23.9s\tremaining: 17.2s\n",
      "465:\tlearn: 0.5615087\ttest: 0.5417305\tbest: 0.5451429 (279)\ttotal: 24s\tremaining: 17.2s\n",
      "466:\tlearn: 0.5616478\ttest: 0.5417305\tbest: 0.5451429 (279)\ttotal: 24s\tremaining: 17.1s\n",
      "467:\tlearn: 0.5616597\ttest: 0.5416268\tbest: 0.5451429 (279)\ttotal: 24.1s\tremaining: 17.1s\n",
      "468:\tlearn: 0.5616597\ttest: 0.5416268\tbest: 0.5451429 (279)\ttotal: 24.1s\tremaining: 17s\n",
      "469:\tlearn: 0.5616597\ttest: 0.5416268\tbest: 0.5451429 (279)\ttotal: 24.2s\tremaining: 17s\n",
      "470:\tlearn: 0.5618141\ttest: 0.5415232\tbest: 0.5451429 (279)\ttotal: 24.2s\tremaining: 16.9s\n",
      "471:\tlearn: 0.5617717\ttest: 0.5415232\tbest: 0.5451429 (279)\ttotal: 24.3s\tremaining: 16.9s\n",
      "472:\tlearn: 0.5618412\ttest: 0.5415232\tbest: 0.5451429 (279)\ttotal: 24.3s\tremaining: 16.8s\n",
      "473:\tlearn: 0.5616597\ttest: 0.5415232\tbest: 0.5451429 (279)\ttotal: 24.4s\tremaining: 16.8s\n",
      "474:\tlearn: 0.5616750\ttest: 0.5415232\tbest: 0.5451429 (279)\ttotal: 24.4s\tremaining: 16.7s\n",
      "475:\tlearn: 0.5619531\ttest: 0.5415232\tbest: 0.5451429 (279)\ttotal: 24.5s\tremaining: 16.7s\n",
      "476:\tlearn: 0.5620498\ttest: 0.5415232\tbest: 0.5451429 (279)\ttotal: 24.6s\tremaining: 16.6s\n",
      "477:\tlearn: 0.5624426\ttest: 0.5414196\tbest: 0.5451429 (279)\ttotal: 24.6s\tremaining: 16.6s\n",
      "478:\tlearn: 0.5624426\ttest: 0.5414196\tbest: 0.5451429 (279)\ttotal: 24.7s\tremaining: 16.5s\n",
      "479:\tlearn: 0.5624426\ttest: 0.5414196\tbest: 0.5451429 (279)\ttotal: 24.7s\tremaining: 16.5s\n",
      "480:\tlearn: 0.5625393\ttest: 0.5414196\tbest: 0.5451429 (279)\ttotal: 24.8s\tremaining: 16.4s\n",
      "481:\tlearn: 0.5625393\ttest: 0.5414196\tbest: 0.5451429 (279)\ttotal: 24.8s\tremaining: 16.4s\n",
      "482:\tlearn: 0.5625393\ttest: 0.5414196\tbest: 0.5451429 (279)\ttotal: 24.9s\tremaining: 16.3s\n",
      "483:\tlearn: 0.5626087\ttest: 0.5414196\tbest: 0.5451429 (279)\ttotal: 24.9s\tremaining: 16.3s\n",
      "484:\tlearn: 0.5624970\ttest: 0.5411405\tbest: 0.5451429 (279)\ttotal: 25s\tremaining: 16.2s\n",
      "485:\tlearn: 0.5627777\ttest: 0.5411405\tbest: 0.5451429 (279)\ttotal: 25s\tremaining: 16.2s\n",
      "486:\tlearn: 0.5624970\ttest: 0.5414196\tbest: 0.5451429 (279)\ttotal: 25.1s\tremaining: 16.1s\n",
      "487:\tlearn: 0.5624426\ttest: 0.5414196\tbest: 0.5451429 (279)\ttotal: 25.1s\tremaining: 16.1s\n",
      "488:\tlearn: 0.5630402\ttest: 0.5414196\tbest: 0.5451429 (279)\ttotal: 25.2s\tremaining: 16s\n",
      "489:\tlearn: 0.5627204\ttest: 0.5414196\tbest: 0.5451429 (279)\ttotal: 25.3s\tremaining: 16s\n",
      "490:\tlearn: 0.5627626\ttest: 0.5414196\tbest: 0.5451429 (279)\ttotal: 25.3s\tremaining: 15.9s\n",
      "491:\tlearn: 0.5627626\ttest: 0.5414196\tbest: 0.5451429 (279)\ttotal: 25.4s\tremaining: 15.9s\n",
      "492:\tlearn: 0.5628320\ttest: 0.5411405\tbest: 0.5451429 (279)\ttotal: 25.4s\tremaining: 15.8s\n",
      "493:\tlearn: 0.5628320\ttest: 0.5411405\tbest: 0.5451429 (279)\ttotal: 25.5s\tremaining: 15.8s\n",
      "494:\tlearn: 0.5628320\ttest: 0.5411405\tbest: 0.5451429 (279)\ttotal: 25.5s\tremaining: 15.7s\n",
      "495:\tlearn: 0.5628320\ttest: 0.5411405\tbest: 0.5451429 (279)\ttotal: 25.6s\tremaining: 15.7s\n",
      "496:\tlearn: 0.5628048\ttest: 0.5411405\tbest: 0.5451429 (279)\ttotal: 25.6s\tremaining: 15.6s\n",
      "497:\tlearn: 0.5625936\ttest: 0.5411405\tbest: 0.5451429 (279)\ttotal: 25.7s\tremaining: 15.6s\n",
      "498:\tlearn: 0.5626208\ttest: 0.5411405\tbest: 0.5451429 (279)\ttotal: 25.7s\tremaining: 15.5s\n",
      "499:\tlearn: 0.5627174\ttest: 0.5411405\tbest: 0.5451429 (279)\ttotal: 25.8s\tremaining: 15.5s\n",
      "500:\tlearn: 0.5627174\ttest: 0.5410369\tbest: 0.5451429 (279)\ttotal: 25.9s\tremaining: 15.4s\n",
      "501:\tlearn: 0.5627174\ttest: 0.5410369\tbest: 0.5451429 (279)\ttotal: 25.9s\tremaining: 15.4s\n",
      "502:\tlearn: 0.5627869\ttest: 0.5413160\tbest: 0.5451429 (279)\ttotal: 26s\tremaining: 15.3s\n",
      "503:\tlearn: 0.5628986\ttest: 0.5408300\tbest: 0.5451429 (279)\ttotal: 26s\tremaining: 15.3s\n",
      "504:\tlearn: 0.5629680\ttest: 0.5408300\tbest: 0.5451429 (279)\ttotal: 26.1s\tremaining: 15.2s\n",
      "505:\tlearn: 0.5630224\ttest: 0.5408300\tbest: 0.5451429 (279)\ttotal: 26.1s\tremaining: 15.2s\n",
      "506:\tlearn: 0.5630224\ttest: 0.5408300\tbest: 0.5451429 (279)\ttotal: 26.2s\tremaining: 15.1s\n",
      "507:\tlearn: 0.5629952\ttest: 0.5408300\tbest: 0.5451429 (279)\ttotal: 26.3s\tremaining: 15.1s\n",
      "508:\tlearn: 0.5629257\ttest: 0.5406543\tbest: 0.5451429 (279)\ttotal: 26.3s\tremaining: 15.1s\n",
      "509:\tlearn: 0.5629680\ttest: 0.5405509\tbest: 0.5451429 (279)\ttotal: 26.4s\tremaining: 15s\n",
      "510:\tlearn: 0.5628291\ttest: 0.5406543\tbest: 0.5451429 (279)\ttotal: 26.5s\tremaining: 15s\n",
      "511:\tlearn: 0.5631368\ttest: 0.5406543\tbest: 0.5451429 (279)\ttotal: 26.5s\tremaining: 14.9s\n",
      "512:\tlearn: 0.5633177\ttest: 0.5406543\tbest: 0.5451429 (279)\ttotal: 26.6s\tremaining: 14.9s\n",
      "513:\tlearn: 0.5632756\ttest: 0.5406543\tbest: 0.5451429 (279)\ttotal: 26.7s\tremaining: 14.8s\n",
      "514:\tlearn: 0.5632334\ttest: 0.5406543\tbest: 0.5451429 (279)\ttotal: 26.7s\tremaining: 14.8s\n",
      "515:\tlearn: 0.5634265\ttest: 0.5405509\tbest: 0.5451429 (279)\ttotal: 26.8s\tremaining: 14.8s\n",
      "516:\tlearn: 0.5634687\ttest: 0.5405509\tbest: 0.5451429 (279)\ttotal: 26.9s\tremaining: 14.7s\n",
      "517:\tlearn: 0.5634415\ttest: 0.5405509\tbest: 0.5451429 (279)\ttotal: 26.9s\tremaining: 14.7s\n",
      "518:\tlearn: 0.5636074\ttest: 0.5405509\tbest: 0.5451429 (279)\ttotal: 27s\tremaining: 14.6s\n",
      "519:\tlearn: 0.5635108\ttest: 0.5405509\tbest: 0.5451429 (279)\ttotal: 27s\tremaining: 14.5s\n",
      "520:\tlearn: 0.5635380\ttest: 0.5405509\tbest: 0.5451429 (279)\ttotal: 27.1s\tremaining: 14.5s\n",
      "521:\tlearn: 0.5634687\ttest: 0.5409334\tbest: 0.5451429 (279)\ttotal: 27.1s\tremaining: 14.4s\n",
      "522:\tlearn: 0.5634537\ttest: 0.5409334\tbest: 0.5451429 (279)\ttotal: 27.2s\tremaining: 14.4s\n",
      "523:\tlearn: 0.5633028\ttest: 0.5409334\tbest: 0.5451429 (279)\ttotal: 27.2s\tremaining: 14.3s\n",
      "524:\tlearn: 0.5633028\ttest: 0.5408300\tbest: 0.5451429 (279)\ttotal: 27.3s\tremaining: 14.3s\n",
      "525:\tlearn: 0.5630646\ttest: 0.5408300\tbest: 0.5451429 (279)\ttotal: 27.3s\tremaining: 14.2s\n",
      "526:\tlearn: 0.5631340\ttest: 0.5408300\tbest: 0.5451429 (279)\ttotal: 27.4s\tremaining: 14.2s\n",
      "527:\tlearn: 0.5631068\ttest: 0.5408300\tbest: 0.5451429 (279)\ttotal: 27.4s\tremaining: 14.1s\n",
      "528:\tlearn: 0.5631068\ttest: 0.5408300\tbest: 0.5451429 (279)\ttotal: 27.5s\tremaining: 14.1s\n",
      "529:\tlearn: 0.5631068\ttest: 0.5408300\tbest: 0.5451429 (279)\ttotal: 27.5s\tremaining: 14s\n",
      "530:\tlearn: 0.5632456\ttest: 0.5408300\tbest: 0.5451429 (279)\ttotal: 27.6s\tremaining: 14s\n",
      "531:\tlearn: 0.5633844\ttest: 0.5408300\tbest: 0.5451429 (279)\ttotal: 27.7s\tremaining: 13.9s\n",
      "532:\tlearn: 0.5633844\ttest: 0.5408300\tbest: 0.5451429 (279)\ttotal: 27.7s\tremaining: 13.9s\n",
      "533:\tlearn: 0.5634388\ttest: 0.5408300\tbest: 0.5451429 (279)\ttotal: 27.8s\tremaining: 13.8s\n",
      "534:\tlearn: 0.5633422\ttest: 0.5408300\tbest: 0.5451429 (279)\ttotal: 27.9s\tremaining: 13.8s\n",
      "535:\tlearn: 0.5633422\ttest: 0.5408300\tbest: 0.5451429 (279)\ttotal: 27.9s\tremaining: 13.8s\n",
      "536:\tlearn: 0.5633966\ttest: 0.5408300\tbest: 0.5451429 (279)\ttotal: 28s\tremaining: 13.7s\n",
      "537:\tlearn: 0.5633966\ttest: 0.5408300\tbest: 0.5451429 (279)\ttotal: 28.1s\tremaining: 13.7s\n",
      "538:\tlearn: 0.5634783\ttest: 0.5408300\tbest: 0.5451429 (279)\ttotal: 28.1s\tremaining: 13.6s\n",
      "539:\tlearn: 0.5634633\ttest: 0.5411090\tbest: 0.5451429 (279)\ttotal: 28.2s\tremaining: 13.6s\n",
      "540:\tlearn: 0.5634905\ttest: 0.5411090\tbest: 0.5451429 (279)\ttotal: 28.2s\tremaining: 13.5s\n",
      "541:\tlearn: 0.5634905\ttest: 0.5411090\tbest: 0.5451429 (279)\ttotal: 28.3s\tremaining: 13.5s\n",
      "542:\tlearn: 0.5634905\ttest: 0.5412125\tbest: 0.5451429 (279)\ttotal: 28.3s\tremaining: 13.4s\n",
      "543:\tlearn: 0.5635749\ttest: 0.5412125\tbest: 0.5451429 (279)\ttotal: 28.4s\tremaining: 13.4s\n",
      "544:\tlearn: 0.5635477\ttest: 0.5412125\tbest: 0.5451429 (279)\ttotal: 28.4s\tremaining: 13.3s\n",
      "545:\tlearn: 0.5637409\ttest: 0.5412125\tbest: 0.5451429 (279)\ttotal: 28.5s\tremaining: 13.3s\n",
      "546:\tlearn: 0.5641546\ttest: 0.5412125\tbest: 0.5451429 (279)\ttotal: 28.6s\tremaining: 13.2s\n",
      "547:\tlearn: 0.5641546\ttest: 0.5412125\tbest: 0.5451429 (279)\ttotal: 28.6s\tremaining: 13.2s\n",
      "548:\tlearn: 0.5641967\ttest: 0.5412125\tbest: 0.5451429 (279)\ttotal: 28.7s\tremaining: 13.1s\n",
      "549:\tlearn: 0.5641967\ttest: 0.5412125\tbest: 0.5451429 (279)\ttotal: 28.7s\tremaining: 13.1s\n",
      "550:\tlearn: 0.5643081\ttest: 0.5412125\tbest: 0.5451429 (279)\ttotal: 28.8s\tremaining: 13s\n",
      "551:\tlearn: 0.5643081\ttest: 0.5412125\tbest: 0.5451429 (279)\ttotal: 28.9s\tremaining: 13s\n",
      "552:\tlearn: 0.5643502\ttest: 0.5409334\tbest: 0.5451429 (279)\ttotal: 28.9s\tremaining: 12.9s\n",
      "553:\tlearn: 0.5643230\ttest: 0.5412125\tbest: 0.5451429 (279)\ttotal: 29s\tremaining: 12.9s\n",
      "554:\tlearn: 0.5645309\ttest: 0.5412125\tbest: 0.5451429 (279)\ttotal: 29s\tremaining: 12.8s\n",
      "555:\tlearn: 0.5642536\ttest: 0.5409334\tbest: 0.5451429 (279)\ttotal: 29.1s\tremaining: 12.8s\n",
      "556:\tlearn: 0.5645161\ttest: 0.5409334\tbest: 0.5451429 (279)\ttotal: 29.1s\tremaining: 12.7s\n",
      "557:\tlearn: 0.5645161\ttest: 0.5406543\tbest: 0.5451429 (279)\ttotal: 29.2s\tremaining: 12.6s\n",
      "558:\tlearn: 0.5645707\ttest: 0.5406543\tbest: 0.5451429 (279)\ttotal: 29.2s\tremaining: 12.6s\n",
      "559:\tlearn: 0.5646945\ttest: 0.5409334\tbest: 0.5451429 (279)\ttotal: 29.3s\tremaining: 12.5s\n",
      "560:\tlearn: 0.5646945\ttest: 0.5409334\tbest: 0.5451429 (279)\ttotal: 29.3s\tremaining: 12.5s\n",
      "561:\tlearn: 0.5649172\ttest: 0.5412125\tbest: 0.5451429 (279)\ttotal: 29.4s\tremaining: 12.4s\n",
      "562:\tlearn: 0.5648059\ttest: 0.5409334\tbest: 0.5451429 (279)\ttotal: 29.5s\tremaining: 12.4s\n",
      "563:\tlearn: 0.5647366\ttest: 0.5409334\tbest: 0.5451429 (279)\ttotal: 29.5s\tremaining: 12.4s\n",
      "564:\tlearn: 0.5650558\ttest: 0.5409334\tbest: 0.5451429 (279)\ttotal: 29.6s\tremaining: 12.3s\n",
      "565:\tlearn: 0.5649047\ttest: 0.5409334\tbest: 0.5451429 (279)\ttotal: 29.6s\tremaining: 12.3s\n",
      "566:\tlearn: 0.5649047\ttest: 0.5409334\tbest: 0.5451429 (279)\ttotal: 29.7s\tremaining: 12.2s\n",
      "567:\tlearn: 0.5649194\ttest: 0.5409334\tbest: 0.5451429 (279)\ttotal: 29.7s\tremaining: 12.1s\n",
      "568:\tlearn: 0.5648081\ttest: 0.5409334\tbest: 0.5451429 (279)\ttotal: 29.8s\tremaining: 12.1s\n",
      "569:\tlearn: 0.5646968\ttest: 0.5409334\tbest: 0.5451429 (279)\ttotal: 29.8s\tremaining: 12s\n",
      "570:\tlearn: 0.5647388\ttest: 0.5409334\tbest: 0.5451429 (279)\ttotal: 29.9s\tremaining: 12s\n",
      "571:\tlearn: 0.5647116\ttest: 0.5409334\tbest: 0.5451429 (279)\ttotal: 30s\tremaining: 11.9s\n",
      "572:\tlearn: 0.5646843\ttest: 0.5409334\tbest: 0.5451429 (279)\ttotal: 30s\tremaining: 11.9s\n",
      "573:\tlearn: 0.5645060\ttest: 0.5409334\tbest: 0.5451429 (279)\ttotal: 30.1s\tremaining: 11.8s\n",
      "574:\tlearn: 0.5647831\ttest: 0.5409334\tbest: 0.5451429 (279)\ttotal: 30.1s\tremaining: 11.8s\n",
      "575:\tlearn: 0.5650181\ttest: 0.5410055\tbest: 0.5451429 (279)\ttotal: 30.2s\tremaining: 11.7s\n",
      "576:\tlearn: 0.5650181\ttest: 0.5410055\tbest: 0.5451429 (279)\ttotal: 30.2s\tremaining: 11.7s\n",
      "577:\tlearn: 0.5649069\ttest: 0.5410055\tbest: 0.5451429 (279)\ttotal: 30.3s\tremaining: 11.6s\n",
      "578:\tlearn: 0.5649761\ttest: 0.5410055\tbest: 0.5451429 (279)\ttotal: 30.3s\tremaining: 11.6s\n",
      "579:\tlearn: 0.5649761\ttest: 0.5410055\tbest: 0.5451429 (279)\ttotal: 30.4s\tremaining: 11.5s\n",
      "580:\tlearn: 0.5651146\ttest: 0.5410055\tbest: 0.5451429 (279)\ttotal: 30.4s\tremaining: 11.5s\n",
      "581:\tlearn: 0.5651146\ttest: 0.5410055\tbest: 0.5451429 (279)\ttotal: 30.5s\tremaining: 11.4s\n",
      "582:\tlearn: 0.5654460\ttest: 0.5406232\tbest: 0.5451429 (279)\ttotal: 30.5s\tremaining: 11.4s\n",
      "583:\tlearn: 0.5655425\ttest: 0.5406232\tbest: 0.5451429 (279)\ttotal: 30.6s\tremaining: 11.3s\n",
      "584:\tlearn: 0.5660159\ttest: 0.5406232\tbest: 0.5451429 (279)\ttotal: 30.6s\tremaining: 11.3s\n",
      "585:\tlearn: 0.5660159\ttest: 0.5406232\tbest: 0.5451429 (279)\ttotal: 30.7s\tremaining: 11.2s\n",
      "586:\tlearn: 0.5660159\ttest: 0.5406232\tbest: 0.5451429 (279)\ttotal: 30.8s\tremaining: 11.2s\n",
      "587:\tlearn: 0.5661541\ttest: 0.5406232\tbest: 0.5451429 (279)\ttotal: 30.8s\tremaining: 11.1s\n",
      "588:\tlearn: 0.5660850\ttest: 0.5406232\tbest: 0.5451429 (279)\ttotal: 30.9s\tremaining: 11.1s\n",
      "589:\tlearn: 0.5661269\ttest: 0.5406232\tbest: 0.5451429 (279)\ttotal: 30.9s\tremaining: 11s\n",
      "590:\tlearn: 0.5663069\ttest: 0.5406232\tbest: 0.5451429 (279)\ttotal: 31s\tremaining: 11s\n",
      "591:\tlearn: 0.5664723\ttest: 0.5406232\tbest: 0.5451429 (279)\ttotal: 31s\tremaining: 10.9s\n",
      "592:\tlearn: 0.5663904\ttest: 0.5406232\tbest: 0.5451429 (279)\ttotal: 31.1s\tremaining: 10.9s\n",
      "593:\tlearn: 0.5663904\ttest: 0.5406232\tbest: 0.5451429 (279)\ttotal: 31.1s\tremaining: 10.8s\n",
      "594:\tlearn: 0.5664177\ttest: 0.5406232\tbest: 0.5451429 (279)\ttotal: 31.2s\tremaining: 10.8s\n",
      "595:\tlearn: 0.5663214\ttest: 0.5406232\tbest: 0.5451429 (279)\ttotal: 31.3s\tremaining: 10.7s\n",
      "596:\tlearn: 0.5661141\ttest: 0.5406232\tbest: 0.5451429 (279)\ttotal: 31.3s\tremaining: 10.7s\n",
      "597:\tlearn: 0.5662250\ttest: 0.5406232\tbest: 0.5451429 (279)\ttotal: 31.4s\tremaining: 10.6s\n",
      "598:\tlearn: 0.5664049\ttest: 0.5406232\tbest: 0.5451429 (279)\ttotal: 31.5s\tremaining: 10.6s\n",
      "599:\tlearn: 0.5664740\ttest: 0.5409021\tbest: 0.5451429 (279)\ttotal: 31.5s\tremaining: 10.5s\n",
      "600:\tlearn: 0.5665414\ttest: 0.5409021\tbest: 0.5451429 (279)\ttotal: 31.6s\tremaining: 10.5s\n",
      "601:\tlearn: 0.5667197\ttest: 0.5382404\tbest: 0.5451429 (279)\ttotal: 31.6s\tremaining: 10.4s\n",
      "602:\tlearn: 0.5666506\ttest: 0.5379601\tbest: 0.5451429 (279)\ttotal: 31.7s\tremaining: 10.3s\n",
      "603:\tlearn: 0.5669959\ttest: 0.5377829\tbest: 0.5451429 (279)\ttotal: 31.7s\tremaining: 10.3s\n",
      "604:\tlearn: 0.5669686\ttest: 0.5377829\tbest: 0.5451429 (279)\ttotal: 31.8s\tremaining: 10.2s\n",
      "605:\tlearn: 0.5674244\ttest: 0.5375767\tbest: 0.5451429 (279)\ttotal: 31.8s\tremaining: 10.2s\n",
      "606:\tlearn: 0.5673410\ttest: 0.5377539\tbest: 0.5451429 (279)\ttotal: 31.9s\tremaining: 10.1s\n",
      "607:\tlearn: 0.5673410\ttest: 0.5377539\tbest: 0.5451429 (279)\ttotal: 31.9s\tremaining: 10.1s\n",
      "608:\tlearn: 0.5665075\ttest: 0.5377539\tbest: 0.5451429 (279)\ttotal: 32s\tremaining: 10s\n",
      "609:\tlearn: 0.5665493\ttest: 0.5377539\tbest: 0.5451429 (279)\ttotal: 32s\tremaining: 9.98s\n",
      "610:\tlearn: 0.5666184\ttest: 0.5377539\tbest: 0.5451429 (279)\ttotal: 32.1s\tremaining: 9.93s\n",
      "611:\tlearn: 0.5660487\ttest: 0.5377539\tbest: 0.5451429 (279)\ttotal: 32.1s\tremaining: 9.88s\n",
      "612:\tlearn: 0.5658263\ttest: 0.5377539\tbest: 0.5451429 (279)\ttotal: 32.2s\tremaining: 9.82s\n",
      "613:\tlearn: 0.5659940\ttest: 0.5380341\tbest: 0.5451429 (279)\ttotal: 32.3s\tremaining: 9.77s\n",
      "614:\tlearn: 0.5661179\ttest: 0.5380341\tbest: 0.5451429 (279)\ttotal: 32.3s\tremaining: 9.72s\n",
      "615:\tlearn: 0.5660760\ttest: 0.5376798\tbest: 0.5451429 (279)\ttotal: 32.4s\tremaining: 9.67s\n",
      "616:\tlearn: 0.5660760\ttest: 0.5376798\tbest: 0.5451429 (279)\ttotal: 32.4s\tremaining: 9.61s\n",
      "617:\tlearn: 0.5661452\ttest: 0.5376798\tbest: 0.5451429 (279)\ttotal: 32.5s\tremaining: 9.56s\n",
      "618:\tlearn: 0.5662145\ttest: 0.5376798\tbest: 0.5451429 (279)\ttotal: 32.5s\tremaining: 9.51s\n",
      "619:\tlearn: 0.5662145\ttest: 0.5376798\tbest: 0.5451429 (279)\ttotal: 32.6s\tremaining: 9.45s\n",
      "620:\tlearn: 0.5662145\ttest: 0.5376798\tbest: 0.5451429 (279)\ttotal: 32.6s\tremaining: 9.4s\n",
      "621:\tlearn: 0.5662145\ttest: 0.5376798\tbest: 0.5451429 (279)\ttotal: 32.7s\tremaining: 9.35s\n",
      "622:\tlearn: 0.5661871\ttest: 0.5376798\tbest: 0.5451429 (279)\ttotal: 32.7s\tremaining: 9.3s\n",
      "623:\tlearn: 0.5661871\ttest: 0.5376798\tbest: 0.5451429 (279)\ttotal: 32.8s\tremaining: 9.25s\n",
      "624:\tlearn: 0.5661179\ttest: 0.5376798\tbest: 0.5451429 (279)\ttotal: 32.8s\tremaining: 9.2s\n",
      "625:\tlearn: 0.5661580\ttest: 0.5376798\tbest: 0.5451429 (279)\ttotal: 32.9s\tremaining: 9.15s\n",
      "626:\tlearn: 0.5662272\ttest: 0.5376798\tbest: 0.5451429 (279)\ttotal: 33s\tremaining: 9.09s\n",
      "627:\tlearn: 0.5661726\ttest: 0.5376798\tbest: 0.5451429 (279)\ttotal: 33s\tremaining: 9.04s\n",
      "628:\tlearn: 0.5663384\ttest: 0.5377829\tbest: 0.5451429 (279)\ttotal: 33.1s\tremaining: 8.99s\n",
      "629:\tlearn: 0.5662965\ttest: 0.5377829\tbest: 0.5451429 (279)\ttotal: 33.1s\tremaining: 8.93s\n",
      "630:\tlearn: 0.5663384\ttest: 0.5377829\tbest: 0.5451429 (279)\ttotal: 33.2s\tremaining: 8.88s\n",
      "631:\tlearn: 0.5662127\ttest: 0.5377829\tbest: 0.5451429 (279)\ttotal: 33.2s\tremaining: 8.83s\n",
      "632:\tlearn: 0.5661708\ttest: 0.5377829\tbest: 0.5451429 (279)\ttotal: 33.3s\tremaining: 8.78s\n",
      "633:\tlearn: 0.5664204\ttest: 0.5377829\tbest: 0.5451429 (279)\ttotal: 33.3s\tremaining: 8.73s\n",
      "634:\tlearn: 0.5662674\ttest: 0.5375024\tbest: 0.5451429 (279)\ttotal: 33.4s\tremaining: 8.68s\n",
      "635:\tlearn: 0.5665443\ttest: 0.5375024\tbest: 0.5451429 (279)\ttotal: 33.5s\tremaining: 8.63s\n",
      "636:\tlearn: 0.5665443\ttest: 0.5375024\tbest: 0.5451429 (279)\ttotal: 33.5s\tremaining: 8.58s\n",
      "637:\tlearn: 0.5665862\ttest: 0.5375024\tbest: 0.5451429 (279)\ttotal: 33.6s\tremaining: 8.54s\n",
      "638:\tlearn: 0.5665862\ttest: 0.5375024\tbest: 0.5451429 (279)\ttotal: 33.7s\tremaining: 8.48s\n",
      "639:\tlearn: 0.5665862\ttest: 0.5375024\tbest: 0.5451429 (279)\ttotal: 33.7s\tremaining: 8.43s\n",
      "640:\tlearn: 0.5671138\ttest: 0.5375024\tbest: 0.5451429 (279)\ttotal: 33.8s\tremaining: 8.38s\n",
      "641:\tlearn: 0.5671555\ttest: 0.5376055\tbest: 0.5451429 (279)\ttotal: 33.8s\tremaining: 8.32s\n",
      "642:\tlearn: 0.5671555\ttest: 0.5376055\tbest: 0.5451429 (279)\ttotal: 33.9s\tremaining: 8.27s\n",
      "643:\tlearn: 0.5670591\ttest: 0.5376055\tbest: 0.5451429 (279)\ttotal: 33.9s\tremaining: 8.22s\n",
      "644:\tlearn: 0.5670735\ttest: 0.5375312\tbest: 0.5451429 (279)\ttotal: 34s\tremaining: 8.17s\n",
      "645:\tlearn: 0.5670591\ttest: 0.5375312\tbest: 0.5451429 (279)\ttotal: 34s\tremaining: 8.11s\n",
      "646:\tlearn: 0.5671282\ttest: 0.5375312\tbest: 0.5451429 (279)\ttotal: 34.1s\tremaining: 8.06s\n",
      "647:\tlearn: 0.5670591\ttest: 0.5375312\tbest: 0.5451429 (279)\ttotal: 34.2s\tremaining: 8.01s\n",
      "648:\tlearn: 0.5670591\ttest: 0.5375312\tbest: 0.5451429 (279)\ttotal: 34.2s\tremaining: 7.96s\n",
      "649:\tlearn: 0.5670591\ttest: 0.5377087\tbest: 0.5451429 (279)\ttotal: 34.3s\tremaining: 7.91s\n",
      "650:\tlearn: 0.5674046\ttest: 0.5375312\tbest: 0.5451429 (279)\ttotal: 34.3s\tremaining: 7.86s\n",
      "651:\tlearn: 0.5675285\ttest: 0.5377087\tbest: 0.5451429 (279)\ttotal: 34.4s\tremaining: 7.81s\n",
      "652:\tlearn: 0.5675285\ttest: 0.5377087\tbest: 0.5451429 (279)\ttotal: 34.5s\tremaining: 7.76s\n",
      "653:\tlearn: 0.5673485\ttest: 0.5377087\tbest: 0.5451429 (279)\ttotal: 34.5s\tremaining: 7.71s\n",
      "654:\tlearn: 0.5673759\ttest: 0.5377087\tbest: 0.5451429 (279)\ttotal: 34.6s\tremaining: 7.66s\n",
      "655:\tlearn: 0.5673485\ttest: 0.5377087\tbest: 0.5451429 (279)\ttotal: 34.7s\tremaining: 7.61s\n",
      "656:\tlearn: 0.5675141\ttest: 0.5374280\tbest: 0.5451429 (279)\ttotal: 34.7s\tremaining: 7.55s\n",
      "657:\tlearn: 0.5669451\ttest: 0.5371472\tbest: 0.5451429 (279)\ttotal: 34.8s\tremaining: 7.5s\n",
      "658:\tlearn: 0.5668212\ttest: 0.5373249\tbest: 0.5451429 (279)\ttotal: 34.8s\tremaining: 7.45s\n",
      "659:\tlearn: 0.5671656\ttest: 0.5373249\tbest: 0.5451429 (279)\ttotal: 34.9s\tremaining: 7.4s\n",
      "660:\tlearn: 0.5669854\ttest: 0.5376055\tbest: 0.5451429 (279)\ttotal: 34.9s\tremaining: 7.35s\n",
      "661:\tlearn: 0.5670546\ttest: 0.5376055\tbest: 0.5451429 (279)\ttotal: 35s\tremaining: 7.3s\n",
      "662:\tlearn: 0.5670128\ttest: 0.5376055\tbest: 0.5451429 (279)\ttotal: 35.1s\tremaining: 7.25s\n",
      "663:\tlearn: 0.5670128\ttest: 0.5375024\tbest: 0.5451429 (279)\ttotal: 35.1s\tremaining: 7.2s\n",
      "664:\tlearn: 0.5670272\ttest: 0.5375024\tbest: 0.5451429 (279)\ttotal: 35.2s\tremaining: 7.14s\n",
      "665:\tlearn: 0.5669580\ttest: 0.5376798\tbest: 0.5451429 (279)\ttotal: 35.2s\tremaining: 7.09s\n",
      "666:\tlearn: 0.5670546\ttest: 0.5376798\tbest: 0.5451429 (279)\ttotal: 35.3s\tremaining: 7.04s\n",
      "667:\tlearn: 0.5670546\ttest: 0.5376798\tbest: 0.5451429 (279)\ttotal: 35.4s\tremaining: 6.99s\n",
      "668:\tlearn: 0.5670546\ttest: 0.5379601\tbest: 0.5451429 (279)\ttotal: 35.4s\tremaining: 6.94s\n",
      "669:\tlearn: 0.5670820\ttest: 0.5379601\tbest: 0.5451429 (279)\ttotal: 35.5s\tremaining: 6.88s\n",
      "670:\tlearn: 0.5668051\ttest: 0.5379601\tbest: 0.5451429 (279)\ttotal: 35.6s\tremaining: 6.83s\n",
      "671:\tlearn: 0.5668051\ttest: 0.5379601\tbest: 0.5451429 (279)\ttotal: 35.6s\tremaining: 6.78s\n",
      "672:\tlearn: 0.5668599\ttest: 0.5379601\tbest: 0.5451429 (279)\ttotal: 35.7s\tremaining: 6.73s\n",
      "673:\tlearn: 0.5668873\ttest: 0.5380633\tbest: 0.5451429 (279)\ttotal: 35.7s\tremaining: 6.68s\n",
      "674:\tlearn: 0.5666796\ttest: 0.5378861\tbest: 0.5451429 (279)\ttotal: 35.8s\tremaining: 6.63s\n",
      "675:\tlearn: 0.5669017\ttest: 0.5379893\tbest: 0.5451429 (279)\ttotal: 35.9s\tremaining: 6.58s\n",
      "676:\tlearn: 0.5669017\ttest: 0.5377087\tbest: 0.5451429 (279)\ttotal: 35.9s\tremaining: 6.52s\n",
      "677:\tlearn: 0.5668470\ttest: 0.5378861\tbest: 0.5451429 (279)\ttotal: 36s\tremaining: 6.47s\n",
      "678:\tlearn: 0.5667922\ttest: 0.5378861\tbest: 0.5451429 (279)\ttotal: 36s\tremaining: 6.42s\n",
      "679:\tlearn: 0.5670820\ttest: 0.5381665\tbest: 0.5451429 (279)\ttotal: 36.1s\tremaining: 6.37s\n",
      "680:\tlearn: 0.5670820\ttest: 0.5381665\tbest: 0.5451429 (279)\ttotal: 36.1s\tremaining: 6.31s\n",
      "681:\tlearn: 0.5670546\ttest: 0.5381665\tbest: 0.5451429 (279)\ttotal: 36.2s\tremaining: 6.26s\n",
      "682:\tlearn: 0.5671238\ttest: 0.5381665\tbest: 0.5451429 (279)\ttotal: 36.3s\tremaining: 6.21s\n",
      "683:\tlearn: 0.5671656\ttest: 0.5381665\tbest: 0.5451429 (279)\ttotal: 36.3s\tremaining: 6.16s\n",
      "684:\tlearn: 0.5670820\ttest: 0.5381665\tbest: 0.5451429 (279)\ttotal: 36.4s\tremaining: 6.11s\n",
      "685:\tlearn: 0.5669984\ttest: 0.5381665\tbest: 0.5451429 (279)\ttotal: 36.4s\tremaining: 6.05s\n",
      "686:\tlearn: 0.5669710\ttest: 0.5381665\tbest: 0.5451429 (279)\ttotal: 36.5s\tremaining: 6s\n",
      "687:\tlearn: 0.5669436\ttest: 0.5380633\tbest: 0.5451429 (279)\ttotal: 36.5s\tremaining: 5.95s\n",
      "688:\tlearn: 0.5670690\ttest: 0.5380633\tbest: 0.5451429 (279)\ttotal: 36.6s\tremaining: 5.9s\n",
      "689:\tlearn: 0.5670272\ttest: 0.5380633\tbest: 0.5451429 (279)\ttotal: 36.7s\tremaining: 5.84s\n",
      "690:\tlearn: 0.5670546\ttest: 0.5379893\tbest: 0.5451429 (279)\ttotal: 36.7s\tremaining: 5.79s\n",
      "691:\tlearn: 0.5670546\ttest: 0.5379893\tbest: 0.5451429 (279)\ttotal: 36.8s\tremaining: 5.74s\n",
      "692:\tlearn: 0.5670546\ttest: 0.5379893\tbest: 0.5451429 (279)\ttotal: 36.8s\tremaining: 5.68s\n",
      "693:\tlearn: 0.5672074\ttest: 0.5378861\tbest: 0.5451429 (279)\ttotal: 36.9s\tremaining: 5.63s\n",
      "694:\tlearn: 0.5671109\ttest: 0.5378861\tbest: 0.5451429 (279)\ttotal: 36.9s\tremaining: 5.58s\n",
      "695:\tlearn: 0.5671382\ttest: 0.5378861\tbest: 0.5451429 (279)\ttotal: 37s\tremaining: 5.53s\n",
      "696:\tlearn: 0.5670964\ttest: 0.5378861\tbest: 0.5451429 (279)\ttotal: 37s\tremaining: 5.47s\n",
      "697:\tlearn: 0.5670964\ttest: 0.5378861\tbest: 0.5451429 (279)\ttotal: 37.1s\tremaining: 5.42s\n",
      "698:\tlearn: 0.5673862\ttest: 0.5378861\tbest: 0.5451429 (279)\ttotal: 37.1s\tremaining: 5.37s\n",
      "699:\tlearn: 0.5673862\ttest: 0.5378861\tbest: 0.5451429 (279)\ttotal: 37.2s\tremaining: 5.31s\n",
      "700:\tlearn: 0.5673862\ttest: 0.5378861\tbest: 0.5451429 (279)\ttotal: 37.3s\tremaining: 5.26s\n",
      "701:\tlearn: 0.5674827\ttest: 0.5378861\tbest: 0.5451429 (279)\ttotal: 37.3s\tremaining: 5.21s\n",
      "702:\tlearn: 0.5675519\ttest: 0.5378861\tbest: 0.5451429 (279)\ttotal: 37.4s\tremaining: 5.16s\n",
      "703:\tlearn: 0.5676067\ttest: 0.5378861\tbest: 0.5451429 (279)\ttotal: 37.4s\tremaining: 5.1s\n",
      "704:\tlearn: 0.5677033\ttest: 0.5377087\tbest: 0.5451429 (279)\ttotal: 37.5s\tremaining: 5.05s\n",
      "705:\tlearn: 0.5676615\ttest: 0.5377087\tbest: 0.5451429 (279)\ttotal: 37.5s\tremaining: 5s\n",
      "706:\tlearn: 0.5676890\ttest: 0.5377087\tbest: 0.5451429 (279)\ttotal: 37.6s\tremaining: 4.94s\n",
      "707:\tlearn: 0.5677581\ttest: 0.5378861\tbest: 0.5451429 (279)\ttotal: 37.6s\tremaining: 4.89s\n",
      "708:\tlearn: 0.5679930\ttest: 0.5378861\tbest: 0.5451429 (279)\ttotal: 37.7s\tremaining: 4.84s\n",
      "709:\tlearn: 0.5682005\ttest: 0.5378861\tbest: 0.5451429 (279)\ttotal: 37.7s\tremaining: 4.78s\n",
      "710:\tlearn: 0.5682279\ttest: 0.5378861\tbest: 0.5451429 (279)\ttotal: 37.8s\tremaining: 4.73s\n",
      "711:\tlearn: 0.5681182\ttest: 0.5378861\tbest: 0.5451429 (279)\ttotal: 37.8s\tremaining: 4.68s\n",
      "712:\tlearn: 0.5684637\ttest: 0.5377087\tbest: 0.5451429 (279)\ttotal: 37.9s\tremaining: 4.62s\n",
      "713:\tlearn: 0.5684912\ttest: 0.5378861\tbest: 0.5451429 (279)\ttotal: 38s\tremaining: 4.57s\n",
      "714:\tlearn: 0.5687259\ttest: 0.5377087\tbest: 0.5451429 (279)\ttotal: 38s\tremaining: 4.52s\n",
      "715:\tlearn: 0.5687675\ttest: 0.5377087\tbest: 0.5451429 (279)\ttotal: 38.1s\tremaining: 4.47s\n",
      "716:\tlearn: 0.5687675\ttest: 0.5377087\tbest: 0.5451429 (279)\ttotal: 38.1s\tremaining: 4.41s\n",
      "717:\tlearn: 0.5686842\ttest: 0.5378861\tbest: 0.5451429 (279)\ttotal: 38.2s\tremaining: 4.36s\n",
      "718:\tlearn: 0.5688915\ttest: 0.5377087\tbest: 0.5451429 (279)\ttotal: 38.2s\tremaining: 4.31s\n",
      "719:\tlearn: 0.5688640\ttest: 0.5377087\tbest: 0.5451429 (279)\ttotal: 38.3s\tremaining: 4.25s\n",
      "720:\tlearn: 0.5689056\ttest: 0.5377087\tbest: 0.5451429 (279)\ttotal: 38.3s\tremaining: 4.2s\n",
      "721:\tlearn: 0.5686842\ttest: 0.5377087\tbest: 0.5451429 (279)\ttotal: 38.4s\tremaining: 4.15s\n",
      "722:\tlearn: 0.5685735\ttest: 0.5377087\tbest: 0.5451429 (279)\ttotal: 38.5s\tremaining: 4.09s\n",
      "723:\tlearn: 0.5688082\ttest: 0.5374568\tbest: 0.5451429 (279)\ttotal: 38.5s\tremaining: 4.04s\n",
      "724:\tlearn: 0.5684363\ttest: 0.5374568\tbest: 0.5451429 (279)\ttotal: 38.6s\tremaining: 3.99s\n",
      "725:\tlearn: 0.5684779\ttest: 0.5378119\tbest: 0.5451429 (279)\ttotal: 38.6s\tremaining: 3.94s\n",
      "726:\tlearn: 0.5685054\ttest: 0.5378119\tbest: 0.5451429 (279)\ttotal: 38.7s\tremaining: 3.88s\n",
      "727:\tlearn: 0.5684637\ttest: 0.5378119\tbest: 0.5451429 (279)\ttotal: 38.7s\tremaining: 3.83s\n",
      "728:\tlearn: 0.5686710\ttest: 0.5378119\tbest: 0.5451429 (279)\ttotal: 38.8s\tremaining: 3.78s\n",
      "729:\tlearn: 0.5686710\ttest: 0.5378119\tbest: 0.5451429 (279)\ttotal: 38.8s\tremaining: 3.72s\n",
      "730:\tlearn: 0.5688490\ttest: 0.5377377\tbest: 0.5451429 (279)\ttotal: 38.9s\tremaining: 3.67s\n",
      "731:\tlearn: 0.5688764\ttest: 0.5378410\tbest: 0.5451429 (279)\ttotal: 39s\tremaining: 3.62s\n",
      "732:\tlearn: 0.5695958\ttest: 0.5378410\tbest: 0.5451429 (279)\ttotal: 39s\tremaining: 3.56s\n",
      "733:\tlearn: 0.5695268\ttest: 0.5378410\tbest: 0.5451429 (279)\ttotal: 39.1s\tremaining: 3.51s\n",
      "734:\tlearn: 0.5695958\ttest: 0.5376633\tbest: 0.5451429 (279)\ttotal: 39.1s\tremaining: 3.46s\n",
      "735:\tlearn: 0.5696099\ttest: 0.5376633\tbest: 0.5451429 (279)\ttotal: 39.2s\tremaining: 3.41s\n",
      "736:\tlearn: 0.5696514\ttest: 0.5376633\tbest: 0.5451429 (279)\ttotal: 39.2s\tremaining: 3.35s\n",
      "737:\tlearn: 0.5696514\ttest: 0.5376633\tbest: 0.5451429 (279)\ttotal: 39.3s\tremaining: 3.3s\n",
      "738:\tlearn: 0.5698997\ttest: 0.5376633\tbest: 0.5451429 (279)\ttotal: 39.4s\tremaining: 3.25s\n",
      "739:\tlearn: 0.5699547\ttest: 0.5376633\tbest: 0.5451429 (279)\ttotal: 39.4s\tremaining: 3.2s\n",
      "740:\tlearn: 0.5700236\ttest: 0.5376633\tbest: 0.5451429 (279)\ttotal: 39.5s\tremaining: 3.14s\n",
      "741:\tlearn: 0.5700236\ttest: 0.5376633\tbest: 0.5451429 (279)\ttotal: 39.5s\tremaining: 3.09s\n",
      "742:\tlearn: 0.5700236\ttest: 0.5376633\tbest: 0.5451429 (279)\ttotal: 39.6s\tremaining: 3.04s\n",
      "743:\tlearn: 0.5698717\ttest: 0.5376633\tbest: 0.5451429 (279)\ttotal: 39.7s\tremaining: 2.98s\n",
      "744:\tlearn: 0.5698028\ttest: 0.5376633\tbest: 0.5451429 (279)\ttotal: 39.7s\tremaining: 2.93s\n",
      "745:\tlearn: 0.5697478\ttest: 0.5376633\tbest: 0.5451429 (279)\ttotal: 39.8s\tremaining: 2.88s\n",
      "746:\tlearn: 0.5697478\ttest: 0.5376633\tbest: 0.5451429 (279)\ttotal: 39.8s\tremaining: 2.83s\n",
      "747:\tlearn: 0.5697618\ttest: 0.5376633\tbest: 0.5451429 (279)\ttotal: 39.9s\tremaining: 2.77s\n",
      "748:\tlearn: 0.5698033\ttest: 0.5376633\tbest: 0.5451429 (279)\ttotal: 40s\tremaining: 2.72s\n",
      "749:\tlearn: 0.5691677\ttest: 0.5376633\tbest: 0.5451429 (279)\ttotal: 40s\tremaining: 2.67s\n",
      "750:\tlearn: 0.5691677\ttest: 0.5371011\tbest: 0.5451429 (279)\ttotal: 40.1s\tremaining: 2.62s\n",
      "751:\tlearn: 0.5692916\ttest: 0.5371011\tbest: 0.5451429 (279)\ttotal: 40.2s\tremaining: 2.56s\n",
      "752:\tlearn: 0.5693881\ttest: 0.5371011\tbest: 0.5451429 (279)\ttotal: 40.2s\tremaining: 2.51s\n",
      "753:\tlearn: 0.5692226\ttest: 0.5368482\tbest: 0.5451429 (279)\ttotal: 40.3s\tremaining: 2.46s\n",
      "754:\tlearn: 0.5693332\ttest: 0.5368482\tbest: 0.5451429 (279)\ttotal: 40.3s\tremaining: 2.4s\n",
      "755:\tlearn: 0.5693332\ttest: 0.5368482\tbest: 0.5451429 (279)\ttotal: 40.4s\tremaining: 2.35s\n",
      "756:\tlearn: 0.5694022\ttest: 0.5368482\tbest: 0.5451429 (279)\ttotal: 40.4s\tremaining: 2.3s\n",
      "757:\tlearn: 0.5694572\ttest: 0.5368482\tbest: 0.5451429 (279)\ttotal: 40.5s\tremaining: 2.24s\n",
      "758:\tlearn: 0.5694572\ttest: 0.5368482\tbest: 0.5451429 (279)\ttotal: 40.5s\tremaining: 2.19s\n",
      "759:\tlearn: 0.5695677\ttest: 0.5368482\tbest: 0.5451429 (279)\ttotal: 40.6s\tremaining: 2.14s\n",
      "760:\tlearn: 0.5695952\ttest: 0.5368482\tbest: 0.5451429 (279)\ttotal: 40.7s\tremaining: 2.08s\n",
      "761:\tlearn: 0.5694987\ttest: 0.5368482\tbest: 0.5451429 (279)\ttotal: 40.7s\tremaining: 2.03s\n",
      "762:\tlearn: 0.5695812\ttest: 0.5369515\tbest: 0.5451429 (279)\ttotal: 40.8s\tremaining: 1.98s\n",
      "763:\tlearn: 0.5696227\ttest: 0.5369515\tbest: 0.5451429 (279)\ttotal: 40.8s\tremaining: 1.92s\n",
      "764:\tlearn: 0.5695671\ttest: 0.5369515\tbest: 0.5451429 (279)\ttotal: 40.9s\tremaining: 1.87s\n",
      "765:\tlearn: 0.5696636\ttest: 0.5369515\tbest: 0.5451429 (279)\ttotal: 40.9s\tremaining: 1.82s\n",
      "766:\tlearn: 0.5695256\ttest: 0.5369515\tbest: 0.5451429 (279)\ttotal: 41s\tremaining: 1.76s\n",
      "767:\tlearn: 0.5694706\ttest: 0.5369515\tbest: 0.5451429 (279)\ttotal: 41s\tremaining: 1.71s\n",
      "768:\tlearn: 0.5694706\ttest: 0.5369515\tbest: 0.5451429 (279)\ttotal: 41.1s\tremaining: 1.66s\n",
      "769:\tlearn: 0.5694431\ttest: 0.5369515\tbest: 0.5451429 (279)\ttotal: 41.2s\tremaining: 1.6s\n",
      "770:\tlearn: 0.5694015\ttest: 0.5369515\tbest: 0.5451429 (279)\ttotal: 41.2s\tremaining: 1.55s\n",
      "771:\tlearn: 0.5694015\ttest: 0.5369515\tbest: 0.5451429 (279)\ttotal: 41.3s\tremaining: 1.5s\n",
      "772:\tlearn: 0.5694981\ttest: 0.5369515\tbest: 0.5451429 (279)\ttotal: 41.3s\tremaining: 1.44s\n",
      "773:\tlearn: 0.5694149\ttest: 0.5369515\tbest: 0.5451429 (279)\ttotal: 41.4s\tremaining: 1.39s\n",
      "774:\tlearn: 0.5694565\ttest: 0.5369515\tbest: 0.5451429 (279)\ttotal: 41.4s\tremaining: 1.34s\n",
      "775:\tlearn: 0.5695946\ttest: 0.5369515\tbest: 0.5451429 (279)\ttotal: 41.5s\tremaining: 1.28s\n",
      "776:\tlearn: 0.5696221\ttest: 0.5369515\tbest: 0.5451429 (279)\ttotal: 41.6s\tremaining: 1.23s\n",
      "777:\tlearn: 0.5697186\ttest: 0.5369515\tbest: 0.5451429 (279)\ttotal: 41.6s\tremaining: 1.18s\n",
      "778:\tlearn: 0.5697876\ttest: 0.5371583\tbest: 0.5451429 (279)\ttotal: 41.7s\tremaining: 1.12s\n",
      "779:\tlearn: 0.5697876\ttest: 0.5373364\tbest: 0.5451429 (279)\ttotal: 41.7s\tremaining: 1.07s\n",
      "780:\tlearn: 0.5699257\ttest: 0.5373364\tbest: 0.5451429 (279)\ttotal: 41.8s\tremaining: 1.02s\n",
      "781:\tlearn: 0.5700362\ttest: 0.5373364\tbest: 0.5451429 (279)\ttotal: 41.9s\tremaining: 964ms\n",
      "782:\tlearn: 0.5699532\ttest: 0.5368766\tbest: 0.5451429 (279)\ttotal: 41.9s\tremaining: 910ms\n",
      "783:\tlearn: 0.5707677\ttest: 0.5369800\tbest: 0.5451429 (279)\ttotal: 42s\tremaining: 857ms\n",
      "784:\tlearn: 0.5705332\ttest: 0.5373364\tbest: 0.5451429 (279)\ttotal: 42s\tremaining: 803ms\n",
      "785:\tlearn: 0.5705332\ttest: 0.5373364\tbest: 0.5451429 (279)\ttotal: 42.1s\tremaining: 750ms\n",
      "786:\tlearn: 0.5705607\ttest: 0.5373364\tbest: 0.5451429 (279)\ttotal: 42.2s\tremaining: 696ms\n",
      "787:\tlearn: 0.5706296\ttest: 0.5373364\tbest: 0.5451429 (279)\ttotal: 42.2s\tremaining: 643ms\n",
      "788:\tlearn: 0.5707538\ttest: 0.5374398\tbest: 0.5451429 (279)\ttotal: 42.3s\tremaining: 590ms\n",
      "789:\tlearn: 0.5708641\ttest: 0.5376759\tbest: 0.5451429 (279)\ttotal: 42.4s\tremaining: 536ms\n",
      "790:\tlearn: 0.5709743\ttest: 0.5379576\tbest: 0.5451429 (279)\ttotal: 42.4s\tremaining: 483ms\n",
      "791:\tlearn: 0.5713460\ttest: 0.5372904\tbest: 0.5451429 (279)\ttotal: 42.5s\tremaining: 429ms\n",
      "792:\tlearn: 0.5711808\ttest: 0.5372904\tbest: 0.5451429 (279)\ttotal: 42.5s\tremaining: 375ms\n",
      "793:\tlearn: 0.5710568\ttest: 0.5373940\tbest: 0.5451429 (279)\ttotal: 42.6s\tremaining: 322ms\n",
      "794:\tlearn: 0.5710430\ttest: 0.5372904\tbest: 0.5451429 (279)\ttotal: 42.6s\tremaining: 268ms\n",
      "795:\tlearn: 0.5709741\ttest: 0.5372904\tbest: 0.5451429 (279)\ttotal: 42.7s\tremaining: 215ms\n",
      "796:\tlearn: 0.5710430\ttest: 0.5372904\tbest: 0.5451429 (279)\ttotal: 42.7s\tremaining: 161ms\n",
      "797:\tlearn: 0.5710155\ttest: 0.5372904\tbest: 0.5451429 (279)\ttotal: 42.8s\tremaining: 107ms\n",
      "798:\tlearn: 0.5710567\ttest: 0.5374976\tbest: 0.5451429 (279)\ttotal: 42.9s\tremaining: 53.6ms\n",
      "799:\tlearn: 0.5710567\ttest: 0.5374976\tbest: 0.5451429 (279)\ttotal: 42.9s\tremaining: 0us\n",
      "\n",
      "bestTest = 0.5451428571\n",
      "bestIteration = 279\n",
      "\n",
      "Training on fold [0/3]\n",
      "0:\tlearn: 0.3895934\ttest: 0.3914684\tbest: 0.3914684 (0)\ttotal: 38.7ms\tremaining: 23.2s\n",
      "1:\tlearn: 0.3902121\ttest: 0.3914684\tbest: 0.3914684 (0)\ttotal: 74.1ms\tremaining: 22.2s\n",
      "2:\tlearn: 0.3905300\ttest: 0.3914684\tbest: 0.3914684 (0)\ttotal: 105ms\tremaining: 20.9s\n",
      "3:\tlearn: 0.3905583\ttest: 0.3914684\tbest: 0.3914684 (0)\ttotal: 151ms\tremaining: 22.5s\n",
      "4:\tlearn: 0.4302855\ttest: 0.4377671\tbest: 0.4377671 (4)\ttotal: 186ms\tremaining: 22.1s\n",
      "5:\tlearn: 0.4309644\ttest: 0.4378617\tbest: 0.4378617 (5)\ttotal: 215ms\tremaining: 21.3s\n",
      "6:\tlearn: 0.4598188\ttest: 0.4664292\tbest: 0.4664292 (6)\ttotal: 257ms\tremaining: 21.8s\n",
      "7:\tlearn: 0.4600728\ttest: 0.4663677\tbest: 0.4664292 (6)\ttotal: 299ms\tremaining: 22.1s\n",
      "8:\tlearn: 0.4604193\ttest: 0.4663677\tbest: 0.4664292 (6)\ttotal: 333ms\tremaining: 21.9s\n",
      "9:\tlearn: 0.4602156\ttest: 0.4663677\tbest: 0.4664292 (6)\ttotal: 367ms\tremaining: 21.7s\n",
      "10:\tlearn: 0.4608776\ttest: 0.4669127\tbest: 0.4669127 (10)\ttotal: 408ms\tremaining: 21.8s\n",
      "11:\tlearn: 0.4609896\ttest: 0.4669743\tbest: 0.4669743 (11)\ttotal: 450ms\tremaining: 22.1s\n",
      "12:\tlearn: 0.4618227\ttest: 0.4685609\tbest: 0.4685609 (12)\ttotal: 494ms\tremaining: 22.3s\n",
      "13:\tlearn: 0.4620862\ttest: 0.4685609\tbest: 0.4685609 (12)\ttotal: 523ms\tremaining: 21.9s\n",
      "14:\tlearn: 0.4620862\ttest: 0.4685609\tbest: 0.4685609 (12)\ttotal: 558ms\tremaining: 21.7s\n",
      "15:\tlearn: 0.4613354\ttest: 0.4685609\tbest: 0.4685609 (12)\ttotal: 595ms\tremaining: 21.7s\n",
      "16:\tlearn: 0.4613354\ttest: 0.4685609\tbest: 0.4685609 (12)\ttotal: 634ms\tremaining: 21.8s\n",
      "17:\tlearn: 0.4613659\ttest: 0.4681579\tbest: 0.4685609 (12)\ttotal: 668ms\tremaining: 21.6s\n",
      "18:\tlearn: 0.4617719\ttest: 0.4685774\tbest: 0.4685774 (18)\ttotal: 700ms\tremaining: 21.4s\n",
      "19:\tlearn: 0.4621577\ttest: 0.4683761\tbest: 0.4685774 (18)\ttotal: 731ms\tremaining: 21.2s\n",
      "20:\tlearn: 0.4670423\ttest: 0.4784416\tbest: 0.4784416 (20)\ttotal: 763ms\tremaining: 21s\n",
      "21:\tlearn: 0.4670510\ttest: 0.4784416\tbest: 0.4784416 (20)\ttotal: 792ms\tremaining: 20.8s\n",
      "22:\tlearn: 0.4684944\ttest: 0.4812516\tbest: 0.4812516 (22)\ttotal: 823ms\tremaining: 20.7s\n",
      "23:\tlearn: 0.4722710\ttest: 0.4831591\tbest: 0.4831591 (23)\ttotal: 854ms\tremaining: 20.5s\n",
      "24:\tlearn: 0.4784763\ttest: 0.4991186\tbest: 0.4991186 (24)\ttotal: 893ms\tremaining: 20.5s\n",
      "25:\tlearn: 0.4836526\ttest: 0.4988034\tbest: 0.4991186 (24)\ttotal: 933ms\tremaining: 20.6s\n",
      "26:\tlearn: 0.4873619\ttest: 0.4988662\tbest: 0.4991186 (24)\ttotal: 969ms\tremaining: 20.6s\n",
      "27:\tlearn: 0.4876190\ttest: 0.4988662\tbest: 0.4991186 (24)\ttotal: 996ms\tremaining: 20.4s\n",
      "28:\tlearn: 0.4878080\ttest: 0.4991815\tbest: 0.4991815 (28)\ttotal: 1.03s\tremaining: 20.3s\n",
      "29:\tlearn: 0.4885448\ttest: 0.4996853\tbest: 0.4996853 (29)\ttotal: 1.06s\tremaining: 20.2s\n",
      "30:\tlearn: 0.4936996\ttest: 0.5055163\tbest: 0.5055163 (30)\ttotal: 1.11s\tremaining: 20.3s\n",
      "31:\tlearn: 0.4952261\ttest: 0.5120914\tbest: 0.5120914 (31)\ttotal: 1.14s\tremaining: 20.2s\n",
      "32:\tlearn: 0.4961114\ttest: 0.5142166\tbest: 0.5142166 (32)\ttotal: 1.18s\tremaining: 20.3s\n",
      "33:\tlearn: 0.4912835\ttest: 0.5079951\tbest: 0.5142166 (32)\ttotal: 1.24s\tremaining: 20.6s\n",
      "34:\tlearn: 0.4914033\ttest: 0.5078154\tbest: 0.5142166 (32)\ttotal: 1.29s\tremaining: 20.8s\n",
      "35:\tlearn: 0.4914676\ttest: 0.5077529\tbest: 0.5142166 (32)\ttotal: 1.32s\tremaining: 20.7s\n",
      "36:\tlearn: 0.4903340\ttest: 0.5008159\tbest: 0.5142166 (32)\ttotal: 1.38s\tremaining: 21s\n",
      "37:\tlearn: 0.4903340\ttest: 0.5008159\tbest: 0.5142166 (32)\ttotal: 1.42s\tremaining: 21s\n",
      "38:\tlearn: 0.4914387\ttest: 0.5075031\tbest: 0.5142166 (32)\ttotal: 1.46s\tremaining: 21s\n",
      "39:\tlearn: 0.4915672\ttest: 0.5075031\tbest: 0.5142166 (32)\ttotal: 1.5s\tremaining: 21s\n",
      "40:\tlearn: 0.4944654\ttest: 0.5074443\tbest: 0.5142166 (32)\ttotal: 1.54s\tremaining: 21s\n",
      "41:\tlearn: 0.5008108\ttest: 0.5128454\tbest: 0.5142166 (32)\ttotal: 1.58s\tremaining: 21s\n",
      "42:\tlearn: 0.5006862\ttest: 0.5128454\tbest: 0.5142166 (32)\ttotal: 1.61s\tremaining: 20.9s\n",
      "43:\tlearn: 0.5008730\ttest: 0.5128391\tbest: 0.5142166 (32)\ttotal: 1.64s\tremaining: 20.8s\n",
      "44:\tlearn: 0.5026458\ttest: 0.5129571\tbest: 0.5142166 (32)\ttotal: 1.68s\tremaining: 20.7s\n",
      "45:\tlearn: 0.5029553\ttest: 0.5131929\tbest: 0.5142166 (32)\ttotal: 1.71s\tremaining: 20.6s\n",
      "46:\tlearn: 0.5025826\ttest: 0.5126590\tbest: 0.5142166 (32)\ttotal: 1.76s\tremaining: 20.7s\n",
      "47:\tlearn: 0.5027071\ttest: 0.5127770\tbest: 0.5142166 (32)\ttotal: 1.81s\tremaining: 20.8s\n",
      "48:\tlearn: 0.5029545\ttest: 0.5130067\tbest: 0.5142166 (32)\ttotal: 1.85s\tremaining: 20.8s\n",
      "49:\tlearn: 0.5029858\ttest: 0.5127647\tbest: 0.5142166 (32)\ttotal: 1.9s\tremaining: 20.9s\n",
      "50:\tlearn: 0.5036034\ttest: 0.5127647\tbest: 0.5142166 (32)\ttotal: 1.95s\tremaining: 21s\n",
      "51:\tlearn: 0.5036016\ttest: 0.5125847\tbest: 0.5142166 (32)\ttotal: 2s\tremaining: 21.1s\n",
      "52:\tlearn: 0.5038842\ttest: 0.5130004\tbest: 0.5142166 (32)\ttotal: 2.04s\tremaining: 21s\n",
      "53:\tlearn: 0.5052671\ttest: 0.5130004\tbest: 0.5142166 (32)\ttotal: 2.08s\tremaining: 21.1s\n",
      "54:\tlearn: 0.5052070\ttest: 0.5121007\tbest: 0.5142166 (32)\ttotal: 2.13s\tremaining: 21.1s\n",
      "55:\tlearn: 0.5054863\ttest: 0.5121007\tbest: 0.5142166 (32)\ttotal: 2.18s\tremaining: 21.2s\n",
      "56:\tlearn: 0.5072320\ttest: 0.5120948\tbest: 0.5142166 (32)\ttotal: 2.21s\tremaining: 21s\n",
      "57:\tlearn: 0.5072320\ttest: 0.5120948\tbest: 0.5142166 (32)\ttotal: 2.23s\tremaining: 20.9s\n",
      "58:\tlearn: 0.5055790\ttest: 0.5121007\tbest: 0.5142166 (32)\ttotal: 2.26s\tremaining: 20.7s\n",
      "59:\tlearn: 0.5072652\ttest: 0.5118644\tbest: 0.5142166 (32)\ttotal: 2.3s\tremaining: 20.7s\n",
      "60:\tlearn: 0.5072338\ttest: 0.5118644\tbest: 0.5142166 (32)\ttotal: 2.35s\tremaining: 20.7s\n",
      "61:\tlearn: 0.5092792\ttest: 0.5118644\tbest: 0.5142166 (32)\ttotal: 2.38s\tremaining: 20.7s\n",
      "62:\tlearn: 0.5092792\ttest: 0.5118644\tbest: 0.5142166 (32)\ttotal: 2.4s\tremaining: 20.4s\n",
      "63:\tlearn: 0.5100117\ttest: 0.5120445\tbest: 0.5142166 (32)\ttotal: 2.44s\tremaining: 20.4s\n",
      "64:\tlearn: 0.5102581\ttest: 0.5120445\tbest: 0.5142166 (32)\ttotal: 2.49s\tremaining: 20.5s\n",
      "65:\tlearn: 0.5081856\ttest: 0.5122246\tbest: 0.5142166 (32)\ttotal: 2.52s\tremaining: 20.4s\n",
      "66:\tlearn: 0.5292542\ttest: 0.5529842\tbest: 0.5529842 (66)\ttotal: 2.56s\tremaining: 20.4s\n",
      "67:\tlearn: 0.5298352\ttest: 0.5535398\tbest: 0.5535398 (67)\ttotal: 2.6s\tremaining: 20.4s\n",
      "68:\tlearn: 0.5296847\ttest: 0.5536386\tbest: 0.5536386 (68)\ttotal: 2.64s\tremaining: 20.3s\n",
      "69:\tlearn: 0.5298596\ttest: 0.5534786\tbest: 0.5536386 (68)\ttotal: 2.69s\tremaining: 20.4s\n",
      "70:\tlearn: 0.5269576\ttest: 0.5535774\tbest: 0.5536386 (68)\ttotal: 2.73s\tremaining: 20.4s\n",
      "71:\tlearn: 0.5284054\ttest: 0.5535774\tbest: 0.5536386 (68)\ttotal: 2.78s\tremaining: 20.4s\n",
      "72:\tlearn: 0.5273412\ttest: 0.5534925\tbest: 0.5536386 (68)\ttotal: 2.83s\tremaining: 20.5s\n",
      "73:\tlearn: 0.5286438\ttest: 0.5534925\tbest: 0.5536386 (68)\ttotal: 2.88s\tremaining: 20.4s\n",
      "74:\tlearn: 0.5286055\ttest: 0.5536898\tbest: 0.5536898 (74)\ttotal: 2.91s\tremaining: 20.4s\n",
      "75:\tlearn: 0.5313798\ttest: 0.5537510\tbest: 0.5537510 (75)\ttotal: 2.96s\tremaining: 20.4s\n",
      "76:\tlearn: 0.5314743\ttest: 0.5535912\tbest: 0.5537510 (75)\ttotal: 2.98s\tremaining: 20.3s\n",
      "77:\tlearn: 0.5315134\ttest: 0.5535912\tbest: 0.5537510 (75)\ttotal: 3.02s\tremaining: 20.2s\n",
      "78:\tlearn: 0.5353857\ttest: 0.5537510\tbest: 0.5537510 (75)\ttotal: 3.06s\tremaining: 20.2s\n",
      "79:\tlearn: 0.5354173\ttest: 0.5537510\tbest: 0.5537510 (75)\ttotal: 3.09s\tremaining: 20.1s\n",
      "80:\tlearn: 0.5446118\ttest: 0.5536523\tbest: 0.5537510 (75)\ttotal: 3.14s\tremaining: 20.1s\n",
      "81:\tlearn: 0.5444863\ttest: 0.5534925\tbest: 0.5537510 (75)\ttotal: 3.19s\tremaining: 20.1s\n",
      "82:\tlearn: 0.5353690\ttest: 0.5534077\tbest: 0.5537510 (75)\ttotal: 3.23s\tremaining: 20.1s\n",
      "83:\tlearn: 0.5353922\ttest: 0.5534452\tbest: 0.5537510 (75)\ttotal: 3.27s\tremaining: 20.1s\n",
      "84:\tlearn: 0.5445602\ttest: 0.5533466\tbest: 0.5537510 (75)\ttotal: 3.31s\tremaining: 20.1s\n",
      "85:\tlearn: 0.5524611\ttest: 0.5529893\tbest: 0.5537510 (75)\ttotal: 3.36s\tremaining: 20.1s\n",
      "86:\tlearn: 0.5525672\ttest: 0.5529893\tbest: 0.5537510 (75)\ttotal: 3.4s\tremaining: 20.1s\n",
      "87:\tlearn: 0.5528021\ttest: 0.5531492\tbest: 0.5537510 (75)\ttotal: 3.45s\tremaining: 20.1s\n",
      "88:\tlearn: 0.5529204\ttest: 0.5531492\tbest: 0.5537510 (75)\ttotal: 3.5s\tremaining: 20.1s\n",
      "89:\tlearn: 0.5530342\ttest: 0.5531492\tbest: 0.5537510 (75)\ttotal: 3.54s\tremaining: 20.1s\n",
      "90:\tlearn: 0.5531286\ttest: 0.5531492\tbest: 0.5537510 (75)\ttotal: 3.59s\tremaining: 20.1s\n",
      "91:\tlearn: 0.5526076\ttest: 0.5530504\tbest: 0.5537510 (75)\ttotal: 3.63s\tremaining: 20s\n",
      "92:\tlearn: 0.5527724\ttest: 0.5530504\tbest: 0.5537510 (75)\ttotal: 3.67s\tremaining: 20s\n",
      "93:\tlearn: 0.5529686\ttest: 0.5528905\tbest: 0.5537510 (75)\ttotal: 3.71s\tremaining: 20s\n",
      "94:\tlearn: 0.5532278\ttest: 0.5528905\tbest: 0.5537510 (75)\ttotal: 3.75s\tremaining: 19.9s\n",
      "95:\tlearn: 0.5531770\ttest: 0.5528905\tbest: 0.5537510 (75)\ttotal: 3.8s\tremaining: 20s\n",
      "96:\tlearn: 0.5533925\ttest: 0.5528905\tbest: 0.5537510 (75)\ttotal: 3.84s\tremaining: 19.9s\n",
      "97:\tlearn: 0.5533925\ttest: 0.5528905\tbest: 0.5537510 (75)\ttotal: 3.88s\tremaining: 19.9s\n",
      "98:\tlearn: 0.5534434\ttest: 0.5528905\tbest: 0.5537510 (75)\ttotal: 3.92s\tremaining: 19.9s\n",
      "99:\tlearn: 0.5540056\ttest: 0.5529516\tbest: 0.5537510 (75)\ttotal: 3.97s\tremaining: 19.9s\n",
      "100:\tlearn: 0.5541002\ttest: 0.5527538\tbest: 0.5537510 (75)\ttotal: 4.01s\tremaining: 19.8s\n",
      "101:\tlearn: 0.5539232\ttest: 0.5526927\tbest: 0.5537510 (75)\ttotal: 4.05s\tremaining: 19.8s\n",
      "102:\tlearn: 0.5540756\ttest: 0.5527538\tbest: 0.5537510 (75)\ttotal: 4.1s\tremaining: 19.8s\n",
      "103:\tlearn: 0.5546132\ttest: 0.5526927\tbest: 0.5537510 (75)\ttotal: 4.14s\tremaining: 19.8s\n",
      "104:\tlearn: 0.5533349\ttest: 0.5526927\tbest: 0.5537510 (75)\ttotal: 4.19s\tremaining: 19.7s\n",
      "105:\tlearn: 0.5534297\ttest: 0.5528527\tbest: 0.5537510 (75)\ttotal: 4.23s\tremaining: 19.7s\n",
      "106:\tlearn: 0.5490400\ttest: 0.5528527\tbest: 0.5537510 (75)\ttotal: 4.27s\tremaining: 19.7s\n",
      "107:\tlearn: 0.5535123\ttest: 0.5528527\tbest: 0.5537510 (75)\ttotal: 4.32s\tremaining: 19.7s\n",
      "108:\tlearn: 0.5531891\ttest: 0.5528527\tbest: 0.5537510 (75)\ttotal: 4.37s\tremaining: 19.7s\n",
      "109:\tlearn: 0.5484317\ttest: 0.5528527\tbest: 0.5537510 (75)\ttotal: 4.42s\tremaining: 19.7s\n",
      "110:\tlearn: 0.5491799\ttest: 0.5528527\tbest: 0.5537510 (75)\ttotal: 4.45s\tremaining: 19.6s\n",
      "111:\tlearn: 0.5514276\ttest: 0.5526316\tbest: 0.5537510 (75)\ttotal: 4.51s\tremaining: 19.6s\n",
      "112:\tlearn: 0.5515423\ttest: 0.5526316\tbest: 0.5537510 (75)\ttotal: 4.56s\tremaining: 19.6s\n",
      "113:\tlearn: 0.5517716\ttest: 0.5526316\tbest: 0.5537510 (75)\ttotal: 4.6s\tremaining: 19.6s\n",
      "114:\tlearn: 0.5516885\ttest: 0.5529139\tbest: 0.5537510 (75)\ttotal: 4.65s\tremaining: 19.6s\n",
      "115:\tlearn: 0.5514115\ttest: 0.5529139\tbest: 0.5537510 (75)\ttotal: 4.69s\tremaining: 19.6s\n",
      "116:\tlearn: 0.5515975\ttest: 0.5528527\tbest: 0.5537510 (75)\ttotal: 4.74s\tremaining: 19.6s\n",
      "117:\tlearn: 0.5554355\ttest: 0.5528527\tbest: 0.5537510 (75)\ttotal: 4.78s\tremaining: 19.5s\n",
      "118:\tlearn: 0.5526135\ttest: 0.5525326\tbest: 0.5537510 (75)\ttotal: 4.83s\tremaining: 19.5s\n",
      "119:\tlearn: 0.5528110\ttest: 0.5526316\tbest: 0.5537510 (75)\ttotal: 4.88s\tremaining: 19.5s\n",
      "120:\tlearn: 0.5524596\ttest: 0.5525937\tbest: 0.5537510 (75)\ttotal: 4.93s\tremaining: 19.5s\n",
      "121:\tlearn: 0.5526135\ttest: 0.5525937\tbest: 0.5537510 (75)\ttotal: 4.98s\tremaining: 19.5s\n",
      "122:\tlearn: 0.5528427\ttest: 0.5526927\tbest: 0.5537510 (75)\ttotal: 5.02s\tremaining: 19.5s\n",
      "123:\tlearn: 0.5528744\ttest: 0.5526927\tbest: 0.5537510 (75)\ttotal: 5.06s\tremaining: 19.4s\n",
      "124:\tlearn: 0.5515736\ttest: 0.5526927\tbest: 0.5537510 (75)\ttotal: 5.1s\tremaining: 19.4s\n",
      "125:\tlearn: 0.5518034\ttest: 0.5526927\tbest: 0.5537510 (75)\ttotal: 5.14s\tremaining: 19.3s\n",
      "126:\tlearn: 0.5517717\ttest: 0.5526927\tbest: 0.5537510 (75)\ttotal: 5.19s\tremaining: 19.3s\n",
      "127:\tlearn: 0.5518350\ttest: 0.5528527\tbest: 0.5537510 (75)\ttotal: 5.22s\tremaining: 19.3s\n",
      "128:\tlearn: 0.5518746\ttest: 0.5528527\tbest: 0.5537510 (75)\ttotal: 5.27s\tremaining: 19.2s\n",
      "129:\tlearn: 0.5522465\ttest: 0.5528527\tbest: 0.5537510 (75)\ttotal: 5.32s\tremaining: 19.2s\n",
      "130:\tlearn: 0.5519936\ttest: 0.5527916\tbest: 0.5537510 (75)\ttotal: 5.37s\tremaining: 19.2s\n",
      "131:\tlearn: 0.5520768\ttest: 0.5527305\tbest: 0.5537510 (75)\ttotal: 5.42s\tremaining: 19.2s\n",
      "132:\tlearn: 0.5521282\ttest: 0.5527916\tbest: 0.5537510 (75)\ttotal: 5.46s\tremaining: 19.2s\n",
      "133:\tlearn: 0.5522114\ttest: 0.5529516\tbest: 0.5537510 (75)\ttotal: 5.5s\tremaining: 19.1s\n",
      "134:\tlearn: 0.5521282\ttest: 0.5529516\tbest: 0.5537510 (75)\ttotal: 5.54s\tremaining: 19.1s\n",
      "135:\tlearn: 0.5522114\ttest: 0.5529516\tbest: 0.5537510 (75)\ttotal: 5.59s\tremaining: 19.1s\n",
      "136:\tlearn: 0.5524925\ttest: 0.5528905\tbest: 0.5537510 (75)\ttotal: 5.63s\tremaining: 19s\n",
      "137:\tlearn: 0.5527026\ttest: 0.5528905\tbest: 0.5537510 (75)\ttotal: 5.68s\tremaining: 19s\n",
      "138:\tlearn: 0.5527026\ttest: 0.5528905\tbest: 0.5537510 (75)\ttotal: 5.73s\tremaining: 19s\n",
      "139:\tlearn: 0.5527858\ttest: 0.5528905\tbest: 0.5537510 (75)\ttotal: 5.78s\tremaining: 19s\n",
      "140:\tlearn: 0.5536503\ttest: 0.5530504\tbest: 0.5537510 (75)\ttotal: 5.82s\tremaining: 18.9s\n",
      "141:\tlearn: 0.5536820\ttest: 0.5530504\tbest: 0.5537510 (75)\ttotal: 5.86s\tremaining: 18.9s\n",
      "142:\tlearn: 0.5545939\ttest: 0.5529048\tbest: 0.5537510 (75)\ttotal: 5.9s\tremaining: 18.9s\n",
      "143:\tlearn: 0.5544793\ttest: 0.5530412\tbest: 0.5537510 (75)\ttotal: 5.97s\tremaining: 18.9s\n",
      "144:\tlearn: 0.5544793\ttest: 0.5530412\tbest: 0.5537510 (75)\ttotal: 6.01s\tremaining: 18.9s\n",
      "145:\tlearn: 0.5547278\ttest: 0.5530412\tbest: 0.5537510 (75)\ttotal: 6.06s\tremaining: 18.8s\n",
      "146:\tlearn: 0.5549252\ttest: 0.5528814\tbest: 0.5537510 (75)\ttotal: 6.11s\tremaining: 18.8s\n",
      "147:\tlearn: 0.5549762\ttest: 0.5530412\tbest: 0.5537510 (75)\ttotal: 6.15s\tremaining: 18.8s\n",
      "148:\tlearn: 0.5552372\ttest: 0.5531868\tbest: 0.5537510 (75)\ttotal: 6.19s\tremaining: 18.7s\n",
      "149:\tlearn: 0.5554028\ttest: 0.5531257\tbest: 0.5537510 (75)\ttotal: 6.24s\tremaining: 18.7s\n",
      "150:\tlearn: 0.5554346\ttest: 0.5529659\tbest: 0.5537510 (75)\ttotal: 6.29s\tremaining: 18.7s\n",
      "151:\tlearn: 0.5554346\ttest: 0.5529048\tbest: 0.5537510 (75)\ttotal: 6.34s\tremaining: 18.7s\n",
      "152:\tlearn: 0.5555683\ttest: 0.5528437\tbest: 0.5537510 (75)\ttotal: 6.38s\tremaining: 18.6s\n",
      "153:\tlearn: 0.5556001\ttest: 0.5528437\tbest: 0.5537510 (75)\ttotal: 6.42s\tremaining: 18.6s\n",
      "154:\tlearn: 0.5557528\ttest: 0.5527449\tbest: 0.5537510 (75)\ttotal: 6.47s\tremaining: 18.6s\n",
      "155:\tlearn: 0.5556892\ttest: 0.5525851\tbest: 0.5537510 (75)\ttotal: 6.52s\tremaining: 18.5s\n",
      "156:\tlearn: 0.5559501\ttest: 0.5525240\tbest: 0.5537510 (75)\ttotal: 6.56s\tremaining: 18.5s\n",
      "157:\tlearn: 0.5571110\ttest: 0.5525240\tbest: 0.5537510 (75)\ttotal: 6.61s\tremaining: 18.5s\n",
      "158:\tlearn: 0.5577307\ttest: 0.5525240\tbest: 0.5537510 (75)\ttotal: 6.66s\tremaining: 18.5s\n",
      "159:\tlearn: 0.5577626\ttest: 0.5525851\tbest: 0.5537510 (75)\ttotal: 6.7s\tremaining: 18.4s\n",
      "160:\tlearn: 0.5576352\ttest: 0.5525240\tbest: 0.5537510 (75)\ttotal: 6.74s\tremaining: 18.4s\n",
      "161:\tlearn: 0.5580599\ttest: 0.5525851\tbest: 0.5537510 (75)\ttotal: 6.79s\tremaining: 18.4s\n",
      "162:\tlearn: 0.5580918\ttest: 0.5525386\tbest: 0.5537510 (75)\ttotal: 6.83s\tremaining: 18.3s\n",
      "163:\tlearn: 0.5581050\ttest: 0.5524777\tbest: 0.5537510 (75)\ttotal: 6.88s\tremaining: 18.3s\n",
      "164:\tlearn: 0.5581873\ttest: 0.5524777\tbest: 0.5537510 (75)\ttotal: 6.93s\tremaining: 18.3s\n",
      "165:\tlearn: 0.5583095\ttest: 0.5524167\tbest: 0.5537510 (75)\ttotal: 6.98s\tremaining: 18.2s\n",
      "166:\tlearn: 0.5583095\ttest: 0.5524167\tbest: 0.5537510 (75)\ttotal: 7.02s\tremaining: 18.2s\n",
      "167:\tlearn: 0.5585935\ttest: 0.5524167\tbest: 0.5537510 (75)\ttotal: 7.05s\tremaining: 18.1s\n",
      "168:\tlearn: 0.5586892\ttest: 0.5524167\tbest: 0.5537510 (75)\ttotal: 7.1s\tremaining: 18.1s\n",
      "169:\tlearn: 0.5586522\ttest: 0.5523557\tbest: 0.5537510 (75)\ttotal: 7.15s\tremaining: 18.1s\n",
      "170:\tlearn: 0.5585884\ttest: 0.5523557\tbest: 0.5537510 (75)\ttotal: 7.2s\tremaining: 18.1s\n",
      "171:\tlearn: 0.5581767\ttest: 0.5524777\tbest: 0.5537510 (75)\ttotal: 7.25s\tremaining: 18s\n",
      "172:\tlearn: 0.5581767\ttest: 0.5524777\tbest: 0.5537510 (75)\ttotal: 7.3s\tremaining: 18s\n",
      "173:\tlearn: 0.5581448\ttest: 0.5523179\tbest: 0.5537510 (75)\ttotal: 7.35s\tremaining: 18s\n",
      "174:\tlearn: 0.5584979\ttest: 0.5529944\tbest: 0.5537510 (75)\ttotal: 7.4s\tremaining: 18s\n",
      "175:\tlearn: 0.5585616\ttest: 0.5529944\tbest: 0.5537510 (75)\ttotal: 7.45s\tremaining: 17.9s\n",
      "176:\tlearn: 0.5584794\ttest: 0.5528348\tbest: 0.5537510 (75)\ttotal: 7.49s\tremaining: 17.9s\n",
      "177:\tlearn: 0.5579801\ttest: 0.5528348\tbest: 0.5537510 (75)\ttotal: 7.54s\tremaining: 17.9s\n",
      "178:\tlearn: 0.5580120\ttest: 0.5529944\tbest: 0.5537510 (75)\ttotal: 7.59s\tremaining: 17.8s\n",
      "179:\tlearn: 0.5579987\ttest: 0.5530554\tbest: 0.5537510 (75)\ttotal: 7.64s\tremaining: 17.8s\n",
      "180:\tlearn: 0.5581130\ttest: 0.5530554\tbest: 0.5537510 (75)\ttotal: 7.7s\tremaining: 17.8s\n",
      "181:\tlearn: 0.5580253\ttest: 0.5528958\tbest: 0.5537510 (75)\ttotal: 7.74s\tremaining: 17.8s\n",
      "182:\tlearn: 0.5583867\ttest: 0.5523788\tbest: 0.5537510 (75)\ttotal: 7.8s\tremaining: 17.8s\n",
      "183:\tlearn: 0.5577803\ttest: 0.5523788\tbest: 0.5537510 (75)\ttotal: 7.84s\tremaining: 17.7s\n",
      "184:\tlearn: 0.5576153\ttest: 0.5523788\tbest: 0.5537510 (75)\ttotal: 7.89s\tremaining: 17.7s\n",
      "185:\tlearn: 0.5577803\ttest: 0.5519982\tbest: 0.5537510 (75)\ttotal: 7.93s\tremaining: 17.7s\n",
      "186:\tlearn: 0.5585730\ttest: 0.5525240\tbest: 0.5537510 (75)\ttotal: 7.99s\tremaining: 17.6s\n",
      "187:\tlearn: 0.5586049\ttest: 0.5525240\tbest: 0.5537510 (75)\ttotal: 8.03s\tremaining: 17.6s\n",
      "188:\tlearn: 0.5585225\ttest: 0.5525240\tbest: 0.5537510 (75)\ttotal: 8.08s\tremaining: 17.6s\n",
      "189:\tlearn: 0.5585544\ttest: 0.5525240\tbest: 0.5537510 (75)\ttotal: 8.13s\tremaining: 17.5s\n",
      "190:\tlearn: 0.5586369\ttest: 0.5524630\tbest: 0.5537510 (75)\ttotal: 8.18s\tremaining: 17.5s\n",
      "191:\tlearn: 0.5592823\ttest: 0.5527827\tbest: 0.5537510 (75)\ttotal: 8.22s\tremaining: 17.5s\n",
      "192:\tlearn: 0.5594973\ttest: 0.5526461\tbest: 0.5537510 (75)\ttotal: 8.26s\tremaining: 17.4s\n",
      "193:\tlearn: 0.5594973\ttest: 0.5526461\tbest: 0.5537510 (75)\ttotal: 8.3s\tremaining: 17.4s\n",
      "194:\tlearn: 0.5595796\ttest: 0.5527449\tbest: 0.5537510 (75)\ttotal: 8.35s\tremaining: 17.3s\n",
      "195:\tlearn: 0.5597258\ttest: 0.5527449\tbest: 0.5537510 (75)\ttotal: 8.39s\tremaining: 17.3s\n",
      "196:\tlearn: 0.5598081\ttest: 0.5528060\tbest: 0.5537510 (75)\ttotal: 8.44s\tremaining: 17.3s\n",
      "197:\tlearn: 0.5598584\ttest: 0.5526316\tbest: 0.5537510 (75)\ttotal: 8.48s\tremaining: 17.2s\n",
      "198:\tlearn: 0.5603108\ttest: 0.5525326\tbest: 0.5537510 (75)\ttotal: 8.52s\tremaining: 17.2s\n",
      "199:\tlearn: 0.5604251\ttest: 0.5522124\tbest: 0.5537510 (75)\ttotal: 8.57s\tremaining: 17.1s\n",
      "200:\tlearn: 0.5603429\ttest: 0.5521513\tbest: 0.5537510 (75)\ttotal: 8.62s\tremaining: 17.1s\n",
      "201:\tlearn: 0.5603429\ttest: 0.5521513\tbest: 0.5537510 (75)\ttotal: 8.66s\tremaining: 17.1s\n",
      "202:\tlearn: 0.5605896\ttest: 0.5521513\tbest: 0.5537510 (75)\ttotal: 8.7s\tremaining: 17s\n",
      "203:\tlearn: 0.5606035\ttest: 0.5523114\tbest: 0.5537510 (75)\ttotal: 8.75s\tremaining: 17s\n",
      "204:\tlearn: 0.5606355\ttest: 0.5522883\tbest: 0.5537510 (75)\ttotal: 8.8s\tremaining: 17s\n",
      "205:\tlearn: 0.5607178\ttest: 0.5524483\tbest: 0.5537510 (75)\ttotal: 8.86s\tremaining: 16.9s\n",
      "206:\tlearn: 0.5615859\ttest: 0.5525851\tbest: 0.5537510 (75)\ttotal: 8.93s\tremaining: 16.9s\n",
      "207:\tlearn: 0.5616642\ttest: 0.5525240\tbest: 0.5537510 (75)\ttotal: 8.98s\tremaining: 16.9s\n",
      "208:\tlearn: 0.5616642\ttest: 0.5525240\tbest: 0.5537510 (75)\ttotal: 9.03s\tremaining: 16.9s\n",
      "209:\tlearn: 0.5616963\ttest: 0.5523641\tbest: 0.5537510 (75)\ttotal: 9.07s\tremaining: 16.8s\n",
      "210:\tlearn: 0.5616963\ttest: 0.5523641\tbest: 0.5537510 (75)\ttotal: 9.12s\tremaining: 16.8s\n",
      "211:\tlearn: 0.5618607\ttest: 0.5522273\tbest: 0.5537510 (75)\ttotal: 9.18s\tremaining: 16.8s\n",
      "212:\tlearn: 0.5618607\ttest: 0.5522273\tbest: 0.5537510 (75)\ttotal: 9.22s\tremaining: 16.7s\n",
      "213:\tlearn: 0.5618607\ttest: 0.5522273\tbest: 0.5537510 (75)\ttotal: 9.26s\tremaining: 16.7s\n",
      "214:\tlearn: 0.5619429\ttest: 0.5522273\tbest: 0.5537510 (75)\ttotal: 9.31s\tremaining: 16.7s\n",
      "215:\tlearn: 0.5622678\ttest: 0.5523873\tbest: 0.5537510 (75)\ttotal: 9.36s\tremaining: 16.6s\n",
      "216:\tlearn: 0.5622036\ttest: 0.5523873\tbest: 0.5537510 (75)\ttotal: 9.4s\tremaining: 16.6s\n",
      "217:\tlearn: 0.5621714\ttest: 0.5524483\tbest: 0.5537510 (75)\ttotal: 9.45s\tremaining: 16.6s\n",
      "218:\tlearn: 0.5621214\ttest: 0.5524483\tbest: 0.5537510 (75)\ttotal: 9.49s\tremaining: 16.5s\n",
      "219:\tlearn: 0.5624000\ttest: 0.5525472\tbest: 0.5537510 (75)\ttotal: 9.54s\tremaining: 16.5s\n",
      "220:\tlearn: 0.5626464\ttest: 0.5527072\tbest: 0.5537510 (75)\ttotal: 9.57s\tremaining: 16.4s\n",
      "221:\tlearn: 0.5626464\ttest: 0.5527072\tbest: 0.5537510 (75)\ttotal: 9.62s\tremaining: 16.4s\n",
      "222:\tlearn: 0.5626464\ttest: 0.5527072\tbest: 0.5537510 (75)\ttotal: 9.67s\tremaining: 16.3s\n",
      "223:\tlearn: 0.5626964\ttest: 0.5527683\tbest: 0.5537510 (75)\ttotal: 9.71s\tremaining: 16.3s\n",
      "224:\tlearn: 0.5625321\ttest: 0.5528294\tbest: 0.5537510 (75)\ttotal: 9.76s\tremaining: 16.3s\n",
      "225:\tlearn: 0.5625143\ttest: 0.5528060\tbest: 0.5537510 (75)\ttotal: 9.81s\tremaining: 16.2s\n",
      "226:\tlearn: 0.5630924\ttest: 0.5527072\tbest: 0.5537510 (75)\ttotal: 9.86s\tremaining: 16.2s\n",
      "227:\tlearn: 0.5631245\ttest: 0.5527072\tbest: 0.5537510 (75)\ttotal: 9.9s\tremaining: 16.2s\n",
      "228:\tlearn: 0.5632066\ttest: 0.5527072\tbest: 0.5537510 (75)\ttotal: 9.95s\tremaining: 16.1s\n",
      "229:\tlearn: 0.5629959\ttest: 0.5524483\tbest: 0.5537510 (75)\ttotal: 9.99s\tremaining: 16.1s\n",
      "230:\tlearn: 0.5628141\ttest: 0.5522883\tbest: 0.5537510 (75)\ttotal: 10s\tremaining: 16s\n",
      "231:\tlearn: 0.5625857\ttest: 0.5527683\tbest: 0.5537510 (75)\ttotal: 10.1s\tremaining: 16s\n",
      "232:\tlearn: 0.5626178\ttest: 0.5527683\tbest: 0.5537510 (75)\ttotal: 10.1s\tremaining: 16s\n",
      "233:\tlearn: 0.5626178\ttest: 0.5527683\tbest: 0.5537510 (75)\ttotal: 10.2s\tremaining: 15.9s\n",
      "234:\tlearn: 0.5626499\ttest: 0.5527683\tbest: 0.5537510 (75)\ttotal: 10.2s\tremaining: 15.9s\n",
      "235:\tlearn: 0.5627320\ttest: 0.5528294\tbest: 0.5537510 (75)\ttotal: 10.3s\tremaining: 15.9s\n",
      "236:\tlearn: 0.5627498\ttest: 0.5528294\tbest: 0.5537510 (75)\ttotal: 10.3s\tremaining: 15.9s\n",
      "237:\tlearn: 0.5626999\ttest: 0.5528294\tbest: 0.5537510 (75)\ttotal: 10.4s\tremaining: 15.8s\n",
      "238:\tlearn: 0.5626178\ttest: 0.5528294\tbest: 0.5537510 (75)\ttotal: 10.5s\tremaining: 15.8s\n",
      "239:\tlearn: 0.5629782\ttest: 0.5526083\tbest: 0.5537510 (75)\ttotal: 10.5s\tremaining: 15.8s\n",
      "240:\tlearn: 0.5631921\ttest: 0.5525705\tbest: 0.5537510 (75)\ttotal: 10.6s\tremaining: 15.7s\n",
      "241:\tlearn: 0.5631921\ttest: 0.5525705\tbest: 0.5537510 (75)\ttotal: 10.6s\tremaining: 15.7s\n",
      "242:\tlearn: 0.5633562\ttest: 0.5527305\tbest: 0.5537510 (75)\ttotal: 10.6s\tremaining: 15.6s\n",
      "243:\tlearn: 0.5634173\ttest: 0.5525094\tbest: 0.5537510 (75)\ttotal: 10.7s\tremaining: 15.6s\n",
      "244:\tlearn: 0.5636955\ttest: 0.5524483\tbest: 0.5537510 (75)\ttotal: 10.7s\tremaining: 15.6s\n",
      "245:\tlearn: 0.5636955\ttest: 0.5526083\tbest: 0.5537510 (75)\ttotal: 10.8s\tremaining: 15.5s\n",
      "246:\tlearn: 0.5638097\ttest: 0.5526083\tbest: 0.5537510 (75)\ttotal: 10.8s\tremaining: 15.5s\n",
      "247:\tlearn: 0.5636135\ttest: 0.5528294\tbest: 0.5537510 (75)\ttotal: 10.9s\tremaining: 15.4s\n",
      "248:\tlearn: 0.5636955\ttest: 0.5528294\tbest: 0.5537510 (75)\ttotal: 10.9s\tremaining: 15.4s\n",
      "249:\tlearn: 0.5636955\ttest: 0.5528294\tbest: 0.5537510 (75)\ttotal: 11s\tremaining: 15.4s\n",
      "250:\tlearn: 0.5630502\ttest: 0.5528294\tbest: 0.5537510 (75)\ttotal: 11s\tremaining: 15.3s\n",
      "251:\tlearn: 0.5631967\ttest: 0.5528294\tbest: 0.5537510 (75)\ttotal: 11.1s\tremaining: 15.3s\n",
      "252:\tlearn: 0.5631967\ttest: 0.5528294\tbest: 0.5537510 (75)\ttotal: 11.1s\tremaining: 15.2s\n",
      "253:\tlearn: 0.5632788\ttest: 0.5526694\tbest: 0.5537510 (75)\ttotal: 11.1s\tremaining: 15.2s\n",
      "254:\tlearn: 0.5632611\ttest: 0.5526694\tbest: 0.5537510 (75)\ttotal: 11.2s\tremaining: 15.1s\n",
      "255:\tlearn: 0.5632289\ttest: 0.5526694\tbest: 0.5537510 (75)\ttotal: 11.2s\tremaining: 15.1s\n",
      "256:\tlearn: 0.5631146\ttest: 0.5526694\tbest: 0.5537510 (75)\ttotal: 11.3s\tremaining: 15.1s\n",
      "257:\tlearn: 0.5629824\ttest: 0.5526694\tbest: 0.5537510 (75)\ttotal: 11.3s\tremaining: 15s\n",
      "258:\tlearn: 0.5632000\ttest: 0.5528294\tbest: 0.5537510 (75)\ttotal: 11.4s\tremaining: 15s\n",
      "259:\tlearn: 0.5635107\ttest: 0.5525094\tbest: 0.5537510 (75)\ttotal: 11.4s\tremaining: 14.9s\n",
      "260:\tlearn: 0.5634254\ttest: 0.5522652\tbest: 0.5537510 (75)\ttotal: 11.5s\tremaining: 14.9s\n",
      "261:\tlearn: 0.5636571\ttest: 0.5516403\tbest: 0.5537510 (75)\ttotal: 11.5s\tremaining: 14.9s\n",
      "262:\tlearn: 0.5636571\ttest: 0.5516403\tbest: 0.5537510 (75)\ttotal: 11.6s\tremaining: 14.8s\n",
      "263:\tlearn: 0.5636571\ttest: 0.5518613\tbest: 0.5537510 (75)\ttotal: 11.6s\tremaining: 14.8s\n",
      "264:\tlearn: 0.5637714\ttest: 0.5518003\tbest: 0.5537510 (75)\ttotal: 11.7s\tremaining: 14.7s\n",
      "265:\tlearn: 0.5638857\ttest: 0.5519602\tbest: 0.5537510 (75)\ttotal: 11.7s\tremaining: 14.7s\n",
      "266:\tlearn: 0.5638857\ttest: 0.5519602\tbest: 0.5537510 (75)\ttotal: 11.8s\tremaining: 14.7s\n",
      "267:\tlearn: 0.5638857\ttest: 0.5519602\tbest: 0.5537510 (75)\ttotal: 11.8s\tremaining: 14.6s\n",
      "268:\tlearn: 0.5638857\ttest: 0.5519602\tbest: 0.5537510 (75)\ttotal: 11.8s\tremaining: 14.6s\n",
      "269:\tlearn: 0.5640821\ttest: 0.5521432\tbest: 0.5537510 (75)\ttotal: 11.9s\tremaining: 14.5s\n",
      "270:\tlearn: 0.5641348\ttest: 0.5522042\tbest: 0.5537510 (75)\ttotal: 11.9s\tremaining: 14.5s\n",
      "271:\tlearn: 0.5637392\ttest: 0.5517165\tbest: 0.5537510 (75)\ttotal: 12s\tremaining: 14.5s\n",
      "272:\tlearn: 0.5640176\ttest: 0.5518155\tbest: 0.5537510 (75)\ttotal: 12s\tremaining: 14.4s\n",
      "273:\tlearn: 0.5644277\ttest: 0.5519753\tbest: 0.5537510 (75)\ttotal: 12.1s\tremaining: 14.4s\n",
      "274:\tlearn: 0.5643955\ttest: 0.5519753\tbest: 0.5537510 (75)\ttotal: 12.1s\tremaining: 14.3s\n",
      "275:\tlearn: 0.5645272\ttest: 0.5519753\tbest: 0.5537510 (75)\ttotal: 12.2s\tremaining: 14.3s\n",
      "276:\tlearn: 0.5642959\ttest: 0.5520362\tbest: 0.5537510 (75)\ttotal: 12.2s\tremaining: 14.3s\n",
      "277:\tlearn: 0.5642139\ttest: 0.5520362\tbest: 0.5537510 (75)\ttotal: 12.3s\tremaining: 14.2s\n",
      "278:\tlearn: 0.5643604\ttest: 0.5520362\tbest: 0.5537510 (75)\ttotal: 12.3s\tremaining: 14.2s\n",
      "279:\tlearn: 0.5643779\ttest: 0.5518764\tbest: 0.5537510 (75)\ttotal: 12.4s\tremaining: 14.1s\n",
      "280:\tlearn: 0.5642959\ttest: 0.5517165\tbest: 0.5537510 (75)\ttotal: 12.4s\tremaining: 14.1s\n",
      "281:\tlearn: 0.5642139\ttest: 0.5517774\tbest: 0.5537510 (75)\ttotal: 12.5s\tremaining: 14.1s\n",
      "282:\tlearn: 0.5641670\ttest: 0.5517774\tbest: 0.5537510 (75)\ttotal: 12.5s\tremaining: 14s\n",
      "283:\tlearn: 0.5641670\ttest: 0.5519373\tbest: 0.5537510 (75)\ttotal: 12.6s\tremaining: 14s\n",
      "284:\tlearn: 0.5643310\ttest: 0.5519373\tbest: 0.5537510 (75)\ttotal: 12.6s\tremaining: 13.9s\n",
      "285:\tlearn: 0.5641670\ttest: 0.5517774\tbest: 0.5537510 (75)\ttotal: 12.7s\tremaining: 13.9s\n",
      "286:\tlearn: 0.5643457\ttest: 0.5516175\tbest: 0.5537510 (75)\ttotal: 12.7s\tremaining: 13.9s\n",
      "287:\tlearn: 0.5644452\ttest: 0.5515185\tbest: 0.5537510 (75)\ttotal: 12.8s\tremaining: 13.8s\n",
      "288:\tlearn: 0.5643310\ttest: 0.5513967\tbest: 0.5537510 (75)\ttotal: 12.8s\tremaining: 13.8s\n",
      "289:\tlearn: 0.5643310\ttest: 0.5512367\tbest: 0.5537510 (75)\ttotal: 12.8s\tremaining: 13.7s\n",
      "290:\tlearn: 0.5644130\ttest: 0.5518764\tbest: 0.5537510 (75)\ttotal: 12.9s\tremaining: 13.7s\n",
      "291:\tlearn: 0.5644130\ttest: 0.5518764\tbest: 0.5537510 (75)\ttotal: 12.9s\tremaining: 13.6s\n",
      "292:\tlearn: 0.5641172\ttest: 0.5518764\tbest: 0.5537510 (75)\ttotal: 13s\tremaining: 13.6s\n",
      "293:\tlearn: 0.5642812\ttest: 0.5518764\tbest: 0.5537510 (75)\ttotal: 13s\tremaining: 13.6s\n",
      "294:\tlearn: 0.5641172\ttest: 0.5518764\tbest: 0.5537510 (75)\ttotal: 13.1s\tremaining: 13.5s\n",
      "295:\tlearn: 0.5640996\ttest: 0.5518764\tbest: 0.5537510 (75)\ttotal: 13.1s\tremaining: 13.5s\n",
      "296:\tlearn: 0.5643282\ttest: 0.5518764\tbest: 0.5537510 (75)\ttotal: 13.2s\tremaining: 13.4s\n",
      "297:\tlearn: 0.5645097\ttest: 0.5518764\tbest: 0.5537510 (75)\ttotal: 13.2s\tremaining: 13.4s\n",
      "298:\tlearn: 0.5632204\ttest: 0.5519373\tbest: 0.5537510 (75)\ttotal: 13.3s\tremaining: 13.3s\n",
      "299:\tlearn: 0.5633028\ttest: 0.5514576\tbest: 0.5537510 (75)\ttotal: 13.3s\tremaining: 13.3s\n",
      "300:\tlearn: 0.5635321\ttest: 0.5514576\tbest: 0.5537510 (75)\ttotal: 13.4s\tremaining: 13.3s\n",
      "301:\tlearn: 0.5636145\ttest: 0.5514576\tbest: 0.5537510 (75)\ttotal: 13.4s\tremaining: 13.2s\n",
      "302:\tlearn: 0.5641114\ttest: 0.5515947\tbest: 0.5537510 (75)\ttotal: 13.5s\tremaining: 13.2s\n",
      "303:\tlearn: 0.5641290\ttest: 0.5520132\tbest: 0.5537510 (75)\ttotal: 13.5s\tremaining: 13.2s\n",
      "304:\tlearn: 0.5643258\ttest: 0.5523326\tbest: 0.5537510 (75)\ttotal: 13.6s\tremaining: 13.1s\n",
      "305:\tlearn: 0.5643434\ttest: 0.5523326\tbest: 0.5537510 (75)\ttotal: 13.6s\tremaining: 13.1s\n",
      "306:\tlearn: 0.5643434\ttest: 0.5523326\tbest: 0.5537510 (75)\ttotal: 13.7s\tremaining: 13s\n",
      "307:\tlearn: 0.5642084\ttest: 0.5521730\tbest: 0.5537510 (75)\ttotal: 13.7s\tremaining: 13s\n",
      "308:\tlearn: 0.5642730\ttest: 0.5521730\tbest: 0.5537510 (75)\ttotal: 13.7s\tremaining: 12.9s\n",
      "309:\tlearn: 0.5643553\ttest: 0.5521730\tbest: 0.5537510 (75)\ttotal: 13.8s\tremaining: 12.9s\n",
      "310:\tlearn: 0.5643553\ttest: 0.5521730\tbest: 0.5537510 (75)\ttotal: 13.8s\tremaining: 12.9s\n",
      "311:\tlearn: 0.5642730\ttest: 0.5521730\tbest: 0.5537510 (75)\ttotal: 13.9s\tremaining: 12.8s\n",
      "312:\tlearn: 0.5642878\ttest: 0.5521960\tbest: 0.5537510 (75)\ttotal: 13.9s\tremaining: 12.8s\n",
      "313:\tlearn: 0.5639085\ttest: 0.5522717\tbest: 0.5537510 (75)\ttotal: 14s\tremaining: 12.7s\n",
      "314:\tlearn: 0.5639085\ttest: 0.5522717\tbest: 0.5537510 (75)\ttotal: 14s\tremaining: 12.7s\n",
      "315:\tlearn: 0.5640732\ttest: 0.5518915\tbest: 0.5537510 (75)\ttotal: 14.1s\tremaining: 12.6s\n",
      "316:\tlearn: 0.5641702\ttest: 0.5512141\tbest: 0.5537510 (75)\ttotal: 14.1s\tremaining: 12.6s\n",
      "317:\tlearn: 0.5647140\ttest: 0.5511759\tbest: 0.5537510 (75)\ttotal: 14.2s\tremaining: 12.6s\n",
      "318:\tlearn: 0.5647018\ttest: 0.5509551\tbest: 0.5537510 (75)\ttotal: 14.2s\tremaining: 12.5s\n",
      "319:\tlearn: 0.5649983\ttest: 0.5513358\tbest: 0.5537510 (75)\ttotal: 14.3s\tremaining: 12.5s\n",
      "320:\tlearn: 0.5647018\ttest: 0.5513358\tbest: 0.5537510 (75)\ttotal: 14.3s\tremaining: 12.4s\n",
      "321:\tlearn: 0.5647841\ttest: 0.5514958\tbest: 0.5537510 (75)\ttotal: 14.4s\tremaining: 12.4s\n",
      "322:\tlearn: 0.5649633\ttest: 0.5515566\tbest: 0.5537510 (75)\ttotal: 14.4s\tremaining: 12.3s\n",
      "323:\tlearn: 0.5649808\ttest: 0.5515566\tbest: 0.5537510 (75)\ttotal: 14.4s\tremaining: 12.3s\n",
      "324:\tlearn: 0.5652747\ttest: 0.5515566\tbest: 0.5537510 (75)\ttotal: 14.5s\tremaining: 12.2s\n",
      "325:\tlearn: 0.5651750\ttest: 0.5509776\tbest: 0.5537510 (75)\ttotal: 14.5s\tremaining: 12.2s\n",
      "326:\tlearn: 0.5653394\ttest: 0.5509776\tbest: 0.5537510 (75)\ttotal: 14.6s\tremaining: 12.2s\n",
      "327:\tlearn: 0.5653394\ttest: 0.5516175\tbest: 0.5537510 (75)\ttotal: 14.6s\tremaining: 12.1s\n",
      "328:\tlearn: 0.5650928\ttest: 0.5516175\tbest: 0.5537510 (75)\ttotal: 14.7s\tremaining: 12.1s\n",
      "329:\tlearn: 0.5651576\ttest: 0.5518003\tbest: 0.5537510 (75)\ttotal: 14.7s\tremaining: 12s\n",
      "330:\tlearn: 0.5650754\ttest: 0.5518003\tbest: 0.5537510 (75)\ttotal: 14.7s\tremaining: 12s\n",
      "331:\tlearn: 0.5653071\ttest: 0.5513967\tbest: 0.5537510 (75)\ttotal: 14.8s\tremaining: 11.9s\n",
      "332:\tlearn: 0.5652747\ttest: 0.5513967\tbest: 0.5537510 (75)\ttotal: 14.8s\tremaining: 11.9s\n",
      "333:\tlearn: 0.5652747\ttest: 0.5513967\tbest: 0.5537510 (75)\ttotal: 14.9s\tremaining: 11.8s\n",
      "334:\tlearn: 0.5652597\ttest: 0.5513967\tbest: 0.5537510 (75)\ttotal: 14.9s\tremaining: 11.8s\n",
      "335:\tlearn: 0.5651775\ttest: 0.5513967\tbest: 0.5537510 (75)\ttotal: 15s\tremaining: 11.7s\n",
      "336:\tlearn: 0.5652747\ttest: 0.5518155\tbest: 0.5537510 (75)\ttotal: 15s\tremaining: 11.7s\n",
      "337:\tlearn: 0.5652747\ttest: 0.5518155\tbest: 0.5537510 (75)\ttotal: 15s\tremaining: 11.7s\n",
      "338:\tlearn: 0.5651103\ttest: 0.5518155\tbest: 0.5537510 (75)\ttotal: 15.1s\tremaining: 11.6s\n",
      "339:\tlearn: 0.5651103\ttest: 0.5518155\tbest: 0.5537510 (75)\ttotal: 15.1s\tremaining: 11.6s\n",
      "340:\tlearn: 0.5651103\ttest: 0.5518764\tbest: 0.5537510 (75)\ttotal: 15.2s\tremaining: 11.5s\n",
      "341:\tlearn: 0.5652398\ttest: 0.5513967\tbest: 0.5537510 (75)\ttotal: 15.2s\tremaining: 11.5s\n",
      "342:\tlearn: 0.5650754\ttest: 0.5513967\tbest: 0.5537510 (75)\ttotal: 15.3s\tremaining: 11.4s\n",
      "343:\tlearn: 0.5650430\ttest: 0.5513967\tbest: 0.5537510 (75)\ttotal: 15.3s\tremaining: 11.4s\n",
      "344:\tlearn: 0.5652074\ttest: 0.5513967\tbest: 0.5537510 (75)\ttotal: 15.4s\tremaining: 11.4s\n",
      "345:\tlearn: 0.5651576\ttest: 0.5512750\tbest: 0.5537510 (75)\ttotal: 15.4s\tremaining: 11.3s\n",
      "346:\tlearn: 0.5652722\ttest: 0.5512750\tbest: 0.5537510 (75)\ttotal: 15.5s\tremaining: 11.3s\n",
      "347:\tlearn: 0.5654864\ttest: 0.5509167\tbest: 0.5537510 (75)\ttotal: 15.5s\tremaining: 11.2s\n",
      "348:\tlearn: 0.5655836\ttest: 0.5509167\tbest: 0.5537510 (75)\ttotal: 15.5s\tremaining: 11.2s\n",
      "349:\tlearn: 0.5655836\ttest: 0.5509167\tbest: 0.5537510 (75)\ttotal: 15.6s\tremaining: 11.1s\n",
      "350:\tlearn: 0.5655836\ttest: 0.5509167\tbest: 0.5537510 (75)\ttotal: 15.6s\tremaining: 11.1s\n",
      "351:\tlearn: 0.5655836\ttest: 0.5507951\tbest: 0.5537510 (75)\ttotal: 15.7s\tremaining: 11.1s\n",
      "352:\tlearn: 0.5655987\ttest: 0.5508334\tbest: 0.5537510 (75)\ttotal: 15.7s\tremaining: 11s\n",
      "353:\tlearn: 0.5655987\ttest: 0.5508334\tbest: 0.5537510 (75)\ttotal: 15.8s\tremaining: 11s\n",
      "354:\tlearn: 0.5655987\ttest: 0.5508334\tbest: 0.5537510 (75)\ttotal: 15.8s\tremaining: 10.9s\n",
      "355:\tlearn: 0.5656485\ttest: 0.5508334\tbest: 0.5537510 (75)\ttotal: 15.9s\tremaining: 10.9s\n",
      "356:\tlearn: 0.5657307\ttest: 0.5506734\tbest: 0.5537510 (75)\ttotal: 15.9s\tremaining: 10.8s\n",
      "357:\tlearn: 0.5657307\ttest: 0.5505134\tbest: 0.5537510 (75)\ttotal: 16s\tremaining: 10.8s\n",
      "358:\tlearn: 0.5658302\ttest: 0.5505134\tbest: 0.5537510 (75)\ttotal: 16s\tremaining: 10.7s\n",
      "359:\tlearn: 0.5658302\ttest: 0.5504526\tbest: 0.5537510 (75)\ttotal: 16.1s\tremaining: 10.7s\n",
      "360:\tlearn: 0.5657804\ttest: 0.5503919\tbest: 0.5537510 (75)\ttotal: 16.1s\tremaining: 10.7s\n",
      "361:\tlearn: 0.5661091\ttest: 0.5503919\tbest: 0.5537510 (75)\ttotal: 16.1s\tremaining: 10.6s\n",
      "362:\tlearn: 0.5660269\ttest: 0.5503919\tbest: 0.5537510 (75)\ttotal: 16.2s\tremaining: 10.6s\n",
      "363:\tlearn: 0.5661739\ttest: 0.5503919\tbest: 0.5537510 (75)\ttotal: 16.2s\tremaining: 10.5s\n",
      "364:\tlearn: 0.5661091\ttest: 0.5503919\tbest: 0.5537510 (75)\ttotal: 16.3s\tremaining: 10.5s\n",
      "365:\tlearn: 0.5660442\ttest: 0.5504526\tbest: 0.5537510 (75)\ttotal: 16.3s\tremaining: 10.4s\n",
      "366:\tlearn: 0.5662906\ttest: 0.5504526\tbest: 0.5537510 (75)\ttotal: 16.4s\tremaining: 10.4s\n",
      "367:\tlearn: 0.5662906\ttest: 0.5504526\tbest: 0.5537510 (75)\ttotal: 16.4s\tremaining: 10.4s\n",
      "368:\tlearn: 0.5664051\ttest: 0.5505134\tbest: 0.5537510 (75)\ttotal: 16.5s\tremaining: 10.3s\n",
      "369:\tlearn: 0.5666018\ttest: 0.5505134\tbest: 0.5537510 (75)\ttotal: 16.5s\tremaining: 10.3s\n",
      "370:\tlearn: 0.5666342\ttest: 0.5505134\tbest: 0.5537510 (75)\ttotal: 16.6s\tremaining: 10.2s\n",
      "371:\tlearn: 0.5666018\ttest: 0.5505134\tbest: 0.5537510 (75)\ttotal: 16.6s\tremaining: 10.2s\n",
      "372:\tlearn: 0.5664872\ttest: 0.5507342\tbest: 0.5537510 (75)\ttotal: 16.7s\tremaining: 10.1s\n",
      "373:\tlearn: 0.5664872\ttest: 0.5506511\tbest: 0.5537510 (75)\ttotal: 16.7s\tremaining: 10.1s\n",
      "374:\tlearn: 0.5665197\ttest: 0.5505680\tbest: 0.5537510 (75)\ttotal: 16.8s\tremaining: 10.1s\n",
      "375:\tlearn: 0.5664700\ttest: 0.5505680\tbest: 0.5537510 (75)\ttotal: 16.8s\tremaining: 10s\n",
      "376:\tlearn: 0.5668461\ttest: 0.5493752\tbest: 0.5537510 (75)\ttotal: 16.9s\tremaining: 10s\n",
      "377:\tlearn: 0.5666342\ttest: 0.5496403\tbest: 0.5537510 (75)\ttotal: 17s\tremaining: 9.98s\n",
      "378:\tlearn: 0.5668976\ttest: 0.5498008\tbest: 0.5537510 (75)\ttotal: 17.1s\tremaining: 9.94s\n",
      "379:\tlearn: 0.5669300\ttest: 0.5498008\tbest: 0.5537510 (75)\ttotal: 17.1s\tremaining: 9.92s\n",
      "380:\tlearn: 0.5666190\ttest: 0.5494189\tbest: 0.5537510 (75)\ttotal: 17.2s\tremaining: 9.88s\n",
      "381:\tlearn: 0.5665197\ttest: 0.5495795\tbest: 0.5537510 (75)\ttotal: 17.2s\tremaining: 9.83s\n",
      "382:\tlearn: 0.5664548\ttest: 0.5495795\tbest: 0.5537510 (75)\ttotal: 17.3s\tremaining: 9.78s\n",
      "383:\tlearn: 0.5664224\ttest: 0.5495795\tbest: 0.5537510 (75)\ttotal: 17.3s\tremaining: 9.74s\n",
      "384:\tlearn: 0.5665674\ttest: 0.5496403\tbest: 0.5537510 (75)\ttotal: 17.4s\tremaining: 9.7s\n",
      "385:\tlearn: 0.5665674\ttest: 0.5496403\tbest: 0.5537510 (75)\ttotal: 17.4s\tremaining: 9.65s\n",
      "386:\tlearn: 0.5667488\ttest: 0.5496403\tbest: 0.5537510 (75)\ttotal: 17.4s\tremaining: 9.6s\n",
      "387:\tlearn: 0.5668976\ttest: 0.5499613\tbest: 0.5537510 (75)\ttotal: 17.5s\tremaining: 9.56s\n",
      "388:\tlearn: 0.5669950\ttest: 0.5498563\tbest: 0.5537510 (75)\ttotal: 17.6s\tremaining: 9.52s\n",
      "389:\tlearn: 0.5671761\ttest: 0.5498563\tbest: 0.5537510 (75)\ttotal: 17.6s\tremaining: 9.48s\n",
      "390:\tlearn: 0.5673060\ttest: 0.5496960\tbest: 0.5537510 (75)\ttotal: 17.6s\tremaining: 9.43s\n",
      "391:\tlearn: 0.5672411\ttest: 0.5496960\tbest: 0.5537510 (75)\ttotal: 17.7s\tremaining: 9.39s\n",
      "392:\tlearn: 0.5672411\ttest: 0.5496960\tbest: 0.5537510 (75)\ttotal: 17.7s\tremaining: 9.34s\n",
      "393:\tlearn: 0.5670428\ttest: 0.5497955\tbest: 0.5537510 (75)\ttotal: 17.8s\tremaining: 9.29s\n",
      "394:\tlearn: 0.5670924\ttest: 0.5495744\tbest: 0.5537510 (75)\ttotal: 17.8s\tremaining: 9.25s\n",
      "395:\tlearn: 0.5672069\ttest: 0.5495744\tbest: 0.5537510 (75)\ttotal: 17.9s\tremaining: 9.2s\n",
      "396:\tlearn: 0.5672394\ttest: 0.5494530\tbest: 0.5537510 (75)\ttotal: 17.9s\tremaining: 9.15s\n",
      "397:\tlearn: 0.5675676\ttest: 0.5492927\tbest: 0.5537510 (75)\ttotal: 18s\tremaining: 9.11s\n",
      "398:\tlearn: 0.5672394\ttest: 0.5494530\tbest: 0.5537510 (75)\ttotal: 18s\tremaining: 9.06s\n",
      "399:\tlearn: 0.5673540\ttest: 0.5492927\tbest: 0.5537510 (75)\ttotal: 18s\tremaining: 9.02s\n",
      "400:\tlearn: 0.5675180\ttest: 0.5493534\tbest: 0.5537510 (75)\ttotal: 18.1s\tremaining: 8.97s\n",
      "401:\tlearn: 0.5676001\ttest: 0.5491930\tbest: 0.5537510 (75)\ttotal: 18.1s\tremaining: 8.93s\n",
      "402:\tlearn: 0.5677161\ttest: 0.5493534\tbest: 0.5537510 (75)\ttotal: 18.2s\tremaining: 8.88s\n",
      "403:\tlearn: 0.5678800\ttest: 0.5495137\tbest: 0.5537510 (75)\ttotal: 18.2s\tremaining: 8.84s\n",
      "404:\tlearn: 0.5679125\ttest: 0.5495137\tbest: 0.5537510 (75)\ttotal: 18.3s\tremaining: 8.79s\n",
      "405:\tlearn: 0.5679945\ttest: 0.5495137\tbest: 0.5537510 (75)\ttotal: 18.3s\tremaining: 8.74s\n",
      "406:\tlearn: 0.5677981\ttest: 0.5492927\tbest: 0.5537510 (75)\ttotal: 18.3s\tremaining: 8.7s\n",
      "407:\tlearn: 0.5679125\ttest: 0.5492927\tbest: 0.5537510 (75)\ttotal: 18.4s\tremaining: 8.65s\n",
      "408:\tlearn: 0.5677981\ttest: 0.5493923\tbest: 0.5537510 (75)\ttotal: 18.4s\tremaining: 8.6s\n",
      "409:\tlearn: 0.5679945\ttest: 0.5493923\tbest: 0.5537510 (75)\ttotal: 18.5s\tremaining: 8.56s\n",
      "410:\tlearn: 0.5693930\ttest: 0.5494530\tbest: 0.5537510 (75)\ttotal: 18.5s\tremaining: 8.52s\n",
      "411:\tlearn: 0.5696527\ttest: 0.5493923\tbest: 0.5537510 (75)\ttotal: 18.6s\tremaining: 8.47s\n",
      "412:\tlearn: 0.5697018\ttest: 0.5493923\tbest: 0.5537510 (75)\ttotal: 18.6s\tremaining: 8.43s\n",
      "413:\tlearn: 0.5695878\ttest: 0.5492320\tbest: 0.5537510 (75)\ttotal: 18.7s\tremaining: 8.38s\n",
      "414:\tlearn: 0.5695712\ttest: 0.5492320\tbest: 0.5537510 (75)\ttotal: 18.7s\tremaining: 8.34s\n",
      "415:\tlearn: 0.5695221\ttest: 0.5488938\tbest: 0.5537510 (75)\ttotal: 18.8s\tremaining: 8.3s\n",
      "416:\tlearn: 0.5695221\ttest: 0.5488938\tbest: 0.5537510 (75)\ttotal: 18.8s\tremaining: 8.25s\n",
      "417:\tlearn: 0.5694080\ttest: 0.5488938\tbest: 0.5537510 (75)\ttotal: 18.9s\tremaining: 8.21s\n",
      "418:\tlearn: 0.5694080\ttest: 0.5488938\tbest: 0.5537510 (75)\ttotal: 18.9s\tremaining: 8.16s\n",
      "419:\tlearn: 0.5694080\ttest: 0.5488938\tbest: 0.5537510 (75)\ttotal: 19s\tremaining: 8.12s\n",
      "420:\tlearn: 0.5694571\ttest: 0.5488331\tbest: 0.5537510 (75)\ttotal: 19s\tremaining: 8.08s\n",
      "421:\tlearn: 0.5693431\ttest: 0.5492320\tbest: 0.5537510 (75)\ttotal: 19.1s\tremaining: 8.04s\n",
      "422:\tlearn: 0.5693431\ttest: 0.5492320\tbest: 0.5537510 (75)\ttotal: 19.1s\tremaining: 8s\n",
      "423:\tlearn: 0.5697834\ttest: 0.5493923\tbest: 0.5537510 (75)\ttotal: 19.2s\tremaining: 7.96s\n",
      "424:\tlearn: 0.5698158\ttest: 0.5492927\tbest: 0.5537510 (75)\ttotal: 19.2s\tremaining: 7.91s\n",
      "425:\tlearn: 0.5698324\ttest: 0.5492927\tbest: 0.5537510 (75)\ttotal: 19.3s\tremaining: 7.87s\n",
      "426:\tlearn: 0.5700279\ttest: 0.5492927\tbest: 0.5537510 (75)\ttotal: 19.3s\tremaining: 7.83s\n",
      "427:\tlearn: 0.5700279\ttest: 0.5492927\tbest: 0.5537510 (75)\ttotal: 19.4s\tremaining: 7.78s\n",
      "428:\tlearn: 0.5701254\ttest: 0.5492927\tbest: 0.5537510 (75)\ttotal: 19.4s\tremaining: 7.74s\n",
      "429:\tlearn: 0.5701744\ttest: 0.5492927\tbest: 0.5537510 (75)\ttotal: 19.5s\tremaining: 7.69s\n",
      "430:\tlearn: 0.5697668\ttest: 0.5494530\tbest: 0.5537510 (75)\ttotal: 19.5s\tremaining: 7.65s\n",
      "431:\tlearn: 0.5697993\ttest: 0.5492927\tbest: 0.5537510 (75)\ttotal: 19.6s\tremaining: 7.6s\n",
      "432:\tlearn: 0.5698318\ttest: 0.5492927\tbest: 0.5537510 (75)\ttotal: 19.6s\tremaining: 7.56s\n",
      "433:\tlearn: 0.5698643\ttest: 0.5492927\tbest: 0.5537510 (75)\ttotal: 19.7s\tremaining: 7.52s\n",
      "434:\tlearn: 0.5699133\ttest: 0.5492927\tbest: 0.5537510 (75)\ttotal: 19.7s\tremaining: 7.47s\n",
      "435:\tlearn: 0.5700108\ttest: 0.5492320\tbest: 0.5537510 (75)\ttotal: 19.7s\tremaining: 7.42s\n",
      "436:\tlearn: 0.5699789\ttest: 0.5492927\tbest: 0.5537510 (75)\ttotal: 19.8s\tremaining: 7.38s\n",
      "437:\tlearn: 0.5701419\ttest: 0.5493534\tbest: 0.5537510 (75)\ttotal: 19.8s\tremaining: 7.34s\n",
      "438:\tlearn: 0.5701909\ttest: 0.5493534\tbest: 0.5537510 (75)\ttotal: 19.9s\tremaining: 7.29s\n",
      "439:\tlearn: 0.5701259\ttest: 0.5493534\tbest: 0.5537510 (75)\ttotal: 19.9s\tremaining: 7.25s\n",
      "440:\tlearn: 0.5701259\ttest: 0.5492927\tbest: 0.5537510 (75)\ttotal: 20s\tremaining: 7.2s\n",
      "441:\tlearn: 0.5701259\ttest: 0.5492927\tbest: 0.5537510 (75)\ttotal: 20s\tremaining: 7.16s\n",
      "442:\tlearn: 0.5705333\ttest: 0.5491323\tbest: 0.5537510 (75)\ttotal: 20.1s\tremaining: 7.11s\n",
      "443:\tlearn: 0.5704354\ttest: 0.5496520\tbest: 0.5537510 (75)\ttotal: 20.1s\tremaining: 7.06s\n",
      "444:\tlearn: 0.5702724\ttest: 0.5496520\tbest: 0.5537510 (75)\ttotal: 20.1s\tremaining: 7.02s\n",
      "445:\tlearn: 0.5701909\ttest: 0.5496520\tbest: 0.5537510 (75)\ttotal: 20.2s\tremaining: 6.97s\n",
      "446:\tlearn: 0.5700929\ttest: 0.5500331\tbest: 0.5537510 (75)\ttotal: 20.3s\tremaining: 6.93s\n",
      "447:\tlearn: 0.5700599\ttest: 0.5497128\tbest: 0.5537510 (75)\ttotal: 20.3s\tremaining: 6.89s\n",
      "448:\tlearn: 0.5703864\ttest: 0.5493923\tbest: 0.5537510 (75)\ttotal: 20.4s\tremaining: 6.85s\n",
      "449:\tlearn: 0.5702720\ttest: 0.5493923\tbest: 0.5537510 (75)\ttotal: 20.4s\tremaining: 6.8s\n",
      "450:\tlearn: 0.5702559\ttest: 0.5493923\tbest: 0.5537510 (75)\ttotal: 20.5s\tremaining: 6.76s\n",
      "451:\tlearn: 0.5704840\ttest: 0.5488938\tbest: 0.5537510 (75)\ttotal: 20.5s\tremaining: 6.72s\n",
      "452:\tlearn: 0.5703210\ttest: 0.5488938\tbest: 0.5537510 (75)\ttotal: 20.6s\tremaining: 6.67s\n",
      "453:\tlearn: 0.5704350\ttest: 0.5488938\tbest: 0.5537510 (75)\ttotal: 20.6s\tremaining: 6.63s\n",
      "454:\tlearn: 0.5706144\ttest: 0.5481301\tbest: 0.5537510 (75)\ttotal: 20.6s\tremaining: 6.58s\n",
      "455:\tlearn: 0.5706144\ttest: 0.5482907\tbest: 0.5537510 (75)\ttotal: 20.7s\tremaining: 6.54s\n",
      "456:\tlearn: 0.5704840\ttest: 0.5457382\tbest: 0.5537510 (75)\ttotal: 20.7s\tremaining: 6.49s\n",
      "457:\tlearn: 0.5709725\ttest: 0.5457382\tbest: 0.5537510 (75)\ttotal: 20.8s\tremaining: 6.45s\n",
      "458:\tlearn: 0.5712169\ttest: 0.5459002\tbest: 0.5537510 (75)\ttotal: 20.8s\tremaining: 6.4s\n",
      "459:\tlearn: 0.5711680\ttest: 0.5459002\tbest: 0.5537510 (75)\ttotal: 20.9s\tremaining: 6.35s\n",
      "460:\tlearn: 0.5714123\ttest: 0.5460622\tbest: 0.5537510 (75)\ttotal: 20.9s\tremaining: 6.31s\n",
      "461:\tlearn: 0.5714123\ttest: 0.5460622\tbest: 0.5537510 (75)\ttotal: 21s\tremaining: 6.26s\n",
      "462:\tlearn: 0.5714449\ttest: 0.5460622\tbest: 0.5537510 (75)\ttotal: 21s\tremaining: 6.22s\n",
      "463:\tlearn: 0.5719168\ttest: 0.5460622\tbest: 0.5537510 (75)\ttotal: 21.1s\tremaining: 6.17s\n",
      "464:\tlearn: 0.5722751\ttest: 0.5464067\tbest: 0.5537510 (75)\ttotal: 21.1s\tremaining: 6.13s\n",
      "465:\tlearn: 0.5725021\ttest: 0.5465686\tbest: 0.5537510 (75)\ttotal: 21.2s\tremaining: 6.08s\n",
      "466:\tlearn: 0.5726647\ttest: 0.5464067\tbest: 0.5537510 (75)\ttotal: 21.2s\tremaining: 6.04s\n",
      "467:\tlearn: 0.5725834\ttest: 0.5464067\tbest: 0.5537510 (75)\ttotal: 21.2s\tremaining: 5.99s\n",
      "468:\tlearn: 0.5724695\ttest: 0.5462850\tbest: 0.5537510 (75)\ttotal: 21.3s\tremaining: 5.95s\n",
      "469:\tlearn: 0.5724370\ttest: 0.5462850\tbest: 0.5537510 (75)\ttotal: 21.4s\tremaining: 5.91s\n",
      "470:\tlearn: 0.5721444\ttest: 0.5465077\tbest: 0.5537510 (75)\ttotal: 21.4s\tremaining: 5.86s\n",
      "471:\tlearn: 0.5721605\ttest: 0.5465077\tbest: 0.5537510 (75)\ttotal: 21.4s\tremaining: 5.82s\n",
      "472:\tlearn: 0.5723557\ttest: 0.5464469\tbest: 0.5537510 (75)\ttotal: 21.5s\tremaining: 5.77s\n",
      "473:\tlearn: 0.5723561\ttest: 0.5459815\tbest: 0.5537510 (75)\ttotal: 21.5s\tremaining: 5.73s\n",
      "474:\tlearn: 0.5722583\ttest: 0.5457586\tbest: 0.5537510 (75)\ttotal: 21.6s\tremaining: 5.68s\n",
      "475:\tlearn: 0.5722096\ttest: 0.5453531\tbest: 0.5537510 (75)\ttotal: 21.6s\tremaining: 5.64s\n",
      "476:\tlearn: 0.5723887\ttest: 0.5452719\tbest: 0.5537510 (75)\ttotal: 21.7s\tremaining: 5.59s\n",
      "477:\tlearn: 0.5726651\ttest: 0.5455154\tbest: 0.5537510 (75)\ttotal: 21.7s\tremaining: 5.54s\n",
      "478:\tlearn: 0.5725026\ttest: 0.5455154\tbest: 0.5537510 (75)\ttotal: 21.8s\tremaining: 5.5s\n",
      "479:\tlearn: 0.5728443\ttest: 0.5455154\tbest: 0.5537510 (75)\ttotal: 21.8s\tremaining: 5.45s\n",
      "480:\tlearn: 0.5729422\ttest: 0.5455154\tbest: 0.5537510 (75)\ttotal: 21.9s\tremaining: 5.41s\n",
      "481:\tlearn: 0.5732832\ttest: 0.5456168\tbest: 0.5537510 (75)\ttotal: 21.9s\tremaining: 5.37s\n",
      "482:\tlearn: 0.5733159\ttest: 0.5456168\tbest: 0.5537510 (75)\ttotal: 22s\tremaining: 5.32s\n",
      "483:\tlearn: 0.5732020\ttest: 0.5456168\tbest: 0.5537510 (75)\ttotal: 22s\tremaining: 5.27s\n",
      "484:\tlearn: 0.5733318\ttest: 0.5456168\tbest: 0.5537510 (75)\ttotal: 22.1s\tremaining: 5.23s\n",
      "485:\tlearn: 0.5732339\ttest: 0.5455559\tbest: 0.5537510 (75)\ttotal: 22.1s\tremaining: 5.18s\n",
      "486:\tlearn: 0.5733645\ttest: 0.5456776\tbest: 0.5537510 (75)\ttotal: 22.2s\tremaining: 5.14s\n",
      "487:\tlearn: 0.5738200\ttest: 0.5454545\tbest: 0.5537510 (75)\ttotal: 22.2s\tremaining: 5.09s\n",
      "488:\tlearn: 0.5739834\ttest: 0.5458603\tbest: 0.5537510 (75)\ttotal: 22.2s\tremaining: 5.05s\n",
      "489:\tlearn: 0.5739834\ttest: 0.5458603\tbest: 0.5537510 (75)\ttotal: 22.3s\tremaining: 5s\n",
      "490:\tlearn: 0.5738695\ttest: 0.5456980\tbest: 0.5537510 (75)\ttotal: 22.3s\tremaining: 4.96s\n",
      "491:\tlearn: 0.5738368\ttest: 0.5456980\tbest: 0.5537510 (75)\ttotal: 22.4s\tremaining: 4.92s\n",
      "492:\tlearn: 0.5735772\ttest: 0.5463262\tbest: 0.5537510 (75)\ttotal: 22.4s\tremaining: 4.87s\n",
      "493:\tlearn: 0.5736257\ttest: 0.5463262\tbest: 0.5537510 (75)\ttotal: 22.5s\tremaining: 4.83s\n",
      "494:\tlearn: 0.5735772\ttest: 0.5463872\tbest: 0.5537510 (75)\ttotal: 22.5s\tremaining: 4.78s\n",
      "495:\tlearn: 0.5736098\ttest: 0.5464883\tbest: 0.5537510 (75)\ttotal: 22.6s\tremaining: 4.74s\n",
      "496:\tlearn: 0.5742608\ttest: 0.5462860\tbest: 0.5537510 (75)\ttotal: 22.6s\tremaining: 4.69s\n",
      "497:\tlearn: 0.5743420\ttest: 0.5461847\tbest: 0.5537510 (75)\ttotal: 22.7s\tremaining: 4.65s\n",
      "498:\tlearn: 0.5743420\ttest: 0.5460225\tbest: 0.5537510 (75)\ttotal: 22.7s\tremaining: 4.6s\n",
      "499:\tlearn: 0.5746354\ttest: 0.5460225\tbest: 0.5537510 (75)\ttotal: 22.8s\tremaining: 4.56s\n",
      "500:\tlearn: 0.5749601\ttest: 0.5460835\tbest: 0.5537510 (75)\ttotal: 22.9s\tremaining: 4.51s\n",
      "501:\tlearn: 0.5748946\ttest: 0.5461444\tbest: 0.5537510 (75)\ttotal: 22.9s\tremaining: 4.47s\n",
      "502:\tlearn: 0.5748776\ttest: 0.5458603\tbest: 0.5537510 (75)\ttotal: 23s\tremaining: 4.43s\n",
      "503:\tlearn: 0.5749758\ttest: 0.5455155\tbest: 0.5537510 (75)\ttotal: 23s\tremaining: 4.38s\n",
      "504:\tlearn: 0.5749431\ttest: 0.5455155\tbest: 0.5537510 (75)\ttotal: 23.1s\tremaining: 4.34s\n",
      "505:\tlearn: 0.5753331\ttest: 0.5453530\tbest: 0.5537510 (75)\ttotal: 23.1s\tremaining: 4.29s\n",
      "506:\tlearn: 0.5753830\ttest: 0.5490196\tbest: 0.5537510 (75)\ttotal: 23.2s\tremaining: 4.25s\n",
      "507:\tlearn: 0.5753830\ttest: 0.5490587\tbest: 0.5537510 (75)\ttotal: 23.2s\tremaining: 4.2s\n",
      "508:\tlearn: 0.5754642\ttest: 0.5488372\tbest: 0.5537510 (75)\ttotal: 23.3s\tremaining: 4.16s\n",
      "509:\tlearn: 0.5756264\ttest: 0.5487373\tbest: 0.5537510 (75)\ttotal: 23.3s\tremaining: 4.12s\n",
      "510:\tlearn: 0.5756264\ttest: 0.5487764\tbest: 0.5537510 (75)\ttotal: 23.4s\tremaining: 4.07s\n",
      "511:\tlearn: 0.5756748\ttest: 0.5487157\tbest: 0.5537510 (75)\ttotal: 23.4s\tremaining: 4.03s\n",
      "512:\tlearn: 0.5758369\ttest: 0.5487157\tbest: 0.5537510 (75)\ttotal: 23.5s\tremaining: 3.98s\n",
      "513:\tlearn: 0.5759180\ttest: 0.5487157\tbest: 0.5537510 (75)\ttotal: 23.5s\tremaining: 3.94s\n",
      "514:\tlearn: 0.5755797\ttest: 0.5487157\tbest: 0.5537510 (75)\ttotal: 23.6s\tremaining: 3.89s\n",
      "515:\tlearn: 0.5755797\ttest: 0.5487157\tbest: 0.5537510 (75)\ttotal: 23.6s\tremaining: 3.85s\n",
      "516:\tlearn: 0.5754330\ttest: 0.5486373\tbest: 0.5537510 (75)\ttotal: 23.7s\tremaining: 3.8s\n",
      "517:\tlearn: 0.5757282\ttest: 0.5472515\tbest: 0.5537510 (75)\ttotal: 23.8s\tremaining: 3.76s\n",
      "518:\tlearn: 0.5759544\ttest: 0.5476534\tbest: 0.5537510 (75)\ttotal: 23.8s\tremaining: 3.71s\n",
      "519:\tlearn: 0.5761650\ttest: 0.5479148\tbest: 0.5537510 (75)\ttotal: 23.9s\tremaining: 3.67s\n",
      "520:\tlearn: 0.5761650\ttest: 0.5479148\tbest: 0.5537510 (75)\ttotal: 23.9s\tremaining: 3.63s\n",
      "521:\tlearn: 0.5762635\ttest: 0.5447636\tbest: 0.5537510 (75)\ttotal: 24s\tremaining: 3.58s\n",
      "522:\tlearn: 0.5761669\ttest: 0.5443562\tbest: 0.5537510 (75)\ttotal: 24s\tremaining: 3.54s\n",
      "523:\tlearn: 0.5762480\ttest: 0.5443562\tbest: 0.5537510 (75)\ttotal: 24.1s\tremaining: 3.49s\n",
      "524:\tlearn: 0.5760684\ttest: 0.5445190\tbest: 0.5537510 (75)\ttotal: 24.1s\tremaining: 3.45s\n",
      "525:\tlearn: 0.5760857\ttest: 0.5445190\tbest: 0.5537510 (75)\ttotal: 24.2s\tremaining: 3.4s\n",
      "526:\tlearn: 0.5762480\ttest: 0.5445799\tbest: 0.5537510 (75)\ttotal: 24.2s\tremaining: 3.36s\n",
      "527:\tlearn: 0.5762152\ttest: 0.5445799\tbest: 0.5537510 (75)\ttotal: 24.3s\tremaining: 3.31s\n",
      "528:\tlearn: 0.5762963\ttest: 0.5445799\tbest: 0.5537510 (75)\ttotal: 24.3s\tremaining: 3.27s\n",
      "529:\tlearn: 0.5762345\ttest: 0.5445799\tbest: 0.5537510 (75)\ttotal: 24.4s\tremaining: 3.22s\n",
      "530:\tlearn: 0.5762345\ttest: 0.5445799\tbest: 0.5537510 (75)\ttotal: 24.4s\tremaining: 3.18s\n",
      "531:\tlearn: 0.5761861\ttest: 0.5445799\tbest: 0.5537510 (75)\ttotal: 24.5s\tremaining: 3.13s\n",
      "532:\tlearn: 0.5760702\ttest: 0.5445799\tbest: 0.5537510 (75)\ttotal: 24.5s\tremaining: 3.08s\n",
      "533:\tlearn: 0.5761514\ttest: 0.5445799\tbest: 0.5537510 (75)\ttotal: 24.6s\tremaining: 3.04s\n",
      "534:\tlearn: 0.5761514\ttest: 0.5445799\tbest: 0.5537510 (75)\ttotal: 24.6s\tremaining: 2.99s\n",
      "535:\tlearn: 0.5763137\ttest: 0.5441720\tbest: 0.5537510 (75)\ttotal: 24.7s\tremaining: 2.95s\n",
      "536:\tlearn: 0.5764277\ttest: 0.5441720\tbest: 0.5537510 (75)\ttotal: 24.7s\tremaining: 2.9s\n",
      "537:\tlearn: 0.5763465\ttest: 0.5441720\tbest: 0.5537510 (75)\ttotal: 24.8s\tremaining: 2.85s\n",
      "538:\tlearn: 0.5762499\ttest: 0.5442740\tbest: 0.5537510 (75)\ttotal: 24.8s\tremaining: 2.81s\n",
      "539:\tlearn: 0.5762171\ttest: 0.5437437\tbest: 0.5537510 (75)\ttotal: 24.9s\tremaining: 2.77s\n",
      "540:\tlearn: 0.5762808\ttest: 0.5436828\tbest: 0.5537510 (75)\ttotal: 24.9s\tremaining: 2.72s\n",
      "541:\tlearn: 0.5766710\ttest: 0.5438655\tbest: 0.5537510 (75)\ttotal: 25s\tremaining: 2.68s\n",
      "542:\tlearn: 0.5769143\ttest: 0.5438046\tbest: 0.5537510 (75)\ttotal: 25.1s\tremaining: 2.63s\n",
      "543:\tlearn: 0.5767850\ttest: 0.5438046\tbest: 0.5537510 (75)\ttotal: 25.1s\tremaining: 2.58s\n",
      "544:\tlearn: 0.5767850\ttest: 0.5436415\tbest: 0.5537510 (75)\ttotal: 25.2s\tremaining: 2.54s\n",
      "545:\tlearn: 0.5769954\ttest: 0.5436415\tbest: 0.5537510 (75)\ttotal: 25.2s\tremaining: 2.49s\n",
      "546:\tlearn: 0.5768507\ttest: 0.5435392\tbest: 0.5537510 (75)\ttotal: 25.3s\tremaining: 2.45s\n",
      "547:\tlearn: 0.5771774\ttest: 0.5436001\tbest: 0.5537510 (75)\ttotal: 25.3s\tremaining: 2.4s\n",
      "548:\tlearn: 0.5770787\ttest: 0.5435392\tbest: 0.5537510 (75)\ttotal: 25.4s\tremaining: 2.36s\n",
      "549:\tlearn: 0.5773219\ttest: 0.5436001\tbest: 0.5537510 (75)\ttotal: 25.4s\tremaining: 2.31s\n",
      "550:\tlearn: 0.5772738\ttest: 0.5436610\tbest: 0.5537510 (75)\ttotal: 25.5s\tremaining: 2.27s\n",
      "551:\tlearn: 0.5771598\ttest: 0.5436610\tbest: 0.5537510 (75)\ttotal: 25.5s\tremaining: 2.22s\n",
      "552:\tlearn: 0.5771751\ttest: 0.5437024\tbest: 0.5537510 (75)\ttotal: 25.6s\tremaining: 2.17s\n",
      "553:\tlearn: 0.5773372\ttest: 0.5435806\tbest: 0.5537510 (75)\ttotal: 25.6s\tremaining: 2.13s\n",
      "554:\tlearn: 0.5777423\ttest: 0.5439480\tbest: 0.5537510 (75)\ttotal: 25.7s\tremaining: 2.08s\n",
      "555:\tlearn: 0.5774511\ttest: 0.5435197\tbest: 0.5537510 (75)\ttotal: 25.7s\tremaining: 2.04s\n",
      "556:\tlearn: 0.5773043\ttest: 0.5435197\tbest: 0.5537510 (75)\ttotal: 25.8s\tremaining: 1.99s\n",
      "557:\tlearn: 0.5774993\ttest: 0.5435197\tbest: 0.5537510 (75)\ttotal: 25.8s\tremaining: 1.94s\n",
      "558:\tlearn: 0.5774993\ttest: 0.5435197\tbest: 0.5537510 (75)\ttotal: 25.9s\tremaining: 1.9s\n",
      "559:\tlearn: 0.5776284\ttest: 0.5435197\tbest: 0.5537510 (75)\ttotal: 25.9s\tremaining: 1.85s\n",
      "560:\tlearn: 0.5777575\ttest: 0.5435806\tbest: 0.5537510 (75)\ttotal: 26s\tremaining: 1.81s\n",
      "561:\tlearn: 0.5777904\ttest: 0.5435806\tbest: 0.5537510 (75)\ttotal: 26s\tremaining: 1.76s\n",
      "562:\tlearn: 0.5775346\ttest: 0.5432956\tbest: 0.5537510 (75)\ttotal: 26.1s\tremaining: 1.72s\n",
      "563:\tlearn: 0.5775017\ttest: 0.5432348\tbest: 0.5537510 (75)\ttotal: 26.2s\tremaining: 1.67s\n",
      "564:\tlearn: 0.5774536\ttest: 0.5432348\tbest: 0.5537510 (75)\ttotal: 26.2s\tremaining: 1.63s\n",
      "565:\tlearn: 0.5775170\ttest: 0.5435197\tbest: 0.5537510 (75)\ttotal: 26.3s\tremaining: 1.58s\n",
      "566:\tlearn: 0.5776309\ttest: 0.5434588\tbest: 0.5537510 (75)\ttotal: 26.3s\tremaining: 1.53s\n",
      "567:\tlearn: 0.5777752\ttest: 0.5434588\tbest: 0.5537510 (75)\ttotal: 26.4s\tremaining: 1.49s\n",
      "568:\tlearn: 0.5778892\ttest: 0.5434588\tbest: 0.5537510 (75)\ttotal: 26.4s\tremaining: 1.44s\n",
      "569:\tlearn: 0.5779424\ttest: 0.5434393\tbest: 0.5537510 (75)\ttotal: 26.5s\tremaining: 1.39s\n",
      "570:\tlearn: 0.5778562\ttest: 0.5432348\tbest: 0.5537510 (75)\ttotal: 26.5s\tremaining: 1.35s\n",
      "571:\tlearn: 0.5778562\ttest: 0.5432348\tbest: 0.5537510 (75)\ttotal: 26.6s\tremaining: 1.3s\n",
      "572:\tlearn: 0.5779372\ttest: 0.5430716\tbest: 0.5537510 (75)\ttotal: 26.6s\tremaining: 1.25s\n",
      "573:\tlearn: 0.5779398\ttest: 0.5430716\tbest: 0.5537510 (75)\ttotal: 26.7s\tremaining: 1.21s\n",
      "574:\tlearn: 0.5779728\ttest: 0.5428059\tbest: 0.5537510 (75)\ttotal: 26.7s\tremaining: 1.16s\n",
      "575:\tlearn: 0.5776486\ttest: 0.5427451\tbest: 0.5537510 (75)\ttotal: 26.8s\tremaining: 1.12s\n",
      "576:\tlearn: 0.5776486\ttest: 0.5427451\tbest: 0.5537510 (75)\ttotal: 26.8s\tremaining: 1.07s\n",
      "577:\tlearn: 0.5777474\ttest: 0.5428059\tbest: 0.5537510 (75)\ttotal: 26.9s\tremaining: 1.02s\n",
      "578:\tlearn: 0.5777017\ttest: 0.5428059\tbest: 0.5537510 (75)\ttotal: 26.9s\tremaining: 977ms\n",
      "579:\tlearn: 0.5781704\ttest: 0.5428059\tbest: 0.5537510 (75)\ttotal: 27s\tremaining: 931ms\n",
      "580:\tlearn: 0.5785303\ttest: 0.5427451\tbest: 0.5537510 (75)\ttotal: 27s\tremaining: 884ms\n",
      "581:\tlearn: 0.5782569\ttest: 0.5429084\tbest: 0.5537510 (75)\ttotal: 27.1s\tremaining: 837ms\n",
      "582:\tlearn: 0.5782569\ttest: 0.5429084\tbest: 0.5537510 (75)\ttotal: 27.1s\tremaining: 791ms\n",
      "583:\tlearn: 0.5787884\ttest: 0.5428475\tbest: 0.5537510 (75)\ttotal: 27.2s\tremaining: 744ms\n",
      "584:\tlearn: 0.5787884\ttest: 0.5428475\tbest: 0.5537510 (75)\ttotal: 27.2s\tremaining: 698ms\n",
      "585:\tlearn: 0.5787074\ttest: 0.5428475\tbest: 0.5537510 (75)\ttotal: 27.3s\tremaining: 652ms\n",
      "586:\tlearn: 0.5787195\ttest: 0.5428475\tbest: 0.5537510 (75)\ttotal: 27.3s\tremaining: 605ms\n",
      "587:\tlearn: 0.5787525\ttest: 0.5428475\tbest: 0.5537510 (75)\ttotal: 27.4s\tremaining: 559ms\n",
      "588:\tlearn: 0.5787195\ttest: 0.5428475\tbest: 0.5537510 (75)\ttotal: 27.4s\tremaining: 512ms\n",
      "589:\tlearn: 0.5788005\ttest: 0.5428475\tbest: 0.5537510 (75)\ttotal: 27.5s\tremaining: 466ms\n",
      "590:\tlearn: 0.5787855\ttest: 0.5428475\tbest: 0.5537510 (75)\ttotal: 27.5s\tremaining: 419ms\n",
      "591:\tlearn: 0.5792891\ttest: 0.5427867\tbest: 0.5537510 (75)\ttotal: 27.6s\tremaining: 373ms\n",
      "592:\tlearn: 0.5794510\ttest: 0.5428475\tbest: 0.5537510 (75)\ttotal: 27.6s\tremaining: 326ms\n",
      "593:\tlearn: 0.5793850\ttest: 0.5427867\tbest: 0.5537510 (75)\ttotal: 27.7s\tremaining: 280ms\n",
      "594:\tlearn: 0.5793850\ttest: 0.5427867\tbest: 0.5537510 (75)\ttotal: 27.7s\tremaining: 233ms\n",
      "595:\tlearn: 0.5792711\ttest: 0.5429499\tbest: 0.5537510 (75)\ttotal: 27.8s\tremaining: 186ms\n",
      "596:\tlearn: 0.5794989\ttest: 0.5429499\tbest: 0.5537510 (75)\ttotal: 27.8s\tremaining: 140ms\n",
      "597:\tlearn: 0.5794956\ttest: 0.5431518\tbest: 0.5537510 (75)\ttotal: 27.9s\tremaining: 93.2ms\n",
      "598:\tlearn: 0.5794478\ttest: 0.5431518\tbest: 0.5537510 (75)\ttotal: 27.9s\tremaining: 46.6ms\n",
      "599:\tlearn: 0.5799032\ttest: 0.5432541\tbest: 0.5537510 (75)\ttotal: 28s\tremaining: 0us\n",
      "\n",
      "bestTest = 0.5537509667\n",
      "bestIteration = 75\n",
      "\n",
      "Training on fold [1/3]\n",
      "0:\tlearn: 0.3726544\ttest: 0.3691226\tbest: 0.3691226 (0)\ttotal: 37.1ms\tremaining: 22.2s\n",
      "1:\tlearn: 0.3784021\ttest: 0.3691226\tbest: 0.3691226 (0)\ttotal: 65.6ms\tremaining: 19.6s\n",
      "2:\tlearn: 0.3784298\ttest: 0.3691226\tbest: 0.3691226 (0)\ttotal: 100ms\tremaining: 20s\n",
      "3:\tlearn: 0.4170981\ttest: 0.4092880\tbest: 0.4092880 (3)\ttotal: 133ms\tremaining: 19.8s\n",
      "4:\tlearn: 0.4603924\ttest: 0.4502854\tbest: 0.4502854 (4)\ttotal: 166ms\tremaining: 19.7s\n",
      "5:\tlearn: 0.4673870\ttest: 0.4505029\tbest: 0.4505029 (5)\ttotal: 199ms\tremaining: 19.7s\n",
      "6:\tlearn: 0.4673598\ttest: 0.4506744\tbest: 0.4506744 (6)\ttotal: 234ms\tremaining: 19.8s\n",
      "7:\tlearn: 0.4674350\ttest: 0.4504767\tbest: 0.4506744 (6)\ttotal: 269ms\tremaining: 19.9s\n",
      "8:\tlearn: 0.4699856\ttest: 0.4519968\tbest: 0.4519968 (8)\ttotal: 302ms\tremaining: 19.8s\n",
      "9:\tlearn: 0.4701169\ttest: 0.4506818\tbest: 0.4519968 (8)\ttotal: 335ms\tremaining: 19.8s\n",
      "10:\tlearn: 0.4701169\ttest: 0.4506818\tbest: 0.4519968 (8)\ttotal: 361ms\tremaining: 19.3s\n",
      "11:\tlearn: 0.4705110\ttest: 0.4524061\tbest: 0.4524061 (11)\ttotal: 399ms\tremaining: 19.6s\n",
      "12:\tlearn: 0.4705496\ttest: 0.4522015\tbest: 0.4524061 (11)\ttotal: 431ms\tremaining: 19.4s\n",
      "13:\tlearn: 0.4704801\ttest: 0.4524061\tbest: 0.4524061 (11)\ttotal: 467ms\tremaining: 19.5s\n",
      "14:\tlearn: 0.4704105\ttest: 0.4522015\tbest: 0.4524061 (11)\ttotal: 493ms\tremaining: 19.2s\n",
      "15:\tlearn: 0.4703178\ttest: 0.4522015\tbest: 0.4524061 (11)\ttotal: 525ms\tremaining: 19.2s\n",
      "16:\tlearn: 0.4716610\ttest: 0.4540655\tbest: 0.4540655 (16)\ttotal: 558ms\tremaining: 19.1s\n",
      "17:\tlearn: 0.4717612\ttest: 0.4540655\tbest: 0.4540655 (16)\ttotal: 600ms\tremaining: 19.4s\n",
      "18:\tlearn: 0.4721694\ttest: 0.4540655\tbest: 0.4540655 (16)\ttotal: 631ms\tremaining: 19.3s\n",
      "19:\tlearn: 0.4721694\ttest: 0.4540655\tbest: 0.4540655 (16)\ttotal: 663ms\tremaining: 19.2s\n",
      "20:\tlearn: 0.4728464\ttest: 0.4542695\tbest: 0.4542695 (20)\ttotal: 698ms\tremaining: 19.2s\n",
      "21:\tlearn: 0.4731535\ttest: 0.4548213\tbest: 0.4548213 (21)\ttotal: 731ms\tremaining: 19.2s\n",
      "22:\tlearn: 0.4810685\ttest: 0.4604148\tbest: 0.4604148 (22)\ttotal: 764ms\tremaining: 19.2s\n",
      "23:\tlearn: 0.4811816\ttest: 0.4604148\tbest: 0.4604148 (22)\ttotal: 806ms\tremaining: 19.3s\n",
      "24:\tlearn: 0.4812800\ttest: 0.4603547\tbest: 0.4604148 (22)\ttotal: 841ms\tremaining: 19.3s\n",
      "25:\tlearn: 0.4811095\ttest: 0.4603547\tbest: 0.4604148 (22)\ttotal: 878ms\tremaining: 19.4s\n",
      "26:\tlearn: 0.4810110\ttest: 0.4611372\tbest: 0.4611372 (26)\ttotal: 913ms\tremaining: 19.4s\n",
      "27:\tlearn: 0.4812391\ttest: 0.4609365\tbest: 0.4611372 (26)\ttotal: 945ms\tremaining: 19.3s\n",
      "28:\tlearn: 0.4818965\ttest: 0.4618390\tbest: 0.4618390 (28)\ttotal: 976ms\tremaining: 19.2s\n",
      "29:\tlearn: 0.4825311\ttest: 0.4625992\tbest: 0.4625992 (29)\ttotal: 1.02s\tremaining: 19.5s\n",
      "30:\tlearn: 0.4840625\ttest: 0.4636175\tbest: 0.4636175 (30)\ttotal: 1.07s\tremaining: 19.7s\n",
      "31:\tlearn: 0.4840460\ttest: 0.4630183\tbest: 0.4636175 (30)\ttotal: 1.12s\tremaining: 19.9s\n",
      "32:\tlearn: 0.4843084\ttest: 0.4634178\tbest: 0.4636175 (30)\ttotal: 1.17s\tremaining: 20.1s\n",
      "33:\tlearn: 0.4847038\ttest: 0.4634970\tbest: 0.4636175 (30)\ttotal: 1.21s\tremaining: 20.2s\n",
      "34:\tlearn: 0.4845747\ttest: 0.4634970\tbest: 0.4636175 (30)\ttotal: 1.27s\tremaining: 20.4s\n",
      "35:\tlearn: 0.4865178\ttest: 0.4638171\tbest: 0.4638171 (35)\ttotal: 1.31s\tremaining: 20.5s\n",
      "36:\tlearn: 0.4866152\ttest: 0.4634780\tbest: 0.4638171 (35)\ttotal: 1.35s\tremaining: 20.6s\n",
      "37:\tlearn: 0.4906408\ttest: 0.4714212\tbest: 0.4714212 (37)\ttotal: 1.41s\tremaining: 20.8s\n",
      "38:\tlearn: 0.4972222\ttest: 0.4792674\tbest: 0.4792674 (38)\ttotal: 1.46s\tremaining: 21s\n",
      "39:\tlearn: 0.4979164\ttest: 0.4791242\tbest: 0.4792674 (38)\ttotal: 1.5s\tremaining: 20.9s\n",
      "40:\tlearn: 0.4974401\ttest: 0.4791242\tbest: 0.4792674 (38)\ttotal: 1.54s\tremaining: 21s\n",
      "41:\tlearn: 0.4974080\ttest: 0.4793178\tbest: 0.4793178 (41)\ttotal: 1.59s\tremaining: 21.1s\n",
      "42:\tlearn: 0.4974080\ttest: 0.4793178\tbest: 0.4793178 (41)\ttotal: 1.61s\tremaining: 20.9s\n",
      "43:\tlearn: 0.4974080\ttest: 0.4793178\tbest: 0.4793178 (41)\ttotal: 1.64s\tremaining: 20.7s\n",
      "44:\tlearn: 0.4982952\ttest: 0.4792462\tbest: 0.4793178 (41)\ttotal: 1.67s\tremaining: 20.6s\n",
      "45:\tlearn: 0.4983267\ttest: 0.4792462\tbest: 0.4793178 (41)\ttotal: 1.7s\tremaining: 20.5s\n",
      "46:\tlearn: 0.4985796\ttest: 0.4799593\tbest: 0.4799593 (46)\ttotal: 1.75s\tremaining: 20.5s\n",
      "47:\tlearn: 0.4987692\ttest: 0.4798372\tbest: 0.4799593 (46)\ttotal: 1.79s\tremaining: 20.7s\n",
      "48:\tlearn: 0.4986111\ttest: 0.4800305\tbest: 0.4800305 (48)\ttotal: 1.84s\tremaining: 20.7s\n",
      "49:\tlearn: 0.4988004\ttest: 0.4800916\tbest: 0.4800916 (49)\ttotal: 1.89s\tremaining: 20.8s\n",
      "50:\tlearn: 0.5018844\ttest: 0.4814115\tbest: 0.4814115 (50)\ttotal: 1.94s\tremaining: 20.9s\n",
      "51:\tlearn: 0.5107066\ttest: 0.4812902\tbest: 0.4814115 (50)\ttotal: 1.99s\tremaining: 21s\n",
      "52:\tlearn: 0.5112495\ttest: 0.4814815\tbest: 0.4814815 (52)\ttotal: 2.04s\tremaining: 21s\n",
      "53:\tlearn: 0.5227163\ttest: 0.4810286\tbest: 0.4814815 (52)\ttotal: 2.09s\tremaining: 21.1s\n",
      "54:\tlearn: 0.5231231\ttest: 0.4814115\tbest: 0.4814815 (52)\ttotal: 2.14s\tremaining: 21.2s\n",
      "55:\tlearn: 0.5229457\ttest: 0.4810286\tbest: 0.4814815 (52)\ttotal: 2.2s\tremaining: 21.4s\n",
      "56:\tlearn: 0.5228570\ttest: 0.4813927\tbest: 0.4814815 (52)\ttotal: 2.25s\tremaining: 21.5s\n",
      "57:\tlearn: 0.5232007\ttest: 0.4808977\tbest: 0.4814815 (52)\ttotal: 2.3s\tremaining: 21.5s\n",
      "58:\tlearn: 0.5234980\ttest: 0.4810893\tbest: 0.4814815 (52)\ttotal: 2.36s\tremaining: 21.6s\n",
      "59:\tlearn: 0.5236752\ttest: 0.4814721\tbest: 0.4814815 (52)\ttotal: 2.41s\tremaining: 21.7s\n",
      "60:\tlearn: 0.5238267\ttest: 0.4820371\tbest: 0.4820371 (60)\ttotal: 2.46s\tremaining: 21.7s\n",
      "61:\tlearn: 0.5229788\ttest: 0.4820371\tbest: 0.4820371 (60)\ttotal: 2.5s\tremaining: 21.7s\n",
      "62:\tlearn: 0.5228326\ttest: 0.4818457\tbest: 0.4820371 (60)\ttotal: 2.54s\tremaining: 21.7s\n",
      "63:\tlearn: 0.5238638\ttest: 0.4822802\tbest: 0.4822802 (63)\ttotal: 2.59s\tremaining: 21.7s\n",
      "64:\tlearn: 0.5238638\ttest: 0.4822802\tbest: 0.4822802 (63)\ttotal: 2.64s\tremaining: 21.7s\n",
      "65:\tlearn: 0.5240725\ttest: 0.4820280\tbest: 0.4822802 (63)\ttotal: 2.68s\tremaining: 21.7s\n",
      "66:\tlearn: 0.5408608\ttest: 0.5260223\tbest: 0.5260223 (66)\ttotal: 2.73s\tremaining: 21.7s\n",
      "67:\tlearn: 0.5409988\ttest: 0.5260223\tbest: 0.5260223 (66)\ttotal: 2.77s\tremaining: 21.7s\n",
      "68:\tlearn: 0.5412216\ttest: 0.5259612\tbest: 0.5260223 (66)\ttotal: 2.83s\tremaining: 21.7s\n",
      "69:\tlearn: 0.5413909\ttest: 0.5259612\tbest: 0.5260223 (66)\ttotal: 2.86s\tremaining: 21.7s\n",
      "70:\tlearn: 0.5414249\ttest: 0.5263036\tbest: 0.5263036 (70)\ttotal: 2.9s\tremaining: 21.6s\n",
      "71:\tlearn: 0.5412967\ttest: 0.5263524\tbest: 0.5263524 (71)\ttotal: 2.95s\tremaining: 21.6s\n",
      "72:\tlearn: 0.5412967\ttest: 0.5263524\tbest: 0.5263524 (71)\ttotal: 2.97s\tremaining: 21.5s\n",
      "73:\tlearn: 0.5247121\ttest: 0.4828629\tbest: 0.5263524 (71)\ttotal: 3.02s\tremaining: 21.5s\n",
      "74:\tlearn: 0.5248006\ttest: 0.4828629\tbest: 0.5263524 (71)\ttotal: 3.07s\tremaining: 21.5s\n",
      "75:\tlearn: 0.5415288\ttest: 0.5268168\tbest: 0.5268168 (75)\ttotal: 3.12s\tremaining: 21.5s\n",
      "76:\tlearn: 0.5415506\ttest: 0.5268168\tbest: 0.5268168 (75)\ttotal: 3.16s\tremaining: 21.5s\n",
      "77:\tlearn: 0.5419737\ttest: 0.5268168\tbest: 0.5268168 (75)\ttotal: 3.22s\tremaining: 21.6s\n",
      "78:\tlearn: 0.5421743\ttest: 0.5266458\tbest: 0.5268168 (75)\ttotal: 3.25s\tremaining: 21.5s\n",
      "79:\tlearn: 0.5423847\ttest: 0.5263158\tbest: 0.5268168 (75)\ttotal: 3.3s\tremaining: 21.4s\n",
      "80:\tlearn: 0.5423847\ttest: 0.5263158\tbest: 0.5268168 (75)\ttotal: 3.34s\tremaining: 21.4s\n",
      "81:\tlearn: 0.5353719\ttest: 0.5264870\tbest: 0.5268168 (75)\ttotal: 3.39s\tremaining: 21.4s\n",
      "82:\tlearn: 0.5352626\ttest: 0.5263158\tbest: 0.5268168 (75)\ttotal: 3.44s\tremaining: 21.4s\n",
      "83:\tlearn: 0.5351765\ttest: 0.5266705\tbest: 0.5268168 (75)\ttotal: 3.48s\tremaining: 21.4s\n",
      "84:\tlearn: 0.5352709\ttest: 0.5264993\tbest: 0.5268168 (75)\ttotal: 3.53s\tremaining: 21.4s\n",
      "85:\tlearn: 0.5352709\ttest: 0.5264993\tbest: 0.5268168 (75)\ttotal: 3.57s\tremaining: 21.3s\n",
      "86:\tlearn: 0.5355294\ttest: 0.5263280\tbest: 0.5268168 (75)\ttotal: 3.61s\tremaining: 21.3s\n",
      "87:\tlearn: 0.5355294\ttest: 0.5263280\tbest: 0.5268168 (75)\ttotal: 3.65s\tremaining: 21.3s\n",
      "88:\tlearn: 0.5428057\ttest: 0.5263280\tbest: 0.5268168 (75)\ttotal: 3.7s\tremaining: 21.3s\n",
      "89:\tlearn: 0.5428057\ttest: 0.5263280\tbest: 0.5268168 (75)\ttotal: 3.73s\tremaining: 21.2s\n",
      "90:\tlearn: 0.5427742\ttest: 0.5263280\tbest: 0.5268168 (75)\ttotal: 3.79s\tremaining: 21.2s\n",
      "91:\tlearn: 0.5430809\ttest: 0.5263280\tbest: 0.5268168 (75)\ttotal: 3.84s\tremaining: 21.2s\n",
      "92:\tlearn: 0.5429749\ttest: 0.5263280\tbest: 0.5268168 (75)\ttotal: 3.89s\tremaining: 21.2s\n",
      "93:\tlearn: 0.5430064\ttest: 0.5259854\tbest: 0.5268168 (75)\ttotal: 3.94s\tremaining: 21.2s\n",
      "94:\tlearn: 0.5428903\ttest: 0.5261567\tbest: 0.5268168 (75)\ttotal: 3.99s\tremaining: 21.2s\n",
      "95:\tlearn: 0.5430064\ttest: 0.5261567\tbest: 0.5268168 (75)\ttotal: 4.02s\tremaining: 21.1s\n",
      "96:\tlearn: 0.5431540\ttest: 0.5258751\tbest: 0.5268168 (75)\ttotal: 4.07s\tremaining: 21.1s\n",
      "97:\tlearn: 0.5432385\ttest: 0.5262057\tbest: 0.5268168 (75)\ttotal: 4.12s\tremaining: 21.1s\n",
      "98:\tlearn: 0.5431955\ttest: 0.5262057\tbest: 0.5268168 (75)\ttotal: 4.17s\tremaining: 21.1s\n",
      "99:\tlearn: 0.5434278\ttest: 0.5262057\tbest: 0.5268168 (75)\ttotal: 4.22s\tremaining: 21.1s\n",
      "100:\tlearn: 0.5432801\ttest: 0.5262057\tbest: 0.5268168 (75)\ttotal: 4.26s\tremaining: 21.1s\n",
      "101:\tlearn: 0.5432801\ttest: 0.5262057\tbest: 0.5268168 (75)\ttotal: 4.32s\tremaining: 21.1s\n",
      "102:\tlearn: 0.5434492\ttest: 0.5262057\tbest: 0.5268168 (75)\ttotal: 4.37s\tremaining: 21.1s\n",
      "103:\tlearn: 0.5434707\ttest: 0.5263769\tbest: 0.5268168 (75)\ttotal: 4.42s\tremaining: 21.1s\n",
      "104:\tlearn: 0.5434720\ttest: 0.5265970\tbest: 0.5268168 (75)\ttotal: 4.47s\tremaining: 21.1s\n",
      "105:\tlearn: 0.5434820\ttest: 0.5263892\tbest: 0.5268168 (75)\ttotal: 4.51s\tremaining: 21s\n",
      "106:\tlearn: 0.5433975\ttest: 0.5265605\tbest: 0.5268168 (75)\ttotal: 4.56s\tremaining: 21s\n",
      "107:\tlearn: 0.5438942\ttest: 0.5270003\tbest: 0.5270003 (107)\ttotal: 4.61s\tremaining: 21s\n",
      "108:\tlearn: 0.5438942\ttest: 0.5268905\tbest: 0.5270003 (107)\ttotal: 4.65s\tremaining: 21s\n",
      "109:\tlearn: 0.5439573\ttest: 0.5267193\tbest: 0.5270003 (107)\ttotal: 4.7s\tremaining: 20.9s\n",
      "110:\tlearn: 0.5440102\ttest: 0.5267193\tbest: 0.5270003 (107)\ttotal: 4.74s\tremaining: 20.9s\n",
      "111:\tlearn: 0.5376306\ttest: 0.5265116\tbest: 0.5270003 (107)\ttotal: 4.79s\tremaining: 20.9s\n",
      "112:\tlearn: 0.5443375\ttest: 0.5263769\tbest: 0.5270003 (107)\ttotal: 4.83s\tremaining: 20.8s\n",
      "113:\tlearn: 0.5444856\ttest: 0.5263158\tbest: 0.5270003 (107)\ttotal: 4.88s\tremaining: 20.8s\n",
      "114:\tlearn: 0.5450544\ttest: 0.5263647\tbest: 0.5270003 (107)\ttotal: 4.93s\tremaining: 20.8s\n",
      "115:\tlearn: 0.5450229\ttest: 0.5263647\tbest: 0.5270003 (107)\ttotal: 4.98s\tremaining: 20.8s\n",
      "116:\tlearn: 0.5451493\ttest: 0.5265358\tbest: 0.5270003 (107)\ttotal: 5.03s\tremaining: 20.8s\n",
      "117:\tlearn: 0.5451809\ttest: 0.5263647\tbest: 0.5270003 (107)\ttotal: 5.08s\tremaining: 20.7s\n",
      "118:\tlearn: 0.5451809\ttest: 0.5263647\tbest: 0.5270003 (107)\ttotal: 5.12s\tremaining: 20.7s\n",
      "119:\tlearn: 0.5454440\ttest: 0.5264258\tbest: 0.5270003 (107)\ttotal: 5.17s\tremaining: 20.7s\n",
      "120:\tlearn: 0.5453809\ttest: 0.5264258\tbest: 0.5270003 (107)\ttotal: 5.22s\tremaining: 20.7s\n",
      "121:\tlearn: 0.5457911\ttest: 0.5265846\tbest: 0.5270003 (107)\ttotal: 5.28s\tremaining: 20.7s\n",
      "122:\tlearn: 0.5458543\ttest: 0.5266458\tbest: 0.5270003 (107)\ttotal: 5.32s\tremaining: 20.6s\n",
      "123:\tlearn: 0.5456019\ttest: 0.5263769\tbest: 0.5270003 (107)\ttotal: 5.37s\tremaining: 20.6s\n",
      "124:\tlearn: 0.5456019\ttest: 0.5263769\tbest: 0.5270003 (107)\ttotal: 5.41s\tremaining: 20.6s\n",
      "125:\tlearn: 0.5457494\ttest: 0.5260955\tbest: 0.5270003 (107)\ttotal: 5.46s\tremaining: 20.6s\n",
      "126:\tlearn: 0.5456651\ttest: 0.5260955\tbest: 0.5270003 (107)\ttotal: 5.51s\tremaining: 20.5s\n",
      "127:\tlearn: 0.5457598\ttest: 0.5260955\tbest: 0.5270003 (107)\ttotal: 5.56s\tremaining: 20.5s\n",
      "128:\tlearn: 0.5464746\ttest: 0.5261203\tbest: 0.5270003 (107)\ttotal: 5.6s\tremaining: 20.4s\n",
      "129:\tlearn: 0.5465163\ttest: 0.5262914\tbest: 0.5270003 (107)\ttotal: 5.64s\tremaining: 20.4s\n",
      "130:\tlearn: 0.5463590\ttest: 0.5262914\tbest: 0.5270003 (107)\ttotal: 5.68s\tremaining: 20.3s\n",
      "131:\tlearn: 0.5466428\ttest: 0.5258881\tbest: 0.5270003 (107)\ttotal: 5.72s\tremaining: 20.3s\n",
      "132:\tlearn: 0.5465587\ttest: 0.5258881\tbest: 0.5270003 (107)\ttotal: 5.76s\tremaining: 20.2s\n",
      "133:\tlearn: 0.5472832\ttest: 0.5259491\tbest: 0.5270003 (107)\ttotal: 5.81s\tremaining: 20.2s\n",
      "134:\tlearn: 0.5470945\ttest: 0.5261203\tbest: 0.5270003 (107)\ttotal: 5.86s\tremaining: 20.2s\n",
      "135:\tlearn: 0.5471262\ttest: 0.5262914\tbest: 0.5270003 (107)\ttotal: 5.91s\tremaining: 20.2s\n",
      "136:\tlearn: 0.5472942\ttest: 0.5261203\tbest: 0.5270003 (107)\ttotal: 5.96s\tremaining: 20.1s\n",
      "137:\tlearn: 0.5473988\ttest: 0.5261203\tbest: 0.5270003 (107)\ttotal: 6.01s\tremaining: 20.1s\n",
      "138:\tlearn: 0.5477457\ttest: 0.5261203\tbest: 0.5270003 (107)\ttotal: 6.05s\tremaining: 20.1s\n",
      "139:\tlearn: 0.5478296\ttest: 0.5261203\tbest: 0.5270003 (107)\ttotal: 6.09s\tremaining: 20s\n",
      "140:\tlearn: 0.5483759\ttest: 0.5260592\tbest: 0.5270003 (107)\ttotal: 6.13s\tremaining: 20s\n",
      "141:\tlearn: 0.5484393\ttest: 0.5260592\tbest: 0.5270003 (107)\ttotal: 6.18s\tremaining: 19.9s\n",
      "142:\tlearn: 0.5484710\ttest: 0.5260592\tbest: 0.5270003 (107)\ttotal: 6.23s\tremaining: 19.9s\n",
      "143:\tlearn: 0.5412661\ttest: 0.5263524\tbest: 0.5270003 (107)\ttotal: 6.28s\tremaining: 19.9s\n",
      "144:\tlearn: 0.5411268\ttest: 0.5263524\tbest: 0.5270003 (107)\ttotal: 6.33s\tremaining: 19.9s\n",
      "145:\tlearn: 0.5410413\ttest: 0.5261814\tbest: 0.5270003 (107)\ttotal: 6.37s\tremaining: 19.8s\n",
      "146:\tlearn: 0.5413296\ttest: 0.5266334\tbest: 0.5270003 (107)\ttotal: 6.41s\tremaining: 19.8s\n",
      "147:\tlearn: 0.5417472\ttest: 0.5262914\tbest: 0.5270003 (107)\ttotal: 6.45s\tremaining: 19.7s\n",
      "148:\tlearn: 0.5483796\ttest: 0.5264013\tbest: 0.5270003 (107)\ttotal: 6.5s\tremaining: 19.7s\n",
      "149:\tlearn: 0.5484114\ttest: 0.5264013\tbest: 0.5270003 (107)\ttotal: 6.54s\tremaining: 19.6s\n",
      "150:\tlearn: 0.5483068\ttest: 0.5264013\tbest: 0.5270003 (107)\ttotal: 6.59s\tremaining: 19.6s\n",
      "151:\tlearn: 0.5420769\ttest: 0.5264013\tbest: 0.5270003 (107)\ttotal: 6.64s\tremaining: 19.6s\n",
      "152:\tlearn: 0.5486111\ttest: 0.5264013\tbest: 0.5270003 (107)\ttotal: 6.67s\tremaining: 19.5s\n",
      "153:\tlearn: 0.5482657\ttest: 0.5263647\tbest: 0.5270003 (107)\ttotal: 6.71s\tremaining: 19.4s\n",
      "154:\tlearn: 0.5486541\ttest: 0.5265358\tbest: 0.5270003 (107)\ttotal: 6.75s\tremaining: 19.4s\n",
      "155:\tlearn: 0.5486111\ttest: 0.5265358\tbest: 0.5270003 (107)\ttotal: 6.81s\tremaining: 19.4s\n",
      "156:\tlearn: 0.5486224\ttest: 0.5265358\tbest: 0.5270003 (107)\ttotal: 6.86s\tremaining: 19.4s\n",
      "157:\tlearn: 0.5485066\ttest: 0.5265358\tbest: 0.5270003 (107)\ttotal: 6.9s\tremaining: 19.3s\n",
      "158:\tlearn: 0.5486224\ttest: 0.5265358\tbest: 0.5270003 (107)\ttotal: 6.95s\tremaining: 19.3s\n",
      "159:\tlearn: 0.5486224\ttest: 0.5265358\tbest: 0.5270003 (107)\ttotal: 7s\tremaining: 19.3s\n",
      "160:\tlearn: 0.5485701\ttest: 0.5265358\tbest: 0.5270003 (107)\ttotal: 7.05s\tremaining: 19.2s\n",
      "161:\tlearn: 0.5486633\ttest: 0.5264747\tbest: 0.5270003 (107)\ttotal: 7.09s\tremaining: 19.2s\n",
      "162:\tlearn: 0.5488517\ttest: 0.5263647\tbest: 0.5270003 (107)\ttotal: 7.14s\tremaining: 19.1s\n",
      "163:\tlearn: 0.5490196\ttest: 0.5263647\tbest: 0.5270003 (107)\ttotal: 7.18s\tremaining: 19.1s\n",
      "164:\tlearn: 0.5491964\ttest: 0.5261324\tbest: 0.5270003 (107)\ttotal: 7.23s\tremaining: 19.1s\n",
      "165:\tlearn: 0.5488722\ttest: 0.5264747\tbest: 0.5270003 (107)\ttotal: 7.27s\tremaining: 19s\n",
      "166:\tlearn: 0.5431231\ttest: 0.5263647\tbest: 0.5270003 (107)\ttotal: 7.33s\tremaining: 19s\n",
      "167:\tlearn: 0.5427501\ttest: 0.5264258\tbest: 0.5270003 (107)\ttotal: 7.37s\tremaining: 19s\n",
      "168:\tlearn: 0.5452530\ttest: 0.5273655\tbest: 0.5273655 (168)\ttotal: 7.42s\tremaining: 18.9s\n",
      "169:\tlearn: 0.5456561\ttest: 0.5276458\tbest: 0.5276458 (169)\ttotal: 7.46s\tremaining: 18.9s\n",
      "170:\tlearn: 0.5457940\ttest: 0.5276458\tbest: 0.5276458 (169)\ttotal: 7.5s\tremaining: 18.8s\n",
      "171:\tlearn: 0.5463028\ttest: 0.5269266\tbest: 0.5276458 (169)\ttotal: 7.55s\tremaining: 18.8s\n",
      "172:\tlearn: 0.5459425\ttest: 0.5267557\tbest: 0.5276458 (169)\ttotal: 7.6s\tremaining: 18.8s\n",
      "173:\tlearn: 0.5461861\ttest: 0.5273655\tbest: 0.5276458 (169)\ttotal: 7.63s\tremaining: 18.7s\n",
      "174:\tlearn: 0.5464404\ttest: 0.5273655\tbest: 0.5276458 (169)\ttotal: 7.67s\tremaining: 18.6s\n",
      "175:\tlearn: 0.5461754\ttest: 0.5273655\tbest: 0.5276458 (169)\ttotal: 7.72s\tremaining: 18.6s\n",
      "176:\tlearn: 0.5463449\ttest: 0.5273782\tbest: 0.5276458 (169)\ttotal: 7.76s\tremaining: 18.5s\n",
      "177:\tlearn: 0.5464825\ttest: 0.5275490\tbest: 0.5276458 (169)\ttotal: 7.8s\tremaining: 18.5s\n",
      "178:\tlearn: 0.5465672\ttest: 0.5275490\tbest: 0.5276458 (169)\ttotal: 7.85s\tremaining: 18.5s\n",
      "179:\tlearn: 0.5471280\ttest: 0.5273909\tbest: 0.5276458 (169)\ttotal: 7.89s\tremaining: 18.4s\n",
      "180:\tlearn: 0.5471918\ttest: 0.5273909\tbest: 0.5276458 (169)\ttotal: 7.94s\tremaining: 18.4s\n",
      "181:\tlearn: 0.5475511\ttest: 0.5274394\tbest: 0.5276458 (169)\ttotal: 7.99s\tremaining: 18.4s\n",
      "182:\tlearn: 0.5474776\ttest: 0.5274394\tbest: 0.5276458 (169)\ttotal: 8.04s\tremaining: 18.3s\n",
      "183:\tlearn: 0.5476038\ttest: 0.5274394\tbest: 0.5276458 (169)\ttotal: 8.07s\tremaining: 18.3s\n",
      "184:\tlearn: 0.5476884\ttest: 0.5274394\tbest: 0.5276458 (169)\ttotal: 8.12s\tremaining: 18.2s\n",
      "185:\tlearn: 0.5455820\ttest: 0.5272685\tbest: 0.5276458 (169)\ttotal: 8.16s\tremaining: 18.2s\n",
      "186:\tlearn: 0.5457520\ttest: 0.5269878\tbest: 0.5276458 (169)\ttotal: 8.21s\tremaining: 18.1s\n",
      "187:\tlearn: 0.5457520\ttest: 0.5269878\tbest: 0.5276458 (169)\ttotal: 8.27s\tremaining: 18.1s\n",
      "188:\tlearn: 0.5479548\ttest: 0.5269266\tbest: 0.5276458 (169)\ttotal: 8.31s\tremaining: 18.1s\n",
      "189:\tlearn: 0.5479548\ttest: 0.5269266\tbest: 0.5276458 (169)\ttotal: 8.36s\tremaining: 18s\n",
      "190:\tlearn: 0.5477120\ttest: 0.5265358\tbest: 0.5276458 (169)\ttotal: 8.41s\tremaining: 18s\n",
      "191:\tlearn: 0.5478702\ttest: 0.5265358\tbest: 0.5276458 (169)\ttotal: 8.46s\tremaining: 18s\n",
      "192:\tlearn: 0.5480394\ttest: 0.5265358\tbest: 0.5276458 (169)\ttotal: 8.51s\tremaining: 17.9s\n",
      "193:\tlearn: 0.5479021\ttest: 0.5263647\tbest: 0.5276458 (169)\ttotal: 8.56s\tremaining: 17.9s\n",
      "194:\tlearn: 0.5476510\ttest: 0.5275208\tbest: 0.5276458 (169)\ttotal: 8.6s\tremaining: 17.9s\n",
      "195:\tlearn: 0.5474495\ttest: 0.5279704\tbest: 0.5279704 (195)\ttotal: 8.65s\tremaining: 17.8s\n",
      "196:\tlearn: 0.5477997\ttest: 0.5276301\tbest: 0.5279704 (195)\ttotal: 8.7s\tremaining: 17.8s\n",
      "197:\tlearn: 0.5476302\ttest: 0.5278003\tbest: 0.5279704 (195)\ttotal: 8.75s\tremaining: 17.8s\n",
      "198:\tlearn: 0.5476830\ttest: 0.5278613\tbest: 0.5279704 (195)\ttotal: 8.8s\tremaining: 17.7s\n",
      "199:\tlearn: 0.5478525\ttest: 0.5274115\tbest: 0.5279704 (195)\ttotal: 8.85s\tremaining: 17.7s\n",
      "200:\tlearn: 0.5479372\ttest: 0.5274115\tbest: 0.5279704 (195)\ttotal: 8.89s\tremaining: 17.6s\n",
      "201:\tlearn: 0.5480332\ttest: 0.5274115\tbest: 0.5279704 (195)\ttotal: 8.94s\tremaining: 17.6s\n",
      "202:\tlearn: 0.5480332\ttest: 0.5274115\tbest: 0.5279704 (195)\ttotal: 8.99s\tremaining: 17.6s\n",
      "203:\tlearn: 0.5482026\ttest: 0.5274725\tbest: 0.5279704 (195)\ttotal: 9.03s\tremaining: 17.5s\n",
      "204:\tlearn: 0.5482026\ttest: 0.5275946\tbest: 0.5279704 (195)\ttotal: 9.08s\tremaining: 17.5s\n",
      "205:\tlearn: 0.5485094\ttest: 0.5275946\tbest: 0.5279704 (195)\ttotal: 9.12s\tremaining: 17.4s\n",
      "206:\tlearn: 0.5485094\ttest: 0.5275946\tbest: 0.5279704 (195)\ttotal: 9.17s\tremaining: 17.4s\n",
      "207:\tlearn: 0.5484247\ttest: 0.5275946\tbest: 0.5279704 (195)\ttotal: 9.22s\tremaining: 17.4s\n",
      "208:\tlearn: 0.5481179\ttest: 0.5275335\tbest: 0.5279704 (195)\ttotal: 9.28s\tremaining: 17.4s\n",
      "209:\tlearn: 0.5478941\ttest: 0.5274725\tbest: 0.5279704 (195)\ttotal: 9.32s\tremaining: 17.3s\n",
      "210:\tlearn: 0.5479995\ttest: 0.5274725\tbest: 0.5279704 (195)\ttotal: 9.37s\tremaining: 17.3s\n",
      "211:\tlearn: 0.5494096\ttest: 0.5277039\tbest: 0.5279704 (195)\ttotal: 9.41s\tremaining: 17.2s\n",
      "212:\tlearn: 0.5494940\ttest: 0.5277039\tbest: 0.5279704 (195)\ttotal: 9.46s\tremaining: 17.2s\n",
      "213:\tlearn: 0.5494940\ttest: 0.5277039\tbest: 0.5279704 (195)\ttotal: 9.52s\tremaining: 17.2s\n",
      "214:\tlearn: 0.5481369\ttest: 0.5275335\tbest: 0.5279704 (195)\ttotal: 9.57s\tremaining: 17.1s\n",
      "215:\tlearn: 0.5499273\ttest: 0.5278742\tbest: 0.5279704 (195)\ttotal: 9.62s\tremaining: 17.1s\n",
      "216:\tlearn: 0.5500116\ttest: 0.5278742\tbest: 0.5279704 (195)\ttotal: 9.67s\tremaining: 17.1s\n",
      "217:\tlearn: 0.5500756\ttest: 0.5278742\tbest: 0.5279704 (195)\ttotal: 9.72s\tremaining: 17s\n",
      "218:\tlearn: 0.5499913\ttest: 0.5278742\tbest: 0.5279704 (195)\ttotal: 9.77s\tremaining: 17s\n",
      "219:\tlearn: 0.5501396\ttest: 0.5277649\tbest: 0.5279704 (195)\ttotal: 9.82s\tremaining: 17s\n",
      "220:\tlearn: 0.5546393\ttest: 0.5275335\tbest: 0.5279704 (195)\ttotal: 9.87s\tremaining: 16.9s\n",
      "221:\tlearn: 0.5548186\ttest: 0.5275335\tbest: 0.5279704 (195)\ttotal: 9.92s\tremaining: 16.9s\n",
      "222:\tlearn: 0.5549020\ttest: 0.5274242\tbest: 0.5279704 (195)\ttotal: 9.96s\tremaining: 16.8s\n",
      "223:\tlearn: 0.5548186\ttest: 0.5274242\tbest: 0.5279704 (195)\ttotal: 10s\tremaining: 16.8s\n",
      "224:\tlearn: 0.5549213\ttest: 0.5274242\tbest: 0.5279704 (195)\ttotal: 10.1s\tremaining: 16.8s\n",
      "225:\tlearn: 0.5553378\ttest: 0.5274242\tbest: 0.5279704 (195)\ttotal: 10.1s\tremaining: 16.7s\n",
      "226:\tlearn: 0.5553890\ttest: 0.5275463\tbest: 0.5279704 (195)\ttotal: 10.2s\tremaining: 16.7s\n",
      "227:\tlearn: 0.5512955\ttest: 0.5273148\tbest: 0.5279704 (195)\ttotal: 10.2s\tremaining: 16.6s\n",
      "228:\tlearn: 0.5513796\ttest: 0.5271443\tbest: 0.5279704 (195)\ttotal: 10.2s\tremaining: 16.6s\n",
      "229:\tlearn: 0.5514437\ttest: 0.5271443\tbest: 0.5279704 (195)\ttotal: 10.3s\tremaining: 16.6s\n",
      "230:\tlearn: 0.5514437\ttest: 0.5276556\tbest: 0.5279704 (195)\ttotal: 10.3s\tremaining: 16.5s\n",
      "231:\tlearn: 0.5519684\ttest: 0.5278260\tbest: 0.5279704 (195)\ttotal: 10.4s\tremaining: 16.5s\n",
      "232:\tlearn: 0.5520924\ttest: 0.5277649\tbest: 0.5279704 (195)\ttotal: 10.4s\tremaining: 16.4s\n",
      "233:\tlearn: 0.5522284\ttest: 0.5277649\tbest: 0.5279704 (195)\ttotal: 10.5s\tremaining: 16.4s\n",
      "234:\tlearn: 0.5527842\ttest: 0.5277649\tbest: 0.5279704 (195)\ttotal: 10.5s\tremaining: 16.3s\n",
      "235:\tlearn: 0.5529398\ttest: 0.5277039\tbest: 0.5279704 (195)\ttotal: 10.6s\tremaining: 16.3s\n",
      "236:\tlearn: 0.5570377\ttest: 0.5277039\tbest: 0.5279704 (195)\ttotal: 10.6s\tremaining: 16.3s\n",
      "237:\tlearn: 0.5571207\ttest: 0.5277039\tbest: 0.5279704 (195)\ttotal: 10.7s\tremaining: 16.2s\n",
      "238:\tlearn: 0.5574713\ttest: 0.5277039\tbest: 0.5279704 (195)\ttotal: 10.7s\tremaining: 16.2s\n",
      "239:\tlearn: 0.5575542\ttest: 0.5275818\tbest: 0.5279704 (195)\ttotal: 10.8s\tremaining: 16.1s\n",
      "240:\tlearn: 0.5576371\ttest: 0.5275818\tbest: 0.5279704 (195)\ttotal: 10.8s\tremaining: 16.1s\n",
      "241:\tlearn: 0.5576050\ttest: 0.5275335\tbest: 0.5279704 (195)\ttotal: 10.9s\tremaining: 16.1s\n",
      "242:\tlearn: 0.5575033\ttest: 0.5274115\tbest: 0.5279704 (195)\ttotal: 10.9s\tremaining: 16s\n",
      "243:\tlearn: 0.5581342\ttest: 0.5270708\tbest: 0.5279704 (195)\ttotal: 11s\tremaining: 16s\n",
      "244:\tlearn: 0.5581663\ttest: 0.5272412\tbest: 0.5279704 (195)\ttotal: 11s\tremaining: 16s\n",
      "245:\tlearn: 0.5582678\ttest: 0.5269004\tbest: 0.5279704 (195)\ttotal: 11.1s\tremaining: 15.9s\n",
      "246:\tlearn: 0.5582678\ttest: 0.5269004\tbest: 0.5279704 (195)\ttotal: 11.1s\tremaining: 15.9s\n",
      "247:\tlearn: 0.5583319\ttest: 0.5267909\tbest: 0.5279704 (195)\ttotal: 11.2s\tremaining: 15.8s\n",
      "248:\tlearn: 0.5573204\ttest: 0.5267909\tbest: 0.5279704 (195)\ttotal: 11.2s\tremaining: 15.8s\n",
      "249:\tlearn: 0.5574167\ttest: 0.5267909\tbest: 0.5279704 (195)\ttotal: 11.3s\tremaining: 15.8s\n",
      "250:\tlearn: 0.5569504\ttest: 0.5271318\tbest: 0.5279704 (195)\ttotal: 11.3s\tremaining: 15.7s\n",
      "251:\tlearn: 0.5576790\ttest: 0.5273022\tbest: 0.5279704 (195)\ttotal: 11.3s\tremaining: 15.7s\n",
      "252:\tlearn: 0.5569314\ttest: 0.5273022\tbest: 0.5279704 (195)\ttotal: 11.4s\tremaining: 15.6s\n",
      "253:\tlearn: 0.5569314\ttest: 0.5274725\tbest: 0.5279704 (195)\ttotal: 11.4s\tremaining: 15.6s\n",
      "254:\tlearn: 0.5570845\ttest: 0.5274725\tbest: 0.5279704 (195)\ttotal: 11.5s\tremaining: 15.5s\n",
      "255:\tlearn: 0.5570845\ttest: 0.5274725\tbest: 0.5279704 (195)\ttotal: 11.5s\tremaining: 15.5s\n",
      "256:\tlearn: 0.5571675\ttest: 0.5274725\tbest: 0.5279704 (195)\ttotal: 11.6s\tremaining: 15.5s\n",
      "257:\tlearn: 0.5571675\ttest: 0.5274725\tbest: 0.5279704 (195)\ttotal: 11.6s\tremaining: 15.4s\n",
      "258:\tlearn: 0.5571675\ttest: 0.5274725\tbest: 0.5279704 (195)\ttotal: 11.7s\tremaining: 15.4s\n",
      "259:\tlearn: 0.5569314\ttest: 0.5276428\tbest: 0.5279704 (195)\ttotal: 11.7s\tremaining: 15.3s\n",
      "260:\tlearn: 0.5582572\ttest: 0.5276428\tbest: 0.5279704 (195)\ttotal: 11.8s\tremaining: 15.3s\n",
      "261:\tlearn: 0.5583214\ttest: 0.5276428\tbest: 0.5279704 (195)\ttotal: 11.8s\tremaining: 15.3s\n",
      "262:\tlearn: 0.5583400\ttest: 0.5277521\tbest: 0.5279704 (195)\ttotal: 11.9s\tremaining: 15.2s\n",
      "263:\tlearn: 0.5541191\ttest: 0.5277521\tbest: 0.5279704 (195)\ttotal: 11.9s\tremaining: 15.2s\n",
      "264:\tlearn: 0.5582572\ttest: 0.5277521\tbest: 0.5279704 (195)\ttotal: 12s\tremaining: 15.1s\n",
      "265:\tlearn: 0.5582572\ttest: 0.5279223\tbest: 0.5279704 (195)\ttotal: 12s\tremaining: 15.1s\n",
      "266:\tlearn: 0.5582572\ttest: 0.5279223\tbest: 0.5279704 (195)\ttotal: 12.1s\tremaining: 15s\n",
      "267:\tlearn: 0.5582572\ttest: 0.5277521\tbest: 0.5279704 (195)\ttotal: 12.1s\tremaining: 15s\n",
      "268:\tlearn: 0.5584229\ttest: 0.5277521\tbest: 0.5279704 (195)\ttotal: 12.2s\tremaining: 15s\n",
      "269:\tlearn: 0.5578560\ttest: 0.5274852\tbest: 0.5279704 (195)\ttotal: 12.2s\tremaining: 15s\n",
      "270:\tlearn: 0.5579256\ttest: 0.5273759\tbest: 0.5279704 (195)\ttotal: 12.3s\tremaining: 14.9s\n",
      "271:\tlearn: 0.5582706\ttest: 0.5269004\tbest: 0.5279704 (195)\ttotal: 12.4s\tremaining: 14.9s\n",
      "272:\tlearn: 0.5584498\ttest: 0.5270708\tbest: 0.5279704 (195)\ttotal: 12.4s\tremaining: 14.9s\n",
      "273:\tlearn: 0.5585327\ttest: 0.5270708\tbest: 0.5279704 (195)\ttotal: 12.4s\tremaining: 14.8s\n",
      "274:\tlearn: 0.5584042\ttest: 0.5270708\tbest: 0.5279704 (195)\ttotal: 12.5s\tremaining: 14.8s\n",
      "275:\tlearn: 0.5590112\ttest: 0.5268643\tbest: 0.5279704 (195)\ttotal: 12.5s\tremaining: 14.7s\n",
      "276:\tlearn: 0.5588185\ttest: 0.5272412\tbest: 0.5279704 (195)\ttotal: 12.6s\tremaining: 14.7s\n",
      "277:\tlearn: 0.5589520\ttest: 0.5272412\tbest: 0.5279704 (195)\ttotal: 12.6s\tremaining: 14.6s\n",
      "278:\tlearn: 0.5589891\ttest: 0.5272412\tbest: 0.5279704 (195)\ttotal: 12.7s\tremaining: 14.6s\n",
      "279:\tlearn: 0.5601377\ttest: 0.5272412\tbest: 0.5279704 (195)\ttotal: 12.7s\tremaining: 14.6s\n",
      "280:\tlearn: 0.5600872\ttest: 0.5272412\tbest: 0.5279704 (195)\ttotal: 12.8s\tremaining: 14.5s\n",
      "281:\tlearn: 0.5602524\ttest: 0.5272412\tbest: 0.5279704 (195)\ttotal: 12.8s\tremaining: 14.5s\n",
      "282:\tlearn: 0.5593191\ttest: 0.5273148\tbest: 0.5279704 (195)\ttotal: 12.9s\tremaining: 14.4s\n",
      "283:\tlearn: 0.5591534\ttest: 0.5273148\tbest: 0.5279704 (195)\ttotal: 12.9s\tremaining: 14.4s\n",
      "284:\tlearn: 0.5592684\ttest: 0.5271443\tbest: 0.5279704 (195)\ttotal: 13s\tremaining: 14.3s\n",
      "285:\tlearn: 0.5592869\ttest: 0.5273275\tbest: 0.5279704 (195)\ttotal: 13s\tremaining: 14.3s\n",
      "286:\tlearn: 0.5593698\ttest: 0.5271443\tbest: 0.5279704 (195)\ttotal: 13s\tremaining: 14.2s\n",
      "287:\tlearn: 0.5594848\ttest: 0.5271443\tbest: 0.5279704 (195)\ttotal: 13.1s\tremaining: 14.2s\n",
      "288:\tlearn: 0.5596046\ttest: 0.5271443\tbest: 0.5279704 (195)\ttotal: 13.1s\tremaining: 14.1s\n",
      "289:\tlearn: 0.5595998\ttest: 0.5271443\tbest: 0.5279704 (195)\ttotal: 13.2s\tremaining: 14.1s\n",
      "290:\tlearn: 0.5598988\ttest: 0.5273275\tbest: 0.5279704 (195)\ttotal: 13.2s\tremaining: 14.1s\n",
      "291:\tlearn: 0.5598988\ttest: 0.5273275\tbest: 0.5279704 (195)\ttotal: 13.3s\tremaining: 14s\n",
      "292:\tlearn: 0.5619588\ttest: 0.5271443\tbest: 0.5279704 (195)\ttotal: 13.3s\tremaining: 14s\n",
      "293:\tlearn: 0.5614961\ttest: 0.5272538\tbest: 0.5279704 (195)\ttotal: 13.4s\tremaining: 13.9s\n",
      "294:\tlearn: 0.5604092\ttest: 0.5272538\tbest: 0.5279704 (195)\ttotal: 13.4s\tremaining: 13.9s\n",
      "295:\tlearn: 0.5609238\ttest: 0.5272538\tbest: 0.5279704 (195)\ttotal: 13.5s\tremaining: 13.8s\n",
      "296:\tlearn: 0.5615927\ttest: 0.5270833\tbest: 0.5279704 (195)\ttotal: 13.5s\tremaining: 13.8s\n",
      "297:\tlearn: 0.5615747\ttest: 0.5269128\tbest: 0.5279704 (195)\ttotal: 13.6s\tremaining: 13.8s\n",
      "298:\tlearn: 0.5617114\ttest: 0.5269128\tbest: 0.5279704 (195)\ttotal: 13.6s\tremaining: 13.7s\n",
      "299:\tlearn: 0.5618441\ttest: 0.5272664\tbest: 0.5279704 (195)\ttotal: 13.7s\tremaining: 13.7s\n",
      "300:\tlearn: 0.5618764\ttest: 0.5272664\tbest: 0.5279704 (195)\ttotal: 13.7s\tremaining: 13.6s\n",
      "301:\tlearn: 0.5617617\ttest: 0.5272664\tbest: 0.5279704 (195)\ttotal: 13.8s\tremaining: 13.6s\n",
      "302:\tlearn: 0.5619086\ttest: 0.5272664\tbest: 0.5279704 (195)\ttotal: 13.8s\tremaining: 13.5s\n",
      "303:\tlearn: 0.5618261\ttest: 0.5272664\tbest: 0.5279704 (195)\ttotal: 13.9s\tremaining: 13.5s\n",
      "304:\tlearn: 0.5622062\ttest: 0.5270959\tbest: 0.5279704 (195)\ttotal: 13.9s\tremaining: 13.4s\n",
      "305:\tlearn: 0.5619588\ttest: 0.5270959\tbest: 0.5279704 (195)\ttotal: 14s\tremaining: 13.4s\n",
      "306:\tlearn: 0.5620233\ttest: 0.5270959\tbest: 0.5279704 (195)\ttotal: 14s\tremaining: 13.4s\n",
      "307:\tlearn: 0.5619408\ttest: 0.5270959\tbest: 0.5279704 (195)\ttotal: 14s\tremaining: 13.3s\n",
      "308:\tlearn: 0.5617578\ttest: 0.5270474\tbest: 0.5279704 (195)\ttotal: 14.1s\tremaining: 13.3s\n",
      "309:\tlearn: 0.5617397\ttest: 0.5270474\tbest: 0.5279704 (195)\ttotal: 14.1s\tremaining: 13.2s\n",
      "310:\tlearn: 0.5618403\ttest: 0.5268767\tbest: 0.5279704 (195)\ttotal: 14.2s\tremaining: 13.2s\n",
      "311:\tlearn: 0.5617758\ttest: 0.5270474\tbest: 0.5279704 (195)\ttotal: 14.2s\tremaining: 13.1s\n",
      "312:\tlearn: 0.5617758\ttest: 0.5270474\tbest: 0.5279704 (195)\ttotal: 14.3s\tremaining: 13.1s\n",
      "313:\tlearn: 0.5615464\ttest: 0.5270474\tbest: 0.5279704 (195)\ttotal: 14.3s\tremaining: 13s\n",
      "314:\tlearn: 0.5617578\ttest: 0.5273148\tbest: 0.5279704 (195)\ttotal: 14.4s\tremaining: 13s\n",
      "315:\tlearn: 0.5640556\ttest: 0.5303065\tbest: 0.5303065 (315)\ttotal: 14.4s\tremaining: 12.9s\n",
      "316:\tlearn: 0.5642170\ttest: 0.5304759\tbest: 0.5304759 (316)\ttotal: 14.4s\tremaining: 12.9s\n",
      "317:\tlearn: 0.5634303\ttest: 0.5275463\tbest: 0.5304759 (316)\ttotal: 14.5s\tremaining: 12.9s\n",
      "318:\tlearn: 0.5639059\ttest: 0.5310448\tbest: 0.5310448 (318)\ttotal: 14.5s\tremaining: 12.8s\n",
      "319:\tlearn: 0.5632948\ttest: 0.5280574\tbest: 0.5310448 (318)\ttotal: 14.6s\tremaining: 12.8s\n",
      "320:\tlearn: 0.5632447\ttest: 0.5280574\tbest: 0.5310448 (318)\ttotal: 14.6s\tremaining: 12.7s\n",
      "321:\tlearn: 0.5632770\ttest: 0.5280574\tbest: 0.5310448 (318)\ttotal: 14.7s\tremaining: 12.7s\n",
      "322:\tlearn: 0.5632625\ttest: 0.5280574\tbest: 0.5310448 (318)\ttotal: 14.7s\tremaining: 12.6s\n",
      "323:\tlearn: 0.5641525\ttest: 0.5310448\tbest: 0.5310448 (318)\ttotal: 14.8s\tremaining: 12.6s\n",
      "324:\tlearn: 0.5649562\ttest: 0.5310448\tbest: 0.5310448 (318)\ttotal: 14.8s\tremaining: 12.5s\n",
      "325:\tlearn: 0.5642141\ttest: 0.5278260\tbest: 0.5310448 (318)\ttotal: 14.9s\tremaining: 12.5s\n",
      "326:\tlearn: 0.5642963\ttest: 0.5278260\tbest: 0.5310448 (318)\ttotal: 14.9s\tremaining: 12.4s\n",
      "327:\tlearn: 0.5641671\ttest: 0.5278260\tbest: 0.5310448 (318)\ttotal: 15s\tremaining: 12.4s\n",
      "328:\tlearn: 0.5650060\ttest: 0.5308144\tbest: 0.5310448 (318)\ttotal: 15s\tremaining: 12.4s\n",
      "329:\tlearn: 0.5649911\ttest: 0.5308144\tbest: 0.5310448 (318)\ttotal: 15.1s\tremaining: 12.3s\n",
      "330:\tlearn: 0.5652174\ttest: 0.5308144\tbest: 0.5310448 (318)\ttotal: 15.1s\tremaining: 12.3s\n",
      "331:\tlearn: 0.5653815\ttest: 0.5308144\tbest: 0.5310448 (318)\ttotal: 15.1s\tremaining: 12.2s\n",
      "332:\tlearn: 0.5652995\ttest: 0.5309836\tbest: 0.5310448 (318)\ttotal: 15.2s\tremaining: 12.2s\n",
      "333:\tlearn: 0.5647072\ttest: 0.5309836\tbest: 0.5310448 (318)\ttotal: 15.2s\tremaining: 12.1s\n",
      "334:\tlearn: 0.5644109\ttest: 0.5310448\tbest: 0.5310448 (318)\ttotal: 15.3s\tremaining: 12.1s\n",
      "335:\tlearn: 0.5632817\ttest: 0.5310448\tbest: 0.5310448 (318)\ttotal: 15.3s\tremaining: 12s\n",
      "336:\tlearn: 0.5632494\ttest: 0.5310448\tbest: 0.5310448 (318)\ttotal: 15.4s\tremaining: 12s\n",
      "337:\tlearn: 0.5632494\ttest: 0.5310448\tbest: 0.5310448 (318)\ttotal: 15.4s\tremaining: 11.9s\n",
      "338:\tlearn: 0.5636937\ttest: 0.5309225\tbest: 0.5310448 (318)\ttotal: 15.5s\tremaining: 11.9s\n",
      "339:\tlearn: 0.5630845\ttest: 0.5308614\tbest: 0.5310448 (318)\ttotal: 15.5s\tremaining: 11.9s\n",
      "340:\tlearn: 0.5630845\ttest: 0.5308614\tbest: 0.5310448 (318)\ttotal: 15.6s\tremaining: 11.8s\n",
      "341:\tlearn: 0.5631168\ttest: 0.5309225\tbest: 0.5310448 (318)\ttotal: 15.6s\tremaining: 11.8s\n",
      "342:\tlearn: 0.5643462\ttest: 0.5309225\tbest: 0.5310448 (318)\ttotal: 15.7s\tremaining: 11.7s\n",
      "343:\tlearn: 0.5643785\ttest: 0.5309225\tbest: 0.5310448 (318)\ttotal: 15.7s\tremaining: 11.7s\n",
      "344:\tlearn: 0.5642141\ttest: 0.5309225\tbest: 0.5310448 (318)\ttotal: 15.8s\tremaining: 11.6s\n",
      "345:\tlearn: 0.5645752\ttest: 0.5309225\tbest: 0.5310448 (318)\ttotal: 15.8s\tremaining: 11.6s\n",
      "346:\tlearn: 0.5645106\ttest: 0.5330270\tbest: 0.5330270 (346)\ttotal: 15.9s\tremaining: 11.6s\n",
      "347:\tlearn: 0.5645928\ttest: 0.5333027\tbest: 0.5333027 (347)\ttotal: 15.9s\tremaining: 11.5s\n",
      "348:\tlearn: 0.5640408\ttest: 0.5333027\tbest: 0.5333027 (347)\ttotal: 16s\tremaining: 11.5s\n",
      "349:\tlearn: 0.5648741\ttest: 0.5333027\tbest: 0.5333027 (347)\ttotal: 16s\tremaining: 11.4s\n",
      "350:\tlearn: 0.5648418\ttest: 0.5330422\tbest: 0.5333027 (347)\ttotal: 16s\tremaining: 11.4s\n",
      "351:\tlearn: 0.5652025\ttest: 0.5330422\tbest: 0.5333027 (347)\ttotal: 16.1s\tremaining: 11.3s\n",
      "352:\tlearn: 0.5652845\ttest: 0.5330422\tbest: 0.5333027 (347)\ttotal: 16.1s\tremaining: 11.3s\n",
      "353:\tlearn: 0.5653342\ttest: 0.5330422\tbest: 0.5333027 (347)\ttotal: 16.2s\tremaining: 11.2s\n",
      "354:\tlearn: 0.5653342\ttest: 0.5330422\tbest: 0.5333027 (347)\ttotal: 16.2s\tremaining: 11.2s\n",
      "355:\tlearn: 0.5656623\ttest: 0.5316601\tbest: 0.5333027 (347)\ttotal: 16.3s\tremaining: 11.1s\n",
      "356:\tlearn: 0.5620101\ttest: 0.5316601\tbest: 0.5333027 (347)\ttotal: 16.3s\tremaining: 11.1s\n",
      "357:\tlearn: 0.5620101\ttest: 0.5316601\tbest: 0.5333027 (347)\ttotal: 16.4s\tremaining: 11.1s\n",
      "358:\tlearn: 0.5621939\ttest: 0.5319222\tbest: 0.5333027 (347)\ttotal: 16.4s\tremaining: 11s\n",
      "359:\tlearn: 0.5620320\ttest: 0.5310734\tbest: 0.5333027 (347)\ttotal: 16.5s\tremaining: 11s\n",
      "360:\tlearn: 0.5622157\ttest: 0.5310734\tbest: 0.5333027 (347)\ttotal: 16.5s\tremaining: 10.9s\n",
      "361:\tlearn: 0.5625468\ttest: 0.5307346\tbest: 0.5333027 (347)\ttotal: 16.6s\tremaining: 10.9s\n",
      "362:\tlearn: 0.5632977\ttest: 0.5307346\tbest: 0.5333027 (347)\ttotal: 16.6s\tremaining: 10.8s\n",
      "363:\tlearn: 0.5638347\ttest: 0.5307346\tbest: 0.5333027 (347)\ttotal: 16.7s\tremaining: 10.8s\n",
      "364:\tlearn: 0.5640319\ttest: 0.5311816\tbest: 0.5333027 (347)\ttotal: 16.7s\tremaining: 10.8s\n",
      "365:\tlearn: 0.5630677\ttest: 0.5310122\tbest: 0.5333027 (347)\ttotal: 16.8s\tremaining: 10.7s\n",
      "366:\tlearn: 0.5631827\ttest: 0.5310122\tbest: 0.5333027 (347)\ttotal: 16.8s\tremaining: 10.7s\n",
      "367:\tlearn: 0.5633333\ttest: 0.5312896\tbest: 0.5333027 (347)\ttotal: 16.9s\tremaining: 10.6s\n",
      "368:\tlearn: 0.5634629\ttest: 0.5312896\tbest: 0.5333027 (347)\ttotal: 16.9s\tremaining: 10.6s\n",
      "369:\tlearn: 0.5635454\ttest: 0.5309510\tbest: 0.5333027 (347)\ttotal: 16.9s\tremaining: 10.5s\n",
      "370:\tlearn: 0.5633981\ttest: 0.5311203\tbest: 0.5333027 (347)\ttotal: 17s\tremaining: 10.5s\n",
      "371:\tlearn: 0.5634661\ttest: 0.5311203\tbest: 0.5333027 (347)\ttotal: 17s\tremaining: 10.4s\n",
      "372:\tlearn: 0.5636134\ttest: 0.5311203\tbest: 0.5333027 (347)\ttotal: 17.1s\tremaining: 10.4s\n",
      "373:\tlearn: 0.5636959\ttest: 0.5311203\tbest: 0.5333027 (347)\ttotal: 17.1s\tremaining: 10.3s\n",
      "374:\tlearn: 0.5635810\ttest: 0.5311203\tbest: 0.5333027 (347)\ttotal: 17.2s\tremaining: 10.3s\n",
      "375:\tlearn: 0.5637137\ttest: 0.5304428\tbest: 0.5333027 (347)\ttotal: 17.2s\tremaining: 10.2s\n",
      "376:\tlearn: 0.5637137\ttest: 0.5304428\tbest: 0.5333027 (347)\ttotal: 17.3s\tremaining: 10.2s\n",
      "377:\tlearn: 0.5638139\ttest: 0.5306122\tbest: 0.5333027 (347)\ttotal: 17.3s\tremaining: 10.2s\n",
      "378:\tlearn: 0.5638139\ttest: 0.5306122\tbest: 0.5333027 (347)\ttotal: 17.4s\tremaining: 10.1s\n",
      "379:\tlearn: 0.5638640\ttest: 0.5306122\tbest: 0.5333027 (347)\ttotal: 17.4s\tremaining: 10.1s\n",
      "380:\tlearn: 0.5638640\ttest: 0.5306122\tbest: 0.5333027 (347)\ttotal: 17.5s\tremaining: 10s\n",
      "381:\tlearn: 0.5640113\ttest: 0.5306122\tbest: 0.5333027 (347)\ttotal: 17.5s\tremaining: 9.99s\n",
      "382:\tlearn: 0.5644207\ttest: 0.5302733\tbest: 0.5333027 (347)\ttotal: 17.5s\tremaining: 9.94s\n",
      "383:\tlearn: 0.5643559\ttest: 0.5302733\tbest: 0.5333027 (347)\ttotal: 17.6s\tremaining: 9.9s\n",
      "384:\tlearn: 0.5643058\ttest: 0.5302733\tbest: 0.5333027 (347)\ttotal: 17.6s\tremaining: 9.85s\n",
      "385:\tlearn: 0.5645208\ttest: 0.5299342\tbest: 0.5333027 (347)\ttotal: 17.7s\tremaining: 9.8s\n",
      "386:\tlearn: 0.5644207\ttest: 0.5301038\tbest: 0.5333027 (347)\ttotal: 17.7s\tremaining: 9.75s\n",
      "387:\tlearn: 0.5652348\ttest: 0.5301038\tbest: 0.5333027 (347)\ttotal: 17.8s\tremaining: 9.7s\n",
      "388:\tlearn: 0.5652523\ttest: 0.5301038\tbest: 0.5333027 (347)\ttotal: 17.8s\tremaining: 9.66s\n",
      "389:\tlearn: 0.5653520\ttest: 0.5357265\tbest: 0.5357265 (389)\ttotal: 17.8s\tremaining: 9.61s\n",
      "390:\tlearn: 0.5656635\ttest: 0.5355601\tbest: 0.5357265 (389)\ttotal: 17.9s\tremaining: 9.56s\n",
      "391:\tlearn: 0.5656809\ttest: 0.5355601\tbest: 0.5357265 (389)\ttotal: 17.9s\tremaining: 9.52s\n",
      "392:\tlearn: 0.5653844\ttest: 0.5353042\tbest: 0.5357265 (389)\ttotal: 18s\tremaining: 9.47s\n",
      "393:\tlearn: 0.5653844\ttest: 0.5353042\tbest: 0.5357265 (389)\ttotal: 18s\tremaining: 9.42s\n",
      "394:\tlearn: 0.5656288\ttest: 0.5353042\tbest: 0.5357265 (389)\ttotal: 18.1s\tremaining: 9.38s\n",
      "395:\tlearn: 0.5659079\ttest: 0.5351985\tbest: 0.5357265 (389)\ttotal: 18.1s\tremaining: 9.33s\n",
      "396:\tlearn: 0.5658581\ttest: 0.5351985\tbest: 0.5357265 (389)\ttotal: 18.2s\tremaining: 9.29s\n",
      "397:\tlearn: 0.5653970\ttest: 0.5351985\tbest: 0.5357265 (389)\ttotal: 18.2s\tremaining: 9.25s\n",
      "398:\tlearn: 0.5654793\ttest: 0.5351985\tbest: 0.5357265 (389)\ttotal: 18.3s\tremaining: 9.2s\n",
      "399:\tlearn: 0.5658408\ttest: 0.5351985\tbest: 0.5357265 (389)\ttotal: 18.3s\tremaining: 9.16s\n",
      "400:\tlearn: 0.5656763\ttest: 0.5351985\tbest: 0.5357265 (389)\ttotal: 18.4s\tremaining: 9.11s\n",
      "401:\tlearn: 0.5658732\ttest: 0.5350318\tbest: 0.5357265 (389)\ttotal: 18.4s\tremaining: 9.07s\n",
      "402:\tlearn: 0.5670599\ttest: 0.5350318\tbest: 0.5357265 (389)\ttotal: 18.5s\tremaining: 9.02s\n",
      "403:\tlearn: 0.5670924\ttest: 0.5351985\tbest: 0.5357265 (389)\ttotal: 18.5s\tremaining: 8.98s\n",
      "404:\tlearn: 0.5670924\ttest: 0.5351985\tbest: 0.5357265 (389)\ttotal: 18.6s\tremaining: 8.93s\n",
      "405:\tlearn: 0.5673060\ttest: 0.5354259\tbest: 0.5357265 (389)\ttotal: 18.6s\tremaining: 8.88s\n",
      "406:\tlearn: 0.5672240\ttest: 0.5359254\tbest: 0.5359254 (406)\ttotal: 18.6s\tremaining: 8.84s\n",
      "407:\tlearn: 0.5673726\ttest: 0.5359254\tbest: 0.5359254 (406)\ttotal: 18.7s\tremaining: 8.79s\n",
      "408:\tlearn: 0.5674546\ttest: 0.5359254\tbest: 0.5359254 (406)\ttotal: 18.7s\tremaining: 8.75s\n",
      "409:\tlearn: 0.5677331\ttest: 0.5357590\tbest: 0.5359254 (406)\ttotal: 18.8s\tremaining: 8.71s\n",
      "410:\tlearn: 0.5681259\ttest: 0.5359700\tbest: 0.5359700 (410)\ttotal: 18.9s\tremaining: 8.67s\n",
      "411:\tlearn: 0.5679139\ttest: 0.5358036\tbest: 0.5359700 (410)\ttotal: 18.9s\tremaining: 8.62s\n",
      "412:\tlearn: 0.5681922\ttest: 0.5358036\tbest: 0.5359700 (410)\ttotal: 19s\tremaining: 8.58s\n",
      "413:\tlearn: 0.5684873\ttest: 0.5358036\tbest: 0.5359700 (410)\ttotal: 19s\tremaining: 8.54s\n",
      "414:\tlearn: 0.5685053\ttest: 0.5354707\tbest: 0.5359700 (410)\ttotal: 19.1s\tremaining: 8.49s\n",
      "415:\tlearn: 0.5683573\ttest: 0.5354707\tbest: 0.5359700 (410)\ttotal: 19.1s\tremaining: 8.45s\n",
      "416:\tlearn: 0.5669418\ttest: 0.5354707\tbest: 0.5359700 (410)\ttotal: 19.1s\tremaining: 8.4s\n",
      "417:\tlearn: 0.5669743\ttest: 0.5354707\tbest: 0.5359700 (410)\ttotal: 19.2s\tremaining: 8.35s\n",
      "418:\tlearn: 0.5670889\ttest: 0.5358482\tbest: 0.5359700 (410)\ttotal: 19.2s\tremaining: 8.3s\n",
      "419:\tlearn: 0.5676311\ttest: 0.5358482\tbest: 0.5359700 (410)\ttotal: 19.3s\tremaining: 8.26s\n",
      "420:\tlearn: 0.5675645\ttest: 0.5358482\tbest: 0.5359700 (410)\ttotal: 19.3s\tremaining: 8.21s\n",
      "421:\tlearn: 0.5678602\ttest: 0.5358482\tbest: 0.5359700 (410)\ttotal: 19.4s\tremaining: 8.17s\n",
      "422:\tlearn: 0.5680243\ttest: 0.5356818\tbest: 0.5359700 (410)\ttotal: 19.4s\tremaining: 8.12s\n",
      "423:\tlearn: 0.5678758\ttest: 0.5356818\tbest: 0.5359700 (410)\ttotal: 19.5s\tremaining: 8.08s\n",
      "424:\tlearn: 0.5680073\ttest: 0.5356371\tbest: 0.5359700 (410)\ttotal: 19.5s\tremaining: 8.03s\n",
      "425:\tlearn: 0.5677952\ttest: 0.5358036\tbest: 0.5359700 (410)\ttotal: 19.6s\tremaining: 7.99s\n",
      "426:\tlearn: 0.5680060\ttest: 0.5360591\tbest: 0.5360591 (426)\ttotal: 19.6s\tremaining: 7.94s\n",
      "427:\tlearn: 0.5680711\ttest: 0.5360591\tbest: 0.5360591 (426)\ttotal: 19.7s\tremaining: 7.9s\n",
      "428:\tlearn: 0.5681532\ttest: 0.5360591\tbest: 0.5360591 (426)\ttotal: 19.7s\tremaining: 7.85s\n",
      "429:\tlearn: 0.5676606\ttest: 0.5361199\tbest: 0.5361199 (429)\ttotal: 19.7s\tremaining: 7.81s\n",
      "430:\tlearn: 0.5677752\ttest: 0.5361199\tbest: 0.5361199 (429)\ttotal: 19.8s\tremaining: 7.76s\n",
      "431:\tlearn: 0.5676590\ttest: 0.5358645\tbest: 0.5361199 (429)\ttotal: 19.8s\tremaining: 7.72s\n",
      "432:\tlearn: 0.5676590\ttest: 0.5358645\tbest: 0.5361199 (429)\ttotal: 19.9s\tremaining: 7.67s\n",
      "433:\tlearn: 0.5676590\ttest: 0.5358645\tbest: 0.5361199 (429)\ttotal: 19.9s\tremaining: 7.63s\n",
      "434:\tlearn: 0.5677412\ttest: 0.5358645\tbest: 0.5361199 (429)\ttotal: 20s\tremaining: 7.58s\n",
      "435:\tlearn: 0.5678233\ttest: 0.5354259\tbest: 0.5361199 (429)\ttotal: 20s\tremaining: 7.54s\n",
      "436:\tlearn: 0.5680697\ttest: 0.5354259\tbest: 0.5361199 (429)\ttotal: 20.1s\tremaining: 7.49s\n",
      "437:\tlearn: 0.5675102\ttest: 0.5354259\tbest: 0.5361199 (429)\ttotal: 20.1s\tremaining: 7.44s\n",
      "438:\tlearn: 0.5676420\ttest: 0.5354259\tbest: 0.5361199 (429)\ttotal: 20.2s\tremaining: 7.4s\n",
      "439:\tlearn: 0.5673938\ttest: 0.5354259\tbest: 0.5361199 (429)\ttotal: 20.2s\tremaining: 7.35s\n",
      "440:\tlearn: 0.5674760\ttest: 0.5354259\tbest: 0.5361199 (429)\ttotal: 20.3s\tremaining: 7.31s\n",
      "441:\tlearn: 0.5677879\ttest: 0.5354259\tbest: 0.5361199 (429)\ttotal: 20.3s\tremaining: 7.26s\n",
      "442:\tlearn: 0.5679041\ttest: 0.5354259\tbest: 0.5361199 (429)\ttotal: 20.3s\tremaining: 7.21s\n",
      "443:\tlearn: 0.5682653\ttest: 0.5354993\tbest: 0.5361199 (429)\ttotal: 20.4s\tremaining: 7.16s\n",
      "444:\tlearn: 0.5684790\ttest: 0.5354993\tbest: 0.5361199 (429)\ttotal: 20.4s\tremaining: 7.12s\n",
      "445:\tlearn: 0.5695304\ttest: 0.5355154\tbest: 0.5361199 (429)\ttotal: 20.5s\tremaining: 7.07s\n",
      "446:\tlearn: 0.5695470\ttest: 0.5355154\tbest: 0.5361199 (429)\ttotal: 20.5s\tremaining: 7.03s\n",
      "447:\tlearn: 0.5696290\ttest: 0.5355154\tbest: 0.5361199 (429)\ttotal: 20.6s\tremaining: 6.98s\n",
      "448:\tlearn: 0.5697109\ttest: 0.5355154\tbest: 0.5361199 (429)\ttotal: 20.6s\tremaining: 6.94s\n",
      "449:\tlearn: 0.5697601\ttest: 0.5354993\tbest: 0.5361199 (429)\ttotal: 20.7s\tremaining: 6.89s\n",
      "450:\tlearn: 0.5696949\ttest: 0.5355154\tbest: 0.5361199 (429)\ttotal: 20.7s\tremaining: 6.85s\n",
      "451:\tlearn: 0.5696949\ttest: 0.5355154\tbest: 0.5361199 (429)\ttotal: 20.8s\tremaining: 6.8s\n",
      "452:\tlearn: 0.5698100\ttest: 0.5352593\tbest: 0.5361199 (429)\ttotal: 20.8s\tremaining: 6.76s\n",
      "453:\tlearn: 0.5692519\ttest: 0.5352593\tbest: 0.5361199 (429)\ttotal: 20.9s\tremaining: 6.71s\n",
      "454:\tlearn: 0.5693339\ttest: 0.5352593\tbest: 0.5361199 (429)\ttotal: 20.9s\tremaining: 6.67s\n",
      "455:\tlearn: 0.5694818\ttest: 0.5352593\tbest: 0.5361199 (429)\ttotal: 21s\tremaining: 6.62s\n",
      "456:\tlearn: 0.5694985\ttest: 0.5353202\tbest: 0.5361199 (429)\ttotal: 21s\tremaining: 6.58s\n",
      "457:\tlearn: 0.5693506\ttest: 0.5354868\tbest: 0.5361199 (429)\ttotal: 21.1s\tremaining: 6.53s\n",
      "458:\tlearn: 0.5692361\ttest: 0.5353202\tbest: 0.5361199 (429)\ttotal: 21.1s\tremaining: 6.49s\n",
      "459:\tlearn: 0.5692687\ttest: 0.5353202\tbest: 0.5361199 (429)\ttotal: 21.2s\tremaining: 6.45s\n",
      "460:\tlearn: 0.5693013\ttest: 0.5353202\tbest: 0.5361199 (429)\ttotal: 21.2s\tremaining: 6.4s\n",
      "461:\tlearn: 0.5687737\ttest: 0.5353202\tbest: 0.5361199 (429)\ttotal: 21.3s\tremaining: 6.36s\n",
      "462:\tlearn: 0.5687894\ttest: 0.5353202\tbest: 0.5361199 (429)\ttotal: 21.3s\tremaining: 6.31s\n",
      "463:\tlearn: 0.5698254\ttest: 0.5352593\tbest: 0.5361199 (429)\ttotal: 21.4s\tremaining: 6.26s\n",
      "464:\tlearn: 0.5686747\ttest: 0.5354259\tbest: 0.5361199 (429)\ttotal: 21.4s\tremaining: 6.22s\n",
      "465:\tlearn: 0.5688389\ttest: 0.5352593\tbest: 0.5361199 (429)\ttotal: 21.5s\tremaining: 6.18s\n",
      "466:\tlearn: 0.5699559\ttest: 0.5354259\tbest: 0.5361199 (429)\ttotal: 21.5s\tremaining: 6.13s\n",
      "467:\tlearn: 0.5697595\ttest: 0.5350927\tbest: 0.5361199 (429)\ttotal: 21.6s\tremaining: 6.09s\n",
      "468:\tlearn: 0.5700052\ttest: 0.5354259\tbest: 0.5361199 (429)\ttotal: 21.6s\tremaining: 6.04s\n",
      "469:\tlearn: 0.5700052\ttest: 0.5354259\tbest: 0.5361199 (429)\ttotal: 21.7s\tremaining: 6s\n",
      "470:\tlearn: 0.5699233\ttest: 0.5348361\tbest: 0.5361199 (429)\ttotal: 21.7s\tremaining: 5.95s\n",
      "471:\tlearn: 0.5698414\ttest: 0.5348361\tbest: 0.5361199 (429)\ttotal: 21.8s\tremaining: 5.9s\n",
      "472:\tlearn: 0.5696449\ttest: 0.5348361\tbest: 0.5361199 (429)\ttotal: 21.8s\tremaining: 5.86s\n",
      "473:\tlearn: 0.5687568\ttest: 0.5348361\tbest: 0.5361199 (429)\ttotal: 21.9s\tremaining: 5.81s\n",
      "474:\tlearn: 0.5698580\ttest: 0.5348361\tbest: 0.5361199 (429)\ttotal: 21.9s\tremaining: 5.76s\n",
      "475:\tlearn: 0.5699885\ttest: 0.5348361\tbest: 0.5361199 (429)\ttotal: 22s\tremaining: 5.72s\n",
      "476:\tlearn: 0.5699885\ttest: 0.5348361\tbest: 0.5361199 (429)\ttotal: 22s\tremaining: 5.68s\n",
      "477:\tlearn: 0.5699885\ttest: 0.5347752\tbest: 0.5361199 (429)\ttotal: 22.1s\tremaining: 5.63s\n",
      "478:\tlearn: 0.5709051\ttest: 0.5347435\tbest: 0.5361199 (429)\ttotal: 22.1s\tremaining: 5.59s\n",
      "479:\tlearn: 0.5706105\ttest: 0.5347435\tbest: 0.5361199 (429)\ttotal: 22.2s\tremaining: 5.55s\n",
      "480:\tlearn: 0.5707415\ttest: 0.5347435\tbest: 0.5361199 (429)\ttotal: 22.3s\tremaining: 5.5s\n",
      "481:\tlearn: 0.5708725\ttest: 0.5347435\tbest: 0.5361199 (429)\ttotal: 22.3s\tremaining: 5.46s\n",
      "482:\tlearn: 0.5712814\ttest: 0.5347435\tbest: 0.5361199 (429)\ttotal: 22.4s\tremaining: 5.42s\n",
      "483:\tlearn: 0.5712323\ttest: 0.5347435\tbest: 0.5361199 (429)\ttotal: 22.5s\tremaining: 5.38s\n",
      "484:\tlearn: 0.5714449\ttest: 0.5347435\tbest: 0.5361199 (429)\ttotal: 22.5s\tremaining: 5.33s\n",
      "485:\tlearn: 0.5714449\ttest: 0.5347435\tbest: 0.5361199 (429)\ttotal: 22.6s\tremaining: 5.29s\n",
      "486:\tlearn: 0.5713468\ttest: 0.5347435\tbest: 0.5361199 (429)\ttotal: 22.6s\tremaining: 5.24s\n",
      "487:\tlearn: 0.5712159\ttest: 0.5345318\tbest: 0.5361199 (429)\ttotal: 22.7s\tremaining: 5.2s\n",
      "488:\tlearn: 0.5712159\ttest: 0.5345318\tbest: 0.5361199 (429)\ttotal: 22.7s\tremaining: 5.15s\n",
      "489:\tlearn: 0.5718866\ttest: 0.5345318\tbest: 0.5361199 (429)\ttotal: 22.7s\tremaining: 5.11s\n",
      "490:\tlearn: 0.5718376\ttest: 0.5345318\tbest: 0.5361199 (429)\ttotal: 22.8s\tremaining: 5.06s\n",
      "491:\tlearn: 0.5716903\ttest: 0.5346827\tbest: 0.5361199 (429)\ttotal: 22.8s\tremaining: 5.01s\n",
      "492:\tlearn: 0.5716249\ttest: 0.5346827\tbest: 0.5361199 (429)\ttotal: 22.9s\tremaining: 4.97s\n",
      "493:\tlearn: 0.5715431\ttest: 0.5346827\tbest: 0.5361199 (429)\ttotal: 22.9s\tremaining: 4.92s\n",
      "494:\tlearn: 0.5719354\ttest: 0.5344710\tbest: 0.5361199 (429)\ttotal: 23s\tremaining: 4.88s\n",
      "495:\tlearn: 0.5719844\ttest: 0.5344710\tbest: 0.5361199 (429)\ttotal: 23s\tremaining: 4.83s\n",
      "496:\tlearn: 0.5716576\ttest: 0.5344710\tbest: 0.5361199 (429)\ttotal: 23.1s\tremaining: 4.78s\n",
      "497:\tlearn: 0.5713795\ttest: 0.5346535\tbest: 0.5361199 (429)\ttotal: 23.1s\tremaining: 4.74s\n",
      "498:\tlearn: 0.5713631\ttest: 0.5347594\tbest: 0.5361199 (429)\ttotal: 23.2s\tremaining: 4.69s\n",
      "499:\tlearn: 0.5716413\ttest: 0.5347594\tbest: 0.5361199 (429)\ttotal: 23.2s\tremaining: 4.64s\n",
      "500:\tlearn: 0.5716576\ttest: 0.5346985\tbest: 0.5361199 (429)\ttotal: 23.3s\tremaining: 4.6s\n",
      "501:\tlearn: 0.5717231\ttest: 0.5346985\tbest: 0.5361199 (429)\ttotal: 23.3s\tremaining: 4.56s\n",
      "502:\tlearn: 0.5718541\ttest: 0.5346985\tbest: 0.5361199 (429)\ttotal: 23.4s\tremaining: 4.51s\n",
      "503:\tlearn: 0.5718213\ttest: 0.5346985\tbest: 0.5361199 (429)\ttotal: 23.4s\tremaining: 4.46s\n",
      "504:\tlearn: 0.5717886\ttest: 0.5345318\tbest: 0.5361199 (429)\ttotal: 23.5s\tremaining: 4.42s\n",
      "505:\tlearn: 0.5721322\ttest: 0.5346985\tbest: 0.5361199 (429)\ttotal: 23.5s\tremaining: 4.37s\n",
      "506:\tlearn: 0.5720994\ttest: 0.5343650\tbest: 0.5361199 (429)\ttotal: 23.6s\tremaining: 4.33s\n",
      "507:\tlearn: 0.5721812\ttest: 0.5343650\tbest: 0.5361199 (429)\ttotal: 23.6s\tremaining: 4.28s\n",
      "508:\tlearn: 0.5721484\ttest: 0.5345318\tbest: 0.5361199 (429)\ttotal: 23.7s\tremaining: 4.24s\n",
      "509:\tlearn: 0.5721484\ttest: 0.5345318\tbest: 0.5361199 (429)\ttotal: 23.8s\tremaining: 4.19s\n",
      "510:\tlearn: 0.5722302\ttest: 0.5345318\tbest: 0.5361199 (429)\ttotal: 23.8s\tremaining: 4.15s\n",
      "511:\tlearn: 0.5723119\ttest: 0.5344710\tbest: 0.5361199 (429)\ttotal: 23.9s\tremaining: 4.1s\n",
      "512:\tlearn: 0.5722464\ttest: 0.5341375\tbest: 0.5361199 (429)\ttotal: 23.9s\tremaining: 4.06s\n",
      "513:\tlearn: 0.5722464\ttest: 0.5346377\tbest: 0.5361199 (429)\ttotal: 24s\tremaining: 4.01s\n",
      "514:\tlearn: 0.5723771\ttest: 0.5343042\tbest: 0.5361199 (429)\ttotal: 24s\tremaining: 3.96s\n",
      "515:\tlearn: 0.5723443\ttest: 0.5341375\tbest: 0.5361199 (429)\ttotal: 24.1s\tremaining: 3.92s\n",
      "516:\tlearn: 0.5723443\ttest: 0.5341375\tbest: 0.5361199 (429)\ttotal: 24.1s\tremaining: 3.87s\n",
      "517:\tlearn: 0.5722626\ttest: 0.5341375\tbest: 0.5361199 (429)\ttotal: 24.2s\tremaining: 3.82s\n",
      "518:\tlearn: 0.5723116\ttest: 0.5341375\tbest: 0.5361199 (429)\ttotal: 24.2s\tremaining: 3.78s\n",
      "519:\tlearn: 0.5723116\ttest: 0.5343042\tbest: 0.5361199 (429)\ttotal: 24.2s\tremaining: 3.73s\n",
      "520:\tlearn: 0.5725239\ttest: 0.5343042\tbest: 0.5361199 (429)\ttotal: 24.3s\tremaining: 3.68s\n",
      "521:\tlearn: 0.5728005\ttest: 0.5343042\tbest: 0.5361199 (429)\ttotal: 24.4s\tremaining: 3.64s\n",
      "522:\tlearn: 0.5728005\ttest: 0.5343042\tbest: 0.5361199 (429)\ttotal: 24.4s\tremaining: 3.59s\n",
      "523:\tlearn: 0.5728005\ttest: 0.5343042\tbest: 0.5361199 (429)\ttotal: 24.4s\tremaining: 3.54s\n",
      "524:\tlearn: 0.5728005\ttest: 0.5343042\tbest: 0.5361199 (429)\ttotal: 24.5s\tremaining: 3.5s\n",
      "525:\tlearn: 0.5728166\ttest: 0.5345161\tbest: 0.5361199 (429)\ttotal: 24.5s\tremaining: 3.45s\n",
      "526:\tlearn: 0.5728166\ttest: 0.5345161\tbest: 0.5361199 (429)\ttotal: 24.6s\tremaining: 3.4s\n",
      "527:\tlearn: 0.5727839\ttest: 0.5345161\tbest: 0.5361199 (429)\ttotal: 24.6s\tremaining: 3.36s\n",
      "528:\tlearn: 0.5726369\ttest: 0.5344710\tbest: 0.5361199 (429)\ttotal: 24.7s\tremaining: 3.31s\n",
      "529:\tlearn: 0.5725880\ttest: 0.5343042\tbest: 0.5361199 (429)\ttotal: 24.7s\tremaining: 3.27s\n",
      "530:\tlearn: 0.5729137\ttest: 0.5343042\tbest: 0.5361199 (429)\ttotal: 24.8s\tremaining: 3.22s\n",
      "531:\tlearn: 0.5730279\ttest: 0.5339706\tbest: 0.5361199 (429)\ttotal: 24.8s\tremaining: 3.17s\n",
      "532:\tlearn: 0.5730292\ttest: 0.5339706\tbest: 0.5361199 (429)\ttotal: 24.9s\tremaining: 3.13s\n",
      "533:\tlearn: 0.5734354\ttest: 0.5341375\tbest: 0.5361199 (429)\ttotal: 24.9s\tremaining: 3.08s\n",
      "534:\tlearn: 0.5735009\ttest: 0.5341375\tbest: 0.5361199 (429)\ttotal: 25s\tremaining: 3.03s\n",
      "535:\tlearn: 0.5735496\ttest: 0.5343494\tbest: 0.5361199 (429)\ttotal: 25s\tremaining: 2.99s\n",
      "536:\tlearn: 0.5737452\ttest: 0.5343042\tbest: 0.5361199 (429)\ttotal: 25.1s\tremaining: 2.94s\n",
      "537:\tlearn: 0.5737125\ttest: 0.5342435\tbest: 0.5361199 (429)\ttotal: 25.1s\tremaining: 2.9s\n",
      "538:\tlearn: 0.5740868\ttest: 0.5345004\tbest: 0.5361199 (429)\ttotal: 25.2s\tremaining: 2.85s\n",
      "539:\tlearn: 0.5743964\ttest: 0.5345004\tbest: 0.5361199 (429)\ttotal: 25.2s\tremaining: 2.8s\n",
      "540:\tlearn: 0.5741703\ttest: 0.5345612\tbest: 0.5361199 (429)\ttotal: 25.3s\tremaining: 2.76s\n",
      "541:\tlearn: 0.5751597\ttest: 0.5344553\tbest: 0.5361199 (429)\ttotal: 25.3s\tremaining: 2.71s\n",
      "542:\tlearn: 0.5752409\ttest: 0.5344553\tbest: 0.5361199 (429)\ttotal: 25.4s\tremaining: 2.66s\n",
      "543:\tlearn: 0.5752409\ttest: 0.5344553\tbest: 0.5361199 (429)\ttotal: 25.4s\tremaining: 2.62s\n",
      "544:\tlearn: 0.5752894\ttest: 0.5342886\tbest: 0.5361199 (429)\ttotal: 25.5s\tremaining: 2.57s\n",
      "545:\tlearn: 0.5754362\ttest: 0.5342886\tbest: 0.5361199 (429)\ttotal: 25.5s\tremaining: 2.52s\n",
      "546:\tlearn: 0.5755330\ttest: 0.5342730\tbest: 0.5361199 (429)\ttotal: 25.6s\tremaining: 2.48s\n",
      "547:\tlearn: 0.5757921\ttest: 0.5339397\tbest: 0.5361199 (429)\ttotal: 25.6s\tremaining: 2.43s\n",
      "548:\tlearn: 0.5760027\ttest: 0.5342730\tbest: 0.5361199 (429)\ttotal: 25.7s\tremaining: 2.38s\n",
      "549:\tlearn: 0.5759699\ttest: 0.5342730\tbest: 0.5361199 (429)\ttotal: 25.7s\tremaining: 2.34s\n",
      "550:\tlearn: 0.5758405\ttest: 0.5339552\tbest: 0.5361199 (429)\ttotal: 25.8s\tremaining: 2.29s\n",
      "551:\tlearn: 0.5757593\ttest: 0.5339552\tbest: 0.5361199 (429)\ttotal: 25.8s\tremaining: 2.24s\n",
      "552:\tlearn: 0.5757109\ttest: 0.5339552\tbest: 0.5361199 (429)\ttotal: 25.9s\tremaining: 2.2s\n",
      "553:\tlearn: 0.5757593\ttest: 0.5339552\tbest: 0.5361199 (429)\ttotal: 25.9s\tremaining: 2.15s\n",
      "554:\tlearn: 0.5758733\ttest: 0.5339552\tbest: 0.5361199 (429)\ttotal: 26s\tremaining: 2.1s\n",
      "555:\tlearn: 0.5759216\ttest: 0.5339397\tbest: 0.5361199 (429)\ttotal: 26s\tremaining: 2.06s\n",
      "556:\tlearn: 0.5760356\ttest: 0.5336823\tbest: 0.5361199 (429)\ttotal: 26s\tremaining: 2.01s\n",
      "557:\tlearn: 0.5760684\ttest: 0.5336823\tbest: 0.5361199 (429)\ttotal: 26.1s\tremaining: 1.96s\n",
      "558:\tlearn: 0.5763446\ttest: 0.5336823\tbest: 0.5361199 (429)\ttotal: 26.1s\tremaining: 1.92s\n",
      "559:\tlearn: 0.5762152\ttest: 0.5340767\tbest: 0.5361199 (429)\ttotal: 26.2s\tremaining: 1.87s\n",
      "560:\tlearn: 0.5762152\ttest: 0.5340767\tbest: 0.5361199 (429)\ttotal: 26.2s\tremaining: 1.82s\n",
      "561:\tlearn: 0.5762480\ttest: 0.5336823\tbest: 0.5361199 (429)\ttotal: 26.3s\tremaining: 1.78s\n",
      "562:\tlearn: 0.5764257\ttest: 0.5336823\tbest: 0.5361199 (429)\ttotal: 26.3s\tremaining: 1.73s\n",
      "563:\tlearn: 0.5765396\ttest: 0.5336823\tbest: 0.5361199 (429)\ttotal: 26.4s\tremaining: 1.68s\n",
      "564:\tlearn: 0.5768486\ttest: 0.5338645\tbest: 0.5361199 (429)\ttotal: 26.4s\tremaining: 1.64s\n",
      "565:\tlearn: 0.5768157\ttest: 0.5338645\tbest: 0.5361199 (429)\ttotal: 26.5s\tremaining: 1.59s\n",
      "566:\tlearn: 0.5767018\ttest: 0.5338645\tbest: 0.5361199 (429)\ttotal: 26.5s\tremaining: 1.54s\n",
      "567:\tlearn: 0.5767018\ttest: 0.5338645\tbest: 0.5361199 (429)\ttotal: 26.6s\tremaining: 1.5s\n",
      "568:\tlearn: 0.5766053\ttest: 0.5339253\tbest: 0.5361199 (429)\ttotal: 26.6s\tremaining: 1.45s\n",
      "569:\tlearn: 0.5766864\ttest: 0.5339253\tbest: 0.5361199 (429)\ttotal: 26.7s\tremaining: 1.4s\n",
      "570:\tlearn: 0.5767193\ttest: 0.5338645\tbest: 0.5361199 (429)\ttotal: 26.7s\tremaining: 1.36s\n",
      "571:\tlearn: 0.5765571\ttest: 0.5338645\tbest: 0.5361199 (429)\ttotal: 26.8s\tremaining: 1.31s\n",
      "572:\tlearn: 0.5765571\ttest: 0.5338645\tbest: 0.5361199 (429)\ttotal: 26.8s\tremaining: 1.26s\n",
      "573:\tlearn: 0.5765571\ttest: 0.5338645\tbest: 0.5361199 (429)\ttotal: 26.9s\tremaining: 1.22s\n",
      "574:\tlearn: 0.5762963\ttest: 0.5338645\tbest: 0.5361199 (429)\ttotal: 26.9s\tremaining: 1.17s\n",
      "575:\tlearn: 0.5758595\ttest: 0.5339861\tbest: 0.5361199 (429)\ttotal: 27s\tremaining: 1.12s\n",
      "576:\tlearn: 0.5761669\ttest: 0.5339861\tbest: 0.5361199 (429)\ttotal: 27s\tremaining: 1.08s\n",
      "577:\tlearn: 0.5761669\ttest: 0.5339861\tbest: 0.5361199 (429)\ttotal: 27.1s\tremaining: 1.03s\n",
      "578:\tlearn: 0.5760529\ttest: 0.5339861\tbest: 0.5361199 (429)\ttotal: 27.1s\tremaining: 983ms\n",
      "579:\tlearn: 0.5759717\ttest: 0.5339861\tbest: 0.5361199 (429)\ttotal: 27.2s\tremaining: 937ms\n",
      "580:\tlearn: 0.5759717\ttest: 0.5339861\tbest: 0.5361199 (429)\ttotal: 27.2s\tremaining: 890ms\n",
      "581:\tlearn: 0.5760857\ttest: 0.5339861\tbest: 0.5361199 (429)\ttotal: 27.3s\tremaining: 844ms\n",
      "582:\tlearn: 0.5757161\ttest: 0.5338192\tbest: 0.5361199 (429)\ttotal: 27.3s\tremaining: 797ms\n",
      "583:\tlearn: 0.5759927\ttest: 0.5347435\tbest: 0.5361199 (429)\ttotal: 27.4s\tremaining: 750ms\n",
      "584:\tlearn: 0.5759772\ttest: 0.5346377\tbest: 0.5361199 (429)\ttotal: 27.4s\tremaining: 704ms\n",
      "585:\tlearn: 0.5758941\ttest: 0.5346377\tbest: 0.5361199 (429)\ttotal: 27.5s\tremaining: 657ms\n",
      "586:\tlearn: 0.5759754\ttest: 0.5346377\tbest: 0.5361199 (429)\ttotal: 27.5s\tremaining: 610ms\n",
      "587:\tlearn: 0.5756988\ttest: 0.5346377\tbest: 0.5361199 (429)\ttotal: 27.6s\tremaining: 563ms\n",
      "588:\tlearn: 0.5759425\ttest: 0.5344710\tbest: 0.5361199 (429)\ttotal: 27.6s\tremaining: 516ms\n",
      "589:\tlearn: 0.5761049\ttest: 0.5344710\tbest: 0.5361199 (429)\ttotal: 27.7s\tremaining: 469ms\n",
      "590:\tlearn: 0.5761049\ttest: 0.5344710\tbest: 0.5361199 (429)\ttotal: 27.7s\tremaining: 422ms\n",
      "591:\tlearn: 0.5762016\ttest: 0.5346062\tbest: 0.5361199 (429)\ttotal: 27.8s\tremaining: 376ms\n",
      "592:\tlearn: 0.5761223\ttest: 0.5344710\tbest: 0.5361199 (429)\ttotal: 27.8s\tremaining: 329ms\n",
      "593:\tlearn: 0.5764297\ttest: 0.5346062\tbest: 0.5361199 (429)\ttotal: 27.9s\tremaining: 282ms\n",
      "594:\tlearn: 0.5766249\ttest: 0.5346062\tbest: 0.5361199 (429)\ttotal: 27.9s\tremaining: 235ms\n",
      "595:\tlearn: 0.5761861\ttest: 0.5344710\tbest: 0.5361199 (429)\ttotal: 28s\tremaining: 188ms\n",
      "596:\tlearn: 0.5761861\ttest: 0.5344710\tbest: 0.5361199 (429)\ttotal: 28s\tremaining: 141ms\n",
      "597:\tlearn: 0.5761049\ttest: 0.5344102\tbest: 0.5361199 (429)\ttotal: 28.1s\tremaining: 93.9ms\n",
      "598:\tlearn: 0.5768025\ttest: 0.5344710\tbest: 0.5361199 (429)\ttotal: 28.1s\tremaining: 47ms\n",
      "599:\tlearn: 0.5767871\ttest: 0.5346377\tbest: 0.5361199 (429)\ttotal: 28.2s\tremaining: 0us\n",
      "\n",
      "bestTest = 0.5361199455\n",
      "bestIteration = 429\n",
      "\n",
      "Training on fold [2/3]\n",
      "0:\tlearn: 0.3831211\ttest: 0.3985560\tbest: 0.3985560 (0)\ttotal: 48.9ms\tremaining: 29.3s\n",
      "1:\tlearn: 0.3870407\ttest: 0.3985560\tbest: 0.3985560 (0)\ttotal: 81ms\tremaining: 24.2s\n",
      "2:\tlearn: 0.4356166\ttest: 0.4473791\tbest: 0.4473791 (2)\ttotal: 117ms\tremaining: 23.2s\n",
      "3:\tlearn: 0.4271576\ttest: 0.4404827\tbest: 0.4473791 (2)\ttotal: 146ms\tremaining: 21.7s\n",
      "4:\tlearn: 0.4392504\ttest: 0.4447782\tbest: 0.4473791 (2)\ttotal: 183ms\tremaining: 21.7s\n",
      "5:\tlearn: 0.4411645\ttest: 0.4447782\tbest: 0.4473791 (2)\ttotal: 226ms\tremaining: 22.3s\n",
      "6:\tlearn: 0.4618117\ttest: 0.4707737\tbest: 0.4707737 (6)\ttotal: 259ms\tremaining: 21.9s\n",
      "7:\tlearn: 0.4616093\ttest: 0.4707737\tbest: 0.4707737 (6)\ttotal: 303ms\tremaining: 22.4s\n",
      "8:\tlearn: 0.4571429\ttest: 0.4631327\tbest: 0.4707737 (6)\ttotal: 343ms\tremaining: 22.5s\n",
      "9:\tlearn: 0.4614777\ttest: 0.4707737\tbest: 0.4707737 (6)\ttotal: 382ms\tremaining: 22.5s\n",
      "10:\tlearn: 0.4603101\ttest: 0.4688819\tbest: 0.4707737 (6)\ttotal: 418ms\tremaining: 22.4s\n",
      "11:\tlearn: 0.4611839\ttest: 0.4706346\tbest: 0.4707737 (6)\ttotal: 455ms\tremaining: 22.3s\n",
      "12:\tlearn: 0.4610913\ttest: 0.4681356\tbest: 0.4707737 (6)\ttotal: 500ms\tremaining: 22.6s\n",
      "13:\tlearn: 0.4618532\ttest: 0.4690219\tbest: 0.4707737 (6)\ttotal: 534ms\tremaining: 22.3s\n",
      "14:\tlearn: 0.4632783\ttest: 0.4722259\tbest: 0.4722259 (14)\ttotal: 567ms\tremaining: 22.1s\n",
      "15:\tlearn: 0.4630788\ttest: 0.4694415\tbest: 0.4722259 (14)\ttotal: 605ms\tremaining: 22.1s\n",
      "16:\tlearn: 0.4631301\ttest: 0.4701856\tbest: 0.4722259 (14)\ttotal: 640ms\tremaining: 22s\n",
      "17:\tlearn: 0.4630191\ttest: 0.4701856\tbest: 0.4722259 (14)\ttotal: 675ms\tremaining: 21.8s\n",
      "18:\tlearn: 0.4630094\ttest: 0.4689601\tbest: 0.4722259 (14)\ttotal: 707ms\tremaining: 21.6s\n",
      "19:\tlearn: 0.4634645\ttest: 0.4697209\tbest: 0.4722259 (14)\ttotal: 742ms\tremaining: 21.5s\n",
      "20:\tlearn: 0.4653758\ttest: 0.4734084\tbest: 0.4734084 (20)\ttotal: 775ms\tremaining: 21.4s\n",
      "21:\tlearn: 0.4704654\ttest: 0.4782439\tbest: 0.4782439 (21)\ttotal: 811ms\tremaining: 21.3s\n",
      "22:\tlearn: 0.4716391\ttest: 0.4790450\tbest: 0.4790450 (22)\ttotal: 845ms\tremaining: 21.2s\n",
      "23:\tlearn: 0.4730161\ttest: 0.4802589\tbest: 0.4802589 (23)\ttotal: 878ms\tremaining: 21.1s\n",
      "24:\tlearn: 0.4737184\ttest: 0.4804556\tbest: 0.4804556 (24)\ttotal: 912ms\tremaining: 21s\n",
      "25:\tlearn: 0.4739787\ttest: 0.4798653\tbest: 0.4804556 (24)\ttotal: 957ms\tremaining: 21.1s\n",
      "26:\tlearn: 0.4743581\ttest: 0.4800000\tbest: 0.4804556 (24)\ttotal: 1s\tremaining: 21.2s\n",
      "27:\tlearn: 0.4758567\ttest: 0.4800207\tbest: 0.4804556 (24)\ttotal: 1.03s\tremaining: 21.2s\n",
      "28:\tlearn: 0.4769011\ttest: 0.4804657\tbest: 0.4804657 (28)\ttotal: 1.07s\tremaining: 21.1s\n",
      "29:\tlearn: 0.4829403\ttest: 0.4857947\tbest: 0.4857947 (29)\ttotal: 1.1s\tremaining: 21s\n",
      "30:\tlearn: 0.4831706\ttest: 0.4859885\tbest: 0.4859885 (30)\ttotal: 1.12s\tremaining: 20.5s\n",
      "31:\tlearn: 0.4835955\ttest: 0.4859885\tbest: 0.4859885 (30)\ttotal: 1.16s\tremaining: 20.6s\n",
      "32:\tlearn: 0.4843740\ttest: 0.4861822\tbest: 0.4861822 (32)\ttotal: 1.19s\tremaining: 20.5s\n",
      "33:\tlearn: 0.4847708\ttest: 0.4861822\tbest: 0.4861822 (32)\ttotal: 1.23s\tremaining: 20.4s\n",
      "34:\tlearn: 0.4852215\ttest: 0.4861200\tbest: 0.4861822 (32)\ttotal: 1.26s\tremaining: 20.4s\n",
      "35:\tlearn: 0.4852215\ttest: 0.4861200\tbest: 0.4861822 (32)\ttotal: 1.28s\tremaining: 20.1s\n",
      "36:\tlearn: 0.4849885\ttest: 0.4861200\tbest: 0.4861822 (32)\ttotal: 1.3s\tremaining: 19.8s\n",
      "37:\tlearn: 0.4856832\ttest: 0.4868320\tbest: 0.4868320 (37)\ttotal: 1.34s\tremaining: 19.8s\n",
      "38:\tlearn: 0.4862996\ttest: 0.4874250\tbest: 0.4874250 (38)\ttotal: 1.37s\tremaining: 19.7s\n",
      "39:\tlearn: 0.4861334\ttest: 0.4870387\tbest: 0.4874250 (38)\ttotal: 1.41s\tremaining: 19.7s\n",
      "40:\tlearn: 0.4876212\ttest: 0.4888041\tbest: 0.4888041 (40)\ttotal: 1.44s\tremaining: 19.6s\n",
      "41:\tlearn: 0.4870844\ttest: 0.4876244\tbest: 0.4888041 (40)\ttotal: 1.48s\tremaining: 19.7s\n",
      "42:\tlearn: 0.4873745\ttest: 0.4878173\tbest: 0.4888041 (40)\ttotal: 1.5s\tremaining: 19.4s\n",
      "43:\tlearn: 0.4871778\ttest: 0.4878173\tbest: 0.4888041 (40)\ttotal: 1.53s\tremaining: 19.4s\n",
      "44:\tlearn: 0.4872123\ttest: 0.4877489\tbest: 0.4888041 (40)\ttotal: 1.57s\tremaining: 19.3s\n",
      "45:\tlearn: 0.4913930\ttest: 0.4929774\tbest: 0.4929774 (45)\ttotal: 1.61s\tremaining: 19.4s\n",
      "46:\tlearn: 0.4914242\ttest: 0.4929774\tbest: 0.4929774 (45)\ttotal: 1.65s\tremaining: 19.5s\n",
      "47:\tlearn: 0.4914554\ttest: 0.4924051\tbest: 0.4929774 (45)\ttotal: 1.69s\tremaining: 19.4s\n",
      "48:\tlearn: 0.4917408\ttest: 0.4925298\tbest: 0.4929774 (45)\ttotal: 1.73s\tremaining: 19.4s\n",
      "49:\tlearn: 0.4919657\ttest: 0.4925298\tbest: 0.4929774 (45)\ttotal: 1.77s\tremaining: 19.5s\n",
      "50:\tlearn: 0.4919657\ttest: 0.4925298\tbest: 0.4929774 (45)\ttotal: 1.79s\tremaining: 19.3s\n",
      "51:\tlearn: 0.4918699\ttest: 0.4925298\tbest: 0.4929774 (45)\ttotal: 1.81s\tremaining: 19.1s\n",
      "52:\tlearn: 0.4919990\ttest: 0.4927206\tbest: 0.4929774 (45)\ttotal: 1.85s\tremaining: 19.1s\n",
      "53:\tlearn: 0.4933519\ttest: 0.4940018\tbest: 0.4940018 (53)\ttotal: 1.9s\tremaining: 19.2s\n",
      "54:\tlearn: 0.4931923\ttest: 0.4940018\tbest: 0.4940018 (53)\ttotal: 1.94s\tremaining: 19.3s\n",
      "55:\tlearn: 0.4932236\ttest: 0.4940018\tbest: 0.4940018 (53)\ttotal: 1.96s\tremaining: 19.1s\n",
      "56:\tlearn: 0.4945422\ttest: 0.4941919\tbest: 0.4941919 (56)\ttotal: 2.01s\tremaining: 19.1s\n",
      "57:\tlearn: 0.4933831\ttest: 0.4938739\tbest: 0.4941919 (56)\ttotal: 2.04s\tremaining: 19.1s\n",
      "58:\tlearn: 0.4941072\ttest: 0.4929114\tbest: 0.4941919 (56)\ttotal: 2.08s\tremaining: 19.1s\n",
      "59:\tlearn: 0.4941400\ttest: 0.4929114\tbest: 0.4941919 (56)\ttotal: 2.13s\tremaining: 19.1s\n",
      "60:\tlearn: 0.4941400\ttest: 0.4929114\tbest: 0.4941919 (56)\ttotal: 2.14s\tremaining: 18.9s\n",
      "61:\tlearn: 0.4950695\ttest: 0.4938770\tbest: 0.4941919 (56)\ttotal: 2.18s\tremaining: 18.9s\n",
      "62:\tlearn: 0.4949744\ttest: 0.4940672\tbest: 0.4941919 (56)\ttotal: 2.21s\tremaining: 18.9s\n",
      "63:\tlearn: 0.4953549\ttest: 0.4940672\tbest: 0.4941919 (56)\ttotal: 2.26s\tremaining: 18.9s\n",
      "64:\tlearn: 0.4960516\ttest: 0.4944472\tbest: 0.4944472 (64)\ttotal: 2.3s\tremaining: 18.9s\n",
      "65:\tlearn: 0.4959262\ttest: 0.4949546\tbest: 0.4949546 (65)\ttotal: 2.34s\tremaining: 18.9s\n",
      "66:\tlearn: 0.5283980\ttest: 0.5369812\tbest: 0.5369812 (66)\ttotal: 2.38s\tremaining: 18.9s\n",
      "67:\tlearn: 0.5329503\ttest: 0.5369812\tbest: 0.5369812 (66)\ttotal: 2.42s\tremaining: 19s\n",
      "68:\tlearn: 0.5329503\ttest: 0.5369812\tbest: 0.5369812 (66)\ttotal: 2.44s\tremaining: 18.8s\n",
      "69:\tlearn: 0.5331223\ttest: 0.5369812\tbest: 0.5369812 (66)\ttotal: 2.48s\tremaining: 18.8s\n",
      "70:\tlearn: 0.5332474\ttest: 0.5369812\tbest: 0.5369812 (66)\ttotal: 2.52s\tremaining: 18.8s\n",
      "71:\tlearn: 0.5332317\ttest: 0.5369812\tbest: 0.5369812 (66)\ttotal: 2.57s\tremaining: 18.8s\n",
      "72:\tlearn: 0.5332317\ttest: 0.5369812\tbest: 0.5369812 (66)\ttotal: 2.61s\tremaining: 18.8s\n",
      "73:\tlearn: 0.5333411\ttest: 0.5366419\tbest: 0.5369812 (66)\ttotal: 2.65s\tremaining: 18.8s\n",
      "74:\tlearn: 0.5334271\ttest: 0.5366419\tbest: 0.5369812 (66)\ttotal: 2.7s\tremaining: 18.9s\n",
      "75:\tlearn: 0.5339812\ttest: 0.5368116\tbest: 0.5369812 (66)\ttotal: 2.75s\tremaining: 19s\n",
      "76:\tlearn: 0.5340124\ttest: 0.5368116\tbest: 0.5369812 (66)\ttotal: 2.81s\tremaining: 19.1s\n",
      "77:\tlearn: 0.5339499\ttest: 0.5368738\tbest: 0.5369812 (66)\ttotal: 2.85s\tremaining: 19.1s\n",
      "78:\tlearn: 0.5349477\ttest: 0.5373204\tbest: 0.5373204 (78)\ttotal: 2.9s\tremaining: 19.1s\n",
      "79:\tlearn: 0.5351652\ttest: 0.5374899\tbest: 0.5374899 (79)\ttotal: 2.94s\tremaining: 19.1s\n",
      "80:\tlearn: 0.5353907\ttest: 0.5373826\tbest: 0.5374899 (79)\ttotal: 2.98s\tremaining: 19.1s\n",
      "81:\tlearn: 0.5353364\ttest: 0.5373826\tbest: 0.5374899 (79)\ttotal: 3.03s\tremaining: 19.1s\n",
      "82:\tlearn: 0.5343028\ttest: 0.5372131\tbest: 0.5374899 (79)\ttotal: 3.08s\tremaining: 19.2s\n",
      "83:\tlearn: 0.5343887\ttest: 0.5372131\tbest: 0.5374899 (79)\ttotal: 3.12s\tremaining: 19.2s\n",
      "84:\tlearn: 0.5343887\ttest: 0.5371508\tbest: 0.5374899 (79)\ttotal: 3.17s\tremaining: 19.2s\n",
      "85:\tlearn: 0.5345293\ttest: 0.5371508\tbest: 0.5374899 (79)\ttotal: 3.21s\tremaining: 19.2s\n",
      "86:\tlearn: 0.5345606\ttest: 0.5371508\tbest: 0.5374899 (79)\ttotal: 3.25s\tremaining: 19.2s\n",
      "87:\tlearn: 0.5345374\ttest: 0.5372754\tbest: 0.5374899 (79)\ttotal: 3.29s\tremaining: 19.2s\n",
      "88:\tlearn: 0.5351304\ttest: 0.5374623\tbest: 0.5374899 (79)\ttotal: 3.34s\tremaining: 19.2s\n",
      "89:\tlearn: 0.5350990\ttest: 0.5376319\tbest: 0.5376319 (89)\ttotal: 3.39s\tremaining: 19.2s\n",
      "90:\tlearn: 0.5352162\ttest: 0.5374623\tbest: 0.5376319 (89)\ttotal: 3.44s\tremaining: 19.2s\n",
      "91:\tlearn: 0.5352707\ttest: 0.5376319\tbest: 0.5376319 (89)\ttotal: 3.48s\tremaining: 19.2s\n",
      "92:\tlearn: 0.5352162\ttest: 0.5376319\tbest: 0.5376319 (89)\ttotal: 3.5s\tremaining: 19.1s\n",
      "93:\tlearn: 0.5361861\ttest: 0.5378015\tbest: 0.5378015 (93)\ttotal: 3.55s\tremaining: 19.1s\n",
      "94:\tlearn: 0.5361861\ttest: 0.5378015\tbest: 0.5378015 (93)\ttotal: 3.59s\tremaining: 19.1s\n",
      "95:\tlearn: 0.5367364\ttest: 0.5378015\tbest: 0.5378015 (93)\ttotal: 3.62s\tremaining: 19s\n",
      "96:\tlearn: 0.5367677\ttest: 0.5378015\tbest: 0.5378015 (93)\ttotal: 3.66s\tremaining: 19s\n",
      "97:\tlearn: 0.5363599\ttest: 0.5376319\tbest: 0.5378015 (93)\ttotal: 3.71s\tremaining: 19s\n",
      "98:\tlearn: 0.5364312\ttest: 0.5377665\tbest: 0.5378015 (93)\ttotal: 3.75s\tremaining: 19s\n",
      "99:\tlearn: 0.5366967\ttest: 0.5377665\tbest: 0.5378015 (93)\ttotal: 3.8s\tremaining: 19s\n",
      "100:\tlearn: 0.5366967\ttest: 0.5377665\tbest: 0.5378015 (93)\ttotal: 3.84s\tremaining: 19s\n",
      "101:\tlearn: 0.5366653\ttest: 0.5377665\tbest: 0.5378015 (93)\ttotal: 3.9s\tremaining: 19s\n",
      "102:\tlearn: 0.5365797\ttest: 0.5377566\tbest: 0.5378015 (93)\ttotal: 3.96s\tremaining: 19.1s\n",
      "103:\tlearn: 0.5370479\ttest: 0.5377490\tbest: 0.5378015 (93)\ttotal: 4.02s\tremaining: 19.2s\n",
      "104:\tlearn: 0.5371054\ttest: 0.5378112\tbest: 0.5378112 (104)\ttotal: 4.08s\tremaining: 19.2s\n",
      "105:\tlearn: 0.5371911\ttest: 0.5378112\tbest: 0.5378112 (104)\ttotal: 4.11s\tremaining: 19.2s\n",
      "106:\tlearn: 0.5373990\ttest: 0.5376593\tbest: 0.5378112 (104)\ttotal: 4.16s\tremaining: 19.2s\n",
      "107:\tlearn: 0.5372312\ttest: 0.5369876\tbest: 0.5378112 (104)\ttotal: 4.21s\tremaining: 19.2s\n",
      "108:\tlearn: 0.5373169\ttest: 0.5370951\tbest: 0.5378112 (104)\ttotal: 4.26s\tremaining: 19.2s\n",
      "109:\tlearn: 0.5365253\ttest: 0.5372649\tbest: 0.5378112 (104)\ttotal: 4.3s\tremaining: 19.1s\n",
      "110:\tlearn: 0.5372172\ttest: 0.5375870\tbest: 0.5378112 (104)\ttotal: 4.33s\tremaining: 19.1s\n",
      "111:\tlearn: 0.5367915\ttest: 0.5375870\tbest: 0.5378112 (104)\ttotal: 4.37s\tremaining: 19.1s\n",
      "112:\tlearn: 0.5368773\ttest: 0.5377566\tbest: 0.5378112 (104)\ttotal: 4.42s\tremaining: 19.1s\n",
      "113:\tlearn: 0.5371348\ttest: 0.5377566\tbest: 0.5378112 (104)\ttotal: 4.48s\tremaining: 19.1s\n",
      "114:\tlearn: 0.5371348\ttest: 0.5374347\tbest: 0.5378112 (104)\ttotal: 4.53s\tremaining: 19.1s\n",
      "115:\tlearn: 0.5370805\ttest: 0.5375870\tbest: 0.5378112 (104)\ttotal: 4.58s\tremaining: 19.1s\n",
      "116:\tlearn: 0.5370490\ttest: 0.5375870\tbest: 0.5378112 (104)\ttotal: 4.62s\tremaining: 19.1s\n",
      "117:\tlearn: 0.5371348\ttest: 0.5365854\tbest: 0.5378112 (104)\ttotal: 4.67s\tremaining: 19.1s\n",
      "118:\tlearn: 0.5367772\ttest: 0.5365854\tbest: 0.5378112 (104)\ttotal: 4.72s\tremaining: 19.1s\n",
      "119:\tlearn: 0.5372521\ttest: 0.5365854\tbest: 0.5378112 (104)\ttotal: 4.78s\tremaining: 19.1s\n",
      "120:\tlearn: 0.5372521\ttest: 0.5365854\tbest: 0.5378112 (104)\ttotal: 4.83s\tremaining: 19.1s\n",
      "121:\tlearn: 0.5372837\ttest: 0.5365854\tbest: 0.5378112 (104)\ttotal: 4.9s\tremaining: 19.2s\n",
      "122:\tlearn: 0.5377530\ttest: 0.5370327\tbest: 0.5378112 (104)\ttotal: 4.96s\tremaining: 19.2s\n",
      "123:\tlearn: 0.5377530\ttest: 0.5370327\tbest: 0.5378112 (104)\ttotal: 5.02s\tremaining: 19.3s\n",
      "124:\tlearn: 0.5376445\ttest: 0.5370327\tbest: 0.5378112 (104)\ttotal: 5.07s\tremaining: 19.3s\n",
      "125:\tlearn: 0.5376761\ttest: 0.5370327\tbest: 0.5378112 (104)\ttotal: 5.12s\tremaining: 19.3s\n",
      "126:\tlearn: 0.5376761\ttest: 0.5370327\tbest: 0.5378112 (104)\ttotal: 5.17s\tremaining: 19.3s\n",
      "127:\tlearn: 0.5376445\ttest: 0.5370327\tbest: 0.5378112 (104)\ttotal: 5.23s\tremaining: 19.3s\n",
      "128:\tlearn: 0.5379650\ttest: 0.5368629\tbest: 0.5378112 (104)\ttotal: 5.28s\tremaining: 19.3s\n",
      "129:\tlearn: 0.5395022\ttest: 0.5381675\tbest: 0.5381675 (129)\ttotal: 5.32s\tremaining: 19.2s\n",
      "130:\tlearn: 0.5395338\ttest: 0.5381498\tbest: 0.5381675 (129)\ttotal: 5.37s\tremaining: 19.2s\n",
      "131:\tlearn: 0.5394799\ttest: 0.5382121\tbest: 0.5382121 (131)\ttotal: 5.42s\tremaining: 19.2s\n",
      "132:\tlearn: 0.5395338\ttest: 0.5379358\tbest: 0.5382121 (131)\ttotal: 5.48s\tremaining: 19.2s\n",
      "133:\tlearn: 0.5396509\ttest: 0.5380428\tbest: 0.5382121 (131)\ttotal: 5.54s\tremaining: 19.3s\n",
      "134:\tlearn: 0.5396509\ttest: 0.5380428\tbest: 0.5382121 (131)\ttotal: 5.59s\tremaining: 19.2s\n",
      "135:\tlearn: 0.5397142\ttest: 0.5382121\tbest: 0.5382121 (131)\ttotal: 5.63s\tremaining: 19.2s\n",
      "136:\tlearn: 0.5398536\ttest: 0.5382121\tbest: 0.5382121 (131)\ttotal: 5.69s\tremaining: 19.2s\n",
      "137:\tlearn: 0.5401417\ttest: 0.5382121\tbest: 0.5382121 (131)\ttotal: 5.73s\tremaining: 19.2s\n",
      "138:\tlearn: 0.5401417\ttest: 0.5382121\tbest: 0.5382121 (131)\ttotal: 5.79s\tremaining: 19.2s\n",
      "139:\tlearn: 0.5401733\ttest: 0.5382121\tbest: 0.5382121 (131)\ttotal: 5.84s\tremaining: 19.2s\n",
      "140:\tlearn: 0.5401956\ttest: 0.5380428\tbest: 0.5382121 (131)\ttotal: 5.88s\tremaining: 19.1s\n",
      "141:\tlearn: 0.5402810\ttest: 0.5380428\tbest: 0.5382121 (131)\ttotal: 5.92s\tremaining: 19.1s\n",
      "142:\tlearn: 0.5404108\ttest: 0.5368458\tbest: 0.5382121 (131)\ttotal: 5.98s\tremaining: 19.1s\n",
      "143:\tlearn: 0.5403792\ttest: 0.5370155\tbest: 0.5382121 (131)\ttotal: 6.03s\tremaining: 19.1s\n",
      "144:\tlearn: 0.5402938\ttest: 0.5370155\tbest: 0.5382121 (131)\ttotal: 6.07s\tremaining: 19.1s\n",
      "145:\tlearn: 0.5402938\ttest: 0.5369081\tbest: 0.5382121 (131)\ttotal: 6.12s\tremaining: 19s\n",
      "146:\tlearn: 0.5403603\ttest: 0.5366307\tbest: 0.5382121 (131)\ttotal: 6.17s\tremaining: 19s\n",
      "147:\tlearn: 0.5404014\ttest: 0.5366307\tbest: 0.5382121 (131)\ttotal: 6.21s\tremaining: 19s\n",
      "148:\tlearn: 0.5407745\ttest: 0.5364608\tbest: 0.5382121 (131)\ttotal: 6.27s\tremaining: 19s\n",
      "149:\tlearn: 0.5407018\ttest: 0.5366307\tbest: 0.5382121 (131)\ttotal: 6.31s\tremaining: 18.9s\n",
      "150:\tlearn: 0.5410430\ttest: 0.5369081\tbest: 0.5382121 (131)\ttotal: 6.36s\tremaining: 18.9s\n",
      "151:\tlearn: 0.5417810\ttest: 0.5369081\tbest: 0.5382121 (131)\ttotal: 6.4s\tremaining: 18.9s\n",
      "152:\tlearn: 0.5413085\ttest: 0.5358596\tbest: 0.5382121 (131)\ttotal: 6.46s\tremaining: 18.9s\n",
      "153:\tlearn: 0.5414668\ttest: 0.5347457\tbest: 0.5382121 (131)\ttotal: 6.5s\tremaining: 18.8s\n",
      "154:\tlearn: 0.5414668\ttest: 0.5347457\tbest: 0.5382121 (131)\ttotal: 6.55s\tremaining: 18.8s\n",
      "155:\tlearn: 0.5415302\ttest: 0.5347457\tbest: 0.5382121 (131)\ttotal: 6.59s\tremaining: 18.8s\n",
      "156:\tlearn: 0.5416789\ttest: 0.5347457\tbest: 0.5382121 (131)\ttotal: 6.64s\tremaining: 18.7s\n",
      "157:\tlearn: 0.5417325\ttest: 0.5347457\tbest: 0.5382121 (131)\ttotal: 6.69s\tremaining: 18.7s\n",
      "158:\tlearn: 0.5411737\ttest: 0.4916952\tbest: 0.5382121 (131)\ttotal: 6.74s\tremaining: 18.7s\n",
      "159:\tlearn: 0.5410883\ttest: 0.4916952\tbest: 0.5382121 (131)\ttotal: 6.79s\tremaining: 18.7s\n",
      "160:\tlearn: 0.5414617\ttest: 0.4918864\tbest: 0.5382121 (131)\ttotal: 6.84s\tremaining: 18.7s\n",
      "161:\tlearn: 0.5412909\ttest: 0.4918864\tbest: 0.5382121 (131)\ttotal: 6.89s\tremaining: 18.6s\n",
      "162:\tlearn: 0.5414080\ttest: 0.4918864\tbest: 0.5382121 (131)\ttotal: 6.94s\tremaining: 18.6s\n",
      "163:\tlearn: 0.5414617\ttest: 0.4918241\tbest: 0.5382121 (131)\ttotal: 7s\tremaining: 18.6s\n",
      "164:\tlearn: 0.5415471\ttest: 0.4918241\tbest: 0.5382121 (131)\ttotal: 7.05s\tremaining: 18.6s\n",
      "165:\tlearn: 0.5417716\ttest: 0.4916329\tbest: 0.5382121 (131)\ttotal: 7.1s\tremaining: 18.6s\n",
      "166:\tlearn: 0.5420375\ttest: 0.4916952\tbest: 0.5382121 (131)\ttotal: 7.15s\tremaining: 18.5s\n",
      "167:\tlearn: 0.5423253\ttest: 0.4916952\tbest: 0.5382121 (131)\ttotal: 7.18s\tremaining: 18.5s\n",
      "168:\tlearn: 0.5422935\ttest: 0.4916952\tbest: 0.5382121 (131)\ttotal: 7.23s\tremaining: 18.4s\n",
      "169:\tlearn: 0.5426783\ttest: 0.4916952\tbest: 0.5382121 (131)\ttotal: 7.28s\tremaining: 18.4s\n",
      "170:\tlearn: 0.5424641\ttest: 0.4921439\tbest: 0.5382121 (131)\ttotal: 7.33s\tremaining: 18.4s\n",
      "171:\tlearn: 0.5427518\ttest: 0.4921439\tbest: 0.5382121 (131)\ttotal: 7.37s\tremaining: 18.3s\n",
      "172:\tlearn: 0.5424007\ttest: 0.4921439\tbest: 0.5382121 (131)\ttotal: 7.42s\tremaining: 18.3s\n",
      "173:\tlearn: 0.5429023\ttest: 0.4920152\tbest: 0.5382121 (131)\ttotal: 7.46s\tremaining: 18.3s\n",
      "174:\tlearn: 0.5430828\ttest: 0.4922063\tbest: 0.5382121 (131)\ttotal: 7.51s\tremaining: 18.2s\n",
      "175:\tlearn: 0.5430510\ttest: 0.4922063\tbest: 0.5382121 (131)\ttotal: 7.56s\tremaining: 18.2s\n",
      "176:\tlearn: 0.5433168\ttest: 0.4922063\tbest: 0.5382121 (131)\ttotal: 7.61s\tremaining: 18.2s\n",
      "177:\tlearn: 0.5434770\ttest: 0.4920776\tbest: 0.5382121 (131)\ttotal: 7.66s\tremaining: 18.2s\n",
      "178:\tlearn: 0.5436791\ttest: 0.4918864\tbest: 0.5382121 (131)\ttotal: 7.72s\tremaining: 18.1s\n",
      "179:\tlearn: 0.5436257\ttest: 0.4918864\tbest: 0.5382121 (131)\ttotal: 7.76s\tremaining: 18.1s\n",
      "180:\tlearn: 0.5441580\ttest: 0.4922687\tbest: 0.5382121 (131)\ttotal: 7.85s\tremaining: 18.2s\n",
      "181:\tlearn: 0.5444133\ttest: 0.4922687\tbest: 0.5382121 (131)\ttotal: 7.97s\tremaining: 18.3s\n",
      "182:\tlearn: 0.5443282\ttest: 0.4922687\tbest: 0.5382121 (131)\ttotal: 8.07s\tremaining: 18.4s\n",
      "183:\tlearn: 0.5441151\ttest: 0.4922687\tbest: 0.5382121 (131)\ttotal: 8.18s\tremaining: 18.5s\n",
      "184:\tlearn: 0.5445400\ttest: 0.4922063\tbest: 0.5382121 (131)\ttotal: 8.27s\tremaining: 18.6s\n",
      "185:\tlearn: 0.5445510\ttest: 0.4922687\tbest: 0.5382121 (131)\ttotal: 8.36s\tremaining: 18.6s\n",
      "186:\tlearn: 0.5447425\ttest: 0.4922687\tbest: 0.5382121 (131)\ttotal: 8.46s\tremaining: 18.7s\n",
      "187:\tlearn: 0.5446789\ttest: 0.4918199\tbest: 0.5382121 (131)\ttotal: 8.56s\tremaining: 18.8s\n",
      "188:\tlearn: 0.5452421\ttest: 0.4918199\tbest: 0.5382121 (131)\ttotal: 8.65s\tremaining: 18.8s\n",
      "189:\tlearn: 0.5451890\ttest: 0.4917575\tbest: 0.5382121 (131)\ttotal: 8.76s\tremaining: 18.9s\n",
      "190:\tlearn: 0.5452208\ttest: 0.4917575\tbest: 0.5382121 (131)\ttotal: 8.85s\tremaining: 19s\n",
      "191:\tlearn: 0.5450508\ttest: 0.4935492\tbest: 0.5382121 (131)\ttotal: 8.94s\tremaining: 19s\n",
      "192:\tlearn: 0.5451358\ttest: 0.4937397\tbest: 0.5382121 (131)\ttotal: 9.04s\tremaining: 19.1s\n",
      "193:\tlearn: 0.5451677\ttest: 0.4937397\tbest: 0.5382121 (131)\ttotal: 9.09s\tremaining: 19s\n",
      "194:\tlearn: 0.5451145\ttest: 0.4937397\tbest: 0.5382121 (131)\ttotal: 9.18s\tremaining: 19.1s\n",
      "195:\tlearn: 0.5449123\ttest: 0.4936741\tbest: 0.5382121 (131)\ttotal: 9.28s\tremaining: 19.1s\n",
      "196:\tlearn: 0.5449123\ttest: 0.4936116\tbest: 0.5382121 (131)\ttotal: 9.37s\tremaining: 19.2s\n",
      "197:\tlearn: 0.5453376\ttest: 0.4936116\tbest: 0.5382121 (131)\ttotal: 9.47s\tremaining: 19.2s\n",
      "198:\tlearn: 0.5452420\ttest: 0.4936116\tbest: 0.5382121 (131)\ttotal: 9.52s\tremaining: 19.2s\n",
      "199:\tlearn: 0.5456245\ttest: 0.4935427\tbest: 0.5382121 (131)\ttotal: 9.58s\tremaining: 19.2s\n",
      "200:\tlearn: 0.5456989\ttest: 0.4931611\tbest: 0.5382121 (131)\ttotal: 9.62s\tremaining: 19.1s\n",
      "201:\tlearn: 0.5456989\ttest: 0.4931611\tbest: 0.5382121 (131)\ttotal: 9.67s\tremaining: 19s\n",
      "202:\tlearn: 0.5456989\ttest: 0.4931611\tbest: 0.5382121 (131)\ttotal: 9.71s\tremaining: 19s\n",
      "203:\tlearn: 0.5460280\ttest: 0.4934835\tbest: 0.5382121 (131)\ttotal: 9.76s\tremaining: 18.9s\n",
      "204:\tlearn: 0.5461130\ttest: 0.4934835\tbest: 0.5382121 (131)\ttotal: 9.8s\tremaining: 18.9s\n",
      "205:\tlearn: 0.5461345\ttest: 0.4934144\tbest: 0.5382121 (131)\ttotal: 9.84s\tremaining: 18.8s\n",
      "206:\tlearn: 0.5459646\ttest: 0.4934144\tbest: 0.5382121 (131)\ttotal: 9.89s\tremaining: 18.8s\n",
      "207:\tlearn: 0.5459646\ttest: 0.4934144\tbest: 0.5382121 (131)\ttotal: 9.94s\tremaining: 18.7s\n",
      "208:\tlearn: 0.5461242\ttest: 0.4934144\tbest: 0.5382121 (131)\ttotal: 9.99s\tremaining: 18.7s\n",
      "209:\tlearn: 0.5464749\ttest: 0.4939302\tbest: 0.5382121 (131)\ttotal: 10s\tremaining: 18.7s\n",
      "210:\tlearn: 0.5467298\ttest: 0.4939302\tbest: 0.5382121 (131)\ttotal: 10.1s\tremaining: 18.6s\n",
      "211:\tlearn: 0.5468467\ttest: 0.4939302\tbest: 0.5382121 (131)\ttotal: 10.1s\tremaining: 18.5s\n",
      "212:\tlearn: 0.5469316\ttest: 0.4939302\tbest: 0.5382121 (131)\ttotal: 10.2s\tremaining: 18.5s\n",
      "213:\tlearn: 0.5469316\ttest: 0.4939302\tbest: 0.5382121 (131)\ttotal: 10.2s\tremaining: 18.4s\n",
      "214:\tlearn: 0.5469846\ttest: 0.4938053\tbest: 0.5382121 (131)\ttotal: 10.3s\tremaining: 18.4s\n",
      "215:\tlearn: 0.5469526\ttest: 0.4938053\tbest: 0.5382121 (131)\ttotal: 10.3s\tremaining: 18.3s\n",
      "216:\tlearn: 0.5469846\ttest: 0.4939957\tbest: 0.5382121 (131)\ttotal: 10.4s\tremaining: 18.3s\n",
      "217:\tlearn: 0.5470695\ttest: 0.4939957\tbest: 0.5382121 (131)\ttotal: 10.4s\tremaining: 18.2s\n",
      "218:\tlearn: 0.5470165\ttest: 0.4938708\tbest: 0.5382121 (131)\ttotal: 10.5s\tremaining: 18.2s\n",
      "219:\tlearn: 0.5465708\ttest: 0.4938708\tbest: 0.5382121 (131)\ttotal: 10.5s\tremaining: 18.2s\n",
      "220:\tlearn: 0.5469426\ttest: 0.4939333\tbest: 0.5382121 (131)\ttotal: 10.6s\tremaining: 18.1s\n",
      "221:\tlearn: 0.5470595\ttest: 0.4939333\tbest: 0.5382121 (131)\ttotal: 10.6s\tremaining: 18.1s\n",
      "222:\tlearn: 0.5470595\ttest: 0.4939333\tbest: 0.5382121 (131)\ttotal: 10.7s\tremaining: 18s\n",
      "223:\tlearn: 0.5471025\ttest: 0.4939333\tbest: 0.5382121 (131)\ttotal: 10.7s\tremaining: 18s\n",
      "224:\tlearn: 0.5471345\ttest: 0.4940612\tbest: 0.5382121 (131)\ttotal: 10.8s\tremaining: 17.9s\n",
      "225:\tlearn: 0.5469646\ttest: 0.4938708\tbest: 0.5382121 (131)\ttotal: 10.8s\tremaining: 17.9s\n",
      "226:\tlearn: 0.5472835\ttest: 0.4938708\tbest: 0.5382121 (131)\ttotal: 10.8s\tremaining: 17.8s\n",
      "227:\tlearn: 0.5474743\ttest: 0.4936805\tbest: 0.5382121 (131)\ttotal: 10.9s\tremaining: 17.8s\n",
      "228:\tlearn: 0.5474743\ttest: 0.4936181\tbest: 0.5382121 (131)\ttotal: 11s\tremaining: 17.8s\n",
      "229:\tlearn: 0.5476441\ttest: 0.4936181\tbest: 0.5382121 (131)\ttotal: 11s\tremaining: 17.7s\n",
      "230:\tlearn: 0.5475592\ttest: 0.4936181\tbest: 0.5382121 (131)\ttotal: 11.1s\tremaining: 17.7s\n",
      "231:\tlearn: 0.5476232\ttest: 0.4934277\tbest: 0.5382121 (131)\ttotal: 11.1s\tremaining: 17.6s\n",
      "232:\tlearn: 0.5476232\ttest: 0.4934277\tbest: 0.5382121 (131)\ttotal: 11.1s\tremaining: 17.6s\n",
      "233:\tlearn: 0.5477930\ttest: 0.4934277\tbest: 0.5382121 (131)\ttotal: 11.2s\tremaining: 17.5s\n",
      "234:\tlearn: 0.5479836\ttest: 0.4934277\tbest: 0.5382121 (131)\ttotal: 11.3s\tremaining: 17.5s\n",
      "235:\tlearn: 0.5480797\ttest: 0.4934277\tbest: 0.5382121 (131)\ttotal: 11.3s\tremaining: 17.4s\n",
      "236:\tlearn: 0.5478363\ttest: 0.4934277\tbest: 0.5382121 (131)\ttotal: 11.3s\tremaining: 17.4s\n",
      "237:\tlearn: 0.5478683\ttest: 0.4934277\tbest: 0.5382121 (131)\ttotal: 11.4s\tremaining: 17.3s\n",
      "238:\tlearn: 0.5476650\ttest: 0.4936149\tbest: 0.5382121 (131)\ttotal: 11.4s\tremaining: 17.3s\n",
      "239:\tlearn: 0.5476650\ttest: 0.4936149\tbest: 0.5382121 (131)\ttotal: 11.5s\tremaining: 17.2s\n",
      "240:\tlearn: 0.5478027\ttest: 0.4936149\tbest: 0.5382121 (131)\ttotal: 11.5s\tremaining: 17.2s\n",
      "241:\tlearn: 0.5480477\ttest: 0.4936149\tbest: 0.5382121 (131)\ttotal: 11.6s\tremaining: 17.1s\n",
      "242:\tlearn: 0.5483871\ttest: 0.4936149\tbest: 0.5382121 (131)\ttotal: 11.6s\tremaining: 17.1s\n",
      "243:\tlearn: 0.5485888\ttest: 0.4938053\tbest: 0.5382121 (131)\ttotal: 11.7s\tremaining: 17s\n",
      "244:\tlearn: 0.5487263\ttest: 0.4939957\tbest: 0.5382121 (131)\ttotal: 11.7s\tremaining: 17s\n",
      "245:\tlearn: 0.5487263\ttest: 0.4939957\tbest: 0.5382121 (131)\ttotal: 11.8s\tremaining: 16.9s\n",
      "246:\tlearn: 0.5489486\ttest: 0.4939957\tbest: 0.5382121 (131)\ttotal: 11.8s\tremaining: 16.9s\n",
      "247:\tlearn: 0.5490127\ttest: 0.4938053\tbest: 0.5382121 (131)\ttotal: 11.9s\tremaining: 16.8s\n",
      "248:\tlearn: 0.5490127\ttest: 0.4938053\tbest: 0.5382121 (131)\ttotal: 11.9s\tremaining: 16.8s\n",
      "249:\tlearn: 0.5490654\ttest: 0.4939957\tbest: 0.5382121 (131)\ttotal: 12s\tremaining: 16.7s\n",
      "250:\tlearn: 0.5490448\ttest: 0.4939957\tbest: 0.5382121 (131)\ttotal: 12s\tremaining: 16.7s\n",
      "251:\tlearn: 0.5490654\ttest: 0.4939957\tbest: 0.5382121 (131)\ttotal: 12s\tremaining: 16.6s\n",
      "252:\tlearn: 0.5492670\ttest: 0.4939957\tbest: 0.5382121 (131)\ttotal: 12.1s\tremaining: 16.6s\n",
      "253:\tlearn: 0.5494043\ttest: 0.4939957\tbest: 0.5382121 (131)\ttotal: 12.1s\tremaining: 16.5s\n",
      "254:\tlearn: 0.5495211\ttest: 0.4939957\tbest: 0.5382121 (131)\ttotal: 12.2s\tremaining: 16.5s\n",
      "255:\tlearn: 0.5495211\ttest: 0.4939957\tbest: 0.5382121 (131)\ttotal: 12.2s\tremaining: 16.4s\n",
      "256:\tlearn: 0.5496584\ttest: 0.4938053\tbest: 0.5382121 (131)\ttotal: 12.3s\tremaining: 16.4s\n",
      "257:\tlearn: 0.5496584\ttest: 0.4938053\tbest: 0.5382121 (131)\ttotal: 12.3s\tremaining: 16.3s\n",
      "258:\tlearn: 0.5496584\ttest: 0.4934244\tbest: 0.5382121 (131)\ttotal: 12.4s\tremaining: 16.3s\n",
      "259:\tlearn: 0.5496584\ttest: 0.4934244\tbest: 0.5382121 (131)\ttotal: 12.4s\tremaining: 16.2s\n",
      "260:\tlearn: 0.5496263\ttest: 0.4934244\tbest: 0.5382121 (131)\ttotal: 12.5s\tremaining: 16.2s\n",
      "261:\tlearn: 0.5495417\ttest: 0.4936116\tbest: 0.5382121 (131)\ttotal: 12.5s\tremaining: 16.1s\n",
      "262:\tlearn: 0.5495417\ttest: 0.4936116\tbest: 0.5382121 (131)\ttotal: 12.6s\tremaining: 16.1s\n",
      "263:\tlearn: 0.5496263\ttest: 0.4932304\tbest: 0.5382121 (131)\ttotal: 12.6s\tremaining: 16s\n",
      "264:\tlearn: 0.5496263\ttest: 0.4936116\tbest: 0.5382121 (131)\ttotal: 12.7s\tremaining: 16s\n",
      "265:\tlearn: 0.5494043\ttest: 0.4931056\tbest: 0.5382121 (131)\ttotal: 12.7s\tremaining: 16s\n",
      "266:\tlearn: 0.5495211\ttest: 0.4932962\tbest: 0.5382121 (131)\ttotal: 12.8s\tremaining: 15.9s\n",
      "267:\tlearn: 0.5495211\ttest: 0.4932962\tbest: 0.5382121 (131)\ttotal: 12.8s\tremaining: 15.9s\n",
      "268:\tlearn: 0.5498803\ttest: 0.4932962\tbest: 0.5382121 (131)\ttotal: 12.9s\tremaining: 15.8s\n",
      "269:\tlearn: 0.5502510\ttest: 0.4929150\tbest: 0.5382121 (131)\ttotal: 12.9s\tremaining: 15.8s\n",
      "270:\tlearn: 0.5497226\ttest: 0.4929150\tbest: 0.5382121 (131)\ttotal: 13s\tremaining: 15.8s\n",
      "271:\tlearn: 0.5496058\ttest: 0.4929150\tbest: 0.5382121 (131)\ttotal: 13s\tremaining: 15.7s\n",
      "272:\tlearn: 0.5496789\ttest: 0.4929150\tbest: 0.5382121 (131)\ttotal: 13.1s\tremaining: 15.7s\n",
      "273:\tlearn: 0.5498482\ttest: 0.4929150\tbest: 0.5382121 (131)\ttotal: 13.1s\tremaining: 15.6s\n",
      "274:\tlearn: 0.5498803\ttest: 0.4931680\tbest: 0.5382121 (131)\ttotal: 13.2s\tremaining: 15.6s\n",
      "275:\tlearn: 0.5499329\ttest: 0.4931680\tbest: 0.5382121 (131)\ttotal: 13.2s\tremaining: 15.5s\n",
      "276:\tlearn: 0.5499650\ttest: 0.4931680\tbest: 0.5382121 (131)\ttotal: 13.3s\tremaining: 15.5s\n",
      "277:\tlearn: 0.5499971\ttest: 0.4931680\tbest: 0.5382121 (131)\ttotal: 13.3s\tremaining: 15.4s\n",
      "278:\tlearn: 0.5499650\ttest: 0.4932962\tbest: 0.5382121 (131)\ttotal: 13.4s\tremaining: 15.4s\n",
      "279:\tlearn: 0.5501342\ttest: 0.4932962\tbest: 0.5382121 (131)\ttotal: 13.4s\tremaining: 15.3s\n",
      "280:\tlearn: 0.5502189\ttest: 0.4934868\tbest: 0.5382121 (131)\ttotal: 13.4s\tremaining: 15.3s\n",
      "281:\tlearn: 0.5502831\ttest: 0.4934868\tbest: 0.5382121 (131)\ttotal: 13.5s\tremaining: 15.2s\n",
      "282:\tlearn: 0.5504523\ttest: 0.4934868\tbest: 0.5382121 (131)\ttotal: 13.5s\tremaining: 15.2s\n",
      "283:\tlearn: 0.5506536\ttest: 0.4938677\tbest: 0.5382121 (131)\ttotal: 13.6s\tremaining: 15.1s\n",
      "284:\tlearn: 0.5507060\ttest: 0.4938677\tbest: 0.5382121 (131)\ttotal: 13.6s\tremaining: 15.1s\n",
      "285:\tlearn: 0.5509478\ttest: 0.4938677\tbest: 0.5382121 (131)\ttotal: 13.7s\tremaining: 15s\n",
      "286:\tlearn: 0.5509597\ttest: 0.4938677\tbest: 0.5382121 (131)\ttotal: 13.7s\tremaining: 15s\n",
      "287:\tlearn: 0.5510442\ttest: 0.4938677\tbest: 0.5382121 (131)\ttotal: 13.8s\tremaining: 14.9s\n",
      "288:\tlearn: 0.5511287\ttest: 0.4938677\tbest: 0.5382121 (131)\ttotal: 13.8s\tremaining: 14.9s\n",
      "289:\tlearn: 0.5512050\ttest: 0.4939987\tbest: 0.5382121 (131)\ttotal: 13.9s\tremaining: 14.9s\n",
      "290:\tlearn: 0.5513217\ttest: 0.4939987\tbest: 0.5382121 (131)\ttotal: 14s\tremaining: 14.8s\n",
      "291:\tlearn: 0.5515551\ttest: 0.4938084\tbest: 0.5382121 (131)\ttotal: 14s\tremaining: 14.8s\n",
      "292:\tlearn: 0.5517362\ttest: 0.4937429\tbest: 0.5382121 (131)\ttotal: 14.1s\tremaining: 14.8s\n",
      "293:\tlearn: 0.5516517\ttest: 0.4937429\tbest: 0.5382121 (131)\ttotal: 14.2s\tremaining: 14.7s\n",
      "294:\tlearn: 0.5517362\ttest: 0.4937429\tbest: 0.5382121 (131)\ttotal: 14.2s\tremaining: 14.7s\n",
      "295:\tlearn: 0.5514182\ttest: 0.4937429\tbest: 0.5382121 (131)\ttotal: 14.3s\tremaining: 14.6s\n",
      "296:\tlearn: 0.5516195\ttest: 0.4939333\tbest: 0.5382121 (131)\ttotal: 14.3s\tremaining: 14.6s\n",
      "297:\tlearn: 0.5516718\ttest: 0.4939333\tbest: 0.5382121 (131)\ttotal: 14.4s\tremaining: 14.5s\n",
      "298:\tlearn: 0.5522510\ttest: 0.4937461\tbest: 0.5382121 (131)\ttotal: 14.4s\tremaining: 14.5s\n",
      "299:\tlearn: 0.5524198\ttest: 0.4937461\tbest: 0.5382121 (131)\ttotal: 14.4s\tremaining: 14.4s\n",
      "300:\tlearn: 0.5525364\ttest: 0.4937461\tbest: 0.5382121 (131)\ttotal: 14.5s\tremaining: 14.4s\n",
      "301:\tlearn: 0.5524843\ttest: 0.4938677\tbest: 0.5382121 (131)\ttotal: 14.6s\tremaining: 14.4s\n",
      "302:\tlearn: 0.5525165\ttest: 0.4936773\tbest: 0.5382121 (131)\ttotal: 14.6s\tremaining: 14.3s\n",
      "303:\tlearn: 0.5528019\ttest: 0.4938053\tbest: 0.5382121 (131)\ttotal: 14.6s\tremaining: 14.3s\n",
      "304:\tlearn: 0.5528019\ttest: 0.4938053\tbest: 0.5382121 (131)\ttotal: 14.7s\tremaining: 14.2s\n",
      "305:\tlearn: 0.5526653\ttest: 0.4936149\tbest: 0.5382121 (131)\ttotal: 14.8s\tremaining: 14.2s\n",
      "306:\tlearn: 0.5528787\ttest: 0.4936149\tbest: 0.5382121 (131)\ttotal: 14.8s\tremaining: 14.1s\n",
      "307:\tlearn: 0.5529631\ttest: 0.4936149\tbest: 0.5382121 (131)\ttotal: 14.8s\tremaining: 14.1s\n",
      "308:\tlearn: 0.5527544\ttest: 0.4932962\tbest: 0.5382121 (131)\ttotal: 14.9s\tremaining: 14s\n",
      "309:\tlearn: 0.5529803\ttest: 0.4932962\tbest: 0.5382121 (131)\ttotal: 14.9s\tremaining: 14s\n",
      "310:\tlearn: 0.5539753\ttest: 0.4975462\tbest: 0.5382121 (131)\ttotal: 15s\tremaining: 13.9s\n",
      "311:\tlearn: 0.5533505\ttest: 0.4934868\tbest: 0.5382121 (131)\ttotal: 15s\tremaining: 13.9s\n",
      "312:\tlearn: 0.5534349\ttest: 0.4934868\tbest: 0.5382121 (131)\ttotal: 15.1s\tremaining: 13.8s\n",
      "313:\tlearn: 0.5542927\ttest: 0.4977353\tbest: 0.5382121 (131)\ttotal: 15.1s\tremaining: 13.8s\n",
      "314:\tlearn: 0.5544935\ttest: 0.4977353\tbest: 0.5382121 (131)\ttotal: 15.2s\tremaining: 13.7s\n",
      "315:\tlearn: 0.5541565\ttest: 0.4977353\tbest: 0.5382121 (131)\ttotal: 15.2s\tremaining: 13.7s\n",
      "316:\tlearn: 0.5541565\ttest: 0.4977353\tbest: 0.5382121 (131)\ttotal: 15.3s\tremaining: 13.6s\n",
      "317:\tlearn: 0.5543896\ttest: 0.4979879\tbest: 0.5382121 (131)\ttotal: 15.3s\tremaining: 13.6s\n",
      "318:\tlearn: 0.5541761\ttest: 0.4979879\tbest: 0.5382121 (131)\ttotal: 15.4s\tremaining: 13.5s\n",
      "319:\tlearn: 0.5541242\ttest: 0.4979879\tbest: 0.5382121 (131)\ttotal: 15.4s\tremaining: 13.5s\n",
      "320:\tlearn: 0.5543054\ttest: 0.4979879\tbest: 0.5382121 (131)\ttotal: 15.5s\tremaining: 13.4s\n",
      "321:\tlearn: 0.5545778\ttest: 0.4977990\tbest: 0.5382121 (131)\ttotal: 15.5s\tremaining: 13.4s\n",
      "322:\tlearn: 0.5547853\ttest: 0.4979879\tbest: 0.5382121 (131)\ttotal: 15.6s\tremaining: 13.3s\n",
      "323:\tlearn: 0.5548177\ttest: 0.4979879\tbest: 0.5382121 (131)\ttotal: 15.6s\tremaining: 13.3s\n",
      "324:\tlearn: 0.5547012\ttest: 0.4979879\tbest: 0.5382121 (131)\ttotal: 15.7s\tremaining: 13.2s\n",
      "325:\tlearn: 0.5549732\ttest: 0.4979879\tbest: 0.5382121 (131)\ttotal: 15.7s\tremaining: 13.2s\n",
      "326:\tlearn: 0.5551415\ttest: 0.4979879\tbest: 0.5382121 (131)\ttotal: 15.8s\tremaining: 13.2s\n",
      "327:\tlearn: 0.5554456\ttest: 0.4983030\tbest: 0.5382121 (131)\ttotal: 15.8s\tremaining: 13.1s\n",
      "328:\tlearn: 0.5554456\ttest: 0.4983030\tbest: 0.5382121 (131)\ttotal: 15.8s\tremaining: 13.1s\n",
      "329:\tlearn: 0.5554456\ttest: 0.4983030\tbest: 0.5382121 (131)\ttotal: 15.9s\tremaining: 13s\n",
      "330:\tlearn: 0.5554974\ttest: 0.4983030\tbest: 0.5382121 (131)\ttotal: 15.9s\tremaining: 13s\n",
      "331:\tlearn: 0.5556461\ttest: 0.4983030\tbest: 0.5382121 (131)\ttotal: 16s\tremaining: 12.9s\n",
      "332:\tlearn: 0.5557302\ttest: 0.4983030\tbest: 0.5382121 (131)\ttotal: 16s\tremaining: 12.9s\n",
      "333:\tlearn: 0.5560465\ttest: 0.4981142\tbest: 0.5382121 (131)\ttotal: 16.1s\tremaining: 12.8s\n",
      "334:\tlearn: 0.5560465\ttest: 0.4981142\tbest: 0.5382121 (131)\ttotal: 16.1s\tremaining: 12.8s\n",
      "335:\tlearn: 0.5563499\ttest: 0.4983030\tbest: 0.5382121 (131)\ttotal: 16.2s\tremaining: 12.7s\n",
      "336:\tlearn: 0.5563176\ttest: 0.4983030\tbest: 0.5382121 (131)\ttotal: 16.2s\tremaining: 12.7s\n",
      "337:\tlearn: 0.5564015\ttest: 0.4981142\tbest: 0.5382121 (131)\ttotal: 16.3s\tremaining: 12.6s\n",
      "338:\tlearn: 0.5563176\ttest: 0.4981142\tbest: 0.5382121 (131)\ttotal: 16.3s\tremaining: 12.6s\n",
      "339:\tlearn: 0.5559176\ttest: 0.4981142\tbest: 0.5382121 (131)\ttotal: 16.4s\tremaining: 12.5s\n",
      "340:\tlearn: 0.5558853\ttest: 0.4981142\tbest: 0.5382121 (131)\ttotal: 16.4s\tremaining: 12.5s\n",
      "341:\tlearn: 0.5560856\ttest: 0.4981142\tbest: 0.5382121 (131)\ttotal: 16.5s\tremaining: 12.4s\n",
      "342:\tlearn: 0.5561373\ttest: 0.4981142\tbest: 0.5382121 (131)\ttotal: 16.5s\tremaining: 12.4s\n",
      "343:\tlearn: 0.5561373\ttest: 0.4983030\tbest: 0.5382121 (131)\ttotal: 16.5s\tremaining: 12.3s\n",
      "344:\tlearn: 0.5564085\ttest: 0.4985544\tbest: 0.5382121 (131)\ttotal: 16.6s\tremaining: 12.3s\n",
      "345:\tlearn: 0.5564085\ttest: 0.4985544\tbest: 0.5382121 (131)\ttotal: 16.6s\tremaining: 12.2s\n",
      "346:\tlearn: 0.5563761\ttest: 0.4986170\tbest: 0.5382121 (131)\ttotal: 16.7s\tremaining: 12.2s\n",
      "347:\tlearn: 0.5574836\ttest: 0.4988696\tbest: 0.5382121 (131)\ttotal: 16.7s\tremaining: 12.1s\n",
      "348:\tlearn: 0.5575919\ttest: 0.4990581\tbest: 0.5382121 (131)\ttotal: 16.8s\tremaining: 12.1s\n",
      "349:\tlearn: 0.5575083\ttest: 0.4990581\tbest: 0.5382121 (131)\ttotal: 16.8s\tremaining: 12s\n",
      "350:\tlearn: 0.5575919\ttest: 0.4992466\tbest: 0.5382121 (131)\ttotal: 16.9s\tremaining: 12s\n",
      "351:\tlearn: 0.5575919\ttest: 0.4992466\tbest: 0.5382121 (131)\ttotal: 16.9s\tremaining: 11.9s\n",
      "352:\tlearn: 0.5588320\ttest: 0.4992466\tbest: 0.5382121 (131)\ttotal: 17s\tremaining: 11.9s\n",
      "353:\tlearn: 0.5588320\ttest: 0.4992466\tbest: 0.5382121 (131)\ttotal: 17s\tremaining: 11.8s\n",
      "354:\tlearn: 0.5585063\ttest: 0.4992462\tbest: 0.5382121 (131)\ttotal: 17.1s\tremaining: 11.8s\n",
      "355:\tlearn: 0.5572209\ttest: 0.4990577\tbest: 0.5382121 (131)\ttotal: 17.1s\tremaining: 11.7s\n",
      "356:\tlearn: 0.5571370\ttest: 0.4990577\tbest: 0.5382121 (131)\ttotal: 17.2s\tremaining: 11.7s\n",
      "357:\tlearn: 0.5591112\ttest: 0.4993090\tbest: 0.5382121 (131)\ttotal: 17.2s\tremaining: 11.6s\n",
      "358:\tlearn: 0.5591945\ttest: 0.4993090\tbest: 0.5382121 (131)\ttotal: 17.3s\tremaining: 11.6s\n",
      "359:\tlearn: 0.5591622\ttest: 0.4992462\tbest: 0.5382121 (131)\ttotal: 17.3s\tremaining: 11.6s\n",
      "360:\tlearn: 0.5578721\ttest: 0.4992462\tbest: 0.5382121 (131)\ttotal: 17.4s\tremaining: 11.5s\n",
      "361:\tlearn: 0.5594770\ttest: 0.4992462\tbest: 0.5382121 (131)\ttotal: 17.4s\tremaining: 11.5s\n",
      "362:\tlearn: 0.5594770\ttest: 0.4992462\tbest: 0.5382121 (131)\ttotal: 17.5s\tremaining: 11.4s\n",
      "363:\tlearn: 0.5596808\ttest: 0.4992462\tbest: 0.5382121 (131)\ttotal: 17.5s\tremaining: 11.4s\n",
      "364:\tlearn: 0.5603189\ttest: 0.4990577\tbest: 0.5382121 (131)\ttotal: 17.6s\tremaining: 11.3s\n",
      "365:\tlearn: 0.5603189\ttest: 0.4991204\tbest: 0.5382121 (131)\ttotal: 17.6s\tremaining: 11.3s\n",
      "366:\tlearn: 0.5603837\ttest: 0.4986170\tbest: 0.5382121 (131)\ttotal: 17.7s\tremaining: 11.2s\n",
      "367:\tlearn: 0.5604161\ttest: 0.4986170\tbest: 0.5382121 (131)\ttotal: 17.7s\tremaining: 11.2s\n",
      "368:\tlearn: 0.5604624\ttest: 0.4985544\tbest: 0.5382121 (131)\ttotal: 17.7s\tremaining: 11.1s\n",
      "369:\tlearn: 0.5605456\ttest: 0.4985544\tbest: 0.5382121 (131)\ttotal: 17.8s\tremaining: 11.1s\n",
      "370:\tlearn: 0.5607120\ttest: 0.4986170\tbest: 0.5382121 (131)\ttotal: 17.8s\tremaining: 11s\n",
      "371:\tlearn: 0.5608092\ttest: 0.4986170\tbest: 0.5382121 (131)\ttotal: 17.9s\tremaining: 11s\n",
      "372:\tlearn: 0.5608600\ttest: 0.4986170\tbest: 0.5382121 (131)\ttotal: 17.9s\tremaining: 10.9s\n",
      "373:\tlearn: 0.5611095\ttest: 0.4987431\tbest: 0.5382121 (131)\ttotal: 18s\tremaining: 10.9s\n",
      "374:\tlearn: 0.5608190\ttest: 0.4985544\tbest: 0.5382121 (131)\ttotal: 18s\tremaining: 10.8s\n",
      "375:\tlearn: 0.5608515\ttest: 0.4985544\tbest: 0.5382121 (131)\ttotal: 18.1s\tremaining: 10.8s\n",
      "376:\tlearn: 0.5607682\ttest: 0.4986170\tbest: 0.5382121 (131)\ttotal: 18.1s\tremaining: 10.7s\n",
      "377:\tlearn: 0.5607358\ttest: 0.4988058\tbest: 0.5382121 (131)\ttotal: 18.1s\tremaining: 10.7s\n",
      "378:\tlearn: 0.5607358\ttest: 0.4987431\tbest: 0.5382121 (131)\ttotal: 18.2s\tremaining: 10.6s\n",
      "379:\tlearn: 0.5607682\ttest: 0.4987431\tbest: 0.5382121 (131)\ttotal: 18.2s\tremaining: 10.6s\n",
      "380:\tlearn: 0.5610504\ttest: 0.4987431\tbest: 0.5382121 (131)\ttotal: 18.3s\tremaining: 10.5s\n",
      "381:\tlearn: 0.5611336\ttest: 0.4987431\tbest: 0.5382121 (131)\ttotal: 18.3s\tremaining: 10.5s\n",
      "382:\tlearn: 0.5609530\ttest: 0.4988691\tbest: 0.5382121 (131)\ttotal: 18.3s\tremaining: 10.4s\n",
      "383:\tlearn: 0.5609530\ttest: 0.4988691\tbest: 0.5382121 (131)\ttotal: 18.4s\tremaining: 10.3s\n",
      "384:\tlearn: 0.5609530\ttest: 0.4988691\tbest: 0.5382121 (131)\ttotal: 18.4s\tremaining: 10.3s\n",
      "385:\tlearn: 0.5610687\ttest: 0.4992462\tbest: 0.5382121 (131)\ttotal: 18.5s\tremaining: 10.3s\n",
      "386:\tlearn: 0.5611844\ttest: 0.4993090\tbest: 0.5382121 (131)\ttotal: 18.5s\tremaining: 10.2s\n",
      "387:\tlearn: 0.5612168\ttest: 0.4993090\tbest: 0.5382121 (131)\ttotal: 18.6s\tremaining: 10.2s\n",
      "388:\tlearn: 0.5612676\ttest: 0.4993090\tbest: 0.5382121 (131)\ttotal: 18.6s\tremaining: 10.1s\n",
      "389:\tlearn: 0.5610828\ttest: 0.4993090\tbest: 0.5382121 (131)\ttotal: 18.7s\tremaining: 10.1s\n",
      "390:\tlearn: 0.5621497\ttest: 0.4993717\tbest: 0.5382121 (131)\ttotal: 18.7s\tremaining: 10s\n",
      "391:\tlearn: 0.5622328\ttest: 0.4993717\tbest: 0.5382121 (131)\ttotal: 18.8s\tremaining: 9.96s\n",
      "392:\tlearn: 0.5622833\ttest: 0.4993717\tbest: 0.5382121 (131)\ttotal: 18.8s\tremaining: 9.91s\n",
      "393:\tlearn: 0.5624170\ttest: 0.4993717\tbest: 0.5382121 (131)\ttotal: 18.9s\tremaining: 9.86s\n",
      "394:\tlearn: 0.5626445\ttest: 0.4993717\tbest: 0.5382121 (131)\ttotal: 18.9s\tremaining: 9.81s\n",
      "395:\tlearn: 0.5636594\ttest: 0.4994345\tbest: 0.5382121 (131)\ttotal: 18.9s\tremaining: 9.76s\n",
      "396:\tlearn: 0.5636594\ttest: 0.4994345\tbest: 0.5382121 (131)\ttotal: 19s\tremaining: 9.71s\n",
      "397:\tlearn: 0.5637924\ttest: 0.4994345\tbest: 0.5382121 (131)\ttotal: 19s\tremaining: 9.67s\n",
      "398:\tlearn: 0.5639076\ttest: 0.4994345\tbest: 0.5382121 (131)\ttotal: 19.1s\tremaining: 9.62s\n",
      "399:\tlearn: 0.5637422\ttest: 0.4993717\tbest: 0.5382121 (131)\ttotal: 19.1s\tremaining: 9.57s\n",
      "400:\tlearn: 0.5638249\ttest: 0.4996230\tbest: 0.5382121 (131)\ttotal: 19.2s\tremaining: 9.52s\n",
      "401:\tlearn: 0.5638574\ttest: 0.4996230\tbest: 0.5382121 (131)\ttotal: 19.2s\tremaining: 9.48s\n",
      "402:\tlearn: 0.5630631\ttest: 0.4995602\tbest: 0.5382121 (131)\ttotal: 19.3s\tremaining: 9.43s\n",
      "403:\tlearn: 0.5632403\ttest: 0.4997487\tbest: 0.5382121 (131)\ttotal: 19.3s\tremaining: 9.38s\n",
      "404:\tlearn: 0.5639813\ttest: 0.4995602\tbest: 0.5382121 (131)\ttotal: 19.4s\tremaining: 9.33s\n",
      "405:\tlearn: 0.5639813\ttest: 0.4995602\tbest: 0.5382121 (131)\ttotal: 19.4s\tremaining: 9.29s\n",
      "406:\tlearn: 0.5638421\ttest: 0.4995602\tbest: 0.5382121 (131)\ttotal: 19.5s\tremaining: 9.23s\n",
      "407:\tlearn: 0.5639575\ttest: 0.4995602\tbest: 0.5382121 (131)\ttotal: 19.5s\tremaining: 9.19s\n",
      "408:\tlearn: 0.5646286\ttest: 0.4995602\tbest: 0.5382121 (131)\ttotal: 19.6s\tremaining: 9.13s\n",
      "409:\tlearn: 0.5646286\ttest: 0.4995602\tbest: 0.5382121 (131)\ttotal: 19.6s\tremaining: 9.09s\n",
      "410:\tlearn: 0.5646286\ttest: 0.4995602\tbest: 0.5382121 (131)\ttotal: 19.7s\tremaining: 9.04s\n",
      "411:\tlearn: 0.5647615\ttest: 0.4995602\tbest: 0.5382121 (131)\ttotal: 19.7s\tremaining: 8.99s\n",
      "412:\tlearn: 0.5647615\ttest: 0.4996230\tbest: 0.5382121 (131)\ttotal: 19.8s\tremaining: 8.95s\n",
      "413:\tlearn: 0.5648266\ttest: 0.4996230\tbest: 0.5382121 (131)\ttotal: 19.8s\tremaining: 8.9s\n",
      "414:\tlearn: 0.5648266\ttest: 0.4996230\tbest: 0.5382121 (131)\ttotal: 19.9s\tremaining: 8.85s\n",
      "415:\tlearn: 0.5648618\ttest: 0.4996232\tbest: 0.5382121 (131)\ttotal: 19.9s\tremaining: 8.8s\n",
      "416:\tlearn: 0.5650271\ttest: 0.4996232\tbest: 0.5382121 (131)\ttotal: 20s\tremaining: 8.76s\n",
      "417:\tlearn: 0.5648618\ttest: 0.4995605\tbest: 0.5382121 (131)\ttotal: 20s\tremaining: 8.71s\n",
      "418:\tlearn: 0.5648943\ttest: 0.4995605\tbest: 0.5382121 (131)\ttotal: 20s\tremaining: 8.66s\n",
      "419:\tlearn: 0.5648943\ttest: 0.4995605\tbest: 0.5382121 (131)\ttotal: 20.1s\tremaining: 8.61s\n",
      "420:\tlearn: 0.5648943\ttest: 0.4995605\tbest: 0.5382121 (131)\ttotal: 20.1s\tremaining: 8.56s\n",
      "421:\tlearn: 0.5651748\ttest: 0.4995605\tbest: 0.5382121 (131)\ttotal: 20.2s\tremaining: 8.51s\n",
      "422:\tlearn: 0.5652074\ttest: 0.4995605\tbest: 0.5382121 (131)\ttotal: 20.2s\tremaining: 8.46s\n",
      "423:\tlearn: 0.5652074\ttest: 0.4992462\tbest: 0.5382121 (131)\ttotal: 20.3s\tremaining: 8.41s\n",
      "424:\tlearn: 0.5653576\ttest: 0.4994347\tbest: 0.5382121 (131)\ttotal: 20.3s\tremaining: 8.36s\n",
      "425:\tlearn: 0.5653250\ttest: 0.4994347\tbest: 0.5382121 (131)\ttotal: 20.3s\tremaining: 8.31s\n",
      "426:\tlearn: 0.5654402\ttest: 0.4990572\tbest: 0.5382121 (131)\ttotal: 20.4s\tremaining: 8.26s\n",
      "427:\tlearn: 0.5653902\ttest: 0.4991831\tbest: 0.5382121 (131)\ttotal: 20.4s\tremaining: 8.21s\n",
      "428:\tlearn: 0.5660399\ttest: 0.5407279\tbest: 0.5407279 (428)\ttotal: 20.5s\tremaining: 8.17s\n",
      "429:\tlearn: 0.5658750\ttest: 0.4993090\tbest: 0.5407279 (428)\ttotal: 20.5s\tremaining: 8.12s\n",
      "430:\tlearn: 0.5657925\ttest: 0.5397156\tbest: 0.5407279 (428)\ttotal: 20.6s\tremaining: 8.07s\n",
      "431:\tlearn: 0.5657925\ttest: 0.5398844\tbest: 0.5407279 (428)\ttotal: 20.6s\tremaining: 8.03s\n",
      "432:\tlearn: 0.5662699\ttest: 0.5398404\tbest: 0.5407279 (428)\ttotal: 20.7s\tremaining: 7.98s\n",
      "433:\tlearn: 0.5672944\ttest: 0.5401156\tbest: 0.5407279 (428)\ttotal: 20.7s\tremaining: 7.93s\n",
      "434:\tlearn: 0.5671282\ttest: 0.5401156\tbest: 0.5407279 (428)\ttotal: 20.8s\tremaining: 7.88s\n",
      "435:\tlearn: 0.5670956\ttest: 0.5401156\tbest: 0.5407279 (428)\ttotal: 20.8s\tremaining: 7.83s\n",
      "436:\tlearn: 0.5670956\ttest: 0.5401156\tbest: 0.5407279 (428)\ttotal: 20.9s\tremaining: 7.79s\n",
      "437:\tlearn: 0.5672928\ttest: 0.5401156\tbest: 0.5407279 (428)\ttotal: 20.9s\tremaining: 7.74s\n",
      "438:\tlearn: 0.5673563\ttest: 0.5397156\tbest: 0.5407279 (428)\ttotal: 21s\tremaining: 7.69s\n",
      "439:\tlearn: 0.5674387\ttest: 0.5397156\tbest: 0.5407279 (428)\ttotal: 21s\tremaining: 7.64s\n",
      "440:\tlearn: 0.5675055\ttest: 0.5397156\tbest: 0.5407279 (428)\ttotal: 21.1s\tremaining: 7.59s\n",
      "441:\tlearn: 0.5675381\ttest: 0.5397156\tbest: 0.5407279 (428)\ttotal: 21.1s\tremaining: 7.54s\n",
      "442:\tlearn: 0.5675055\ttest: 0.5396532\tbest: 0.5407279 (428)\ttotal: 21.1s\tremaining: 7.49s\n",
      "443:\tlearn: 0.5675055\ttest: 0.5395284\tbest: 0.5407279 (428)\ttotal: 21.2s\tremaining: 7.45s\n",
      "444:\tlearn: 0.5676530\ttest: 0.5395284\tbest: 0.5407279 (428)\ttotal: 21.2s\tremaining: 7.39s\n",
      "445:\tlearn: 0.5676374\ttest: 0.5394843\tbest: 0.5407279 (428)\ttotal: 21.3s\tremaining: 7.35s\n",
      "446:\tlearn: 0.5676374\ttest: 0.5394843\tbest: 0.5407279 (428)\ttotal: 21.3s\tremaining: 7.3s\n",
      "447:\tlearn: 0.5678020\ttest: 0.5393154\tbest: 0.5407279 (428)\ttotal: 21.4s\tremaining: 7.25s\n",
      "448:\tlearn: 0.5679991\ttest: 0.5393154\tbest: 0.5407279 (428)\ttotal: 21.4s\tremaining: 7.21s\n",
      "449:\tlearn: 0.5675862\ttest: 0.5393154\tbest: 0.5407279 (428)\ttotal: 21.5s\tremaining: 7.16s\n",
      "450:\tlearn: 0.5675862\ttest: 0.5393154\tbest: 0.5407279 (428)\ttotal: 21.5s\tremaining: 7.11s\n",
      "451:\tlearn: 0.5675862\ttest: 0.5393154\tbest: 0.5407279 (428)\ttotal: 21.6s\tremaining: 7.07s\n",
      "452:\tlearn: 0.5676188\ttest: 0.5393778\tbest: 0.5407279 (428)\ttotal: 21.6s\tremaining: 7.02s\n",
      "453:\tlearn: 0.5676188\ttest: 0.5393778\tbest: 0.5407279 (428)\ttotal: 21.7s\tremaining: 6.97s\n",
      "454:\tlearn: 0.5677338\ttest: 0.5393778\tbest: 0.5407279 (428)\ttotal: 21.7s\tremaining: 6.92s\n",
      "455:\tlearn: 0.5677990\ttest: 0.5393778\tbest: 0.5407279 (428)\ttotal: 21.8s\tremaining: 6.87s\n",
      "456:\tlearn: 0.5678487\ttest: 0.5396532\tbest: 0.5407279 (428)\ttotal: 21.8s\tremaining: 6.82s\n",
      "457:\tlearn: 0.5678814\ttest: 0.5396532\tbest: 0.5407279 (428)\ttotal: 21.8s\tremaining: 6.77s\n",
      "458:\tlearn: 0.5676499\ttest: 0.5396532\tbest: 0.5407279 (428)\ttotal: 21.9s\tremaining: 6.72s\n",
      "459:\tlearn: 0.5681949\ttest: 0.4974224\tbest: 0.5407279 (428)\ttotal: 21.9s\tremaining: 6.67s\n",
      "460:\tlearn: 0.5681126\ttest: 0.4974224\tbest: 0.5407279 (428)\ttotal: 22s\tremaining: 6.63s\n",
      "461:\tlearn: 0.5679481\ttest: 0.4974224\tbest: 0.5407279 (428)\ttotal: 22s\tremaining: 6.58s\n",
      "462:\tlearn: 0.5679481\ttest: 0.4976113\tbest: 0.5407279 (428)\ttotal: 22.1s\tremaining: 6.53s\n",
      "463:\tlearn: 0.5680303\ttest: 0.4974224\tbest: 0.5407279 (428)\ttotal: 22.1s\tremaining: 6.48s\n",
      "464:\tlearn: 0.5680303\ttest: 0.4974224\tbest: 0.5407279 (428)\ttotal: 22.2s\tremaining: 6.43s\n",
      "465:\tlearn: 0.5681296\ttest: 0.4974224\tbest: 0.5407279 (428)\ttotal: 22.2s\tremaining: 6.39s\n",
      "466:\tlearn: 0.5681296\ttest: 0.4974224\tbest: 0.5407279 (428)\ttotal: 22.3s\tremaining: 6.34s\n",
      "467:\tlearn: 0.5681622\ttest: 0.4974224\tbest: 0.5407279 (428)\ttotal: 22.3s\tremaining: 6.29s\n",
      "468:\tlearn: 0.5682627\ttest: 0.4974224\tbest: 0.5407279 (428)\ttotal: 22.4s\tremaining: 6.24s\n",
      "469:\tlearn: 0.5684924\ttest: 0.4972973\tbest: 0.5407279 (428)\ttotal: 22.4s\tremaining: 6.2s\n",
      "470:\tlearn: 0.5685419\ttest: 0.4972973\tbest: 0.5407279 (428)\ttotal: 22.4s\tremaining: 6.15s\n",
      "471:\tlearn: 0.5687062\ttest: 0.4972973\tbest: 0.5407279 (428)\ttotal: 22.5s\tremaining: 6.1s\n",
      "472:\tlearn: 0.5686410\ttest: 0.4971723\tbest: 0.5407279 (428)\ttotal: 22.5s\tremaining: 6.05s\n",
      "473:\tlearn: 0.5687726\ttest: 0.4981795\tbest: 0.5407279 (428)\ttotal: 22.6s\tremaining: 6s\n",
      "474:\tlearn: 0.5688052\ttest: 0.4979920\tbest: 0.5407279 (428)\ttotal: 22.7s\tremaining: 5.96s\n",
      "475:\tlearn: 0.5687715\ttest: 0.4979920\tbest: 0.5407279 (428)\ttotal: 22.7s\tremaining: 5.92s\n",
      "476:\tlearn: 0.5686725\ttest: 0.4981170\tbest: 0.5407279 (428)\ttotal: 22.8s\tremaining: 5.87s\n",
      "477:\tlearn: 0.5687547\ttest: 0.4981170\tbest: 0.5407279 (428)\ttotal: 22.8s\tremaining: 5.82s\n",
      "478:\tlearn: 0.5686398\ttest: 0.4981795\tbest: 0.5407279 (428)\ttotal: 22.9s\tremaining: 5.78s\n",
      "479:\tlearn: 0.5688210\ttest: 0.5397045\tbest: 0.5407279 (428)\ttotal: 22.9s\tremaining: 5.73s\n",
      "480:\tlearn: 0.5682941\ttest: 0.5396422\tbest: 0.5407279 (428)\ttotal: 23s\tremaining: 5.68s\n",
      "481:\tlearn: 0.5683763\ttest: 0.5396422\tbest: 0.5407279 (428)\ttotal: 23s\tremaining: 5.63s\n",
      "482:\tlearn: 0.5682275\ttest: 0.4983047\tbest: 0.5407279 (428)\ttotal: 23.1s\tremaining: 5.58s\n",
      "483:\tlearn: 0.5682602\ttest: 0.4983047\tbest: 0.5407279 (428)\ttotal: 23.1s\tremaining: 5.54s\n",
      "484:\tlearn: 0.5681779\ttest: 0.4981170\tbest: 0.5407279 (428)\ttotal: 23.1s\tremaining: 5.49s\n",
      "485:\tlearn: 0.5680133\ttest: 0.4980545\tbest: 0.5407279 (428)\ttotal: 23.2s\tremaining: 5.44s\n",
      "486:\tlearn: 0.5680460\ttest: 0.4980545\tbest: 0.5407279 (428)\ttotal: 23.2s\tremaining: 5.39s\n",
      "487:\tlearn: 0.5682106\ttest: 0.4980545\tbest: 0.5407279 (428)\ttotal: 23.3s\tremaining: 5.34s\n",
      "488:\tlearn: 0.5683424\ttest: 0.4980545\tbest: 0.5407279 (428)\ttotal: 23.3s\tremaining: 5.3s\n",
      "489:\tlearn: 0.5683594\ttest: 0.4980545\tbest: 0.5407279 (428)\ttotal: 23.4s\tremaining: 5.25s\n",
      "490:\tlearn: 0.5683920\ttest: 0.4980545\tbest: 0.5407279 (428)\ttotal: 23.4s\tremaining: 5.2s\n",
      "491:\tlearn: 0.5680630\ttest: 0.4980545\tbest: 0.5407279 (428)\ttotal: 23.5s\tremaining: 5.15s\n",
      "492:\tlearn: 0.5686229\ttest: 0.4980545\tbest: 0.5407279 (428)\ttotal: 23.5s\tremaining: 5.1s\n",
      "493:\tlearn: 0.5685903\ttest: 0.4980545\tbest: 0.5407279 (428)\ttotal: 23.6s\tremaining: 5.05s\n",
      "494:\tlearn: 0.5688368\ttest: 0.4979305\tbest: 0.5407279 (428)\ttotal: 23.6s\tremaining: 5.01s\n",
      "495:\tlearn: 0.5691001\ttest: 0.4979305\tbest: 0.5407279 (428)\ttotal: 23.7s\tremaining: 4.96s\n",
      "496:\tlearn: 0.5693615\ttest: 0.4978045\tbest: 0.5407279 (428)\ttotal: 23.7s\tremaining: 4.91s\n",
      "497:\tlearn: 0.5693615\ttest: 0.4978045\tbest: 0.5407279 (428)\ttotal: 23.8s\tremaining: 4.87s\n",
      "498:\tlearn: 0.5693288\ttest: 0.4978045\tbest: 0.5407279 (428)\ttotal: 23.8s\tremaining: 4.82s\n",
      "499:\tlearn: 0.5694604\ttest: 0.4979920\tbest: 0.5407279 (428)\ttotal: 23.9s\tremaining: 4.77s\n",
      "500:\tlearn: 0.5693456\ttest: 0.4979920\tbest: 0.5407279 (428)\ttotal: 23.9s\tremaining: 4.73s\n",
      "501:\tlearn: 0.5693129\ttest: 0.4981804\tbest: 0.5407279 (428)\ttotal: 24s\tremaining: 4.68s\n",
      "502:\tlearn: 0.5695759\ttest: 0.4983689\tbest: 0.5407279 (428)\ttotal: 24s\tremaining: 4.64s\n",
      "503:\tlearn: 0.5695919\ttest: 0.4983689\tbest: 0.5407279 (428)\ttotal: 24.1s\tremaining: 4.59s\n",
      "504:\tlearn: 0.5698882\ttest: 0.4984314\tbest: 0.5407279 (428)\ttotal: 24.1s\tremaining: 4.54s\n",
      "505:\tlearn: 0.5699208\ttest: 0.4984314\tbest: 0.5407279 (428)\ttotal: 24.2s\tremaining: 4.49s\n",
      "506:\tlearn: 0.5699202\ttest: 0.4984314\tbest: 0.5407279 (428)\ttotal: 24.2s\tremaining: 4.44s\n",
      "507:\tlearn: 0.5699202\ttest: 0.4984314\tbest: 0.5407279 (428)\ttotal: 24.3s\tremaining: 4.4s\n",
      "508:\tlearn: 0.5704617\ttest: 0.4984314\tbest: 0.5407279 (428)\ttotal: 24.3s\tremaining: 4.35s\n",
      "509:\tlearn: 0.5705437\ttest: 0.4984314\tbest: 0.5407279 (428)\ttotal: 24.4s\tremaining: 4.3s\n",
      "510:\tlearn: 0.5707896\ttest: 0.4984940\tbest: 0.5407279 (428)\ttotal: 24.4s\tremaining: 4.25s\n",
      "511:\tlearn: 0.5707734\ttest: 0.4984940\tbest: 0.5407279 (428)\ttotal: 24.5s\tremaining: 4.2s\n",
      "512:\tlearn: 0.5707242\ttest: 0.4984314\tbest: 0.5407279 (428)\ttotal: 24.5s\tremaining: 4.16s\n",
      "513:\tlearn: 0.5704286\ttest: 0.4984314\tbest: 0.5407279 (428)\ttotal: 24.6s\tremaining: 4.11s\n",
      "514:\tlearn: 0.5705106\ttest: 0.4980545\tbest: 0.5407279 (428)\ttotal: 24.6s\tremaining: 4.06s\n",
      "515:\tlearn: 0.5705433\ttest: 0.4980545\tbest: 0.5407279 (428)\ttotal: 24.7s\tremaining: 4.01s\n",
      "516:\tlearn: 0.5705926\ttest: 0.4977410\tbest: 0.5407279 (428)\ttotal: 24.7s\tremaining: 3.96s\n",
      "517:\tlearn: 0.5706746\ttest: 0.4977410\tbest: 0.5407279 (428)\ttotal: 24.7s\tremaining: 3.92s\n",
      "518:\tlearn: 0.5703138\ttest: 0.4977410\tbest: 0.5407279 (428)\ttotal: 24.8s\tremaining: 3.87s\n",
      "519:\tlearn: 0.5704613\ttest: 0.4979284\tbest: 0.5407279 (428)\ttotal: 24.9s\tremaining: 3.82s\n",
      "520:\tlearn: 0.5704779\ttest: 0.4977410\tbest: 0.5407279 (428)\ttotal: 24.9s\tremaining: 3.78s\n",
      "521:\tlearn: 0.5704779\ttest: 0.4977410\tbest: 0.5407279 (428)\ttotal: 25s\tremaining: 3.73s\n",
      "522:\tlearn: 0.5705599\ttest: 0.4977410\tbest: 0.5407279 (428)\ttotal: 25s\tremaining: 3.68s\n",
      "523:\tlearn: 0.5706746\ttest: 0.4978670\tbest: 0.5407279 (428)\ttotal: 25.1s\tremaining: 3.63s\n",
      "524:\tlearn: 0.5707074\ttest: 0.4980555\tbest: 0.5407279 (428)\ttotal: 25.1s\tremaining: 3.59s\n",
      "525:\tlearn: 0.5711828\ttest: 0.4980555\tbest: 0.5407279 (428)\ttotal: 25.2s\tremaining: 3.54s\n",
      "526:\tlearn: 0.5714613\ttest: 0.4979295\tbest: 0.5407279 (428)\ttotal: 25.2s\tremaining: 3.49s\n",
      "527:\tlearn: 0.5714613\ttest: 0.4979295\tbest: 0.5407279 (428)\ttotal: 25.3s\tremaining: 3.44s\n",
      "528:\tlearn: 0.5713303\ttest: 0.4978670\tbest: 0.5407279 (428)\ttotal: 25.3s\tremaining: 3.4s\n",
      "529:\tlearn: 0.5713303\ttest: 0.4978670\tbest: 0.5407279 (428)\ttotal: 25.4s\tremaining: 3.35s\n",
      "530:\tlearn: 0.5714122\ttest: 0.4978659\tbest: 0.5407279 (428)\ttotal: 25.4s\tremaining: 3.3s\n",
      "531:\tlearn: 0.5734178\ttest: 0.4978023\tbest: 0.5407279 (428)\ttotal: 25.4s\tremaining: 3.25s\n",
      "532:\tlearn: 0.5734505\ttest: 0.4978023\tbest: 0.5407279 (428)\ttotal: 25.5s\tremaining: 3.2s\n",
      "533:\tlearn: 0.5735479\ttest: 0.4981804\tbest: 0.5407279 (428)\ttotal: 25.5s\tremaining: 3.16s\n",
      "534:\tlearn: 0.5739875\ttest: 0.4981170\tbest: 0.5407279 (428)\ttotal: 25.6s\tremaining: 3.11s\n",
      "535:\tlearn: 0.5740202\ttest: 0.4983672\tbest: 0.5407279 (428)\ttotal: 25.6s\tremaining: 3.06s\n",
      "536:\tlearn: 0.5740846\ttest: 0.4984932\tbest: 0.5407279 (428)\ttotal: 25.7s\tremaining: 3.01s\n",
      "537:\tlearn: 0.5741660\ttest: 0.4984932\tbest: 0.5407279 (428)\ttotal: 25.7s\tremaining: 2.96s\n",
      "538:\tlearn: 0.5741174\ttest: 0.4984932\tbest: 0.5407279 (428)\ttotal: 25.8s\tremaining: 2.92s\n",
      "539:\tlearn: 0.5741501\ttest: 0.4984932\tbest: 0.5407279 (428)\ttotal: 25.8s\tremaining: 2.87s\n",
      "540:\tlearn: 0.5740857\ttest: 0.5402286\tbest: 0.5407279 (428)\ttotal: 25.9s\tremaining: 2.82s\n",
      "541:\tlearn: 0.5741185\ttest: 0.5402286\tbest: 0.5407279 (428)\ttotal: 25.9s\tremaining: 2.77s\n",
      "542:\tlearn: 0.5741998\ttest: 0.5400415\tbest: 0.5407279 (428)\ttotal: 26s\tremaining: 2.73s\n",
      "543:\tlearn: 0.5745094\ttest: 0.5400415\tbest: 0.5407279 (428)\ttotal: 26s\tremaining: 2.68s\n",
      "544:\tlearn: 0.5743795\ttest: 0.5400415\tbest: 0.5407279 (428)\ttotal: 26.1s\tremaining: 2.63s\n",
      "545:\tlearn: 0.5744280\ttest: 0.5400415\tbest: 0.5407279 (428)\ttotal: 26.1s\tremaining: 2.58s\n",
      "546:\tlearn: 0.5741026\ttest: 0.5397668\tbest: 0.5407279 (428)\ttotal: 26.2s\tremaining: 2.54s\n",
      "547:\tlearn: 0.5741840\ttest: 0.5397668\tbest: 0.5407279 (428)\ttotal: 26.2s\tremaining: 2.49s\n",
      "548:\tlearn: 0.5743139\ttest: 0.5398291\tbest: 0.5407279 (428)\ttotal: 26.3s\tremaining: 2.44s\n",
      "549:\tlearn: 0.5742167\ttest: 0.5400162\tbest: 0.5407279 (428)\ttotal: 26.3s\tremaining: 2.39s\n",
      "550:\tlearn: 0.5740698\ttest: 0.5393414\tbest: 0.5407279 (428)\ttotal: 26.4s\tremaining: 2.34s\n",
      "551:\tlearn: 0.5742167\ttest: 0.5392791\tbest: 0.5407279 (428)\ttotal: 26.4s\tremaining: 2.3s\n",
      "552:\tlearn: 0.5744280\ttest: 0.5392791\tbest: 0.5407279 (428)\ttotal: 26.5s\tremaining: 2.25s\n",
      "553:\tlearn: 0.5750114\ttest: 0.5392791\tbest: 0.5407279 (428)\ttotal: 26.5s\tremaining: 2.2s\n",
      "554:\tlearn: 0.5750114\ttest: 0.5392791\tbest: 0.5407279 (428)\ttotal: 26.6s\tremaining: 2.15s\n",
      "555:\tlearn: 0.5750926\ttest: 0.5392791\tbest: 0.5407279 (428)\ttotal: 26.6s\tremaining: 2.1s\n",
      "556:\tlearn: 0.5752878\ttest: 0.5392168\tbest: 0.5407279 (428)\ttotal: 26.6s\tremaining: 2.06s\n",
      "557:\tlearn: 0.5756125\ttest: 0.5393414\tbest: 0.5407279 (428)\ttotal: 26.7s\tremaining: 2.01s\n",
      "558:\tlearn: 0.5756781\ttest: 0.5393414\tbest: 0.5407279 (428)\ttotal: 26.7s\tremaining: 1.96s\n",
      "559:\tlearn: 0.5756781\ttest: 0.5393414\tbest: 0.5407279 (428)\ttotal: 26.8s\tremaining: 1.91s\n",
      "560:\tlearn: 0.5756781\ttest: 0.5393414\tbest: 0.5407279 (428)\ttotal: 26.9s\tremaining: 1.87s\n",
      "561:\tlearn: 0.5755970\ttest: 0.5395102\tbest: 0.5407279 (428)\ttotal: 26.9s\tremaining: 1.82s\n",
      "562:\tlearn: 0.5757282\ttest: 0.5395102\tbest: 0.5407279 (428)\ttotal: 26.9s\tremaining: 1.77s\n",
      "563:\tlearn: 0.5755658\ttest: 0.5395102\tbest: 0.5407279 (428)\ttotal: 27s\tremaining: 1.72s\n",
      "564:\tlearn: 0.5757766\ttest: 0.5395725\tbest: 0.5407279 (428)\ttotal: 27s\tremaining: 1.67s\n",
      "565:\tlearn: 0.5758094\ttest: 0.5395725\tbest: 0.5407279 (428)\ttotal: 27.1s\tremaining: 1.63s\n",
      "566:\tlearn: 0.5755502\ttest: 0.5390661\tbest: 0.5407279 (428)\ttotal: 27.1s\tremaining: 1.58s\n",
      "567:\tlearn: 0.5755502\ttest: 0.5390661\tbest: 0.5407279 (428)\ttotal: 27.2s\tremaining: 1.53s\n",
      "568:\tlearn: 0.5758577\ttest: 0.5392349\tbest: 0.5407279 (428)\ttotal: 27.2s\tremaining: 1.48s\n",
      "569:\tlearn: 0.5757766\ttest: 0.5390661\tbest: 0.5407279 (428)\ttotal: 27.3s\tremaining: 1.44s\n",
      "570:\tlearn: 0.5759252\ttest: 0.5390219\tbest: 0.5407279 (428)\ttotal: 27.3s\tremaining: 1.39s\n",
      "571:\tlearn: 0.5759909\ttest: 0.5390219\tbest: 0.5407279 (428)\ttotal: 27.4s\tremaining: 1.34s\n",
      "572:\tlearn: 0.5760392\ttest: 0.5388529\tbest: 0.5407279 (428)\ttotal: 27.4s\tremaining: 1.29s\n",
      "573:\tlearn: 0.5759097\ttest: 0.5396349\tbest: 0.5407279 (428)\ttotal: 27.5s\tremaining: 1.24s\n",
      "574:\tlearn: 0.5759097\ttest: 0.5395908\tbest: 0.5407279 (428)\ttotal: 27.5s\tremaining: 1.2s\n",
      "575:\tlearn: 0.5759580\ttest: 0.5396091\tbest: 0.5407279 (428)\ttotal: 27.6s\tremaining: 1.15s\n",
      "576:\tlearn: 0.5759580\ttest: 0.5396091\tbest: 0.5407279 (428)\ttotal: 27.6s\tremaining: 1.1s\n",
      "577:\tlearn: 0.5759909\ttest: 0.5396091\tbest: 0.5407279 (428)\ttotal: 27.6s\tremaining: 1.05s\n",
      "578:\tlearn: 0.5761688\ttest: 0.5394402\tbest: 0.5407279 (428)\ttotal: 27.7s\tremaining: 1s\n",
      "579:\tlearn: 0.5761861\ttest: 0.5396532\tbest: 0.5407279 (428)\ttotal: 27.7s\tremaining: 957ms\n",
      "580:\tlearn: 0.5761861\ttest: 0.5395467\tbest: 0.5407279 (428)\ttotal: 27.8s\tremaining: 909ms\n",
      "581:\tlearn: 0.5760721\ttest: 0.4978616\tbest: 0.5407279 (428)\ttotal: 27.8s\tremaining: 861ms\n",
      "582:\tlearn: 0.5761378\ttest: 0.4978616\tbest: 0.5407279 (428)\ttotal: 27.9s\tremaining: 813ms\n",
      "583:\tlearn: 0.5761552\ttest: 0.4978616\tbest: 0.5407279 (428)\ttotal: 27.9s\tremaining: 765ms\n",
      "584:\tlearn: 0.5762016\ttest: 0.4978616\tbest: 0.5407279 (428)\ttotal: 28s\tremaining: 717ms\n",
      "585:\tlearn: 0.5762499\ttest: 0.4978616\tbest: 0.5407279 (428)\ttotal: 28s\tremaining: 669ms\n",
      "586:\tlearn: 0.5762693\ttest: 0.4978616\tbest: 0.5407279 (428)\ttotal: 28.1s\tremaining: 621ms\n",
      "587:\tlearn: 0.5764471\ttest: 0.4978616\tbest: 0.5407279 (428)\ttotal: 28.1s\tremaining: 574ms\n",
      "588:\tlearn: 0.5763659\ttest: 0.4978616\tbest: 0.5407279 (428)\ttotal: 28.2s\tremaining: 526ms\n",
      "589:\tlearn: 0.5765129\ttest: 0.4977990\tbest: 0.5407279 (428)\ttotal: 28.2s\tremaining: 478ms\n",
      "590:\tlearn: 0.5763699\ttest: 0.4979243\tbest: 0.5407279 (428)\ttotal: 28.2s\tremaining: 430ms\n",
      "591:\tlearn: 0.5764974\ttest: 0.4975462\tbest: 0.5407279 (428)\ttotal: 28.3s\tremaining: 382ms\n",
      "592:\tlearn: 0.5764162\ttest: 0.4979243\tbest: 0.5407279 (428)\ttotal: 28.3s\tremaining: 335ms\n",
      "593:\tlearn: 0.5763350\ttest: 0.4979243\tbest: 0.5407279 (428)\ttotal: 28.4s\tremaining: 287ms\n",
      "594:\tlearn: 0.5747179\ttest: 0.4979243\tbest: 0.5407279 (428)\ttotal: 28.4s\tremaining: 239ms\n",
      "595:\tlearn: 0.5747179\ttest: 0.4979243\tbest: 0.5407279 (428)\ttotal: 28.5s\tremaining: 191ms\n",
      "596:\tlearn: 0.5747179\ttest: 0.4979243\tbest: 0.5407279 (428)\ttotal: 28.5s\tremaining: 143ms\n",
      "597:\tlearn: 0.5745730\ttest: 0.4979243\tbest: 0.5407279 (428)\ttotal: 28.6s\tremaining: 95.6ms\n",
      "598:\tlearn: 0.5744913\ttest: 0.4979243\tbest: 0.5407279 (428)\ttotal: 28.6s\tremaining: 47.8ms\n",
      "599:\tlearn: 0.5746217\ttest: 0.4979243\tbest: 0.5407279 (428)\ttotal: 28.7s\tremaining: 0us\n",
      "\n",
      "bestTest = 0.5407279029\n",
      "bestIteration = 428\n",
      "\n"
     ]
    }
   ],
   "source": [
    "cat_model = CatBoostClassifier(random_state=12345, cat_features=columns, eval_metric='F1')\n",
    "# set up our search grid\n",
    "param_grid = {'custom_loss':['F1'],\n",
    "              \"n_estimators\": [200, 600, 800],\n",
    "              \"learning_rate\": [0.03, 0.1]}\n",
    "\n",
    "# try out every combination of the above values\n",
    "#search = GridSearchCV(cat_model, param_grid, cv=4, scoring='f1').fit(X_train, y_train)\n",
    "\n",
    "grid_search_result = cat_model.grid_search(param_grid, \n",
    "                      X=X_train_gb,\n",
    "                      y=y_train_gb,\n",
    "                      plot=True,\n",
    "                      verbose=False)\n",
    "\n",
    "#print(\"The best hyperparameters are:\", search.best_params_)\n",
    "#print(\"The best score is:\", search.best_score_)"
   ]
  },
  {
   "cell_type": "code",
   "execution_count": 136,
   "id": "ff72884c",
   "metadata": {},
   "outputs": [
    {
     "data": {
      "text/plain": [
       "{'iterations': 600, 'learning_rate': 0.1, 'custom_metric': 'F1'}"
      ]
     },
     "execution_count": 136,
     "metadata": {},
     "output_type": "execute_result"
    }
   ],
   "source": [
    "grid_search_result['params']"
   ]
  },
  {
   "cell_type": "code",
   "execution_count": 139,
   "id": "27813414",
   "metadata": {},
   "outputs": [],
   "source": [
    "cat_model = CatBoostClassifier(learning_rate=grid_search_result['params']['learning_rate'],\n",
    "                              n_estimators=grid_search_result['params'][\"iterations\"],\n",
    "                              custom_loss=grid_search_result['params'][\"custom_metric\"],\n",
    "                              random_state=12345,\n",
    "                              cat_features=columns,\n",
    "                              eval_metric='F1')"
   ]
  },
  {
   "cell_type": "code",
   "execution_count": 140,
   "id": "5b8a40ec",
   "metadata": {
    "scrolled": true
   },
   "outputs": [
    {
     "data": {
      "application/vnd.jupyter.widget-view+json": {
       "model_id": "f2a73007fcaf4b72a79f3df87254ff87",
       "version_major": 2,
       "version_minor": 0
      },
      "text/plain": [
       "MetricVisualizer(layout=Layout(align_self='stretch', height='500px'))"
      ]
     },
     "metadata": {},
     "output_type": "display_data"
    },
    {
     "name": "stdout",
     "output_type": "stream",
     "text": [
      "0:\tlearn: 0.3899705\ttest: 0.4026846\tbest: 0.4026846 (0)\ttotal: 56.3ms\tremaining: 33.7s\n",
      "1:\tlearn: 0.3915267\ttest: 0.4026846\tbest: 0.4026846 (0)\ttotal: 106ms\tremaining: 31.6s\n",
      "2:\tlearn: 0.3910420\ttest: 0.4026846\tbest: 0.4026846 (0)\ttotal: 129ms\tremaining: 25.6s\n",
      "3:\tlearn: 0.4629858\ttest: 0.4721736\tbest: 0.4721736 (3)\ttotal: 178ms\tremaining: 26.6s\n",
      "4:\tlearn: 0.4635389\ttest: 0.4721736\tbest: 0.4721736 (3)\ttotal: 218ms\tremaining: 25.9s\n",
      "5:\tlearn: 0.4646429\ttest: 0.4729942\tbest: 0.4729942 (5)\ttotal: 261ms\tremaining: 25.8s\n",
      "6:\tlearn: 0.4661819\ttest: 0.4740792\tbest: 0.4740792 (6)\ttotal: 302ms\tremaining: 25.6s\n",
      "7:\tlearn: 0.4662023\ttest: 0.4741620\tbest: 0.4741620 (7)\ttotal: 344ms\tremaining: 25.5s\n",
      "8:\tlearn: 0.4659684\ttest: 0.4741620\tbest: 0.4741620 (7)\ttotal: 378ms\tremaining: 24.8s\n",
      "9:\tlearn: 0.4661087\ttest: 0.4741620\tbest: 0.4741620 (7)\ttotal: 417ms\tremaining: 24.6s\n",
      "10:\tlearn: 0.4660739\ttest: 0.4740792\tbest: 0.4741620 (7)\ttotal: 458ms\tremaining: 24.5s\n",
      "11:\tlearn: 0.4663367\ttest: 0.4740792\tbest: 0.4741620 (7)\ttotal: 503ms\tremaining: 24.6s\n",
      "12:\tlearn: 0.4663834\ttest: 0.4740792\tbest: 0.4741620 (7)\ttotal: 542ms\tremaining: 24.5s\n",
      "13:\tlearn: 0.4661206\ttest: 0.4739138\tbest: 0.4741620 (7)\ttotal: 584ms\tremaining: 24.5s\n",
      "14:\tlearn: 0.4658459\ttest: 0.4740792\tbest: 0.4741620 (7)\ttotal: 635ms\tremaining: 24.8s\n",
      "15:\tlearn: 0.4660211\ttest: 0.4740792\tbest: 0.4741620 (7)\ttotal: 681ms\tremaining: 24.8s\n",
      "16:\tlearn: 0.4662754\ttest: 0.4746295\tbest: 0.4746295 (16)\ttotal: 722ms\tremaining: 24.8s\n",
      "17:\tlearn: 0.4663103\ttest: 0.4747122\tbest: 0.4747122 (17)\ttotal: 763ms\tremaining: 24.7s\n",
      "18:\tlearn: 0.4664652\ttest: 0.4746295\tbest: 0.4747122 (17)\ttotal: 803ms\tremaining: 24.6s\n",
      "19:\tlearn: 0.4664302\ttest: 0.4747299\tbest: 0.4747299 (19)\ttotal: 842ms\tremaining: 24.4s\n",
      "20:\tlearn: 0.4675768\ttest: 0.4747299\tbest: 0.4747299 (19)\ttotal: 888ms\tremaining: 24.5s\n",
      "21:\tlearn: 0.4676643\ttest: 0.4748126\tbest: 0.4748126 (21)\ttotal: 928ms\tremaining: 24.4s\n",
      "22:\tlearn: 0.4677984\ttest: 0.4748126\tbest: 0.4748126 (21)\ttotal: 964ms\tremaining: 24.2s\n",
      "23:\tlearn: 0.4701056\ttest: 0.4777623\tbest: 0.4777623 (23)\ttotal: 1.01s\tremaining: 24.2s\n",
      "24:\tlearn: 0.4757702\ttest: 0.4823062\tbest: 0.4823062 (24)\ttotal: 1.05s\tremaining: 24.3s\n",
      "25:\tlearn: 0.4755886\ttest: 0.4823895\tbest: 0.4823895 (25)\ttotal: 1.1s\tremaining: 24.4s\n",
      "26:\tlearn: 0.4834403\ttest: 0.4874295\tbest: 0.4874295 (26)\ttotal: 1.14s\tremaining: 24.2s\n",
      "27:\tlearn: 0.4838447\ttest: 0.4872541\tbest: 0.4874295 (26)\ttotal: 1.18s\tremaining: 24.1s\n",
      "28:\tlearn: 0.4841249\ttest: 0.4876881\tbest: 0.4876881 (28)\ttotal: 1.22s\tremaining: 24.1s\n",
      "29:\tlearn: 0.4850686\ttest: 0.4880464\tbest: 0.4880464 (29)\ttotal: 1.27s\tremaining: 24.1s\n",
      "30:\tlearn: 0.4850711\ttest: 0.4877882\tbest: 0.4880464 (29)\ttotal: 1.29s\tremaining: 23.7s\n",
      "31:\tlearn: 0.4849780\ttest: 0.4879549\tbest: 0.4880464 (29)\ttotal: 1.35s\tremaining: 24s\n",
      "32:\tlearn: 0.4858911\ttest: 0.4878715\tbest: 0.4880464 (29)\ttotal: 1.4s\tremaining: 24s\n",
      "33:\tlearn: 0.4857338\ttest: 0.4878715\tbest: 0.4880464 (29)\ttotal: 1.45s\tremaining: 24.1s\n",
      "34:\tlearn: 0.4856899\ttest: 0.4878715\tbest: 0.4880464 (29)\ttotal: 1.49s\tremaining: 24s\n",
      "35:\tlearn: 0.4908729\ttest: 0.4936645\tbest: 0.4936645 (35)\ttotal: 1.53s\tremaining: 24s\n",
      "36:\tlearn: 0.4911716\ttest: 0.4936645\tbest: 0.4936645 (35)\ttotal: 1.59s\tremaining: 24.2s\n",
      "37:\tlearn: 0.4915785\ttest: 0.4947688\tbest: 0.4947688 (37)\ttotal: 1.63s\tremaining: 24s\n",
      "38:\tlearn: 0.4913395\ttest: 0.4930673\tbest: 0.4947688 (37)\ttotal: 1.68s\tremaining: 24.1s\n",
      "39:\tlearn: 0.4919004\ttest: 0.4946019\tbest: 0.4947688 (37)\ttotal: 1.73s\tremaining: 24.2s\n",
      "40:\tlearn: 0.4918782\ttest: 0.4946019\tbest: 0.4947688 (37)\ttotal: 1.79s\tremaining: 24.4s\n",
      "41:\tlearn: 0.4915118\ttest: 0.4925575\tbest: 0.4947688 (37)\ttotal: 1.84s\tremaining: 24.4s\n",
      "42:\tlearn: 0.4913826\ttest: 0.4925575\tbest: 0.4947688 (37)\ttotal: 1.89s\tremaining: 24.5s\n",
      "43:\tlearn: 0.4915104\ttest: 0.4925575\tbest: 0.4947688 (37)\ttotal: 1.95s\tremaining: 24.6s\n",
      "44:\tlearn: 0.4914465\ttest: 0.4930673\tbest: 0.4947688 (37)\ttotal: 2s\tremaining: 24.6s\n",
      "45:\tlearn: 0.4919351\ttest: 0.4931507\tbest: 0.4947688 (37)\ttotal: 2.04s\tremaining: 24.6s\n",
      "46:\tlearn: 0.4916381\ttest: 0.4928958\tbest: 0.4947688 (37)\ttotal: 2.11s\tremaining: 24.8s\n",
      "47:\tlearn: 0.4914034\ttest: 0.4928124\tbest: 0.4947688 (37)\ttotal: 2.16s\tremaining: 24.8s\n",
      "48:\tlearn: 0.4917019\ttest: 0.4927291\tbest: 0.4947688 (37)\ttotal: 2.22s\tremaining: 25s\n",
      "49:\tlearn: 0.4928822\ttest: 0.4927291\tbest: 0.4947688 (37)\ttotal: 2.28s\tremaining: 25.1s\n",
      "50:\tlearn: 0.4936698\ttest: 0.4927291\tbest: 0.4947688 (37)\ttotal: 2.34s\tremaining: 25.2s\n",
      "51:\tlearn: 0.4936271\ttest: 0.4927291\tbest: 0.4947688 (37)\ttotal: 2.39s\tremaining: 25.2s\n",
      "52:\tlearn: 0.4936896\ttest: 0.4927291\tbest: 0.4947688 (37)\ttotal: 2.45s\tremaining: 25.3s\n",
      "53:\tlearn: 0.4936260\ttest: 0.4927291\tbest: 0.4947688 (37)\ttotal: 2.5s\tremaining: 25.3s\n",
      "54:\tlearn: 0.4938397\ttest: 0.4927291\tbest: 0.4947688 (37)\ttotal: 2.56s\tremaining: 25.4s\n",
      "55:\tlearn: 0.5109004\ttest: 0.4927291\tbest: 0.4947688 (37)\ttotal: 2.61s\tremaining: 25.4s\n",
      "56:\tlearn: 0.5107169\ttest: 0.4929839\tbest: 0.4947688 (37)\ttotal: 2.67s\tremaining: 25.4s\n",
      "57:\tlearn: 0.5111813\ttest: 0.4932387\tbest: 0.4947688 (37)\ttotal: 2.73s\tremaining: 25.5s\n",
      "58:\tlearn: 0.5132004\ttest: 0.4931553\tbest: 0.4947688 (37)\ttotal: 2.77s\tremaining: 25.5s\n",
      "59:\tlearn: 0.5131794\ttest: 0.4931553\tbest: 0.4947688 (37)\ttotal: 2.81s\tremaining: 25.2s\n",
      "60:\tlearn: 0.5128583\ttest: 0.4931553\tbest: 0.4947688 (37)\ttotal: 2.85s\tremaining: 25.1s\n",
      "61:\tlearn: 0.5132990\ttest: 0.4933266\tbest: 0.4947688 (37)\ttotal: 2.89s\tremaining: 25.1s\n",
      "62:\tlearn: 0.5144117\ttest: 0.4972264\tbest: 0.4972264 (62)\ttotal: 2.96s\tremaining: 25.2s\n",
      "63:\tlearn: 0.5143720\ttest: 0.4972264\tbest: 0.4972264 (62)\ttotal: 3.01s\tremaining: 25.2s\n",
      "64:\tlearn: 0.5143324\ttest: 0.4972264\tbest: 0.4972264 (62)\ttotal: 3.04s\tremaining: 25s\n",
      "65:\tlearn: 0.5143744\ttest: 0.4972264\tbest: 0.4972264 (62)\ttotal: 3.07s\tremaining: 24.8s\n",
      "66:\tlearn: 0.5144093\ttest: 0.4973954\tbest: 0.4973954 (66)\ttotal: 3.12s\tremaining: 24.8s\n",
      "67:\tlearn: 0.5144093\ttest: 0.4973118\tbest: 0.4973954 (66)\ttotal: 3.15s\tremaining: 24.6s\n",
      "68:\tlearn: 0.5145702\ttest: 0.4973118\tbest: 0.4973954 (66)\ttotal: 3.21s\tremaining: 24.7s\n",
      "69:\tlearn: 0.5144490\ttest: 0.4973118\tbest: 0.4973954 (66)\ttotal: 3.27s\tremaining: 24.8s\n",
      "70:\tlearn: 0.5146705\ttest: 0.4973118\tbest: 0.4973954 (66)\ttotal: 3.32s\tremaining: 24.7s\n",
      "71:\tlearn: 0.5151317\ttest: 0.4971448\tbest: 0.4973954 (66)\ttotal: 3.37s\tremaining: 24.7s\n",
      "72:\tlearn: 0.5152529\ttest: 0.4970613\tbest: 0.4973954 (66)\ttotal: 3.42s\tremaining: 24.7s\n",
      "73:\tlearn: 0.5152739\ttest: 0.4971448\tbest: 0.4973954 (66)\ttotal: 3.45s\tremaining: 24.6s\n",
      "74:\tlearn: 0.5150922\ttest: 0.4977345\tbest: 0.4977345 (74)\ttotal: 3.5s\tremaining: 24.5s\n",
      "75:\tlearn: 0.5149549\ttest: 0.4973136\tbest: 0.4977345 (74)\ttotal: 3.55s\tremaining: 24.5s\n",
      "76:\tlearn: 0.5154740\ttest: 0.4979030\tbest: 0.4979030 (76)\ttotal: 3.6s\tremaining: 24.5s\n",
      "77:\tlearn: 0.5153925\ttest: 0.4977360\tbest: 0.4979030 (76)\ttotal: 3.66s\tremaining: 24.5s\n",
      "78:\tlearn: 0.5154135\ttest: 0.4977360\tbest: 0.4979030 (76)\ttotal: 3.69s\tremaining: 24.4s\n",
      "79:\tlearn: 0.5156346\ttest: 0.4976526\tbest: 0.4979030 (76)\ttotal: 3.75s\tremaining: 24.4s\n",
      "80:\tlearn: 0.5166490\ttest: 0.4994985\tbest: 0.4994985 (80)\ttotal: 3.8s\tremaining: 24.4s\n",
      "81:\tlearn: 0.5169719\ttest: 0.4995820\tbest: 0.4995820 (81)\ttotal: 3.85s\tremaining: 24.3s\n",
      "82:\tlearn: 0.5176088\ttest: 0.4990795\tbest: 0.4995820 (81)\ttotal: 3.91s\tremaining: 24.4s\n",
      "83:\tlearn: 0.5174939\ttest: 0.4991630\tbest: 0.4995820 (81)\ttotal: 3.98s\tremaining: 24.4s\n",
      "84:\tlearn: 0.5174336\ttest: 0.4989953\tbest: 0.4995820 (81)\ttotal: 4.02s\tremaining: 24.4s\n",
      "85:\tlearn: 0.5173943\ttest: 0.4989953\tbest: 0.4995820 (81)\ttotal: 4.08s\tremaining: 24.4s\n",
      "86:\tlearn: 0.5399551\ttest: 0.5455105\tbest: 0.5455105 (86)\ttotal: 4.13s\tremaining: 24.4s\n",
      "87:\tlearn: 0.5399466\ttest: 0.5455105\tbest: 0.5455105 (86)\ttotal: 4.19s\tremaining: 24.4s\n",
      "88:\tlearn: 0.5399675\ttest: 0.5455105\tbest: 0.5455105 (86)\ttotal: 4.23s\tremaining: 24.3s\n",
      "89:\tlearn: 0.5399381\ttest: 0.5455946\tbest: 0.5455946 (89)\ttotal: 4.28s\tremaining: 24.3s\n",
      "90:\tlearn: 0.5398963\ttest: 0.5453705\tbest: 0.5455946 (89)\ttotal: 4.35s\tremaining: 24.3s\n",
      "91:\tlearn: 0.5400031\ttest: 0.5453705\tbest: 0.5455946 (89)\ttotal: 4.4s\tremaining: 24.3s\n",
      "92:\tlearn: 0.5399590\ttest: 0.5457345\tbest: 0.5457345 (92)\ttotal: 4.47s\tremaining: 24.4s\n",
      "93:\tlearn: 0.5399590\ttest: 0.5457345\tbest: 0.5457345 (92)\ttotal: 4.52s\tremaining: 24.4s\n",
      "94:\tlearn: 0.5402499\ttest: 0.5456505\tbest: 0.5457345 (92)\ttotal: 4.58s\tremaining: 24.3s\n",
      "95:\tlearn: 0.5404673\ttest: 0.5456505\tbest: 0.5457345 (92)\ttotal: 4.64s\tremaining: 24.4s\n",
      "96:\tlearn: 0.5406012\ttest: 0.5457345\tbest: 0.5457345 (92)\ttotal: 4.7s\tremaining: 24.3s\n",
      "97:\tlearn: 0.5407058\ttest: 0.5453705\tbest: 0.5457345 (92)\ttotal: 4.76s\tremaining: 24.4s\n",
      "98:\tlearn: 0.5407058\ttest: 0.5453705\tbest: 0.5457345 (92)\ttotal: 4.81s\tremaining: 24.4s\n",
      "99:\tlearn: 0.5409462\ttest: 0.5456505\tbest: 0.5457345 (92)\ttotal: 4.87s\tremaining: 24.3s\n",
      "100:\tlearn: 0.5423337\ttest: 0.5454545\tbest: 0.5457345 (92)\ttotal: 4.92s\tremaining: 24.3s\n",
      "101:\tlearn: 0.5424605\ttest: 0.5455105\tbest: 0.5457345 (92)\ttotal: 5s\tremaining: 24.4s\n",
      "102:\tlearn: 0.5428957\ttest: 0.5459868\tbest: 0.5459868 (102)\ttotal: 5.06s\tremaining: 24.4s\n",
      "103:\tlearn: 0.5430709\ttest: 0.5457627\tbest: 0.5459868 (102)\ttotal: 5.11s\tremaining: 24.4s\n",
      "104:\tlearn: 0.5433308\ttest: 0.5453144\tbest: 0.5459868 (102)\ttotal: 5.17s\tremaining: 24.4s\n",
      "105:\tlearn: 0.5434640\ttest: 0.5453144\tbest: 0.5459868 (102)\ttotal: 5.21s\tremaining: 24.3s\n",
      "106:\tlearn: 0.5434640\ttest: 0.5453144\tbest: 0.5459868 (102)\ttotal: 5.26s\tremaining: 24.3s\n",
      "107:\tlearn: 0.5433869\ttest: 0.5452865\tbest: 0.5459868 (102)\ttotal: 5.31s\tremaining: 24.2s\n",
      "108:\tlearn: 0.5431413\ttest: 0.5453705\tbest: 0.5459868 (102)\ttotal: 5.38s\tremaining: 24.2s\n",
      "109:\tlearn: 0.5431061\ttest: 0.5451464\tbest: 0.5459868 (102)\ttotal: 5.44s\tremaining: 24.2s\n",
      "110:\tlearn: 0.5431128\ttest: 0.5451464\tbest: 0.5459868 (102)\ttotal: 5.49s\tremaining: 24.2s\n",
      "111:\tlearn: 0.5431689\ttest: 0.5451464\tbest: 0.5459868 (102)\ttotal: 5.52s\tremaining: 24s\n",
      "112:\tlearn: 0.5431689\ttest: 0.5451464\tbest: 0.5459868 (102)\ttotal: 5.58s\tremaining: 24s\n",
      "113:\tlearn: 0.5429233\ttest: 0.5451464\tbest: 0.5459868 (102)\ttotal: 5.63s\tremaining: 24s\n",
      "114:\tlearn: 0.5432042\ttest: 0.5451464\tbest: 0.5459868 (102)\ttotal: 5.68s\tremaining: 23.9s\n",
      "115:\tlearn: 0.5432813\ttest: 0.5449222\tbest: 0.5459868 (102)\ttotal: 5.74s\tremaining: 24s\n",
      "116:\tlearn: 0.5433165\ttest: 0.5449222\tbest: 0.5459868 (102)\ttotal: 5.79s\tremaining: 23.9s\n",
      "117:\tlearn: 0.5433508\ttest: 0.5449222\tbest: 0.5459868 (102)\ttotal: 5.85s\tremaining: 23.9s\n",
      "118:\tlearn: 0.5434070\ttest: 0.5449222\tbest: 0.5459868 (102)\ttotal: 5.91s\tremaining: 23.9s\n",
      "119:\tlearn: 0.5435051\ttest: 0.5449222\tbest: 0.5459868 (102)\ttotal: 5.96s\tremaining: 23.9s\n",
      "120:\tlearn: 0.5433575\ttest: 0.5448659\tbest: 0.5459868 (102)\ttotal: 6.01s\tremaining: 23.8s\n",
      "121:\tlearn: 0.5433013\ttest: 0.5450902\tbest: 0.5459868 (102)\ttotal: 6.08s\tremaining: 23.8s\n",
      "122:\tlearn: 0.5431041\ttest: 0.5452304\tbest: 0.5459868 (102)\ttotal: 6.16s\tremaining: 23.9s\n",
      "123:\tlearn: 0.5435613\ttest: 0.5455946\tbest: 0.5459868 (102)\ttotal: 6.23s\tremaining: 23.9s\n",
      "124:\tlearn: 0.5435822\ttest: 0.5455946\tbest: 0.5459868 (102)\ttotal: 6.3s\tremaining: 23.9s\n",
      "125:\tlearn: 0.5438772\ttest: 0.5455946\tbest: 0.5459868 (102)\ttotal: 6.35s\tremaining: 23.9s\n",
      "126:\tlearn: 0.5439963\ttest: 0.5455946\tbest: 0.5459868 (102)\ttotal: 6.41s\tremaining: 23.9s\n",
      "127:\tlearn: 0.5443262\ttest: 0.5455946\tbest: 0.5459868 (102)\ttotal: 6.48s\tremaining: 23.9s\n",
      "128:\tlearn: 0.5441647\ttest: 0.5455105\tbest: 0.5459868 (102)\ttotal: 6.54s\tremaining: 23.9s\n",
      "129:\tlearn: 0.5442560\ttest: 0.5455946\tbest: 0.5459868 (102)\ttotal: 6.6s\tremaining: 23.9s\n",
      "130:\tlearn: 0.5444102\ttest: 0.5455946\tbest: 0.5459868 (102)\ttotal: 6.65s\tremaining: 23.8s\n",
      "131:\tlearn: 0.5443823\ttest: 0.5455946\tbest: 0.5459868 (102)\ttotal: 6.71s\tremaining: 23.8s\n",
      "132:\tlearn: 0.5444594\ttest: 0.5455946\tbest: 0.5459868 (102)\ttotal: 6.77s\tremaining: 23.8s\n",
      "133:\tlearn: 0.5446067\ttest: 0.5455946\tbest: 0.5459868 (102)\ttotal: 6.83s\tremaining: 23.8s\n",
      "134:\tlearn: 0.5445506\ttest: 0.5456786\tbest: 0.5459868 (102)\ttotal: 6.87s\tremaining: 23.7s\n",
      "135:\tlearn: 0.5447471\ttest: 0.5456786\tbest: 0.5459868 (102)\ttotal: 6.94s\tremaining: 23.7s\n",
      "136:\tlearn: 0.5446910\ttest: 0.5456786\tbest: 0.5459868 (102)\ttotal: 6.99s\tremaining: 23.6s\n",
      "137:\tlearn: 0.5448943\ttest: 0.5456786\tbest: 0.5459868 (102)\ttotal: 7.04s\tremaining: 23.6s\n",
      "138:\tlearn: 0.5449153\ttest: 0.5456786\tbest: 0.5459868 (102)\ttotal: 7.1s\tremaining: 23.6s\n",
      "139:\tlearn: 0.5450693\ttest: 0.5456786\tbest: 0.5459868 (102)\ttotal: 7.17s\tremaining: 23.6s\n",
      "140:\tlearn: 0.5452375\ttest: 0.5456786\tbest: 0.5459868 (102)\ttotal: 7.23s\tremaining: 23.5s\n",
      "141:\tlearn: 0.5451814\ttest: 0.5455946\tbest: 0.5459868 (102)\ttotal: 7.29s\tremaining: 23.5s\n",
      "142:\tlearn: 0.5450693\ttest: 0.5458186\tbest: 0.5459868 (102)\ttotal: 7.34s\tremaining: 23.5s\n",
      "143:\tlearn: 0.5451184\ttest: 0.5458186\tbest: 0.5459868 (102)\ttotal: 7.41s\tremaining: 23.4s\n",
      "144:\tlearn: 0.5451044\ttest: 0.5458186\tbest: 0.5459868 (102)\ttotal: 7.46s\tremaining: 23.4s\n",
      "145:\tlearn: 0.5450483\ttest: 0.5458186\tbest: 0.5459868 (102)\ttotal: 7.53s\tremaining: 23.4s\n",
      "146:\tlearn: 0.5453286\ttest: 0.5458186\tbest: 0.5459868 (102)\ttotal: 7.58s\tremaining: 23.4s\n",
      "147:\tlearn: 0.5453915\ttest: 0.5453705\tbest: 0.5459868 (102)\ttotal: 7.64s\tremaining: 23.3s\n",
      "148:\tlearn: 0.5453915\ttest: 0.5451464\tbest: 0.5459868 (102)\ttotal: 7.69s\tremaining: 23.3s\n",
      "149:\tlearn: 0.5454125\ttest: 0.5451464\tbest: 0.5459868 (102)\ttotal: 7.75s\tremaining: 23.3s\n",
      "150:\tlearn: 0.5454685\ttest: 0.5451464\tbest: 0.5459868 (102)\ttotal: 7.81s\tremaining: 23.2s\n",
      "151:\tlearn: 0.5455595\ttest: 0.5451464\tbest: 0.5459868 (102)\ttotal: 7.88s\tremaining: 23.2s\n",
      "152:\tlearn: 0.5455035\ttest: 0.5451464\tbest: 0.5459868 (102)\ttotal: 7.94s\tremaining: 23.2s\n",
      "153:\tlearn: 0.5453846\ttest: 0.5459584\tbest: 0.5459868 (102)\ttotal: 8s\tremaining: 23.2s\n",
      "154:\tlearn: 0.5451885\ttest: 0.5458186\tbest: 0.5459868 (102)\ttotal: 8.05s\tremaining: 23.1s\n",
      "155:\tlearn: 0.5451605\ttest: 0.5458186\tbest: 0.5459868 (102)\ttotal: 8.11s\tremaining: 23.1s\n",
      "156:\tlearn: 0.5454825\ttest: 0.5457345\tbest: 0.5459868 (102)\ttotal: 8.18s\tremaining: 23.1s\n",
      "157:\tlearn: 0.5456225\ttest: 0.5455665\tbest: 0.5459868 (102)\ttotal: 8.23s\tremaining: 23s\n",
      "158:\tlearn: 0.5457345\ttest: 0.5455665\tbest: 0.5459868 (102)\ttotal: 8.29s\tremaining: 23s\n",
      "159:\tlearn: 0.5457485\ttest: 0.5454825\tbest: 0.5459868 (102)\ttotal: 8.35s\tremaining: 23s\n",
      "160:\tlearn: 0.5457485\ttest: 0.5454825\tbest: 0.5459868 (102)\ttotal: 8.41s\tremaining: 22.9s\n",
      "161:\tlearn: 0.5462799\ttest: 0.5454825\tbest: 0.5459868 (102)\ttotal: 8.46s\tremaining: 22.9s\n",
      "162:\tlearn: 0.5462799\ttest: 0.5454825\tbest: 0.5459868 (102)\ttotal: 8.51s\tremaining: 22.8s\n",
      "163:\tlearn: 0.5464687\ttest: 0.5455665\tbest: 0.5459868 (102)\ttotal: 8.56s\tremaining: 22.8s\n",
      "164:\tlearn: 0.5464338\ttest: 0.5455665\tbest: 0.5459868 (102)\ttotal: 8.61s\tremaining: 22.7s\n",
      "165:\tlearn: 0.5465179\ttest: 0.5457904\tbest: 0.5459868 (102)\ttotal: 8.68s\tremaining: 22.7s\n",
      "166:\tlearn: 0.5465389\ttest: 0.5457904\tbest: 0.5459868 (102)\ttotal: 8.73s\tremaining: 22.6s\n",
      "167:\tlearn: 0.5466159\ttest: 0.5454265\tbest: 0.5459868 (102)\ttotal: 8.79s\tremaining: 22.6s\n",
      "168:\tlearn: 0.5466159\ttest: 0.5454265\tbest: 0.5459868 (102)\ttotal: 8.86s\tremaining: 22.6s\n",
      "169:\tlearn: 0.5466159\ttest: 0.5454265\tbest: 0.5459868 (102)\ttotal: 8.91s\tremaining: 22.5s\n",
      "170:\tlearn: 0.5466159\ttest: 0.5454265\tbest: 0.5459868 (102)\ttotal: 8.97s\tremaining: 22.5s\n",
      "171:\tlearn: 0.5468113\ttest: 0.5454265\tbest: 0.5459868 (102)\ttotal: 9.04s\tremaining: 22.5s\n",
      "172:\tlearn: 0.5467421\ttest: 0.5456505\tbest: 0.5459868 (102)\ttotal: 9.1s\tremaining: 22.5s\n",
      "173:\tlearn: 0.5469862\ttest: 0.5454265\tbest: 0.5459868 (102)\ttotal: 9.15s\tremaining: 22.4s\n",
      "174:\tlearn: 0.5468816\ttest: 0.5455105\tbest: 0.5459868 (102)\ttotal: 9.21s\tremaining: 22.4s\n",
      "175:\tlearn: 0.5470776\ttest: 0.5455105\tbest: 0.5459868 (102)\ttotal: 9.27s\tremaining: 22.3s\n",
      "176:\tlearn: 0.5471546\ttest: 0.5455105\tbest: 0.5459868 (102)\ttotal: 9.33s\tremaining: 22.3s\n",
      "177:\tlearn: 0.5471546\ttest: 0.5457345\tbest: 0.5459868 (102)\ttotal: 9.38s\tremaining: 22.2s\n",
      "178:\tlearn: 0.5472453\ttest: 0.5454265\tbest: 0.5459868 (102)\ttotal: 9.43s\tremaining: 22.2s\n",
      "179:\tlearn: 0.5472315\ttest: 0.5453426\tbest: 0.5459868 (102)\ttotal: 9.49s\tremaining: 22.1s\n",
      "180:\tlearn: 0.5472315\ttest: 0.5453426\tbest: 0.5459868 (102)\ttotal: 9.55s\tremaining: 22.1s\n",
      "181:\tlearn: 0.5476291\ttest: 0.5453426\tbest: 0.5459868 (102)\ttotal: 9.6s\tremaining: 22.1s\n",
      "182:\tlearn: 0.5475943\ttest: 0.5454265\tbest: 0.5459868 (102)\ttotal: 9.66s\tremaining: 22s\n",
      "183:\tlearn: 0.5475385\ttest: 0.5456505\tbest: 0.5459868 (102)\ttotal: 9.72s\tremaining: 22s\n",
      "184:\tlearn: 0.5474486\ttest: 0.5456505\tbest: 0.5459868 (102)\ttotal: 9.78s\tremaining: 21.9s\n",
      "185:\tlearn: 0.5477555\ttest: 0.5456505\tbest: 0.5459868 (102)\ttotal: 9.84s\tremaining: 21.9s\n",
      "186:\tlearn: 0.5478873\ttest: 0.5450624\tbest: 0.5459868 (102)\ttotal: 9.9s\tremaining: 21.9s\n",
      "187:\tlearn: 0.5478314\ttest: 0.5450624\tbest: 0.5459868 (102)\ttotal: 9.95s\tremaining: 21.8s\n",
      "188:\tlearn: 0.5474826\ttest: 0.5450624\tbest: 0.5459868 (102)\ttotal: 10s\tremaining: 21.8s\n",
      "189:\tlearn: 0.5477271\ttest: 0.5452865\tbest: 0.5459868 (102)\ttotal: 10.1s\tremaining: 21.7s\n",
      "190:\tlearn: 0.5478177\ttest: 0.5455105\tbest: 0.5459868 (102)\ttotal: 10.1s\tremaining: 21.7s\n",
      "191:\tlearn: 0.5478525\ttest: 0.5455105\tbest: 0.5459868 (102)\ttotal: 10.2s\tremaining: 21.6s\n",
      "192:\tlearn: 0.5478314\ttest: 0.5452865\tbest: 0.5459868 (102)\ttotal: 10.2s\tremaining: 21.6s\n",
      "193:\tlearn: 0.5480052\ttest: 0.5452025\tbest: 0.5459868 (102)\ttotal: 10.3s\tremaining: 21.6s\n",
      "194:\tlearn: 0.5479147\ttest: 0.5452865\tbest: 0.5459868 (102)\ttotal: 10.4s\tremaining: 21.5s\n",
      "195:\tlearn: 0.5481726\ttest: 0.5454265\tbest: 0.5459868 (102)\ttotal: 10.4s\tremaining: 21.5s\n",
      "196:\tlearn: 0.5481726\ttest: 0.5454265\tbest: 0.5459868 (102)\ttotal: 10.5s\tremaining: 21.4s\n",
      "197:\tlearn: 0.5481726\ttest: 0.5455105\tbest: 0.5459868 (102)\ttotal: 10.5s\tremaining: 21.4s\n",
      "198:\tlearn: 0.5481032\ttest: 0.5455105\tbest: 0.5459868 (102)\ttotal: 10.6s\tremaining: 21.3s\n",
      "199:\tlearn: 0.5483053\ttest: 0.5455105\tbest: 0.5459868 (102)\ttotal: 10.6s\tremaining: 21.3s\n",
      "200:\tlearn: 0.5484503\ttest: 0.5480504\tbest: 0.5480504 (200)\ttotal: 10.7s\tremaining: 21.2s\n",
      "201:\tlearn: 0.5484503\ttest: 0.5480504\tbest: 0.5480504 (200)\ttotal: 10.7s\tremaining: 21.2s\n",
      "202:\tlearn: 0.5484292\ttest: 0.5480504\tbest: 0.5480504 (200)\ttotal: 10.8s\tremaining: 21.1s\n",
      "203:\tlearn: 0.5486807\ttest: 0.5481891\tbest: 0.5481891 (203)\ttotal: 10.9s\tremaining: 21.1s\n",
      "204:\tlearn: 0.5488133\ttest: 0.5486889\tbest: 0.5486889 (204)\ttotal: 10.9s\tremaining: 21s\n",
      "205:\tlearn: 0.5489880\ttest: 0.5485504\tbest: 0.5486889 (204)\ttotal: 11s\tremaining: 21s\n",
      "206:\tlearn: 0.5492741\ttest: 0.5483277\tbest: 0.5486889 (204)\ttotal: 11s\tremaining: 20.9s\n",
      "207:\tlearn: 0.5492395\ttest: 0.5486346\tbest: 0.5486889 (204)\ttotal: 11.1s\tremaining: 20.9s\n",
      "208:\tlearn: 0.5492530\ttest: 0.5487187\tbest: 0.5487187 (208)\ttotal: 11.1s\tremaining: 20.8s\n",
      "209:\tlearn: 0.5492741\ttest: 0.5488572\tbest: 0.5488572 (209)\ttotal: 11.2s\tremaining: 20.8s\n",
      "210:\tlearn: 0.5491416\ttest: 0.5488572\tbest: 0.5488572 (209)\ttotal: 11.2s\tremaining: 20.7s\n",
      "211:\tlearn: 0.5493299\ttest: 0.5486346\tbest: 0.5488572 (209)\ttotal: 11.3s\tremaining: 20.7s\n",
      "212:\tlearn: 0.5494970\ttest: 0.5493023\tbest: 0.5493023 (212)\ttotal: 11.3s\tremaining: 20.6s\n",
      "213:\tlearn: 0.5496717\ttest: 0.5465456\tbest: 0.5493023 (212)\ttotal: 11.4s\tremaining: 20.6s\n",
      "214:\tlearn: 0.5495105\ttest: 0.5490798\tbest: 0.5493023 (212)\ttotal: 11.5s\tremaining: 20.6s\n",
      "215:\tlearn: 0.5495662\ttest: 0.5490798\tbest: 0.5493023 (212)\ttotal: 11.5s\tremaining: 20.5s\n",
      "216:\tlearn: 0.5494835\ttest: 0.5465456\tbest: 0.5493023 (212)\ttotal: 11.6s\tremaining: 20.5s\n",
      "217:\tlearn: 0.5494970\ttest: 0.5489956\tbest: 0.5493023 (212)\ttotal: 11.7s\tremaining: 20.4s\n",
      "218:\tlearn: 0.5495468\ttest: 0.5466851\tbest: 0.5493023 (212)\ttotal: 11.7s\tremaining: 20.4s\n",
      "219:\tlearn: 0.5495949\ttest: 0.5492180\tbest: 0.5493023 (212)\ttotal: 11.8s\tremaining: 20.3s\n",
      "220:\tlearn: 0.5497063\ttest: 0.5491338\tbest: 0.5493023 (212)\ttotal: 11.8s\tremaining: 20.3s\n",
      "221:\tlearn: 0.5495257\ttest: 0.5490798\tbest: 0.5493023 (212)\ttotal: 11.9s\tremaining: 20.3s\n",
      "222:\tlearn: 0.5495257\ttest: 0.5490798\tbest: 0.5493023 (212)\ttotal: 12s\tremaining: 20.2s\n",
      "223:\tlearn: 0.5496160\ttest: 0.5489956\tbest: 0.5493023 (212)\ttotal: 12s\tremaining: 20.2s\n",
      "224:\tlearn: 0.5492758\ttest: 0.5465456\tbest: 0.5493023 (212)\ttotal: 12.1s\tremaining: 20.1s\n",
      "225:\tlearn: 0.5492969\ttest: 0.5465456\tbest: 0.5493023 (212)\ttotal: 12.2s\tremaining: 20.1s\n",
      "226:\tlearn: 0.5492969\ttest: 0.5465456\tbest: 0.5493023 (212)\ttotal: 12.2s\tremaining: 20.1s\n",
      "227:\tlearn: 0.5491718\ttest: 0.5464615\tbest: 0.5493023 (212)\ttotal: 12.3s\tremaining: 20s\n",
      "228:\tlearn: 0.5492411\ttest: 0.5469086\tbest: 0.5493023 (212)\ttotal: 12.3s\tremaining: 20s\n",
      "229:\tlearn: 0.5492276\ttest: 0.5470480\tbest: 0.5493023 (212)\ttotal: 12.4s\tremaining: 19.9s\n",
      "230:\tlearn: 0.5491583\ttest: 0.5472162\tbest: 0.5493023 (212)\ttotal: 12.4s\tremaining: 19.9s\n",
      "231:\tlearn: 0.5491583\ttest: 0.5472162\tbest: 0.5493023 (212)\ttotal: 12.5s\tremaining: 19.9s\n",
      "232:\tlearn: 0.5493180\ttest: 0.5471321\tbest: 0.5493023 (212)\ttotal: 12.6s\tremaining: 19.8s\n",
      "233:\tlearn: 0.5493526\ttest: 0.5471321\tbest: 0.5493023 (212)\ttotal: 12.6s\tremaining: 19.8s\n",
      "234:\tlearn: 0.5494083\ttest: 0.5471321\tbest: 0.5493023 (212)\ttotal: 12.7s\tremaining: 19.7s\n",
      "235:\tlearn: 0.5494159\ttest: 0.5469086\tbest: 0.5493023 (212)\ttotal: 12.8s\tremaining: 19.7s\n",
      "236:\tlearn: 0.5493948\ttest: 0.5469086\tbest: 0.5493023 (212)\ttotal: 12.8s\tremaining: 19.6s\n",
      "237:\tlearn: 0.5492833\ttest: 0.5469928\tbest: 0.5493023 (212)\ttotal: 12.9s\tremaining: 19.6s\n",
      "238:\tlearn: 0.5493737\ttest: 0.5469928\tbest: 0.5493023 (212)\ttotal: 12.9s\tremaining: 19.6s\n",
      "239:\tlearn: 0.5493948\ttest: 0.5470769\tbest: 0.5493023 (212)\ttotal: 13s\tremaining: 19.5s\n",
      "240:\tlearn: 0.5494294\ttest: 0.5470769\tbest: 0.5493023 (212)\ttotal: 13.1s\tremaining: 19.5s\n",
      "241:\tlearn: 0.5494505\ttest: 0.5470769\tbest: 0.5493023 (212)\ttotal: 13.1s\tremaining: 19.4s\n",
      "242:\tlearn: 0.5495696\ttest: 0.5470769\tbest: 0.5493023 (212)\ttotal: 13.2s\tremaining: 19.4s\n",
      "243:\tlearn: 0.5495139\ttest: 0.5464901\tbest: 0.5493023 (212)\ttotal: 13.3s\tremaining: 19.3s\n",
      "244:\tlearn: 0.5496119\ttest: 0.5463505\tbest: 0.5493023 (212)\ttotal: 13.3s\tremaining: 19.3s\n",
      "245:\tlearn: 0.5496119\ttest: 0.5463505\tbest: 0.5493023 (212)\ttotal: 13.4s\tremaining: 19.2s\n",
      "246:\tlearn: 0.5496887\ttest: 0.5468534\tbest: 0.5493023 (212)\ttotal: 13.4s\tremaining: 19.2s\n",
      "247:\tlearn: 0.5496465\ttest: 0.5467692\tbest: 0.5493023 (212)\ttotal: 13.5s\tremaining: 19.1s\n",
      "248:\tlearn: 0.5496465\ttest: 0.5467692\tbest: 0.5493023 (212)\ttotal: 13.5s\tremaining: 19.1s\n",
      "249:\tlearn: 0.5497579\ttest: 0.5468534\tbest: 0.5493023 (212)\ttotal: 13.6s\tremaining: 19s\n",
      "250:\tlearn: 0.5497445\ttest: 0.5468534\tbest: 0.5493023 (212)\ttotal: 13.6s\tremaining: 19s\n",
      "251:\tlearn: 0.5497445\ttest: 0.5468534\tbest: 0.5493023 (212)\ttotal: 13.7s\tremaining: 18.9s\n",
      "252:\tlearn: 0.5498078\ttest: 0.5468534\tbest: 0.5493023 (212)\ttotal: 13.8s\tremaining: 18.9s\n",
      "253:\tlearn: 0.5496752\ttest: 0.5466297\tbest: 0.5493023 (212)\ttotal: 13.8s\tremaining: 18.9s\n",
      "254:\tlearn: 0.5496195\ttest: 0.5469375\tbest: 0.5493023 (212)\ttotal: 13.9s\tremaining: 18.8s\n",
      "255:\tlearn: 0.5496829\ttest: 0.5469375\tbest: 0.5493023 (212)\ttotal: 14s\tremaining: 18.8s\n",
      "256:\tlearn: 0.5496483\ttest: 0.5471611\tbest: 0.5493023 (212)\ttotal: 14s\tremaining: 18.7s\n",
      "257:\tlearn: 0.5498137\ttest: 0.5472453\tbest: 0.5493023 (212)\ttotal: 14.1s\tremaining: 18.7s\n",
      "258:\tlearn: 0.5498137\ttest: 0.5471611\tbest: 0.5493023 (212)\ttotal: 14.1s\tremaining: 18.6s\n",
      "259:\tlearn: 0.5499462\ttest: 0.5470769\tbest: 0.5493023 (212)\ttotal: 14.2s\tremaining: 18.6s\n",
      "260:\tlearn: 0.5498060\ttest: 0.5494708\tbest: 0.5494708 (260)\ttotal: 14.3s\tremaining: 18.5s\n",
      "261:\tlearn: 0.5501133\ttest: 0.5496933\tbest: 0.5496933 (261)\ttotal: 14.3s\tremaining: 18.5s\n",
      "262:\tlearn: 0.5500365\ttest: 0.5494708\tbest: 0.5496933 (261)\ttotal: 14.4s\tremaining: 18.4s\n",
      "263:\tlearn: 0.5500154\ttest: 0.5494708\tbest: 0.5496933 (261)\ttotal: 14.4s\tremaining: 18.4s\n",
      "264:\tlearn: 0.5500154\ttest: 0.5494708\tbest: 0.5496933 (261)\ttotal: 14.5s\tremaining: 18.3s\n",
      "265:\tlearn: 0.5503706\ttest: 0.5494708\tbest: 0.5496933 (261)\ttotal: 14.6s\tremaining: 18.3s\n",
      "266:\tlearn: 0.5506278\ttest: 0.5497776\tbest: 0.5497776 (266)\ttotal: 14.6s\tremaining: 18.2s\n",
      "267:\tlearn: 0.5504954\ttest: 0.5491942\tbest: 0.5497776 (266)\ttotal: 14.7s\tremaining: 18.2s\n",
      "268:\tlearn: 0.5504608\ttest: 0.5491942\tbest: 0.5497776 (266)\ttotal: 14.7s\tremaining: 18.1s\n",
      "269:\tlearn: 0.5504954\ttest: 0.5491942\tbest: 0.5497776 (266)\ttotal: 14.8s\tremaining: 18.1s\n",
      "270:\tlearn: 0.5510094\ttest: 0.5500230\tbest: 0.5500230 (270)\ttotal: 14.9s\tremaining: 18.1s\n",
      "271:\tlearn: 0.5510173\ttest: 0.5477178\tbest: 0.5500230 (270)\ttotal: 14.9s\tremaining: 18s\n",
      "272:\tlearn: 0.5532989\ttest: 0.5500230\tbest: 0.5500230 (270)\ttotal: 15s\tremaining: 18s\n",
      "273:\tlearn: 0.5528381\ttest: 0.5462949\tbest: 0.5500230 (270)\ttotal: 15.1s\tremaining: 17.9s\n",
      "274:\tlearn: 0.5529700\ttest: 0.5462949\tbest: 0.5500230 (270)\ttotal: 15.1s\tremaining: 17.9s\n",
      "275:\tlearn: 0.5529700\ttest: 0.5462949\tbest: 0.5500230 (270)\ttotal: 15.2s\tremaining: 17.8s\n",
      "276:\tlearn: 0.5530645\ttest: 0.5465188\tbest: 0.5500230 (270)\ttotal: 15.2s\tremaining: 17.8s\n",
      "277:\tlearn: 0.5530433\ttest: 0.5465188\tbest: 0.5500230 (270)\ttotal: 15.3s\tremaining: 17.7s\n",
      "278:\tlearn: 0.5530645\ttest: 0.5465188\tbest: 0.5500230 (270)\ttotal: 15.3s\tremaining: 17.7s\n",
      "279:\tlearn: 0.5531492\ttest: 0.5464346\tbest: 0.5500230 (270)\ttotal: 15.4s\tremaining: 17.6s\n",
      "280:\tlearn: 0.5531199\ttest: 0.5463505\tbest: 0.5500230 (270)\ttotal: 15.5s\tremaining: 17.6s\n",
      "281:\tlearn: 0.5536179\ttest: 0.5497166\tbest: 0.5500230 (270)\ttotal: 15.5s\tremaining: 17.5s\n",
      "282:\tlearn: 0.5536179\ttest: 0.5497166\tbest: 0.5500230 (270)\ttotal: 15.6s\tremaining: 17.5s\n",
      "283:\tlearn: 0.5536520\ttest: 0.5497166\tbest: 0.5500230 (270)\ttotal: 15.6s\tremaining: 17.4s\n",
      "284:\tlearn: 0.5536944\ttest: 0.5494943\tbest: 0.5500230 (270)\ttotal: 15.7s\tremaining: 17.4s\n",
      "285:\tlearn: 0.5538050\ttest: 0.5494943\tbest: 0.5500230 (270)\ttotal: 15.8s\tremaining: 17.3s\n",
      "286:\tlearn: 0.5538897\ttest: 0.5494943\tbest: 0.5500230 (270)\ttotal: 15.8s\tremaining: 17.3s\n",
      "287:\tlearn: 0.5535530\ttest: 0.5492720\tbest: 0.5500230 (270)\ttotal: 15.9s\tremaining: 17.2s\n",
      "288:\tlearn: 0.5533609\ttest: 0.5487487\tbest: 0.5500230 (270)\ttotal: 16s\tremaining: 17.2s\n",
      "289:\tlearn: 0.5534375\ttest: 0.5487487\tbest: 0.5500230 (270)\ttotal: 16s\tremaining: 17.1s\n",
      "290:\tlearn: 0.5537908\ttest: 0.5491879\tbest: 0.5500230 (270)\ttotal: 16.1s\tremaining: 17.1s\n",
      "291:\tlearn: 0.5537567\ttest: 0.5491879\tbest: 0.5500230 (270)\ttotal: 16.2s\tremaining: 17.1s\n",
      "292:\tlearn: 0.5537013\ttest: 0.5491879\tbest: 0.5500230 (270)\ttotal: 16.2s\tremaining: 17s\n",
      "293:\tlearn: 0.5539015\ttest: 0.5491879\tbest: 0.5500230 (270)\ttotal: 16.3s\tremaining: 17s\n",
      "294:\tlearn: 0.5540758\ttest: 0.5491879\tbest: 0.5500230 (270)\ttotal: 16.4s\tremaining: 16.9s\n",
      "295:\tlearn: 0.5541311\ttest: 0.5491879\tbest: 0.5500230 (270)\ttotal: 16.4s\tremaining: 16.9s\n",
      "296:\tlearn: 0.5542676\ttest: 0.5491879\tbest: 0.5500230 (270)\ttotal: 16.5s\tremaining: 16.8s\n",
      "297:\tlearn: 0.5543736\ttest: 0.5467405\tbest: 0.5500230 (270)\ttotal: 16.5s\tremaining: 16.8s\n",
      "298:\tlearn: 0.5543736\ttest: 0.5467405\tbest: 0.5500230 (270)\ttotal: 16.6s\tremaining: 16.7s\n",
      "299:\tlearn: 0.5543183\ttest: 0.5467405\tbest: 0.5500230 (270)\ttotal: 16.6s\tremaining: 16.6s\n",
      "300:\tlearn: 0.5542076\ttest: 0.5467405\tbest: 0.5500230 (270)\ttotal: 16.7s\tremaining: 16.6s\n",
      "301:\tlearn: 0.5543524\ttest: 0.5467405\tbest: 0.5500230 (270)\ttotal: 16.8s\tremaining: 16.6s\n",
      "302:\tlearn: 0.5542971\ttest: 0.5467405\tbest: 0.5500230 (270)\ttotal: 16.8s\tremaining: 16.5s\n",
      "303:\tlearn: 0.5543653\ttest: 0.5492720\tbest: 0.5500230 (270)\ttotal: 16.9s\tremaining: 16.5s\n",
      "304:\tlearn: 0.5543653\ttest: 0.5492720\tbest: 0.5500230 (270)\ttotal: 17s\tremaining: 16.4s\n",
      "305:\tlearn: 0.5546206\ttest: 0.5492720\tbest: 0.5500230 (270)\ttotal: 17s\tremaining: 16.3s\n",
      "306:\tlearn: 0.5546206\ttest: 0.5492720\tbest: 0.5500230 (270)\ttotal: 17.1s\tremaining: 16.3s\n",
      "307:\tlearn: 0.5545653\ttest: 0.5494943\tbest: 0.5500230 (270)\ttotal: 17.1s\tremaining: 16.2s\n",
      "308:\tlearn: 0.5545100\ttest: 0.5495785\tbest: 0.5500230 (270)\ttotal: 17.2s\tremaining: 16.2s\n",
      "309:\tlearn: 0.5560897\ttest: 0.5501066\tbest: 0.5501066 (309)\ttotal: 17.3s\tremaining: 16.1s\n",
      "310:\tlearn: 0.5561873\ttest: 0.5502436\tbest: 0.5502436 (310)\ttotal: 17.3s\tremaining: 16.1s\n",
      "311:\tlearn: 0.5569958\ttest: 0.5525197\tbest: 0.5525197 (311)\ttotal: 17.4s\tremaining: 16s\n",
      "312:\tlearn: 0.5570296\ttest: 0.5525197\tbest: 0.5525197 (311)\ttotal: 17.4s\tremaining: 16s\n",
      "313:\tlearn: 0.5570083\ttest: 0.5525197\tbest: 0.5525197 (311)\ttotal: 17.5s\tremaining: 15.9s\n",
      "314:\tlearn: 0.5575739\ttest: 0.5498858\tbest: 0.5525197 (311)\ttotal: 17.5s\tremaining: 15.9s\n",
      "315:\tlearn: 0.5576499\ttest: 0.5498858\tbest: 0.5525197 (311)\ttotal: 17.6s\tremaining: 15.8s\n",
      "316:\tlearn: 0.5578143\ttest: 0.5498858\tbest: 0.5525197 (311)\ttotal: 17.7s\tremaining: 15.8s\n",
      "317:\tlearn: 0.5578143\ttest: 0.5498858\tbest: 0.5525197 (311)\ttotal: 17.7s\tremaining: 15.7s\n",
      "318:\tlearn: 0.5578903\ttest: 0.5498858\tbest: 0.5525197 (311)\ttotal: 17.8s\tremaining: 15.7s\n",
      "319:\tlearn: 0.5578991\ttest: 0.5498858\tbest: 0.5525197 (311)\ttotal: 17.8s\tremaining: 15.6s\n",
      "320:\tlearn: 0.5580600\ttest: 0.5498020\tbest: 0.5525197 (311)\ttotal: 17.9s\tremaining: 15.6s\n",
      "321:\tlearn: 0.5580936\ttest: 0.5498020\tbest: 0.5525197 (311)\ttotal: 17.9s\tremaining: 15.5s\n",
      "322:\tlearn: 0.5582827\ttest: 0.5498020\tbest: 0.5525197 (311)\ttotal: 18s\tremaining: 15.4s\n",
      "323:\tlearn: 0.5584504\ttest: 0.5525197\tbest: 0.5525197 (311)\ttotal: 18.1s\tremaining: 15.4s\n",
      "324:\tlearn: 0.5579663\ttest: 0.5530947\tbest: 0.5530947 (324)\ttotal: 18.1s\tremaining: 15.3s\n",
      "325:\tlearn: 0.5572409\ttest: 0.5530947\tbest: 0.5530947 (324)\ttotal: 18.2s\tremaining: 15.3s\n",
      "326:\tlearn: 0.5572621\ttest: 0.5530947\tbest: 0.5530947 (324)\ttotal: 18.3s\tremaining: 15.2s\n",
      "327:\tlearn: 0.5572071\ttest: 0.5530947\tbest: 0.5530947 (324)\ttotal: 18.3s\tremaining: 15.2s\n",
      "328:\tlearn: 0.5570971\ttest: 0.5530108\tbest: 0.5530947 (324)\ttotal: 18.4s\tremaining: 15.1s\n",
      "329:\tlearn: 0.5570759\ttest: 0.5530108\tbest: 0.5530947 (324)\ttotal: 18.4s\tremaining: 15.1s\n",
      "330:\tlearn: 0.5579115\ttest: 0.5529269\tbest: 0.5530947 (324)\ttotal: 18.5s\tremaining: 15s\n",
      "331:\tlearn: 0.5579327\ttest: 0.5529269\tbest: 0.5530947 (324)\ttotal: 18.5s\tremaining: 15s\n",
      "332:\tlearn: 0.5584169\ttest: 0.5531463\tbest: 0.5531463 (332)\ttotal: 18.6s\tremaining: 14.9s\n",
      "333:\tlearn: 0.5579239\ttest: 0.5531463\tbest: 0.5531463 (332)\ttotal: 18.7s\tremaining: 14.9s\n",
      "334:\tlearn: 0.5584504\ttest: 0.5531463\tbest: 0.5531463 (332)\ttotal: 18.7s\tremaining: 14.8s\n",
      "335:\tlearn: 0.5579575\ttest: 0.5531463\tbest: 0.5531463 (332)\ttotal: 18.8s\tremaining: 14.8s\n",
      "336:\tlearn: 0.5584716\ttest: 0.5531463\tbest: 0.5531463 (332)\ttotal: 18.9s\tremaining: 14.7s\n",
      "337:\tlearn: 0.5579239\ttest: 0.5531463\tbest: 0.5531463 (332)\ttotal: 18.9s\tremaining: 14.7s\n",
      "338:\tlearn: 0.5586571\ttest: 0.5531463\tbest: 0.5531463 (332)\ttotal: 19s\tremaining: 14.6s\n",
      "339:\tlearn: 0.5586359\ttest: 0.5531463\tbest: 0.5531463 (332)\ttotal: 19s\tremaining: 14.6s\n",
      "340:\tlearn: 0.5587487\ttest: 0.5531463\tbest: 0.5531463 (332)\ttotal: 19.1s\tremaining: 14.5s\n",
      "341:\tlearn: 0.5581307\ttest: 0.5531463\tbest: 0.5531463 (332)\ttotal: 19.2s\tremaining: 14.5s\n",
      "342:\tlearn: 0.5582403\ttest: 0.5529269\tbest: 0.5531463 (332)\ttotal: 19.2s\tremaining: 14.4s\n",
      "343:\tlearn: 0.5579713\ttest: 0.5529269\tbest: 0.5531463 (332)\ttotal: 19.3s\tremaining: 14.4s\n",
      "344:\tlearn: 0.5579801\ttest: 0.5530108\tbest: 0.5531463 (332)\ttotal: 19.3s\tremaining: 14.3s\n",
      "345:\tlearn: 0.5579589\ttest: 0.5527913\tbest: 0.5531463 (332)\ttotal: 19.4s\tremaining: 14.2s\n",
      "346:\tlearn: 0.5579589\ttest: 0.5527913\tbest: 0.5531463 (332)\ttotal: 19.5s\tremaining: 14.2s\n",
      "347:\tlearn: 0.5578278\ttest: 0.5520596\tbest: 0.5531463 (332)\ttotal: 19.5s\tremaining: 14.1s\n",
      "348:\tlearn: 0.5578490\ttest: 0.5520596\tbest: 0.5531463 (332)\ttotal: 19.6s\tremaining: 14.1s\n",
      "349:\tlearn: 0.5578490\ttest: 0.5520596\tbest: 0.5531463 (332)\ttotal: 19.6s\tremaining: 14s\n",
      "350:\tlearn: 0.5581360\ttest: 0.5520596\tbest: 0.5531463 (332)\ttotal: 19.7s\tremaining: 14s\n",
      "351:\tlearn: 0.5589039\ttest: 0.5520596\tbest: 0.5531463 (332)\ttotal: 19.7s\tremaining: 13.9s\n",
      "352:\tlearn: 0.5589039\ttest: 0.5520596\tbest: 0.5531463 (332)\ttotal: 19.8s\tremaining: 13.8s\n",
      "353:\tlearn: 0.5582245\ttest: 0.5521435\tbest: 0.5531463 (332)\ttotal: 19.8s\tremaining: 13.8s\n",
      "354:\tlearn: 0.5582794\ttest: 0.5521435\tbest: 0.5531463 (332)\ttotal: 19.9s\tremaining: 13.7s\n",
      "355:\tlearn: 0.5582794\ttest: 0.5521435\tbest: 0.5531463 (332)\ttotal: 19.9s\tremaining: 13.7s\n",
      "356:\tlearn: 0.5591071\ttest: 0.5520596\tbest: 0.5531463 (332)\ttotal: 20s\tremaining: 13.6s\n",
      "357:\tlearn: 0.5585874\ttest: 0.5518395\tbest: 0.5531463 (332)\ttotal: 20.1s\tremaining: 13.6s\n",
      "358:\tlearn: 0.5585874\ttest: 0.5518395\tbest: 0.5531463 (332)\ttotal: 20.1s\tremaining: 13.5s\n",
      "359:\tlearn: 0.5586086\ttest: 0.5519234\tbest: 0.5531463 (332)\ttotal: 20.2s\tremaining: 13.4s\n",
      "360:\tlearn: 0.5586120\ttest: 0.5524157\tbest: 0.5531463 (332)\ttotal: 20.2s\tremaining: 13.4s\n",
      "361:\tlearn: 0.5586881\ttest: 0.5524157\tbest: 0.5531463 (332)\ttotal: 20.3s\tremaining: 13.3s\n",
      "362:\tlearn: 0.5586881\ttest: 0.5524157\tbest: 0.5531463 (332)\ttotal: 20.3s\tremaining: 13.3s\n",
      "363:\tlearn: 0.5591357\ttest: 0.5524157\tbest: 0.5531463 (332)\ttotal: 20.4s\tremaining: 13.2s\n",
      "364:\tlearn: 0.5591570\ttest: 0.5524157\tbest: 0.5531463 (332)\ttotal: 20.4s\tremaining: 13.1s\n",
      "365:\tlearn: 0.5591692\ttest: 0.5524157\tbest: 0.5531463 (332)\ttotal: 20.5s\tremaining: 13.1s\n",
      "366:\tlearn: 0.5584693\ttest: 0.5526356\tbest: 0.5531463 (332)\ttotal: 20.5s\tremaining: 13s\n",
      "367:\tlearn: 0.5585029\ttest: 0.5526356\tbest: 0.5531463 (332)\ttotal: 20.6s\tremaining: 13s\n",
      "368:\tlearn: 0.5586004\ttest: 0.5526356\tbest: 0.5531463 (332)\ttotal: 20.6s\tremaining: 12.9s\n",
      "369:\tlearn: 0.5586643\ttest: 0.5524996\tbest: 0.5531463 (332)\ttotal: 20.7s\tremaining: 12.9s\n",
      "370:\tlearn: 0.5586856\ttest: 0.5524996\tbest: 0.5531463 (332)\ttotal: 20.8s\tremaining: 12.8s\n",
      "371:\tlearn: 0.5586946\ttest: 0.5528035\tbest: 0.5531463 (332)\ttotal: 20.8s\tremaining: 12.8s\n",
      "372:\tlearn: 0.5588258\ttest: 0.5525836\tbest: 0.5531463 (332)\ttotal: 20.9s\tremaining: 12.7s\n",
      "373:\tlearn: 0.5588807\ttest: 0.5525836\tbest: 0.5531463 (332)\ttotal: 20.9s\tremaining: 12.7s\n",
      "374:\tlearn: 0.5587338\ttest: 0.5525836\tbest: 0.5531463 (332)\ttotal: 21s\tremaining: 12.6s\n",
      "375:\tlearn: 0.5586788\ttest: 0.5525836\tbest: 0.5531463 (332)\ttotal: 21.1s\tremaining: 12.5s\n",
      "376:\tlearn: 0.5592160\ttest: 0.5525836\tbest: 0.5531463 (332)\ttotal: 21.1s\tremaining: 12.5s\n",
      "377:\tlearn: 0.5591734\ttest: 0.5525836\tbest: 0.5531463 (332)\ttotal: 21.2s\tremaining: 12.4s\n",
      "378:\tlearn: 0.5591062\ttest: 0.5525836\tbest: 0.5531463 (332)\ttotal: 21.3s\tremaining: 12.4s\n",
      "379:\tlearn: 0.5591915\ttest: 0.5521435\tbest: 0.5531463 (332)\ttotal: 21.3s\tremaining: 12.3s\n",
      "380:\tlearn: 0.5592768\ttest: 0.5523114\tbest: 0.5531463 (332)\ttotal: 21.4s\tremaining: 12.3s\n",
      "381:\tlearn: 0.5593291\ttest: 0.5518186\tbest: 0.5531463 (332)\ttotal: 21.4s\tremaining: 12.2s\n",
      "382:\tlearn: 0.5592742\ttest: 0.5518186\tbest: 0.5531463 (332)\ttotal: 21.5s\tremaining: 12.2s\n",
      "383:\tlearn: 0.5594571\ttest: 0.5522592\tbest: 0.5531463 (332)\ttotal: 21.5s\tremaining: 12.1s\n",
      "384:\tlearn: 0.5589963\ttest: 0.5521752\tbest: 0.5531463 (332)\ttotal: 21.6s\tremaining: 12.1s\n",
      "385:\tlearn: 0.5590512\ttest: 0.5520913\tbest: 0.5531463 (332)\ttotal: 21.7s\tremaining: 12s\n",
      "386:\tlearn: 0.5589929\ttest: 0.5521752\tbest: 0.5531463 (332)\ttotal: 21.7s\tremaining: 12s\n",
      "387:\tlearn: 0.5590479\ttest: 0.5521752\tbest: 0.5531463 (332)\ttotal: 21.8s\tremaining: 11.9s\n",
      "388:\tlearn: 0.5584554\ttest: 0.5521752\tbest: 0.5531463 (332)\ttotal: 21.9s\tremaining: 11.9s\n",
      "389:\tlearn: 0.5587304\ttest: 0.5521752\tbest: 0.5531463 (332)\ttotal: 21.9s\tremaining: 11.8s\n",
      "390:\tlearn: 0.5587304\ttest: 0.5521752\tbest: 0.5531463 (332)\ttotal: 22s\tremaining: 11.7s\n",
      "391:\tlearn: 0.5587551\ttest: 0.5521752\tbest: 0.5531463 (332)\ttotal: 22s\tremaining: 11.7s\n",
      "392:\tlearn: 0.5588314\ttest: 0.5521752\tbest: 0.5531463 (332)\ttotal: 22.1s\tremaining: 11.6s\n",
      "393:\tlearn: 0.5587248\ttest: 0.5533465\tbest: 0.5533465 (393)\ttotal: 22.1s\tremaining: 11.6s\n",
      "394:\tlearn: 0.5587248\ttest: 0.5533465\tbest: 0.5533465 (393)\ttotal: 22.2s\tremaining: 11.5s\n",
      "395:\tlearn: 0.5587674\ttest: 0.5533465\tbest: 0.5533465 (393)\ttotal: 22.2s\tremaining: 11.5s\n",
      "396:\tlearn: 0.5589783\ttest: 0.5533465\tbest: 0.5533465 (393)\ttotal: 22.3s\tremaining: 11.4s\n",
      "397:\tlearn: 0.5590758\ttest: 0.5533465\tbest: 0.5533465 (393)\ttotal: 22.4s\tremaining: 11.4s\n",
      "398:\tlearn: 0.5593291\ttest: 0.5533465\tbest: 0.5533465 (393)\ttotal: 22.4s\tremaining: 11.3s\n",
      "399:\tlearn: 0.5593931\ttest: 0.5531269\tbest: 0.5533465 (393)\ttotal: 22.5s\tremaining: 11.2s\n",
      "400:\tlearn: 0.5593931\ttest: 0.5531269\tbest: 0.5533465 (393)\ttotal: 22.6s\tremaining: 11.2s\n",
      "401:\tlearn: 0.5595578\ttest: 0.5529072\tbest: 0.5533465 (393)\ttotal: 22.6s\tremaining: 11.1s\n",
      "402:\tlearn: 0.5598903\ttest: 0.5531269\tbest: 0.5533465 (393)\ttotal: 22.7s\tremaining: 11.1s\n",
      "403:\tlearn: 0.5596037\ttest: 0.5529072\tbest: 0.5533465 (393)\ttotal: 22.7s\tremaining: 11s\n",
      "404:\tlearn: 0.5596921\ttest: 0.5529072\tbest: 0.5533465 (393)\ttotal: 22.8s\tremaining: 11s\n",
      "405:\tlearn: 0.5602926\ttest: 0.5531269\tbest: 0.5533465 (393)\ttotal: 22.8s\tremaining: 10.9s\n",
      "406:\tlearn: 0.5601951\ttest: 0.5528233\tbest: 0.5533465 (393)\ttotal: 22.9s\tremaining: 10.9s\n",
      "407:\tlearn: 0.5603140\ttest: 0.5527394\tbest: 0.5533465 (393)\ttotal: 23s\tremaining: 10.8s\n",
      "408:\tlearn: 0.5603294\ttest: 0.5532302\tbest: 0.5533465 (393)\ttotal: 23s\tremaining: 10.8s\n",
      "409:\tlearn: 0.5602531\ttest: 0.5532302\tbest: 0.5533465 (393)\ttotal: 23.1s\tremaining: 10.7s\n",
      "410:\tlearn: 0.5602745\ttest: 0.5532302\tbest: 0.5533465 (393)\ttotal: 23.1s\tremaining: 10.6s\n",
      "411:\tlearn: 0.5599329\ttest: 0.5532302\tbest: 0.5533465 (393)\ttotal: 23.2s\tremaining: 10.6s\n",
      "412:\tlearn: 0.5599664\ttest: 0.5532302\tbest: 0.5533465 (393)\ttotal: 23.2s\tremaining: 10.5s\n",
      "413:\tlearn: 0.5605183\ttest: 0.5532302\tbest: 0.5533465 (393)\ttotal: 23.3s\tremaining: 10.5s\n",
      "414:\tlearn: 0.5604634\ttest: 0.5527394\tbest: 0.5533465 (393)\ttotal: 23.4s\tremaining: 10.4s\n",
      "415:\tlearn: 0.5604634\ttest: 0.5527394\tbest: 0.5533465 (393)\ttotal: 23.4s\tremaining: 10.4s\n",
      "416:\tlearn: 0.5605610\ttest: 0.5527394\tbest: 0.5533465 (393)\ttotal: 23.5s\tremaining: 10.3s\n",
      "417:\tlearn: 0.5606892\ttest: 0.5527394\tbest: 0.5533465 (393)\ttotal: 23.5s\tremaining: 10.2s\n",
      "418:\tlearn: 0.5606800\ttest: 0.5529590\tbest: 0.5533465 (393)\ttotal: 23.6s\tremaining: 10.2s\n",
      "419:\tlearn: 0.5606251\ttest: 0.5529590\tbest: 0.5533465 (393)\ttotal: 23.7s\tremaining: 10.1s\n",
      "420:\tlearn: 0.5606251\ttest: 0.5529590\tbest: 0.5533465 (393)\ttotal: 23.7s\tremaining: 10.1s\n",
      "421:\tlearn: 0.5605703\ttest: 0.5527394\tbest: 0.5533465 (393)\ttotal: 23.8s\tremaining: 10s\n",
      "422:\tlearn: 0.5606038\ttest: 0.5527394\tbest: 0.5533465 (393)\ttotal: 23.8s\tremaining: 9.97s\n",
      "423:\tlearn: 0.5605703\ttest: 0.5528751\tbest: 0.5533465 (393)\ttotal: 23.9s\tremaining: 9.91s\n",
      "424:\tlearn: 0.5605703\ttest: 0.5528751\tbest: 0.5533465 (393)\ttotal: 23.9s\tremaining: 9.86s\n",
      "425:\tlearn: 0.5605916\ttest: 0.5528751\tbest: 0.5533465 (393)\ttotal: 24s\tremaining: 9.8s\n",
      "426:\tlearn: 0.5614796\ttest: 0.5519441\tbest: 0.5533465 (393)\ttotal: 24s\tremaining: 9.74s\n",
      "427:\tlearn: 0.5614796\ttest: 0.5519441\tbest: 0.5533465 (393)\ttotal: 24.1s\tremaining: 9.69s\n",
      "428:\tlearn: 0.5622148\ttest: 0.5524359\tbest: 0.5533465 (393)\ttotal: 24.2s\tremaining: 9.63s\n",
      "429:\tlearn: 0.5616986\ttest: 0.5524359\tbest: 0.5533465 (393)\ttotal: 24.2s\tremaining: 9.57s\n",
      "430:\tlearn: 0.5616772\ttest: 0.5524359\tbest: 0.5533465 (393)\ttotal: 24.3s\tremaining: 9.51s\n",
      "431:\tlearn: 0.5619080\ttest: 0.5525717\tbest: 0.5533465 (393)\ttotal: 24.3s\tremaining: 9.46s\n",
      "432:\tlearn: 0.5619080\ttest: 0.5525717\tbest: 0.5533465 (393)\ttotal: 24.4s\tremaining: 9.41s\n",
      "433:\tlearn: 0.5617772\ttest: 0.5521640\tbest: 0.5533465 (393)\ttotal: 24.5s\tremaining: 9.35s\n",
      "434:\tlearn: 0.5616678\ttest: 0.5521640\tbest: 0.5533465 (393)\ttotal: 24.5s\tremaining: 9.29s\n",
      "435:\tlearn: 0.5617986\ttest: 0.5521640\tbest: 0.5533465 (393)\ttotal: 24.6s\tremaining: 9.25s\n",
      "436:\tlearn: 0.5613821\ttest: 0.5521640\tbest: 0.5533465 (393)\ttotal: 24.6s\tremaining: 9.19s\n",
      "437:\tlearn: 0.5618319\ttest: 0.5527913\tbest: 0.5533465 (393)\ttotal: 24.7s\tremaining: 9.15s\n",
      "438:\tlearn: 0.5618319\ttest: 0.5527913\tbest: 0.5533465 (393)\ttotal: 24.8s\tremaining: 9.1s\n",
      "439:\tlearn: 0.5623574\ttest: 0.5530108\tbest: 0.5533465 (393)\ttotal: 24.9s\tremaining: 9.04s\n",
      "440:\tlearn: 0.5623574\ttest: 0.5530108\tbest: 0.5533465 (393)\ttotal: 24.9s\tremaining: 8.98s\n",
      "441:\tlearn: 0.5623360\ttest: 0.5530108\tbest: 0.5533465 (393)\ttotal: 25s\tremaining: 8.93s\n",
      "442:\tlearn: 0.5625000\ttest: 0.5525197\tbest: 0.5533465 (393)\ttotal: 25s\tremaining: 8.87s\n",
      "443:\tlearn: 0.5626449\ttest: 0.5526555\tbest: 0.5533465 (393)\ttotal: 25.1s\tremaining: 8.82s\n",
      "444:\tlearn: 0.5625998\ttest: 0.5526555\tbest: 0.5533465 (393)\ttotal: 25.2s\tremaining: 8.76s\n",
      "445:\tlearn: 0.5624691\ttest: 0.5526555\tbest: 0.5533465 (393)\ttotal: 25.2s\tremaining: 8.71s\n",
      "446:\tlearn: 0.5624477\ttest: 0.5526555\tbest: 0.5533465 (393)\ttotal: 25.3s\tremaining: 8.65s\n",
      "447:\tlearn: 0.5626116\ttest: 0.5526555\tbest: 0.5533465 (393)\ttotal: 25.3s\tremaining: 8.59s\n",
      "448:\tlearn: 0.5626093\ttest: 0.5528751\tbest: 0.5533465 (393)\ttotal: 25.4s\tremaining: 8.54s\n",
      "449:\tlearn: 0.5625760\ttest: 0.5528751\tbest: 0.5533465 (393)\ttotal: 25.5s\tremaining: 8.49s\n",
      "450:\tlearn: 0.5625428\ttest: 0.5528751\tbest: 0.5533465 (393)\ttotal: 25.5s\tremaining: 8.44s\n",
      "451:\tlearn: 0.5627067\ttest: 0.5524359\tbest: 0.5533465 (393)\ttotal: 25.6s\tremaining: 8.38s\n",
      "452:\tlearn: 0.5627400\ttest: 0.5524359\tbest: 0.5533465 (393)\ttotal: 25.7s\tremaining: 8.33s\n",
      "453:\tlearn: 0.5627946\ttest: 0.5524359\tbest: 0.5533465 (393)\ttotal: 25.7s\tremaining: 8.28s\n",
      "454:\tlearn: 0.5620716\ttest: 0.5524359\tbest: 0.5533465 (393)\ttotal: 25.8s\tremaining: 8.22s\n",
      "455:\tlearn: 0.5616334\ttest: 0.5524359\tbest: 0.5533465 (393)\ttotal: 25.9s\tremaining: 8.17s\n",
      "456:\tlearn: 0.5626402\ttest: 0.5523000\tbest: 0.5533465 (393)\ttotal: 25.9s\tremaining: 8.11s\n",
      "457:\tlearn: 0.5626949\ttest: 0.5522162\tbest: 0.5533465 (393)\ttotal: 26s\tremaining: 8.05s\n",
      "458:\tlearn: 0.5627067\ttest: 0.5522162\tbest: 0.5533465 (393)\ttotal: 26s\tremaining: 8s\n",
      "459:\tlearn: 0.5628492\ttest: 0.5524359\tbest: 0.5533465 (393)\ttotal: 26.1s\tremaining: 7.94s\n",
      "460:\tlearn: 0.5628729\ttest: 0.5524359\tbest: 0.5533465 (393)\ttotal: 26.2s\tremaining: 7.89s\n",
      "461:\tlearn: 0.5629157\ttest: 0.5524359\tbest: 0.5533465 (393)\ttotal: 26.2s\tremaining: 7.83s\n",
      "462:\tlearn: 0.5628255\ttest: 0.5524359\tbest: 0.5533465 (393)\ttotal: 26.3s\tremaining: 7.77s\n",
      "463:\tlearn: 0.5628255\ttest: 0.5524359\tbest: 0.5533465 (393)\ttotal: 26.3s\tremaining: 7.72s\n",
      "464:\tlearn: 0.5627613\ttest: 0.5527074\tbest: 0.5533465 (393)\ttotal: 26.4s\tremaining: 7.66s\n",
      "465:\tlearn: 0.5629038\ttest: 0.5528431\tbest: 0.5533465 (393)\ttotal: 26.5s\tremaining: 7.61s\n",
      "466:\tlearn: 0.5628492\ttest: 0.5530625\tbest: 0.5533465 (393)\ttotal: 26.5s\tremaining: 7.55s\n",
      "467:\tlearn: 0.5628824\ttest: 0.5530625\tbest: 0.5533465 (393)\ttotal: 26.6s\tremaining: 7.49s\n",
      "468:\tlearn: 0.5631437\ttest: 0.5527913\tbest: 0.5533465 (393)\ttotal: 26.6s\tremaining: 7.44s\n",
      "469:\tlearn: 0.5632861\ttest: 0.5527913\tbest: 0.5533465 (393)\ttotal: 26.7s\tremaining: 7.38s\n",
      "470:\tlearn: 0.5633407\ttest: 0.5528431\tbest: 0.5533465 (393)\ttotal: 26.8s\tremaining: 7.33s\n",
      "471:\tlearn: 0.5632957\ttest: 0.5527074\tbest: 0.5533465 (393)\ttotal: 26.8s\tremaining: 7.27s\n",
      "472:\tlearn: 0.5632957\ttest: 0.5527074\tbest: 0.5533465 (393)\ttotal: 26.9s\tremaining: 7.21s\n",
      "473:\tlearn: 0.5626094\ttest: 0.5525197\tbest: 0.5533465 (393)\ttotal: 26.9s\tremaining: 7.16s\n",
      "474:\tlearn: 0.5626094\ttest: 0.5525197\tbest: 0.5533465 (393)\ttotal: 27s\tremaining: 7.1s\n",
      "475:\tlearn: 0.5624572\ttest: 0.5525197\tbest: 0.5533465 (393)\ttotal: 27s\tremaining: 7.04s\n",
      "476:\tlearn: 0.5625547\ttest: 0.5525197\tbest: 0.5533465 (393)\ttotal: 27.1s\tremaining: 6.99s\n",
      "477:\tlearn: 0.5626094\ttest: 0.5525197\tbest: 0.5533465 (393)\ttotal: 27.1s\tremaining: 6.93s\n",
      "478:\tlearn: 0.5626094\ttest: 0.5526036\tbest: 0.5533465 (393)\ttotal: 27.2s\tremaining: 6.88s\n",
      "479:\tlearn: 0.5628068\ttest: 0.5530947\tbest: 0.5533465 (393)\ttotal: 27.3s\tremaining: 6.82s\n",
      "480:\tlearn: 0.5628401\ttest: 0.5530947\tbest: 0.5533465 (393)\ttotal: 27.3s\tremaining: 6.76s\n",
      "481:\tlearn: 0.5628474\ttest: 0.5526036\tbest: 0.5533465 (393)\ttotal: 27.4s\tremaining: 6.71s\n",
      "482:\tlearn: 0.5628355\ttest: 0.5528233\tbest: 0.5533465 (393)\ttotal: 27.5s\tremaining: 6.65s\n",
      "483:\tlearn: 0.5628355\ttest: 0.5528751\tbest: 0.5533465 (393)\ttotal: 27.5s\tremaining: 6.6s\n",
      "484:\tlearn: 0.5627808\ttest: 0.5528751\tbest: 0.5533465 (393)\ttotal: 27.6s\tremaining: 6.54s\n",
      "485:\tlearn: 0.5627808\ttest: 0.5530947\tbest: 0.5533465 (393)\ttotal: 27.6s\tremaining: 6.48s\n",
      "486:\tlearn: 0.5628688\ttest: 0.5533981\tbest: 0.5533981 (486)\ttotal: 27.7s\tremaining: 6.43s\n",
      "487:\tlearn: 0.5628141\ttest: 0.5533981\tbest: 0.5533981 (486)\ttotal: 27.8s\tremaining: 6.37s\n",
      "488:\tlearn: 0.5628355\ttest: 0.5533981\tbest: 0.5533981 (486)\ttotal: 27.8s\tremaining: 6.32s\n",
      "489:\tlearn: 0.5628784\ttest: 0.5537528\tbest: 0.5537528 (489)\ttotal: 27.9s\tremaining: 6.26s\n",
      "490:\tlearn: 0.5628665\ttest: 0.5535335\tbest: 0.5537528 (489)\ttotal: 28s\tremaining: 6.21s\n",
      "491:\tlearn: 0.5630735\ttest: 0.5535335\tbest: 0.5537528 (489)\ttotal: 28s\tremaining: 6.15s\n",
      "492:\tlearn: 0.5630211\ttest: 0.5531786\tbest: 0.5537528 (489)\ttotal: 28.1s\tremaining: 6.09s\n",
      "493:\tlearn: 0.5633942\ttest: 0.5531786\tbest: 0.5537528 (489)\ttotal: 28.1s\tremaining: 6.04s\n",
      "494:\tlearn: 0.5633610\ttest: 0.5531786\tbest: 0.5537528 (489)\ttotal: 28.2s\tremaining: 5.98s\n",
      "495:\tlearn: 0.5634157\ttest: 0.5531786\tbest: 0.5537528 (489)\ttotal: 28.3s\tremaining: 5.92s\n",
      "496:\tlearn: 0.5632613\ttest: 0.5534496\tbest: 0.5537528 (489)\ttotal: 28.3s\tremaining: 5.87s\n",
      "497:\tlearn: 0.5632613\ttest: 0.5534496\tbest: 0.5537528 (489)\ttotal: 28.4s\tremaining: 5.81s\n",
      "498:\tlearn: 0.5632613\ttest: 0.5534496\tbest: 0.5537528 (489)\ttotal: 28.4s\tremaining: 5.75s\n",
      "499:\tlearn: 0.5629545\ttest: 0.5536689\tbest: 0.5537528 (489)\ttotal: 28.5s\tremaining: 5.69s\n",
      "500:\tlearn: 0.5630092\ttest: 0.5536689\tbest: 0.5537528 (489)\ttotal: 28.5s\tremaining: 5.64s\n",
      "501:\tlearn: 0.5630735\ttest: 0.5536689\tbest: 0.5537528 (489)\ttotal: 28.6s\tremaining: 5.58s\n",
      "502:\tlearn: 0.5630188\ttest: 0.5536689\tbest: 0.5537528 (489)\ttotal: 28.7s\tremaining: 5.53s\n",
      "503:\tlearn: 0.5634456\ttest: 0.5536689\tbest: 0.5537528 (489)\ttotal: 28.7s\tremaining: 5.47s\n",
      "504:\tlearn: 0.5628355\ttest: 0.5536689\tbest: 0.5537528 (489)\ttotal: 28.8s\tremaining: 5.42s\n",
      "505:\tlearn: 0.5628355\ttest: 0.5536689\tbest: 0.5537528 (489)\ttotal: 28.8s\tremaining: 5.36s\n",
      "506:\tlearn: 0.5636640\ttest: 0.5536689\tbest: 0.5537528 (489)\ttotal: 28.9s\tremaining: 5.3s\n",
      "507:\tlearn: 0.5636854\ttest: 0.5536689\tbest: 0.5537528 (489)\ttotal: 29s\tremaining: 5.25s\n",
      "508:\tlearn: 0.5637283\ttest: 0.5533141\tbest: 0.5537528 (489)\ttotal: 29s\tremaining: 5.19s\n",
      "509:\tlearn: 0.5637497\ttest: 0.5533141\tbest: 0.5537528 (489)\ttotal: 29.1s\tremaining: 5.13s\n",
      "510:\tlearn: 0.5640441\ttest: 0.5532302\tbest: 0.5537528 (489)\ttotal: 29.1s\tremaining: 5.08s\n",
      "511:\tlearn: 0.5640441\ttest: 0.5532302\tbest: 0.5537528 (489)\ttotal: 29.2s\tremaining: 5.02s\n",
      "512:\tlearn: 0.5633921\ttest: 0.5529269\tbest: 0.5537528 (489)\ttotal: 29.3s\tremaining: 4.96s\n",
      "513:\tlearn: 0.5639798\ttest: 0.5531979\tbest: 0.5537528 (489)\ttotal: 29.3s\tremaining: 4.91s\n",
      "514:\tlearn: 0.5640012\ttest: 0.5531979\tbest: 0.5537528 (489)\ttotal: 29.4s\tremaining: 4.85s\n",
      "515:\tlearn: 0.5640012\ttest: 0.5531979\tbest: 0.5537528 (489)\ttotal: 29.4s\tremaining: 4.79s\n",
      "516:\tlearn: 0.5640441\ttest: 0.5532818\tbest: 0.5537528 (489)\ttotal: 29.5s\tremaining: 4.73s\n",
      "517:\tlearn: 0.5639895\ttest: 0.5532818\tbest: 0.5537528 (489)\ttotal: 29.6s\tremaining: 4.68s\n",
      "518:\tlearn: 0.5640441\ttest: 0.5535011\tbest: 0.5537528 (489)\ttotal: 29.6s\tremaining: 4.62s\n",
      "519:\tlearn: 0.5641201\ttest: 0.5535011\tbest: 0.5537528 (489)\ttotal: 29.7s\tremaining: 4.57s\n",
      "520:\tlearn: 0.5640441\ttest: 0.5537203\tbest: 0.5537528 (489)\ttotal: 29.7s\tremaining: 4.51s\n",
      "521:\tlearn: 0.5643053\ttest: 0.5537203\tbest: 0.5537528 (489)\ttotal: 29.8s\tremaining: 4.45s\n",
      "522:\tlearn: 0.5642605\ttest: 0.5535011\tbest: 0.5537528 (489)\ttotal: 29.9s\tremaining: 4.4s\n",
      "523:\tlearn: 0.5642605\ttest: 0.5535011\tbest: 0.5537528 (489)\ttotal: 29.9s\tremaining: 4.34s\n",
      "524:\tlearn: 0.5642390\ttest: 0.5536364\tbest: 0.5537528 (489)\ttotal: 30s\tremaining: 4.28s\n",
      "525:\tlearn: 0.5642176\ttest: 0.5536364\tbest: 0.5537528 (489)\ttotal: 30s\tremaining: 4.22s\n",
      "526:\tlearn: 0.5641747\ttest: 0.5537716\tbest: 0.5537716 (526)\ttotal: 30.1s\tremaining: 4.17s\n",
      "527:\tlearn: 0.5642605\ttest: 0.5536877\tbest: 0.5537716 (526)\ttotal: 30.1s\tremaining: 4.11s\n",
      "528:\tlearn: 0.5641961\ttest: 0.5532495\tbest: 0.5537716 (526)\ttotal: 30.2s\tremaining: 4.05s\n",
      "529:\tlearn: 0.5633974\ttest: 0.5532495\tbest: 0.5537716 (526)\ttotal: 30.3s\tremaining: 4s\n",
      "530:\tlearn: 0.5631882\ttest: 0.5532495\tbest: 0.5537716 (526)\ttotal: 30.3s\tremaining: 3.94s\n",
      "531:\tlearn: 0.5630572\ttest: 0.5532495\tbest: 0.5537716 (526)\ttotal: 30.4s\tremaining: 3.88s\n",
      "532:\tlearn: 0.5633427\ttest: 0.5532495\tbest: 0.5537716 (526)\ttotal: 30.4s\tremaining: 3.82s\n",
      "533:\tlearn: 0.5633974\ttest: 0.5530303\tbest: 0.5537716 (526)\ttotal: 30.5s\tremaining: 3.77s\n",
      "534:\tlearn: 0.5633427\ttest: 0.5531141\tbest: 0.5537716 (526)\ttotal: 30.5s\tremaining: 3.71s\n",
      "535:\tlearn: 0.5633760\ttest: 0.5528431\tbest: 0.5537716 (526)\ttotal: 30.6s\tremaining: 3.66s\n",
      "536:\tlearn: 0.5633760\ttest: 0.5528431\tbest: 0.5537716 (526)\ttotal: 30.7s\tremaining: 3.6s\n",
      "537:\tlearn: 0.5635069\ttest: 0.5530625\tbest: 0.5537716 (526)\ttotal: 30.8s\tremaining: 3.55s\n",
      "538:\tlearn: 0.5635069\ttest: 0.5530625\tbest: 0.5537716 (526)\ttotal: 30.9s\tremaining: 3.49s\n",
      "539:\tlearn: 0.5636924\ttest: 0.5526236\tbest: 0.5537716 (526)\ttotal: 30.9s\tremaining: 3.44s\n",
      "540:\tlearn: 0.5635927\ttest: 0.5526236\tbest: 0.5537716 (526)\ttotal: 31s\tremaining: 3.38s\n",
      "541:\tlearn: 0.5635927\ttest: 0.5529269\tbest: 0.5537716 (526)\ttotal: 31s\tremaining: 3.32s\n",
      "542:\tlearn: 0.5636377\ttest: 0.5527074\tbest: 0.5537716 (526)\ttotal: 31.1s\tremaining: 3.27s\n",
      "543:\tlearn: 0.5636592\ttest: 0.5527074\tbest: 0.5537716 (526)\ttotal: 31.2s\tremaining: 3.21s\n",
      "544:\tlearn: 0.5636592\ttest: 0.5527074\tbest: 0.5537716 (526)\ttotal: 31.2s\tremaining: 3.15s\n",
      "545:\tlearn: 0.5644027\ttest: 0.5529786\tbest: 0.5537716 (526)\ttotal: 31.3s\tremaining: 3.1s\n",
      "546:\tlearn: 0.5638156\ttest: 0.5530625\tbest: 0.5537716 (526)\ttotal: 31.4s\tremaining: 3.04s\n",
      "547:\tlearn: 0.5645002\ttest: 0.5529786\tbest: 0.5537716 (526)\ttotal: 31.4s\tremaining: 2.98s\n",
      "548:\tlearn: 0.5639444\ttest: 0.5530625\tbest: 0.5537716 (526)\ttotal: 31.5s\tremaining: 2.92s\n",
      "549:\tlearn: 0.5644340\ttest: 0.5529786\tbest: 0.5537716 (526)\ttotal: 31.5s\tremaining: 2.87s\n",
      "550:\tlearn: 0.5645646\ttest: 0.5527592\tbest: 0.5537716 (526)\ttotal: 31.6s\tremaining: 2.81s\n",
      "551:\tlearn: 0.5639092\ttest: 0.5526755\tbest: 0.5537716 (526)\ttotal: 31.7s\tremaining: 2.75s\n",
      "552:\tlearn: 0.5639092\ttest: 0.5526755\tbest: 0.5537716 (526)\ttotal: 31.8s\tremaining: 2.7s\n",
      "553:\tlearn: 0.5640069\ttest: 0.5526755\tbest: 0.5537716 (526)\ttotal: 31.8s\tremaining: 2.64s\n",
      "554:\tlearn: 0.5641807\ttest: 0.5526755\tbest: 0.5537716 (526)\ttotal: 31.9s\tremaining: 2.58s\n",
      "555:\tlearn: 0.5547479\ttest: 0.5526755\tbest: 0.5537716 (526)\ttotal: 31.9s\tremaining: 2.53s\n",
      "556:\tlearn: 0.5553909\ttest: 0.5527592\tbest: 0.5537716 (526)\ttotal: 32s\tremaining: 2.47s\n",
      "557:\tlearn: 0.5555469\ttest: 0.5527592\tbest: 0.5537716 (526)\ttotal: 32.1s\tremaining: 2.41s\n",
      "558:\tlearn: 0.5547479\ttest: 0.5528431\tbest: 0.5537716 (526)\ttotal: 32.1s\tremaining: 2.35s\n",
      "559:\tlearn: 0.5547479\ttest: 0.5527592\tbest: 0.5537716 (526)\ttotal: 32.2s\tremaining: 2.3s\n",
      "560:\tlearn: 0.5544655\ttest: 0.5525717\tbest: 0.5537716 (526)\ttotal: 32.2s\tremaining: 2.24s\n",
      "561:\tlearn: 0.5546133\ttest: 0.5530947\tbest: 0.5537716 (526)\ttotal: 32.3s\tremaining: 2.18s\n",
      "562:\tlearn: 0.5546915\ttest: 0.5530947\tbest: 0.5537716 (526)\ttotal: 32.4s\tremaining: 2.13s\n",
      "563:\tlearn: 0.5547131\ttest: 0.5530947\tbest: 0.5537716 (526)\ttotal: 32.4s\tremaining: 2.07s\n",
      "564:\tlearn: 0.5546612\ttest: 0.5530947\tbest: 0.5537716 (526)\ttotal: 32.5s\tremaining: 2.01s\n",
      "565:\tlearn: 0.5546481\ttest: 0.5528751\tbest: 0.5537716 (526)\ttotal: 32.5s\tremaining: 1.95s\n",
      "566:\tlearn: 0.5552826\ttest: 0.5528751\tbest: 0.5537716 (526)\ttotal: 32.6s\tremaining: 1.9s\n",
      "567:\tlearn: 0.5552826\ttest: 0.5528751\tbest: 0.5537716 (526)\ttotal: 32.7s\tremaining: 1.84s\n",
      "568:\tlearn: 0.5553736\ttest: 0.5532302\tbest: 0.5537716 (526)\ttotal: 32.7s\tremaining: 1.78s\n",
      "569:\tlearn: 0.5553866\ttest: 0.5532302\tbest: 0.5537716 (526)\ttotal: 32.8s\tremaining: 1.73s\n",
      "570:\tlearn: 0.5554732\ttest: 0.5530947\tbest: 0.5537716 (526)\ttotal: 32.9s\tremaining: 1.67s\n",
      "571:\tlearn: 0.5553822\ttest: 0.5534496\tbest: 0.5537716 (526)\ttotal: 32.9s\tremaining: 1.61s\n",
      "572:\tlearn: 0.5553822\ttest: 0.5534496\tbest: 0.5537716 (526)\ttotal: 33s\tremaining: 1.55s\n",
      "573:\tlearn: 0.5555166\ttest: 0.5534496\tbest: 0.5537716 (526)\ttotal: 33s\tremaining: 1.5s\n",
      "574:\tlearn: 0.5556162\ttest: 0.5533657\tbest: 0.5537716 (526)\ttotal: 33.1s\tremaining: 1.44s\n",
      "575:\tlearn: 0.5557159\ttest: 0.5534496\tbest: 0.5537716 (526)\ttotal: 33.2s\tremaining: 1.38s\n",
      "576:\tlearn: 0.5561014\ttest: 0.5534496\tbest: 0.5537716 (526)\ttotal: 33.2s\tremaining: 1.32s\n",
      "577:\tlearn: 0.5560147\ttest: 0.5534496\tbest: 0.5537716 (526)\ttotal: 33.3s\tremaining: 1.27s\n",
      "578:\tlearn: 0.5559930\ttest: 0.5535335\tbest: 0.5537716 (526)\ttotal: 33.3s\tremaining: 1.21s\n",
      "579:\tlearn: 0.5559930\ttest: 0.5535335\tbest: 0.5537716 (526)\ttotal: 33.4s\tremaining: 1.15s\n",
      "580:\tlearn: 0.5560926\ttest: 0.5535335\tbest: 0.5537716 (526)\ttotal: 33.4s\tremaining: 1.09s\n",
      "581:\tlearn: 0.5561489\ttest: 0.5530947\tbest: 0.5537716 (526)\ttotal: 33.5s\tremaining: 1.04s\n",
      "582:\tlearn: 0.5563306\ttest: 0.5534496\tbest: 0.5537716 (526)\ttotal: 33.6s\tremaining: 979ms\n",
      "583:\tlearn: 0.5565773\ttest: 0.5534496\tbest: 0.5537716 (526)\ttotal: 33.6s\tremaining: 921ms\n",
      "584:\tlearn: 0.5564648\ttest: 0.5536689\tbest: 0.5537716 (526)\ttotal: 33.7s\tremaining: 863ms\n",
      "585:\tlearn: 0.5565082\ttest: 0.5537528\tbest: 0.5537716 (526)\ttotal: 33.7s\tremaining: 806ms\n",
      "586:\tlearn: 0.5563957\ttest: 0.5540561\tbest: 0.5540561 (586)\ttotal: 33.8s\tremaining: 748ms\n",
      "587:\tlearn: 0.5561706\ttest: 0.5539721\tbest: 0.5540561 (586)\ttotal: 33.8s\tremaining: 691ms\n",
      "588:\tlearn: 0.5562485\ttest: 0.5539721\tbest: 0.5540561 (586)\ttotal: 33.9s\tremaining: 633ms\n",
      "589:\tlearn: 0.5563482\ttest: 0.5538881\tbest: 0.5540561 (586)\ttotal: 34s\tremaining: 576ms\n",
      "590:\tlearn: 0.5563482\ttest: 0.5537528\tbest: 0.5540561 (586)\ttotal: 34s\tremaining: 518ms\n",
      "591:\tlearn: 0.5562356\ttest: 0.5533981\tbest: 0.5540561 (586)\ttotal: 34.1s\tremaining: 461ms\n",
      "592:\tlearn: 0.5562139\ttest: 0.5533981\tbest: 0.5540561 (586)\ttotal: 34.1s\tremaining: 403ms\n",
      "593:\tlearn: 0.5563611\ttest: 0.5538368\tbest: 0.5540561 (586)\ttotal: 34.2s\tremaining: 345ms\n",
      "594:\tlearn: 0.5564865\ttest: 0.5538368\tbest: 0.5540561 (586)\ttotal: 34.3s\tremaining: 288ms\n",
      "595:\tlearn: 0.5565082\ttest: 0.5537528\tbest: 0.5540561 (586)\ttotal: 34.3s\tremaining: 230ms\n",
      "596:\tlearn: 0.5564607\ttest: 0.5537528\tbest: 0.5540561 (586)\ttotal: 34.4s\tremaining: 173ms\n",
      "597:\tlearn: 0.5566512\ttest: 0.5538368\tbest: 0.5540561 (586)\ttotal: 34.4s\tremaining: 115ms\n",
      "598:\tlearn: 0.5566166\ttest: 0.5538368\tbest: 0.5540561 (586)\ttotal: 34.5s\tremaining: 57.6ms\n",
      "599:\tlearn: 0.5566383\ttest: 0.5538368\tbest: 0.5540561 (586)\ttotal: 34.6s\tremaining: 0us\n",
      "\n",
      "bestTest = 0.5540561031\n",
      "bestIteration = 586\n",
      "\n",
      "Shrink model to first 587 iterations.\n"
     ]
    }
   ],
   "source": [
    "cat_model.fit(X_train_gb,\n",
    "              y_train_gb,\n",
    "              eval_set=(X_valid_gb, y_valid_gb),\n",
    "              plot=True)\n",
    "prediction_catboost = cat_model.predict(X_valid_gb)"
   ]
  },
  {
   "cell_type": "markdown",
   "id": "15d117b0",
   "metadata": {},
   "source": [
    "### LightGBM"
   ]
  },
  {
   "cell_type": "code",
   "execution_count": 64,
   "id": "4aa794e2",
   "metadata": {},
   "outputs": [],
   "source": [
    "X_train.columns = [i.replace('-', ' ').replace('/', ' ').replace(',', '') for i in X_train.columns.values]\n",
    "X_test.columns = [i.replace('-', ' ').replace('/', ' ').replace(',', '') for i in X_train.columns.values]"
   ]
  },
  {
   "cell_type": "code",
   "execution_count": 65,
   "id": "4265cfd2",
   "metadata": {},
   "outputs": [],
   "source": [
    "X_train_gb = X_train_gb.astype('category')\n",
    "X_test_gb = X_test_gb.astype('category')\n",
    "X_valid_gb = X_valid_gb.astype('category')\n",
    "y_train_gb = y_train_gb.astype('category')\n",
    "y_test_gb = y_test_gb.astype('category')\n",
    "y_valid_gb = y_valid_gb.astype('category')"
   ]
  },
  {
   "cell_type": "code",
   "execution_count": 66,
   "id": "be90d9fb",
   "metadata": {},
   "outputs": [
    {
     "name": "stdout",
     "output_type": "stream",
     "text": [
      "The best hyperparameters are  {'learning_rate': 0.07, 'max_depth': 12, 'n_estimators': 200}\n",
      "The best score is: 0.5275038529378102\n"
     ]
    }
   ],
   "source": [
    "lgbm_model = LGBMClassifier(random_state=12354)\n",
    "# set up our search grid\n",
    "param_grid = {\"max_depth\":    [12],\n",
    "              \"n_estimators\": [200, 600],\n",
    "              \"learning_rate\": [0.03, 0.07]}\n",
    "\n",
    "# try out every combination of the above values\n",
    "search = GridSearchCV(lgbm_model, param_grid, cv=4, scoring='f1').fit(X_train_gb, y_train_gb)\n",
    "\n",
    "print(\"The best hyperparameters are \",search.best_params_)\n",
    "print(\"The best score is:\", search.best_score_)"
   ]
  },
  {
   "cell_type": "code",
   "execution_count": 67,
   "id": "3a6a4d8d",
   "metadata": {},
   "outputs": [],
   "source": [
    "lgbm_model = LGBMClassifier(learning_rate=search.best_params_[\"learning_rate\"],\n",
    "                            n_estimators=search.best_params_[\"n_estimators\"],\n",
    "                            max_depth=search.best_params_[\"max_depth\"],\n",
    "                            random_state=12345)\n",
    "lgbm_model.fit(X_train_gb,\n",
    "               y_train_gb)\n",
    "\n",
    "prediction_lgbm = lgbm_model.predict(X_valid_gb)"
   ]
  },
  {
   "cell_type": "markdown",
   "id": "b434757a",
   "metadata": {},
   "source": [
    "### PyTorch"
   ]
  },
  {
   "cell_type": "code",
   "execution_count": 68,
   "id": "0db3e867",
   "metadata": {},
   "outputs": [],
   "source": [
    "features_train = torch.FloatTensor(X_train.values.astype('float32'))\n",
    "features_test = torch.FloatTensor(X_test.values.astype('float32'))\n",
    "features_valid = torch.FloatTensor(X_valid.values.astype('float32'))\n",
    "target_train = torch.FloatTensor(y_train.values.astype('float32'))\n",
    "target_test = torch.FloatTensor(test_y.values.astype('float32'))\n",
    "target_valid = torch.FloatTensor(y_valid.values.astype('float32'))"
   ]
  },
  {
   "cell_type": "code",
   "execution_count": 69,
   "id": "43a4b48f",
   "metadata": {},
   "outputs": [
    {
     "data": {
      "text/plain": [
       "torch.Size([31660, 44])"
      ]
     },
     "execution_count": 69,
     "metadata": {},
     "output_type": "execute_result"
    }
   ],
   "source": [
    "features_train.size()"
   ]
  },
  {
   "cell_type": "code",
   "execution_count": 70,
   "id": "49da2503",
   "metadata": {},
   "outputs": [],
   "source": [
    "class Net(nn.Module):\n",
    "    def __init__(self):\n",
    "        super(Net, self).__init__()\n",
    "        self.dense0 = nn.Linear(44, 87)\n",
    "        self.act1 = nn.ReLU()\n",
    "        self.dropout = nn.Dropout(0)\n",
    "        self.dense1 = nn.Linear(87, 50)\n",
    "        self.act2 = nn.ReLU()\n",
    "        self.dense2 = nn.Linear(50, 32)\n",
    "        self.act3 = nn.ReLU()\n",
    "        self.dense3 = nn.Linear(32, 11)\n",
    "        self.act4 = nn.ReLU()\n",
    "        self.dense4 = nn.Linear(11, 1)\n",
    "\n",
    "    def forward(self, X, **kwargs):\n",
    "        X = self.dense0(X)\n",
    "        X = self.act1(X)\n",
    "        X = self.dropout(X)\n",
    "        X = self.dense1(X)\n",
    "        X = self.act2(X)\n",
    "        X = self.dense2(X)\n",
    "        X = self.act3(X)\n",
    "        X = self.dense3(X)\n",
    "        X = self.act4(X)\n",
    "        X = F.softmax(self.dense4(X), dim=1)\n",
    "        return X"
   ]
  },
  {
   "cell_type": "code",
   "execution_count": 71,
   "id": "2374407f",
   "metadata": {},
   "outputs": [],
   "source": [
    "learning_rate = 1e-2"
   ]
  },
  {
   "cell_type": "code",
   "execution_count": 72,
   "id": "565494fe",
   "metadata": {},
   "outputs": [],
   "source": [
    "net = Net()"
   ]
  },
  {
   "cell_type": "code",
   "execution_count": 73,
   "id": "ff356230",
   "metadata": {},
   "outputs": [],
   "source": [
    "optimizer = torch.optim.Adam(net.parameters(), lr=learning_rate)\n",
    "\n",
    "loss = nn.BCELoss()\n",
    "\n",
    "num_epochs = 100"
   ]
  },
  {
   "cell_type": "code",
   "execution_count": 74,
   "id": "51dd4d60",
   "metadata": {
    "scrolled": true
   },
   "outputs": [],
   "source": [
    "#for epoch in range(num_epochs):\n",
    "#    optimizer.zero_grad()\n",
    "#    \n",
    "#    preds = net.forward(features_train).flatten()\n",
    "#            \n",
    "#    loss_value = loss(preds, target_train)\n",
    "#    print(loss_value)\n",
    "#    loss_value.backward()\n",
    "#            \n",
    "#    optimizer.step()\n",
    "#    \n",
    "#    if epoch % 10 == 0 or epoch == num_epochs - 1:\n",
    "#        net.eval()\n",
    "#        valid_preds = net.forward(features_valid)\n",
    "#        valid_preds = valid_preds.squeeze()\n",
    "#        #print(f1_score(test_y, test_preds.detach().numpy()))"
   ]
  },
  {
   "cell_type": "code",
   "execution_count": 75,
   "id": "9821298e",
   "metadata": {},
   "outputs": [],
   "source": [
    "#valid_preds"
   ]
  },
  {
   "cell_type": "code",
   "execution_count": 76,
   "id": "12012552",
   "metadata": {},
   "outputs": [],
   "source": [
    "#sum(valid_preds.detach().numpy())"
   ]
  },
  {
   "cell_type": "code",
   "execution_count": 141,
   "id": "33280315",
   "metadata": {},
   "outputs": [
    {
     "name": "stdout",
     "output_type": "stream",
     "text": [
      "-----------prediction_catboost:\n",
      "\n",
      "              precision    recall  f1-score   support\n",
      "\n",
      "           0       0.59      0.81      0.68      3892\n",
      "           1       0.71      0.45      0.55      4024\n",
      "\n",
      "    accuracy                           0.63      7916\n",
      "   macro avg       0.65      0.63      0.62      7916\n",
      "weighted avg       0.65      0.63      0.62      7916\n",
      "\n",
      "--------------------------------\n",
      "-----------prediction_lgbm:\n",
      "\n",
      "              precision    recall  f1-score   support\n",
      "\n",
      "           0       0.59      0.81      0.68      3892\n",
      "           1       0.71      0.45      0.55      4024\n",
      "\n",
      "    accuracy                           0.63      7916\n",
      "   macro avg       0.65      0.63      0.61      7916\n",
      "weighted avg       0.65      0.63      0.61      7916\n",
      "\n",
      "--------------------------------\n"
     ]
    }
   ],
   "source": [
    "print('-----------prediction_catboost:\\n')\n",
    "print(classification_report(y_valid_gb, prediction_catboost))\n",
    "print('--------------------------------')\n",
    "print('-----------prediction_lgbm:\\n')\n",
    "print(classification_report(y_valid_gb, prediction_lgbm))\n",
    "print('--------------------------------')\n",
    "#print('-----------нейронка:\\n')\n",
    "#print(classification_report(y_valid, valid_preds.detach().numpy()))\n",
    "#print('--------------------------------')"
   ]
  },
  {
   "cell_type": "markdown",
   "id": "d6593ab5",
   "metadata": {},
   "source": [
    "Опираясь на полученные метрики лучшей моделью является catboost, хотя модели и очень близки по качеству"
   ]
  },
  {
   "cell_type": "markdown",
   "id": "794895a2",
   "metadata": {},
   "source": [
    "Проверим лучшую модель на тестовой выборке"
   ]
  },
  {
   "cell_type": "code",
   "execution_count": 142,
   "id": "5aa020cf",
   "metadata": {},
   "outputs": [],
   "source": [
    "best_model_test = cat_model.predict(X_test_gb)"
   ]
  },
  {
   "cell_type": "code",
   "execution_count": 143,
   "id": "3f771757",
   "metadata": {},
   "outputs": [
    {
     "name": "stdout",
     "output_type": "stream",
     "text": [
      "              precision    recall  f1-score   support\n",
      "\n",
      "           0       0.59      0.80      0.68      4936\n",
      "           1       0.70      0.46      0.55      4959\n",
      "\n",
      "    accuracy                           0.63      9895\n",
      "   macro avg       0.65      0.63      0.62      9895\n",
      "weighted avg       0.65      0.63      0.62      9895\n",
      "\n"
     ]
    }
   ],
   "source": [
    "print(classification_report(y_test_gb, best_model_test))"
   ]
  },
  {
   "cell_type": "code",
   "execution_count": 144,
   "id": "028bb8d0",
   "metadata": {},
   "outputs": [
    {
     "name": "stdout",
     "output_type": "stream",
     "text": [
      "Confusion matrix, without normalization\n",
      "[[3955  981]\n",
      " [2700 2259]]\n"
     ]
    },
    {
     "data": {
      "image/png": "[encoded data removed]",
      "text/plain": [
       "<Figure size 720x576 with 2 Axes>"
      ]
     },
     "metadata": {
      "needs_background": "light"
     },
     "output_type": "display_data"
    }
   ],
   "source": [
    "def plot_confusion_matrix(cm, classes,\n",
    "                          normalize=False,\n",
    "                          title='Confusion matrix',\n",
    "                          cmap=plt.cm.Blues):\n",
    "    \"\"\"\n",
    "    This function prints and plots the confusion matrix.\n",
    "    Normalization can be applied by setting `normalize=True`.\n",
    "    \"\"\"\n",
    "    plt.imshow(cm, interpolation='nearest', cmap=cmap)\n",
    "    plt.title(title)\n",
    "    plt.colorbar()\n",
    "    tick_marks = np.arange(len(classes))\n",
    "    plt.xticks(tick_marks, classes, rotation=45)\n",
    "    plt.yticks(tick_marks, classes)\n",
    "\n",
    "    if normalize:\n",
    "        cm = cm.astype('float') / cm.sum(axis=1)[:, np.newaxis]\n",
    "        print(\"Normalized confusion matrix\")\n",
    "    else:\n",
    "        print('Confusion matrix, without normalization')\n",
    "\n",
    "    print(cm)\n",
    "\n",
    "    thresh = cm.max() / 2.\n",
    "    for i, j in itertools.product(range(cm.shape[0]), range(cm.shape[1])):\n",
    "        plt.text(j, i, cm[i, j],\n",
    "                 horizontalalignment=\"center\",\n",
    "                 color=\"white\" if cm[i, j] > thresh else \"black\")\n",
    "\n",
    "    plt.tight_layout()\n",
    "    plt.ylabel('True label')\n",
    "    plt.xlabel('Predicted label')\n",
    "\n",
    "font = {'size' : 15}\n",
    "\n",
    "plt.rc('font', **font)\n",
    "\n",
    "cnf_matrix = confusion_matrix(y_test_gb, best_model_test)\n",
    "plt.figure(figsize=(10, 8))\n",
    "plot_confusion_matrix(cnf_matrix, classes=['без ДТП', 'с ДТП'],\n",
    "                      title='Confusion matrix')\n",
    "plt.savefig(\"conf_matrix.png\")\n",
    "plt.show()"
   ]
  },
  {
   "cell_type": "markdown",
   "id": "4d915293",
   "metadata": {},
   "source": [
    "## Проведём анализ важности факторов ДТП"
   ]
  },
  {
   "cell_type": "code",
   "execution_count": 145,
   "id": "e390d66a",
   "metadata": {},
   "outputs": [],
   "source": [
    "df = pd.DataFrame(columns=columns)\n",
    "df.loc[len(df.index)] = list(cat_model.feature_importances_)"
   ]
  },
  {
   "cell_type": "code",
   "execution_count": 146,
   "id": "d18dbbeb",
   "metadata": {},
   "outputs": [
    {
     "data": {
      "text/html": [
       "<div>\n",
       "<style scoped>\n",
       "    .dataframe tbody tr th:only-of-type {\n",
       "        vertical-align: middle;\n",
       "    }\n",
       "\n",
       "    .dataframe tbody tr th {\n",
       "        vertical-align: top;\n",
       "    }\n",
       "\n",
       "    .dataframe thead th {\n",
       "        text-align: right;\n",
       "    }\n",
       "</style>\n",
       "<table border=\"1\" class=\"dataframe\">\n",
       "  <thead>\n",
       "    <tr style=\"text-align: right;\">\n",
       "      <th></th>\n",
       "      <th>0</th>\n",
       "    </tr>\n",
       "  </thead>\n",
       "  <tbody>\n",
       "    <tr>\n",
       "      <th>party_sobriety</th>\n",
       "      <td>41.602129</td>\n",
       "    </tr>\n",
       "    <tr>\n",
       "      <th>party_drug_physical</th>\n",
       "      <td>10.783114</td>\n",
       "    </tr>\n",
       "    <tr>\n",
       "      <th>lighting</th>\n",
       "      <td>7.913484</td>\n",
       "    </tr>\n",
       "    <tr>\n",
       "      <th>road_surface</th>\n",
       "      <td>7.851849</td>\n",
       "    </tr>\n",
       "    <tr>\n",
       "      <th>location_type</th>\n",
       "      <td>7.768280</td>\n",
       "    </tr>\n",
       "    <tr>\n",
       "      <th>vehicle_transmission</th>\n",
       "      <td>7.156922</td>\n",
       "    </tr>\n",
       "    <tr>\n",
       "      <th>control_device</th>\n",
       "      <td>6.777610</td>\n",
       "    </tr>\n",
       "    <tr>\n",
       "      <th>weather_1</th>\n",
       "      <td>5.508279</td>\n",
       "    </tr>\n",
       "    <tr>\n",
       "      <th>road_condition_1</th>\n",
       "      <td>4.638334</td>\n",
       "    </tr>\n",
       "  </tbody>\n",
       "</table>\n",
       "</div>"
      ],
      "text/plain": [
       "                              0\n",
       "party_sobriety        41.602129\n",
       "party_drug_physical   10.783114\n",
       "lighting               7.913484\n",
       "road_surface           7.851849\n",
       "location_type          7.768280\n",
       "vehicle_transmission   7.156922\n",
       "control_device         6.777610\n",
       "weather_1              5.508279\n",
       "road_condition_1       4.638334"
      ]
     },
     "execution_count": 146,
     "metadata": {},
     "output_type": "execute_result"
    }
   ],
   "source": [
    "df.T.sort_values(0,ascending=0)"
   ]
  },
  {
   "cell_type": "code",
   "execution_count": 147,
   "id": "029e6762",
   "metadata": {},
   "outputs": [
    {
     "data": {
      "image/png": "[encoded data removed]",
      "text/plain": [
       "<Figure size 1152x720 with 1 Axes>"
      ]
     },
     "metadata": {
      "needs_background": "light"
     },
     "output_type": "display_data"
    }
   ],
   "source": [
    "pd.crosstab(data['party_sobriety'],data['at_fault']).plot(kind='bar',figsize=(16,10))\n",
    "plt.xlabel('Состояние участника')\n",
    "plt.ylabel('Количество ДТП')\n",
    "plt.show()"
   ]
  },
  {
   "cell_type": "markdown",
   "id": "2d9e85e1",
   "metadata": {},
   "source": [
    "Опираясь на полученный график можно заметить, что если участник выпил, или его состояние неизвестно, то чаще всего автомобиль попадет в ДТП. \n",
    "\n",
    "Нужно оборудовать автомобиль тестером на состояние акогольного опьянения у водителя. "
   ]
  },
  {
   "cell_type": "markdown",
   "id": "9b7dfc95",
   "metadata": {},
   "source": [
    "## Выводы"
   ]
  },
  {
   "cell_type": "markdown",
   "id": "0f42d236",
   "metadata": {},
   "source": [
    "Лучшей моделью получилась модель catboost: она лучше всех определяет и находит автомобиль с возможным ДТП.\n",
    "\n",
    "На данный момент определяет машины с ДТП меньше половины из всех возможных правильно, если улучшить метрики вполне адекватно можно использовать эту модель.\n",
    "\n",
    "Чтобы улучшить модель можно добавить данные о техническом состаянии автомобиля, его возрасте."
   ]
  }
 ],
 "metadata": {
  "ExecuteTimeLog": [
   {
    "duration": 980,
    "start_time": "2022-12-28T00:31:47.092Z"
   },
   {
    "duration": 5,
    "start_time": "2022-12-28T00:33:06.268Z"
   },
   {
    "duration": 194,
    "start_time": "2022-12-28T00:33:09.930Z"
   },
   {
    "duration": 4,
    "start_time": "2022-12-28T00:34:52.336Z"
   },
   {
    "duration": 7634,
    "start_time": "2022-12-28T00:34:53.167Z"
   },
   {
    "duration": 149,
    "start_time": "2022-12-28T00:35:17.956Z"
   },
   {
    "duration": 3,
    "start_time": "2022-12-28T00:36:15.588Z"
   },
   {
    "duration": 3,
    "start_time": "2022-12-28T00:36:16.277Z"
   },
   {
    "duration": 132,
    "start_time": "2022-12-28T00:36:16.964Z"
   },
   {
    "duration": 4,
    "start_time": "2022-12-28T00:36:45.162Z"
   },
   {
    "duration": 4,
    "start_time": "2022-12-28T00:36:45.474Z"
   },
   {
    "duration": 172,
    "start_time": "2022-12-28T00:36:45.756Z"
   },
   {
    "duration": 3,
    "start_time": "2022-12-28T00:37:53.395Z"
   },
   {
    "duration": 3,
    "start_time": "2022-12-28T00:37:53.898Z"
   },
   {
    "duration": 17133,
    "start_time": "2022-12-28T00:37:54.250Z"
   },
   {
    "duration": 22,
    "start_time": "2022-12-28T00:38:27.200Z"
   },
   {
    "duration": 11173,
    "start_time": "2022-12-28T00:39:12.329Z"
   },
   {
    "duration": 13,
    "start_time": "2022-12-28T00:39:23.503Z"
   },
   {
    "duration": 3503,
    "start_time": "2022-12-28T00:39:27.397Z"
   },
   {
    "duration": 11,
    "start_time": "2022-12-28T00:39:32.456Z"
   },
   {
    "duration": 3423,
    "start_time": "2022-12-28T00:40:16.370Z"
   },
   {
    "duration": 6,
    "start_time": "2022-12-28T00:40:23.770Z"
   },
   {
    "duration": 11185,
    "start_time": "2022-12-28T01:20:20.742Z"
   },
   {
    "duration": 4226,
    "start_time": "2022-12-28T01:20:37.732Z"
   },
   {
    "duration": 1851,
    "start_time": "2022-12-28T01:21:07.429Z"
   },
   {
    "duration": 2584,
    "start_time": "2022-12-28T01:21:14.314Z"
   },
   {
    "duration": 269,
    "start_time": "2022-12-28T01:31:46.057Z"
   },
   {
    "duration": 12,
    "start_time": "2022-12-28T01:31:50.412Z"
   },
   {
    "duration": 263,
    "start_time": "2022-12-28T01:32:19.036Z"
   },
   {
    "duration": 9,
    "start_time": "2022-12-28T01:32:19.638Z"
   },
   {
    "duration": 206,
    "start_time": "2022-12-28T01:33:16.765Z"
   },
   {
    "duration": 7,
    "start_time": "2022-12-28T01:33:17.251Z"
   },
   {
    "duration": 176,
    "start_time": "2022-12-28T01:34:23.765Z"
   },
   {
    "duration": 204,
    "start_time": "2022-12-28T01:34:40.525Z"
   },
   {
    "duration": 160,
    "start_time": "2022-12-28T01:34:41.405Z"
   },
   {
    "duration": 1015,
    "start_time": "2022-12-28T22:46:34.758Z"
   },
   {
    "duration": 4,
    "start_time": "2022-12-28T22:46:35.775Z"
   },
   {
    "duration": 5351,
    "start_time": "2022-12-28T22:46:35.781Z"
   },
   {
    "duration": 17515,
    "start_time": "2022-12-28T22:46:41.135Z"
   },
   {
    "duration": 23,
    "start_time": "2022-12-28T22:46:58.652Z"
   },
   {
    "duration": 12202,
    "start_time": "2022-12-28T22:46:58.676Z"
   },
   {
    "duration": 11,
    "start_time": "2022-12-28T22:47:10.880Z"
   },
   {
    "duration": 3806,
    "start_time": "2022-12-28T22:47:10.893Z"
   },
   {
    "duration": 10,
    "start_time": "2022-12-28T22:47:14.701Z"
   },
   {
    "duration": 3986,
    "start_time": "2022-12-28T22:47:14.713Z"
   },
   {
    "duration": 8,
    "start_time": "2022-12-28T22:47:18.701Z"
   },
   {
    "duration": 11649,
    "start_time": "2022-12-28T22:47:18.710Z"
   },
   {
    "duration": 5309,
    "start_time": "2022-12-28T22:47:30.362Z"
   },
   {
    "duration": 2359,
    "start_time": "2022-12-28T22:47:35.673Z"
   },
   {
    "duration": 3283,
    "start_time": "2022-12-28T22:47:38.039Z"
   },
   {
    "duration": 97,
    "start_time": "2022-12-28T23:37:08.170Z"
   },
   {
    "duration": 1976,
    "start_time": "2022-12-28T23:40:52.907Z"
   },
   {
    "duration": 1354,
    "start_time": "2022-12-29T01:13:45.711Z"
   },
   {
    "duration": 76,
    "start_time": "2022-12-29T01:14:39.599Z"
   },
   {
    "duration": 1593,
    "start_time": "2022-12-29T01:14:48.020Z"
   },
   {
    "duration": 235,
    "start_time": "2022-12-29T01:14:50.158Z"
   },
   {
    "duration": 354,
    "start_time": "2022-12-29T01:15:40.180Z"
   },
   {
    "duration": 219,
    "start_time": "2022-12-29T01:15:41.244Z"
   },
   {
    "duration": 255,
    "start_time": "2022-12-29T01:21:29.291Z"
   },
   {
    "duration": 1106,
    "start_time": "2022-12-29T01:21:48.060Z"
   },
   {
    "duration": 27,
    "start_time": "2022-12-29T01:22:39.924Z"
   },
   {
    "duration": 6,
    "start_time": "2022-12-29T01:23:01.899Z"
   },
   {
    "duration": 268,
    "start_time": "2022-12-29T01:23:04.555Z"
   },
   {
    "duration": 6,
    "start_time": "2022-12-29T01:23:05.083Z"
   },
   {
    "duration": 258,
    "start_time": "2022-12-29T01:23:26.404Z"
   },
   {
    "duration": 7,
    "start_time": "2022-12-29T01:23:26.758Z"
   },
   {
    "duration": 268,
    "start_time": "2022-12-29T01:23:51.172Z"
   },
   {
    "duration": 6,
    "start_time": "2022-12-29T01:23:51.579Z"
   },
   {
    "duration": 174,
    "start_time": "2022-12-29T01:23:55.891Z"
   },
   {
    "duration": 727,
    "start_time": "2022-12-29T01:27:43.045Z"
   },
   {
    "duration": 4,
    "start_time": "2022-12-29T01:27:43.774Z"
   },
   {
    "duration": 5278,
    "start_time": "2022-12-29T01:27:43.779Z"
   },
   {
    "duration": 19821,
    "start_time": "2022-12-29T01:27:49.059Z"
   },
   {
    "duration": 23,
    "start_time": "2022-12-29T01:28:08.882Z"
   },
   {
    "duration": 11465,
    "start_time": "2022-12-29T01:28:08.907Z"
   },
   {
    "duration": 12,
    "start_time": "2022-12-29T01:28:20.374Z"
   },
   {
    "duration": 3684,
    "start_time": "2022-12-29T01:28:20.388Z"
   },
   {
    "duration": 11,
    "start_time": "2022-12-29T01:28:24.073Z"
   },
   {
    "duration": 3715,
    "start_time": "2022-12-29T01:28:24.087Z"
   },
   {
    "duration": 7,
    "start_time": "2022-12-29T01:28:27.804Z"
   },
   {
    "duration": 12165,
    "start_time": "2022-12-29T01:28:27.812Z"
   },
   {
    "duration": 4975,
    "start_time": "2022-12-29T01:28:39.979Z"
   },
   {
    "duration": 2169,
    "start_time": "2022-12-29T01:28:44.956Z"
   },
   {
    "duration": 2904,
    "start_time": "2022-12-29T01:28:47.128Z"
   },
   {
    "duration": 229,
    "start_time": "2022-12-29T01:28:50.036Z"
   },
   {
    "duration": 188,
    "start_time": "2022-12-29T01:28:50.267Z"
   },
   {
    "duration": 361,
    "start_time": "2022-12-29T01:28:50.457Z"
   },
   {
    "duration": 234,
    "start_time": "2022-12-29T01:28:50.821Z"
   },
   {
    "duration": 1107,
    "start_time": "2022-12-29T01:28:51.057Z"
   },
   {
    "duration": 8,
    "start_time": "2022-12-29T01:28:52.166Z"
   },
   {
    "duration": 176,
    "start_time": "2022-12-29T01:28:52.175Z"
   },
   {
    "duration": 796,
    "start_time": "2022-12-29T01:29:36.212Z"
   },
   {
    "duration": 3,
    "start_time": "2022-12-29T01:29:37.010Z"
   },
   {
    "duration": 4903,
    "start_time": "2022-12-29T01:29:37.015Z"
   },
   {
    "duration": 18315,
    "start_time": "2022-12-29T01:29:41.920Z"
   },
   {
    "duration": 21,
    "start_time": "2022-12-29T01:30:00.237Z"
   },
   {
    "duration": 11632,
    "start_time": "2022-12-29T01:30:00.260Z"
   },
   {
    "duration": 11,
    "start_time": "2022-12-29T01:30:11.894Z"
   },
   {
    "duration": 3592,
    "start_time": "2022-12-29T01:30:11.907Z"
   },
   {
    "duration": 10,
    "start_time": "2022-12-29T01:30:15.501Z"
   },
   {
    "duration": 3614,
    "start_time": "2022-12-29T01:30:15.513Z"
   },
   {
    "duration": 10,
    "start_time": "2022-12-29T01:30:19.129Z"
   },
   {
    "duration": 11920,
    "start_time": "2022-12-29T01:30:19.141Z"
   },
   {
    "duration": 5687,
    "start_time": "2022-12-29T01:30:31.063Z"
   },
   {
    "duration": 2110,
    "start_time": "2022-12-29T01:30:36.752Z"
   },
   {
    "duration": 2749,
    "start_time": "2022-12-29T01:30:38.864Z"
   },
   {
    "duration": 234,
    "start_time": "2022-12-29T01:30:41.614Z"
   },
   {
    "duration": 190,
    "start_time": "2022-12-29T01:30:41.850Z"
   },
   {
    "duration": 359,
    "start_time": "2022-12-29T01:30:42.042Z"
   },
   {
    "duration": 245,
    "start_time": "2022-12-29T01:30:42.404Z"
   },
   {
    "duration": 267,
    "start_time": "2022-12-29T01:30:42.651Z"
   },
   {
    "duration": 7,
    "start_time": "2022-12-29T01:30:42.920Z"
   },
   {
    "duration": 181,
    "start_time": "2022-12-29T01:30:42.928Z"
   },
   {
    "duration": 699,
    "start_time": "2022-12-29T01:31:11.385Z"
   },
   {
    "duration": 3,
    "start_time": "2022-12-29T01:31:12.599Z"
   },
   {
    "duration": 5356,
    "start_time": "2022-12-29T01:31:14.282Z"
   },
   {
    "duration": 22526,
    "start_time": "2022-12-29T01:31:56.932Z"
   },
   {
    "duration": 21,
    "start_time": "2022-12-29T01:32:32.314Z"
   },
   {
    "duration": 11413,
    "start_time": "2022-12-29T01:32:33.077Z"
   },
   {
    "duration": 12,
    "start_time": "2022-12-29T01:32:44.492Z"
   },
   {
    "duration": 3608,
    "start_time": "2022-12-29T01:33:44.359Z"
   },
   {
    "duration": 10,
    "start_time": "2022-12-29T01:33:47.969Z"
   },
   {
    "duration": 3778,
    "start_time": "2022-12-29T01:33:49.494Z"
   },
   {
    "duration": 6,
    "start_time": "2022-12-29T01:33:53.274Z"
   },
   {
    "duration": 12255,
    "start_time": "2022-12-29T01:33:55.520Z"
   },
   {
    "duration": 4863,
    "start_time": "2022-12-29T01:34:10.648Z"
   },
   {
    "duration": 2088,
    "start_time": "2022-12-29T01:37:56.411Z"
   },
   {
    "duration": 2726,
    "start_time": "2022-12-29T01:37:58.501Z"
   },
   {
    "duration": 238,
    "start_time": "2022-12-29T01:38:03.651Z"
   },
   {
    "duration": 182,
    "start_time": "2022-12-29T01:38:04.515Z"
   },
   {
    "duration": 376,
    "start_time": "2022-12-29T01:38:07.211Z"
   },
   {
    "duration": 237,
    "start_time": "2022-12-29T01:38:08.523Z"
   },
   {
    "duration": 282,
    "start_time": "2022-12-29T01:38:09.971Z"
   },
   {
    "duration": 7,
    "start_time": "2022-12-29T01:38:10.328Z"
   },
   {
    "duration": 175,
    "start_time": "2022-12-29T01:38:11.812Z"
   },
   {
    "duration": 1111,
    "start_time": "2022-12-29T01:38:15.690Z"
   },
   {
    "duration": 711,
    "start_time": "2022-12-29T01:38:31.720Z"
   },
   {
    "duration": 758,
    "start_time": "2022-12-29T01:38:55.320Z"
   },
   {
    "duration": 3,
    "start_time": "2022-12-29T01:38:56.080Z"
   },
   {
    "duration": 5167,
    "start_time": "2022-12-29T01:38:56.085Z"
   },
   {
    "duration": 19391,
    "start_time": "2022-12-29T01:39:01.254Z"
   },
   {
    "duration": 22,
    "start_time": "2022-12-29T01:39:20.647Z"
   },
   {
    "duration": 11501,
    "start_time": "2022-12-29T01:39:20.671Z"
   },
   {
    "duration": 12,
    "start_time": "2022-12-29T01:39:32.174Z"
   },
   {
    "duration": 3720,
    "start_time": "2022-12-29T01:39:32.187Z"
   },
   {
    "duration": 10,
    "start_time": "2022-12-29T01:39:35.908Z"
   },
   {
    "duration": 3817,
    "start_time": "2022-12-29T01:39:35.920Z"
   },
   {
    "duration": 7,
    "start_time": "2022-12-29T01:39:39.739Z"
   },
   {
    "duration": 12480,
    "start_time": "2022-12-29T01:39:39.748Z"
   },
   {
    "duration": 4871,
    "start_time": "2022-12-29T01:39:52.230Z"
   },
   {
    "duration": 2082,
    "start_time": "2022-12-29T01:39:57.104Z"
   },
   {
    "duration": 2807,
    "start_time": "2022-12-29T01:39:59.187Z"
   },
   {
    "duration": 241,
    "start_time": "2022-12-29T01:40:01.996Z"
   },
   {
    "duration": 206,
    "start_time": "2022-12-29T01:40:02.239Z"
   },
   {
    "duration": 377,
    "start_time": "2022-12-29T01:40:02.448Z"
   },
   {
    "duration": 214,
    "start_time": "2022-12-29T01:40:02.826Z"
   },
   {
    "duration": 264,
    "start_time": "2022-12-29T01:40:03.042Z"
   },
   {
    "duration": 170,
    "start_time": "2022-12-29T01:40:03.308Z"
   },
   {
    "duration": 697,
    "start_time": "2022-12-29T01:40:44.052Z"
   },
   {
    "duration": 3,
    "start_time": "2022-12-29T01:40:44.751Z"
   },
   {
    "duration": 4907,
    "start_time": "2022-12-29T01:40:44.755Z"
   },
   {
    "duration": 19260,
    "start_time": "2022-12-29T01:40:49.664Z"
   },
   {
    "duration": 24,
    "start_time": "2022-12-29T01:41:08.926Z"
   },
   {
    "duration": 11373,
    "start_time": "2022-12-29T01:41:08.951Z"
   },
   {
    "duration": 12,
    "start_time": "2022-12-29T01:41:20.325Z"
   },
   {
    "duration": 3625,
    "start_time": "2022-12-29T01:41:20.338Z"
   },
   {
    "duration": 10,
    "start_time": "2022-12-29T01:41:23.965Z"
   },
   {
    "duration": 3692,
    "start_time": "2022-12-29T01:41:23.976Z"
   },
   {
    "duration": 8,
    "start_time": "2022-12-29T01:41:27.669Z"
   },
   {
    "duration": 12051,
    "start_time": "2022-12-29T01:41:27.679Z"
   },
   {
    "duration": 4948,
    "start_time": "2022-12-29T01:41:39.734Z"
   },
   {
    "duration": 2194,
    "start_time": "2022-12-29T01:41:44.684Z"
   },
   {
    "duration": 2825,
    "start_time": "2022-12-29T01:41:46.879Z"
   },
   {
    "duration": 229,
    "start_time": "2022-12-29T01:41:49.706Z"
   },
   {
    "duration": 200,
    "start_time": "2022-12-29T01:41:49.937Z"
   },
   {
    "duration": 367,
    "start_time": "2022-12-29T01:41:50.139Z"
   },
   {
    "duration": 220,
    "start_time": "2022-12-29T01:41:50.508Z"
   },
   {
    "duration": 6,
    "start_time": "2022-12-29T01:41:50.730Z"
   },
   {
    "duration": 276,
    "start_time": "2022-12-29T01:41:50.738Z"
   },
   {
    "duration": 170,
    "start_time": "2022-12-29T01:41:51.016Z"
   },
   {
    "duration": 698,
    "start_time": "2022-12-29T01:42:44.741Z"
   },
   {
    "duration": 3,
    "start_time": "2022-12-29T01:42:45.441Z"
   },
   {
    "duration": 5009,
    "start_time": "2022-12-29T01:42:45.445Z"
   },
   {
    "duration": 18514,
    "start_time": "2022-12-29T01:42:50.456Z"
   },
   {
    "duration": 22,
    "start_time": "2022-12-29T01:43:08.972Z"
   },
   {
    "duration": 11345,
    "start_time": "2022-12-29T01:43:08.996Z"
   },
   {
    "duration": 12,
    "start_time": "2022-12-29T01:43:20.343Z"
   },
   {
    "duration": 3597,
    "start_time": "2022-12-29T01:43:20.356Z"
   },
   {
    "duration": 10,
    "start_time": "2022-12-29T01:43:23.954Z"
   },
   {
    "duration": 3703,
    "start_time": "2022-12-29T01:43:23.968Z"
   },
   {
    "duration": 8,
    "start_time": "2022-12-29T01:43:27.673Z"
   },
   {
    "duration": 12179,
    "start_time": "2022-12-29T01:43:27.683Z"
   },
   {
    "duration": 4849,
    "start_time": "2022-12-29T01:43:39.864Z"
   },
   {
    "duration": 2026,
    "start_time": "2022-12-29T01:43:44.715Z"
   },
   {
    "duration": 2872,
    "start_time": "2022-12-29T01:43:46.743Z"
   },
   {
    "duration": 231,
    "start_time": "2022-12-29T01:43:49.617Z"
   },
   {
    "duration": 191,
    "start_time": "2022-12-29T01:43:49.850Z"
   },
   {
    "duration": 357,
    "start_time": "2022-12-29T01:43:50.043Z"
   },
   {
    "duration": 226,
    "start_time": "2022-12-29T01:43:50.402Z"
   },
   {
    "duration": 271,
    "start_time": "2022-12-29T01:43:50.630Z"
   },
   {
    "duration": 170,
    "start_time": "2022-12-29T01:43:50.903Z"
   },
   {
    "duration": 3,
    "start_time": "2022-12-29T01:45:00.669Z"
   },
   {
    "duration": 81,
    "start_time": "2022-12-29T01:45:02.224Z"
   },
   {
    "duration": 674,
    "start_time": "2022-12-29T01:51:07.691Z"
   },
   {
    "duration": 3,
    "start_time": "2022-12-29T01:51:08.367Z"
   },
   {
    "duration": 5093,
    "start_time": "2022-12-29T01:51:08.372Z"
   },
   {
    "duration": 774,
    "start_time": "2022-12-29T01:52:05.305Z"
   },
   {
    "duration": 3,
    "start_time": "2022-12-29T01:52:06.082Z"
   },
   {
    "duration": 5112,
    "start_time": "2022-12-29T01:52:06.347Z"
   },
   {
    "duration": 724,
    "start_time": "2022-12-29T01:53:38.824Z"
   },
   {
    "duration": 4,
    "start_time": "2022-12-29T01:53:39.550Z"
   },
   {
    "duration": 4979,
    "start_time": "2022-12-29T01:53:40.408Z"
   },
   {
    "duration": 722,
    "start_time": "2022-12-29T01:54:14.161Z"
   },
   {
    "duration": 4,
    "start_time": "2022-12-29T01:54:14.885Z"
   },
   {
    "duration": 4980,
    "start_time": "2022-12-29T01:54:14.891Z"
   },
   {
    "duration": 42,
    "start_time": "2022-12-29T01:54:19.873Z"
   },
   {
    "duration": 0,
    "start_time": "2022-12-29T01:54:19.917Z"
   },
   {
    "duration": 0,
    "start_time": "2022-12-29T01:54:19.918Z"
   },
   {
    "duration": 0,
    "start_time": "2022-12-29T01:54:19.920Z"
   },
   {
    "duration": 0,
    "start_time": "2022-12-29T01:54:19.921Z"
   },
   {
    "duration": 0,
    "start_time": "2022-12-29T01:54:19.922Z"
   },
   {
    "duration": 0,
    "start_time": "2022-12-29T01:54:19.923Z"
   },
   {
    "duration": 0,
    "start_time": "2022-12-29T01:54:19.925Z"
   },
   {
    "duration": 0,
    "start_time": "2022-12-29T01:54:19.926Z"
   },
   {
    "duration": 0,
    "start_time": "2022-12-29T01:54:19.927Z"
   },
   {
    "duration": 0,
    "start_time": "2022-12-29T01:54:19.927Z"
   },
   {
    "duration": 0,
    "start_time": "2022-12-29T01:54:19.928Z"
   },
   {
    "duration": 0,
    "start_time": "2022-12-29T01:54:19.929Z"
   },
   {
    "duration": 0,
    "start_time": "2022-12-29T01:54:19.930Z"
   },
   {
    "duration": 0,
    "start_time": "2022-12-29T01:54:19.931Z"
   },
   {
    "duration": 0,
    "start_time": "2022-12-29T01:54:19.932Z"
   },
   {
    "duration": 1,
    "start_time": "2022-12-29T01:54:19.933Z"
   },
   {
    "duration": 0,
    "start_time": "2022-12-29T01:54:19.935Z"
   },
   {
    "duration": 0,
    "start_time": "2022-12-29T01:54:19.935Z"
   },
   {
    "duration": 0,
    "start_time": "2022-12-29T01:54:19.936Z"
   },
   {
    "duration": 2495,
    "start_time": "2022-12-29T01:54:25.824Z"
   },
   {
    "duration": 76,
    "start_time": "2022-12-29T01:54:33.057Z"
   },
   {
    "duration": 5,
    "start_time": "2022-12-29T01:55:33.535Z"
   },
   {
    "duration": 42,
    "start_time": "2022-12-29T02:00:38.492Z"
   },
   {
    "duration": 944,
    "start_time": "2022-12-29T07:55:59.480Z"
   },
   {
    "duration": 5,
    "start_time": "2022-12-29T07:56:00.427Z"
   },
   {
    "duration": 7680,
    "start_time": "2022-12-29T07:56:02.371Z"
   },
   {
    "duration": 16394,
    "start_time": "2022-12-29T07:56:32.371Z"
   },
   {
    "duration": 32,
    "start_time": "2022-12-29T07:56:58.358Z"
   },
   {
    "duration": 10704,
    "start_time": "2022-12-29T07:56:59.374Z"
   },
   {
    "duration": 11,
    "start_time": "2022-12-29T07:57:34.269Z"
   },
   {
    "duration": 3516,
    "start_time": "2022-12-29T07:57:35.094Z"
   },
   {
    "duration": 9,
    "start_time": "2022-12-29T07:57:56.159Z"
   },
   {
    "duration": 3405,
    "start_time": "2022-12-29T07:57:59.671Z"
   },
   {
    "duration": 12,
    "start_time": "2022-12-29T07:58:03.078Z"
   },
   {
    "duration": 11328,
    "start_time": "2022-12-29T07:58:11.398Z"
   },
   {
    "duration": 4968,
    "start_time": "2022-12-29T07:58:22.728Z"
   },
   {
    "duration": 2118,
    "start_time": "2022-12-29T07:58:27.697Z"
   },
   {
    "duration": 2782,
    "start_time": "2022-12-29T07:58:29.817Z"
   },
   {
    "duration": 202,
    "start_time": "2022-12-29T07:58:39.183Z"
   },
   {
    "duration": 183,
    "start_time": "2022-12-29T07:58:39.959Z"
   },
   {
    "duration": 343,
    "start_time": "2022-12-29T07:58:45.926Z"
   },
   {
    "duration": 226,
    "start_time": "2022-12-29T07:58:47.016Z"
   },
   {
    "duration": 233,
    "start_time": "2022-12-29T07:58:56.685Z"
   },
   {
    "duration": 181,
    "start_time": "2022-12-29T07:58:57.685Z"
   },
   {
    "duration": 3,
    "start_time": "2022-12-29T07:59:02.058Z"
   },
   {
    "duration": 1459,
    "start_time": "2022-12-29T07:59:02.675Z"
   },
   {
    "duration": 704,
    "start_time": "2022-12-29T08:00:53.984Z"
   },
   {
    "duration": 3,
    "start_time": "2022-12-29T08:00:55.853Z"
   },
   {
    "duration": 7927,
    "start_time": "2022-12-29T08:00:56.385Z"
   },
   {
    "duration": 16398,
    "start_time": "2022-12-29T08:01:10.553Z"
   },
   {
    "duration": 28,
    "start_time": "2022-12-29T08:01:26.954Z"
   },
   {
    "duration": 10725,
    "start_time": "2022-12-29T08:01:53.661Z"
   },
   {
    "duration": 14,
    "start_time": "2022-12-29T08:02:04.389Z"
   },
   {
    "duration": 3299,
    "start_time": "2022-12-29T08:02:25.908Z"
   },
   {
    "duration": 9,
    "start_time": "2022-12-29T08:02:29.209Z"
   },
   {
    "duration": 3229,
    "start_time": "2022-12-29T08:02:32.143Z"
   },
   {
    "duration": 7,
    "start_time": "2022-12-29T08:02:35.374Z"
   },
   {
    "duration": 11369,
    "start_time": "2022-12-29T08:02:44.541Z"
   },
   {
    "duration": 5050,
    "start_time": "2022-12-29T08:02:55.912Z"
   },
   {
    "duration": 2181,
    "start_time": "2022-12-29T08:03:00.965Z"
   },
   {
    "duration": 2885,
    "start_time": "2022-12-29T08:03:03.148Z"
   },
   {
    "duration": 227,
    "start_time": "2022-12-29T08:03:20.670Z"
   },
   {
    "duration": 189,
    "start_time": "2022-12-29T08:03:21.843Z"
   },
   {
    "duration": 362,
    "start_time": "2022-12-29T08:03:24.909Z"
   },
   {
    "duration": 240,
    "start_time": "2022-12-29T08:03:25.917Z"
   },
   {
    "duration": 243,
    "start_time": "2022-12-29T08:03:28.607Z"
   },
   {
    "duration": 205,
    "start_time": "2022-12-29T08:03:29.670Z"
   },
   {
    "duration": 3,
    "start_time": "2022-12-29T08:03:34.740Z"
   },
   {
    "duration": 1857,
    "start_time": "2022-12-29T08:03:35.975Z"
   },
   {
    "duration": 26,
    "start_time": "2022-12-29T08:03:45.960Z"
   },
   {
    "duration": 722,
    "start_time": "2022-12-29T08:09:31.782Z"
   },
   {
    "duration": 3,
    "start_time": "2022-12-29T08:09:32.506Z"
   },
   {
    "duration": 8456,
    "start_time": "2022-12-29T08:09:32.511Z"
   },
   {
    "duration": 16912,
    "start_time": "2022-12-29T08:09:40.968Z"
   },
   {
    "duration": 24,
    "start_time": "2022-12-29T08:09:57.883Z"
   },
   {
    "duration": 11008,
    "start_time": "2022-12-29T08:09:57.909Z"
   },
   {
    "duration": 11,
    "start_time": "2022-12-29T08:10:08.919Z"
   },
   {
    "duration": 3383,
    "start_time": "2022-12-29T08:10:08.936Z"
   },
   {
    "duration": 9,
    "start_time": "2022-12-29T08:10:12.320Z"
   },
   {
    "duration": 3404,
    "start_time": "2022-12-29T08:10:12.330Z"
   },
   {
    "duration": 8,
    "start_time": "2022-12-29T08:10:15.736Z"
   },
   {
    "duration": 11442,
    "start_time": "2022-12-29T08:10:15.746Z"
   },
   {
    "duration": 4695,
    "start_time": "2022-12-29T08:10:27.190Z"
   },
   {
    "duration": 2119,
    "start_time": "2022-12-29T08:10:31.888Z"
   },
   {
    "duration": 2835,
    "start_time": "2022-12-29T08:10:34.009Z"
   },
   {
    "duration": 216,
    "start_time": "2022-12-29T08:10:36.846Z"
   },
   {
    "duration": 183,
    "start_time": "2022-12-29T08:10:37.063Z"
   },
   {
    "duration": 1318,
    "start_time": "2022-12-29T08:10:37.247Z"
   },
   {
    "duration": 212,
    "start_time": "2022-12-29T08:10:38.566Z"
   },
   {
    "duration": 244,
    "start_time": "2022-12-29T08:10:38.780Z"
   },
   {
    "duration": 150,
    "start_time": "2022-12-29T08:10:39.026Z"
   },
   {
    "duration": 7,
    "start_time": "2022-12-29T08:10:39.178Z"
   },
   {
    "duration": 1807,
    "start_time": "2022-12-29T08:10:39.187Z"
   },
   {
    "duration": 27,
    "start_time": "2022-12-29T08:10:40.996Z"
   },
   {
    "duration": 670,
    "start_time": "2022-12-29T08:11:09.300Z"
   },
   {
    "duration": 4,
    "start_time": "2022-12-29T08:11:09.972Z"
   },
   {
    "duration": 7733,
    "start_time": "2022-12-29T08:11:09.978Z"
   },
   {
    "duration": 16550,
    "start_time": "2022-12-29T08:11:17.713Z"
   },
   {
    "duration": 28,
    "start_time": "2022-12-29T08:11:34.264Z"
   },
   {
    "duration": 10561,
    "start_time": "2022-12-29T08:11:34.294Z"
   },
   {
    "duration": 12,
    "start_time": "2022-12-29T08:11:44.857Z"
   },
   {
    "duration": 3340,
    "start_time": "2022-12-29T08:11:44.870Z"
   },
   {
    "duration": 9,
    "start_time": "2022-12-29T08:11:48.212Z"
   },
   {
    "duration": 3302,
    "start_time": "2022-12-29T08:11:48.222Z"
   },
   {
    "duration": 7,
    "start_time": "2022-12-29T08:11:51.526Z"
   },
   {
    "duration": 11460,
    "start_time": "2022-12-29T08:11:51.534Z"
   },
   {
    "duration": 4675,
    "start_time": "2022-12-29T08:12:02.996Z"
   },
   {
    "duration": 2099,
    "start_time": "2022-12-29T08:12:07.679Z"
   },
   {
    "duration": 2760,
    "start_time": "2022-12-29T08:12:09.780Z"
   },
   {
    "duration": 208,
    "start_time": "2022-12-29T08:12:12.542Z"
   },
   {
    "duration": 177,
    "start_time": "2022-12-29T08:12:12.751Z"
   },
   {
    "duration": 351,
    "start_time": "2022-12-29T08:12:12.930Z"
   },
   {
    "duration": 202,
    "start_time": "2022-12-29T08:12:13.282Z"
   },
   {
    "duration": 247,
    "start_time": "2022-12-29T08:12:13.486Z"
   },
   {
    "duration": 174,
    "start_time": "2022-12-29T08:12:13.734Z"
   },
   {
    "duration": 6,
    "start_time": "2022-12-29T08:12:13.910Z"
   },
   {
    "duration": 1770,
    "start_time": "2022-12-29T08:12:13.918Z"
   },
   {
    "duration": 24,
    "start_time": "2022-12-29T08:12:15.690Z"
   },
   {
    "duration": 695,
    "start_time": "2022-12-29T08:18:10.977Z"
   },
   {
    "duration": 3,
    "start_time": "2022-12-29T08:18:11.675Z"
   },
   {
    "duration": 7597,
    "start_time": "2022-12-29T08:18:12.393Z"
   },
   {
    "duration": 16673,
    "start_time": "2022-12-29T08:18:22.617Z"
   },
   {
    "duration": 22,
    "start_time": "2022-12-29T08:18:39.292Z"
   },
   {
    "duration": 10478,
    "start_time": "2022-12-29T08:18:44.584Z"
   },
   {
    "duration": 15,
    "start_time": "2022-12-29T08:18:55.064Z"
   },
   {
    "duration": 3430,
    "start_time": "2022-12-29T08:18:55.081Z"
   },
   {
    "duration": 10,
    "start_time": "2022-12-29T08:18:58.514Z"
   },
   {
    "duration": 3535,
    "start_time": "2022-12-29T08:18:58.526Z"
   },
   {
    "duration": 7,
    "start_time": "2022-12-29T08:19:02.063Z"
   },
   {
    "duration": 11087,
    "start_time": "2022-12-29T08:19:06.161Z"
   },
   {
    "duration": 4568,
    "start_time": "2022-12-29T08:19:17.250Z"
   },
   {
    "duration": 2051,
    "start_time": "2022-12-29T08:19:21.820Z"
   },
   {
    "duration": 2942,
    "start_time": "2022-12-29T08:19:23.873Z"
   },
   {
    "duration": 207,
    "start_time": "2022-12-29T08:19:36.789Z"
   },
   {
    "duration": 183,
    "start_time": "2022-12-29T08:19:37.570Z"
   },
   {
    "duration": 351,
    "start_time": "2022-12-29T08:19:40.489Z"
   },
   {
    "duration": 201,
    "start_time": "2022-12-29T08:19:41.592Z"
   },
   {
    "duration": 244,
    "start_time": "2022-12-29T08:19:45.949Z"
   },
   {
    "duration": 166,
    "start_time": "2022-12-29T08:19:46.417Z"
   },
   {
    "duration": 3,
    "start_time": "2022-12-29T08:19:50.456Z"
   },
   {
    "duration": 1748,
    "start_time": "2022-12-29T08:19:51.710Z"
   },
   {
    "duration": 27,
    "start_time": "2022-12-29T08:19:54.570Z"
   },
   {
    "duration": 729,
    "start_time": "2022-12-29T08:25:46.447Z"
   },
   {
    "duration": 3,
    "start_time": "2022-12-29T08:25:47.178Z"
   },
   {
    "duration": 7819,
    "start_time": "2022-12-29T08:25:47.183Z"
   },
   {
    "duration": 38,
    "start_time": "2022-12-29T08:25:55.004Z"
   },
   {
    "duration": 20,
    "start_time": "2022-12-29T08:25:55.044Z"
   },
   {
    "duration": 12,
    "start_time": "2022-12-29T08:25:55.066Z"
   },
   {
    "duration": 16,
    "start_time": "2022-12-29T08:25:55.080Z"
   },
   {
    "duration": 9,
    "start_time": "2022-12-29T08:25:55.097Z"
   },
   {
    "duration": 12,
    "start_time": "2022-12-29T08:25:55.107Z"
   },
   {
    "duration": 8,
    "start_time": "2022-12-29T08:25:55.121Z"
   },
   {
    "duration": 7,
    "start_time": "2022-12-29T08:25:55.130Z"
   },
   {
    "duration": 60,
    "start_time": "2022-12-29T08:25:55.139Z"
   },
   {
    "duration": 29,
    "start_time": "2022-12-29T08:25:55.200Z"
   },
   {
    "duration": 24,
    "start_time": "2022-12-29T08:25:55.232Z"
   },
   {
    "duration": 28,
    "start_time": "2022-12-29T08:25:55.257Z"
   },
   {
    "duration": 218,
    "start_time": "2022-12-29T08:25:55.286Z"
   },
   {
    "duration": 227,
    "start_time": "2022-12-29T08:25:55.506Z"
   },
   {
    "duration": 338,
    "start_time": "2022-12-29T08:25:55.734Z"
   },
   {
    "duration": 199,
    "start_time": "2022-12-29T08:25:56.073Z"
   },
   {
    "duration": 248,
    "start_time": "2022-12-29T08:25:56.278Z"
   },
   {
    "duration": 160,
    "start_time": "2022-12-29T08:25:56.528Z"
   },
   {
    "duration": 3,
    "start_time": "2022-12-29T08:25:56.689Z"
   },
   {
    "duration": 1572,
    "start_time": "2022-12-29T08:25:56.694Z"
   },
   {
    "duration": 30,
    "start_time": "2022-12-29T08:25:58.268Z"
   },
   {
    "duration": 10724,
    "start_time": "2022-12-29T08:25:58.299Z"
   },
   {
    "duration": 8674,
    "start_time": "2022-12-29T08:28:53.023Z"
   },
   {
    "duration": 3,
    "start_time": "2022-12-29T08:31:19.279Z"
   },
   {
    "duration": 2869,
    "start_time": "2022-12-29T08:33:14.849Z"
   },
   {
    "duration": 7171,
    "start_time": "2022-12-29T08:33:22.408Z"
   },
   {
    "duration": 24,
    "start_time": "2022-12-29T08:33:34.563Z"
   },
   {
    "duration": 69,
    "start_time": "2022-12-29T08:33:48.432Z"
   },
   {
    "duration": 3,
    "start_time": "2022-12-29T08:33:51.294Z"
   },
   {
    "duration": 8,
    "start_time": "2022-12-29T08:34:46.117Z"
   },
   {
    "duration": 404,
    "start_time": "2022-12-29T08:34:49.069Z"
   },
   {
    "duration": 43,
    "start_time": "2022-12-29T08:35:02.210Z"
   },
   {
    "duration": 73,
    "start_time": "2022-12-29T08:36:24.678Z"
   },
   {
    "duration": 104,
    "start_time": "2022-12-29T08:37:49.443Z"
   },
   {
    "duration": 77,
    "start_time": "2022-12-29T08:38:17.595Z"
   },
   {
    "duration": 75,
    "start_time": "2022-12-29T08:38:49.444Z"
   },
   {
    "duration": 50,
    "start_time": "2022-12-29T08:39:18.970Z"
   },
   {
    "duration": 103,
    "start_time": "2022-12-29T08:40:12.986Z"
   },
   {
    "duration": 73,
    "start_time": "2022-12-29T08:40:43.354Z"
   },
   {
    "duration": 29,
    "start_time": "2022-12-29T08:41:33.194Z"
   },
   {
    "duration": 58,
    "start_time": "2022-12-29T08:41:54.938Z"
   },
   {
    "duration": 8,
    "start_time": "2022-12-29T08:44:54.464Z"
   },
   {
    "duration": 5,
    "start_time": "2022-12-29T08:44:58.225Z"
   },
   {
    "duration": 10,
    "start_time": "2022-12-29T08:45:07.563Z"
   },
   {
    "duration": 6,
    "start_time": "2022-12-29T08:45:10.705Z"
   },
   {
    "duration": 6,
    "start_time": "2022-12-29T08:45:24.912Z"
   },
   {
    "duration": 84,
    "start_time": "2022-12-29T08:45:43.146Z"
   },
   {
    "duration": 5,
    "start_time": "2022-12-29T08:45:47.560Z"
   },
   {
    "duration": 5,
    "start_time": "2022-12-29T08:45:52.737Z"
   },
   {
    "duration": 8,
    "start_time": "2022-12-29T08:46:59.689Z"
   },
   {
    "duration": 4,
    "start_time": "2022-12-29T08:47:08.822Z"
   },
   {
    "duration": 3,
    "start_time": "2022-12-29T08:47:12.144Z"
   },
   {
    "duration": 4,
    "start_time": "2022-12-29T08:47:16.589Z"
   },
   {
    "duration": 17,
    "start_time": "2022-12-29T08:47:45.226Z"
   },
   {
    "duration": 18,
    "start_time": "2022-12-29T08:48:08.384Z"
   },
   {
    "duration": 105,
    "start_time": "2022-12-29T08:48:45.553Z"
   },
   {
    "duration": 16,
    "start_time": "2022-12-29T08:49:00.747Z"
   },
   {
    "duration": 18,
    "start_time": "2022-12-29T08:50:16.668Z"
   },
   {
    "duration": 7,
    "start_time": "2022-12-29T08:51:01.337Z"
   },
   {
    "duration": 24,
    "start_time": "2022-12-29T08:51:22.620Z"
   },
   {
    "duration": 1443,
    "start_time": "2022-12-29T08:51:30.743Z"
   },
   {
    "duration": 7,
    "start_time": "2022-12-29T08:52:31.767Z"
   },
   {
    "duration": 9,
    "start_time": "2022-12-29T08:52:49.096Z"
   },
   {
    "duration": 3,
    "start_time": "2022-12-29T08:52:53.270Z"
   },
   {
    "duration": 7012,
    "start_time": "2022-12-29T08:55:13.255Z"
   },
   {
    "duration": 32,
    "start_time": "2022-12-29T08:55:20.269Z"
   },
   {
    "duration": 4,
    "start_time": "2022-12-29T08:55:20.303Z"
   },
   {
    "duration": 9722,
    "start_time": "2022-12-29T08:55:38.974Z"
   },
   {
    "duration": 3,
    "start_time": "2022-12-29T08:55:54.327Z"
   },
   {
    "duration": 7518,
    "start_time": "2022-12-29T08:55:54.876Z"
   },
   {
    "duration": 27,
    "start_time": "2022-12-29T08:56:02.396Z"
   },
   {
    "duration": 41,
    "start_time": "2022-12-29T08:56:02.425Z"
   },
   {
    "duration": 370,
    "start_time": "2022-12-29T08:56:09.153Z"
   },
   {
    "duration": 43,
    "start_time": "2022-12-29T08:56:09.525Z"
   },
   {
    "duration": 66,
    "start_time": "2022-12-29T08:56:10.126Z"
   },
   {
    "duration": 110,
    "start_time": "2022-12-29T08:56:10.445Z"
   },
   {
    "duration": 70,
    "start_time": "2022-12-29T08:56:10.773Z"
   },
   {
    "duration": 72,
    "start_time": "2022-12-29T08:56:11.141Z"
   },
   {
    "duration": 49,
    "start_time": "2022-12-29T08:56:11.469Z"
   },
   {
    "duration": 97,
    "start_time": "2022-12-29T08:56:11.797Z"
   },
   {
    "duration": 73,
    "start_time": "2022-12-29T08:56:12.137Z"
   },
   {
    "duration": 77,
    "start_time": "2022-12-29T08:56:12.494Z"
   },
   {
    "duration": 48,
    "start_time": "2022-12-29T08:56:12.840Z"
   },
   {
    "duration": 75,
    "start_time": "2022-12-29T08:56:17.878Z"
   },
   {
    "duration": 46,
    "start_time": "2022-12-29T08:56:18.344Z"
   },
   {
    "duration": 30,
    "start_time": "2022-12-29T08:56:21.287Z"
   },
   {
    "duration": 48,
    "start_time": "2022-12-29T08:56:21.829Z"
   },
   {
    "duration": 5,
    "start_time": "2022-12-29T08:56:22.421Z"
   },
   {
    "duration": 5,
    "start_time": "2022-12-29T08:56:23.193Z"
   },
   {
    "duration": 5,
    "start_time": "2022-12-29T08:56:23.501Z"
   },
   {
    "duration": 102,
    "start_time": "2022-12-29T08:56:23.881Z"
   },
   {
    "duration": 5,
    "start_time": "2022-12-29T08:56:24.173Z"
   },
   {
    "duration": 3,
    "start_time": "2022-12-29T08:56:24.487Z"
   },
   {
    "duration": 5,
    "start_time": "2022-12-29T08:56:24.791Z"
   },
   {
    "duration": 20,
    "start_time": "2022-12-29T08:56:25.133Z"
   },
   {
    "duration": 128,
    "start_time": "2022-12-29T08:56:27.417Z"
   },
   {
    "duration": 16,
    "start_time": "2022-12-29T08:56:27.998Z"
   },
   {
    "duration": 18,
    "start_time": "2022-12-29T08:56:39.141Z"
   },
   {
    "duration": 106,
    "start_time": "2022-12-29T08:56:39.502Z"
   },
   {
    "duration": 20,
    "start_time": "2022-12-29T08:56:40.072Z"
   },
   {
    "duration": 8,
    "start_time": "2022-12-29T08:56:44.910Z"
   },
   {
    "duration": 4,
    "start_time": "2022-12-29T08:56:45.668Z"
   },
   {
    "duration": 48,
    "start_time": "2022-12-29T08:58:47.447Z"
   },
   {
    "duration": 41334,
    "start_time": "2022-12-29T08:59:06.022Z"
   },
   {
    "duration": 4,
    "start_time": "2022-12-29T09:01:11.501Z"
   },
   {
    "duration": 28,
    "start_time": "2022-12-29T09:01:38.123Z"
   },
   {
    "duration": 28857,
    "start_time": "2022-12-29T09:01:47.628Z"
   },
   {
    "duration": 27761,
    "start_time": "2022-12-29T09:02:46.619Z"
   },
   {
    "duration": 1492,
    "start_time": "2022-12-29T09:12:40.434Z"
   },
   {
    "duration": 52,
    "start_time": "2022-12-29T09:13:56.289Z"
   },
   {
    "duration": 4,
    "start_time": "2022-12-29T09:14:00.732Z"
   },
   {
    "duration": 11,
    "start_time": "2022-12-29T09:14:01.226Z"
   },
   {
    "duration": 3,
    "start_time": "2022-12-29T09:14:15.378Z"
   },
   {
    "duration": 11,
    "start_time": "2022-12-29T09:14:15.890Z"
   },
   {
    "duration": 3,
    "start_time": "2022-12-29T09:15:08.229Z"
   },
   {
    "duration": 11,
    "start_time": "2022-12-29T09:15:19.801Z"
   },
   {
    "duration": 5,
    "start_time": "2022-12-29T09:15:37.352Z"
   },
   {
    "duration": 3,
    "start_time": "2022-12-29T09:15:38.056Z"
   },
   {
    "duration": 14,
    "start_time": "2022-12-29T09:15:38.523Z"
   },
   {
    "duration": 14,
    "start_time": "2022-12-29T09:15:43.841Z"
   },
   {
    "duration": 5,
    "start_time": "2022-12-29T09:15:52.305Z"
   },
   {
    "duration": 2,
    "start_time": "2022-12-29T09:15:52.865Z"
   },
   {
    "duration": 4,
    "start_time": "2022-12-29T09:15:53.248Z"
   },
   {
    "duration": 8,
    "start_time": "2022-12-29T09:21:23.655Z"
   },
   {
    "duration": 3,
    "start_time": "2022-12-29T09:21:24.147Z"
   },
   {
    "duration": 3,
    "start_time": "2022-12-29T09:21:24.446Z"
   },
   {
    "duration": 3,
    "start_time": "2022-12-29T09:24:15.321Z"
   },
   {
    "duration": 4,
    "start_time": "2022-12-29T09:27:57.095Z"
   },
   {
    "duration": 46,
    "start_time": "2022-12-29T09:28:07.830Z"
   },
   {
    "duration": 13,
    "start_time": "2022-12-29T09:29:20.680Z"
   },
   {
    "duration": 4,
    "start_time": "2022-12-29T09:29:56.214Z"
   },
   {
    "duration": 78,
    "start_time": "2022-12-29T09:30:34.174Z"
   },
   {
    "duration": 13,
    "start_time": "2022-12-29T09:31:44.750Z"
   },
   {
    "duration": 4,
    "start_time": "2022-12-29T09:31:45.326Z"
   },
   {
    "duration": 62110,
    "start_time": "2022-12-29T09:31:49.079Z"
   },
   {
    "duration": 6,
    "start_time": "2022-12-29T09:33:00.366Z"
   },
   {
    "duration": 2077,
    "start_time": "2022-12-29T09:40:41.595Z"
   },
   {
    "duration": 5,
    "start_time": "2022-12-29T09:40:43.674Z"
   },
   {
    "duration": 24,
    "start_time": "2022-12-29T09:40:43.681Z"
   },
   {
    "duration": 8083,
    "start_time": "2022-12-29T09:40:43.708Z"
   },
   {
    "duration": 36,
    "start_time": "2022-12-29T09:40:51.793Z"
   },
   {
    "duration": 19,
    "start_time": "2022-12-29T09:40:51.830Z"
   },
   {
    "duration": 9,
    "start_time": "2022-12-29T09:40:51.851Z"
   },
   {
    "duration": 27,
    "start_time": "2022-12-29T09:40:51.861Z"
   },
   {
    "duration": 25,
    "start_time": "2022-12-29T09:40:51.889Z"
   },
   {
    "duration": 26,
    "start_time": "2022-12-29T09:40:51.917Z"
   },
   {
    "duration": 37,
    "start_time": "2022-12-29T09:40:51.945Z"
   },
   {
    "duration": 30,
    "start_time": "2022-12-29T09:40:51.983Z"
   },
   {
    "duration": 58,
    "start_time": "2022-12-29T09:40:52.014Z"
   },
   {
    "duration": 27,
    "start_time": "2022-12-29T09:40:52.074Z"
   },
   {
    "duration": 20,
    "start_time": "2022-12-29T09:40:52.102Z"
   },
   {
    "duration": 10,
    "start_time": "2022-12-29T09:40:52.123Z"
   },
   {
    "duration": 220,
    "start_time": "2022-12-29T09:40:52.135Z"
   },
   {
    "duration": 169,
    "start_time": "2022-12-29T09:40:52.356Z"
   },
   {
    "duration": 328,
    "start_time": "2022-12-29T09:40:52.527Z"
   },
   {
    "duration": 211,
    "start_time": "2022-12-29T09:40:52.857Z"
   },
   {
    "duration": 229,
    "start_time": "2022-12-29T09:40:53.070Z"
   },
   {
    "duration": 155,
    "start_time": "2022-12-29T09:40:53.300Z"
   },
   {
    "duration": 2,
    "start_time": "2022-12-29T09:40:53.457Z"
   },
   {
    "duration": 1623,
    "start_time": "2022-12-29T09:40:53.461Z"
   },
   {
    "duration": 26,
    "start_time": "2022-12-29T09:40:55.086Z"
   },
   {
    "duration": 9703,
    "start_time": "2022-12-29T09:40:55.113Z"
   },
   {
    "duration": 3477,
    "start_time": "2022-12-29T09:41:04.817Z"
   },
   {
    "duration": 3,
    "start_time": "2022-12-29T09:41:08.297Z"
   },
   {
    "duration": 7241,
    "start_time": "2022-12-29T09:41:08.302Z"
   },
   {
    "duration": 37,
    "start_time": "2022-12-29T09:41:15.545Z"
   },
   {
    "duration": 4,
    "start_time": "2022-12-29T09:41:15.583Z"
   },
   {
    "duration": 401,
    "start_time": "2022-12-29T09:41:15.588Z"
   },
   {
    "duration": 41,
    "start_time": "2022-12-29T09:41:15.990Z"
   },
   {
    "duration": 79,
    "start_time": "2022-12-29T09:41:16.032Z"
   },
   {
    "duration": 116,
    "start_time": "2022-12-29T09:41:16.113Z"
   },
   {
    "duration": 81,
    "start_time": "2022-12-29T09:41:16.231Z"
   },
   {
    "duration": 85,
    "start_time": "2022-12-29T09:41:16.314Z"
   },
   {
    "duration": 54,
    "start_time": "2022-12-29T09:41:16.400Z"
   },
   {
    "duration": 133,
    "start_time": "2022-12-29T09:41:16.455Z"
   },
   {
    "duration": 76,
    "start_time": "2022-12-29T09:41:16.590Z"
   },
   {
    "duration": 30,
    "start_time": "2022-12-29T09:41:16.678Z"
   },
   {
    "duration": 52,
    "start_time": "2022-12-29T09:41:16.709Z"
   },
   {
    "duration": 5,
    "start_time": "2022-12-29T09:41:16.777Z"
   },
   {
    "duration": 9,
    "start_time": "2022-12-29T09:41:16.784Z"
   },
   {
    "duration": 5,
    "start_time": "2022-12-29T09:41:16.794Z"
   },
   {
    "duration": 116,
    "start_time": "2022-12-29T09:41:16.801Z"
   },
   {
    "duration": 6,
    "start_time": "2022-12-29T09:41:16.918Z"
   },
   {
    "duration": 4,
    "start_time": "2022-12-29T09:41:16.926Z"
   },
   {
    "duration": 23,
    "start_time": "2022-12-29T09:41:16.932Z"
   },
   {
    "duration": 123,
    "start_time": "2022-12-29T09:41:16.957Z"
   },
   {
    "duration": 17,
    "start_time": "2022-12-29T09:41:17.082Z"
   },
   {
    "duration": 13,
    "start_time": "2022-12-29T09:41:17.100Z"
   },
   {
    "duration": 3,
    "start_time": "2022-12-29T09:41:17.115Z"
   },
   {
    "duration": 65806,
    "start_time": "2022-12-29T09:41:17.119Z"
   },
   {
    "duration": 4,
    "start_time": "2022-12-29T09:42:22.926Z"
   },
   {
    "duration": 150990,
    "start_time": "2022-12-29T09:42:27.194Z"
   },
   {
    "duration": 5,
    "start_time": "2022-12-29T09:46:11.321Z"
   },
   {
    "duration": 5,
    "start_time": "2022-12-29T09:46:12.397Z"
   },
   {
    "duration": 3,
    "start_time": "2022-12-29T09:46:13.017Z"
   },
   {
    "duration": 4,
    "start_time": "2022-12-29T09:46:13.461Z"
   },
   {
    "duration": 3,
    "start_time": "2022-12-29T09:46:13.817Z"
   },
   {
    "duration": 267,
    "start_time": "2022-12-29T09:46:14.306Z"
   },
   {
    "duration": 3,
    "start_time": "2022-12-29T09:47:03.115Z"
   },
   {
    "duration": 67,
    "start_time": "2022-12-29T09:47:22.971Z"
   },
   {
    "duration": 4,
    "start_time": "2022-12-29T09:47:26.546Z"
   },
   {
    "duration": 5,
    "start_time": "2022-12-29T09:47:56.162Z"
   },
   {
    "duration": 5,
    "start_time": "2022-12-29T09:49:11.210Z"
   },
   {
    "duration": 2,
    "start_time": "2022-12-29T09:49:11.923Z"
   },
   {
    "duration": 3,
    "start_time": "2022-12-29T09:49:14.281Z"
   },
   {
    "duration": 3,
    "start_time": "2022-12-29T09:49:14.737Z"
   },
   {
    "duration": 198,
    "start_time": "2022-12-29T09:49:15.291Z"
   },
   {
    "duration": 50168,
    "start_time": "2022-12-29T09:49:44.336Z"
   },
   {
    "duration": 5,
    "start_time": "2022-12-29T09:51:01.930Z"
   },
   {
    "duration": 2,
    "start_time": "2022-12-29T09:51:02.626Z"
   },
   {
    "duration": 4,
    "start_time": "2022-12-29T09:51:02.882Z"
   },
   {
    "duration": 3,
    "start_time": "2022-12-29T09:51:03.104Z"
   },
   {
    "duration": 29,
    "start_time": "2022-12-29T09:51:04.392Z"
   },
   {
    "duration": 7,
    "start_time": "2022-12-29T09:51:10.304Z"
   },
   {
    "duration": 2,
    "start_time": "2022-12-29T09:51:10.553Z"
   },
   {
    "duration": 4,
    "start_time": "2022-12-29T09:51:10.769Z"
   },
   {
    "duration": 3,
    "start_time": "2022-12-29T09:51:10.993Z"
   },
   {
    "duration": 59564,
    "start_time": "2022-12-29T09:51:11.233Z"
   },
   {
    "duration": 3,
    "start_time": "2022-12-29T09:52:10.799Z"
   },
   {
    "duration": 51,
    "start_time": "2022-12-29T09:52:10.803Z"
   },
   {
    "duration": 4,
    "start_time": "2022-12-29T09:52:17.549Z"
   },
   {
    "duration": 2,
    "start_time": "2022-12-29T09:52:17.953Z"
   },
   {
    "duration": 3,
    "start_time": "2022-12-29T09:52:18.323Z"
   },
   {
    "duration": 3,
    "start_time": "2022-12-29T09:52:18.649Z"
   },
   {
    "duration": 63230,
    "start_time": "2022-12-29T09:52:19.071Z"
   },
   {
    "duration": 2,
    "start_time": "2022-12-29T09:53:52.343Z"
   },
   {
    "duration": 3,
    "start_time": "2022-12-29T09:53:52.879Z"
   },
   {
    "duration": 3,
    "start_time": "2022-12-29T09:53:53.295Z"
   },
   {
    "duration": 60799,
    "start_time": "2022-12-29T09:53:53.705Z"
   },
   {
    "duration": 3,
    "start_time": "2022-12-29T09:56:31.230Z"
   },
   {
    "duration": 10,
    "start_time": "2022-12-29T09:57:14.207Z"
   },
   {
    "duration": 10,
    "start_time": "2022-12-29T09:57:35.112Z"
   },
   {
    "duration": 10,
    "start_time": "2022-12-29T09:57:40.999Z"
   },
   {
    "duration": 64600,
    "start_time": "2022-12-29T09:58:10.831Z"
   },
   {
    "duration": 4,
    "start_time": "2022-12-29T09:59:20.527Z"
   },
   {
    "duration": 8042,
    "start_time": "2022-12-29T09:59:22.136Z"
   },
   {
    "duration": 87912,
    "start_time": "2022-12-29T10:01:49.071Z"
   },
   {
    "duration": 3218,
    "start_time": "2022-12-29T10:03:16.985Z"
   },
   {
    "duration": 62,
    "start_time": "2022-12-29T10:05:40.269Z"
   },
   {
    "duration": 4,
    "start_time": "2022-12-29T10:05:54.685Z"
   },
   {
    "duration": 11,
    "start_time": "2022-12-29T10:06:07.958Z"
   },
   {
    "duration": 4,
    "start_time": "2022-12-29T10:06:14.621Z"
   },
   {
    "duration": 6,
    "start_time": "2022-12-29T10:06:22.140Z"
   },
   {
    "duration": 15,
    "start_time": "2022-12-29T10:07:37.781Z"
   },
   {
    "duration": 4,
    "start_time": "2022-12-29T10:07:57.341Z"
   },
   {
    "duration": 189,
    "start_time": "2022-12-29T10:09:35.927Z"
   },
   {
    "duration": 3,
    "start_time": "2022-12-29T10:09:52.436Z"
   },
   {
    "duration": 512,
    "start_time": "2022-12-29T10:09:56.845Z"
   },
   {
    "duration": 12,
    "start_time": "2022-12-29T10:11:01.748Z"
   },
   {
    "duration": 10,
    "start_time": "2022-12-29T10:11:11.871Z"
   },
   {
    "duration": 239,
    "start_time": "2022-12-29T10:12:33.279Z"
   },
   {
    "duration": 13008,
    "start_time": "2022-12-29T10:26:49.278Z"
   },
   {
    "duration": 13073,
    "start_time": "2022-12-29T10:27:24.649Z"
   },
   {
    "duration": 2264,
    "start_time": "2022-12-29T10:28:37.373Z"
   },
   {
    "duration": 2016,
    "start_time": "2022-12-29T10:28:59.031Z"
   },
   {
    "duration": 498,
    "start_time": "2022-12-29T10:29:07.346Z"
   },
   {
    "duration": 4370,
    "start_time": "2022-12-29T10:29:29.469Z"
   },
   {
    "duration": 712,
    "start_time": "2022-12-29T10:29:34.590Z"
   },
   {
    "duration": 700,
    "start_time": "2022-12-29T10:29:40.367Z"
   },
   {
    "duration": 2409,
    "start_time": "2022-12-29T10:29:46.672Z"
   },
   {
    "duration": 51,
    "start_time": "2023-01-11T18:25:32.171Z"
   },
   {
    "duration": 2457,
    "start_time": "2023-01-11T18:36:24.281Z"
   },
   {
    "duration": 9,
    "start_time": "2023-01-11T18:36:26.740Z"
   },
   {
    "duration": 4,
    "start_time": "2023-01-11T18:36:26.750Z"
   },
   {
    "duration": 5052,
    "start_time": "2023-01-11T18:36:26.755Z"
   },
   {
    "duration": 217,
    "start_time": "2023-01-11T18:36:36.633Z"
   },
   {
    "duration": 23,
    "start_time": "2023-01-11T18:36:36.998Z"
   },
   {
    "duration": 41,
    "start_time": "2023-01-11T18:36:37.409Z"
   },
   {
    "duration": 11,
    "start_time": "2023-01-11T18:36:38.018Z"
   },
   {
    "duration": 36,
    "start_time": "2023-01-11T18:36:38.448Z"
   },
   {
    "duration": 8,
    "start_time": "2023-01-11T18:36:38.818Z"
   },
   {
    "duration": 36,
    "start_time": "2023-01-11T18:36:39.129Z"
   },
   {
    "duration": 7,
    "start_time": "2023-01-11T18:36:39.498Z"
   },
   {
    "duration": 52,
    "start_time": "2023-01-11T18:36:40.266Z"
   },
   {
    "duration": 31,
    "start_time": "2023-01-11T18:36:40.745Z"
   },
   {
    "duration": 24,
    "start_time": "2023-01-11T18:36:41.176Z"
   },
   {
    "duration": 11,
    "start_time": "2023-01-11T18:36:41.637Z"
   },
   {
    "duration": 257,
    "start_time": "2023-01-11T18:36:43.761Z"
   },
   {
    "duration": 193,
    "start_time": "2023-01-11T18:36:44.199Z"
   },
   {
    "duration": 373,
    "start_time": "2023-01-11T18:36:46.559Z"
   },
   {
    "duration": 226,
    "start_time": "2023-01-11T18:36:47.024Z"
   },
   {
    "duration": 268,
    "start_time": "2023-01-11T18:36:48.920Z"
   },
   {
    "duration": 305,
    "start_time": "2023-01-11T18:36:49.321Z"
   },
   {
    "duration": 3,
    "start_time": "2023-01-11T18:36:50.546Z"
   },
   {
    "duration": 1695,
    "start_time": "2023-01-11T18:36:52.874Z"
   },
   {
    "duration": 34,
    "start_time": "2023-01-11T18:36:54.572Z"
   },
   {
    "duration": 10115,
    "start_time": "2023-01-11T18:36:55.247Z"
   },
   {
    "duration": 3168,
    "start_time": "2023-01-11T18:37:05.364Z"
   },
   {
    "duration": 3,
    "start_time": "2023-01-11T18:37:08.533Z"
   },
   {
    "duration": 7277,
    "start_time": "2023-01-11T18:37:08.538Z"
   },
   {
    "duration": 27,
    "start_time": "2023-01-11T18:37:15.818Z"
   },
   {
    "duration": 13,
    "start_time": "2023-01-11T18:37:15.846Z"
   },
   {
    "duration": 435,
    "start_time": "2023-01-11T18:37:15.861Z"
   },
   {
    "duration": 44,
    "start_time": "2023-01-11T18:37:16.298Z"
   },
   {
    "duration": 70,
    "start_time": "2023-01-11T18:37:16.355Z"
   },
   {
    "duration": 144,
    "start_time": "2023-01-11T18:37:16.428Z"
   },
   {
    "duration": 91,
    "start_time": "2023-01-11T18:37:16.574Z"
   },
   {
    "duration": 97,
    "start_time": "2023-01-11T18:37:16.667Z"
   },
   {
    "duration": 57,
    "start_time": "2023-01-11T18:37:16.765Z"
   },
   {
    "duration": 139,
    "start_time": "2023-01-11T18:37:16.824Z"
   },
   {
    "duration": 97,
    "start_time": "2023-01-11T18:37:16.964Z"
   },
   {
    "duration": 34,
    "start_time": "2023-01-11T18:37:17.063Z"
   },
   {
    "duration": 74,
    "start_time": "2023-01-11T18:37:17.099Z"
   },
   {
    "duration": 5,
    "start_time": "2023-01-11T18:37:17.175Z"
   },
   {
    "duration": 14,
    "start_time": "2023-01-11T18:37:17.182Z"
   },
   {
    "duration": 8,
    "start_time": "2023-01-11T18:37:17.198Z"
   },
   {
    "duration": 106,
    "start_time": "2023-01-11T18:37:17.207Z"
   },
   {
    "duration": 5,
    "start_time": "2023-01-11T18:37:17.315Z"
   },
   {
    "duration": 12,
    "start_time": "2023-01-11T18:37:17.322Z"
   },
   {
    "duration": 24,
    "start_time": "2023-01-11T18:37:17.335Z"
   },
   {
    "duration": 128,
    "start_time": "2023-01-11T18:37:17.361Z"
   },
   {
    "duration": 19,
    "start_time": "2023-01-11T18:37:26.119Z"
   },
   {
    "duration": 13,
    "start_time": "2023-01-11T18:37:27.496Z"
   },
   {
    "duration": 4,
    "start_time": "2023-01-11T18:37:27.986Z"
   },
   {
    "duration": 65540,
    "start_time": "2023-01-11T18:37:48.991Z"
   },
   {
    "duration": 62034,
    "start_time": "2023-01-11T18:39:26.193Z"
   },
   {
    "duration": 3,
    "start_time": "2023-01-11T18:40:51.664Z"
   },
   {
    "duration": 2968,
    "start_time": "2023-01-11T18:40:54.040Z"
   },
   {
    "duration": 4372,
    "start_time": "2023-01-12T10:29:46.829Z"
   },
   {
    "duration": 5,
    "start_time": "2023-01-12T10:29:51.204Z"
   },
   {
    "duration": 7,
    "start_time": "2023-01-12T10:29:51.210Z"
   },
   {
    "duration": 5888,
    "start_time": "2023-01-12T10:29:51.219Z"
   },
   {
    "duration": 273,
    "start_time": "2023-01-12T10:29:57.109Z"
   },
   {
    "duration": 24,
    "start_time": "2023-01-12T10:29:57.384Z"
   },
   {
    "duration": 39,
    "start_time": "2023-01-12T10:29:57.410Z"
   },
   {
    "duration": 12,
    "start_time": "2023-01-12T10:29:57.450Z"
   },
   {
    "duration": 44,
    "start_time": "2023-01-12T10:29:57.464Z"
   },
   {
    "duration": 12,
    "start_time": "2023-01-12T10:29:57.511Z"
   },
   {
    "duration": 41,
    "start_time": "2023-01-12T10:29:57.525Z"
   },
   {
    "duration": 9,
    "start_time": "2023-01-12T10:29:57.569Z"
   },
   {
    "duration": 57,
    "start_time": "2023-01-12T10:29:57.579Z"
   },
   {
    "duration": 32,
    "start_time": "2023-01-12T10:29:57.638Z"
   },
   {
    "duration": 41,
    "start_time": "2023-01-12T10:29:57.672Z"
   },
   {
    "duration": 15,
    "start_time": "2023-01-12T10:29:57.714Z"
   },
   {
    "duration": 389,
    "start_time": "2023-01-12T10:29:57.731Z"
   },
   {
    "duration": 180,
    "start_time": "2023-01-12T10:29:58.122Z"
   },
   {
    "duration": 891,
    "start_time": "2023-01-12T10:29:58.304Z"
   },
   {
    "duration": 239,
    "start_time": "2023-01-12T10:29:59.197Z"
   },
   {
    "duration": 283,
    "start_time": "2023-01-12T10:30:01.071Z"
   },
   {
    "duration": 223,
    "start_time": "2023-01-12T10:30:01.959Z"
   },
   {
    "duration": 3,
    "start_time": "2023-01-12T10:30:03.272Z"
   },
   {
    "duration": 1762,
    "start_time": "2023-01-12T10:30:03.816Z"
   },
   {
    "duration": 30,
    "start_time": "2023-01-12T10:30:05.581Z"
   },
   {
    "duration": 10768,
    "start_time": "2023-01-12T10:30:05.613Z"
   },
   {
    "duration": 2972,
    "start_time": "2023-01-12T10:30:16.384Z"
   },
   {
    "duration": 3,
    "start_time": "2023-01-12T10:30:19.358Z"
   },
   {
    "duration": 7886,
    "start_time": "2023-01-12T10:30:19.363Z"
   },
   {
    "duration": 29,
    "start_time": "2023-01-12T10:30:27.251Z"
   },
   {
    "duration": 16,
    "start_time": "2023-01-12T10:30:27.282Z"
   },
   {
    "duration": 435,
    "start_time": "2023-01-12T10:30:27.300Z"
   },
   {
    "duration": 71,
    "start_time": "2023-01-12T10:30:27.738Z"
   },
   {
    "duration": 70,
    "start_time": "2023-01-12T10:30:27.811Z"
   },
   {
    "duration": 145,
    "start_time": "2023-01-12T10:30:27.883Z"
   },
   {
    "duration": 117,
    "start_time": "2023-01-12T10:30:28.031Z"
   },
   {
    "duration": 97,
    "start_time": "2023-01-12T10:30:28.150Z"
   },
   {
    "duration": 81,
    "start_time": "2023-01-12T10:30:28.249Z"
   },
   {
    "duration": 156,
    "start_time": "2023-01-12T10:30:28.332Z"
   },
   {
    "duration": 86,
    "start_time": "2023-01-12T10:30:28.490Z"
   },
   {
    "duration": 55,
    "start_time": "2023-01-12T10:30:28.578Z"
   },
   {
    "duration": 74,
    "start_time": "2023-01-12T10:30:28.635Z"
   },
   {
    "duration": 7,
    "start_time": "2023-01-12T10:30:28.711Z"
   },
   {
    "duration": 18,
    "start_time": "2023-01-12T10:30:28.720Z"
   },
   {
    "duration": 10,
    "start_time": "2023-01-12T10:30:28.739Z"
   },
   {
    "duration": 108,
    "start_time": "2023-01-12T10:30:28.751Z"
   },
   {
    "duration": 6,
    "start_time": "2023-01-12T10:30:28.861Z"
   },
   {
    "duration": 23,
    "start_time": "2023-01-12T10:30:28.868Z"
   },
   {
    "duration": 24,
    "start_time": "2023-01-12T10:30:28.893Z"
   },
   {
    "duration": 150,
    "start_time": "2023-01-12T10:30:28.919Z"
   },
   {
    "duration": 26,
    "start_time": "2023-01-12T10:31:06.509Z"
   },
   {
    "duration": 120,
    "start_time": "2023-01-12T10:31:07.144Z"
   },
   {
    "duration": 30,
    "start_time": "2023-01-12T10:31:10.263Z"
   },
   {
    "duration": 17,
    "start_time": "2023-01-12T10:31:18.350Z"
   },
   {
    "duration": 15,
    "start_time": "2023-01-12T10:31:27.096Z"
   },
   {
    "duration": 4,
    "start_time": "2023-01-12T10:31:27.504Z"
   },
   {
    "duration": 14,
    "start_time": "2023-01-12T10:32:44.424Z"
   },
   {
    "duration": 4,
    "start_time": "2023-01-12T10:32:49.430Z"
   },
   {
    "duration": 5,
    "start_time": "2023-01-12T10:33:05.684Z"
   },
   {
    "duration": 155,
    "start_time": "2023-01-12T10:33:43.440Z"
   },
   {
    "duration": 4,
    "start_time": "2023-01-12T10:34:33.608Z"
   },
   {
    "duration": 23,
    "start_time": "2023-01-12T10:35:25.184Z"
   },
   {
    "duration": 21,
    "start_time": "2023-01-12T10:35:29.137Z"
   },
   {
    "duration": 75,
    "start_time": "2023-01-12T10:35:33.729Z"
   },
   {
    "duration": 5,
    "start_time": "2023-01-12T10:38:23.672Z"
   },
   {
    "duration": 4,
    "start_time": "2023-01-12T10:38:23.956Z"
   },
   {
    "duration": 4,
    "start_time": "2023-01-12T10:38:24.168Z"
   },
   {
    "duration": 3,
    "start_time": "2023-01-12T10:38:24.400Z"
   },
   {
    "duration": 230,
    "start_time": "2023-01-12T10:38:25.030Z"
   },
   {
    "duration": 17,
    "start_time": "2023-01-12T10:38:25.262Z"
   },
   {
    "duration": 38,
    "start_time": "2023-01-12T10:38:25.408Z"
   },
   {
    "duration": 11,
    "start_time": "2023-01-12T10:38:25.592Z"
   },
   {
    "duration": 39,
    "start_time": "2023-01-12T10:38:25.766Z"
   },
   {
    "duration": 9,
    "start_time": "2023-01-12T10:38:25.926Z"
   },
   {
    "duration": 42,
    "start_time": "2023-01-12T10:38:26.102Z"
   },
   {
    "duration": 9,
    "start_time": "2023-01-12T10:38:26.281Z"
   },
   {
    "duration": 48,
    "start_time": "2023-01-12T10:38:26.600Z"
   },
   {
    "duration": 31,
    "start_time": "2023-01-12T10:38:26.758Z"
   },
   {
    "duration": 26,
    "start_time": "2023-01-12T10:38:26.934Z"
   },
   {
    "duration": 10,
    "start_time": "2023-01-12T10:38:27.097Z"
   },
   {
    "duration": 248,
    "start_time": "2023-01-12T10:38:28.275Z"
   },
   {
    "duration": 171,
    "start_time": "2023-01-12T10:38:28.525Z"
   },
   {
    "duration": 384,
    "start_time": "2023-01-12T10:38:29.782Z"
   },
   {
    "duration": 219,
    "start_time": "2023-01-12T10:38:30.343Z"
   },
   {
    "duration": 271,
    "start_time": "2023-01-12T10:38:31.431Z"
   },
   {
    "duration": 180,
    "start_time": "2023-01-12T10:38:31.703Z"
   },
   {
    "duration": 3,
    "start_time": "2023-01-12T10:38:33.031Z"
   },
   {
    "duration": 1668,
    "start_time": "2023-01-12T10:38:33.456Z"
   },
   {
    "duration": 33,
    "start_time": "2023-01-12T10:38:35.127Z"
   },
   {
    "duration": 10717,
    "start_time": "2023-01-12T10:38:35.162Z"
   },
   {
    "duration": 3330,
    "start_time": "2023-01-12T10:38:45.881Z"
   },
   {
    "duration": 3,
    "start_time": "2023-01-12T10:38:49.213Z"
   },
   {
    "duration": 8418,
    "start_time": "2023-01-12T10:38:49.218Z"
   },
   {
    "duration": 26,
    "start_time": "2023-01-12T10:38:57.638Z"
   },
   {
    "duration": 10,
    "start_time": "2023-01-12T10:38:57.666Z"
   },
   {
    "duration": 505,
    "start_time": "2023-01-12T10:38:57.678Z"
   },
   {
    "duration": 56,
    "start_time": "2023-01-12T10:38:58.186Z"
   },
   {
    "duration": 88,
    "start_time": "2023-01-12T10:38:58.245Z"
   },
   {
    "duration": 146,
    "start_time": "2023-01-12T10:38:58.335Z"
   },
   {
    "duration": 95,
    "start_time": "2023-01-12T10:38:58.483Z"
   },
   {
    "duration": 121,
    "start_time": "2023-01-12T10:38:58.580Z"
   },
   {
    "duration": 61,
    "start_time": "2023-01-12T10:38:58.703Z"
   },
   {
    "duration": 171,
    "start_time": "2023-01-12T10:38:58.766Z"
   },
   {
    "duration": 114,
    "start_time": "2023-01-12T10:38:58.939Z"
   },
   {
    "duration": 50,
    "start_time": "2023-01-12T10:38:59.056Z"
   },
   {
    "duration": 67,
    "start_time": "2023-01-12T10:38:59.109Z"
   },
   {
    "duration": 18,
    "start_time": "2023-01-12T10:38:59.179Z"
   },
   {
    "duration": 25,
    "start_time": "2023-01-12T10:38:59.199Z"
   },
   {
    "duration": 43,
    "start_time": "2023-01-12T10:38:59.226Z"
   },
   {
    "duration": 124,
    "start_time": "2023-01-12T10:38:59.271Z"
   },
   {
    "duration": 7,
    "start_time": "2023-01-12T10:38:59.397Z"
   },
   {
    "duration": 24,
    "start_time": "2023-01-12T10:38:59.406Z"
   },
   {
    "duration": 37,
    "start_time": "2023-01-12T10:39:59.304Z"
   },
   {
    "duration": 3,
    "start_time": "2023-01-12T10:40:08.815Z"
   },
   {
    "duration": 73,
    "start_time": "2023-01-12T10:40:25.295Z"
   },
   {
    "duration": 36,
    "start_time": "2023-01-12T10:41:32.726Z"
   },
   {
    "duration": 28,
    "start_time": "2023-01-12T10:42:33.799Z"
   },
   {
    "duration": 2126,
    "start_time": "2023-01-12T10:51:30.663Z"
   },
   {
    "duration": 8,
    "start_time": "2023-01-12T10:51:32.791Z"
   },
   {
    "duration": 8,
    "start_time": "2023-01-12T10:51:32.800Z"
   },
   {
    "duration": 5131,
    "start_time": "2023-01-12T10:51:32.811Z"
   },
   {
    "duration": 230,
    "start_time": "2023-01-12T10:51:37.943Z"
   },
   {
    "duration": 20,
    "start_time": "2023-01-12T10:51:38.175Z"
   },
   {
    "duration": 44,
    "start_time": "2023-01-12T10:51:38.198Z"
   },
   {
    "duration": 10,
    "start_time": "2023-01-12T10:51:38.244Z"
   },
   {
    "duration": 41,
    "start_time": "2023-01-12T10:51:38.256Z"
   },
   {
    "duration": 10,
    "start_time": "2023-01-12T10:51:38.300Z"
   },
   {
    "duration": 41,
    "start_time": "2023-01-12T10:51:38.312Z"
   },
   {
    "duration": 8,
    "start_time": "2023-01-12T10:51:38.354Z"
   },
   {
    "duration": 54,
    "start_time": "2023-01-12T10:51:38.363Z"
   },
   {
    "duration": 36,
    "start_time": "2023-01-12T10:51:38.419Z"
   },
   {
    "duration": 45,
    "start_time": "2023-01-12T10:51:38.457Z"
   },
   {
    "duration": 18,
    "start_time": "2023-01-12T10:51:38.504Z"
   },
   {
    "duration": 264,
    "start_time": "2023-01-12T10:51:38.524Z"
   },
   {
    "duration": 197,
    "start_time": "2023-01-12T10:51:38.789Z"
   },
   {
    "duration": 536,
    "start_time": "2023-01-12T10:51:38.996Z"
   },
   {
    "duration": 229,
    "start_time": "2023-01-12T10:51:39.533Z"
   },
   {
    "duration": 556,
    "start_time": "2023-01-12T10:51:39.764Z"
   },
   {
    "duration": 167,
    "start_time": "2023-01-12T10:51:40.322Z"
   },
   {
    "duration": 3,
    "start_time": "2023-01-12T10:51:40.490Z"
   },
   {
    "duration": 1802,
    "start_time": "2023-01-12T10:51:40.495Z"
   },
   {
    "duration": 27,
    "start_time": "2023-01-12T10:51:42.299Z"
   },
   {
    "duration": 10396,
    "start_time": "2023-01-12T10:51:42.328Z"
   },
   {
    "duration": 3753,
    "start_time": "2023-01-12T10:51:52.725Z"
   },
   {
    "duration": 4,
    "start_time": "2023-01-12T10:51:56.481Z"
   },
   {
    "duration": 7798,
    "start_time": "2023-01-12T10:51:56.487Z"
   },
   {
    "duration": 29,
    "start_time": "2023-01-12T10:52:04.287Z"
   },
   {
    "duration": 4,
    "start_time": "2023-01-12T10:52:04.318Z"
   },
   {
    "duration": 428,
    "start_time": "2023-01-12T10:52:04.323Z"
   },
   {
    "duration": 51,
    "start_time": "2023-01-12T10:52:04.754Z"
   },
   {
    "duration": 75,
    "start_time": "2023-01-12T10:52:04.807Z"
   },
   {
    "duration": 148,
    "start_time": "2023-01-12T10:52:04.884Z"
   },
   {
    "duration": 89,
    "start_time": "2023-01-12T10:52:05.034Z"
   },
   {
    "duration": 105,
    "start_time": "2023-01-12T10:52:05.126Z"
   },
   {
    "duration": 68,
    "start_time": "2023-01-12T10:52:05.232Z"
   },
   {
    "duration": 120,
    "start_time": "2023-01-12T10:52:05.301Z"
   },
   {
    "duration": 88,
    "start_time": "2023-01-12T10:52:05.422Z"
   },
   {
    "duration": 31,
    "start_time": "2023-01-12T10:52:05.512Z"
   },
   {
    "duration": 73,
    "start_time": "2023-01-12T10:52:05.545Z"
   },
   {
    "duration": 5,
    "start_time": "2023-01-12T10:52:05.620Z"
   },
   {
    "duration": 8,
    "start_time": "2023-01-12T10:52:05.627Z"
   },
   {
    "duration": 5,
    "start_time": "2023-01-12T10:52:05.637Z"
   },
   {
    "duration": 127,
    "start_time": "2023-01-12T10:52:05.644Z"
   },
   {
    "duration": 6,
    "start_time": "2023-01-12T10:52:05.773Z"
   },
   {
    "duration": 16,
    "start_time": "2023-01-12T10:52:05.781Z"
   },
   {
    "duration": 50,
    "start_time": "2023-01-12T10:52:05.799Z"
   },
   {
    "duration": 75,
    "start_time": "2023-01-12T10:52:05.852Z"
   },
   {
    "duration": 40,
    "start_time": "2023-01-12T10:52:05.930Z"
   },
   {
    "duration": 57,
    "start_time": "2023-01-12T10:52:05.972Z"
   },
   {
    "duration": 19,
    "start_time": "2023-01-12T10:52:06.032Z"
   },
   {
    "duration": 144,
    "start_time": "2023-01-12T10:52:06.053Z"
   },
   {
    "duration": 17,
    "start_time": "2023-01-12T10:52:06.199Z"
   },
   {
    "duration": 144,
    "start_time": "2023-01-12T10:54:53.677Z"
   },
   {
    "duration": 18,
    "start_time": "2023-01-12T10:55:10.501Z"
   },
   {
    "duration": 108,
    "start_time": "2023-01-12T10:55:12.365Z"
   },
   {
    "duration": 17,
    "start_time": "2023-01-12T10:55:13.413Z"
   },
   {
    "duration": 16,
    "start_time": "2023-01-12T10:55:16.726Z"
   },
   {
    "duration": 3,
    "start_time": "2023-01-12T10:55:17.071Z"
   },
   {
    "duration": 10,
    "start_time": "2023-01-12T10:55:21.037Z"
   },
   {
    "duration": 3,
    "start_time": "2023-01-12T10:55:21.384Z"
   },
   {
    "duration": 20136,
    "start_time": "2023-01-12T10:55:25.630Z"
   },
   {
    "duration": 21861,
    "start_time": "2023-01-12T10:56:26.613Z"
   },
   {
    "duration": 20976,
    "start_time": "2023-01-12T10:57:01.280Z"
   },
   {
    "duration": 34715,
    "start_time": "2023-01-12T10:57:32.494Z"
   },
   {
    "duration": 1627,
    "start_time": "2023-01-12T10:58:16.585Z"
   },
   {
    "duration": 5060,
    "start_time": "2023-01-12T11:56:29.315Z"
   },
   {
    "duration": 8,
    "start_time": "2023-01-12T11:56:34.377Z"
   },
   {
    "duration": 5,
    "start_time": "2023-01-12T11:56:34.386Z"
   },
   {
    "duration": 7656,
    "start_time": "2023-01-12T11:56:34.393Z"
   },
   {
    "duration": 51,
    "start_time": "2023-01-12T11:56:42.051Z"
   },
   {
    "duration": 20,
    "start_time": "2023-01-12T11:56:42.104Z"
   },
   {
    "duration": 7,
    "start_time": "2023-01-12T11:56:42.126Z"
   },
   {
    "duration": 11,
    "start_time": "2023-01-12T11:56:42.135Z"
   },
   {
    "duration": 9,
    "start_time": "2023-01-12T11:56:42.148Z"
   },
   {
    "duration": 9,
    "start_time": "2023-01-12T11:56:42.160Z"
   },
   {
    "duration": 17,
    "start_time": "2023-01-12T11:56:42.170Z"
   },
   {
    "duration": 6,
    "start_time": "2023-01-12T11:56:42.189Z"
   },
   {
    "duration": 47,
    "start_time": "2023-01-12T11:56:42.196Z"
   },
   {
    "duration": 41,
    "start_time": "2023-01-12T11:56:42.244Z"
   },
   {
    "duration": 21,
    "start_time": "2023-01-12T11:56:42.287Z"
   },
   {
    "duration": 10,
    "start_time": "2023-01-12T11:56:42.309Z"
   },
   {
    "duration": 244,
    "start_time": "2023-01-12T11:56:42.321Z"
   },
   {
    "duration": 201,
    "start_time": "2023-01-12T11:56:42.567Z"
   },
   {
    "duration": 349,
    "start_time": "2023-01-12T11:56:42.770Z"
   },
   {
    "duration": 203,
    "start_time": "2023-01-12T11:56:43.120Z"
   },
   {
    "duration": 235,
    "start_time": "2023-01-12T11:56:43.325Z"
   },
   {
    "duration": 154,
    "start_time": "2023-01-12T11:56:43.561Z"
   },
   {
    "duration": 4,
    "start_time": "2023-01-12T11:56:43.717Z"
   },
   {
    "duration": 1613,
    "start_time": "2023-01-12T11:56:43.723Z"
   },
   {
    "duration": 27,
    "start_time": "2023-01-12T11:56:45.338Z"
   },
   {
    "duration": 9628,
    "start_time": "2023-01-12T11:56:45.379Z"
   },
   {
    "duration": 3364,
    "start_time": "2023-01-12T11:56:55.009Z"
   },
   {
    "duration": 4,
    "start_time": "2023-01-12T11:56:58.378Z"
   },
   {
    "duration": 6861,
    "start_time": "2023-01-12T11:56:58.384Z"
   },
   {
    "duration": 33,
    "start_time": "2023-01-12T11:57:05.246Z"
   },
   {
    "duration": 4,
    "start_time": "2023-01-12T11:57:05.281Z"
   },
   {
    "duration": 383,
    "start_time": "2023-01-12T11:57:05.287Z"
   },
   {
    "duration": 61,
    "start_time": "2023-01-12T11:57:05.672Z"
   },
   {
    "duration": 105,
    "start_time": "2023-01-12T11:57:05.735Z"
   },
   {
    "duration": 121,
    "start_time": "2023-01-12T11:57:05.842Z"
   },
   {
    "duration": 76,
    "start_time": "2023-01-12T11:57:05.964Z"
   },
   {
    "duration": 84,
    "start_time": "2023-01-12T11:57:06.041Z"
   },
   {
    "duration": 53,
    "start_time": "2023-01-12T11:57:06.126Z"
   },
   {
    "duration": 101,
    "start_time": "2023-01-12T11:57:06.181Z"
   },
   {
    "duration": 69,
    "start_time": "2023-01-12T11:57:06.284Z"
   },
   {
    "duration": 51,
    "start_time": "2023-01-12T11:57:06.354Z"
   },
   {
    "duration": 74,
    "start_time": "2023-01-12T11:57:06.407Z"
   },
   {
    "duration": 5,
    "start_time": "2023-01-12T11:57:06.482Z"
   },
   {
    "duration": 9,
    "start_time": "2023-01-12T11:57:06.488Z"
   },
   {
    "duration": 4,
    "start_time": "2023-01-12T11:57:06.499Z"
   },
   {
    "duration": 128,
    "start_time": "2023-01-12T11:57:06.505Z"
   },
   {
    "duration": 5,
    "start_time": "2023-01-12T11:57:06.635Z"
   },
   {
    "duration": 5,
    "start_time": "2023-01-12T11:57:06.642Z"
   },
   {
    "duration": 44,
    "start_time": "2023-01-12T11:57:06.648Z"
   },
   {
    "duration": 59,
    "start_time": "2023-01-12T11:57:06.694Z"
   },
   {
    "duration": 42,
    "start_time": "2023-01-12T11:57:06.756Z"
   },
   {
    "duration": 32,
    "start_time": "2023-01-12T11:57:06.800Z"
   },
   {
    "duration": 18,
    "start_time": "2023-01-12T11:57:06.833Z"
   },
   {
    "duration": 112,
    "start_time": "2023-01-12T11:57:06.853Z"
   },
   {
    "duration": 22,
    "start_time": "2023-01-12T11:57:06.967Z"
   },
   {
    "duration": 12,
    "start_time": "2023-01-12T11:57:06.991Z"
   },
   {
    "duration": 4,
    "start_time": "2023-01-12T11:57:07.005Z"
   },
   {
    "duration": 22,
    "start_time": "2023-01-12T11:57:07.010Z"
   },
   {
    "duration": 4,
    "start_time": "2023-01-12T11:57:07.034Z"
   },
   {
    "duration": 291629,
    "start_time": "2023-01-12T11:57:17.934Z"
   },
   {
    "duration": 277462,
    "start_time": "2023-01-12T12:31:45.511Z"
   },
   {
    "duration": 36,
    "start_time": "2023-01-12T15:33:58.258Z"
   },
   {
    "duration": 4,
    "start_time": "2023-01-12T15:34:11.450Z"
   },
   {
    "duration": 3,
    "start_time": "2023-01-12T15:35:03.889Z"
   },
   {
    "duration": 710,
    "start_time": "2023-01-12T15:36:19.592Z"
   },
   {
    "duration": 11,
    "start_time": "2023-01-12T15:37:56.671Z"
   },
   {
    "duration": 11,
    "start_time": "2023-01-12T15:38:22.667Z"
   },
   {
    "duration": 3,
    "start_time": "2023-01-12T15:38:32.000Z"
   },
   {
    "duration": 3,
    "start_time": "2023-01-12T15:39:03.538Z"
   },
   {
    "duration": 18,
    "start_time": "2023-01-12T15:39:05.376Z"
   },
   {
    "duration": 36810,
    "start_time": "2023-01-12T15:39:28.457Z"
   },
   {
    "duration": 4,
    "start_time": "2023-01-12T15:42:29.099Z"
   },
   {
    "duration": 13,
    "start_time": "2023-01-12T15:44:08.709Z"
   },
   {
    "duration": 82,
    "start_time": "2023-01-12T15:44:21.174Z"
   },
   {
    "duration": 86,
    "start_time": "2023-01-12T15:44:26.312Z"
   },
   {
    "duration": 84,
    "start_time": "2023-01-12T15:44:37.384Z"
   },
   {
    "duration": 117,
    "start_time": "2023-01-12T15:45:49.719Z"
   },
   {
    "duration": 107441,
    "start_time": "2023-01-12T15:46:09.439Z"
   },
   {
    "duration": 8327,
    "start_time": "2023-01-12T15:50:45.751Z"
   },
   {
    "duration": 26,
    "start_time": "2023-01-12T15:51:30.713Z"
   },
   {
    "duration": 13,
    "start_time": "2023-01-12T15:51:31.900Z"
   },
   {
    "duration": 8,
    "start_time": "2023-01-12T15:52:59.958Z"
   },
   {
    "duration": 4,
    "start_time": "2023-01-12T15:53:06.789Z"
   },
   {
    "duration": 49,
    "start_time": "2023-01-12T15:53:08.829Z"
   },
   {
    "duration": 4,
    "start_time": "2023-01-12T15:53:11.369Z"
   },
   {
    "duration": 46250,
    "start_time": "2023-01-12T15:53:13.654Z"
   },
   {
    "duration": 7,
    "start_time": "2023-01-12T15:54:22.169Z"
   },
   {
    "duration": 3,
    "start_time": "2023-01-12T15:54:22.501Z"
   },
   {
    "duration": 4,
    "start_time": "2023-01-12T15:54:22.855Z"
   },
   {
    "duration": 4,
    "start_time": "2023-01-12T15:54:23.227Z"
   },
   {
    "duration": 42977,
    "start_time": "2023-01-12T15:54:23.809Z"
   },
   {
    "duration": 6,
    "start_time": "2023-01-12T15:56:11.817Z"
   },
   {
    "duration": 3,
    "start_time": "2023-01-12T15:56:12.182Z"
   },
   {
    "duration": 5,
    "start_time": "2023-01-12T15:56:12.483Z"
   },
   {
    "duration": 4,
    "start_time": "2023-01-12T15:56:12.781Z"
   },
   {
    "duration": 52026,
    "start_time": "2023-01-12T15:56:13.070Z"
   },
   {
    "duration": 5,
    "start_time": "2023-01-12T15:57:05.098Z"
   },
   {
    "duration": 3,
    "start_time": "2023-01-12T15:57:07.168Z"
   },
   {
    "duration": 3,
    "start_time": "2023-01-12T15:57:07.676Z"
   },
   {
    "duration": 3,
    "start_time": "2023-01-12T15:57:08.293Z"
   },
   {
    "duration": 14066,
    "start_time": "2023-01-12T15:57:08.821Z"
   },
   {
    "duration": 8,
    "start_time": "2023-01-12T15:57:38.759Z"
   },
   {
    "duration": 3,
    "start_time": "2023-01-12T15:57:39.060Z"
   },
   {
    "duration": 3,
    "start_time": "2023-01-12T15:57:39.390Z"
   },
   {
    "duration": 2,
    "start_time": "2023-01-12T15:57:39.721Z"
   },
   {
    "duration": 10050,
    "start_time": "2023-01-12T15:57:41.237Z"
   },
   {
    "duration": 5,
    "start_time": "2023-01-12T15:58:21.816Z"
   },
   {
    "duration": 2,
    "start_time": "2023-01-12T15:58:22.809Z"
   },
   {
    "duration": 3,
    "start_time": "2023-01-12T15:58:23.085Z"
   },
   {
    "duration": 3,
    "start_time": "2023-01-12T15:58:23.376Z"
   },
   {
    "duration": 12492,
    "start_time": "2023-01-12T15:58:23.797Z"
   },
   {
    "duration": 5,
    "start_time": "2023-01-12T15:59:16.985Z"
   },
   {
    "duration": 2,
    "start_time": "2023-01-12T15:59:18.491Z"
   },
   {
    "duration": 4,
    "start_time": "2023-01-12T15:59:18.839Z"
   },
   {
    "duration": 4,
    "start_time": "2023-01-12T15:59:19.172Z"
   },
   {
    "duration": 12631,
    "start_time": "2023-01-12T15:59:19.550Z"
   },
   {
    "duration": 5,
    "start_time": "2023-01-12T15:59:32.183Z"
   },
   {
    "duration": 27,
    "start_time": "2023-01-12T15:59:32.190Z"
   },
   {
    "duration": 24,
    "start_time": "2023-01-12T15:59:32.219Z"
   },
   {
    "duration": 21,
    "start_time": "2023-01-12T15:59:32.245Z"
   },
   {
    "duration": 12844,
    "start_time": "2023-01-12T15:59:36.838Z"
   },
   {
    "duration": 5,
    "start_time": "2023-01-12T16:01:10.045Z"
   },
   {
    "duration": 4,
    "start_time": "2023-01-12T16:01:11.491Z"
   },
   {
    "duration": 5,
    "start_time": "2023-01-12T16:01:15.466Z"
   },
   {
    "duration": 5,
    "start_time": "2023-01-12T16:02:16.558Z"
   },
   {
    "duration": 2,
    "start_time": "2023-01-12T16:02:17.211Z"
   },
   {
    "duration": 3,
    "start_time": "2023-01-12T16:02:17.540Z"
   },
   {
    "duration": 3,
    "start_time": "2023-01-12T16:02:17.875Z"
   },
   {
    "duration": 8156,
    "start_time": "2023-01-12T16:02:18.627Z"
   },
   {
    "duration": 8,
    "start_time": "2023-01-12T16:03:22.045Z"
   },
   {
    "duration": 3,
    "start_time": "2023-01-12T16:03:22.475Z"
   },
   {
    "duration": 4,
    "start_time": "2023-01-12T16:03:22.828Z"
   },
   {
    "duration": 3,
    "start_time": "2023-01-12T16:03:23.259Z"
   },
   {
    "duration": 7039,
    "start_time": "2023-01-12T16:03:24.052Z"
   },
   {
    "duration": 5,
    "start_time": "2023-01-12T16:05:08.482Z"
   },
   {
    "duration": 2,
    "start_time": "2023-01-12T16:05:08.795Z"
   },
   {
    "duration": 3,
    "start_time": "2023-01-12T16:05:09.146Z"
   },
   {
    "duration": 3,
    "start_time": "2023-01-12T16:05:09.531Z"
   },
   {
    "duration": 26,
    "start_time": "2023-01-12T16:05:10.760Z"
   },
   {
    "duration": 5,
    "start_time": "2023-01-12T16:05:58.416Z"
   },
   {
    "duration": 3,
    "start_time": "2023-01-12T16:05:59.116Z"
   },
   {
    "duration": 3,
    "start_time": "2023-01-12T16:05:59.610Z"
   },
   {
    "duration": 3,
    "start_time": "2023-01-12T16:06:00.030Z"
   },
   {
    "duration": 7277,
    "start_time": "2023-01-12T16:06:00.619Z"
   },
   {
    "duration": 2,
    "start_time": "2023-01-12T16:12:17.537Z"
   },
   {
    "duration": 6584,
    "start_time": "2023-01-12T16:12:18.012Z"
   },
   {
    "duration": 7,
    "start_time": "2023-01-12T16:12:37.354Z"
   },
   {
    "duration": 4,
    "start_time": "2023-01-12T16:14:42.945Z"
   },
   {
    "duration": 2,
    "start_time": "2023-01-12T16:14:43.858Z"
   },
   {
    "duration": 4,
    "start_time": "2023-01-12T16:14:44.264Z"
   },
   {
    "duration": 3,
    "start_time": "2023-01-12T16:14:44.940Z"
   },
   {
    "duration": 7285,
    "start_time": "2023-01-12T16:14:45.297Z"
   },
   {
    "duration": 4,
    "start_time": "2023-01-12T16:15:03.538Z"
   },
   {
    "duration": 2,
    "start_time": "2023-01-12T16:15:03.727Z"
   },
   {
    "duration": 3,
    "start_time": "2023-01-12T16:15:03.910Z"
   },
   {
    "duration": 4,
    "start_time": "2023-01-12T16:15:04.074Z"
   },
   {
    "duration": 61,
    "start_time": "2023-01-12T16:15:04.249Z"
   },
   {
    "duration": 2,
    "start_time": "2023-01-12T16:15:39.729Z"
   },
   {
    "duration": 6401,
    "start_time": "2023-01-12T16:15:40.081Z"
   },
   {
    "duration": 4,
    "start_time": "2023-01-12T16:16:04.753Z"
   },
   {
    "duration": 5,
    "start_time": "2023-01-12T16:16:18.364Z"
   },
   {
    "duration": 4,
    "start_time": "2023-01-12T16:16:30.860Z"
   },
   {
    "duration": 4,
    "start_time": "2023-01-12T16:16:33.656Z"
   },
   {
    "duration": 89,
    "start_time": "2023-01-12T16:16:42.417Z"
   },
   {
    "duration": 5,
    "start_time": "2023-01-12T16:17:15.664Z"
   },
   {
    "duration": 2,
    "start_time": "2023-01-12T16:17:16.126Z"
   },
   {
    "duration": 3,
    "start_time": "2023-01-12T16:17:16.538Z"
   },
   {
    "duration": 2,
    "start_time": "2023-01-12T16:17:16.922Z"
   },
   {
    "duration": 21329,
    "start_time": "2023-01-12T16:17:17.465Z"
   },
   {
    "duration": 5,
    "start_time": "2023-01-12T16:17:40.449Z"
   },
   {
    "duration": 3,
    "start_time": "2023-01-12T16:17:40.984Z"
   },
   {
    "duration": 5,
    "start_time": "2023-01-12T16:17:41.448Z"
   },
   {
    "duration": 2,
    "start_time": "2023-01-12T16:17:41.929Z"
   },
   {
    "duration": 446408,
    "start_time": "2023-01-12T16:17:42.472Z"
   },
   {
    "duration": 4,
    "start_time": "2023-01-12T16:26:47.877Z"
   },
   {
    "duration": 3,
    "start_time": "2023-01-12T16:26:48.358Z"
   },
   {
    "duration": 4,
    "start_time": "2023-01-12T16:26:48.702Z"
   },
   {
    "duration": 14,
    "start_time": "2023-01-12T16:26:49.057Z"
   },
   {
    "duration": 33591,
    "start_time": "2023-01-12T16:26:49.591Z"
   },
   {
    "duration": 5,
    "start_time": "2023-01-12T16:29:40.110Z"
   },
   {
    "duration": 3,
    "start_time": "2023-01-12T16:29:40.605Z"
   },
   {
    "duration": 4,
    "start_time": "2023-01-12T16:29:41.030Z"
   },
   {
    "duration": 3,
    "start_time": "2023-01-12T16:29:41.381Z"
   },
   {
    "duration": 46195,
    "start_time": "2023-01-12T16:29:41.798Z"
   },
   {
    "duration": 5,
    "start_time": "2023-01-12T16:31:19.270Z"
   },
   {
    "duration": 3,
    "start_time": "2023-01-12T16:31:19.670Z"
   },
   {
    "duration": 4,
    "start_time": "2023-01-12T16:31:20.094Z"
   },
   {
    "duration": 3,
    "start_time": "2023-01-12T16:31:22.028Z"
   },
   {
    "duration": 4899,
    "start_time": "2023-01-12T16:31:22.584Z"
   },
   {
    "duration": 3,
    "start_time": "2023-01-12T16:31:45.830Z"
   },
   {
    "duration": 25099,
    "start_time": "2023-01-12T16:31:45.986Z"
   },
   {
    "duration": 7,
    "start_time": "2023-01-12T16:33:17.245Z"
   },
   {
    "duration": 2,
    "start_time": "2023-01-12T16:33:17.613Z"
   },
   {
    "duration": 3,
    "start_time": "2023-01-12T16:33:17.870Z"
   },
   {
    "duration": 3,
    "start_time": "2023-01-12T16:33:18.101Z"
   },
   {
    "duration": 3494,
    "start_time": "2023-01-12T16:33:18.406Z"
   },
   {
    "duration": 8,
    "start_time": "2023-01-12T16:33:39.894Z"
   },
   {
    "duration": 3,
    "start_time": "2023-01-12T16:33:40.173Z"
   },
   {
    "duration": 5,
    "start_time": "2023-01-12T16:33:40.463Z"
   },
   {
    "duration": 5,
    "start_time": "2023-01-12T16:33:40.757Z"
   },
   {
    "duration": 4343,
    "start_time": "2023-01-12T16:33:41.054Z"
   },
   {
    "duration": 16,
    "start_time": "2023-01-12T16:34:37.765Z"
   },
   {
    "duration": 44,
    "start_time": "2023-01-12T16:35:09.181Z"
   },
   {
    "duration": 62,
    "start_time": "2023-01-12T16:35:47.454Z"
   },
   {
    "duration": 6,
    "start_time": "2023-01-12T16:36:43.596Z"
   },
   {
    "duration": 3,
    "start_time": "2023-01-12T16:36:43.996Z"
   },
   {
    "duration": 4,
    "start_time": "2023-01-12T16:36:44.340Z"
   },
   {
    "duration": 6,
    "start_time": "2023-01-12T16:36:44.671Z"
   },
   {
    "duration": 4106,
    "start_time": "2023-01-12T16:36:45.484Z"
   },
   {
    "duration": 6,
    "start_time": "2023-01-12T16:37:11.644Z"
   },
   {
    "duration": 3,
    "start_time": "2023-01-12T16:37:12.005Z"
   },
   {
    "duration": 3,
    "start_time": "2023-01-12T16:37:12.308Z"
   },
   {
    "duration": 2,
    "start_time": "2023-01-12T16:37:12.592Z"
   },
   {
    "duration": 3565,
    "start_time": "2023-01-12T16:37:12.930Z"
   },
   {
    "duration": 2,
    "start_time": "2023-01-12T16:37:25.614Z"
   },
   {
    "duration": 5,
    "start_time": "2023-01-12T16:37:26.068Z"
   },
   {
    "duration": 6,
    "start_time": "2023-01-12T16:37:28.076Z"
   },
   {
    "duration": 2,
    "start_time": "2023-01-12T16:37:28.261Z"
   },
   {
    "duration": 4,
    "start_time": "2023-01-12T16:37:28.437Z"
   },
   {
    "duration": 4,
    "start_time": "2023-01-12T16:37:28.606Z"
   },
   {
    "duration": 3526,
    "start_time": "2023-01-12T16:37:28.765Z"
   },
   {
    "duration": 6,
    "start_time": "2023-01-12T16:37:49.331Z"
   },
   {
    "duration": 3,
    "start_time": "2023-01-12T16:37:49.515Z"
   },
   {
    "duration": 5,
    "start_time": "2023-01-12T16:37:49.691Z"
   },
   {
    "duration": 4,
    "start_time": "2023-01-12T16:37:49.868Z"
   },
   {
    "duration": 6925,
    "start_time": "2023-01-12T16:37:50.060Z"
   },
   {
    "duration": 5,
    "start_time": "2023-01-12T16:44:33.619Z"
   },
   {
    "duration": 2,
    "start_time": "2023-01-12T16:44:34.219Z"
   },
   {
    "duration": 5,
    "start_time": "2023-01-12T16:44:34.538Z"
   },
   {
    "duration": 3,
    "start_time": "2023-01-12T16:44:35.202Z"
   },
   {
    "duration": 6363,
    "start_time": "2023-01-12T16:44:36.323Z"
   },
   {
    "duration": 5,
    "start_time": "2023-01-12T16:44:48.042Z"
   },
   {
    "duration": 6,
    "start_time": "2023-01-12T16:45:05.603Z"
   },
   {
    "duration": 2,
    "start_time": "2023-01-12T16:45:05.938Z"
   },
   {
    "duration": 3,
    "start_time": "2023-01-12T16:45:06.420Z"
   },
   {
    "duration": 3,
    "start_time": "2023-01-12T16:45:06.697Z"
   },
   {
    "duration": 7809,
    "start_time": "2023-01-12T16:45:06.969Z"
   },
   {
    "duration": 4,
    "start_time": "2023-01-12T16:50:14.443Z"
   },
   {
    "duration": 2,
    "start_time": "2023-01-12T16:50:14.989Z"
   },
   {
    "duration": 3,
    "start_time": "2023-01-12T16:50:15.393Z"
   },
   {
    "duration": 3,
    "start_time": "2023-01-12T16:50:15.729Z"
   },
   {
    "duration": 2971,
    "start_time": "2023-01-12T16:50:16.116Z"
   },
   {
    "duration": 4,
    "start_time": "2023-01-12T16:50:28.970Z"
   },
   {
    "duration": 2,
    "start_time": "2023-01-12T16:50:29.330Z"
   },
   {
    "duration": 3,
    "start_time": "2023-01-12T16:50:29.589Z"
   },
   {
    "duration": 3,
    "start_time": "2023-01-12T16:50:29.873Z"
   },
   {
    "duration": 2049,
    "start_time": "2023-01-12T16:50:30.129Z"
   },
   {
    "duration": 4,
    "start_time": "2023-01-12T16:50:43.241Z"
   },
   {
    "duration": 2,
    "start_time": "2023-01-12T16:50:43.661Z"
   },
   {
    "duration": 3,
    "start_time": "2023-01-12T16:50:44.417Z"
   },
   {
    "duration": 3,
    "start_time": "2023-01-12T16:50:45.353Z"
   },
   {
    "duration": 2007,
    "start_time": "2023-01-12T16:50:45.785Z"
   },
   {
    "duration": 1895,
    "start_time": "2023-01-12T17:34:36.408Z"
   },
   {
    "duration": 4,
    "start_time": "2023-01-12T17:34:38.304Z"
   },
   {
    "duration": 6,
    "start_time": "2023-01-12T17:34:38.309Z"
   },
   {
    "duration": 7496,
    "start_time": "2023-01-12T17:34:38.316Z"
   },
   {
    "duration": 45,
    "start_time": "2023-01-12T17:34:45.814Z"
   },
   {
    "duration": 36,
    "start_time": "2023-01-12T17:34:45.861Z"
   },
   {
    "duration": 6,
    "start_time": "2023-01-12T17:34:45.899Z"
   },
   {
    "duration": 22,
    "start_time": "2023-01-12T17:34:45.907Z"
   },
   {
    "duration": 8,
    "start_time": "2023-01-12T17:34:45.931Z"
   },
   {
    "duration": 12,
    "start_time": "2023-01-12T17:34:45.941Z"
   },
   {
    "duration": 11,
    "start_time": "2023-01-12T17:34:45.954Z"
   },
   {
    "duration": 7,
    "start_time": "2023-01-12T17:34:45.967Z"
   },
   {
    "duration": 47,
    "start_time": "2023-01-12T17:34:45.978Z"
   },
   {
    "duration": 31,
    "start_time": "2023-01-12T17:34:46.026Z"
   },
   {
    "duration": 29,
    "start_time": "2023-01-12T17:34:46.077Z"
   },
   {
    "duration": 21,
    "start_time": "2023-01-12T17:34:46.108Z"
   },
   {
    "duration": 235,
    "start_time": "2023-01-12T17:34:46.131Z"
   },
   {
    "duration": 181,
    "start_time": "2023-01-12T17:34:46.368Z"
   },
   {
    "duration": 362,
    "start_time": "2023-01-12T17:34:46.551Z"
   },
   {
    "duration": 248,
    "start_time": "2023-01-12T17:34:46.915Z"
   },
   {
    "duration": 1220,
    "start_time": "2023-01-12T17:34:47.165Z"
   },
   {
    "duration": 152,
    "start_time": "2023-01-12T17:34:48.386Z"
   },
   {
    "duration": 3,
    "start_time": "2023-01-12T17:34:48.539Z"
   },
   {
    "duration": 1608,
    "start_time": "2023-01-12T17:34:48.544Z"
   },
   {
    "duration": 35,
    "start_time": "2023-01-12T17:34:50.154Z"
   },
   {
    "duration": 9583,
    "start_time": "2023-01-12T17:34:50.190Z"
   },
   {
    "duration": 3355,
    "start_time": "2023-01-12T17:34:59.775Z"
   },
   {
    "duration": 3,
    "start_time": "2023-01-12T17:35:03.133Z"
   },
   {
    "duration": 6580,
    "start_time": "2023-01-12T17:35:03.138Z"
   },
   {
    "duration": 25,
    "start_time": "2023-01-12T17:35:09.719Z"
   },
   {
    "duration": 4,
    "start_time": "2023-01-12T17:35:09.745Z"
   },
   {
    "duration": 395,
    "start_time": "2023-01-12T17:35:09.750Z"
   },
   {
    "duration": 40,
    "start_time": "2023-01-12T17:35:10.146Z"
   },
   {
    "duration": 64,
    "start_time": "2023-01-12T17:35:10.187Z"
   },
   {
    "duration": 92,
    "start_time": "2023-01-12T17:35:10.252Z"
   },
   {
    "duration": 66,
    "start_time": "2023-01-12T17:35:10.345Z"
   },
   {
    "duration": 63,
    "start_time": "2023-01-12T17:35:10.412Z"
   },
   {
    "duration": 92,
    "start_time": "2023-01-12T17:35:10.478Z"
   },
   {
    "duration": 88,
    "start_time": "2023-01-12T17:35:10.571Z"
   },
   {
    "duration": 71,
    "start_time": "2023-01-12T17:35:10.661Z"
   },
   {
    "duration": 30,
    "start_time": "2023-01-12T17:35:10.734Z"
   },
   {
    "duration": 52,
    "start_time": "2023-01-12T17:35:10.766Z"
   },
   {
    "duration": 7,
    "start_time": "2023-01-12T17:35:10.820Z"
   },
   {
    "duration": 16,
    "start_time": "2023-01-12T17:35:10.829Z"
   },
   {
    "duration": 4,
    "start_time": "2023-01-12T17:35:10.847Z"
   },
   {
    "duration": 75,
    "start_time": "2023-01-12T17:35:10.853Z"
   },
   {
    "duration": 5,
    "start_time": "2023-01-12T17:35:10.929Z"
   },
   {
    "duration": 5,
    "start_time": "2023-01-12T17:35:10.935Z"
   },
   {
    "duration": 34,
    "start_time": "2023-01-12T17:35:10.941Z"
   },
   {
    "duration": 102,
    "start_time": "2023-01-12T17:35:10.976Z"
   },
   {
    "duration": 29,
    "start_time": "2023-01-12T17:35:11.080Z"
   },
   {
    "duration": 31,
    "start_time": "2023-01-12T17:35:11.110Z"
   },
   {
    "duration": 41,
    "start_time": "2023-01-12T17:35:11.142Z"
   },
   {
    "duration": 82,
    "start_time": "2023-01-12T17:35:11.184Z"
   },
   {
    "duration": 20,
    "start_time": "2023-01-12T17:35:11.268Z"
   },
   {
    "duration": 10,
    "start_time": "2023-01-12T17:35:11.289Z"
   },
   {
    "duration": 9,
    "start_time": "2023-01-12T17:35:11.301Z"
   },
   {
    "duration": 14,
    "start_time": "2023-01-12T17:35:11.312Z"
   },
   {
    "duration": 4,
    "start_time": "2023-01-12T17:35:11.328Z"
   },
   {
    "duration": 279709,
    "start_time": "2023-01-12T17:35:11.334Z"
   },
   {
    "duration": 4,
    "start_time": "2023-01-12T17:39:51.049Z"
   },
   {
    "duration": 19,
    "start_time": "2023-01-12T17:39:51.055Z"
   },
   {
    "duration": 36537,
    "start_time": "2023-01-12T17:39:51.075Z"
   },
   {
    "duration": 4,
    "start_time": "2023-01-12T17:40:27.613Z"
   },
   {
    "duration": 130,
    "start_time": "2023-01-12T17:40:27.619Z"
   },
   {
    "duration": 316136,
    "start_time": "2023-01-12T17:40:27.751Z"
   },
   {
    "duration": 3898,
    "start_time": "2023-01-12T17:45:43.888Z"
   },
   {
    "duration": 5,
    "start_time": "2023-01-12T17:45:47.788Z"
   },
   {
    "duration": 37,
    "start_time": "2023-01-12T17:45:47.795Z"
   },
   {
    "duration": 44,
    "start_time": "2023-01-12T17:45:47.833Z"
   },
   {
    "duration": 7,
    "start_time": "2023-01-12T17:45:47.878Z"
   },
   {
    "duration": 7,
    "start_time": "2023-01-12T17:45:47.887Z"
   },
   {
    "duration": 7,
    "start_time": "2023-01-12T17:45:47.895Z"
   },
   {
    "duration": 7,
    "start_time": "2023-01-12T17:45:47.903Z"
   },
   {
    "duration": 7,
    "start_time": "2023-01-12T17:45:47.911Z"
   },
   {
    "duration": 8,
    "start_time": "2023-01-12T17:45:47.919Z"
   },
   {
    "duration": 35,
    "start_time": "2023-01-12T17:45:47.929Z"
   },
   {
    "duration": 446,
    "start_time": "2023-01-12T17:51:28.312Z"
   },
   {
    "duration": 416,
    "start_time": "2023-01-12T17:51:55.287Z"
   },
   {
    "duration": 286,
    "start_time": "2023-01-12T17:52:22.494Z"
   },
   {
    "duration": 5,
    "start_time": "2023-01-12T17:53:25.502Z"
   },
   {
    "duration": 15,
    "start_time": "2023-01-12T17:54:07.709Z"
   },
   {
    "duration": 17,
    "start_time": "2023-01-12T17:54:25.647Z"
   },
   {
    "duration": 15,
    "start_time": "2023-01-12T17:54:36.160Z"
   },
   {
    "duration": 5,
    "start_time": "2023-01-12T17:54:51.037Z"
   },
   {
    "duration": 13,
    "start_time": "2023-01-12T17:54:54.079Z"
   },
   {
    "duration": 14,
    "start_time": "2023-01-12T17:56:01.761Z"
   },
   {
    "duration": 3,
    "start_time": "2023-01-12T17:56:57.622Z"
   },
   {
    "duration": 14,
    "start_time": "2023-01-12T17:57:04.773Z"
   },
   {
    "duration": 4,
    "start_time": "2023-01-12T17:57:09.333Z"
   },
   {
    "duration": 7,
    "start_time": "2023-01-12T17:57:15.748Z"
   },
   {
    "duration": 13,
    "start_time": "2023-01-12T17:58:34.038Z"
   },
   {
    "duration": 8,
    "start_time": "2023-01-12T17:58:41.078Z"
   },
   {
    "duration": 7,
    "start_time": "2023-01-12T17:58:42.693Z"
   },
   {
    "duration": 4,
    "start_time": "2023-01-12T17:59:02.932Z"
   },
   {
    "duration": 14,
    "start_time": "2023-01-12T18:00:18.271Z"
   },
   {
    "duration": 9,
    "start_time": "2023-01-12T18:00:25.628Z"
   },
   {
    "duration": 7,
    "start_time": "2023-01-12T18:00:33.246Z"
   },
   {
    "duration": 9,
    "start_time": "2023-01-12T18:00:36.171Z"
   },
   {
    "duration": 7,
    "start_time": "2023-01-12T18:00:36.635Z"
   },
   {
    "duration": 7,
    "start_time": "2023-01-12T18:01:24.273Z"
   },
   {
    "duration": 77,
    "start_time": "2023-01-12T18:01:24.805Z"
   },
   {
    "duration": 6,
    "start_time": "2023-01-12T18:01:27.691Z"
   },
   {
    "duration": 8,
    "start_time": "2023-01-12T18:01:34.265Z"
   },
   {
    "duration": 6,
    "start_time": "2023-01-12T18:01:34.724Z"
   },
   {
    "duration": 5,
    "start_time": "2023-01-12T18:02:00.252Z"
   },
   {
    "duration": 11,
    "start_time": "2023-01-12T18:02:12.304Z"
   },
   {
    "duration": 5,
    "start_time": "2023-01-12T18:02:32.746Z"
   },
   {
    "duration": 7,
    "start_time": "2023-01-12T18:02:35.179Z"
   },
   {
    "duration": 8,
    "start_time": "2023-01-12T18:03:19.056Z"
   },
   {
    "duration": 4,
    "start_time": "2023-01-12T18:03:25.653Z"
   },
   {
    "duration": 78,
    "start_time": "2023-01-12T18:03:39.021Z"
   },
   {
    "duration": 14,
    "start_time": "2023-01-12T18:03:57.735Z"
   },
   {
    "duration": 3,
    "start_time": "2023-01-12T18:04:07.205Z"
   },
   {
    "duration": 4,
    "start_time": "2023-01-12T18:04:08.956Z"
   },
   {
    "duration": 13,
    "start_time": "2023-01-12T18:04:14.092Z"
   },
   {
    "duration": 4,
    "start_time": "2023-01-12T18:04:16.004Z"
   },
   {
    "duration": 3,
    "start_time": "2023-01-12T18:04:16.308Z"
   },
   {
    "duration": 8,
    "start_time": "2023-01-12T18:04:17.231Z"
   },
   {
    "duration": 10,
    "start_time": "2023-01-12T18:05:29.090Z"
   },
   {
    "duration": 9,
    "start_time": "2023-01-12T18:05:35.995Z"
   },
   {
    "duration": 11,
    "start_time": "2023-01-12T18:05:38.005Z"
   },
   {
    "duration": 8,
    "start_time": "2023-01-12T18:06:02.323Z"
   },
   {
    "duration": 274,
    "start_time": "2023-01-12T18:06:21.256Z"
   },
   {
    "duration": 262,
    "start_time": "2023-01-12T19:05:46.027Z"
   },
   {
    "duration": 28,
    "start_time": "2023-01-12T19:10:20.076Z"
   },
   {
    "duration": 18,
    "start_time": "2023-01-12T19:10:56.411Z"
   },
   {
    "duration": 84,
    "start_time": "2023-01-12T19:11:05.722Z"
   },
   {
    "duration": 17,
    "start_time": "2023-01-12T19:11:08.757Z"
   },
   {
    "duration": 420,
    "start_time": "2023-01-12T19:11:52.898Z"
   },
   {
    "duration": 7,
    "start_time": "2023-01-12T19:12:19.898Z"
   },
   {
    "duration": 8,
    "start_time": "2023-01-12T19:12:20.197Z"
   },
   {
    "duration": 260,
    "start_time": "2023-01-12T19:12:20.610Z"
   },
   {
    "duration": 613,
    "start_time": "2023-01-12T19:15:56.054Z"
   },
   {
    "duration": 282599,
    "start_time": "2023-01-12T19:16:09.145Z"
   },
   {
    "duration": 4,
    "start_time": "2023-01-12T19:22:47.398Z"
   },
   {
    "duration": 3,
    "start_time": "2023-01-12T19:22:49.576Z"
   },
   {
    "duration": 36833,
    "start_time": "2023-01-12T19:22:50.483Z"
   },
   {
    "duration": 4,
    "start_time": "2023-01-12T19:23:46.616Z"
   },
   {
    "duration": 36186,
    "start_time": "2023-01-12T19:23:47.212Z"
   },
   {
    "duration": 29,
    "start_time": "2023-01-12T19:29:34.303Z"
   },
   {
    "duration": 28,
    "start_time": "2023-01-12T19:30:20.969Z"
   },
   {
    "duration": 19,
    "start_time": "2023-01-12T19:30:21.862Z"
   },
   {
    "duration": 479,
    "start_time": "2023-01-12T19:30:26.879Z"
   },
   {
    "duration": 7,
    "start_time": "2023-01-12T19:30:32.815Z"
   },
   {
    "duration": 8,
    "start_time": "2023-01-12T19:30:33.160Z"
   },
   {
    "duration": 260,
    "start_time": "2023-01-12T19:30:33.638Z"
   }
  ],
  "celltoolbar": "Tags",
  "kernelspec": {
   "display_name": "Python 3",
   "language": "python",
   "name": "python3"
  },
  "language_info": {
   "codemirror_mode": {
    "name": "ipython",
    "version": 3
   },
   "file_extension": ".py",
   "mimetype": "text/x-python",
   "name": "python",
   "nbconvert_exporter": "python",
   "pygments_lexer": "ipython3",
   "version": "3.8.8"
  },
  "toc": {
   "base_numbering": 1,
   "nav_menu": {},
   "number_sections": false,
   "sideBar": true,
   "skip_h1_title": false,
   "title_cell": "Table of Contents",
   "title_sidebar": "Contents",
   "toc_cell": false,
   "toc_position": {
    "height": "calc(100% - 180px)",
    "left": "10px",
    "top": "150px",
    "width": "352.188px"
   },
   "toc_section_display": true,
   "toc_window_display": true
  },
  "varInspector": {
   "cols": {
    "lenName": 16,
    "lenType": 16,
    "lenVar": 40
   },
   "kernels_config": {
    "python": {
     "delete_cmd_postfix": "",
     "delete_cmd_prefix": "del ",
     "library": "var_list.py",
     "varRefreshCmd": "print(var_dic_list())"
    },
    "r": {
     "delete_cmd_postfix": ") ",
     "delete_cmd_prefix": "rm(",
     "library": "var_list.r",
     "varRefreshCmd": "cat(var_dic_list()) "
    }
   },
   "types_to_exclude": [
    "module",
    "function",
    "builtin_function_or_method",
    "instance",
    "_Feature"
   ],
   "window_display": false
  }
 },
 "nbformat": 4,
 "nbformat_minor": 5
}
