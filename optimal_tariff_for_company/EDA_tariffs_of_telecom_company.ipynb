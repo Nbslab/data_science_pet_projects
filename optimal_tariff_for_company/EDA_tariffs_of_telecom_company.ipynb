{
 "cells": [
  {
   "cell_type": "markdown",
   "metadata": {},
   "source": [
    "# Определение перспективного тарифа для телеком-компании"
   ]
  },
  {
   "cell_type": "markdown",
   "metadata": {},
   "source": [
    "Исследование данных для компании \"Мегалайн\". Клиентам предлагается на выбор тарифы \"Смарт\" и \"Ультра\". Чтобы скорректировать рекламный план нужно провести анализ имеющихся данных и выяснить, какой тариф наиболее прибыльный.\n",
    "\n",
    "В нашем распоряжени небольшая выборка из 500 клиентов со следующими данными: кто они, откуда, каким тарифом пользуются, сколько звонков и сообщений каждый отправил за 2018 год, сколько интернет трафика израсходовал.\n",
    "\n",
    "**Цель работы:** проанализировать поведение клиентов и выяснить, какой тариф наиболее прибыльный.\n",
    "\n",
    "Так как данных очень много, перед тем как приступить к анализу, проведем обзор данных и, возможно, потребуется их предобработка, чтобы датасет стал более удобным и пригодным к проведению исследования.\n",
    "\n",
    "Таким образом исследование пройдет в 4 этапа:\n",
    "* Обзор данных\n",
    "* Предобработка данных\n",
    "* Анализ поведения клиентов\n",
    "* Проверка гипотез"
   ]
  },
  {
   "cell_type": "markdown",
   "metadata": {},
   "source": [
    "## Открытие файлов с данными"
   ]
  },
  {
   "cell_type": "markdown",
   "metadata": {},
   "source": [
    "Импорт необходимых для проведения исследования библиотек"
   ]
  },
  {
   "cell_type": "code",
   "execution_count": 1,
   "metadata": {},
   "outputs": [],
   "source": [
    "import pandas as pd\n",
    "import numpy as np\n",
    "from scipy import stats as st\n",
    "import matplotlib.pyplot as plt\n",
    "import math\n",
    "import seaborn as sns\n",
    "plt.rcParams.update({'figure.max_open_warning': 0})"
   ]
  },
  {
   "cell_type": "markdown",
   "metadata": {},
   "source": [
    "Чтение данных из файлов"
   ]
  },
  {
   "cell_type": "code",
   "execution_count": 2,
   "metadata": {},
   "outputs": [],
   "source": [
    "data_calls = pd.read_csv('datasets/calls.csv')\n",
    "data_internet = pd.read_csv('datasets/internet.csv')\n",
    "data_messages = pd.read_csv('datasets/messages.csv')\n",
    "data_tariffs = pd.read_csv('datasets/tariffs.csv')\n",
    "data_users = pd.read_csv('datasets/users.csv')"
   ]
  },
  {
   "cell_type": "markdown",
   "metadata": {},
   "source": [
    "Посмотрим общую информацию по данным:"
   ]
  },
  {
   "cell_type": "code",
   "execution_count": 3,
   "metadata": {
    "scrolled": false
   },
   "outputs": [
    {
     "name": "stdout",
     "output_type": "stream",
     "text": [
      "---------- Calls ----------\n",
      "<class 'pandas.core.frame.DataFrame'>\n",
      "RangeIndex: 202607 entries, 0 to 202606\n",
      "Data columns (total 4 columns):\n",
      " #   Column     Non-Null Count   Dtype  \n",
      "---  ------     --------------   -----  \n",
      " 0   id         202607 non-null  object \n",
      " 1   call_date  202607 non-null  object \n",
      " 2   duration   202607 non-null  float64\n",
      " 3   user_id    202607 non-null  int64  \n",
      "dtypes: float64(1), int64(1), object(2)\n",
      "memory usage: 6.2+ MB\n"
     ]
    },
    {
     "data": {
      "text/plain": [
       "None"
      ]
     },
     "metadata": {},
     "output_type": "display_data"
    },
    {
     "data": {
      "text/html": [
       "<div>\n",
       "<style scoped>\n",
       "    .dataframe tbody tr th:only-of-type {\n",
       "        vertical-align: middle;\n",
       "    }\n",
       "\n",
       "    .dataframe tbody tr th {\n",
       "        vertical-align: top;\n",
       "    }\n",
       "\n",
       "    .dataframe thead th {\n",
       "        text-align: right;\n",
       "    }\n",
       "</style>\n",
       "<table border=\"1\" class=\"dataframe\">\n",
       "  <thead>\n",
       "    <tr style=\"text-align: right;\">\n",
       "      <th></th>\n",
       "      <th>id</th>\n",
       "      <th>call_date</th>\n",
       "      <th>duration</th>\n",
       "      <th>user_id</th>\n",
       "    </tr>\n",
       "  </thead>\n",
       "  <tbody>\n",
       "    <tr>\n",
       "      <th>0</th>\n",
       "      <td>1000_0</td>\n",
       "      <td>2018-07-25</td>\n",
       "      <td>0.00</td>\n",
       "      <td>1000</td>\n",
       "    </tr>\n",
       "    <tr>\n",
       "      <th>1</th>\n",
       "      <td>1000_1</td>\n",
       "      <td>2018-08-17</td>\n",
       "      <td>0.00</td>\n",
       "      <td>1000</td>\n",
       "    </tr>\n",
       "    <tr>\n",
       "      <th>2</th>\n",
       "      <td>1000_2</td>\n",
       "      <td>2018-06-11</td>\n",
       "      <td>2.85</td>\n",
       "      <td>1000</td>\n",
       "    </tr>\n",
       "    <tr>\n",
       "      <th>3</th>\n",
       "      <td>1000_3</td>\n",
       "      <td>2018-09-21</td>\n",
       "      <td>13.80</td>\n",
       "      <td>1000</td>\n",
       "    </tr>\n",
       "    <tr>\n",
       "      <th>4</th>\n",
       "      <td>1000_4</td>\n",
       "      <td>2018-12-15</td>\n",
       "      <td>5.18</td>\n",
       "      <td>1000</td>\n",
       "    </tr>\n",
       "  </tbody>\n",
       "</table>\n",
       "</div>"
      ],
      "text/plain": [
       "       id   call_date  duration  user_id\n",
       "0  1000_0  2018-07-25      0.00     1000\n",
       "1  1000_1  2018-08-17      0.00     1000\n",
       "2  1000_2  2018-06-11      2.85     1000\n",
       "3  1000_3  2018-09-21     13.80     1000\n",
       "4  1000_4  2018-12-15      5.18     1000"
      ]
     },
     "metadata": {},
     "output_type": "display_data"
    },
    {
     "name": "stdout",
     "output_type": "stream",
     "text": [
      "\n",
      "\n",
      "\n",
      "\n",
      "---------- Interner ----------\n",
      "<class 'pandas.core.frame.DataFrame'>\n",
      "RangeIndex: 149396 entries, 0 to 149395\n",
      "Data columns (total 5 columns):\n",
      " #   Column        Non-Null Count   Dtype  \n",
      "---  ------        --------------   -----  \n",
      " 0   Unnamed: 0    149396 non-null  int64  \n",
      " 1   id            149396 non-null  object \n",
      " 2   mb_used       149396 non-null  float64\n",
      " 3   session_date  149396 non-null  object \n",
      " 4   user_id       149396 non-null  int64  \n",
      "dtypes: float64(1), int64(2), object(2)\n",
      "memory usage: 5.7+ MB\n"
     ]
    },
    {
     "data": {
      "text/plain": [
       "None"
      ]
     },
     "metadata": {},
     "output_type": "display_data"
    },
    {
     "data": {
      "text/html": [
       "<div>\n",
       "<style scoped>\n",
       "    .dataframe tbody tr th:only-of-type {\n",
       "        vertical-align: middle;\n",
       "    }\n",
       "\n",
       "    .dataframe tbody tr th {\n",
       "        vertical-align: top;\n",
       "    }\n",
       "\n",
       "    .dataframe thead th {\n",
       "        text-align: right;\n",
       "    }\n",
       "</style>\n",
       "<table border=\"1\" class=\"dataframe\">\n",
       "  <thead>\n",
       "    <tr style=\"text-align: right;\">\n",
       "      <th></th>\n",
       "      <th>Unnamed: 0</th>\n",
       "      <th>id</th>\n",
       "      <th>mb_used</th>\n",
       "      <th>session_date</th>\n",
       "      <th>user_id</th>\n",
       "    </tr>\n",
       "  </thead>\n",
       "  <tbody>\n",
       "    <tr>\n",
       "      <th>0</th>\n",
       "      <td>0</td>\n",
       "      <td>1000_0</td>\n",
       "      <td>112.95</td>\n",
       "      <td>2018-11-25</td>\n",
       "      <td>1000</td>\n",
       "    </tr>\n",
       "    <tr>\n",
       "      <th>1</th>\n",
       "      <td>1</td>\n",
       "      <td>1000_1</td>\n",
       "      <td>1052.81</td>\n",
       "      <td>2018-09-07</td>\n",
       "      <td>1000</td>\n",
       "    </tr>\n",
       "    <tr>\n",
       "      <th>2</th>\n",
       "      <td>2</td>\n",
       "      <td>1000_2</td>\n",
       "      <td>1197.26</td>\n",
       "      <td>2018-06-25</td>\n",
       "      <td>1000</td>\n",
       "    </tr>\n",
       "    <tr>\n",
       "      <th>3</th>\n",
       "      <td>3</td>\n",
       "      <td>1000_3</td>\n",
       "      <td>550.27</td>\n",
       "      <td>2018-08-22</td>\n",
       "      <td>1000</td>\n",
       "    </tr>\n",
       "    <tr>\n",
       "      <th>4</th>\n",
       "      <td>4</td>\n",
       "      <td>1000_4</td>\n",
       "      <td>302.56</td>\n",
       "      <td>2018-09-24</td>\n",
       "      <td>1000</td>\n",
       "    </tr>\n",
       "  </tbody>\n",
       "</table>\n",
       "</div>"
      ],
      "text/plain": [
       "   Unnamed: 0      id  mb_used session_date  user_id\n",
       "0           0  1000_0   112.95   2018-11-25     1000\n",
       "1           1  1000_1  1052.81   2018-09-07     1000\n",
       "2           2  1000_2  1197.26   2018-06-25     1000\n",
       "3           3  1000_3   550.27   2018-08-22     1000\n",
       "4           4  1000_4   302.56   2018-09-24     1000"
      ]
     },
     "metadata": {},
     "output_type": "display_data"
    },
    {
     "name": "stdout",
     "output_type": "stream",
     "text": [
      "\n",
      "\n",
      "\n",
      "\n",
      "---------- Messages ----------\n",
      "<class 'pandas.core.frame.DataFrame'>\n",
      "RangeIndex: 123036 entries, 0 to 123035\n",
      "Data columns (total 3 columns):\n",
      " #   Column        Non-Null Count   Dtype \n",
      "---  ------        --------------   ----- \n",
      " 0   id            123036 non-null  object\n",
      " 1   message_date  123036 non-null  object\n",
      " 2   user_id       123036 non-null  int64 \n",
      "dtypes: int64(1), object(2)\n",
      "memory usage: 2.8+ MB\n"
     ]
    },
    {
     "data": {
      "text/plain": [
       "None"
      ]
     },
     "metadata": {},
     "output_type": "display_data"
    },
    {
     "data": {
      "text/html": [
       "<div>\n",
       "<style scoped>\n",
       "    .dataframe tbody tr th:only-of-type {\n",
       "        vertical-align: middle;\n",
       "    }\n",
       "\n",
       "    .dataframe tbody tr th {\n",
       "        vertical-align: top;\n",
       "    }\n",
       "\n",
       "    .dataframe thead th {\n",
       "        text-align: right;\n",
       "    }\n",
       "</style>\n",
       "<table border=\"1\" class=\"dataframe\">\n",
       "  <thead>\n",
       "    <tr style=\"text-align: right;\">\n",
       "      <th></th>\n",
       "      <th>id</th>\n",
       "      <th>message_date</th>\n",
       "      <th>user_id</th>\n",
       "    </tr>\n",
       "  </thead>\n",
       "  <tbody>\n",
       "    <tr>\n",
       "      <th>0</th>\n",
       "      <td>1000_0</td>\n",
       "      <td>2018-06-27</td>\n",
       "      <td>1000</td>\n",
       "    </tr>\n",
       "    <tr>\n",
       "      <th>1</th>\n",
       "      <td>1000_1</td>\n",
       "      <td>2018-10-08</td>\n",
       "      <td>1000</td>\n",
       "    </tr>\n",
       "    <tr>\n",
       "      <th>2</th>\n",
       "      <td>1000_2</td>\n",
       "      <td>2018-08-04</td>\n",
       "      <td>1000</td>\n",
       "    </tr>\n",
       "    <tr>\n",
       "      <th>3</th>\n",
       "      <td>1000_3</td>\n",
       "      <td>2018-06-16</td>\n",
       "      <td>1000</td>\n",
       "    </tr>\n",
       "    <tr>\n",
       "      <th>4</th>\n",
       "      <td>1000_4</td>\n",
       "      <td>2018-12-05</td>\n",
       "      <td>1000</td>\n",
       "    </tr>\n",
       "  </tbody>\n",
       "</table>\n",
       "</div>"
      ],
      "text/plain": [
       "       id message_date  user_id\n",
       "0  1000_0   2018-06-27     1000\n",
       "1  1000_1   2018-10-08     1000\n",
       "2  1000_2   2018-08-04     1000\n",
       "3  1000_3   2018-06-16     1000\n",
       "4  1000_4   2018-12-05     1000"
      ]
     },
     "metadata": {},
     "output_type": "display_data"
    },
    {
     "name": "stdout",
     "output_type": "stream",
     "text": [
      "\n",
      "\n",
      "\n",
      "\n",
      "---------- Tariffs ----------\n",
      "<class 'pandas.core.frame.DataFrame'>\n",
      "RangeIndex: 2 entries, 0 to 1\n",
      "Data columns (total 8 columns):\n",
      " #   Column                 Non-Null Count  Dtype \n",
      "---  ------                 --------------  ----- \n",
      " 0   messages_included      2 non-null      int64 \n",
      " 1   mb_per_month_included  2 non-null      int64 \n",
      " 2   minutes_included       2 non-null      int64 \n",
      " 3   rub_monthly_fee        2 non-null      int64 \n",
      " 4   rub_per_gb             2 non-null      int64 \n",
      " 5   rub_per_message        2 non-null      int64 \n",
      " 6   rub_per_minute         2 non-null      int64 \n",
      " 7   tariff_name            2 non-null      object\n",
      "dtypes: int64(7), object(1)\n",
      "memory usage: 256.0+ bytes\n"
     ]
    },
    {
     "data": {
      "text/plain": [
       "None"
      ]
     },
     "metadata": {},
     "output_type": "display_data"
    },
    {
     "data": {
      "text/html": [
       "<div>\n",
       "<style scoped>\n",
       "    .dataframe tbody tr th:only-of-type {\n",
       "        vertical-align: middle;\n",
       "    }\n",
       "\n",
       "    .dataframe tbody tr th {\n",
       "        vertical-align: top;\n",
       "    }\n",
       "\n",
       "    .dataframe thead th {\n",
       "        text-align: right;\n",
       "    }\n",
       "</style>\n",
       "<table border=\"1\" class=\"dataframe\">\n",
       "  <thead>\n",
       "    <tr style=\"text-align: right;\">\n",
       "      <th></th>\n",
       "      <th>messages_included</th>\n",
       "      <th>mb_per_month_included</th>\n",
       "      <th>minutes_included</th>\n",
       "      <th>rub_monthly_fee</th>\n",
       "      <th>rub_per_gb</th>\n",
       "      <th>rub_per_message</th>\n",
       "      <th>rub_per_minute</th>\n",
       "      <th>tariff_name</th>\n",
       "    </tr>\n",
       "  </thead>\n",
       "  <tbody>\n",
       "    <tr>\n",
       "      <th>0</th>\n",
       "      <td>50</td>\n",
       "      <td>15360</td>\n",
       "      <td>500</td>\n",
       "      <td>550</td>\n",
       "      <td>200</td>\n",
       "      <td>3</td>\n",
       "      <td>3</td>\n",
       "      <td>smart</td>\n",
       "    </tr>\n",
       "    <tr>\n",
       "      <th>1</th>\n",
       "      <td>1000</td>\n",
       "      <td>30720</td>\n",
       "      <td>3000</td>\n",
       "      <td>1950</td>\n",
       "      <td>150</td>\n",
       "      <td>1</td>\n",
       "      <td>1</td>\n",
       "      <td>ultra</td>\n",
       "    </tr>\n",
       "  </tbody>\n",
       "</table>\n",
       "</div>"
      ],
      "text/plain": [
       "   messages_included  mb_per_month_included  minutes_included  \\\n",
       "0                 50                  15360               500   \n",
       "1               1000                  30720              3000   \n",
       "\n",
       "   rub_monthly_fee  rub_per_gb  rub_per_message  rub_per_minute tariff_name  \n",
       "0              550         200                3               3       smart  \n",
       "1             1950         150                1               1       ultra  "
      ]
     },
     "metadata": {},
     "output_type": "display_data"
    },
    {
     "name": "stdout",
     "output_type": "stream",
     "text": [
      "\n",
      "\n",
      "\n",
      "\n",
      "---------- Users ----------\n",
      "<class 'pandas.core.frame.DataFrame'>\n",
      "RangeIndex: 500 entries, 0 to 499\n",
      "Data columns (total 8 columns):\n",
      " #   Column      Non-Null Count  Dtype \n",
      "---  ------      --------------  ----- \n",
      " 0   user_id     500 non-null    int64 \n",
      " 1   age         500 non-null    int64 \n",
      " 2   churn_date  38 non-null     object\n",
      " 3   city        500 non-null    object\n",
      " 4   first_name  500 non-null    object\n",
      " 5   last_name   500 non-null    object\n",
      " 6   reg_date    500 non-null    object\n",
      " 7   tariff      500 non-null    object\n",
      "dtypes: int64(2), object(6)\n",
      "memory usage: 31.4+ KB\n"
     ]
    },
    {
     "data": {
      "text/plain": [
       "None"
      ]
     },
     "metadata": {},
     "output_type": "display_data"
    },
    {
     "data": {
      "text/html": [
       "<div>\n",
       "<style scoped>\n",
       "    .dataframe tbody tr th:only-of-type {\n",
       "        vertical-align: middle;\n",
       "    }\n",
       "\n",
       "    .dataframe tbody tr th {\n",
       "        vertical-align: top;\n",
       "    }\n",
       "\n",
       "    .dataframe thead th {\n",
       "        text-align: right;\n",
       "    }\n",
       "</style>\n",
       "<table border=\"1\" class=\"dataframe\">\n",
       "  <thead>\n",
       "    <tr style=\"text-align: right;\">\n",
       "      <th></th>\n",
       "      <th>user_id</th>\n",
       "      <th>age</th>\n",
       "      <th>churn_date</th>\n",
       "      <th>city</th>\n",
       "      <th>first_name</th>\n",
       "      <th>last_name</th>\n",
       "      <th>reg_date</th>\n",
       "      <th>tariff</th>\n",
       "    </tr>\n",
       "  </thead>\n",
       "  <tbody>\n",
       "    <tr>\n",
       "      <th>0</th>\n",
       "      <td>1000</td>\n",
       "      <td>52</td>\n",
       "      <td>NaN</td>\n",
       "      <td>Краснодар</td>\n",
       "      <td>Рафаил</td>\n",
       "      <td>Верещагин</td>\n",
       "      <td>2018-05-25</td>\n",
       "      <td>ultra</td>\n",
       "    </tr>\n",
       "    <tr>\n",
       "      <th>1</th>\n",
       "      <td>1001</td>\n",
       "      <td>41</td>\n",
       "      <td>NaN</td>\n",
       "      <td>Москва</td>\n",
       "      <td>Иван</td>\n",
       "      <td>Ежов</td>\n",
       "      <td>2018-11-01</td>\n",
       "      <td>smart</td>\n",
       "    </tr>\n",
       "    <tr>\n",
       "      <th>2</th>\n",
       "      <td>1002</td>\n",
       "      <td>59</td>\n",
       "      <td>NaN</td>\n",
       "      <td>Стерлитамак</td>\n",
       "      <td>Евгений</td>\n",
       "      <td>Абрамович</td>\n",
       "      <td>2018-06-17</td>\n",
       "      <td>smart</td>\n",
       "    </tr>\n",
       "    <tr>\n",
       "      <th>3</th>\n",
       "      <td>1003</td>\n",
       "      <td>23</td>\n",
       "      <td>NaN</td>\n",
       "      <td>Москва</td>\n",
       "      <td>Белла</td>\n",
       "      <td>Белякова</td>\n",
       "      <td>2018-08-17</td>\n",
       "      <td>ultra</td>\n",
       "    </tr>\n",
       "    <tr>\n",
       "      <th>4</th>\n",
       "      <td>1004</td>\n",
       "      <td>68</td>\n",
       "      <td>NaN</td>\n",
       "      <td>Новокузнецк</td>\n",
       "      <td>Татьяна</td>\n",
       "      <td>Авдеенко</td>\n",
       "      <td>2018-05-14</td>\n",
       "      <td>ultra</td>\n",
       "    </tr>\n",
       "  </tbody>\n",
       "</table>\n",
       "</div>"
      ],
      "text/plain": [
       "   user_id  age churn_date         city first_name  last_name    reg_date  \\\n",
       "0     1000   52        NaN    Краснодар     Рафаил  Верещагин  2018-05-25   \n",
       "1     1001   41        NaN       Москва       Иван       Ежов  2018-11-01   \n",
       "2     1002   59        NaN  Стерлитамак    Евгений  Абрамович  2018-06-17   \n",
       "3     1003   23        NaN       Москва      Белла   Белякова  2018-08-17   \n",
       "4     1004   68        NaN  Новокузнецк    Татьяна   Авдеенко  2018-05-14   \n",
       "\n",
       "  tariff  \n",
       "0  ultra  \n",
       "1  smart  \n",
       "2  smart  \n",
       "3  ultra  \n",
       "4  ultra  "
      ]
     },
     "metadata": {},
     "output_type": "display_data"
    },
    {
     "name": "stdout",
     "output_type": "stream",
     "text": [
      "\n",
      "\n",
      "\n",
      "\n"
     ]
    }
   ],
   "source": [
    "print('-' * 10, 'Calls', '-' * 10)\n",
    "display(data_calls.info())\n",
    "display(data_calls.head())\n",
    "print('\\n\\n\\n')\n",
    "print('-' * 10, 'Interner', '-' * 10)\n",
    "display(data_internet.info())\n",
    "display(data_internet.head())\n",
    "print('\\n\\n\\n')\n",
    "print('-' * 10, 'Messages', '-' * 10)\n",
    "display(data_messages.info())\n",
    "display(data_messages.head())\n",
    "print('\\n\\n\\n')\n",
    "print('-' * 10, 'Tariffs', '-' * 10)\n",
    "display(data_tariffs.info())\n",
    "display(data_tariffs.head())\n",
    "print('\\n\\n\\n')\n",
    "print('-' * 10, 'Users', '-' * 10)\n",
    "display(data_users.info())\n",
    "display(data_users.head())\n",
    "print('\\n\\n\\n')"
   ]
  },
  {
   "cell_type": "markdown",
   "metadata": {},
   "source": [
    "## Предобработка данных"
   ]
  },
  {
   "cell_type": "code",
   "execution_count": 4,
   "metadata": {},
   "outputs": [],
   "source": [
    "data_users = data_users.rename(columns={'tariff' : 'tariff_name'})"
   ]
  },
  {
   "cell_type": "markdown",
   "metadata": {},
   "source": [
    "### Проверка типов данных"
   ]
  },
  {
   "cell_type": "code",
   "execution_count": 5,
   "metadata": {},
   "outputs": [
    {
     "name": "stdout",
     "output_type": "stream",
     "text": [
      "--------------------------------------------- Calls ---------------------------------------------\n",
      "id            object\n",
      "call_date     object\n",
      "duration     float64\n",
      "user_id        int64\n",
      "dtype: object\n"
     ]
    },
    {
     "data": {
      "text/html": [
       "<div>\n",
       "<style scoped>\n",
       "    .dataframe tbody tr th:only-of-type {\n",
       "        vertical-align: middle;\n",
       "    }\n",
       "\n",
       "    .dataframe tbody tr th {\n",
       "        vertical-align: top;\n",
       "    }\n",
       "\n",
       "    .dataframe thead th {\n",
       "        text-align: right;\n",
       "    }\n",
       "</style>\n",
       "<table border=\"1\" class=\"dataframe\">\n",
       "  <thead>\n",
       "    <tr style=\"text-align: right;\">\n",
       "      <th></th>\n",
       "      <th>id</th>\n",
       "      <th>call_date</th>\n",
       "      <th>duration</th>\n",
       "      <th>user_id</th>\n",
       "    </tr>\n",
       "  </thead>\n",
       "  <tbody>\n",
       "    <tr>\n",
       "      <th>0</th>\n",
       "      <td>1000_0</td>\n",
       "      <td>2018-07-25</td>\n",
       "      <td>0.00</td>\n",
       "      <td>1000</td>\n",
       "    </tr>\n",
       "    <tr>\n",
       "      <th>1</th>\n",
       "      <td>1000_1</td>\n",
       "      <td>2018-08-17</td>\n",
       "      <td>0.00</td>\n",
       "      <td>1000</td>\n",
       "    </tr>\n",
       "    <tr>\n",
       "      <th>2</th>\n",
       "      <td>1000_2</td>\n",
       "      <td>2018-06-11</td>\n",
       "      <td>2.85</td>\n",
       "      <td>1000</td>\n",
       "    </tr>\n",
       "    <tr>\n",
       "      <th>3</th>\n",
       "      <td>1000_3</td>\n",
       "      <td>2018-09-21</td>\n",
       "      <td>13.80</td>\n",
       "      <td>1000</td>\n",
       "    </tr>\n",
       "    <tr>\n",
       "      <th>4</th>\n",
       "      <td>1000_4</td>\n",
       "      <td>2018-12-15</td>\n",
       "      <td>5.18</td>\n",
       "      <td>1000</td>\n",
       "    </tr>\n",
       "  </tbody>\n",
       "</table>\n",
       "</div>"
      ],
      "text/plain": [
       "       id   call_date  duration  user_id\n",
       "0  1000_0  2018-07-25      0.00     1000\n",
       "1  1000_1  2018-08-17      0.00     1000\n",
       "2  1000_2  2018-06-11      2.85     1000\n",
       "3  1000_3  2018-09-21     13.80     1000\n",
       "4  1000_4  2018-12-15      5.18     1000"
      ]
     },
     "metadata": {},
     "output_type": "display_data"
    },
    {
     "name": "stdout",
     "output_type": "stream",
     "text": [
      "\n",
      "\n",
      "\n",
      "--------------------------------------------- Messages ---------------------------------------------\n",
      "id              object\n",
      "message_date    object\n",
      "user_id          int64\n",
      "dtype: object\n"
     ]
    },
    {
     "data": {
      "text/html": [
       "<div>\n",
       "<style scoped>\n",
       "    .dataframe tbody tr th:only-of-type {\n",
       "        vertical-align: middle;\n",
       "    }\n",
       "\n",
       "    .dataframe tbody tr th {\n",
       "        vertical-align: top;\n",
       "    }\n",
       "\n",
       "    .dataframe thead th {\n",
       "        text-align: right;\n",
       "    }\n",
       "</style>\n",
       "<table border=\"1\" class=\"dataframe\">\n",
       "  <thead>\n",
       "    <tr style=\"text-align: right;\">\n",
       "      <th></th>\n",
       "      <th>id</th>\n",
       "      <th>message_date</th>\n",
       "      <th>user_id</th>\n",
       "    </tr>\n",
       "  </thead>\n",
       "  <tbody>\n",
       "    <tr>\n",
       "      <th>0</th>\n",
       "      <td>1000_0</td>\n",
       "      <td>2018-06-27</td>\n",
       "      <td>1000</td>\n",
       "    </tr>\n",
       "    <tr>\n",
       "      <th>1</th>\n",
       "      <td>1000_1</td>\n",
       "      <td>2018-10-08</td>\n",
       "      <td>1000</td>\n",
       "    </tr>\n",
       "    <tr>\n",
       "      <th>2</th>\n",
       "      <td>1000_2</td>\n",
       "      <td>2018-08-04</td>\n",
       "      <td>1000</td>\n",
       "    </tr>\n",
       "    <tr>\n",
       "      <th>3</th>\n",
       "      <td>1000_3</td>\n",
       "      <td>2018-06-16</td>\n",
       "      <td>1000</td>\n",
       "    </tr>\n",
       "    <tr>\n",
       "      <th>4</th>\n",
       "      <td>1000_4</td>\n",
       "      <td>2018-12-05</td>\n",
       "      <td>1000</td>\n",
       "    </tr>\n",
       "  </tbody>\n",
       "</table>\n",
       "</div>"
      ],
      "text/plain": [
       "       id message_date  user_id\n",
       "0  1000_0   2018-06-27     1000\n",
       "1  1000_1   2018-10-08     1000\n",
       "2  1000_2   2018-08-04     1000\n",
       "3  1000_3   2018-06-16     1000\n",
       "4  1000_4   2018-12-05     1000"
      ]
     },
     "metadata": {},
     "output_type": "display_data"
    },
    {
     "name": "stdout",
     "output_type": "stream",
     "text": [
      "\n",
      "\n",
      "\n",
      "--------------------------------------------- Internet ---------------------------------------------\n",
      "Unnamed: 0        int64\n",
      "id               object\n",
      "mb_used         float64\n",
      "session_date     object\n",
      "user_id           int64\n",
      "dtype: object\n"
     ]
    },
    {
     "data": {
      "text/html": [
       "<div>\n",
       "<style scoped>\n",
       "    .dataframe tbody tr th:only-of-type {\n",
       "        vertical-align: middle;\n",
       "    }\n",
       "\n",
       "    .dataframe tbody tr th {\n",
       "        vertical-align: top;\n",
       "    }\n",
       "\n",
       "    .dataframe thead th {\n",
       "        text-align: right;\n",
       "    }\n",
       "</style>\n",
       "<table border=\"1\" class=\"dataframe\">\n",
       "  <thead>\n",
       "    <tr style=\"text-align: right;\">\n",
       "      <th></th>\n",
       "      <th>Unnamed: 0</th>\n",
       "      <th>id</th>\n",
       "      <th>mb_used</th>\n",
       "      <th>session_date</th>\n",
       "      <th>user_id</th>\n",
       "    </tr>\n",
       "  </thead>\n",
       "  <tbody>\n",
       "    <tr>\n",
       "      <th>0</th>\n",
       "      <td>0</td>\n",
       "      <td>1000_0</td>\n",
       "      <td>112.95</td>\n",
       "      <td>2018-11-25</td>\n",
       "      <td>1000</td>\n",
       "    </tr>\n",
       "    <tr>\n",
       "      <th>1</th>\n",
       "      <td>1</td>\n",
       "      <td>1000_1</td>\n",
       "      <td>1052.81</td>\n",
       "      <td>2018-09-07</td>\n",
       "      <td>1000</td>\n",
       "    </tr>\n",
       "    <tr>\n",
       "      <th>2</th>\n",
       "      <td>2</td>\n",
       "      <td>1000_2</td>\n",
       "      <td>1197.26</td>\n",
       "      <td>2018-06-25</td>\n",
       "      <td>1000</td>\n",
       "    </tr>\n",
       "    <tr>\n",
       "      <th>3</th>\n",
       "      <td>3</td>\n",
       "      <td>1000_3</td>\n",
       "      <td>550.27</td>\n",
       "      <td>2018-08-22</td>\n",
       "      <td>1000</td>\n",
       "    </tr>\n",
       "    <tr>\n",
       "      <th>4</th>\n",
       "      <td>4</td>\n",
       "      <td>1000_4</td>\n",
       "      <td>302.56</td>\n",
       "      <td>2018-09-24</td>\n",
       "      <td>1000</td>\n",
       "    </tr>\n",
       "  </tbody>\n",
       "</table>\n",
       "</div>"
      ],
      "text/plain": [
       "   Unnamed: 0      id  mb_used session_date  user_id\n",
       "0           0  1000_0   112.95   2018-11-25     1000\n",
       "1           1  1000_1  1052.81   2018-09-07     1000\n",
       "2           2  1000_2  1197.26   2018-06-25     1000\n",
       "3           3  1000_3   550.27   2018-08-22     1000\n",
       "4           4  1000_4   302.56   2018-09-24     1000"
      ]
     },
     "metadata": {},
     "output_type": "display_data"
    },
    {
     "name": "stdout",
     "output_type": "stream",
     "text": [
      "\n",
      "\n",
      "\n",
      "--------------------------------------------- Users ---------------------------------------------\n",
      "user_id         int64\n",
      "age             int64\n",
      "churn_date     object\n",
      "city           object\n",
      "first_name     object\n",
      "last_name      object\n",
      "reg_date       object\n",
      "tariff_name    object\n",
      "dtype: object\n"
     ]
    },
    {
     "data": {
      "text/html": [
       "<div>\n",
       "<style scoped>\n",
       "    .dataframe tbody tr th:only-of-type {\n",
       "        vertical-align: middle;\n",
       "    }\n",
       "\n",
       "    .dataframe tbody tr th {\n",
       "        vertical-align: top;\n",
       "    }\n",
       "\n",
       "    .dataframe thead th {\n",
       "        text-align: right;\n",
       "    }\n",
       "</style>\n",
       "<table border=\"1\" class=\"dataframe\">\n",
       "  <thead>\n",
       "    <tr style=\"text-align: right;\">\n",
       "      <th></th>\n",
       "      <th>user_id</th>\n",
       "      <th>age</th>\n",
       "      <th>churn_date</th>\n",
       "      <th>city</th>\n",
       "      <th>first_name</th>\n",
       "      <th>last_name</th>\n",
       "      <th>reg_date</th>\n",
       "      <th>tariff_name</th>\n",
       "    </tr>\n",
       "  </thead>\n",
       "  <tbody>\n",
       "    <tr>\n",
       "      <th>0</th>\n",
       "      <td>1000</td>\n",
       "      <td>52</td>\n",
       "      <td>NaN</td>\n",
       "      <td>Краснодар</td>\n",
       "      <td>Рафаил</td>\n",
       "      <td>Верещагин</td>\n",
       "      <td>2018-05-25</td>\n",
       "      <td>ultra</td>\n",
       "    </tr>\n",
       "    <tr>\n",
       "      <th>1</th>\n",
       "      <td>1001</td>\n",
       "      <td>41</td>\n",
       "      <td>NaN</td>\n",
       "      <td>Москва</td>\n",
       "      <td>Иван</td>\n",
       "      <td>Ежов</td>\n",
       "      <td>2018-11-01</td>\n",
       "      <td>smart</td>\n",
       "    </tr>\n",
       "    <tr>\n",
       "      <th>2</th>\n",
       "      <td>1002</td>\n",
       "      <td>59</td>\n",
       "      <td>NaN</td>\n",
       "      <td>Стерлитамак</td>\n",
       "      <td>Евгений</td>\n",
       "      <td>Абрамович</td>\n",
       "      <td>2018-06-17</td>\n",
       "      <td>smart</td>\n",
       "    </tr>\n",
       "    <tr>\n",
       "      <th>3</th>\n",
       "      <td>1003</td>\n",
       "      <td>23</td>\n",
       "      <td>NaN</td>\n",
       "      <td>Москва</td>\n",
       "      <td>Белла</td>\n",
       "      <td>Белякова</td>\n",
       "      <td>2018-08-17</td>\n",
       "      <td>ultra</td>\n",
       "    </tr>\n",
       "    <tr>\n",
       "      <th>4</th>\n",
       "      <td>1004</td>\n",
       "      <td>68</td>\n",
       "      <td>NaN</td>\n",
       "      <td>Новокузнецк</td>\n",
       "      <td>Татьяна</td>\n",
       "      <td>Авдеенко</td>\n",
       "      <td>2018-05-14</td>\n",
       "      <td>ultra</td>\n",
       "    </tr>\n",
       "  </tbody>\n",
       "</table>\n",
       "</div>"
      ],
      "text/plain": [
       "   user_id  age churn_date         city first_name  last_name    reg_date  \\\n",
       "0     1000   52        NaN    Краснодар     Рафаил  Верещагин  2018-05-25   \n",
       "1     1001   41        NaN       Москва       Иван       Ежов  2018-11-01   \n",
       "2     1002   59        NaN  Стерлитамак    Евгений  Абрамович  2018-06-17   \n",
       "3     1003   23        NaN       Москва      Белла   Белякова  2018-08-17   \n",
       "4     1004   68        NaN  Новокузнецк    Татьяна   Авдеенко  2018-05-14   \n",
       "\n",
       "  tariff_name  \n",
       "0       ultra  \n",
       "1       smart  \n",
       "2       smart  \n",
       "3       ultra  \n",
       "4       ultra  "
      ]
     },
     "metadata": {},
     "output_type": "display_data"
    },
    {
     "name": "stdout",
     "output_type": "stream",
     "text": [
      "\n",
      "\n",
      "\n",
      "--------------------------------------------- Tariffs ---------------------------------------------\n",
      "messages_included         int64\n",
      "mb_per_month_included     int64\n",
      "minutes_included          int64\n",
      "rub_monthly_fee           int64\n",
      "rub_per_gb                int64\n",
      "rub_per_message           int64\n",
      "rub_per_minute            int64\n",
      "tariff_name              object\n",
      "dtype: object\n"
     ]
    },
    {
     "data": {
      "text/html": [
       "<div>\n",
       "<style scoped>\n",
       "    .dataframe tbody tr th:only-of-type {\n",
       "        vertical-align: middle;\n",
       "    }\n",
       "\n",
       "    .dataframe tbody tr th {\n",
       "        vertical-align: top;\n",
       "    }\n",
       "\n",
       "    .dataframe thead th {\n",
       "        text-align: right;\n",
       "    }\n",
       "</style>\n",
       "<table border=\"1\" class=\"dataframe\">\n",
       "  <thead>\n",
       "    <tr style=\"text-align: right;\">\n",
       "      <th></th>\n",
       "      <th>messages_included</th>\n",
       "      <th>mb_per_month_included</th>\n",
       "      <th>minutes_included</th>\n",
       "      <th>rub_monthly_fee</th>\n",
       "      <th>rub_per_gb</th>\n",
       "      <th>rub_per_message</th>\n",
       "      <th>rub_per_minute</th>\n",
       "      <th>tariff_name</th>\n",
       "    </tr>\n",
       "  </thead>\n",
       "  <tbody>\n",
       "    <tr>\n",
       "      <th>0</th>\n",
       "      <td>50</td>\n",
       "      <td>15360</td>\n",
       "      <td>500</td>\n",
       "      <td>550</td>\n",
       "      <td>200</td>\n",
       "      <td>3</td>\n",
       "      <td>3</td>\n",
       "      <td>smart</td>\n",
       "    </tr>\n",
       "    <tr>\n",
       "      <th>1</th>\n",
       "      <td>1000</td>\n",
       "      <td>30720</td>\n",
       "      <td>3000</td>\n",
       "      <td>1950</td>\n",
       "      <td>150</td>\n",
       "      <td>1</td>\n",
       "      <td>1</td>\n",
       "      <td>ultra</td>\n",
       "    </tr>\n",
       "  </tbody>\n",
       "</table>\n",
       "</div>"
      ],
      "text/plain": [
       "   messages_included  mb_per_month_included  minutes_included  \\\n",
       "0                 50                  15360               500   \n",
       "1               1000                  30720              3000   \n",
       "\n",
       "   rub_monthly_fee  rub_per_gb  rub_per_message  rub_per_minute tariff_name  \n",
       "0              550         200                3               3       smart  \n",
       "1             1950         150                1               1       ultra  "
      ]
     },
     "metadata": {},
     "output_type": "display_data"
    }
   ],
   "source": [
    "print('-' * 45, 'Calls', '-' * 45)\n",
    "print(data_calls.dtypes)\n",
    "display(data_calls.head())\n",
    "print('\\n\\n')\n",
    "print('-' * 45, 'Messages', '-' * 45)\n",
    "print(data_messages.dtypes)\n",
    "display(data_messages.head())\n",
    "print('\\n\\n')\n",
    "print('-' * 45, 'Internet', '-' * 45)\n",
    "print(data_internet.dtypes)\n",
    "display(data_internet.head())\n",
    "print('\\n\\n')\n",
    "print('-' * 45, 'Users', '-' * 45)\n",
    "print(data_users.dtypes)\n",
    "display(data_users.head())\n",
    "print('\\n\\n')\n",
    "print('-' * 45, 'Tariffs', '-' * 45)\n",
    "print(data_tariffs.dtypes)\n",
    "display(data_tariffs.head())"
   ]
  },
  {
   "cell_type": "markdown",
   "metadata": {},
   "source": [
    "Для колонок, хранящих дату применим метод to_datetime(), чтобы преобразовать их к типу **datetime**."
   ]
  },
  {
   "cell_type": "code",
   "execution_count": 6,
   "metadata": {},
   "outputs": [],
   "source": [
    "data_calls['call_date'] = pd.to_datetime(data_calls['call_date'])\n",
    "data_messages['message_date'] = pd.to_datetime(data_messages['message_date'])\n",
    "data_internet['session_date'] = pd.to_datetime(data_internet['session_date'])\n",
    "data_users['churn_date'] = pd.to_datetime(data_users['churn_date'])\n",
    "data_users['reg_date'] = pd.to_datetime(data_users['churn_date'])"
   ]
  },
  {
   "cell_type": "markdown",
   "metadata": {},
   "source": [
    "Преобразование верному типу данных произведено успешно"
   ]
  },
  {
   "cell_type": "markdown",
   "metadata": {},
   "source": [
    "Избавимся от бессмысленного столбца в датасете `data_users_internet`:"
   ]
  },
  {
   "cell_type": "code",
   "execution_count": 7,
   "metadata": {},
   "outputs": [],
   "source": [
    "data_internet =  data_internet.drop(columns=['Unnamed: 0'])"
   ]
  },
  {
   "cell_type": "code",
   "execution_count": 8,
   "metadata": {},
   "outputs": [
    {
     "name": "stdout",
     "output_type": "stream",
     "text": [
      "<class 'pandas.core.frame.DataFrame'>\n",
      "RangeIndex: 149396 entries, 0 to 149395\n",
      "Data columns (total 4 columns):\n",
      " #   Column        Non-Null Count   Dtype         \n",
      "---  ------        --------------   -----         \n",
      " 0   id            149396 non-null  object        \n",
      " 1   mb_used       149396 non-null  float64       \n",
      " 2   session_date  149396 non-null  datetime64[ns]\n",
      " 3   user_id       149396 non-null  int64         \n",
      "dtypes: datetime64[ns](1), float64(1), int64(1), object(1)\n",
      "memory usage: 4.6+ MB\n"
     ]
    }
   ],
   "source": [
    "data_internet.info()"
   ]
  },
  {
   "cell_type": "markdown",
   "metadata": {},
   "source": [
    "Во всех датасетах в столбце **id**, который подразумевается числовым, записаны строковые значения в виде: (id пользователя)_(номер/id действия). Такая запись не несет для нас никакой пользы, изменим этот формат записи, оставив только часть с номером/id. Мы уже храним в этой же строке id пользователя, выполнившего действие, поэтому дважды нам записывать эту информацию не нужно и мы ничего не потеряем, выполнив такое действие"
   ]
  },
  {
   "cell_type": "code",
   "execution_count": 9,
   "metadata": {},
   "outputs": [],
   "source": [
    "def id_to_int(row):\n",
    "    if '_' in str(row['id']):\n",
    "        s1 = str(row['id']).replace('_', '')\n",
    "        return int(row['id'])"
   ]
  },
  {
   "cell_type": "code",
   "execution_count": 10,
   "metadata": {},
   "outputs": [],
   "source": [
    "data_calls['id'] = data_calls.apply(id_to_int, axis=1)\n",
    "data_messages['id'] = data_messages.apply(id_to_int, axis=1)\n",
    "data_internet['id'] = data_internet.apply(id_to_int, axis=1)"
   ]
  },
  {
   "cell_type": "code",
   "execution_count": 11,
   "metadata": {},
   "outputs": [
    {
     "data": {
      "text/html": [
       "<div>\n",
       "<style scoped>\n",
       "    .dataframe tbody tr th:only-of-type {\n",
       "        vertical-align: middle;\n",
       "    }\n",
       "\n",
       "    .dataframe tbody tr th {\n",
       "        vertical-align: top;\n",
       "    }\n",
       "\n",
       "    .dataframe thead th {\n",
       "        text-align: right;\n",
       "    }\n",
       "</style>\n",
       "<table border=\"1\" class=\"dataframe\">\n",
       "  <thead>\n",
       "    <tr style=\"text-align: right;\">\n",
       "      <th></th>\n",
       "      <th>id</th>\n",
       "      <th>call_date</th>\n",
       "      <th>duration</th>\n",
       "      <th>user_id</th>\n",
       "    </tr>\n",
       "  </thead>\n",
       "  <tbody>\n",
       "    <tr>\n",
       "      <th>0</th>\n",
       "      <td>10000</td>\n",
       "      <td>2018-07-25</td>\n",
       "      <td>0.00</td>\n",
       "      <td>1000</td>\n",
       "    </tr>\n",
       "    <tr>\n",
       "      <th>1</th>\n",
       "      <td>10001</td>\n",
       "      <td>2018-08-17</td>\n",
       "      <td>0.00</td>\n",
       "      <td>1000</td>\n",
       "    </tr>\n",
       "    <tr>\n",
       "      <th>2</th>\n",
       "      <td>10002</td>\n",
       "      <td>2018-06-11</td>\n",
       "      <td>2.85</td>\n",
       "      <td>1000</td>\n",
       "    </tr>\n",
       "    <tr>\n",
       "      <th>3</th>\n",
       "      <td>10003</td>\n",
       "      <td>2018-09-21</td>\n",
       "      <td>13.80</td>\n",
       "      <td>1000</td>\n",
       "    </tr>\n",
       "    <tr>\n",
       "      <th>4</th>\n",
       "      <td>10004</td>\n",
       "      <td>2018-12-15</td>\n",
       "      <td>5.18</td>\n",
       "      <td>1000</td>\n",
       "    </tr>\n",
       "  </tbody>\n",
       "</table>\n",
       "</div>"
      ],
      "text/plain": [
       "      id  call_date  duration  user_id\n",
       "0  10000 2018-07-25      0.00     1000\n",
       "1  10001 2018-08-17      0.00     1000\n",
       "2  10002 2018-06-11      2.85     1000\n",
       "3  10003 2018-09-21     13.80     1000\n",
       "4  10004 2018-12-15      5.18     1000"
      ]
     },
     "execution_count": 11,
     "metadata": {},
     "output_type": "execute_result"
    }
   ],
   "source": [
    "data_calls.head()"
   ]
  },
  {
   "cell_type": "markdown",
   "metadata": {},
   "source": [
    "Столбец **id** исправили, перейдем к следующему пункту предобработки данных"
   ]
  },
  {
   "cell_type": "markdown",
   "metadata": {},
   "source": [
    "### Поиск и исправление аномалий в данных"
   ]
  },
  {
   "cell_type": "markdown",
   "metadata": {},
   "source": [
    "Изучим столбцы наших датафреймов с помощью метода describe()"
   ]
  },
  {
   "cell_type": "code",
   "execution_count": 12,
   "metadata": {
    "scrolled": false
   },
   "outputs": [
    {
     "name": "stdout",
     "output_type": "stream",
     "text": [
      "--------------------------------------------- Calls ---------------------------------------------\n"
     ]
    },
    {
     "data": {
      "text/html": [
       "<div>\n",
       "<style scoped>\n",
       "    .dataframe tbody tr th:only-of-type {\n",
       "        vertical-align: middle;\n",
       "    }\n",
       "\n",
       "    .dataframe tbody tr th {\n",
       "        vertical-align: top;\n",
       "    }\n",
       "\n",
       "    .dataframe thead th {\n",
       "        text-align: right;\n",
       "    }\n",
       "</style>\n",
       "<table border=\"1\" class=\"dataframe\">\n",
       "  <thead>\n",
       "    <tr style=\"text-align: right;\">\n",
       "      <th></th>\n",
       "      <th>id</th>\n",
       "      <th>duration</th>\n",
       "      <th>user_id</th>\n",
       "    </tr>\n",
       "  </thead>\n",
       "  <tbody>\n",
       "    <tr>\n",
       "      <th>count</th>\n",
       "      <td>2.026070e+05</td>\n",
       "      <td>202607.000000</td>\n",
       "      <td>202607.000000</td>\n",
       "    </tr>\n",
       "    <tr>\n",
       "      <th>mean</th>\n",
       "      <td>1.212254e+06</td>\n",
       "      <td>6.755887</td>\n",
       "      <td>1253.940619</td>\n",
       "    </tr>\n",
       "    <tr>\n",
       "      <th>std</th>\n",
       "      <td>1.725756e+06</td>\n",
       "      <td>5.843365</td>\n",
       "      <td>144.722751</td>\n",
       "    </tr>\n",
       "    <tr>\n",
       "      <th>min</th>\n",
       "      <td>1.000000e+04</td>\n",
       "      <td>0.000000</td>\n",
       "      <td>1000.000000</td>\n",
       "    </tr>\n",
       "    <tr>\n",
       "      <th>25%</th>\n",
       "      <td>1.012286e+06</td>\n",
       "      <td>1.300000</td>\n",
       "      <td>1126.000000</td>\n",
       "    </tr>\n",
       "    <tr>\n",
       "      <th>50%</th>\n",
       "      <td>1.179376e+06</td>\n",
       "      <td>6.000000</td>\n",
       "      <td>1260.000000</td>\n",
       "    </tr>\n",
       "    <tr>\n",
       "      <th>75%</th>\n",
       "      <td>1.358126e+06</td>\n",
       "      <td>10.700000</td>\n",
       "      <td>1379.000000</td>\n",
       "    </tr>\n",
       "    <tr>\n",
       "      <th>max</th>\n",
       "      <td>1.458115e+07</td>\n",
       "      <td>38.000000</td>\n",
       "      <td>1499.000000</td>\n",
       "    </tr>\n",
       "  </tbody>\n",
       "</table>\n",
       "</div>"
      ],
      "text/plain": [
       "                 id       duration        user_id\n",
       "count  2.026070e+05  202607.000000  202607.000000\n",
       "mean   1.212254e+06       6.755887    1253.940619\n",
       "std    1.725756e+06       5.843365     144.722751\n",
       "min    1.000000e+04       0.000000    1000.000000\n",
       "25%    1.012286e+06       1.300000    1126.000000\n",
       "50%    1.179376e+06       6.000000    1260.000000\n",
       "75%    1.358126e+06      10.700000    1379.000000\n",
       "max    1.458115e+07      38.000000    1499.000000"
      ]
     },
     "metadata": {},
     "output_type": "display_data"
    },
    {
     "name": "stdout",
     "output_type": "stream",
     "text": [
      "\n",
      "\n",
      "\n",
      "--------------------------------------------- Messages ---------------------------------------------\n"
     ]
    },
    {
     "data": {
      "text/html": [
       "<div>\n",
       "<style scoped>\n",
       "    .dataframe tbody tr th:only-of-type {\n",
       "        vertical-align: middle;\n",
       "    }\n",
       "\n",
       "    .dataframe tbody tr th {\n",
       "        vertical-align: top;\n",
       "    }\n",
       "\n",
       "    .dataframe thead th {\n",
       "        text-align: right;\n",
       "    }\n",
       "</style>\n",
       "<table border=\"1\" class=\"dataframe\">\n",
       "  <thead>\n",
       "    <tr style=\"text-align: right;\">\n",
       "      <th></th>\n",
       "      <th>id</th>\n",
       "      <th>user_id</th>\n",
       "    </tr>\n",
       "  </thead>\n",
       "  <tbody>\n",
       "    <tr>\n",
       "      <th>count</th>\n",
       "      <td>1.230360e+05</td>\n",
       "      <td>123036.000000</td>\n",
       "    </tr>\n",
       "    <tr>\n",
       "      <th>mean</th>\n",
       "      <td>1.144527e+06</td>\n",
       "      <td>1256.989410</td>\n",
       "    </tr>\n",
       "    <tr>\n",
       "      <th>std</th>\n",
       "      <td>1.717919e+06</td>\n",
       "      <td>143.523967</td>\n",
       "    </tr>\n",
       "    <tr>\n",
       "      <th>min</th>\n",
       "      <td>1.000000e+04</td>\n",
       "      <td>1000.000000</td>\n",
       "    </tr>\n",
       "    <tr>\n",
       "      <th>25%</th>\n",
       "      <td>1.418898e+05</td>\n",
       "      <td>1134.000000</td>\n",
       "    </tr>\n",
       "    <tr>\n",
       "      <th>50%</th>\n",
       "      <td>1.158504e+06</td>\n",
       "      <td>1271.000000</td>\n",
       "    </tr>\n",
       "    <tr>\n",
       "      <th>75%</th>\n",
       "      <td>1.343105e+06</td>\n",
       "      <td>1381.000000</td>\n",
       "    </tr>\n",
       "    <tr>\n",
       "      <th>max</th>\n",
       "      <td>1.433109e+07</td>\n",
       "      <td>1499.000000</td>\n",
       "    </tr>\n",
       "  </tbody>\n",
       "</table>\n",
       "</div>"
      ],
      "text/plain": [
       "                 id        user_id\n",
       "count  1.230360e+05  123036.000000\n",
       "mean   1.144527e+06    1256.989410\n",
       "std    1.717919e+06     143.523967\n",
       "min    1.000000e+04    1000.000000\n",
       "25%    1.418898e+05    1134.000000\n",
       "50%    1.158504e+06    1271.000000\n",
       "75%    1.343105e+06    1381.000000\n",
       "max    1.433109e+07    1499.000000"
      ]
     },
     "metadata": {},
     "output_type": "display_data"
    },
    {
     "name": "stdout",
     "output_type": "stream",
     "text": [
      "\n",
      "\n",
      "\n",
      "--------------------------------------------- Internet ---------------------------------------------\n"
     ]
    },
    {
     "data": {
      "text/html": [
       "<div>\n",
       "<style scoped>\n",
       "    .dataframe tbody tr th:only-of-type {\n",
       "        vertical-align: middle;\n",
       "    }\n",
       "\n",
       "    .dataframe tbody tr th {\n",
       "        vertical-align: top;\n",
       "    }\n",
       "\n",
       "    .dataframe thead th {\n",
       "        text-align: right;\n",
       "    }\n",
       "</style>\n",
       "<table border=\"1\" class=\"dataframe\">\n",
       "  <thead>\n",
       "    <tr style=\"text-align: right;\">\n",
       "      <th></th>\n",
       "      <th>id</th>\n",
       "      <th>mb_used</th>\n",
       "      <th>user_id</th>\n",
       "    </tr>\n",
       "  </thead>\n",
       "  <tbody>\n",
       "    <tr>\n",
       "      <th>count</th>\n",
       "      <td>1.493960e+05</td>\n",
       "      <td>149396.000000</td>\n",
       "      <td>149396.000000</td>\n",
       "    </tr>\n",
       "    <tr>\n",
       "      <th>mean</th>\n",
       "      <td>8.968475e+05</td>\n",
       "      <td>370.192426</td>\n",
       "      <td>1252.099842</td>\n",
       "    </tr>\n",
       "    <tr>\n",
       "      <th>std</th>\n",
       "      <td>5.419758e+05</td>\n",
       "      <td>278.300951</td>\n",
       "      <td>144.050823</td>\n",
       "    </tr>\n",
       "    <tr>\n",
       "      <th>min</th>\n",
       "      <td>1.000000e+04</td>\n",
       "      <td>0.000000</td>\n",
       "      <td>1000.000000</td>\n",
       "    </tr>\n",
       "    <tr>\n",
       "      <th>25%</th>\n",
       "      <td>1.389878e+05</td>\n",
       "      <td>138.187500</td>\n",
       "      <td>1130.000000</td>\n",
       "    </tr>\n",
       "    <tr>\n",
       "      <th>50%</th>\n",
       "      <td>1.145212e+06</td>\n",
       "      <td>348.015000</td>\n",
       "      <td>1251.000000</td>\n",
       "    </tr>\n",
       "    <tr>\n",
       "      <th>75%</th>\n",
       "      <td>1.321559e+06</td>\n",
       "      <td>559.552500</td>\n",
       "      <td>1380.000000</td>\n",
       "    </tr>\n",
       "    <tr>\n",
       "      <th>max</th>\n",
       "      <td>1.499156e+06</td>\n",
       "      <td>1724.830000</td>\n",
       "      <td>1499.000000</td>\n",
       "    </tr>\n",
       "  </tbody>\n",
       "</table>\n",
       "</div>"
      ],
      "text/plain": [
       "                 id        mb_used        user_id\n",
       "count  1.493960e+05  149396.000000  149396.000000\n",
       "mean   8.968475e+05     370.192426    1252.099842\n",
       "std    5.419758e+05     278.300951     144.050823\n",
       "min    1.000000e+04       0.000000    1000.000000\n",
       "25%    1.389878e+05     138.187500    1130.000000\n",
       "50%    1.145212e+06     348.015000    1251.000000\n",
       "75%    1.321559e+06     559.552500    1380.000000\n",
       "max    1.499156e+06    1724.830000    1499.000000"
      ]
     },
     "metadata": {},
     "output_type": "display_data"
    },
    {
     "name": "stdout",
     "output_type": "stream",
     "text": [
      "\n",
      "\n",
      "\n",
      "--------------------------------------------- Users ---------------------------------------------\n"
     ]
    },
    {
     "data": {
      "text/html": [
       "<div>\n",
       "<style scoped>\n",
       "    .dataframe tbody tr th:only-of-type {\n",
       "        vertical-align: middle;\n",
       "    }\n",
       "\n",
       "    .dataframe tbody tr th {\n",
       "        vertical-align: top;\n",
       "    }\n",
       "\n",
       "    .dataframe thead th {\n",
       "        text-align: right;\n",
       "    }\n",
       "</style>\n",
       "<table border=\"1\" class=\"dataframe\">\n",
       "  <thead>\n",
       "    <tr style=\"text-align: right;\">\n",
       "      <th></th>\n",
       "      <th>user_id</th>\n",
       "      <th>age</th>\n",
       "    </tr>\n",
       "  </thead>\n",
       "  <tbody>\n",
       "    <tr>\n",
       "      <th>count</th>\n",
       "      <td>500.000000</td>\n",
       "      <td>500.00000</td>\n",
       "    </tr>\n",
       "    <tr>\n",
       "      <th>mean</th>\n",
       "      <td>1249.500000</td>\n",
       "      <td>46.58800</td>\n",
       "    </tr>\n",
       "    <tr>\n",
       "      <th>std</th>\n",
       "      <td>144.481833</td>\n",
       "      <td>16.66763</td>\n",
       "    </tr>\n",
       "    <tr>\n",
       "      <th>min</th>\n",
       "      <td>1000.000000</td>\n",
       "      <td>18.00000</td>\n",
       "    </tr>\n",
       "    <tr>\n",
       "      <th>25%</th>\n",
       "      <td>1124.750000</td>\n",
       "      <td>32.00000</td>\n",
       "    </tr>\n",
       "    <tr>\n",
       "      <th>50%</th>\n",
       "      <td>1249.500000</td>\n",
       "      <td>46.00000</td>\n",
       "    </tr>\n",
       "    <tr>\n",
       "      <th>75%</th>\n",
       "      <td>1374.250000</td>\n",
       "      <td>62.00000</td>\n",
       "    </tr>\n",
       "    <tr>\n",
       "      <th>max</th>\n",
       "      <td>1499.000000</td>\n",
       "      <td>75.00000</td>\n",
       "    </tr>\n",
       "  </tbody>\n",
       "</table>\n",
       "</div>"
      ],
      "text/plain": [
       "           user_id        age\n",
       "count   500.000000  500.00000\n",
       "mean   1249.500000   46.58800\n",
       "std     144.481833   16.66763\n",
       "min    1000.000000   18.00000\n",
       "25%    1124.750000   32.00000\n",
       "50%    1249.500000   46.00000\n",
       "75%    1374.250000   62.00000\n",
       "max    1499.000000   75.00000"
      ]
     },
     "metadata": {},
     "output_type": "display_data"
    },
    {
     "name": "stdout",
     "output_type": "stream",
     "text": [
      "\n",
      "\n",
      "\n",
      "--------------------------------------------- Tariffs ---------------------------------------------\n"
     ]
    },
    {
     "data": {
      "text/html": [
       "<div>\n",
       "<style scoped>\n",
       "    .dataframe tbody tr th:only-of-type {\n",
       "        vertical-align: middle;\n",
       "    }\n",
       "\n",
       "    .dataframe tbody tr th {\n",
       "        vertical-align: top;\n",
       "    }\n",
       "\n",
       "    .dataframe thead th {\n",
       "        text-align: right;\n",
       "    }\n",
       "</style>\n",
       "<table border=\"1\" class=\"dataframe\">\n",
       "  <thead>\n",
       "    <tr style=\"text-align: right;\">\n",
       "      <th></th>\n",
       "      <th>messages_included</th>\n",
       "      <th>mb_per_month_included</th>\n",
       "      <th>minutes_included</th>\n",
       "      <th>rub_monthly_fee</th>\n",
       "      <th>rub_per_gb</th>\n",
       "      <th>rub_per_message</th>\n",
       "      <th>rub_per_minute</th>\n",
       "    </tr>\n",
       "  </thead>\n",
       "  <tbody>\n",
       "    <tr>\n",
       "      <th>count</th>\n",
       "      <td>2.000000</td>\n",
       "      <td>2.000000</td>\n",
       "      <td>2.000000</td>\n",
       "      <td>2.000000</td>\n",
       "      <td>2.000000</td>\n",
       "      <td>2.000000</td>\n",
       "      <td>2.000000</td>\n",
       "    </tr>\n",
       "    <tr>\n",
       "      <th>mean</th>\n",
       "      <td>525.000000</td>\n",
       "      <td>23040.000000</td>\n",
       "      <td>1750.000000</td>\n",
       "      <td>1250.000000</td>\n",
       "      <td>175.000000</td>\n",
       "      <td>2.000000</td>\n",
       "      <td>2.000000</td>\n",
       "    </tr>\n",
       "    <tr>\n",
       "      <th>std</th>\n",
       "      <td>671.751442</td>\n",
       "      <td>10861.160159</td>\n",
       "      <td>1767.766953</td>\n",
       "      <td>989.949494</td>\n",
       "      <td>35.355339</td>\n",
       "      <td>1.414214</td>\n",
       "      <td>1.414214</td>\n",
       "    </tr>\n",
       "    <tr>\n",
       "      <th>min</th>\n",
       "      <td>50.000000</td>\n",
       "      <td>15360.000000</td>\n",
       "      <td>500.000000</td>\n",
       "      <td>550.000000</td>\n",
       "      <td>150.000000</td>\n",
       "      <td>1.000000</td>\n",
       "      <td>1.000000</td>\n",
       "    </tr>\n",
       "    <tr>\n",
       "      <th>25%</th>\n",
       "      <td>287.500000</td>\n",
       "      <td>19200.000000</td>\n",
       "      <td>1125.000000</td>\n",
       "      <td>900.000000</td>\n",
       "      <td>162.500000</td>\n",
       "      <td>1.500000</td>\n",
       "      <td>1.500000</td>\n",
       "    </tr>\n",
       "    <tr>\n",
       "      <th>50%</th>\n",
       "      <td>525.000000</td>\n",
       "      <td>23040.000000</td>\n",
       "      <td>1750.000000</td>\n",
       "      <td>1250.000000</td>\n",
       "      <td>175.000000</td>\n",
       "      <td>2.000000</td>\n",
       "      <td>2.000000</td>\n",
       "    </tr>\n",
       "    <tr>\n",
       "      <th>75%</th>\n",
       "      <td>762.500000</td>\n",
       "      <td>26880.000000</td>\n",
       "      <td>2375.000000</td>\n",
       "      <td>1600.000000</td>\n",
       "      <td>187.500000</td>\n",
       "      <td>2.500000</td>\n",
       "      <td>2.500000</td>\n",
       "    </tr>\n",
       "    <tr>\n",
       "      <th>max</th>\n",
       "      <td>1000.000000</td>\n",
       "      <td>30720.000000</td>\n",
       "      <td>3000.000000</td>\n",
       "      <td>1950.000000</td>\n",
       "      <td>200.000000</td>\n",
       "      <td>3.000000</td>\n",
       "      <td>3.000000</td>\n",
       "    </tr>\n",
       "  </tbody>\n",
       "</table>\n",
       "</div>"
      ],
      "text/plain": [
       "       messages_included  mb_per_month_included  minutes_included  \\\n",
       "count           2.000000               2.000000          2.000000   \n",
       "mean          525.000000           23040.000000       1750.000000   \n",
       "std           671.751442           10861.160159       1767.766953   \n",
       "min            50.000000           15360.000000        500.000000   \n",
       "25%           287.500000           19200.000000       1125.000000   \n",
       "50%           525.000000           23040.000000       1750.000000   \n",
       "75%           762.500000           26880.000000       2375.000000   \n",
       "max          1000.000000           30720.000000       3000.000000   \n",
       "\n",
       "       rub_monthly_fee  rub_per_gb  rub_per_message  rub_per_minute  \n",
       "count         2.000000    2.000000         2.000000        2.000000  \n",
       "mean       1250.000000  175.000000         2.000000        2.000000  \n",
       "std         989.949494   35.355339         1.414214        1.414214  \n",
       "min         550.000000  150.000000         1.000000        1.000000  \n",
       "25%         900.000000  162.500000         1.500000        1.500000  \n",
       "50%        1250.000000  175.000000         2.000000        2.000000  \n",
       "75%        1600.000000  187.500000         2.500000        2.500000  \n",
       "max        1950.000000  200.000000         3.000000        3.000000  "
      ]
     },
     "metadata": {},
     "output_type": "display_data"
    }
   ],
   "source": [
    "print('-' * 45, 'Calls', '-' * 45)\n",
    "display(data_calls.describe())\n",
    "print('\\n\\n')\n",
    "print('-' * 45, 'Messages', '-' * 45)\n",
    "display(data_messages.describe())\n",
    "print('\\n\\n')\n",
    "print('-' * 45, 'Internet', '-' * 45)\n",
    "display(data_internet.describe())\n",
    "print('\\n\\n')\n",
    "print('-' * 45, 'Users', '-' * 45)\n",
    "display(data_users.describe())\n",
    "print('\\n\\n')\n",
    "print('-' * 45, 'Tariffs', '-' * 45)\n",
    "display(data_tariffs.describe())"
   ]
  },
  {
   "cell_type": "markdown",
   "metadata": {},
   "source": [
    "В датасете с данными об интернет сессиях пользователей в столбце **mb_used** пристутствуют нулевые значения, посмотрим на записи с таким значением"
   ]
  },
  {
   "cell_type": "code",
   "execution_count": 13,
   "metadata": {},
   "outputs": [
    {
     "data": {
      "text/plain": [
       "0.13118155773916304"
      ]
     },
     "execution_count": 13,
     "metadata": {},
     "output_type": "execute_result"
    }
   ],
   "source": [
    "data_internet.query('mb_used == 0').shape[0]/data_internet.shape[0]"
   ]
  },
  {
   "cell_type": "markdown",
   "metadata": {},
   "source": [
    "Таких записей почти 13% от всего датафрейма, что достаточно много. Вероятно такие записи появились, когда за сессию пользователеь потратил меньше трафика, чем система фиксирует. Удалять столько данных мы не можем, однако будем помнить, что подобные записи есть и учтем их в последующем анализе."
   ]
  },
  {
   "cell_type": "markdown",
   "metadata": {},
   "source": [
    "Также в датасете с информацией о звонках клиентов присутствуют звонки с нулевой продолжительностью. Согласно документации к данным, такие записи появляются в случае пропущенного вызова, поэтому удалять эти данные не будем и также просто учтем этот факт при дальнейшем анализе."
   ]
  },
  {
   "cell_type": "markdown",
   "metadata": {},
   "source": [
    "Посмотрим на возможные пропуски и явные дубликаты в данных:"
   ]
  },
  {
   "cell_type": "code",
   "execution_count": 14,
   "metadata": {
    "scrolled": false
   },
   "outputs": [
    {
     "name": "stdout",
     "output_type": "stream",
     "text": [
      "--------------------------------------------- Calls ---------------------------------------------\n",
      "id           0\n",
      "call_date    0\n",
      "duration     0\n",
      "user_id      0\n",
      "dtype: int64\n",
      "Количество явных дубликатов:  0\n",
      "\n",
      "\n",
      "\n",
      "--------------------------------------------- Messages ---------------------------------------------\n",
      "id              0\n",
      "message_date    0\n",
      "user_id         0\n",
      "dtype: int64\n",
      "Количество явных дубликатов:  0\n",
      "\n",
      "\n",
      "\n",
      "--------------------------------------------- Internet ---------------------------------------------\n",
      "id              0\n",
      "mb_used         0\n",
      "session_date    0\n",
      "user_id         0\n",
      "dtype: int64\n",
      "Количество явных дубликатов:  0\n",
      "\n",
      "\n",
      "\n",
      "--------------------------------------------- Users ---------------------------------------------\n",
      "user_id          0\n",
      "age              0\n",
      "churn_date     462\n",
      "city             0\n",
      "first_name       0\n",
      "last_name        0\n",
      "reg_date       462\n",
      "tariff_name      0\n",
      "dtype: int64\n",
      "Количество явных дубликатов:  0\n",
      "\n",
      "\n",
      "\n"
     ]
    }
   ],
   "source": [
    "print('-' * 45, 'Calls', '-' * 45)\n",
    "print(data_calls.isna().sum())\n",
    "print('Количество явных дубликатов: ', data_calls.duplicated().sum())\n",
    "print('\\n\\n')\n",
    "print('-' * 45, 'Messages', '-' * 45)\n",
    "print(data_messages.isna().sum())\n",
    "print('Количество явных дубликатов: ', data_messages.duplicated().sum())\n",
    "print('\\n\\n')\n",
    "print('-' * 45, 'Internet', '-' * 45)\n",
    "print(data_internet.isna().sum())\n",
    "print('Количество явных дубликатов: ', data_internet.duplicated().sum())\n",
    "print('\\n\\n')\n",
    "print('-' * 45, 'Users', '-' * 45)\n",
    "print(data_users.isna().sum())\n",
    "print('Количество явных дубликатов: ', data_users.duplicated().sum())\n",
    "print('\\n\\n')"
   ]
  },
  {
   "cell_type": "markdown",
   "metadata": {},
   "source": [
    "Пропуски в данных встречаются только в колонке `churn_date`. Согласно документации к данным, пропуски в этом столбце допустимы в случае, если клиент все еще пользуется данным тарифом.\n",
    "\n",
    "Явные дубликаты отсутствуют."
   ]
  },
  {
   "cell_type": "markdown",
   "metadata": {},
   "source": [
    "### Группировка датасетов"
   ]
  },
  {
   "cell_type": "markdown",
   "metadata": {},
   "source": [
    "Подготовим данные по каждому пользователю:"
   ]
  },
  {
   "cell_type": "markdown",
   "metadata": {},
   "source": [
    "- количество сделанных звонков и израсходованных минут разговора по месяцам;\n",
    "- количество отправленных сообщений по месяцам;\n",
    "- объем израсходованного интернет-трафика по месяцам;\n",
    "- помесячную выручку с каждого пользователя (вычтите бесплатный лимит из суммарного количества звонков, сообщений и интернет-трафика; остаток умножьте на значение из тарифного плана; прибавьте абонентскую плату, соответствующую тарифному плану)."
   ]
  },
  {
   "cell_type": "markdown",
   "metadata": {},
   "source": [
    "Добавим столбец с месяцем, в который пользователь выполнил действие:"
   ]
  },
  {
   "cell_type": "code",
   "execution_count": 15,
   "metadata": {},
   "outputs": [],
   "source": [
    "data_calls['month'] = data_calls['call_date'].dt.month\n",
    "data_messages['month'] = data_messages['message_date'].dt.month\n",
    "data_internet['month'] = data_internet['session_date'].dt.month"
   ]
  },
  {
   "cell_type": "code",
   "execution_count": 16,
   "metadata": {},
   "outputs": [
    {
     "data": {
      "text/html": [
       "<div>\n",
       "<style scoped>\n",
       "    .dataframe tbody tr th:only-of-type {\n",
       "        vertical-align: middle;\n",
       "    }\n",
       "\n",
       "    .dataframe tbody tr th {\n",
       "        vertical-align: top;\n",
       "    }\n",
       "\n",
       "    .dataframe thead th {\n",
       "        text-align: right;\n",
       "    }\n",
       "</style>\n",
       "<table border=\"1\" class=\"dataframe\">\n",
       "  <thead>\n",
       "    <tr style=\"text-align: right;\">\n",
       "      <th></th>\n",
       "      <th>id</th>\n",
       "      <th>call_date</th>\n",
       "      <th>duration</th>\n",
       "      <th>user_id</th>\n",
       "      <th>month</th>\n",
       "    </tr>\n",
       "  </thead>\n",
       "  <tbody>\n",
       "    <tr>\n",
       "      <th>0</th>\n",
       "      <td>10000</td>\n",
       "      <td>2018-07-25</td>\n",
       "      <td>0.00</td>\n",
       "      <td>1000</td>\n",
       "      <td>7</td>\n",
       "    </tr>\n",
       "    <tr>\n",
       "      <th>1</th>\n",
       "      <td>10001</td>\n",
       "      <td>2018-08-17</td>\n",
       "      <td>0.00</td>\n",
       "      <td>1000</td>\n",
       "      <td>8</td>\n",
       "    </tr>\n",
       "    <tr>\n",
       "      <th>2</th>\n",
       "      <td>10002</td>\n",
       "      <td>2018-06-11</td>\n",
       "      <td>2.85</td>\n",
       "      <td>1000</td>\n",
       "      <td>6</td>\n",
       "    </tr>\n",
       "    <tr>\n",
       "      <th>3</th>\n",
       "      <td>10003</td>\n",
       "      <td>2018-09-21</td>\n",
       "      <td>13.80</td>\n",
       "      <td>1000</td>\n",
       "      <td>9</td>\n",
       "    </tr>\n",
       "    <tr>\n",
       "      <th>4</th>\n",
       "      <td>10004</td>\n",
       "      <td>2018-12-15</td>\n",
       "      <td>5.18</td>\n",
       "      <td>1000</td>\n",
       "      <td>12</td>\n",
       "    </tr>\n",
       "  </tbody>\n",
       "</table>\n",
       "</div>"
      ],
      "text/plain": [
       "      id  call_date  duration  user_id  month\n",
       "0  10000 2018-07-25      0.00     1000      7\n",
       "1  10001 2018-08-17      0.00     1000      8\n",
       "2  10002 2018-06-11      2.85     1000      6\n",
       "3  10003 2018-09-21     13.80     1000      9\n",
       "4  10004 2018-12-15      5.18     1000     12"
      ]
     },
     "execution_count": 16,
     "metadata": {},
     "output_type": "execute_result"
    }
   ],
   "source": [
    "data_calls.head()"
   ]
  },
  {
   "cell_type": "markdown",
   "metadata": {},
   "source": [
    "В соответствии с правилами компании \"Мегалайн\", округлим значения столбца **duration** в большую сторону для каждого звонка, если значение в этом столбце - не целое число."
   ]
  },
  {
   "cell_type": "code",
   "execution_count": 17,
   "metadata": {},
   "outputs": [],
   "source": [
    "data_calls['duration'] = np.ceil(data_calls['duration'])"
   ]
  },
  {
   "cell_type": "code",
   "execution_count": 18,
   "metadata": {},
   "outputs": [
    {
     "data": {
      "text/html": [
       "<div>\n",
       "<style scoped>\n",
       "    .dataframe tbody tr th:only-of-type {\n",
       "        vertical-align: middle;\n",
       "    }\n",
       "\n",
       "    .dataframe tbody tr th {\n",
       "        vertical-align: top;\n",
       "    }\n",
       "\n",
       "    .dataframe thead th {\n",
       "        text-align: right;\n",
       "    }\n",
       "</style>\n",
       "<table border=\"1\" class=\"dataframe\">\n",
       "  <thead>\n",
       "    <tr style=\"text-align: right;\">\n",
       "      <th></th>\n",
       "      <th>id</th>\n",
       "      <th>call_date</th>\n",
       "      <th>duration</th>\n",
       "      <th>user_id</th>\n",
       "      <th>month</th>\n",
       "    </tr>\n",
       "  </thead>\n",
       "  <tbody>\n",
       "    <tr>\n",
       "      <th>0</th>\n",
       "      <td>10000</td>\n",
       "      <td>2018-07-25</td>\n",
       "      <td>0.0</td>\n",
       "      <td>1000</td>\n",
       "      <td>7</td>\n",
       "    </tr>\n",
       "    <tr>\n",
       "      <th>1</th>\n",
       "      <td>10001</td>\n",
       "      <td>2018-08-17</td>\n",
       "      <td>0.0</td>\n",
       "      <td>1000</td>\n",
       "      <td>8</td>\n",
       "    </tr>\n",
       "    <tr>\n",
       "      <th>2</th>\n",
       "      <td>10002</td>\n",
       "      <td>2018-06-11</td>\n",
       "      <td>3.0</td>\n",
       "      <td>1000</td>\n",
       "      <td>6</td>\n",
       "    </tr>\n",
       "    <tr>\n",
       "      <th>3</th>\n",
       "      <td>10003</td>\n",
       "      <td>2018-09-21</td>\n",
       "      <td>14.0</td>\n",
       "      <td>1000</td>\n",
       "      <td>9</td>\n",
       "    </tr>\n",
       "    <tr>\n",
       "      <th>4</th>\n",
       "      <td>10004</td>\n",
       "      <td>2018-12-15</td>\n",
       "      <td>6.0</td>\n",
       "      <td>1000</td>\n",
       "      <td>12</td>\n",
       "    </tr>\n",
       "  </tbody>\n",
       "</table>\n",
       "</div>"
      ],
      "text/plain": [
       "      id  call_date  duration  user_id  month\n",
       "0  10000 2018-07-25       0.0     1000      7\n",
       "1  10001 2018-08-17       0.0     1000      8\n",
       "2  10002 2018-06-11       3.0     1000      6\n",
       "3  10003 2018-09-21      14.0     1000      9\n",
       "4  10004 2018-12-15       6.0     1000     12"
      ]
     },
     "execution_count": 18,
     "metadata": {},
     "output_type": "execute_result"
    }
   ],
   "source": [
    "data_calls.head()"
   ]
  },
  {
   "cell_type": "markdown",
   "metadata": {},
   "source": [
    "Теперь посчитаем кол-во сделанных звонков и израсходованных минут по месяцам для каждого пользователя:"
   ]
  },
  {
   "cell_type": "code",
   "execution_count": 19,
   "metadata": {},
   "outputs": [],
   "source": [
    "data_calls_grouped = data_calls.pivot_table(index=['user_id', 'month'], values='duration', aggfunc=('count', 'sum'))"
   ]
  },
  {
   "cell_type": "code",
   "execution_count": 20,
   "metadata": {
    "scrolled": false
   },
   "outputs": [
    {
     "data": {
      "text/html": [
       "<div>\n",
       "<style scoped>\n",
       "    .dataframe tbody tr th:only-of-type {\n",
       "        vertical-align: middle;\n",
       "    }\n",
       "\n",
       "    .dataframe tbody tr th {\n",
       "        vertical-align: top;\n",
       "    }\n",
       "\n",
       "    .dataframe thead th {\n",
       "        text-align: right;\n",
       "    }\n",
       "</style>\n",
       "<table border=\"1\" class=\"dataframe\">\n",
       "  <thead>\n",
       "    <tr style=\"text-align: right;\">\n",
       "      <th></th>\n",
       "      <th>user_id</th>\n",
       "      <th>month</th>\n",
       "      <th>count</th>\n",
       "      <th>sum</th>\n",
       "    </tr>\n",
       "  </thead>\n",
       "  <tbody>\n",
       "    <tr>\n",
       "      <th>0</th>\n",
       "      <td>1000</td>\n",
       "      <td>5</td>\n",
       "      <td>22</td>\n",
       "      <td>159.0</td>\n",
       "    </tr>\n",
       "    <tr>\n",
       "      <th>1</th>\n",
       "      <td>1000</td>\n",
       "      <td>6</td>\n",
       "      <td>43</td>\n",
       "      <td>172.0</td>\n",
       "    </tr>\n",
       "    <tr>\n",
       "      <th>2</th>\n",
       "      <td>1000</td>\n",
       "      <td>7</td>\n",
       "      <td>47</td>\n",
       "      <td>340.0</td>\n",
       "    </tr>\n",
       "    <tr>\n",
       "      <th>3</th>\n",
       "      <td>1000</td>\n",
       "      <td>8</td>\n",
       "      <td>52</td>\n",
       "      <td>408.0</td>\n",
       "    </tr>\n",
       "    <tr>\n",
       "      <th>4</th>\n",
       "      <td>1000</td>\n",
       "      <td>9</td>\n",
       "      <td>58</td>\n",
       "      <td>466.0</td>\n",
       "    </tr>\n",
       "    <tr>\n",
       "      <th>...</th>\n",
       "      <td>...</td>\n",
       "      <td>...</td>\n",
       "      <td>...</td>\n",
       "      <td>...</td>\n",
       "    </tr>\n",
       "    <tr>\n",
       "      <th>3169</th>\n",
       "      <td>1498</td>\n",
       "      <td>10</td>\n",
       "      <td>41</td>\n",
       "      <td>247.0</td>\n",
       "    </tr>\n",
       "    <tr>\n",
       "      <th>3170</th>\n",
       "      <td>1499</td>\n",
       "      <td>9</td>\n",
       "      <td>9</td>\n",
       "      <td>70.0</td>\n",
       "    </tr>\n",
       "    <tr>\n",
       "      <th>3171</th>\n",
       "      <td>1499</td>\n",
       "      <td>10</td>\n",
       "      <td>68</td>\n",
       "      <td>449.0</td>\n",
       "    </tr>\n",
       "    <tr>\n",
       "      <th>3172</th>\n",
       "      <td>1499</td>\n",
       "      <td>11</td>\n",
       "      <td>74</td>\n",
       "      <td>612.0</td>\n",
       "    </tr>\n",
       "    <tr>\n",
       "      <th>3173</th>\n",
       "      <td>1499</td>\n",
       "      <td>12</td>\n",
       "      <td>69</td>\n",
       "      <td>492.0</td>\n",
       "    </tr>\n",
       "  </tbody>\n",
       "</table>\n",
       "<p>3174 rows × 4 columns</p>\n",
       "</div>"
      ],
      "text/plain": [
       "      user_id  month  count    sum\n",
       "0        1000      5     22  159.0\n",
       "1        1000      6     43  172.0\n",
       "2        1000      7     47  340.0\n",
       "3        1000      8     52  408.0\n",
       "4        1000      9     58  466.0\n",
       "...       ...    ...    ...    ...\n",
       "3169     1498     10     41  247.0\n",
       "3170     1499      9      9   70.0\n",
       "3171     1499     10     68  449.0\n",
       "3172     1499     11     74  612.0\n",
       "3173     1499     12     69  492.0\n",
       "\n",
       "[3174 rows x 4 columns]"
      ]
     },
     "execution_count": 20,
     "metadata": {},
     "output_type": "execute_result"
    }
   ],
   "source": [
    "data_calls_grouped = data_calls_grouped.reset_index()\n",
    "data_calls_grouped"
   ]
  },
  {
   "cell_type": "markdown",
   "metadata": {},
   "source": [
    "Добавление данных по звонкам было произведено успешно, перейдем к данным по сообщениям"
   ]
  },
  {
   "cell_type": "code",
   "execution_count": 21,
   "metadata": {},
   "outputs": [],
   "source": [
    "data_messages_grouped = data_messages.pivot_table(index=['user_id', 'month'], values='id', aggfunc='count')"
   ]
  },
  {
   "cell_type": "code",
   "execution_count": 22,
   "metadata": {
    "scrolled": false
   },
   "outputs": [
    {
     "data": {
      "text/html": [
       "<div>\n",
       "<style scoped>\n",
       "    .dataframe tbody tr th:only-of-type {\n",
       "        vertical-align: middle;\n",
       "    }\n",
       "\n",
       "    .dataframe tbody tr th {\n",
       "        vertical-align: top;\n",
       "    }\n",
       "\n",
       "    .dataframe thead th {\n",
       "        text-align: right;\n",
       "    }\n",
       "</style>\n",
       "<table border=\"1\" class=\"dataframe\">\n",
       "  <thead>\n",
       "    <tr style=\"text-align: right;\">\n",
       "      <th></th>\n",
       "      <th>user_id</th>\n",
       "      <th>month</th>\n",
       "      <th>id</th>\n",
       "    </tr>\n",
       "  </thead>\n",
       "  <tbody>\n",
       "    <tr>\n",
       "      <th>0</th>\n",
       "      <td>1000</td>\n",
       "      <td>5</td>\n",
       "      <td>22</td>\n",
       "    </tr>\n",
       "    <tr>\n",
       "      <th>1</th>\n",
       "      <td>1000</td>\n",
       "      <td>6</td>\n",
       "      <td>60</td>\n",
       "    </tr>\n",
       "    <tr>\n",
       "      <th>2</th>\n",
       "      <td>1000</td>\n",
       "      <td>7</td>\n",
       "      <td>75</td>\n",
       "    </tr>\n",
       "    <tr>\n",
       "      <th>3</th>\n",
       "      <td>1000</td>\n",
       "      <td>8</td>\n",
       "      <td>81</td>\n",
       "    </tr>\n",
       "    <tr>\n",
       "      <th>4</th>\n",
       "      <td>1000</td>\n",
       "      <td>9</td>\n",
       "      <td>57</td>\n",
       "    </tr>\n",
       "    <tr>\n",
       "      <th>...</th>\n",
       "      <td>...</td>\n",
       "      <td>...</td>\n",
       "      <td>...</td>\n",
       "    </tr>\n",
       "    <tr>\n",
       "      <th>2712</th>\n",
       "      <td>1498</td>\n",
       "      <td>10</td>\n",
       "      <td>42</td>\n",
       "    </tr>\n",
       "    <tr>\n",
       "      <th>2713</th>\n",
       "      <td>1499</td>\n",
       "      <td>9</td>\n",
       "      <td>11</td>\n",
       "    </tr>\n",
       "    <tr>\n",
       "      <th>2714</th>\n",
       "      <td>1499</td>\n",
       "      <td>10</td>\n",
       "      <td>48</td>\n",
       "    </tr>\n",
       "    <tr>\n",
       "      <th>2715</th>\n",
       "      <td>1499</td>\n",
       "      <td>11</td>\n",
       "      <td>59</td>\n",
       "    </tr>\n",
       "    <tr>\n",
       "      <th>2716</th>\n",
       "      <td>1499</td>\n",
       "      <td>12</td>\n",
       "      <td>66</td>\n",
       "    </tr>\n",
       "  </tbody>\n",
       "</table>\n",
       "<p>2717 rows × 3 columns</p>\n",
       "</div>"
      ],
      "text/plain": [
       "      user_id  month  id\n",
       "0        1000      5  22\n",
       "1        1000      6  60\n",
       "2        1000      7  75\n",
       "3        1000      8  81\n",
       "4        1000      9  57\n",
       "...       ...    ...  ..\n",
       "2712     1498     10  42\n",
       "2713     1499      9  11\n",
       "2714     1499     10  48\n",
       "2715     1499     11  59\n",
       "2716     1499     12  66\n",
       "\n",
       "[2717 rows x 3 columns]"
      ]
     },
     "execution_count": 22,
     "metadata": {},
     "output_type": "execute_result"
    }
   ],
   "source": [
    "data_messages_grouped = data_messages_grouped.reset_index()\n",
    "data_messages_grouped"
   ]
  },
  {
   "cell_type": "markdown",
   "metadata": {},
   "source": [
    "Добавление колонок с данными о количестве сообщений по месяцам произведено успешно, теперь посчитаем объем израсходованного трафика по месяцам"
   ]
  },
  {
   "cell_type": "code",
   "execution_count": 23,
   "metadata": {},
   "outputs": [],
   "source": [
    "data_internet_grouped = data_internet.pivot_table(index=['user_id', 'month'], values='mb_used', aggfunc='sum')"
   ]
  },
  {
   "cell_type": "code",
   "execution_count": 24,
   "metadata": {
    "scrolled": false
   },
   "outputs": [
    {
     "data": {
      "text/html": [
       "<div>\n",
       "<style scoped>\n",
       "    .dataframe tbody tr th:only-of-type {\n",
       "        vertical-align: middle;\n",
       "    }\n",
       "\n",
       "    .dataframe tbody tr th {\n",
       "        vertical-align: top;\n",
       "    }\n",
       "\n",
       "    .dataframe thead th {\n",
       "        text-align: right;\n",
       "    }\n",
       "</style>\n",
       "<table border=\"1\" class=\"dataframe\">\n",
       "  <thead>\n",
       "    <tr style=\"text-align: right;\">\n",
       "      <th></th>\n",
       "      <th>user_id</th>\n",
       "      <th>month</th>\n",
       "      <th>mb_used</th>\n",
       "    </tr>\n",
       "  </thead>\n",
       "  <tbody>\n",
       "    <tr>\n",
       "      <th>0</th>\n",
       "      <td>1000</td>\n",
       "      <td>5</td>\n",
       "      <td>2253.49</td>\n",
       "    </tr>\n",
       "    <tr>\n",
       "      <th>1</th>\n",
       "      <td>1000</td>\n",
       "      <td>6</td>\n",
       "      <td>23233.77</td>\n",
       "    </tr>\n",
       "    <tr>\n",
       "      <th>2</th>\n",
       "      <td>1000</td>\n",
       "      <td>7</td>\n",
       "      <td>14003.64</td>\n",
       "    </tr>\n",
       "    <tr>\n",
       "      <th>3</th>\n",
       "      <td>1000</td>\n",
       "      <td>8</td>\n",
       "      <td>14055.93</td>\n",
       "    </tr>\n",
       "    <tr>\n",
       "      <th>4</th>\n",
       "      <td>1000</td>\n",
       "      <td>9</td>\n",
       "      <td>14568.91</td>\n",
       "    </tr>\n",
       "    <tr>\n",
       "      <th>...</th>\n",
       "      <td>...</td>\n",
       "      <td>...</td>\n",
       "      <td>...</td>\n",
       "    </tr>\n",
       "    <tr>\n",
       "      <th>3198</th>\n",
       "      <td>1498</td>\n",
       "      <td>10</td>\n",
       "      <td>20579.36</td>\n",
       "    </tr>\n",
       "    <tr>\n",
       "      <th>3199</th>\n",
       "      <td>1499</td>\n",
       "      <td>9</td>\n",
       "      <td>1845.75</td>\n",
       "    </tr>\n",
       "    <tr>\n",
       "      <th>3200</th>\n",
       "      <td>1499</td>\n",
       "      <td>10</td>\n",
       "      <td>17788.51</td>\n",
       "    </tr>\n",
       "    <tr>\n",
       "      <th>3201</th>\n",
       "      <td>1499</td>\n",
       "      <td>11</td>\n",
       "      <td>17963.31</td>\n",
       "    </tr>\n",
       "    <tr>\n",
       "      <th>3202</th>\n",
       "      <td>1499</td>\n",
       "      <td>12</td>\n",
       "      <td>13055.58</td>\n",
       "    </tr>\n",
       "  </tbody>\n",
       "</table>\n",
       "<p>3203 rows × 3 columns</p>\n",
       "</div>"
      ],
      "text/plain": [
       "      user_id  month   mb_used\n",
       "0        1000      5   2253.49\n",
       "1        1000      6  23233.77\n",
       "2        1000      7  14003.64\n",
       "3        1000      8  14055.93\n",
       "4        1000      9  14568.91\n",
       "...       ...    ...       ...\n",
       "3198     1498     10  20579.36\n",
       "3199     1499      9   1845.75\n",
       "3200     1499     10  17788.51\n",
       "3201     1499     11  17963.31\n",
       "3202     1499     12  13055.58\n",
       "\n",
       "[3203 rows x 3 columns]"
      ]
     },
     "execution_count": 24,
     "metadata": {},
     "output_type": "execute_result"
    }
   ],
   "source": [
    "data_internet_grouped = data_internet_grouped.reset_index() \n",
    "data_internet_grouped"
   ]
  },
  {
   "cell_type": "markdown",
   "metadata": {},
   "source": [
    "Добавление информации об объемах использованного интернет трафика по месяцам произведено успешно. Теперь округлим помесячные значения объема использованного интернет трафика в большую сторону, если число не целое, согласно условиям тарифов компании \"Мегалайн\""
   ]
  },
  {
   "cell_type": "code",
   "execution_count": 25,
   "metadata": {},
   "outputs": [],
   "source": [
    "data_internet_grouped['mb_used'] = np.ceil(data_internet_grouped['mb_used'])"
   ]
  },
  {
   "cell_type": "code",
   "execution_count": 26,
   "metadata": {
    "scrolled": true
   },
   "outputs": [
    {
     "data": {
      "text/html": [
       "<div>\n",
       "<style scoped>\n",
       "    .dataframe tbody tr th:only-of-type {\n",
       "        vertical-align: middle;\n",
       "    }\n",
       "\n",
       "    .dataframe tbody tr th {\n",
       "        vertical-align: top;\n",
       "    }\n",
       "\n",
       "    .dataframe thead th {\n",
       "        text-align: right;\n",
       "    }\n",
       "</style>\n",
       "<table border=\"1\" class=\"dataframe\">\n",
       "  <thead>\n",
       "    <tr style=\"text-align: right;\">\n",
       "      <th></th>\n",
       "      <th>user_id</th>\n",
       "      <th>month</th>\n",
       "      <th>mb_used</th>\n",
       "    </tr>\n",
       "  </thead>\n",
       "  <tbody>\n",
       "    <tr>\n",
       "      <th>0</th>\n",
       "      <td>1000</td>\n",
       "      <td>5</td>\n",
       "      <td>2254.0</td>\n",
       "    </tr>\n",
       "    <tr>\n",
       "      <th>1</th>\n",
       "      <td>1000</td>\n",
       "      <td>6</td>\n",
       "      <td>23234.0</td>\n",
       "    </tr>\n",
       "    <tr>\n",
       "      <th>2</th>\n",
       "      <td>1000</td>\n",
       "      <td>7</td>\n",
       "      <td>14004.0</td>\n",
       "    </tr>\n",
       "    <tr>\n",
       "      <th>3</th>\n",
       "      <td>1000</td>\n",
       "      <td>8</td>\n",
       "      <td>14056.0</td>\n",
       "    </tr>\n",
       "    <tr>\n",
       "      <th>4</th>\n",
       "      <td>1000</td>\n",
       "      <td>9</td>\n",
       "      <td>14569.0</td>\n",
       "    </tr>\n",
       "    <tr>\n",
       "      <th>5</th>\n",
       "      <td>1000</td>\n",
       "      <td>10</td>\n",
       "      <td>14703.0</td>\n",
       "    </tr>\n",
       "    <tr>\n",
       "      <th>6</th>\n",
       "      <td>1000</td>\n",
       "      <td>11</td>\n",
       "      <td>14757.0</td>\n",
       "    </tr>\n",
       "    <tr>\n",
       "      <th>7</th>\n",
       "      <td>1000</td>\n",
       "      <td>12</td>\n",
       "      <td>9818.0</td>\n",
       "    </tr>\n",
       "    <tr>\n",
       "      <th>8</th>\n",
       "      <td>1001</td>\n",
       "      <td>11</td>\n",
       "      <td>18430.0</td>\n",
       "    </tr>\n",
       "    <tr>\n",
       "      <th>9</th>\n",
       "      <td>1001</td>\n",
       "      <td>12</td>\n",
       "      <td>14037.0</td>\n",
       "    </tr>\n",
       "  </tbody>\n",
       "</table>\n",
       "</div>"
      ],
      "text/plain": [
       "   user_id  month  mb_used\n",
       "0     1000      5   2254.0\n",
       "1     1000      6  23234.0\n",
       "2     1000      7  14004.0\n",
       "3     1000      8  14056.0\n",
       "4     1000      9  14569.0\n",
       "5     1000     10  14703.0\n",
       "6     1000     11  14757.0\n",
       "7     1000     12   9818.0\n",
       "8     1001     11  18430.0\n",
       "9     1001     12  14037.0"
      ]
     },
     "execution_count": 26,
     "metadata": {},
     "output_type": "execute_result"
    }
   ],
   "source": [
    "data_internet_grouped.head(10)"
   ]
  },
  {
   "cell_type": "markdown",
   "metadata": {},
   "source": [
    "Округление произведено успешно, теперь усливия использования тарифов выполняются"
   ]
  },
  {
   "cell_type": "markdown",
   "metadata": {},
   "source": [
    "Переименуюем столбцы полученных датафреймов для большего понимания хранимых в них данных"
   ]
  },
  {
   "cell_type": "code",
   "execution_count": 27,
   "metadata": {},
   "outputs": [],
   "source": [
    "data_calls_grouped = data_calls_grouped.rename(columns={'count' : 'calls_count', 'sum' : 'duration_sum'})\n",
    "data_messages_grouped = data_messages_grouped.rename(columns={'id' : 'messages_count'})\n",
    "data_internet_grouped = data_internet_grouped.rename(columns={'mb_used' : 'sum_mb_used'})"
   ]
  },
  {
   "cell_type": "code",
   "execution_count": 28,
   "metadata": {},
   "outputs": [
    {
     "data": {
      "text/html": [
       "<div>\n",
       "<style scoped>\n",
       "    .dataframe tbody tr th:only-of-type {\n",
       "        vertical-align: middle;\n",
       "    }\n",
       "\n",
       "    .dataframe tbody tr th {\n",
       "        vertical-align: top;\n",
       "    }\n",
       "\n",
       "    .dataframe thead th {\n",
       "        text-align: right;\n",
       "    }\n",
       "</style>\n",
       "<table border=\"1\" class=\"dataframe\">\n",
       "  <thead>\n",
       "    <tr style=\"text-align: right;\">\n",
       "      <th></th>\n",
       "      <th>user_id</th>\n",
       "      <th>month</th>\n",
       "      <th>calls_count</th>\n",
       "      <th>duration_sum</th>\n",
       "    </tr>\n",
       "  </thead>\n",
       "  <tbody>\n",
       "    <tr>\n",
       "      <th>0</th>\n",
       "      <td>1000</td>\n",
       "      <td>5</td>\n",
       "      <td>22</td>\n",
       "      <td>159.0</td>\n",
       "    </tr>\n",
       "    <tr>\n",
       "      <th>1</th>\n",
       "      <td>1000</td>\n",
       "      <td>6</td>\n",
       "      <td>43</td>\n",
       "      <td>172.0</td>\n",
       "    </tr>\n",
       "    <tr>\n",
       "      <th>2</th>\n",
       "      <td>1000</td>\n",
       "      <td>7</td>\n",
       "      <td>47</td>\n",
       "      <td>340.0</td>\n",
       "    </tr>\n",
       "    <tr>\n",
       "      <th>3</th>\n",
       "      <td>1000</td>\n",
       "      <td>8</td>\n",
       "      <td>52</td>\n",
       "      <td>408.0</td>\n",
       "    </tr>\n",
       "    <tr>\n",
       "      <th>4</th>\n",
       "      <td>1000</td>\n",
       "      <td>9</td>\n",
       "      <td>58</td>\n",
       "      <td>466.0</td>\n",
       "    </tr>\n",
       "  </tbody>\n",
       "</table>\n",
       "</div>"
      ],
      "text/plain": [
       "   user_id  month  calls_count  duration_sum\n",
       "0     1000      5           22         159.0\n",
       "1     1000      6           43         172.0\n",
       "2     1000      7           47         340.0\n",
       "3     1000      8           52         408.0\n",
       "4     1000      9           58         466.0"
      ]
     },
     "execution_count": 28,
     "metadata": {},
     "output_type": "execute_result"
    }
   ],
   "source": [
    "data_calls_grouped.head()"
   ]
  },
  {
   "cell_type": "markdown",
   "metadata": {},
   "source": [
    "Выполним объединение данных из разных файлов в один датасет:\n",
    "* Объединим датасеты `data_calls_grouped`, `data_messages_grouped`, `data_internet_grouped` c `data_users` по столбцам user_id и month"
   ]
  },
  {
   "cell_type": "code",
   "execution_count": 29,
   "metadata": {},
   "outputs": [],
   "source": [
    "data = pd.merge(data_calls_grouped, data_messages_grouped, how='outer', left_on=['user_id','month'], right_on = ['user_id','month'])"
   ]
  },
  {
   "cell_type": "code",
   "execution_count": 30,
   "metadata": {},
   "outputs": [],
   "source": [
    "data = pd.merge(data_internet_grouped, data, how='outer', left_on=['user_id','month'], right_on = ['user_id','month'])"
   ]
  },
  {
   "cell_type": "code",
   "execution_count": 31,
   "metadata": {},
   "outputs": [
    {
     "data": {
      "text/html": [
       "<div>\n",
       "<style scoped>\n",
       "    .dataframe tbody tr th:only-of-type {\n",
       "        vertical-align: middle;\n",
       "    }\n",
       "\n",
       "    .dataframe tbody tr th {\n",
       "        vertical-align: top;\n",
       "    }\n",
       "\n",
       "    .dataframe thead th {\n",
       "        text-align: right;\n",
       "    }\n",
       "</style>\n",
       "<table border=\"1\" class=\"dataframe\">\n",
       "  <thead>\n",
       "    <tr style=\"text-align: right;\">\n",
       "      <th></th>\n",
       "      <th>user_id</th>\n",
       "      <th>month</th>\n",
       "      <th>calls_count</th>\n",
       "      <th>duration_sum</th>\n",
       "    </tr>\n",
       "  </thead>\n",
       "  <tbody>\n",
       "    <tr>\n",
       "      <th>0</th>\n",
       "      <td>1000</td>\n",
       "      <td>5</td>\n",
       "      <td>22</td>\n",
       "      <td>159.0</td>\n",
       "    </tr>\n",
       "    <tr>\n",
       "      <th>1</th>\n",
       "      <td>1000</td>\n",
       "      <td>6</td>\n",
       "      <td>43</td>\n",
       "      <td>172.0</td>\n",
       "    </tr>\n",
       "    <tr>\n",
       "      <th>2</th>\n",
       "      <td>1000</td>\n",
       "      <td>7</td>\n",
       "      <td>47</td>\n",
       "      <td>340.0</td>\n",
       "    </tr>\n",
       "    <tr>\n",
       "      <th>3</th>\n",
       "      <td>1000</td>\n",
       "      <td>8</td>\n",
       "      <td>52</td>\n",
       "      <td>408.0</td>\n",
       "    </tr>\n",
       "    <tr>\n",
       "      <th>4</th>\n",
       "      <td>1000</td>\n",
       "      <td>9</td>\n",
       "      <td>58</td>\n",
       "      <td>466.0</td>\n",
       "    </tr>\n",
       "    <tr>\n",
       "      <th>5</th>\n",
       "      <td>1000</td>\n",
       "      <td>10</td>\n",
       "      <td>57</td>\n",
       "      <td>350.0</td>\n",
       "    </tr>\n",
       "    <tr>\n",
       "      <th>6</th>\n",
       "      <td>1000</td>\n",
       "      <td>11</td>\n",
       "      <td>43</td>\n",
       "      <td>338.0</td>\n",
       "    </tr>\n",
       "    <tr>\n",
       "      <th>7</th>\n",
       "      <td>1000</td>\n",
       "      <td>12</td>\n",
       "      <td>46</td>\n",
       "      <td>333.0</td>\n",
       "    </tr>\n",
       "    <tr>\n",
       "      <th>8</th>\n",
       "      <td>1001</td>\n",
       "      <td>11</td>\n",
       "      <td>59</td>\n",
       "      <td>430.0</td>\n",
       "    </tr>\n",
       "    <tr>\n",
       "      <th>9</th>\n",
       "      <td>1001</td>\n",
       "      <td>12</td>\n",
       "      <td>63</td>\n",
       "      <td>414.0</td>\n",
       "    </tr>\n",
       "  </tbody>\n",
       "</table>\n",
       "</div>"
      ],
      "text/plain": [
       "   user_id  month  calls_count  duration_sum\n",
       "0     1000      5           22         159.0\n",
       "1     1000      6           43         172.0\n",
       "2     1000      7           47         340.0\n",
       "3     1000      8           52         408.0\n",
       "4     1000      9           58         466.0\n",
       "5     1000     10           57         350.0\n",
       "6     1000     11           43         338.0\n",
       "7     1000     12           46         333.0\n",
       "8     1001     11           59         430.0\n",
       "9     1001     12           63         414.0"
      ]
     },
     "metadata": {},
     "output_type": "display_data"
    },
    {
     "data": {
      "text/html": [
       "<div>\n",
       "<style scoped>\n",
       "    .dataframe tbody tr th:only-of-type {\n",
       "        vertical-align: middle;\n",
       "    }\n",
       "\n",
       "    .dataframe tbody tr th {\n",
       "        vertical-align: top;\n",
       "    }\n",
       "\n",
       "    .dataframe thead th {\n",
       "        text-align: right;\n",
       "    }\n",
       "</style>\n",
       "<table border=\"1\" class=\"dataframe\">\n",
       "  <thead>\n",
       "    <tr style=\"text-align: right;\">\n",
       "      <th></th>\n",
       "      <th>user_id</th>\n",
       "      <th>month</th>\n",
       "      <th>messages_count</th>\n",
       "    </tr>\n",
       "  </thead>\n",
       "  <tbody>\n",
       "    <tr>\n",
       "      <th>0</th>\n",
       "      <td>1000</td>\n",
       "      <td>5</td>\n",
       "      <td>22</td>\n",
       "    </tr>\n",
       "    <tr>\n",
       "      <th>1</th>\n",
       "      <td>1000</td>\n",
       "      <td>6</td>\n",
       "      <td>60</td>\n",
       "    </tr>\n",
       "    <tr>\n",
       "      <th>2</th>\n",
       "      <td>1000</td>\n",
       "      <td>7</td>\n",
       "      <td>75</td>\n",
       "    </tr>\n",
       "    <tr>\n",
       "      <th>3</th>\n",
       "      <td>1000</td>\n",
       "      <td>8</td>\n",
       "      <td>81</td>\n",
       "    </tr>\n",
       "    <tr>\n",
       "      <th>4</th>\n",
       "      <td>1000</td>\n",
       "      <td>9</td>\n",
       "      <td>57</td>\n",
       "    </tr>\n",
       "    <tr>\n",
       "      <th>5</th>\n",
       "      <td>1000</td>\n",
       "      <td>10</td>\n",
       "      <td>73</td>\n",
       "    </tr>\n",
       "    <tr>\n",
       "      <th>6</th>\n",
       "      <td>1000</td>\n",
       "      <td>11</td>\n",
       "      <td>58</td>\n",
       "    </tr>\n",
       "    <tr>\n",
       "      <th>7</th>\n",
       "      <td>1000</td>\n",
       "      <td>12</td>\n",
       "      <td>70</td>\n",
       "    </tr>\n",
       "    <tr>\n",
       "      <th>8</th>\n",
       "      <td>1002</td>\n",
       "      <td>6</td>\n",
       "      <td>4</td>\n",
       "    </tr>\n",
       "    <tr>\n",
       "      <th>9</th>\n",
       "      <td>1002</td>\n",
       "      <td>7</td>\n",
       "      <td>11</td>\n",
       "    </tr>\n",
       "  </tbody>\n",
       "</table>\n",
       "</div>"
      ],
      "text/plain": [
       "   user_id  month  messages_count\n",
       "0     1000      5              22\n",
       "1     1000      6              60\n",
       "2     1000      7              75\n",
       "3     1000      8              81\n",
       "4     1000      9              57\n",
       "5     1000     10              73\n",
       "6     1000     11              58\n",
       "7     1000     12              70\n",
       "8     1002      6               4\n",
       "9     1002      7              11"
      ]
     },
     "metadata": {},
     "output_type": "display_data"
    },
    {
     "data": {
      "text/html": [
       "<div>\n",
       "<style scoped>\n",
       "    .dataframe tbody tr th:only-of-type {\n",
       "        vertical-align: middle;\n",
       "    }\n",
       "\n",
       "    .dataframe tbody tr th {\n",
       "        vertical-align: top;\n",
       "    }\n",
       "\n",
       "    .dataframe thead th {\n",
       "        text-align: right;\n",
       "    }\n",
       "</style>\n",
       "<table border=\"1\" class=\"dataframe\">\n",
       "  <thead>\n",
       "    <tr style=\"text-align: right;\">\n",
       "      <th></th>\n",
       "      <th>user_id</th>\n",
       "      <th>month</th>\n",
       "      <th>sum_mb_used</th>\n",
       "    </tr>\n",
       "  </thead>\n",
       "  <tbody>\n",
       "    <tr>\n",
       "      <th>0</th>\n",
       "      <td>1000</td>\n",
       "      <td>5</td>\n",
       "      <td>2254.0</td>\n",
       "    </tr>\n",
       "    <tr>\n",
       "      <th>1</th>\n",
       "      <td>1000</td>\n",
       "      <td>6</td>\n",
       "      <td>23234.0</td>\n",
       "    </tr>\n",
       "    <tr>\n",
       "      <th>2</th>\n",
       "      <td>1000</td>\n",
       "      <td>7</td>\n",
       "      <td>14004.0</td>\n",
       "    </tr>\n",
       "    <tr>\n",
       "      <th>3</th>\n",
       "      <td>1000</td>\n",
       "      <td>8</td>\n",
       "      <td>14056.0</td>\n",
       "    </tr>\n",
       "    <tr>\n",
       "      <th>4</th>\n",
       "      <td>1000</td>\n",
       "      <td>9</td>\n",
       "      <td>14569.0</td>\n",
       "    </tr>\n",
       "    <tr>\n",
       "      <th>5</th>\n",
       "      <td>1000</td>\n",
       "      <td>10</td>\n",
       "      <td>14703.0</td>\n",
       "    </tr>\n",
       "    <tr>\n",
       "      <th>6</th>\n",
       "      <td>1000</td>\n",
       "      <td>11</td>\n",
       "      <td>14757.0</td>\n",
       "    </tr>\n",
       "    <tr>\n",
       "      <th>7</th>\n",
       "      <td>1000</td>\n",
       "      <td>12</td>\n",
       "      <td>9818.0</td>\n",
       "    </tr>\n",
       "    <tr>\n",
       "      <th>8</th>\n",
       "      <td>1001</td>\n",
       "      <td>11</td>\n",
       "      <td>18430.0</td>\n",
       "    </tr>\n",
       "    <tr>\n",
       "      <th>9</th>\n",
       "      <td>1001</td>\n",
       "      <td>12</td>\n",
       "      <td>14037.0</td>\n",
       "    </tr>\n",
       "  </tbody>\n",
       "</table>\n",
       "</div>"
      ],
      "text/plain": [
       "   user_id  month  sum_mb_used\n",
       "0     1000      5       2254.0\n",
       "1     1000      6      23234.0\n",
       "2     1000      7      14004.0\n",
       "3     1000      8      14056.0\n",
       "4     1000      9      14569.0\n",
       "5     1000     10      14703.0\n",
       "6     1000     11      14757.0\n",
       "7     1000     12       9818.0\n",
       "8     1001     11      18430.0\n",
       "9     1001     12      14037.0"
      ]
     },
     "metadata": {},
     "output_type": "display_data"
    },
    {
     "data": {
      "text/html": [
       "<div>\n",
       "<style scoped>\n",
       "    .dataframe tbody tr th:only-of-type {\n",
       "        vertical-align: middle;\n",
       "    }\n",
       "\n",
       "    .dataframe tbody tr th {\n",
       "        vertical-align: top;\n",
       "    }\n",
       "\n",
       "    .dataframe thead th {\n",
       "        text-align: right;\n",
       "    }\n",
       "</style>\n",
       "<table border=\"1\" class=\"dataframe\">\n",
       "  <thead>\n",
       "    <tr style=\"text-align: right;\">\n",
       "      <th></th>\n",
       "      <th>user_id</th>\n",
       "      <th>month</th>\n",
       "      <th>sum_mb_used</th>\n",
       "      <th>calls_count</th>\n",
       "      <th>duration_sum</th>\n",
       "      <th>messages_count</th>\n",
       "    </tr>\n",
       "  </thead>\n",
       "  <tbody>\n",
       "    <tr>\n",
       "      <th>0</th>\n",
       "      <td>1000</td>\n",
       "      <td>5</td>\n",
       "      <td>2254.0</td>\n",
       "      <td>22.0</td>\n",
       "      <td>159.0</td>\n",
       "      <td>22.0</td>\n",
       "    </tr>\n",
       "    <tr>\n",
       "      <th>1</th>\n",
       "      <td>1000</td>\n",
       "      <td>6</td>\n",
       "      <td>23234.0</td>\n",
       "      <td>43.0</td>\n",
       "      <td>172.0</td>\n",
       "      <td>60.0</td>\n",
       "    </tr>\n",
       "    <tr>\n",
       "      <th>2</th>\n",
       "      <td>1000</td>\n",
       "      <td>7</td>\n",
       "      <td>14004.0</td>\n",
       "      <td>47.0</td>\n",
       "      <td>340.0</td>\n",
       "      <td>75.0</td>\n",
       "    </tr>\n",
       "    <tr>\n",
       "      <th>3</th>\n",
       "      <td>1000</td>\n",
       "      <td>8</td>\n",
       "      <td>14056.0</td>\n",
       "      <td>52.0</td>\n",
       "      <td>408.0</td>\n",
       "      <td>81.0</td>\n",
       "    </tr>\n",
       "    <tr>\n",
       "      <th>4</th>\n",
       "      <td>1000</td>\n",
       "      <td>9</td>\n",
       "      <td>14569.0</td>\n",
       "      <td>58.0</td>\n",
       "      <td>466.0</td>\n",
       "      <td>57.0</td>\n",
       "    </tr>\n",
       "    <tr>\n",
       "      <th>5</th>\n",
       "      <td>1000</td>\n",
       "      <td>10</td>\n",
       "      <td>14703.0</td>\n",
       "      <td>57.0</td>\n",
       "      <td>350.0</td>\n",
       "      <td>73.0</td>\n",
       "    </tr>\n",
       "    <tr>\n",
       "      <th>6</th>\n",
       "      <td>1000</td>\n",
       "      <td>11</td>\n",
       "      <td>14757.0</td>\n",
       "      <td>43.0</td>\n",
       "      <td>338.0</td>\n",
       "      <td>58.0</td>\n",
       "    </tr>\n",
       "    <tr>\n",
       "      <th>7</th>\n",
       "      <td>1000</td>\n",
       "      <td>12</td>\n",
       "      <td>9818.0</td>\n",
       "      <td>46.0</td>\n",
       "      <td>333.0</td>\n",
       "      <td>70.0</td>\n",
       "    </tr>\n",
       "    <tr>\n",
       "      <th>8</th>\n",
       "      <td>1001</td>\n",
       "      <td>11</td>\n",
       "      <td>18430.0</td>\n",
       "      <td>59.0</td>\n",
       "      <td>430.0</td>\n",
       "      <td>NaN</td>\n",
       "    </tr>\n",
       "    <tr>\n",
       "      <th>9</th>\n",
       "      <td>1001</td>\n",
       "      <td>12</td>\n",
       "      <td>14037.0</td>\n",
       "      <td>63.0</td>\n",
       "      <td>414.0</td>\n",
       "      <td>NaN</td>\n",
       "    </tr>\n",
       "  </tbody>\n",
       "</table>\n",
       "</div>"
      ],
      "text/plain": [
       "   user_id  month  sum_mb_used  calls_count  duration_sum  messages_count\n",
       "0     1000      5       2254.0         22.0         159.0            22.0\n",
       "1     1000      6      23234.0         43.0         172.0            60.0\n",
       "2     1000      7      14004.0         47.0         340.0            75.0\n",
       "3     1000      8      14056.0         52.0         408.0            81.0\n",
       "4     1000      9      14569.0         58.0         466.0            57.0\n",
       "5     1000     10      14703.0         57.0         350.0            73.0\n",
       "6     1000     11      14757.0         43.0         338.0            58.0\n",
       "7     1000     12       9818.0         46.0         333.0            70.0\n",
       "8     1001     11      18430.0         59.0         430.0             NaN\n",
       "9     1001     12      14037.0         63.0         414.0             NaN"
      ]
     },
     "metadata": {},
     "output_type": "display_data"
    },
    {
     "data": {
      "text/plain": [
       "(3214, 6)"
      ]
     },
     "execution_count": 31,
     "metadata": {},
     "output_type": "execute_result"
    }
   ],
   "source": [
    "display(data_calls_grouped.head(10))\n",
    "display(data_messages_grouped.head(10))\n",
    "display(data_internet_grouped.head(10))\n",
    "display(data.head(10))\n",
    "data.shape"
   ]
  },
  {
   "cell_type": "markdown",
   "metadata": {},
   "source": [
    "Группировка проведена успешно, теперь добавим недостающие для анализа колонки"
   ]
  },
  {
   "cell_type": "code",
   "execution_count": 32,
   "metadata": {},
   "outputs": [],
   "source": [
    "data = pd.merge(data, data_users, how='left', on='user_id')"
   ]
  },
  {
   "cell_type": "code",
   "execution_count": 33,
   "metadata": {},
   "outputs": [
    {
     "data": {
      "text/html": [
       "<div>\n",
       "<style scoped>\n",
       "    .dataframe tbody tr th:only-of-type {\n",
       "        vertical-align: middle;\n",
       "    }\n",
       "\n",
       "    .dataframe tbody tr th {\n",
       "        vertical-align: top;\n",
       "    }\n",
       "\n",
       "    .dataframe thead th {\n",
       "        text-align: right;\n",
       "    }\n",
       "</style>\n",
       "<table border=\"1\" class=\"dataframe\">\n",
       "  <thead>\n",
       "    <tr style=\"text-align: right;\">\n",
       "      <th></th>\n",
       "      <th>user_id</th>\n",
       "      <th>month</th>\n",
       "      <th>sum_mb_used</th>\n",
       "      <th>calls_count</th>\n",
       "      <th>duration_sum</th>\n",
       "      <th>messages_count</th>\n",
       "      <th>city</th>\n",
       "      <th>tariff_name</th>\n",
       "    </tr>\n",
       "  </thead>\n",
       "  <tbody>\n",
       "    <tr>\n",
       "      <th>0</th>\n",
       "      <td>1000</td>\n",
       "      <td>5</td>\n",
       "      <td>2254.0</td>\n",
       "      <td>22.0</td>\n",
       "      <td>159.0</td>\n",
       "      <td>22.0</td>\n",
       "      <td>Краснодар</td>\n",
       "      <td>ultra</td>\n",
       "    </tr>\n",
       "    <tr>\n",
       "      <th>1</th>\n",
       "      <td>1000</td>\n",
       "      <td>6</td>\n",
       "      <td>23234.0</td>\n",
       "      <td>43.0</td>\n",
       "      <td>172.0</td>\n",
       "      <td>60.0</td>\n",
       "      <td>Краснодар</td>\n",
       "      <td>ultra</td>\n",
       "    </tr>\n",
       "    <tr>\n",
       "      <th>2</th>\n",
       "      <td>1000</td>\n",
       "      <td>7</td>\n",
       "      <td>14004.0</td>\n",
       "      <td>47.0</td>\n",
       "      <td>340.0</td>\n",
       "      <td>75.0</td>\n",
       "      <td>Краснодар</td>\n",
       "      <td>ultra</td>\n",
       "    </tr>\n",
       "    <tr>\n",
       "      <th>3</th>\n",
       "      <td>1000</td>\n",
       "      <td>8</td>\n",
       "      <td>14056.0</td>\n",
       "      <td>52.0</td>\n",
       "      <td>408.0</td>\n",
       "      <td>81.0</td>\n",
       "      <td>Краснодар</td>\n",
       "      <td>ultra</td>\n",
       "    </tr>\n",
       "    <tr>\n",
       "      <th>4</th>\n",
       "      <td>1000</td>\n",
       "      <td>9</td>\n",
       "      <td>14569.0</td>\n",
       "      <td>58.0</td>\n",
       "      <td>466.0</td>\n",
       "      <td>57.0</td>\n",
       "      <td>Краснодар</td>\n",
       "      <td>ultra</td>\n",
       "    </tr>\n",
       "    <tr>\n",
       "      <th>...</th>\n",
       "      <td>...</td>\n",
       "      <td>...</td>\n",
       "      <td>...</td>\n",
       "      <td>...</td>\n",
       "      <td>...</td>\n",
       "      <td>...</td>\n",
       "      <td>...</td>\n",
       "      <td>...</td>\n",
       "    </tr>\n",
       "    <tr>\n",
       "      <th>3209</th>\n",
       "      <td>1273</td>\n",
       "      <td>11</td>\n",
       "      <td>NaN</td>\n",
       "      <td>45.0</td>\n",
       "      <td>272.0</td>\n",
       "      <td>29.0</td>\n",
       "      <td>Курган</td>\n",
       "      <td>ultra</td>\n",
       "    </tr>\n",
       "    <tr>\n",
       "      <th>3210</th>\n",
       "      <td>1273</td>\n",
       "      <td>12</td>\n",
       "      <td>NaN</td>\n",
       "      <td>41.0</td>\n",
       "      <td>260.0</td>\n",
       "      <td>39.0</td>\n",
       "      <td>Курган</td>\n",
       "      <td>ultra</td>\n",
       "    </tr>\n",
       "    <tr>\n",
       "      <th>3211</th>\n",
       "      <td>1377</td>\n",
       "      <td>2</td>\n",
       "      <td>NaN</td>\n",
       "      <td>23.0</td>\n",
       "      <td>179.0</td>\n",
       "      <td>2.0</td>\n",
       "      <td>Брянск</td>\n",
       "      <td>ultra</td>\n",
       "    </tr>\n",
       "    <tr>\n",
       "      <th>3212</th>\n",
       "      <td>1392</td>\n",
       "      <td>2</td>\n",
       "      <td>NaN</td>\n",
       "      <td>2.0</td>\n",
       "      <td>13.0</td>\n",
       "      <td>3.0</td>\n",
       "      <td>Челябинск</td>\n",
       "      <td>ultra</td>\n",
       "    </tr>\n",
       "    <tr>\n",
       "      <th>3213</th>\n",
       "      <td>1446</td>\n",
       "      <td>8</td>\n",
       "      <td>NaN</td>\n",
       "      <td>4.0</td>\n",
       "      <td>50.0</td>\n",
       "      <td>1.0</td>\n",
       "      <td>Липецк</td>\n",
       "      <td>smart</td>\n",
       "    </tr>\n",
       "  </tbody>\n",
       "</table>\n",
       "<p>3214 rows × 8 columns</p>\n",
       "</div>"
      ],
      "text/plain": [
       "      user_id  month  sum_mb_used  calls_count  duration_sum  messages_count  \\\n",
       "0        1000      5       2254.0         22.0         159.0            22.0   \n",
       "1        1000      6      23234.0         43.0         172.0            60.0   \n",
       "2        1000      7      14004.0         47.0         340.0            75.0   \n",
       "3        1000      8      14056.0         52.0         408.0            81.0   \n",
       "4        1000      9      14569.0         58.0         466.0            57.0   \n",
       "...       ...    ...          ...          ...           ...             ...   \n",
       "3209     1273     11          NaN         45.0         272.0            29.0   \n",
       "3210     1273     12          NaN         41.0         260.0            39.0   \n",
       "3211     1377      2          NaN         23.0         179.0             2.0   \n",
       "3212     1392      2          NaN          2.0          13.0             3.0   \n",
       "3213     1446      8          NaN          4.0          50.0             1.0   \n",
       "\n",
       "           city tariff_name  \n",
       "0     Краснодар       ultra  \n",
       "1     Краснодар       ultra  \n",
       "2     Краснодар       ultra  \n",
       "3     Краснодар       ultra  \n",
       "4     Краснодар       ultra  \n",
       "...         ...         ...  \n",
       "3209     Курган       ultra  \n",
       "3210     Курган       ultra  \n",
       "3211     Брянск       ultra  \n",
       "3212  Челябинск       ultra  \n",
       "3213     Липецк       smart  \n",
       "\n",
       "[3214 rows x 8 columns]"
      ]
     },
     "execution_count": 33,
     "metadata": {},
     "output_type": "execute_result"
    }
   ],
   "source": [
    "data =  data.drop(columns=['age', 'churn_date', 'first_name', 'last_name', 'reg_date'])\n",
    "data"
   ]
  },
  {
   "cell_type": "code",
   "execution_count": 34,
   "metadata": {},
   "outputs": [],
   "source": [
    "data = pd.merge(data, data_tariffs, how='left', on='tariff_name')"
   ]
  },
  {
   "cell_type": "code",
   "execution_count": 35,
   "metadata": {
    "scrolled": false
   },
   "outputs": [
    {
     "data": {
      "text/html": [
       "<div>\n",
       "<style scoped>\n",
       "    .dataframe tbody tr th:only-of-type {\n",
       "        vertical-align: middle;\n",
       "    }\n",
       "\n",
       "    .dataframe tbody tr th {\n",
       "        vertical-align: top;\n",
       "    }\n",
       "\n",
       "    .dataframe thead th {\n",
       "        text-align: right;\n",
       "    }\n",
       "</style>\n",
       "<table border=\"1\" class=\"dataframe\">\n",
       "  <thead>\n",
       "    <tr style=\"text-align: right;\">\n",
       "      <th></th>\n",
       "      <th>user_id</th>\n",
       "      <th>month</th>\n",
       "      <th>sum_mb_used</th>\n",
       "      <th>calls_count</th>\n",
       "      <th>duration_sum</th>\n",
       "      <th>messages_count</th>\n",
       "      <th>city</th>\n",
       "      <th>tariff_name</th>\n",
       "      <th>messages_included</th>\n",
       "      <th>mb_per_month_included</th>\n",
       "      <th>minutes_included</th>\n",
       "      <th>rub_monthly_fee</th>\n",
       "      <th>rub_per_gb</th>\n",
       "      <th>rub_per_message</th>\n",
       "      <th>rub_per_minute</th>\n",
       "    </tr>\n",
       "  </thead>\n",
       "  <tbody>\n",
       "    <tr>\n",
       "      <th>0</th>\n",
       "      <td>1000</td>\n",
       "      <td>5</td>\n",
       "      <td>2254.0</td>\n",
       "      <td>22.0</td>\n",
       "      <td>159.0</td>\n",
       "      <td>22.0</td>\n",
       "      <td>Краснодар</td>\n",
       "      <td>ultra</td>\n",
       "      <td>1000</td>\n",
       "      <td>30720</td>\n",
       "      <td>3000</td>\n",
       "      <td>1950</td>\n",
       "      <td>150</td>\n",
       "      <td>1</td>\n",
       "      <td>1</td>\n",
       "    </tr>\n",
       "    <tr>\n",
       "      <th>1</th>\n",
       "      <td>1000</td>\n",
       "      <td>6</td>\n",
       "      <td>23234.0</td>\n",
       "      <td>43.0</td>\n",
       "      <td>172.0</td>\n",
       "      <td>60.0</td>\n",
       "      <td>Краснодар</td>\n",
       "      <td>ultra</td>\n",
       "      <td>1000</td>\n",
       "      <td>30720</td>\n",
       "      <td>3000</td>\n",
       "      <td>1950</td>\n",
       "      <td>150</td>\n",
       "      <td>1</td>\n",
       "      <td>1</td>\n",
       "    </tr>\n",
       "    <tr>\n",
       "      <th>2</th>\n",
       "      <td>1000</td>\n",
       "      <td>7</td>\n",
       "      <td>14004.0</td>\n",
       "      <td>47.0</td>\n",
       "      <td>340.0</td>\n",
       "      <td>75.0</td>\n",
       "      <td>Краснодар</td>\n",
       "      <td>ultra</td>\n",
       "      <td>1000</td>\n",
       "      <td>30720</td>\n",
       "      <td>3000</td>\n",
       "      <td>1950</td>\n",
       "      <td>150</td>\n",
       "      <td>1</td>\n",
       "      <td>1</td>\n",
       "    </tr>\n",
       "    <tr>\n",
       "      <th>3</th>\n",
       "      <td>1000</td>\n",
       "      <td>8</td>\n",
       "      <td>14056.0</td>\n",
       "      <td>52.0</td>\n",
       "      <td>408.0</td>\n",
       "      <td>81.0</td>\n",
       "      <td>Краснодар</td>\n",
       "      <td>ultra</td>\n",
       "      <td>1000</td>\n",
       "      <td>30720</td>\n",
       "      <td>3000</td>\n",
       "      <td>1950</td>\n",
       "      <td>150</td>\n",
       "      <td>1</td>\n",
       "      <td>1</td>\n",
       "    </tr>\n",
       "    <tr>\n",
       "      <th>4</th>\n",
       "      <td>1000</td>\n",
       "      <td>9</td>\n",
       "      <td>14569.0</td>\n",
       "      <td>58.0</td>\n",
       "      <td>466.0</td>\n",
       "      <td>57.0</td>\n",
       "      <td>Краснодар</td>\n",
       "      <td>ultra</td>\n",
       "      <td>1000</td>\n",
       "      <td>30720</td>\n",
       "      <td>3000</td>\n",
       "      <td>1950</td>\n",
       "      <td>150</td>\n",
       "      <td>1</td>\n",
       "      <td>1</td>\n",
       "    </tr>\n",
       "    <tr>\n",
       "      <th>...</th>\n",
       "      <td>...</td>\n",
       "      <td>...</td>\n",
       "      <td>...</td>\n",
       "      <td>...</td>\n",
       "      <td>...</td>\n",
       "      <td>...</td>\n",
       "      <td>...</td>\n",
       "      <td>...</td>\n",
       "      <td>...</td>\n",
       "      <td>...</td>\n",
       "      <td>...</td>\n",
       "      <td>...</td>\n",
       "      <td>...</td>\n",
       "      <td>...</td>\n",
       "      <td>...</td>\n",
       "    </tr>\n",
       "    <tr>\n",
       "      <th>3209</th>\n",
       "      <td>1273</td>\n",
       "      <td>11</td>\n",
       "      <td>NaN</td>\n",
       "      <td>45.0</td>\n",
       "      <td>272.0</td>\n",
       "      <td>29.0</td>\n",
       "      <td>Курган</td>\n",
       "      <td>ultra</td>\n",
       "      <td>1000</td>\n",
       "      <td>30720</td>\n",
       "      <td>3000</td>\n",
       "      <td>1950</td>\n",
       "      <td>150</td>\n",
       "      <td>1</td>\n",
       "      <td>1</td>\n",
       "    </tr>\n",
       "    <tr>\n",
       "      <th>3210</th>\n",
       "      <td>1273</td>\n",
       "      <td>12</td>\n",
       "      <td>NaN</td>\n",
       "      <td>41.0</td>\n",
       "      <td>260.0</td>\n",
       "      <td>39.0</td>\n",
       "      <td>Курган</td>\n",
       "      <td>ultra</td>\n",
       "      <td>1000</td>\n",
       "      <td>30720</td>\n",
       "      <td>3000</td>\n",
       "      <td>1950</td>\n",
       "      <td>150</td>\n",
       "      <td>1</td>\n",
       "      <td>1</td>\n",
       "    </tr>\n",
       "    <tr>\n",
       "      <th>3211</th>\n",
       "      <td>1377</td>\n",
       "      <td>2</td>\n",
       "      <td>NaN</td>\n",
       "      <td>23.0</td>\n",
       "      <td>179.0</td>\n",
       "      <td>2.0</td>\n",
       "      <td>Брянск</td>\n",
       "      <td>ultra</td>\n",
       "      <td>1000</td>\n",
       "      <td>30720</td>\n",
       "      <td>3000</td>\n",
       "      <td>1950</td>\n",
       "      <td>150</td>\n",
       "      <td>1</td>\n",
       "      <td>1</td>\n",
       "    </tr>\n",
       "    <tr>\n",
       "      <th>3212</th>\n",
       "      <td>1392</td>\n",
       "      <td>2</td>\n",
       "      <td>NaN</td>\n",
       "      <td>2.0</td>\n",
       "      <td>13.0</td>\n",
       "      <td>3.0</td>\n",
       "      <td>Челябинск</td>\n",
       "      <td>ultra</td>\n",
       "      <td>1000</td>\n",
       "      <td>30720</td>\n",
       "      <td>3000</td>\n",
       "      <td>1950</td>\n",
       "      <td>150</td>\n",
       "      <td>1</td>\n",
       "      <td>1</td>\n",
       "    </tr>\n",
       "    <tr>\n",
       "      <th>3213</th>\n",
       "      <td>1446</td>\n",
       "      <td>8</td>\n",
       "      <td>NaN</td>\n",
       "      <td>4.0</td>\n",
       "      <td>50.0</td>\n",
       "      <td>1.0</td>\n",
       "      <td>Липецк</td>\n",
       "      <td>smart</td>\n",
       "      <td>50</td>\n",
       "      <td>15360</td>\n",
       "      <td>500</td>\n",
       "      <td>550</td>\n",
       "      <td>200</td>\n",
       "      <td>3</td>\n",
       "      <td>3</td>\n",
       "    </tr>\n",
       "  </tbody>\n",
       "</table>\n",
       "<p>3214 rows × 15 columns</p>\n",
       "</div>"
      ],
      "text/plain": [
       "      user_id  month  sum_mb_used  calls_count  duration_sum  messages_count  \\\n",
       "0        1000      5       2254.0         22.0         159.0            22.0   \n",
       "1        1000      6      23234.0         43.0         172.0            60.0   \n",
       "2        1000      7      14004.0         47.0         340.0            75.0   \n",
       "3        1000      8      14056.0         52.0         408.0            81.0   \n",
       "4        1000      9      14569.0         58.0         466.0            57.0   \n",
       "...       ...    ...          ...          ...           ...             ...   \n",
       "3209     1273     11          NaN         45.0         272.0            29.0   \n",
       "3210     1273     12          NaN         41.0         260.0            39.0   \n",
       "3211     1377      2          NaN         23.0         179.0             2.0   \n",
       "3212     1392      2          NaN          2.0          13.0             3.0   \n",
       "3213     1446      8          NaN          4.0          50.0             1.0   \n",
       "\n",
       "           city tariff_name  messages_included  mb_per_month_included  \\\n",
       "0     Краснодар       ultra               1000                  30720   \n",
       "1     Краснодар       ultra               1000                  30720   \n",
       "2     Краснодар       ultra               1000                  30720   \n",
       "3     Краснодар       ultra               1000                  30720   \n",
       "4     Краснодар       ultra               1000                  30720   \n",
       "...         ...         ...                ...                    ...   \n",
       "3209     Курган       ultra               1000                  30720   \n",
       "3210     Курган       ultra               1000                  30720   \n",
       "3211     Брянск       ultra               1000                  30720   \n",
       "3212  Челябинск       ultra               1000                  30720   \n",
       "3213     Липецк       smart                 50                  15360   \n",
       "\n",
       "      minutes_included  rub_monthly_fee  rub_per_gb  rub_per_message  \\\n",
       "0                 3000             1950         150                1   \n",
       "1                 3000             1950         150                1   \n",
       "2                 3000             1950         150                1   \n",
       "3                 3000             1950         150                1   \n",
       "4                 3000             1950         150                1   \n",
       "...                ...              ...         ...              ...   \n",
       "3209              3000             1950         150                1   \n",
       "3210              3000             1950         150                1   \n",
       "3211              3000             1950         150                1   \n",
       "3212              3000             1950         150                1   \n",
       "3213               500              550         200                3   \n",
       "\n",
       "      rub_per_minute  \n",
       "0                  1  \n",
       "1                  1  \n",
       "2                  1  \n",
       "3                  1  \n",
       "4                  1  \n",
       "...              ...  \n",
       "3209               1  \n",
       "3210               1  \n",
       "3211               1  \n",
       "3212               1  \n",
       "3213               3  \n",
       "\n",
       "[3214 rows x 15 columns]"
      ]
     },
     "execution_count": 35,
     "metadata": {},
     "output_type": "execute_result"
    }
   ],
   "source": [
    "data"
   ]
  },
  {
   "cell_type": "markdown",
   "metadata": {},
   "source": [
    "Добавление колонок с информацией о тарифе произведено успешно"
   ]
  },
  {
   "cell_type": "markdown",
   "metadata": {},
   "source": [
    "Теперь мы получили датасет со всеми необходимыми значениями, можем посчитать помесячный даход компании \"Мегалайн\" с каждого клиента"
   ]
  },
  {
   "cell_type": "code",
   "execution_count": 36,
   "metadata": {},
   "outputs": [],
   "source": [
    "def income_per_month(row):\n",
    "    overuse_calls_pay = 0\n",
    "    overuse_messages_pay = 0\n",
    "    overuse_internet_pay = 0\n",
    "    calls_dif = row['minutes_included'] - row['duration_sum']\n",
    "    messages_dif = row['messages_included'] - row['messages_count']\n",
    "    internet_dif = row['mb_per_month_included'] - row['sum_mb_used']\n",
    "    if calls_dif < 0:\n",
    "        overuse_calls_pay = abs(calls_dif) * row['rub_per_minute']\n",
    "    if messages_dif < 0:\n",
    "        overuse_messages_pay = abs(messages_dif) * row['rub_per_message']\n",
    "    if internet_dif < 0:\n",
    "        internet_dif = np.ceil(abs(internet_dif) / 1024)\n",
    "        overuse_internet_pay = internet_dif * row['rub_per_gb']\n",
    "    return overuse_calls_pay + overuse_messages_pay + overuse_internet_pay + row['rub_monthly_fee']"
   ]
  },
  {
   "cell_type": "code",
   "execution_count": 37,
   "metadata": {},
   "outputs": [],
   "source": [
    "data['monthly_income'] = data.apply(income_per_month, axis=1)"
   ]
  },
  {
   "cell_type": "code",
   "execution_count": 38,
   "metadata": {},
   "outputs": [
    {
     "data": {
      "text/html": [
       "<div>\n",
       "<style scoped>\n",
       "    .dataframe tbody tr th:only-of-type {\n",
       "        vertical-align: middle;\n",
       "    }\n",
       "\n",
       "    .dataframe tbody tr th {\n",
       "        vertical-align: top;\n",
       "    }\n",
       "\n",
       "    .dataframe thead th {\n",
       "        text-align: right;\n",
       "    }\n",
       "</style>\n",
       "<table border=\"1\" class=\"dataframe\">\n",
       "  <thead>\n",
       "    <tr style=\"text-align: right;\">\n",
       "      <th></th>\n",
       "      <th>user_id</th>\n",
       "      <th>month</th>\n",
       "      <th>sum_mb_used</th>\n",
       "      <th>calls_count</th>\n",
       "      <th>duration_sum</th>\n",
       "      <th>messages_count</th>\n",
       "      <th>city</th>\n",
       "      <th>tariff_name</th>\n",
       "      <th>messages_included</th>\n",
       "      <th>mb_per_month_included</th>\n",
       "      <th>minutes_included</th>\n",
       "      <th>rub_monthly_fee</th>\n",
       "      <th>rub_per_gb</th>\n",
       "      <th>rub_per_message</th>\n",
       "      <th>rub_per_minute</th>\n",
       "      <th>monthly_income</th>\n",
       "    </tr>\n",
       "  </thead>\n",
       "  <tbody>\n",
       "    <tr>\n",
       "      <th>0</th>\n",
       "      <td>1000</td>\n",
       "      <td>5</td>\n",
       "      <td>2254.0</td>\n",
       "      <td>22.0</td>\n",
       "      <td>159.0</td>\n",
       "      <td>22.0</td>\n",
       "      <td>Краснодар</td>\n",
       "      <td>ultra</td>\n",
       "      <td>1000</td>\n",
       "      <td>30720</td>\n",
       "      <td>3000</td>\n",
       "      <td>1950</td>\n",
       "      <td>150</td>\n",
       "      <td>1</td>\n",
       "      <td>1</td>\n",
       "      <td>1950.0</td>\n",
       "    </tr>\n",
       "    <tr>\n",
       "      <th>1</th>\n",
       "      <td>1000</td>\n",
       "      <td>6</td>\n",
       "      <td>23234.0</td>\n",
       "      <td>43.0</td>\n",
       "      <td>172.0</td>\n",
       "      <td>60.0</td>\n",
       "      <td>Краснодар</td>\n",
       "      <td>ultra</td>\n",
       "      <td>1000</td>\n",
       "      <td>30720</td>\n",
       "      <td>3000</td>\n",
       "      <td>1950</td>\n",
       "      <td>150</td>\n",
       "      <td>1</td>\n",
       "      <td>1</td>\n",
       "      <td>1950.0</td>\n",
       "    </tr>\n",
       "    <tr>\n",
       "      <th>2</th>\n",
       "      <td>1000</td>\n",
       "      <td>7</td>\n",
       "      <td>14004.0</td>\n",
       "      <td>47.0</td>\n",
       "      <td>340.0</td>\n",
       "      <td>75.0</td>\n",
       "      <td>Краснодар</td>\n",
       "      <td>ultra</td>\n",
       "      <td>1000</td>\n",
       "      <td>30720</td>\n",
       "      <td>3000</td>\n",
       "      <td>1950</td>\n",
       "      <td>150</td>\n",
       "      <td>1</td>\n",
       "      <td>1</td>\n",
       "      <td>1950.0</td>\n",
       "    </tr>\n",
       "    <tr>\n",
       "      <th>3</th>\n",
       "      <td>1000</td>\n",
       "      <td>8</td>\n",
       "      <td>14056.0</td>\n",
       "      <td>52.0</td>\n",
       "      <td>408.0</td>\n",
       "      <td>81.0</td>\n",
       "      <td>Краснодар</td>\n",
       "      <td>ultra</td>\n",
       "      <td>1000</td>\n",
       "      <td>30720</td>\n",
       "      <td>3000</td>\n",
       "      <td>1950</td>\n",
       "      <td>150</td>\n",
       "      <td>1</td>\n",
       "      <td>1</td>\n",
       "      <td>1950.0</td>\n",
       "    </tr>\n",
       "    <tr>\n",
       "      <th>4</th>\n",
       "      <td>1000</td>\n",
       "      <td>9</td>\n",
       "      <td>14569.0</td>\n",
       "      <td>58.0</td>\n",
       "      <td>466.0</td>\n",
       "      <td>57.0</td>\n",
       "      <td>Краснодар</td>\n",
       "      <td>ultra</td>\n",
       "      <td>1000</td>\n",
       "      <td>30720</td>\n",
       "      <td>3000</td>\n",
       "      <td>1950</td>\n",
       "      <td>150</td>\n",
       "      <td>1</td>\n",
       "      <td>1</td>\n",
       "      <td>1950.0</td>\n",
       "    </tr>\n",
       "    <tr>\n",
       "      <th>...</th>\n",
       "      <td>...</td>\n",
       "      <td>...</td>\n",
       "      <td>...</td>\n",
       "      <td>...</td>\n",
       "      <td>...</td>\n",
       "      <td>...</td>\n",
       "      <td>...</td>\n",
       "      <td>...</td>\n",
       "      <td>...</td>\n",
       "      <td>...</td>\n",
       "      <td>...</td>\n",
       "      <td>...</td>\n",
       "      <td>...</td>\n",
       "      <td>...</td>\n",
       "      <td>...</td>\n",
       "      <td>...</td>\n",
       "    </tr>\n",
       "    <tr>\n",
       "      <th>3209</th>\n",
       "      <td>1273</td>\n",
       "      <td>11</td>\n",
       "      <td>NaN</td>\n",
       "      <td>45.0</td>\n",
       "      <td>272.0</td>\n",
       "      <td>29.0</td>\n",
       "      <td>Курган</td>\n",
       "      <td>ultra</td>\n",
       "      <td>1000</td>\n",
       "      <td>30720</td>\n",
       "      <td>3000</td>\n",
       "      <td>1950</td>\n",
       "      <td>150</td>\n",
       "      <td>1</td>\n",
       "      <td>1</td>\n",
       "      <td>1950.0</td>\n",
       "    </tr>\n",
       "    <tr>\n",
       "      <th>3210</th>\n",
       "      <td>1273</td>\n",
       "      <td>12</td>\n",
       "      <td>NaN</td>\n",
       "      <td>41.0</td>\n",
       "      <td>260.0</td>\n",
       "      <td>39.0</td>\n",
       "      <td>Курган</td>\n",
       "      <td>ultra</td>\n",
       "      <td>1000</td>\n",
       "      <td>30720</td>\n",
       "      <td>3000</td>\n",
       "      <td>1950</td>\n",
       "      <td>150</td>\n",
       "      <td>1</td>\n",
       "      <td>1</td>\n",
       "      <td>1950.0</td>\n",
       "    </tr>\n",
       "    <tr>\n",
       "      <th>3211</th>\n",
       "      <td>1377</td>\n",
       "      <td>2</td>\n",
       "      <td>NaN</td>\n",
       "      <td>23.0</td>\n",
       "      <td>179.0</td>\n",
       "      <td>2.0</td>\n",
       "      <td>Брянск</td>\n",
       "      <td>ultra</td>\n",
       "      <td>1000</td>\n",
       "      <td>30720</td>\n",
       "      <td>3000</td>\n",
       "      <td>1950</td>\n",
       "      <td>150</td>\n",
       "      <td>1</td>\n",
       "      <td>1</td>\n",
       "      <td>1950.0</td>\n",
       "    </tr>\n",
       "    <tr>\n",
       "      <th>3212</th>\n",
       "      <td>1392</td>\n",
       "      <td>2</td>\n",
       "      <td>NaN</td>\n",
       "      <td>2.0</td>\n",
       "      <td>13.0</td>\n",
       "      <td>3.0</td>\n",
       "      <td>Челябинск</td>\n",
       "      <td>ultra</td>\n",
       "      <td>1000</td>\n",
       "      <td>30720</td>\n",
       "      <td>3000</td>\n",
       "      <td>1950</td>\n",
       "      <td>150</td>\n",
       "      <td>1</td>\n",
       "      <td>1</td>\n",
       "      <td>1950.0</td>\n",
       "    </tr>\n",
       "    <tr>\n",
       "      <th>3213</th>\n",
       "      <td>1446</td>\n",
       "      <td>8</td>\n",
       "      <td>NaN</td>\n",
       "      <td>4.0</td>\n",
       "      <td>50.0</td>\n",
       "      <td>1.0</td>\n",
       "      <td>Липецк</td>\n",
       "      <td>smart</td>\n",
       "      <td>50</td>\n",
       "      <td>15360</td>\n",
       "      <td>500</td>\n",
       "      <td>550</td>\n",
       "      <td>200</td>\n",
       "      <td>3</td>\n",
       "      <td>3</td>\n",
       "      <td>550.0</td>\n",
       "    </tr>\n",
       "  </tbody>\n",
       "</table>\n",
       "<p>3214 rows × 16 columns</p>\n",
       "</div>"
      ],
      "text/plain": [
       "      user_id  month  sum_mb_used  calls_count  duration_sum  messages_count  \\\n",
       "0        1000      5       2254.0         22.0         159.0            22.0   \n",
       "1        1000      6      23234.0         43.0         172.0            60.0   \n",
       "2        1000      7      14004.0         47.0         340.0            75.0   \n",
       "3        1000      8      14056.0         52.0         408.0            81.0   \n",
       "4        1000      9      14569.0         58.0         466.0            57.0   \n",
       "...       ...    ...          ...          ...           ...             ...   \n",
       "3209     1273     11          NaN         45.0         272.0            29.0   \n",
       "3210     1273     12          NaN         41.0         260.0            39.0   \n",
       "3211     1377      2          NaN         23.0         179.0             2.0   \n",
       "3212     1392      2          NaN          2.0          13.0             3.0   \n",
       "3213     1446      8          NaN          4.0          50.0             1.0   \n",
       "\n",
       "           city tariff_name  messages_included  mb_per_month_included  \\\n",
       "0     Краснодар       ultra               1000                  30720   \n",
       "1     Краснодар       ultra               1000                  30720   \n",
       "2     Краснодар       ultra               1000                  30720   \n",
       "3     Краснодар       ultra               1000                  30720   \n",
       "4     Краснодар       ultra               1000                  30720   \n",
       "...         ...         ...                ...                    ...   \n",
       "3209     Курган       ultra               1000                  30720   \n",
       "3210     Курган       ultra               1000                  30720   \n",
       "3211     Брянск       ultra               1000                  30720   \n",
       "3212  Челябинск       ultra               1000                  30720   \n",
       "3213     Липецк       smart                 50                  15360   \n",
       "\n",
       "      minutes_included  rub_monthly_fee  rub_per_gb  rub_per_message  \\\n",
       "0                 3000             1950         150                1   \n",
       "1                 3000             1950         150                1   \n",
       "2                 3000             1950         150                1   \n",
       "3                 3000             1950         150                1   \n",
       "4                 3000             1950         150                1   \n",
       "...                ...              ...         ...              ...   \n",
       "3209              3000             1950         150                1   \n",
       "3210              3000             1950         150                1   \n",
       "3211              3000             1950         150                1   \n",
       "3212              3000             1950         150                1   \n",
       "3213               500              550         200                3   \n",
       "\n",
       "      rub_per_minute  monthly_income  \n",
       "0                  1          1950.0  \n",
       "1                  1          1950.0  \n",
       "2                  1          1950.0  \n",
       "3                  1          1950.0  \n",
       "4                  1          1950.0  \n",
       "...              ...             ...  \n",
       "3209               1          1950.0  \n",
       "3210               1          1950.0  \n",
       "3211               1          1950.0  \n",
       "3212               1          1950.0  \n",
       "3213               3           550.0  \n",
       "\n",
       "[3214 rows x 16 columns]"
      ]
     },
     "execution_count": 38,
     "metadata": {},
     "output_type": "execute_result"
    }
   ],
   "source": [
    "data"
   ]
  },
  {
   "cell_type": "markdown",
   "metadata": {},
   "source": [
    "Теперь, когда мы произвели все необходимые вычисления, уберем ненужные при дальнейшем анализе столбцы"
   ]
  },
  {
   "cell_type": "code",
   "execution_count": 39,
   "metadata": {},
   "outputs": [],
   "source": [
    "data =  data.drop(columns=['messages_included', 'mb_per_month_included', 'minutes_included', 'rub_per_message', 'rub_per_gb', 'rub_per_minute', 'rub_monthly_fee'])"
   ]
  },
  {
   "cell_type": "code",
   "execution_count": 40,
   "metadata": {},
   "outputs": [
    {
     "data": {
      "text/html": [
       "<div>\n",
       "<style scoped>\n",
       "    .dataframe tbody tr th:only-of-type {\n",
       "        vertical-align: middle;\n",
       "    }\n",
       "\n",
       "    .dataframe tbody tr th {\n",
       "        vertical-align: top;\n",
       "    }\n",
       "\n",
       "    .dataframe thead th {\n",
       "        text-align: right;\n",
       "    }\n",
       "</style>\n",
       "<table border=\"1\" class=\"dataframe\">\n",
       "  <thead>\n",
       "    <tr style=\"text-align: right;\">\n",
       "      <th></th>\n",
       "      <th>user_id</th>\n",
       "      <th>month</th>\n",
       "      <th>sum_mb_used</th>\n",
       "      <th>calls_count</th>\n",
       "      <th>duration_sum</th>\n",
       "      <th>messages_count</th>\n",
       "      <th>city</th>\n",
       "      <th>tariff_name</th>\n",
       "      <th>monthly_income</th>\n",
       "    </tr>\n",
       "  </thead>\n",
       "  <tbody>\n",
       "    <tr>\n",
       "      <th>0</th>\n",
       "      <td>1000</td>\n",
       "      <td>5</td>\n",
       "      <td>2254.0</td>\n",
       "      <td>22.0</td>\n",
       "      <td>159.0</td>\n",
       "      <td>22.0</td>\n",
       "      <td>Краснодар</td>\n",
       "      <td>ultra</td>\n",
       "      <td>1950.0</td>\n",
       "    </tr>\n",
       "    <tr>\n",
       "      <th>1</th>\n",
       "      <td>1000</td>\n",
       "      <td>6</td>\n",
       "      <td>23234.0</td>\n",
       "      <td>43.0</td>\n",
       "      <td>172.0</td>\n",
       "      <td>60.0</td>\n",
       "      <td>Краснодар</td>\n",
       "      <td>ultra</td>\n",
       "      <td>1950.0</td>\n",
       "    </tr>\n",
       "    <tr>\n",
       "      <th>2</th>\n",
       "      <td>1000</td>\n",
       "      <td>7</td>\n",
       "      <td>14004.0</td>\n",
       "      <td>47.0</td>\n",
       "      <td>340.0</td>\n",
       "      <td>75.0</td>\n",
       "      <td>Краснодар</td>\n",
       "      <td>ultra</td>\n",
       "      <td>1950.0</td>\n",
       "    </tr>\n",
       "    <tr>\n",
       "      <th>3</th>\n",
       "      <td>1000</td>\n",
       "      <td>8</td>\n",
       "      <td>14056.0</td>\n",
       "      <td>52.0</td>\n",
       "      <td>408.0</td>\n",
       "      <td>81.0</td>\n",
       "      <td>Краснодар</td>\n",
       "      <td>ultra</td>\n",
       "      <td>1950.0</td>\n",
       "    </tr>\n",
       "    <tr>\n",
       "      <th>4</th>\n",
       "      <td>1000</td>\n",
       "      <td>9</td>\n",
       "      <td>14569.0</td>\n",
       "      <td>58.0</td>\n",
       "      <td>466.0</td>\n",
       "      <td>57.0</td>\n",
       "      <td>Краснодар</td>\n",
       "      <td>ultra</td>\n",
       "      <td>1950.0</td>\n",
       "    </tr>\n",
       "    <tr>\n",
       "      <th>...</th>\n",
       "      <td>...</td>\n",
       "      <td>...</td>\n",
       "      <td>...</td>\n",
       "      <td>...</td>\n",
       "      <td>...</td>\n",
       "      <td>...</td>\n",
       "      <td>...</td>\n",
       "      <td>...</td>\n",
       "      <td>...</td>\n",
       "    </tr>\n",
       "    <tr>\n",
       "      <th>3209</th>\n",
       "      <td>1273</td>\n",
       "      <td>11</td>\n",
       "      <td>NaN</td>\n",
       "      <td>45.0</td>\n",
       "      <td>272.0</td>\n",
       "      <td>29.0</td>\n",
       "      <td>Курган</td>\n",
       "      <td>ultra</td>\n",
       "      <td>1950.0</td>\n",
       "    </tr>\n",
       "    <tr>\n",
       "      <th>3210</th>\n",
       "      <td>1273</td>\n",
       "      <td>12</td>\n",
       "      <td>NaN</td>\n",
       "      <td>41.0</td>\n",
       "      <td>260.0</td>\n",
       "      <td>39.0</td>\n",
       "      <td>Курган</td>\n",
       "      <td>ultra</td>\n",
       "      <td>1950.0</td>\n",
       "    </tr>\n",
       "    <tr>\n",
       "      <th>3211</th>\n",
       "      <td>1377</td>\n",
       "      <td>2</td>\n",
       "      <td>NaN</td>\n",
       "      <td>23.0</td>\n",
       "      <td>179.0</td>\n",
       "      <td>2.0</td>\n",
       "      <td>Брянск</td>\n",
       "      <td>ultra</td>\n",
       "      <td>1950.0</td>\n",
       "    </tr>\n",
       "    <tr>\n",
       "      <th>3212</th>\n",
       "      <td>1392</td>\n",
       "      <td>2</td>\n",
       "      <td>NaN</td>\n",
       "      <td>2.0</td>\n",
       "      <td>13.0</td>\n",
       "      <td>3.0</td>\n",
       "      <td>Челябинск</td>\n",
       "      <td>ultra</td>\n",
       "      <td>1950.0</td>\n",
       "    </tr>\n",
       "    <tr>\n",
       "      <th>3213</th>\n",
       "      <td>1446</td>\n",
       "      <td>8</td>\n",
       "      <td>NaN</td>\n",
       "      <td>4.0</td>\n",
       "      <td>50.0</td>\n",
       "      <td>1.0</td>\n",
       "      <td>Липецк</td>\n",
       "      <td>smart</td>\n",
       "      <td>550.0</td>\n",
       "    </tr>\n",
       "  </tbody>\n",
       "</table>\n",
       "<p>3214 rows × 9 columns</p>\n",
       "</div>"
      ],
      "text/plain": [
       "      user_id  month  sum_mb_used  calls_count  duration_sum  messages_count  \\\n",
       "0        1000      5       2254.0         22.0         159.0            22.0   \n",
       "1        1000      6      23234.0         43.0         172.0            60.0   \n",
       "2        1000      7      14004.0         47.0         340.0            75.0   \n",
       "3        1000      8      14056.0         52.0         408.0            81.0   \n",
       "4        1000      9      14569.0         58.0         466.0            57.0   \n",
       "...       ...    ...          ...          ...           ...             ...   \n",
       "3209     1273     11          NaN         45.0         272.0            29.0   \n",
       "3210     1273     12          NaN         41.0         260.0            39.0   \n",
       "3211     1377      2          NaN         23.0         179.0             2.0   \n",
       "3212     1392      2          NaN          2.0          13.0             3.0   \n",
       "3213     1446      8          NaN          4.0          50.0             1.0   \n",
       "\n",
       "           city tariff_name  monthly_income  \n",
       "0     Краснодар       ultra          1950.0  \n",
       "1     Краснодар       ultra          1950.0  \n",
       "2     Краснодар       ultra          1950.0  \n",
       "3     Краснодар       ultra          1950.0  \n",
       "4     Краснодар       ultra          1950.0  \n",
       "...         ...         ...             ...  \n",
       "3209     Курган       ultra          1950.0  \n",
       "3210     Курган       ultra          1950.0  \n",
       "3211     Брянск       ultra          1950.0  \n",
       "3212  Челябинск       ultra          1950.0  \n",
       "3213     Липецк       smart           550.0  \n",
       "\n",
       "[3214 rows x 9 columns]"
      ]
     },
     "execution_count": 40,
     "metadata": {},
     "output_type": "execute_result"
    }
   ],
   "source": [
    "data"
   ]
  },
  {
   "cell_type": "markdown",
   "metadata": {},
   "source": [
    "Все необходимые вычисления произведены успешно, перейдем к анализу полученных данных"
   ]
  },
  {
   "cell_type": "markdown",
   "metadata": {},
   "source": [
    "## Анализ данных"
   ]
  },
  {
   "cell_type": "markdown",
   "metadata": {},
   "source": [
    "В ходе анализа будем изучать среднее значение, дисперсию и стандартное отклонение пользователей различных тарифов по месяцам"
   ]
  },
  {
   "cell_type": "markdown",
   "metadata": {},
   "source": [
    "Разделим наш исходный датасет на два других, в зависимости от используемого тарифа"
   ]
  },
  {
   "cell_type": "code",
   "execution_count": 41,
   "metadata": {},
   "outputs": [],
   "source": [
    "data_smart = data.query('tariff_name == \"smart\"')\n",
    "data_ultra = data.query('tariff_name == \"ultra\"')"
   ]
  },
  {
   "cell_type": "markdown",
   "metadata": {},
   "source": [
    "### Анализ использования пакета минут"
   ]
  },
  {
   "cell_type": "markdown",
   "metadata": {},
   "source": [
    "#### Гистограммы распределения длительности звонков"
   ]
  },
  {
   "cell_type": "markdown",
   "metadata": {},
   "source": [
    "Построим гистограммы и столбчатые диаграммы для визуализации распределения среднего использованного кол-ва минут в месяц."
   ]
  },
  {
   "cell_type": "code",
   "execution_count": 42,
   "metadata": {},
   "outputs": [
    {
     "data": {
      "image/png": "[encoded data removed]",
      "text/plain": [
       "<Figure size 720x432 with 1 Axes>"
      ]
     },
     "metadata": {
      "needs_background": "light"
     },
     "output_type": "display_data"
    }
   ],
   "source": [
    "plt.figure(figsize=(10,6))\n",
    "plt.hist(data_smart['duration_sum'],  bins=50, color='blue', edgecolor='grey', alpha=0.5, label = 'smart', density = False)\n",
    "plt.hist(data_ultra['duration_sum'],  bins=50, color='orange', edgecolor='grey', alpha=0.5,label = 'ultra', density = False)\n",
    "plt.legend()\n",
    "plt.title('Среднее количество минут')\n",
    "plt.ylabel('количество абонентов (в месяц)')\n",
    "plt.xlabel('сумма минут в месяц')\n",
    "plt.show()"
   ]
  },
  {
   "cell_type": "code",
   "execution_count": 43,
   "metadata": {
    "scrolled": false
   },
   "outputs": [
    {
     "data": {
      "text/plain": [
       "<AxesSubplot:title={'center':'Средняя длительность звонков в тарифе Smart'}, xlabel='month'>"
      ]
     },
     "execution_count": 43,
     "metadata": {},
     "output_type": "execute_result"
    },
    {
     "data": {
      "image/png": "[encoded data removed]",
      "text/plain": [
       "<Figure size 720x504 with 1 Axes>"
      ]
     },
     "metadata": {
      "needs_background": "light"
     },
     "output_type": "display_data"
    }
   ],
   "source": [
    "data_smart.pivot_table(index='month', values='duration_sum', aggfunc='mean').plot(y='duration_sum',\n",
    "                                                                                  kind='bar',\n",
    "                                                                                  rot=0,\n",
    "                                                                                  title='Средняя длительность звонков в тарифе Smart',\n",
    "                                                                                  figsize=(10, 7))"
   ]
  },
  {
   "cell_type": "code",
   "execution_count": 44,
   "metadata": {},
   "outputs": [
    {
     "data": {
      "text/plain": [
       "<AxesSubplot:title={'center':'Средняя длительность звонков в тарифе Ultra'}, xlabel='month'>"
      ]
     },
     "execution_count": 44,
     "metadata": {},
     "output_type": "execute_result"
    },
    {
     "data": {
      "image/png": "[encoded data removed]",
      "text/plain": [
       "<Figure size 720x504 with 1 Axes>"
      ]
     },
     "metadata": {
      "needs_background": "light"
     },
     "output_type": "display_data"
    }
   ],
   "source": [
    "data_ultra.pivot_table(index='month', values='duration_sum', aggfunc='mean').plot(y='duration_sum',\n",
    "                                                                                  kind='bar',\n",
    "                                                                                  rot=0,\n",
    "                                                                                  title='Средняя длительность звонков в тарифе Ultra',\n",
    "                                                                                  figsize=(10, 7))"
   ]
  },
  {
   "cell_type": "markdown",
   "metadata": {},
   "source": [
    "#### Боксплоты для анализа длительности звонков"
   ]
  },
  {
   "cell_type": "markdown",
   "metadata": {},
   "source": [
    "Построим боксплоты для статистического анализа имеющихся данных по кол-ву использованных минут в месяц для разных тарифов"
   ]
  },
  {
   "cell_type": "code",
   "execution_count": 45,
   "metadata": {},
   "outputs": [
    {
     "data": {
      "text/plain": [
       "[Text(0.5, 1.0, 'Распределение длительности звонков для разных тарифов')]"
      ]
     },
     "execution_count": 45,
     "metadata": {},
     "output_type": "execute_result"
    },
    {
     "data": {
      "image/png": "[encoded data removed]",
      "text/plain": [
       "<Figure size 720x720 with 1 Axes>"
      ]
     },
     "metadata": {
      "needs_background": "light"
     },
     "output_type": "display_data"
    }
   ],
   "source": [
    "data.boxplot(column='duration_sum', by='tariff_name', figsize=(10, 10)).set(title='Распределение длительности звонков для разных тарифов',)"
   ]
  },
  {
   "cell_type": "markdown",
   "metadata": {},
   "source": [
    "#### Статистические показатели длительности звонков"
   ]
  },
  {
   "cell_type": "markdown",
   "metadata": {},
   "source": [
    "Посчитаем общие статистические показатели для обоих тарифов"
   ]
  },
  {
   "cell_type": "code",
   "execution_count": 46,
   "metadata": {},
   "outputs": [
    {
     "name": "stdout",
     "output_type": "stream",
     "text": [
      "Среднее требуемое кол-во минут пользователям тарифа Smart 419.4403421882035\n",
      "Среднее требуемое кол-во минут пользователям тарифа Ultra 547.7550158394931\n",
      "Дисперсия использованного кол-ва минут пользователями тарифа Smart 35702.046530995045\n",
      "Дисперсия использованного кол-ва минут пользователями тарифа Ultra 93239.86606512639\n",
      "Стандартное отклонение использованного кол-ва минут пользователями тарифа Smart 188.94985189460996\n",
      "Стандартное отклонение использованного кол-ва минут пользователями тарифа Ultra 305.3520362878335\n"
     ]
    }
   ],
   "source": [
    "print('Среднее требуемое кол-во минут пользователям тарифа Smart', data_smart.loc[data_smart['duration_sum'] != 0]['duration_sum'].mean())\n",
    "print('Среднее требуемое кол-во минут пользователям тарифа Ultra', data_ultra.loc[data_ultra['duration_sum'] != 0]['duration_sum'].mean())\n",
    "print('Дисперсия использованного кол-ва минут пользователями тарифа Smart', np.var(data_smart.loc[data_smart['duration_sum'] != 0]['duration_sum']))\n",
    "print('Дисперсия использованного кол-ва минут пользователями тарифа Ultra', np.var(data_ultra.loc[data_ultra['duration_sum'] != 0]['duration_sum']))\n",
    "print('Стандартное отклонение использованного кол-ва минут пользователями тарифа Smart', math.sqrt(np.var(data_smart.loc[data_smart['duration_sum'] != 0]['duration_sum'])))\n",
    "print('Стандартное отклонение использованного кол-ва минут пользователями тарифа Ultra', math.sqrt(np.var(data_ultra.loc[data_ultra['duration_sum'] != 0]['duration_sum'])))"
   ]
  },
  {
   "cell_type": "markdown",
   "metadata": {},
   "source": [
    "### Анализ использования пакета сообщений"
   ]
  },
  {
   "cell_type": "markdown",
   "metadata": {},
   "source": [
    "#### Гистограммы распределения кол-ва отправленных сообщений"
   ]
  },
  {
   "cell_type": "markdown",
   "metadata": {},
   "source": [
    "Построим гистограммы и столбчатые диаграммы для визуализации распределения среднего кол-ва отправленных сообщений в месяц."
   ]
  },
  {
   "cell_type": "code",
   "execution_count": 47,
   "metadata": {},
   "outputs": [
    {
     "data": {
      "image/png": "[encoded data removed]",
      "text/plain": [
       "<Figure size 720x432 with 1 Axes>"
      ]
     },
     "metadata": {
      "needs_background": "light"
     },
     "output_type": "display_data"
    }
   ],
   "source": [
    "plt.figure(figsize=(10,6))\n",
    "plt.hist(data_smart['messages_count'],  bins=30, color='blue', edgecolor='grey', alpha=0.5, label = 'smart', density = False)\n",
    "plt.hist(data_ultra['messages_count'],  bins=30, color='orange', edgecolor='grey', alpha=0.5,label = 'ultra', density = False)\n",
    "plt.legend()\n",
    "plt.title('Среднее количество сообщений')\n",
    "plt.ylabel('количество абонентов (в месяц)')\n",
    "plt.xlabel('количество отправленных сообщений(в месяц)')\n",
    "plt.show()"
   ]
  },
  {
   "cell_type": "code",
   "execution_count": 48,
   "metadata": {},
   "outputs": [
    {
     "data": {
      "text/plain": [
       "<AxesSubplot:title={'center':'Среднее количество сообщений по месяцам в тарифе Smart'}, xlabel='month'>"
      ]
     },
     "execution_count": 48,
     "metadata": {},
     "output_type": "execute_result"
    },
    {
     "data": {
      "image/png": "[encoded data removed]",
      "text/plain": [
       "<Figure size 720x504 with 1 Axes>"
      ]
     },
     "metadata": {
      "needs_background": "light"
     },
     "output_type": "display_data"
    }
   ],
   "source": [
    "data_smart.pivot_table(index='month', values='messages_count', aggfunc='mean').plot(y='messages_count',\n",
    "                                                                                  kind='bar',\n",
    "                                                                                  rot=0,\n",
    "                                                                                  title='Среднее количество сообщений по месяцам в тарифе Smart',\n",
    "                                                                                  figsize=(10, 7))"
   ]
  },
  {
   "cell_type": "code",
   "execution_count": 49,
   "metadata": {},
   "outputs": [
    {
     "data": {
      "text/plain": [
       "<AxesSubplot:title={'center':'Среднее количество сообщений по месяцам в тарифе Ultra'}, xlabel='month'>"
      ]
     },
     "execution_count": 49,
     "metadata": {},
     "output_type": "execute_result"
    },
    {
     "data": {
      "image/png": "[encoded data removed]",
      "text/plain": [
       "<Figure size 720x504 with 1 Axes>"
      ]
     },
     "metadata": {
      "needs_background": "light"
     },
     "output_type": "display_data"
    }
   ],
   "source": [
    "data_ultra.pivot_table(index='month', values='messages_count', aggfunc='mean').plot(y='messages_count',\n",
    "                                                                                  kind='bar',\n",
    "                                                                                  rot=0,\n",
    "                                                                                  title='Среднее количество сообщений по месяцам в тарифе Ultra',\n",
    "                                                                                  figsize=(10, 7))"
   ]
  },
  {
   "cell_type": "markdown",
   "metadata": {},
   "source": [
    "#### Боксплоты для анализа кол-ва отправленных сообщений"
   ]
  },
  {
   "cell_type": "markdown",
   "metadata": {},
   "source": [
    "Построим боксплоты для статистического анализа имеющихся данных по кол-ву отправленных сообщений в месяц для разных тарифов"
   ]
  },
  {
   "cell_type": "code",
   "execution_count": 50,
   "metadata": {},
   "outputs": [
    {
     "data": {
      "text/plain": [
       "[Text(0.5, 1.0, 'Распределение количества сообщений для разных тарифов')]"
      ]
     },
     "execution_count": 50,
     "metadata": {},
     "output_type": "execute_result"
    },
    {
     "data": {
      "image/png": "[encoded data removed]",
      "text/plain": [
       "<Figure size 720x720 with 1 Axes>"
      ]
     },
     "metadata": {
      "needs_background": "light"
     },
     "output_type": "display_data"
    }
   ],
   "source": [
    "data.boxplot(column='messages_count', by='tariff_name', figsize=(10, 10)).set(title='Распределение количества сообщений для разных тарифов',)"
   ]
  },
  {
   "cell_type": "markdown",
   "metadata": {},
   "source": [
    "#### Статистические показатели кол-ва отправленных сообщений"
   ]
  },
  {
   "cell_type": "markdown",
   "metadata": {},
   "source": [
    "Посчитаем общие статистические показатели для обоих тарифов"
   ]
  },
  {
   "cell_type": "code",
   "execution_count": 51,
   "metadata": {},
   "outputs": [
    {
     "name": "stdout",
     "output_type": "stream",
     "text": [
      "Среднее требуемое кол-во сообщений пользователям тарифа Smart 38.71644120707596\n",
      "Среднее требуемое кол-во сообщений пользователям тарифа Ultra 61.161006289308176\n",
      "Дисперсия использованного кол-ва сообщений пользователями тарифа Smart 717.220843110225\n",
      "Дисперсия использованного кол-ва сообщений пользователями тарифа Ultra 2107.005523515689\n",
      "Стандартное отклонение использованного кол-ва сообщений пользователями тарифа Smart 26.78097912904278\n",
      "Стандартное отклонение использованного кол-ва сообщений пользователями тарифа Ultra 45.902129836377846\n"
     ]
    }
   ],
   "source": [
    "print('Среднее требуемое кол-во сообщений пользователям тарифа Smart', data_smart.loc[data_smart['messages_count'] != 0]['messages_count'].mean())\n",
    "print('Среднее требуемое кол-во сообщений пользователям тарифа Ultra', data_ultra.loc[data_ultra['messages_count'] != 0]['messages_count'].mean())\n",
    "print('Дисперсия использованного кол-ва сообщений пользователями тарифа Smart', np.var(data_smart.loc[data_smart['messages_count'] != 0]['messages_count']))\n",
    "print('Дисперсия использованного кол-ва сообщений пользователями тарифа Ultra', np.var(data_ultra.loc[data_ultra['messages_count'] != 0]['messages_count']))\n",
    "print('Стандартное отклонение использованного кол-ва сообщений пользователями тарифа Smart', math.sqrt(np.var(data_smart.loc[data_smart['messages_count'] != 0]['messages_count'])))\n",
    "print('Стандартное отклонение использованного кол-ва сообщений пользователями тарифа Ultra', math.sqrt(np.var(data_ultra.loc[data_ultra['messages_count'] != 0]['messages_count'])))"
   ]
  },
  {
   "cell_type": "markdown",
   "metadata": {},
   "source": [
    "### Анализ использования пакета интернет трафика"
   ]
  },
  {
   "cell_type": "markdown",
   "metadata": {},
   "source": [
    "#### Гистограммы использования интернет-трафика"
   ]
  },
  {
   "cell_type": "markdown",
   "metadata": {},
   "source": [
    "Построим гистограммы и столбчатые диаграммы для визуализации распределения среднего объема использованного интернет-трафика в месяц."
   ]
  },
  {
   "cell_type": "code",
   "execution_count": 52,
   "metadata": {},
   "outputs": [
    {
     "data": {
      "image/png": "[encoded data removed]",
      "text/plain": [
       "<Figure size 720x432 with 1 Axes>"
      ]
     },
     "metadata": {
      "needs_background": "light"
     },
     "output_type": "display_data"
    }
   ],
   "source": [
    "plt.figure(figsize=(10,6))\n",
    "plt.hist(data_smart['sum_mb_used'],  bins=50, color='blue', edgecolor='grey', alpha=0.5, label = 'smart', density = False)\n",
    "plt.hist(data_ultra['sum_mb_used'],  bins=50, color='orange', edgecolor='grey', alpha=0.5,label = 'ultra', density = False)\n",
    "plt.legend()\n",
    "plt.title('Средний объем использованного интернет-трафика минут')\n",
    "plt.ylabel('количество абонентов (в месяц)')\n",
    "plt.xlabel('объем использованного интернет-трафика (в месяц)')\n",
    "plt.show()"
   ]
  },
  {
   "cell_type": "code",
   "execution_count": 53,
   "metadata": {},
   "outputs": [
    {
     "data": {
      "text/plain": [
       "<AxesSubplot:title={'center':'Средний используемый объем интернет-траффика по месяцам в тарифе Smart'}, xlabel='month'>"
      ]
     },
     "execution_count": 53,
     "metadata": {},
     "output_type": "execute_result"
    },
    {
     "data": {
      "image/png": "[encoded data removed]",
      "text/plain": [
       "<Figure size 720x504 with 1 Axes>"
      ]
     },
     "metadata": {
      "needs_background": "light"
     },
     "output_type": "display_data"
    }
   ],
   "source": [
    "data_smart.pivot_table(index='month', values='sum_mb_used', aggfunc='mean').plot(y='sum_mb_used',\n",
    "                                                                                  kind='bar',\n",
    "                                                                                  rot=0,\n",
    "                                                                                  title='Средний используемый объем интернет-траффика по месяцам в тарифе Smart',\n",
    "                                                                                  figsize=(10, 7))"
   ]
  },
  {
   "cell_type": "code",
   "execution_count": 54,
   "metadata": {},
   "outputs": [
    {
     "data": {
      "text/plain": [
       "<AxesSubplot:title={'center':'Средний используемый объем интернет-траффика по месяцам в тарифе Ultra'}, xlabel='month'>"
      ]
     },
     "execution_count": 54,
     "metadata": {},
     "output_type": "execute_result"
    },
    {
     "data": {
      "image/png": "[encoded data removed]",
      "text/plain": [
       "<Figure size 720x504 with 1 Axes>"
      ]
     },
     "metadata": {
      "needs_background": "light"
     },
     "output_type": "display_data"
    }
   ],
   "source": [
    "data_ultra.pivot_table(index='month', values='sum_mb_used', aggfunc='mean').plot(y='sum_mb_used',\n",
    "                                                                                  kind='bar',\n",
    "                                                                                  rot=0,\n",
    "                                                                                  title='Средний используемый объем интернет-траффика по месяцам в тарифе Ultra',\n",
    "                                                                                  figsize=(10, 7))"
   ]
  },
  {
   "cell_type": "markdown",
   "metadata": {},
   "source": [
    "#### Боксплоты для анализа объема использованного интернет трафика"
   ]
  },
  {
   "cell_type": "markdown",
   "metadata": {},
   "source": [
    "Построим боксплоты для статистического анализа имеющихся данных по объему использованного интернет-трафика в месяц для разных тарифов"
   ]
  },
  {
   "cell_type": "code",
   "execution_count": 55,
   "metadata": {
    "scrolled": false
   },
   "outputs": [
    {
     "data": {
      "text/plain": [
       "[Text(0.5, 1.0, 'Распределение использования интернет трафика для разных тарифов')]"
      ]
     },
     "execution_count": 55,
     "metadata": {},
     "output_type": "execute_result"
    },
    {
     "data": {
      "image/png": "[encoded data removed]",
      "text/plain": [
       "<Figure size 720x720 with 1 Axes>"
      ]
     },
     "metadata": {
      "needs_background": "light"
     },
     "output_type": "display_data"
    }
   ],
   "source": [
    "data.boxplot(column='sum_mb_used', by='tariff_name', figsize=(10, 10)).set(title='Распределение использования интернет трафика для разных тарифов',)"
   ]
  },
  {
   "cell_type": "markdown",
   "metadata": {},
   "source": [
    "#### Статистические показатели объема использованного интернет-трафика"
   ]
  },
  {
   "cell_type": "markdown",
   "metadata": {},
   "source": [
    "Посчитаем общие статистические показатели для обоих тарифов"
   ]
  },
  {
   "cell_type": "code",
   "execution_count": 56,
   "metadata": {},
   "outputs": [
    {
     "name": "stdout",
     "output_type": "stream",
     "text": [
      "Среднее требуемое кол-во объема интернет трафика пользователям тарифа Smart 16223.430175123485\n",
      "Среднее требуемое кол-во объема интернет трафика пользователям тарифа Ultra 19689.187885010266\n",
      "Дисперсия использованного кол-ва объема интернет трафика пользователями тарифа Smart 34241878.25679938\n",
      "Дисперсия использованного кол-ва объема интернет трафика пользователями тарифа Ultra 98466991.17722502\n",
      "Стандартное отклонение использованного кол-ва объема интернет трафика пользователями тарифа Smart 5851.656026869606\n",
      "Стандартное отклонение использованного кол-ва объема интернет трафика пользователями тарифа Ultra 9923.053520828405\n"
     ]
    }
   ],
   "source": [
    "print('Среднее требуемое кол-во объема интернет трафика пользователям тарифа Smart', data_smart.loc[data_smart['sum_mb_used'] != 0]['sum_mb_used'].mean())\n",
    "print('Среднее требуемое кол-во объема интернет трафика пользователям тарифа Ultra', data_ultra.loc[data_ultra['sum_mb_used'] != 0]['sum_mb_used'].mean())\n",
    "print('Дисперсия использованного кол-ва объема интернет трафика пользователями тарифа Smart', np.var(data_smart.loc[data_smart['sum_mb_used'] != 0]['sum_mb_used']))\n",
    "print('Дисперсия использованного кол-ва объема интернет трафика пользователями тарифа Ultra', np.var(data_ultra.loc[data_ultra['sum_mb_used'] != 0]['sum_mb_used']))\n",
    "print('Стандартное отклонение использованного кол-ва объема интернет трафика пользователями тарифа Smart', math.sqrt(np.var(data_smart.loc[data_smart['sum_mb_used'] != 0]['sum_mb_used'])))\n",
    "print('Стандартное отклонение использованного кол-ва объема интернет трафика пользователями тарифа Ultra', math.sqrt(np.var(data_ultra.loc[data_ultra['sum_mb_used'] != 0]['sum_mb_used'])))"
   ]
  },
  {
   "cell_type": "markdown",
   "metadata": {},
   "source": [
    "### Выводы по результатам анализа"
   ]
  },
  {
   "cell_type": "markdown",
   "metadata": {},
   "source": [
    "Изучив полученные данные можно сделать следующие выводы:\n",
    "\n",
    "**Анализ длительности звонков**\n",
    "\n",
    "- Чаще всего для тарифа Smart в месяц в среднем используется около 450 минут \n",
    "- Чаще всего для тарифа Ultra в месяц в среднем используется около 580 минут\n",
    "- Медианное значение длительности звонока в тарифе Ultra больше, чем в тарифе Smart\n",
    "- Межквартильное расстояние у тарифа Ultra также больше\n",
    "- Минимумы у обоих тарифов равны, а вот максимум больше у тарифа Ultra \n",
    "- Среди данных по тарифу Smart гораздо чаще присутствуют выбросы\n",
    "- Среднее использованное кол-во минут в тарифе Ultra больше, чем в тарифе Smart\n",
    "- Дисперсия использованного кол-ва минут в тарифе Ultra в 3 раза больше, чем в тарифе Smart\n",
    "- Стандартное отклонение использованного кол-ва минут в тарифе Ultra в 2 раза больше, чем в тарифе Smart\n",
    "\n",
    "**Анализ количества сообщений**\n",
    "\n",
    "- Чаще всего для тарифа Smart в месяц в среднем отправляется около 38 сообщений \n",
    "- Чаще всего для тарифа Ultra в месяц в среднем отправляется около от 45-55 до 60 и 70+ сообщений\n",
    "- Медианное значение кол-во отправленных сообщений в тарифе Ultra больше, чем в тарифе Smart\n",
    "- Межквартильное расстояние у тарифа Ultra также больше\n",
    "- Минимумы у обоих тарифов равны, а вот максимум больше у тарифа Ultra \n",
    "- Среди данных по тарифу Smart гораздо чаще присутствуют выбросы\n",
    "- Среднее кол-во отправленных сообщений в тарифе Ultra больше, чем в тарифе Smart\n",
    "- Дисперсия кол-ва отправленных сообщений в тарифе Ultra в почти 3 раза больше, чем в тарифе Smart\n",
    "- Стандартное отклонение кол-ва отправленных сообщений в тарифе Ultra в почти 2 раза больше, чем в тарифе Smart\n",
    "\n",
    "**Анализ объема Интернет-траффика**\n",
    "\n",
    "- Чаще всего для тарифа Smart в месяц в среднем используется около 15800-16600 мб\n",
    "- Чаще всего для тарифа Ultra в месяц в среднем используется около 20000 мб\n",
    "- Медианное значение кол-во отправленных сообщений в тарифе Ultra больше, чем в тарифе Smart\n",
    "- Межквартильное расстояние у тарифа Ultra также больше\n",
    "- Минимум у тарифа Smart больше, а вот максимум больше у тарифа Ultra \n",
    "- Среди данных по тарифу Smart гораздо чаще присутствуют выбросы\n",
    "- Средний объем использованного интернет-трафика в тарифе Ultra больше, чем в тарифе Smart\n",
    "- Дисперсия объема использованного интернет-трафика в тарифе Ultra в почти 3 раза больше, чем в тарифе Smart\n",
    "- Стандартное отклонение объема использованного интернет-трафика в тарифе Ultra в почти 2 раза больше, чем в тарифе Smart\n"
   ]
  },
  {
   "cell_type": "markdown",
   "metadata": {},
   "source": [
    "## Проверка гипотез"
   ]
  },
  {
   "cell_type": "markdown",
   "metadata": {},
   "source": [
    "Поскольку мы проводим анализ лишь по небольшой выборке клиентов, а значит не имеем всей генеральной совокупности, то для проверки гипотез будем использовать t-тест."
   ]
  },
  {
   "cell_type": "markdown",
   "metadata": {},
   "source": [
    "### Проверка первой гипотезы"
   ]
  },
  {
   "cell_type": "markdown",
   "metadata": {},
   "source": [
    "Гипотеза №1:\n",
    "\n",
    "- средняя выручка пользователей тарифов «Ультра» и «Смарт» различаются;\n"
   ]
  },
  {
   "cell_type": "markdown",
   "metadata": {},
   "source": [
    "Для того, чтобы проверить данную гипотезу, определим составим списки с выручками пользователей каждого из тарифов"
   ]
  },
  {
   "cell_type": "code",
   "execution_count": 57,
   "metadata": {},
   "outputs": [],
   "source": [
    "data_income_month_list_smart = data_smart['monthly_income'].values.tolist()"
   ]
  },
  {
   "cell_type": "code",
   "execution_count": 58,
   "metadata": {},
   "outputs": [],
   "source": [
    "data_income_month_list_ultra = data_ultra['monthly_income'].values.tolist()"
   ]
  },
  {
   "cell_type": "markdown",
   "metadata": {},
   "source": [
    "Сформулируем нулевую и альтернативую гипотезу:\n",
    "\n",
    "- Нулевая гипотеза: средние выручки пользователей тарифов «Ультра» и «Смарт» равны\n",
    "- Альтернативная гипотеза: средние выручки пользователей тарифов «Ультра» и «Смарт» не равны\n",
    "\n",
    "Так, при невозможности отбросить нулевую гипотезу, наша Гипотеза №1 будет не подтверждена, а при отбрасывании нулевой гипотезы мы сможем утверждать о значимом различии между выручкой пользователей разных тарифов"
   ]
  },
  {
   "cell_type": "markdown",
   "metadata": {},
   "source": [
    "Зададим уровень значимости в 1%"
   ]
  },
  {
   "cell_type": "code",
   "execution_count": 59,
   "metadata": {},
   "outputs": [],
   "source": [
    "alpha = .01"
   ]
  },
  {
   "cell_type": "code",
   "execution_count": 60,
   "metadata": {},
   "outputs": [],
   "source": [
    "results = st.ttest_ind(\n",
    "    data_income_month_list_ultra,\n",
    "    data_income_month_list_smart)"
   ]
  },
  {
   "cell_type": "code",
   "execution_count": 61,
   "metadata": {},
   "outputs": [
    {
     "name": "stdout",
     "output_type": "stream",
     "text": [
      "p-значение: 1.4229814360764067e-160\n",
      "Отвергаем нулевую гипотезу\n"
     ]
    }
   ],
   "source": [
    "print('p-значение:', results.pvalue)\n",
    "\n",
    "if results.pvalue < alpha:\n",
    "    print(\"Отвергаем нулевую гипотезу\")\n",
    "else:\n",
    "    print(\"Не получилось отвергнуть нулевую гипотезу\") "
   ]
  },
  {
   "cell_type": "markdown",
   "metadata": {},
   "source": [
    "Значение pvalue = 0 можно получить только когда данные очень сильно различаются. Нулевую гипотезу, гласящую о том, что средние выручки пользователей тарифов \"Смарт\" и \"Ультра\" равны, мы отбрасываем. Теперь можно утверждать, что между средними выручками клиентов рассматриваемых тарифов присутствует значительное различие"
   ]
  },
  {
   "cell_type": "markdown",
   "metadata": {},
   "source": [
    "### Проверка второй гипотезы"
   ]
  },
  {
   "cell_type": "markdown",
   "metadata": {},
   "source": [
    "Гипотеза №2:\n",
    "\n",
    "- средняя выручка пользователей из Москвы отличается от выручки пользователей из других регионов;"
   ]
  },
  {
   "cell_type": "markdown",
   "metadata": {},
   "source": [
    "Сгруппируем записи нашего датасета в зависмости от города"
   ]
  },
  {
   "cell_type": "code",
   "execution_count": 62,
   "metadata": {},
   "outputs": [],
   "source": [
    "data_msk = data.query('city == \"Москва\"')\n",
    "data_not_msk = data.query('city != \"Москва\"')"
   ]
  },
  {
   "cell_type": "markdown",
   "metadata": {},
   "source": [
    "Оценим размеры выборок"
   ]
  },
  {
   "cell_type": "code",
   "execution_count": 63,
   "metadata": {},
   "outputs": [
    {
     "name": "stdout",
     "output_type": "stream",
     "text": [
      "611\n"
     ]
    }
   ],
   "source": [
    "print(data_msk.shape[0])"
   ]
  },
  {
   "cell_type": "code",
   "execution_count": 64,
   "metadata": {
    "scrolled": true
   },
   "outputs": [
    {
     "name": "stdout",
     "output_type": "stream",
     "text": [
      "2603\n"
     ]
    }
   ],
   "source": [
    "print(data_not_msk.shape[0])"
   ]
  },
  {
   "cell_type": "markdown",
   "metadata": {},
   "source": [
    "Выборки большие, но сильно отличаются по размеру, также в Москве другой тип клиентов по уровню платежеспособности и потебностям в функционале тарифа, что тоже может сказаться на дисперсии выборки, понадобится параметр equal_var = False."
   ]
  },
  {
   "cell_type": "markdown",
   "metadata": {},
   "source": [
    "Сформулируем нулевую и альтернативую гипотезу:\n",
    "\n",
    "- Нулевая гипотеза: средняя выручка пользователей из Москвы равна от выручке пользователей из других регионов\n",
    "- Альтернативная гипотеза: средняя выручка пользователей из Москвы не равна от выручке пользователей из других регионов\n",
    "\n",
    "Так, при невозможности отбросить нулевую гипотезу, наша Гипотеза №2 будет не подтверждена, а при отбрасывании нулевой гипотезы мы сможем утверждать о значимом различии между выручкой пользователей из Москвы и других регионов."
   ]
  },
  {
   "cell_type": "code",
   "execution_count": 65,
   "metadata": {},
   "outputs": [],
   "source": [
    "data_income_msk_list = data_msk['monthly_income'].values.tolist()"
   ]
  },
  {
   "cell_type": "code",
   "execution_count": 66,
   "metadata": {},
   "outputs": [],
   "source": [
    "data_income_not_msk_list = data_not_msk['monthly_income'].values.tolist()"
   ]
  },
  {
   "cell_type": "code",
   "execution_count": 67,
   "metadata": {},
   "outputs": [],
   "source": [
    "results = st.ttest_ind(\n",
    "    data_income_msk_list,\n",
    "    data_income_not_msk_list, equal_var=False)"
   ]
  },
  {
   "cell_type": "code",
   "execution_count": 68,
   "metadata": {},
   "outputs": [
    {
     "name": "stdout",
     "output_type": "stream",
     "text": [
      "p-значение: 0.5257376663729298\n",
      "Не получилось отвергнуть нулевую гипотезу\n"
     ]
    }
   ],
   "source": [
    "print('p-значение:', results.pvalue)\n",
    "\n",
    "if results.pvalue < alpha:\n",
    "    print(\"Отвергаем нулевую гипотезу\")\n",
    "else:\n",
    "    print(\"Не получилось отвергнуть нулевую гипотезу\") "
   ]
  },
  {
   "cell_type": "markdown",
   "metadata": {},
   "source": [
    "Нулевую гипотезу отбросить не получилось, следовательно мы можем утверждать о том, что между средней выручкой клиентов из Москвы и клиентов из других городов нет значимых различий, а значит Гипотеза №2 не подтверждена."
   ]
  },
  {
   "cell_type": "markdown",
   "metadata": {},
   "source": [
    "### Сравнение тарифов"
   ]
  },
  {
   "cell_type": "markdown",
   "metadata": {},
   "source": [
    "Тариф \"Смарт\""
   ]
  },
  {
   "cell_type": "code",
   "execution_count": 69,
   "metadata": {},
   "outputs": [
    {
     "data": {
      "text/plain": [
       "1289.9735307312696"
      ]
     },
     "execution_count": 69,
     "metadata": {},
     "output_type": "execute_result"
    }
   ],
   "source": [
    "np.mean(data_income_month_list_smart)"
   ]
  },
  {
   "cell_type": "code",
   "execution_count": 70,
   "metadata": {},
   "outputs": [
    {
     "data": {
      "text/plain": [
       "669485.2209234245"
      ]
     },
     "execution_count": 70,
     "metadata": {},
     "output_type": "execute_result"
    }
   ],
   "source": [
    "np.var(data_income_month_list_smart)"
   ]
  },
  {
   "cell_type": "code",
   "execution_count": 71,
   "metadata": {},
   "outputs": [
    {
     "data": {
      "text/plain": [
       "818.2207653949051"
      ]
     },
     "execution_count": 71,
     "metadata": {},
     "output_type": "execute_result"
    }
   ],
   "source": [
    "math.sqrt(np.var(data_income_month_list_smart))"
   ]
  },
  {
   "cell_type": "code",
   "execution_count": 72,
   "metadata": {},
   "outputs": [
    {
     "data": {
      "text/plain": [
       "2229"
      ]
     },
     "execution_count": 72,
     "metadata": {},
     "output_type": "execute_result"
    }
   ],
   "source": [
    "len(data_income_month_list_smart)"
   ]
  },
  {
   "cell_type": "code",
   "execution_count": 73,
   "metadata": {},
   "outputs": [
    {
     "data": {
      "text/plain": [
       "2875351.0"
      ]
     },
     "execution_count": 73,
     "metadata": {},
     "output_type": "execute_result"
    }
   ],
   "source": [
    "np.sum(data_income_month_list_smart)"
   ]
  },
  {
   "cell_type": "markdown",
   "metadata": {},
   "source": [
    "Тариф \"Ультра\""
   ]
  },
  {
   "cell_type": "code",
   "execution_count": 74,
   "metadata": {
    "scrolled": true
   },
   "outputs": [
    {
     "data": {
      "text/plain": [
       "2070.1522842639592"
      ]
     },
     "execution_count": 74,
     "metadata": {},
     "output_type": "execute_result"
    }
   ],
   "source": [
    "np.mean(data_income_month_list_ultra)"
   ]
  },
  {
   "cell_type": "code",
   "execution_count": 75,
   "metadata": {},
   "outputs": [
    {
     "data": {
      "text/plain": [
       "141373.07325620347"
      ]
     },
     "execution_count": 75,
     "metadata": {},
     "output_type": "execute_result"
    }
   ],
   "source": [
    "np.var(data_income_month_list_ultra)"
   ]
  },
  {
   "cell_type": "code",
   "execution_count": 76,
   "metadata": {},
   "outputs": [
    {
     "data": {
      "text/plain": [
       "375.9961080333192"
      ]
     },
     "execution_count": 76,
     "metadata": {},
     "output_type": "execute_result"
    }
   ],
   "source": [
    "math.sqrt(np.var(data_income_month_list_ultra))"
   ]
  },
  {
   "cell_type": "code",
   "execution_count": 77,
   "metadata": {},
   "outputs": [
    {
     "data": {
      "text/plain": [
       "985"
      ]
     },
     "execution_count": 77,
     "metadata": {},
     "output_type": "execute_result"
    }
   ],
   "source": [
    "len(data_income_month_list_ultra)"
   ]
  },
  {
   "cell_type": "code",
   "execution_count": 78,
   "metadata": {},
   "outputs": [
    {
     "data": {
      "text/plain": [
       "2039100.0"
      ]
     },
     "execution_count": 78,
     "metadata": {},
     "output_type": "execute_result"
    }
   ],
   "source": [
    "np.sum(data_income_month_list_ultra)"
   ]
  },
  {
   "cell_type": "markdown",
   "metadata": {},
   "source": [
    "## Общий вывод"
   ]
  },
  {
   "cell_type": "markdown",
   "metadata": {},
   "source": [
    "В ходе проведенного исследования были получены следующие выводы:\n",
    "\n",
    "- Гипотеза о различии средней выручки клиентов тарифов \"Смарт\" и \"Ультра\" подтверждена\n",
    "- Гипотеза о различии средней выручки клиентов из Москвы и других городов не подтверждена\n",
    "* Среднее требуемое кол-во минут пользователям тарифа Smart: примерно 400 минут в месяц\n",
    "* Среднее требуемое кол-во минут пользователям тарифа Ultra: примерно 580 минут в месяц\n",
    "* Среднее требуемое кол-во сообщений пользователям тарифа Smart: примерно 39 штук в месяц\n",
    "* Среднее требуемое кол-во сообщений пользователям тарифа Ultra: примерно 69 штук в месяц\n",
    "* Средний требуемый объем интернет трафика пользователям тарифа Smart: примерно 16000 мб в месяц\n",
    "* Средний требуемый объем интернет трафика пользователям тарифа Ultra: примерно 20000 мб в месяц\n",
    "* При выборке в 2 раза меньшей, чем у тарифа \"Смарт\", тариф \"Ультра\" принес в сумме за 2018 год на 800000 рублей меньше, чем его конкурентный тариф. Можно было бы предположить, что увеличь выборку тарифа \"Ультра\" путем привлечения клиентов рекламой, то он одназначно будет лучше для компании, но учитывая величину дисперсии и стандартного отклонения тарифа \"Смарт\", более правильным решением будет выбрать именно его для продвижения рекламной компанией, клиенты чаще будут приносить компании Мегалайн денег значительно больше, чем приносили бы клиенты тарифа \"Ультра\""
   ]
  }
 ],
 "metadata": {
  "ExecuteTimeLog": [
   {
    "duration": 1158,
    "start_time": "2022-05-02T18:42:32.958Z"
   },
   {
    "duration": 2301,
    "start_time": "2022-05-02T18:45:05.950Z"
   },
   {
    "duration": 1300,
    "start_time": "2022-05-02T18:51:30.449Z"
   },
   {
    "duration": 451,
    "start_time": "2022-05-02T18:51:31.751Z"
   },
   {
    "duration": 154,
    "start_time": "2022-05-02T18:51:32.204Z"
   },
   {
    "duration": 98,
    "start_time": "2022-05-02T18:53:13.025Z"
   },
   {
    "duration": 113,
    "start_time": "2022-05-02T18:53:30.735Z"
   },
   {
    "duration": 117,
    "start_time": "2022-05-02T18:53:44.198Z"
   },
   {
    "duration": 1044,
    "start_time": "2022-05-02T19:06:44.320Z"
   },
   {
    "duration": 421,
    "start_time": "2022-05-02T19:06:45.366Z"
   },
   {
    "duration": 124,
    "start_time": "2022-05-02T19:06:45.789Z"
   },
   {
    "duration": 103,
    "start_time": "2022-05-02T19:06:45.914Z"
   },
   {
    "duration": 970,
    "start_time": "2022-05-02T19:08:33.049Z"
   },
   {
    "duration": 433,
    "start_time": "2022-05-02T19:08:34.021Z"
   },
   {
    "duration": 107,
    "start_time": "2022-05-02T19:08:34.456Z"
   },
   {
    "duration": 117,
    "start_time": "2022-05-02T19:08:34.565Z"
   },
   {
    "duration": 13,
    "start_time": "2022-05-02T19:08:49.212Z"
   },
   {
    "duration": 13,
    "start_time": "2022-05-02T19:08:52.798Z"
   },
   {
    "duration": 3,
    "start_time": "2022-05-02T19:11:02.899Z"
   },
   {
    "duration": 1050,
    "start_time": "2022-05-02T19:11:10.998Z"
   },
   {
    "duration": 439,
    "start_time": "2022-05-02T19:11:12.050Z"
   },
   {
    "duration": 124,
    "start_time": "2022-05-02T19:11:12.491Z"
   },
   {
    "duration": 3,
    "start_time": "2022-05-02T19:11:12.617Z"
   },
   {
    "duration": 124,
    "start_time": "2022-05-02T19:11:12.621Z"
   },
   {
    "duration": 216,
    "start_time": "2022-05-02T19:13:47.455Z"
   },
   {
    "duration": 1275,
    "start_time": "2022-05-03T13:38:15.554Z"
   },
   {
    "duration": 501,
    "start_time": "2022-05-03T13:38:16.831Z"
   },
   {
    "duration": 100,
    "start_time": "2022-05-03T13:38:17.334Z"
   },
   {
    "duration": 3,
    "start_time": "2022-05-03T13:38:17.436Z"
   },
   {
    "duration": 137,
    "start_time": "2022-05-03T13:38:17.440Z"
   },
   {
    "duration": 237,
    "start_time": "2022-05-03T13:38:17.579Z"
   },
   {
    "duration": 89,
    "start_time": "2022-05-03T13:39:30.812Z"
   },
   {
    "duration": 147,
    "start_time": "2022-05-03T13:40:35.465Z"
   },
   {
    "duration": 3332,
    "start_time": "2022-05-03T13:41:15.819Z"
   },
   {
    "duration": 76,
    "start_time": "2022-05-03T13:41:31.140Z"
   },
   {
    "duration": 166,
    "start_time": "2022-05-03T13:42:28.162Z"
   },
   {
    "duration": 8,
    "start_time": "2022-05-03T14:33:35.659Z"
   },
   {
    "duration": 58,
    "start_time": "2022-05-03T14:33:45.125Z"
   },
   {
    "duration": 4664,
    "start_time": "2022-05-03T14:36:51.598Z"
   },
   {
    "duration": 1020,
    "start_time": "2022-05-03T14:37:01.454Z"
   },
   {
    "duration": 429,
    "start_time": "2022-05-03T14:37:02.476Z"
   },
   {
    "duration": 117,
    "start_time": "2022-05-03T14:37:02.907Z"
   },
   {
    "duration": 3,
    "start_time": "2022-05-03T14:37:03.026Z"
   },
   {
    "duration": 123,
    "start_time": "2022-05-03T14:37:03.030Z"
   },
   {
    "duration": 221,
    "start_time": "2022-05-03T14:37:03.155Z"
   },
   {
    "duration": 162,
    "start_time": "2022-05-03T14:37:03.377Z"
   },
   {
    "duration": 95,
    "start_time": "2022-05-03T14:37:03.540Z"
   },
   {
    "duration": 107,
    "start_time": "2022-05-03T14:37:03.636Z"
   },
   {
    "duration": 3834,
    "start_time": "2022-05-03T14:37:03.745Z"
   },
   {
    "duration": 3625,
    "start_time": "2022-05-03T14:37:37.707Z"
   },
   {
    "duration": 99,
    "start_time": "2022-05-03T14:38:03.370Z"
   },
   {
    "duration": 8,
    "start_time": "2022-05-03T14:40:26.355Z"
   },
   {
    "duration": 25,
    "start_time": "2022-05-03T14:40:47.699Z"
   },
   {
    "duration": 21,
    "start_time": "2022-05-03T14:40:56.633Z"
   },
   {
    "duration": 10,
    "start_time": "2022-05-03T14:41:23.556Z"
   },
   {
    "duration": 30,
    "start_time": "2022-05-03T14:42:07.734Z"
   },
   {
    "duration": 13,
    "start_time": "2022-05-03T14:42:16.947Z"
   },
   {
    "duration": 3,
    "start_time": "2022-05-03T14:50:32.528Z"
   },
   {
    "duration": 2283,
    "start_time": "2022-05-03T14:51:17.113Z"
   },
   {
    "duration": 15,
    "start_time": "2022-05-03T14:51:32.837Z"
   },
   {
    "duration": 1028,
    "start_time": "2022-05-03T14:52:02.519Z"
   },
   {
    "duration": 402,
    "start_time": "2022-05-03T14:52:03.549Z"
   },
   {
    "duration": 96,
    "start_time": "2022-05-03T14:52:03.952Z"
   },
   {
    "duration": 3,
    "start_time": "2022-05-03T14:52:04.049Z"
   },
   {
    "duration": 123,
    "start_time": "2022-05-03T14:52:04.054Z"
   },
   {
    "duration": 201,
    "start_time": "2022-05-03T14:52:04.179Z"
   },
   {
    "duration": 162,
    "start_time": "2022-05-03T14:52:04.382Z"
   },
   {
    "duration": 89,
    "start_time": "2022-05-03T14:52:04.545Z"
   },
   {
    "duration": 112,
    "start_time": "2022-05-03T14:52:04.635Z"
   },
   {
    "duration": 191,
    "start_time": "2022-05-03T14:52:04.749Z"
   },
   {
    "duration": 34,
    "start_time": "2022-05-03T14:52:04.941Z"
   },
   {
    "duration": 24,
    "start_time": "2022-05-03T14:52:04.977Z"
   },
   {
    "duration": 6,
    "start_time": "2022-05-03T14:52:05.002Z"
   },
   {
    "duration": 2153,
    "start_time": "2022-05-03T14:52:05.009Z"
   },
   {
    "duration": 13,
    "start_time": "2022-05-03T14:52:07.164Z"
   },
   {
    "duration": 2,
    "start_time": "2022-05-03T14:54:12.579Z"
   },
   {
    "duration": 368,
    "start_time": "2022-05-03T14:54:12.585Z"
   },
   {
    "duration": 93,
    "start_time": "2022-05-03T14:54:12.954Z"
   },
   {
    "duration": 3,
    "start_time": "2022-05-03T14:54:13.048Z"
   },
   {
    "duration": 121,
    "start_time": "2022-05-03T14:54:13.052Z"
   },
   {
    "duration": 206,
    "start_time": "2022-05-03T14:54:13.176Z"
   },
   {
    "duration": 140,
    "start_time": "2022-05-03T14:54:13.400Z"
   },
   {
    "duration": 88,
    "start_time": "2022-05-03T14:54:13.542Z"
   },
   {
    "duration": 115,
    "start_time": "2022-05-03T14:54:13.632Z"
   },
   {
    "duration": 198,
    "start_time": "2022-05-03T14:54:13.748Z"
   },
   {
    "duration": 29,
    "start_time": "2022-05-03T14:54:13.948Z"
   },
   {
    "duration": 23,
    "start_time": "2022-05-03T14:54:13.978Z"
   },
   {
    "duration": 3,
    "start_time": "2022-05-03T14:54:14.002Z"
   },
   {
    "duration": 3,
    "start_time": "2022-05-03T14:54:16.697Z"
   },
   {
    "duration": 5800,
    "start_time": "2022-05-03T14:54:17.109Z"
   },
   {
    "duration": 12,
    "start_time": "2022-05-03T14:54:22.910Z"
   },
   {
    "duration": 3,
    "start_time": "2022-05-03T14:57:04.040Z"
   },
   {
    "duration": 150,
    "start_time": "2022-05-03T14:58:20.233Z"
   },
   {
    "duration": 220,
    "start_time": "2022-05-03T14:59:24.572Z"
   },
   {
    "duration": 242,
    "start_time": "2022-05-03T14:59:33.319Z"
   },
   {
    "duration": 287,
    "start_time": "2022-05-03T15:00:10.336Z"
   },
   {
    "duration": 378,
    "start_time": "2022-05-03T15:00:23.050Z"
   },
   {
    "duration": 237,
    "start_time": "2022-05-03T15:00:32.479Z"
   },
   {
    "duration": 123,
    "start_time": "2022-05-03T15:04:27.814Z"
   },
   {
    "duration": 94,
    "start_time": "2022-05-03T15:05:28.636Z"
   },
   {
    "duration": 15,
    "start_time": "2022-05-03T15:05:41.414Z"
   },
   {
    "duration": 3788,
    "start_time": "2022-05-03T15:06:07.791Z"
   },
   {
    "duration": 13,
    "start_time": "2022-05-03T15:07:44.567Z"
   },
   {
    "duration": 1070,
    "start_time": "2022-05-03T15:07:52.490Z"
   },
   {
    "duration": 436,
    "start_time": "2022-05-03T15:07:53.562Z"
   },
   {
    "duration": 123,
    "start_time": "2022-05-03T15:07:54.000Z"
   },
   {
    "duration": 4,
    "start_time": "2022-05-03T15:07:54.126Z"
   },
   {
    "duration": 130,
    "start_time": "2022-05-03T15:07:54.132Z"
   },
   {
    "duration": 2,
    "start_time": "2022-05-03T15:07:54.264Z"
   },
   {
    "duration": 335,
    "start_time": "2022-05-03T15:07:54.268Z"
   },
   {
    "duration": 371,
    "start_time": "2022-05-03T15:07:54.605Z"
   },
   {
    "duration": 233,
    "start_time": "2022-05-03T15:07:54.977Z"
   },
   {
    "duration": 37,
    "start_time": "2022-05-03T15:07:55.212Z"
   },
   {
    "duration": 14,
    "start_time": "2022-05-03T15:07:55.251Z"
   },
   {
    "duration": 4,
    "start_time": "2022-05-03T15:07:55.267Z"
   },
   {
    "duration": 3421,
    "start_time": "2022-05-03T15:07:55.273Z"
   },
   {
    "duration": 0,
    "start_time": "2022-05-03T15:07:58.696Z"
   },
   {
    "duration": 7559,
    "start_time": "2022-05-03T15:11:10.449Z"
   },
   {
    "duration": 13,
    "start_time": "2022-05-03T15:11:23.955Z"
   },
   {
    "duration": 13,
    "start_time": "2022-05-03T15:12:54.520Z"
   },
   {
    "duration": 1201,
    "start_time": "2022-05-03T15:13:04.094Z"
   },
   {
    "duration": 588,
    "start_time": "2022-05-03T15:13:05.297Z"
   },
   {
    "duration": 133,
    "start_time": "2022-05-03T15:13:05.886Z"
   },
   {
    "duration": 3,
    "start_time": "2022-05-03T15:13:06.021Z"
   },
   {
    "duration": 127,
    "start_time": "2022-05-03T15:13:06.027Z"
   },
   {
    "duration": 3,
    "start_time": "2022-05-03T15:13:06.156Z"
   },
   {
    "duration": 248,
    "start_time": "2022-05-03T15:13:06.160Z"
   },
   {
    "duration": 543,
    "start_time": "2022-05-03T15:13:06.412Z"
   },
   {
    "duration": 223,
    "start_time": "2022-05-03T15:13:06.956Z"
   },
   {
    "duration": 43,
    "start_time": "2022-05-03T15:13:07.180Z"
   },
   {
    "duration": 13,
    "start_time": "2022-05-03T15:13:07.225Z"
   },
   {
    "duration": 5,
    "start_time": "2022-05-03T15:13:07.239Z"
   },
   {
    "duration": 7690,
    "start_time": "2022-05-03T15:13:07.245Z"
   },
   {
    "duration": 13,
    "start_time": "2022-05-03T15:13:14.938Z"
   },
   {
    "duration": 176,
    "start_time": "2022-05-03T15:15:50.528Z"
   },
   {
    "duration": 74,
    "start_time": "2022-05-03T15:16:12.563Z"
   },
   {
    "duration": 128,
    "start_time": "2022-05-03T15:16:17.098Z"
   },
   {
    "duration": 131,
    "start_time": "2022-05-03T15:18:29.398Z"
   },
   {
    "duration": 13,
    "start_time": "2022-05-03T15:18:35.038Z"
   },
   {
    "duration": 34,
    "start_time": "2022-05-03T15:18:43.144Z"
   },
   {
    "duration": 83,
    "start_time": "2022-05-03T15:21:07.766Z"
   },
   {
    "duration": 206,
    "start_time": "2022-05-03T15:24:57.103Z"
   },
   {
    "duration": 5,
    "start_time": "2022-05-03T15:26:44.283Z"
   },
   {
    "duration": 3437,
    "start_time": "2022-05-03T15:27:53.989Z"
   },
   {
    "duration": 52,
    "start_time": "2022-05-03T15:28:03.934Z"
   },
   {
    "duration": 61,
    "start_time": "2022-05-03T15:28:51.517Z"
   },
   {
    "duration": 70,
    "start_time": "2022-05-03T15:29:02.917Z"
   },
   {
    "duration": 1028,
    "start_time": "2022-05-03T15:32:35.749Z"
   },
   {
    "duration": 466,
    "start_time": "2022-05-03T15:32:36.779Z"
   },
   {
    "duration": 103,
    "start_time": "2022-05-03T15:32:37.247Z"
   },
   {
    "duration": 3,
    "start_time": "2022-05-03T15:32:37.352Z"
   },
   {
    "duration": 158,
    "start_time": "2022-05-03T15:32:37.357Z"
   },
   {
    "duration": 3,
    "start_time": "2022-05-03T15:32:37.517Z"
   },
   {
    "duration": 228,
    "start_time": "2022-05-03T15:32:37.521Z"
   },
   {
    "duration": 405,
    "start_time": "2022-05-03T15:32:37.751Z"
   },
   {
    "duration": 231,
    "start_time": "2022-05-03T15:32:38.158Z"
   },
   {
    "duration": 36,
    "start_time": "2022-05-03T15:32:38.400Z"
   },
   {
    "duration": 44,
    "start_time": "2022-05-03T15:32:38.438Z"
   },
   {
    "duration": 17,
    "start_time": "2022-05-03T15:32:38.484Z"
   },
   {
    "duration": 9241,
    "start_time": "2022-05-03T15:32:38.503Z"
   },
   {
    "duration": 14,
    "start_time": "2022-05-03T15:32:47.746Z"
   },
   {
    "duration": 90,
    "start_time": "2022-05-03T15:32:47.762Z"
   },
   {
    "duration": 31,
    "start_time": "2022-05-03T15:36:48.344Z"
   },
   {
    "duration": 26,
    "start_time": "2022-05-03T15:42:37.454Z"
   },
   {
    "duration": 29,
    "start_time": "2022-05-03T15:42:49.703Z"
   },
   {
    "duration": 8,
    "start_time": "2022-05-03T15:43:12.830Z"
   },
   {
    "duration": 46,
    "start_time": "2022-05-03T15:44:49.975Z"
   },
   {
    "duration": 140,
    "start_time": "2022-05-03T15:45:04.349Z"
   },
   {
    "duration": 10,
    "start_time": "2022-05-03T15:45:07.169Z"
   },
   {
    "duration": 13,
    "start_time": "2022-05-03T15:45:41.127Z"
   },
   {
    "duration": 13,
    "start_time": "2022-05-03T15:46:15.750Z"
   },
   {
    "duration": 95,
    "start_time": "2022-05-03T15:49:02.900Z"
   },
   {
    "duration": 154,
    "start_time": "2022-05-03T15:49:12.366Z"
   },
   {
    "duration": 371,
    "start_time": "2022-05-03T15:50:09.767Z"
   },
   {
    "duration": 559,
    "start_time": "2022-05-03T15:50:45.278Z"
   },
   {
    "duration": 53,
    "start_time": "2022-05-03T16:03:26.597Z"
   },
   {
    "duration": 14,
    "start_time": "2022-05-03T16:03:45.447Z"
   },
   {
    "duration": 1105,
    "start_time": "2022-05-03T16:04:13.168Z"
   },
   {
    "duration": 496,
    "start_time": "2022-05-03T16:04:14.274Z"
   },
   {
    "duration": 131,
    "start_time": "2022-05-03T16:04:14.772Z"
   },
   {
    "duration": 7,
    "start_time": "2022-05-03T16:04:14.906Z"
   },
   {
    "duration": 145,
    "start_time": "2022-05-03T16:04:14.915Z"
   },
   {
    "duration": 3,
    "start_time": "2022-05-03T16:04:15.062Z"
   },
   {
    "duration": 283,
    "start_time": "2022-05-03T16:04:15.067Z"
   },
   {
    "duration": 427,
    "start_time": "2022-05-03T16:04:15.352Z"
   },
   {
    "duration": 259,
    "start_time": "2022-05-03T16:04:15.781Z"
   },
   {
    "duration": 41,
    "start_time": "2022-05-03T16:04:16.042Z"
   },
   {
    "duration": 68,
    "start_time": "2022-05-03T16:04:16.084Z"
   },
   {
    "duration": 3,
    "start_time": "2022-05-03T16:04:16.154Z"
   },
   {
    "duration": 9683,
    "start_time": "2022-05-03T16:04:16.159Z"
   },
   {
    "duration": 19,
    "start_time": "2022-05-03T16:04:25.844Z"
   },
   {
    "duration": 101,
    "start_time": "2022-05-03T16:04:25.865Z"
   },
   {
    "duration": 49,
    "start_time": "2022-05-03T16:04:25.967Z"
   },
   {
    "duration": 370,
    "start_time": "2022-05-03T16:04:26.018Z"
   },
   {
    "duration": 64,
    "start_time": "2022-05-03T16:04:26.389Z"
   },
   {
    "duration": 15,
    "start_time": "2022-05-03T16:04:26.455Z"
   },
   {
    "duration": 152,
    "start_time": "2022-05-03T16:08:34.222Z"
   },
   {
    "duration": 339,
    "start_time": "2022-05-03T16:09:48.721Z"
   },
   {
    "duration": 358,
    "start_time": "2022-05-03T16:10:02.022Z"
   },
   {
    "duration": 295,
    "start_time": "2022-05-03T16:10:22.390Z"
   },
   {
    "duration": 225,
    "start_time": "2022-05-03T16:13:40.793Z"
   },
   {
    "duration": 1151,
    "start_time": "2022-05-03T16:16:01.308Z"
   },
   {
    "duration": 1288,
    "start_time": "2022-05-03T16:16:02.461Z"
   },
   {
    "duration": 366,
    "start_time": "2022-05-03T16:16:03.751Z"
   },
   {
    "duration": 4,
    "start_time": "2022-05-03T16:16:04.120Z"
   },
   {
    "duration": 244,
    "start_time": "2022-05-03T16:16:04.126Z"
   },
   {
    "duration": 4,
    "start_time": "2022-05-03T16:16:04.371Z"
   },
   {
    "duration": 289,
    "start_time": "2022-05-03T16:16:04.376Z"
   },
   {
    "duration": 469,
    "start_time": "2022-05-03T16:16:04.667Z"
   },
   {
    "duration": 342,
    "start_time": "2022-05-03T16:16:05.138Z"
   },
   {
    "duration": 53,
    "start_time": "2022-05-03T16:16:05.482Z"
   },
   {
    "duration": 76,
    "start_time": "2022-05-03T16:16:05.538Z"
   },
   {
    "duration": 4,
    "start_time": "2022-05-03T16:16:05.616Z"
   },
   {
    "duration": 12191,
    "start_time": "2022-05-03T16:16:05.622Z"
   },
   {
    "duration": 20,
    "start_time": "2022-05-03T16:16:17.817Z"
   },
   {
    "duration": 273,
    "start_time": "2022-05-03T16:16:17.839Z"
   },
   {
    "duration": 26,
    "start_time": "2022-05-03T16:16:18.114Z"
   },
   {
    "duration": 542,
    "start_time": "2022-05-03T16:16:18.142Z"
   },
   {
    "duration": 64,
    "start_time": "2022-05-03T16:16:18.686Z"
   },
   {
    "duration": 14,
    "start_time": "2022-05-03T16:16:18.752Z"
   },
   {
    "duration": 220,
    "start_time": "2022-05-03T16:16:18.767Z"
   },
   {
    "duration": 2028,
    "start_time": "2022-05-03T16:16:18.989Z"
   },
   {
    "duration": 10,
    "start_time": "2022-05-03T16:16:58.816Z"
   },
   {
    "duration": 130,
    "start_time": "2022-05-03T16:17:09.222Z"
   },
   {
    "duration": 5,
    "start_time": "2022-05-03T16:17:11.572Z"
   },
   {
    "duration": 5,
    "start_time": "2022-05-03T16:17:36.437Z"
   },
   {
    "duration": 3750,
    "start_time": "2022-05-03T16:26:31.141Z"
   },
   {
    "duration": 3586,
    "start_time": "2022-05-03T16:26:47.935Z"
   },
   {
    "duration": 195,
    "start_time": "2022-05-03T16:28:58.398Z"
   },
   {
    "duration": 4,
    "start_time": "2022-05-03T16:29:22.521Z"
   },
   {
    "duration": 3,
    "start_time": "2022-05-03T16:29:33.027Z"
   },
   {
    "duration": 10,
    "start_time": "2022-05-03T16:36:10.186Z"
   },
   {
    "duration": 5,
    "start_time": "2022-05-03T16:38:55.443Z"
   },
   {
    "duration": 14,
    "start_time": "2022-05-03T16:39:01.772Z"
   },
   {
    "duration": 3,
    "start_time": "2022-05-03T16:41:54.930Z"
   },
   {
    "duration": 1350,
    "start_time": "2022-05-03T16:46:32.794Z"
   },
   {
    "duration": 608,
    "start_time": "2022-05-03T16:46:34.147Z"
   },
   {
    "duration": 146,
    "start_time": "2022-05-03T16:46:34.757Z"
   },
   {
    "duration": 4,
    "start_time": "2022-05-03T16:46:34.906Z"
   },
   {
    "duration": 173,
    "start_time": "2022-05-03T16:46:34.912Z"
   },
   {
    "duration": 3,
    "start_time": "2022-05-03T16:46:35.087Z"
   },
   {
    "duration": 387,
    "start_time": "2022-05-03T16:46:35.092Z"
   },
   {
    "duration": 569,
    "start_time": "2022-05-03T16:46:35.481Z"
   },
   {
    "duration": 343,
    "start_time": "2022-05-03T16:46:36.051Z"
   },
   {
    "duration": 42,
    "start_time": "2022-05-03T16:46:36.402Z"
   },
   {
    "duration": 71,
    "start_time": "2022-05-03T16:46:36.447Z"
   },
   {
    "duration": 6,
    "start_time": "2022-05-03T16:46:36.520Z"
   },
   {
    "duration": 14108,
    "start_time": "2022-05-03T16:46:36.528Z"
   },
   {
    "duration": 19,
    "start_time": "2022-05-03T16:46:50.638Z"
   },
   {
    "duration": 100,
    "start_time": "2022-05-03T16:46:50.659Z"
   },
   {
    "duration": 49,
    "start_time": "2022-05-03T16:46:50.760Z"
   },
   {
    "duration": 410,
    "start_time": "2022-05-03T16:46:50.811Z"
   },
   {
    "duration": 46,
    "start_time": "2022-05-03T16:46:51.223Z"
   },
   {
    "duration": 14,
    "start_time": "2022-05-03T16:46:51.270Z"
   },
   {
    "duration": 192,
    "start_time": "2022-05-03T16:46:51.301Z"
   },
   {
    "duration": 5,
    "start_time": "2022-05-03T16:46:51.495Z"
   },
   {
    "duration": 24,
    "start_time": "2022-05-03T16:46:51.502Z"
   },
   {
    "duration": 7,
    "start_time": "2022-05-03T16:46:51.528Z"
   },
   {
    "duration": 98,
    "start_time": "2022-05-03T16:46:51.536Z"
   },
   {
    "duration": 0,
    "start_time": "2022-05-03T16:46:51.636Z"
   },
   {
    "duration": 0,
    "start_time": "2022-05-03T16:46:51.636Z"
   },
   {
    "duration": 1688,
    "start_time": "2022-05-03T16:47:03.833Z"
   },
   {
    "duration": 9,
    "start_time": "2022-05-03T16:48:06.117Z"
   },
   {
    "duration": 5,
    "start_time": "2022-05-03T16:48:19.816Z"
   },
   {
    "duration": 12,
    "start_time": "2022-05-03T16:48:26.292Z"
   },
   {
    "duration": 5,
    "start_time": "2022-05-03T16:48:32.317Z"
   },
   {
    "duration": 3304,
    "start_time": "2022-05-03T16:48:47.539Z"
   },
   {
    "duration": 13,
    "start_time": "2022-05-03T16:49:26.662Z"
   },
   {
    "duration": 11,
    "start_time": "2022-05-03T16:49:42.257Z"
   },
   {
    "duration": 5,
    "start_time": "2022-05-03T16:50:14.558Z"
   },
   {
    "duration": 5,
    "start_time": "2022-05-03T16:51:05.862Z"
   },
   {
    "duration": 54399,
    "start_time": "2022-05-03T16:51:10.293Z"
   },
   {
    "duration": 15,
    "start_time": "2022-05-03T16:52:04.695Z"
   },
   {
    "duration": 27,
    "start_time": "2022-05-03T16:52:04.712Z"
   },
   {
    "duration": 14,
    "start_time": "2022-05-03T16:53:23.995Z"
   },
   {
    "duration": 1084,
    "start_time": "2022-05-03T16:55:08.725Z"
   },
   {
    "duration": 555,
    "start_time": "2022-05-03T16:55:09.812Z"
   },
   {
    "duration": 171,
    "start_time": "2022-05-03T16:55:10.370Z"
   },
   {
    "duration": 4,
    "start_time": "2022-05-03T16:55:10.543Z"
   },
   {
    "duration": 171,
    "start_time": "2022-05-03T16:55:10.549Z"
   },
   {
    "duration": 3,
    "start_time": "2022-05-03T16:55:10.722Z"
   },
   {
    "duration": 375,
    "start_time": "2022-05-03T16:55:10.727Z"
   },
   {
    "duration": 411,
    "start_time": "2022-05-03T16:55:11.104Z"
   },
   {
    "duration": 242,
    "start_time": "2022-05-03T16:55:11.517Z"
   },
   {
    "duration": 51,
    "start_time": "2022-05-03T16:55:11.762Z"
   },
   {
    "duration": 41,
    "start_time": "2022-05-03T16:55:11.816Z"
   },
   {
    "duration": 3,
    "start_time": "2022-05-03T16:55:11.858Z"
   },
   {
    "duration": 9815,
    "start_time": "2022-05-03T16:55:11.863Z"
   },
   {
    "duration": 24,
    "start_time": "2022-05-03T16:55:21.680Z"
   },
   {
    "duration": 126,
    "start_time": "2022-05-03T16:55:21.708Z"
   },
   {
    "duration": 20,
    "start_time": "2022-05-03T16:55:21.836Z"
   },
   {
    "duration": 396,
    "start_time": "2022-05-03T16:55:21.858Z"
   },
   {
    "duration": 64,
    "start_time": "2022-05-03T16:55:22.256Z"
   },
   {
    "duration": 14,
    "start_time": "2022-05-03T16:55:22.321Z"
   },
   {
    "duration": 213,
    "start_time": "2022-05-03T16:55:22.337Z"
   },
   {
    "duration": 3,
    "start_time": "2022-05-03T16:55:22.552Z"
   },
   {
    "duration": 10,
    "start_time": "2022-05-03T16:55:22.556Z"
   },
   {
    "duration": 7,
    "start_time": "2022-05-03T16:55:22.568Z"
   },
   {
    "duration": 3798,
    "start_time": "2022-05-03T16:55:22.577Z"
   },
   {
    "duration": 0,
    "start_time": "2022-05-03T16:55:26.376Z"
   },
   {
    "duration": 0,
    "start_time": "2022-05-03T16:55:26.377Z"
   },
   {
    "duration": 97,
    "start_time": "2022-05-03T16:56:13.765Z"
   },
   {
    "duration": 12,
    "start_time": "2022-05-03T16:56:18.072Z"
   },
   {
    "duration": 14,
    "start_time": "2022-05-03T16:56:20.914Z"
   },
   {
    "duration": 4,
    "start_time": "2022-05-03T16:57:51.699Z"
   },
   {
    "duration": 3,
    "start_time": "2022-05-03T16:58:58.757Z"
   },
   {
    "duration": 116,
    "start_time": "2022-05-03T16:59:25.226Z"
   },
   {
    "duration": 9,
    "start_time": "2022-05-03T16:59:42.981Z"
   },
   {
    "duration": 15,
    "start_time": "2022-05-03T16:59:43.773Z"
   },
   {
    "duration": 3,
    "start_time": "2022-05-03T17:00:50.967Z"
   },
   {
    "duration": 3,
    "start_time": "2022-05-03T17:00:52.255Z"
   },
   {
    "duration": 1252,
    "start_time": "2022-05-03T17:00:59.499Z"
   },
   {
    "duration": 513,
    "start_time": "2022-05-03T17:01:00.753Z"
   },
   {
    "duration": 142,
    "start_time": "2022-05-03T17:01:01.268Z"
   },
   {
    "duration": 5,
    "start_time": "2022-05-03T17:01:01.413Z"
   },
   {
    "duration": 161,
    "start_time": "2022-05-03T17:01:01.421Z"
   },
   {
    "duration": 2,
    "start_time": "2022-05-03T17:01:01.584Z"
   },
   {
    "duration": 277,
    "start_time": "2022-05-03T17:01:01.588Z"
   },
   {
    "duration": 482,
    "start_time": "2022-05-03T17:01:01.868Z"
   },
   {
    "duration": 269,
    "start_time": "2022-05-03T17:01:02.352Z"
   },
   {
    "duration": 40,
    "start_time": "2022-05-03T17:01:02.625Z"
   },
   {
    "duration": 72,
    "start_time": "2022-05-03T17:01:02.667Z"
   },
   {
    "duration": 21,
    "start_time": "2022-05-03T17:01:02.741Z"
   },
   {
    "duration": 9622,
    "start_time": "2022-05-03T17:01:02.764Z"
   },
   {
    "duration": 21,
    "start_time": "2022-05-03T17:01:12.387Z"
   },
   {
    "duration": 116,
    "start_time": "2022-05-03T17:01:12.410Z"
   },
   {
    "duration": 17,
    "start_time": "2022-05-03T17:01:12.528Z"
   },
   {
    "duration": 419,
    "start_time": "2022-05-03T17:01:12.546Z"
   },
   {
    "duration": 67,
    "start_time": "2022-05-03T17:01:12.967Z"
   },
   {
    "duration": 17,
    "start_time": "2022-05-03T17:01:13.036Z"
   },
   {
    "duration": 250,
    "start_time": "2022-05-03T17:01:13.055Z"
   },
   {
    "duration": 4,
    "start_time": "2022-05-03T17:01:13.307Z"
   },
   {
    "duration": 26,
    "start_time": "2022-05-03T17:01:13.313Z"
   },
   {
    "duration": 18,
    "start_time": "2022-05-03T17:01:13.341Z"
   },
   {
    "duration": 155,
    "start_time": "2022-05-03T17:01:13.361Z"
   },
   {
    "duration": 4,
    "start_time": "2022-05-03T17:01:13.518Z"
   },
   {
    "duration": 24,
    "start_time": "2022-05-03T17:01:13.524Z"
   },
   {
    "duration": 91,
    "start_time": "2022-05-03T17:01:13.549Z"
   },
   {
    "duration": 9,
    "start_time": "2022-05-03T17:01:13.643Z"
   },
   {
    "duration": 24,
    "start_time": "2022-05-03T17:01:13.653Z"
   },
   {
    "duration": 9,
    "start_time": "2022-05-03T17:01:45.924Z"
   },
   {
    "duration": 3,
    "start_time": "2022-05-03T17:03:21.817Z"
   },
   {
    "duration": 1137,
    "start_time": "2022-05-03T17:03:49.660Z"
   },
   {
    "duration": 506,
    "start_time": "2022-05-03T17:03:50.799Z"
   },
   {
    "duration": 129,
    "start_time": "2022-05-03T17:03:51.308Z"
   },
   {
    "duration": 3,
    "start_time": "2022-05-03T17:03:51.439Z"
   },
   {
    "duration": 167,
    "start_time": "2022-05-03T17:03:51.444Z"
   },
   {
    "duration": 3,
    "start_time": "2022-05-03T17:03:51.613Z"
   },
   {
    "duration": 336,
    "start_time": "2022-05-03T17:03:51.617Z"
   },
   {
    "duration": 428,
    "start_time": "2022-05-03T17:03:51.955Z"
   },
   {
    "duration": 237,
    "start_time": "2022-05-03T17:03:52.401Z"
   },
   {
    "duration": 39,
    "start_time": "2022-05-03T17:03:52.640Z"
   },
   {
    "duration": 71,
    "start_time": "2022-05-03T17:03:52.681Z"
   },
   {
    "duration": 4,
    "start_time": "2022-05-03T17:03:52.753Z"
   },
   {
    "duration": 10483,
    "start_time": "2022-05-03T17:03:52.758Z"
   },
   {
    "duration": 15,
    "start_time": "2022-05-03T17:04:03.243Z"
   },
   {
    "duration": 140,
    "start_time": "2022-05-03T17:04:03.260Z"
   },
   {
    "duration": 19,
    "start_time": "2022-05-03T17:04:03.402Z"
   },
   {
    "duration": 404,
    "start_time": "2022-05-03T17:04:03.423Z"
   },
   {
    "duration": 45,
    "start_time": "2022-05-03T17:04:03.829Z"
   },
   {
    "duration": 27,
    "start_time": "2022-05-03T17:04:03.875Z"
   },
   {
    "duration": 223,
    "start_time": "2022-05-03T17:04:03.904Z"
   },
   {
    "duration": 5,
    "start_time": "2022-05-03T17:04:04.129Z"
   },
   {
    "duration": 14,
    "start_time": "2022-05-03T17:04:04.136Z"
   },
   {
    "duration": 10,
    "start_time": "2022-05-03T17:04:04.152Z"
   },
   {
    "duration": 86,
    "start_time": "2022-05-03T17:04:04.163Z"
   },
   {
    "duration": 3,
    "start_time": "2022-05-03T17:04:04.250Z"
   },
   {
    "duration": 6,
    "start_time": "2022-05-03T17:04:04.254Z"
   },
   {
    "duration": 91,
    "start_time": "2022-05-03T17:04:04.261Z"
   },
   {
    "duration": 8,
    "start_time": "2022-05-03T17:04:04.356Z"
   },
   {
    "duration": 34,
    "start_time": "2022-05-03T17:04:04.366Z"
   },
   {
    "duration": 186,
    "start_time": "2022-05-03T17:07:46.927Z"
   },
   {
    "duration": 95,
    "start_time": "2022-05-03T17:08:12.185Z"
   },
   {
    "duration": 7,
    "start_time": "2022-05-03T17:08:29.897Z"
   },
   {
    "duration": 4,
    "start_time": "2022-05-03T17:09:44.472Z"
   },
   {
    "duration": 3,
    "start_time": "2022-05-03T17:10:27.667Z"
   },
   {
    "duration": 76,
    "start_time": "2022-05-03T17:11:02.478Z"
   },
   {
    "duration": 8,
    "start_time": "2022-05-03T17:11:19.669Z"
   },
   {
    "duration": 15,
    "start_time": "2022-05-03T17:11:20.333Z"
   },
   {
    "duration": 8,
    "start_time": "2022-05-03T17:11:59.778Z"
   },
   {
    "duration": 7,
    "start_time": "2022-05-03T17:12:08.578Z"
   },
   {
    "duration": 21,
    "start_time": "2022-05-03T17:12:27.880Z"
   },
   {
    "duration": 9,
    "start_time": "2022-05-03T17:12:38.124Z"
   },
   {
    "duration": 126,
    "start_time": "2022-05-03T17:15:07.412Z"
   },
   {
    "duration": 4,
    "start_time": "2022-05-03T17:16:02.021Z"
   },
   {
    "duration": 3,
    "start_time": "2022-05-03T17:16:56.167Z"
   },
   {
    "duration": 135,
    "start_time": "2022-05-03T17:17:30.681Z"
   },
   {
    "duration": 3,
    "start_time": "2022-05-03T17:17:44.247Z"
   },
   {
    "duration": 80,
    "start_time": "2022-05-03T17:17:46.768Z"
   },
   {
    "duration": 3,
    "start_time": "2022-05-03T17:18:02.184Z"
   },
   {
    "duration": 8,
    "start_time": "2022-05-03T17:18:19.687Z"
   },
   {
    "duration": 22,
    "start_time": "2022-05-03T17:18:32.885Z"
   },
   {
    "duration": 32,
    "start_time": "2022-05-03T17:18:47.772Z"
   },
   {
    "duration": 5,
    "start_time": "2022-05-03T17:27:22.921Z"
   },
   {
    "duration": 9,
    "start_time": "2022-05-03T17:27:28.900Z"
   },
   {
    "duration": 1147,
    "start_time": "2022-05-03T17:28:50.355Z"
   },
   {
    "duration": 435,
    "start_time": "2022-05-03T17:28:51.504Z"
   },
   {
    "duration": 124,
    "start_time": "2022-05-03T17:28:51.941Z"
   },
   {
    "duration": 3,
    "start_time": "2022-05-03T17:28:52.067Z"
   },
   {
    "duration": 117,
    "start_time": "2022-05-03T17:28:52.100Z"
   },
   {
    "duration": 3,
    "start_time": "2022-05-03T17:28:52.218Z"
   },
   {
    "duration": 368,
    "start_time": "2022-05-03T17:28:52.222Z"
   },
   {
    "duration": 377,
    "start_time": "2022-05-03T17:28:52.592Z"
   },
   {
    "duration": 217,
    "start_time": "2022-05-03T17:28:52.971Z"
   },
   {
    "duration": 46,
    "start_time": "2022-05-03T17:28:53.191Z"
   },
   {
    "duration": 42,
    "start_time": "2022-05-03T17:28:53.239Z"
   },
   {
    "duration": 20,
    "start_time": "2022-05-03T17:28:53.282Z"
   },
   {
    "duration": 8769,
    "start_time": "2022-05-03T17:28:53.304Z"
   },
   {
    "duration": 13,
    "start_time": "2022-05-03T17:29:02.075Z"
   },
   {
    "duration": 110,
    "start_time": "2022-05-03T17:29:02.090Z"
   },
   {
    "duration": 18,
    "start_time": "2022-05-03T17:29:02.202Z"
   },
   {
    "duration": 367,
    "start_time": "2022-05-03T17:29:02.222Z"
   },
   {
    "duration": 50,
    "start_time": "2022-05-03T17:29:02.592Z"
   },
   {
    "duration": 15,
    "start_time": "2022-05-03T17:29:02.644Z"
   },
   {
    "duration": 198,
    "start_time": "2022-05-03T17:29:02.661Z"
   },
   {
    "duration": 3,
    "start_time": "2022-05-03T17:29:02.861Z"
   },
   {
    "duration": 20,
    "start_time": "2022-05-03T17:29:02.866Z"
   },
   {
    "duration": 6,
    "start_time": "2022-05-03T17:29:02.888Z"
   },
   {
    "duration": 141,
    "start_time": "2022-05-03T17:29:02.896Z"
   },
   {
    "duration": 3,
    "start_time": "2022-05-03T17:29:03.039Z"
   },
   {
    "duration": 6,
    "start_time": "2022-05-03T17:29:03.044Z"
   },
   {
    "duration": 79,
    "start_time": "2022-05-03T17:29:03.051Z"
   },
   {
    "duration": 8,
    "start_time": "2022-05-03T17:29:03.133Z"
   },
   {
    "duration": 35,
    "start_time": "2022-05-03T17:29:03.143Z"
   },
   {
    "duration": 118,
    "start_time": "2022-05-03T17:29:03.180Z"
   },
   {
    "duration": 7,
    "start_time": "2022-05-03T17:29:03.300Z"
   },
   {
    "duration": 13,
    "start_time": "2022-05-03T17:29:03.309Z"
   },
   {
    "duration": 19,
    "start_time": "2022-05-03T17:29:03.324Z"
   },
   {
    "duration": 137,
    "start_time": "2022-05-03T17:29:03.345Z"
   },
   {
    "duration": 8,
    "start_time": "2022-05-03T17:29:03.484Z"
   },
   {
    "duration": 15,
    "start_time": "2022-05-03T17:29:03.500Z"
   },
   {
    "duration": 123,
    "start_time": "2022-05-03T17:29:03.517Z"
   },
   {
    "duration": 3,
    "start_time": "2022-05-03T17:29:03.641Z"
   },
   {
    "duration": 9,
    "start_time": "2022-05-03T17:29:03.645Z"
   },
   {
    "duration": 88,
    "start_time": "2022-05-03T17:29:03.655Z"
   },
   {
    "duration": 10,
    "start_time": "2022-05-03T17:29:03.745Z"
   },
   {
    "duration": 30,
    "start_time": "2022-05-03T17:29:03.756Z"
   },
   {
    "duration": 3212,
    "start_time": "2022-05-03T17:29:03.788Z"
   },
   {
    "duration": 0,
    "start_time": "2022-05-03T17:29:07.002Z"
   },
   {
    "duration": 7,
    "start_time": "2022-05-03T17:29:26.645Z"
   },
   {
    "duration": 21,
    "start_time": "2022-05-03T17:29:29.832Z"
   },
   {
    "duration": 4,
    "start_time": "2022-05-03T17:32:00.745Z"
   },
   {
    "duration": 3,
    "start_time": "2022-05-03T17:33:25.390Z"
   },
   {
    "duration": 5,
    "start_time": "2022-05-03T17:50:04.690Z"
   },
   {
    "duration": 14,
    "start_time": "2022-05-03T17:50:17.226Z"
   },
   {
    "duration": 1113,
    "start_time": "2022-05-03T17:50:30.946Z"
   },
   {
    "duration": 443,
    "start_time": "2022-05-03T17:50:32.061Z"
   },
   {
    "duration": 163,
    "start_time": "2022-05-03T17:50:32.506Z"
   },
   {
    "duration": 3,
    "start_time": "2022-05-03T17:50:32.671Z"
   },
   {
    "duration": 121,
    "start_time": "2022-05-03T17:50:32.700Z"
   },
   {
    "duration": 3,
    "start_time": "2022-05-03T17:50:32.823Z"
   },
   {
    "duration": 234,
    "start_time": "2022-05-03T17:50:32.827Z"
   },
   {
    "duration": 399,
    "start_time": "2022-05-03T17:50:33.063Z"
   },
   {
    "duration": 218,
    "start_time": "2022-05-03T17:50:33.463Z"
   },
   {
    "duration": 43,
    "start_time": "2022-05-03T17:50:33.683Z"
   },
   {
    "duration": 37,
    "start_time": "2022-05-03T17:50:33.728Z"
   },
   {
    "duration": 2,
    "start_time": "2022-05-03T17:50:33.767Z"
   },
   {
    "duration": 8340,
    "start_time": "2022-05-03T17:50:33.771Z"
   },
   {
    "duration": 13,
    "start_time": "2022-05-03T17:50:42.112Z"
   },
   {
    "duration": 109,
    "start_time": "2022-05-03T17:50:42.127Z"
   },
   {
    "duration": 18,
    "start_time": "2022-05-03T17:50:42.237Z"
   },
   {
    "duration": 562,
    "start_time": "2022-05-03T17:50:42.257Z"
   },
   {
    "duration": 59,
    "start_time": "2022-05-03T17:50:42.821Z"
   },
   {
    "duration": 26,
    "start_time": "2022-05-03T17:50:42.882Z"
   },
   {
    "duration": 5,
    "start_time": "2022-05-03T17:50:42.910Z"
   },
   {
    "duration": 17,
    "start_time": "2022-05-03T17:50:42.917Z"
   },
   {
    "duration": 246,
    "start_time": "2022-05-03T17:50:42.936Z"
   },
   {
    "duration": 3,
    "start_time": "2022-05-03T17:50:43.184Z"
   },
   {
    "duration": 12,
    "start_time": "2022-05-03T17:50:43.189Z"
   },
   {
    "duration": 3,
    "start_time": "2022-05-03T17:50:43.203Z"
   },
   {
    "duration": 76,
    "start_time": "2022-05-03T17:50:43.207Z"
   },
   {
    "duration": 3,
    "start_time": "2022-05-03T17:50:43.284Z"
   },
   {
    "duration": 3,
    "start_time": "2022-05-03T17:50:43.302Z"
   },
   {
    "duration": 77,
    "start_time": "2022-05-03T17:50:43.306Z"
   },
   {
    "duration": 18,
    "start_time": "2022-05-03T17:50:43.385Z"
   },
   {
    "duration": 22,
    "start_time": "2022-05-03T17:50:43.405Z"
   },
   {
    "duration": 97,
    "start_time": "2022-05-03T17:50:43.428Z"
   },
   {
    "duration": 6,
    "start_time": "2022-05-03T17:50:43.527Z"
   },
   {
    "duration": 5,
    "start_time": "2022-05-03T17:50:43.535Z"
   },
   {
    "duration": 5,
    "start_time": "2022-05-03T17:50:43.541Z"
   },
   {
    "duration": 88,
    "start_time": "2022-05-03T17:50:43.547Z"
   },
   {
    "duration": 7,
    "start_time": "2022-05-03T17:50:43.636Z"
   },
   {
    "duration": 16,
    "start_time": "2022-05-03T17:50:43.644Z"
   },
   {
    "duration": 113,
    "start_time": "2022-05-03T17:50:43.661Z"
   },
   {
    "duration": 2,
    "start_time": "2022-05-03T17:50:43.776Z"
   },
   {
    "duration": 5,
    "start_time": "2022-05-03T17:50:43.780Z"
   },
   {
    "duration": 87,
    "start_time": "2022-05-03T17:50:43.787Z"
   },
   {
    "duration": 6,
    "start_time": "2022-05-03T17:50:43.876Z"
   },
   {
    "duration": 28,
    "start_time": "2022-05-03T17:50:43.884Z"
   },
   {
    "duration": 7,
    "start_time": "2022-05-03T17:50:43.914Z"
   },
   {
    "duration": 14,
    "start_time": "2022-05-03T17:50:43.922Z"
   },
   {
    "duration": 3,
    "start_time": "2022-05-03T17:50:43.937Z"
   },
   {
    "duration": 182,
    "start_time": "2022-05-03T17:50:43.942Z"
   },
   {
    "duration": 6,
    "start_time": "2022-05-03T17:53:36.332Z"
   },
   {
    "duration": 23,
    "start_time": "2022-05-03T17:53:48.859Z"
   },
   {
    "duration": 182,
    "start_time": "2022-05-03T17:54:45.780Z"
   },
   {
    "duration": 4,
    "start_time": "2022-05-03T18:01:35.570Z"
   },
   {
    "duration": 137,
    "start_time": "2022-05-03T18:03:33.745Z"
   },
   {
    "duration": 5,
    "start_time": "2022-05-03T18:04:24.176Z"
   },
   {
    "duration": 18,
    "start_time": "2022-05-03T18:04:25.520Z"
   },
   {
    "duration": 4,
    "start_time": "2022-05-03T18:04:45.672Z"
   },
   {
    "duration": 156,
    "start_time": "2022-05-03T18:04:46.239Z"
   },
   {
    "duration": 22,
    "start_time": "2022-05-03T18:04:57.431Z"
   },
   {
    "duration": 2,
    "start_time": "2022-05-03T18:34:23.878Z"
   },
   {
    "duration": 28,
    "start_time": "2022-05-03T18:37:33.965Z"
   },
   {
    "duration": 12,
    "start_time": "2022-05-03T18:37:51.833Z"
   },
   {
    "duration": 14,
    "start_time": "2022-05-03T18:52:20.277Z"
   },
   {
    "duration": 2,
    "start_time": "2022-05-03T18:53:09.181Z"
   },
   {
    "duration": 2460,
    "start_time": "2022-05-03T18:53:20.021Z"
   },
   {
    "duration": 29,
    "start_time": "2022-05-03T18:58:23.937Z"
   },
   {
    "duration": 3151,
    "start_time": "2022-05-03T19:02:46.829Z"
   },
   {
    "duration": 2653,
    "start_time": "2022-05-03T19:03:16.835Z"
   },
   {
    "duration": 205,
    "start_time": "2022-05-03T19:04:26.449Z"
   },
   {
    "duration": 297,
    "start_time": "2022-05-03T19:05:31.259Z"
   },
   {
    "duration": 1322,
    "start_time": "2022-05-03T19:05:35.887Z"
   },
   {
    "duration": 434,
    "start_time": "2022-05-03T19:05:37.212Z"
   },
   {
    "duration": 104,
    "start_time": "2022-05-03T19:05:37.648Z"
   },
   {
    "duration": 3,
    "start_time": "2022-05-03T19:05:37.755Z"
   },
   {
    "duration": 148,
    "start_time": "2022-05-03T19:05:37.759Z"
   },
   {
    "duration": 2,
    "start_time": "2022-05-03T19:05:37.909Z"
   },
   {
    "duration": 222,
    "start_time": "2022-05-03T19:05:37.913Z"
   },
   {
    "duration": 465,
    "start_time": "2022-05-03T19:05:38.136Z"
   },
   {
    "duration": 231,
    "start_time": "2022-05-03T19:05:38.603Z"
   },
   {
    "duration": 34,
    "start_time": "2022-05-03T19:05:38.837Z"
   },
   {
    "duration": 50,
    "start_time": "2022-05-03T19:05:38.873Z"
   },
   {
    "duration": 3,
    "start_time": "2022-05-03T19:05:38.924Z"
   },
   {
    "duration": 8543,
    "start_time": "2022-05-03T19:05:38.929Z"
   },
   {
    "duration": 13,
    "start_time": "2022-05-03T19:05:47.473Z"
   },
   {
    "duration": 115,
    "start_time": "2022-05-03T19:05:47.488Z"
   },
   {
    "duration": 17,
    "start_time": "2022-05-03T19:05:47.605Z"
   },
   {
    "duration": 481,
    "start_time": "2022-05-03T19:05:47.623Z"
   },
   {
    "duration": 45,
    "start_time": "2022-05-03T19:05:48.106Z"
   },
   {
    "duration": 15,
    "start_time": "2022-05-03T19:05:48.152Z"
   },
   {
    "duration": 4,
    "start_time": "2022-05-03T19:05:48.169Z"
   },
   {
    "duration": 35,
    "start_time": "2022-05-03T19:05:48.175Z"
   },
   {
    "duration": 175,
    "start_time": "2022-05-03T19:05:48.212Z"
   },
   {
    "duration": 3,
    "start_time": "2022-05-03T19:05:48.388Z"
   },
   {
    "duration": 4,
    "start_time": "2022-05-03T19:05:48.399Z"
   },
   {
    "duration": 5,
    "start_time": "2022-05-03T19:05:48.404Z"
   },
   {
    "duration": 76,
    "start_time": "2022-05-03T19:05:48.410Z"
   },
   {
    "duration": 13,
    "start_time": "2022-05-03T19:05:48.487Z"
   },
   {
    "duration": 3,
    "start_time": "2022-05-03T19:05:48.503Z"
   },
   {
    "duration": 75,
    "start_time": "2022-05-03T19:05:48.508Z"
   },
   {
    "duration": 21,
    "start_time": "2022-05-03T19:05:48.585Z"
   },
   {
    "duration": 20,
    "start_time": "2022-05-03T19:05:48.607Z"
   },
   {
    "duration": 100,
    "start_time": "2022-05-03T19:05:48.629Z"
   },
   {
    "duration": 7,
    "start_time": "2022-05-03T19:05:48.730Z"
   },
   {
    "duration": 5,
    "start_time": "2022-05-03T19:05:48.738Z"
   },
   {
    "duration": 8,
    "start_time": "2022-05-03T19:05:48.744Z"
   },
   {
    "duration": 87,
    "start_time": "2022-05-03T19:05:48.753Z"
   },
   {
    "duration": 7,
    "start_time": "2022-05-03T19:05:48.842Z"
   },
   {
    "duration": 16,
    "start_time": "2022-05-03T19:05:48.851Z"
   },
   {
    "duration": 123,
    "start_time": "2022-05-03T19:05:48.868Z"
   },
   {
    "duration": 3,
    "start_time": "2022-05-03T19:05:48.993Z"
   },
   {
    "duration": 3,
    "start_time": "2022-05-03T19:05:48.999Z"
   },
   {
    "duration": 82,
    "start_time": "2022-05-03T19:05:49.003Z"
   },
   {
    "duration": 16,
    "start_time": "2022-05-03T19:05:49.087Z"
   },
   {
    "duration": 22,
    "start_time": "2022-05-03T19:05:49.104Z"
   },
   {
    "duration": 6,
    "start_time": "2022-05-03T19:05:49.128Z"
   },
   {
    "duration": 20,
    "start_time": "2022-05-03T19:05:49.135Z"
   },
   {
    "duration": 7,
    "start_time": "2022-05-03T19:05:49.156Z"
   },
   {
    "duration": 38,
    "start_time": "2022-05-03T19:05:49.164Z"
   },
   {
    "duration": 2,
    "start_time": "2022-05-03T19:05:49.203Z"
   },
   {
    "duration": 6,
    "start_time": "2022-05-03T19:05:49.207Z"
   },
   {
    "duration": 167,
    "start_time": "2022-05-03T19:05:49.214Z"
   },
   {
    "duration": 28,
    "start_time": "2022-05-03T19:05:49.383Z"
   },
   {
    "duration": 11,
    "start_time": "2022-05-03T19:05:49.412Z"
   },
   {
    "duration": 5,
    "start_time": "2022-05-03T19:05:49.425Z"
   },
   {
    "duration": 201,
    "start_time": "2022-05-03T19:05:49.431Z"
   },
   {
    "duration": 87,
    "start_time": "2022-05-03T19:10:59.803Z"
   },
   {
    "duration": 5,
    "start_time": "2022-05-03T19:12:12.674Z"
   },
   {
    "duration": 6,
    "start_time": "2022-05-03T19:12:38.489Z"
   },
   {
    "duration": 5,
    "start_time": "2022-05-03T19:12:41.372Z"
   },
   {
    "duration": 184,
    "start_time": "2022-05-03T19:13:15.309Z"
   },
   {
    "duration": 2578,
    "start_time": "2022-05-03T19:13:23.956Z"
   },
   {
    "duration": 2750,
    "start_time": "2022-05-03T19:14:17.552Z"
   },
   {
    "duration": 2647,
    "start_time": "2022-05-03T19:14:21.941Z"
   },
   {
    "duration": 1368,
    "start_time": "2022-05-04T10:52:21.755Z"
   },
   {
    "duration": 543,
    "start_time": "2022-05-04T10:52:23.126Z"
   },
   {
    "duration": 172,
    "start_time": "2022-05-04T10:52:23.671Z"
   },
   {
    "duration": 4,
    "start_time": "2022-05-04T10:52:23.845Z"
   },
   {
    "duration": 156,
    "start_time": "2022-05-04T10:52:23.851Z"
   },
   {
    "duration": 4,
    "start_time": "2022-05-04T10:52:24.010Z"
   },
   {
    "duration": 321,
    "start_time": "2022-05-04T10:52:24.016Z"
   },
   {
    "duration": 626,
    "start_time": "2022-05-04T10:52:24.339Z"
   },
   {
    "duration": 375,
    "start_time": "2022-05-04T10:52:24.967Z"
   },
   {
    "duration": 42,
    "start_time": "2022-05-04T10:52:25.346Z"
   },
   {
    "duration": 74,
    "start_time": "2022-05-04T10:52:25.390Z"
   },
   {
    "duration": 4,
    "start_time": "2022-05-04T10:52:25.465Z"
   },
   {
    "duration": 10825,
    "start_time": "2022-05-04T10:52:25.471Z"
   },
   {
    "duration": 22,
    "start_time": "2022-05-04T10:52:36.297Z"
   },
   {
    "duration": 133,
    "start_time": "2022-05-04T10:52:36.322Z"
   },
   {
    "duration": 19,
    "start_time": "2022-05-04T10:52:36.458Z"
   },
   {
    "duration": 482,
    "start_time": "2022-05-04T10:52:36.478Z"
   },
   {
    "duration": 63,
    "start_time": "2022-05-04T10:52:36.962Z"
   },
   {
    "duration": 21,
    "start_time": "2022-05-04T10:52:37.029Z"
   },
   {
    "duration": 5,
    "start_time": "2022-05-04T10:52:37.052Z"
   },
   {
    "duration": 16,
    "start_time": "2022-05-04T10:52:37.059Z"
   },
   {
    "duration": 262,
    "start_time": "2022-05-04T10:52:37.078Z"
   },
   {
    "duration": 3,
    "start_time": "2022-05-04T10:52:37.343Z"
   },
   {
    "duration": 7,
    "start_time": "2022-05-04T10:52:37.348Z"
   },
   {
    "duration": 10,
    "start_time": "2022-05-04T10:52:37.356Z"
   },
   {
    "duration": 117,
    "start_time": "2022-05-04T10:52:37.368Z"
   },
   {
    "duration": 4,
    "start_time": "2022-05-04T10:52:37.486Z"
   },
   {
    "duration": 15,
    "start_time": "2022-05-04T10:52:37.494Z"
   },
   {
    "duration": 121,
    "start_time": "2022-05-04T10:52:37.511Z"
   },
   {
    "duration": 12,
    "start_time": "2022-05-04T10:52:37.634Z"
   },
   {
    "duration": 26,
    "start_time": "2022-05-04T10:52:37.648Z"
   },
   {
    "duration": 141,
    "start_time": "2022-05-04T10:52:37.676Z"
   },
   {
    "duration": 11,
    "start_time": "2022-05-04T10:52:37.819Z"
   },
   {
    "duration": 4,
    "start_time": "2022-05-04T10:52:37.832Z"
   },
   {
    "duration": 6,
    "start_time": "2022-05-04T10:52:37.839Z"
   },
   {
    "duration": 153,
    "start_time": "2022-05-04T10:52:37.848Z"
   },
   {
    "duration": 13,
    "start_time": "2022-05-04T10:52:38.003Z"
   },
   {
    "duration": 23,
    "start_time": "2022-05-04T10:52:38.018Z"
   },
   {
    "duration": 174,
    "start_time": "2022-05-04T10:52:38.043Z"
   },
   {
    "duration": 6,
    "start_time": "2022-05-04T10:52:38.219Z"
   },
   {
    "duration": 8,
    "start_time": "2022-05-04T10:52:38.227Z"
   },
   {
    "duration": 122,
    "start_time": "2022-05-04T10:52:38.238Z"
   },
   {
    "duration": 9,
    "start_time": "2022-05-04T10:52:38.362Z"
   },
   {
    "duration": 39,
    "start_time": "2022-05-04T10:52:38.373Z"
   },
   {
    "duration": 8,
    "start_time": "2022-05-04T10:52:38.414Z"
   },
   {
    "duration": 35,
    "start_time": "2022-05-04T10:52:38.425Z"
   },
   {
    "duration": 8,
    "start_time": "2022-05-04T10:52:38.462Z"
   },
   {
    "duration": 46,
    "start_time": "2022-05-04T10:52:38.472Z"
   },
   {
    "duration": 4,
    "start_time": "2022-05-04T10:52:38.520Z"
   },
   {
    "duration": 7,
    "start_time": "2022-05-04T10:52:38.526Z"
   },
   {
    "duration": 248,
    "start_time": "2022-05-04T10:52:38.535Z"
   },
   {
    "duration": 38,
    "start_time": "2022-05-04T10:52:38.785Z"
   },
   {
    "duration": 16,
    "start_time": "2022-05-04T10:52:38.826Z"
   },
   {
    "duration": 7,
    "start_time": "2022-05-04T10:52:38.844Z"
   },
   {
    "duration": 3819,
    "start_time": "2022-05-04T10:52:38.853Z"
   },
   {
    "duration": 167,
    "start_time": "2022-05-04T10:58:39.119Z"
   },
   {
    "duration": 3652,
    "start_time": "2022-05-04T10:58:47.380Z"
   },
   {
    "duration": 3504,
    "start_time": "2022-05-04T11:00:07.085Z"
   },
   {
    "duration": 3678,
    "start_time": "2022-05-04T11:00:19.230Z"
   },
   {
    "duration": 3315,
    "start_time": "2022-05-04T11:00:30.442Z"
   },
   {
    "duration": 3795,
    "start_time": "2022-05-04T11:00:39.863Z"
   },
   {
    "duration": 4782,
    "start_time": "2022-05-04T11:09:33.281Z"
   },
   {
    "duration": 4354,
    "start_time": "2022-05-04T11:11:14.217Z"
   },
   {
    "duration": 4543,
    "start_time": "2022-05-04T11:12:13.687Z"
   },
   {
    "duration": 4780,
    "start_time": "2022-05-04T11:12:36.950Z"
   },
   {
    "duration": 6,
    "start_time": "2022-05-04T11:46:08.433Z"
   },
   {
    "duration": 70,
    "start_time": "2022-05-04T11:46:13.674Z"
   },
   {
    "duration": 12,
    "start_time": "2022-05-04T11:57:05.447Z"
   },
   {
    "duration": 12,
    "start_time": "2022-05-04T11:57:47.022Z"
   },
   {
    "duration": 6,
    "start_time": "2022-05-04T11:57:51.062Z"
   },
   {
    "duration": 67,
    "start_time": "2022-05-04T11:57:53.183Z"
   },
   {
    "duration": 12,
    "start_time": "2022-05-04T11:58:09.958Z"
   },
   {
    "duration": 11,
    "start_time": "2022-05-04T11:58:14.141Z"
   },
   {
    "duration": 7,
    "start_time": "2022-05-04T11:58:23.063Z"
   },
   {
    "duration": 4,
    "start_time": "2022-05-04T12:27:43.698Z"
   },
   {
    "duration": 56,
    "start_time": "2022-05-04T12:27:53.210Z"
   },
   {
    "duration": 14,
    "start_time": "2022-05-04T12:30:58.715Z"
   },
   {
    "duration": 6,
    "start_time": "2022-05-04T12:31:02.008Z"
   },
   {
    "duration": 13,
    "start_time": "2022-05-04T12:31:02.608Z"
   },
   {
    "duration": 12,
    "start_time": "2022-05-04T12:31:21.088Z"
   },
   {
    "duration": 15,
    "start_time": "2022-05-04T12:31:31.400Z"
   },
   {
    "duration": 11,
    "start_time": "2022-05-04T12:31:54.874Z"
   },
   {
    "duration": 13,
    "start_time": "2022-05-04T12:31:58.935Z"
   },
   {
    "duration": 15,
    "start_time": "2022-05-04T12:31:59.390Z"
   },
   {
    "duration": 4,
    "start_time": "2022-05-04T12:32:30.584Z"
   },
   {
    "duration": 6,
    "start_time": "2022-05-04T12:33:04.854Z"
   },
   {
    "duration": 17,
    "start_time": "2022-05-04T12:33:14.583Z"
   },
   {
    "duration": 3,
    "start_time": "2022-05-04T12:33:44.536Z"
   },
   {
    "duration": 8,
    "start_time": "2022-05-04T12:34:49.412Z"
   },
   {
    "duration": 5,
    "start_time": "2022-05-04T12:35:03.181Z"
   },
   {
    "duration": 4,
    "start_time": "2022-05-04T12:36:06.098Z"
   },
   {
    "duration": 9,
    "start_time": "2022-05-04T12:36:06.628Z"
   },
   {
    "duration": 11,
    "start_time": "2022-05-04T12:36:07.331Z"
   },
   {
    "duration": 4,
    "start_time": "2022-05-04T12:36:08.605Z"
   },
   {
    "duration": 5,
    "start_time": "2022-05-04T12:36:09.925Z"
   },
   {
    "duration": 10,
    "start_time": "2022-05-04T12:36:11.188Z"
   },
   {
    "duration": 3,
    "start_time": "2022-05-04T12:36:19.858Z"
   },
   {
    "duration": 5,
    "start_time": "2022-05-04T12:36:20.404Z"
   },
   {
    "duration": 5,
    "start_time": "2022-05-04T12:36:21.660Z"
   },
   {
    "duration": 5,
    "start_time": "2022-05-04T12:37:22.885Z"
   },
   {
    "duration": 5,
    "start_time": "2022-05-04T12:37:23.427Z"
   },
   {
    "duration": 5,
    "start_time": "2022-05-04T12:37:27.644Z"
   },
   {
    "duration": 5,
    "start_time": "2022-05-04T12:37:28.004Z"
   },
   {
    "duration": 4,
    "start_time": "2022-05-04T12:37:32.500Z"
   },
   {
    "duration": 4,
    "start_time": "2022-05-04T12:37:33.048Z"
   },
   {
    "duration": 10,
    "start_time": "2022-05-04T12:42:33.787Z"
   },
   {
    "duration": 4,
    "start_time": "2022-05-04T12:42:50.403Z"
   },
   {
    "duration": 17,
    "start_time": "2022-05-04T12:42:57.866Z"
   },
   {
    "duration": 4,
    "start_time": "2022-05-04T12:43:04.818Z"
   },
   {
    "duration": 5,
    "start_time": "2022-05-04T12:43:19.050Z"
   },
   {
    "duration": 4,
    "start_time": "2022-05-04T12:43:19.522Z"
   },
   {
    "duration": 4,
    "start_time": "2022-05-04T12:53:08.672Z"
   },
   {
    "duration": 14,
    "start_time": "2022-05-04T12:53:09.402Z"
   },
   {
    "duration": 9,
    "start_time": "2022-05-04T12:53:10.026Z"
   },
   {
    "duration": 9,
    "start_time": "2022-05-04T12:53:19.368Z"
   },
   {
    "duration": 19,
    "start_time": "2022-05-04T12:53:19.913Z"
   },
   {
    "duration": 5,
    "start_time": "2022-05-04T12:53:21.025Z"
   },
   {
    "duration": 6,
    "start_time": "2022-05-04T12:53:21.610Z"
   },
   {
    "duration": 9,
    "start_time": "2022-05-04T12:53:22.889Z"
   },
   {
    "duration": 5,
    "start_time": "2022-05-04T12:53:31.201Z"
   },
   {
    "duration": 17,
    "start_time": "2022-05-04T12:53:36.034Z"
   },
   {
    "duration": 4,
    "start_time": "2022-05-04T12:53:43.720Z"
   },
   {
    "duration": 6,
    "start_time": "2022-05-04T12:53:44.089Z"
   },
   {
    "duration": 6,
    "start_time": "2022-05-04T12:53:45.072Z"
   },
   {
    "duration": 3443,
    "start_time": "2022-05-04T12:54:05.408Z"
   },
   {
    "duration": 12,
    "start_time": "2022-05-04T12:54:24.513Z"
   },
   {
    "duration": 9141,
    "start_time": "2022-05-04T12:54:29.185Z"
   },
   {
    "duration": 8862,
    "start_time": "2022-05-04T12:55:10.986Z"
   },
   {
    "duration": 5,
    "start_time": "2022-05-04T12:59:27.574Z"
   },
   {
    "duration": 4,
    "start_time": "2022-05-04T13:00:09.551Z"
   },
   {
    "duration": 14,
    "start_time": "2022-05-04T13:00:17.931Z"
   },
   {
    "duration": 10,
    "start_time": "2022-05-04T13:00:44.510Z"
   },
   {
    "duration": 18,
    "start_time": "2022-05-04T13:01:04.207Z"
   },
   {
    "duration": 15,
    "start_time": "2022-05-04T13:01:12.531Z"
   },
   {
    "duration": 4,
    "start_time": "2022-05-04T13:01:31.582Z"
   },
   {
    "duration": 5,
    "start_time": "2022-05-04T13:01:43.941Z"
   },
   {
    "duration": 6,
    "start_time": "2022-05-04T13:02:09.965Z"
   },
   {
    "duration": 5,
    "start_time": "2022-05-04T13:02:10.934Z"
   },
   {
    "duration": 3,
    "start_time": "2022-05-04T13:10:16.835Z"
   },
   {
    "duration": 1147,
    "start_time": "2022-05-04T13:16:29.204Z"
   },
   {
    "duration": 515,
    "start_time": "2022-05-04T13:16:30.353Z"
   },
   {
    "duration": 159,
    "start_time": "2022-05-04T13:16:30.870Z"
   },
   {
    "duration": 4,
    "start_time": "2022-05-04T13:16:31.031Z"
   },
   {
    "duration": 193,
    "start_time": "2022-05-04T13:16:31.036Z"
   },
   {
    "duration": 3,
    "start_time": "2022-05-04T13:16:31.231Z"
   },
   {
    "duration": 288,
    "start_time": "2022-05-04T13:16:31.235Z"
   },
   {
    "duration": 456,
    "start_time": "2022-05-04T13:16:31.525Z"
   },
   {
    "duration": 275,
    "start_time": "2022-05-04T13:16:31.982Z"
   },
   {
    "duration": 52,
    "start_time": "2022-05-04T13:16:32.260Z"
   },
   {
    "duration": 49,
    "start_time": "2022-05-04T13:16:32.314Z"
   },
   {
    "duration": 42,
    "start_time": "2022-05-04T13:16:32.365Z"
   },
   {
    "duration": 9935,
    "start_time": "2022-05-04T13:16:32.409Z"
   },
   {
    "duration": 14,
    "start_time": "2022-05-04T13:16:42.346Z"
   },
   {
    "duration": 108,
    "start_time": "2022-05-04T13:16:42.362Z"
   },
   {
    "duration": 47,
    "start_time": "2022-05-04T13:16:42.471Z"
   },
   {
    "duration": 422,
    "start_time": "2022-05-04T13:16:42.519Z"
   },
   {
    "duration": 52,
    "start_time": "2022-05-04T13:16:42.943Z"
   },
   {
    "duration": 29,
    "start_time": "2022-05-04T13:16:42.997Z"
   },
   {
    "duration": 18,
    "start_time": "2022-05-04T13:16:43.028Z"
   },
   {
    "duration": 30,
    "start_time": "2022-05-04T13:16:43.048Z"
   },
   {
    "duration": 241,
    "start_time": "2022-05-04T13:16:43.080Z"
   },
   {
    "duration": 4,
    "start_time": "2022-05-04T13:16:43.323Z"
   },
   {
    "duration": 5,
    "start_time": "2022-05-04T13:16:43.329Z"
   },
   {
    "duration": 8,
    "start_time": "2022-05-04T13:16:43.336Z"
   },
   {
    "duration": 106,
    "start_time": "2022-05-04T13:16:43.346Z"
   },
   {
    "duration": 3,
    "start_time": "2022-05-04T13:16:43.454Z"
   },
   {
    "duration": 4,
    "start_time": "2022-05-04T13:16:43.463Z"
   },
   {
    "duration": 113,
    "start_time": "2022-05-04T13:16:43.468Z"
   },
   {
    "duration": 11,
    "start_time": "2022-05-04T13:16:43.583Z"
   },
   {
    "duration": 29,
    "start_time": "2022-05-04T13:16:43.609Z"
   },
   {
    "duration": 120,
    "start_time": "2022-05-04T13:16:43.640Z"
   },
   {
    "duration": 8,
    "start_time": "2022-05-04T13:16:43.761Z"
   },
   {
    "duration": 4,
    "start_time": "2022-05-04T13:16:43.770Z"
   },
   {
    "duration": 7,
    "start_time": "2022-05-04T13:16:43.776Z"
   },
   {
    "duration": 111,
    "start_time": "2022-05-04T13:16:43.785Z"
   },
   {
    "duration": 10,
    "start_time": "2022-05-04T13:16:43.897Z"
   },
   {
    "duration": 19,
    "start_time": "2022-05-04T13:16:43.916Z"
   },
   {
    "duration": 140,
    "start_time": "2022-05-04T13:16:43.937Z"
   },
   {
    "duration": 4,
    "start_time": "2022-05-04T13:16:44.079Z"
   },
   {
    "duration": 5,
    "start_time": "2022-05-04T13:16:44.085Z"
   },
   {
    "duration": 110,
    "start_time": "2022-05-04T13:16:44.092Z"
   },
   {
    "duration": 15,
    "start_time": "2022-05-04T13:16:44.214Z"
   },
   {
    "duration": 25,
    "start_time": "2022-05-04T13:16:44.231Z"
   },
   {
    "duration": 7,
    "start_time": "2022-05-04T13:16:44.257Z"
   },
   {
    "duration": 48,
    "start_time": "2022-05-04T13:16:44.265Z"
   },
   {
    "duration": 12,
    "start_time": "2022-05-04T13:16:44.315Z"
   },
   {
    "duration": 16,
    "start_time": "2022-05-04T13:16:44.328Z"
   },
   {
    "duration": 3,
    "start_time": "2022-05-04T13:16:44.346Z"
   },
   {
    "duration": 5,
    "start_time": "2022-05-04T13:16:44.352Z"
   },
   {
    "duration": 230,
    "start_time": "2022-05-04T13:16:44.359Z"
   },
   {
    "duration": 42,
    "start_time": "2022-05-04T13:16:44.591Z"
   },
   {
    "duration": 13,
    "start_time": "2022-05-04T13:16:44.636Z"
   },
   {
    "duration": 4,
    "start_time": "2022-05-04T13:16:44.651Z"
   },
   {
    "duration": 3484,
    "start_time": "2022-05-04T13:16:44.657Z"
   },
   {
    "duration": 4053,
    "start_time": "2022-05-04T13:16:48.143Z"
   },
   {
    "duration": 3977,
    "start_time": "2022-05-04T13:16:52.198Z"
   },
   {
    "duration": 6,
    "start_time": "2022-05-04T13:16:56.178Z"
   },
   {
    "duration": 33,
    "start_time": "2022-05-04T13:16:56.186Z"
   },
   {
    "duration": 19,
    "start_time": "2022-05-04T13:16:56.222Z"
   },
   {
    "duration": 5,
    "start_time": "2022-05-04T13:16:56.243Z"
   },
   {
    "duration": 6,
    "start_time": "2022-05-04T13:16:56.250Z"
   },
   {
    "duration": 18,
    "start_time": "2022-05-04T13:16:56.258Z"
   },
   {
    "duration": 37,
    "start_time": "2022-05-04T13:16:56.278Z"
   },
   {
    "duration": 166,
    "start_time": "2022-05-04T13:16:56.319Z"
   },
   {
    "duration": 0,
    "start_time": "2022-05-04T13:16:56.487Z"
   },
   {
    "duration": 0,
    "start_time": "2022-05-04T13:16:56.490Z"
   },
   {
    "duration": 0,
    "start_time": "2022-05-04T13:16:56.492Z"
   },
   {
    "duration": 0,
    "start_time": "2022-05-04T13:16:56.493Z"
   },
   {
    "duration": 0,
    "start_time": "2022-05-04T13:16:56.494Z"
   },
   {
    "duration": 0,
    "start_time": "2022-05-04T13:16:56.509Z"
   },
   {
    "duration": 0,
    "start_time": "2022-05-04T13:16:56.510Z"
   },
   {
    "duration": 0,
    "start_time": "2022-05-04T13:16:56.512Z"
   },
   {
    "duration": 0,
    "start_time": "2022-05-04T13:16:56.514Z"
   },
   {
    "duration": 0,
    "start_time": "2022-05-04T13:16:56.515Z"
   },
   {
    "duration": 0,
    "start_time": "2022-05-04T13:16:56.517Z"
   },
   {
    "duration": 0,
    "start_time": "2022-05-04T13:16:56.520Z"
   },
   {
    "duration": 5,
    "start_time": "2022-05-04T13:17:47.206Z"
   },
   {
    "duration": 4,
    "start_time": "2022-05-04T13:17:48.692Z"
   },
   {
    "duration": 12,
    "start_time": "2022-05-04T13:17:52.037Z"
   },
   {
    "duration": 6,
    "start_time": "2022-05-04T13:17:52.717Z"
   },
   {
    "duration": 4,
    "start_time": "2022-05-04T13:17:53.117Z"
   },
   {
    "duration": 4,
    "start_time": "2022-05-04T13:17:54.445Z"
   },
   {
    "duration": 3,
    "start_time": "2022-05-04T13:17:54.749Z"
   },
   {
    "duration": 15,
    "start_time": "2022-05-04T13:17:55.116Z"
   },
   {
    "duration": 5,
    "start_time": "2022-05-04T13:17:55.814Z"
   },
   {
    "duration": 8,
    "start_time": "2022-05-04T13:17:56.389Z"
   },
   {
    "duration": 17,
    "start_time": "2022-05-04T13:17:56.806Z"
   },
   {
    "duration": 4,
    "start_time": "2022-05-04T13:17:57.342Z"
   },
   {
    "duration": 4,
    "start_time": "2022-05-04T13:17:57.896Z"
   },
   {
    "duration": 6,
    "start_time": "2022-05-04T13:28:24.786Z"
   },
   {
    "duration": 4,
    "start_time": "2022-05-04T13:28:40.654Z"
   },
   {
    "duration": 6,
    "start_time": "2022-05-04T13:30:16.555Z"
   },
   {
    "duration": 4,
    "start_time": "2022-05-04T13:30:25.923Z"
   },
   {
    "duration": 5,
    "start_time": "2022-05-04T13:30:49.570Z"
   },
   {
    "duration": 6,
    "start_time": "2022-05-04T13:31:03.961Z"
   },
   {
    "duration": 5,
    "start_time": "2022-05-04T13:31:08.994Z"
   },
   {
    "duration": 6,
    "start_time": "2022-05-04T13:31:59.618Z"
   },
   {
    "duration": 6,
    "start_time": "2022-05-04T13:32:18.050Z"
   },
   {
    "duration": 4,
    "start_time": "2022-05-04T13:32:37.650Z"
   },
   {
    "duration": 4,
    "start_time": "2022-05-04T13:32:52.450Z"
   },
   {
    "duration": 1091,
    "start_time": "2022-05-04T13:40:57.908Z"
   },
   {
    "duration": 486,
    "start_time": "2022-05-04T13:40:59.001Z"
   },
   {
    "duration": 168,
    "start_time": "2022-05-04T13:40:59.489Z"
   },
   {
    "duration": 4,
    "start_time": "2022-05-04T13:40:59.659Z"
   },
   {
    "duration": 164,
    "start_time": "2022-05-04T13:40:59.666Z"
   },
   {
    "duration": 4,
    "start_time": "2022-05-04T13:40:59.832Z"
   },
   {
    "duration": 303,
    "start_time": "2022-05-04T13:40:59.838Z"
   },
   {
    "duration": 451,
    "start_time": "2022-05-04T13:41:00.142Z"
   },
   {
    "duration": 265,
    "start_time": "2022-05-04T13:41:00.595Z"
   },
   {
    "duration": 63,
    "start_time": "2022-05-04T13:41:00.862Z"
   },
   {
    "duration": 45,
    "start_time": "2022-05-04T13:41:00.927Z"
   },
   {
    "duration": 4,
    "start_time": "2022-05-04T13:41:00.974Z"
   },
   {
    "duration": 10700,
    "start_time": "2022-05-04T13:41:00.980Z"
   },
   {
    "duration": 17,
    "start_time": "2022-05-04T13:41:11.683Z"
   },
   {
    "duration": 120,
    "start_time": "2022-05-04T13:41:11.712Z"
   },
   {
    "duration": 17,
    "start_time": "2022-05-04T13:41:11.834Z"
   },
   {
    "duration": 444,
    "start_time": "2022-05-04T13:41:11.853Z"
   },
   {
    "duration": 62,
    "start_time": "2022-05-04T13:41:12.299Z"
   },
   {
    "duration": 16,
    "start_time": "2022-05-04T13:41:12.363Z"
   },
   {
    "duration": 7,
    "start_time": "2022-05-04T13:41:12.380Z"
   },
   {
    "duration": 32,
    "start_time": "2022-05-04T13:41:12.389Z"
   },
   {
    "duration": 246,
    "start_time": "2022-05-04T13:41:12.423Z"
   },
   {
    "duration": 3,
    "start_time": "2022-05-04T13:41:12.671Z"
   },
   {
    "duration": 9,
    "start_time": "2022-05-04T13:41:12.676Z"
   },
   {
    "duration": 4,
    "start_time": "2022-05-04T13:41:12.687Z"
   },
   {
    "duration": 116,
    "start_time": "2022-05-04T13:41:12.693Z"
   },
   {
    "duration": 4,
    "start_time": "2022-05-04T13:41:12.812Z"
   },
   {
    "duration": 7,
    "start_time": "2022-05-04T13:41:12.819Z"
   },
   {
    "duration": 130,
    "start_time": "2022-05-04T13:41:12.828Z"
   },
   {
    "duration": 12,
    "start_time": "2022-05-04T13:41:12.960Z"
   },
   {
    "duration": 39,
    "start_time": "2022-05-04T13:41:12.974Z"
   },
   {
    "duration": 130,
    "start_time": "2022-05-04T13:41:13.016Z"
   },
   {
    "duration": 7,
    "start_time": "2022-05-04T13:41:13.148Z"
   },
   {
    "duration": 9,
    "start_time": "2022-05-04T13:41:13.157Z"
   },
   {
    "duration": 6,
    "start_time": "2022-05-04T13:41:13.168Z"
   },
   {
    "duration": 114,
    "start_time": "2022-05-04T13:41:13.176Z"
   },
   {
    "duration": 22,
    "start_time": "2022-05-04T13:41:13.292Z"
   },
   {
    "duration": 19,
    "start_time": "2022-05-04T13:41:13.316Z"
   },
   {
    "duration": 155,
    "start_time": "2022-05-04T13:41:13.337Z"
   },
   {
    "duration": 4,
    "start_time": "2022-05-04T13:41:13.493Z"
   },
   {
    "duration": 4,
    "start_time": "2022-05-04T13:41:13.508Z"
   },
   {
    "duration": 121,
    "start_time": "2022-05-04T13:41:13.515Z"
   },
   {
    "duration": 9,
    "start_time": "2022-05-04T13:41:13.638Z"
   },
   {
    "duration": 31,
    "start_time": "2022-05-04T13:41:13.650Z"
   },
   {
    "duration": 8,
    "start_time": "2022-05-04T13:41:13.713Z"
   },
   {
    "duration": 33,
    "start_time": "2022-05-04T13:41:13.724Z"
   },
   {
    "duration": 10,
    "start_time": "2022-05-04T13:41:13.760Z"
   },
   {
    "duration": 38,
    "start_time": "2022-05-04T13:41:13.772Z"
   },
   {
    "duration": 3,
    "start_time": "2022-05-04T13:41:13.812Z"
   },
   {
    "duration": 7,
    "start_time": "2022-05-04T13:41:13.817Z"
   },
   {
    "duration": 245,
    "start_time": "2022-05-04T13:41:13.826Z"
   },
   {
    "duration": 27,
    "start_time": "2022-05-04T13:41:14.073Z"
   },
   {
    "duration": 18,
    "start_time": "2022-05-04T13:41:14.110Z"
   },
   {
    "duration": 7,
    "start_time": "2022-05-04T13:41:14.129Z"
   },
   {
    "duration": 3592,
    "start_time": "2022-05-04T13:41:14.138Z"
   },
   {
    "duration": 3703,
    "start_time": "2022-05-04T13:41:17.733Z"
   },
   {
    "duration": 3541,
    "start_time": "2022-05-04T13:41:21.438Z"
   },
   {
    "duration": 4,
    "start_time": "2022-05-04T13:41:24.983Z"
   },
   {
    "duration": 10,
    "start_time": "2022-05-04T13:41:24.989Z"
   },
   {
    "duration": 25,
    "start_time": "2022-05-04T13:41:25.000Z"
   },
   {
    "duration": 5,
    "start_time": "2022-05-04T13:41:25.027Z"
   },
   {
    "duration": 6,
    "start_time": "2022-05-04T13:41:25.034Z"
   },
   {
    "duration": 16,
    "start_time": "2022-05-04T13:41:25.041Z"
   },
   {
    "duration": 4,
    "start_time": "2022-05-04T13:41:25.059Z"
   },
   {
    "duration": 6,
    "start_time": "2022-05-04T13:41:25.065Z"
   },
   {
    "duration": 4,
    "start_time": "2022-05-04T13:41:25.073Z"
   },
   {
    "duration": 15,
    "start_time": "2022-05-04T13:41:25.112Z"
   },
   {
    "duration": 4,
    "start_time": "2022-05-04T13:41:25.129Z"
   },
   {
    "duration": 6,
    "start_time": "2022-05-04T13:41:25.135Z"
   },
   {
    "duration": 5,
    "start_time": "2022-05-04T13:41:25.143Z"
   },
   {
    "duration": 6,
    "start_time": "2022-05-04T13:41:25.150Z"
   },
   {
    "duration": 16,
    "start_time": "2022-05-04T13:41:25.158Z"
   },
   {
    "duration": 40,
    "start_time": "2022-05-04T13:41:25.176Z"
   },
   {
    "duration": 12,
    "start_time": "2022-05-04T13:41:25.218Z"
   },
   {
    "duration": 17,
    "start_time": "2022-05-04T13:41:25.232Z"
   },
   {
    "duration": 7,
    "start_time": "2022-05-04T13:41:25.251Z"
   },
   {
    "duration": 5,
    "start_time": "2022-05-04T13:41:25.259Z"
   },
   {
    "duration": 8,
    "start_time": "2022-05-04T13:41:25.266Z"
   },
   {
    "duration": 36,
    "start_time": "2022-05-04T13:41:25.276Z"
   },
   {
    "duration": 5,
    "start_time": "2022-05-04T13:41:25.314Z"
   },
   {
    "duration": 4,
    "start_time": "2022-05-04T13:41:25.321Z"
   },
   {
    "duration": 6,
    "start_time": "2022-05-04T13:41:25.328Z"
   },
   {
    "duration": 6,
    "start_time": "2022-05-04T13:41:25.335Z"
   },
   {
    "duration": 5,
    "start_time": "2022-05-04T13:41:25.342Z"
   },
   {
    "duration": 7,
    "start_time": "2022-05-04T13:41:25.349Z"
   },
   {
    "duration": 9,
    "start_time": "2022-05-04T13:41:25.358Z"
   },
   {
    "duration": 42,
    "start_time": "2022-05-04T13:41:25.369Z"
   },
   {
    "duration": 1262,
    "start_time": "2022-05-09T13:37:54.266Z"
   },
   {
    "duration": 421,
    "start_time": "2022-05-09T13:37:55.530Z"
   },
   {
    "duration": 111,
    "start_time": "2022-05-09T13:37:55.953Z"
   },
   {
    "duration": 4,
    "start_time": "2022-05-09T13:37:56.066Z"
   },
   {
    "duration": 190,
    "start_time": "2022-05-09T13:37:56.073Z"
   },
   {
    "duration": 3,
    "start_time": "2022-05-09T13:37:56.265Z"
   },
   {
    "duration": 253,
    "start_time": "2022-05-09T13:37:56.271Z"
   },
   {
    "duration": 543,
    "start_time": "2022-05-09T13:37:56.527Z"
   },
   {
    "duration": 233,
    "start_time": "2022-05-09T13:37:57.072Z"
   },
   {
    "duration": 51,
    "start_time": "2022-05-09T13:37:57.308Z"
   },
   {
    "duration": 34,
    "start_time": "2022-05-09T13:37:57.361Z"
   },
   {
    "duration": 28,
    "start_time": "2022-05-09T13:37:57.396Z"
   },
   {
    "duration": 15225,
    "start_time": "2022-05-09T13:37:57.427Z"
   },
   {
    "duration": 23,
    "start_time": "2022-05-09T13:38:12.654Z"
   },
   {
    "duration": 162,
    "start_time": "2022-05-09T13:38:12.679Z"
   },
   {
    "duration": 17,
    "start_time": "2022-05-09T13:38:12.843Z"
   },
   {
    "duration": 379,
    "start_time": "2022-05-09T13:38:12.862Z"
   },
   {
    "duration": 50,
    "start_time": "2022-05-09T13:38:13.243Z"
   },
   {
    "duration": 33,
    "start_time": "2022-05-09T13:38:13.295Z"
   },
   {
    "duration": 5,
    "start_time": "2022-05-09T13:38:13.330Z"
   },
   {
    "duration": 20,
    "start_time": "2022-05-09T13:38:13.337Z"
   },
   {
    "duration": 222,
    "start_time": "2022-05-09T13:38:13.359Z"
   },
   {
    "duration": 3,
    "start_time": "2022-05-09T13:38:13.583Z"
   },
   {
    "duration": 7,
    "start_time": "2022-05-09T13:38:13.588Z"
   },
   {
    "duration": 7,
    "start_time": "2022-05-09T13:38:13.596Z"
   },
   {
    "duration": 100,
    "start_time": "2022-05-09T13:38:13.604Z"
   },
   {
    "duration": 3,
    "start_time": "2022-05-09T13:38:13.706Z"
   },
   {
    "duration": 3,
    "start_time": "2022-05-09T13:38:13.723Z"
   },
   {
    "duration": 148,
    "start_time": "2022-05-09T13:38:13.728Z"
   },
   {
    "duration": 14,
    "start_time": "2022-05-09T13:38:13.879Z"
   },
   {
    "duration": 38,
    "start_time": "2022-05-09T13:38:13.894Z"
   },
   {
    "duration": 117,
    "start_time": "2022-05-09T13:38:13.934Z"
   },
   {
    "duration": 8,
    "start_time": "2022-05-09T13:38:14.052Z"
   },
   {
    "duration": 7,
    "start_time": "2022-05-09T13:38:14.062Z"
   },
   {
    "duration": 8,
    "start_time": "2022-05-09T13:38:14.071Z"
   },
   {
    "duration": 146,
    "start_time": "2022-05-09T13:38:14.081Z"
   },
   {
    "duration": 10,
    "start_time": "2022-05-09T13:38:14.229Z"
   },
   {
    "duration": 18,
    "start_time": "2022-05-09T13:38:14.241Z"
   },
   {
    "duration": 144,
    "start_time": "2022-05-09T13:38:14.261Z"
   },
   {
    "duration": 3,
    "start_time": "2022-05-09T13:38:14.407Z"
   },
   {
    "duration": 13,
    "start_time": "2022-05-09T13:38:14.412Z"
   },
   {
    "duration": 98,
    "start_time": "2022-05-09T13:38:14.426Z"
   },
   {
    "duration": 10,
    "start_time": "2022-05-09T13:38:14.525Z"
   },
   {
    "duration": 25,
    "start_time": "2022-05-09T13:38:14.536Z"
   },
   {
    "duration": 7,
    "start_time": "2022-05-09T13:38:14.563Z"
   },
   {
    "duration": 58,
    "start_time": "2022-05-09T13:38:14.572Z"
   },
   {
    "duration": 11,
    "start_time": "2022-05-09T13:38:14.633Z"
   },
   {
    "duration": 24,
    "start_time": "2022-05-09T13:38:14.646Z"
   },
   {
    "duration": 5,
    "start_time": "2022-05-09T13:38:14.673Z"
   },
   {
    "duration": 6,
    "start_time": "2022-05-09T13:38:14.681Z"
   },
   {
    "duration": 364,
    "start_time": "2022-05-09T13:38:14.689Z"
   },
   {
    "duration": 43,
    "start_time": "2022-05-09T13:38:15.055Z"
   },
   {
    "duration": 34,
    "start_time": "2022-05-09T13:38:15.101Z"
   },
   {
    "duration": 7,
    "start_time": "2022-05-09T13:38:15.137Z"
   },
   {
    "duration": 2950,
    "start_time": "2022-05-09T13:38:15.146Z"
   },
   {
    "duration": 4037,
    "start_time": "2022-05-09T13:38:18.098Z"
   },
   {
    "duration": 2964,
    "start_time": "2022-05-09T13:38:22.137Z"
   },
   {
    "duration": 6,
    "start_time": "2022-05-09T13:38:25.103Z"
   },
   {
    "duration": 18,
    "start_time": "2022-05-09T13:38:25.111Z"
   },
   {
    "duration": 14,
    "start_time": "2022-05-09T13:38:25.131Z"
   },
   {
    "duration": 6,
    "start_time": "2022-05-09T13:38:25.147Z"
   },
   {
    "duration": 7,
    "start_time": "2022-05-09T13:38:25.155Z"
   },
   {
    "duration": 16,
    "start_time": "2022-05-09T13:38:25.165Z"
   },
   {
    "duration": 4,
    "start_time": "2022-05-09T13:38:25.183Z"
   },
   {
    "duration": 36,
    "start_time": "2022-05-09T13:38:25.189Z"
   },
   {
    "duration": 8,
    "start_time": "2022-05-09T13:38:25.227Z"
   },
   {
    "duration": 23,
    "start_time": "2022-05-09T13:38:25.238Z"
   },
   {
    "duration": 10,
    "start_time": "2022-05-09T13:38:25.264Z"
   },
   {
    "duration": 6,
    "start_time": "2022-05-09T13:38:25.277Z"
   },
   {
    "duration": 9,
    "start_time": "2022-05-09T13:38:25.285Z"
   },
   {
    "duration": 8,
    "start_time": "2022-05-09T13:38:25.297Z"
   },
   {
    "duration": 20,
    "start_time": "2022-05-09T13:38:25.307Z"
   },
   {
    "duration": 11,
    "start_time": "2022-05-09T13:38:25.329Z"
   },
   {
    "duration": 12,
    "start_time": "2022-05-09T13:38:25.342Z"
   },
   {
    "duration": 13,
    "start_time": "2022-05-09T13:38:25.356Z"
   },
   {
    "duration": 9,
    "start_time": "2022-05-09T13:38:25.371Z"
   },
   {
    "duration": 10,
    "start_time": "2022-05-09T13:38:25.382Z"
   },
   {
    "duration": 13,
    "start_time": "2022-05-09T13:38:25.394Z"
   },
   {
    "duration": 6,
    "start_time": "2022-05-09T13:38:25.423Z"
   },
   {
    "duration": 7,
    "start_time": "2022-05-09T13:38:25.431Z"
   },
   {
    "duration": 8,
    "start_time": "2022-05-09T13:38:25.440Z"
   },
   {
    "duration": 4,
    "start_time": "2022-05-09T13:38:25.454Z"
   },
   {
    "duration": 6,
    "start_time": "2022-05-09T13:38:25.460Z"
   },
   {
    "duration": 9,
    "start_time": "2022-05-09T13:38:25.468Z"
   },
   {
    "duration": 8,
    "start_time": "2022-05-09T13:38:25.479Z"
   },
   {
    "duration": 36,
    "start_time": "2022-05-09T13:38:25.489Z"
   },
   {
    "duration": 4,
    "start_time": "2022-05-09T13:38:25.528Z"
   },
   {
    "duration": 122,
    "start_time": "2022-05-09T13:47:48.813Z"
   },
   {
    "duration": 14,
    "start_time": "2022-05-09T13:48:40.343Z"
   },
   {
    "duration": 8,
    "start_time": "2022-05-09T13:49:16.440Z"
   },
   {
    "duration": 28,
    "start_time": "2022-05-09T13:50:25.080Z"
   },
   {
    "duration": 23,
    "start_time": "2022-05-09T13:51:59.643Z"
   },
   {
    "duration": 103,
    "start_time": "2022-05-09T13:52:16.446Z"
   },
   {
    "duration": 15,
    "start_time": "2022-05-09T13:52:20.879Z"
   },
   {
    "duration": 11,
    "start_time": "2022-05-09T13:52:36.687Z"
   },
   {
    "duration": 25,
    "start_time": "2022-05-09T13:53:23.214Z"
   },
   {
    "duration": 10,
    "start_time": "2022-05-09T13:54:00.422Z"
   },
   {
    "duration": 124,
    "start_time": "2022-05-09T13:54:14.549Z"
   },
   {
    "duration": 23,
    "start_time": "2022-05-09T13:54:18.085Z"
   },
   {
    "duration": 33,
    "start_time": "2022-05-09T13:55:15.828Z"
   },
   {
    "duration": 22,
    "start_time": "2022-05-09T13:55:23.485Z"
   },
   {
    "duration": 13,
    "start_time": "2022-05-09T13:55:25.749Z"
   },
   {
    "duration": 4,
    "start_time": "2022-05-09T13:55:31.061Z"
   },
   {
    "duration": 6,
    "start_time": "2022-05-09T13:55:39.677Z"
   },
   {
    "duration": 135,
    "start_time": "2022-05-09T13:56:44.813Z"
   },
   {
    "duration": 147,
    "start_time": "2022-05-09T13:56:51.316Z"
   },
   {
    "duration": 369,
    "start_time": "2022-05-09T13:57:02.268Z"
   },
   {
    "duration": 291,
    "start_time": "2022-05-09T13:57:16.341Z"
   },
   {
    "duration": 382,
    "start_time": "2022-05-09T13:57:21.268Z"
   },
   {
    "duration": 348,
    "start_time": "2022-05-09T13:57:23.884Z"
   },
   {
    "duration": 9,
    "start_time": "2022-05-09T14:12:44.688Z"
   },
   {
    "duration": 1972,
    "start_time": "2022-05-09T14:13:10.412Z"
   },
   {
    "duration": 2100,
    "start_time": "2022-05-09T14:13:32.038Z"
   },
   {
    "duration": 1931,
    "start_time": "2022-05-09T14:14:10.176Z"
   },
   {
    "duration": 1957,
    "start_time": "2022-05-09T14:14:25.215Z"
   },
   {
    "duration": 1973,
    "start_time": "2022-05-09T14:14:39.078Z"
   },
   {
    "duration": 8,
    "start_time": "2022-05-09T14:14:51.822Z"
   },
   {
    "duration": 131,
    "start_time": "2022-05-09T14:15:23.591Z"
   },
   {
    "duration": 908,
    "start_time": "2022-05-09T14:15:31.342Z"
   },
   {
    "duration": 2471,
    "start_time": "2022-05-09T14:16:56.350Z"
   },
   {
    "duration": 1369,
    "start_time": "2022-05-11T10:23:06.482Z"
   },
   {
    "duration": 485,
    "start_time": "2022-05-11T10:23:07.853Z"
   },
   {
    "duration": 150,
    "start_time": "2022-05-11T10:23:08.339Z"
   },
   {
    "duration": 38,
    "start_time": "2022-05-11T10:23:08.492Z"
   },
   {
    "duration": 47,
    "start_time": "2022-05-11T10:23:08.532Z"
   },
   {
    "duration": 14,
    "start_time": "2022-05-11T10:23:08.581Z"
   },
   {
    "duration": 32,
    "start_time": "2022-05-11T10:23:08.597Z"
   },
   {
    "duration": 63,
    "start_time": "2022-05-11T10:23:08.631Z"
   },
   {
    "duration": 14,
    "start_time": "2022-05-11T10:23:08.696Z"
   },
   {
    "duration": 12,
    "start_time": "2022-05-11T10:23:08.714Z"
   },
   {
    "duration": 2552,
    "start_time": "2022-05-11T10:23:08.727Z"
   },
   {
    "duration": 0,
    "start_time": "2022-05-11T10:23:11.289Z"
   },
   {
    "duration": 0,
    "start_time": "2022-05-11T10:23:11.293Z"
   },
   {
    "duration": 0,
    "start_time": "2022-05-11T10:23:11.295Z"
   },
   {
    "duration": 0,
    "start_time": "2022-05-11T10:23:11.296Z"
   },
   {
    "duration": 0,
    "start_time": "2022-05-11T10:23:11.297Z"
   },
   {
    "duration": 0,
    "start_time": "2022-05-11T10:23:11.298Z"
   },
   {
    "duration": 0,
    "start_time": "2022-05-11T10:23:11.301Z"
   },
   {
    "duration": 0,
    "start_time": "2022-05-11T10:23:11.302Z"
   },
   {
    "duration": 1,
    "start_time": "2022-05-11T10:23:11.302Z"
   },
   {
    "duration": 0,
    "start_time": "2022-05-11T10:23:11.304Z"
   },
   {
    "duration": 0,
    "start_time": "2022-05-11T10:23:11.304Z"
   },
   {
    "duration": 0,
    "start_time": "2022-05-11T10:23:11.305Z"
   },
   {
    "duration": 0,
    "start_time": "2022-05-11T10:23:11.306Z"
   },
   {
    "duration": 0,
    "start_time": "2022-05-11T10:23:11.307Z"
   },
   {
    "duration": 0,
    "start_time": "2022-05-11T10:23:11.308Z"
   },
   {
    "duration": 0,
    "start_time": "2022-05-11T10:23:11.309Z"
   },
   {
    "duration": 0,
    "start_time": "2022-05-11T10:23:11.310Z"
   },
   {
    "duration": 0,
    "start_time": "2022-05-11T10:23:11.311Z"
   },
   {
    "duration": 0,
    "start_time": "2022-05-11T10:23:11.312Z"
   },
   {
    "duration": 0,
    "start_time": "2022-05-11T10:23:11.313Z"
   },
   {
    "duration": 0,
    "start_time": "2022-05-11T10:23:11.314Z"
   },
   {
    "duration": 1,
    "start_time": "2022-05-11T10:23:11.314Z"
   },
   {
    "duration": 0,
    "start_time": "2022-05-11T10:23:11.315Z"
   },
   {
    "duration": 0,
    "start_time": "2022-05-11T10:23:11.316Z"
   },
   {
    "duration": 0,
    "start_time": "2022-05-11T10:23:11.317Z"
   },
   {
    "duration": 0,
    "start_time": "2022-05-11T10:23:11.318Z"
   },
   {
    "duration": 0,
    "start_time": "2022-05-11T10:23:11.319Z"
   },
   {
    "duration": 0,
    "start_time": "2022-05-11T10:23:11.319Z"
   },
   {
    "duration": 0,
    "start_time": "2022-05-11T10:23:11.320Z"
   },
   {
    "duration": 0,
    "start_time": "2022-05-11T10:23:11.321Z"
   },
   {
    "duration": 0,
    "start_time": "2022-05-11T10:23:11.322Z"
   },
   {
    "duration": 0,
    "start_time": "2022-05-11T10:23:11.323Z"
   },
   {
    "duration": 0,
    "start_time": "2022-05-11T10:23:11.324Z"
   },
   {
    "duration": 1,
    "start_time": "2022-05-11T10:23:11.324Z"
   },
   {
    "duration": 0,
    "start_time": "2022-05-11T10:23:11.325Z"
   },
   {
    "duration": 0,
    "start_time": "2022-05-11T10:23:11.326Z"
   },
   {
    "duration": 0,
    "start_time": "2022-05-11T10:23:11.327Z"
   },
   {
    "duration": 0,
    "start_time": "2022-05-11T10:23:11.375Z"
   },
   {
    "duration": 0,
    "start_time": "2022-05-11T10:23:11.376Z"
   },
   {
    "duration": 0,
    "start_time": "2022-05-11T10:23:11.379Z"
   },
   {
    "duration": 0,
    "start_time": "2022-05-11T10:23:11.380Z"
   },
   {
    "duration": 0,
    "start_time": "2022-05-11T10:23:11.380Z"
   },
   {
    "duration": 0,
    "start_time": "2022-05-11T10:23:11.381Z"
   },
   {
    "duration": 0,
    "start_time": "2022-05-11T10:23:11.384Z"
   },
   {
    "duration": 0,
    "start_time": "2022-05-11T10:23:11.384Z"
   },
   {
    "duration": 0,
    "start_time": "2022-05-11T10:23:11.385Z"
   },
   {
    "duration": 0,
    "start_time": "2022-05-11T10:23:11.385Z"
   },
   {
    "duration": 0,
    "start_time": "2022-05-11T10:23:11.386Z"
   },
   {
    "duration": 0,
    "start_time": "2022-05-11T10:23:11.386Z"
   },
   {
    "duration": 0,
    "start_time": "2022-05-11T10:23:11.387Z"
   },
   {
    "duration": 0,
    "start_time": "2022-05-11T10:23:11.390Z"
   },
   {
    "duration": 0,
    "start_time": "2022-05-11T10:23:11.392Z"
   },
   {
    "duration": 0,
    "start_time": "2022-05-11T10:23:11.393Z"
   },
   {
    "duration": 0,
    "start_time": "2022-05-11T10:23:11.397Z"
   },
   {
    "duration": 0,
    "start_time": "2022-05-11T10:23:11.398Z"
   },
   {
    "duration": 0,
    "start_time": "2022-05-11T10:23:11.399Z"
   },
   {
    "duration": 0,
    "start_time": "2022-05-11T10:23:11.400Z"
   },
   {
    "duration": 0,
    "start_time": "2022-05-11T10:23:11.401Z"
   },
   {
    "duration": 0,
    "start_time": "2022-05-11T10:23:11.402Z"
   },
   {
    "duration": 0,
    "start_time": "2022-05-11T10:23:11.403Z"
   },
   {
    "duration": 0,
    "start_time": "2022-05-11T10:23:11.404Z"
   },
   {
    "duration": 0,
    "start_time": "2022-05-11T10:23:11.406Z"
   },
   {
    "duration": 0,
    "start_time": "2022-05-11T10:23:11.407Z"
   },
   {
    "duration": 0,
    "start_time": "2022-05-11T10:23:11.408Z"
   },
   {
    "duration": 0,
    "start_time": "2022-05-11T10:23:11.409Z"
   },
   {
    "duration": 0,
    "start_time": "2022-05-11T10:23:11.410Z"
   },
   {
    "duration": 0,
    "start_time": "2022-05-11T10:23:11.411Z"
   },
   {
    "duration": 0,
    "start_time": "2022-05-11T10:23:11.412Z"
   },
   {
    "duration": 0,
    "start_time": "2022-05-11T10:23:11.413Z"
   },
   {
    "duration": 0,
    "start_time": "2022-05-11T10:23:11.414Z"
   },
   {
    "duration": 0,
    "start_time": "2022-05-11T10:23:11.415Z"
   },
   {
    "duration": 0,
    "start_time": "2022-05-11T10:23:11.417Z"
   },
   {
    "duration": 0,
    "start_time": "2022-05-11T10:23:11.418Z"
   },
   {
    "duration": 0,
    "start_time": "2022-05-11T10:23:11.419Z"
   },
   {
    "duration": 0,
    "start_time": "2022-05-11T10:23:11.476Z"
   },
   {
    "duration": 0,
    "start_time": "2022-05-11T10:23:11.478Z"
   },
   {
    "duration": 0,
    "start_time": "2022-05-11T10:23:11.479Z"
   },
   {
    "duration": 0,
    "start_time": "2022-05-11T10:23:11.483Z"
   },
   {
    "duration": 0,
    "start_time": "2022-05-11T10:23:11.484Z"
   },
   {
    "duration": 0,
    "start_time": "2022-05-11T10:23:11.485Z"
   },
   {
    "duration": 0,
    "start_time": "2022-05-11T10:23:11.486Z"
   },
   {
    "duration": 0,
    "start_time": "2022-05-11T10:23:11.487Z"
   },
   {
    "duration": 0,
    "start_time": "2022-05-11T10:23:11.489Z"
   },
   {
    "duration": 0,
    "start_time": "2022-05-11T10:23:11.490Z"
   },
   {
    "duration": 12,
    "start_time": "2022-05-11T11:59:54.455Z"
   },
   {
    "duration": 32,
    "start_time": "2022-05-11T12:03:01.174Z"
   },
   {
    "duration": 1017,
    "start_time": "2022-05-11T12:03:34.407Z"
   },
   {
    "duration": 407,
    "start_time": "2022-05-11T12:03:35.426Z"
   },
   {
    "duration": 107,
    "start_time": "2022-05-11T12:03:35.835Z"
   },
   {
    "duration": 1998,
    "start_time": "2022-05-11T12:03:35.944Z"
   },
   {
    "duration": 0,
    "start_time": "2022-05-11T12:03:37.946Z"
   },
   {
    "duration": 0,
    "start_time": "2022-05-11T12:03:37.947Z"
   },
   {
    "duration": 0,
    "start_time": "2022-05-11T12:03:37.948Z"
   },
   {
    "duration": 0,
    "start_time": "2022-05-11T12:03:37.950Z"
   },
   {
    "duration": 0,
    "start_time": "2022-05-11T12:03:37.950Z"
   },
   {
    "duration": 0,
    "start_time": "2022-05-11T12:03:37.951Z"
   },
   {
    "duration": 0,
    "start_time": "2022-05-11T12:03:37.952Z"
   },
   {
    "duration": 0,
    "start_time": "2022-05-11T12:03:37.954Z"
   },
   {
    "duration": 0,
    "start_time": "2022-05-11T12:03:37.955Z"
   },
   {
    "duration": 0,
    "start_time": "2022-05-11T12:03:37.956Z"
   },
   {
    "duration": 0,
    "start_time": "2022-05-11T12:03:37.957Z"
   },
   {
    "duration": 0,
    "start_time": "2022-05-11T12:03:37.958Z"
   },
   {
    "duration": 0,
    "start_time": "2022-05-11T12:03:37.959Z"
   },
   {
    "duration": 0,
    "start_time": "2022-05-11T12:03:37.960Z"
   },
   {
    "duration": 0,
    "start_time": "2022-05-11T12:03:37.962Z"
   },
   {
    "duration": 0,
    "start_time": "2022-05-11T12:03:37.963Z"
   },
   {
    "duration": 0,
    "start_time": "2022-05-11T12:03:37.964Z"
   },
   {
    "duration": 0,
    "start_time": "2022-05-11T12:03:37.965Z"
   },
   {
    "duration": 0,
    "start_time": "2022-05-11T12:03:37.966Z"
   },
   {
    "duration": 0,
    "start_time": "2022-05-11T12:03:37.967Z"
   },
   {
    "duration": 0,
    "start_time": "2022-05-11T12:03:37.968Z"
   },
   {
    "duration": 0,
    "start_time": "2022-05-11T12:03:37.969Z"
   },
   {
    "duration": 0,
    "start_time": "2022-05-11T12:03:37.970Z"
   },
   {
    "duration": 0,
    "start_time": "2022-05-11T12:03:37.971Z"
   },
   {
    "duration": 0,
    "start_time": "2022-05-11T12:03:37.972Z"
   },
   {
    "duration": 0,
    "start_time": "2022-05-11T12:03:37.973Z"
   },
   {
    "duration": 0,
    "start_time": "2022-05-11T12:03:37.974Z"
   },
   {
    "duration": 0,
    "start_time": "2022-05-11T12:03:37.975Z"
   },
   {
    "duration": 0,
    "start_time": "2022-05-11T12:03:37.976Z"
   },
   {
    "duration": 0,
    "start_time": "2022-05-11T12:03:37.977Z"
   },
   {
    "duration": 0,
    "start_time": "2022-05-11T12:03:37.978Z"
   },
   {
    "duration": 0,
    "start_time": "2022-05-11T12:03:37.980Z"
   },
   {
    "duration": 0,
    "start_time": "2022-05-11T12:03:37.981Z"
   },
   {
    "duration": 0,
    "start_time": "2022-05-11T12:03:37.982Z"
   },
   {
    "duration": 0,
    "start_time": "2022-05-11T12:03:37.983Z"
   },
   {
    "duration": 0,
    "start_time": "2022-05-11T12:03:37.984Z"
   },
   {
    "duration": 0,
    "start_time": "2022-05-11T12:03:37.985Z"
   },
   {
    "duration": 0,
    "start_time": "2022-05-11T12:03:37.986Z"
   },
   {
    "duration": 0,
    "start_time": "2022-05-11T12:03:37.986Z"
   },
   {
    "duration": 0,
    "start_time": "2022-05-11T12:03:37.988Z"
   },
   {
    "duration": 0,
    "start_time": "2022-05-11T12:03:37.989Z"
   },
   {
    "duration": 0,
    "start_time": "2022-05-11T12:03:37.990Z"
   },
   {
    "duration": 0,
    "start_time": "2022-05-11T12:03:37.991Z"
   },
   {
    "duration": 0,
    "start_time": "2022-05-11T12:03:37.992Z"
   },
   {
    "duration": 0,
    "start_time": "2022-05-11T12:03:37.993Z"
   },
   {
    "duration": 0,
    "start_time": "2022-05-11T12:03:37.994Z"
   },
   {
    "duration": 0,
    "start_time": "2022-05-11T12:03:37.995Z"
   },
   {
    "duration": 0,
    "start_time": "2022-05-11T12:03:37.996Z"
   },
   {
    "duration": 0,
    "start_time": "2022-05-11T12:03:37.997Z"
   },
   {
    "duration": 0,
    "start_time": "2022-05-11T12:03:37.998Z"
   },
   {
    "duration": 0,
    "start_time": "2022-05-11T12:03:37.999Z"
   },
   {
    "duration": 0,
    "start_time": "2022-05-11T12:03:38.000Z"
   },
   {
    "duration": 0,
    "start_time": "2022-05-11T12:03:38.001Z"
   },
   {
    "duration": 0,
    "start_time": "2022-05-11T12:03:38.003Z"
   },
   {
    "duration": 0,
    "start_time": "2022-05-11T12:03:38.004Z"
   },
   {
    "duration": 0,
    "start_time": "2022-05-11T12:03:38.005Z"
   },
   {
    "duration": 0,
    "start_time": "2022-05-11T12:03:38.006Z"
   },
   {
    "duration": 0,
    "start_time": "2022-05-11T12:03:38.007Z"
   },
   {
    "duration": 0,
    "start_time": "2022-05-11T12:03:38.008Z"
   },
   {
    "duration": 0,
    "start_time": "2022-05-11T12:03:38.009Z"
   },
   {
    "duration": 0,
    "start_time": "2022-05-11T12:03:38.010Z"
   },
   {
    "duration": 0,
    "start_time": "2022-05-11T12:03:38.011Z"
   },
   {
    "duration": 0,
    "start_time": "2022-05-11T12:03:38.012Z"
   },
   {
    "duration": 0,
    "start_time": "2022-05-11T12:03:38.013Z"
   },
   {
    "duration": 0,
    "start_time": "2022-05-11T12:03:38.074Z"
   },
   {
    "duration": 0,
    "start_time": "2022-05-11T12:03:38.075Z"
   },
   {
    "duration": 0,
    "start_time": "2022-05-11T12:03:38.076Z"
   },
   {
    "duration": 0,
    "start_time": "2022-05-11T12:03:38.077Z"
   },
   {
    "duration": 0,
    "start_time": "2022-05-11T12:03:38.077Z"
   },
   {
    "duration": 0,
    "start_time": "2022-05-11T12:03:38.078Z"
   },
   {
    "duration": 0,
    "start_time": "2022-05-11T12:03:38.079Z"
   },
   {
    "duration": 0,
    "start_time": "2022-05-11T12:03:38.080Z"
   },
   {
    "duration": 0,
    "start_time": "2022-05-11T12:03:38.082Z"
   },
   {
    "duration": 0,
    "start_time": "2022-05-11T12:03:38.082Z"
   },
   {
    "duration": 0,
    "start_time": "2022-05-11T12:03:38.083Z"
   },
   {
    "duration": 0,
    "start_time": "2022-05-11T12:03:38.084Z"
   },
   {
    "duration": 0,
    "start_time": "2022-05-11T12:03:38.085Z"
   },
   {
    "duration": 0,
    "start_time": "2022-05-11T12:03:38.086Z"
   },
   {
    "duration": 0,
    "start_time": "2022-05-11T12:03:38.087Z"
   },
   {
    "duration": 0,
    "start_time": "2022-05-11T12:03:38.088Z"
   },
   {
    "duration": 0,
    "start_time": "2022-05-11T12:03:38.089Z"
   },
   {
    "duration": 0,
    "start_time": "2022-05-11T12:03:38.089Z"
   },
   {
    "duration": 0,
    "start_time": "2022-05-11T12:03:38.090Z"
   },
   {
    "duration": 0,
    "start_time": "2022-05-11T12:03:38.091Z"
   },
   {
    "duration": 0,
    "start_time": "2022-05-11T12:03:38.092Z"
   },
   {
    "duration": 0,
    "start_time": "2022-05-11T12:03:38.093Z"
   },
   {
    "duration": 0,
    "start_time": "2022-05-11T12:03:38.094Z"
   },
   {
    "duration": 0,
    "start_time": "2022-05-11T12:03:38.095Z"
   },
   {
    "duration": 0,
    "start_time": "2022-05-11T12:03:38.096Z"
   },
   {
    "duration": 0,
    "start_time": "2022-05-11T12:03:38.097Z"
   },
   {
    "duration": 0,
    "start_time": "2022-05-11T12:03:38.098Z"
   },
   {
    "duration": 21,
    "start_time": "2022-05-11T12:04:05.102Z"
   },
   {
    "duration": 31,
    "start_time": "2022-05-11T12:04:12.119Z"
   },
   {
    "duration": 34,
    "start_time": "2022-05-11T12:04:13.401Z"
   },
   {
    "duration": 45,
    "start_time": "2022-05-11T12:04:46.726Z"
   },
   {
    "duration": 47,
    "start_time": "2022-05-11T12:05:17.099Z"
   },
   {
    "duration": 10,
    "start_time": "2022-05-11T12:05:18.911Z"
   },
   {
    "duration": 44,
    "start_time": "2022-05-11T12:05:23.968Z"
   },
   {
    "duration": 43,
    "start_time": "2022-05-11T12:05:39.659Z"
   },
   {
    "duration": 18,
    "start_time": "2022-05-11T12:05:50.744Z"
   },
   {
    "duration": 30,
    "start_time": "2022-05-11T12:07:14.749Z"
   },
   {
    "duration": 11,
    "start_time": "2022-05-11T12:07:39.247Z"
   },
   {
    "duration": 30,
    "start_time": "2022-05-11T12:08:59.051Z"
   },
   {
    "duration": 12,
    "start_time": "2022-05-11T12:09:16.918Z"
   },
   {
    "duration": 4,
    "start_time": "2022-05-11T12:09:22.191Z"
   },
   {
    "duration": 12,
    "start_time": "2022-05-11T12:09:26.791Z"
   },
   {
    "duration": 4,
    "start_time": "2022-05-11T12:10:15.894Z"
   },
   {
    "duration": 3,
    "start_time": "2022-05-11T12:16:41.461Z"
   },
   {
    "duration": 464,
    "start_time": "2022-05-11T12:16:41.467Z"
   },
   {
    "duration": 118,
    "start_time": "2022-05-11T12:16:41.933Z"
   },
   {
    "duration": 4,
    "start_time": "2022-05-11T12:16:51.234Z"
   },
   {
    "duration": 6,
    "start_time": "2022-05-11T12:21:48.521Z"
   },
   {
    "duration": 13,
    "start_time": "2022-05-11T12:22:25.932Z"
   },
   {
    "duration": 12,
    "start_time": "2022-05-11T12:22:32.931Z"
   },
   {
    "duration": 8,
    "start_time": "2022-05-11T12:22:36.581Z"
   },
   {
    "duration": 14,
    "start_time": "2022-05-11T12:22:59.828Z"
   },
   {
    "duration": 10,
    "start_time": "2022-05-11T12:23:07.229Z"
   },
   {
    "duration": 10,
    "start_time": "2022-05-11T12:23:13.491Z"
   },
   {
    "duration": 13,
    "start_time": "2022-05-11T12:23:32.498Z"
   },
   {
    "duration": 9,
    "start_time": "2022-05-11T12:24:13.258Z"
   },
   {
    "duration": 26,
    "start_time": "2022-05-11T12:26:39.780Z"
   },
   {
    "duration": 21,
    "start_time": "2022-05-11T12:27:09.962Z"
   },
   {
    "duration": 48,
    "start_time": "2022-05-11T12:27:27.451Z"
   },
   {
    "duration": 13,
    "start_time": "2022-05-11T12:28:22.860Z"
   },
   {
    "duration": 80,
    "start_time": "2022-05-11T12:28:42.833Z"
   },
   {
    "duration": 15,
    "start_time": "2022-05-11T12:28:46.979Z"
   },
   {
    "duration": 17,
    "start_time": "2022-05-11T12:28:58.400Z"
   },
   {
    "duration": 4,
    "start_time": "2022-05-11T12:29:08.586Z"
   },
   {
    "duration": 59,
    "start_time": "2022-05-11T12:30:24.222Z"
   },
   {
    "duration": 7046,
    "start_time": "2022-05-11T12:31:39.957Z"
   },
   {
    "duration": 8,
    "start_time": "2022-05-11T12:31:47.005Z"
   },
   {
    "duration": 84,
    "start_time": "2022-05-11T12:33:17.565Z"
   },
   {
    "duration": 126,
    "start_time": "2022-05-11T12:33:53.367Z"
   },
   {
    "duration": 119,
    "start_time": "2022-05-11T12:34:01.264Z"
   },
   {
    "duration": 285,
    "start_time": "2022-05-11T12:34:57.493Z"
   },
   {
    "duration": 14,
    "start_time": "2022-05-11T12:36:12.270Z"
   },
   {
    "duration": 104,
    "start_time": "2022-05-11T12:38:21.727Z"
   },
   {
    "duration": 2045,
    "start_time": "2022-05-11T12:41:09.683Z"
   },
   {
    "duration": 51,
    "start_time": "2022-05-11T12:41:44.093Z"
   },
   {
    "duration": 9,
    "start_time": "2022-05-11T12:41:49.293Z"
   },
   {
    "duration": 5,
    "start_time": "2022-05-11T12:42:09.492Z"
   },
   {
    "duration": 9,
    "start_time": "2022-05-11T12:42:10.508Z"
   },
   {
    "duration": 9,
    "start_time": "2022-05-11T12:42:14.652Z"
   },
   {
    "duration": 17,
    "start_time": "2022-05-11T12:42:27.821Z"
   },
   {
    "duration": 33,
    "start_time": "2022-05-11T12:42:34.629Z"
   },
   {
    "duration": 13,
    "start_time": "2022-05-11T12:42:37.180Z"
   },
   {
    "duration": 16,
    "start_time": "2022-05-11T12:43:23.997Z"
   },
   {
    "duration": 12,
    "start_time": "2022-05-11T12:43:24.667Z"
   },
   {
    "duration": 17,
    "start_time": "2022-05-11T12:44:02.803Z"
   },
   {
    "duration": 18,
    "start_time": "2022-05-11T12:44:06.131Z"
   },
   {
    "duration": 11,
    "start_time": "2022-05-11T12:44:07.429Z"
   },
   {
    "duration": 9,
    "start_time": "2022-05-11T12:53:00.946Z"
   },
   {
    "duration": 6,
    "start_time": "2022-05-11T12:53:07.186Z"
   },
   {
    "duration": 14,
    "start_time": "2022-05-11T12:53:14.970Z"
   },
   {
    "duration": 4,
    "start_time": "2022-05-11T12:53:44.529Z"
   },
   {
    "duration": 8,
    "start_time": "2022-05-11T12:53:45.089Z"
   },
   {
    "duration": 8,
    "start_time": "2022-05-11T12:53:57.352Z"
   },
   {
    "duration": 7,
    "start_time": "2022-05-11T12:57:19.187Z"
   },
   {
    "duration": 8,
    "start_time": "2022-05-11T12:57:29.335Z"
   },
   {
    "duration": 9,
    "start_time": "2022-05-11T13:00:12.759Z"
   },
   {
    "duration": 13,
    "start_time": "2022-05-11T13:00:16.544Z"
   },
   {
    "duration": 35,
    "start_time": "2022-05-11T13:00:45.654Z"
   },
   {
    "duration": 23,
    "start_time": "2022-05-11T13:01:08.557Z"
   },
   {
    "duration": 9,
    "start_time": "2022-05-11T13:02:31.229Z"
   },
   {
    "duration": 23,
    "start_time": "2022-05-11T13:02:34.510Z"
   },
   {
    "duration": 33,
    "start_time": "2022-05-11T13:02:47.281Z"
   },
   {
    "duration": 28,
    "start_time": "2022-05-11T13:03:00.222Z"
   },
   {
    "duration": 28,
    "start_time": "2022-05-11T13:03:04.311Z"
   },
   {
    "duration": 36,
    "start_time": "2022-05-11T13:03:23.629Z"
   },
   {
    "duration": 10,
    "start_time": "2022-05-11T13:09:36.093Z"
   },
   {
    "duration": 24,
    "start_time": "2022-05-11T13:09:40.135Z"
   },
   {
    "duration": 18,
    "start_time": "2022-05-11T13:10:48.098Z"
   },
   {
    "duration": 9,
    "start_time": "2022-05-11T13:11:55.939Z"
   },
   {
    "duration": 22,
    "start_time": "2022-05-11T13:11:59.296Z"
   },
   {
    "duration": 5,
    "start_time": "2022-05-11T13:18:11.616Z"
   },
   {
    "duration": 96,
    "start_time": "2022-05-11T13:18:57.368Z"
   },
   {
    "duration": 24,
    "start_time": "2022-05-11T13:19:00.511Z"
   },
   {
    "duration": 117,
    "start_time": "2022-05-11T13:19:30.904Z"
   },
   {
    "duration": 5,
    "start_time": "2022-05-11T13:21:45.223Z"
   },
   {
    "duration": 19,
    "start_time": "2022-05-11T13:21:47.703Z"
   },
   {
    "duration": 24,
    "start_time": "2022-05-11T13:22:58.966Z"
   },
   {
    "duration": 4,
    "start_time": "2022-05-11T13:23:30.965Z"
   },
   {
    "duration": 467,
    "start_time": "2022-05-11T13:23:30.971Z"
   },
   {
    "duration": 169,
    "start_time": "2022-05-11T13:23:31.440Z"
   },
   {
    "duration": 6,
    "start_time": "2022-05-11T13:23:31.612Z"
   },
   {
    "duration": 14,
    "start_time": "2022-05-11T13:23:31.620Z"
   },
   {
    "duration": 0,
    "start_time": "2022-05-11T13:23:31.638Z"
   },
   {
    "duration": 0,
    "start_time": "2022-05-11T13:23:31.640Z"
   },
   {
    "duration": 0,
    "start_time": "2022-05-11T13:23:31.642Z"
   },
   {
    "duration": 0,
    "start_time": "2022-05-11T13:23:31.644Z"
   },
   {
    "duration": 0,
    "start_time": "2022-05-11T13:23:31.645Z"
   },
   {
    "duration": 0,
    "start_time": "2022-05-11T13:23:31.677Z"
   },
   {
    "duration": 0,
    "start_time": "2022-05-11T13:23:31.678Z"
   },
   {
    "duration": 0,
    "start_time": "2022-05-11T13:23:31.679Z"
   },
   {
    "duration": 0,
    "start_time": "2022-05-11T13:23:31.680Z"
   },
   {
    "duration": 0,
    "start_time": "2022-05-11T13:23:31.681Z"
   },
   {
    "duration": 0,
    "start_time": "2022-05-11T13:23:31.686Z"
   },
   {
    "duration": 0,
    "start_time": "2022-05-11T13:23:31.687Z"
   },
   {
    "duration": 0,
    "start_time": "2022-05-11T13:23:31.689Z"
   },
   {
    "duration": 0,
    "start_time": "2022-05-11T13:23:31.693Z"
   },
   {
    "duration": 0,
    "start_time": "2022-05-11T13:23:31.695Z"
   },
   {
    "duration": 0,
    "start_time": "2022-05-11T13:23:31.697Z"
   },
   {
    "duration": 0,
    "start_time": "2022-05-11T13:23:31.698Z"
   },
   {
    "duration": 0,
    "start_time": "2022-05-11T13:23:31.700Z"
   },
   {
    "duration": 0,
    "start_time": "2022-05-11T13:23:31.702Z"
   },
   {
    "duration": 0,
    "start_time": "2022-05-11T13:23:31.703Z"
   },
   {
    "duration": 0,
    "start_time": "2022-05-11T13:23:31.705Z"
   },
   {
    "duration": 0,
    "start_time": "2022-05-11T13:23:31.707Z"
   },
   {
    "duration": 0,
    "start_time": "2022-05-11T13:23:31.708Z"
   },
   {
    "duration": 0,
    "start_time": "2022-05-11T13:23:31.710Z"
   },
   {
    "duration": 0,
    "start_time": "2022-05-11T13:23:31.711Z"
   },
   {
    "duration": 0,
    "start_time": "2022-05-11T13:23:31.713Z"
   },
   {
    "duration": 0,
    "start_time": "2022-05-11T13:23:31.714Z"
   },
   {
    "duration": 0,
    "start_time": "2022-05-11T13:23:31.716Z"
   },
   {
    "duration": 0,
    "start_time": "2022-05-11T13:23:31.717Z"
   },
   {
    "duration": 0,
    "start_time": "2022-05-11T13:23:31.719Z"
   },
   {
    "duration": 0,
    "start_time": "2022-05-11T13:23:31.720Z"
   },
   {
    "duration": 0,
    "start_time": "2022-05-11T13:23:31.779Z"
   },
   {
    "duration": 0,
    "start_time": "2022-05-11T13:23:31.784Z"
   },
   {
    "duration": 0,
    "start_time": "2022-05-11T13:23:31.786Z"
   },
   {
    "duration": 0,
    "start_time": "2022-05-11T13:23:31.787Z"
   },
   {
    "duration": 0,
    "start_time": "2022-05-11T13:23:31.792Z"
   },
   {
    "duration": 0,
    "start_time": "2022-05-11T13:23:31.793Z"
   },
   {
    "duration": 0,
    "start_time": "2022-05-11T13:23:31.794Z"
   },
   {
    "duration": 0,
    "start_time": "2022-05-11T13:23:31.795Z"
   },
   {
    "duration": 0,
    "start_time": "2022-05-11T13:23:31.797Z"
   },
   {
    "duration": 3,
    "start_time": "2022-05-11T13:23:57.667Z"
   },
   {
    "duration": 480,
    "start_time": "2022-05-11T13:23:57.673Z"
   },
   {
    "duration": 158,
    "start_time": "2022-05-11T13:23:58.155Z"
   },
   {
    "duration": 5,
    "start_time": "2022-05-11T13:23:58.315Z"
   },
   {
    "duration": 19,
    "start_time": "2022-05-11T13:23:58.322Z"
   },
   {
    "duration": 0,
    "start_time": "2022-05-11T13:23:58.345Z"
   },
   {
    "duration": 0,
    "start_time": "2022-05-11T13:23:58.346Z"
   },
   {
    "duration": 0,
    "start_time": "2022-05-11T13:23:58.348Z"
   },
   {
    "duration": 0,
    "start_time": "2022-05-11T13:23:58.349Z"
   },
   {
    "duration": 0,
    "start_time": "2022-05-11T13:23:58.351Z"
   },
   {
    "duration": 0,
    "start_time": "2022-05-11T13:23:58.373Z"
   },
   {
    "duration": 0,
    "start_time": "2022-05-11T13:23:58.376Z"
   },
   {
    "duration": 0,
    "start_time": "2022-05-11T13:23:58.377Z"
   },
   {
    "duration": 0,
    "start_time": "2022-05-11T13:23:58.379Z"
   },
   {
    "duration": 0,
    "start_time": "2022-05-11T13:23:58.380Z"
   },
   {
    "duration": 0,
    "start_time": "2022-05-11T13:23:58.381Z"
   },
   {
    "duration": 0,
    "start_time": "2022-05-11T13:23:58.382Z"
   },
   {
    "duration": 0,
    "start_time": "2022-05-11T13:23:58.383Z"
   },
   {
    "duration": 0,
    "start_time": "2022-05-11T13:23:58.384Z"
   },
   {
    "duration": 0,
    "start_time": "2022-05-11T13:23:58.385Z"
   },
   {
    "duration": 0,
    "start_time": "2022-05-11T13:23:58.387Z"
   },
   {
    "duration": 0,
    "start_time": "2022-05-11T13:23:58.388Z"
   },
   {
    "duration": 0,
    "start_time": "2022-05-11T13:23:58.389Z"
   },
   {
    "duration": 0,
    "start_time": "2022-05-11T13:23:58.391Z"
   },
   {
    "duration": 0,
    "start_time": "2022-05-11T13:23:58.392Z"
   },
   {
    "duration": 0,
    "start_time": "2022-05-11T13:23:58.393Z"
   },
   {
    "duration": 0,
    "start_time": "2022-05-11T13:23:58.394Z"
   },
   {
    "duration": 0,
    "start_time": "2022-05-11T13:23:58.396Z"
   },
   {
    "duration": 0,
    "start_time": "2022-05-11T13:23:58.397Z"
   },
   {
    "duration": 0,
    "start_time": "2022-05-11T13:23:58.399Z"
   },
   {
    "duration": 0,
    "start_time": "2022-05-11T13:23:58.400Z"
   },
   {
    "duration": 0,
    "start_time": "2022-05-11T13:23:58.402Z"
   },
   {
    "duration": 0,
    "start_time": "2022-05-11T13:23:58.403Z"
   },
   {
    "duration": 0,
    "start_time": "2022-05-11T13:23:58.405Z"
   },
   {
    "duration": 0,
    "start_time": "2022-05-11T13:23:58.406Z"
   },
   {
    "duration": 0,
    "start_time": "2022-05-11T13:23:58.407Z"
   },
   {
    "duration": 0,
    "start_time": "2022-05-11T13:23:58.409Z"
   },
   {
    "duration": 0,
    "start_time": "2022-05-11T13:23:58.410Z"
   },
   {
    "duration": 0,
    "start_time": "2022-05-11T13:23:58.411Z"
   },
   {
    "duration": 0,
    "start_time": "2022-05-11T13:23:58.412Z"
   },
   {
    "duration": 0,
    "start_time": "2022-05-11T13:23:58.413Z"
   },
   {
    "duration": 0,
    "start_time": "2022-05-11T13:23:58.415Z"
   },
   {
    "duration": 3,
    "start_time": "2022-05-11T13:24:53.269Z"
   },
   {
    "duration": 466,
    "start_time": "2022-05-11T13:24:53.299Z"
   },
   {
    "duration": 157,
    "start_time": "2022-05-11T13:24:53.767Z"
   },
   {
    "duration": 4,
    "start_time": "2022-05-11T13:24:53.926Z"
   },
   {
    "duration": 94,
    "start_time": "2022-05-11T13:24:53.931Z"
   },
   {
    "duration": 104,
    "start_time": "2022-05-11T13:24:54.027Z"
   },
   {
    "duration": 10,
    "start_time": "2022-05-11T13:24:54.133Z"
   },
   {
    "duration": 23,
    "start_time": "2022-05-11T13:24:54.144Z"
   },
   {
    "duration": 9,
    "start_time": "2022-05-11T13:24:54.176Z"
   },
   {
    "duration": 7701,
    "start_time": "2022-05-11T13:24:54.187Z"
   },
   {
    "duration": 17,
    "start_time": "2022-05-11T13:25:01.890Z"
   },
   {
    "duration": 364,
    "start_time": "2022-05-11T13:25:01.909Z"
   },
   {
    "duration": 18,
    "start_time": "2022-05-11T13:25:02.275Z"
   },
   {
    "duration": 138,
    "start_time": "2022-05-11T13:25:02.296Z"
   },
   {
    "duration": 63,
    "start_time": "2022-05-11T13:25:02.438Z"
   },
   {
    "duration": 13,
    "start_time": "2022-05-11T13:25:02.503Z"
   },
   {
    "duration": 9,
    "start_time": "2022-05-11T13:25:02.518Z"
   },
   {
    "duration": 25,
    "start_time": "2022-05-11T13:25:02.530Z"
   },
   {
    "duration": 62,
    "start_time": "2022-05-11T13:25:02.556Z"
   },
   {
    "duration": 90,
    "start_time": "2022-05-11T13:25:02.620Z"
   },
   {
    "duration": 35,
    "start_time": "2022-05-11T13:25:02.712Z"
   },
   {
    "duration": 20,
    "start_time": "2022-05-11T13:25:02.749Z"
   },
   {
    "duration": 51,
    "start_time": "2022-05-11T13:25:02.770Z"
   },
   {
    "duration": 13,
    "start_time": "2022-05-11T13:25:02.823Z"
   },
   {
    "duration": 4,
    "start_time": "2022-05-11T13:25:02.838Z"
   },
   {
    "duration": 27,
    "start_time": "2022-05-11T13:25:02.843Z"
   },
   {
    "duration": 46,
    "start_time": "2022-05-11T13:25:02.872Z"
   },
   {
    "duration": 14,
    "start_time": "2022-05-11T13:25:02.920Z"
   },
   {
    "duration": 16,
    "start_time": "2022-05-11T13:25:02.936Z"
   },
   {
    "duration": 17,
    "start_time": "2022-05-11T13:25:02.954Z"
   },
   {
    "duration": 58,
    "start_time": "2022-05-11T13:25:02.972Z"
   },
   {
    "duration": 16,
    "start_time": "2022-05-11T13:25:03.032Z"
   },
   {
    "duration": 45,
    "start_time": "2022-05-11T13:25:03.049Z"
   },
   {
    "duration": 26,
    "start_time": "2022-05-11T13:25:03.095Z"
   },
   {
    "duration": 25,
    "start_time": "2022-05-11T13:25:03.123Z"
   },
   {
    "duration": 17,
    "start_time": "2022-05-11T13:25:03.150Z"
   },
   {
    "duration": 166,
    "start_time": "2022-05-11T13:25:03.169Z"
   },
   {
    "duration": 21,
    "start_time": "2022-05-11T13:25:03.337Z"
   },
   {
    "duration": 54,
    "start_time": "2022-05-11T13:25:03.360Z"
   },
   {
    "duration": 22,
    "start_time": "2022-05-11T13:25:03.416Z"
   },
   {
    "duration": 32,
    "start_time": "2022-05-11T13:29:56.412Z"
   },
   {
    "duration": 1709,
    "start_time": "2022-05-12T16:02:20.752Z"
   },
   {
    "duration": 624,
    "start_time": "2022-05-12T16:02:22.464Z"
   },
   {
    "duration": 199,
    "start_time": "2022-05-12T16:02:23.090Z"
   },
   {
    "duration": 5,
    "start_time": "2022-05-12T16:02:23.291Z"
   },
   {
    "duration": 99,
    "start_time": "2022-05-12T16:02:23.335Z"
   },
   {
    "duration": 133,
    "start_time": "2022-05-12T16:02:23.436Z"
   },
   {
    "duration": 14,
    "start_time": "2022-05-12T16:02:23.572Z"
   },
   {
    "duration": 50,
    "start_time": "2022-05-12T16:02:23.589Z"
   },
   {
    "duration": 5,
    "start_time": "2022-05-12T16:02:23.641Z"
   },
   {
    "duration": 12524,
    "start_time": "2022-05-12T16:02:23.648Z"
   },
   {
    "duration": 12,
    "start_time": "2022-05-12T16:02:36.174Z"
   },
   {
    "duration": 453,
    "start_time": "2022-05-12T16:02:36.188Z"
   },
   {
    "duration": 12,
    "start_time": "2022-05-12T16:02:36.643Z"
   },
   {
    "duration": 195,
    "start_time": "2022-05-12T16:02:36.660Z"
   },
   {
    "duration": 77,
    "start_time": "2022-05-12T16:02:36.857Z"
   },
   {
    "duration": 13,
    "start_time": "2022-05-12T16:02:36.936Z"
   },
   {
    "duration": 7,
    "start_time": "2022-05-12T16:02:36.951Z"
   },
   {
    "duration": 17,
    "start_time": "2022-05-12T16:02:36.960Z"
   },
   {
    "duration": 45,
    "start_time": "2022-05-12T16:02:36.979Z"
   },
   {
    "duration": 21,
    "start_time": "2022-05-12T16:02:37.029Z"
   },
   {
    "duration": 21,
    "start_time": "2022-05-12T16:02:37.052Z"
   },
   {
    "duration": 17,
    "start_time": "2022-05-12T16:02:37.075Z"
   },
   {
    "duration": 42,
    "start_time": "2022-05-12T16:02:37.094Z"
   },
   {
    "duration": 17,
    "start_time": "2022-05-12T16:02:37.139Z"
   },
   {
    "duration": 8,
    "start_time": "2022-05-12T16:02:37.158Z"
   },
   {
    "duration": 14,
    "start_time": "2022-05-12T16:02:37.168Z"
   },
   {
    "duration": 9,
    "start_time": "2022-05-12T16:02:37.184Z"
   },
   {
    "duration": 15,
    "start_time": "2022-05-12T16:02:37.195Z"
   },
   {
    "duration": 12,
    "start_time": "2022-05-12T16:02:37.212Z"
   },
   {
    "duration": 29,
    "start_time": "2022-05-12T16:02:37.226Z"
   },
   {
    "duration": 42,
    "start_time": "2022-05-12T16:02:37.257Z"
   },
   {
    "duration": 13,
    "start_time": "2022-05-12T16:02:37.301Z"
   },
   {
    "duration": 28,
    "start_time": "2022-05-12T16:02:37.316Z"
   },
   {
    "duration": 9,
    "start_time": "2022-05-12T16:02:37.346Z"
   },
   {
    "duration": 74,
    "start_time": "2022-05-12T16:02:37.357Z"
   },
   {
    "duration": 23,
    "start_time": "2022-05-12T16:02:37.448Z"
   },
   {
    "duration": 263,
    "start_time": "2022-05-12T16:02:37.489Z"
   },
   {
    "duration": 84,
    "start_time": "2022-05-12T16:02:37.755Z"
   },
   {
    "duration": 6,
    "start_time": "2022-05-12T16:02:37.841Z"
   },
   {
    "duration": 84,
    "start_time": "2022-05-12T16:02:37.849Z"
   },
   {
    "duration": 11,
    "start_time": "2022-05-12T16:02:37.944Z"
   },
   {
    "duration": 304,
    "start_time": "2022-05-12T16:02:37.957Z"
   },
   {
    "duration": 0,
    "start_time": "2022-05-12T16:02:38.263Z"
   },
   {
    "duration": 0,
    "start_time": "2022-05-12T16:02:38.265Z"
   },
   {
    "duration": 0,
    "start_time": "2022-05-12T16:02:38.267Z"
   },
   {
    "duration": 0,
    "start_time": "2022-05-12T16:02:38.269Z"
   },
   {
    "duration": 0,
    "start_time": "2022-05-12T16:02:38.271Z"
   },
   {
    "duration": 0,
    "start_time": "2022-05-12T16:02:38.273Z"
   },
   {
    "duration": 0,
    "start_time": "2022-05-12T16:02:38.274Z"
   },
   {
    "duration": 0,
    "start_time": "2022-05-12T16:02:38.276Z"
   },
   {
    "duration": 0,
    "start_time": "2022-05-12T16:02:38.278Z"
   },
   {
    "duration": 0,
    "start_time": "2022-05-12T16:02:38.279Z"
   },
   {
    "duration": 0,
    "start_time": "2022-05-12T16:02:38.281Z"
   },
   {
    "duration": 0,
    "start_time": "2022-05-12T16:02:38.282Z"
   },
   {
    "duration": 0,
    "start_time": "2022-05-12T16:02:38.284Z"
   },
   {
    "duration": 0,
    "start_time": "2022-05-12T16:02:38.285Z"
   },
   {
    "duration": 0,
    "start_time": "2022-05-12T16:02:38.286Z"
   },
   {
    "duration": 1,
    "start_time": "2022-05-12T16:02:38.334Z"
   },
   {
    "duration": 0,
    "start_time": "2022-05-12T16:02:38.336Z"
   },
   {
    "duration": 0,
    "start_time": "2022-05-12T16:02:38.340Z"
   },
   {
    "duration": 0,
    "start_time": "2022-05-12T16:02:38.342Z"
   },
   {
    "duration": 0,
    "start_time": "2022-05-12T16:02:38.343Z"
   },
   {
    "duration": 0,
    "start_time": "2022-05-12T16:02:38.345Z"
   },
   {
    "duration": 0,
    "start_time": "2022-05-12T16:02:38.347Z"
   },
   {
    "duration": 0,
    "start_time": "2022-05-12T16:02:38.348Z"
   },
   {
    "duration": 0,
    "start_time": "2022-05-12T16:02:38.349Z"
   },
   {
    "duration": 0,
    "start_time": "2022-05-12T16:02:38.351Z"
   },
   {
    "duration": 0,
    "start_time": "2022-05-12T16:02:38.354Z"
   },
   {
    "duration": 0,
    "start_time": "2022-05-12T16:02:38.355Z"
   },
   {
    "duration": 0,
    "start_time": "2022-05-12T16:02:38.357Z"
   },
   {
    "duration": 0,
    "start_time": "2022-05-12T16:02:38.358Z"
   },
   {
    "duration": 0,
    "start_time": "2022-05-12T16:02:38.359Z"
   },
   {
    "duration": 0,
    "start_time": "2022-05-12T16:02:38.361Z"
   },
   {
    "duration": 0,
    "start_time": "2022-05-12T16:02:38.363Z"
   },
   {
    "duration": 26,
    "start_time": "2022-05-12T16:09:37.656Z"
   },
   {
    "duration": 19,
    "start_time": "2022-05-12T16:14:20.424Z"
   },
   {
    "duration": 253,
    "start_time": "2022-05-12T16:14:30.086Z"
   },
   {
    "duration": 263,
    "start_time": "2022-05-12T16:16:43.199Z"
   },
   {
    "duration": 286,
    "start_time": "2022-05-12T16:17:13.109Z"
   },
   {
    "duration": 276,
    "start_time": "2022-05-12T16:19:29.521Z"
   },
   {
    "duration": 274,
    "start_time": "2022-05-12T16:20:00.981Z"
   },
   {
    "duration": 271,
    "start_time": "2022-05-12T16:20:26.113Z"
   },
   {
    "duration": 257,
    "start_time": "2022-05-12T16:20:31.652Z"
   },
   {
    "duration": 293,
    "start_time": "2022-05-12T16:21:30.750Z"
   },
   {
    "duration": 323,
    "start_time": "2022-05-12T16:21:45.101Z"
   },
   {
    "duration": 221,
    "start_time": "2022-05-12T16:27:50.871Z"
   },
   {
    "duration": 99,
    "start_time": "2022-05-12T16:34:56.527Z"
   },
   {
    "duration": 292,
    "start_time": "2022-05-12T16:35:00.800Z"
   },
   {
    "duration": 215,
    "start_time": "2022-05-12T16:35:13.724Z"
   },
   {
    "duration": 200,
    "start_time": "2022-05-12T16:35:18.951Z"
   },
   {
    "duration": 204,
    "start_time": "2022-05-12T16:35:22.584Z"
   },
   {
    "duration": 205,
    "start_time": "2022-05-12T16:35:29.084Z"
   },
   {
    "duration": 14,
    "start_time": "2022-05-12T16:36:58.983Z"
   },
   {
    "duration": 301,
    "start_time": "2022-05-12T16:37:01.597Z"
   },
   {
    "duration": 94,
    "start_time": "2022-05-12T16:43:28.570Z"
   },
   {
    "duration": 297,
    "start_time": "2022-05-12T16:43:46.565Z"
   },
   {
    "duration": 303,
    "start_time": "2022-05-12T16:43:50.837Z"
   },
   {
    "duration": 299,
    "start_time": "2022-05-12T16:44:00.413Z"
   },
   {
    "duration": 308,
    "start_time": "2022-05-12T16:44:12.365Z"
   },
   {
    "duration": 102,
    "start_time": "2022-05-12T16:45:11.267Z"
   },
   {
    "duration": 213,
    "start_time": "2022-05-12T16:45:17.356Z"
   },
   {
    "duration": 204,
    "start_time": "2022-05-12T16:45:38.547Z"
   },
   {
    "duration": 214,
    "start_time": "2022-05-12T16:45:41.036Z"
   },
   {
    "duration": 214,
    "start_time": "2022-05-12T16:45:44.251Z"
   },
   {
    "duration": 220,
    "start_time": "2022-05-12T16:46:12.204Z"
   },
   {
    "duration": 219,
    "start_time": "2022-05-12T16:46:18.411Z"
   },
   {
    "duration": 313,
    "start_time": "2022-05-12T16:46:27.733Z"
   },
   {
    "duration": 307,
    "start_time": "2022-05-12T16:46:31.549Z"
   },
   {
    "duration": 11,
    "start_time": "2022-05-12T16:47:09.178Z"
   },
   {
    "duration": 6,
    "start_time": "2022-05-12T16:47:11.851Z"
   },
   {
    "duration": 2569,
    "start_time": "2022-05-12T16:48:01.748Z"
   },
   {
    "duration": 216,
    "start_time": "2022-05-12T16:48:30.267Z"
   },
   {
    "duration": 221,
    "start_time": "2022-05-12T16:48:34.467Z"
   },
   {
    "duration": 2696,
    "start_time": "2022-05-12T16:49:05.993Z"
   },
   {
    "duration": 5427,
    "start_time": "2022-05-12T16:50:35.370Z"
   },
   {
    "duration": 4,
    "start_time": "2022-05-12T16:52:02.977Z"
   },
   {
    "duration": 5331,
    "start_time": "2022-05-12T16:52:08.696Z"
   },
   {
    "duration": 279,
    "start_time": "2022-05-12T16:55:31.839Z"
   },
   {
    "duration": 1533,
    "start_time": "2022-05-12T17:02:15.003Z"
   },
   {
    "duration": 542,
    "start_time": "2022-05-12T17:02:16.539Z"
   },
   {
    "duration": 193,
    "start_time": "2022-05-12T17:02:17.083Z"
   },
   {
    "duration": 4,
    "start_time": "2022-05-12T17:02:17.280Z"
   },
   {
    "duration": 97,
    "start_time": "2022-05-12T17:02:17.286Z"
   },
   {
    "duration": 161,
    "start_time": "2022-05-12T17:02:17.385Z"
   },
   {
    "duration": 13,
    "start_time": "2022-05-12T17:02:17.548Z"
   },
   {
    "duration": 28,
    "start_time": "2022-05-12T17:02:17.565Z"
   },
   {
    "duration": 4,
    "start_time": "2022-05-12T17:02:17.595Z"
   },
   {
    "duration": 13571,
    "start_time": "2022-05-12T17:02:17.631Z"
   },
   {
    "duration": 12,
    "start_time": "2022-05-12T17:02:31.205Z"
   },
   {
    "duration": 446,
    "start_time": "2022-05-12T17:02:31.227Z"
   },
   {
    "duration": 13,
    "start_time": "2022-05-12T17:02:31.675Z"
   },
   {
    "duration": 227,
    "start_time": "2022-05-12T17:02:31.690Z"
   },
   {
    "duration": 74,
    "start_time": "2022-05-12T17:02:31.920Z"
   },
   {
    "duration": 32,
    "start_time": "2022-05-12T17:02:31.997Z"
   },
   {
    "duration": 21,
    "start_time": "2022-05-12T17:02:32.031Z"
   },
   {
    "duration": 28,
    "start_time": "2022-05-12T17:02:32.054Z"
   },
   {
    "duration": 54,
    "start_time": "2022-05-12T17:02:32.084Z"
   },
   {
    "duration": 19,
    "start_time": "2022-05-12T17:02:32.141Z"
   },
   {
    "duration": 31,
    "start_time": "2022-05-12T17:02:32.163Z"
   },
   {
    "duration": 35,
    "start_time": "2022-05-12T17:02:32.196Z"
   },
   {
    "duration": 25,
    "start_time": "2022-05-12T17:02:32.234Z"
   },
   {
    "duration": 18,
    "start_time": "2022-05-12T17:02:32.262Z"
   },
   {
    "duration": 5,
    "start_time": "2022-05-12T17:02:32.283Z"
   },
   {
    "duration": 23,
    "start_time": "2022-05-12T17:02:32.324Z"
   },
   {
    "duration": 9,
    "start_time": "2022-05-12T17:02:32.349Z"
   },
   {
    "duration": 11,
    "start_time": "2022-05-12T17:02:32.365Z"
   },
   {
    "duration": 16,
    "start_time": "2022-05-12T17:02:32.378Z"
   },
   {
    "duration": 45,
    "start_time": "2022-05-12T17:02:32.396Z"
   },
   {
    "duration": 43,
    "start_time": "2022-05-12T17:02:32.443Z"
   },
   {
    "duration": 12,
    "start_time": "2022-05-12T17:02:32.488Z"
   },
   {
    "duration": 54,
    "start_time": "2022-05-12T17:02:32.503Z"
   },
   {
    "duration": 9,
    "start_time": "2022-05-12T17:02:32.560Z"
   },
   {
    "duration": 53,
    "start_time": "2022-05-12T17:02:32.571Z"
   },
   {
    "duration": 10,
    "start_time": "2022-05-12T17:02:32.628Z"
   },
   {
    "duration": 167,
    "start_time": "2022-05-12T17:02:32.640Z"
   },
   {
    "duration": 39,
    "start_time": "2022-05-12T17:02:32.809Z"
   },
   {
    "duration": 7,
    "start_time": "2022-05-12T17:02:32.851Z"
   },
   {
    "duration": 36,
    "start_time": "2022-05-12T17:02:32.860Z"
   },
   {
    "duration": 34,
    "start_time": "2022-05-12T17:02:32.899Z"
   },
   {
    "duration": 353,
    "start_time": "2022-05-12T17:02:32.936Z"
   },
   {
    "duration": 335,
    "start_time": "2022-05-12T17:02:33.292Z"
   },
   {
    "duration": 238,
    "start_time": "2022-05-12T17:02:33.630Z"
   },
   {
    "duration": 458,
    "start_time": "2022-05-12T17:02:33.871Z"
   },
   {
    "duration": 1812,
    "start_time": "2022-05-12T17:02:34.332Z"
   },
   {
    "duration": 0,
    "start_time": "2022-05-12T17:02:36.147Z"
   },
   {
    "duration": 0,
    "start_time": "2022-05-12T17:02:36.149Z"
   },
   {
    "duration": 0,
    "start_time": "2022-05-12T17:02:36.150Z"
   },
   {
    "duration": 0,
    "start_time": "2022-05-12T17:02:36.152Z"
   },
   {
    "duration": 0,
    "start_time": "2022-05-12T17:02:36.154Z"
   },
   {
    "duration": 0,
    "start_time": "2022-05-12T17:02:36.155Z"
   },
   {
    "duration": 0,
    "start_time": "2022-05-12T17:02:36.157Z"
   },
   {
    "duration": 0,
    "start_time": "2022-05-12T17:02:36.158Z"
   },
   {
    "duration": 0,
    "start_time": "2022-05-12T17:02:36.160Z"
   },
   {
    "duration": 0,
    "start_time": "2022-05-12T17:02:36.162Z"
   },
   {
    "duration": 0,
    "start_time": "2022-05-12T17:02:36.163Z"
   },
   {
    "duration": 0,
    "start_time": "2022-05-12T17:02:36.225Z"
   },
   {
    "duration": 0,
    "start_time": "2022-05-12T17:02:36.227Z"
   },
   {
    "duration": 0,
    "start_time": "2022-05-12T17:02:36.230Z"
   },
   {
    "duration": 0,
    "start_time": "2022-05-12T17:02:36.232Z"
   },
   {
    "duration": 0,
    "start_time": "2022-05-12T17:02:36.233Z"
   },
   {
    "duration": 0,
    "start_time": "2022-05-12T17:02:36.234Z"
   },
   {
    "duration": 0,
    "start_time": "2022-05-12T17:02:36.235Z"
   },
   {
    "duration": 0,
    "start_time": "2022-05-12T17:02:36.238Z"
   },
   {
    "duration": 0,
    "start_time": "2022-05-12T17:02:36.240Z"
   },
   {
    "duration": 0,
    "start_time": "2022-05-12T17:02:36.241Z"
   },
   {
    "duration": 0,
    "start_time": "2022-05-12T17:02:36.242Z"
   },
   {
    "duration": 0,
    "start_time": "2022-05-12T17:02:36.243Z"
   },
   {
    "duration": 0,
    "start_time": "2022-05-12T17:02:36.248Z"
   },
   {
    "duration": 0,
    "start_time": "2022-05-12T17:02:36.249Z"
   },
   {
    "duration": 0,
    "start_time": "2022-05-12T17:02:36.251Z"
   },
   {
    "duration": 0,
    "start_time": "2022-05-12T17:02:36.252Z"
   },
   {
    "duration": 0,
    "start_time": "2022-05-12T17:02:36.254Z"
   },
   {
    "duration": 0,
    "start_time": "2022-05-12T17:02:36.255Z"
   },
   {
    "duration": 0,
    "start_time": "2022-05-12T17:02:36.257Z"
   },
   {
    "duration": 0,
    "start_time": "2022-05-12T17:02:36.258Z"
   },
   {
    "duration": 0,
    "start_time": "2022-05-12T17:02:36.259Z"
   },
   {
    "duration": 0,
    "start_time": "2022-05-12T17:02:36.261Z"
   },
   {
    "duration": 0,
    "start_time": "2022-05-12T17:02:36.262Z"
   },
   {
    "duration": 223,
    "start_time": "2022-05-12T17:02:50.296Z"
   },
   {
    "duration": 249,
    "start_time": "2022-05-12T17:03:18.048Z"
   },
   {
    "duration": 217,
    "start_time": "2022-05-12T17:03:52.702Z"
   },
   {
    "duration": 128,
    "start_time": "2022-05-12T17:04:10.551Z"
   },
   {
    "duration": 281,
    "start_time": "2022-05-12T17:04:13.942Z"
   },
   {
    "duration": 343,
    "start_time": "2022-05-12T17:04:23.535Z"
   },
   {
    "duration": 269,
    "start_time": "2022-05-12T17:04:41.446Z"
   },
   {
    "duration": 288,
    "start_time": "2022-05-12T17:04:48.463Z"
   },
   {
    "duration": 700,
    "start_time": "2022-05-12T17:06:13.591Z"
   },
   {
    "duration": 804,
    "start_time": "2022-05-12T17:06:27.039Z"
   },
   {
    "duration": 1554,
    "start_time": "2022-05-12T17:06:42.734Z"
   },
   {
    "duration": 1300,
    "start_time": "2022-05-12T17:08:22.862Z"
   },
   {
    "duration": 922,
    "start_time": "2022-05-12T17:08:30.357Z"
   },
   {
    "duration": 988,
    "start_time": "2022-05-12T17:08:39.492Z"
   },
   {
    "duration": 2281,
    "start_time": "2022-05-12T17:08:49.156Z"
   },
   {
    "duration": 972,
    "start_time": "2022-05-12T17:09:00.228Z"
   },
   {
    "duration": 2922,
    "start_time": "2022-05-12T17:11:20.838Z"
   },
   {
    "duration": 4,
    "start_time": "2022-05-12T17:12:18.213Z"
   },
   {
    "duration": 2860,
    "start_time": "2022-05-12T17:12:37.856Z"
   },
   {
    "duration": 3129,
    "start_time": "2022-05-12T17:12:47.549Z"
   },
   {
    "duration": 21,
    "start_time": "2022-05-12T17:24:40.784Z"
   },
   {
    "duration": 426,
    "start_time": "2022-05-12T17:27:41.122Z"
   },
   {
    "duration": 317,
    "start_time": "2022-05-12T17:30:20.759Z"
   },
   {
    "duration": 330,
    "start_time": "2022-05-12T17:30:34.398Z"
   },
   {
    "duration": 308,
    "start_time": "2022-05-12T17:30:40.455Z"
   },
   {
    "duration": 321,
    "start_time": "2022-05-12T17:31:01.038Z"
   },
   {
    "duration": 262,
    "start_time": "2022-05-12T17:31:55.341Z"
   },
   {
    "duration": 2965,
    "start_time": "2022-05-12T17:32:49.061Z"
   },
   {
    "duration": 99,
    "start_time": "2022-05-12T17:35:26.782Z"
   },
   {
    "duration": 411,
    "start_time": "2022-05-12T17:35:30.600Z"
   },
   {
    "duration": 350,
    "start_time": "2022-05-12T17:37:22.596Z"
   },
   {
    "duration": 554,
    "start_time": "2022-05-12T17:37:45.339Z"
   },
   {
    "duration": 276,
    "start_time": "2022-05-12T17:38:38.101Z"
   },
   {
    "duration": 3036,
    "start_time": "2022-05-12T17:39:25.860Z"
   },
   {
    "duration": 27,
    "start_time": "2022-05-12T17:41:52.275Z"
   },
   {
    "duration": 419,
    "start_time": "2022-05-12T17:42:21.355Z"
   },
   {
    "duration": 13,
    "start_time": "2022-05-12T23:22:24.886Z"
   },
   {
    "duration": 99,
    "start_time": "2022-05-12T23:22:47.539Z"
   },
   {
    "duration": 137,
    "start_time": "2022-05-12T23:22:50.788Z"
   },
   {
    "duration": 103,
    "start_time": "2022-05-12T23:23:04.726Z"
   },
   {
    "duration": 20,
    "start_time": "2022-05-12T23:23:08.522Z"
   },
   {
    "duration": 28,
    "start_time": "2022-05-12T23:23:24.867Z"
   },
   {
    "duration": 28,
    "start_time": "2022-05-12T23:23:32.468Z"
   },
   {
    "duration": 249,
    "start_time": "2022-05-12T23:23:38.955Z"
   },
   {
    "duration": 249,
    "start_time": "2022-05-12T23:24:14.039Z"
   },
   {
    "duration": 284,
    "start_time": "2022-05-12T23:25:28.451Z"
   },
   {
    "duration": 302,
    "start_time": "2022-05-12T23:25:58.027Z"
   },
   {
    "duration": 288,
    "start_time": "2022-05-12T23:40:56.624Z"
   },
   {
    "duration": 297,
    "start_time": "2022-05-12T23:41:10.599Z"
   },
   {
    "duration": 290,
    "start_time": "2022-05-12T23:41:56.497Z"
   },
   {
    "duration": 537,
    "start_time": "2022-05-12T23:42:11.397Z"
   },
   {
    "duration": 317,
    "start_time": "2022-05-12T23:42:26.551Z"
   },
   {
    "duration": 287,
    "start_time": "2022-05-12T23:42:38.737Z"
   },
   {
    "duration": 405,
    "start_time": "2022-05-12T23:48:38.463Z"
   },
   {
    "duration": 309,
    "start_time": "2022-05-12T23:49:08.118Z"
   },
   {
    "duration": 308,
    "start_time": "2022-05-12T23:49:15.301Z"
   },
   {
    "duration": 301,
    "start_time": "2022-05-12T23:49:24.014Z"
   },
   {
    "duration": 11,
    "start_time": "2022-05-13T00:03:34.394Z"
   },
   {
    "duration": 28,
    "start_time": "2022-05-13T00:03:51.428Z"
   },
   {
    "duration": 5,
    "start_time": "2022-05-13T00:04:32.406Z"
   },
   {
    "duration": 11,
    "start_time": "2022-05-13T00:04:47.970Z"
   },
   {
    "duration": 15,
    "start_time": "2022-05-13T00:04:53.409Z"
   },
   {
    "duration": 11,
    "start_time": "2022-05-13T00:05:03.977Z"
   },
   {
    "duration": 12,
    "start_time": "2022-05-13T00:05:21.033Z"
   },
   {
    "duration": 11,
    "start_time": "2022-05-13T00:05:25.164Z"
   },
   {
    "duration": 15,
    "start_time": "2022-05-13T00:05:28.122Z"
   },
   {
    "duration": 3,
    "start_time": "2022-05-13T00:05:40.401Z"
   },
   {
    "duration": 14,
    "start_time": "2022-05-13T00:05:40.985Z"
   },
   {
    "duration": 3,
    "start_time": "2022-05-13T00:05:58.425Z"
   },
   {
    "duration": 11,
    "start_time": "2022-05-13T00:06:09.882Z"
   },
   {
    "duration": 14,
    "start_time": "2022-05-13T00:06:13.858Z"
   },
   {
    "duration": 3,
    "start_time": "2022-05-13T00:06:23.774Z"
   },
   {
    "duration": 5,
    "start_time": "2022-05-13T00:06:36.393Z"
   },
   {
    "duration": 5,
    "start_time": "2022-05-13T00:06:38.427Z"
   },
   {
    "duration": 11,
    "start_time": "2022-05-13T00:07:35.307Z"
   },
   {
    "duration": 12,
    "start_time": "2022-05-13T00:07:38.065Z"
   },
   {
    "duration": 4,
    "start_time": "2022-05-13T00:07:42.348Z"
   },
   {
    "duration": 5,
    "start_time": "2022-05-13T00:07:45.576Z"
   },
   {
    "duration": 5,
    "start_time": "2022-05-13T00:08:03.361Z"
   },
   {
    "duration": 11,
    "start_time": "2022-05-13T00:08:08.384Z"
   },
   {
    "duration": 4,
    "start_time": "2022-05-13T00:08:19.642Z"
   },
   {
    "duration": 15,
    "start_time": "2022-05-13T00:08:44.423Z"
   },
   {
    "duration": 5,
    "start_time": "2022-05-13T00:08:53.264Z"
   },
   {
    "duration": 6,
    "start_time": "2022-05-13T00:08:54.458Z"
   },
   {
    "duration": 12,
    "start_time": "2022-05-13T00:09:24.889Z"
   },
   {
    "duration": 6,
    "start_time": "2022-05-13T00:09:30.960Z"
   },
   {
    "duration": 6,
    "start_time": "2022-05-13T00:09:36.941Z"
   },
   {
    "duration": 7,
    "start_time": "2022-05-13T00:09:40.783Z"
   },
   {
    "duration": 6,
    "start_time": "2022-05-13T00:09:46.192Z"
   },
   {
    "duration": 7,
    "start_time": "2022-05-13T00:09:49.592Z"
   },
   {
    "duration": 6,
    "start_time": "2022-05-13T00:10:20.713Z"
   },
   {
    "duration": 6,
    "start_time": "2022-05-13T00:10:21.085Z"
   },
   {
    "duration": 6,
    "start_time": "2022-05-13T00:10:21.390Z"
   },
   {
    "duration": 6,
    "start_time": "2022-05-13T00:10:21.657Z"
   },
   {
    "duration": 6,
    "start_time": "2022-05-13T00:10:22.038Z"
   },
   {
    "duration": 164,
    "start_time": "2022-05-13T00:20:35.595Z"
   },
   {
    "duration": 1621,
    "start_time": "2022-05-13T22:16:22.410Z"
   },
   {
    "duration": 426,
    "start_time": "2022-05-13T22:16:24.033Z"
   },
   {
    "duration": 120,
    "start_time": "2022-05-13T22:16:24.461Z"
   },
   {
    "duration": 4,
    "start_time": "2022-05-13T22:16:24.583Z"
   },
   {
    "duration": 73,
    "start_time": "2022-05-13T22:16:24.588Z"
   },
   {
    "duration": 113,
    "start_time": "2022-05-13T22:16:24.662Z"
   },
   {
    "duration": 9,
    "start_time": "2022-05-13T22:16:24.777Z"
   },
   {
    "duration": 28,
    "start_time": "2022-05-13T22:16:24.788Z"
   },
   {
    "duration": 12,
    "start_time": "2022-05-13T22:16:24.821Z"
   },
   {
    "duration": 6729,
    "start_time": "2022-05-13T22:16:24.836Z"
   },
   {
    "duration": 8,
    "start_time": "2022-05-13T22:16:31.567Z"
   },
   {
    "duration": 277,
    "start_time": "2022-05-13T22:16:31.577Z"
   },
   {
    "duration": 10,
    "start_time": "2022-05-13T22:16:31.855Z"
   },
   {
    "duration": 137,
    "start_time": "2022-05-13T22:16:31.866Z"
   },
   {
    "duration": 60,
    "start_time": "2022-05-13T22:16:32.005Z"
   },
   {
    "duration": 9,
    "start_time": "2022-05-13T22:16:32.067Z"
   },
   {
    "duration": 9,
    "start_time": "2022-05-13T22:16:32.077Z"
   },
   {
    "duration": 9,
    "start_time": "2022-05-13T22:16:32.087Z"
   },
   {
    "duration": 48,
    "start_time": "2022-05-13T22:16:32.097Z"
   },
   {
    "duration": 13,
    "start_time": "2022-05-13T22:16:32.146Z"
   },
   {
    "duration": 15,
    "start_time": "2022-05-13T22:16:32.161Z"
   },
   {
    "duration": 10,
    "start_time": "2022-05-13T22:16:32.178Z"
   },
   {
    "duration": 47,
    "start_time": "2022-05-13T22:16:32.190Z"
   },
   {
    "duration": 13,
    "start_time": "2022-05-13T22:16:32.239Z"
   },
   {
    "duration": 5,
    "start_time": "2022-05-13T22:16:32.254Z"
   },
   {
    "duration": 10,
    "start_time": "2022-05-13T22:16:32.260Z"
   },
   {
    "duration": 7,
    "start_time": "2022-05-13T22:16:32.272Z"
   },
   {
    "duration": 8,
    "start_time": "2022-05-13T22:16:32.283Z"
   },
   {
    "duration": 37,
    "start_time": "2022-05-13T22:16:32.292Z"
   },
   {
    "duration": 14,
    "start_time": "2022-05-13T22:16:32.331Z"
   },
   {
    "duration": 25,
    "start_time": "2022-05-13T22:16:32.347Z"
   },
   {
    "duration": 8,
    "start_time": "2022-05-13T22:16:32.374Z"
   },
   {
    "duration": 44,
    "start_time": "2022-05-13T22:16:32.384Z"
   },
   {
    "duration": 6,
    "start_time": "2022-05-13T22:16:32.430Z"
   },
   {
    "duration": 20,
    "start_time": "2022-05-13T22:16:32.438Z"
   },
   {
    "duration": 7,
    "start_time": "2022-05-13T22:16:32.460Z"
   },
   {
    "duration": 106,
    "start_time": "2022-05-13T22:16:32.469Z"
   },
   {
    "duration": 22,
    "start_time": "2022-05-13T22:16:32.577Z"
   },
   {
    "duration": 5,
    "start_time": "2022-05-13T22:16:32.600Z"
   },
   {
    "duration": 34,
    "start_time": "2022-05-13T22:16:32.607Z"
   },
   {
    "duration": 10,
    "start_time": "2022-05-13T22:16:32.642Z"
   },
   {
    "duration": 194,
    "start_time": "2022-05-13T22:16:32.654Z"
   },
   {
    "duration": 183,
    "start_time": "2022-05-13T22:16:32.850Z"
   },
   {
    "duration": 189,
    "start_time": "2022-05-13T22:16:33.035Z"
   },
   {
    "duration": 198,
    "start_time": "2022-05-13T22:16:33.226Z"
   },
   {
    "duration": 172,
    "start_time": "2022-05-13T22:16:33.426Z"
   },
   {
    "duration": 1700,
    "start_time": "2022-05-13T22:16:33.600Z"
   },
   {
    "duration": 271,
    "start_time": "2022-05-13T22:16:35.302Z"
   },
   {
    "duration": 182,
    "start_time": "2022-05-13T22:16:35.575Z"
   },
   {
    "duration": 200,
    "start_time": "2022-05-13T22:16:35.758Z"
   },
   {
    "duration": 195,
    "start_time": "2022-05-13T22:16:35.959Z"
   },
   {
    "duration": 199,
    "start_time": "2022-05-13T22:16:36.156Z"
   },
   {
    "duration": 145,
    "start_time": "2022-05-13T22:16:36.357Z"
   },
   {
    "duration": 1742,
    "start_time": "2022-05-13T22:16:36.504Z"
   },
   {
    "duration": 250,
    "start_time": "2022-05-13T22:16:38.248Z"
   },
   {
    "duration": 187,
    "start_time": "2022-05-13T22:16:38.500Z"
   },
   {
    "duration": 199,
    "start_time": "2022-05-13T22:16:38.689Z"
   },
   {
    "duration": 182,
    "start_time": "2022-05-13T22:16:38.889Z"
   },
   {
    "duration": 302,
    "start_time": "2022-05-13T22:16:39.073Z"
   },
   {
    "duration": 170,
    "start_time": "2022-05-13T22:16:39.378Z"
   },
   {
    "duration": 1606,
    "start_time": "2022-05-13T22:16:39.550Z"
   },
   {
    "duration": 267,
    "start_time": "2022-05-13T22:16:41.158Z"
   },
   {
    "duration": 4,
    "start_time": "2022-05-13T22:16:41.427Z"
   },
   {
    "duration": 34,
    "start_time": "2022-05-13T22:16:41.433Z"
   },
   {
    "duration": 16,
    "start_time": "2022-05-13T22:16:41.469Z"
   },
   {
    "duration": 23,
    "start_time": "2022-05-13T22:16:41.487Z"
   },
   {
    "duration": 25,
    "start_time": "2022-05-13T22:16:41.512Z"
   },
   {
    "duration": 18,
    "start_time": "2022-05-13T22:16:41.539Z"
   },
   {
    "duration": 25,
    "start_time": "2022-05-13T22:16:41.559Z"
   },
   {
    "duration": 40,
    "start_time": "2022-05-13T22:16:41.587Z"
   },
   {
    "duration": 26,
    "start_time": "2022-05-13T22:16:41.628Z"
   },
   {
    "duration": 21,
    "start_time": "2022-05-13T22:16:41.655Z"
   },
   {
    "duration": 24,
    "start_time": "2022-05-13T22:16:41.677Z"
   },
   {
    "duration": 31,
    "start_time": "2022-05-13T22:16:41.702Z"
   },
   {
    "duration": 18,
    "start_time": "2022-05-13T22:16:41.734Z"
   },
   {
    "duration": 31,
    "start_time": "2022-05-13T22:16:41.754Z"
   },
   {
    "duration": 29,
    "start_time": "2022-05-13T22:16:41.787Z"
   },
   {
    "duration": 17,
    "start_time": "2022-05-13T22:16:41.818Z"
   },
   {
    "duration": 25,
    "start_time": "2022-05-13T22:16:41.837Z"
   },
   {
    "duration": 22,
    "start_time": "2022-05-13T22:16:41.863Z"
   },
   {
    "duration": 23,
    "start_time": "2022-05-13T22:16:41.886Z"
   },
   {
    "duration": 22,
    "start_time": "2022-05-13T22:16:41.915Z"
   },
   {
    "duration": 19,
    "start_time": "2022-05-13T22:16:41.939Z"
   },
   {
    "duration": 29,
    "start_time": "2022-05-13T22:16:41.959Z"
   },
   {
    "duration": 24,
    "start_time": "2022-05-13T22:16:41.989Z"
   },
   {
    "duration": 32,
    "start_time": "2022-05-13T22:16:42.015Z"
   },
   {
    "duration": 15,
    "start_time": "2022-05-13T22:16:42.049Z"
   },
   {
    "duration": 20,
    "start_time": "2022-05-13T22:16:42.066Z"
   },
   {
    "duration": 177,
    "start_time": "2022-05-13T22:22:30.212Z"
   },
   {
    "duration": 44,
    "start_time": "2022-05-13T22:23:05.802Z"
   },
   {
    "duration": 40,
    "start_time": "2022-05-13T22:23:21.458Z"
   },
   {
    "duration": 4,
    "start_time": "2022-05-13T22:26:05.459Z"
   },
   {
    "duration": 13,
    "start_time": "2022-05-13T22:26:16.463Z"
   },
   {
    "duration": 5,
    "start_time": "2022-05-13T22:32:02.179Z"
   },
   {
    "duration": 19,
    "start_time": "2022-05-13T22:32:08.359Z"
   },
   {
    "duration": 222,
    "start_time": "2022-05-13T22:39:10.550Z"
   },
   {
    "duration": 14,
    "start_time": "2022-05-13T22:40:26.893Z"
   },
   {
    "duration": 242,
    "start_time": "2022-05-13T22:40:38.919Z"
   },
   {
    "duration": 296,
    "start_time": "2022-05-13T22:41:24.313Z"
   },
   {
    "duration": 1251,
    "start_time": "2022-05-13T22:48:45.214Z"
   },
   {
    "duration": 444,
    "start_time": "2022-05-13T22:48:46.467Z"
   },
   {
    "duration": 127,
    "start_time": "2022-05-13T22:48:46.913Z"
   },
   {
    "duration": 3,
    "start_time": "2022-05-13T22:48:47.042Z"
   },
   {
    "duration": 43,
    "start_time": "2022-05-13T22:48:47.047Z"
   },
   {
    "duration": 82,
    "start_time": "2022-05-13T22:48:47.123Z"
   },
   {
    "duration": 18,
    "start_time": "2022-05-13T22:48:47.206Z"
   },
   {
    "duration": 18,
    "start_time": "2022-05-13T22:48:47.226Z"
   },
   {
    "duration": 3,
    "start_time": "2022-05-13T22:48:47.246Z"
   },
   {
    "duration": 6880,
    "start_time": "2022-05-13T22:48:47.252Z"
   },
   {
    "duration": 8,
    "start_time": "2022-05-13T22:48:54.134Z"
   },
   {
    "duration": 279,
    "start_time": "2022-05-13T22:48:54.144Z"
   },
   {
    "duration": 32,
    "start_time": "2022-05-13T22:48:54.425Z"
   },
   {
    "duration": 9,
    "start_time": "2022-05-13T22:48:54.459Z"
   },
   {
    "duration": 115,
    "start_time": "2022-05-13T22:48:54.470Z"
   },
   {
    "duration": 60,
    "start_time": "2022-05-13T22:48:54.587Z"
   },
   {
    "duration": 9,
    "start_time": "2022-05-13T22:48:54.649Z"
   },
   {
    "duration": 5,
    "start_time": "2022-05-13T22:48:54.659Z"
   },
   {
    "duration": 9,
    "start_time": "2022-05-13T22:48:54.666Z"
   },
   {
    "duration": 52,
    "start_time": "2022-05-13T22:48:54.677Z"
   },
   {
    "duration": 11,
    "start_time": "2022-05-13T22:48:54.731Z"
   },
   {
    "duration": 16,
    "start_time": "2022-05-13T22:48:54.744Z"
   },
   {
    "duration": 10,
    "start_time": "2022-05-13T22:48:54.761Z"
   },
   {
    "duration": 18,
    "start_time": "2022-05-13T22:48:54.773Z"
   },
   {
    "duration": 40,
    "start_time": "2022-05-13T22:48:54.793Z"
   },
   {
    "duration": 4,
    "start_time": "2022-05-13T22:48:54.835Z"
   },
   {
    "duration": 8,
    "start_time": "2022-05-13T22:48:54.841Z"
   },
   {
    "duration": 4,
    "start_time": "2022-05-13T22:48:54.854Z"
   },
   {
    "duration": 12,
    "start_time": "2022-05-13T22:48:54.860Z"
   },
   {
    "duration": 12,
    "start_time": "2022-05-13T22:48:54.873Z"
   },
   {
    "duration": 8,
    "start_time": "2022-05-13T22:48:54.886Z"
   },
   {
    "duration": 24,
    "start_time": "2022-05-13T22:48:54.922Z"
   },
   {
    "duration": 8,
    "start_time": "2022-05-13T22:48:54.947Z"
   },
   {
    "duration": 15,
    "start_time": "2022-05-13T22:48:54.956Z"
   },
   {
    "duration": 5,
    "start_time": "2022-05-13T22:48:54.972Z"
   },
   {
    "duration": 49,
    "start_time": "2022-05-13T22:48:54.979Z"
   },
   {
    "duration": 4,
    "start_time": "2022-05-13T22:48:55.029Z"
   },
   {
    "duration": 92,
    "start_time": "2022-05-13T22:48:55.034Z"
   },
   {
    "duration": 19,
    "start_time": "2022-05-13T22:48:55.127Z"
   },
   {
    "duration": 6,
    "start_time": "2022-05-13T22:48:55.148Z"
   },
   {
    "duration": 19,
    "start_time": "2022-05-13T22:48:55.155Z"
   },
   {
    "duration": 7,
    "start_time": "2022-05-13T22:48:55.176Z"
   },
   {
    "duration": 316,
    "start_time": "2022-05-13T22:48:55.185Z"
   },
   {
    "duration": 102,
    "start_time": "2022-05-13T22:48:55.503Z"
   },
   {
    "duration": 0,
    "start_time": "2022-05-13T22:48:55.607Z"
   },
   {
    "duration": 0,
    "start_time": "2022-05-13T22:48:55.608Z"
   },
   {
    "duration": 0,
    "start_time": "2022-05-13T22:48:55.609Z"
   },
   {
    "duration": 0,
    "start_time": "2022-05-13T22:48:55.622Z"
   },
   {
    "duration": 0,
    "start_time": "2022-05-13T22:48:55.623Z"
   },
   {
    "duration": 0,
    "start_time": "2022-05-13T22:48:55.625Z"
   },
   {
    "duration": 0,
    "start_time": "2022-05-13T22:48:55.625Z"
   },
   {
    "duration": 0,
    "start_time": "2022-05-13T22:48:55.626Z"
   },
   {
    "duration": 0,
    "start_time": "2022-05-13T22:48:55.627Z"
   },
   {
    "duration": 0,
    "start_time": "2022-05-13T22:48:55.628Z"
   },
   {
    "duration": 0,
    "start_time": "2022-05-13T22:48:55.629Z"
   },
   {
    "duration": 0,
    "start_time": "2022-05-13T22:48:55.630Z"
   },
   {
    "duration": 0,
    "start_time": "2022-05-13T22:48:55.631Z"
   },
   {
    "duration": 0,
    "start_time": "2022-05-13T22:48:55.632Z"
   },
   {
    "duration": 0,
    "start_time": "2022-05-13T22:48:55.634Z"
   },
   {
    "duration": 0,
    "start_time": "2022-05-13T22:48:55.635Z"
   },
   {
    "duration": 0,
    "start_time": "2022-05-13T22:48:55.636Z"
   },
   {
    "duration": 0,
    "start_time": "2022-05-13T22:48:55.637Z"
   },
   {
    "duration": 0,
    "start_time": "2022-05-13T22:48:55.638Z"
   },
   {
    "duration": 0,
    "start_time": "2022-05-13T22:48:55.639Z"
   },
   {
    "duration": 0,
    "start_time": "2022-05-13T22:48:55.640Z"
   },
   {
    "duration": 0,
    "start_time": "2022-05-13T22:48:55.641Z"
   },
   {
    "duration": 0,
    "start_time": "2022-05-13T22:48:55.642Z"
   },
   {
    "duration": 0,
    "start_time": "2022-05-13T22:48:55.643Z"
   },
   {
    "duration": 0,
    "start_time": "2022-05-13T22:48:55.644Z"
   },
   {
    "duration": 0,
    "start_time": "2022-05-13T22:48:55.645Z"
   },
   {
    "duration": 0,
    "start_time": "2022-05-13T22:48:55.646Z"
   },
   {
    "duration": 0,
    "start_time": "2022-05-13T22:48:55.647Z"
   },
   {
    "duration": 0,
    "start_time": "2022-05-13T22:48:55.648Z"
   },
   {
    "duration": 0,
    "start_time": "2022-05-13T22:48:55.649Z"
   },
   {
    "duration": 0,
    "start_time": "2022-05-13T22:48:55.650Z"
   },
   {
    "duration": 0,
    "start_time": "2022-05-13T22:48:55.651Z"
   },
   {
    "duration": 0,
    "start_time": "2022-05-13T22:48:55.652Z"
   },
   {
    "duration": 0,
    "start_time": "2022-05-13T22:48:55.653Z"
   },
   {
    "duration": 0,
    "start_time": "2022-05-13T22:48:55.654Z"
   },
   {
    "duration": 0,
    "start_time": "2022-05-13T22:48:55.655Z"
   },
   {
    "duration": 0,
    "start_time": "2022-05-13T22:48:55.656Z"
   },
   {
    "duration": 0,
    "start_time": "2022-05-13T22:48:55.657Z"
   },
   {
    "duration": 0,
    "start_time": "2022-05-13T22:48:55.658Z"
   },
   {
    "duration": 0,
    "start_time": "2022-05-13T22:48:55.659Z"
   },
   {
    "duration": 0,
    "start_time": "2022-05-13T22:48:55.660Z"
   },
   {
    "duration": 0,
    "start_time": "2022-05-13T22:48:55.661Z"
   },
   {
    "duration": 0,
    "start_time": "2022-05-13T22:48:55.723Z"
   },
   {
    "duration": 0,
    "start_time": "2022-05-13T22:48:55.724Z"
   },
   {
    "duration": 0,
    "start_time": "2022-05-13T22:48:55.725Z"
   },
   {
    "duration": 0,
    "start_time": "2022-05-13T22:48:55.726Z"
   },
   {
    "duration": 1711,
    "start_time": "2022-05-14T00:21:44.979Z"
   },
   {
    "duration": 521,
    "start_time": "2022-05-14T00:21:46.693Z"
   },
   {
    "duration": 185,
    "start_time": "2022-05-14T00:21:47.216Z"
   },
   {
    "duration": 5,
    "start_time": "2022-05-14T00:21:47.404Z"
   },
   {
    "duration": 94,
    "start_time": "2022-05-14T00:21:47.411Z"
   },
   {
    "duration": 152,
    "start_time": "2022-05-14T00:21:47.507Z"
   },
   {
    "duration": 12,
    "start_time": "2022-05-14T00:21:47.662Z"
   },
   {
    "duration": 27,
    "start_time": "2022-05-14T00:21:47.676Z"
   },
   {
    "duration": 4,
    "start_time": "2022-05-14T00:21:47.705Z"
   },
   {
    "duration": 11718,
    "start_time": "2022-05-14T00:21:47.713Z"
   },
   {
    "duration": 11,
    "start_time": "2022-05-14T00:21:59.433Z"
   },
   {
    "duration": 425,
    "start_time": "2022-05-14T00:21:59.446Z"
   },
   {
    "duration": 44,
    "start_time": "2022-05-14T00:21:59.874Z"
   },
   {
    "duration": 46,
    "start_time": "2022-05-14T00:21:59.920Z"
   },
   {
    "duration": 189,
    "start_time": "2022-05-14T00:21:59.969Z"
   },
   {
    "duration": 71,
    "start_time": "2022-05-14T00:22:00.161Z"
   },
   {
    "duration": 29,
    "start_time": "2022-05-14T00:22:00.234Z"
   },
   {
    "duration": 8,
    "start_time": "2022-05-14T00:22:00.266Z"
   },
   {
    "duration": 24,
    "start_time": "2022-05-14T00:22:00.277Z"
   },
   {
    "duration": 74,
    "start_time": "2022-05-14T00:22:00.304Z"
   },
   {
    "duration": 20,
    "start_time": "2022-05-14T00:22:00.380Z"
   },
   {
    "duration": 23,
    "start_time": "2022-05-14T00:22:00.403Z"
   },
   {
    "duration": 18,
    "start_time": "2022-05-14T00:22:00.452Z"
   },
   {
    "duration": 32,
    "start_time": "2022-05-14T00:22:00.472Z"
   },
   {
    "duration": 18,
    "start_time": "2022-05-14T00:22:00.506Z"
   },
   {
    "duration": 10,
    "start_time": "2022-05-14T00:22:00.552Z"
   },
   {
    "duration": 17,
    "start_time": "2022-05-14T00:22:00.564Z"
   },
   {
    "duration": 13,
    "start_time": "2022-05-14T00:22:00.586Z"
   },
   {
    "duration": 17,
    "start_time": "2022-05-14T00:22:00.601Z"
   },
   {
    "duration": 17,
    "start_time": "2022-05-14T00:22:00.620Z"
   },
   {
    "duration": 26,
    "start_time": "2022-05-14T00:22:00.652Z"
   },
   {
    "duration": 57,
    "start_time": "2022-05-14T00:22:00.681Z"
   },
   {
    "duration": 25,
    "start_time": "2022-05-14T00:22:00.746Z"
   },
   {
    "duration": 116,
    "start_time": "2022-05-14T00:22:00.775Z"
   },
   {
    "duration": 18,
    "start_time": "2022-05-14T00:22:00.893Z"
   },
   {
    "duration": 49,
    "start_time": "2022-05-14T00:22:00.914Z"
   },
   {
    "duration": 12,
    "start_time": "2022-05-14T00:22:00.966Z"
   },
   {
    "duration": 196,
    "start_time": "2022-05-14T00:22:00.981Z"
   },
   {
    "duration": 36,
    "start_time": "2022-05-14T00:22:01.179Z"
   },
   {
    "duration": 35,
    "start_time": "2022-05-14T00:22:01.217Z"
   },
   {
    "duration": 45,
    "start_time": "2022-05-14T00:22:01.255Z"
   },
   {
    "duration": 35,
    "start_time": "2022-05-14T00:22:01.303Z"
   },
   {
    "duration": 348,
    "start_time": "2022-05-14T00:22:08.366Z"
   },
   {
    "duration": 316,
    "start_time": "2022-05-14T00:22:08.717Z"
   },
   {
    "duration": 321,
    "start_time": "2022-05-14T00:22:09.036Z"
   },
   {
    "duration": 349,
    "start_time": "2022-05-14T00:22:09.360Z"
   },
   {
    "duration": 301,
    "start_time": "2022-05-14T00:22:09.713Z"
   },
   {
    "duration": 3151,
    "start_time": "2022-05-14T00:22:10.016Z"
   },
   {
    "duration": 895,
    "start_time": "2022-05-14T00:22:13.169Z"
   },
   {
    "duration": 603,
    "start_time": "2022-05-14T00:22:14.069Z"
   },
   {
    "duration": 689,
    "start_time": "2022-05-14T00:22:14.675Z"
   },
   {
    "duration": 624,
    "start_time": "2022-05-14T00:22:15.369Z"
   },
   {
    "duration": 461,
    "start_time": "2022-05-14T00:22:15.996Z"
   },
   {
    "duration": 272,
    "start_time": "2022-05-14T00:22:16.459Z"
   },
   {
    "duration": 3025,
    "start_time": "2022-05-14T00:22:16.733Z"
   },
   {
    "duration": 438,
    "start_time": "2022-05-14T00:22:19.765Z"
   },
   {
    "duration": 324,
    "start_time": "2022-05-14T00:22:20.206Z"
   },
   {
    "duration": 349,
    "start_time": "2022-05-14T00:22:20.533Z"
   },
   {
    "duration": 313,
    "start_time": "2022-05-14T00:22:20.885Z"
   },
   {
    "duration": 440,
    "start_time": "2022-05-14T00:22:21.200Z"
   },
   {
    "duration": 289,
    "start_time": "2022-05-14T00:22:21.642Z"
   },
   {
    "duration": 2909,
    "start_time": "2022-05-14T00:22:21.933Z"
   },
   {
    "duration": 426,
    "start_time": "2022-05-14T00:22:24.844Z"
   },
   {
    "duration": 4,
    "start_time": "2022-05-14T00:22:25.273Z"
   },
   {
    "duration": 17,
    "start_time": "2022-05-14T00:22:25.280Z"
   },
   {
    "duration": 6,
    "start_time": "2022-05-14T00:22:25.300Z"
   },
   {
    "duration": 45,
    "start_time": "2022-05-14T00:22:25.307Z"
   },
   {
    "duration": 3,
    "start_time": "2022-05-14T00:22:25.363Z"
   },
   {
    "duration": 11,
    "start_time": "2022-05-14T00:22:25.369Z"
   },
   {
    "duration": 7,
    "start_time": "2022-05-14T00:22:25.382Z"
   },
   {
    "duration": 17,
    "start_time": "2022-05-14T00:22:25.391Z"
   },
   {
    "duration": 6,
    "start_time": "2022-05-14T00:22:25.410Z"
   },
   {
    "duration": 33,
    "start_time": "2022-05-14T00:22:25.419Z"
   },
   {
    "duration": 7,
    "start_time": "2022-05-14T00:22:25.455Z"
   },
   {
    "duration": 19,
    "start_time": "2022-05-14T00:22:25.464Z"
   },
   {
    "duration": 5,
    "start_time": "2022-05-14T00:22:25.485Z"
   },
   {
    "duration": 16,
    "start_time": "2022-05-14T00:22:25.492Z"
   },
   {
    "duration": 5,
    "start_time": "2022-05-14T00:22:25.510Z"
   },
   {
    "duration": 41,
    "start_time": "2022-05-14T00:22:25.517Z"
   },
   {
    "duration": 16,
    "start_time": "2022-05-14T00:22:25.560Z"
   },
   {
    "duration": 12,
    "start_time": "2022-05-14T00:22:25.579Z"
   },
   {
    "duration": 9,
    "start_time": "2022-05-14T00:22:25.593Z"
   },
   {
    "duration": 9,
    "start_time": "2022-05-14T00:22:25.608Z"
   },
   {
    "duration": 9,
    "start_time": "2022-05-14T00:22:25.619Z"
   },
   {
    "duration": 13,
    "start_time": "2022-05-14T00:22:25.653Z"
   },
   {
    "duration": 8,
    "start_time": "2022-05-14T00:22:25.669Z"
   },
   {
    "duration": 13,
    "start_time": "2022-05-14T00:22:25.679Z"
   },
   {
    "duration": 6,
    "start_time": "2022-05-14T00:22:25.694Z"
   },
   {
    "duration": 7,
    "start_time": "2022-05-14T00:22:25.702Z"
   },
   {
    "duration": 12,
    "start_time": "2022-05-14T00:25:14.265Z"
   },
   {
    "duration": 16,
    "start_time": "2022-05-14T00:25:14.747Z"
   },
   {
    "duration": 40,
    "start_time": "2022-05-14T00:25:17.185Z"
   },
   {
    "duration": 13,
    "start_time": "2022-05-14T00:25:35.632Z"
   },
   {
    "duration": 28,
    "start_time": "2022-05-14T00:25:36.535Z"
   },
   {
    "duration": 9,
    "start_time": "2022-05-14T00:25:44.424Z"
   },
   {
    "duration": 29,
    "start_time": "2022-05-14T00:25:44.870Z"
   },
   {
    "duration": 7,
    "start_time": "2022-05-14T00:25:47.416Z"
   },
   {
    "duration": 159,
    "start_time": "2022-05-14T00:25:47.665Z"
   },
   {
    "duration": 37,
    "start_time": "2022-05-14T00:25:48.344Z"
   },
   {
    "duration": 7,
    "start_time": "2022-05-14T00:25:50.710Z"
   },
   {
    "duration": 31,
    "start_time": "2022-05-14T00:25:50.841Z"
   },
   {
    "duration": 1474,
    "start_time": "2022-05-14T00:46:34.034Z"
   },
   {
    "duration": 526,
    "start_time": "2022-05-14T00:46:35.511Z"
   },
   {
    "duration": 220,
    "start_time": "2022-05-14T00:46:36.039Z"
   },
   {
    "duration": 6,
    "start_time": "2022-05-14T00:46:36.262Z"
   },
   {
    "duration": 100,
    "start_time": "2022-05-14T00:46:36.269Z"
   },
   {
    "duration": 134,
    "start_time": "2022-05-14T00:46:36.371Z"
   },
   {
    "duration": 12,
    "start_time": "2022-05-14T00:46:36.507Z"
   },
   {
    "duration": 38,
    "start_time": "2022-05-14T00:46:36.522Z"
   },
   {
    "duration": 5,
    "start_time": "2022-05-14T00:46:36.563Z"
   },
   {
    "duration": 11359,
    "start_time": "2022-05-14T00:46:36.575Z"
   },
   {
    "duration": 19,
    "start_time": "2022-05-14T00:46:47.936Z"
   },
   {
    "duration": 411,
    "start_time": "2022-05-14T00:46:47.960Z"
   },
   {
    "duration": 40,
    "start_time": "2022-05-14T00:46:48.374Z"
   },
   {
    "duration": 49,
    "start_time": "2022-05-14T00:46:48.416Z"
   },
   {
    "duration": 158,
    "start_time": "2022-05-14T00:46:48.467Z"
   },
   {
    "duration": 82,
    "start_time": "2022-05-14T00:46:48.627Z"
   },
   {
    "duration": 12,
    "start_time": "2022-05-14T00:46:48.711Z"
   },
   {
    "duration": 5,
    "start_time": "2022-05-14T00:46:48.725Z"
   },
   {
    "duration": 14,
    "start_time": "2022-05-14T00:46:48.751Z"
   },
   {
    "duration": 45,
    "start_time": "2022-05-14T00:46:48.768Z"
   },
   {
    "duration": 49,
    "start_time": "2022-05-14T00:46:48.815Z"
   },
   {
    "duration": 22,
    "start_time": "2022-05-14T00:46:48.866Z"
   },
   {
    "duration": 15,
    "start_time": "2022-05-14T00:46:48.890Z"
   },
   {
    "duration": 52,
    "start_time": "2022-05-14T00:46:48.907Z"
   },
   {
    "duration": 18,
    "start_time": "2022-05-14T00:46:48.962Z"
   },
   {
    "duration": 4,
    "start_time": "2022-05-14T00:46:48.982Z"
   },
   {
    "duration": 13,
    "start_time": "2022-05-14T00:46:48.988Z"
   },
   {
    "duration": 6,
    "start_time": "2022-05-14T00:46:49.008Z"
   },
   {
    "duration": 44,
    "start_time": "2022-05-14T00:46:49.016Z"
   },
   {
    "duration": 20,
    "start_time": "2022-05-14T00:46:49.062Z"
   },
   {
    "duration": 12,
    "start_time": "2022-05-14T00:46:49.084Z"
   },
   {
    "duration": 64,
    "start_time": "2022-05-14T00:46:49.099Z"
   },
   {
    "duration": 14,
    "start_time": "2022-05-14T00:46:49.172Z"
   },
   {
    "duration": 24,
    "start_time": "2022-05-14T00:46:49.188Z"
   },
   {
    "duration": 38,
    "start_time": "2022-05-14T00:46:49.214Z"
   },
   {
    "duration": 49,
    "start_time": "2022-05-14T00:46:49.254Z"
   },
   {
    "duration": 6,
    "start_time": "2022-05-14T00:46:49.305Z"
   },
   {
    "duration": 158,
    "start_time": "2022-05-14T00:46:49.313Z"
   },
   {
    "duration": 33,
    "start_time": "2022-05-14T00:46:49.473Z"
   },
   {
    "duration": 6,
    "start_time": "2022-05-14T00:46:49.508Z"
   },
   {
    "duration": 60,
    "start_time": "2022-05-14T00:46:49.516Z"
   },
   {
    "duration": 12,
    "start_time": "2022-05-14T00:46:49.578Z"
   },
   {
    "duration": 542,
    "start_time": "2022-05-14T00:46:49.592Z"
   },
   {
    "duration": 302,
    "start_time": "2022-05-14T00:46:50.136Z"
   },
   {
    "duration": 320,
    "start_time": "2022-05-14T00:46:50.440Z"
   },
   {
    "duration": 314,
    "start_time": "2022-05-14T00:46:50.763Z"
   },
   {
    "duration": 323,
    "start_time": "2022-05-14T00:46:51.079Z"
   },
   {
    "duration": 308,
    "start_time": "2022-05-14T00:46:51.404Z"
   },
   {
    "duration": 2882,
    "start_time": "2022-05-14T00:46:51.714Z"
   },
   {
    "duration": 424,
    "start_time": "2022-05-14T00:46:54.598Z"
   },
   {
    "duration": 296,
    "start_time": "2022-05-14T00:46:55.024Z"
   },
   {
    "duration": 334,
    "start_time": "2022-05-14T00:46:55.322Z"
   },
   {
    "duration": 316,
    "start_time": "2022-05-14T00:46:55.662Z"
   },
   {
    "duration": 337,
    "start_time": "2022-05-14T00:46:55.980Z"
   },
   {
    "duration": 375,
    "start_time": "2022-05-14T00:46:56.320Z"
   },
   {
    "duration": 2792,
    "start_time": "2022-05-14T00:46:56.697Z"
   },
   {
    "duration": 447,
    "start_time": "2022-05-14T00:46:59.491Z"
   },
   {
    "duration": 322,
    "start_time": "2022-05-14T00:46:59.940Z"
   },
   {
    "duration": 456,
    "start_time": "2022-05-14T00:47:00.265Z"
   },
   {
    "duration": 322,
    "start_time": "2022-05-14T00:47:00.724Z"
   },
   {
    "duration": 320,
    "start_time": "2022-05-14T00:47:01.052Z"
   },
   {
    "duration": 295,
    "start_time": "2022-05-14T00:47:01.375Z"
   },
   {
    "duration": 4324,
    "start_time": "2022-05-14T00:47:01.672Z"
   },
   {
    "duration": 628,
    "start_time": "2022-05-14T00:47:05.998Z"
   },
   {
    "duration": 4,
    "start_time": "2022-05-14T00:47:06.628Z"
   },
   {
    "duration": 24,
    "start_time": "2022-05-14T00:47:06.634Z"
   },
   {
    "duration": 15,
    "start_time": "2022-05-14T00:47:06.660Z"
   },
   {
    "duration": 15,
    "start_time": "2022-05-14T00:47:06.677Z"
   },
   {
    "duration": 5,
    "start_time": "2022-05-14T00:47:06.694Z"
   },
   {
    "duration": 8,
    "start_time": "2022-05-14T00:47:06.700Z"
   },
   {
    "duration": 9,
    "start_time": "2022-05-14T00:47:06.710Z"
   },
   {
    "duration": 15,
    "start_time": "2022-05-14T00:47:06.721Z"
   },
   {
    "duration": 8,
    "start_time": "2022-05-14T00:47:06.738Z"
   },
   {
    "duration": 23,
    "start_time": "2022-05-14T00:47:06.748Z"
   },
   {
    "duration": 12,
    "start_time": "2022-05-14T00:47:06.774Z"
   },
   {
    "duration": 16,
    "start_time": "2022-05-14T00:47:06.788Z"
   },
   {
    "duration": 4,
    "start_time": "2022-05-14T00:47:06.807Z"
   },
   {
    "duration": 16,
    "start_time": "2022-05-14T00:47:06.813Z"
   },
   {
    "duration": 5,
    "start_time": "2022-05-14T00:47:06.831Z"
   },
   {
    "duration": 7,
    "start_time": "2022-05-14T00:47:06.838Z"
   },
   {
    "duration": 14,
    "start_time": "2022-05-14T00:47:06.847Z"
   },
   {
    "duration": 9,
    "start_time": "2022-05-14T00:47:06.869Z"
   },
   {
    "duration": 17,
    "start_time": "2022-05-14T00:47:06.880Z"
   },
   {
    "duration": 9,
    "start_time": "2022-05-14T00:47:06.900Z"
   },
   {
    "duration": 8,
    "start_time": "2022-05-14T00:47:06.911Z"
   },
   {
    "duration": 15,
    "start_time": "2022-05-14T00:47:06.921Z"
   },
   {
    "duration": 6,
    "start_time": "2022-05-14T00:47:06.938Z"
   },
   {
    "duration": 22,
    "start_time": "2022-05-14T00:47:06.946Z"
   },
   {
    "duration": 11,
    "start_time": "2022-05-14T00:47:06.970Z"
   },
   {
    "duration": 9,
    "start_time": "2022-05-14T00:47:06.983Z"
   },
   {
    "duration": 486,
    "start_time": "2022-05-14T00:50:51.575Z"
   },
   {
    "duration": 442,
    "start_time": "2022-05-14T00:51:52.916Z"
   },
   {
    "duration": 455,
    "start_time": "2022-05-14T00:52:48.426Z"
   },
   {
    "duration": 415,
    "start_time": "2022-05-14T00:53:11.185Z"
   },
   {
    "duration": 513,
    "start_time": "2022-05-14T00:54:00.322Z"
   },
   {
    "duration": 653,
    "start_time": "2022-05-14T00:54:43.690Z"
   },
   {
    "duration": 469,
    "start_time": "2022-05-14T00:54:59.365Z"
   },
   {
    "duration": 411,
    "start_time": "2022-05-14T00:55:04.097Z"
   },
   {
    "duration": 501,
    "start_time": "2022-05-14T00:55:08.080Z"
   },
   {
    "duration": 185,
    "start_time": "2022-05-14T00:57:52.333Z"
   },
   {
    "duration": 202,
    "start_time": "2022-05-14T10:53:35.313Z"
   },
   {
    "duration": 2539,
    "start_time": "2022-05-14T11:04:06.493Z"
   },
   {
    "duration": 784,
    "start_time": "2022-05-14T11:04:09.035Z"
   },
   {
    "duration": 200,
    "start_time": "2022-05-14T11:04:09.822Z"
   },
   {
    "duration": 6,
    "start_time": "2022-05-14T11:04:10.026Z"
   },
   {
    "duration": 127,
    "start_time": "2022-05-14T11:04:10.035Z"
   },
   {
    "duration": 166,
    "start_time": "2022-05-14T11:04:10.165Z"
   },
   {
    "duration": 14,
    "start_time": "2022-05-14T11:04:10.334Z"
   },
   {
    "duration": 45,
    "start_time": "2022-05-14T11:04:10.350Z"
   },
   {
    "duration": 6,
    "start_time": "2022-05-14T11:04:10.397Z"
   },
   {
    "duration": 11777,
    "start_time": "2022-05-14T11:04:10.407Z"
   },
   {
    "duration": 17,
    "start_time": "2022-05-14T11:04:22.186Z"
   },
   {
    "duration": 199,
    "start_time": "2022-05-14T11:04:22.206Z"
   },
   {
    "duration": 47,
    "start_time": "2022-05-14T11:04:22.407Z"
   },
   {
    "duration": 38,
    "start_time": "2022-05-14T11:04:22.457Z"
   },
   {
    "duration": 207,
    "start_time": "2022-05-14T11:04:22.498Z"
   },
   {
    "duration": 70,
    "start_time": "2022-05-14T11:04:22.707Z"
   },
   {
    "duration": 16,
    "start_time": "2022-05-14T11:04:22.794Z"
   },
   {
    "duration": 10,
    "start_time": "2022-05-14T11:04:22.813Z"
   },
   {
    "duration": 14,
    "start_time": "2022-05-14T11:04:22.826Z"
   },
   {
    "duration": 79,
    "start_time": "2022-05-14T11:04:22.844Z"
   },
   {
    "duration": 21,
    "start_time": "2022-05-14T11:04:22.925Z"
   },
   {
    "duration": 49,
    "start_time": "2022-05-14T11:04:22.950Z"
   },
   {
    "duration": 17,
    "start_time": "2022-05-14T11:04:23.002Z"
   },
   {
    "duration": 35,
    "start_time": "2022-05-14T11:04:23.023Z"
   },
   {
    "duration": 42,
    "start_time": "2022-05-14T11:04:23.061Z"
   },
   {
    "duration": 4,
    "start_time": "2022-05-14T11:04:23.108Z"
   },
   {
    "duration": 13,
    "start_time": "2022-05-14T11:04:23.115Z"
   },
   {
    "duration": 7,
    "start_time": "2022-05-14T11:04:23.135Z"
   },
   {
    "duration": 15,
    "start_time": "2022-05-14T11:04:23.144Z"
   },
   {
    "duration": 18,
    "start_time": "2022-05-14T11:04:23.194Z"
   },
   {
    "duration": 19,
    "start_time": "2022-05-14T11:04:23.215Z"
   },
   {
    "duration": 81,
    "start_time": "2022-05-14T11:04:23.237Z"
   },
   {
    "duration": 12,
    "start_time": "2022-05-14T11:04:23.321Z"
   },
   {
    "duration": 57,
    "start_time": "2022-05-14T11:04:23.336Z"
   },
   {
    "duration": 12,
    "start_time": "2022-05-14T11:04:23.396Z"
   },
   {
    "duration": 31,
    "start_time": "2022-05-14T11:04:23.413Z"
   },
   {
    "duration": 8,
    "start_time": "2022-05-14T11:04:23.447Z"
   },
   {
    "duration": 158,
    "start_time": "2022-05-14T11:04:23.493Z"
   },
   {
    "duration": 51,
    "start_time": "2022-05-14T11:04:23.654Z"
   },
   {
    "duration": 13,
    "start_time": "2022-05-14T11:04:23.707Z"
   },
   {
    "duration": 27,
    "start_time": "2022-05-14T11:04:23.723Z"
   },
   {
    "duration": 41,
    "start_time": "2022-05-14T11:04:23.753Z"
   },
   {
    "duration": 789,
    "start_time": "2022-05-14T11:04:23.797Z"
   },
   {
    "duration": 605,
    "start_time": "2022-05-14T11:04:24.595Z"
   },
   {
    "duration": 449,
    "start_time": "2022-05-14T11:04:25.203Z"
   },
   {
    "duration": 476,
    "start_time": "2022-05-14T11:04:25.655Z"
   },
   {
    "duration": 462,
    "start_time": "2022-05-14T11:04:26.134Z"
   },
   {
    "duration": 354,
    "start_time": "2022-05-14T11:04:26.601Z"
   },
   {
    "duration": 337,
    "start_time": "2022-05-14T11:04:26.958Z"
   },
   {
    "duration": 623,
    "start_time": "2022-05-14T11:04:27.306Z"
   },
   {
    "duration": 476,
    "start_time": "2022-05-14T11:04:27.932Z"
   },
   {
    "duration": 400,
    "start_time": "2022-05-14T11:04:28.411Z"
   },
   {
    "duration": 345,
    "start_time": "2022-05-14T11:04:28.815Z"
   },
   {
    "duration": 350,
    "start_time": "2022-05-14T11:04:29.163Z"
   },
   {
    "duration": 298,
    "start_time": "2022-05-14T11:04:29.516Z"
   },
   {
    "duration": 442,
    "start_time": "2022-05-14T11:04:29.817Z"
   },
   {
    "duration": 561,
    "start_time": "2022-05-14T11:04:30.262Z"
   },
   {
    "duration": 331,
    "start_time": "2022-05-14T11:04:30.826Z"
   },
   {
    "duration": 639,
    "start_time": "2022-05-14T11:04:31.160Z"
   },
   {
    "duration": 322,
    "start_time": "2022-05-14T11:04:31.803Z"
   },
   {
    "duration": 340,
    "start_time": "2022-05-14T11:04:32.127Z"
   },
   {
    "duration": 297,
    "start_time": "2022-05-14T11:04:32.470Z"
   },
   {
    "duration": 444,
    "start_time": "2022-05-14T11:04:32.771Z"
   },
   {
    "duration": 4,
    "start_time": "2022-05-14T11:04:33.219Z"
   },
   {
    "duration": 15,
    "start_time": "2022-05-14T11:04:33.226Z"
   },
   {
    "duration": 9,
    "start_time": "2022-05-14T11:04:33.243Z"
   },
   {
    "duration": 7,
    "start_time": "2022-05-14T11:04:33.254Z"
   },
   {
    "duration": 5,
    "start_time": "2022-05-14T11:04:33.293Z"
   },
   {
    "duration": 16,
    "start_time": "2022-05-14T11:04:33.301Z"
   },
   {
    "duration": 7,
    "start_time": "2022-05-14T11:04:33.319Z"
   },
   {
    "duration": 7,
    "start_time": "2022-05-14T11:04:33.329Z"
   },
   {
    "duration": 8,
    "start_time": "2022-05-14T11:04:33.339Z"
   },
   {
    "duration": 43,
    "start_time": "2022-05-14T11:04:33.350Z"
   },
   {
    "duration": 6,
    "start_time": "2022-05-14T11:04:33.396Z"
   },
   {
    "duration": 8,
    "start_time": "2022-05-14T11:04:33.404Z"
   },
   {
    "duration": 9,
    "start_time": "2022-05-14T11:04:33.415Z"
   },
   {
    "duration": 8,
    "start_time": "2022-05-14T11:04:33.426Z"
   },
   {
    "duration": 8,
    "start_time": "2022-05-14T11:04:33.436Z"
   },
   {
    "duration": 5,
    "start_time": "2022-05-14T11:04:33.494Z"
   },
   {
    "duration": 11,
    "start_time": "2022-05-14T11:04:33.501Z"
   },
   {
    "duration": 28,
    "start_time": "2022-05-14T11:04:33.514Z"
   },
   {
    "duration": 9,
    "start_time": "2022-05-14T11:04:33.554Z"
   },
   {
    "duration": 30,
    "start_time": "2022-05-14T11:04:33.566Z"
   },
   {
    "duration": 10,
    "start_time": "2022-05-14T11:04:33.599Z"
   },
   {
    "duration": 11,
    "start_time": "2022-05-14T11:04:33.611Z"
   },
   {
    "duration": 774,
    "start_time": "2022-05-14T11:05:46.694Z"
   },
   {
    "duration": 511,
    "start_time": "2022-05-14T11:06:37.501Z"
   },
   {
    "duration": 755,
    "start_time": "2022-05-14T11:08:19.255Z"
   },
   {
    "duration": 864,
    "start_time": "2022-05-14T11:12:24.845Z"
   },
   {
    "duration": 22,
    "start_time": "2022-05-14T11:14:24.392Z"
   },
   {
    "duration": 30,
    "start_time": "2022-05-14T11:14:32.203Z"
   },
   {
    "duration": 27,
    "start_time": "2022-05-14T11:14:40.061Z"
   },
   {
    "duration": 2542,
    "start_time": "2022-05-14T11:20:01.848Z"
   },
   {
    "duration": 828,
    "start_time": "2022-05-14T11:20:04.394Z"
   },
   {
    "duration": 287,
    "start_time": "2022-05-14T11:20:05.225Z"
   },
   {
    "duration": 5,
    "start_time": "2022-05-14T11:20:05.515Z"
   },
   {
    "duration": 109,
    "start_time": "2022-05-14T11:20:05.523Z"
   },
   {
    "duration": 213,
    "start_time": "2022-05-14T11:20:05.634Z"
   },
   {
    "duration": 18,
    "start_time": "2022-05-14T11:20:05.850Z"
   },
   {
    "duration": 52,
    "start_time": "2022-05-14T11:20:05.870Z"
   },
   {
    "duration": 5,
    "start_time": "2022-05-14T11:20:05.925Z"
   },
   {
    "duration": 22374,
    "start_time": "2022-05-14T11:20:05.936Z"
   },
   {
    "duration": 17,
    "start_time": "2022-05-14T11:20:28.313Z"
   },
   {
    "duration": 290,
    "start_time": "2022-05-14T11:20:28.333Z"
   },
   {
    "duration": 73,
    "start_time": "2022-05-14T11:20:28.626Z"
   },
   {
    "duration": 19,
    "start_time": "2022-05-14T11:20:28.702Z"
   },
   {
    "duration": 273,
    "start_time": "2022-05-14T11:20:28.724Z"
   },
   {
    "duration": 101,
    "start_time": "2022-05-14T11:20:29.000Z"
   },
   {
    "duration": 18,
    "start_time": "2022-05-14T11:20:29.104Z"
   },
   {
    "duration": 12,
    "start_time": "2022-05-14T11:20:29.124Z"
   },
   {
    "duration": 14,
    "start_time": "2022-05-14T11:20:29.139Z"
   },
   {
    "duration": 77,
    "start_time": "2022-05-14T11:20:29.156Z"
   },
   {
    "duration": 19,
    "start_time": "2022-05-14T11:20:29.235Z"
   },
   {
    "duration": 52,
    "start_time": "2022-05-14T11:20:29.256Z"
   },
   {
    "duration": 16,
    "start_time": "2022-05-14T11:20:29.310Z"
   },
   {
    "duration": 25,
    "start_time": "2022-05-14T11:20:29.328Z"
   },
   {
    "duration": 52,
    "start_time": "2022-05-14T11:20:29.355Z"
   },
   {
    "duration": 6,
    "start_time": "2022-05-14T11:20:29.410Z"
   },
   {
    "duration": 20,
    "start_time": "2022-05-14T11:20:29.419Z"
   },
   {
    "duration": 45,
    "start_time": "2022-05-14T11:20:29.450Z"
   },
   {
    "duration": 15,
    "start_time": "2022-05-14T11:20:29.498Z"
   },
   {
    "duration": 15,
    "start_time": "2022-05-14T11:20:29.516Z"
   },
   {
    "duration": 16,
    "start_time": "2022-05-14T11:20:29.533Z"
   },
   {
    "duration": 58,
    "start_time": "2022-05-14T11:20:29.593Z"
   },
   {
    "duration": 44,
    "start_time": "2022-05-14T11:20:29.654Z"
   },
   {
    "duration": 38,
    "start_time": "2022-05-14T11:20:29.701Z"
   },
   {
    "duration": 12,
    "start_time": "2022-05-14T11:20:29.742Z"
   },
   {
    "duration": 75,
    "start_time": "2022-05-14T11:20:29.757Z"
   },
   {
    "duration": 9,
    "start_time": "2022-05-14T11:20:29.834Z"
   },
   {
    "duration": 285,
    "start_time": "2022-05-14T11:20:29.846Z"
   },
   {
    "duration": 69,
    "start_time": "2022-05-14T11:20:30.134Z"
   },
   {
    "duration": 8,
    "start_time": "2022-05-14T11:20:30.208Z"
   },
   {
    "duration": 36,
    "start_time": "2022-05-14T11:20:30.219Z"
   },
   {
    "duration": 37,
    "start_time": "2022-05-14T11:20:30.258Z"
   },
   {
    "duration": 683,
    "start_time": "2022-05-14T11:20:30.298Z"
   },
   {
    "duration": 639,
    "start_time": "2022-05-14T11:20:30.984Z"
   },
   {
    "duration": 378,
    "start_time": "2022-05-14T11:20:31.625Z"
   },
   {
    "duration": 475,
    "start_time": "2022-05-14T11:20:32.006Z"
   },
   {
    "duration": 419,
    "start_time": "2022-05-14T11:20:32.484Z"
   },
   {
    "duration": 28,
    "start_time": "2022-05-14T11:20:32.906Z"
   },
   {
    "duration": 924,
    "start_time": "2022-05-14T11:20:32.937Z"
   },
   {
    "duration": 604,
    "start_time": "2022-05-14T11:20:33.864Z"
   },
   {
    "duration": 565,
    "start_time": "2022-05-14T11:20:34.470Z"
   },
   {
    "duration": 283,
    "start_time": "2022-05-14T11:20:35.038Z"
   },
   {
    "duration": 22,
    "start_time": "2022-05-14T11:20:35.324Z"
   },
   {
    "duration": 542,
    "start_time": "2022-05-14T11:20:35.348Z"
   },
   {
    "duration": 524,
    "start_time": "2022-05-14T11:20:35.894Z"
   },
   {
    "duration": 464,
    "start_time": "2022-05-14T11:20:36.422Z"
   },
   {
    "duration": 409,
    "start_time": "2022-05-14T11:20:36.893Z"
   },
   {
    "duration": 25,
    "start_time": "2022-05-14T11:20:37.305Z"
   },
   {
    "duration": 5,
    "start_time": "2022-05-14T11:20:37.333Z"
   },
   {
    "duration": 12,
    "start_time": "2022-05-14T11:20:37.340Z"
   },
   {
    "duration": 39,
    "start_time": "2022-05-14T11:20:37.355Z"
   },
   {
    "duration": 8,
    "start_time": "2022-05-14T11:20:37.397Z"
   },
   {
    "duration": 8,
    "start_time": "2022-05-14T11:20:37.408Z"
   },
   {
    "duration": 19,
    "start_time": "2022-05-14T11:20:37.418Z"
   },
   {
    "duration": 12,
    "start_time": "2022-05-14T11:20:37.440Z"
   },
   {
    "duration": 40,
    "start_time": "2022-05-14T11:20:37.455Z"
   },
   {
    "duration": 7,
    "start_time": "2022-05-14T11:20:37.497Z"
   },
   {
    "duration": 9,
    "start_time": "2022-05-14T11:20:37.507Z"
   },
   {
    "duration": 10,
    "start_time": "2022-05-14T11:20:37.519Z"
   },
   {
    "duration": 7,
    "start_time": "2022-05-14T11:20:37.532Z"
   },
   {
    "duration": 10,
    "start_time": "2022-05-14T11:20:37.542Z"
   },
   {
    "duration": 8,
    "start_time": "2022-05-14T11:20:37.594Z"
   },
   {
    "duration": 9,
    "start_time": "2022-05-14T11:20:37.604Z"
   },
   {
    "duration": 7,
    "start_time": "2022-05-14T11:20:37.616Z"
   },
   {
    "duration": 7,
    "start_time": "2022-05-14T11:20:37.625Z"
   },
   {
    "duration": 60,
    "start_time": "2022-05-14T11:20:37.634Z"
   },
   {
    "duration": 6,
    "start_time": "2022-05-14T11:20:37.697Z"
   },
   {
    "duration": 11,
    "start_time": "2022-05-14T11:20:37.706Z"
   },
   {
    "duration": 7,
    "start_time": "2022-05-14T11:20:37.720Z"
   },
   {
    "duration": 8,
    "start_time": "2022-05-14T11:20:37.729Z"
   },
   {
    "duration": 50,
    "start_time": "2022-05-14T22:34:35.834Z"
   },
   {
    "duration": 1420,
    "start_time": "2022-05-14T22:34:41.152Z"
   },
   {
    "duration": 436,
    "start_time": "2022-05-14T22:34:42.574Z"
   },
   {
    "duration": 140,
    "start_time": "2022-05-14T22:34:43.011Z"
   },
   {
    "duration": 3,
    "start_time": "2022-05-14T22:34:43.153Z"
   },
   {
    "duration": 77,
    "start_time": "2022-05-14T22:34:43.158Z"
   },
   {
    "duration": 96,
    "start_time": "2022-05-14T22:34:43.237Z"
   },
   {
    "duration": 9,
    "start_time": "2022-05-14T22:34:43.335Z"
   },
   {
    "duration": 23,
    "start_time": "2022-05-14T22:34:43.346Z"
   },
   {
    "duration": 3,
    "start_time": "2022-05-14T22:34:43.371Z"
   },
   {
    "duration": 6853,
    "start_time": "2022-05-14T22:34:43.376Z"
   },
   {
    "duration": 9,
    "start_time": "2022-05-14T22:34:50.231Z"
   },
   {
    "duration": 132,
    "start_time": "2022-05-14T22:34:50.241Z"
   },
   {
    "duration": 34,
    "start_time": "2022-05-14T22:34:50.375Z"
   },
   {
    "duration": 32,
    "start_time": "2022-05-14T22:34:50.410Z"
   },
   {
    "duration": 125,
    "start_time": "2022-05-14T22:34:50.443Z"
   },
   {
    "duration": 50,
    "start_time": "2022-05-14T22:34:50.569Z"
   },
   {
    "duration": 9,
    "start_time": "2022-05-14T22:34:50.634Z"
   },
   {
    "duration": 7,
    "start_time": "2022-05-14T22:34:50.644Z"
   },
   {
    "duration": 13,
    "start_time": "2022-05-14T22:34:50.653Z"
   },
   {
    "duration": 35,
    "start_time": "2022-05-14T22:34:50.668Z"
   },
   {
    "duration": 29,
    "start_time": "2022-05-14T22:34:50.705Z"
   },
   {
    "duration": 16,
    "start_time": "2022-05-14T22:34:50.736Z"
   },
   {
    "duration": 11,
    "start_time": "2022-05-14T22:34:50.753Z"
   },
   {
    "duration": 17,
    "start_time": "2022-05-14T22:34:50.765Z"
   },
   {
    "duration": 12,
    "start_time": "2022-05-14T22:34:50.784Z"
   },
   {
    "duration": 4,
    "start_time": "2022-05-14T22:34:50.834Z"
   },
   {
    "duration": 12,
    "start_time": "2022-05-14T22:34:50.839Z"
   },
   {
    "duration": 7,
    "start_time": "2022-05-14T22:34:50.856Z"
   },
   {
    "duration": 12,
    "start_time": "2022-05-14T22:34:50.864Z"
   },
   {
    "duration": 13,
    "start_time": "2022-05-14T22:34:50.877Z"
   },
   {
    "duration": 8,
    "start_time": "2022-05-14T22:34:50.891Z"
   },
   {
    "duration": 56,
    "start_time": "2022-05-14T22:34:50.901Z"
   },
   {
    "duration": 7,
    "start_time": "2022-05-14T22:34:50.959Z"
   },
   {
    "duration": 20,
    "start_time": "2022-05-14T22:34:50.968Z"
   },
   {
    "duration": 7,
    "start_time": "2022-05-14T22:34:50.989Z"
   },
   {
    "duration": 51,
    "start_time": "2022-05-14T22:34:50.998Z"
   },
   {
    "duration": 7,
    "start_time": "2022-05-14T22:34:51.050Z"
   },
   {
    "duration": 114,
    "start_time": "2022-05-14T22:34:51.059Z"
   },
   {
    "duration": 22,
    "start_time": "2022-05-14T22:34:51.175Z"
   },
   {
    "duration": 4,
    "start_time": "2022-05-14T22:34:51.199Z"
   },
   {
    "duration": 37,
    "start_time": "2022-05-14T22:34:51.205Z"
   },
   {
    "duration": 5,
    "start_time": "2022-05-14T22:34:51.244Z"
   },
   {
    "duration": 16,
    "start_time": "2022-05-14T22:34:51.251Z"
   },
   {
    "duration": 359,
    "start_time": "2022-05-14T22:34:51.268Z"
   },
   {
    "duration": 345,
    "start_time": "2022-05-14T22:34:51.629Z"
   },
   {
    "duration": 213,
    "start_time": "2022-05-14T22:34:51.976Z"
   },
   {
    "duration": 210,
    "start_time": "2022-05-14T22:34:52.191Z"
   },
   {
    "duration": 190,
    "start_time": "2022-05-14T22:34:52.403Z"
   },
   {
    "duration": 16,
    "start_time": "2022-05-14T22:34:52.595Z"
   },
   {
    "duration": 372,
    "start_time": "2022-05-14T22:34:52.612Z"
   },
   {
    "duration": 218,
    "start_time": "2022-05-14T22:34:52.985Z"
   },
   {
    "duration": 218,
    "start_time": "2022-05-14T22:34:53.205Z"
   },
   {
    "duration": 169,
    "start_time": "2022-05-14T22:34:53.425Z"
   },
   {
    "duration": 16,
    "start_time": "2022-05-14T22:34:53.596Z"
   },
   {
    "duration": 346,
    "start_time": "2022-05-14T22:34:53.614Z"
   },
   {
    "duration": 219,
    "start_time": "2022-05-14T22:34:53.962Z"
   },
   {
    "duration": 215,
    "start_time": "2022-05-14T22:34:54.183Z"
   },
   {
    "duration": 181,
    "start_time": "2022-05-14T22:34:54.400Z"
   },
   {
    "duration": 15,
    "start_time": "2022-05-14T22:34:54.583Z"
   },
   {
    "duration": 2,
    "start_time": "2022-05-14T22:34:54.600Z"
   },
   {
    "duration": 6,
    "start_time": "2022-05-14T22:34:54.604Z"
   },
   {
    "duration": 23,
    "start_time": "2022-05-14T22:34:54.611Z"
   },
   {
    "duration": 8,
    "start_time": "2022-05-14T22:34:54.636Z"
   },
   {
    "duration": 6,
    "start_time": "2022-05-14T22:34:54.646Z"
   },
   {
    "duration": 11,
    "start_time": "2022-05-14T22:34:54.654Z"
   },
   {
    "duration": 10,
    "start_time": "2022-05-14T22:34:54.666Z"
   },
   {
    "duration": 6,
    "start_time": "2022-05-14T22:34:54.677Z"
   },
   {
    "duration": 6,
    "start_time": "2022-05-14T22:34:54.685Z"
   },
   {
    "duration": 5,
    "start_time": "2022-05-14T22:34:54.692Z"
   },
   {
    "duration": 7,
    "start_time": "2022-05-14T22:34:54.699Z"
   },
   {
    "duration": 26,
    "start_time": "2022-05-14T22:34:54.708Z"
   },
   {
    "duration": 7,
    "start_time": "2022-05-14T22:34:54.736Z"
   },
   {
    "duration": 6,
    "start_time": "2022-05-14T22:34:54.745Z"
   },
   {
    "duration": 6,
    "start_time": "2022-05-14T22:34:54.753Z"
   },
   {
    "duration": 9,
    "start_time": "2022-05-14T22:34:54.760Z"
   },
   {
    "duration": 9,
    "start_time": "2022-05-14T22:34:54.771Z"
   },
   {
    "duration": 9,
    "start_time": "2022-05-14T22:34:54.781Z"
   },
   {
    "duration": 14,
    "start_time": "2022-05-14T22:34:54.792Z"
   },
   {
    "duration": 9,
    "start_time": "2022-05-14T22:34:54.807Z"
   },
   {
    "duration": 5,
    "start_time": "2022-05-14T22:34:54.832Z"
   },
   {
    "duration": 18,
    "start_time": "2022-05-14T22:34:54.838Z"
   },
   {
    "duration": 164,
    "start_time": "2022-05-14T22:37:25.040Z"
   }
  ],
  "kernelspec": {
   "display_name": "Python 3",
   "language": "python",
   "name": "python3"
  },
  "language_info": {
   "codemirror_mode": {
    "name": "ipython",
    "version": 3
   },
   "file_extension": ".py",
   "mimetype": "text/x-python",
   "name": "python",
   "nbconvert_exporter": "python",
   "pygments_lexer": "ipython3",
   "version": "3.8.8"
  },
  "toc": {
   "base_numbering": 1,
   "nav_menu": {},
   "number_sections": true,
   "sideBar": true,
   "skip_h1_title": true,
   "title_cell": "Table of Contents",
   "title_sidebar": "Contents",
   "toc_cell": false,
   "toc_position": {
    "height": "calc(100% - 180px)",
    "left": "10px",
    "top": "150px",
    "width": "358.391px"
   },
   "toc_section_display": true,
   "toc_window_display": true
  }
 },
 "nbformat": 4,
 "nbformat_minor": 2
}
